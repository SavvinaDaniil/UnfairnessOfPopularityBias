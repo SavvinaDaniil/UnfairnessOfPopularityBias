{
  "cells": [
    {
      "cell_type": "markdown",
      "metadata": {
        "id": "NXI0aYKkUntj"
      },
      "source": [
        "This notebook should be run on Google Colab.\n",
        "<a href=\"https://colab.research.google.com/github/SavvinaDaniil/UnfairnessOfPopularityBias/blob/main/Movie_Recommendation.ipynb\" target=\"_parent\"><img src=\"https://colab.research.google.com/assets/colab-badge.svg\" alt=\"Open in Colab\"/></a>"
      ]
    },
    {
      "cell_type": "markdown",
      "metadata": {
        "id": "T7NA8UpqUnnV"
      },
      "source": [
        "# Process\n",
        "In this notebook, I will train the movie recommendation algorithms using two different packages: <a href=\"http://surpriselib.com/\">Surprise</a> & <a href=\"https://cornac.readthedocs.io/en/latest/\">Cornac</a>. "
      ]
    },
    {
      "cell_type": "markdown",
      "metadata": {
        "id": "6HyLhxzyUu6w"
      },
      "source": [
        "## A. Import lbraries"
      ]
    },
    {
      "cell_type": "code",
      "execution_count": 1,
      "metadata": {
        "colab": {
          "base_uri": "https://localhost:8080/"
        },
        "id": "q6klyfWSFh_4",
        "outputId": "ef2211a3-bb93-45f7-db55-f24e59af078f"
      },
      "outputs": [
        {
          "output_type": "stream",
          "name": "stdout",
          "text": [
            "Found existing installation: tensorflow 2.9.2\n",
            "Uninstalling tensorflow-2.9.2:\n",
            "  Successfully uninstalled tensorflow-2.9.2\n",
            "Looking in indexes: https://pypi.org/simple, https://us-python.pkg.dev/colab-wheels/public/simple/\n",
            "Collecting tensorflow-gpu==1.15\n",
            "  Downloading tensorflow_gpu-1.15.0-cp37-cp37m-manylinux2010_x86_64.whl (411.5 MB)\n",
            "\u001b[K     |████████████████████████████████| 411.5 MB 6.0 kB/s \n",
            "\u001b[?25hCollecting gast==0.2.2\n",
            "  Downloading gast-0.2.2.tar.gz (10 kB)\n",
            "Requirement already satisfied: opt-einsum>=2.3.2 in /usr/local/lib/python3.7/dist-packages (from tensorflow-gpu==1.15) (3.3.0)\n",
            "Requirement already satisfied: termcolor>=1.1.0 in /usr/local/lib/python3.7/dist-packages (from tensorflow-gpu==1.15) (2.1.0)\n",
            "Requirement already satisfied: absl-py>=0.7.0 in /usr/local/lib/python3.7/dist-packages (from tensorflow-gpu==1.15) (1.3.0)\n",
            "Requirement already satisfied: protobuf>=3.6.1 in /usr/local/lib/python3.7/dist-packages (from tensorflow-gpu==1.15) (3.19.6)\n",
            "Requirement already satisfied: google-pasta>=0.1.6 in /usr/local/lib/python3.7/dist-packages (from tensorflow-gpu==1.15) (0.2.0)\n",
            "Requirement already satisfied: wrapt>=1.11.1 in /usr/local/lib/python3.7/dist-packages (from tensorflow-gpu==1.15) (1.14.1)\n",
            "Requirement already satisfied: six>=1.10.0 in /usr/local/lib/python3.7/dist-packages (from tensorflow-gpu==1.15) (1.15.0)\n",
            "Collecting tensorboard<1.16.0,>=1.15.0\n",
            "  Downloading tensorboard-1.15.0-py3-none-any.whl (3.8 MB)\n",
            "\u001b[K     |████████████████████████████████| 3.8 MB 39.1 MB/s \n",
            "\u001b[?25hRequirement already satisfied: wheel>=0.26 in /usr/local/lib/python3.7/dist-packages (from tensorflow-gpu==1.15) (0.38.3)\n",
            "Collecting keras-applications>=1.0.8\n",
            "  Downloading Keras_Applications-1.0.8-py3-none-any.whl (50 kB)\n",
            "\u001b[K     |████████████████████████████████| 50 kB 6.2 MB/s \n",
            "\u001b[?25hRequirement already satisfied: astor>=0.6.0 in /usr/local/lib/python3.7/dist-packages (from tensorflow-gpu==1.15) (0.8.1)\n",
            "Collecting tensorflow-estimator==1.15.1\n",
            "  Downloading tensorflow_estimator-1.15.1-py2.py3-none-any.whl (503 kB)\n",
            "\u001b[K     |████████████████████████████████| 503 kB 47.8 MB/s \n",
            "\u001b[?25hRequirement already satisfied: grpcio>=1.8.6 in /usr/local/lib/python3.7/dist-packages (from tensorflow-gpu==1.15) (1.50.0)\n",
            "Requirement already satisfied: numpy<2.0,>=1.16.0 in /usr/local/lib/python3.7/dist-packages (from tensorflow-gpu==1.15) (1.21.6)\n",
            "Requirement already satisfied: keras-preprocessing>=1.0.5 in /usr/local/lib/python3.7/dist-packages (from tensorflow-gpu==1.15) (1.1.2)\n",
            "Requirement already satisfied: h5py in /usr/local/lib/python3.7/dist-packages (from keras-applications>=1.0.8->tensorflow-gpu==1.15) (3.1.0)\n",
            "Requirement already satisfied: werkzeug>=0.11.15 in /usr/local/lib/python3.7/dist-packages (from tensorboard<1.16.0,>=1.15.0->tensorflow-gpu==1.15) (1.0.1)\n",
            "Requirement already satisfied: setuptools>=41.0.0 in /usr/local/lib/python3.7/dist-packages (from tensorboard<1.16.0,>=1.15.0->tensorflow-gpu==1.15) (57.4.0)\n",
            "Requirement already satisfied: markdown>=2.6.8 in /usr/local/lib/python3.7/dist-packages (from tensorboard<1.16.0,>=1.15.0->tensorflow-gpu==1.15) (3.4.1)\n",
            "Requirement already satisfied: importlib-metadata>=4.4 in /usr/local/lib/python3.7/dist-packages (from markdown>=2.6.8->tensorboard<1.16.0,>=1.15.0->tensorflow-gpu==1.15) (4.13.0)\n",
            "Requirement already satisfied: zipp>=0.5 in /usr/local/lib/python3.7/dist-packages (from importlib-metadata>=4.4->markdown>=2.6.8->tensorboard<1.16.0,>=1.15.0->tensorflow-gpu==1.15) (3.10.0)\n",
            "Requirement already satisfied: typing-extensions>=3.6.4 in /usr/local/lib/python3.7/dist-packages (from importlib-metadata>=4.4->markdown>=2.6.8->tensorboard<1.16.0,>=1.15.0->tensorflow-gpu==1.15) (4.1.1)\n",
            "Requirement already satisfied: cached-property in /usr/local/lib/python3.7/dist-packages (from h5py->keras-applications>=1.0.8->tensorflow-gpu==1.15) (1.5.2)\n",
            "Building wheels for collected packages: gast\n",
            "  Building wheel for gast (setup.py) ... \u001b[?25l\u001b[?25hdone\n",
            "  Created wheel for gast: filename=gast-0.2.2-py3-none-any.whl size=7554 sha256=ef2b151ab48ae5267caedbb946f6e7da2819621adc99441faf507fea6ef788c8\n",
            "  Stored in directory: /root/.cache/pip/wheels/21/7f/02/420f32a803f7d0967b48dd823da3f558c5166991bfd204eef3\n",
            "Successfully built gast\n",
            "Installing collected packages: tensorflow-estimator, tensorboard, keras-applications, gast, tensorflow-gpu\n",
            "  Attempting uninstall: tensorflow-estimator\n",
            "    Found existing installation: tensorflow-estimator 2.9.0\n",
            "    Uninstalling tensorflow-estimator-2.9.0:\n",
            "      Successfully uninstalled tensorflow-estimator-2.9.0\n",
            "  Attempting uninstall: tensorboard\n",
            "    Found existing installation: tensorboard 2.9.1\n",
            "    Uninstalling tensorboard-2.9.1:\n",
            "      Successfully uninstalled tensorboard-2.9.1\n",
            "  Attempting uninstall: gast\n",
            "    Found existing installation: gast 0.4.0\n",
            "    Uninstalling gast-0.4.0:\n",
            "      Successfully uninstalled gast-0.4.0\n",
            "\u001b[31mERROR: pip's dependency resolver does not currently take into account all the packages that are installed. This behaviour is the source of the following dependency conflicts.\n",
            "tensorflow-probability 0.17.0 requires gast>=0.3.2, but you have gast 0.2.2 which is incompatible.\u001b[0m\n",
            "Successfully installed gast-0.2.2 keras-applications-1.0.8 tensorboard-1.15.0 tensorflow-estimator-1.15.1 tensorflow-gpu-1.15.0\n",
            "Reading package lists... Done\n",
            "Building dependency tree       \n",
            "Reading state information... Done\n",
            "The following package was automatically installed and is no longer required:\n",
            "  libnvidia-common-460\n",
            "Use 'apt autoremove' to remove it.\n",
            "The following NEW packages will be installed:\n",
            "  libcudnn7\n",
            "0 upgraded, 1 newly installed, 0 to remove and 5 not upgraded.\n",
            "Need to get 149 MB of archives.\n",
            "After this operation, 348 MB of additional disk space will be used.\n",
            "Get:1 https://developer.download.nvidia.com/compute/machine-learning/repos/ubuntu1804/x86_64  libcudnn7 7.4.1.5-1+cuda10.0 [149 MB]\n",
            "Fetched 149 MB in 3s (50.2 MB/s)\n",
            "Selecting previously unselected package libcudnn7.\n",
            "(Reading database ... 123991 files and directories currently installed.)\n",
            "Preparing to unpack .../libcudnn7_7.4.1.5-1+cuda10.0_amd64.deb ...\n",
            "Unpacking libcudnn7 (7.4.1.5-1+cuda10.0) ...\n",
            "Setting up libcudnn7 (7.4.1.5-1+cuda10.0) ...\n",
            "Processing triggers for libc-bin (2.27-3ubuntu1.6) ...\n"
          ]
        }
      ],
      "source": [
        "!pip uninstall tensorflow -y\n",
        "!pip install tensorflow-gpu==1.15\n",
        "!apt install --allow-change-held-packages libcudnn7=7.4.1.5-1+cuda10.0"
      ]
    },
    {
      "cell_type": "code",
      "execution_count": 2,
      "metadata": {
        "colab": {
          "base_uri": "https://localhost:8080/"
        },
        "id": "LksSngKBUzpE",
        "outputId": "73036fbe-7e57-41a9-db9d-83dd67339e0b"
      },
      "outputs": [
        {
          "output_type": "stream",
          "name": "stdout",
          "text": [
            "Looking in indexes: https://pypi.org/simple, https://us-python.pkg.dev/colab-wheels/public/simple/\n",
            "Collecting cornac\n",
            "  Downloading cornac-1.14.2-cp37-cp37m-manylinux1_x86_64.whl (12.4 MB)\n",
            "\u001b[K     |████████████████████████████████| 12.4 MB 5.4 MB/s \n",
            "\u001b[?25hCollecting powerlaw\n",
            "  Downloading powerlaw-1.5-py3-none-any.whl (24 kB)\n",
            "Requirement already satisfied: scipy in /usr/local/lib/python3.7/dist-packages (from cornac) (1.7.3)\n",
            "Requirement already satisfied: tqdm>=4.19 in /usr/local/lib/python3.7/dist-packages (from cornac) (4.64.1)\n",
            "Requirement already satisfied: numpy in /usr/local/lib/python3.7/dist-packages (from cornac) (1.21.6)\n",
            "Requirement already satisfied: matplotlib in /usr/local/lib/python3.7/dist-packages (from powerlaw->cornac) (3.2.2)\n",
            "Requirement already satisfied: mpmath in /usr/local/lib/python3.7/dist-packages (from powerlaw->cornac) (1.2.1)\n",
            "Requirement already satisfied: pyparsing!=2.0.4,!=2.1.2,!=2.1.6,>=2.0.1 in /usr/local/lib/python3.7/dist-packages (from matplotlib->powerlaw->cornac) (3.0.9)\n",
            "Requirement already satisfied: cycler>=0.10 in /usr/local/lib/python3.7/dist-packages (from matplotlib->powerlaw->cornac) (0.11.0)\n",
            "Requirement already satisfied: python-dateutil>=2.1 in /usr/local/lib/python3.7/dist-packages (from matplotlib->powerlaw->cornac) (2.8.2)\n",
            "Requirement already satisfied: kiwisolver>=1.0.1 in /usr/local/lib/python3.7/dist-packages (from matplotlib->powerlaw->cornac) (1.4.4)\n",
            "Requirement already satisfied: typing-extensions in /usr/local/lib/python3.7/dist-packages (from kiwisolver>=1.0.1->matplotlib->powerlaw->cornac) (4.1.1)\n",
            "Requirement already satisfied: six>=1.5 in /usr/local/lib/python3.7/dist-packages (from python-dateutil>=2.1->matplotlib->powerlaw->cornac) (1.15.0)\n",
            "Installing collected packages: powerlaw, cornac\n",
            "Successfully installed cornac-1.14.2 powerlaw-1.5\n"
          ]
        }
      ],
      "source": [
        "!pip install cornac"
      ]
    },
    {
      "cell_type": "code",
      "execution_count": 72,
      "metadata": {
        "id": "5YRmDovpU54c"
      },
      "outputs": [],
      "source": [
        "import warnings\n",
        "warnings.simplefilter(action='ignore', category=FutureWarning)\n",
        "import matplotlib.pyplot as plt\n",
        "import random as rd\n",
        "import pandas as pd\n",
        "import numpy as np\n",
        "from tqdm import tqdm\n",
        "import time\n",
        "\n",
        "# Cornac imports\n",
        "import cornac\n",
        "from cornac.eval_methods import RatioSplit\n",
        "from cornac.data import Reader as CornacReader #Reader exists in both packages\n",
        "from cornac.models import MostPop, MF, PMF, BPR, NeuMF, WMF, HPF, VAECF, ItemKNN, UserKNN, BaselineOnly \n",
        "from cornac.models import NMF as CornacNMF #NMF exists in both packages\n",
        "from cornac.metrics import MAE, MSE, RMSE, Precision, Recall, NDCG, AUC, MAP, FMeasure, MRR\n",
        "\n",
        "from collections import defaultdict\n",
        "from scipy import stats\n",
        "from numpy.linalg import norm\n",
        "import seaborn as sns\n",
        "from sklearn.preprocessing import MinMaxScaler\n",
        "# set plot style: grey grid in the background:\n",
        "sns.set(style=\"darkgrid\")\n",
        "pd.set_option(\"display.precision\", 8)"
      ]
    },
    {
      "cell_type": "markdown",
      "metadata": {
        "id": "wJr35vAGVuM4"
      },
      "source": [
        "## B. Set hyperparameters\n",
        "There are certain hyperparameters that need to be tuned before the run. "
      ]
    },
    {
      "cell_type": "code",
      "execution_count": 5,
      "metadata": {
        "id": "Wz1OKVKoVkkD"
      },
      "outputs": [],
      "source": [
        "# constants and initialization\n",
        "rating_threshold = 1.0 # needed for the cornac library: Threshold used to binarize rating values into positive or negative feedback for model evaluation using ranking metrics (rating metrics are not affected). \n",
        "my_seed = 0\n",
        "test_size = 0.2 # the percentage of \"hold out\" data that are used for testing\n",
        "predict_col = \"rating\"\n",
        "user_col = \"user\"\n",
        "top_fraction = 0.2 # the amount of items that will be considered \"popular\"\n",
        "\n",
        "rd.seed(my_seed) #seed for random functions\n",
        "np.random.seed(my_seed) #seed for all numpy stuff"
      ]
    },
    {
      "cell_type": "markdown",
      "metadata": {
        "id": "3Z0PCJ5LZen3"
      },
      "source": [
        "## C. Read files"
      ]
    },
    {
      "cell_type": "code",
      "execution_count": 6,
      "metadata": {
        "colab": {
          "base_uri": "https://localhost:8080/"
        },
        "id": "xWjNXmvmZcTw",
        "outputId": "6075f194-0163-47dc-da73-59beb014d6ac"
      },
      "outputs": [
        {
          "output_type": "stream",
          "name": "stdout",
          "text": [
            "No. of user events: 1000209\n"
          ]
        }
      ],
      "source": [
        "user_events_file = 'https://raw.githubusercontent.com/SavvinaDaniil/UnfairnessOfPopularityBias/main/data/ratings_movies.dat'\n",
        "\n",
        "# read user events\n",
        "cols = ['user', 'movie', 'rating', 'timestamp']\n",
        "df_events = pd.read_table(user_events_file, sep = \"::\", engine=\"python\", names=cols)\n",
        "item_col = \"movie\"\n",
        "print('No. of user events: ' + str(len(df_events)))"
      ]
    },
    {
      "cell_type": "code",
      "source": [
        "df_events.head()"
      ],
      "metadata": {
        "colab": {
          "base_uri": "https://localhost:8080/",
          "height": 206
        },
        "id": "afPDrweUqAgb",
        "outputId": "be900e60-454c-4f43-ebea-28f5f1642a7e"
      },
      "execution_count": 7,
      "outputs": [
        {
          "output_type": "execute_result",
          "data": {
            "text/plain": [
              "   user  movie  rating  timestamp\n",
              "0     1   1193       5  978300760\n",
              "1     1    661       3  978302109\n",
              "2     1    914       3  978301968\n",
              "3     1   3408       4  978300275\n",
              "4     1   2355       5  978824291"
            ],
            "text/html": [
              "\n",
              "  <div id=\"df-582917d6-e7ae-4254-8a13-f270520450b3\">\n",
              "    <div class=\"colab-df-container\">\n",
              "      <div>\n",
              "<style scoped>\n",
              "    .dataframe tbody tr th:only-of-type {\n",
              "        vertical-align: middle;\n",
              "    }\n",
              "\n",
              "    .dataframe tbody tr th {\n",
              "        vertical-align: top;\n",
              "    }\n",
              "\n",
              "    .dataframe thead th {\n",
              "        text-align: right;\n",
              "    }\n",
              "</style>\n",
              "<table border=\"1\" class=\"dataframe\">\n",
              "  <thead>\n",
              "    <tr style=\"text-align: right;\">\n",
              "      <th></th>\n",
              "      <th>user</th>\n",
              "      <th>movie</th>\n",
              "      <th>rating</th>\n",
              "      <th>timestamp</th>\n",
              "    </tr>\n",
              "  </thead>\n",
              "  <tbody>\n",
              "    <tr>\n",
              "      <th>0</th>\n",
              "      <td>1</td>\n",
              "      <td>1193</td>\n",
              "      <td>5</td>\n",
              "      <td>978300760</td>\n",
              "    </tr>\n",
              "    <tr>\n",
              "      <th>1</th>\n",
              "      <td>1</td>\n",
              "      <td>661</td>\n",
              "      <td>3</td>\n",
              "      <td>978302109</td>\n",
              "    </tr>\n",
              "    <tr>\n",
              "      <th>2</th>\n",
              "      <td>1</td>\n",
              "      <td>914</td>\n",
              "      <td>3</td>\n",
              "      <td>978301968</td>\n",
              "    </tr>\n",
              "    <tr>\n",
              "      <th>3</th>\n",
              "      <td>1</td>\n",
              "      <td>3408</td>\n",
              "      <td>4</td>\n",
              "      <td>978300275</td>\n",
              "    </tr>\n",
              "    <tr>\n",
              "      <th>4</th>\n",
              "      <td>1</td>\n",
              "      <td>2355</td>\n",
              "      <td>5</td>\n",
              "      <td>978824291</td>\n",
              "    </tr>\n",
              "  </tbody>\n",
              "</table>\n",
              "</div>\n",
              "      <button class=\"colab-df-convert\" onclick=\"convertToInteractive('df-582917d6-e7ae-4254-8a13-f270520450b3')\"\n",
              "              title=\"Convert this dataframe to an interactive table.\"\n",
              "              style=\"display:none;\">\n",
              "        \n",
              "  <svg xmlns=\"http://www.w3.org/2000/svg\" height=\"24px\"viewBox=\"0 0 24 24\"\n",
              "       width=\"24px\">\n",
              "    <path d=\"M0 0h24v24H0V0z\" fill=\"none\"/>\n",
              "    <path d=\"M18.56 5.44l.94 2.06.94-2.06 2.06-.94-2.06-.94-.94-2.06-.94 2.06-2.06.94zm-11 1L8.5 8.5l.94-2.06 2.06-.94-2.06-.94L8.5 2.5l-.94 2.06-2.06.94zm10 10l.94 2.06.94-2.06 2.06-.94-2.06-.94-.94-2.06-.94 2.06-2.06.94z\"/><path d=\"M17.41 7.96l-1.37-1.37c-.4-.4-.92-.59-1.43-.59-.52 0-1.04.2-1.43.59L10.3 9.45l-7.72 7.72c-.78.78-.78 2.05 0 2.83L4 21.41c.39.39.9.59 1.41.59.51 0 1.02-.2 1.41-.59l7.78-7.78 2.81-2.81c.8-.78.8-2.07 0-2.86zM5.41 20L4 18.59l7.72-7.72 1.47 1.35L5.41 20z\"/>\n",
              "  </svg>\n",
              "      </button>\n",
              "      \n",
              "  <style>\n",
              "    .colab-df-container {\n",
              "      display:flex;\n",
              "      flex-wrap:wrap;\n",
              "      gap: 12px;\n",
              "    }\n",
              "\n",
              "    .colab-df-convert {\n",
              "      background-color: #E8F0FE;\n",
              "      border: none;\n",
              "      border-radius: 50%;\n",
              "      cursor: pointer;\n",
              "      display: none;\n",
              "      fill: #1967D2;\n",
              "      height: 32px;\n",
              "      padding: 0 0 0 0;\n",
              "      width: 32px;\n",
              "    }\n",
              "\n",
              "    .colab-df-convert:hover {\n",
              "      background-color: #E2EBFA;\n",
              "      box-shadow: 0px 1px 2px rgba(60, 64, 67, 0.3), 0px 1px 3px 1px rgba(60, 64, 67, 0.15);\n",
              "      fill: #174EA6;\n",
              "    }\n",
              "\n",
              "    [theme=dark] .colab-df-convert {\n",
              "      background-color: #3B4455;\n",
              "      fill: #D2E3FC;\n",
              "    }\n",
              "\n",
              "    [theme=dark] .colab-df-convert:hover {\n",
              "      background-color: #434B5C;\n",
              "      box-shadow: 0px 1px 3px 1px rgba(0, 0, 0, 0.15);\n",
              "      filter: drop-shadow(0px 1px 2px rgba(0, 0, 0, 0.3));\n",
              "      fill: #FFFFFF;\n",
              "    }\n",
              "  </style>\n",
              "\n",
              "      <script>\n",
              "        const buttonEl =\n",
              "          document.querySelector('#df-582917d6-e7ae-4254-8a13-f270520450b3 button.colab-df-convert');\n",
              "        buttonEl.style.display =\n",
              "          google.colab.kernel.accessAllowed ? 'block' : 'none';\n",
              "\n",
              "        async function convertToInteractive(key) {\n",
              "          const element = document.querySelector('#df-582917d6-e7ae-4254-8a13-f270520450b3');\n",
              "          const dataTable =\n",
              "            await google.colab.kernel.invokeFunction('convertToInteractive',\n",
              "                                                     [key], {});\n",
              "          if (!dataTable) return;\n",
              "\n",
              "          const docLinkHtml = 'Like what you see? Visit the ' +\n",
              "            '<a target=\"_blank\" href=https://colab.research.google.com/notebooks/data_table.ipynb>data table notebook</a>'\n",
              "            + ' to learn more about interactive tables.';\n",
              "          element.innerHTML = '';\n",
              "          dataTable['output_type'] = 'display_data';\n",
              "          await google.colab.output.renderOutput(dataTable, element);\n",
              "          const docLink = document.createElement('div');\n",
              "          docLink.innerHTML = docLinkHtml;\n",
              "          element.appendChild(docLink);\n",
              "        }\n",
              "      </script>\n",
              "    </div>\n",
              "  </div>\n",
              "  "
            ]
          },
          "metadata": {},
          "execution_count": 7
        }
      ]
    },
    {
      "cell_type": "markdown",
      "metadata": {
        "id": "iMVCVOTmaozs"
      },
      "source": [
        "## D. Data analysis"
      ]
    },
    {
      "cell_type": "code",
      "execution_count": 8,
      "metadata": {
        "id": "WpGdgR_iam3y"
      },
      "outputs": [],
      "source": [
        "def users_and_items(df_events, user_col, item_col):\n",
        "    print('No. user events: ' + str(len(df_events)))\n",
        "    print('No. items: ' + str(len(df_events[item_col].unique())))\n",
        "    print('No. users: ' + str(len(df_events[user_col].unique())))\n",
        "    print(\"\\n\")\n",
        "def user_distribution(df_events, user_col, item_col):\n",
        "    user_dist = df_events[user_col].value_counts() \n",
        "    num_users = len(user_dist)\n",
        "    print('Mean '+item_col+'s per user: ' + str(np.round(user_dist.mean(),1))) \n",
        "    print('Min '+item_col+'s per user: ' + str(np.round(user_dist.min(),1))) \n",
        "    print('Max '+item_col+'s per user: ' + str(np.round(user_dist.max(),1)))\n",
        "    print(\"\\n\")\n",
        "    return user_dist, num_users\n",
        "def item_distribution(df_events, user_col, item_col):\n",
        "    item_dist = df_events[item_col].value_counts()\n",
        "    num_items = len(item_dist)\n",
        "    print('Mean users per '+item_col+': ' + str(np.round(item_dist.mean(),1))) \n",
        "    print('Min users per '+item_col+': ' + str(np.round(item_dist.min(),1))) \n",
        "    print('Max users per '+item_col+': ' + str(np.round(item_dist.max(),1))) \n",
        "    print(\"\\n\")\n",
        "    return item_dist, num_items"
      ]
    },
    {
      "cell_type": "code",
      "execution_count": 9,
      "metadata": {
        "colab": {
          "base_uri": "https://localhost:8080/"
        },
        "id": "1jwJq8rda1jS",
        "outputId": "233360fe-e733-4242-bb7f-a86449f62538"
      },
      "outputs": [
        {
          "output_type": "stream",
          "name": "stdout",
          "text": [
            "No. user events: 1000209\n",
            "No. items: 3706\n",
            "No. users: 6040\n",
            "\n",
            "\n",
            "Mean movies per user: 165.6\n",
            "Min movies per user: 20\n",
            "Max movies per user: 2314\n",
            "\n",
            "\n",
            "Mean users per movie: 269.9\n",
            "Min users per movie: 1\n",
            "Max users per movie: 3428\n",
            "\n",
            "\n"
          ]
        }
      ],
      "source": [
        "users_and_items(df_events, user_col, item_col)\n",
        "user_dist, num_users = user_distribution(df_events, user_col, item_col)\n",
        "item_dist, num_items = item_distribution(df_events, user_col, item_col)"
      ]
    },
    {
      "cell_type": "code",
      "execution_count": 10,
      "metadata": {
        "id": "C7wdClok5BPv"
      },
      "outputs": [],
      "source": [
        "# create item dataframe with normalized item counts\n",
        "df_item_dist = pd.DataFrame(item_dist) # turn the series into a dataframe\n",
        "df_item_dist.columns = ['count']\n",
        "df_item_dist['count'] /= num_users # basically the popularity of every item\n"
      ]
    },
    {
      "cell_type": "code",
      "execution_count": 11,
      "metadata": {
        "colab": {
          "base_uri": "https://localhost:8080/",
          "height": 424
        },
        "id": "UMNYiSh35KG8",
        "outputId": "41faab73-5a85-4505-b4ee-1ed1a73493f5"
      },
      "outputs": [
        {
          "output_type": "execute_result",
          "data": {
            "text/plain": [
              "           count\n",
              "2858  0.56754967\n",
              "260   0.49519868\n",
              "1196  0.49503311\n",
              "1210  0.47731788\n",
              "480   0.44238411\n",
              "...          ...\n",
              "3458  0.00016556\n",
              "2226  0.00016556\n",
              "1815  0.00016556\n",
              "398   0.00016556\n",
              "2909  0.00016556\n",
              "\n",
              "[3706 rows x 1 columns]"
            ],
            "text/html": [
              "\n",
              "  <div id=\"df-20367830-aa67-4e26-a125-9bb0adda2984\">\n",
              "    <div class=\"colab-df-container\">\n",
              "      <div>\n",
              "<style scoped>\n",
              "    .dataframe tbody tr th:only-of-type {\n",
              "        vertical-align: middle;\n",
              "    }\n",
              "\n",
              "    .dataframe tbody tr th {\n",
              "        vertical-align: top;\n",
              "    }\n",
              "\n",
              "    .dataframe thead th {\n",
              "        text-align: right;\n",
              "    }\n",
              "</style>\n",
              "<table border=\"1\" class=\"dataframe\">\n",
              "  <thead>\n",
              "    <tr style=\"text-align: right;\">\n",
              "      <th></th>\n",
              "      <th>count</th>\n",
              "    </tr>\n",
              "  </thead>\n",
              "  <tbody>\n",
              "    <tr>\n",
              "      <th>2858</th>\n",
              "      <td>0.56754967</td>\n",
              "    </tr>\n",
              "    <tr>\n",
              "      <th>260</th>\n",
              "      <td>0.49519868</td>\n",
              "    </tr>\n",
              "    <tr>\n",
              "      <th>1196</th>\n",
              "      <td>0.49503311</td>\n",
              "    </tr>\n",
              "    <tr>\n",
              "      <th>1210</th>\n",
              "      <td>0.47731788</td>\n",
              "    </tr>\n",
              "    <tr>\n",
              "      <th>480</th>\n",
              "      <td>0.44238411</td>\n",
              "    </tr>\n",
              "    <tr>\n",
              "      <th>...</th>\n",
              "      <td>...</td>\n",
              "    </tr>\n",
              "    <tr>\n",
              "      <th>3458</th>\n",
              "      <td>0.00016556</td>\n",
              "    </tr>\n",
              "    <tr>\n",
              "      <th>2226</th>\n",
              "      <td>0.00016556</td>\n",
              "    </tr>\n",
              "    <tr>\n",
              "      <th>1815</th>\n",
              "      <td>0.00016556</td>\n",
              "    </tr>\n",
              "    <tr>\n",
              "      <th>398</th>\n",
              "      <td>0.00016556</td>\n",
              "    </tr>\n",
              "    <tr>\n",
              "      <th>2909</th>\n",
              "      <td>0.00016556</td>\n",
              "    </tr>\n",
              "  </tbody>\n",
              "</table>\n",
              "<p>3706 rows × 1 columns</p>\n",
              "</div>\n",
              "      <button class=\"colab-df-convert\" onclick=\"convertToInteractive('df-20367830-aa67-4e26-a125-9bb0adda2984')\"\n",
              "              title=\"Convert this dataframe to an interactive table.\"\n",
              "              style=\"display:none;\">\n",
              "        \n",
              "  <svg xmlns=\"http://www.w3.org/2000/svg\" height=\"24px\"viewBox=\"0 0 24 24\"\n",
              "       width=\"24px\">\n",
              "    <path d=\"M0 0h24v24H0V0z\" fill=\"none\"/>\n",
              "    <path d=\"M18.56 5.44l.94 2.06.94-2.06 2.06-.94-2.06-.94-.94-2.06-.94 2.06-2.06.94zm-11 1L8.5 8.5l.94-2.06 2.06-.94-2.06-.94L8.5 2.5l-.94 2.06-2.06.94zm10 10l.94 2.06.94-2.06 2.06-.94-2.06-.94-.94-2.06-.94 2.06-2.06.94z\"/><path d=\"M17.41 7.96l-1.37-1.37c-.4-.4-.92-.59-1.43-.59-.52 0-1.04.2-1.43.59L10.3 9.45l-7.72 7.72c-.78.78-.78 2.05 0 2.83L4 21.41c.39.39.9.59 1.41.59.51 0 1.02-.2 1.41-.59l7.78-7.78 2.81-2.81c.8-.78.8-2.07 0-2.86zM5.41 20L4 18.59l7.72-7.72 1.47 1.35L5.41 20z\"/>\n",
              "  </svg>\n",
              "      </button>\n",
              "      \n",
              "  <style>\n",
              "    .colab-df-container {\n",
              "      display:flex;\n",
              "      flex-wrap:wrap;\n",
              "      gap: 12px;\n",
              "    }\n",
              "\n",
              "    .colab-df-convert {\n",
              "      background-color: #E8F0FE;\n",
              "      border: none;\n",
              "      border-radius: 50%;\n",
              "      cursor: pointer;\n",
              "      display: none;\n",
              "      fill: #1967D2;\n",
              "      height: 32px;\n",
              "      padding: 0 0 0 0;\n",
              "      width: 32px;\n",
              "    }\n",
              "\n",
              "    .colab-df-convert:hover {\n",
              "      background-color: #E2EBFA;\n",
              "      box-shadow: 0px 1px 2px rgba(60, 64, 67, 0.3), 0px 1px 3px 1px rgba(60, 64, 67, 0.15);\n",
              "      fill: #174EA6;\n",
              "    }\n",
              "\n",
              "    [theme=dark] .colab-df-convert {\n",
              "      background-color: #3B4455;\n",
              "      fill: #D2E3FC;\n",
              "    }\n",
              "\n",
              "    [theme=dark] .colab-df-convert:hover {\n",
              "      background-color: #434B5C;\n",
              "      box-shadow: 0px 1px 3px 1px rgba(0, 0, 0, 0.15);\n",
              "      filter: drop-shadow(0px 1px 2px rgba(0, 0, 0, 0.3));\n",
              "      fill: #FFFFFF;\n",
              "    }\n",
              "  </style>\n",
              "\n",
              "      <script>\n",
              "        const buttonEl =\n",
              "          document.querySelector('#df-20367830-aa67-4e26-a125-9bb0adda2984 button.colab-df-convert');\n",
              "        buttonEl.style.display =\n",
              "          google.colab.kernel.accessAllowed ? 'block' : 'none';\n",
              "\n",
              "        async function convertToInteractive(key) {\n",
              "          const element = document.querySelector('#df-20367830-aa67-4e26-a125-9bb0adda2984');\n",
              "          const dataTable =\n",
              "            await google.colab.kernel.invokeFunction('convertToInteractive',\n",
              "                                                     [key], {});\n",
              "          if (!dataTable) return;\n",
              "\n",
              "          const docLinkHtml = 'Like what you see? Visit the ' +\n",
              "            '<a target=\"_blank\" href=https://colab.research.google.com/notebooks/data_table.ipynb>data table notebook</a>'\n",
              "            + ' to learn more about interactive tables.';\n",
              "          element.innerHTML = '';\n",
              "          dataTable['output_type'] = 'display_data';\n",
              "          await google.colab.output.renderOutput(dataTable, element);\n",
              "          const docLink = document.createElement('div');\n",
              "          docLink.innerHTML = docLinkHtml;\n",
              "          element.appendChild(docLink);\n",
              "        }\n",
              "      </script>\n",
              "    </div>\n",
              "  </div>\n",
              "  "
            ]
          },
          "metadata": {},
          "execution_count": 11
        }
      ],
      "source": [
        "df_item_dist"
      ]
    },
    {
      "cell_type": "code",
      "execution_count": 12,
      "metadata": {
        "id": "G7o_VBaUa4lH"
      },
      "outputs": [],
      "source": [
        "def plot_data_distribution(item_dist, item_col, dividing = [False, 0], log = False):\n",
        "    plt.figure()\n",
        "    ax = plt.axes()\n",
        "    ax.spines['bottom'].set_color('w')\n",
        "    ax.spines['top'].set_color('w')\n",
        "    ax.spines['right'].set_color('w')\n",
        "    ax.spines['left'].set_color('w')\n",
        "    ax.spines['left'].set_zorder(0)\n",
        "    ax.xaxis.set_ticks_position('none') \n",
        "    ax.yaxis.set_ticks_position('none') \n",
        "    ax.set_facecolor(\"aliceblue\")\n",
        "    plt.grid(color = \"w\",linewidth = 2 )\n",
        "    if dividing[0]:\n",
        "        x0 = int(len(item_dist.values)*dividing[1])\n",
        "        y = range(len(item_dist))\n",
        "        plt.plot(y[:x0+1], item_dist.values[:x0+1], label = \"Popular \"+item_col+\"s\", linewidth = 5)\n",
        "        plt.plot(y[x0:], item_dist.values[x0:], label = \"Non Popular \"+item_col+\"s\", linewidth = 5)\n",
        "    else:\n",
        "        plt.plot(item_dist.values)\n",
        "    plt.xticks(fontsize='13')\n",
        "    plt.yticks(fontsize='13')\n",
        "    add = \"\"\n",
        "    if log:\n",
        "        plt.xscale('log')\n",
        "        plt.yscale('log')\n",
        "        add = \" (log)\"\n",
        "    plt.xlabel(item_col+add, fontsize='14')\n",
        "    plt.ylabel('Number of users' + add, fontsize='15')\n",
        "    plt.show(block=True)\n",
        "def plot_popularity_distribution(pop_fraq, item_col, dividing = [False,0]):\n",
        "    plt.figure()\n",
        "    ax = plt.axes()\n",
        "    ax.spines['bottom'].set_color('w')\n",
        "    ax.spines['top'].set_color('w')\n",
        "    ax.spines['right'].set_color('w')\n",
        "    ax.spines['left'].set_color('w')\n",
        "    ax.spines['left'].set_zorder(0)\n",
        "    ax.xaxis.set_ticks_position('none') \n",
        "    ax.yaxis.set_ticks_position('none') \n",
        "    \n",
        "    ax.set_facecolor(\"aliceblue\")\n",
        "    plt.grid(color = \"w\",linewidth = 2 )\n",
        "    if dividing[0]:\n",
        "        y = range(len(pop_fraq))\n",
        "        x0 = int(len(y)*dividing[1]) \n",
        "        x1 = int(len(y)*(1-dividing[1]))\n",
        "        x= sorted(pop_fraq)\n",
        "        plt.plot(y[:x0+1],x[:x0+1], label=\"Niche users\", linewidth = 5)\n",
        "        plt.plot(y[x0:x1+1],x[x0:x1+1], label = \"Diverse users\", linewidth = 5)\n",
        "        plt.plot(y[x1:],x[x1:], label = \"Blockbuster-focused users\", linewidth =5)\n",
        "    else:\n",
        "        plt.plot(sorted(pop_fraq))\n",
        "    plt.xlabel('User', fontsize='15')\n",
        "    plt.xticks(fontsize='13')\n",
        "    plt.ylabel('Ratio of popular '+item_col+'s', fontsize='15')\n",
        "    plt.yticks(fontsize='13')\n",
        "    plt.axhline(y=0.8, color='black', linestyle='--', label='80% ratio of popular '+item_col+'s')\n",
        "    plt.legend(fontsize='15')\n",
        "    plt.show(block=True)"
      ]
    },
    {
      "cell_type": "code",
      "execution_count": 13,
      "metadata": {
        "colab": {
          "base_uri": "https://localhost:8080/",
          "height": 564
        },
        "id": "COATHnNGa_G5",
        "outputId": "3fb98329-8ff4-4400-9fd3-7d428d476d92"
      },
      "outputs": [
        {
          "output_type": "display_data",
          "data": {
            "text/plain": [
              "<Figure size 432x288 with 1 Axes>"
            ],
            "image/png": "[encoded data removed]"
          },
          "metadata": {}
        },
        {
          "output_type": "display_data",
          "data": {
            "text/plain": [
              "<Figure size 432x288 with 1 Axes>"
            ],
            "image/png": "[encoded data removed]"
          },
          "metadata": {}
        }
      ],
      "source": [
        "plot_data_distribution(item_dist, item_col)\n",
        "plot_data_distribution(item_dist, item_col, [False, 0],True)"
      ]
    },
    {
      "cell_type": "markdown",
      "metadata": {
        "id": "KMiAQybFbFSj"
      },
      "source": [
        "## E. Popularity in the data"
      ]
    },
    {
      "cell_type": "code",
      "execution_count": 14,
      "metadata": {
        "colab": {
          "base_uri": "https://localhost:8080/"
        },
        "id": "jYCqPRLjbByM",
        "outputId": "a97fc61b-00e3-4c0d-de98-f2c67215153d"
      },
      "outputs": [
        {
          "output_type": "stream",
          "name": "stdout",
          "text": [
            "No. items labeled as \"popular\": 741\n"
          ]
        }
      ],
      "source": [
        "num_top = int(top_fraction * num_items)\n",
        "top_item_dist = item_dist[:num_top]\n",
        "print('No. items labeled as \"popular\": ' + str(len(top_item_dist)))"
      ]
    },
    {
      "cell_type": "code",
      "execution_count": 15,
      "metadata": {
        "id": "T0vchbD9bIie"
      },
      "outputs": [],
      "source": [
        "def calculate_popularity(df_events, top_item_dist, item_dist, num_users, user_col, item_col):\n",
        "    pop_count = [] # number of top items per user\n",
        "    user_hist = [] # user history sizes\n",
        "    pop_fraq = [] # relative number of top items per user\n",
        "    pop_item_fraq = [] # average popularity of items in user profiles\n",
        "    i=0\n",
        "    for u, df in df_events.groupby(user_col):\n",
        "        no_user_items = len(set(df[item_col]))\n",
        "        no_user_pop_items = len(set(df[item_col]) & set(top_item_dist.index))\n",
        "        pop_count.append(no_user_pop_items)\n",
        "        user_hist.append(no_user_items) \n",
        "        pop_fraq.append(no_user_pop_items / no_user_items)\n",
        "        user_pop_item_fraq = sum(item_dist[df[item_col]] / num_users) / no_user_items\n",
        "        pop_item_fraq.append(user_pop_item_fraq)\n",
        "        i+=1\n",
        "        if i%1000==0:\n",
        "            print(i)\n",
        "    return pop_count,user_hist,pop_fraq, pop_item_fraq"
      ]
    },
    {
      "cell_type": "code",
      "execution_count": 16,
      "metadata": {
        "colab": {
          "base_uri": "https://localhost:8080/"
        },
        "id": "bp0tmyMHbQJf",
        "outputId": "3ff54e55-24d9-4ecc-b563-dca3a3c26ccc"
      },
      "outputs": [
        {
          "output_type": "stream",
          "name": "stdout",
          "text": [
            "1000\n",
            "2000\n",
            "3000\n",
            "4000\n",
            "5000\n",
            "6000\n"
          ]
        }
      ],
      "source": [
        "pop_count,user_hist,pop_fraq, pop_item_fraq = calculate_popularity(df_events, top_item_dist, item_dist, num_users, user_col, item_col)"
      ]
    },
    {
      "cell_type": "code",
      "execution_count": 17,
      "metadata": {
        "id": "RZwgf9kEbR52"
      },
      "outputs": [],
      "source": [
        "def plot_popularity_distribution(pop_fraq, item_col, dividing = [False,0]):\n",
        "    plt.figure()\n",
        "    ax = plt.axes()\n",
        "    ax.spines['bottom'].set_color('w')\n",
        "    ax.spines['top'].set_color('w')\n",
        "    ax.spines['right'].set_color('w')\n",
        "    ax.spines['left'].set_color('w')\n",
        "    ax.spines['left'].set_zorder(0)\n",
        "    ax.xaxis.set_ticks_position('none') \n",
        "    ax.yaxis.set_ticks_position('none') \n",
        "    \n",
        "    ax.set_facecolor(\"aliceblue\")\n",
        "    plt.grid(color = \"w\",linewidth = 2 )\n",
        "    if dividing[0]:\n",
        "        y = range(len(pop_fraq))\n",
        "        x0 = int(len(y)*dividing[1]) \n",
        "        x1 = int(len(y)*(1-dividing[1]))\n",
        "        x= sorted(pop_fraq)\n",
        "        plt.plot(y[:x0+1],x[:x0+1], label=\"Niche users\", linewidth = 5)\n",
        "        plt.plot(y[x0:x1+1],x[x0:x1+1], label = \"Diverse users\", linewidth = 5)\n",
        "        plt.plot(y[x1:],x[x1:], label = \"Blockbuster-focused users\", linewidth =5)\n",
        "    else:\n",
        "        plt.plot(sorted(pop_fraq))\n",
        "    plt.xlabel('User', fontsize='15')\n",
        "    plt.xticks(fontsize='13')\n",
        "    plt.ylabel('Ratio of popular '+item_col+'s', fontsize='15')\n",
        "    plt.yticks(fontsize='13')\n",
        "    plt.axhline(y=0.8, color='black', linestyle='--', label='80% ratio of popular '+item_col+'s')\n",
        "    plt.legend(fontsize='15')\n",
        "    plt.show(block=True)\n",
        "\n",
        "def plot_profile_size_vs_popularity(pop_metric, user_hist, way, item_col):\n",
        "    plt.figure()\n",
        "    ax = plt.axes()\n",
        "    ax.spines['bottom'].set_color('w')\n",
        "    ax.spines['top'].set_color('w')\n",
        "    ax.spines['right'].set_color('w')\n",
        "    ax.spines['left'].set_color('w')\n",
        "    ax.spines['left'].set_zorder(0)\n",
        "    ax.xaxis.set_ticks_position('none') \n",
        "    ax.yaxis.set_ticks_position('none') \n",
        "    \n",
        "    ax.set_facecolor(\"aliceblue\")\n",
        "    plt.grid(color = \"w\",linewidth = 2 )\n",
        "    slope, intercept, r_value, p_value, std_err = stats.linregress(user_hist, pop_metric)\n",
        "    print('R-value: ' + str(r_value))\n",
        "    line = slope * np.array(user_hist) + intercept\n",
        "    plt.plot(user_hist, pop_metric, 'o', user_hist, line)\n",
        "    plt.xlabel('User profile size', fontsize='15')\n",
        "    plt.xticks(fontsize='13')\n",
        "    if way == \"count\":\n",
        "        ylabel = \"Number of popular \"+item_col+\"s\"\n",
        "    elif way == \"percentage\":\n",
        "        ylabel = 'Percentage of popular '+item_col+'s'\n",
        "    else:\n",
        "        ylabel = \"Average popularity of \"+item_col+\"s\"\n",
        "    plt.ylabel(ylabel, fontsize='15')\n",
        "    plt.yticks(fontsize='13')\n",
        "    plt.show(block=True)"
      ]
    },
    {
      "cell_type": "code",
      "execution_count": 18,
      "metadata": {
        "colab": {
          "base_uri": "https://localhost:8080/",
          "height": 1000
        },
        "id": "WDFRIFsibZTI",
        "outputId": "cc4f9462-e2b9-47e0-be01-e18482c80a50"
      },
      "outputs": [
        {
          "output_type": "display_data",
          "data": {
            "text/plain": [
              "<Figure size 432x288 with 1 Axes>"
            ],
            "image/png": "[encoded data removed]"
          },
          "metadata": {}
        },
        {
          "output_type": "stream",
          "name": "stdout",
          "text": [
            "R-value: 0.9662364112421091\n"
          ]
        },
        {
          "output_type": "display_data",
          "data": {
            "text/plain": [
              "<Figure size 432x288 with 1 Axes>"
            ],
            "image/png": "[encoded data removed]"
          },
          "metadata": {}
        },
        {
          "output_type": "stream",
          "name": "stdout",
          "text": [
            "R-value: -0.40259977494843086\n"
          ]
        },
        {
          "output_type": "display_data",
          "data": {
            "text/plain": [
              "<Figure size 432x288 with 1 Axes>"
            ],
            "image/png": "[encoded data removed]"
          },
          "metadata": {}
        },
        {
          "output_type": "stream",
          "name": "stdout",
          "text": [
            "R-value: -0.48167705404310895\n"
          ]
        },
        {
          "output_type": "display_data",
          "data": {
            "text/plain": [
              "<Figure size 432x288 with 1 Axes>"
            ],
            "image/png": "[encoded data removed]"
          },
          "metadata": {}
        }
      ],
      "source": [
        "plot_popularity_distribution(pop_fraq, item_col)\n",
        "plot_profile_size_vs_popularity(pop_count,user_hist, \"count\", item_col)\n",
        "plot_profile_size_vs_popularity(pop_fraq,user_hist, \"percentage\", item_col)\n",
        "plot_profile_size_vs_popularity(pop_item_fraq,user_hist, \"average\", item_col)"
      ]
    },
    {
      "cell_type": "markdown",
      "metadata": {
        "id": "nZ-KPsOzbduG"
      },
      "source": [
        "## F. User groups"
      ]
    },
    {
      "cell_type": "code",
      "execution_count": 19,
      "metadata": {
        "id": "n_hQEsRFbbhG"
      },
      "outputs": [],
      "source": [
        "def sort_user_dist(user_dist,pop_count, user_hist,pop_fraq,pop_item_fraq, by = \"pop_fraq\"):\n",
        "    user_dist = user_dist.sort_index()\n",
        "    user_dist_sorted = pd.DataFrame(data = user_dist)\n",
        "    \n",
        "    user_dist_sorted.columns = [\"count\"]\n",
        "    \n",
        "    user_dist_sorted[\"pop_count\"] = pop_count\n",
        "    user_dist_sorted[\"user_hist\"] = user_hist\n",
        "    user_dist_sorted[\"pop_fraq\"] = pop_fraq\n",
        "    user_dist_sorted[\"pop_item_fraq\"] = pop_item_fraq\n",
        "    \n",
        "    user_dist_sorted = user_dist_sorted.sort_values(by=[by])\n",
        "    return user_dist_sorted\n",
        "\n",
        "def split(user_dist_sorted, top_fraction):\n",
        "    low, med, high = np.split(user_dist_sorted, [int(top_fraction*len(user_dist_sorted)), int((1-top_fraction)*len(user_dist_sorted))])\n",
        "    return low, med, high\n",
        "def calculate_group_characteristics(low, med, high):\n",
        "    low_profile_size = low.user_hist.mean()\n",
        "    med_profile_size = med.user_hist.mean()\n",
        "    high_profile_size = high.user_hist.mean()\n",
        "    \n",
        "    low_nr_users = len(low)\n",
        "    med_nr_users = len(med)\n",
        "    high_nr_users = len(high)\n",
        "    \n",
        "    low_GAP = low.pop_item_fraq.mean()\n",
        "    med_GAP = med.pop_item_fraq.mean()\n",
        "    high_GAP = high.pop_item_fraq.mean()\n",
        "    \n",
        "    return low_profile_size, med_profile_size, high_profile_size, low_nr_users, med_nr_users, high_nr_users, low_GAP, med_GAP, high_GAP"
      ]
    },
    {
      "cell_type": "markdown",
      "source": [
        "### Make notion of popularity propensity choice\n",
        "The reader has to manually choose how to divide the users into groups according to their propensity for popular items."
      ],
      "metadata": {
        "id": "IVpmIvO0PjHm"
      }
    },
    {
      "cell_type": "code",
      "source": [
        "popularity_function = {'pop_one': \"pop_fraq\",\n",
        "             'pop_two': \"pop_item_fraq\"}"
      ],
      "metadata": {
        "id": "OzQ9eNt1Pj9w"
      },
      "execution_count": 118,
      "outputs": []
    },
    {
      "cell_type": "code",
      "source": [
        "pop_notion = \"pop_two\""
      ],
      "metadata": {
        "id": "FehS1Z1pPnLk"
      },
      "execution_count": 119,
      "outputs": []
    },
    {
      "cell_type": "code",
      "execution_count": 120,
      "metadata": {
        "id": "RYwIQwD6bi3G"
      },
      "outputs": [],
      "source": [
        "user_dist_sorted = sort_user_dist(user_dist,pop_count, user_hist,pop_fraq,pop_item_fraq, by = popularity_function[pop_notion])\n",
        "low, med, high = split(user_dist_sorted, top_fraction)\n",
        "low_profile_size, med_profile_size, high_profile_size, low_nr_users, med_nr_users, high_nr_users, low_GAP, med_GAP, high_GAP = calculate_group_characteristics(low, med, high)"
      ]
    },
    {
      "cell_type": "code",
      "execution_count": 121,
      "metadata": {
        "colab": {
          "base_uri": "https://localhost:8080/"
        },
        "id": "7rmTLMN7bpDo",
        "outputId": "52ad15e5-0655-4369-9cf0-80c1eee6cb3a"
      },
      "outputs": [
        {
          "output_type": "stream",
          "name": "stdout",
          "text": [
            "Niche GAP: 0.10553495904535196\n",
            "Diverse GAP: 0.15506376330643612\n",
            "Blockbuster-focused GAP: 0.21728886150684454\n"
          ]
        }
      ],
      "source": [
        "print('Niche GAP: ' + str(low_GAP))\n",
        "print('Diverse GAP: ' + str(med_GAP))\n",
        "print('Blockbuster-focused GAP: ' + str(high_GAP))"
      ]
    },
    {
      "cell_type": "code",
      "execution_count": 122,
      "metadata": {
        "colab": {
          "base_uri": "https://localhost:8080/"
        },
        "id": "4IdnBaCXbwBV",
        "outputId": "e1a18cbb-33b6-4022-eebb-03951f6e25c5"
      },
      "outputs": [
        {
          "output_type": "stream",
          "name": "stdout",
          "text": [
            "0.5221848457000486 0.7285454150282953 0.8635075963622323\n"
          ]
        }
      ],
      "source": [
        "print(low.pop_fraq.mean(), med.pop_fraq.mean(), high.pop_fraq.mean())"
      ]
    },
    {
      "cell_type": "code",
      "execution_count": 123,
      "metadata": {
        "id": "Dmf4J023byK4"
      },
      "outputs": [],
      "source": [
        "def plot_group_characteristics(low_nr, med_nr, high_nr, way, item_col):\n",
        "    plt.figure()\n",
        "    ax = plt.axes()\n",
        "    ax.spines['bottom'].set_color('w')\n",
        "    ax.spines['top'].set_color('w')\n",
        "    ax.spines['right'].set_color('w')\n",
        "    ax.spines['left'].set_color('w')\n",
        "    ax.spines['left'].set_zorder(0)\n",
        "    ax.xaxis.set_ticks_position('none') \n",
        "    ax.yaxis.set_ticks_position('none') \n",
        "    \n",
        "    ax.set_facecolor(\"aliceblue\")\n",
        "    plt.bar(np.arange(3), [low_nr, med_nr, high_nr])\n",
        "    plt.xticks(np.arange(3), ['Niche', 'Diverse', 'Blockbuster-focused'])\n",
        "    plt.xlabel('User group')\n",
        "    if way==\"size\":\n",
        "        ylabel = 'Average user profile size'\n",
        "    else:\n",
        "        ylabel = \"Number of users per group\"\n",
        "    plt.ylabel(ylabel)\n",
        "    \n",
        "    print('Niche: ' + str(low_nr))\n",
        "    print('Diverse: ' + str(med_nr))\n",
        "    print('Blockbuster-focused: ' + str(high_nr))\n",
        "    plt.show(block=True)"
      ]
    },
    {
      "cell_type": "code",
      "execution_count": 124,
      "metadata": {
        "colab": {
          "base_uri": "https://localhost:8080/",
          "height": 659
        },
        "id": "GByQlxuOb245",
        "outputId": "4d0ab56a-65f9-40b7-f992-892d0d952c5d"
      },
      "outputs": [
        {
          "output_type": "stream",
          "name": "stdout",
          "text": [
            "Niche: 1208\n",
            "Diverse: 3624\n",
            "Blockbuster-focused: 1208\n"
          ]
        },
        {
          "output_type": "display_data",
          "data": {
            "text/plain": [
              "<Figure size 576x288 with 1 Axes>"
            ],
            "image/png": "[encoded data removed]"
          },
          "metadata": {}
        },
        {
          "output_type": "stream",
          "name": "stdout",
          "text": [
            "Niche: 336.1076158940397\n",
            "Diverse: 145.6437637969095\n",
            "Blockbuster-focused: 54.94867549668874\n"
          ]
        },
        {
          "output_type": "display_data",
          "data": {
            "text/plain": [
              "<Figure size 576x288 with 1 Axes>"
            ],
            "image/png": "[encoded data removed]"
          },
          "metadata": {}
        }
      ],
      "source": [
        "plot_group_characteristics(low_nr_users, med_nr_users, high_nr_users, way = \"number\", item_col = item_col)\n",
        "plot_group_characteristics(low_profile_size, med_profile_size, high_profile_size, way = \"size\", item_col = item_col)"
      ]
    },
    {
      "cell_type": "code",
      "execution_count": 125,
      "metadata": {
        "id": "KFZkl3i4b5Ik"
      },
      "outputs": [],
      "source": [
        "# plot_data_distribution(item_dist, item_col, dividing = [True, top_fraction], log = False)\n",
        "# plot_popularity_distribution(pop_fraq, item_col, dividing = [True,top_fraction])"
      ]
    },
    {
      "cell_type": "markdown",
      "metadata": {
        "id": "gbQUQuRbcJ5H"
      },
      "source": [
        "## G. Recommendation"
      ]
    },
    {
      "cell_type": "code",
      "execution_count": 126,
      "metadata": {
        "colab": {
          "base_uri": "https://localhost:8080/",
          "height": 206
        },
        "id": "yJewyI61nSAv",
        "outputId": "70374959-f35d-4f77-f959-af1c806bd1f5"
      },
      "outputs": [
        {
          "output_type": "execute_result",
          "data": {
            "text/plain": [
              "   user  movie  rating  timestamp\n",
              "0     1   1193       5  978300760\n",
              "1     1    661       3  978302109\n",
              "2     1    914       3  978301968\n",
              "3     1   3408       4  978300275\n",
              "4     1   2355       5  978824291"
            ],
            "text/html": [
              "\n",
              "  <div id=\"df-5efb1dfa-8ad9-4aa0-bd93-99df433fd9a0\">\n",
              "    <div class=\"colab-df-container\">\n",
              "      <div>\n",
              "<style scoped>\n",
              "    .dataframe tbody tr th:only-of-type {\n",
              "        vertical-align: middle;\n",
              "    }\n",
              "\n",
              "    .dataframe tbody tr th {\n",
              "        vertical-align: top;\n",
              "    }\n",
              "\n",
              "    .dataframe thead th {\n",
              "        text-align: right;\n",
              "    }\n",
              "</style>\n",
              "<table border=\"1\" class=\"dataframe\">\n",
              "  <thead>\n",
              "    <tr style=\"text-align: right;\">\n",
              "      <th></th>\n",
              "      <th>user</th>\n",
              "      <th>movie</th>\n",
              "      <th>rating</th>\n",
              "      <th>timestamp</th>\n",
              "    </tr>\n",
              "  </thead>\n",
              "  <tbody>\n",
              "    <tr>\n",
              "      <th>0</th>\n",
              "      <td>1</td>\n",
              "      <td>1193</td>\n",
              "      <td>5</td>\n",
              "      <td>978300760</td>\n",
              "    </tr>\n",
              "    <tr>\n",
              "      <th>1</th>\n",
              "      <td>1</td>\n",
              "      <td>661</td>\n",
              "      <td>3</td>\n",
              "      <td>978302109</td>\n",
              "    </tr>\n",
              "    <tr>\n",
              "      <th>2</th>\n",
              "      <td>1</td>\n",
              "      <td>914</td>\n",
              "      <td>3</td>\n",
              "      <td>978301968</td>\n",
              "    </tr>\n",
              "    <tr>\n",
              "      <th>3</th>\n",
              "      <td>1</td>\n",
              "      <td>3408</td>\n",
              "      <td>4</td>\n",
              "      <td>978300275</td>\n",
              "    </tr>\n",
              "    <tr>\n",
              "      <th>4</th>\n",
              "      <td>1</td>\n",
              "      <td>2355</td>\n",
              "      <td>5</td>\n",
              "      <td>978824291</td>\n",
              "    </tr>\n",
              "  </tbody>\n",
              "</table>\n",
              "</div>\n",
              "      <button class=\"colab-df-convert\" onclick=\"convertToInteractive('df-5efb1dfa-8ad9-4aa0-bd93-99df433fd9a0')\"\n",
              "              title=\"Convert this dataframe to an interactive table.\"\n",
              "              style=\"display:none;\">\n",
              "        \n",
              "  <svg xmlns=\"http://www.w3.org/2000/svg\" height=\"24px\"viewBox=\"0 0 24 24\"\n",
              "       width=\"24px\">\n",
              "    <path d=\"M0 0h24v24H0V0z\" fill=\"none\"/>\n",
              "    <path d=\"M18.56 5.44l.94 2.06.94-2.06 2.06-.94-2.06-.94-.94-2.06-.94 2.06-2.06.94zm-11 1L8.5 8.5l.94-2.06 2.06-.94-2.06-.94L8.5 2.5l-.94 2.06-2.06.94zm10 10l.94 2.06.94-2.06 2.06-.94-2.06-.94-.94-2.06-.94 2.06-2.06.94z\"/><path d=\"M17.41 7.96l-1.37-1.37c-.4-.4-.92-.59-1.43-.59-.52 0-1.04.2-1.43.59L10.3 9.45l-7.72 7.72c-.78.78-.78 2.05 0 2.83L4 21.41c.39.39.9.59 1.41.59.51 0 1.02-.2 1.41-.59l7.78-7.78 2.81-2.81c.8-.78.8-2.07 0-2.86zM5.41 20L4 18.59l7.72-7.72 1.47 1.35L5.41 20z\"/>\n",
              "  </svg>\n",
              "      </button>\n",
              "      \n",
              "  <style>\n",
              "    .colab-df-container {\n",
              "      display:flex;\n",
              "      flex-wrap:wrap;\n",
              "      gap: 12px;\n",
              "    }\n",
              "\n",
              "    .colab-df-convert {\n",
              "      background-color: #E8F0FE;\n",
              "      border: none;\n",
              "      border-radius: 50%;\n",
              "      cursor: pointer;\n",
              "      display: none;\n",
              "      fill: #1967D2;\n",
              "      height: 32px;\n",
              "      padding: 0 0 0 0;\n",
              "      width: 32px;\n",
              "    }\n",
              "\n",
              "    .colab-df-convert:hover {\n",
              "      background-color: #E2EBFA;\n",
              "      box-shadow: 0px 1px 2px rgba(60, 64, 67, 0.3), 0px 1px 3px 1px rgba(60, 64, 67, 0.15);\n",
              "      fill: #174EA6;\n",
              "    }\n",
              "\n",
              "    [theme=dark] .colab-df-convert {\n",
              "      background-color: #3B4455;\n",
              "      fill: #D2E3FC;\n",
              "    }\n",
              "\n",
              "    [theme=dark] .colab-df-convert:hover {\n",
              "      background-color: #434B5C;\n",
              "      box-shadow: 0px 1px 3px 1px rgba(0, 0, 0, 0.15);\n",
              "      filter: drop-shadow(0px 1px 2px rgba(0, 0, 0, 0.3));\n",
              "      fill: #FFFFFF;\n",
              "    }\n",
              "  </style>\n",
              "\n",
              "      <script>\n",
              "        const buttonEl =\n",
              "          document.querySelector('#df-5efb1dfa-8ad9-4aa0-bd93-99df433fd9a0 button.colab-df-convert');\n",
              "        buttonEl.style.display =\n",
              "          google.colab.kernel.accessAllowed ? 'block' : 'none';\n",
              "\n",
              "        async function convertToInteractive(key) {\n",
              "          const element = document.querySelector('#df-5efb1dfa-8ad9-4aa0-bd93-99df433fd9a0');\n",
              "          const dataTable =\n",
              "            await google.colab.kernel.invokeFunction('convertToInteractive',\n",
              "                                                     [key], {});\n",
              "          if (!dataTable) return;\n",
              "\n",
              "          const docLinkHtml = 'Like what you see? Visit the ' +\n",
              "            '<a target=\"_blank\" href=https://colab.research.google.com/notebooks/data_table.ipynb>data table notebook</a>'\n",
              "            + ' to learn more about interactive tables.';\n",
              "          element.innerHTML = '';\n",
              "          dataTable['output_type'] = 'display_data';\n",
              "          await google.colab.output.renderOutput(dataTable, element);\n",
              "          const docLink = document.createElement('div');\n",
              "          docLink.innerHTML = docLinkHtml;\n",
              "          element.appendChild(docLink);\n",
              "        }\n",
              "      </script>\n",
              "    </div>\n",
              "  </div>\n",
              "  "
            ]
          },
          "metadata": {},
          "execution_count": 126
        }
      ],
      "source": [
        "df_events.head()"
      ]
    },
    {
      "cell_type": "markdown",
      "metadata": {
        "id": "yQyAB2jFcMnk"
      },
      "source": [
        "### G.1 Cornac\n",
        "The library used by the book paper. It contains many algorithms."
      ]
    },
    {
      "cell_type": "code",
      "execution_count": 27,
      "metadata": {
        "id": "uI-XJAWQpHkL"
      },
      "outputs": [],
      "source": [
        "df_events_cornac = df_events.copy()\n",
        "mapping_dict = {} # Create a dictionary that maps each movie number to an integer.\n",
        "i=0\n",
        "for mov in df_events_cornac[item_col].unique():\n",
        "    mapping_dict[mov] = i\n",
        "    i+=1\n",
        "df_events_cornac[item_col] = df_events_cornac[item_col].map(lambda x: mapping_dict.get(x,x)) # Map in the ratings file"
      ]
    },
    {
      "cell_type": "code",
      "execution_count": 28,
      "metadata": {
        "id": "SVrTTaHBpZ04"
      },
      "outputs": [],
      "source": [
        "df_events_cornac.user = df_events_cornac.user.astype(\"string\")\n",
        "df_events_cornac.movie = df_events_cornac.movie.astype(\"string\")"
      ]
    },
    {
      "cell_type": "code",
      "execution_count": 29,
      "metadata": {
        "id": "Gom3rbXz5844"
      },
      "outputs": [],
      "source": [
        "df_item_dist_cornac = df_item_dist.rename(index = mapping_dict)"
      ]
    },
    {
      "cell_type": "code",
      "execution_count": 30,
      "metadata": {
        "id": "O8irZQHgcAV3"
      },
      "outputs": [],
      "source": [
        "data = list(df_events_cornac[[user_col,item_col,predict_col]].to_records(index = False))"
      ]
    },
    {
      "cell_type": "code",
      "source": [
        "data[:3]"
      ],
      "metadata": {
        "colab": {
          "base_uri": "https://localhost:8080/"
        },
        "id": "C66TVfslrR2V",
        "outputId": "c12d08b2-c59c-4ae2-a168-fe9f151b13d0"
      },
      "execution_count": 31,
      "outputs": [
        {
          "output_type": "execute_result",
          "data": {
            "text/plain": [
              "[('1', '0', 5), ('1', '1', 3), ('1', '2', 3)]"
            ]
          },
          "metadata": {},
          "execution_count": 31
        }
      ]
    },
    {
      "cell_type": "code",
      "execution_count": 32,
      "metadata": {
        "id": "cZ0JGW8ppnn7"
      },
      "outputs": [],
      "source": [
        "# Split the data based on ratio\n",
        "rs = RatioSplit(data=data, test_size=test_size, rating_threshold=rating_threshold, seed=123)"
      ]
    },
    {
      "cell_type": "code",
      "source": [
        "all_items = set(range(rs.total_items)) # needed for later"
      ],
      "metadata": {
        "id": "qS5k9wNprWvm"
      },
      "execution_count": 44,
      "outputs": []
    },
    {
      "cell_type": "code",
      "source": [
        "# Define the two different options for UserKNN, with and without mean centering\n",
        "usKNN = UserKNN(k=40, similarity = 'cosine', mean_centered=False, seed = my_seed, verbose=True)\n",
        "usKNN_means = UserKNN(k=40, similarity = 'cosine', mean_centered=True, seed = my_seed, verbose=True)"
      ],
      "metadata": {
        "id": "uxPCqVf9rYky"
      },
      "execution_count": 46,
      "outputs": []
    },
    {
      "cell_type": "markdown",
      "source": [
        "#### Training"
      ],
      "metadata": {
        "id": "WOD-sjM9rZ_Z"
      }
    },
    {
      "cell_type": "code",
      "execution_count": 47,
      "metadata": {
        "id": "rVXlmaIUqV0I"
      },
      "outputs": [],
      "source": [
        "# initialize models, here we are comparing: simple, traditional, and neural networks based models\n",
        "models = [\n",
        "          # 1: Random\n",
        "          # 2: MostPop\n",
        "          MostPop(),\n",
        "          # 3: UserKNN\n",
        "          usKNN,\n",
        "          # 4: ItemKNN\n",
        "          ItemKNN(k=40, similarity = 'cosine', mean_centered=False, seed = my_seed, verbose=True),\n",
        "          # 5: UserKNN with means\n",
        "          usKNN_means,\n",
        "          ## 6: BaselineOnly\n",
        "          #BaselineOnly(verbose=True),\n",
        "          # 7: BPR\n",
        "          BPR(k=10, max_iter=200, learning_rate=0.001, lambda_reg=0.01, seed=123, verbose=True),\n",
        "          # 8: MF\n",
        "          MF(k=30, max_iter=100, learning_rate=0.01, lambda_reg=0.001, seed=123, verbose=True),\n",
        "          # 9: PMF\n",
        "          PMF(k=10, max_iter=100, learning_rate=0.001, lambda_reg=0.001, verbose=True),\n",
        "          # 10: NMF\n",
        "          CornacNMF(k=15, max_iter=50, learning_rate=0.005, lambda_u=0.06, lambda_v=0.06, lambda_bu=0.02, lambda_bi=0.02, use_bias=False, verbose=True, seed=123),\n",
        "          # 11: WMF\n",
        "          WMF(k=50, max_iter=50, learning_rate=0.001, lambda_u=0.01, lambda_v=0.01, verbose=True, seed=123),\n",
        "          # 12: PF\n",
        "          HPF(k=50, seed=123, hierarchical=False, name=\"PF\", verbose=True),\n",
        "          # 13: NueMF\n",
        "          NeuMF(num_factors=8, layers=[32, 16, 8], act_fn=\"tanh\", num_epochs=1, num_neg=3, batch_size=256, lr=0.001, seed=42, verbose=True),\n",
        "          # 14: VAECF\n",
        "          VAECF(k=10, autoencoder_structure=[20], act_fn=\"tanh\", likelihood=\"mult\", n_epochs=100, batch_size=100, learning_rate=0.001, beta=1.0, seed=123, use_gpu=True, verbose=True)\n",
        "          ]"
      ]
    },
    {
      "cell_type": "code",
      "source": [
        "algo_names = [\"Random\",\n",
        "              \"MostPop\", \n",
        "              \"UserKNN\",\n",
        "              \"ItemKNN\", \n",
        "              \"UserKNN with means\", \n",
        "              \"BPR\",\n",
        "              \"MF\",\n",
        "              \"PMF\",\n",
        "              \"NMF\",\n",
        "              \"WMF\",\n",
        "              \"HPF\",\n",
        "              \"NeuMF\",\n",
        "              \"VAECF\"\n",
        "              ] # in the order that they are in the model list"
      ],
      "metadata": {
        "id": "06Irv0BurifH"
      },
      "execution_count": 48,
      "outputs": []
    },
    {
      "cell_type": "code",
      "execution_count": 49,
      "metadata": {
        "colab": {
          "base_uri": "https://localhost:8080/",
          "height": 1000,
          "referenced_widgets": [
            "bcef8830c3cd425ba7b58e53bca693ac",
            "c5fa06513e024101b0861bb1d8a5bd9b",
            "01f4887f6eb1445b9f32d7b3da3fe3f3",
            "2f47038411364c579b24095246d2499d",
            "029a0e3eb44d4c09b75e1ef4eb8be607",
            "bc5c1fa3cb9c496eb9b327dcf7417082",
            "75e4430bebd444358e81995f2ec9b5bc",
            "1a5a389cdfb9459cb0f354a66925a457",
            "78b183d6e8624da9b579ecad7cac54f0",
            "ab7bdaa33a7a4c66bfdf4760397bccaa",
            "9a5bef0e06b048fb8f382a3ef5ca52ce",
            "7103a66a14834f2fb82157217356a74b",
            "1d88982e16eb4263a01243a846777b7f",
            "86377d5d85664b05875188a68fffe603",
            "9fa91746f3174882b6b938597cdb17c5",
            "eee9c3137c314cba8bdc2753c232c924",
            "8ba47c1b57bd422cb7d4df7baa470849",
            "3d98d2a50afe49379dbc6e8c92bf662f",
            "664095b615f041df8608183e37e3befa",
            "092eeab3c5f942aeb1c794b0ad9b03ca",
            "85a91df8492e410ab63982512a700799",
            "1d91a76319e544918b59427675ad9544",
            "ca34e9e94f8f42d5b65ba987fd1b490b",
            "64a4d4f994634ec4a022131ca7252511",
            "6ad67b2d49dc42fb8a4c0391e862a515",
            "6a64009b757442dda2b7586ec47a3a0f",
            "a2253efe3c6b470987a51ff0bd287a5a",
            "e37459febaa64583bd41d8278a55249e",
            "77fd36ad644348d781cf74cad0c669c7",
            "f936a854bb804531b5ec246408fa7b43",
            "38352bfde9d943a2bc8887552a9ceb7d",
            "20830a91c3fc4c70bca275d190b6bf7a",
            "5e60ca47b0a246c3b17bcf2feb19cabc",
            "49d5fda2e51b45e595530b1f448fbb76",
            "32906bb6b3254690927bcda646418673",
            "7c682be272da40839bc0a386e7d8bf19",
            "de05aad3ae9d448db9073b9958968141",
            "2e938fa2bb77495f9f95a6c9143ff2f6",
            "9c0c08b390904cdd8bf0c7ffa7cdf86f",
            "e9182b595882406dafa6cd8a6eda6e7e",
            "a64e078612f94a2e9ede50e976dd7ffe",
            "4e20d46e224641d2bd080db6f6f919a6",
            "304a716ae7534ca098eef537caf90ee5",
            "593261807485492bacafc493433f9e12",
            "1ea94c6c47a94576a23f7841b59116d0",
            "f2fa9820a77d42f58d77c191e59411c5",
            "dec9441447d44af7bfeec8b303ad13ee",
            "bc17e7ddd3e240619fc6f7dd928fa5f4",
            "c1e398d70d1d4136bdc704fca89fa363",
            "a9c8683627ec4aa58e30b12e974c34f0",
            "daec7d4b700e4ca6b3f3ee1e61d6ec52",
            "6b14c7e85aa44c6bb5aa959b743a3cb1",
            "b55b00b40ca94b9b9956f08c98ca8543",
            "5da0f711e4e64790982ff9640e6d8989",
            "55d71f4cfdcb4e3a84f66b336fdd0661",
            "d9d6d30ea29b498585857ce935b1abed",
            "511636cf38d04c40bc0aa0ec74b08811",
            "9e2d3d5a7cca4b549222e9edc2f98dba",
            "d29bf2f1f8c54ec5b58767a755ab454c",
            "7efb11ea0e294fad85a4a95c2d69b51c",
            "9b1529afeb67424489a158f5c65392db",
            "32405635d1a045a48b7d3359bcaca6c2",
            "cd554210750f4b85a39d5defce3a1f70",
            "866ddfc74d4549c4afb2fcdac790e740",
            "b6043c2d34a74fd09718b2f4b21cc1ec",
            "f2612cc28ac3436c80970a2ae2f1ed45",
            "4825f52ef96a49b8a5138200e0e69e26",
            "33b90eea11d04589a21acc3185c21786",
            "e44af9d7e3384628a8e24148e839728b",
            "8ae215f16e164c40aa581ace5eec7a35",
            "c77ef67d95c84e0195d6b39a177f4bd8",
            "624ad0f80a9c4a138d6e4df0bacfdf40",
            "12f56e8003ff4d569b81dc252eb69cd8",
            "43696d45146d47699f749d51d8d75e86",
            "7f5d9f03e41c4b43a3250f61a501e9d6",
            "7126736991cb479087818932611ae5ae",
            "3860f4e1dcbe4cf286a041a750112478",
            "f5e230897df54dc7be71118cdfec5ce3",
            "31913fa9ac874139b903d9651eb308c0",
            "f8a021e3239344edb4357ddabccc9861",
            "4d6240ab1fee461c853188a1ed721f91",
            "461844d1a6264d6b8df4fd3416a41e99",
            "7b395666c45e427b969ef5b6f4d9f16a",
            "3852ff063316411b9e71124b6b51425a",
            "6cb6d2574ce547dcb78e6993f976efdf",
            "618d89e5182e4dc68d121c39a41443a8",
            "7baa4d81317340d7af21ec0a0b3d074f",
            "8d1338be8369427097c3d54ae36e6c27",
            "444e1b0a165143fd92b366ae06b6e6b2",
            "158cdde1f15c48d68686ebdd875ff070",
            "1a73f19c344f4dc4a5753bfafa0bfbcc",
            "647a04651449416397adb22759d1a30c",
            "19aef412abdf486bb202ab4b4f284735",
            "0cdb086c6079402988b1bacbdce73914",
            "10f3e01df2344baab2dd4c1dd2686e32",
            "d3597d5e3c5f4fb2854c5e5fb62596d6",
            "b52f30e256364aef8e7973f2295ec45a",
            "832d2d986816428e97f6f757c8a57582",
            "0fe6e43a891f42ec8982ae7a5d596997"
          ]
        },
        "id": "w-4yhJQOqXv3",
        "outputId": "fcc2d233-cf5e-4f84-ded0-d6e4a01087ef"
      },
      "outputs": [
        {
          "output_type": "display_data",
          "data": {
            "text/plain": [
              "  0%|          | 0/6040 [00:00<?, ?it/s]"
            ],
            "application/vnd.jupyter.widget-view+json": {
              "version_major": 2,
              "version_minor": 0,
              "model_id": "bcef8830c3cd425ba7b58e53bca693ac"
            }
          },
          "metadata": {}
        },
        {
          "output_type": "display_data",
          "data": {
            "text/plain": [
              "  0%|          | 0/3679 [00:00<?, ?it/s]"
            ],
            "application/vnd.jupyter.widget-view+json": {
              "version_major": 2,
              "version_minor": 0,
              "model_id": "7103a66a14834f2fb82157217356a74b"
            }
          },
          "metadata": {}
        },
        {
          "output_type": "display_data",
          "data": {
            "text/plain": [
              "  0%|          | 0/6040 [00:00<?, ?it/s]"
            ],
            "application/vnd.jupyter.widget-view+json": {
              "version_major": 2,
              "version_minor": 0,
              "model_id": "ca34e9e94f8f42d5b65ba987fd1b490b"
            }
          },
          "metadata": {}
        },
        {
          "output_type": "display_data",
          "data": {
            "text/plain": [
              "  0%|          | 0/200 [00:00<?, ?it/s]"
            ],
            "application/vnd.jupyter.widget-view+json": {
              "version_major": 2,
              "version_minor": 0,
              "model_id": "49d5fda2e51b45e595530b1f448fbb76"
            }
          },
          "metadata": {}
        },
        {
          "output_type": "stream",
          "name": "stdout",
          "text": [
            "Optimization finished!\n"
          ]
        },
        {
          "output_type": "display_data",
          "data": {
            "text/plain": [
              "  0%|          | 0/100 [00:00<?, ?it/s]"
            ],
            "application/vnd.jupyter.widget-view+json": {
              "version_major": 2,
              "version_minor": 0,
              "model_id": "1ea94c6c47a94576a23f7841b59116d0"
            }
          },
          "metadata": {}
        },
        {
          "output_type": "stream",
          "name": "stdout",
          "text": [
            "Optimization finished!\n",
            "Learning...\n",
            "epoch 0, loss: 74507.760548\n",
            "epoch 1, loss: 58688.467291\n",
            "epoch 2, loss: 52678.747321\n",
            "epoch 3, loss: 50128.612106\n",
            "epoch 4, loss: 48638.692067\n",
            "epoch 5, loss: 47552.996438\n",
            "epoch 6, loss: 46602.354238\n",
            "epoch 7, loss: 45706.298392\n",
            "epoch 8, loss: 44892.622352\n",
            "epoch 9, loss: 44200.995179\n",
            "epoch 10, loss: 43633.593587\n",
            "epoch 11, loss: 43168.020233\n",
            "epoch 12, loss: 42778.554078\n",
            "epoch 13, loss: 42444.117637\n",
            "epoch 14, loss: 42148.739789\n",
            "epoch 15, loss: 41880.417563\n",
            "epoch 16, loss: 41630.244486\n",
            "epoch 17, loss: 41391.966498\n",
            "epoch 18, loss: 41161.701966\n",
            "epoch 19, loss: 40937.535106\n",
            "epoch 20, loss: 40718.851573\n",
            "epoch 21, loss: 40505.555427\n",
            "epoch 22, loss: 40297.467209\n",
            "epoch 23, loss: 40094.107683\n",
            "epoch 24, loss: 39894.832368\n",
            "epoch 25, loss: 39699.116262\n",
            "epoch 26, loss: 39506.788203\n",
            "epoch 27, loss: 39318.101294\n",
            "epoch 28, loss: 39133.630308\n",
            "epoch 29, loss: 38954.070643\n",
            "epoch 30, loss: 38780.035466\n",
            "epoch 31, loss: 38611.921471\n",
            "epoch 32, loss: 38449.865955\n",
            "epoch 33, loss: 38293.776802\n",
            "epoch 34, loss: 38143.401804\n",
            "epoch 35, loss: 37998.405958\n",
            "epoch 36, loss: 37858.436982\n",
            "epoch 37, loss: 37723.169802\n",
            "epoch 38, loss: 37592.329613\n",
            "epoch 39, loss: 37465.697836\n",
            "epoch 40, loss: 37343.107057\n",
            "epoch 41, loss: 37224.430171\n",
            "epoch 42, loss: 37109.567922\n",
            "epoch 43, loss: 36998.437470\n",
            "epoch 44, loss: 36890.963211\n",
            "epoch 45, loss: 36787.070456\n",
            "epoch 46, loss: 36686.681651\n",
            "epoch 47, loss: 36589.714489\n",
            "epoch 48, loss: 36496.081526\n",
            "epoch 49, loss: 36405.690572\n",
            "epoch 50, loss: 36318.445550\n",
            "epoch 51, loss: 36234.247489\n",
            "epoch 52, loss: 36152.995549\n",
            "epoch 53, loss: 36074.587925\n",
            "epoch 54, loss: 35998.922616\n",
            "epoch 55, loss: 35925.898110\n",
            "epoch 56, loss: 35855.413945\n",
            "epoch 57, loss: 35787.371087\n",
            "epoch 58, loss: 35721.672464\n",
            "epoch 59, loss: 35658.223111\n",
            "epoch 60, loss: 35596.930527\n",
            "epoch 61, loss: 35537.704834\n",
            "epoch 62, loss: 35480.459017\n",
            "epoch 63, loss: 35425.108960\n",
            "epoch 64, loss: 35371.573622\n",
            "epoch 65, loss: 35319.775065\n",
            "epoch 66, loss: 35269.638512\n",
            "epoch 67, loss: 35221.092369\n",
            "epoch 68, loss: 35174.068132\n",
            "epoch 69, loss: 35128.500477\n",
            "epoch 70, loss: 35084.327078\n",
            "epoch 71, loss: 35041.488657\n",
            "epoch 72, loss: 34999.928771\n",
            "epoch 73, loss: 34959.593828\n",
            "epoch 74, loss: 34920.432928\n",
            "epoch 75, loss: 34882.397765\n",
            "epoch 76, loss: 34845.442479\n",
            "epoch 77, loss: 34809.523601\n",
            "epoch 78, loss: 34774.599892\n",
            "epoch 79, loss: 34740.632192\n",
            "epoch 80, loss: 34707.583403\n",
            "epoch 81, loss: 34675.418263\n",
            "epoch 82, loss: 34644.103303\n",
            "epoch 83, loss: 34613.606736\n",
            "epoch 84, loss: 34583.898348\n",
            "epoch 85, loss: 34554.949408\n",
            "epoch 86, loss: 34526.732578\n",
            "epoch 87, loss: 34499.221831\n",
            "epoch 88, loss: 34472.392403\n",
            "epoch 89, loss: 34446.220648\n",
            "epoch 90, loss: 34420.684024\n",
            "epoch 91, loss: 34395.761068\n",
            "epoch 92, loss: 34371.431237\n",
            "epoch 93, loss: 34347.674889\n",
            "epoch 94, loss: 34324.473311\n",
            "epoch 95, loss: 34301.808547\n",
            "epoch 96, loss: 34279.663461\n",
            "epoch 97, loss: 34258.021588\n",
            "epoch 98, loss: 34236.867178\n",
            "epoch 99, loss: 34216.185153\n",
            "Learning completed\n"
          ]
        },
        {
          "output_type": "display_data",
          "data": {
            "text/plain": [
              "  0%|          | 0/50 [00:00<?, ?it/s]"
            ],
            "application/vnd.jupyter.widget-view+json": {
              "version_major": 2,
              "version_minor": 0,
              "model_id": "d9d6d30ea29b498585857ce935b1abed"
            }
          },
          "metadata": {}
        },
        {
          "output_type": "stream",
          "name": "stdout",
          "text": [
            "Optimization finished!\n"
          ]
        },
        {
          "output_type": "display_data",
          "data": {
            "text/plain": [
              "  0%|          | 0/50 [00:00<?, ?it/s]"
            ],
            "application/vnd.jupyter.widget-view+json": {
              "version_major": 2,
              "version_minor": 0,
              "model_id": "4825f52ef96a49b8a5138200e0e69e26"
            }
          },
          "metadata": {}
        },
        {
          "output_type": "stream",
          "name": "stdout",
          "text": [
            "Learning completed!\n",
            "Learning...\n",
            "Learning completed!\n"
          ]
        },
        {
          "output_type": "display_data",
          "data": {
            "text/plain": [
              "  0%|          | 0/1 [00:00<?, ?it/s]"
            ],
            "application/vnd.jupyter.widget-view+json": {
              "version_major": 2,
              "version_minor": 0,
              "model_id": "f5e230897df54dc7be71118cdfec5ce3"
            }
          },
          "metadata": {}
        },
        {
          "output_type": "display_data",
          "data": {
            "text/plain": [
              "  0%|          | 0/100 [00:00<?, ?it/s]"
            ],
            "application/vnd.jupyter.widget-view+json": {
              "version_major": 2,
              "version_minor": 0,
              "model_id": "444e1b0a165143fd92b366ae06b6e6b2"
            }
          },
          "metadata": {}
        },
        {
          "output_type": "stream",
          "name": "stdout",
          "text": [
            "\n",
            "TEST:\n",
            "...\n",
            "        |    MAE | Train (s) | Test (s)\n",
            "------- + ------ + --------- + --------\n",
            "MostPop | 1.2974 |    0.0003 |   3.6990\n",
            "UserKNN | 0.7669 |    6.6749 |  40.5998\n",
            "ItemKNN | 0.8037 |    2.1387 |  35.7914\n",
            "UserKNN | 0.7491 |    6.9488 |  39.7821\n",
            "BPR     | 2.0852 |   69.5456 |   4.8406\n",
            "MF      | 0.7904 |    6.7901 |   4.6431\n",
            "PMF     | 0.7011 |   42.1394 |   5.0813\n",
            "NMF     | 0.7496 |    4.5562 |   5.1572\n",
            "WMF     | 1.1277 |   45.7649 |   4.3314\n",
            "PF      | 2.4691 | 1076.4432 |   4.1696\n",
            "NeuMF   | 2.7023 |   83.2529 | 121.1546\n",
            "VAECF   | 2.7023 |  129.6749 | 116.5952\n",
            "\n",
            "1860 seconds.\n"
          ]
        }
      ],
      "source": [
        "# define metrics to evaluate the models\n",
        "metrics = [MAE()]\n",
        "\n",
        "# put it together in an experiment, voilà!\n",
        "start = time.time()\n",
        "exp = cornac.Experiment(eval_method=rs, models=models, metrics=metrics, user_based=True)\n",
        "exp.run()\n",
        "end = time.time()\n",
        "print(round(end-start), \"seconds.\")"
      ]
    },
    {
      "cell_type": "markdown",
      "source": [
        "#### Ranking and recommendation\n",
        "We have identified three evaluation strategies:\n",
        "1. For every user in the **train set** rank **all items**. | Book paper, *eva_one*\n",
        "2. For every user in the **test set** rank **only the items this user has rated in the test set**. | Music paper, *eva_two*\n",
        "3. For every user in the **test set** rank **only the items this user has NOT rated in the train set**. | Movie(?) paper, *eva_three*\n",
        "\n",
        "For every evaluation strategy, we define a function that recommends the appropriate items to the appropriate users as described above. "
      ],
      "metadata": {
        "id": "lDyNWKN3rpbX"
      }
    },
    {
      "cell_type": "markdown",
      "source": [
        "##### Functions"
      ],
      "metadata": {
        "id": "aZbCVBNArrWy"
      }
    },
    {
      "cell_type": "code",
      "execution_count": 65,
      "metadata": {
        "id": "1Ft6Cw5sqxYp"
      },
      "outputs": [],
      "source": [
        "def get_top_n_eva_one(algo_name,i, n=10):\n",
        "  model = exp.models[i]\n",
        "  print(algo_name + \" model is selected:\")\n",
        "  top_n = defaultdict(list)\n",
        "  for uid in tqdm(model.train_set.uid_map.values()): # every user in the train set\n",
        "    user_id = list(model.train_set.user_ids)[uid]\n",
        "    item_rank = model.rank(user_idx=uid)[0] # all\n",
        "    # collect top N items\n",
        "    item_rank_top = item_rank[:n]\n",
        "    for iid in item_rank_top:\n",
        "      item_id = list(model.train_set.item_ids)[iid]\n",
        "      top_n[int(user_id)].append((int(item_id), model.score(uid, iid)))\n",
        "  return top_n"
      ]
    },
    {
      "cell_type": "code",
      "source": [
        "def get_top_n_eva_two(algo_name,i, n=10):\n",
        "  model = exp.models[i]\n",
        "  print(algo_name + \" model is selected:\")\n",
        "  top_n = defaultdict(list)\n",
        "  for uid in tqdm(rs.test_set.uid_map.values()): # every user in the test set\n",
        "    user_id = list(rs.train_set.user_ids)[uid]\n",
        "    user_items_in_the_test_set = rs.test_set.user_data[uid][0] \n",
        "    \n",
        "    item_rank = model.rank(user_idx=uid, item_indices = user_items_in_the_test_set)[0] # items the user has rated in the test set \n",
        "    item_rank_top = item_rank[:n]\n",
        "    for iid in item_rank_top:\n",
        "      item_id = list(model.train_set.item_ids)[iid]\n",
        "      top_n[int(user_id)].append((int(item_id), model.score(uid, iid)))\n",
        "  return top_n"
      ],
      "metadata": {
        "id": "7ReRcdQCrveT"
      },
      "execution_count": 51,
      "outputs": []
    },
    {
      "cell_type": "code",
      "source": [
        "def get_top_n_eva_three(algo_name,i, n=10):\n",
        "  model = exp.models[i]\n",
        "  print(algo_name + \" model is selected:\")\n",
        "  top_n = defaultdict(list)\n",
        "\n",
        "  for uid in tqdm(rs.test_set.uid_map.values()): # every user in the test set\n",
        "    user_id = list(rs.train_set.user_ids)[uid]\n",
        "    user_items_in_the_train_set = set(rs.train_set.user_data[uid][0])\n",
        "    user_items_not_in_the_train_set = list(all_items.difference(user_items_in_the_train_set))\n",
        "    \n",
        "    item_rank = model.rank(user_idx=uid, item_indices = user_items_not_in_the_train_set)[0] # items the user has NOT rated in the TRAIN set\n",
        "    item_rank_top = item_rank[:n]\n",
        "    for iid in item_rank_top:\n",
        "      item_id = list(model.train_set.item_ids)[iid]\n",
        "      top_n[int(user_id)].append((int(item_id), model.score(uid, iid)))\n",
        "  return top_n"
      ],
      "metadata": {
        "id": "cGjFAhr6rxXI"
      },
      "execution_count": 52,
      "outputs": []
    },
    {
      "cell_type": "code",
      "execution_count": 53,
      "metadata": {
        "id": "nU1sU9Q_qy_J"
      },
      "outputs": [],
      "source": [
        "# random recommendation algorithm, same for every strategy \n",
        "def get_top_n_random(n=10):\n",
        "    print(\"Random model is selected:\")\n",
        "    top_n = defaultdict(list)\n",
        "\n",
        "    for uid in tqdm(rs.test_set.uid_map.values()): # every user in the test set\n",
        "      if uid not in top_n.keys():\n",
        "        user_id = list(rs.train_set.user_ids)[uid]\n",
        "        user_items_in_the_train_set = set(rs.train_set.user_data[uid][0])\n",
        "        user_items_not_in_the_train_set = list(all_items.difference(user_items_in_the_train_set)) # random choice out of the items that the user has NOT rated in the train set\n",
        "        for i in range(0, n):\n",
        "          top_n[int(user_id)].append((int(rd.choice(user_items_not_in_the_train_set)), i))\n",
        "          \n",
        "    return top_n"
      ]
    },
    {
      "cell_type": "markdown",
      "source": [
        "##### Recommendation"
      ],
      "metadata": {
        "id": "4rMlWVflr3UH"
      }
    },
    {
      "cell_type": "markdown",
      "source": [
        "Choose evaluation strategy."
      ],
      "metadata": {
        "id": "qL0I-4HSr5GJ"
      }
    },
    {
      "cell_type": "code",
      "source": [
        "evaluation_function = {'eva_one':get_top_n_eva_one,\n",
        "             'eva_two': get_top_n_eva_two,\n",
        "             'eva_three': get_top_n_eva_three}"
      ],
      "metadata": {
        "id": "tLQUNsGer7YQ"
      },
      "execution_count": 127,
      "outputs": []
    },
    {
      "cell_type": "code",
      "source": [
        "choice = 'eva_one'\n",
        "# to be manually set!!! "
      ],
      "metadata": {
        "id": "OJk2R7C-r-Ii"
      },
      "execution_count": 128,
      "outputs": []
    },
    {
      "cell_type": "code",
      "execution_count": 129,
      "metadata": {
        "colab": {
          "base_uri": "https://localhost:8080/"
        },
        "id": "1_TRKhBJq02Y",
        "outputId": "7f019cef-e9af-494e-d9ac-74f2e7cf26a3"
      },
      "outputs": [
        {
          "output_type": "stream",
          "name": "stdout",
          "text": [
            "Random model is selected:\n"
          ]
        },
        {
          "output_type": "stream",
          "name": "stderr",
          "text": [
            "100%|██████████| 6038/6038 [00:04<00:00, 1431.45it/s]\n",
            "100%|██████████| 3815/3815 [00:13<00:00, 288.18it/s]\n"
          ]
        },
        {
          "output_type": "stream",
          "name": "stdout",
          "text": [
            "MostPop model is selected:\n"
          ]
        },
        {
          "output_type": "stream",
          "name": "stderr",
          "text": [
            "100%|██████████| 6040/6040 [00:54<00:00, 111.03it/s]\n",
            "100%|██████████| 6040/6040 [00:20<00:00, 291.53it/s]\n"
          ]
        },
        {
          "output_type": "stream",
          "name": "stdout",
          "text": [
            "UserKNN model is selected:\n"
          ]
        },
        {
          "output_type": "stream",
          "name": "stderr",
          "text": [
            "100%|██████████| 6040/6040 [04:44<00:00, 21.25it/s]\n",
            "100%|██████████| 6040/6040 [00:20<00:00, 290.78it/s]\n"
          ]
        },
        {
          "output_type": "stream",
          "name": "stdout",
          "text": [
            "ItemKNN model is selected:\n"
          ]
        },
        {
          "output_type": "stream",
          "name": "stderr",
          "text": [
            "100%|██████████| 6040/6040 [07:06<00:00, 14.16it/s]\n",
            "100%|██████████| 6040/6040 [00:23<00:00, 258.44it/s]\n"
          ]
        },
        {
          "output_type": "stream",
          "name": "stdout",
          "text": [
            "UserKNN with means model is selected:\n"
          ]
        },
        {
          "output_type": "stream",
          "name": "stderr",
          "text": [
            "100%|██████████| 6040/6040 [04:59<00:00, 20.18it/s]\n",
            "100%|██████████| 6040/6040 [00:20<00:00, 289.78it/s]\n"
          ]
        },
        {
          "output_type": "stream",
          "name": "stdout",
          "text": [
            "BPR model is selected:\n"
          ]
        },
        {
          "output_type": "stream",
          "name": "stderr",
          "text": [
            "100%|██████████| 6040/6040 [01:06<00:00, 90.15it/s]\n",
            "100%|██████████| 6040/6040 [00:20<00:00, 289.21it/s]\n"
          ]
        },
        {
          "output_type": "stream",
          "name": "stdout",
          "text": [
            "MF model is selected:\n"
          ]
        },
        {
          "output_type": "stream",
          "name": "stderr",
          "text": [
            "100%|██████████| 6040/6040 [01:08<00:00, 87.80it/s]\n",
            "100%|██████████| 6040/6040 [00:21<00:00, 284.88it/s]\n"
          ]
        },
        {
          "output_type": "stream",
          "name": "stdout",
          "text": [
            "PMF model is selected:\n"
          ]
        },
        {
          "output_type": "stream",
          "name": "stderr",
          "text": [
            "100%|██████████| 6040/6040 [01:17<00:00, 77.71it/s]\n",
            "100%|██████████| 6040/6040 [00:24<00:00, 250.16it/s]\n"
          ]
        },
        {
          "output_type": "stream",
          "name": "stdout",
          "text": [
            "NMF model is selected:\n"
          ]
        },
        {
          "output_type": "stream",
          "name": "stderr",
          "text": [
            "100%|██████████| 6040/6040 [01:10<00:00, 85.99it/s]\n",
            "100%|██████████| 6040/6040 [00:21<00:00, 284.90it/s]\n"
          ]
        },
        {
          "output_type": "stream",
          "name": "stdout",
          "text": [
            "WMF model is selected:\n"
          ]
        },
        {
          "output_type": "stream",
          "name": "stderr",
          "text": [
            "100%|██████████| 6040/6040 [01:14<00:00, 81.43it/s]\n",
            "100%|██████████| 6040/6040 [00:21<00:00, 279.94it/s]\n"
          ]
        },
        {
          "output_type": "stream",
          "name": "stdout",
          "text": [
            "HPF model is selected:\n"
          ]
        },
        {
          "output_type": "stream",
          "name": "stderr",
          "text": [
            "100%|██████████| 6040/6040 [01:21<00:00, 74.18it/s]\n",
            "100%|██████████| 6040/6040 [00:23<00:00, 253.58it/s]\n"
          ]
        },
        {
          "output_type": "stream",
          "name": "stdout",
          "text": [
            "NeuMF model is selected:\n"
          ]
        },
        {
          "output_type": "stream",
          "name": "stderr",
          "text": [
            "100%|██████████| 6040/6040 [02:42<00:00, 37.08it/s]\n",
            "100%|██████████| 6040/6040 [00:21<00:00, 279.30it/s]\n"
          ]
        },
        {
          "output_type": "stream",
          "name": "stdout",
          "text": [
            "VAECF model is selected:\n"
          ]
        },
        {
          "output_type": "stream",
          "name": "stderr",
          "text": [
            "100%|██████████| 6040/6040 [02:09<00:00, 46.74it/s]\n",
            "100%|██████████| 6040/6040 [00:23<00:00, 256.23it/s]\n"
          ]
        }
      ],
      "source": [
        "i = 0\n",
        "low_rec_gap_list = [] # one entry per algorithm\n",
        "medium_rec_gap_list = []\n",
        "high_rec_gap_list = []\n",
        "\n",
        "for i in range(0, len(algo_names)):\n",
        "    df_item_dist_cornac[algo_names[i]] = 0\n",
        "    low_rec_gap = 0\n",
        "    medium_rec_gap = 0\n",
        "    high_rec_gap = 0\n",
        "    \n",
        "    if algo_names[i] == 'Random':\n",
        "      top_n = get_top_n_random(n=10)\n",
        "    else:\n",
        "      top_n = evaluation_function[choice](algo_names[i],i-1, n=10)\n",
        "    low_count = 0\n",
        "    med_count = 0\n",
        "    high_count = 0\n",
        "    for uid, user_ratings in tqdm(top_n.items()):\n",
        "        iid_list = []\n",
        "        for (iid, _) in user_ratings:\n",
        "            df_item_dist_cornac.loc[iid, algo_names[i]] += 1\n",
        "            iid_list.append(iid)\n",
        "        gap = sum(df_item_dist_cornac[\"count\"].loc[iid_list]) / len(iid_list)\n",
        "        if uid in low.index:\n",
        "            low_rec_gap += gap\n",
        "            low_count += 1\n",
        "        elif uid in med.index:\n",
        "            medium_rec_gap += gap\n",
        "            med_count += 1\n",
        "        elif uid in high.index:\n",
        "            high_rec_gap += gap\n",
        "            high_count += 1\n",
        "        else:\n",
        "          print(\"hi\")\n",
        "    low_rec_gap_list.append(low_rec_gap / low_count)\n",
        "    medium_rec_gap_list.append(medium_rec_gap / med_count)\n",
        "    high_rec_gap_list.append(high_rec_gap / high_count)\n",
        "    i += 1 # next algorithm"
      ]
    },
    {
      "cell_type": "markdown",
      "metadata": {
        "id": "hRQ9ZID5-kfv"
      },
      "source": [
        "### Cornac results."
      ]
    },
    {
      "cell_type": "code",
      "execution_count": 130,
      "metadata": {
        "id": "P-9L1R_x-ftU"
      },
      "outputs": [],
      "source": [
        "# sns.set(rc = {'figure.figsize':(5,4)})\n",
        "# for i in range(0, len(algo_names)):\n",
        "#     plt.figure()\n",
        "#     x = df_item_dist_cornac[\"count\"]\n",
        "#     y = df_item_dist_cornac[algo_names[i]]\n",
        "\n",
        "#     plt.plot(x, y, 'o')\n",
        "#     plt.title(algo_names[i])\n",
        "#     plt.xlabel('Movie popularity', fontsize='15')\n",
        "#     plt.ylabel('Recommendation frequency', fontsize='15')\n",
        "#     plt.xticks(fontsize='13')\n",
        "#     plt.yticks(fontsize='13')"
      ]
    },
    {
      "cell_type": "code",
      "execution_count": 131,
      "metadata": {
        "id": "tqyKuR-m-oaX"
      },
      "outputs": [],
      "source": [
        "low_gap_vals = []\n",
        "medium_gap_vals = []\n",
        "high_gap_vals = []\n",
        "\n",
        "for i in range(0, len(algo_names)):\n",
        "    low_gap_vals.append((low_rec_gap_list[i] - low_GAP) / low_GAP * 100)\n",
        "    medium_gap_vals.append((medium_rec_gap_list[i] - med_GAP) / med_GAP * 100)\n",
        "    high_gap_vals.append((high_rec_gap_list[i] - high_GAP) / high_GAP * 100)"
      ]
    },
    {
      "cell_type": "code",
      "execution_count": 132,
      "metadata": {
        "id": "NKtB9KZj-56B"
      },
      "outputs": [],
      "source": [
        "# sns.set(rc = {'figure.figsize':(8,4)})\n",
        "\n",
        "# # set width of bar\n",
        "# barWidth = 0.07\n",
        "\n",
        "# # set height of bar\n",
        "\n",
        "# bars = {}\n",
        "# for i in range(len(algo_names)):\n",
        "#     bars[\"bars{0}\".format(i+1)] = [low_gap_vals[i], medium_gap_vals[i], high_gap_vals[i]]\n",
        "\n",
        "# # Set position of bar on X axis\n",
        "\n",
        "# r = {}\n",
        "# r[\"r1\"] = np.arange(len(bars[\"bars1\"]))\n",
        "\n",
        "# for i in range(len(algo_names)-1):\n",
        "#     r[\"r{0}\".format(i+2)] = [x + barWidth for x in r[\"r{0}\".format(i+1)]]\n",
        "\n",
        "# patterns = [ \"/\" , \"\\\\\" , \"|\" , \"-\" , \"+\" , \"x\", \"o\", \"O\", \".\", \"*\", \"--\", \"*o\",\".!.\"]\n",
        "\n",
        "# # Make the plot\n",
        "# for i in range(len(algo_names)):\n",
        "#   plt.bar(r[\"r{0}\".format(i+1)], bars[\"bars{0}\".format(i+1)], width=barWidth, label=algo_names[i], hatch=patterns[i])\n",
        "\n",
        "# # Add xticks on the middle of the group bars + show legend\n",
        "# plt.xlabel('User group', fontsize='14')\n",
        "# plt.ylabel('% $\\Delta$ GAP', fontsize='14')\n",
        "# plt.xticks([r + barWidth + 0.3 for r in range(len(bars[\"bars1\"]))], ['Niche', 'Diverse', 'Blockbuster-focused'], fontsize='13')\n",
        "# plt.yticks(fontsize='10')\n",
        "# plt.legend(bbox_to_anchor=(1.02, 1), loc=2, borderaxespad=0., framealpha=1, fontsize='12')\n",
        "# plt.show()"
      ]
    },
    {
      "cell_type": "markdown",
      "source": [
        "# Save!!"
      ],
      "metadata": {
        "id": "bX4L2rWt2Kyo"
      }
    },
    {
      "cell_type": "code",
      "execution_count": 133,
      "metadata": {
        "id": "gsn9qqS3Xdgb"
      },
      "outputs": [],
      "source": [
        "from google.colab import files\n",
        "import pickle as pkl"
      ]
    },
    {
      "cell_type": "code",
      "source": [
        "df_item_dist_cornac.to_csv('df_item_dist_cornac_movies_'+choice+'.csv') \n",
        "files.download('df_item_dist_cornac_movies_'+choice+'.csv')"
      ],
      "metadata": {
        "colab": {
          "base_uri": "https://localhost:8080/",
          "height": 17
        },
        "id": "9JWFIqBO2M01",
        "outputId": "e36b36e6-f8c0-451f-82de-827ee7745192"
      },
      "execution_count": 68,
      "outputs": [
        {
          "output_type": "display_data",
          "data": {
            "text/plain": [
              "<IPython.core.display.Javascript object>"
            ],
            "application/javascript": [
              "\n",
              "    async function download(id, filename, size) {\n",
              "      if (!google.colab.kernel.accessAllowed) {\n",
              "        return;\n",
              "      }\n",
              "      const div = document.createElement('div');\n",
              "      const label = document.createElement('label');\n",
              "      label.textContent = `Downloading \"${filename}\": `;\n",
              "      div.appendChild(label);\n",
              "      const progress = document.createElement('progress');\n",
              "      progress.max = size;\n",
              "      div.appendChild(progress);\n",
              "      document.body.appendChild(div);\n",
              "\n",
              "      const buffers = [];\n",
              "      let downloaded = 0;\n",
              "\n",
              "      const channel = await google.colab.kernel.comms.open(id);\n",
              "      // Send a message to notify the kernel that we're ready.\n",
              "      channel.send({})\n",
              "\n",
              "      for await (const message of channel.messages) {\n",
              "        // Send a message to notify the kernel that we're ready.\n",
              "        channel.send({})\n",
              "        if (message.buffers) {\n",
              "          for (const buffer of message.buffers) {\n",
              "            buffers.push(buffer);\n",
              "            downloaded += buffer.byteLength;\n",
              "            progress.value = downloaded;\n",
              "          }\n",
              "        }\n",
              "      }\n",
              "      const blob = new Blob(buffers, {type: 'application/binary'});\n",
              "      const a = document.createElement('a');\n",
              "      a.href = window.URL.createObjectURL(blob);\n",
              "      a.download = filename;\n",
              "      div.appendChild(a);\n",
              "      a.click();\n",
              "      div.remove();\n",
              "    }\n",
              "  "
            ]
          },
          "metadata": {}
        },
        {
          "output_type": "display_data",
          "data": {
            "text/plain": [
              "<IPython.core.display.Javascript object>"
            ],
            "application/javascript": [
              "download(\"download_3f05e5e7-62aa-432f-bc3a-f5a0a9bb5384\", \"df_item_dist_cornac_movies_eva_three.csv\", 197302)"
            ]
          },
          "metadata": {}
        }
      ]
    },
    {
      "cell_type": "code",
      "source": [
        "with open('low_gap_vals_movies_'+choice+'_'+pop_notion+'.pickle', 'wb') as handle:\n",
        "    pkl.dump(low_gap_vals, handle)\n",
        "files.download('low_gap_vals_movies_'+choice+'_'+pop_notion+'.pickle')"
      ],
      "metadata": {
        "colab": {
          "base_uri": "https://localhost:8080/",
          "height": 17
        },
        "id": "uyD40tSn2RyA",
        "outputId": "b705e65d-58c0-4a2c-8ebe-a69bdda14057"
      },
      "execution_count": 134,
      "outputs": [
        {
          "output_type": "display_data",
          "data": {
            "text/plain": [
              "<IPython.core.display.Javascript object>"
            ],
            "application/javascript": [
              "\n",
              "    async function download(id, filename, size) {\n",
              "      if (!google.colab.kernel.accessAllowed) {\n",
              "        return;\n",
              "      }\n",
              "      const div = document.createElement('div');\n",
              "      const label = document.createElement('label');\n",
              "      label.textContent = `Downloading \"${filename}\": `;\n",
              "      div.appendChild(label);\n",
              "      const progress = document.createElement('progress');\n",
              "      progress.max = size;\n",
              "      div.appendChild(progress);\n",
              "      document.body.appendChild(div);\n",
              "\n",
              "      const buffers = [];\n",
              "      let downloaded = 0;\n",
              "\n",
              "      const channel = await google.colab.kernel.comms.open(id);\n",
              "      // Send a message to notify the kernel that we're ready.\n",
              "      channel.send({})\n",
              "\n",
              "      for await (const message of channel.messages) {\n",
              "        // Send a message to notify the kernel that we're ready.\n",
              "        channel.send({})\n",
              "        if (message.buffers) {\n",
              "          for (const buffer of message.buffers) {\n",
              "            buffers.push(buffer);\n",
              "            downloaded += buffer.byteLength;\n",
              "            progress.value = downloaded;\n",
              "          }\n",
              "        }\n",
              "      }\n",
              "      const blob = new Blob(buffers, {type: 'application/binary'});\n",
              "      const a = document.createElement('a');\n",
              "      a.href = window.URL.createObjectURL(blob);\n",
              "      a.download = filename;\n",
              "      div.appendChild(a);\n",
              "      a.click();\n",
              "      div.remove();\n",
              "    }\n",
              "  "
            ]
          },
          "metadata": {}
        },
        {
          "output_type": "display_data",
          "data": {
            "text/plain": [
              "<IPython.core.display.Javascript object>"
            ],
            "application/javascript": [
              "download(\"download_b23a8636-4e6a-469d-8610-71766bbf3565\", \"low_gap_vals_movies_eva_one_pop_two.pickle\", 384)"
            ]
          },
          "metadata": {}
        }
      ]
    },
    {
      "cell_type": "code",
      "source": [
        "with open('med_gap_vals_movies_'+choice+'_'+pop_notion+'.pickle', 'wb') as handle:\n",
        "    pkl.dump(medium_gap_vals, handle)\n",
        "files.download('med_gap_vals_movies_'+choice+'_'+pop_notion+'.pickle')"
      ],
      "metadata": {
        "colab": {
          "base_uri": "https://localhost:8080/",
          "height": 17
        },
        "id": "iw8MO_if2V_h",
        "outputId": "4f6acf7e-a168-40e7-9bd9-07e3b83a0ae9"
      },
      "execution_count": 135,
      "outputs": [
        {
          "output_type": "display_data",
          "data": {
            "text/plain": [
              "<IPython.core.display.Javascript object>"
            ],
            "application/javascript": [
              "\n",
              "    async function download(id, filename, size) {\n",
              "      if (!google.colab.kernel.accessAllowed) {\n",
              "        return;\n",
              "      }\n",
              "      const div = document.createElement('div');\n",
              "      const label = document.createElement('label');\n",
              "      label.textContent = `Downloading \"${filename}\": `;\n",
              "      div.appendChild(label);\n",
              "      const progress = document.createElement('progress');\n",
              "      progress.max = size;\n",
              "      div.appendChild(progress);\n",
              "      document.body.appendChild(div);\n",
              "\n",
              "      const buffers = [];\n",
              "      let downloaded = 0;\n",
              "\n",
              "      const channel = await google.colab.kernel.comms.open(id);\n",
              "      // Send a message to notify the kernel that we're ready.\n",
              "      channel.send({})\n",
              "\n",
              "      for await (const message of channel.messages) {\n",
              "        // Send a message to notify the kernel that we're ready.\n",
              "        channel.send({})\n",
              "        if (message.buffers) {\n",
              "          for (const buffer of message.buffers) {\n",
              "            buffers.push(buffer);\n",
              "            downloaded += buffer.byteLength;\n",
              "            progress.value = downloaded;\n",
              "          }\n",
              "        }\n",
              "      }\n",
              "      const blob = new Blob(buffers, {type: 'application/binary'});\n",
              "      const a = document.createElement('a');\n",
              "      a.href = window.URL.createObjectURL(blob);\n",
              "      a.download = filename;\n",
              "      div.appendChild(a);\n",
              "      a.click();\n",
              "      div.remove();\n",
              "    }\n",
              "  "
            ]
          },
          "metadata": {}
        },
        {
          "output_type": "display_data",
          "data": {
            "text/plain": [
              "<IPython.core.display.Javascript object>"
            ],
            "application/javascript": [
              "download(\"download_b16394dd-2803-40b9-b915-a13c851d10d9\", \"med_gap_vals_movies_eva_one_pop_two.pickle\", 384)"
            ]
          },
          "metadata": {}
        }
      ]
    },
    {
      "cell_type": "code",
      "source": [
        "with open('high_gap_vals_movies_'+choice+'_'+pop_notion+'.pickle', 'wb') as handle:\n",
        "    pkl.dump(high_gap_vals, handle)\n",
        "files.download('high_gap_vals_movies_'+choice+'_'+pop_notion+'.pickle')"
      ],
      "metadata": {
        "colab": {
          "base_uri": "https://localhost:8080/",
          "height": 17
        },
        "id": "E5eVE3i02Z02",
        "outputId": "90fc221c-502f-46b4-f704-89821f91934f"
      },
      "execution_count": 136,
      "outputs": [
        {
          "output_type": "display_data",
          "data": {
            "text/plain": [
              "<IPython.core.display.Javascript object>"
            ],
            "application/javascript": [
              "\n",
              "    async function download(id, filename, size) {\n",
              "      if (!google.colab.kernel.accessAllowed) {\n",
              "        return;\n",
              "      }\n",
              "      const div = document.createElement('div');\n",
              "      const label = document.createElement('label');\n",
              "      label.textContent = `Downloading \"${filename}\": `;\n",
              "      div.appendChild(label);\n",
              "      const progress = document.createElement('progress');\n",
              "      progress.max = size;\n",
              "      div.appendChild(progress);\n",
              "      document.body.appendChild(div);\n",
              "\n",
              "      const buffers = [];\n",
              "      let downloaded = 0;\n",
              "\n",
              "      const channel = await google.colab.kernel.comms.open(id);\n",
              "      // Send a message to notify the kernel that we're ready.\n",
              "      channel.send({})\n",
              "\n",
              "      for await (const message of channel.messages) {\n",
              "        // Send a message to notify the kernel that we're ready.\n",
              "        channel.send({})\n",
              "        if (message.buffers) {\n",
              "          for (const buffer of message.buffers) {\n",
              "            buffers.push(buffer);\n",
              "            downloaded += buffer.byteLength;\n",
              "            progress.value = downloaded;\n",
              "          }\n",
              "        }\n",
              "      }\n",
              "      const blob = new Blob(buffers, {type: 'application/binary'});\n",
              "      const a = document.createElement('a');\n",
              "      a.href = window.URL.createObjectURL(blob);\n",
              "      a.download = filename;\n",
              "      div.appendChild(a);\n",
              "      a.click();\n",
              "      div.remove();\n",
              "    }\n",
              "  "
            ]
          },
          "metadata": {}
        },
        {
          "output_type": "display_data",
          "data": {
            "text/plain": [
              "<IPython.core.display.Javascript object>"
            ],
            "application/javascript": [
              "download(\"download_a774794a-a679-4ae0-95a8-d4cc7c8a7e0b\", \"high_gap_vals_movies_eva_one_pop_two.pickle\", 384)"
            ]
          },
          "metadata": {}
        }
      ]
    },
    {
      "cell_type": "markdown",
      "metadata": {
        "id": "B1sngPaV_XU1"
      },
      "source": [
        "### G.2 Surprise"
      ]
    },
    {
      "cell_type": "code",
      "execution_count": null,
      "metadata": {
        "colab": {
          "base_uri": "https://localhost:8080/"
        },
        "id": "_f45Ksp6_CFA",
        "outputId": "51c6d4a7-973a-45ec-f6ac-aa3b9195b002"
      },
      "outputs": [
        {
          "name": "stdout",
          "output_type": "stream",
          "text": [
            "Min rating: 1\n",
            "Max rating: 5\n"
          ]
        }
      ],
      "source": [
        "print('Min rating: ' + str(df_events[predict_col].min()))\n",
        "print('Max rating: ' + str(df_events[predict_col].max()))"
      ]
    },
    {
      "cell_type": "code",
      "execution_count": null,
      "metadata": {
        "id": "AMzY-E7gVgbV"
      },
      "outputs": [],
      "source": [
        "for col in df_events.columns:\n",
        "  if (col!=\"user\") and (col!=predict_col) and (col!=item_col):\n",
        "    df_events_surprise = df_events.drop(col, axis=1)"
      ]
    },
    {
      "cell_type": "code",
      "execution_count": null,
      "metadata": {
        "colab": {
          "base_uri": "https://localhost:8080/",
          "height": 206
        },
        "id": "x0qFaqUvVw-m",
        "outputId": "e8ca4699-352b-4f8d-9d9b-748299254a2d"
      },
      "outputs": [
        {
          "data": {
            "text/html": [
              "\n",
              "  <div id=\"df-55c1a77c-2ade-4bc8-880f-fb97226c9e38\">\n",
              "    <div class=\"colab-df-container\">\n",
              "      <div>\n",
              "<style scoped>\n",
              "    .dataframe tbody tr th:only-of-type {\n",
              "        vertical-align: middle;\n",
              "    }\n",
              "\n",
              "    .dataframe tbody tr th {\n",
              "        vertical-align: top;\n",
              "    }\n",
              "\n",
              "    .dataframe thead th {\n",
              "        text-align: right;\n",
              "    }\n",
              "</style>\n",
              "<table border=\"1\" class=\"dataframe\">\n",
              "  <thead>\n",
              "    <tr style=\"text-align: right;\">\n",
              "      <th></th>\n",
              "      <th>user</th>\n",
              "      <th>movie</th>\n",
              "      <th>rating</th>\n",
              "    </tr>\n",
              "  </thead>\n",
              "  <tbody>\n",
              "    <tr>\n",
              "      <th>0</th>\n",
              "      <td>1</td>\n",
              "      <td>1193</td>\n",
              "      <td>5</td>\n",
              "    </tr>\n",
              "    <tr>\n",
              "      <th>1</th>\n",
              "      <td>1</td>\n",
              "      <td>661</td>\n",
              "      <td>3</td>\n",
              "    </tr>\n",
              "    <tr>\n",
              "      <th>2</th>\n",
              "      <td>1</td>\n",
              "      <td>914</td>\n",
              "      <td>3</td>\n",
              "    </tr>\n",
              "    <tr>\n",
              "      <th>3</th>\n",
              "      <td>1</td>\n",
              "      <td>3408</td>\n",
              "      <td>4</td>\n",
              "    </tr>\n",
              "    <tr>\n",
              "      <th>4</th>\n",
              "      <td>1</td>\n",
              "      <td>2355</td>\n",
              "      <td>5</td>\n",
              "    </tr>\n",
              "  </tbody>\n",
              "</table>\n",
              "</div>\n",
              "      <button class=\"colab-df-convert\" onclick=\"convertToInteractive('df-55c1a77c-2ade-4bc8-880f-fb97226c9e38')\"\n",
              "              title=\"Convert this dataframe to an interactive table.\"\n",
              "              style=\"display:none;\">\n",
              "        \n",
              "  <svg xmlns=\"http://www.w3.org/2000/svg\" height=\"24px\"viewBox=\"0 0 24 24\"\n",
              "       width=\"24px\">\n",
              "    <path d=\"M0 0h24v24H0V0z\" fill=\"none\"/>\n",
              "    <path d=\"M18.56 5.44l.94 2.06.94-2.06 2.06-.94-2.06-.94-.94-2.06-.94 2.06-2.06.94zm-11 1L8.5 8.5l.94-2.06 2.06-.94-2.06-.94L8.5 2.5l-.94 2.06-2.06.94zm10 10l.94 2.06.94-2.06 2.06-.94-2.06-.94-.94-2.06-.94 2.06-2.06.94z\"/><path d=\"M17.41 7.96l-1.37-1.37c-.4-.4-.92-.59-1.43-.59-.52 0-1.04.2-1.43.59L10.3 9.45l-7.72 7.72c-.78.78-.78 2.05 0 2.83L4 21.41c.39.39.9.59 1.41.59.51 0 1.02-.2 1.41-.59l7.78-7.78 2.81-2.81c.8-.78.8-2.07 0-2.86zM5.41 20L4 18.59l7.72-7.72 1.47 1.35L5.41 20z\"/>\n",
              "  </svg>\n",
              "      </button>\n",
              "      \n",
              "  <style>\n",
              "    .colab-df-container {\n",
              "      display:flex;\n",
              "      flex-wrap:wrap;\n",
              "      gap: 12px;\n",
              "    }\n",
              "\n",
              "    .colab-df-convert {\n",
              "      background-color: #E8F0FE;\n",
              "      border: none;\n",
              "      border-radius: 50%;\n",
              "      cursor: pointer;\n",
              "      display: none;\n",
              "      fill: #1967D2;\n",
              "      height: 32px;\n",
              "      padding: 0 0 0 0;\n",
              "      width: 32px;\n",
              "    }\n",
              "\n",
              "    .colab-df-convert:hover {\n",
              "      background-color: #E2EBFA;\n",
              "      box-shadow: 0px 1px 2px rgba(60, 64, 67, 0.3), 0px 1px 3px 1px rgba(60, 64, 67, 0.15);\n",
              "      fill: #174EA6;\n",
              "    }\n",
              "\n",
              "    [theme=dark] .colab-df-convert {\n",
              "      background-color: #3B4455;\n",
              "      fill: #D2E3FC;\n",
              "    }\n",
              "\n",
              "    [theme=dark] .colab-df-convert:hover {\n",
              "      background-color: #434B5C;\n",
              "      box-shadow: 0px 1px 3px 1px rgba(0, 0, 0, 0.15);\n",
              "      filter: drop-shadow(0px 1px 2px rgba(0, 0, 0, 0.3));\n",
              "      fill: #FFFFFF;\n",
              "    }\n",
              "  </style>\n",
              "\n",
              "      <script>\n",
              "        const buttonEl =\n",
              "          document.querySelector('#df-55c1a77c-2ade-4bc8-880f-fb97226c9e38 button.colab-df-convert');\n",
              "        buttonEl.style.display =\n",
              "          google.colab.kernel.accessAllowed ? 'block' : 'none';\n",
              "\n",
              "        async function convertToInteractive(key) {\n",
              "          const element = document.querySelector('#df-55c1a77c-2ade-4bc8-880f-fb97226c9e38');\n",
              "          const dataTable =\n",
              "            await google.colab.kernel.invokeFunction('convertToInteractive',\n",
              "                                                     [key], {});\n",
              "          if (!dataTable) return;\n",
              "\n",
              "          const docLinkHtml = 'Like what you see? Visit the ' +\n",
              "            '<a target=\"_blank\" href=https://colab.research.google.com/notebooks/data_table.ipynb>data table notebook</a>'\n",
              "            + ' to learn more about interactive tables.';\n",
              "          element.innerHTML = '';\n",
              "          dataTable['output_type'] = 'display_data';\n",
              "          await google.colab.output.renderOutput(dataTable, element);\n",
              "          const docLink = document.createElement('div');\n",
              "          docLink.innerHTML = docLinkHtml;\n",
              "          element.appendChild(docLink);\n",
              "        }\n",
              "      </script>\n",
              "    </div>\n",
              "  </div>\n",
              "  "
            ],
            "text/plain": [
              "   user  movie  rating\n",
              "0     1   1193       5\n",
              "1     1    661       3\n",
              "2     1    914       3\n",
              "3     1   3408       4\n",
              "4     1   2355       5"
            ]
          },
          "execution_count": 56,
          "metadata": {},
          "output_type": "execute_result"
        }
      ],
      "source": [
        "df_events_surprise.head()"
      ]
    },
    {
      "cell_type": "code",
      "execution_count": null,
      "metadata": {
        "id": "ak2RMcGPVyXL"
      },
      "outputs": [],
      "source": [
        "reader = SurpriseReader(rating_scale=(df_events_surprise[predict_col].min(), df_events_surprise[predict_col].max()))"
      ]
    },
    {
      "cell_type": "code",
      "execution_count": null,
      "metadata": {
        "id": "Ka3SfYSJWd9n"
      },
      "outputs": [],
      "source": [
        "data = Dataset.load_from_df(df_events_surprise, reader)"
      ]
    },
    {
      "cell_type": "code",
      "execution_count": null,
      "metadata": {
        "id": "q6HROFt9Wiet"
      },
      "outputs": [],
      "source": [
        "trainset, testset = train_test_split(data, test_size = test_size, random_state = my_seed)"
      ]
    },
    {
      "cell_type": "code",
      "execution_count": null,
      "metadata": {
        "colab": {
          "base_uri": "https://localhost:8080/"
        },
        "id": "Du33umn6WwMb",
        "outputId": "e2a1b2fd-ebdc-492b-92db-0ece98549372"
      },
      "outputs": [
        {
          "data": {
            "text/plain": [
              "6034"
            ]
          },
          "execution_count": 82,
          "metadata": {},
          "output_type": "execute_result"
        }
      ],
      "source": [
        "len(np.unique([x[0] for x in testset])) # EYSSSSS"
      ]
    },
    {
      "cell_type": "code",
      "execution_count": null,
      "metadata": {
        "id": "FCyw_cLraWki"
      },
      "outputs": [],
      "source": [
        "#%%\n",
        "def get_top_n(predictions, n=10):\n",
        "    # First map the predictions to each user.\n",
        "    top_n = defaultdict(list)\n",
        "    for uid, iid, true_r, est, _ in predictions:\n",
        "        top_n[uid].append((iid, est))\n",
        "    # Then sort the predictions for each user and retrieve the k highest ones.\n",
        "    for uid, user_ratings in top_n.items():\n",
        "        user_ratings.sort(key=lambda x: x[1], reverse=True)\n",
        "        top_n[uid] = user_ratings[:n]\n",
        "    return top_n\n",
        "\n",
        "def get_top_n_random(testset, item_dist, n=10):\n",
        "    top_n = defaultdict(list)\n",
        "    for uid, iid, true_r in testset:\n",
        "        if len(top_n[uid]) == 0:\n",
        "            for i in range(0, 10):\n",
        "                top_n[uid].append((rd.choice(item_dist.index), i))\n",
        "    return top_n\n",
        "\n",
        "\n",
        "\n",
        "def get_top_n_mp(testset, item_dist, n=10):\n",
        "    top_n = defaultdict(list)\n",
        "    for uid, iid, true_r in testset:\n",
        "        if len(top_n[uid]) == 0:\n",
        "            for iid, count in item_dist[:n].items():\n",
        "                top_n[uid].append((iid, count))\n",
        "    return top_n"
      ]
    },
    {
      "cell_type": "code",
      "execution_count": null,
      "metadata": {
        "colab": {
          "base_uri": "https://localhost:8080/"
        },
        "id": "LHOiA2NBXCJw",
        "outputId": "85557ca7-ce1e-4173-fcdc-59f05b0c3fe0"
      },
      "outputs": [
        {
          "name": "stdout",
          "output_type": "stream",
          "text": [
            "~~~~~~~~~~~~~~~~NEW~~~~~~~~~~~~~~~~~\n",
            "It took 22.0 seconds.\n",
            "~~~~~~~~~~~~~~~~NEW~~~~~~~~~~~~~~~~~\n",
            "It took 21.0 seconds.\n",
            "~~~~~~~~~~~~~~~~NEW~~~~~~~~~~~~~~~~~\n",
            "Estimating biases using als...\n",
            "UserItemAvg\n",
            "It took 30.0 seconds.\n",
            "~~~~~~~~~~~~~~~~NEW~~~~~~~~~~~~~~~~~\n",
            "Computing the cosine similarity matrix...\n",
            "Done computing similarity matrix.\n",
            "UserKNN\n",
            "It took 293.0 seconds.\n",
            "~~~~~~~~~~~~~~~~NEW~~~~~~~~~~~~~~~~~\n",
            "Computing the cosine similarity matrix...\n",
            "Done computing similarity matrix.\n",
            "UserKNNAvg\n",
            "It took 130.0 seconds.\n",
            "~~~~~~~~~~~~~~~~NEW~~~~~~~~~~~~~~~~~\n",
            "Computing the cosine similarity matrix...\n",
            "Done computing similarity matrix.\n",
            "NMF\n",
            "It took 288.0 seconds.\n",
            "~~~~~~~~~~~~~~~~NEW~~~~~~~~~~~~~~~~~\n",
            "SVDpp\n",
            "It took 92.0 seconds.\n"
          ]
        }
      ],
      "source": [
        "df_item_dist_surprise, low_rec_gap_list_surprise, medium_rec_gap_list_surprise, high_rec_gap_list_surprise = train_algorithms_surprise(df_item_dist, trainset, testset, item_dist, num_users, low, med, high)"
      ]
    },
    {
      "cell_type": "code",
      "execution_count": null,
      "metadata": {
        "id": "i7oSWAT_ZrvH"
      },
      "outputs": [],
      "source": [
        "def train_algorithms_surprise(df_item_dist, trainset, testset, item_dist, no_users, low_users, medium_users, high_users):\n",
        "    sim_users = {'name': 'cosine', 'user_based': True}  # compute cosine similarities between users\n",
        "    # είδος αποστασης=κοσαιν, ειδος κνν = χρηστη\n",
        "    algos = [] # Random and MostPopular is calculated by default\n",
        "    algos.append(None)#Random())\n",
        "    algos.append(None)#MostPopular())\n",
        "    algos.append(BaselineOnly()) #αυτο το UserItemAvg, τι ειναι?\n",
        "    algos.append(KNNBasic(sim_options = sim_users, k=40)) \n",
        "    algos.append(KNNBasic(sim_options = {'name': 'cosine', 'user_based': False}, k=40)) \n",
        "    algos.append(KNNWithMeans(sim_options = sim_users, k=40)) \n",
        "    algos.append(SurpriseNMF(n_factors = 15))\n",
        "    algos.append(SVDpp(n_factors = 15))\n",
        "    algo_names = ['Random',\n",
        "                  'MostPopular',\n",
        "                  'UserItemAvg',\n",
        "                  'UserKNN',\n",
        "                  #\"ItemKNN\",\n",
        "                  'UserKNNAvg',\n",
        "                  'NMF',\n",
        "                  'SVDpp']\n",
        "    \n",
        "    i = 0\n",
        "    low_rec_gap_list = [] # one entry per algorithmus\n",
        "    medium_rec_gap_list = []\n",
        "    high_rec_gap_list = []\n",
        "    start = time.time()\n",
        "    for i in range(0, len(algo_names)): #για καθε αλγοριθμο\n",
        "        print(\"~~~~~~~~~~~~~~~~NEW~~~~~~~~~~~~~~~~~\")\n",
        "        df_item_dist[algo_names[i]] = 0 #προσθετω στηλη στο ποπιουλαριτι για τον αλγοριθμο i \n",
        "        low_rec_gap = 0\n",
        "        medium_rec_gap = 0\n",
        "        high_rec_gap = 0\n",
        "        \n",
        "        # get accuracy for personalized approaches\n",
        "        if algo_names[i] != 'Random' and algo_names[i] != 'MostPopular': #για μη χαζους αλγοριθμους\n",
        "            algos[i].fit(trainset) #κανεις φιτ\n",
        "            predictions = algos[i].test(testset) #προβλεπεις\n",
        "            print(algo_names[i])#λες τελειωσε ο ταδε αλγοριθμος\n",
        "            #get_mae_of_groups(predictions, low_users, medium_users, high_users) #υπολογιζεις τα λαθη και τα τυπωνεις\n",
        "        \n",
        "        # get top-n items and calculate gaps for all algorithms\n",
        "        # κανεις προτασεις αναλογα τις προβλεψεις\n",
        "        if algo_names[i] == 'Random':\n",
        "            top_n = get_top_n_random(testset, item_dist, n=10)\n",
        "        elif algo_names[i] == 'MostPopular':\n",
        "            top_n = get_top_n_mp(testset, item_dist, n=10)\n",
        "        else:\n",
        "            top_n = get_top_n(predictions, n=10)\n",
        "        #υπολογιζεις τα gap\n",
        "        low_count = 0\n",
        "        med_count = 0\n",
        "        high_count = 0\n",
        "        for uid, user_ratings in top_n.items():\n",
        "            iid_list = []\n",
        "            for (iid, _) in user_ratings:\n",
        "                df_item_dist.loc[iid, algo_names[i]] += 1\n",
        "                iid_list.append(iid)\n",
        "            gap = sum(item_dist[iid_list] / no_users) / len(iid_list)\n",
        "            if uid in low_users.index:\n",
        "                low_rec_gap += gap\n",
        "                low_count += 1\n",
        "            elif uid in medium_users.index:\n",
        "                medium_rec_gap += gap\n",
        "                med_count += 1\n",
        "            elif uid in high_users.index:\n",
        "                high_rec_gap += gap\n",
        "                high_count += 1\n",
        "        low_rec_gap_list.append(low_rec_gap / low_count)\n",
        "        medium_rec_gap_list.append(medium_rec_gap / med_count)\n",
        "        high_rec_gap_list.append(high_rec_gap / high_count)\n",
        "        i += 1 # next algorithm\n",
        "        end = time.time()\n",
        "        print(\"It took \" + str(np.round(end-start)) + \" seconds.\")\n",
        "        start = time.time()\n",
        "    return df_item_dist, low_rec_gap_list, medium_rec_gap_list, high_rec_gap_list"
      ]
    },
    {
      "cell_type": "code",
      "execution_count": null,
      "metadata": {
        "id": "zOeOcxtxd2Ze"
      },
      "outputs": [],
      "source": [
        "#%%\n",
        "algo_names = ['Random',\n",
        "                  'MostPopular',\n",
        "                  'UserItemAvg',\n",
        "                  'UserKNN',\n",
        "                  #\"ItemKNN\",\n",
        "                  'UserKNNAvg',\n",
        "                  'NMF',\n",
        "                  'SVDpp']\n",
        "for alg in algo_names:\n",
        "    df_item_dist[alg] = df_item_dist[alg]/n_splits"
      ]
    },
    {
      "cell_type": "code",
      "execution_count": null,
      "metadata": {
        "colab": {
          "base_uri": "https://localhost:8080/",
          "height": 1000
        },
        "id": "ewkhCrcpd-nV",
        "outputId": "1a4617f0-6bbe-4120-ad25-f9e7b6971ec2"
      },
      "outputs": [
        {
          "data": {
            "image/png": "[encoded data removed]",
            "text/plain": [
              "<Figure size 360x288 with 1 Axes>"
            ]
          },
          "metadata": {},
          "output_type": "display_data"
        },
        {
          "data": {
            "image/png": "[encoded data removed]",
            "text/plain": [
              "<Figure size 360x288 with 1 Axes>"
            ]
          },
          "metadata": {},
          "output_type": "display_data"
        },
        {
          "data": {
            "image/png": "[encoded data removed]",
            "text/plain": [
              "<Figure size 360x288 with 1 Axes>"
            ]
          },
          "metadata": {},
          "output_type": "display_data"
        },
        {
          "data": {
            "image/png": "[encoded data removed]",
            "text/plain": [
              "<Figure size 360x288 with 1 Axes>"
            ]
          },
          "metadata": {},
          "output_type": "display_data"
        },
        {
          "data": {
            "image/png": "[encoded data removed]",
            "text/plain": [
              "<Figure size 360x288 with 1 Axes>"
            ]
          },
          "metadata": {},
          "output_type": "display_data"
        },
        {
          "data": {
            "image/png": "[encoded data removed]",
            "text/plain": [
              "<Figure size 360x288 with 1 Axes>"
            ]
          },
          "metadata": {},
          "output_type": "display_data"
        },
        {
          "data": {
            "image/png": "[encoded data removed]",
            "text/plain": [
              "<Figure size 360x288 with 1 Axes>"
            ]
          },
          "metadata": {},
          "output_type": "display_data"
        }
      ],
      "source": [
        "sns.set(rc = {'figure.figsize':(5,4)})\n",
        "for i in range(0, len(algo_names)):\n",
        "    plt.figure()\n",
        "    x = df_item_dist_surprise[\"count\"]\n",
        "    y = df_item_dist_surprise[algo_names[i]]\n",
        "\n",
        "    plt.plot(x, y, 'o')\n",
        "    plt.title(algo_names[i])\n",
        "    plt.xlabel('Book popularity', fontsize='15')\n",
        "    plt.ylabel('Recommendation frequency', fontsize='15')\n",
        "    plt.xticks(fontsize='13')\n",
        "    plt.yticks(fontsize='13')"
      ]
    },
    {
      "cell_type": "code",
      "execution_count": null,
      "metadata": {
        "id": "XrvrwmZ1ePBN"
      },
      "outputs": [],
      "source": [
        "low_gap_vals = []\n",
        "medium_gap_vals = []\n",
        "high_gap_vals = []\n",
        "\n",
        "for i in range(0, len(algo_names)):\n",
        "    low_gap_vals.append((low_rec_gap_list_surprise[i] - low_GAP) / low_GAP * 100)\n",
        "    medium_gap_vals.append((medium_rec_gap_list_surprise[i] - med_GAP) / med_GAP * 100)\n",
        "    high_gap_vals.append((high_rec_gap_list_surprise[i] - high_GAP) / high_GAP * 100)"
      ]
    },
    {
      "cell_type": "code",
      "execution_count": null,
      "metadata": {
        "colab": {
          "base_uri": "https://localhost:8080/",
          "height": 289
        },
        "id": "uw-Nx4Lxeq_G",
        "outputId": "3a824a46-dd58-47de-82a7-81a4db8d7cde"
      },
      "outputs": [
        {
          "data": {
            "image/png": "[encoded data removed]",
            "text/plain": [
              "<Figure size 576x288 with 1 Axes>"
            ]
          },
          "metadata": {},
          "output_type": "display_data"
        }
      ],
      "source": [
        "sns.set(rc = {'figure.figsize':(8,4)})\n",
        "\n",
        "# set width of bar\n",
        "barWidth = 0.07\n",
        "\n",
        "# set height of bar\n",
        "bars1 = [low_gap_vals[0], medium_gap_vals[0], high_gap_vals[0]]\n",
        "bars2 = [low_gap_vals[1], medium_gap_vals[1], high_gap_vals[1]]\n",
        "bars3 = [low_gap_vals[2], medium_gap_vals[2], high_gap_vals[2]]\n",
        "bars4 = [low_gap_vals[3], medium_gap_vals[3], high_gap_vals[3]]\n",
        "bars5 = [low_gap_vals[4], medium_gap_vals[4], high_gap_vals[4]]\n",
        "bars6 = [low_gap_vals[5], medium_gap_vals[5], high_gap_vals[5]]\n",
        "bars7 = [low_gap_vals[6], medium_gap_vals[6], high_gap_vals[6]]\n",
        "\n",
        "\n",
        "# Set position of bar on X axis\n",
        "r1 = np.arange(len(bars1))\n",
        "r2 = [x + barWidth for x in r1]\n",
        "r3 = [x + barWidth for x in r2]\n",
        "r4 = [x + barWidth for x in r3]\n",
        "r5 = [x + barWidth for x in r4]\n",
        "r6 = [x + barWidth for x in r5]\n",
        "r7 = [x + barWidth for x in r6]\n",
        "\n",
        "\n",
        "# algo_names = ['Random',\n",
        "#                   'MostPopular',\n",
        "#                   'UserItemAvg',\n",
        "#                   'UserKNN',\n",
        "#                   #\"ItemKNN\",\n",
        "#                   'UserKNNAvg',\n",
        "#                   'NMF',\n",
        "#                   'SVDpp']\n",
        "patterns = [ \"/\" , \"\\\\\" , \"|\" , \"-\" , \"+\" , \"x\", \"o\", \"O\", \".\", \"*\", \"--\"]\n",
        "# Make the plot\n",
        "plt.bar(r1, bars1, width=barWidth, label='Random', hatch=patterns[0])\n",
        "plt.bar(r2, bars2, width=barWidth, label='MostPop', hatch=patterns[1])\n",
        "plt.bar(r3, bars3, width=barWidth, label='UserItemAvg', hatch=patterns[2])\n",
        "plt.bar(r4, bars4, width=barWidth, label='UserKNN', hatch=patterns[3])\n",
        "plt.bar(r5, bars5, width=barWidth, label='UserKNNAvg', hatch=patterns[4])\n",
        "plt.bar(r6, bars6, width=barWidth, label='NMF', hatch=patterns[5])\n",
        "plt.bar(r7, bars7, width=barWidth, label='SVDpp', hatch=patterns[6])\n",
        "\n",
        "\n",
        "# Add xticks on the middle of the group bars + show legend\n",
        "plt.xlabel('User group', fontsize='14')\n",
        "plt.ylabel('% $\\Delta$ GAP', fontsize='14')\n",
        "plt.xticks([r + barWidth + 0.3 for r in range(len(bars1))], ['Niche', 'Diverse', 'BestSeller'], fontsize='13')\n",
        "plt.yticks(fontsize='10')\n",
        "plt.legend(bbox_to_anchor=(1.02, 1), loc=2, borderaxespad=0., framealpha=1, fontsize='12')\n",
        "plt.show()"
      ]
    },
    {
      "cell_type": "code",
      "execution_count": null,
      "metadata": {
        "id": "Y6Uez6s7fFkZ"
      },
      "outputs": [],
      "source": []
    }
  ],
  "metadata": {
    "colab": {
      "provenance": [],
      "authorship_tag": "ABX9TyN/Fr8X0oERGXc1X2QmtKul"
    },
    "kernelspec": {
      "display_name": "Python 3 (ipykernel)",
      "language": "python",
      "name": "python3"
    },
    "language_info": {
      "codemirror_mode": {
        "name": "ipython",
        "version": 3
      },
      "file_extension": ".py",
      "mimetype": "text/x-python",
      "name": "python",
      "nbconvert_exporter": "python",
      "pygments_lexer": "ipython3",
      "version": "3.9.12"
    },
    "widgets": {
      "application/vnd.jupyter.widget-state+json": {
        "bcef8830c3cd425ba7b58e53bca693ac": {
          "model_module": "@jupyter-widgets/controls",
          "model_name": "HBoxModel",
          "model_module_version": "1.5.0",
          "state": {
            "_dom_classes": [],
            "_model_module": "@jupyter-widgets/controls",
            "_model_module_version": "1.5.0",
            "_model_name": "HBoxModel",
            "_view_count": null,
            "_view_module": "@jupyter-widgets/controls",
            "_view_module_version": "1.5.0",
            "_view_name": "HBoxView",
            "box_style": "",
            "children": [
              "IPY_MODEL_c5fa06513e024101b0861bb1d8a5bd9b",
              "IPY_MODEL_01f4887f6eb1445b9f32d7b3da3fe3f3",
              "IPY_MODEL_2f47038411364c579b24095246d2499d"
            ],
            "layout": "IPY_MODEL_029a0e3eb44d4c09b75e1ef4eb8be607"
          }
        },
        "c5fa06513e024101b0861bb1d8a5bd9b": {
          "model_module": "@jupyter-widgets/controls",
          "model_name": "HTMLModel",
          "model_module_version": "1.5.0",
          "state": {
            "_dom_classes": [],
            "_model_module": "@jupyter-widgets/controls",
            "_model_module_version": "1.5.0",
            "_model_name": "HTMLModel",
            "_view_count": null,
            "_view_module": "@jupyter-widgets/controls",
            "_view_module_version": "1.5.0",
            "_view_name": "HTMLView",
            "description": "",
            "description_tooltip": null,
            "layout": "IPY_MODEL_bc5c1fa3cb9c496eb9b327dcf7417082",
            "placeholder": "​",
            "style": "IPY_MODEL_75e4430bebd444358e81995f2ec9b5bc",
            "value": "100%"
          }
        },
        "01f4887f6eb1445b9f32d7b3da3fe3f3": {
          "model_module": "@jupyter-widgets/controls",
          "model_name": "FloatProgressModel",
          "model_module_version": "1.5.0",
          "state": {
            "_dom_classes": [],
            "_model_module": "@jupyter-widgets/controls",
            "_model_module_version": "1.5.0",
            "_model_name": "FloatProgressModel",
            "_view_count": null,
            "_view_module": "@jupyter-widgets/controls",
            "_view_module_version": "1.5.0",
            "_view_name": "ProgressView",
            "bar_style": "success",
            "description": "",
            "description_tooltip": null,
            "layout": "IPY_MODEL_1a5a389cdfb9459cb0f354a66925a457",
            "max": 6040,
            "min": 0,
            "orientation": "horizontal",
            "style": "IPY_MODEL_78b183d6e8624da9b579ecad7cac54f0",
            "value": 6040
          }
        },
        "2f47038411364c579b24095246d2499d": {
          "model_module": "@jupyter-widgets/controls",
          "model_name": "HTMLModel",
          "model_module_version": "1.5.0",
          "state": {
            "_dom_classes": [],
            "_model_module": "@jupyter-widgets/controls",
            "_model_module_version": "1.5.0",
            "_model_name": "HTMLModel",
            "_view_count": null,
            "_view_module": "@jupyter-widgets/controls",
            "_view_module_version": "1.5.0",
            "_view_name": "HTMLView",
            "description": "",
            "description_tooltip": null,
            "layout": "IPY_MODEL_ab7bdaa33a7a4c66bfdf4760397bccaa",
            "placeholder": "​",
            "style": "IPY_MODEL_9a5bef0e06b048fb8f382a3ef5ca52ce",
            "value": " 6040/6040 [00:04&lt;00:00, 3122.84it/s]"
          }
        },
        "029a0e3eb44d4c09b75e1ef4eb8be607": {
          "model_module": "@jupyter-widgets/base",
          "model_name": "LayoutModel",
          "model_module_version": "1.2.0",
          "state": {
            "_model_module": "@jupyter-widgets/base",
            "_model_module_version": "1.2.0",
            "_model_name": "LayoutModel",
            "_view_count": null,
            "_view_module": "@jupyter-widgets/base",
            "_view_module_version": "1.2.0",
            "_view_name": "LayoutView",
            "align_content": null,
            "align_items": null,
            "align_self": null,
            "border": null,
            "bottom": null,
            "display": null,
            "flex": null,
            "flex_flow": null,
            "grid_area": null,
            "grid_auto_columns": null,
            "grid_auto_flow": null,
            "grid_auto_rows": null,
            "grid_column": null,
            "grid_gap": null,
            "grid_row": null,
            "grid_template_areas": null,
            "grid_template_columns": null,
            "grid_template_rows": null,
            "height": null,
            "justify_content": null,
            "justify_items": null,
            "left": null,
            "margin": null,
            "max_height": null,
            "max_width": null,
            "min_height": null,
            "min_width": null,
            "object_fit": null,
            "object_position": null,
            "order": null,
            "overflow": null,
            "overflow_x": null,
            "overflow_y": null,
            "padding": null,
            "right": null,
            "top": null,
            "visibility": null,
            "width": null
          }
        },
        "bc5c1fa3cb9c496eb9b327dcf7417082": {
          "model_module": "@jupyter-widgets/base",
          "model_name": "LayoutModel",
          "model_module_version": "1.2.0",
          "state": {
            "_model_module": "@jupyter-widgets/base",
            "_model_module_version": "1.2.0",
            "_model_name": "LayoutModel",
            "_view_count": null,
            "_view_module": "@jupyter-widgets/base",
            "_view_module_version": "1.2.0",
            "_view_name": "LayoutView",
            "align_content": null,
            "align_items": null,
            "align_self": null,
            "border": null,
            "bottom": null,
            "display": null,
            "flex": null,
            "flex_flow": null,
            "grid_area": null,
            "grid_auto_columns": null,
            "grid_auto_flow": null,
            "grid_auto_rows": null,
            "grid_column": null,
            "grid_gap": null,
            "grid_row": null,
            "grid_template_areas": null,
            "grid_template_columns": null,
            "grid_template_rows": null,
            "height": null,
            "justify_content": null,
            "justify_items": null,
            "left": null,
            "margin": null,
            "max_height": null,
            "max_width": null,
            "min_height": null,
            "min_width": null,
            "object_fit": null,
            "object_position": null,
            "order": null,
            "overflow": null,
            "overflow_x": null,
            "overflow_y": null,
            "padding": null,
            "right": null,
            "top": null,
            "visibility": null,
            "width": null
          }
        },
        "75e4430bebd444358e81995f2ec9b5bc": {
          "model_module": "@jupyter-widgets/controls",
          "model_name": "DescriptionStyleModel",
          "model_module_version": "1.5.0",
          "state": {
            "_model_module": "@jupyter-widgets/controls",
            "_model_module_version": "1.5.0",
            "_model_name": "DescriptionStyleModel",
            "_view_count": null,
            "_view_module": "@jupyter-widgets/base",
            "_view_module_version": "1.2.0",
            "_view_name": "StyleView",
            "description_width": ""
          }
        },
        "1a5a389cdfb9459cb0f354a66925a457": {
          "model_module": "@jupyter-widgets/base",
          "model_name": "LayoutModel",
          "model_module_version": "1.2.0",
          "state": {
            "_model_module": "@jupyter-widgets/base",
            "_model_module_version": "1.2.0",
            "_model_name": "LayoutModel",
            "_view_count": null,
            "_view_module": "@jupyter-widgets/base",
            "_view_module_version": "1.2.0",
            "_view_name": "LayoutView",
            "align_content": null,
            "align_items": null,
            "align_self": null,
            "border": null,
            "bottom": null,
            "display": null,
            "flex": null,
            "flex_flow": null,
            "grid_area": null,
            "grid_auto_columns": null,
            "grid_auto_flow": null,
            "grid_auto_rows": null,
            "grid_column": null,
            "grid_gap": null,
            "grid_row": null,
            "grid_template_areas": null,
            "grid_template_columns": null,
            "grid_template_rows": null,
            "height": null,
            "justify_content": null,
            "justify_items": null,
            "left": null,
            "margin": null,
            "max_height": null,
            "max_width": null,
            "min_height": null,
            "min_width": null,
            "object_fit": null,
            "object_position": null,
            "order": null,
            "overflow": null,
            "overflow_x": null,
            "overflow_y": null,
            "padding": null,
            "right": null,
            "top": null,
            "visibility": null,
            "width": null
          }
        },
        "78b183d6e8624da9b579ecad7cac54f0": {
          "model_module": "@jupyter-widgets/controls",
          "model_name": "ProgressStyleModel",
          "model_module_version": "1.5.0",
          "state": {
            "_model_module": "@jupyter-widgets/controls",
            "_model_module_version": "1.5.0",
            "_model_name": "ProgressStyleModel",
            "_view_count": null,
            "_view_module": "@jupyter-widgets/base",
            "_view_module_version": "1.2.0",
            "_view_name": "StyleView",
            "bar_color": null,
            "description_width": ""
          }
        },
        "ab7bdaa33a7a4c66bfdf4760397bccaa": {
          "model_module": "@jupyter-widgets/base",
          "model_name": "LayoutModel",
          "model_module_version": "1.2.0",
          "state": {
            "_model_module": "@jupyter-widgets/base",
            "_model_module_version": "1.2.0",
            "_model_name": "LayoutModel",
            "_view_count": null,
            "_view_module": "@jupyter-widgets/base",
            "_view_module_version": "1.2.0",
            "_view_name": "LayoutView",
            "align_content": null,
            "align_items": null,
            "align_self": null,
            "border": null,
            "bottom": null,
            "display": null,
            "flex": null,
            "flex_flow": null,
            "grid_area": null,
            "grid_auto_columns": null,
            "grid_auto_flow": null,
            "grid_auto_rows": null,
            "grid_column": null,
            "grid_gap": null,
            "grid_row": null,
            "grid_template_areas": null,
            "grid_template_columns": null,
            "grid_template_rows": null,
            "height": null,
            "justify_content": null,
            "justify_items": null,
            "left": null,
            "margin": null,
            "max_height": null,
            "max_width": null,
            "min_height": null,
            "min_width": null,
            "object_fit": null,
            "object_position": null,
            "order": null,
            "overflow": null,
            "overflow_x": null,
            "overflow_y": null,
            "padding": null,
            "right": null,
            "top": null,
            "visibility": null,
            "width": null
          }
        },
        "9a5bef0e06b048fb8f382a3ef5ca52ce": {
          "model_module": "@jupyter-widgets/controls",
          "model_name": "DescriptionStyleModel",
          "model_module_version": "1.5.0",
          "state": {
            "_model_module": "@jupyter-widgets/controls",
            "_model_module_version": "1.5.0",
            "_model_name": "DescriptionStyleModel",
            "_view_count": null,
            "_view_module": "@jupyter-widgets/base",
            "_view_module_version": "1.2.0",
            "_view_name": "StyleView",
            "description_width": ""
          }
        },
        "7103a66a14834f2fb82157217356a74b": {
          "model_module": "@jupyter-widgets/controls",
          "model_name": "HBoxModel",
          "model_module_version": "1.5.0",
          "state": {
            "_dom_classes": [],
            "_model_module": "@jupyter-widgets/controls",
            "_model_module_version": "1.5.0",
            "_model_name": "HBoxModel",
            "_view_count": null,
            "_view_module": "@jupyter-widgets/controls",
            "_view_module_version": "1.5.0",
            "_view_name": "HBoxView",
            "box_style": "",
            "children": [
              "IPY_MODEL_1d88982e16eb4263a01243a846777b7f",
              "IPY_MODEL_86377d5d85664b05875188a68fffe603",
              "IPY_MODEL_9fa91746f3174882b6b938597cdb17c5"
            ],
            "layout": "IPY_MODEL_eee9c3137c314cba8bdc2753c232c924"
          }
        },
        "1d88982e16eb4263a01243a846777b7f": {
          "model_module": "@jupyter-widgets/controls",
          "model_name": "HTMLModel",
          "model_module_version": "1.5.0",
          "state": {
            "_dom_classes": [],
            "_model_module": "@jupyter-widgets/controls",
            "_model_module_version": "1.5.0",
            "_model_name": "HTMLModel",
            "_view_count": null,
            "_view_module": "@jupyter-widgets/controls",
            "_view_module_version": "1.5.0",
            "_view_name": "HTMLView",
            "description": "",
            "description_tooltip": null,
            "layout": "IPY_MODEL_8ba47c1b57bd422cb7d4df7baa470849",
            "placeholder": "​",
            "style": "IPY_MODEL_3d98d2a50afe49379dbc6e8c92bf662f",
            "value": "100%"
          }
        },
        "86377d5d85664b05875188a68fffe603": {
          "model_module": "@jupyter-widgets/controls",
          "model_name": "FloatProgressModel",
          "model_module_version": "1.5.0",
          "state": {
            "_dom_classes": [],
            "_model_module": "@jupyter-widgets/controls",
            "_model_module_version": "1.5.0",
            "_model_name": "FloatProgressModel",
            "_view_count": null,
            "_view_module": "@jupyter-widgets/controls",
            "_view_module_version": "1.5.0",
            "_view_name": "ProgressView",
            "bar_style": "success",
            "description": "",
            "description_tooltip": null,
            "layout": "IPY_MODEL_664095b615f041df8608183e37e3befa",
            "max": 3679,
            "min": 0,
            "orientation": "horizontal",
            "style": "IPY_MODEL_092eeab3c5f942aeb1c794b0ad9b03ca",
            "value": 3679
          }
        },
        "9fa91746f3174882b6b938597cdb17c5": {
          "model_module": "@jupyter-widgets/controls",
          "model_name": "HTMLModel",
          "model_module_version": "1.5.0",
          "state": {
            "_dom_classes": [],
            "_model_module": "@jupyter-widgets/controls",
            "_model_module_version": "1.5.0",
            "_model_name": "HTMLModel",
            "_view_count": null,
            "_view_module": "@jupyter-widgets/controls",
            "_view_module_version": "1.5.0",
            "_view_name": "HTMLView",
            "description": "",
            "description_tooltip": null,
            "layout": "IPY_MODEL_85a91df8492e410ab63982512a700799",
            "placeholder": "​",
            "style": "IPY_MODEL_1d91a76319e544918b59427675ad9544",
            "value": " 3679/3679 [00:01&lt;00:00, 3601.87it/s]"
          }
        },
        "eee9c3137c314cba8bdc2753c232c924": {
          "model_module": "@jupyter-widgets/base",
          "model_name": "LayoutModel",
          "model_module_version": "1.2.0",
          "state": {
            "_model_module": "@jupyter-widgets/base",
            "_model_module_version": "1.2.0",
            "_model_name": "LayoutModel",
            "_view_count": null,
            "_view_module": "@jupyter-widgets/base",
            "_view_module_version": "1.2.0",
            "_view_name": "LayoutView",
            "align_content": null,
            "align_items": null,
            "align_self": null,
            "border": null,
            "bottom": null,
            "display": null,
            "flex": null,
            "flex_flow": null,
            "grid_area": null,
            "grid_auto_columns": null,
            "grid_auto_flow": null,
            "grid_auto_rows": null,
            "grid_column": null,
            "grid_gap": null,
            "grid_row": null,
            "grid_template_areas": null,
            "grid_template_columns": null,
            "grid_template_rows": null,
            "height": null,
            "justify_content": null,
            "justify_items": null,
            "left": null,
            "margin": null,
            "max_height": null,
            "max_width": null,
            "min_height": null,
            "min_width": null,
            "object_fit": null,
            "object_position": null,
            "order": null,
            "overflow": null,
            "overflow_x": null,
            "overflow_y": null,
            "padding": null,
            "right": null,
            "top": null,
            "visibility": null,
            "width": null
          }
        },
        "8ba47c1b57bd422cb7d4df7baa470849": {
          "model_module": "@jupyter-widgets/base",
          "model_name": "LayoutModel",
          "model_module_version": "1.2.0",
          "state": {
            "_model_module": "@jupyter-widgets/base",
            "_model_module_version": "1.2.0",
            "_model_name": "LayoutModel",
            "_view_count": null,
            "_view_module": "@jupyter-widgets/base",
            "_view_module_version": "1.2.0",
            "_view_name": "LayoutView",
            "align_content": null,
            "align_items": null,
            "align_self": null,
            "border": null,
            "bottom": null,
            "display": null,
            "flex": null,
            "flex_flow": null,
            "grid_area": null,
            "grid_auto_columns": null,
            "grid_auto_flow": null,
            "grid_auto_rows": null,
            "grid_column": null,
            "grid_gap": null,
            "grid_row": null,
            "grid_template_areas": null,
            "grid_template_columns": null,
            "grid_template_rows": null,
            "height": null,
            "justify_content": null,
            "justify_items": null,
            "left": null,
            "margin": null,
            "max_height": null,
            "max_width": null,
            "min_height": null,
            "min_width": null,
            "object_fit": null,
            "object_position": null,
            "order": null,
            "overflow": null,
            "overflow_x": null,
            "overflow_y": null,
            "padding": null,
            "right": null,
            "top": null,
            "visibility": null,
            "width": null
          }
        },
        "3d98d2a50afe49379dbc6e8c92bf662f": {
          "model_module": "@jupyter-widgets/controls",
          "model_name": "DescriptionStyleModel",
          "model_module_version": "1.5.0",
          "state": {
            "_model_module": "@jupyter-widgets/controls",
            "_model_module_version": "1.5.0",
            "_model_name": "DescriptionStyleModel",
            "_view_count": null,
            "_view_module": "@jupyter-widgets/base",
            "_view_module_version": "1.2.0",
            "_view_name": "StyleView",
            "description_width": ""
          }
        },
        "664095b615f041df8608183e37e3befa": {
          "model_module": "@jupyter-widgets/base",
          "model_name": "LayoutModel",
          "model_module_version": "1.2.0",
          "state": {
            "_model_module": "@jupyter-widgets/base",
            "_model_module_version": "1.2.0",
            "_model_name": "LayoutModel",
            "_view_count": null,
            "_view_module": "@jupyter-widgets/base",
            "_view_module_version": "1.2.0",
            "_view_name": "LayoutView",
            "align_content": null,
            "align_items": null,
            "align_self": null,
            "border": null,
            "bottom": null,
            "display": null,
            "flex": null,
            "flex_flow": null,
            "grid_area": null,
            "grid_auto_columns": null,
            "grid_auto_flow": null,
            "grid_auto_rows": null,
            "grid_column": null,
            "grid_gap": null,
            "grid_row": null,
            "grid_template_areas": null,
            "grid_template_columns": null,
            "grid_template_rows": null,
            "height": null,
            "justify_content": null,
            "justify_items": null,
            "left": null,
            "margin": null,
            "max_height": null,
            "max_width": null,
            "min_height": null,
            "min_width": null,
            "object_fit": null,
            "object_position": null,
            "order": null,
            "overflow": null,
            "overflow_x": null,
            "overflow_y": null,
            "padding": null,
            "right": null,
            "top": null,
            "visibility": null,
            "width": null
          }
        },
        "092eeab3c5f942aeb1c794b0ad9b03ca": {
          "model_module": "@jupyter-widgets/controls",
          "model_name": "ProgressStyleModel",
          "model_module_version": "1.5.0",
          "state": {
            "_model_module": "@jupyter-widgets/controls",
            "_model_module_version": "1.5.0",
            "_model_name": "ProgressStyleModel",
            "_view_count": null,
            "_view_module": "@jupyter-widgets/base",
            "_view_module_version": "1.2.0",
            "_view_name": "StyleView",
            "bar_color": null,
            "description_width": ""
          }
        },
        "85a91df8492e410ab63982512a700799": {
          "model_module": "@jupyter-widgets/base",
          "model_name": "LayoutModel",
          "model_module_version": "1.2.0",
          "state": {
            "_model_module": "@jupyter-widgets/base",
            "_model_module_version": "1.2.0",
            "_model_name": "LayoutModel",
            "_view_count": null,
            "_view_module": "@jupyter-widgets/base",
            "_view_module_version": "1.2.0",
            "_view_name": "LayoutView",
            "align_content": null,
            "align_items": null,
            "align_self": null,
            "border": null,
            "bottom": null,
            "display": null,
            "flex": null,
            "flex_flow": null,
            "grid_area": null,
            "grid_auto_columns": null,
            "grid_auto_flow": null,
            "grid_auto_rows": null,
            "grid_column": null,
            "grid_gap": null,
            "grid_row": null,
            "grid_template_areas": null,
            "grid_template_columns": null,
            "grid_template_rows": null,
            "height": null,
            "justify_content": null,
            "justify_items": null,
            "left": null,
            "margin": null,
            "max_height": null,
            "max_width": null,
            "min_height": null,
            "min_width": null,
            "object_fit": null,
            "object_position": null,
            "order": null,
            "overflow": null,
            "overflow_x": null,
            "overflow_y": null,
            "padding": null,
            "right": null,
            "top": null,
            "visibility": null,
            "width": null
          }
        },
        "1d91a76319e544918b59427675ad9544": {
          "model_module": "@jupyter-widgets/controls",
          "model_name": "DescriptionStyleModel",
          "model_module_version": "1.5.0",
          "state": {
            "_model_module": "@jupyter-widgets/controls",
            "_model_module_version": "1.5.0",
            "_model_name": "DescriptionStyleModel",
            "_view_count": null,
            "_view_module": "@jupyter-widgets/base",
            "_view_module_version": "1.2.0",
            "_view_name": "StyleView",
            "description_width": ""
          }
        },
        "ca34e9e94f8f42d5b65ba987fd1b490b": {
          "model_module": "@jupyter-widgets/controls",
          "model_name": "HBoxModel",
          "model_module_version": "1.5.0",
          "state": {
            "_dom_classes": [],
            "_model_module": "@jupyter-widgets/controls",
            "_model_module_version": "1.5.0",
            "_model_name": "HBoxModel",
            "_view_count": null,
            "_view_module": "@jupyter-widgets/controls",
            "_view_module_version": "1.5.0",
            "_view_name": "HBoxView",
            "box_style": "",
            "children": [
              "IPY_MODEL_64a4d4f994634ec4a022131ca7252511",
              "IPY_MODEL_6ad67b2d49dc42fb8a4c0391e862a515",
              "IPY_MODEL_6a64009b757442dda2b7586ec47a3a0f"
            ],
            "layout": "IPY_MODEL_a2253efe3c6b470987a51ff0bd287a5a"
          }
        },
        "64a4d4f994634ec4a022131ca7252511": {
          "model_module": "@jupyter-widgets/controls",
          "model_name": "HTMLModel",
          "model_module_version": "1.5.0",
          "state": {
            "_dom_classes": [],
            "_model_module": "@jupyter-widgets/controls",
            "_model_module_version": "1.5.0",
            "_model_name": "HTMLModel",
            "_view_count": null,
            "_view_module": "@jupyter-widgets/controls",
            "_view_module_version": "1.5.0",
            "_view_name": "HTMLView",
            "description": "",
            "description_tooltip": null,
            "layout": "IPY_MODEL_e37459febaa64583bd41d8278a55249e",
            "placeholder": "​",
            "style": "IPY_MODEL_77fd36ad644348d781cf74cad0c669c7",
            "value": "100%"
          }
        },
        "6ad67b2d49dc42fb8a4c0391e862a515": {
          "model_module": "@jupyter-widgets/controls",
          "model_name": "FloatProgressModel",
          "model_module_version": "1.5.0",
          "state": {
            "_dom_classes": [],
            "_model_module": "@jupyter-widgets/controls",
            "_model_module_version": "1.5.0",
            "_model_name": "FloatProgressModel",
            "_view_count": null,
            "_view_module": "@jupyter-widgets/controls",
            "_view_module_version": "1.5.0",
            "_view_name": "ProgressView",
            "bar_style": "success",
            "description": "",
            "description_tooltip": null,
            "layout": "IPY_MODEL_f936a854bb804531b5ec246408fa7b43",
            "max": 6040,
            "min": 0,
            "orientation": "horizontal",
            "style": "IPY_MODEL_38352bfde9d943a2bc8887552a9ceb7d",
            "value": 6040
          }
        },
        "6a64009b757442dda2b7586ec47a3a0f": {
          "model_module": "@jupyter-widgets/controls",
          "model_name": "HTMLModel",
          "model_module_version": "1.5.0",
          "state": {
            "_dom_classes": [],
            "_model_module": "@jupyter-widgets/controls",
            "_model_module_version": "1.5.0",
            "_model_name": "HTMLModel",
            "_view_count": null,
            "_view_module": "@jupyter-widgets/controls",
            "_view_module_version": "1.5.0",
            "_view_name": "HTMLView",
            "description": "",
            "description_tooltip": null,
            "layout": "IPY_MODEL_20830a91c3fc4c70bca275d190b6bf7a",
            "placeholder": "​",
            "style": "IPY_MODEL_5e60ca47b0a246c3b17bcf2feb19cabc",
            "value": " 6040/6040 [00:05&lt;00:00, 1261.92it/s]"
          }
        },
        "a2253efe3c6b470987a51ff0bd287a5a": {
          "model_module": "@jupyter-widgets/base",
          "model_name": "LayoutModel",
          "model_module_version": "1.2.0",
          "state": {
            "_model_module": "@jupyter-widgets/base",
            "_model_module_version": "1.2.0",
            "_model_name": "LayoutModel",
            "_view_count": null,
            "_view_module": "@jupyter-widgets/base",
            "_view_module_version": "1.2.0",
            "_view_name": "LayoutView",
            "align_content": null,
            "align_items": null,
            "align_self": null,
            "border": null,
            "bottom": null,
            "display": null,
            "flex": null,
            "flex_flow": null,
            "grid_area": null,
            "grid_auto_columns": null,
            "grid_auto_flow": null,
            "grid_auto_rows": null,
            "grid_column": null,
            "grid_gap": null,
            "grid_row": null,
            "grid_template_areas": null,
            "grid_template_columns": null,
            "grid_template_rows": null,
            "height": null,
            "justify_content": null,
            "justify_items": null,
            "left": null,
            "margin": null,
            "max_height": null,
            "max_width": null,
            "min_height": null,
            "min_width": null,
            "object_fit": null,
            "object_position": null,
            "order": null,
            "overflow": null,
            "overflow_x": null,
            "overflow_y": null,
            "padding": null,
            "right": null,
            "top": null,
            "visibility": null,
            "width": null
          }
        },
        "e37459febaa64583bd41d8278a55249e": {
          "model_module": "@jupyter-widgets/base",
          "model_name": "LayoutModel",
          "model_module_version": "1.2.0",
          "state": {
            "_model_module": "@jupyter-widgets/base",
            "_model_module_version": "1.2.0",
            "_model_name": "LayoutModel",
            "_view_count": null,
            "_view_module": "@jupyter-widgets/base",
            "_view_module_version": "1.2.0",
            "_view_name": "LayoutView",
            "align_content": null,
            "align_items": null,
            "align_self": null,
            "border": null,
            "bottom": null,
            "display": null,
            "flex": null,
            "flex_flow": null,
            "grid_area": null,
            "grid_auto_columns": null,
            "grid_auto_flow": null,
            "grid_auto_rows": null,
            "grid_column": null,
            "grid_gap": null,
            "grid_row": null,
            "grid_template_areas": null,
            "grid_template_columns": null,
            "grid_template_rows": null,
            "height": null,
            "justify_content": null,
            "justify_items": null,
            "left": null,
            "margin": null,
            "max_height": null,
            "max_width": null,
            "min_height": null,
            "min_width": null,
            "object_fit": null,
            "object_position": null,
            "order": null,
            "overflow": null,
            "overflow_x": null,
            "overflow_y": null,
            "padding": null,
            "right": null,
            "top": null,
            "visibility": null,
            "width": null
          }
        },
        "77fd36ad644348d781cf74cad0c669c7": {
          "model_module": "@jupyter-widgets/controls",
          "model_name": "DescriptionStyleModel",
          "model_module_version": "1.5.0",
          "state": {
            "_model_module": "@jupyter-widgets/controls",
            "_model_module_version": "1.5.0",
            "_model_name": "DescriptionStyleModel",
            "_view_count": null,
            "_view_module": "@jupyter-widgets/base",
            "_view_module_version": "1.2.0",
            "_view_name": "StyleView",
            "description_width": ""
          }
        },
        "f936a854bb804531b5ec246408fa7b43": {
          "model_module": "@jupyter-widgets/base",
          "model_name": "LayoutModel",
          "model_module_version": "1.2.0",
          "state": {
            "_model_module": "@jupyter-widgets/base",
            "_model_module_version": "1.2.0",
            "_model_name": "LayoutModel",
            "_view_count": null,
            "_view_module": "@jupyter-widgets/base",
            "_view_module_version": "1.2.0",
            "_view_name": "LayoutView",
            "align_content": null,
            "align_items": null,
            "align_self": null,
            "border": null,
            "bottom": null,
            "display": null,
            "flex": null,
            "flex_flow": null,
            "grid_area": null,
            "grid_auto_columns": null,
            "grid_auto_flow": null,
            "grid_auto_rows": null,
            "grid_column": null,
            "grid_gap": null,
            "grid_row": null,
            "grid_template_areas": null,
            "grid_template_columns": null,
            "grid_template_rows": null,
            "height": null,
            "justify_content": null,
            "justify_items": null,
            "left": null,
            "margin": null,
            "max_height": null,
            "max_width": null,
            "min_height": null,
            "min_width": null,
            "object_fit": null,
            "object_position": null,
            "order": null,
            "overflow": null,
            "overflow_x": null,
            "overflow_y": null,
            "padding": null,
            "right": null,
            "top": null,
            "visibility": null,
            "width": null
          }
        },
        "38352bfde9d943a2bc8887552a9ceb7d": {
          "model_module": "@jupyter-widgets/controls",
          "model_name": "ProgressStyleModel",
          "model_module_version": "1.5.0",
          "state": {
            "_model_module": "@jupyter-widgets/controls",
            "_model_module_version": "1.5.0",
            "_model_name": "ProgressStyleModel",
            "_view_count": null,
            "_view_module": "@jupyter-widgets/base",
            "_view_module_version": "1.2.0",
            "_view_name": "StyleView",
            "bar_color": null,
            "description_width": ""
          }
        },
        "20830a91c3fc4c70bca275d190b6bf7a": {
          "model_module": "@jupyter-widgets/base",
          "model_name": "LayoutModel",
          "model_module_version": "1.2.0",
          "state": {
            "_model_module": "@jupyter-widgets/base",
            "_model_module_version": "1.2.0",
            "_model_name": "LayoutModel",
            "_view_count": null,
            "_view_module": "@jupyter-widgets/base",
            "_view_module_version": "1.2.0",
            "_view_name": "LayoutView",
            "align_content": null,
            "align_items": null,
            "align_self": null,
            "border": null,
            "bottom": null,
            "display": null,
            "flex": null,
            "flex_flow": null,
            "grid_area": null,
            "grid_auto_columns": null,
            "grid_auto_flow": null,
            "grid_auto_rows": null,
            "grid_column": null,
            "grid_gap": null,
            "grid_row": null,
            "grid_template_areas": null,
            "grid_template_columns": null,
            "grid_template_rows": null,
            "height": null,
            "justify_content": null,
            "justify_items": null,
            "left": null,
            "margin": null,
            "max_height": null,
            "max_width": null,
            "min_height": null,
            "min_width": null,
            "object_fit": null,
            "object_position": null,
            "order": null,
            "overflow": null,
            "overflow_x": null,
            "overflow_y": null,
            "padding": null,
            "right": null,
            "top": null,
            "visibility": null,
            "width": null
          }
        },
        "5e60ca47b0a246c3b17bcf2feb19cabc": {
          "model_module": "@jupyter-widgets/controls",
          "model_name": "DescriptionStyleModel",
          "model_module_version": "1.5.0",
          "state": {
            "_model_module": "@jupyter-widgets/controls",
            "_model_module_version": "1.5.0",
            "_model_name": "DescriptionStyleModel",
            "_view_count": null,
            "_view_module": "@jupyter-widgets/base",
            "_view_module_version": "1.2.0",
            "_view_name": "StyleView",
            "description_width": ""
          }
        },
        "49d5fda2e51b45e595530b1f448fbb76": {
          "model_module": "@jupyter-widgets/controls",
          "model_name": "HBoxModel",
          "model_module_version": "1.5.0",
          "state": {
            "_dom_classes": [],
            "_model_module": "@jupyter-widgets/controls",
            "_model_module_version": "1.5.0",
            "_model_name": "HBoxModel",
            "_view_count": null,
            "_view_module": "@jupyter-widgets/controls",
            "_view_module_version": "1.5.0",
            "_view_name": "HBoxView",
            "box_style": "",
            "children": [
              "IPY_MODEL_32906bb6b3254690927bcda646418673",
              "IPY_MODEL_7c682be272da40839bc0a386e7d8bf19",
              "IPY_MODEL_de05aad3ae9d448db9073b9958968141"
            ],
            "layout": "IPY_MODEL_2e938fa2bb77495f9f95a6c9143ff2f6"
          }
        },
        "32906bb6b3254690927bcda646418673": {
          "model_module": "@jupyter-widgets/controls",
          "model_name": "HTMLModel",
          "model_module_version": "1.5.0",
          "state": {
            "_dom_classes": [],
            "_model_module": "@jupyter-widgets/controls",
            "_model_module_version": "1.5.0",
            "_model_name": "HTMLModel",
            "_view_count": null,
            "_view_module": "@jupyter-widgets/controls",
            "_view_module_version": "1.5.0",
            "_view_name": "HTMLView",
            "description": "",
            "description_tooltip": null,
            "layout": "IPY_MODEL_9c0c08b390904cdd8bf0c7ffa7cdf86f",
            "placeholder": "​",
            "style": "IPY_MODEL_e9182b595882406dafa6cd8a6eda6e7e",
            "value": "100%"
          }
        },
        "7c682be272da40839bc0a386e7d8bf19": {
          "model_module": "@jupyter-widgets/controls",
          "model_name": "FloatProgressModel",
          "model_module_version": "1.5.0",
          "state": {
            "_dom_classes": [],
            "_model_module": "@jupyter-widgets/controls",
            "_model_module_version": "1.5.0",
            "_model_name": "FloatProgressModel",
            "_view_count": null,
            "_view_module": "@jupyter-widgets/controls",
            "_view_module_version": "1.5.0",
            "_view_name": "ProgressView",
            "bar_style": "success",
            "description": "",
            "description_tooltip": null,
            "layout": "IPY_MODEL_a64e078612f94a2e9ede50e976dd7ffe",
            "max": 200,
            "min": 0,
            "orientation": "horizontal",
            "style": "IPY_MODEL_4e20d46e224641d2bd080db6f6f919a6",
            "value": 200
          }
        },
        "de05aad3ae9d448db9073b9958968141": {
          "model_module": "@jupyter-widgets/controls",
          "model_name": "HTMLModel",
          "model_module_version": "1.5.0",
          "state": {
            "_dom_classes": [],
            "_model_module": "@jupyter-widgets/controls",
            "_model_module_version": "1.5.0",
            "_model_name": "HTMLModel",
            "_view_count": null,
            "_view_module": "@jupyter-widgets/controls",
            "_view_module_version": "1.5.0",
            "_view_name": "HTMLView",
            "description": "",
            "description_tooltip": null,
            "layout": "IPY_MODEL_304a716ae7534ca098eef537caf90ee5",
            "placeholder": "​",
            "style": "IPY_MODEL_593261807485492bacafc493433f9e12",
            "value": " 200/200 [01:09&lt;00:00,  2.99it/s, correct=87.23%, skipped=8.45%]"
          }
        },
        "2e938fa2bb77495f9f95a6c9143ff2f6": {
          "model_module": "@jupyter-widgets/base",
          "model_name": "LayoutModel",
          "model_module_version": "1.2.0",
          "state": {
            "_model_module": "@jupyter-widgets/base",
            "_model_module_version": "1.2.0",
            "_model_name": "LayoutModel",
            "_view_count": null,
            "_view_module": "@jupyter-widgets/base",
            "_view_module_version": "1.2.0",
            "_view_name": "LayoutView",
            "align_content": null,
            "align_items": null,
            "align_self": null,
            "border": null,
            "bottom": null,
            "display": null,
            "flex": null,
            "flex_flow": null,
            "grid_area": null,
            "grid_auto_columns": null,
            "grid_auto_flow": null,
            "grid_auto_rows": null,
            "grid_column": null,
            "grid_gap": null,
            "grid_row": null,
            "grid_template_areas": null,
            "grid_template_columns": null,
            "grid_template_rows": null,
            "height": null,
            "justify_content": null,
            "justify_items": null,
            "left": null,
            "margin": null,
            "max_height": null,
            "max_width": null,
            "min_height": null,
            "min_width": null,
            "object_fit": null,
            "object_position": null,
            "order": null,
            "overflow": null,
            "overflow_x": null,
            "overflow_y": null,
            "padding": null,
            "right": null,
            "top": null,
            "visibility": null,
            "width": null
          }
        },
        "9c0c08b390904cdd8bf0c7ffa7cdf86f": {
          "model_module": "@jupyter-widgets/base",
          "model_name": "LayoutModel",
          "model_module_version": "1.2.0",
          "state": {
            "_model_module": "@jupyter-widgets/base",
            "_model_module_version": "1.2.0",
            "_model_name": "LayoutModel",
            "_view_count": null,
            "_view_module": "@jupyter-widgets/base",
            "_view_module_version": "1.2.0",
            "_view_name": "LayoutView",
            "align_content": null,
            "align_items": null,
            "align_self": null,
            "border": null,
            "bottom": null,
            "display": null,
            "flex": null,
            "flex_flow": null,
            "grid_area": null,
            "grid_auto_columns": null,
            "grid_auto_flow": null,
            "grid_auto_rows": null,
            "grid_column": null,
            "grid_gap": null,
            "grid_row": null,
            "grid_template_areas": null,
            "grid_template_columns": null,
            "grid_template_rows": null,
            "height": null,
            "justify_content": null,
            "justify_items": null,
            "left": null,
            "margin": null,
            "max_height": null,
            "max_width": null,
            "min_height": null,
            "min_width": null,
            "object_fit": null,
            "object_position": null,
            "order": null,
            "overflow": null,
            "overflow_x": null,
            "overflow_y": null,
            "padding": null,
            "right": null,
            "top": null,
            "visibility": null,
            "width": null
          }
        },
        "e9182b595882406dafa6cd8a6eda6e7e": {
          "model_module": "@jupyter-widgets/controls",
          "model_name": "DescriptionStyleModel",
          "model_module_version": "1.5.0",
          "state": {
            "_model_module": "@jupyter-widgets/controls",
            "_model_module_version": "1.5.0",
            "_model_name": "DescriptionStyleModel",
            "_view_count": null,
            "_view_module": "@jupyter-widgets/base",
            "_view_module_version": "1.2.0",
            "_view_name": "StyleView",
            "description_width": ""
          }
        },
        "a64e078612f94a2e9ede50e976dd7ffe": {
          "model_module": "@jupyter-widgets/base",
          "model_name": "LayoutModel",
          "model_module_version": "1.2.0",
          "state": {
            "_model_module": "@jupyter-widgets/base",
            "_model_module_version": "1.2.0",
            "_model_name": "LayoutModel",
            "_view_count": null,
            "_view_module": "@jupyter-widgets/base",
            "_view_module_version": "1.2.0",
            "_view_name": "LayoutView",
            "align_content": null,
            "align_items": null,
            "align_self": null,
            "border": null,
            "bottom": null,
            "display": null,
            "flex": null,
            "flex_flow": null,
            "grid_area": null,
            "grid_auto_columns": null,
            "grid_auto_flow": null,
            "grid_auto_rows": null,
            "grid_column": null,
            "grid_gap": null,
            "grid_row": null,
            "grid_template_areas": null,
            "grid_template_columns": null,
            "grid_template_rows": null,
            "height": null,
            "justify_content": null,
            "justify_items": null,
            "left": null,
            "margin": null,
            "max_height": null,
            "max_width": null,
            "min_height": null,
            "min_width": null,
            "object_fit": null,
            "object_position": null,
            "order": null,
            "overflow": null,
            "overflow_x": null,
            "overflow_y": null,
            "padding": null,
            "right": null,
            "top": null,
            "visibility": null,
            "width": null
          }
        },
        "4e20d46e224641d2bd080db6f6f919a6": {
          "model_module": "@jupyter-widgets/controls",
          "model_name": "ProgressStyleModel",
          "model_module_version": "1.5.0",
          "state": {
            "_model_module": "@jupyter-widgets/controls",
            "_model_module_version": "1.5.0",
            "_model_name": "ProgressStyleModel",
            "_view_count": null,
            "_view_module": "@jupyter-widgets/base",
            "_view_module_version": "1.2.0",
            "_view_name": "StyleView",
            "bar_color": null,
            "description_width": ""
          }
        },
        "304a716ae7534ca098eef537caf90ee5": {
          "model_module": "@jupyter-widgets/base",
          "model_name": "LayoutModel",
          "model_module_version": "1.2.0",
          "state": {
            "_model_module": "@jupyter-widgets/base",
            "_model_module_version": "1.2.0",
            "_model_name": "LayoutModel",
            "_view_count": null,
            "_view_module": "@jupyter-widgets/base",
            "_view_module_version": "1.2.0",
            "_view_name": "LayoutView",
            "align_content": null,
            "align_items": null,
            "align_self": null,
            "border": null,
            "bottom": null,
            "display": null,
            "flex": null,
            "flex_flow": null,
            "grid_area": null,
            "grid_auto_columns": null,
            "grid_auto_flow": null,
            "grid_auto_rows": null,
            "grid_column": null,
            "grid_gap": null,
            "grid_row": null,
            "grid_template_areas": null,
            "grid_template_columns": null,
            "grid_template_rows": null,
            "height": null,
            "justify_content": null,
            "justify_items": null,
            "left": null,
            "margin": null,
            "max_height": null,
            "max_width": null,
            "min_height": null,
            "min_width": null,
            "object_fit": null,
            "object_position": null,
            "order": null,
            "overflow": null,
            "overflow_x": null,
            "overflow_y": null,
            "padding": null,
            "right": null,
            "top": null,
            "visibility": null,
            "width": null
          }
        },
        "593261807485492bacafc493433f9e12": {
          "model_module": "@jupyter-widgets/controls",
          "model_name": "DescriptionStyleModel",
          "model_module_version": "1.5.0",
          "state": {
            "_model_module": "@jupyter-widgets/controls",
            "_model_module_version": "1.5.0",
            "_model_name": "DescriptionStyleModel",
            "_view_count": null,
            "_view_module": "@jupyter-widgets/base",
            "_view_module_version": "1.2.0",
            "_view_name": "StyleView",
            "description_width": ""
          }
        },
        "1ea94c6c47a94576a23f7841b59116d0": {
          "model_module": "@jupyter-widgets/controls",
          "model_name": "HBoxModel",
          "model_module_version": "1.5.0",
          "state": {
            "_dom_classes": [],
            "_model_module": "@jupyter-widgets/controls",
            "_model_module_version": "1.5.0",
            "_model_name": "HBoxModel",
            "_view_count": null,
            "_view_module": "@jupyter-widgets/controls",
            "_view_module_version": "1.5.0",
            "_view_name": "HBoxView",
            "box_style": "",
            "children": [
              "IPY_MODEL_f2fa9820a77d42f58d77c191e59411c5",
              "IPY_MODEL_dec9441447d44af7bfeec8b303ad13ee",
              "IPY_MODEL_bc17e7ddd3e240619fc6f7dd928fa5f4"
            ],
            "layout": "IPY_MODEL_c1e398d70d1d4136bdc704fca89fa363"
          }
        },
        "f2fa9820a77d42f58d77c191e59411c5": {
          "model_module": "@jupyter-widgets/controls",
          "model_name": "HTMLModel",
          "model_module_version": "1.5.0",
          "state": {
            "_dom_classes": [],
            "_model_module": "@jupyter-widgets/controls",
            "_model_module_version": "1.5.0",
            "_model_name": "HTMLModel",
            "_view_count": null,
            "_view_module": "@jupyter-widgets/controls",
            "_view_module_version": "1.5.0",
            "_view_name": "HTMLView",
            "description": "",
            "description_tooltip": null,
            "layout": "IPY_MODEL_a9c8683627ec4aa58e30b12e974c34f0",
            "placeholder": "​",
            "style": "IPY_MODEL_daec7d4b700e4ca6b3f3ee1e61d6ec52",
            "value": "100%"
          }
        },
        "dec9441447d44af7bfeec8b303ad13ee": {
          "model_module": "@jupyter-widgets/controls",
          "model_name": "FloatProgressModel",
          "model_module_version": "1.5.0",
          "state": {
            "_dom_classes": [],
            "_model_module": "@jupyter-widgets/controls",
            "_model_module_version": "1.5.0",
            "_model_name": "FloatProgressModel",
            "_view_count": null,
            "_view_module": "@jupyter-widgets/controls",
            "_view_module_version": "1.5.0",
            "_view_name": "ProgressView",
            "bar_style": "success",
            "description": "",
            "description_tooltip": null,
            "layout": "IPY_MODEL_6b14c7e85aa44c6bb5aa959b743a3cb1",
            "max": 100,
            "min": 0,
            "orientation": "horizontal",
            "style": "IPY_MODEL_b55b00b40ca94b9b9956f08c98ca8543",
            "value": 100
          }
        },
        "bc17e7ddd3e240619fc6f7dd928fa5f4": {
          "model_module": "@jupyter-widgets/controls",
          "model_name": "HTMLModel",
          "model_module_version": "1.5.0",
          "state": {
            "_dom_classes": [],
            "_model_module": "@jupyter-widgets/controls",
            "_model_module_version": "1.5.0",
            "_model_name": "HTMLModel",
            "_view_count": null,
            "_view_module": "@jupyter-widgets/controls",
            "_view_module_version": "1.5.0",
            "_view_name": "HTMLView",
            "description": "",
            "description_tooltip": null,
            "layout": "IPY_MODEL_5da0f711e4e64790982ff9640e6d8989",
            "placeholder": "​",
            "style": "IPY_MODEL_55d71f4cfdcb4e3a84f66b336fdd0661",
            "value": " 100/100 [00:06&lt;00:00, 17.45it/s, loss=153039.70]"
          }
        },
        "c1e398d70d1d4136bdc704fca89fa363": {
          "model_module": "@jupyter-widgets/base",
          "model_name": "LayoutModel",
          "model_module_version": "1.2.0",
          "state": {
            "_model_module": "@jupyter-widgets/base",
            "_model_module_version": "1.2.0",
            "_model_name": "LayoutModel",
            "_view_count": null,
            "_view_module": "@jupyter-widgets/base",
            "_view_module_version": "1.2.0",
            "_view_name": "LayoutView",
            "align_content": null,
            "align_items": null,
            "align_self": null,
            "border": null,
            "bottom": null,
            "display": null,
            "flex": null,
            "flex_flow": null,
            "grid_area": null,
            "grid_auto_columns": null,
            "grid_auto_flow": null,
            "grid_auto_rows": null,
            "grid_column": null,
            "grid_gap": null,
            "grid_row": null,
            "grid_template_areas": null,
            "grid_template_columns": null,
            "grid_template_rows": null,
            "height": null,
            "justify_content": null,
            "justify_items": null,
            "left": null,
            "margin": null,
            "max_height": null,
            "max_width": null,
            "min_height": null,
            "min_width": null,
            "object_fit": null,
            "object_position": null,
            "order": null,
            "overflow": null,
            "overflow_x": null,
            "overflow_y": null,
            "padding": null,
            "right": null,
            "top": null,
            "visibility": null,
            "width": null
          }
        },
        "a9c8683627ec4aa58e30b12e974c34f0": {
          "model_module": "@jupyter-widgets/base",
          "model_name": "LayoutModel",
          "model_module_version": "1.2.0",
          "state": {
            "_model_module": "@jupyter-widgets/base",
            "_model_module_version": "1.2.0",
            "_model_name": "LayoutModel",
            "_view_count": null,
            "_view_module": "@jupyter-widgets/base",
            "_view_module_version": "1.2.0",
            "_view_name": "LayoutView",
            "align_content": null,
            "align_items": null,
            "align_self": null,
            "border": null,
            "bottom": null,
            "display": null,
            "flex": null,
            "flex_flow": null,
            "grid_area": null,
            "grid_auto_columns": null,
            "grid_auto_flow": null,
            "grid_auto_rows": null,
            "grid_column": null,
            "grid_gap": null,
            "grid_row": null,
            "grid_template_areas": null,
            "grid_template_columns": null,
            "grid_template_rows": null,
            "height": null,
            "justify_content": null,
            "justify_items": null,
            "left": null,
            "margin": null,
            "max_height": null,
            "max_width": null,
            "min_height": null,
            "min_width": null,
            "object_fit": null,
            "object_position": null,
            "order": null,
            "overflow": null,
            "overflow_x": null,
            "overflow_y": null,
            "padding": null,
            "right": null,
            "top": null,
            "visibility": null,
            "width": null
          }
        },
        "daec7d4b700e4ca6b3f3ee1e61d6ec52": {
          "model_module": "@jupyter-widgets/controls",
          "model_name": "DescriptionStyleModel",
          "model_module_version": "1.5.0",
          "state": {
            "_model_module": "@jupyter-widgets/controls",
            "_model_module_version": "1.5.0",
            "_model_name": "DescriptionStyleModel",
            "_view_count": null,
            "_view_module": "@jupyter-widgets/base",
            "_view_module_version": "1.2.0",
            "_view_name": "StyleView",
            "description_width": ""
          }
        },
        "6b14c7e85aa44c6bb5aa959b743a3cb1": {
          "model_module": "@jupyter-widgets/base",
          "model_name": "LayoutModel",
          "model_module_version": "1.2.0",
          "state": {
            "_model_module": "@jupyter-widgets/base",
            "_model_module_version": "1.2.0",
            "_model_name": "LayoutModel",
            "_view_count": null,
            "_view_module": "@jupyter-widgets/base",
            "_view_module_version": "1.2.0",
            "_view_name": "LayoutView",
            "align_content": null,
            "align_items": null,
            "align_self": null,
            "border": null,
            "bottom": null,
            "display": null,
            "flex": null,
            "flex_flow": null,
            "grid_area": null,
            "grid_auto_columns": null,
            "grid_auto_flow": null,
            "grid_auto_rows": null,
            "grid_column": null,
            "grid_gap": null,
            "grid_row": null,
            "grid_template_areas": null,
            "grid_template_columns": null,
            "grid_template_rows": null,
            "height": null,
            "justify_content": null,
            "justify_items": null,
            "left": null,
            "margin": null,
            "max_height": null,
            "max_width": null,
            "min_height": null,
            "min_width": null,
            "object_fit": null,
            "object_position": null,
            "order": null,
            "overflow": null,
            "overflow_x": null,
            "overflow_y": null,
            "padding": null,
            "right": null,
            "top": null,
            "visibility": null,
            "width": null
          }
        },
        "b55b00b40ca94b9b9956f08c98ca8543": {
          "model_module": "@jupyter-widgets/controls",
          "model_name": "ProgressStyleModel",
          "model_module_version": "1.5.0",
          "state": {
            "_model_module": "@jupyter-widgets/controls",
            "_model_module_version": "1.5.0",
            "_model_name": "ProgressStyleModel",
            "_view_count": null,
            "_view_module": "@jupyter-widgets/base",
            "_view_module_version": "1.2.0",
            "_view_name": "StyleView",
            "bar_color": null,
            "description_width": ""
          }
        },
        "5da0f711e4e64790982ff9640e6d8989": {
          "model_module": "@jupyter-widgets/base",
          "model_name": "LayoutModel",
          "model_module_version": "1.2.0",
          "state": {
            "_model_module": "@jupyter-widgets/base",
            "_model_module_version": "1.2.0",
            "_model_name": "LayoutModel",
            "_view_count": null,
            "_view_module": "@jupyter-widgets/base",
            "_view_module_version": "1.2.0",
            "_view_name": "LayoutView",
            "align_content": null,
            "align_items": null,
            "align_self": null,
            "border": null,
            "bottom": null,
            "display": null,
            "flex": null,
            "flex_flow": null,
            "grid_area": null,
            "grid_auto_columns": null,
            "grid_auto_flow": null,
            "grid_auto_rows": null,
            "grid_column": null,
            "grid_gap": null,
            "grid_row": null,
            "grid_template_areas": null,
            "grid_template_columns": null,
            "grid_template_rows": null,
            "height": null,
            "justify_content": null,
            "justify_items": null,
            "left": null,
            "margin": null,
            "max_height": null,
            "max_width": null,
            "min_height": null,
            "min_width": null,
            "object_fit": null,
            "object_position": null,
            "order": null,
            "overflow": null,
            "overflow_x": null,
            "overflow_y": null,
            "padding": null,
            "right": null,
            "top": null,
            "visibility": null,
            "width": null
          }
        },
        "55d71f4cfdcb4e3a84f66b336fdd0661": {
          "model_module": "@jupyter-widgets/controls",
          "model_name": "DescriptionStyleModel",
          "model_module_version": "1.5.0",
          "state": {
            "_model_module": "@jupyter-widgets/controls",
            "_model_module_version": "1.5.0",
            "_model_name": "DescriptionStyleModel",
            "_view_count": null,
            "_view_module": "@jupyter-widgets/base",
            "_view_module_version": "1.2.0",
            "_view_name": "StyleView",
            "description_width": ""
          }
        },
        "d9d6d30ea29b498585857ce935b1abed": {
          "model_module": "@jupyter-widgets/controls",
          "model_name": "HBoxModel",
          "model_module_version": "1.5.0",
          "state": {
            "_dom_classes": [],
            "_model_module": "@jupyter-widgets/controls",
            "_model_module_version": "1.5.0",
            "_model_name": "HBoxModel",
            "_view_count": null,
            "_view_module": "@jupyter-widgets/controls",
            "_view_module_version": "1.5.0",
            "_view_name": "HBoxView",
            "box_style": "",
            "children": [
              "IPY_MODEL_511636cf38d04c40bc0aa0ec74b08811",
              "IPY_MODEL_9e2d3d5a7cca4b549222e9edc2f98dba",
              "IPY_MODEL_d29bf2f1f8c54ec5b58767a755ab454c"
            ],
            "layout": "IPY_MODEL_7efb11ea0e294fad85a4a95c2d69b51c"
          }
        },
        "511636cf38d04c40bc0aa0ec74b08811": {
          "model_module": "@jupyter-widgets/controls",
          "model_name": "HTMLModel",
          "model_module_version": "1.5.0",
          "state": {
            "_dom_classes": [],
            "_model_module": "@jupyter-widgets/controls",
            "_model_module_version": "1.5.0",
            "_model_name": "HTMLModel",
            "_view_count": null,
            "_view_module": "@jupyter-widgets/controls",
            "_view_module_version": "1.5.0",
            "_view_name": "HTMLView",
            "description": "",
            "description_tooltip": null,
            "layout": "IPY_MODEL_9b1529afeb67424489a158f5c65392db",
            "placeholder": "​",
            "style": "IPY_MODEL_32405635d1a045a48b7d3359bcaca6c2",
            "value": "100%"
          }
        },
        "9e2d3d5a7cca4b549222e9edc2f98dba": {
          "model_module": "@jupyter-widgets/controls",
          "model_name": "FloatProgressModel",
          "model_module_version": "1.5.0",
          "state": {
            "_dom_classes": [],
            "_model_module": "@jupyter-widgets/controls",
            "_model_module_version": "1.5.0",
            "_model_name": "FloatProgressModel",
            "_view_count": null,
            "_view_module": "@jupyter-widgets/controls",
            "_view_module_version": "1.5.0",
            "_view_name": "ProgressView",
            "bar_style": "success",
            "description": "",
            "description_tooltip": null,
            "layout": "IPY_MODEL_cd554210750f4b85a39d5defce3a1f70",
            "max": 50,
            "min": 0,
            "orientation": "horizontal",
            "style": "IPY_MODEL_866ddfc74d4549c4afb2fcdac790e740",
            "value": 50
          }
        },
        "d29bf2f1f8c54ec5b58767a755ab454c": {
          "model_module": "@jupyter-widgets/controls",
          "model_name": "HTMLModel",
          "model_module_version": "1.5.0",
          "state": {
            "_dom_classes": [],
            "_model_module": "@jupyter-widgets/controls",
            "_model_module_version": "1.5.0",
            "_model_name": "HTMLModel",
            "_view_count": null,
            "_view_module": "@jupyter-widgets/controls",
            "_view_module_version": "1.5.0",
            "_view_name": "HTMLView",
            "description": "",
            "description_tooltip": null,
            "layout": "IPY_MODEL_b6043c2d34a74fd09718b2f4b21cc1ec",
            "placeholder": "​",
            "style": "IPY_MODEL_f2612cc28ac3436c80970a2ae2f1ed45",
            "value": " 50/50 [00:04&lt;00:00, 14.52it/s, loss=610843.38]"
          }
        },
        "7efb11ea0e294fad85a4a95c2d69b51c": {
          "model_module": "@jupyter-widgets/base",
          "model_name": "LayoutModel",
          "model_module_version": "1.2.0",
          "state": {
            "_model_module": "@jupyter-widgets/base",
            "_model_module_version": "1.2.0",
            "_model_name": "LayoutModel",
            "_view_count": null,
            "_view_module": "@jupyter-widgets/base",
            "_view_module_version": "1.2.0",
            "_view_name": "LayoutView",
            "align_content": null,
            "align_items": null,
            "align_self": null,
            "border": null,
            "bottom": null,
            "display": null,
            "flex": null,
            "flex_flow": null,
            "grid_area": null,
            "grid_auto_columns": null,
            "grid_auto_flow": null,
            "grid_auto_rows": null,
            "grid_column": null,
            "grid_gap": null,
            "grid_row": null,
            "grid_template_areas": null,
            "grid_template_columns": null,
            "grid_template_rows": null,
            "height": null,
            "justify_content": null,
            "justify_items": null,
            "left": null,
            "margin": null,
            "max_height": null,
            "max_width": null,
            "min_height": null,
            "min_width": null,
            "object_fit": null,
            "object_position": null,
            "order": null,
            "overflow": null,
            "overflow_x": null,
            "overflow_y": null,
            "padding": null,
            "right": null,
            "top": null,
            "visibility": null,
            "width": null
          }
        },
        "9b1529afeb67424489a158f5c65392db": {
          "model_module": "@jupyter-widgets/base",
          "model_name": "LayoutModel",
          "model_module_version": "1.2.0",
          "state": {
            "_model_module": "@jupyter-widgets/base",
            "_model_module_version": "1.2.0",
            "_model_name": "LayoutModel",
            "_view_count": null,
            "_view_module": "@jupyter-widgets/base",
            "_view_module_version": "1.2.0",
            "_view_name": "LayoutView",
            "align_content": null,
            "align_items": null,
            "align_self": null,
            "border": null,
            "bottom": null,
            "display": null,
            "flex": null,
            "flex_flow": null,
            "grid_area": null,
            "grid_auto_columns": null,
            "grid_auto_flow": null,
            "grid_auto_rows": null,
            "grid_column": null,
            "grid_gap": null,
            "grid_row": null,
            "grid_template_areas": null,
            "grid_template_columns": null,
            "grid_template_rows": null,
            "height": null,
            "justify_content": null,
            "justify_items": null,
            "left": null,
            "margin": null,
            "max_height": null,
            "max_width": null,
            "min_height": null,
            "min_width": null,
            "object_fit": null,
            "object_position": null,
            "order": null,
            "overflow": null,
            "overflow_x": null,
            "overflow_y": null,
            "padding": null,
            "right": null,
            "top": null,
            "visibility": null,
            "width": null
          }
        },
        "32405635d1a045a48b7d3359bcaca6c2": {
          "model_module": "@jupyter-widgets/controls",
          "model_name": "DescriptionStyleModel",
          "model_module_version": "1.5.0",
          "state": {
            "_model_module": "@jupyter-widgets/controls",
            "_model_module_version": "1.5.0",
            "_model_name": "DescriptionStyleModel",
            "_view_count": null,
            "_view_module": "@jupyter-widgets/base",
            "_view_module_version": "1.2.0",
            "_view_name": "StyleView",
            "description_width": ""
          }
        },
        "cd554210750f4b85a39d5defce3a1f70": {
          "model_module": "@jupyter-widgets/base",
          "model_name": "LayoutModel",
          "model_module_version": "1.2.0",
          "state": {
            "_model_module": "@jupyter-widgets/base",
            "_model_module_version": "1.2.0",
            "_model_name": "LayoutModel",
            "_view_count": null,
            "_view_module": "@jupyter-widgets/base",
            "_view_module_version": "1.2.0",
            "_view_name": "LayoutView",
            "align_content": null,
            "align_items": null,
            "align_self": null,
            "border": null,
            "bottom": null,
            "display": null,
            "flex": null,
            "flex_flow": null,
            "grid_area": null,
            "grid_auto_columns": null,
            "grid_auto_flow": null,
            "grid_auto_rows": null,
            "grid_column": null,
            "grid_gap": null,
            "grid_row": null,
            "grid_template_areas": null,
            "grid_template_columns": null,
            "grid_template_rows": null,
            "height": null,
            "justify_content": null,
            "justify_items": null,
            "left": null,
            "margin": null,
            "max_height": null,
            "max_width": null,
            "min_height": null,
            "min_width": null,
            "object_fit": null,
            "object_position": null,
            "order": null,
            "overflow": null,
            "overflow_x": null,
            "overflow_y": null,
            "padding": null,
            "right": null,
            "top": null,
            "visibility": null,
            "width": null
          }
        },
        "866ddfc74d4549c4afb2fcdac790e740": {
          "model_module": "@jupyter-widgets/controls",
          "model_name": "ProgressStyleModel",
          "model_module_version": "1.5.0",
          "state": {
            "_model_module": "@jupyter-widgets/controls",
            "_model_module_version": "1.5.0",
            "_model_name": "ProgressStyleModel",
            "_view_count": null,
            "_view_module": "@jupyter-widgets/base",
            "_view_module_version": "1.2.0",
            "_view_name": "StyleView",
            "bar_color": null,
            "description_width": ""
          }
        },
        "b6043c2d34a74fd09718b2f4b21cc1ec": {
          "model_module": "@jupyter-widgets/base",
          "model_name": "LayoutModel",
          "model_module_version": "1.2.0",
          "state": {
            "_model_module": "@jupyter-widgets/base",
            "_model_module_version": "1.2.0",
            "_model_name": "LayoutModel",
            "_view_count": null,
            "_view_module": "@jupyter-widgets/base",
            "_view_module_version": "1.2.0",
            "_view_name": "LayoutView",
            "align_content": null,
            "align_items": null,
            "align_self": null,
            "border": null,
            "bottom": null,
            "display": null,
            "flex": null,
            "flex_flow": null,
            "grid_area": null,
            "grid_auto_columns": null,
            "grid_auto_flow": null,
            "grid_auto_rows": null,
            "grid_column": null,
            "grid_gap": null,
            "grid_row": null,
            "grid_template_areas": null,
            "grid_template_columns": null,
            "grid_template_rows": null,
            "height": null,
            "justify_content": null,
            "justify_items": null,
            "left": null,
            "margin": null,
            "max_height": null,
            "max_width": null,
            "min_height": null,
            "min_width": null,
            "object_fit": null,
            "object_position": null,
            "order": null,
            "overflow": null,
            "overflow_x": null,
            "overflow_y": null,
            "padding": null,
            "right": null,
            "top": null,
            "visibility": null,
            "width": null
          }
        },
        "f2612cc28ac3436c80970a2ae2f1ed45": {
          "model_module": "@jupyter-widgets/controls",
          "model_name": "DescriptionStyleModel",
          "model_module_version": "1.5.0",
          "state": {
            "_model_module": "@jupyter-widgets/controls",
            "_model_module_version": "1.5.0",
            "_model_name": "DescriptionStyleModel",
            "_view_count": null,
            "_view_module": "@jupyter-widgets/base",
            "_view_module_version": "1.2.0",
            "_view_name": "StyleView",
            "description_width": ""
          }
        },
        "4825f52ef96a49b8a5138200e0e69e26": {
          "model_module": "@jupyter-widgets/controls",
          "model_name": "HBoxModel",
          "model_module_version": "1.5.0",
          "state": {
            "_dom_classes": [],
            "_model_module": "@jupyter-widgets/controls",
            "_model_module_version": "1.5.0",
            "_model_name": "HBoxModel",
            "_view_count": null,
            "_view_module": "@jupyter-widgets/controls",
            "_view_module_version": "1.5.0",
            "_view_name": "HBoxView",
            "box_style": "",
            "children": [
              "IPY_MODEL_33b90eea11d04589a21acc3185c21786",
              "IPY_MODEL_e44af9d7e3384628a8e24148e839728b",
              "IPY_MODEL_8ae215f16e164c40aa581ace5eec7a35"
            ],
            "layout": "IPY_MODEL_c77ef67d95c84e0195d6b39a177f4bd8"
          }
        },
        "33b90eea11d04589a21acc3185c21786": {
          "model_module": "@jupyter-widgets/controls",
          "model_name": "HTMLModel",
          "model_module_version": "1.5.0",
          "state": {
            "_dom_classes": [],
            "_model_module": "@jupyter-widgets/controls",
            "_model_module_version": "1.5.0",
            "_model_name": "HTMLModel",
            "_view_count": null,
            "_view_module": "@jupyter-widgets/controls",
            "_view_module_version": "1.5.0",
            "_view_name": "HTMLView",
            "description": "",
            "description_tooltip": null,
            "layout": "IPY_MODEL_624ad0f80a9c4a138d6e4df0bacfdf40",
            "placeholder": "​",
            "style": "IPY_MODEL_12f56e8003ff4d569b81dc252eb69cd8",
            "value": "100%"
          }
        },
        "e44af9d7e3384628a8e24148e839728b": {
          "model_module": "@jupyter-widgets/controls",
          "model_name": "FloatProgressModel",
          "model_module_version": "1.5.0",
          "state": {
            "_dom_classes": [],
            "_model_module": "@jupyter-widgets/controls",
            "_model_module_version": "1.5.0",
            "_model_name": "FloatProgressModel",
            "_view_count": null,
            "_view_module": "@jupyter-widgets/controls",
            "_view_module_version": "1.5.0",
            "_view_name": "ProgressView",
            "bar_style": "success",
            "description": "",
            "description_tooltip": null,
            "layout": "IPY_MODEL_43696d45146d47699f749d51d8d75e86",
            "max": 50,
            "min": 0,
            "orientation": "horizontal",
            "style": "IPY_MODEL_7f5d9f03e41c4b43a3250f61a501e9d6",
            "value": 50
          }
        },
        "8ae215f16e164c40aa581ace5eec7a35": {
          "model_module": "@jupyter-widgets/controls",
          "model_name": "HTMLModel",
          "model_module_version": "1.5.0",
          "state": {
            "_dom_classes": [],
            "_model_module": "@jupyter-widgets/controls",
            "_model_module_version": "1.5.0",
            "_model_name": "HTMLModel",
            "_view_count": null,
            "_view_module": "@jupyter-widgets/controls",
            "_view_module_version": "1.5.0",
            "_view_name": "HTMLView",
            "description": "",
            "description_tooltip": null,
            "layout": "IPY_MODEL_7126736991cb479087818932611ae5ae",
            "placeholder": "​",
            "style": "IPY_MODEL_3860f4e1dcbe4cf286a041a750112478",
            "value": " 50/50 [00:45&lt;00:00,  1.16it/s, loss=487]"
          }
        },
        "c77ef67d95c84e0195d6b39a177f4bd8": {
          "model_module": "@jupyter-widgets/base",
          "model_name": "LayoutModel",
          "model_module_version": "1.2.0",
          "state": {
            "_model_module": "@jupyter-widgets/base",
            "_model_module_version": "1.2.0",
            "_model_name": "LayoutModel",
            "_view_count": null,
            "_view_module": "@jupyter-widgets/base",
            "_view_module_version": "1.2.0",
            "_view_name": "LayoutView",
            "align_content": null,
            "align_items": null,
            "align_self": null,
            "border": null,
            "bottom": null,
            "display": null,
            "flex": null,
            "flex_flow": null,
            "grid_area": null,
            "grid_auto_columns": null,
            "grid_auto_flow": null,
            "grid_auto_rows": null,
            "grid_column": null,
            "grid_gap": null,
            "grid_row": null,
            "grid_template_areas": null,
            "grid_template_columns": null,
            "grid_template_rows": null,
            "height": null,
            "justify_content": null,
            "justify_items": null,
            "left": null,
            "margin": null,
            "max_height": null,
            "max_width": null,
            "min_height": null,
            "min_width": null,
            "object_fit": null,
            "object_position": null,
            "order": null,
            "overflow": null,
            "overflow_x": null,
            "overflow_y": null,
            "padding": null,
            "right": null,
            "top": null,
            "visibility": null,
            "width": null
          }
        },
        "624ad0f80a9c4a138d6e4df0bacfdf40": {
          "model_module": "@jupyter-widgets/base",
          "model_name": "LayoutModel",
          "model_module_version": "1.2.0",
          "state": {
            "_model_module": "@jupyter-widgets/base",
            "_model_module_version": "1.2.0",
            "_model_name": "LayoutModel",
            "_view_count": null,
            "_view_module": "@jupyter-widgets/base",
            "_view_module_version": "1.2.0",
            "_view_name": "LayoutView",
            "align_content": null,
            "align_items": null,
            "align_self": null,
            "border": null,
            "bottom": null,
            "display": null,
            "flex": null,
            "flex_flow": null,
            "grid_area": null,
            "grid_auto_columns": null,
            "grid_auto_flow": null,
            "grid_auto_rows": null,
            "grid_column": null,
            "grid_gap": null,
            "grid_row": null,
            "grid_template_areas": null,
            "grid_template_columns": null,
            "grid_template_rows": null,
            "height": null,
            "justify_content": null,
            "justify_items": null,
            "left": null,
            "margin": null,
            "max_height": null,
            "max_width": null,
            "min_height": null,
            "min_width": null,
            "object_fit": null,
            "object_position": null,
            "order": null,
            "overflow": null,
            "overflow_x": null,
            "overflow_y": null,
            "padding": null,
            "right": null,
            "top": null,
            "visibility": null,
            "width": null
          }
        },
        "12f56e8003ff4d569b81dc252eb69cd8": {
          "model_module": "@jupyter-widgets/controls",
          "model_name": "DescriptionStyleModel",
          "model_module_version": "1.5.0",
          "state": {
            "_model_module": "@jupyter-widgets/controls",
            "_model_module_version": "1.5.0",
            "_model_name": "DescriptionStyleModel",
            "_view_count": null,
            "_view_module": "@jupyter-widgets/base",
            "_view_module_version": "1.2.0",
            "_view_name": "StyleView",
            "description_width": ""
          }
        },
        "43696d45146d47699f749d51d8d75e86": {
          "model_module": "@jupyter-widgets/base",
          "model_name": "LayoutModel",
          "model_module_version": "1.2.0",
          "state": {
            "_model_module": "@jupyter-widgets/base",
            "_model_module_version": "1.2.0",
            "_model_name": "LayoutModel",
            "_view_count": null,
            "_view_module": "@jupyter-widgets/base",
            "_view_module_version": "1.2.0",
            "_view_name": "LayoutView",
            "align_content": null,
            "align_items": null,
            "align_self": null,
            "border": null,
            "bottom": null,
            "display": null,
            "flex": null,
            "flex_flow": null,
            "grid_area": null,
            "grid_auto_columns": null,
            "grid_auto_flow": null,
            "grid_auto_rows": null,
            "grid_column": null,
            "grid_gap": null,
            "grid_row": null,
            "grid_template_areas": null,
            "grid_template_columns": null,
            "grid_template_rows": null,
            "height": null,
            "justify_content": null,
            "justify_items": null,
            "left": null,
            "margin": null,
            "max_height": null,
            "max_width": null,
            "min_height": null,
            "min_width": null,
            "object_fit": null,
            "object_position": null,
            "order": null,
            "overflow": null,
            "overflow_x": null,
            "overflow_y": null,
            "padding": null,
            "right": null,
            "top": null,
            "visibility": null,
            "width": null
          }
        },
        "7f5d9f03e41c4b43a3250f61a501e9d6": {
          "model_module": "@jupyter-widgets/controls",
          "model_name": "ProgressStyleModel",
          "model_module_version": "1.5.0",
          "state": {
            "_model_module": "@jupyter-widgets/controls",
            "_model_module_version": "1.5.0",
            "_model_name": "ProgressStyleModel",
            "_view_count": null,
            "_view_module": "@jupyter-widgets/base",
            "_view_module_version": "1.2.0",
            "_view_name": "StyleView",
            "bar_color": null,
            "description_width": ""
          }
        },
        "7126736991cb479087818932611ae5ae": {
          "model_module": "@jupyter-widgets/base",
          "model_name": "LayoutModel",
          "model_module_version": "1.2.0",
          "state": {
            "_model_module": "@jupyter-widgets/base",
            "_model_module_version": "1.2.0",
            "_model_name": "LayoutModel",
            "_view_count": null,
            "_view_module": "@jupyter-widgets/base",
            "_view_module_version": "1.2.0",
            "_view_name": "LayoutView",
            "align_content": null,
            "align_items": null,
            "align_self": null,
            "border": null,
            "bottom": null,
            "display": null,
            "flex": null,
            "flex_flow": null,
            "grid_area": null,
            "grid_auto_columns": null,
            "grid_auto_flow": null,
            "grid_auto_rows": null,
            "grid_column": null,
            "grid_gap": null,
            "grid_row": null,
            "grid_template_areas": null,
            "grid_template_columns": null,
            "grid_template_rows": null,
            "height": null,
            "justify_content": null,
            "justify_items": null,
            "left": null,
            "margin": null,
            "max_height": null,
            "max_width": null,
            "min_height": null,
            "min_width": null,
            "object_fit": null,
            "object_position": null,
            "order": null,
            "overflow": null,
            "overflow_x": null,
            "overflow_y": null,
            "padding": null,
            "right": null,
            "top": null,
            "visibility": null,
            "width": null
          }
        },
        "3860f4e1dcbe4cf286a041a750112478": {
          "model_module": "@jupyter-widgets/controls",
          "model_name": "DescriptionStyleModel",
          "model_module_version": "1.5.0",
          "state": {
            "_model_module": "@jupyter-widgets/controls",
            "_model_module_version": "1.5.0",
            "_model_name": "DescriptionStyleModel",
            "_view_count": null,
            "_view_module": "@jupyter-widgets/base",
            "_view_module_version": "1.2.0",
            "_view_name": "StyleView",
            "description_width": ""
          }
        },
        "f5e230897df54dc7be71118cdfec5ce3": {
          "model_module": "@jupyter-widgets/controls",
          "model_name": "HBoxModel",
          "model_module_version": "1.5.0",
          "state": {
            "_dom_classes": [],
            "_model_module": "@jupyter-widgets/controls",
            "_model_module_version": "1.5.0",
            "_model_name": "HBoxModel",
            "_view_count": null,
            "_view_module": "@jupyter-widgets/controls",
            "_view_module_version": "1.5.0",
            "_view_name": "HBoxView",
            "box_style": "",
            "children": [
              "IPY_MODEL_31913fa9ac874139b903d9651eb308c0",
              "IPY_MODEL_f8a021e3239344edb4357ddabccc9861",
              "IPY_MODEL_4d6240ab1fee461c853188a1ed721f91"
            ],
            "layout": "IPY_MODEL_461844d1a6264d6b8df4fd3416a41e99"
          }
        },
        "31913fa9ac874139b903d9651eb308c0": {
          "model_module": "@jupyter-widgets/controls",
          "model_name": "HTMLModel",
          "model_module_version": "1.5.0",
          "state": {
            "_dom_classes": [],
            "_model_module": "@jupyter-widgets/controls",
            "_model_module_version": "1.5.0",
            "_model_name": "HTMLModel",
            "_view_count": null,
            "_view_module": "@jupyter-widgets/controls",
            "_view_module_version": "1.5.0",
            "_view_name": "HTMLView",
            "description": "",
            "description_tooltip": null,
            "layout": "IPY_MODEL_7b395666c45e427b969ef5b6f4d9f16a",
            "placeholder": "​",
            "style": "IPY_MODEL_3852ff063316411b9e71124b6b51425a",
            "value": "100%"
          }
        },
        "f8a021e3239344edb4357ddabccc9861": {
          "model_module": "@jupyter-widgets/controls",
          "model_name": "FloatProgressModel",
          "model_module_version": "1.5.0",
          "state": {
            "_dom_classes": [],
            "_model_module": "@jupyter-widgets/controls",
            "_model_module_version": "1.5.0",
            "_model_name": "FloatProgressModel",
            "_view_count": null,
            "_view_module": "@jupyter-widgets/controls",
            "_view_module_version": "1.5.0",
            "_view_name": "ProgressView",
            "bar_style": "success",
            "description": "",
            "description_tooltip": null,
            "layout": "IPY_MODEL_6cb6d2574ce547dcb78e6993f976efdf",
            "max": 1,
            "min": 0,
            "orientation": "horizontal",
            "style": "IPY_MODEL_618d89e5182e4dc68d121c39a41443a8",
            "value": 1
          }
        },
        "4d6240ab1fee461c853188a1ed721f91": {
          "model_module": "@jupyter-widgets/controls",
          "model_name": "HTMLModel",
          "model_module_version": "1.5.0",
          "state": {
            "_dom_classes": [],
            "_model_module": "@jupyter-widgets/controls",
            "_model_module_version": "1.5.0",
            "_model_name": "HTMLModel",
            "_view_count": null,
            "_view_module": "@jupyter-widgets/controls",
            "_view_module_version": "1.5.0",
            "_view_name": "HTMLView",
            "description": "",
            "description_tooltip": null,
            "layout": "IPY_MODEL_7baa4d81317340d7af21ec0a0b3d074f",
            "placeholder": "​",
            "style": "IPY_MODEL_8d1338be8369427097c3d54ae36e6c27",
            "value": " 1/1 [01:22&lt;00:00, 82.69s/it, loss=0.396]"
          }
        },
        "461844d1a6264d6b8df4fd3416a41e99": {
          "model_module": "@jupyter-widgets/base",
          "model_name": "LayoutModel",
          "model_module_version": "1.2.0",
          "state": {
            "_model_module": "@jupyter-widgets/base",
            "_model_module_version": "1.2.0",
            "_model_name": "LayoutModel",
            "_view_count": null,
            "_view_module": "@jupyter-widgets/base",
            "_view_module_version": "1.2.0",
            "_view_name": "LayoutView",
            "align_content": null,
            "align_items": null,
            "align_self": null,
            "border": null,
            "bottom": null,
            "display": null,
            "flex": null,
            "flex_flow": null,
            "grid_area": null,
            "grid_auto_columns": null,
            "grid_auto_flow": null,
            "grid_auto_rows": null,
            "grid_column": null,
            "grid_gap": null,
            "grid_row": null,
            "grid_template_areas": null,
            "grid_template_columns": null,
            "grid_template_rows": null,
            "height": null,
            "justify_content": null,
            "justify_items": null,
            "left": null,
            "margin": null,
            "max_height": null,
            "max_width": null,
            "min_height": null,
            "min_width": null,
            "object_fit": null,
            "object_position": null,
            "order": null,
            "overflow": null,
            "overflow_x": null,
            "overflow_y": null,
            "padding": null,
            "right": null,
            "top": null,
            "visibility": null,
            "width": null
          }
        },
        "7b395666c45e427b969ef5b6f4d9f16a": {
          "model_module": "@jupyter-widgets/base",
          "model_name": "LayoutModel",
          "model_module_version": "1.2.0",
          "state": {
            "_model_module": "@jupyter-widgets/base",
            "_model_module_version": "1.2.0",
            "_model_name": "LayoutModel",
            "_view_count": null,
            "_view_module": "@jupyter-widgets/base",
            "_view_module_version": "1.2.0",
            "_view_name": "LayoutView",
            "align_content": null,
            "align_items": null,
            "align_self": null,
            "border": null,
            "bottom": null,
            "display": null,
            "flex": null,
            "flex_flow": null,
            "grid_area": null,
            "grid_auto_columns": null,
            "grid_auto_flow": null,
            "grid_auto_rows": null,
            "grid_column": null,
            "grid_gap": null,
            "grid_row": null,
            "grid_template_areas": null,
            "grid_template_columns": null,
            "grid_template_rows": null,
            "height": null,
            "justify_content": null,
            "justify_items": null,
            "left": null,
            "margin": null,
            "max_height": null,
            "max_width": null,
            "min_height": null,
            "min_width": null,
            "object_fit": null,
            "object_position": null,
            "order": null,
            "overflow": null,
            "overflow_x": null,
            "overflow_y": null,
            "padding": null,
            "right": null,
            "top": null,
            "visibility": null,
            "width": null
          }
        },
        "3852ff063316411b9e71124b6b51425a": {
          "model_module": "@jupyter-widgets/controls",
          "model_name": "DescriptionStyleModel",
          "model_module_version": "1.5.0",
          "state": {
            "_model_module": "@jupyter-widgets/controls",
            "_model_module_version": "1.5.0",
            "_model_name": "DescriptionStyleModel",
            "_view_count": null,
            "_view_module": "@jupyter-widgets/base",
            "_view_module_version": "1.2.0",
            "_view_name": "StyleView",
            "description_width": ""
          }
        },
        "6cb6d2574ce547dcb78e6993f976efdf": {
          "model_module": "@jupyter-widgets/base",
          "model_name": "LayoutModel",
          "model_module_version": "1.2.0",
          "state": {
            "_model_module": "@jupyter-widgets/base",
            "_model_module_version": "1.2.0",
            "_model_name": "LayoutModel",
            "_view_count": null,
            "_view_module": "@jupyter-widgets/base",
            "_view_module_version": "1.2.0",
            "_view_name": "LayoutView",
            "align_content": null,
            "align_items": null,
            "align_self": null,
            "border": null,
            "bottom": null,
            "display": null,
            "flex": null,
            "flex_flow": null,
            "grid_area": null,
            "grid_auto_columns": null,
            "grid_auto_flow": null,
            "grid_auto_rows": null,
            "grid_column": null,
            "grid_gap": null,
            "grid_row": null,
            "grid_template_areas": null,
            "grid_template_columns": null,
            "grid_template_rows": null,
            "height": null,
            "justify_content": null,
            "justify_items": null,
            "left": null,
            "margin": null,
            "max_height": null,
            "max_width": null,
            "min_height": null,
            "min_width": null,
            "object_fit": null,
            "object_position": null,
            "order": null,
            "overflow": null,
            "overflow_x": null,
            "overflow_y": null,
            "padding": null,
            "right": null,
            "top": null,
            "visibility": null,
            "width": null
          }
        },
        "618d89e5182e4dc68d121c39a41443a8": {
          "model_module": "@jupyter-widgets/controls",
          "model_name": "ProgressStyleModel",
          "model_module_version": "1.5.0",
          "state": {
            "_model_module": "@jupyter-widgets/controls",
            "_model_module_version": "1.5.0",
            "_model_name": "ProgressStyleModel",
            "_view_count": null,
            "_view_module": "@jupyter-widgets/base",
            "_view_module_version": "1.2.0",
            "_view_name": "StyleView",
            "bar_color": null,
            "description_width": ""
          }
        },
        "7baa4d81317340d7af21ec0a0b3d074f": {
          "model_module": "@jupyter-widgets/base",
          "model_name": "LayoutModel",
          "model_module_version": "1.2.0",
          "state": {
            "_model_module": "@jupyter-widgets/base",
            "_model_module_version": "1.2.0",
            "_model_name": "LayoutModel",
            "_view_count": null,
            "_view_module": "@jupyter-widgets/base",
            "_view_module_version": "1.2.0",
            "_view_name": "LayoutView",
            "align_content": null,
            "align_items": null,
            "align_self": null,
            "border": null,
            "bottom": null,
            "display": null,
            "flex": null,
            "flex_flow": null,
            "grid_area": null,
            "grid_auto_columns": null,
            "grid_auto_flow": null,
            "grid_auto_rows": null,
            "grid_column": null,
            "grid_gap": null,
            "grid_row": null,
            "grid_template_areas": null,
            "grid_template_columns": null,
            "grid_template_rows": null,
            "height": null,
            "justify_content": null,
            "justify_items": null,
            "left": null,
            "margin": null,
            "max_height": null,
            "max_width": null,
            "min_height": null,
            "min_width": null,
            "object_fit": null,
            "object_position": null,
            "order": null,
            "overflow": null,
            "overflow_x": null,
            "overflow_y": null,
            "padding": null,
            "right": null,
            "top": null,
            "visibility": null,
            "width": null
          }
        },
        "8d1338be8369427097c3d54ae36e6c27": {
          "model_module": "@jupyter-widgets/controls",
          "model_name": "DescriptionStyleModel",
          "model_module_version": "1.5.0",
          "state": {
            "_model_module": "@jupyter-widgets/controls",
            "_model_module_version": "1.5.0",
            "_model_name": "DescriptionStyleModel",
            "_view_count": null,
            "_view_module": "@jupyter-widgets/base",
            "_view_module_version": "1.2.0",
            "_view_name": "StyleView",
            "description_width": ""
          }
        },
        "444e1b0a165143fd92b366ae06b6e6b2": {
          "model_module": "@jupyter-widgets/controls",
          "model_name": "HBoxModel",
          "model_module_version": "1.5.0",
          "state": {
            "_dom_classes": [],
            "_model_module": "@jupyter-widgets/controls",
            "_model_module_version": "1.5.0",
            "_model_name": "HBoxModel",
            "_view_count": null,
            "_view_module": "@jupyter-widgets/controls",
            "_view_module_version": "1.5.0",
            "_view_name": "HBoxView",
            "box_style": "",
            "children": [
              "IPY_MODEL_158cdde1f15c48d68686ebdd875ff070",
              "IPY_MODEL_1a73f19c344f4dc4a5753bfafa0bfbcc",
              "IPY_MODEL_647a04651449416397adb22759d1a30c"
            ],
            "layout": "IPY_MODEL_19aef412abdf486bb202ab4b4f284735"
          }
        },
        "158cdde1f15c48d68686ebdd875ff070": {
          "model_module": "@jupyter-widgets/controls",
          "model_name": "HTMLModel",
          "model_module_version": "1.5.0",
          "state": {
            "_dom_classes": [],
            "_model_module": "@jupyter-widgets/controls",
            "_model_module_version": "1.5.0",
            "_model_name": "HTMLModel",
            "_view_count": null,
            "_view_module": "@jupyter-widgets/controls",
            "_view_module_version": "1.5.0",
            "_view_name": "HTMLView",
            "description": "",
            "description_tooltip": null,
            "layout": "IPY_MODEL_0cdb086c6079402988b1bacbdce73914",
            "placeholder": "​",
            "style": "IPY_MODEL_10f3e01df2344baab2dd4c1dd2686e32",
            "value": "100%"
          }
        },
        "1a73f19c344f4dc4a5753bfafa0bfbcc": {
          "model_module": "@jupyter-widgets/controls",
          "model_name": "FloatProgressModel",
          "model_module_version": "1.5.0",
          "state": {
            "_dom_classes": [],
            "_model_module": "@jupyter-widgets/controls",
            "_model_module_version": "1.5.0",
            "_model_name": "FloatProgressModel",
            "_view_count": null,
            "_view_module": "@jupyter-widgets/controls",
            "_view_module_version": "1.5.0",
            "_view_name": "ProgressView",
            "bar_style": "success",
            "description": "",
            "description_tooltip": null,
            "layout": "IPY_MODEL_d3597d5e3c5f4fb2854c5e5fb62596d6",
            "max": 100,
            "min": 0,
            "orientation": "horizontal",
            "style": "IPY_MODEL_b52f30e256364aef8e7973f2295ec45a",
            "value": 100
          }
        },
        "647a04651449416397adb22759d1a30c": {
          "model_module": "@jupyter-widgets/controls",
          "model_name": "HTMLModel",
          "model_module_version": "1.5.0",
          "state": {
            "_dom_classes": [],
            "_model_module": "@jupyter-widgets/controls",
            "_model_module_version": "1.5.0",
            "_model_name": "HTMLModel",
            "_view_count": null,
            "_view_module": "@jupyter-widgets/controls",
            "_view_module_version": "1.5.0",
            "_view_name": "HTMLView",
            "description": "",
            "description_tooltip": null,
            "layout": "IPY_MODEL_832d2d986816428e97f6f757c8a57582",
            "placeholder": "​",
            "style": "IPY_MODEL_0fe6e43a891f42ec8982ae7a5d596997",
            "value": " 100/100 [02:09&lt;00:00,  1.30s/it, loss=9.45]"
          }
        },
        "19aef412abdf486bb202ab4b4f284735": {
          "model_module": "@jupyter-widgets/base",
          "model_name": "LayoutModel",
          "model_module_version": "1.2.0",
          "state": {
            "_model_module": "@jupyter-widgets/base",
            "_model_module_version": "1.2.0",
            "_model_name": "LayoutModel",
            "_view_count": null,
            "_view_module": "@jupyter-widgets/base",
            "_view_module_version": "1.2.0",
            "_view_name": "LayoutView",
            "align_content": null,
            "align_items": null,
            "align_self": null,
            "border": null,
            "bottom": null,
            "display": null,
            "flex": null,
            "flex_flow": null,
            "grid_area": null,
            "grid_auto_columns": null,
            "grid_auto_flow": null,
            "grid_auto_rows": null,
            "grid_column": null,
            "grid_gap": null,
            "grid_row": null,
            "grid_template_areas": null,
            "grid_template_columns": null,
            "grid_template_rows": null,
            "height": null,
            "justify_content": null,
            "justify_items": null,
            "left": null,
            "margin": null,
            "max_height": null,
            "max_width": null,
            "min_height": null,
            "min_width": null,
            "object_fit": null,
            "object_position": null,
            "order": null,
            "overflow": null,
            "overflow_x": null,
            "overflow_y": null,
            "padding": null,
            "right": null,
            "top": null,
            "visibility": null,
            "width": null
          }
        },
        "0cdb086c6079402988b1bacbdce73914": {
          "model_module": "@jupyter-widgets/base",
          "model_name": "LayoutModel",
          "model_module_version": "1.2.0",
          "state": {
            "_model_module": "@jupyter-widgets/base",
            "_model_module_version": "1.2.0",
            "_model_name": "LayoutModel",
            "_view_count": null,
            "_view_module": "@jupyter-widgets/base",
            "_view_module_version": "1.2.0",
            "_view_name": "LayoutView",
            "align_content": null,
            "align_items": null,
            "align_self": null,
            "border": null,
            "bottom": null,
            "display": null,
            "flex": null,
            "flex_flow": null,
            "grid_area": null,
            "grid_auto_columns": null,
            "grid_auto_flow": null,
            "grid_auto_rows": null,
            "grid_column": null,
            "grid_gap": null,
            "grid_row": null,
            "grid_template_areas": null,
            "grid_template_columns": null,
            "grid_template_rows": null,
            "height": null,
            "justify_content": null,
            "justify_items": null,
            "left": null,
            "margin": null,
            "max_height": null,
            "max_width": null,
            "min_height": null,
            "min_width": null,
            "object_fit": null,
            "object_position": null,
            "order": null,
            "overflow": null,
            "overflow_x": null,
            "overflow_y": null,
            "padding": null,
            "right": null,
            "top": null,
            "visibility": null,
            "width": null
          }
        },
        "10f3e01df2344baab2dd4c1dd2686e32": {
          "model_module": "@jupyter-widgets/controls",
          "model_name": "DescriptionStyleModel",
          "model_module_version": "1.5.0",
          "state": {
            "_model_module": "@jupyter-widgets/controls",
            "_model_module_version": "1.5.0",
            "_model_name": "DescriptionStyleModel",
            "_view_count": null,
            "_view_module": "@jupyter-widgets/base",
            "_view_module_version": "1.2.0",
            "_view_name": "StyleView",
            "description_width": ""
          }
        },
        "d3597d5e3c5f4fb2854c5e5fb62596d6": {
          "model_module": "@jupyter-widgets/base",
          "model_name": "LayoutModel",
          "model_module_version": "1.2.0",
          "state": {
            "_model_module": "@jupyter-widgets/base",
            "_model_module_version": "1.2.0",
            "_model_name": "LayoutModel",
            "_view_count": null,
            "_view_module": "@jupyter-widgets/base",
            "_view_module_version": "1.2.0",
            "_view_name": "LayoutView",
            "align_content": null,
            "align_items": null,
            "align_self": null,
            "border": null,
            "bottom": null,
            "display": null,
            "flex": null,
            "flex_flow": null,
            "grid_area": null,
            "grid_auto_columns": null,
            "grid_auto_flow": null,
            "grid_auto_rows": null,
            "grid_column": null,
            "grid_gap": null,
            "grid_row": null,
            "grid_template_areas": null,
            "grid_template_columns": null,
            "grid_template_rows": null,
            "height": null,
            "justify_content": null,
            "justify_items": null,
            "left": null,
            "margin": null,
            "max_height": null,
            "max_width": null,
            "min_height": null,
            "min_width": null,
            "object_fit": null,
            "object_position": null,
            "order": null,
            "overflow": null,
            "overflow_x": null,
            "overflow_y": null,
            "padding": null,
            "right": null,
            "top": null,
            "visibility": null,
            "width": null
          }
        },
        "b52f30e256364aef8e7973f2295ec45a": {
          "model_module": "@jupyter-widgets/controls",
          "model_name": "ProgressStyleModel",
          "model_module_version": "1.5.0",
          "state": {
            "_model_module": "@jupyter-widgets/controls",
            "_model_module_version": "1.5.0",
            "_model_name": "ProgressStyleModel",
            "_view_count": null,
            "_view_module": "@jupyter-widgets/base",
            "_view_module_version": "1.2.0",
            "_view_name": "StyleView",
            "bar_color": null,
            "description_width": ""
          }
        },
        "832d2d986816428e97f6f757c8a57582": {
          "model_module": "@jupyter-widgets/base",
          "model_name": "LayoutModel",
          "model_module_version": "1.2.0",
          "state": {
            "_model_module": "@jupyter-widgets/base",
            "_model_module_version": "1.2.0",
            "_model_name": "LayoutModel",
            "_view_count": null,
            "_view_module": "@jupyter-widgets/base",
            "_view_module_version": "1.2.0",
            "_view_name": "LayoutView",
            "align_content": null,
            "align_items": null,
            "align_self": null,
            "border": null,
            "bottom": null,
            "display": null,
            "flex": null,
            "flex_flow": null,
            "grid_area": null,
            "grid_auto_columns": null,
            "grid_auto_flow": null,
            "grid_auto_rows": null,
            "grid_column": null,
            "grid_gap": null,
            "grid_row": null,
            "grid_template_areas": null,
            "grid_template_columns": null,
            "grid_template_rows": null,
            "height": null,
            "justify_content": null,
            "justify_items": null,
            "left": null,
            "margin": null,
            "max_height": null,
            "max_width": null,
            "min_height": null,
            "min_width": null,
            "object_fit": null,
            "object_position": null,
            "order": null,
            "overflow": null,
            "overflow_x": null,
            "overflow_y": null,
            "padding": null,
            "right": null,
            "top": null,
            "visibility": null,
            "width": null
          }
        },
        "0fe6e43a891f42ec8982ae7a5d596997": {
          "model_module": "@jupyter-widgets/controls",
          "model_name": "DescriptionStyleModel",
          "model_module_version": "1.5.0",
          "state": {
            "_model_module": "@jupyter-widgets/controls",
            "_model_module_version": "1.5.0",
            "_model_name": "DescriptionStyleModel",
            "_view_count": null,
            "_view_module": "@jupyter-widgets/base",
            "_view_module_version": "1.2.0",
            "_view_name": "StyleView",
            "description_width": ""
          }
        }
      }
    }
  },
  "nbformat": 4,
  "nbformat_minor": 0
}