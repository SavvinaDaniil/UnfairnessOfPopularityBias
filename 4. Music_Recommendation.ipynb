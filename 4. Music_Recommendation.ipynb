{
 "cells": [
  {
   "cell_type": "markdown",
   "metadata": {
    "id": "NXI0aYKkUntj"
   },
   "source": [
    "This notebook should be run on Google Colab.\n",
    "<a href=\"https://colab.research.google.com/github/SavvinaDaniil/UnfairnessOfPopularityBias/blob/main/4. Music_Recommendation.ipynb\" target=\"_parent\"><img src=\"https://colab.research.google.com/assets/colab-badge.svg\" alt=\"Open in Colab\"/></a>"
   ]
  },
  {
   "cell_type": "markdown",
   "metadata": {
    "id": "T7NA8UpqUnnV"
   },
   "source": [
    "# Process\n",
    "In this notebook, I will train the music recommendation algorithms using two different packages: <a href=\"http://surpriselib.com/\">Surprise</a> & <a href=\"https://cornac.readthedocs.io/en/latest/\">Cornac</a>. "
   ]
  },
  {
   "cell_type": "markdown",
   "metadata": {
    "id": "6HyLhxzyUu6w"
   },
   "source": [
    "## A. Import lbraries"
   ]
  },
  {
   "cell_type": "code",
   "execution_count": 1,
   "metadata": {
    "id": "5YRmDovpU54c"
   },
   "outputs": [],
   "source": [
    "import warnings\n",
    "warnings.simplefilter(action='ignore', category=FutureWarning)\n",
    "import matplotlib.pyplot as plt\n",
    "import random as rd\n",
    "import pandas as pd\n",
    "import numpy as np\n",
    "from tqdm import tqdm\n",
    "import pickle as pkl\n",
    "import time\n",
    "\n",
    "# Cornac imports\n",
    "import cornac\n",
    "from cornac.eval_methods import RatioSplit\n",
    "from cornac.data import Reader as CornacReader #Reader exists in both packages\n",
    "from cornac.models import MostPop, MF, PMF, BPR, NeuMF, WMF, HPF, VAECF, ItemKNN, UserKNN, BaselineOnly \n",
    "from cornac.models import NMF as CornacNMF #NMF exists in both packages\n",
    "from cornac.metrics import MAE, MSE, RMSE, Precision, Recall, NDCG, AUC, MAP, FMeasure, MRR\n",
    "\n",
    "# # Surprise imports\n",
    "# from surprise import BaselineOnly, KNNBasic, KNNWithMeans, SVDpp, SVD\n",
    "# from surprise import NMF as SurpriseNMF\n",
    "# from surprise import Dataset\n",
    "# from surprise import Reader as SurpriseReader\n",
    "# from surprise.model_selection import train_test_split\n",
    "# from surprise import accuracy\n",
    "\n",
    "\n",
    "from collections import defaultdict\n",
    "from scipy import stats\n",
    "from numpy.linalg import norm\n",
    "import seaborn as sns\n",
    "from sklearn.preprocessing import MinMaxScaler\n",
    "# set plot style: grey grid in the background:\n",
    "sns.set(style=\"darkgrid\")\n",
    "pd.set_option(\"display.precision\", 8)"
   ]
  },
  {
   "cell_type": "markdown",
   "metadata": {
    "id": "wJr35vAGVuM4"
   },
   "source": [
    "## B. Set hyperparameters\n",
    "There are certain hyperparameters that need to be tuned before the run. "
   ]
  },
  {
   "cell_type": "code",
   "execution_count": 2,
   "metadata": {
    "id": "Wz1OKVKoVkkD"
   },
   "outputs": [],
   "source": [
    "# constants and initialization\n",
    "rating_threshold = 1.0 # needed for the cornac library: Threshold used to binarize rating values into positive or negative feedback for model evaluation using ranking metrics (rating metrics are not affected). \n",
    "my_seed = 0\n",
    "test_size = 0.2 # the percentage of \"hold out\" data that are used for testing\n",
    "predict_col = \"rating\"\n",
    "user_col = \"user\"\n",
    "top_fraction = 0.2 # the amount of items that will be considered \"popular\"\n",
    "\n",
    "rd.seed(my_seed) #seed for random functions\n",
    "np.random.seed(my_seed) #seed for all numpy stuff"
   ]
  },
  {
   "cell_type": "markdown",
   "metadata": {
    "id": "3Z0PCJ5LZen3"
   },
   "source": [
    "## C. Read files"
   ]
  },
  {
   "cell_type": "markdown",
   "metadata": {
    "id": "LJem-YtiTl7a"
   },
   "source": [
    "### Make data choice\n",
    "The reader has to manually choose whether to run the entire data set or the subset using the alt_dataset variable."
   ]
  },
  {
   "cell_type": "code",
   "execution_count": 3,
   "metadata": {
    "id": "XTuWK8LnTia6"
   },
   "outputs": [],
   "source": [
    "alt_dataset = True"
   ]
  },
  {
   "cell_type": "code",
   "execution_count": 4,
   "metadata": {
    "colab": {
     "base_uri": "https://localhost:8080/"
    },
    "id": "6T6EX2EW6i6-",
    "outputId": "e6b604a3-4662-4369-f7a3-6b76bcb4df49"
   },
   "outputs": [
    {
     "name": "stdout",
     "output_type": "stream",
     "text": [
      "No. user-item interactions: 1008479\n"
     ]
    }
   ],
   "source": [
    "item_col = \"artist\"\n",
    "if alt_dataset == False:\n",
    "  user_events_file = 'https://media.githubusercontent.com/media/SavvinaDaniil/UnfairnessOfPopularityBias/main/data/ratings_music.txt'\n",
    "  cols = ['user',item_col, 'album', 'track', 'timestamp']\n",
    "  df_events = pd.read_csv(user_events_file, sep = '\\t', names = cols)\n",
    "  print('No. of user events: ' + str(len(df_events)))\n",
    "  # create user-item matrix\n",
    "  df_events = df_events.groupby(['user', item_col]).size().reset_index(name='rating')\n",
    "else:\n",
    "  user_events_file = 'https://raw.githubusercontent.com/SavvinaDaniil/UnfairnessOfPopularityBias/main/data/relevant_music_data_20.csv'\n",
    "  df_events = pd.read_csv(user_events_file, index_col=0)\n",
    "\n",
    "\n",
    "print('No. user-item interactions: ' + str(len(df_events)))\n",
    "df_events = df_events.astype(\"int\")"
   ]
  },
  {
   "cell_type": "markdown",
   "metadata": {
    "id": "iMVCVOTmaozs"
   },
   "source": [
    "## D. Data analysis"
   ]
  },
  {
   "cell_type": "code",
   "execution_count": 5,
   "metadata": {
    "id": "WpGdgR_iam3y"
   },
   "outputs": [],
   "source": [
    "def users_and_items(df_events, user_col, item_col):\n",
    "    print('No. user events: ' + str(len(df_events)))\n",
    "    print('No. items: ' + str(len(df_events[item_col].unique())))\n",
    "    print('No. users: ' + str(len(df_events[user_col].unique())))\n",
    "    print(\"\\n\")\n",
    "def user_distribution(df_events, user_col, item_col):\n",
    "    user_dist = df_events[user_col].value_counts() \n",
    "    num_users = len(user_dist)\n",
    "    print('Mean '+item_col+'s per user: ' + str(np.round(user_dist.mean(),1))) \n",
    "    print('Min '+item_col+'s per user: ' + str(np.round(user_dist.min(),1))) \n",
    "    print('Max '+item_col+'s per user: ' + str(np.round(user_dist.max(),1)))\n",
    "    print(\"\\n\")\n",
    "    return user_dist, num_users\n",
    "def item_distribution(df_events, user_col, item_col):\n",
    "    item_dist = df_events[item_col].value_counts()\n",
    "    num_items = len(item_dist)\n",
    "    print('Mean users per '+item_col+': ' + str(np.round(item_dist.mean(),1))) \n",
    "    print('Min users per '+item_col+': ' + str(np.round(item_dist.min(),1))) \n",
    "    print('Max users per '+item_col+': ' + str(np.round(item_dist.max(),1))) \n",
    "    print(\"\\n\")\n",
    "    return item_dist, num_items"
   ]
  },
  {
   "cell_type": "code",
   "execution_count": 6,
   "metadata": {
    "colab": {
     "base_uri": "https://localhost:8080/"
    },
    "id": "1jwJq8rda1jS",
    "outputId": "14b48dc3-a0a1-49df-a6fe-a7c58cc8c20c"
   },
   "outputs": [
    {
     "name": "stdout",
     "output_type": "stream",
     "text": [
      "No. user events: 1008479\n",
      "No. items: 12690\n",
      "No. users: 3000\n",
      "\n",
      "\n",
      "Mean artists per user: 336.2\n",
      "Min artists per user: 4\n",
      "Max artists per user: 2057\n",
      "\n",
      "\n",
      "Mean users per artist: 79.5\n",
      "Min users per artist: 21\n",
      "Max users per artist: 1389\n",
      "\n",
      "\n"
     ]
    }
   ],
   "source": [
    "users_and_items(df_events, user_col, item_col)\n",
    "user_dist, num_users = user_distribution(df_events, user_col, item_col)\n",
    "item_dist, num_items = item_distribution(df_events, user_col, item_col)"
   ]
  },
  {
   "cell_type": "code",
   "execution_count": 7,
   "metadata": {
    "id": "C7wdClok5BPv"
   },
   "outputs": [],
   "source": [
    "# create item dataframe with normalized item counts\n",
    "df_item_dist = pd.DataFrame(item_dist) # turn the series into a dataframe\n",
    "df_item_dist.columns = ['count']\n",
    "df_item_dist['count'] /= num_users # basically the popularity of every item\n"
   ]
  },
  {
   "cell_type": "code",
   "execution_count": 8,
   "metadata": {
    "colab": {
     "base_uri": "https://localhost:8080/",
     "height": 206
    },
    "id": "UMNYiSh35KG8",
    "outputId": "d7ef47b8-ccd8-44c0-ae90-d32d650c04dd"
   },
   "outputs": [
    {
     "data": {
      "text/html": [
       "<div>\n",
       "<style scoped>\n",
       "    .dataframe tbody tr th:only-of-type {\n",
       "        vertical-align: middle;\n",
       "    }\n",
       "\n",
       "    .dataframe tbody tr th {\n",
       "        vertical-align: top;\n",
       "    }\n",
       "\n",
       "    .dataframe thead th {\n",
       "        text-align: right;\n",
       "    }\n",
       "</style>\n",
       "<table border=\"1\" class=\"dataframe\">\n",
       "  <thead>\n",
       "    <tr style=\"text-align: right;\">\n",
       "      <th></th>\n",
       "      <th>count</th>\n",
       "    </tr>\n",
       "  </thead>\n",
       "  <tbody>\n",
       "    <tr>\n",
       "      <th>135</th>\n",
       "      <td>0.46300000</td>\n",
       "    </tr>\n",
       "    <tr>\n",
       "      <th>1602</th>\n",
       "      <td>0.45300000</td>\n",
       "    </tr>\n",
       "    <tr>\n",
       "      <th>46</th>\n",
       "      <td>0.44166667</td>\n",
       "    </tr>\n",
       "    <tr>\n",
       "      <th>320</th>\n",
       "      <td>0.43233333</td>\n",
       "    </tr>\n",
       "    <tr>\n",
       "      <th>27</th>\n",
       "      <td>0.43000000</td>\n",
       "    </tr>\n",
       "  </tbody>\n",
       "</table>\n",
       "</div>"
      ],
      "text/plain": [
       "           count\n",
       "135   0.46300000\n",
       "1602  0.45300000\n",
       "46    0.44166667\n",
       "320   0.43233333\n",
       "27    0.43000000"
      ]
     },
     "execution_count": 8,
     "metadata": {},
     "output_type": "execute_result"
    }
   ],
   "source": [
    "df_item_dist.head()"
   ]
  },
  {
   "cell_type": "code",
   "execution_count": 9,
   "metadata": {
    "id": "G7o_VBaUa4lH"
   },
   "outputs": [],
   "source": [
    "def plot_data_distribution(item_dist, item_col, dividing = [False, 0], log = False):\n",
    "    plt.figure()\n",
    "    ax = plt.axes()\n",
    "    ax.spines['bottom'].set_color('w')\n",
    "    ax.spines['top'].set_color('w')\n",
    "    ax.spines['right'].set_color('w')\n",
    "    ax.spines['left'].set_color('w')\n",
    "    ax.spines['left'].set_zorder(0)\n",
    "    ax.xaxis.set_ticks_position('none') \n",
    "    ax.yaxis.set_ticks_position('none') \n",
    "    ax.set_facecolor(\"aliceblue\")\n",
    "    plt.grid(color = \"w\",linewidth = 2 )\n",
    "    if dividing[0]:\n",
    "        x0 = int(len(item_dist.values)*dividing[1])\n",
    "        y = range(len(item_dist))\n",
    "        plt.plot(y[:x0+1], item_dist.values[:x0+1], label = \"Popular \"+item_col+\"s\", linewidth = 5)\n",
    "        plt.plot(y[x0:], item_dist.values[x0:], label = \"Non Popular \"+item_col+\"s\", linewidth = 5)\n",
    "    else:\n",
    "        plt.plot(item_dist.values)\n",
    "    plt.xticks(fontsize='13')\n",
    "    plt.yticks(fontsize='13')\n",
    "    add = \"\"\n",
    "    if log:\n",
    "        plt.xscale('log')\n",
    "        plt.yscale('log')\n",
    "        add = \" (log)\"\n",
    "    plt.xlabel(item_col+add, fontsize='14')\n",
    "    plt.ylabel('Number of users' + add, fontsize='15')\n",
    "    plt.show(block=True)\n",
    "def plot_popularity_distribution(pop_fraq, item_col, dividing = [False,0]):\n",
    "    plt.figure()\n",
    "    ax = plt.axes()\n",
    "    ax.spines['bottom'].set_color('w')\n",
    "    ax.spines['top'].set_color('w')\n",
    "    ax.spines['right'].set_color('w')\n",
    "    ax.spines['left'].set_color('w')\n",
    "    ax.spines['left'].set_zorder(0)\n",
    "    ax.xaxis.set_ticks_position('none') \n",
    "    ax.yaxis.set_ticks_position('none') \n",
    "    \n",
    "    ax.set_facecolor(\"aliceblue\")\n",
    "    plt.grid(color = \"w\",linewidth = 2 )\n",
    "    if dividing[0]:\n",
    "        y = range(len(pop_fraq))\n",
    "        x0 = int(len(y)*dividing[1]) \n",
    "        x1 = int(len(y)*(1-dividing[1]))\n",
    "        x= sorted(pop_fraq)\n",
    "        plt.plot(y[:x0+1],x[:x0+1], label=\"LowMS users\", linewidth = 5)\n",
    "        plt.plot(y[x0:x1+1],x[x0:x1+1], label = \"MedMS users\", linewidth = 5)\n",
    "        plt.plot(y[x1:],x[x1:], label = \"HighMS users\", linewidth =5)\n",
    "    else:\n",
    "        plt.plot(sorted(pop_fraq))\n",
    "    plt.xlabel('User', fontsize='15')\n",
    "    plt.xticks(fontsize='13')\n",
    "    plt.ylabel('Ratio of popular '+item_col+'s', fontsize='15')\n",
    "    plt.yticks(fontsize='13')\n",
    "    plt.axhline(y=0.8, color='black', linestyle='--', label='80% ratio of popular '+item_col+'s')\n",
    "    plt.legend(fontsize='15')\n",
    "    plt.show(block=True)"
   ]
  },
  {
   "cell_type": "code",
   "execution_count": 10,
   "metadata": {
    "colab": {
     "base_uri": "https://localhost:8080/",
     "height": 564
    },
    "id": "COATHnNGa_G5",
    "outputId": "053099ea-4ddf-4a97-e726-1d499b712cf8"
   },
   "outputs": [
    {
     "data": {
      "image/png": "[encoded data removed]",
      "text/plain": [
       "<Figure size 640x480 with 1 Axes>"
      ]
     },
     "metadata": {},
     "output_type": "display_data"
    },
    {
     "data": {
      "image/png": "[encoded data removed]",
      "text/plain": [
       "<Figure size 640x480 with 1 Axes>"
      ]
     },
     "metadata": {},
     "output_type": "display_data"
    }
   ],
   "source": [
    "plot_data_distribution(item_dist, item_col)\n",
    "plot_data_distribution(item_dist, item_col, [False, 0],True)"
   ]
  },
  {
   "cell_type": "markdown",
   "metadata": {
    "id": "KMiAQybFbFSj"
   },
   "source": [
    "## E. Popularity in the data"
   ]
  },
  {
   "cell_type": "code",
   "execution_count": 11,
   "metadata": {
    "colab": {
     "base_uri": "https://localhost:8080/"
    },
    "id": "jYCqPRLjbByM",
    "outputId": "ddef27a6-5e9b-4028-a01e-1510c44b4586"
   },
   "outputs": [
    {
     "name": "stdout",
     "output_type": "stream",
     "text": [
      "No. top items: 2538\n"
     ]
    }
   ],
   "source": [
    "num_top = int(top_fraction * num_items)\n",
    "top_item_dist = item_dist[:num_top]\n",
    "print('No. top items: ' + str(len(top_item_dist)))"
   ]
  },
  {
   "cell_type": "code",
   "execution_count": 12,
   "metadata": {
    "id": "BEv16gdIsAlc"
   },
   "outputs": [],
   "source": [
    "def read(low_user_file, medium_user_file, high_user_file):\n",
    "    low_users = pd.read_csv(low_user_file, sep=',').set_index('user_id')\n",
    "    medium_users = pd.read_csv(medium_user_file, sep=',').set_index('user_id')\n",
    "    high_users = pd.read_csv(high_user_file, sep=',').set_index('user_id')\n",
    "    no_users = len(low_users) + len(medium_users) + len(high_users)\n",
    "    print('No. of users: ' + str(no_users))\n",
    "    \n",
    "    mainstreaminess = \"M_global_R_APC\"\n",
    "    \n",
    "    print('Average mainstreaminess per user for low: ' + str(low_users[mainstreaminess].mean()))\n",
    "    print('Average mainstreaminess per user for med: ' + str(medium_users[mainstreaminess].mean()))\n",
    "    print('Average mainstreaminess per user for high: ' + str(high_users[mainstreaminess].mean()))\n",
    "    return no_users, low_users, medium_users, high_users"
   ]
  },
  {
   "cell_type": "code",
   "execution_count": 13,
   "metadata": {
    "id": "OVptdVHQVTjs"
   },
   "outputs": [],
   "source": [
    "def calculate_popularity_for_music(df_events, top_item_dist, item_dist, num_users, user_col, item_col, low_users, medium_users, high_users):\n",
    "    pop_count = [] # number of top items per user\n",
    "    user_hist = [] # user history sizes\n",
    "    pop_fraq = [] # relative number of top items per user\n",
    "    pop_item_fraq = [] # average popularity of items in user profiles\n",
    "    low_profile_size = 0\n",
    "    low_gap = 0\n",
    "    medium_profile_size = 0\n",
    "    medium_gap = 0\n",
    "    high_profile_size = 0\n",
    "    high_gap = 0\n",
    "    low_ratio = 0\n",
    "    medium_ratio = 0\n",
    "    high_ratio = 0\n",
    "    \n",
    "    i=0\n",
    "    for u, df in df_events.groupby(user_col):\n",
    "        no_user_items = len(set(df[item_col]))\n",
    "        no_user_pop_items = len(set(df[item_col]) & set(top_item_dist.index))\n",
    "        pop_count.append(no_user_pop_items)\n",
    "        user_hist.append(no_user_items) \n",
    "        pop_fraq.append(no_user_pop_items / no_user_items)\n",
    "        user_pop_item_fraq = sum(item_dist[df[item_col]] / num_users) / no_user_items\n",
    "        pop_item_fraq.append(user_pop_item_fraq)\n",
    "    \n",
    "        if u in low_users.index: # get user group-specific values\n",
    "            low_profile_size += no_user_items\n",
    "            low_gap += user_pop_item_fraq\n",
    "            low_ratio += no_user_pop_items / no_user_items\n",
    "        elif u in medium_users.index:\n",
    "            medium_profile_size += no_user_items\n",
    "            medium_gap += user_pop_item_fraq\n",
    "            medium_ratio += no_user_pop_items / no_user_items\n",
    "        else:\n",
    "            high_profile_size += no_user_items\n",
    "            high_gap += user_pop_item_fraq\n",
    "            high_ratio += no_user_pop_items / no_user_items\n",
    "        i+=1\n",
    "        if i%1000==0:\n",
    "            print(i)\n",
    "    low_profile_size /= len(low_users)\n",
    "    medium_profile_size /= len(medium_users)\n",
    "    high_profile_size /= len(high_users)\n",
    "    low_ratio /= len(low_users)\n",
    "    medium_ratio /= len(medium_users)\n",
    "    high_ratio /= len(high_users)\n",
    "    low_gap /= len(low_users)\n",
    "    medium_gap /= len(medium_users)\n",
    "    high_gap /= len(high_users)\n",
    "  \n",
    "    return pop_count,user_hist,pop_fraq, pop_item_fraq, low_profile_size, medium_profile_size, high_profile_size, low_gap, medium_gap, high_gap, low_ratio, medium_ratio, high_ratio\n",
    "def calculate_popularity(df_events, top_item_dist, item_dist, num_users, user_col, item_col):\n",
    "    pop_count = [] # number of top items per user\n",
    "    user_hist = [] # user history sizes\n",
    "    pop_fraq = [] # relative number of top items per user\n",
    "    pop_item_fraq = [] # average popularity of items in user profiles\n",
    "    i=0\n",
    "    for u, df in df_events.groupby(user_col):\n",
    "        no_user_items = len(set(df[item_col]))\n",
    "        no_user_pop_items = len(set(df[item_col]) & set(top_item_dist.index))\n",
    "        pop_count.append(no_user_pop_items)\n",
    "        user_hist.append(no_user_items) \n",
    "        pop_fraq.append(no_user_pop_items / no_user_items)\n",
    "        user_pop_item_fraq = sum(item_dist[df[item_col]] / num_users) / no_user_items\n",
    "        pop_item_fraq.append(user_pop_item_fraq)\n",
    "        i+=1\n",
    "        if i%1000==0:\n",
    "            print(i)\n",
    "    return pop_count,user_hist,pop_fraq, pop_item_fraq"
   ]
  },
  {
   "cell_type": "code",
   "execution_count": 14,
   "metadata": {
    "id": "07fc53hjVc-B"
   },
   "outputs": [],
   "source": [
    "def sort_user_dist(user_dist,pop_count, user_hist,pop_fraq,pop_item_fraq, by = \"pop_fraq\"):\n",
    "    user_dist = user_dist.sort_index()\n",
    "    user_dist_sorted = pd.DataFrame(data = user_dist)\n",
    "    \n",
    "    user_dist_sorted.columns = [\"count\"]\n",
    "    \n",
    "    user_dist_sorted[\"pop_count\"] = pop_count\n",
    "    user_dist_sorted[\"user_hist\"] = user_hist\n",
    "    user_dist_sorted[\"pop_fraq\"] = pop_fraq\n",
    "    user_dist_sorted[\"pop_item_fraq\"] = pop_item_fraq\n",
    "    \n",
    "    user_dist_sorted = user_dist_sorted.sort_values(by=[by])\n",
    "    return user_dist_sorted\n",
    "\n",
    "def split(user_dist_sorted, top_fraction):\n",
    "    low, med, high = np.split(user_dist_sorted, [int(top_fraction*len(user_dist_sorted)), int((1-top_fraction)*len(user_dist_sorted))])\n",
    "    return low, med, high\n",
    "def calculate_group_characteristics(low, med, high):\n",
    "    low_profile_size = low.user_hist.mean()\n",
    "    med_profile_size = med.user_hist.mean()\n",
    "    high_profile_size = high.user_hist.mean()\n",
    "    \n",
    "    low_nr_users = len(low)\n",
    "    med_nr_users = len(med)\n",
    "    high_nr_users = len(high)\n",
    "    \n",
    "    low_GAP = low.pop_item_fraq.mean()\n",
    "    med_GAP = med.pop_item_fraq.mean()\n",
    "    high_GAP = high.pop_item_fraq.mean()\n",
    "    \n",
    "    return low_profile_size, med_profile_size, high_profile_size, low_nr_users, med_nr_users, high_nr_users, low_GAP, med_GAP, high_GAP"
   ]
  },
  {
   "cell_type": "markdown",
   "metadata": {
    "id": "kCoOuYpNT01y"
   },
   "source": [
    "### Make notion of popularity propensity choice\n",
    "The reader has to manually choose how to divide the users into groups according to their propensity for popular items."
   ]
  },
  {
   "cell_type": "code",
   "execution_count": 15,
   "metadata": {
    "id": "KZ1sEeWBUh6a"
   },
   "outputs": [],
   "source": [
    "popularity_function = {'pop_one': \"pop_fraq\",\n",
    "             'pop_two': \"pop_item_fraq\" ,\n",
    "             'pop_three': \"mainstreaminess\" }"
   ]
  },
  {
   "cell_type": "code",
   "execution_count": 60,
   "metadata": {
    "id": "8QuNZjE5VIZ6"
   },
   "outputs": [],
   "source": [
    "pop_notion = \"pop_two\""
   ]
  },
  {
   "cell_type": "code",
   "execution_count": 61,
   "metadata": {
    "colab": {
     "base_uri": "https://localhost:8080/"
    },
    "id": "yoowIBXOVGZi",
    "outputId": "a1fd1c67-4136-48f6-83ed-3edb2089e503"
   },
   "outputs": [
    {
     "name": "stdout",
     "output_type": "stream",
     "text": [
      "1000\n",
      "2000\n",
      "3000\n"
     ]
    }
   ],
   "source": [
    "if pop_notion == \"pop_three\":\n",
    "  low_user_file = \"https://media.githubusercontent.com/media/SavvinaDaniil/UnfairnessOfPopularityBias/main/data/low_main_users.txt\"\n",
    "  medium_user_file = \"https://media.githubusercontent.com/media/SavvinaDaniil/UnfairnessOfPopularityBias/main/data/medium_main_users.txt\"\n",
    "  high_user_file = \"https://media.githubusercontent.com/media/SavvinaDaniil/UnfairnessOfPopularityBias/main/data/high_main_users.txt\"\n",
    "  no_users, low, med, high= read(low_user_file, medium_user_file, high_user_file)\n",
    "  pop_count,user_hist,pop_fraq, pop_item_fraq, low_profile_size, med_profile_size, high_profile_size, low_GAP, med_GAP, high_GAP, low_ratio, med_ratio, high_ratio = calculate_popularity_for_music(df_events, top_item_dist, item_dist, num_users, user_col, item_col, low, med, high)\n",
    "  low_nr_users = 1000\n",
    "  med_nr_users = 1000\n",
    "  high_nr_users = 1000\n",
    "else:\n",
    "  pop_count,user_hist,pop_fraq, pop_item_fraq = calculate_popularity(df_events, top_item_dist, item_dist, num_users, user_col, item_col)\n",
    "  user_dist_sorted = sort_user_dist(user_dist,pop_count, user_hist,pop_fraq,pop_item_fraq, by = popularity_function[pop_notion])\n",
    "  low, med, high = split(user_dist_sorted, top_fraction)\n",
    "  low_profile_size, med_profile_size, high_profile_size, low_nr_users, med_nr_users, high_nr_users, low_GAP, med_GAP, high_GAP = calculate_group_characteristics(low, med, high)\n"
   ]
  },
  {
   "cell_type": "code",
   "execution_count": 62,
   "metadata": {
    "colab": {
     "base_uri": "https://localhost:8080/"
    },
    "id": "oERLNRhbWNYe",
    "outputId": "825237ef-fdac-4ce1-fe1a-15c3699695a3"
   },
   "outputs": [
    {
     "name": "stdout",
     "output_type": "stream",
     "text": [
      "LowMS GAP: 0.049812030413063556\n",
      "MedMS GAP: 0.08378301649074477\n",
      "HighMS GAP: 0.1257446015496197\n"
     ]
    }
   ],
   "source": [
    "print('LowMS GAP: ' + str(low_GAP))\n",
    "print('MedMS GAP: ' + str(med_GAP))\n",
    "print('HighMS GAP: ' + str(high_GAP))"
   ]
  },
  {
   "cell_type": "code",
   "execution_count": 63,
   "metadata": {
    "id": "RZwgf9kEbR52"
   },
   "outputs": [],
   "source": [
    "def plot_popularity_distribution(pop_fraq, item_col, dividing = [False,0]):\n",
    "    plt.figure()\n",
    "    ax = plt.axes()\n",
    "    ax.spines['bottom'].set_color('w')\n",
    "    ax.spines['top'].set_color('w')\n",
    "    ax.spines['right'].set_color('w')\n",
    "    ax.spines['left'].set_color('w')\n",
    "    ax.spines['left'].set_zorder(0)\n",
    "    ax.xaxis.set_ticks_position('none') \n",
    "    ax.yaxis.set_ticks_position('none') \n",
    "    \n",
    "    ax.set_facecolor(\"aliceblue\")\n",
    "    plt.grid(color = \"w\",linewidth = 2 )\n",
    "    if dividing[0]:\n",
    "        y = range(len(pop_fraq))\n",
    "        x0 = int(len(y)*dividing[1]) \n",
    "        x1 = int(len(y)*(1-dividing[1]))\n",
    "        x= sorted(pop_fraq)\n",
    "        plt.plot(y[:x0+1],x[:x0+1], label=\"LowMS users\", linewidth = 5)\n",
    "        plt.plot(y[x0:x1+1],x[x0:x1+1], label = \"MedMS users\", linewidth = 5)\n",
    "        plt.plot(y[x1:],x[x1:], label = \"HighMS users\", linewidth =5)\n",
    "    else:\n",
    "        plt.plot(sorted(pop_fraq))\n",
    "    plt.xlabel('User', fontsize='15')\n",
    "    plt.xticks(fontsize='13')\n",
    "    plt.ylabel('Ratio of popular '+item_col+'s', fontsize='15')\n",
    "    plt.yticks(fontsize='13')\n",
    "    plt.axhline(y=0.8, color='black', linestyle='--', label='80% ratio of popular '+item_col+'s')\n",
    "    plt.legend(fontsize='15')\n",
    "    plt.show(block=True)\n",
    "\n",
    "def plot_profile_size_vs_popularity(pop_metric, user_hist, way, item_col):\n",
    "    plt.figure()\n",
    "    ax = plt.axes()\n",
    "    ax.spines['bottom'].set_color('w')\n",
    "    ax.spines['top'].set_color('w')\n",
    "    ax.spines['right'].set_color('w')\n",
    "    ax.spines['left'].set_color('w')\n",
    "    ax.spines['left'].set_zorder(0)\n",
    "    ax.xaxis.set_ticks_position('none') \n",
    "    ax.yaxis.set_ticks_position('none') \n",
    "    \n",
    "    ax.set_facecolor(\"aliceblue\")\n",
    "    plt.grid(color = \"w\",linewidth = 2 )\n",
    "    slope, intercept, r_value, p_value, std_err = stats.linregress(user_hist, pop_metric)\n",
    "    print('R-value: ' + str(r_value))\n",
    "    line = slope * np.array(user_hist) + intercept\n",
    "    plt.plot(user_hist, pop_metric, 'o', user_hist, line)\n",
    "    plt.xlabel('User profile size', fontsize='15')\n",
    "    plt.xticks(fontsize='13')\n",
    "    if way == \"count\":\n",
    "        ylabel = \"Number of popular \"+item_col+\"s\"\n",
    "    elif way == \"percentage\":\n",
    "        ylabel = 'Percentage of popular '+item_col+'s'\n",
    "    else:\n",
    "        ylabel = \"Average popularity of \"+item_col+\"s\"\n",
    "    plt.ylabel(ylabel, fontsize='15')\n",
    "    plt.yticks(fontsize='13')\n",
    "    plt.show(block=True)"
   ]
  },
  {
   "cell_type": "code",
   "execution_count": 64,
   "metadata": {
    "colab": {
     "base_uri": "https://localhost:8080/",
     "height": 1000
    },
    "id": "WDFRIFsibZTI",
    "outputId": "a385b53a-f80b-4c47-82d0-b8d51ecfff4a"
   },
   "outputs": [
    {
     "data": {
      "image/png": "[encoded data removed]",
      "text/plain": [
       "<Figure size 640x480 with 1 Axes>"
      ]
     },
     "metadata": {},
     "output_type": "display_data"
    },
    {
     "name": "stdout",
     "output_type": "stream",
     "text": [
      "R-value: 0.9617464474616385\n"
     ]
    },
    {
     "data": {
      "image/png": "[encoded data removed]",
      "text/plain": [
       "<Figure size 640x480 with 1 Axes>"
      ]
     },
     "metadata": {},
     "output_type": "display_data"
    },
    {
     "name": "stdout",
     "output_type": "stream",
     "text": [
      "R-value: -0.056057853315537816\n"
     ]
    },
    {
     "data": {
      "image/png": "[encoded data removed]",
      "text/plain": [
       "<Figure size 640x480 with 1 Axes>"
      ]
     },
     "metadata": {},
     "output_type": "display_data"
    },
    {
     "name": "stdout",
     "output_type": "stream",
     "text": [
      "R-value: -0.2244508506298754\n"
     ]
    },
    {
     "data": {
      "image/png": "[encoded data removed]",
      "text/plain": [
       "<Figure size 640x480 with 1 Axes>"
      ]
     },
     "metadata": {},
     "output_type": "display_data"
    }
   ],
   "source": [
    "plot_popularity_distribution(pop_fraq, item_col)\n",
    "plot_profile_size_vs_popularity(pop_count,user_hist, \"count\", item_col)\n",
    "plot_profile_size_vs_popularity(pop_fraq,user_hist, \"percentage\", item_col)\n",
    "plot_profile_size_vs_popularity(pop_item_fraq,user_hist, \"average\", item_col)"
   ]
  },
  {
   "cell_type": "markdown",
   "metadata": {
    "id": "nZ-KPsOzbduG"
   },
   "source": [
    "## F. User groups"
   ]
  },
  {
   "cell_type": "code",
   "execution_count": 65,
   "metadata": {
    "id": "Dmf4J023byK4"
   },
   "outputs": [],
   "source": [
    "def plot_group_characteristics(low_nr, med_nr, high_nr, way, item_col):\n",
    "    plt.figure()\n",
    "    ax = plt.axes()\n",
    "    ax.spines['bottom'].set_color('w')\n",
    "    ax.spines['top'].set_color('w')\n",
    "    ax.spines['right'].set_color('w')\n",
    "    ax.spines['left'].set_color('w')\n",
    "    ax.spines['left'].set_zorder(0)\n",
    "    ax.xaxis.set_ticks_position('none') \n",
    "    ax.yaxis.set_ticks_position('none') \n",
    "    \n",
    "    ax.set_facecolor(\"aliceblue\")\n",
    "    plt.bar(np.arange(3), [low_nr, med_nr, high_nr])\n",
    "    plt.xticks(np.arange(3), ['LowMS', 'MedMS', 'HighMS'])\n",
    "    plt.xlabel('User group')\n",
    "    if way==\"size\":\n",
    "        ylabel = 'Average user profile size'\n",
    "    else:\n",
    "        ylabel = \"Number of users per group\"\n",
    "    plt.ylabel(ylabel)\n",
    "    \n",
    "    print('LowMS: ' + str(low_nr))\n",
    "    print('MedMS: ' + str(med_nr))\n",
    "    print('HighMS: ' + str(high_nr))\n",
    "    plt.show(block=True)"
   ]
  },
  {
   "cell_type": "code",
   "execution_count": 66,
   "metadata": {
    "colab": {
     "base_uri": "https://localhost:8080/",
     "height": 658
    },
    "id": "GByQlxuOb245",
    "outputId": "00ad01ad-9510-425e-c52b-ed03bc2de77b"
   },
   "outputs": [
    {
     "name": "stdout",
     "output_type": "stream",
     "text": [
      "LowMS: 600\n",
      "MedMS: 1800\n",
      "HighMS: 600\n"
     ]
    },
    {
     "data": {
      "image/png": "[encoded data removed]",
      "text/plain": [
       "<Figure size 640x480 with 1 Axes>"
      ]
     },
     "metadata": {},
     "output_type": "display_data"
    },
    {
     "name": "stdout",
     "output_type": "stream",
     "text": [
      "LowMS: 336.8666666666667\n",
      "MedMS: 385.24833333333333\n",
      "HighMS: 188.18666666666667\n"
     ]
    },
    {
     "data": {
      "image/png": "[encoded data removed]",
      "text/plain": [
       "<Figure size 640x480 with 1 Axes>"
      ]
     },
     "metadata": {},
     "output_type": "display_data"
    }
   ],
   "source": [
    "plot_group_characteristics(low_nr = low_nr_users, med_nr = med_nr_users, high_nr = high_nr_users, way = \"number\", item_col = item_col)\n",
    "plot_group_characteristics(low_profile_size, med_profile_size, high_profile_size, way = \"size\", item_col = item_col)"
   ]
  },
  {
   "cell_type": "code",
   "execution_count": 67,
   "metadata": {
    "id": "KFZkl3i4b5Ik"
   },
   "outputs": [],
   "source": [
    "# plot_data_distribution(item_dist, item_col, dividing = [True, top_fraction], log = False)\n",
    "# plot_popularity_distribution(pop_fraq, item_col, dividing = [True,top_fraction])"
   ]
  },
  {
   "cell_type": "code",
   "execution_count": 68,
   "metadata": {},
   "outputs": [
    {
     "name": "stdout",
     "output_type": "stream",
     "text": [
      "Requirement already satisfied: pandas==1.5 in /export/scratch2/home/savvina/new_environment/conda/envs/tors/lib/python3.8/site-packages (1.5.0)\n",
      "Requirement already satisfied: python-dateutil>=2.8.1 in /export/scratch2/home/savvina/new_environment/conda/envs/tors/lib/python3.8/site-packages (from pandas==1.5) (2.8.2)\n",
      "Requirement already satisfied: pytz>=2020.1 in /export/scratch2/home/savvina/new_environment/conda/envs/tors/lib/python3.8/site-packages (from pandas==1.5) (2023.3.post1)\n",
      "Requirement already satisfied: numpy>=1.20.3 in /export/scratch2/home/savvina/new_environment/conda/envs/tors/lib/python3.8/site-packages (from pandas==1.5) (1.23.5)\n",
      "Requirement already satisfied: six>=1.5 in /export/scratch2/home/savvina/new_environment/conda/envs/tors/lib/python3.8/site-packages (from python-dateutil>=2.8.1->pandas==1.5) (1.16.0)\n"
     ]
    }
   ],
   "source": [
    "!pip install pandas==1.5"
   ]
  },
  {
   "cell_type": "code",
   "execution_count": 69,
   "metadata": {
    "id": "oCcJ8Rhflpth",
    "scrolled": true
   },
   "outputs": [],
   "source": [
    "scaled_df_events = pd.DataFrame()\n",
    "for user_id, group in df_events.groupby('user'):  \n",
    "    scaler = MinMaxScaler(feature_range=(1, 1000)) #\"βαθμολογια\" 1 με 1000\n",
    "    scaled_ratings = scaler.fit_transform(group[predict_col].values.reshape(-1, 1).astype(float))\n",
    "    new_rows = group.copy()\n",
    "    new_rows[predict_col] = scaled_ratings\n",
    "    scaled_df_events = scaled_df_events.append(new_rows)\n",
    "\n",
    "    #scaled_df_events = pd.concate([scaled_df_events,pd.DataFrame([new_rows])])"
   ]
  },
  {
   "cell_type": "code",
   "execution_count": 70,
   "metadata": {
    "id": "IfmTea9Hl3tV"
   },
   "outputs": [],
   "source": [
    "df_events = scaled_df_events"
   ]
  },
  {
   "cell_type": "markdown",
   "metadata": {
    "id": "gbQUQuRbcJ5H"
   },
   "source": [
    "## G. Recommendation"
   ]
  },
  {
   "cell_type": "code",
   "execution_count": 27,
   "metadata": {
    "colab": {
     "base_uri": "https://localhost:8080/",
     "height": 206
    },
    "id": "yJewyI61nSAv",
    "outputId": "49894dfb-60ef-4386-c1df-4caea912bad4"
   },
   "outputs": [
    {
     "data": {
      "text/html": [
       "<div>\n",
       "<style scoped>\n",
       "    .dataframe tbody tr th:only-of-type {\n",
       "        vertical-align: middle;\n",
       "    }\n",
       "\n",
       "    .dataframe tbody tr th {\n",
       "        vertical-align: top;\n",
       "    }\n",
       "\n",
       "    .dataframe thead th {\n",
       "        text-align: right;\n",
       "    }\n",
       "</style>\n",
       "<table border=\"1\" class=\"dataframe\">\n",
       "  <thead>\n",
       "    <tr style=\"text-align: right;\">\n",
       "      <th></th>\n",
       "      <th>user</th>\n",
       "      <th>artist</th>\n",
       "      <th>rating</th>\n",
       "    </tr>\n",
       "  </thead>\n",
       "  <tbody>\n",
       "    <tr>\n",
       "      <th>0</th>\n",
       "      <td>1021445</td>\n",
       "      <td>12</td>\n",
       "      <td>184.22270742</td>\n",
       "    </tr>\n",
       "    <tr>\n",
       "      <th>1</th>\n",
       "      <td>1021445</td>\n",
       "      <td>16</td>\n",
       "      <td>1.00000000</td>\n",
       "    </tr>\n",
       "    <tr>\n",
       "      <th>2</th>\n",
       "      <td>1021445</td>\n",
       "      <td>28</td>\n",
       "      <td>27.17467249</td>\n",
       "    </tr>\n",
       "    <tr>\n",
       "      <th>3</th>\n",
       "      <td>1021445</td>\n",
       "      <td>29</td>\n",
       "      <td>1.00000000</td>\n",
       "    </tr>\n",
       "    <tr>\n",
       "      <th>4</th>\n",
       "      <td>1021445</td>\n",
       "      <td>46</td>\n",
       "      <td>1.00000000</td>\n",
       "    </tr>\n",
       "  </tbody>\n",
       "</table>\n",
       "</div>"
      ],
      "text/plain": [
       "      user  artist        rating\n",
       "0  1021445      12  184.22270742\n",
       "1  1021445      16    1.00000000\n",
       "2  1021445      28   27.17467249\n",
       "3  1021445      29    1.00000000\n",
       "4  1021445      46    1.00000000"
      ]
     },
     "execution_count": 27,
     "metadata": {},
     "output_type": "execute_result"
    }
   ],
   "source": [
    "df_events.head()"
   ]
  },
  {
   "cell_type": "markdown",
   "metadata": {
    "id": "yQyAB2jFcMnk"
   },
   "source": [
    "### G.1 Cornac\n",
    "The library used by the book paper. It contains many algorithms."
   ]
  },
  {
   "cell_type": "code",
   "execution_count": 28,
   "metadata": {
    "id": "uI-XJAWQpHkL"
   },
   "outputs": [],
   "source": [
    "df_events_cornac = df_events.copy()\n",
    "mapping_dict = {} # Create a dictionary that maps each artist to an integer.\n",
    "i=0\n",
    "for art in df_events_cornac[item_col].unique():\n",
    "    mapping_dict[art] = i\n",
    "    i+=1\n",
    "df_events_cornac[item_col] = df_events_cornac[item_col].map(lambda x: mapping_dict.get(x,x)) # Map in the ratings file"
   ]
  },
  {
   "cell_type": "code",
   "execution_count": 29,
   "metadata": {
    "id": "SVrTTaHBpZ04"
   },
   "outputs": [],
   "source": [
    "df_events_cornac.user = df_events_cornac.user.astype(\"string\")\n",
    "df_events_cornac.artist = df_events_cornac.artist.astype(\"string\")"
   ]
  },
  {
   "cell_type": "code",
   "execution_count": 30,
   "metadata": {
    "id": "Gom3rbXz5844"
   },
   "outputs": [],
   "source": [
    "df_item_dist_cornac = df_item_dist.rename(index = mapping_dict)"
   ]
  },
  {
   "cell_type": "code",
   "execution_count": 31,
   "metadata": {
    "id": "O8irZQHgcAV3"
   },
   "outputs": [],
   "source": [
    "data = list(df_events_cornac[[user_col,item_col,predict_col]].to_records(index = False))"
   ]
  },
  {
   "cell_type": "code",
   "execution_count": 32,
   "metadata": {
    "colab": {
     "base_uri": "https://localhost:8080/"
    },
    "id": "6xwY-QV2XWHA",
    "outputId": "926d0c98-577e-4584-dc88-751599cba83a"
   },
   "outputs": [
    {
     "data": {
      "text/plain": [
       "[('1021445', '0', 184.22270742),\n",
       " ('1021445', '1', 1.),\n",
       " ('1021445', '2', 27.17467249)]"
      ]
     },
     "execution_count": 32,
     "metadata": {},
     "output_type": "execute_result"
    }
   ],
   "source": [
    "data[:3]"
   ]
  },
  {
   "cell_type": "code",
   "execution_count": 33,
   "metadata": {
    "id": "cZ0JGW8ppnn7"
   },
   "outputs": [],
   "source": [
    "# Split the data based on ratio\n",
    "rs = RatioSplit(data=data, test_size=test_size, rating_threshold=rating_threshold, seed=0)"
   ]
  },
  {
   "cell_type": "code",
   "execution_count": 34,
   "metadata": {
    "id": "i4m6M8oIIt1w"
   },
   "outputs": [],
   "source": [
    "all_items = set(range(rs.total_items)) # needed for later"
   ]
  },
  {
   "cell_type": "code",
   "execution_count": 35,
   "metadata": {
    "id": "R07khWBlIuR6"
   },
   "outputs": [],
   "source": [
    "# Define the two different options for UserKNN, with and without mean centering\n",
    "usKNN = UserKNN(k=40, similarity = 'cosine', mean_centered=False, seed = my_seed, verbose=True)\n",
    "usKNN_means = UserKNN(k=40, similarity = 'cosine', mean_centered=True, seed = my_seed, verbose=True)"
   ]
  },
  {
   "cell_type": "markdown",
   "metadata": {
    "id": "4nJxtu3WIv00"
   },
   "source": [
    "#### Training"
   ]
  },
  {
   "cell_type": "code",
   "execution_count": 36,
   "metadata": {
    "id": "rVXlmaIUqV0I"
   },
   "outputs": [],
   "source": [
    "# initialize models, here we are comparing: simple, traditional, and neural networks based models\n",
    "models = [\n",
    "          # 1: Random\n",
    "          # 2: MostPop\n",
    "          MostPop(),\n",
    "          # 3: UserKNN\n",
    "          usKNN,\n",
    "          # 4: ItemKNN\n",
    "          ItemKNN(k=40, similarity = 'cosine', mean_centered=False, seed = my_seed, verbose=True),\n",
    "          # 5: UserKNN with means\n",
    "          usKNN_means,\n",
    "          ## 6: BaselineOnly\n",
    "          #BaselineOnly(verbose=True),\n",
    "          # 7: BPR\n",
    "          BPR(k=10, max_iter=200, learning_rate=0.001, lambda_reg=0.01, seed=123, verbose=True),\n",
    "          # 8: MF\n",
    "          MF(k=30, max_iter=100, learning_rate=0.01, lambda_reg=0.001, seed=123, verbose=True),\n",
    "          # 9: PMF\n",
    "          PMF(k=10, max_iter=100, learning_rate=0.001, lambda_reg=0.001, verbose=True),\n",
    "          # 10: NMF\n",
    "          CornacNMF(k=15, max_iter=50, learning_rate=0.005, lambda_u=0.06, lambda_v=0.06, lambda_bu=0.02, lambda_bi=0.02, use_bias=False, verbose=True, seed=123),\n",
    "          # 11: WMF\n",
    "          WMF(k=50, max_iter=50, learning_rate=0.001, lambda_u=0.01, lambda_v=0.01, verbose=True, seed=123),\n",
    "          # 12: PF\n",
    "          HPF(k=50, seed=123, hierarchical=False, name=\"PF\", verbose=True),\n",
    "          # 13: NueMF\n",
    "          NeuMF(num_factors=8, layers=[32, 16, 8], act_fn=\"tanh\", num_epochs=1, num_neg=3, batch_size=256, lr=0.001, seed=42, verbose=True),\n",
    "          # 14: VAECF\n",
    "          VAECF(k=10, autoencoder_structure=[20], act_fn=\"tanh\", likelihood=\"mult\", n_epochs=100, batch_size=100, learning_rate=0.001, beta=1.0, seed=123, use_gpu=True, verbose=True)\n",
    "          ]"
   ]
  },
  {
   "cell_type": "code",
   "execution_count": 37,
   "metadata": {
    "id": "zfF7zmBlI3K3"
   },
   "outputs": [],
   "source": [
    "algo_names = [\"Random\",\n",
    "              \"MostPop\", \n",
    "              \"UserKNN\",\n",
    "              \"ItemKNN\", \n",
    "              \"UserKNN with means\", \n",
    "              \"BPR\",\n",
    "              \"MF\",\n",
    "              \"PMF\",\n",
    "              \"NMF\",\n",
    "              \"WMF\",\n",
    "              \"HPF\",\n",
    "              \"NeuMF\",\n",
    "              \"VAECF\"\n",
    "              ] # in the order that they are in the model list"
   ]
  },
  {
   "cell_type": "code",
   "execution_count": 38,
   "metadata": {
    "colab": {
     "base_uri": "https://localhost:8080/",
     "height": 1000,
     "referenced_widgets": [
      "a277ec57efff460eb68675bff65369a5",
      "1187c484f63949928c588b3cc91a3544",
      "6e0f275a1330449aadd689e9cb34c1b8",
      "6ee5b3d3534f495ea9ae6f474818e849",
      "4a55579f72fc4e979d884a54d201e8de",
      "13435784194545ec96666a0b364802b3",
      "e1302c19833b45d1a22f0bcabcfe8f18",
      "ed9d099bbab94c0187732c6127797b33",
      "7b63f8e456f6402eaf3ec7a13c4bebe8",
      "53174a9af6d24d39886ce287bdc9501d",
      "c58999f50231403290512ef094fae78b",
      "741386dd13dd4910ac830bd0ce558ea3",
      "23260e17db0f4712955e94eaf50e43fc",
      "995cb11c45834b53982edcaa158fb994",
      "6b64006a3e9b4065adfce1c66e60a269",
      "438056719f104af798671dc922d38e80",
      "3ed55a294b4b4de8a44c36ede69c5b91",
      "82e6df799546495cbb02b3f8f39974f8",
      "c0378c2f9eda40368d83a583c49b81b2",
      "d9d49b950f3d48b881b2a75cb37e29ba",
      "e3790363ec084e23919e818bfdbbaf5e",
      "fbf3ae810e764b3f8e86f05207372ed4",
      "2eb1e08bfed0487ebd14bdc24bfc3bcf",
      "fa0d8500a8434ff6a26099d3364b785e",
      "a7bfb4f0e24148168386bbfc65b807af",
      "c898fd6643e0405caf0f9749b062b53e",
      "df0f4dd9ad7b41acbb78e951a08c3803",
      "6d52034e467146178926219d6bcc7a01",
      "b2841ae6c88a4929b1be95e4807e5acf",
      "c446d5dc493a4cb6883ca8f484fcfe06",
      "b0beb1e168924a7ab2137af0052a6332",
      "edb5da79de04412da972a56f4b4cf246",
      "9556b4e73cda4f48ac22aabb0032f5cf",
      "6869b4ab14fc453e87894eb519b3ee53",
      "860c9a5d1ffe4113b35c6e3ddcf7e256",
      "b28f565629744e109fe68474ac5980da",
      "9a077a581fe34d34ab0c39e3b152dbc2",
      "3f216da6dd8e469c87036023da16750a",
      "7639fab1cb4b4f349b26b7839a8edca3",
      "c9f535d3b5c644469af72a3f0d17d15b",
      "39e52c08513b4624b31626fcefcd6b6d",
      "6b2d40e609e64319ade00a623cf75697",
      "00407b4bf2504ceeac867ef86e5a8f26",
      "4f3ae42dbe224747bfaba84cfd0b8525",
      "04dd975adb724fda869bc6511bfb2d18",
      "def3401ca9564aa99cba56ef4727d76b",
      "c27ff0356e6f4404a2dee3323a524a77",
      "8bc4b7491f9e41e087696fa4f1ff2002",
      "91bdb9b163264494b1819269af7a6924",
      "2ab27320e740492fbe11b0ff049fcc68",
      "27137e34792f4b32b8d6753df63e3bbc",
      "e3749963c3f94543b70348479bf11b22",
      "a707d1f84ee84b4c996a27c8487a1692",
      "1ae5e217b7a347f596808fa5005f105e",
      "5035e4d810354757b4b71b012414b582",
      "384db7ad154d49e0a214910317004d7c",
      "8bc155d5c808439c907c2c2d00cf48d7",
      "715d1578b11f4e44ac6710f4a9f49697",
      "09c08c8fb8e648539cd20e5c498221f8",
      "6a94bd8148c24780b2e0fb6ea6ebe4f9",
      "f9346850c6394677b0e348a036dde180",
      "d94b9d26ffb44684a4b488c6311c371b",
      "78ac521e643644589ef4a8c248de59ce",
      "7ebf9e11b5a443d983c1a450c74d3826",
      "db5560ce21dd41998ee53cb55878a950",
      "9ece7c0a4009410f910ae70b1e5cae48",
      "33ae2aa2c4274d3e90069cc7da0268d6",
      "c14bb0f450c04681ba80cc2d5cfddbce",
      "48216479f46449008a8b118aec47baf4",
      "b1993b53e4f94e9cbd355715cb6c0d06",
      "8b3e007512754f0eb44772d65bd37cbb",
      "28bf3463ad2847a289d37c59adb5379b",
      "a95250fbcf2b4075a2e5de22c1b0bae9",
      "ab5d7b2a7d444a03bfc090ef25c5cc17",
      "c80a2a9b818443959e64af63d5a29c4f",
      "b6917a8777ad4c88bbd37e8048af52e7",
      "6556f198f0d64b7696d75346c2007d2b",
      "8a92771ec8054276b1193712aee96611",
      "77616e9d0fbe4cc893e9a81b46e158b5",
      "86c0b1b4b141496f9b6b7e490c317836",
      "58445b346b3d48d78dc4734e84b021e3",
      "01a095be3dd040c1b8c06e6424d59458",
      "8de715121b7b4d5986a1845f87b162e8",
      "9d9bb0bf72f145eb8af1fcc21b3fc27b",
      "04fc31ed442f42fa8c1ad837130438f5",
      "b9be135cf18e4fd4a58bffe2fb9fcb36",
      "1c5d780a75c34d08b00fcfb713ca92bb",
      "45d5b09150504cffa5b490bb9ca63be2",
      "b7b58f4b394940919405479f92c7bcab",
      "06459d42d9bb4fc18e91e9b0159494dd",
      "4a01644a58e047498bd7d004c771ba51",
      "071fd79e37df451390dbf8f6f722344e",
      "79d84cad5b5e42759f4031245b1e9205",
      "e017b1f4188540a5b0897f1784a57803",
      "13e73189f8e4418889aa20d3c26eef11",
      "ce56c6cc65f440f9b05adb08810724f7",
      "338a5a7339464b709dc3e2ce553dca76",
      "1135eea6e4ae480ba2b74af2be8973f0",
      "a5b80bc1ec774e86ba0b57baf5a153a0"
     ]
    },
    "id": "w-4yhJQOqXv3",
    "outputId": "0cff4152-8656-4781-ec19-6739d45e0ba1"
   },
   "outputs": [
    {
     "data": {
      "application/vnd.jupyter.widget-view+json": {
       "model_id": "50c64f8c3e9c4f498da46e60000ddfc9",
       "version_major": 2,
       "version_minor": 0
      },
      "text/plain": [
       "  0%|          | 0/3000 [00:00<?, ?it/s]"
      ]
     },
     "metadata": {},
     "output_type": "display_data"
    },
    {
     "data": {
      "application/vnd.jupyter.widget-view+json": {
       "model_id": "fa0b6e063bd64039bdb82fe5c3659620",
       "version_major": 2,
       "version_minor": 0
      },
      "text/plain": [
       "  0%|          | 0/12690 [00:00<?, ?it/s]"
      ]
     },
     "metadata": {},
     "output_type": "display_data"
    },
    {
     "data": {
      "application/vnd.jupyter.widget-view+json": {
       "model_id": "de75cb94279048d687d9bea498dbc82e",
       "version_major": 2,
       "version_minor": 0
      },
      "text/plain": [
       "  0%|          | 0/3000 [00:00<?, ?it/s]"
      ]
     },
     "metadata": {},
     "output_type": "display_data"
    },
    {
     "data": {
      "application/vnd.jupyter.widget-view+json": {
       "model_id": "1017e4fce13d48398ec3ac06d928a896",
       "version_major": 2,
       "version_minor": 0
      },
      "text/plain": [
       "  0%|          | 0/200 [00:00<?, ?it/s]"
      ]
     },
     "metadata": {},
     "output_type": "display_data"
    },
    {
     "name": "stdout",
     "output_type": "stream",
     "text": [
      "Optimization finished!\n"
     ]
    },
    {
     "data": {
      "application/vnd.jupyter.widget-view+json": {
       "model_id": "3f538ca006a44f7e87c2d01d9a6b6a4d",
       "version_major": 2,
       "version_minor": 0
      },
      "text/plain": [
       "  0%|          | 0/100 [00:00<?, ?it/s]"
      ]
     },
     "metadata": {},
     "output_type": "display_data"
    },
    {
     "name": "stdout",
     "output_type": "stream",
     "text": [
      "Optimization finished!\n",
      "Learning...\n",
      "epoch 0, loss: 155084.796073\n",
      "epoch 1, loss: 86975.061788\n",
      "epoch 2, loss: 53418.749664\n",
      "epoch 3, loss: 38709.684059\n",
      "epoch 4, loss: 30908.752814\n",
      "epoch 5, loss: 26151.894522\n",
      "epoch 6, loss: 23008.108092\n",
      "epoch 7, loss: 20840.053147\n",
      "epoch 8, loss: 19296.269270\n",
      "epoch 9, loss: 18163.060216\n",
      "epoch 10, loss: 17307.567132\n",
      "epoch 11, loss: 16645.596483\n",
      "epoch 12, loss: 16122.517978\n",
      "epoch 13, loss: 15701.942341\n",
      "epoch 14, loss: 15358.960618\n",
      "epoch 15, loss: 15076.048771\n",
      "epoch 16, loss: 14840.543997\n",
      "epoch 17, loss: 14643.062928\n",
      "epoch 18, loss: 14476.492447\n",
      "epoch 19, loss: 14335.331997\n",
      "epoch 20, loss: 14215.253791\n",
      "epoch 21, loss: 14112.801288\n",
      "epoch 22, loss: 14025.176957\n",
      "epoch 23, loss: 13950.090024\n",
      "epoch 24, loss: 13885.645940\n",
      "epoch 25, loss: 13830.265046\n",
      "epoch 26, loss: 13782.621199\n",
      "epoch 27, loss: 13741.594618\n",
      "epoch 28, loss: 13706.235288\n",
      "epoch 29, loss: 13675.734139\n",
      "epoch 30, loss: 13649.400158\n",
      "epoch 31, loss: 13626.642038\n",
      "epoch 32, loss: 13606.953358\n",
      "epoch 33, loss: 13589.900353\n",
      "epoch 34, loss: 13575.111621\n",
      "epoch 35, loss: 13562.269287\n",
      "epoch 36, loss: 13551.101383\n",
      "epoch 37, loss: 13541.375333\n",
      "epoch 38, loss: 13532.892305\n",
      "epoch 39, loss: 13525.482333\n",
      "epoch 40, loss: 13519.000064\n",
      "epoch 41, loss: 13513.321100\n",
      "epoch 42, loss: 13508.338850\n",
      "epoch 43, loss: 13503.961891\n",
      "epoch 44, loss: 13500.111645\n",
      "epoch 45, loss: 13496.720501\n",
      "epoch 46, loss: 13493.730145\n",
      "epoch 47, loss: 13491.090210\n",
      "epoch 48, loss: 13488.757100\n",
      "epoch 49, loss: 13486.693017\n",
      "epoch 50, loss: 13484.865144\n",
      "epoch 51, loss: 13483.244939\n",
      "epoch 52, loss: 13481.807542\n",
      "epoch 53, loss: 13480.531285\n",
      "epoch 54, loss: 13479.397229\n",
      "epoch 55, loss: 13478.388807\n",
      "epoch 56, loss: 13477.491511\n",
      "epoch 57, loss: 13476.692595\n",
      "epoch 58, loss: 13475.980866\n",
      "epoch 59, loss: 13475.346467\n",
      "epoch 60, loss: 13474.780705\n",
      "epoch 61, loss: 13474.275913\n",
      "epoch 62, loss: 13473.825317\n",
      "epoch 63, loss: 13473.422918\n",
      "epoch 64, loss: 13473.063406\n",
      "epoch 65, loss: 13472.742075\n",
      "epoch 66, loss: 13472.454747\n",
      "epoch 67, loss: 13472.197707\n",
      "epoch 68, loss: 13471.967654\n",
      "epoch 69, loss: 13471.761654\n",
      "epoch 70, loss: 13471.577088\n",
      "epoch 71, loss: 13471.411624\n",
      "epoch 72, loss: 13471.263175\n",
      "epoch 73, loss: 13471.129892\n",
      "epoch 74, loss: 13471.010105\n",
      "epoch 75, loss: 13470.902332\n",
      "epoch 76, loss: 13470.805242\n",
      "epoch 77, loss: 13470.717642\n",
      "epoch 78, loss: 13470.638458\n",
      "epoch 79, loss: 13470.566739\n",
      "epoch 80, loss: 13470.501618\n",
      "epoch 81, loss: 13470.442317\n",
      "epoch 82, loss: 13470.388144\n",
      "epoch 83, loss: 13470.338462\n",
      "epoch 84, loss: 13470.292708\n",
      "epoch 85, loss: 13470.250365\n",
      "epoch 86, loss: 13470.210966\n",
      "epoch 87, loss: 13470.174092\n",
      "epoch 88, loss: 13470.139353\n",
      "epoch 89, loss: 13470.106403\n",
      "epoch 90, loss: 13470.074919\n",
      "epoch 91, loss: 13470.044606\n",
      "epoch 92, loss: 13470.015189\n",
      "epoch 93, loss: 13469.986423\n",
      "epoch 94, loss: 13469.958070\n",
      "epoch 95, loss: 13469.929906\n",
      "epoch 96, loss: 13469.901731\n",
      "epoch 97, loss: 13469.873348\n",
      "epoch 98, loss: 13469.844566\n",
      "epoch 99, loss: 13469.815205\n",
      "Learning completed\n"
     ]
    },
    {
     "data": {
      "application/vnd.jupyter.widget-view+json": {
       "model_id": "169aaa53624b499aa336593f47437439",
       "version_major": 2,
       "version_minor": 0
      },
      "text/plain": [
       "  0%|          | 0/50 [00:00<?, ?it/s]"
      ]
     },
     "metadata": {},
     "output_type": "display_data"
    },
    {
     "name": "stdout",
     "output_type": "stream",
     "text": [
      "Optimization finished!\n"
     ]
    },
    {
     "data": {
      "application/vnd.jupyter.widget-view+json": {
       "model_id": "9bcb868ba38748e2b8a4748fda5ad4f9",
       "version_major": 2,
       "version_minor": 0
      },
      "text/plain": [
       "  0%|          | 0/50 [00:00<?, ?it/s]"
      ]
     },
     "metadata": {},
     "output_type": "display_data"
    },
    {
     "name": "stdout",
     "output_type": "stream",
     "text": [
      "Learning completed!\n",
      "Learning...\n",
      "Learning completed!\n"
     ]
    },
    {
     "data": {
      "application/vnd.jupyter.widget-view+json": {
       "model_id": "c329db1d34c845ad954117192b8aa75a",
       "version_major": 2,
       "version_minor": 0
      },
      "text/plain": [
       "  0%|          | 0/1 [00:00<?, ?it/s]"
      ]
     },
     "metadata": {},
     "output_type": "display_data"
    },
    {
     "data": {
      "application/vnd.jupyter.widget-view+json": {
       "model_id": "53fda567a88343678e33bc4d3c2bc6e7",
       "version_major": 2,
       "version_minor": 0
      },
      "text/plain": [
       "  0%|          | 0/100 [00:00<?, ?it/s]"
      ]
     },
     "metadata": {},
     "output_type": "display_data"
    },
    {
     "name": "stdout",
     "output_type": "stream",
     "text": [
      "\n",
      "TEST:\n",
      "...\n",
      "        |      MAE | Train (s) | Test (s)\n",
      "------- + -------- + --------- + --------\n",
      "MostPop | 193.9530 |    0.0502 |   2.6425\n",
      "UserKNN |  66.5476 |    1.6855 |  28.7224\n",
      "ItemKNN |  65.7395 |    7.0359 |  34.1562\n",
      "UserKNN |  67.1216 |    1.2321 |  28.5950\n",
      "BPR     |  58.0693 |   34.6811 |   3.5855\n",
      "MF      |      nan |    4.5368 |   3.8229\n",
      "PMF     |  72.1270 |   31.2716 |   3.8148\n",
      "NMF     |  57.4447 |    2.9950 |   3.7619\n",
      "WMF     |  55.5922 |   56.8429 |   3.3293\n",
      "PF      |  54.6662 |  843.5505 |   3.4456\n",
      "NeuMF   |  58.3551 |   70.6820 |  57.4723\n",
      "VAECF   |  58.3551 |  110.1738 | 105.0001\n",
      "\n",
      "1443 seconds.\n"
     ]
    }
   ],
   "source": [
    "# define metrics to evaluate the models\n",
    "metrics = [MAE()]\n",
    "\n",
    "# put it together in an experiment, voilà!\n",
    "start = time.time()\n",
    "exp = cornac.Experiment(eval_method=rs, models=models, metrics=metrics, user_based=True)\n",
    "exp.run()\n",
    "end = time.time()\n",
    "print(round(end-start), \"seconds.\")"
   ]
  },
  {
   "cell_type": "markdown",
   "metadata": {
    "id": "TLj0fpWeI9Z0"
   },
   "source": [
    "#### Ranking and recommendation\n",
    "We have identified three evaluation strategies:\n",
    "1. For every user in the **train set** rank **all items**. | Book paper, *eva_one*\n",
    "2. For every user in the **test set** rank **only the items this user has rated in the test set**. | Music paper, *eva_two*\n",
    "3. For every user in the **test set** rank **only the items this user has NOT rated in the train set**. | Movie(?) paper, *eva_three*\n",
    "\n",
    "For every evaluation strategy, we define a function that recommends the appropriate items to the appropriate users as described above. "
   ]
  },
  {
   "cell_type": "code",
   "execution_count": 48,
   "metadata": {
    "id": "1Ft6Cw5sqxYp"
   },
   "outputs": [],
   "source": [
    "def get_top_n_eva_one(algo_name,i, n=10):\n",
    "  model = exp.models[i]\n",
    "  print(algo_name + \" model is selected:\")\n",
    "  top_n = defaultdict(list)\n",
    "  for uid in tqdm(model.train_set.uid_map.values()): # every user in the train set\n",
    "    user_id = list(model.train_set.user_ids)[uid] # so this is the actual user_id\n",
    "    item_rank = model.rank(user_idx=uid)[0] # all\n",
    "    # collect top N items\n",
    "    item_rank_top = item_rank[:n]\n",
    "    for iid in item_rank_top:\n",
    "      item_id = list(model.train_set.item_ids)[iid]\n",
    "      if isinstance(model.score(uid, iid), (np.ndarray)): # for NEUMF\n",
    "            score = model.score(uid, iid)[0]\n",
    "      else:\n",
    "            score = model.score(uid, iid)\n",
    "        \n",
    "      top_n[int(user_id)].append((int(item_id), score))\n",
    "  return top_n"
   ]
  },
  {
   "cell_type": "code",
   "execution_count": 49,
   "metadata": {
    "id": "tbDb589QJCSD"
   },
   "outputs": [],
   "source": [
    "def get_top_n_eva_two(algo_name,i, n=10):\n",
    "  model = exp.models[i]\n",
    "  print(algo_name + \" model is selected:\")\n",
    "  top_n = defaultdict(list)\n",
    "  for uid in tqdm(rs.test_set.uid_map.values()): # every user in the test set\n",
    "    user_id = list(rs.train_set.user_ids)[uid]\n",
    "    user_items_in_the_test_set = rs.test_set.user_data[uid][0] \n",
    "    \n",
    "    item_rank = model.rank(user_idx=uid, item_indices = user_items_in_the_test_set)[0] # items the user has rated in the test set \n",
    "    item_rank_top = item_rank[:n]\n",
    "    for iid in item_rank_top:\n",
    "      item_id = list(model.train_set.item_ids)[iid]\n",
    "      if isinstance(model.score(uid, iid), (np.ndarray)): # for NEUMF\n",
    "            score = model.score(uid, iid)[0]\n",
    "      else:\n",
    "            score = model.score(uid, iid)\n",
    "        \n",
    "      top_n[int(user_id)].append((int(item_id), score))\n",
    "      \n",
    "  return top_n"
   ]
  },
  {
   "cell_type": "code",
   "execution_count": 50,
   "metadata": {
    "id": "n0NaIhj9JD2U"
   },
   "outputs": [],
   "source": [
    "def get_top_n_eva_three(algo_name,i, n=10):\n",
    "  model = exp.models[i]\n",
    "  print(algo_name + \" model is selected:\")\n",
    "  top_n = defaultdict(list)\n",
    "\n",
    "  for uid in tqdm(rs.test_set.uid_map.values()): # every user in the test set\n",
    "    user_id = list(rs.train_set.user_ids)[uid]\n",
    "    user_items_in_the_train_set = set(rs.train_set.user_data[uid][0])\n",
    "    user_items_not_in_the_train_set = list(all_items.difference(user_items_in_the_train_set))\n",
    "    \n",
    "    item_rank = model.rank(user_idx=uid, item_indices = user_items_not_in_the_train_set)[0] # items the user has NOT rated in the TRAIN set\n",
    "    item_rank_top = item_rank[:n]\n",
    "    for iid in item_rank_top:\n",
    "      item_id = list(model.train_set.item_ids)[iid]\n",
    "      if isinstance(model.score(uid, iid), (np.ndarray)): # for NEUMF\n",
    "            score = model.score(uid, iid)[0]\n",
    "      else:\n",
    "            score = model.score(uid, iid)\n",
    "        \n",
    "      top_n[int(user_id)].append((int(item_id), score))\n",
    "  return top_n"
   ]
  },
  {
   "cell_type": "code",
   "execution_count": 51,
   "metadata": {
    "id": "nU1sU9Q_qy_J"
   },
   "outputs": [],
   "source": [
    "# random recommendation algorithm, same for every strategy \n",
    "def get_top_n_random(n=10):\n",
    "    print(\"Random model is selected:\")\n",
    "    top_n = defaultdict(list)\n",
    "\n",
    "    for uid in tqdm(rs.test_set.uid_map.values()): # every user in the test set\n",
    "      if uid not in top_n.keys():\n",
    "        user_id = list(rs.train_set.user_ids)[uid]\n",
    "        user_items_in_the_train_set = set(rs.train_set.user_data[uid][0])\n",
    "        user_items_not_in_the_train_set = list(all_items.difference(user_items_in_the_train_set)) # random choice out of the items that the user has NOT rated in the train set\n",
    "        for i in range(0, n):\n",
    "          top_n[int(user_id)].append((int(rd.choice(user_items_not_in_the_train_set)), i))\n",
    "          \n",
    "    return top_n"
   ]
  },
  {
   "cell_type": "markdown",
   "metadata": {
    "id": "RVT3_izuJKDr"
   },
   "source": [
    "##### Recommendation"
   ]
  },
  {
   "cell_type": "markdown",
   "metadata": {
    "id": "yFBvV_oJJMHd"
   },
   "source": [
    "Choose evaluation strategy."
   ]
  },
  {
   "cell_type": "code",
   "execution_count": 52,
   "metadata": {
    "id": "Vs7ZmvhAJNyv"
   },
   "outputs": [],
   "source": [
    "evaluation_function = {'eva_one':get_top_n_eva_one,\n",
    "             'eva_two': get_top_n_eva_two,\n",
    "             'eva_three': get_top_n_eva_three}"
   ]
  },
  {
   "cell_type": "code",
   "execution_count": 53,
   "metadata": {
    "id": "dsRaIazUJOh5"
   },
   "outputs": [],
   "source": [
    "choice = 'eva_one'\n",
    "# to be manually set!!! "
   ]
  },
  {
   "cell_type": "markdown",
   "metadata": {
    "id": "UsGIvpnytHsf"
   },
   "source": [
    "### Prediction\n",
    "Run it when different evaluation strategy is chosen."
   ]
  },
  {
   "cell_type": "code",
   "execution_count": 54,
   "metadata": {
    "colab": {
     "base_uri": "https://localhost:8080/"
    },
    "id": "LlsfsKMptCjt",
    "outputId": "e685b79f-213e-4bb2-b7e3-3400840e5867"
   },
   "outputs": [
    {
     "name": "stdout",
     "output_type": "stream",
     "text": [
      "Random model is selected:\n"
     ]
    },
    {
     "name": "stderr",
     "output_type": "stream",
     "text": [
      "100%|████████████████████████████████████████████████████████████████████████████████████████████████████████████████████████████████████████████████████████████████████████████████████████████████████████████████████████████████████████████████| 3000/3000 [00:01<00:00, 1571.66it/s]\n"
     ]
    },
    {
     "name": "stdout",
     "output_type": "stream",
     "text": [
      "MostPop model is selected:\n"
     ]
    },
    {
     "name": "stderr",
     "output_type": "stream",
     "text": [
      "100%|██████████████████████████████████████████████████████████████████████████████████████████████████████████████████████████████████████████████████████████████████████████████████████████████████████████████████████████████████████████████████| 3000/3000 [01:11<00:00, 41.93it/s]\n"
     ]
    },
    {
     "name": "stdout",
     "output_type": "stream",
     "text": [
      "UserKNN model is selected:\n"
     ]
    },
    {
     "name": "stderr",
     "output_type": "stream",
     "text": [
      "100%|██████████████████████████████████████████████████████████████████████████████████████████████████████████████████████████████████████████████████████████████████████████████████████████████████████████████████████████████████████████████████| 3000/3000 [04:08<00:00, 12.08it/s]\n"
     ]
    },
    {
     "name": "stdout",
     "output_type": "stream",
     "text": [
      "ItemKNN model is selected:\n"
     ]
    },
    {
     "name": "stderr",
     "output_type": "stream",
     "text": [
      "100%|██████████████████████████████████████████████████████████████████████████████████████████████████████████████████████████████████████████████████████████████████████████████████████████████████████████████████████████████████████████████████| 3000/3000 [18:18<00:00,  2.73it/s]\n"
     ]
    },
    {
     "name": "stdout",
     "output_type": "stream",
     "text": [
      "UserKNN with means model is selected:\n"
     ]
    },
    {
     "name": "stderr",
     "output_type": "stream",
     "text": [
      "100%|██████████████████████████████████████████████████████████████████████████████████████████████████████████████████████████████████████████████████████████████████████████████████████████████████████████████████████████████████████████████████| 3000/3000 [04:09<00:00, 12.02it/s]\n"
     ]
    },
    {
     "name": "stdout",
     "output_type": "stream",
     "text": [
      "BPR model is selected:\n"
     ]
    },
    {
     "name": "stderr",
     "output_type": "stream",
     "text": [
      "100%|██████████████████████████████████████████████████████████████████████████████████████████████████████████████████████████████████████████████████████████████████████████████████████████████████████████████████████████████████████████████████| 3000/3000 [01:07<00:00, 44.56it/s]\n"
     ]
    },
    {
     "name": "stdout",
     "output_type": "stream",
     "text": [
      "MF model is selected:\n"
     ]
    },
    {
     "name": "stderr",
     "output_type": "stream",
     "text": [
      "100%|██████████████████████████████████████████████████████████████████████████████████████████████████████████████████████████████████████████████████████████████████████████████████████████████████████████████████████████████████████████████████| 3000/3000 [01:05<00:00, 45.83it/s]\n"
     ]
    },
    {
     "name": "stdout",
     "output_type": "stream",
     "text": [
      "PMF model is selected:\n"
     ]
    },
    {
     "name": "stderr",
     "output_type": "stream",
     "text": [
      "100%|██████████████████████████████████████████████████████████████████████████████████████████████████████████████████████████████████████████████████████████████████████████████████████████████████████████████████████████████████████████████████| 3000/3000 [01:41<00:00, 29.65it/s]\n"
     ]
    },
    {
     "name": "stdout",
     "output_type": "stream",
     "text": [
      "NMF model is selected:\n"
     ]
    },
    {
     "name": "stderr",
     "output_type": "stream",
     "text": [
      "100%|██████████████████████████████████████████████████████████████████████████████████████████████████████████████████████████████████████████████████████████████████████████████████████████████████████████████████████████████████████████████████| 3000/3000 [01:17<00:00, 38.66it/s]\n"
     ]
    },
    {
     "name": "stdout",
     "output_type": "stream",
     "text": [
      "WMF model is selected:\n"
     ]
    },
    {
     "name": "stderr",
     "output_type": "stream",
     "text": [
      "100%|██████████████████████████████████████████████████████████████████████████████████████████████████████████████████████████████████████████████████████████████████████████████████████████████████████████████████████████████████████████████████| 3000/3000 [01:20<00:00, 37.35it/s]\n"
     ]
    },
    {
     "name": "stdout",
     "output_type": "stream",
     "text": [
      "HPF model is selected:\n"
     ]
    },
    {
     "name": "stderr",
     "output_type": "stream",
     "text": [
      "100%|██████████████████████████████████████████████████████████████████████████████████████████████████████████████████████████████████████████████████████████████████████████████████████████████████████████████████████████████████████████████████| 3000/3000 [01:15<00:00, 39.89it/s]\n"
     ]
    },
    {
     "name": "stdout",
     "output_type": "stream",
     "text": [
      "NeuMF model is selected:\n"
     ]
    },
    {
     "name": "stderr",
     "output_type": "stream",
     "text": [
      "100%|██████████████████████████████████████████████████████████████████████████████████████████████████████████████████████████████████████████████████████████████████████████████████████████████████████████████████████████████████████████████████| 3000/3000 [01:58<00:00, 25.26it/s]\n"
     ]
    },
    {
     "name": "stdout",
     "output_type": "stream",
     "text": [
      "VAECF model is selected:\n"
     ]
    },
    {
     "name": "stderr",
     "output_type": "stream",
     "text": [
      "100%|██████████████████████████████████████████████████████████████████████████████████████████████████████████████████████████████████████████████████████████████████████████████████████████████████████████████████████████████████████████████████| 3000/3000 [02:14<00:00, 22.24it/s]\n"
     ]
    }
   ],
   "source": [
    "algo_dict = {}\n",
    "for i in range(0, len(algo_names)):\n",
    "    if algo_names[i] == 'Random':\n",
    "      top_n = get_top_n_random(n=10)\n",
    "    else:\n",
    "      top_n = evaluation_function[choice](algo_names[i],i-1, n=10)\n",
    "    algo_dict[algo_names[i]] = top_n.items()"
   ]
  },
  {
   "cell_type": "markdown",
   "metadata": {
    "id": "Sj_80RSJtJXC"
   },
   "source": [
    "### Evaluation\n",
    "Run it when different popularity notion is chosen."
   ]
  },
  {
   "cell_type": "markdown",
   "metadata": {},
   "source": [
    "##### NDCG@10\n",
    "\n",
    "To think about: which list am I comparing to in order to calculate NDCG@10?"
   ]
  },
  {
   "cell_type": "markdown",
   "metadata": {},
   "source": [
    "We need:\n",
    "1. For every user, the true relevance of each item recommended to them. 0 if it's not in the test set. if it's in the test set, the score.\n"
   ]
  },
  {
   "cell_type": "code",
   "execution_count": 71,
   "metadata": {},
   "outputs": [],
   "source": [
    "def calculate_NDCG_per_group(algo_name,i):\n",
    "    model = exp.models[i]\n",
    "    print(algo_name + \" model is selected:\")\n",
    "    \n",
    "    ndcg_low = []\n",
    "    ndcg_med = []\n",
    "    ndcg_high = []\n",
    "    \n",
    "    # nr_low = 0.0\n",
    "    # nr_med = 0.0\n",
    "    # nr_high = 0.0\n",
    "\n",
    "    top = algo_dict[algo_name]\n",
    "    user_ndcgs = []\n",
    "    for user_id, user_ratings in tqdm(top): # real, not inside\n",
    "        user_id = str(user_id)\n",
    "        if user_id  in rs.test_set.uid_map.keys(): # if the user is in the test set.\n",
    "            \n",
    "            user_pred_scores = []\n",
    "            user_real_scores = []\n",
    "            \n",
    "            uid=rs.train_set.uid_map[user_id] #inside\n",
    "            real_rating_dict = dict(zip(*rs.test_set.user_data[uid])) # iid, real rating (dictionary)\n",
    "            for (item_id,pred_score) in user_ratings: # so for every item recommended, and its predicted score\n",
    "\n",
    "                item_id = str(item_id)\n",
    "                user_pred_scores.append(pred_score)\n",
    "                # we need its real score also.\n",
    "                iid=rs.train_set.iid_map[item_id] #inside\n",
    "                if iid in real_rating_dict.keys(): # if the item is in the test set of that user\n",
    "                    real_score = real_rating_dict[iid]\n",
    "                else:\n",
    "                    \n",
    "                    real_score = 0.0 # LIKE EKSTRAND MANEL'S REFERENCE\n",
    "                user_real_scores.append(real_score)\n",
    "            \n",
    "            true_relevance = np.asarray([user_real_scores])\n",
    "            scores = np.asarray([user_pred_scores])\n",
    "            try: # IF THERE'S ONLY ONE ITEM RECOMMENDED, THERE'S NO POINT CALCULATING NDCG\n",
    "                user_ndcg = ndcg_score(true_relevance, scores,k=10)\n",
    "                #user_ndcgs.append(user_ndcg)\n",
    "                if int(user_id) in low.index: # some issue with string vs integer\n",
    "                    ndcg_low.append(user_ndcg)\n",
    "                    #nr_low += 1\n",
    "                elif int(user_id) in med.index:\n",
    "                    ndcg_med.append(user_ndcg)\n",
    "                    #nr_med += 1\n",
    "                elif int(user_id) in high.index:\n",
    "                    ndcg_high.append(user_ndcg)\n",
    "                    #nr_high += 1\n",
    "                else:\n",
    "                    print(\"NOWHERE?\")\n",
    "            \n",
    "            except:\n",
    "                pass\n",
    "\n",
    "\n",
    "    \n",
    "    ttests = [stats.ttest_ind(ndcg_low, ndcg_med, equal_var=False)[1],\n",
    "                            stats.ttest_ind(ndcg_low, ndcg_high, equal_var=False)[1],\n",
    "                            stats.ttest_ind(ndcg_med, ndcg_high, equal_var=False)[1]]\n",
    "    \n",
    "            \n",
    "    #return user_ndcgs\n",
    "    \n",
    "    # print(nr_low, nr_med, nr_high)\n",
    "    # ndcg_low/=nr_low\n",
    "    # ndcg_med/=nr_med\n",
    "    # ndcg_high/=nr_high\n",
    "    return np.mean(ndcg_low), np.mean(ndcg_med), np.mean(ndcg_high), ttests"
   ]
  },
  {
   "cell_type": "code",
   "execution_count": 72,
   "metadata": {},
   "outputs": [
    {
     "name": "stdout",
     "output_type": "stream",
     "text": [
      "Random model is selected:\n"
     ]
    },
    {
     "name": "stderr",
     "output_type": "stream",
     "text": [
      "100%|███████████████████████████████████████████████████████████████████████████████████████████████████████████████████████████████████████████████████████████████████████████████████████████████████████████████████████████████████████████████| 3000/3000 [00:00<00:00, 27079.48it/s]\n",
      "/export/scratch2/home/savvina/new_environment/conda/envs/tors/lib/python3.8/site-packages/numpy/core/fromnumeric.py:3432: RuntimeWarning: Mean of empty slice.\n",
      "  return _methods._mean(a, axis=axis, dtype=dtype,\n",
      "/export/scratch2/home/savvina/new_environment/conda/envs/tors/lib/python3.8/site-packages/numpy/core/_methods.py:190: RuntimeWarning: invalid value encountered in double_scalars\n",
      "  ret = ret.dtype.type(ret / rcount)\n"
     ]
    },
    {
     "name": "stdout",
     "output_type": "stream",
     "text": [
      "[nan, nan, nan]\n",
      "MostPop model is selected:\n"
     ]
    },
    {
     "name": "stderr",
     "output_type": "stream",
     "text": [
      "100%|███████████████████████████████████████████████████████████████████████████████████████████████████████████████████████████████████████████████████████████████████████████████████████████████████████████████████████████████████████████████| 3000/3000 [00:00<00:00, 37662.45it/s]\n"
     ]
    },
    {
     "name": "stdout",
     "output_type": "stream",
     "text": [
      "[nan, nan, nan]\n",
      "UserKNN model is selected:\n"
     ]
    },
    {
     "name": "stderr",
     "output_type": "stream",
     "text": [
      "100%|███████████████████████████████████████████████████████████████████████████████████████████████████████████████████████████████████████████████████████████████████████████████████████████████████████████████████████████████████████████████| 3000/3000 [00:00<00:00, 37425.64it/s]\n"
     ]
    },
    {
     "name": "stdout",
     "output_type": "stream",
     "text": [
      "[nan, nan, nan]\n",
      "ItemKNN model is selected:\n"
     ]
    },
    {
     "name": "stderr",
     "output_type": "stream",
     "text": [
      "100%|███████████████████████████████████████████████████████████████████████████████████████████████████████████████████████████████████████████████████████████████████████████████████████████████████████████████████████████████████████████████| 3000/3000 [00:00<00:00, 35203.26it/s]\n"
     ]
    },
    {
     "name": "stdout",
     "output_type": "stream",
     "text": [
      "[nan, nan, nan]\n",
      "UserKNN with means model is selected:\n"
     ]
    },
    {
     "name": "stderr",
     "output_type": "stream",
     "text": [
      "100%|███████████████████████████████████████████████████████████████████████████████████████████████████████████████████████████████████████████████████████████████████████████████████████████████████████████████████████████████████████████████| 3000/3000 [00:00<00:00, 36997.68it/s]\n"
     ]
    },
    {
     "name": "stdout",
     "output_type": "stream",
     "text": [
      "[nan, nan, nan]\n",
      "BPR model is selected:\n"
     ]
    },
    {
     "name": "stderr",
     "output_type": "stream",
     "text": [
      "100%|███████████████████████████████████████████████████████████████████████████████████████████████████████████████████████████████████████████████████████████████████████████████████████████████████████████████████████████████████████████████| 3000/3000 [00:00<00:00, 36709.92it/s]\n"
     ]
    },
    {
     "name": "stdout",
     "output_type": "stream",
     "text": [
      "[nan, nan, nan]\n",
      "MF model is selected:\n"
     ]
    },
    {
     "name": "stderr",
     "output_type": "stream",
     "text": [
      "100%|███████████████████████████████████████████████████████████████████████████████████████████████████████████████████████████████████████████████████████████████████████████████████████████████████████████████████████████████████████████████| 3000/3000 [00:00<00:00, 39551.87it/s]\n"
     ]
    },
    {
     "name": "stdout",
     "output_type": "stream",
     "text": [
      "[nan, nan, nan]\n",
      "PMF model is selected:\n"
     ]
    },
    {
     "name": "stderr",
     "output_type": "stream",
     "text": [
      "100%|███████████████████████████████████████████████████████████████████████████████████████████████████████████████████████████████████████████████████████████████████████████████████████████████████████████████████████████████████████████████| 3000/3000 [00:00<00:00, 39162.50it/s]\n"
     ]
    },
    {
     "name": "stdout",
     "output_type": "stream",
     "text": [
      "[nan, nan, nan]\n",
      "NMF model is selected:\n"
     ]
    },
    {
     "name": "stderr",
     "output_type": "stream",
     "text": [
      "100%|███████████████████████████████████████████████████████████████████████████████████████████████████████████████████████████████████████████████████████████████████████████████████████████████████████████████████████████████████████████████| 3000/3000 [00:00<00:00, 39443.88it/s]\n"
     ]
    },
    {
     "name": "stdout",
     "output_type": "stream",
     "text": [
      "[nan, nan, nan]\n",
      "WMF model is selected:\n"
     ]
    },
    {
     "name": "stderr",
     "output_type": "stream",
     "text": [
      "100%|███████████████████████████████████████████████████████████████████████████████████████████████████████████████████████████████████████████████████████████████████████████████████████████████████████████████████████████████████████████████| 3000/3000 [00:00<00:00, 37478.93it/s]\n"
     ]
    },
    {
     "name": "stdout",
     "output_type": "stream",
     "text": [
      "[nan, nan, nan]\n",
      "HPF model is selected:\n"
     ]
    },
    {
     "name": "stderr",
     "output_type": "stream",
     "text": [
      "100%|███████████████████████████████████████████████████████████████████████████████████████████████████████████████████████████████████████████████████████████████████████████████████████████████████████████████████████████████████████████████| 3000/3000 [00:00<00:00, 38183.72it/s]\n"
     ]
    },
    {
     "name": "stdout",
     "output_type": "stream",
     "text": [
      "[nan, nan, nan]\n",
      "NeuMF model is selected:\n"
     ]
    },
    {
     "name": "stderr",
     "output_type": "stream",
     "text": [
      "100%|███████████████████████████████████████████████████████████████████████████████████████████████████████████████████████████████████████████████████████████████████████████████████████████████████████████████████████████████████████████████| 3000/3000 [00:00<00:00, 38307.99it/s]\n"
     ]
    },
    {
     "name": "stdout",
     "output_type": "stream",
     "text": [
      "[nan, nan, nan]\n",
      "VAECF model is selected:\n"
     ]
    },
    {
     "name": "stderr",
     "output_type": "stream",
     "text": [
      "100%|███████████████████████████████████████████████████████████████████████████████████████████████████████████████████████████████████████████████████████████████████████████████████████████████████████████████████████████████████████████████| 3000/3000 [00:00<00:00, 37535.05it/s]"
     ]
    },
    {
     "name": "stdout",
     "output_type": "stream",
     "text": [
      "[nan, nan, nan]\n"
     ]
    },
    {
     "name": "stderr",
     "output_type": "stream",
     "text": [
      "\n"
     ]
    }
   ],
   "source": [
    "TTESTs = pd.DataFrame(index = algo_names, columns = ['low-med','low-high','med-high']).fillna(0.0)\n",
    "NDCGs = pd.DataFrame(index = algo_names, columns = ['low','med','high']).fillna(0.0)\n",
    "for i in range(0, len(algo_names)):\n",
    "    ndcg_low, ndcg_med, ndcg_high, ttests = calculate_NDCG_per_group(algo_names[i], i-1)\n",
    "    print(ttests)\n",
    "    NDCGs.loc[algo_names[i]] = ndcg_low, ndcg_med, ndcg_high\n",
    "    TTESTs.loc[algo_names[i]] =ttests\n",
    "    "
   ]
  },
  {
   "cell_type": "markdown",
   "metadata": {},
   "source": [
    "#### GAP"
   ]
  },
  {
   "cell_type": "code",
   "execution_count": 73,
   "metadata": {
    "colab": {
     "base_uri": "https://localhost:8080/"
    },
    "id": "1_TRKhBJq02Y",
    "outputId": "c7637339-5fba-404a-db8e-1977525c0274"
   },
   "outputs": [
    {
     "name": "stdout",
     "output_type": "stream",
     "text": [
      "Random\n"
     ]
    },
    {
     "name": "stderr",
     "output_type": "stream",
     "text": [
      "100%|█████████████████████████████████████████████████████████████████████████████████████████████████████████████████████████████████████████████████████████████████████████████████████████████████████████████████████████████████████████████████| 3000/3000 [00:05<00:00, 588.20it/s]\n"
     ]
    },
    {
     "name": "stdout",
     "output_type": "stream",
     "text": [
      "MostPop\n"
     ]
    },
    {
     "name": "stderr",
     "output_type": "stream",
     "text": [
      "100%|█████████████████████████████████████████████████████████████████████████████████████████████████████████████████████████████████████████████████████████████████████████████████████████████████████████████████████████████████████████████████| 3000/3000 [00:05<00:00, 586.31it/s]\n",
      "/tmp/ipykernel_86893/3765875455.py:41: RuntimeWarning: Precision loss occurred in moment calculation due to catastrophic cancellation. This occurs when the data are nearly identical. Results may be unreliable.\n",
      "  ttests = [stats.ttest_ind(low_rec_gap, medium_rec_gap, equal_var=False)[1],\n",
      "/tmp/ipykernel_86893/3765875455.py:42: RuntimeWarning: Precision loss occurred in moment calculation due to catastrophic cancellation. This occurs when the data are nearly identical. Results may be unreliable.\n",
      "  stats.ttest_ind(low_rec_gap, high_rec_gap, equal_var=False)[1],\n",
      "/tmp/ipykernel_86893/3765875455.py:43: RuntimeWarning: Precision loss occurred in moment calculation due to catastrophic cancellation. This occurs when the data are nearly identical. Results may be unreliable.\n",
      "  stats.ttest_ind(medium_rec_gap, high_rec_gap, equal_var=False)[1]]\n"
     ]
    },
    {
     "name": "stdout",
     "output_type": "stream",
     "text": [
      "UserKNN\n"
     ]
    },
    {
     "name": "stderr",
     "output_type": "stream",
     "text": [
      "100%|█████████████████████████████████████████████████████████████████████████████████████████████████████████████████████████████████████████████████████████████████████████████████████████████████████████████████████████████████████████████████| 3000/3000 [00:05<00:00, 586.12it/s]\n"
     ]
    },
    {
     "name": "stdout",
     "output_type": "stream",
     "text": [
      "ItemKNN\n"
     ]
    },
    {
     "name": "stderr",
     "output_type": "stream",
     "text": [
      "100%|█████████████████████████████████████████████████████████████████████████████████████████████████████████████████████████████████████████████████████████████████████████████████████████████████████████████████████████████████████████████████| 3000/3000 [00:05<00:00, 585.45it/s]\n"
     ]
    },
    {
     "name": "stdout",
     "output_type": "stream",
     "text": [
      "UserKNN with means\n"
     ]
    },
    {
     "name": "stderr",
     "output_type": "stream",
     "text": [
      " 19%|███████████████████████████████████████████████                                                                                                                                                                                                   | 584/3000 [00:00<00:04, 585.17it/s]\n"
     ]
    },
    {
     "ename": "KeyboardInterrupt",
     "evalue": "",
     "output_type": "error",
     "traceback": [
      "\u001b[0;31m---------------------------------------------------------------------------\u001b[0m",
      "\u001b[0;31mKeyboardInterrupt\u001b[0m                         Traceback (most recent call last)",
      "\u001b[0;32m/tmp/ipykernel_86893/3765875455.py\u001b[0m in \u001b[0;36m?\u001b[0;34m()\u001b[0m\n\u001b[1;32m     20\u001b[0m     \u001b[0mmedium_rec_gap\u001b[0m \u001b[0;34m=\u001b[0m \u001b[0;34m[\u001b[0m\u001b[0;34m]\u001b[0m\u001b[0;34m\u001b[0m\u001b[0;34m\u001b[0m\u001b[0m\n\u001b[1;32m     21\u001b[0m     \u001b[0mhigh_rec_gap\u001b[0m \u001b[0;34m=\u001b[0m \u001b[0;34m[\u001b[0m\u001b[0;34m]\u001b[0m\u001b[0;34m\u001b[0m\u001b[0;34m\u001b[0m\u001b[0m\n\u001b[1;32m     22\u001b[0m \u001b[0;34m\u001b[0m\u001b[0m\n\u001b[1;32m     23\u001b[0m     \u001b[0;31m# low_count = 0.0\u001b[0m\u001b[0;34m\u001b[0m\u001b[0;34m\u001b[0m\u001b[0;34m\u001b[0m\u001b[0m\n\u001b[0;32m---> 24\u001b[0;31m     \u001b[0;31m# med_count = 0.0\u001b[0m\u001b[0;34m\u001b[0m\u001b[0;34m\u001b[0m\u001b[0;34m\u001b[0m\u001b[0m\n\u001b[0m\u001b[1;32m     25\u001b[0m     \u001b[0;31m# high_count = 0.0\u001b[0m\u001b[0;34m\u001b[0m\u001b[0;34m\u001b[0m\u001b[0;34m\u001b[0m\u001b[0m\n\u001b[1;32m     26\u001b[0m \u001b[0;34m\u001b[0m\u001b[0m\n\u001b[1;32m     27\u001b[0m     \u001b[0mtop\u001b[0m \u001b[0;34m=\u001b[0m \u001b[0malgo_dict\u001b[0m\u001b[0;34m[\u001b[0m\u001b[0malgo_names\u001b[0m\u001b[0;34m[\u001b[0m\u001b[0mi\u001b[0m\u001b[0;34m]\u001b[0m\u001b[0;34m]\u001b[0m\u001b[0;34m\u001b[0m\u001b[0;34m\u001b[0m\u001b[0m\n",
      "\u001b[0;32m~/new_environment/conda/envs/tors/lib/python3.8/site-packages/pandas/core/indexing.py\u001b[0m in \u001b[0;36m?\u001b[0;34m(self, key, value)\u001b[0m\n\u001b[1;32m    811\u001b[0m             \u001b[0mkey\u001b[0m \u001b[0;34m=\u001b[0m \u001b[0mtuple\u001b[0m\u001b[0;34m(\u001b[0m\u001b[0mlist\u001b[0m\u001b[0;34m(\u001b[0m\u001b[0mx\u001b[0m\u001b[0;34m)\u001b[0m \u001b[0;32mif\u001b[0m \u001b[0mis_iterator\u001b[0m\u001b[0;34m(\u001b[0m\u001b[0mx\u001b[0m\u001b[0;34m)\u001b[0m \u001b[0;32melse\u001b[0m \u001b[0mx\u001b[0m \u001b[0;32mfor\u001b[0m \u001b[0mx\u001b[0m \u001b[0;32min\u001b[0m \u001b[0mkey\u001b[0m\u001b[0;34m)\u001b[0m\u001b[0;34m\u001b[0m\u001b[0;34m\u001b[0m\u001b[0m\n\u001b[1;32m    812\u001b[0m             \u001b[0mkey\u001b[0m \u001b[0;34m=\u001b[0m \u001b[0mtuple\u001b[0m\u001b[0;34m(\u001b[0m\u001b[0mcom\u001b[0m\u001b[0;34m.\u001b[0m\u001b[0mapply_if_callable\u001b[0m\u001b[0;34m(\u001b[0m\u001b[0mx\u001b[0m\u001b[0;34m,\u001b[0m \u001b[0mself\u001b[0m\u001b[0;34m.\u001b[0m\u001b[0mobj\u001b[0m\u001b[0;34m)\u001b[0m \u001b[0;32mfor\u001b[0m \u001b[0mx\u001b[0m \u001b[0;32min\u001b[0m \u001b[0mkey\u001b[0m\u001b[0;34m)\u001b[0m\u001b[0;34m\u001b[0m\u001b[0;34m\u001b[0m\u001b[0m\n\u001b[1;32m    813\u001b[0m         \u001b[0;32melse\u001b[0m\u001b[0;34m:\u001b[0m\u001b[0;34m\u001b[0m\u001b[0;34m\u001b[0m\u001b[0m\n\u001b[1;32m    814\u001b[0m             \u001b[0mkey\u001b[0m \u001b[0;34m=\u001b[0m \u001b[0mcom\u001b[0m\u001b[0;34m.\u001b[0m\u001b[0mapply_if_callable\u001b[0m\u001b[0;34m(\u001b[0m\u001b[0mkey\u001b[0m\u001b[0;34m,\u001b[0m \u001b[0mself\u001b[0m\u001b[0;34m.\u001b[0m\u001b[0mobj\u001b[0m\u001b[0;34m)\u001b[0m\u001b[0;34m\u001b[0m\u001b[0;34m\u001b[0m\u001b[0m\n\u001b[0;32m--> 815\u001b[0;31m         \u001b[0mindexer\u001b[0m \u001b[0;34m=\u001b[0m \u001b[0mself\u001b[0m\u001b[0;34m.\u001b[0m\u001b[0m_get_setitem_indexer\u001b[0m\u001b[0;34m(\u001b[0m\u001b[0mkey\u001b[0m\u001b[0;34m)\u001b[0m\u001b[0;34m\u001b[0m\u001b[0;34m\u001b[0m\u001b[0m\n\u001b[0m\u001b[1;32m    816\u001b[0m         \u001b[0mself\u001b[0m\u001b[0;34m.\u001b[0m\u001b[0m_has_valid_setitem_indexer\u001b[0m\u001b[0;34m(\u001b[0m\u001b[0mkey\u001b[0m\u001b[0;34m)\u001b[0m\u001b[0;34m\u001b[0m\u001b[0;34m\u001b[0m\u001b[0m\n\u001b[1;32m    817\u001b[0m \u001b[0;34m\u001b[0m\u001b[0m\n\u001b[1;32m    818\u001b[0m         \u001b[0miloc\u001b[0m \u001b[0;34m=\u001b[0m \u001b[0mself\u001b[0m \u001b[0;32mif\u001b[0m \u001b[0mself\u001b[0m\u001b[0;34m.\u001b[0m\u001b[0mname\u001b[0m \u001b[0;34m==\u001b[0m \u001b[0;34m\"iloc\"\u001b[0m \u001b[0;32melse\u001b[0m \u001b[0mself\u001b[0m\u001b[0;34m.\u001b[0m\u001b[0mobj\u001b[0m\u001b[0;34m.\u001b[0m\u001b[0miloc\u001b[0m\u001b[0;34m\u001b[0m\u001b[0;34m\u001b[0m\u001b[0m\n",
      "\u001b[0;32m~/new_environment/conda/envs/tors/lib/python3.8/site-packages/pandas/core/indexing.py\u001b[0m in \u001b[0;36m?\u001b[0;34m(self, key)\u001b[0m\n\u001b[1;32m    694\u001b[0m \u001b[0;34m\u001b[0m\u001b[0m\n\u001b[1;32m    695\u001b[0m         \u001b[0;32mif\u001b[0m \u001b[0misinstance\u001b[0m\u001b[0;34m(\u001b[0m\u001b[0mkey\u001b[0m\u001b[0;34m,\u001b[0m \u001b[0mtuple\u001b[0m\u001b[0;34m)\u001b[0m\u001b[0;34m:\u001b[0m\u001b[0;34m\u001b[0m\u001b[0;34m\u001b[0m\u001b[0m\n\u001b[1;32m    696\u001b[0m             \u001b[0;32mwith\u001b[0m \u001b[0msuppress\u001b[0m\u001b[0;34m(\u001b[0m\u001b[0mIndexingError\u001b[0m\u001b[0;34m)\u001b[0m\u001b[0;34m:\u001b[0m\u001b[0;34m\u001b[0m\u001b[0;34m\u001b[0m\u001b[0m\n\u001b[1;32m    697\u001b[0m                 \u001b[0;31m# suppress \"Too many indexers\"\u001b[0m\u001b[0;34m\u001b[0m\u001b[0;34m\u001b[0m\u001b[0;34m\u001b[0m\u001b[0m\n\u001b[0;32m--> 698\u001b[0;31m                 \u001b[0;32mreturn\u001b[0m \u001b[0mself\u001b[0m\u001b[0;34m.\u001b[0m\u001b[0m_convert_tuple\u001b[0m\u001b[0;34m(\u001b[0m\u001b[0mkey\u001b[0m\u001b[0;34m)\u001b[0m\u001b[0;34m\u001b[0m\u001b[0;34m\u001b[0m\u001b[0m\n\u001b[0m\u001b[1;32m    699\u001b[0m \u001b[0;34m\u001b[0m\u001b[0m\n\u001b[1;32m    700\u001b[0m         \u001b[0;32mif\u001b[0m \u001b[0misinstance\u001b[0m\u001b[0;34m(\u001b[0m\u001b[0mkey\u001b[0m\u001b[0;34m,\u001b[0m \u001b[0mrange\u001b[0m\u001b[0;34m)\u001b[0m\u001b[0;34m:\u001b[0m\u001b[0;34m\u001b[0m\u001b[0;34m\u001b[0m\u001b[0m\n\u001b[1;32m    701\u001b[0m             \u001b[0;31m# GH#45479 test_loc_setitem_range_key\u001b[0m\u001b[0;34m\u001b[0m\u001b[0;34m\u001b[0m\u001b[0;34m\u001b[0m\u001b[0m\n",
      "\u001b[0;32m~/new_environment/conda/envs/tors/lib/python3.8/site-packages/pandas/core/indexing.py\u001b[0m in \u001b[0;36m?\u001b[0;34m(self, key)\u001b[0m\n\u001b[1;32m    893\u001b[0m     \u001b[0;34m@\u001b[0m\u001b[0mfinal\u001b[0m\u001b[0;34m\u001b[0m\u001b[0;34m\u001b[0m\u001b[0m\n\u001b[1;32m    894\u001b[0m     \u001b[0;32mdef\u001b[0m \u001b[0m_convert_tuple\u001b[0m\u001b[0;34m(\u001b[0m\u001b[0mself\u001b[0m\u001b[0;34m,\u001b[0m \u001b[0mkey\u001b[0m\u001b[0;34m:\u001b[0m \u001b[0mtuple\u001b[0m\u001b[0;34m)\u001b[0m \u001b[0;34m->\u001b[0m \u001b[0mtuple\u001b[0m\u001b[0;34m:\u001b[0m\u001b[0;34m\u001b[0m\u001b[0;34m\u001b[0m\u001b[0m\n\u001b[1;32m    895\u001b[0m         \u001b[0;31m# Note: we assume _tupleize_axis_indexer has been called, if necessary.\u001b[0m\u001b[0;34m\u001b[0m\u001b[0;34m\u001b[0m\u001b[0;34m\u001b[0m\u001b[0m\n\u001b[1;32m    896\u001b[0m         \u001b[0mself\u001b[0m\u001b[0;34m.\u001b[0m\u001b[0m_validate_key_length\u001b[0m\u001b[0;34m(\u001b[0m\u001b[0mkey\u001b[0m\u001b[0;34m)\u001b[0m\u001b[0;34m\u001b[0m\u001b[0;34m\u001b[0m\u001b[0m\n\u001b[0;32m--> 897\u001b[0;31m         \u001b[0mkeyidx\u001b[0m \u001b[0;34m=\u001b[0m \u001b[0;34m[\u001b[0m\u001b[0mself\u001b[0m\u001b[0;34m.\u001b[0m\u001b[0m_convert_to_indexer\u001b[0m\u001b[0;34m(\u001b[0m\u001b[0mk\u001b[0m\u001b[0;34m,\u001b[0m \u001b[0maxis\u001b[0m\u001b[0;34m=\u001b[0m\u001b[0mi\u001b[0m\u001b[0;34m)\u001b[0m \u001b[0;32mfor\u001b[0m \u001b[0mi\u001b[0m\u001b[0;34m,\u001b[0m \u001b[0mk\u001b[0m \u001b[0;32min\u001b[0m \u001b[0menumerate\u001b[0m\u001b[0;34m(\u001b[0m\u001b[0mkey\u001b[0m\u001b[0;34m)\u001b[0m\u001b[0;34m]\u001b[0m\u001b[0;34m\u001b[0m\u001b[0;34m\u001b[0m\u001b[0m\n\u001b[0m\u001b[1;32m    898\u001b[0m         \u001b[0;32mreturn\u001b[0m \u001b[0mtuple\u001b[0m\u001b[0;34m(\u001b[0m\u001b[0mkeyidx\u001b[0m\u001b[0;34m)\u001b[0m\u001b[0;34m\u001b[0m\u001b[0;34m\u001b[0m\u001b[0m\n",
      "\u001b[0;32m~/new_environment/conda/envs/tors/lib/python3.8/site-packages/pandas/core/indexing.py\u001b[0m in \u001b[0;36m?\u001b[0;34m(.0)\u001b[0m\n\u001b[0;32m--> 897\u001b[0;31m     \u001b[0;32mdef\u001b[0m \u001b[0m_convert_tuple\u001b[0m\u001b[0;34m(\u001b[0m\u001b[0mself\u001b[0m\u001b[0;34m,\u001b[0m \u001b[0mkey\u001b[0m\u001b[0;34m:\u001b[0m \u001b[0mtuple\u001b[0m\u001b[0;34m)\u001b[0m \u001b[0;34m->\u001b[0m \u001b[0mtuple\u001b[0m\u001b[0;34m:\u001b[0m\u001b[0;34m\u001b[0m\u001b[0;34m\u001b[0m\u001b[0m\n\u001b[0m\u001b[1;32m    898\u001b[0m         \u001b[0;31m# Note: we assume _tupleize_axis_indexer has been called, if necessary.\u001b[0m\u001b[0;34m\u001b[0m\u001b[0;34m\u001b[0m\u001b[0;34m\u001b[0m\u001b[0m\n\u001b[1;32m    899\u001b[0m         \u001b[0mself\u001b[0m\u001b[0;34m.\u001b[0m\u001b[0m_validate_key_length\u001b[0m\u001b[0;34m(\u001b[0m\u001b[0mkey\u001b[0m\u001b[0;34m)\u001b[0m\u001b[0;34m\u001b[0m\u001b[0;34m\u001b[0m\u001b[0m\n\u001b[1;32m    900\u001b[0m         \u001b[0mkeyidx\u001b[0m \u001b[0;34m=\u001b[0m \u001b[0;34m[\u001b[0m\u001b[0mself\u001b[0m\u001b[0;34m.\u001b[0m\u001b[0m_convert_to_indexer\u001b[0m\u001b[0;34m(\u001b[0m\u001b[0mk\u001b[0m\u001b[0;34m,\u001b[0m \u001b[0maxis\u001b[0m\u001b[0;34m=\u001b[0m\u001b[0mi\u001b[0m\u001b[0;34m)\u001b[0m \u001b[0;32mfor\u001b[0m \u001b[0mi\u001b[0m\u001b[0;34m,\u001b[0m \u001b[0mk\u001b[0m \u001b[0;32min\u001b[0m \u001b[0menumerate\u001b[0m\u001b[0;34m(\u001b[0m\u001b[0mkey\u001b[0m\u001b[0;34m)\u001b[0m\u001b[0;34m]\u001b[0m\u001b[0;34m\u001b[0m\u001b[0;34m\u001b[0m\u001b[0m\n",
      "\u001b[0;32m~/new_environment/conda/envs/tors/lib/python3.8/site-packages/pandas/core/indexing.py\u001b[0m in \u001b[0;36m?\u001b[0;34m(self, key, axis)\u001b[0m\n\u001b[1;32m   1345\u001b[0m         \u001b[0;34m'In the face of ambiguity, refuse the temptation to guess.'\u001b[0m\u001b[0;34m\u001b[0m\u001b[0;34m\u001b[0m\u001b[0m\n\u001b[1;32m   1346\u001b[0m         \u001b[0;32mraise\u001b[0m \u001b[0mAmbiguousIndexError\u001b[0m \u001b[0;32mwith\u001b[0m \u001b[0minteger\u001b[0m \u001b[0mlabels\u001b[0m\u001b[0;31m?\u001b[0m\u001b[0;34m\u001b[0m\u001b[0;34m\u001b[0m\u001b[0m\n\u001b[1;32m   1347\u001b[0m         \u001b[0;34m-\u001b[0m \u001b[0mNo\u001b[0m\u001b[0;34m,\u001b[0m \u001b[0mprefer\u001b[0m \u001b[0mlabel\u001b[0m\u001b[0;34m-\u001b[0m\u001b[0mbased\u001b[0m \u001b[0mindexing\u001b[0m\u001b[0;34m\u001b[0m\u001b[0;34m\u001b[0m\u001b[0m\n\u001b[1;32m   1348\u001b[0m         \"\"\"\n\u001b[0;32m-> 1349\u001b[0;31m         \u001b[0mlabels\u001b[0m \u001b[0;34m=\u001b[0m \u001b[0mself\u001b[0m\u001b[0;34m.\u001b[0m\u001b[0mobj\u001b[0m\u001b[0;34m.\u001b[0m\u001b[0m_get_axis\u001b[0m\u001b[0;34m(\u001b[0m\u001b[0maxis\u001b[0m\u001b[0;34m)\u001b[0m\u001b[0;34m\u001b[0m\u001b[0;34m\u001b[0m\u001b[0m\n\u001b[0m\u001b[1;32m   1350\u001b[0m \u001b[0;34m\u001b[0m\u001b[0m\n\u001b[1;32m   1351\u001b[0m         \u001b[0;32mif\u001b[0m \u001b[0misinstance\u001b[0m\u001b[0;34m(\u001b[0m\u001b[0mkey\u001b[0m\u001b[0;34m,\u001b[0m \u001b[0mslice\u001b[0m\u001b[0;34m)\u001b[0m\u001b[0;34m:\u001b[0m\u001b[0;34m\u001b[0m\u001b[0;34m\u001b[0m\u001b[0m\n\u001b[1;32m   1352\u001b[0m             \u001b[0;32mreturn\u001b[0m \u001b[0mlabels\u001b[0m\u001b[0;34m.\u001b[0m\u001b[0m_convert_slice_indexer\u001b[0m\u001b[0;34m(\u001b[0m\u001b[0mkey\u001b[0m\u001b[0;34m,\u001b[0m \u001b[0mkind\u001b[0m\u001b[0;34m=\u001b[0m\u001b[0;34m\"loc\"\u001b[0m\u001b[0;34m)\u001b[0m\u001b[0;34m\u001b[0m\u001b[0;34m\u001b[0m\u001b[0m\n",
      "\u001b[0;32m~/new_environment/conda/envs/tors/lib/python3.8/site-packages/pandas/core/generic.py\u001b[0m in \u001b[0;36m?\u001b[0;34m(self, axis)\u001b[0m\n\u001b[1;32m    565\u001b[0m     \u001b[0;34m@\u001b[0m\u001b[0mfinal\u001b[0m\u001b[0;34m\u001b[0m\u001b[0;34m\u001b[0m\u001b[0m\n\u001b[1;32m    566\u001b[0m     \u001b[0;32mdef\u001b[0m \u001b[0m_get_axis\u001b[0m\u001b[0;34m(\u001b[0m\u001b[0mself\u001b[0m\u001b[0;34m,\u001b[0m \u001b[0maxis\u001b[0m\u001b[0;34m:\u001b[0m \u001b[0mAxis\u001b[0m\u001b[0;34m)\u001b[0m \u001b[0;34m->\u001b[0m \u001b[0mIndex\u001b[0m\u001b[0;34m:\u001b[0m\u001b[0;34m\u001b[0m\u001b[0;34m\u001b[0m\u001b[0m\n\u001b[1;32m    567\u001b[0m         \u001b[0maxis_number\u001b[0m \u001b[0;34m=\u001b[0m \u001b[0mself\u001b[0m\u001b[0;34m.\u001b[0m\u001b[0m_get_axis_number\u001b[0m\u001b[0;34m(\u001b[0m\u001b[0maxis\u001b[0m\u001b[0;34m)\u001b[0m\u001b[0;34m\u001b[0m\u001b[0;34m\u001b[0m\u001b[0m\n\u001b[1;32m    568\u001b[0m         \u001b[0;32massert\u001b[0m \u001b[0maxis_number\u001b[0m \u001b[0;32min\u001b[0m \u001b[0;34m{\u001b[0m\u001b[0;36m0\u001b[0m\u001b[0;34m,\u001b[0m \u001b[0;36m1\u001b[0m\u001b[0;34m}\u001b[0m\u001b[0;34m\u001b[0m\u001b[0;34m\u001b[0m\u001b[0m\n\u001b[0;32m--> 569\u001b[0;31m         \u001b[0;32mreturn\u001b[0m \u001b[0mself\u001b[0m\u001b[0;34m.\u001b[0m\u001b[0mindex\u001b[0m \u001b[0;32mif\u001b[0m \u001b[0maxis_number\u001b[0m \u001b[0;34m==\u001b[0m \u001b[0;36m0\u001b[0m \u001b[0;32melse\u001b[0m \u001b[0mself\u001b[0m\u001b[0;34m.\u001b[0m\u001b[0mcolumns\u001b[0m\u001b[0;34m\u001b[0m\u001b[0;34m\u001b[0m\u001b[0m\n\u001b[0m",
      "\u001b[0;31mKeyboardInterrupt\u001b[0m: "
     ]
    }
   ],
   "source": [
    "start = time.time()\n",
    "i = 0\n",
    "low_rec_gap_list = [] # one entry per algorithm\n",
    "medium_rec_gap_list = []\n",
    "high_rec_gap_list = []\n",
    "ttests_list = []\n",
    "\n",
    "for i in range(0, len(algo_names)):\n",
    "    print(algo_names[i])\n",
    "    df_item_dist_cornac[algo_names[i]] = 0.0\n",
    "    \n",
    "    low_rec_gap = []\n",
    "    medium_rec_gap = []\n",
    "    high_rec_gap = []\n",
    "    \n",
    "    # low_count = 0.0\n",
    "    # med_count = 0.0\n",
    "    # high_count = 0.0\n",
    "\n",
    "    top = algo_dict[algo_names[i]]\n",
    "    for uid, user_ratings in tqdm(top):\n",
    "        iid_list = []\n",
    "        for (iid, _) in user_ratings:\n",
    "            df_item_dist_cornac.loc[iid, algo_names[i]] += 1\n",
    "            iid_list.append(iid)\n",
    "        gap = sum(df_item_dist_cornac[\"count\"].loc[iid_list]) / len(iid_list)\n",
    "        if uid in low.index:\n",
    "            low_rec_gap.append(gap)\n",
    "            # low_count += 1\n",
    "        elif uid in med.index:\n",
    "            medium_rec_gap.append(gap)\n",
    "            # med_count += 1\n",
    "        elif uid in high.index:\n",
    "            high_rec_gap.append(gap)\n",
    "        #     high_count += 1\n",
    "        else:\n",
    "          print(\"hi\")\n",
    "    # print(low_count, med_count, high_count)\n",
    "    # ttests\n",
    "\n",
    "    ttests = [stats.ttest_ind(low_rec_gap, medium_rec_gap, equal_var=False)[1],\n",
    "                            stats.ttest_ind(low_rec_gap, high_rec_gap, equal_var=False)[1],\n",
    "                            stats.ttest_ind(medium_rec_gap, high_rec_gap, equal_var=False)[1]]\n",
    "    \n",
    "    low_rec_gap_list.append(np.mean(low_rec_gap))\n",
    "    medium_rec_gap_list.append(np.mean(medium_rec_gap))\n",
    "    high_rec_gap_list.append(np.mean(high_rec_gap))\n",
    "    ttests_list.append(ttests)\n",
    "    i += 1 # next algorithm\n",
    "end = time.time()\n",
    "print(round(end-start), \"seconds.\")"
   ]
  },
  {
   "cell_type": "markdown",
   "metadata": {
    "id": "hRQ9ZID5-kfv"
   },
   "source": [
    "### Cornac results."
   ]
  },
  {
   "cell_type": "code",
   "execution_count": null,
   "metadata": {
    "id": "tqyKuR-m-oaX"
   },
   "outputs": [],
   "source": [
    "low_gap_vals = []\n",
    "medium_gap_vals = []\n",
    "high_gap_vals = []\n",
    "\n",
    "for i in range(0, len(algo_names)):\n",
    "    low_gap_vals.append((low_rec_gap_list[i] - low_GAP) / low_GAP * 100)\n",
    "    medium_gap_vals.append((medium_rec_gap_list[i] - med_GAP) / med_GAP * 100)\n",
    "    high_gap_vals.append((high_rec_gap_list[i] - high_GAP) / high_GAP * 100)"
   ]
  },
  {
   "cell_type": "markdown",
   "metadata": {
    "id": "G_iMLemJVtpz"
   },
   "source": [
    "# Save!!"
   ]
  },
  {
   "cell_type": "code",
   "execution_count": null,
   "metadata": {},
   "outputs": [],
   "source": [
    "location = 'results/'\n",
    "# df_item_dist_cornac.to_csv(location+'df_item_dist_cornac_music_'+choice+'.csv')\n",
    "NDCGs.to_csv(location+'NDCGs_music_'+choice+'_'+pop_notion+'.csv')\n",
    "TTESTs.to_csv(location+'NDCG_ttests_music_'+choice+'_'+pop_notion+'.csv')\n",
    "with open(location+'low_gap_vals_music_'+choice+'_'+pop_notion+'.pickle', 'wb') as handle:\n",
    "    pkl.dump(low_gap_vals, handle)\n",
    "with open(location+'med_gap_vals_music_'+choice+'_'+pop_notion+'.pickle', 'wb') as handle:\n",
    "    pkl.dump(medium_gap_vals, handle)\n",
    "with open(location+'high_gap_vals_music_'+choice+'_'+pop_notion+'.pickle', 'wb') as handle:\n",
    "    pkl.dump(high_gap_vals, handle)\n",
    "with open(location+'gap_ttests_music_'+choice+'_'+pop_notion+'.pickle', 'wb') as handle:\n",
    "    pkl.dump(ttests_list, handle)"
   ]
  },
  {
   "cell_type": "code",
   "execution_count": null,
   "metadata": {},
   "outputs": [],
   "source": []
  }
 ],
 "metadata": {
  "colab": {
   "collapsed_sections": [
    "yQyAB2jFcMnk",
    "hRQ9ZID5-kfv",
    "B1sngPaV_XU1"
   ],
   "provenance": []
  },
  "kernelspec": {
   "display_name": "Python 3 (ipykernel)",
   "language": "python",
   "name": "python3"
  },
  "language_info": {
   "codemirror_mode": {
    "name": "ipython",
    "version": 3
   },
   "file_extension": ".py",
   "mimetype": "text/x-python",
   "name": "python",
   "nbconvert_exporter": "python",
   "pygments_lexer": "ipython3",
   "version": "3.8.18"
  },
  "widgets": {
   "application/vnd.jupyter.widget-state+json": {
    "00407b4bf2504ceeac867ef86e5a8f26": {
     "model_module": "@jupyter-widgets/base",
     "model_module_version": "1.2.0",
     "model_name": "LayoutModel",
     "state": {
      "_model_module": "@jupyter-widgets/base",
      "_model_module_version": "1.2.0",
      "_model_name": "LayoutModel",
      "_view_count": null,
      "_view_module": "@jupyter-widgets/base",
      "_view_module_version": "1.2.0",
      "_view_name": "LayoutView",
      "align_content": null,
      "align_items": null,
      "align_self": null,
      "border": null,
      "bottom": null,
      "display": null,
      "flex": null,
      "flex_flow": null,
      "grid_area": null,
      "grid_auto_columns": null,
      "grid_auto_flow": null,
      "grid_auto_rows": null,
      "grid_column": null,
      "grid_gap": null,
      "grid_row": null,
      "grid_template_areas": null,
      "grid_template_columns": null,
      "grid_template_rows": null,
      "height": null,
      "justify_content": null,
      "justify_items": null,
      "left": null,
      "margin": null,
      "max_height": null,
      "max_width": null,
      "min_height": null,
      "min_width": null,
      "object_fit": null,
      "object_position": null,
      "order": null,
      "overflow": null,
      "overflow_x": null,
      "overflow_y": null,
      "padding": null,
      "right": null,
      "top": null,
      "visibility": null,
      "width": null
     }
    },
    "01a095be3dd040c1b8c06e6424d59458": {
     "model_module": "@jupyter-widgets/base",
     "model_module_version": "1.2.0",
     "model_name": "LayoutModel",
     "state": {
      "_model_module": "@jupyter-widgets/base",
      "_model_module_version": "1.2.0",
      "_model_name": "LayoutModel",
      "_view_count": null,
      "_view_module": "@jupyter-widgets/base",
      "_view_module_version": "1.2.0",
      "_view_name": "LayoutView",
      "align_content": null,
      "align_items": null,
      "align_self": null,
      "border": null,
      "bottom": null,
      "display": null,
      "flex": null,
      "flex_flow": null,
      "grid_area": null,
      "grid_auto_columns": null,
      "grid_auto_flow": null,
      "grid_auto_rows": null,
      "grid_column": null,
      "grid_gap": null,
      "grid_row": null,
      "grid_template_areas": null,
      "grid_template_columns": null,
      "grid_template_rows": null,
      "height": null,
      "justify_content": null,
      "justify_items": null,
      "left": null,
      "margin": null,
      "max_height": null,
      "max_width": null,
      "min_height": null,
      "min_width": null,
      "object_fit": null,
      "object_position": null,
      "order": null,
      "overflow": null,
      "overflow_x": null,
      "overflow_y": null,
      "padding": null,
      "right": null,
      "top": null,
      "visibility": null,
      "width": null
     }
    },
    "04dd975adb724fda869bc6511bfb2d18": {
     "model_module": "@jupyter-widgets/controls",
     "model_module_version": "1.5.0",
     "model_name": "HBoxModel",
     "state": {
      "_dom_classes": [],
      "_model_module": "@jupyter-widgets/controls",
      "_model_module_version": "1.5.0",
      "_model_name": "HBoxModel",
      "_view_count": null,
      "_view_module": "@jupyter-widgets/controls",
      "_view_module_version": "1.5.0",
      "_view_name": "HBoxView",
      "box_style": "",
      "children": [
       "IPY_MODEL_def3401ca9564aa99cba56ef4727d76b",
       "IPY_MODEL_c27ff0356e6f4404a2dee3323a524a77",
       "IPY_MODEL_8bc4b7491f9e41e087696fa4f1ff2002"
      ],
      "layout": "IPY_MODEL_91bdb9b163264494b1819269af7a6924"
     }
    },
    "04fc31ed442f42fa8c1ad837130438f5": {
     "model_module": "@jupyter-widgets/base",
     "model_module_version": "1.2.0",
     "model_name": "LayoutModel",
     "state": {
      "_model_module": "@jupyter-widgets/base",
      "_model_module_version": "1.2.0",
      "_model_name": "LayoutModel",
      "_view_count": null,
      "_view_module": "@jupyter-widgets/base",
      "_view_module_version": "1.2.0",
      "_view_name": "LayoutView",
      "align_content": null,
      "align_items": null,
      "align_self": null,
      "border": null,
      "bottom": null,
      "display": null,
      "flex": null,
      "flex_flow": null,
      "grid_area": null,
      "grid_auto_columns": null,
      "grid_auto_flow": null,
      "grid_auto_rows": null,
      "grid_column": null,
      "grid_gap": null,
      "grid_row": null,
      "grid_template_areas": null,
      "grid_template_columns": null,
      "grid_template_rows": null,
      "height": null,
      "justify_content": null,
      "justify_items": null,
      "left": null,
      "margin": null,
      "max_height": null,
      "max_width": null,
      "min_height": null,
      "min_width": null,
      "object_fit": null,
      "object_position": null,
      "order": null,
      "overflow": null,
      "overflow_x": null,
      "overflow_y": null,
      "padding": null,
      "right": null,
      "top": null,
      "visibility": null,
      "width": null
     }
    },
    "06459d42d9bb4fc18e91e9b0159494dd": {
     "model_module": "@jupyter-widgets/controls",
     "model_module_version": "1.5.0",
     "model_name": "HTMLModel",
     "state": {
      "_dom_classes": [],
      "_model_module": "@jupyter-widgets/controls",
      "_model_module_version": "1.5.0",
      "_model_name": "HTMLModel",
      "_view_count": null,
      "_view_module": "@jupyter-widgets/controls",
      "_view_module_version": "1.5.0",
      "_view_name": "HTMLView",
      "description": "",
      "description_tooltip": null,
      "layout": "IPY_MODEL_e017b1f4188540a5b0897f1784a57803",
      "placeholder": "​",
      "style": "IPY_MODEL_13e73189f8e4418889aa20d3c26eef11",
      "value": "100%"
     }
    },
    "071fd79e37df451390dbf8f6f722344e": {
     "model_module": "@jupyter-widgets/controls",
     "model_module_version": "1.5.0",
     "model_name": "HTMLModel",
     "state": {
      "_dom_classes": [],
      "_model_module": "@jupyter-widgets/controls",
      "_model_module_version": "1.5.0",
      "_model_name": "HTMLModel",
      "_view_count": null,
      "_view_module": "@jupyter-widgets/controls",
      "_view_module_version": "1.5.0",
      "_view_name": "HTMLView",
      "description": "",
      "description_tooltip": null,
      "layout": "IPY_MODEL_1135eea6e4ae480ba2b74af2be8973f0",
      "placeholder": "​",
      "style": "IPY_MODEL_a5b80bc1ec774e86ba0b57baf5a153a0",
      "value": " 100/100 [03:45&lt;00:00,  2.54s/it, loss=27.2]"
     }
    },
    "09c08c8fb8e648539cd20e5c498221f8": {
     "model_module": "@jupyter-widgets/controls",
     "model_module_version": "1.5.0",
     "model_name": "HTMLModel",
     "state": {
      "_dom_classes": [],
      "_model_module": "@jupyter-widgets/controls",
      "_model_module_version": "1.5.0",
      "_model_name": "HTMLModel",
      "_view_count": null,
      "_view_module": "@jupyter-widgets/controls",
      "_view_module_version": "1.5.0",
      "_view_name": "HTMLView",
      "description": "",
      "description_tooltip": null,
      "layout": "IPY_MODEL_db5560ce21dd41998ee53cb55878a950",
      "placeholder": "​",
      "style": "IPY_MODEL_9ece7c0a4009410f910ae70b1e5cae48",
      "value": " 50/50 [00:04&lt;00:00, 11.12it/s, loss=100705615872.00]"
     }
    },
    "1135eea6e4ae480ba2b74af2be8973f0": {
     "model_module": "@jupyter-widgets/base",
     "model_module_version": "1.2.0",
     "model_name": "LayoutModel",
     "state": {
      "_model_module": "@jupyter-widgets/base",
      "_model_module_version": "1.2.0",
      "_model_name": "LayoutModel",
      "_view_count": null,
      "_view_module": "@jupyter-widgets/base",
      "_view_module_version": "1.2.0",
      "_view_name": "LayoutView",
      "align_content": null,
      "align_items": null,
      "align_self": null,
      "border": null,
      "bottom": null,
      "display": null,
      "flex": null,
      "flex_flow": null,
      "grid_area": null,
      "grid_auto_columns": null,
      "grid_auto_flow": null,
      "grid_auto_rows": null,
      "grid_column": null,
      "grid_gap": null,
      "grid_row": null,
      "grid_template_areas": null,
      "grid_template_columns": null,
      "grid_template_rows": null,
      "height": null,
      "justify_content": null,
      "justify_items": null,
      "left": null,
      "margin": null,
      "max_height": null,
      "max_width": null,
      "min_height": null,
      "min_width": null,
      "object_fit": null,
      "object_position": null,
      "order": null,
      "overflow": null,
      "overflow_x": null,
      "overflow_y": null,
      "padding": null,
      "right": null,
      "top": null,
      "visibility": null,
      "width": null
     }
    },
    "1187c484f63949928c588b3cc91a3544": {
     "model_module": "@jupyter-widgets/controls",
     "model_module_version": "1.5.0",
     "model_name": "HTMLModel",
     "state": {
      "_dom_classes": [],
      "_model_module": "@jupyter-widgets/controls",
      "_model_module_version": "1.5.0",
      "_model_name": "HTMLModel",
      "_view_count": null,
      "_view_module": "@jupyter-widgets/controls",
      "_view_module_version": "1.5.0",
      "_view_name": "HTMLView",
      "description": "",
      "description_tooltip": null,
      "layout": "IPY_MODEL_13435784194545ec96666a0b364802b3",
      "placeholder": "​",
      "style": "IPY_MODEL_e1302c19833b45d1a22f0bcabcfe8f18",
      "value": "100%"
     }
    },
    "13435784194545ec96666a0b364802b3": {
     "model_module": "@jupyter-widgets/base",
     "model_module_version": "1.2.0",
     "model_name": "LayoutModel",
     "state": {
      "_model_module": "@jupyter-widgets/base",
      "_model_module_version": "1.2.0",
      "_model_name": "LayoutModel",
      "_view_count": null,
      "_view_module": "@jupyter-widgets/base",
      "_view_module_version": "1.2.0",
      "_view_name": "LayoutView",
      "align_content": null,
      "align_items": null,
      "align_self": null,
      "border": null,
      "bottom": null,
      "display": null,
      "flex": null,
      "flex_flow": null,
      "grid_area": null,
      "grid_auto_columns": null,
      "grid_auto_flow": null,
      "grid_auto_rows": null,
      "grid_column": null,
      "grid_gap": null,
      "grid_row": null,
      "grid_template_areas": null,
      "grid_template_columns": null,
      "grid_template_rows": null,
      "height": null,
      "justify_content": null,
      "justify_items": null,
      "left": null,
      "margin": null,
      "max_height": null,
      "max_width": null,
      "min_height": null,
      "min_width": null,
      "object_fit": null,
      "object_position": null,
      "order": null,
      "overflow": null,
      "overflow_x": null,
      "overflow_y": null,
      "padding": null,
      "right": null,
      "top": null,
      "visibility": null,
      "width": null
     }
    },
    "13e73189f8e4418889aa20d3c26eef11": {
     "model_module": "@jupyter-widgets/controls",
     "model_module_version": "1.5.0",
     "model_name": "DescriptionStyleModel",
     "state": {
      "_model_module": "@jupyter-widgets/controls",
      "_model_module_version": "1.5.0",
      "_model_name": "DescriptionStyleModel",
      "_view_count": null,
      "_view_module": "@jupyter-widgets/base",
      "_view_module_version": "1.2.0",
      "_view_name": "StyleView",
      "description_width": ""
     }
    },
    "1ae5e217b7a347f596808fa5005f105e": {
     "model_module": "@jupyter-widgets/base",
     "model_module_version": "1.2.0",
     "model_name": "LayoutModel",
     "state": {
      "_model_module": "@jupyter-widgets/base",
      "_model_module_version": "1.2.0",
      "_model_name": "LayoutModel",
      "_view_count": null,
      "_view_module": "@jupyter-widgets/base",
      "_view_module_version": "1.2.0",
      "_view_name": "LayoutView",
      "align_content": null,
      "align_items": null,
      "align_self": null,
      "border": null,
      "bottom": null,
      "display": null,
      "flex": null,
      "flex_flow": null,
      "grid_area": null,
      "grid_auto_columns": null,
      "grid_auto_flow": null,
      "grid_auto_rows": null,
      "grid_column": null,
      "grid_gap": null,
      "grid_row": null,
      "grid_template_areas": null,
      "grid_template_columns": null,
      "grid_template_rows": null,
      "height": null,
      "justify_content": null,
      "justify_items": null,
      "left": null,
      "margin": null,
      "max_height": null,
      "max_width": null,
      "min_height": null,
      "min_width": null,
      "object_fit": null,
      "object_position": null,
      "order": null,
      "overflow": null,
      "overflow_x": null,
      "overflow_y": null,
      "padding": null,
      "right": null,
      "top": null,
      "visibility": null,
      "width": null
     }
    },
    "1c5d780a75c34d08b00fcfb713ca92bb": {
     "model_module": "@jupyter-widgets/base",
     "model_module_version": "1.2.0",
     "model_name": "LayoutModel",
     "state": {
      "_model_module": "@jupyter-widgets/base",
      "_model_module_version": "1.2.0",
      "_model_name": "LayoutModel",
      "_view_count": null,
      "_view_module": "@jupyter-widgets/base",
      "_view_module_version": "1.2.0",
      "_view_name": "LayoutView",
      "align_content": null,
      "align_items": null,
      "align_self": null,
      "border": null,
      "bottom": null,
      "display": null,
      "flex": null,
      "flex_flow": null,
      "grid_area": null,
      "grid_auto_columns": null,
      "grid_auto_flow": null,
      "grid_auto_rows": null,
      "grid_column": null,
      "grid_gap": null,
      "grid_row": null,
      "grid_template_areas": null,
      "grid_template_columns": null,
      "grid_template_rows": null,
      "height": null,
      "justify_content": null,
      "justify_items": null,
      "left": null,
      "margin": null,
      "max_height": null,
      "max_width": null,
      "min_height": null,
      "min_width": null,
      "object_fit": null,
      "object_position": null,
      "order": null,
      "overflow": null,
      "overflow_x": null,
      "overflow_y": null,
      "padding": null,
      "right": null,
      "top": null,
      "visibility": null,
      "width": null
     }
    },
    "23260e17db0f4712955e94eaf50e43fc": {
     "model_module": "@jupyter-widgets/controls",
     "model_module_version": "1.5.0",
     "model_name": "HTMLModel",
     "state": {
      "_dom_classes": [],
      "_model_module": "@jupyter-widgets/controls",
      "_model_module_version": "1.5.0",
      "_model_name": "HTMLModel",
      "_view_count": null,
      "_view_module": "@jupyter-widgets/controls",
      "_view_module_version": "1.5.0",
      "_view_name": "HTMLView",
      "description": "",
      "description_tooltip": null,
      "layout": "IPY_MODEL_3ed55a294b4b4de8a44c36ede69c5b91",
      "placeholder": "​",
      "style": "IPY_MODEL_82e6df799546495cbb02b3f8f39974f8",
      "value": "100%"
     }
    },
    "27137e34792f4b32b8d6753df63e3bbc": {
     "model_module": "@jupyter-widgets/controls",
     "model_module_version": "1.5.0",
     "model_name": "DescriptionStyleModel",
     "state": {
      "_model_module": "@jupyter-widgets/controls",
      "_model_module_version": "1.5.0",
      "_model_name": "DescriptionStyleModel",
      "_view_count": null,
      "_view_module": "@jupyter-widgets/base",
      "_view_module_version": "1.2.0",
      "_view_name": "StyleView",
      "description_width": ""
     }
    },
    "28bf3463ad2847a289d37c59adb5379b": {
     "model_module": "@jupyter-widgets/base",
     "model_module_version": "1.2.0",
     "model_name": "LayoutModel",
     "state": {
      "_model_module": "@jupyter-widgets/base",
      "_model_module_version": "1.2.0",
      "_model_name": "LayoutModel",
      "_view_count": null,
      "_view_module": "@jupyter-widgets/base",
      "_view_module_version": "1.2.0",
      "_view_name": "LayoutView",
      "align_content": null,
      "align_items": null,
      "align_self": null,
      "border": null,
      "bottom": null,
      "display": null,
      "flex": null,
      "flex_flow": null,
      "grid_area": null,
      "grid_auto_columns": null,
      "grid_auto_flow": null,
      "grid_auto_rows": null,
      "grid_column": null,
      "grid_gap": null,
      "grid_row": null,
      "grid_template_areas": null,
      "grid_template_columns": null,
      "grid_template_rows": null,
      "height": null,
      "justify_content": null,
      "justify_items": null,
      "left": null,
      "margin": null,
      "max_height": null,
      "max_width": null,
      "min_height": null,
      "min_width": null,
      "object_fit": null,
      "object_position": null,
      "order": null,
      "overflow": null,
      "overflow_x": null,
      "overflow_y": null,
      "padding": null,
      "right": null,
      "top": null,
      "visibility": null,
      "width": null
     }
    },
    "2ab27320e740492fbe11b0ff049fcc68": {
     "model_module": "@jupyter-widgets/base",
     "model_module_version": "1.2.0",
     "model_name": "LayoutModel",
     "state": {
      "_model_module": "@jupyter-widgets/base",
      "_model_module_version": "1.2.0",
      "_model_name": "LayoutModel",
      "_view_count": null,
      "_view_module": "@jupyter-widgets/base",
      "_view_module_version": "1.2.0",
      "_view_name": "LayoutView",
      "align_content": null,
      "align_items": null,
      "align_self": null,
      "border": null,
      "bottom": null,
      "display": null,
      "flex": null,
      "flex_flow": null,
      "grid_area": null,
      "grid_auto_columns": null,
      "grid_auto_flow": null,
      "grid_auto_rows": null,
      "grid_column": null,
      "grid_gap": null,
      "grid_row": null,
      "grid_template_areas": null,
      "grid_template_columns": null,
      "grid_template_rows": null,
      "height": null,
      "justify_content": null,
      "justify_items": null,
      "left": null,
      "margin": null,
      "max_height": null,
      "max_width": null,
      "min_height": null,
      "min_width": null,
      "object_fit": null,
      "object_position": null,
      "order": null,
      "overflow": null,
      "overflow_x": null,
      "overflow_y": null,
      "padding": null,
      "right": null,
      "top": null,
      "visibility": null,
      "width": null
     }
    },
    "2eb1e08bfed0487ebd14bdc24bfc3bcf": {
     "model_module": "@jupyter-widgets/controls",
     "model_module_version": "1.5.0",
     "model_name": "HBoxModel",
     "state": {
      "_dom_classes": [],
      "_model_module": "@jupyter-widgets/controls",
      "_model_module_version": "1.5.0",
      "_model_name": "HBoxModel",
      "_view_count": null,
      "_view_module": "@jupyter-widgets/controls",
      "_view_module_version": "1.5.0",
      "_view_name": "HBoxView",
      "box_style": "",
      "children": [
       "IPY_MODEL_fa0d8500a8434ff6a26099d3364b785e",
       "IPY_MODEL_a7bfb4f0e24148168386bbfc65b807af",
       "IPY_MODEL_c898fd6643e0405caf0f9749b062b53e"
      ],
      "layout": "IPY_MODEL_df0f4dd9ad7b41acbb78e951a08c3803"
     }
    },
    "338a5a7339464b709dc3e2ce553dca76": {
     "model_module": "@jupyter-widgets/controls",
     "model_module_version": "1.5.0",
     "model_name": "ProgressStyleModel",
     "state": {
      "_model_module": "@jupyter-widgets/controls",
      "_model_module_version": "1.5.0",
      "_model_name": "ProgressStyleModel",
      "_view_count": null,
      "_view_module": "@jupyter-widgets/base",
      "_view_module_version": "1.2.0",
      "_view_name": "StyleView",
      "bar_color": null,
      "description_width": ""
     }
    },
    "33ae2aa2c4274d3e90069cc7da0268d6": {
     "model_module": "@jupyter-widgets/controls",
     "model_module_version": "1.5.0",
     "model_name": "HBoxModel",
     "state": {
      "_dom_classes": [],
      "_model_module": "@jupyter-widgets/controls",
      "_model_module_version": "1.5.0",
      "_model_name": "HBoxModel",
      "_view_count": null,
      "_view_module": "@jupyter-widgets/controls",
      "_view_module_version": "1.5.0",
      "_view_name": "HBoxView",
      "box_style": "",
      "children": [
       "IPY_MODEL_c14bb0f450c04681ba80cc2d5cfddbce",
       "IPY_MODEL_48216479f46449008a8b118aec47baf4",
       "IPY_MODEL_b1993b53e4f94e9cbd355715cb6c0d06"
      ],
      "layout": "IPY_MODEL_8b3e007512754f0eb44772d65bd37cbb"
     }
    },
    "384db7ad154d49e0a214910317004d7c": {
     "model_module": "@jupyter-widgets/controls",
     "model_module_version": "1.5.0",
     "model_name": "HBoxModel",
     "state": {
      "_dom_classes": [],
      "_model_module": "@jupyter-widgets/controls",
      "_model_module_version": "1.5.0",
      "_model_name": "HBoxModel",
      "_view_count": null,
      "_view_module": "@jupyter-widgets/controls",
      "_view_module_version": "1.5.0",
      "_view_name": "HBoxView",
      "box_style": "",
      "children": [
       "IPY_MODEL_8bc155d5c808439c907c2c2d00cf48d7",
       "IPY_MODEL_715d1578b11f4e44ac6710f4a9f49697",
       "IPY_MODEL_09c08c8fb8e648539cd20e5c498221f8"
      ],
      "layout": "IPY_MODEL_6a94bd8148c24780b2e0fb6ea6ebe4f9"
     }
    },
    "39e52c08513b4624b31626fcefcd6b6d": {
     "model_module": "@jupyter-widgets/base",
     "model_module_version": "1.2.0",
     "model_name": "LayoutModel",
     "state": {
      "_model_module": "@jupyter-widgets/base",
      "_model_module_version": "1.2.0",
      "_model_name": "LayoutModel",
      "_view_count": null,
      "_view_module": "@jupyter-widgets/base",
      "_view_module_version": "1.2.0",
      "_view_name": "LayoutView",
      "align_content": null,
      "align_items": null,
      "align_self": null,
      "border": null,
      "bottom": null,
      "display": null,
      "flex": null,
      "flex_flow": null,
      "grid_area": null,
      "grid_auto_columns": null,
      "grid_auto_flow": null,
      "grid_auto_rows": null,
      "grid_column": null,
      "grid_gap": null,
      "grid_row": null,
      "grid_template_areas": null,
      "grid_template_columns": null,
      "grid_template_rows": null,
      "height": null,
      "justify_content": null,
      "justify_items": null,
      "left": null,
      "margin": null,
      "max_height": null,
      "max_width": null,
      "min_height": null,
      "min_width": null,
      "object_fit": null,
      "object_position": null,
      "order": null,
      "overflow": null,
      "overflow_x": null,
      "overflow_y": null,
      "padding": null,
      "right": null,
      "top": null,
      "visibility": null,
      "width": null
     }
    },
    "3ed55a294b4b4de8a44c36ede69c5b91": {
     "model_module": "@jupyter-widgets/base",
     "model_module_version": "1.2.0",
     "model_name": "LayoutModel",
     "state": {
      "_model_module": "@jupyter-widgets/base",
      "_model_module_version": "1.2.0",
      "_model_name": "LayoutModel",
      "_view_count": null,
      "_view_module": "@jupyter-widgets/base",
      "_view_module_version": "1.2.0",
      "_view_name": "LayoutView",
      "align_content": null,
      "align_items": null,
      "align_self": null,
      "border": null,
      "bottom": null,
      "display": null,
      "flex": null,
      "flex_flow": null,
      "grid_area": null,
      "grid_auto_columns": null,
      "grid_auto_flow": null,
      "grid_auto_rows": null,
      "grid_column": null,
      "grid_gap": null,
      "grid_row": null,
      "grid_template_areas": null,
      "grid_template_columns": null,
      "grid_template_rows": null,
      "height": null,
      "justify_content": null,
      "justify_items": null,
      "left": null,
      "margin": null,
      "max_height": null,
      "max_width": null,
      "min_height": null,
      "min_width": null,
      "object_fit": null,
      "object_position": null,
      "order": null,
      "overflow": null,
      "overflow_x": null,
      "overflow_y": null,
      "padding": null,
      "right": null,
      "top": null,
      "visibility": null,
      "width": null
     }
    },
    "3f216da6dd8e469c87036023da16750a": {
     "model_module": "@jupyter-widgets/base",
     "model_module_version": "1.2.0",
     "model_name": "LayoutModel",
     "state": {
      "_model_module": "@jupyter-widgets/base",
      "_model_module_version": "1.2.0",
      "_model_name": "LayoutModel",
      "_view_count": null,
      "_view_module": "@jupyter-widgets/base",
      "_view_module_version": "1.2.0",
      "_view_name": "LayoutView",
      "align_content": null,
      "align_items": null,
      "align_self": null,
      "border": null,
      "bottom": null,
      "display": null,
      "flex": null,
      "flex_flow": null,
      "grid_area": null,
      "grid_auto_columns": null,
      "grid_auto_flow": null,
      "grid_auto_rows": null,
      "grid_column": null,
      "grid_gap": null,
      "grid_row": null,
      "grid_template_areas": null,
      "grid_template_columns": null,
      "grid_template_rows": null,
      "height": null,
      "justify_content": null,
      "justify_items": null,
      "left": null,
      "margin": null,
      "max_height": null,
      "max_width": null,
      "min_height": null,
      "min_width": null,
      "object_fit": null,
      "object_position": null,
      "order": null,
      "overflow": null,
      "overflow_x": null,
      "overflow_y": null,
      "padding": null,
      "right": null,
      "top": null,
      "visibility": null,
      "width": null
     }
    },
    "438056719f104af798671dc922d38e80": {
     "model_module": "@jupyter-widgets/base",
     "model_module_version": "1.2.0",
     "model_name": "LayoutModel",
     "state": {
      "_model_module": "@jupyter-widgets/base",
      "_model_module_version": "1.2.0",
      "_model_name": "LayoutModel",
      "_view_count": null,
      "_view_module": "@jupyter-widgets/base",
      "_view_module_version": "1.2.0",
      "_view_name": "LayoutView",
      "align_content": null,
      "align_items": null,
      "align_self": null,
      "border": null,
      "bottom": null,
      "display": null,
      "flex": null,
      "flex_flow": null,
      "grid_area": null,
      "grid_auto_columns": null,
      "grid_auto_flow": null,
      "grid_auto_rows": null,
      "grid_column": null,
      "grid_gap": null,
      "grid_row": null,
      "grid_template_areas": null,
      "grid_template_columns": null,
      "grid_template_rows": null,
      "height": null,
      "justify_content": null,
      "justify_items": null,
      "left": null,
      "margin": null,
      "max_height": null,
      "max_width": null,
      "min_height": null,
      "min_width": null,
      "object_fit": null,
      "object_position": null,
      "order": null,
      "overflow": null,
      "overflow_x": null,
      "overflow_y": null,
      "padding": null,
      "right": null,
      "top": null,
      "visibility": null,
      "width": null
     }
    },
    "45d5b09150504cffa5b490bb9ca63be2": {
     "model_module": "@jupyter-widgets/controls",
     "model_module_version": "1.5.0",
     "model_name": "DescriptionStyleModel",
     "state": {
      "_model_module": "@jupyter-widgets/controls",
      "_model_module_version": "1.5.0",
      "_model_name": "DescriptionStyleModel",
      "_view_count": null,
      "_view_module": "@jupyter-widgets/base",
      "_view_module_version": "1.2.0",
      "_view_name": "StyleView",
      "description_width": ""
     }
    },
    "48216479f46449008a8b118aec47baf4": {
     "model_module": "@jupyter-widgets/controls",
     "model_module_version": "1.5.0",
     "model_name": "FloatProgressModel",
     "state": {
      "_dom_classes": [],
      "_model_module": "@jupyter-widgets/controls",
      "_model_module_version": "1.5.0",
      "_model_name": "FloatProgressModel",
      "_view_count": null,
      "_view_module": "@jupyter-widgets/controls",
      "_view_module_version": "1.5.0",
      "_view_name": "ProgressView",
      "bar_style": "success",
      "description": "",
      "description_tooltip": null,
      "layout": "IPY_MODEL_ab5d7b2a7d444a03bfc090ef25c5cc17",
      "max": 50,
      "min": 0,
      "orientation": "horizontal",
      "style": "IPY_MODEL_c80a2a9b818443959e64af63d5a29c4f",
      "value": 50
     }
    },
    "4a01644a58e047498bd7d004c771ba51": {
     "model_module": "@jupyter-widgets/controls",
     "model_module_version": "1.5.0",
     "model_name": "FloatProgressModel",
     "state": {
      "_dom_classes": [],
      "_model_module": "@jupyter-widgets/controls",
      "_model_module_version": "1.5.0",
      "_model_name": "FloatProgressModel",
      "_view_count": null,
      "_view_module": "@jupyter-widgets/controls",
      "_view_module_version": "1.5.0",
      "_view_name": "ProgressView",
      "bar_style": "success",
      "description": "",
      "description_tooltip": null,
      "layout": "IPY_MODEL_ce56c6cc65f440f9b05adb08810724f7",
      "max": 100,
      "min": 0,
      "orientation": "horizontal",
      "style": "IPY_MODEL_338a5a7339464b709dc3e2ce553dca76",
      "value": 100
     }
    },
    "4a55579f72fc4e979d884a54d201e8de": {
     "model_module": "@jupyter-widgets/base",
     "model_module_version": "1.2.0",
     "model_name": "LayoutModel",
     "state": {
      "_model_module": "@jupyter-widgets/base",
      "_model_module_version": "1.2.0",
      "_model_name": "LayoutModel",
      "_view_count": null,
      "_view_module": "@jupyter-widgets/base",
      "_view_module_version": "1.2.0",
      "_view_name": "LayoutView",
      "align_content": null,
      "align_items": null,
      "align_self": null,
      "border": null,
      "bottom": null,
      "display": null,
      "flex": null,
      "flex_flow": null,
      "grid_area": null,
      "grid_auto_columns": null,
      "grid_auto_flow": null,
      "grid_auto_rows": null,
      "grid_column": null,
      "grid_gap": null,
      "grid_row": null,
      "grid_template_areas": null,
      "grid_template_columns": null,
      "grid_template_rows": null,
      "height": null,
      "justify_content": null,
      "justify_items": null,
      "left": null,
      "margin": null,
      "max_height": null,
      "max_width": null,
      "min_height": null,
      "min_width": null,
      "object_fit": null,
      "object_position": null,
      "order": null,
      "overflow": null,
      "overflow_x": null,
      "overflow_y": null,
      "padding": null,
      "right": null,
      "top": null,
      "visibility": null,
      "width": null
     }
    },
    "4f3ae42dbe224747bfaba84cfd0b8525": {
     "model_module": "@jupyter-widgets/controls",
     "model_module_version": "1.5.0",
     "model_name": "DescriptionStyleModel",
     "state": {
      "_model_module": "@jupyter-widgets/controls",
      "_model_module_version": "1.5.0",
      "_model_name": "DescriptionStyleModel",
      "_view_count": null,
      "_view_module": "@jupyter-widgets/base",
      "_view_module_version": "1.2.0",
      "_view_name": "StyleView",
      "description_width": ""
     }
    },
    "5035e4d810354757b4b71b012414b582": {
     "model_module": "@jupyter-widgets/controls",
     "model_module_version": "1.5.0",
     "model_name": "DescriptionStyleModel",
     "state": {
      "_model_module": "@jupyter-widgets/controls",
      "_model_module_version": "1.5.0",
      "_model_name": "DescriptionStyleModel",
      "_view_count": null,
      "_view_module": "@jupyter-widgets/base",
      "_view_module_version": "1.2.0",
      "_view_name": "StyleView",
      "description_width": ""
     }
    },
    "53174a9af6d24d39886ce287bdc9501d": {
     "model_module": "@jupyter-widgets/base",
     "model_module_version": "1.2.0",
     "model_name": "LayoutModel",
     "state": {
      "_model_module": "@jupyter-widgets/base",
      "_model_module_version": "1.2.0",
      "_model_name": "LayoutModel",
      "_view_count": null,
      "_view_module": "@jupyter-widgets/base",
      "_view_module_version": "1.2.0",
      "_view_name": "LayoutView",
      "align_content": null,
      "align_items": null,
      "align_self": null,
      "border": null,
      "bottom": null,
      "display": null,
      "flex": null,
      "flex_flow": null,
      "grid_area": null,
      "grid_auto_columns": null,
      "grid_auto_flow": null,
      "grid_auto_rows": null,
      "grid_column": null,
      "grid_gap": null,
      "grid_row": null,
      "grid_template_areas": null,
      "grid_template_columns": null,
      "grid_template_rows": null,
      "height": null,
      "justify_content": null,
      "justify_items": null,
      "left": null,
      "margin": null,
      "max_height": null,
      "max_width": null,
      "min_height": null,
      "min_width": null,
      "object_fit": null,
      "object_position": null,
      "order": null,
      "overflow": null,
      "overflow_x": null,
      "overflow_y": null,
      "padding": null,
      "right": null,
      "top": null,
      "visibility": null,
      "width": null
     }
    },
    "58445b346b3d48d78dc4734e84b021e3": {
     "model_module": "@jupyter-widgets/controls",
     "model_module_version": "1.5.0",
     "model_name": "HTMLModel",
     "state": {
      "_dom_classes": [],
      "_model_module": "@jupyter-widgets/controls",
      "_model_module_version": "1.5.0",
      "_model_name": "HTMLModel",
      "_view_count": null,
      "_view_module": "@jupyter-widgets/controls",
      "_view_module_version": "1.5.0",
      "_view_name": "HTMLView",
      "description": "",
      "description_tooltip": null,
      "layout": "IPY_MODEL_1c5d780a75c34d08b00fcfb713ca92bb",
      "placeholder": "​",
      "style": "IPY_MODEL_45d5b09150504cffa5b490bb9ca63be2",
      "value": " 1/1 [01:26&lt;00:00, 86.30s/it, loss=0.446]"
     }
    },
    "6556f198f0d64b7696d75346c2007d2b": {
     "model_module": "@jupyter-widgets/controls",
     "model_module_version": "1.5.0",
     "model_name": "DescriptionStyleModel",
     "state": {
      "_model_module": "@jupyter-widgets/controls",
      "_model_module_version": "1.5.0",
      "_model_name": "DescriptionStyleModel",
      "_view_count": null,
      "_view_module": "@jupyter-widgets/base",
      "_view_module_version": "1.2.0",
      "_view_name": "StyleView",
      "description_width": ""
     }
    },
    "6869b4ab14fc453e87894eb519b3ee53": {
     "model_module": "@jupyter-widgets/controls",
     "model_module_version": "1.5.0",
     "model_name": "HBoxModel",
     "state": {
      "_dom_classes": [],
      "_model_module": "@jupyter-widgets/controls",
      "_model_module_version": "1.5.0",
      "_model_name": "HBoxModel",
      "_view_count": null,
      "_view_module": "@jupyter-widgets/controls",
      "_view_module_version": "1.5.0",
      "_view_name": "HBoxView",
      "box_style": "",
      "children": [
       "IPY_MODEL_860c9a5d1ffe4113b35c6e3ddcf7e256",
       "IPY_MODEL_b28f565629744e109fe68474ac5980da",
       "IPY_MODEL_9a077a581fe34d34ab0c39e3b152dbc2"
      ],
      "layout": "IPY_MODEL_3f216da6dd8e469c87036023da16750a"
     }
    },
    "6a94bd8148c24780b2e0fb6ea6ebe4f9": {
     "model_module": "@jupyter-widgets/base",
     "model_module_version": "1.2.0",
     "model_name": "LayoutModel",
     "state": {
      "_model_module": "@jupyter-widgets/base",
      "_model_module_version": "1.2.0",
      "_model_name": "LayoutModel",
      "_view_count": null,
      "_view_module": "@jupyter-widgets/base",
      "_view_module_version": "1.2.0",
      "_view_name": "LayoutView",
      "align_content": null,
      "align_items": null,
      "align_self": null,
      "border": null,
      "bottom": null,
      "display": null,
      "flex": null,
      "flex_flow": null,
      "grid_area": null,
      "grid_auto_columns": null,
      "grid_auto_flow": null,
      "grid_auto_rows": null,
      "grid_column": null,
      "grid_gap": null,
      "grid_row": null,
      "grid_template_areas": null,
      "grid_template_columns": null,
      "grid_template_rows": null,
      "height": null,
      "justify_content": null,
      "justify_items": null,
      "left": null,
      "margin": null,
      "max_height": null,
      "max_width": null,
      "min_height": null,
      "min_width": null,
      "object_fit": null,
      "object_position": null,
      "order": null,
      "overflow": null,
      "overflow_x": null,
      "overflow_y": null,
      "padding": null,
      "right": null,
      "top": null,
      "visibility": null,
      "width": null
     }
    },
    "6b2d40e609e64319ade00a623cf75697": {
     "model_module": "@jupyter-widgets/controls",
     "model_module_version": "1.5.0",
     "model_name": "ProgressStyleModel",
     "state": {
      "_model_module": "@jupyter-widgets/controls",
      "_model_module_version": "1.5.0",
      "_model_name": "ProgressStyleModel",
      "_view_count": null,
      "_view_module": "@jupyter-widgets/base",
      "_view_module_version": "1.2.0",
      "_view_name": "StyleView",
      "bar_color": null,
      "description_width": ""
     }
    },
    "6b64006a3e9b4065adfce1c66e60a269": {
     "model_module": "@jupyter-widgets/controls",
     "model_module_version": "1.5.0",
     "model_name": "HTMLModel",
     "state": {
      "_dom_classes": [],
      "_model_module": "@jupyter-widgets/controls",
      "_model_module_version": "1.5.0",
      "_model_name": "HTMLModel",
      "_view_count": null,
      "_view_module": "@jupyter-widgets/controls",
      "_view_module_version": "1.5.0",
      "_view_name": "HTMLView",
      "description": "",
      "description_tooltip": null,
      "layout": "IPY_MODEL_e3790363ec084e23919e818bfdbbaf5e",
      "placeholder": "​",
      "style": "IPY_MODEL_fbf3ae810e764b3f8e86f05207372ed4",
      "value": " 12690/12690 [00:05&lt;00:00, 3756.95it/s]"
     }
    },
    "6d52034e467146178926219d6bcc7a01": {
     "model_module": "@jupyter-widgets/base",
     "model_module_version": "1.2.0",
     "model_name": "LayoutModel",
     "state": {
      "_model_module": "@jupyter-widgets/base",
      "_model_module_version": "1.2.0",
      "_model_name": "LayoutModel",
      "_view_count": null,
      "_view_module": "@jupyter-widgets/base",
      "_view_module_version": "1.2.0",
      "_view_name": "LayoutView",
      "align_content": null,
      "align_items": null,
      "align_self": null,
      "border": null,
      "bottom": null,
      "display": null,
      "flex": null,
      "flex_flow": null,
      "grid_area": null,
      "grid_auto_columns": null,
      "grid_auto_flow": null,
      "grid_auto_rows": null,
      "grid_column": null,
      "grid_gap": null,
      "grid_row": null,
      "grid_template_areas": null,
      "grid_template_columns": null,
      "grid_template_rows": null,
      "height": null,
      "justify_content": null,
      "justify_items": null,
      "left": null,
      "margin": null,
      "max_height": null,
      "max_width": null,
      "min_height": null,
      "min_width": null,
      "object_fit": null,
      "object_position": null,
      "order": null,
      "overflow": null,
      "overflow_x": null,
      "overflow_y": null,
      "padding": null,
      "right": null,
      "top": null,
      "visibility": null,
      "width": null
     }
    },
    "6e0f275a1330449aadd689e9cb34c1b8": {
     "model_module": "@jupyter-widgets/controls",
     "model_module_version": "1.5.0",
     "model_name": "FloatProgressModel",
     "state": {
      "_dom_classes": [],
      "_model_module": "@jupyter-widgets/controls",
      "_model_module_version": "1.5.0",
      "_model_name": "FloatProgressModel",
      "_view_count": null,
      "_view_module": "@jupyter-widgets/controls",
      "_view_module_version": "1.5.0",
      "_view_name": "ProgressView",
      "bar_style": "success",
      "description": "",
      "description_tooltip": null,
      "layout": "IPY_MODEL_ed9d099bbab94c0187732c6127797b33",
      "max": 3000,
      "min": 0,
      "orientation": "horizontal",
      "style": "IPY_MODEL_7b63f8e456f6402eaf3ec7a13c4bebe8",
      "value": 3000
     }
    },
    "6ee5b3d3534f495ea9ae6f474818e849": {
     "model_module": "@jupyter-widgets/controls",
     "model_module_version": "1.5.0",
     "model_name": "HTMLModel",
     "state": {
      "_dom_classes": [],
      "_model_module": "@jupyter-widgets/controls",
      "_model_module_version": "1.5.0",
      "_model_name": "HTMLModel",
      "_view_count": null,
      "_view_module": "@jupyter-widgets/controls",
      "_view_module_version": "1.5.0",
      "_view_name": "HTMLView",
      "description": "",
      "description_tooltip": null,
      "layout": "IPY_MODEL_53174a9af6d24d39886ce287bdc9501d",
      "placeholder": "​",
      "style": "IPY_MODEL_c58999f50231403290512ef094fae78b",
      "value": " 3000/3000 [00:00&lt;00:00, 3649.26it/s]"
     }
    },
    "715d1578b11f4e44ac6710f4a9f49697": {
     "model_module": "@jupyter-widgets/controls",
     "model_module_version": "1.5.0",
     "model_name": "FloatProgressModel",
     "state": {
      "_dom_classes": [],
      "_model_module": "@jupyter-widgets/controls",
      "_model_module_version": "1.5.0",
      "_model_name": "FloatProgressModel",
      "_view_count": null,
      "_view_module": "@jupyter-widgets/controls",
      "_view_module_version": "1.5.0",
      "_view_name": "ProgressView",
      "bar_style": "success",
      "description": "",
      "description_tooltip": null,
      "layout": "IPY_MODEL_78ac521e643644589ef4a8c248de59ce",
      "max": 50,
      "min": 0,
      "orientation": "horizontal",
      "style": "IPY_MODEL_7ebf9e11b5a443d983c1a450c74d3826",
      "value": 50
     }
    },
    "741386dd13dd4910ac830bd0ce558ea3": {
     "model_module": "@jupyter-widgets/controls",
     "model_module_version": "1.5.0",
     "model_name": "HBoxModel",
     "state": {
      "_dom_classes": [],
      "_model_module": "@jupyter-widgets/controls",
      "_model_module_version": "1.5.0",
      "_model_name": "HBoxModel",
      "_view_count": null,
      "_view_module": "@jupyter-widgets/controls",
      "_view_module_version": "1.5.0",
      "_view_name": "HBoxView",
      "box_style": "",
      "children": [
       "IPY_MODEL_23260e17db0f4712955e94eaf50e43fc",
       "IPY_MODEL_995cb11c45834b53982edcaa158fb994",
       "IPY_MODEL_6b64006a3e9b4065adfce1c66e60a269"
      ],
      "layout": "IPY_MODEL_438056719f104af798671dc922d38e80"
     }
    },
    "7639fab1cb4b4f349b26b7839a8edca3": {
     "model_module": "@jupyter-widgets/base",
     "model_module_version": "1.2.0",
     "model_name": "LayoutModel",
     "state": {
      "_model_module": "@jupyter-widgets/base",
      "_model_module_version": "1.2.0",
      "_model_name": "LayoutModel",
      "_view_count": null,
      "_view_module": "@jupyter-widgets/base",
      "_view_module_version": "1.2.0",
      "_view_name": "LayoutView",
      "align_content": null,
      "align_items": null,
      "align_self": null,
      "border": null,
      "bottom": null,
      "display": null,
      "flex": null,
      "flex_flow": null,
      "grid_area": null,
      "grid_auto_columns": null,
      "grid_auto_flow": null,
      "grid_auto_rows": null,
      "grid_column": null,
      "grid_gap": null,
      "grid_row": null,
      "grid_template_areas": null,
      "grid_template_columns": null,
      "grid_template_rows": null,
      "height": null,
      "justify_content": null,
      "justify_items": null,
      "left": null,
      "margin": null,
      "max_height": null,
      "max_width": null,
      "min_height": null,
      "min_width": null,
      "object_fit": null,
      "object_position": null,
      "order": null,
      "overflow": null,
      "overflow_x": null,
      "overflow_y": null,
      "padding": null,
      "right": null,
      "top": null,
      "visibility": null,
      "width": null
     }
    },
    "77616e9d0fbe4cc893e9a81b46e158b5": {
     "model_module": "@jupyter-widgets/controls",
     "model_module_version": "1.5.0",
     "model_name": "HTMLModel",
     "state": {
      "_dom_classes": [],
      "_model_module": "@jupyter-widgets/controls",
      "_model_module_version": "1.5.0",
      "_model_name": "HTMLModel",
      "_view_count": null,
      "_view_module": "@jupyter-widgets/controls",
      "_view_module_version": "1.5.0",
      "_view_name": "HTMLView",
      "description": "",
      "description_tooltip": null,
      "layout": "IPY_MODEL_8de715121b7b4d5986a1845f87b162e8",
      "placeholder": "​",
      "style": "IPY_MODEL_9d9bb0bf72f145eb8af1fcc21b3fc27b",
      "value": "100%"
     }
    },
    "78ac521e643644589ef4a8c248de59ce": {
     "model_module": "@jupyter-widgets/base",
     "model_module_version": "1.2.0",
     "model_name": "LayoutModel",
     "state": {
      "_model_module": "@jupyter-widgets/base",
      "_model_module_version": "1.2.0",
      "_model_name": "LayoutModel",
      "_view_count": null,
      "_view_module": "@jupyter-widgets/base",
      "_view_module_version": "1.2.0",
      "_view_name": "LayoutView",
      "align_content": null,
      "align_items": null,
      "align_self": null,
      "border": null,
      "bottom": null,
      "display": null,
      "flex": null,
      "flex_flow": null,
      "grid_area": null,
      "grid_auto_columns": null,
      "grid_auto_flow": null,
      "grid_auto_rows": null,
      "grid_column": null,
      "grid_gap": null,
      "grid_row": null,
      "grid_template_areas": null,
      "grid_template_columns": null,
      "grid_template_rows": null,
      "height": null,
      "justify_content": null,
      "justify_items": null,
      "left": null,
      "margin": null,
      "max_height": null,
      "max_width": null,
      "min_height": null,
      "min_width": null,
      "object_fit": null,
      "object_position": null,
      "order": null,
      "overflow": null,
      "overflow_x": null,
      "overflow_y": null,
      "padding": null,
      "right": null,
      "top": null,
      "visibility": null,
      "width": null
     }
    },
    "79d84cad5b5e42759f4031245b1e9205": {
     "model_module": "@jupyter-widgets/base",
     "model_module_version": "1.2.0",
     "model_name": "LayoutModel",
     "state": {
      "_model_module": "@jupyter-widgets/base",
      "_model_module_version": "1.2.0",
      "_model_name": "LayoutModel",
      "_view_count": null,
      "_view_module": "@jupyter-widgets/base",
      "_view_module_version": "1.2.0",
      "_view_name": "LayoutView",
      "align_content": null,
      "align_items": null,
      "align_self": null,
      "border": null,
      "bottom": null,
      "display": null,
      "flex": null,
      "flex_flow": null,
      "grid_area": null,
      "grid_auto_columns": null,
      "grid_auto_flow": null,
      "grid_auto_rows": null,
      "grid_column": null,
      "grid_gap": null,
      "grid_row": null,
      "grid_template_areas": null,
      "grid_template_columns": null,
      "grid_template_rows": null,
      "height": null,
      "justify_content": null,
      "justify_items": null,
      "left": null,
      "margin": null,
      "max_height": null,
      "max_width": null,
      "min_height": null,
      "min_width": null,
      "object_fit": null,
      "object_position": null,
      "order": null,
      "overflow": null,
      "overflow_x": null,
      "overflow_y": null,
      "padding": null,
      "right": null,
      "top": null,
      "visibility": null,
      "width": null
     }
    },
    "7b63f8e456f6402eaf3ec7a13c4bebe8": {
     "model_module": "@jupyter-widgets/controls",
     "model_module_version": "1.5.0",
     "model_name": "ProgressStyleModel",
     "state": {
      "_model_module": "@jupyter-widgets/controls",
      "_model_module_version": "1.5.0",
      "_model_name": "ProgressStyleModel",
      "_view_count": null,
      "_view_module": "@jupyter-widgets/base",
      "_view_module_version": "1.2.0",
      "_view_name": "StyleView",
      "bar_color": null,
      "description_width": ""
     }
    },
    "7ebf9e11b5a443d983c1a450c74d3826": {
     "model_module": "@jupyter-widgets/controls",
     "model_module_version": "1.5.0",
     "model_name": "ProgressStyleModel",
     "state": {
      "_model_module": "@jupyter-widgets/controls",
      "_model_module_version": "1.5.0",
      "_model_name": "ProgressStyleModel",
      "_view_count": null,
      "_view_module": "@jupyter-widgets/base",
      "_view_module_version": "1.2.0",
      "_view_name": "StyleView",
      "bar_color": null,
      "description_width": ""
     }
    },
    "82e6df799546495cbb02b3f8f39974f8": {
     "model_module": "@jupyter-widgets/controls",
     "model_module_version": "1.5.0",
     "model_name": "DescriptionStyleModel",
     "state": {
      "_model_module": "@jupyter-widgets/controls",
      "_model_module_version": "1.5.0",
      "_model_name": "DescriptionStyleModel",
      "_view_count": null,
      "_view_module": "@jupyter-widgets/base",
      "_view_module_version": "1.2.0",
      "_view_name": "StyleView",
      "description_width": ""
     }
    },
    "860c9a5d1ffe4113b35c6e3ddcf7e256": {
     "model_module": "@jupyter-widgets/controls",
     "model_module_version": "1.5.0",
     "model_name": "HTMLModel",
     "state": {
      "_dom_classes": [],
      "_model_module": "@jupyter-widgets/controls",
      "_model_module_version": "1.5.0",
      "_model_name": "HTMLModel",
      "_view_count": null,
      "_view_module": "@jupyter-widgets/controls",
      "_view_module_version": "1.5.0",
      "_view_name": "HTMLView",
      "description": "",
      "description_tooltip": null,
      "layout": "IPY_MODEL_7639fab1cb4b4f349b26b7839a8edca3",
      "placeholder": "​",
      "style": "IPY_MODEL_c9f535d3b5c644469af72a3f0d17d15b",
      "value": "100%"
     }
    },
    "86c0b1b4b141496f9b6b7e490c317836": {
     "model_module": "@jupyter-widgets/controls",
     "model_module_version": "1.5.0",
     "model_name": "FloatProgressModel",
     "state": {
      "_dom_classes": [],
      "_model_module": "@jupyter-widgets/controls",
      "_model_module_version": "1.5.0",
      "_model_name": "FloatProgressModel",
      "_view_count": null,
      "_view_module": "@jupyter-widgets/controls",
      "_view_module_version": "1.5.0",
      "_view_name": "ProgressView",
      "bar_style": "success",
      "description": "",
      "description_tooltip": null,
      "layout": "IPY_MODEL_04fc31ed442f42fa8c1ad837130438f5",
      "max": 1,
      "min": 0,
      "orientation": "horizontal",
      "style": "IPY_MODEL_b9be135cf18e4fd4a58bffe2fb9fcb36",
      "value": 1
     }
    },
    "8a92771ec8054276b1193712aee96611": {
     "model_module": "@jupyter-widgets/controls",
     "model_module_version": "1.5.0",
     "model_name": "HBoxModel",
     "state": {
      "_dom_classes": [],
      "_model_module": "@jupyter-widgets/controls",
      "_model_module_version": "1.5.0",
      "_model_name": "HBoxModel",
      "_view_count": null,
      "_view_module": "@jupyter-widgets/controls",
      "_view_module_version": "1.5.0",
      "_view_name": "HBoxView",
      "box_style": "",
      "children": [
       "IPY_MODEL_77616e9d0fbe4cc893e9a81b46e158b5",
       "IPY_MODEL_86c0b1b4b141496f9b6b7e490c317836",
       "IPY_MODEL_58445b346b3d48d78dc4734e84b021e3"
      ],
      "layout": "IPY_MODEL_01a095be3dd040c1b8c06e6424d59458"
     }
    },
    "8b3e007512754f0eb44772d65bd37cbb": {
     "model_module": "@jupyter-widgets/base",
     "model_module_version": "1.2.0",
     "model_name": "LayoutModel",
     "state": {
      "_model_module": "@jupyter-widgets/base",
      "_model_module_version": "1.2.0",
      "_model_name": "LayoutModel",
      "_view_count": null,
      "_view_module": "@jupyter-widgets/base",
      "_view_module_version": "1.2.0",
      "_view_name": "LayoutView",
      "align_content": null,
      "align_items": null,
      "align_self": null,
      "border": null,
      "bottom": null,
      "display": null,
      "flex": null,
      "flex_flow": null,
      "grid_area": null,
      "grid_auto_columns": null,
      "grid_auto_flow": null,
      "grid_auto_rows": null,
      "grid_column": null,
      "grid_gap": null,
      "grid_row": null,
      "grid_template_areas": null,
      "grid_template_columns": null,
      "grid_template_rows": null,
      "height": null,
      "justify_content": null,
      "justify_items": null,
      "left": null,
      "margin": null,
      "max_height": null,
      "max_width": null,
      "min_height": null,
      "min_width": null,
      "object_fit": null,
      "object_position": null,
      "order": null,
      "overflow": null,
      "overflow_x": null,
      "overflow_y": null,
      "padding": null,
      "right": null,
      "top": null,
      "visibility": null,
      "width": null
     }
    },
    "8bc155d5c808439c907c2c2d00cf48d7": {
     "model_module": "@jupyter-widgets/controls",
     "model_module_version": "1.5.0",
     "model_name": "HTMLModel",
     "state": {
      "_dom_classes": [],
      "_model_module": "@jupyter-widgets/controls",
      "_model_module_version": "1.5.0",
      "_model_name": "HTMLModel",
      "_view_count": null,
      "_view_module": "@jupyter-widgets/controls",
      "_view_module_version": "1.5.0",
      "_view_name": "HTMLView",
      "description": "",
      "description_tooltip": null,
      "layout": "IPY_MODEL_f9346850c6394677b0e348a036dde180",
      "placeholder": "​",
      "style": "IPY_MODEL_d94b9d26ffb44684a4b488c6311c371b",
      "value": "100%"
     }
    },
    "8bc4b7491f9e41e087696fa4f1ff2002": {
     "model_module": "@jupyter-widgets/controls",
     "model_module_version": "1.5.0",
     "model_name": "HTMLModel",
     "state": {
      "_dom_classes": [],
      "_model_module": "@jupyter-widgets/controls",
      "_model_module_version": "1.5.0",
      "_model_name": "HTMLModel",
      "_view_count": null,
      "_view_module": "@jupyter-widgets/controls",
      "_view_module_version": "1.5.0",
      "_view_name": "HTMLView",
      "description": "",
      "description_tooltip": null,
      "layout": "IPY_MODEL_1ae5e217b7a347f596808fa5005f105e",
      "placeholder": "​",
      "style": "IPY_MODEL_5035e4d810354757b4b71b012414b582",
      "value": " 100/100 [00:06&lt;00:00, 18.83it/s, loss=nan]"
     }
    },
    "8de715121b7b4d5986a1845f87b162e8": {
     "model_module": "@jupyter-widgets/base",
     "model_module_version": "1.2.0",
     "model_name": "LayoutModel",
     "state": {
      "_model_module": "@jupyter-widgets/base",
      "_model_module_version": "1.2.0",
      "_model_name": "LayoutModel",
      "_view_count": null,
      "_view_module": "@jupyter-widgets/base",
      "_view_module_version": "1.2.0",
      "_view_name": "LayoutView",
      "align_content": null,
      "align_items": null,
      "align_self": null,
      "border": null,
      "bottom": null,
      "display": null,
      "flex": null,
      "flex_flow": null,
      "grid_area": null,
      "grid_auto_columns": null,
      "grid_auto_flow": null,
      "grid_auto_rows": null,
      "grid_column": null,
      "grid_gap": null,
      "grid_row": null,
      "grid_template_areas": null,
      "grid_template_columns": null,
      "grid_template_rows": null,
      "height": null,
      "justify_content": null,
      "justify_items": null,
      "left": null,
      "margin": null,
      "max_height": null,
      "max_width": null,
      "min_height": null,
      "min_width": null,
      "object_fit": null,
      "object_position": null,
      "order": null,
      "overflow": null,
      "overflow_x": null,
      "overflow_y": null,
      "padding": null,
      "right": null,
      "top": null,
      "visibility": null,
      "width": null
     }
    },
    "91bdb9b163264494b1819269af7a6924": {
     "model_module": "@jupyter-widgets/base",
     "model_module_version": "1.2.0",
     "model_name": "LayoutModel",
     "state": {
      "_model_module": "@jupyter-widgets/base",
      "_model_module_version": "1.2.0",
      "_model_name": "LayoutModel",
      "_view_count": null,
      "_view_module": "@jupyter-widgets/base",
      "_view_module_version": "1.2.0",
      "_view_name": "LayoutView",
      "align_content": null,
      "align_items": null,
      "align_self": null,
      "border": null,
      "bottom": null,
      "display": null,
      "flex": null,
      "flex_flow": null,
      "grid_area": null,
      "grid_auto_columns": null,
      "grid_auto_flow": null,
      "grid_auto_rows": null,
      "grid_column": null,
      "grid_gap": null,
      "grid_row": null,
      "grid_template_areas": null,
      "grid_template_columns": null,
      "grid_template_rows": null,
      "height": null,
      "justify_content": null,
      "justify_items": null,
      "left": null,
      "margin": null,
      "max_height": null,
      "max_width": null,
      "min_height": null,
      "min_width": null,
      "object_fit": null,
      "object_position": null,
      "order": null,
      "overflow": null,
      "overflow_x": null,
      "overflow_y": null,
      "padding": null,
      "right": null,
      "top": null,
      "visibility": null,
      "width": null
     }
    },
    "9556b4e73cda4f48ac22aabb0032f5cf": {
     "model_module": "@jupyter-widgets/controls",
     "model_module_version": "1.5.0",
     "model_name": "DescriptionStyleModel",
     "state": {
      "_model_module": "@jupyter-widgets/controls",
      "_model_module_version": "1.5.0",
      "_model_name": "DescriptionStyleModel",
      "_view_count": null,
      "_view_module": "@jupyter-widgets/base",
      "_view_module_version": "1.2.0",
      "_view_name": "StyleView",
      "description_width": ""
     }
    },
    "995cb11c45834b53982edcaa158fb994": {
     "model_module": "@jupyter-widgets/controls",
     "model_module_version": "1.5.0",
     "model_name": "FloatProgressModel",
     "state": {
      "_dom_classes": [],
      "_model_module": "@jupyter-widgets/controls",
      "_model_module_version": "1.5.0",
      "_model_name": "FloatProgressModel",
      "_view_count": null,
      "_view_module": "@jupyter-widgets/controls",
      "_view_module_version": "1.5.0",
      "_view_name": "ProgressView",
      "bar_style": "success",
      "description": "",
      "description_tooltip": null,
      "layout": "IPY_MODEL_c0378c2f9eda40368d83a583c49b81b2",
      "max": 12690,
      "min": 0,
      "orientation": "horizontal",
      "style": "IPY_MODEL_d9d49b950f3d48b881b2a75cb37e29ba",
      "value": 12690
     }
    },
    "9a077a581fe34d34ab0c39e3b152dbc2": {
     "model_module": "@jupyter-widgets/controls",
     "model_module_version": "1.5.0",
     "model_name": "HTMLModel",
     "state": {
      "_dom_classes": [],
      "_model_module": "@jupyter-widgets/controls",
      "_model_module_version": "1.5.0",
      "_model_name": "HTMLModel",
      "_view_count": null,
      "_view_module": "@jupyter-widgets/controls",
      "_view_module_version": "1.5.0",
      "_view_name": "HTMLView",
      "description": "",
      "description_tooltip": null,
      "layout": "IPY_MODEL_00407b4bf2504ceeac867ef86e5a8f26",
      "placeholder": "​",
      "style": "IPY_MODEL_4f3ae42dbe224747bfaba84cfd0b8525",
      "value": " 200/200 [00:56&lt;00:00,  3.66it/s, correct=82.40%, skipped=3.53%]"
     }
    },
    "9d9bb0bf72f145eb8af1fcc21b3fc27b": {
     "model_module": "@jupyter-widgets/controls",
     "model_module_version": "1.5.0",
     "model_name": "DescriptionStyleModel",
     "state": {
      "_model_module": "@jupyter-widgets/controls",
      "_model_module_version": "1.5.0",
      "_model_name": "DescriptionStyleModel",
      "_view_count": null,
      "_view_module": "@jupyter-widgets/base",
      "_view_module_version": "1.2.0",
      "_view_name": "StyleView",
      "description_width": ""
     }
    },
    "9ece7c0a4009410f910ae70b1e5cae48": {
     "model_module": "@jupyter-widgets/controls",
     "model_module_version": "1.5.0",
     "model_name": "DescriptionStyleModel",
     "state": {
      "_model_module": "@jupyter-widgets/controls",
      "_model_module_version": "1.5.0",
      "_model_name": "DescriptionStyleModel",
      "_view_count": null,
      "_view_module": "@jupyter-widgets/base",
      "_view_module_version": "1.2.0",
      "_view_name": "StyleView",
      "description_width": ""
     }
    },
    "a277ec57efff460eb68675bff65369a5": {
     "model_module": "@jupyter-widgets/controls",
     "model_module_version": "1.5.0",
     "model_name": "HBoxModel",
     "state": {
      "_dom_classes": [],
      "_model_module": "@jupyter-widgets/controls",
      "_model_module_version": "1.5.0",
      "_model_name": "HBoxModel",
      "_view_count": null,
      "_view_module": "@jupyter-widgets/controls",
      "_view_module_version": "1.5.0",
      "_view_name": "HBoxView",
      "box_style": "",
      "children": [
       "IPY_MODEL_1187c484f63949928c588b3cc91a3544",
       "IPY_MODEL_6e0f275a1330449aadd689e9cb34c1b8",
       "IPY_MODEL_6ee5b3d3534f495ea9ae6f474818e849"
      ],
      "layout": "IPY_MODEL_4a55579f72fc4e979d884a54d201e8de"
     }
    },
    "a5b80bc1ec774e86ba0b57baf5a153a0": {
     "model_module": "@jupyter-widgets/controls",
     "model_module_version": "1.5.0",
     "model_name": "DescriptionStyleModel",
     "state": {
      "_model_module": "@jupyter-widgets/controls",
      "_model_module_version": "1.5.0",
      "_model_name": "DescriptionStyleModel",
      "_view_count": null,
      "_view_module": "@jupyter-widgets/base",
      "_view_module_version": "1.2.0",
      "_view_name": "StyleView",
      "description_width": ""
     }
    },
    "a707d1f84ee84b4c996a27c8487a1692": {
     "model_module": "@jupyter-widgets/controls",
     "model_module_version": "1.5.0",
     "model_name": "ProgressStyleModel",
     "state": {
      "_model_module": "@jupyter-widgets/controls",
      "_model_module_version": "1.5.0",
      "_model_name": "ProgressStyleModel",
      "_view_count": null,
      "_view_module": "@jupyter-widgets/base",
      "_view_module_version": "1.2.0",
      "_view_name": "StyleView",
      "bar_color": null,
      "description_width": ""
     }
    },
    "a7bfb4f0e24148168386bbfc65b807af": {
     "model_module": "@jupyter-widgets/controls",
     "model_module_version": "1.5.0",
     "model_name": "FloatProgressModel",
     "state": {
      "_dom_classes": [],
      "_model_module": "@jupyter-widgets/controls",
      "_model_module_version": "1.5.0",
      "_model_name": "FloatProgressModel",
      "_view_count": null,
      "_view_module": "@jupyter-widgets/controls",
      "_view_module_version": "1.5.0",
      "_view_name": "ProgressView",
      "bar_style": "success",
      "description": "",
      "description_tooltip": null,
      "layout": "IPY_MODEL_c446d5dc493a4cb6883ca8f484fcfe06",
      "max": 3000,
      "min": 0,
      "orientation": "horizontal",
      "style": "IPY_MODEL_b0beb1e168924a7ab2137af0052a6332",
      "value": 3000
     }
    },
    "a95250fbcf2b4075a2e5de22c1b0bae9": {
     "model_module": "@jupyter-widgets/controls",
     "model_module_version": "1.5.0",
     "model_name": "DescriptionStyleModel",
     "state": {
      "_model_module": "@jupyter-widgets/controls",
      "_model_module_version": "1.5.0",
      "_model_name": "DescriptionStyleModel",
      "_view_count": null,
      "_view_module": "@jupyter-widgets/base",
      "_view_module_version": "1.2.0",
      "_view_name": "StyleView",
      "description_width": ""
     }
    },
    "ab5d7b2a7d444a03bfc090ef25c5cc17": {
     "model_module": "@jupyter-widgets/base",
     "model_module_version": "1.2.0",
     "model_name": "LayoutModel",
     "state": {
      "_model_module": "@jupyter-widgets/base",
      "_model_module_version": "1.2.0",
      "_model_name": "LayoutModel",
      "_view_count": null,
      "_view_module": "@jupyter-widgets/base",
      "_view_module_version": "1.2.0",
      "_view_name": "LayoutView",
      "align_content": null,
      "align_items": null,
      "align_self": null,
      "border": null,
      "bottom": null,
      "display": null,
      "flex": null,
      "flex_flow": null,
      "grid_area": null,
      "grid_auto_columns": null,
      "grid_auto_flow": null,
      "grid_auto_rows": null,
      "grid_column": null,
      "grid_gap": null,
      "grid_row": null,
      "grid_template_areas": null,
      "grid_template_columns": null,
      "grid_template_rows": null,
      "height": null,
      "justify_content": null,
      "justify_items": null,
      "left": null,
      "margin": null,
      "max_height": null,
      "max_width": null,
      "min_height": null,
      "min_width": null,
      "object_fit": null,
      "object_position": null,
      "order": null,
      "overflow": null,
      "overflow_x": null,
      "overflow_y": null,
      "padding": null,
      "right": null,
      "top": null,
      "visibility": null,
      "width": null
     }
    },
    "b0beb1e168924a7ab2137af0052a6332": {
     "model_module": "@jupyter-widgets/controls",
     "model_module_version": "1.5.0",
     "model_name": "ProgressStyleModel",
     "state": {
      "_model_module": "@jupyter-widgets/controls",
      "_model_module_version": "1.5.0",
      "_model_name": "ProgressStyleModel",
      "_view_count": null,
      "_view_module": "@jupyter-widgets/base",
      "_view_module_version": "1.2.0",
      "_view_name": "StyleView",
      "bar_color": null,
      "description_width": ""
     }
    },
    "b1993b53e4f94e9cbd355715cb6c0d06": {
     "model_module": "@jupyter-widgets/controls",
     "model_module_version": "1.5.0",
     "model_name": "HTMLModel",
     "state": {
      "_dom_classes": [],
      "_model_module": "@jupyter-widgets/controls",
      "_model_module_version": "1.5.0",
      "_model_name": "HTMLModel",
      "_view_count": null,
      "_view_module": "@jupyter-widgets/controls",
      "_view_module_version": "1.5.0",
      "_view_name": "HTMLView",
      "description": "",
      "description_tooltip": null,
      "layout": "IPY_MODEL_b6917a8777ad4c88bbd37e8048af52e7",
      "placeholder": "​",
      "style": "IPY_MODEL_6556f198f0d64b7696d75346c2007d2b",
      "value": " 50/50 [01:26&lt;00:00,  1.62s/it, loss=7.84e+5]"
     }
    },
    "b2841ae6c88a4929b1be95e4807e5acf": {
     "model_module": "@jupyter-widgets/controls",
     "model_module_version": "1.5.0",
     "model_name": "DescriptionStyleModel",
     "state": {
      "_model_module": "@jupyter-widgets/controls",
      "_model_module_version": "1.5.0",
      "_model_name": "DescriptionStyleModel",
      "_view_count": null,
      "_view_module": "@jupyter-widgets/base",
      "_view_module_version": "1.2.0",
      "_view_name": "StyleView",
      "description_width": ""
     }
    },
    "b28f565629744e109fe68474ac5980da": {
     "model_module": "@jupyter-widgets/controls",
     "model_module_version": "1.5.0",
     "model_name": "FloatProgressModel",
     "state": {
      "_dom_classes": [],
      "_model_module": "@jupyter-widgets/controls",
      "_model_module_version": "1.5.0",
      "_model_name": "FloatProgressModel",
      "_view_count": null,
      "_view_module": "@jupyter-widgets/controls",
      "_view_module_version": "1.5.0",
      "_view_name": "ProgressView",
      "bar_style": "success",
      "description": "",
      "description_tooltip": null,
      "layout": "IPY_MODEL_39e52c08513b4624b31626fcefcd6b6d",
      "max": 200,
      "min": 0,
      "orientation": "horizontal",
      "style": "IPY_MODEL_6b2d40e609e64319ade00a623cf75697",
      "value": 200
     }
    },
    "b6917a8777ad4c88bbd37e8048af52e7": {
     "model_module": "@jupyter-widgets/base",
     "model_module_version": "1.2.0",
     "model_name": "LayoutModel",
     "state": {
      "_model_module": "@jupyter-widgets/base",
      "_model_module_version": "1.2.0",
      "_model_name": "LayoutModel",
      "_view_count": null,
      "_view_module": "@jupyter-widgets/base",
      "_view_module_version": "1.2.0",
      "_view_name": "LayoutView",
      "align_content": null,
      "align_items": null,
      "align_self": null,
      "border": null,
      "bottom": null,
      "display": null,
      "flex": null,
      "flex_flow": null,
      "grid_area": null,
      "grid_auto_columns": null,
      "grid_auto_flow": null,
      "grid_auto_rows": null,
      "grid_column": null,
      "grid_gap": null,
      "grid_row": null,
      "grid_template_areas": null,
      "grid_template_columns": null,
      "grid_template_rows": null,
      "height": null,
      "justify_content": null,
      "justify_items": null,
      "left": null,
      "margin": null,
      "max_height": null,
      "max_width": null,
      "min_height": null,
      "min_width": null,
      "object_fit": null,
      "object_position": null,
      "order": null,
      "overflow": null,
      "overflow_x": null,
      "overflow_y": null,
      "padding": null,
      "right": null,
      "top": null,
      "visibility": null,
      "width": null
     }
    },
    "b7b58f4b394940919405479f92c7bcab": {
     "model_module": "@jupyter-widgets/controls",
     "model_module_version": "1.5.0",
     "model_name": "HBoxModel",
     "state": {
      "_dom_classes": [],
      "_model_module": "@jupyter-widgets/controls",
      "_model_module_version": "1.5.0",
      "_model_name": "HBoxModel",
      "_view_count": null,
      "_view_module": "@jupyter-widgets/controls",
      "_view_module_version": "1.5.0",
      "_view_name": "HBoxView",
      "box_style": "",
      "children": [
       "IPY_MODEL_06459d42d9bb4fc18e91e9b0159494dd",
       "IPY_MODEL_4a01644a58e047498bd7d004c771ba51",
       "IPY_MODEL_071fd79e37df451390dbf8f6f722344e"
      ],
      "layout": "IPY_MODEL_79d84cad5b5e42759f4031245b1e9205"
     }
    },
    "b9be135cf18e4fd4a58bffe2fb9fcb36": {
     "model_module": "@jupyter-widgets/controls",
     "model_module_version": "1.5.0",
     "model_name": "ProgressStyleModel",
     "state": {
      "_model_module": "@jupyter-widgets/controls",
      "_model_module_version": "1.5.0",
      "_model_name": "ProgressStyleModel",
      "_view_count": null,
      "_view_module": "@jupyter-widgets/base",
      "_view_module_version": "1.2.0",
      "_view_name": "StyleView",
      "bar_color": null,
      "description_width": ""
     }
    },
    "c0378c2f9eda40368d83a583c49b81b2": {
     "model_module": "@jupyter-widgets/base",
     "model_module_version": "1.2.0",
     "model_name": "LayoutModel",
     "state": {
      "_model_module": "@jupyter-widgets/base",
      "_model_module_version": "1.2.0",
      "_model_name": "LayoutModel",
      "_view_count": null,
      "_view_module": "@jupyter-widgets/base",
      "_view_module_version": "1.2.0",
      "_view_name": "LayoutView",
      "align_content": null,
      "align_items": null,
      "align_self": null,
      "border": null,
      "bottom": null,
      "display": null,
      "flex": null,
      "flex_flow": null,
      "grid_area": null,
      "grid_auto_columns": null,
      "grid_auto_flow": null,
      "grid_auto_rows": null,
      "grid_column": null,
      "grid_gap": null,
      "grid_row": null,
      "grid_template_areas": null,
      "grid_template_columns": null,
      "grid_template_rows": null,
      "height": null,
      "justify_content": null,
      "justify_items": null,
      "left": null,
      "margin": null,
      "max_height": null,
      "max_width": null,
      "min_height": null,
      "min_width": null,
      "object_fit": null,
      "object_position": null,
      "order": null,
      "overflow": null,
      "overflow_x": null,
      "overflow_y": null,
      "padding": null,
      "right": null,
      "top": null,
      "visibility": null,
      "width": null
     }
    },
    "c14bb0f450c04681ba80cc2d5cfddbce": {
     "model_module": "@jupyter-widgets/controls",
     "model_module_version": "1.5.0",
     "model_name": "HTMLModel",
     "state": {
      "_dom_classes": [],
      "_model_module": "@jupyter-widgets/controls",
      "_model_module_version": "1.5.0",
      "_model_name": "HTMLModel",
      "_view_count": null,
      "_view_module": "@jupyter-widgets/controls",
      "_view_module_version": "1.5.0",
      "_view_name": "HTMLView",
      "description": "",
      "description_tooltip": null,
      "layout": "IPY_MODEL_28bf3463ad2847a289d37c59adb5379b",
      "placeholder": "​",
      "style": "IPY_MODEL_a95250fbcf2b4075a2e5de22c1b0bae9",
      "value": "100%"
     }
    },
    "c27ff0356e6f4404a2dee3323a524a77": {
     "model_module": "@jupyter-widgets/controls",
     "model_module_version": "1.5.0",
     "model_name": "FloatProgressModel",
     "state": {
      "_dom_classes": [],
      "_model_module": "@jupyter-widgets/controls",
      "_model_module_version": "1.5.0",
      "_model_name": "FloatProgressModel",
      "_view_count": null,
      "_view_module": "@jupyter-widgets/controls",
      "_view_module_version": "1.5.0",
      "_view_name": "ProgressView",
      "bar_style": "success",
      "description": "",
      "description_tooltip": null,
      "layout": "IPY_MODEL_e3749963c3f94543b70348479bf11b22",
      "max": 100,
      "min": 0,
      "orientation": "horizontal",
      "style": "IPY_MODEL_a707d1f84ee84b4c996a27c8487a1692",
      "value": 100
     }
    },
    "c446d5dc493a4cb6883ca8f484fcfe06": {
     "model_module": "@jupyter-widgets/base",
     "model_module_version": "1.2.0",
     "model_name": "LayoutModel",
     "state": {
      "_model_module": "@jupyter-widgets/base",
      "_model_module_version": "1.2.0",
      "_model_name": "LayoutModel",
      "_view_count": null,
      "_view_module": "@jupyter-widgets/base",
      "_view_module_version": "1.2.0",
      "_view_name": "LayoutView",
      "align_content": null,
      "align_items": null,
      "align_self": null,
      "border": null,
      "bottom": null,
      "display": null,
      "flex": null,
      "flex_flow": null,
      "grid_area": null,
      "grid_auto_columns": null,
      "grid_auto_flow": null,
      "grid_auto_rows": null,
      "grid_column": null,
      "grid_gap": null,
      "grid_row": null,
      "grid_template_areas": null,
      "grid_template_columns": null,
      "grid_template_rows": null,
      "height": null,
      "justify_content": null,
      "justify_items": null,
      "left": null,
      "margin": null,
      "max_height": null,
      "max_width": null,
      "min_height": null,
      "min_width": null,
      "object_fit": null,
      "object_position": null,
      "order": null,
      "overflow": null,
      "overflow_x": null,
      "overflow_y": null,
      "padding": null,
      "right": null,
      "top": null,
      "visibility": null,
      "width": null
     }
    },
    "c58999f50231403290512ef094fae78b": {
     "model_module": "@jupyter-widgets/controls",
     "model_module_version": "1.5.0",
     "model_name": "DescriptionStyleModel",
     "state": {
      "_model_module": "@jupyter-widgets/controls",
      "_model_module_version": "1.5.0",
      "_model_name": "DescriptionStyleModel",
      "_view_count": null,
      "_view_module": "@jupyter-widgets/base",
      "_view_module_version": "1.2.0",
      "_view_name": "StyleView",
      "description_width": ""
     }
    },
    "c80a2a9b818443959e64af63d5a29c4f": {
     "model_module": "@jupyter-widgets/controls",
     "model_module_version": "1.5.0",
     "model_name": "ProgressStyleModel",
     "state": {
      "_model_module": "@jupyter-widgets/controls",
      "_model_module_version": "1.5.0",
      "_model_name": "ProgressStyleModel",
      "_view_count": null,
      "_view_module": "@jupyter-widgets/base",
      "_view_module_version": "1.2.0",
      "_view_name": "StyleView",
      "bar_color": null,
      "description_width": ""
     }
    },
    "c898fd6643e0405caf0f9749b062b53e": {
     "model_module": "@jupyter-widgets/controls",
     "model_module_version": "1.5.0",
     "model_name": "HTMLModel",
     "state": {
      "_dom_classes": [],
      "_model_module": "@jupyter-widgets/controls",
      "_model_module_version": "1.5.0",
      "_model_name": "HTMLModel",
      "_view_count": null,
      "_view_module": "@jupyter-widgets/controls",
      "_view_module_version": "1.5.0",
      "_view_name": "HTMLView",
      "description": "",
      "description_tooltip": null,
      "layout": "IPY_MODEL_edb5da79de04412da972a56f4b4cf246",
      "placeholder": "​",
      "style": "IPY_MODEL_9556b4e73cda4f48ac22aabb0032f5cf",
      "value": " 3000/3000 [00:00&lt;00:00, 3931.15it/s]"
     }
    },
    "c9f535d3b5c644469af72a3f0d17d15b": {
     "model_module": "@jupyter-widgets/controls",
     "model_module_version": "1.5.0",
     "model_name": "DescriptionStyleModel",
     "state": {
      "_model_module": "@jupyter-widgets/controls",
      "_model_module_version": "1.5.0",
      "_model_name": "DescriptionStyleModel",
      "_view_count": null,
      "_view_module": "@jupyter-widgets/base",
      "_view_module_version": "1.2.0",
      "_view_name": "StyleView",
      "description_width": ""
     }
    },
    "ce56c6cc65f440f9b05adb08810724f7": {
     "model_module": "@jupyter-widgets/base",
     "model_module_version": "1.2.0",
     "model_name": "LayoutModel",
     "state": {
      "_model_module": "@jupyter-widgets/base",
      "_model_module_version": "1.2.0",
      "_model_name": "LayoutModel",
      "_view_count": null,
      "_view_module": "@jupyter-widgets/base",
      "_view_module_version": "1.2.0",
      "_view_name": "LayoutView",
      "align_content": null,
      "align_items": null,
      "align_self": null,
      "border": null,
      "bottom": null,
      "display": null,
      "flex": null,
      "flex_flow": null,
      "grid_area": null,
      "grid_auto_columns": null,
      "grid_auto_flow": null,
      "grid_auto_rows": null,
      "grid_column": null,
      "grid_gap": null,
      "grid_row": null,
      "grid_template_areas": null,
      "grid_template_columns": null,
      "grid_template_rows": null,
      "height": null,
      "justify_content": null,
      "justify_items": null,
      "left": null,
      "margin": null,
      "max_height": null,
      "max_width": null,
      "min_height": null,
      "min_width": null,
      "object_fit": null,
      "object_position": null,
      "order": null,
      "overflow": null,
      "overflow_x": null,
      "overflow_y": null,
      "padding": null,
      "right": null,
      "top": null,
      "visibility": null,
      "width": null
     }
    },
    "d94b9d26ffb44684a4b488c6311c371b": {
     "model_module": "@jupyter-widgets/controls",
     "model_module_version": "1.5.0",
     "model_name": "DescriptionStyleModel",
     "state": {
      "_model_module": "@jupyter-widgets/controls",
      "_model_module_version": "1.5.0",
      "_model_name": "DescriptionStyleModel",
      "_view_count": null,
      "_view_module": "@jupyter-widgets/base",
      "_view_module_version": "1.2.0",
      "_view_name": "StyleView",
      "description_width": ""
     }
    },
    "d9d49b950f3d48b881b2a75cb37e29ba": {
     "model_module": "@jupyter-widgets/controls",
     "model_module_version": "1.5.0",
     "model_name": "ProgressStyleModel",
     "state": {
      "_model_module": "@jupyter-widgets/controls",
      "_model_module_version": "1.5.0",
      "_model_name": "ProgressStyleModel",
      "_view_count": null,
      "_view_module": "@jupyter-widgets/base",
      "_view_module_version": "1.2.0",
      "_view_name": "StyleView",
      "bar_color": null,
      "description_width": ""
     }
    },
    "db5560ce21dd41998ee53cb55878a950": {
     "model_module": "@jupyter-widgets/base",
     "model_module_version": "1.2.0",
     "model_name": "LayoutModel",
     "state": {
      "_model_module": "@jupyter-widgets/base",
      "_model_module_version": "1.2.0",
      "_model_name": "LayoutModel",
      "_view_count": null,
      "_view_module": "@jupyter-widgets/base",
      "_view_module_version": "1.2.0",
      "_view_name": "LayoutView",
      "align_content": null,
      "align_items": null,
      "align_self": null,
      "border": null,
      "bottom": null,
      "display": null,
      "flex": null,
      "flex_flow": null,
      "grid_area": null,
      "grid_auto_columns": null,
      "grid_auto_flow": null,
      "grid_auto_rows": null,
      "grid_column": null,
      "grid_gap": null,
      "grid_row": null,
      "grid_template_areas": null,
      "grid_template_columns": null,
      "grid_template_rows": null,
      "height": null,
      "justify_content": null,
      "justify_items": null,
      "left": null,
      "margin": null,
      "max_height": null,
      "max_width": null,
      "min_height": null,
      "min_width": null,
      "object_fit": null,
      "object_position": null,
      "order": null,
      "overflow": null,
      "overflow_x": null,
      "overflow_y": null,
      "padding": null,
      "right": null,
      "top": null,
      "visibility": null,
      "width": null
     }
    },
    "def3401ca9564aa99cba56ef4727d76b": {
     "model_module": "@jupyter-widgets/controls",
     "model_module_version": "1.5.0",
     "model_name": "HTMLModel",
     "state": {
      "_dom_classes": [],
      "_model_module": "@jupyter-widgets/controls",
      "_model_module_version": "1.5.0",
      "_model_name": "HTMLModel",
      "_view_count": null,
      "_view_module": "@jupyter-widgets/controls",
      "_view_module_version": "1.5.0",
      "_view_name": "HTMLView",
      "description": "",
      "description_tooltip": null,
      "layout": "IPY_MODEL_2ab27320e740492fbe11b0ff049fcc68",
      "placeholder": "​",
      "style": "IPY_MODEL_27137e34792f4b32b8d6753df63e3bbc",
      "value": "100%"
     }
    },
    "df0f4dd9ad7b41acbb78e951a08c3803": {
     "model_module": "@jupyter-widgets/base",
     "model_module_version": "1.2.0",
     "model_name": "LayoutModel",
     "state": {
      "_model_module": "@jupyter-widgets/base",
      "_model_module_version": "1.2.0",
      "_model_name": "LayoutModel",
      "_view_count": null,
      "_view_module": "@jupyter-widgets/base",
      "_view_module_version": "1.2.0",
      "_view_name": "LayoutView",
      "align_content": null,
      "align_items": null,
      "align_self": null,
      "border": null,
      "bottom": null,
      "display": null,
      "flex": null,
      "flex_flow": null,
      "grid_area": null,
      "grid_auto_columns": null,
      "grid_auto_flow": null,
      "grid_auto_rows": null,
      "grid_column": null,
      "grid_gap": null,
      "grid_row": null,
      "grid_template_areas": null,
      "grid_template_columns": null,
      "grid_template_rows": null,
      "height": null,
      "justify_content": null,
      "justify_items": null,
      "left": null,
      "margin": null,
      "max_height": null,
      "max_width": null,
      "min_height": null,
      "min_width": null,
      "object_fit": null,
      "object_position": null,
      "order": null,
      "overflow": null,
      "overflow_x": null,
      "overflow_y": null,
      "padding": null,
      "right": null,
      "top": null,
      "visibility": null,
      "width": null
     }
    },
    "e017b1f4188540a5b0897f1784a57803": {
     "model_module": "@jupyter-widgets/base",
     "model_module_version": "1.2.0",
     "model_name": "LayoutModel",
     "state": {
      "_model_module": "@jupyter-widgets/base",
      "_model_module_version": "1.2.0",
      "_model_name": "LayoutModel",
      "_view_count": null,
      "_view_module": "@jupyter-widgets/base",
      "_view_module_version": "1.2.0",
      "_view_name": "LayoutView",
      "align_content": null,
      "align_items": null,
      "align_self": null,
      "border": null,
      "bottom": null,
      "display": null,
      "flex": null,
      "flex_flow": null,
      "grid_area": null,
      "grid_auto_columns": null,
      "grid_auto_flow": null,
      "grid_auto_rows": null,
      "grid_column": null,
      "grid_gap": null,
      "grid_row": null,
      "grid_template_areas": null,
      "grid_template_columns": null,
      "grid_template_rows": null,
      "height": null,
      "justify_content": null,
      "justify_items": null,
      "left": null,
      "margin": null,
      "max_height": null,
      "max_width": null,
      "min_height": null,
      "min_width": null,
      "object_fit": null,
      "object_position": null,
      "order": null,
      "overflow": null,
      "overflow_x": null,
      "overflow_y": null,
      "padding": null,
      "right": null,
      "top": null,
      "visibility": null,
      "width": null
     }
    },
    "e1302c19833b45d1a22f0bcabcfe8f18": {
     "model_module": "@jupyter-widgets/controls",
     "model_module_version": "1.5.0",
     "model_name": "DescriptionStyleModel",
     "state": {
      "_model_module": "@jupyter-widgets/controls",
      "_model_module_version": "1.5.0",
      "_model_name": "DescriptionStyleModel",
      "_view_count": null,
      "_view_module": "@jupyter-widgets/base",
      "_view_module_version": "1.2.0",
      "_view_name": "StyleView",
      "description_width": ""
     }
    },
    "e3749963c3f94543b70348479bf11b22": {
     "model_module": "@jupyter-widgets/base",
     "model_module_version": "1.2.0",
     "model_name": "LayoutModel",
     "state": {
      "_model_module": "@jupyter-widgets/base",
      "_model_module_version": "1.2.0",
      "_model_name": "LayoutModel",
      "_view_count": null,
      "_view_module": "@jupyter-widgets/base",
      "_view_module_version": "1.2.0",
      "_view_name": "LayoutView",
      "align_content": null,
      "align_items": null,
      "align_self": null,
      "border": null,
      "bottom": null,
      "display": null,
      "flex": null,
      "flex_flow": null,
      "grid_area": null,
      "grid_auto_columns": null,
      "grid_auto_flow": null,
      "grid_auto_rows": null,
      "grid_column": null,
      "grid_gap": null,
      "grid_row": null,
      "grid_template_areas": null,
      "grid_template_columns": null,
      "grid_template_rows": null,
      "height": null,
      "justify_content": null,
      "justify_items": null,
      "left": null,
      "margin": null,
      "max_height": null,
      "max_width": null,
      "min_height": null,
      "min_width": null,
      "object_fit": null,
      "object_position": null,
      "order": null,
      "overflow": null,
      "overflow_x": null,
      "overflow_y": null,
      "padding": null,
      "right": null,
      "top": null,
      "visibility": null,
      "width": null
     }
    },
    "e3790363ec084e23919e818bfdbbaf5e": {
     "model_module": "@jupyter-widgets/base",
     "model_module_version": "1.2.0",
     "model_name": "LayoutModel",
     "state": {
      "_model_module": "@jupyter-widgets/base",
      "_model_module_version": "1.2.0",
      "_model_name": "LayoutModel",
      "_view_count": null,
      "_view_module": "@jupyter-widgets/base",
      "_view_module_version": "1.2.0",
      "_view_name": "LayoutView",
      "align_content": null,
      "align_items": null,
      "align_self": null,
      "border": null,
      "bottom": null,
      "display": null,
      "flex": null,
      "flex_flow": null,
      "grid_area": null,
      "grid_auto_columns": null,
      "grid_auto_flow": null,
      "grid_auto_rows": null,
      "grid_column": null,
      "grid_gap": null,
      "grid_row": null,
      "grid_template_areas": null,
      "grid_template_columns": null,
      "grid_template_rows": null,
      "height": null,
      "justify_content": null,
      "justify_items": null,
      "left": null,
      "margin": null,
      "max_height": null,
      "max_width": null,
      "min_height": null,
      "min_width": null,
      "object_fit": null,
      "object_position": null,
      "order": null,
      "overflow": null,
      "overflow_x": null,
      "overflow_y": null,
      "padding": null,
      "right": null,
      "top": null,
      "visibility": null,
      "width": null
     }
    },
    "ed9d099bbab94c0187732c6127797b33": {
     "model_module": "@jupyter-widgets/base",
     "model_module_version": "1.2.0",
     "model_name": "LayoutModel",
     "state": {
      "_model_module": "@jupyter-widgets/base",
      "_model_module_version": "1.2.0",
      "_model_name": "LayoutModel",
      "_view_count": null,
      "_view_module": "@jupyter-widgets/base",
      "_view_module_version": "1.2.0",
      "_view_name": "LayoutView",
      "align_content": null,
      "align_items": null,
      "align_self": null,
      "border": null,
      "bottom": null,
      "display": null,
      "flex": null,
      "flex_flow": null,
      "grid_area": null,
      "grid_auto_columns": null,
      "grid_auto_flow": null,
      "grid_auto_rows": null,
      "grid_column": null,
      "grid_gap": null,
      "grid_row": null,
      "grid_template_areas": null,
      "grid_template_columns": null,
      "grid_template_rows": null,
      "height": null,
      "justify_content": null,
      "justify_items": null,
      "left": null,
      "margin": null,
      "max_height": null,
      "max_width": null,
      "min_height": null,
      "min_width": null,
      "object_fit": null,
      "object_position": null,
      "order": null,
      "overflow": null,
      "overflow_x": null,
      "overflow_y": null,
      "padding": null,
      "right": null,
      "top": null,
      "visibility": null,
      "width": null
     }
    },
    "edb5da79de04412da972a56f4b4cf246": {
     "model_module": "@jupyter-widgets/base",
     "model_module_version": "1.2.0",
     "model_name": "LayoutModel",
     "state": {
      "_model_module": "@jupyter-widgets/base",
      "_model_module_version": "1.2.0",
      "_model_name": "LayoutModel",
      "_view_count": null,
      "_view_module": "@jupyter-widgets/base",
      "_view_module_version": "1.2.0",
      "_view_name": "LayoutView",
      "align_content": null,
      "align_items": null,
      "align_self": null,
      "border": null,
      "bottom": null,
      "display": null,
      "flex": null,
      "flex_flow": null,
      "grid_area": null,
      "grid_auto_columns": null,
      "grid_auto_flow": null,
      "grid_auto_rows": null,
      "grid_column": null,
      "grid_gap": null,
      "grid_row": null,
      "grid_template_areas": null,
      "grid_template_columns": null,
      "grid_template_rows": null,
      "height": null,
      "justify_content": null,
      "justify_items": null,
      "left": null,
      "margin": null,
      "max_height": null,
      "max_width": null,
      "min_height": null,
      "min_width": null,
      "object_fit": null,
      "object_position": null,
      "order": null,
      "overflow": null,
      "overflow_x": null,
      "overflow_y": null,
      "padding": null,
      "right": null,
      "top": null,
      "visibility": null,
      "width": null
     }
    },
    "f9346850c6394677b0e348a036dde180": {
     "model_module": "@jupyter-widgets/base",
     "model_module_version": "1.2.0",
     "model_name": "LayoutModel",
     "state": {
      "_model_module": "@jupyter-widgets/base",
      "_model_module_version": "1.2.0",
      "_model_name": "LayoutModel",
      "_view_count": null,
      "_view_module": "@jupyter-widgets/base",
      "_view_module_version": "1.2.0",
      "_view_name": "LayoutView",
      "align_content": null,
      "align_items": null,
      "align_self": null,
      "border": null,
      "bottom": null,
      "display": null,
      "flex": null,
      "flex_flow": null,
      "grid_area": null,
      "grid_auto_columns": null,
      "grid_auto_flow": null,
      "grid_auto_rows": null,
      "grid_column": null,
      "grid_gap": null,
      "grid_row": null,
      "grid_template_areas": null,
      "grid_template_columns": null,
      "grid_template_rows": null,
      "height": null,
      "justify_content": null,
      "justify_items": null,
      "left": null,
      "margin": null,
      "max_height": null,
      "max_width": null,
      "min_height": null,
      "min_width": null,
      "object_fit": null,
      "object_position": null,
      "order": null,
      "overflow": null,
      "overflow_x": null,
      "overflow_y": null,
      "padding": null,
      "right": null,
      "top": null,
      "visibility": null,
      "width": null
     }
    },
    "fa0d8500a8434ff6a26099d3364b785e": {
     "model_module": "@jupyter-widgets/controls",
     "model_module_version": "1.5.0",
     "model_name": "HTMLModel",
     "state": {
      "_dom_classes": [],
      "_model_module": "@jupyter-widgets/controls",
      "_model_module_version": "1.5.0",
      "_model_name": "HTMLModel",
      "_view_count": null,
      "_view_module": "@jupyter-widgets/controls",
      "_view_module_version": "1.5.0",
      "_view_name": "HTMLView",
      "description": "",
      "description_tooltip": null,
      "layout": "IPY_MODEL_6d52034e467146178926219d6bcc7a01",
      "placeholder": "​",
      "style": "IPY_MODEL_b2841ae6c88a4929b1be95e4807e5acf",
      "value": "100%"
     }
    },
    "fbf3ae810e764b3f8e86f05207372ed4": {
     "model_module": "@jupyter-widgets/controls",
     "model_module_version": "1.5.0",
     "model_name": "DescriptionStyleModel",
     "state": {
      "_model_module": "@jupyter-widgets/controls",
      "_model_module_version": "1.5.0",
      "_model_name": "DescriptionStyleModel",
      "_view_count": null,
      "_view_module": "@jupyter-widgets/base",
      "_view_module_version": "1.2.0",
      "_view_name": "StyleView",
      "description_width": ""
     }
    }
   }
  }
 },
 "nbformat": 4,
 "nbformat_minor": 4
}
