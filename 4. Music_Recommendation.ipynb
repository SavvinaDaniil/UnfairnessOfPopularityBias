{
  "cells": [
    {
      "cell_type": "markdown",
      "metadata": {
        "id": "NXI0aYKkUntj"
      },
      "source": [
        "This notebook should be run on Google Colab.\n",
        "<a href=\"https://colab.research.google.com/github/SavvinaDaniil/UnfairnessOfPopularityBias/blob/main/4. Music_Recommendation.ipynb\" target=\"_parent\"><img src=\"https://colab.research.google.com/assets/colab-badge.svg\" alt=\"Open in Colab\"/></a>"
      ]
    },
    {
      "cell_type": "markdown",
      "metadata": {
        "id": "T7NA8UpqUnnV"
      },
      "source": [
        "# Process\n",
        "In this notebook, I will train the music recommendation algorithms using two different packages: <a href=\"http://surpriselib.com/\">Surprise</a> & <a href=\"https://cornac.readthedocs.io/en/latest/\">Cornac</a>. "
      ]
    },
    {
      "cell_type": "markdown",
      "metadata": {
        "id": "6HyLhxzyUu6w"
      },
      "source": [
        "## A. Import lbraries"
      ]
    },
    {
      "cell_type": "code",
      "execution_count": 3,
      "metadata": {
        "colab": {
          "base_uri": "https://localhost:8080/"
        },
        "id": "q6klyfWSFh_4",
        "outputId": "fce9f438-b5c3-4b5f-e053-8b628f8ab612"
      },
      "outputs": [
        {
          "output_type": "stream",
          "name": "stdout",
          "text": [
            "Found existing installation: tensorflow 2.9.2\n",
            "Uninstalling tensorflow-2.9.2:\n",
            "  Successfully uninstalled tensorflow-2.9.2\n",
            "Looking in indexes: https://pypi.org/simple, https://us-python.pkg.dev/colab-wheels/public/simple/\n",
            "Collecting tensorflow-gpu==1.15\n",
            "  Downloading tensorflow_gpu-1.15.0-cp37-cp37m-manylinux2010_x86_64.whl (411.5 MB)\n",
            "\u001b[K     |████████████████████████████████| 411.5 MB 7.7 kB/s \n",
            "\u001b[?25hRequirement already satisfied: numpy<2.0,>=1.16.0 in /usr/local/lib/python3.7/dist-packages (from tensorflow-gpu==1.15) (1.21.6)\n",
            "Requirement already satisfied: grpcio>=1.8.6 in /usr/local/lib/python3.7/dist-packages (from tensorflow-gpu==1.15) (1.50.0)\n",
            "Requirement already satisfied: google-pasta>=0.1.6 in /usr/local/lib/python3.7/dist-packages (from tensorflow-gpu==1.15) (0.2.0)\n",
            "Collecting keras-applications>=1.0.8\n",
            "  Downloading Keras_Applications-1.0.8-py3-none-any.whl (50 kB)\n",
            "\u001b[K     |████████████████████████████████| 50 kB 7.1 MB/s \n",
            "\u001b[?25hRequirement already satisfied: six>=1.10.0 in /usr/local/lib/python3.7/dist-packages (from tensorflow-gpu==1.15) (1.15.0)\n",
            "Collecting tensorboard<1.16.0,>=1.15.0\n",
            "  Downloading tensorboard-1.15.0-py3-none-any.whl (3.8 MB)\n",
            "\u001b[K     |████████████████████████████████| 3.8 MB 53.6 MB/s \n",
            "\u001b[?25hCollecting tensorflow-estimator==1.15.1\n",
            "  Downloading tensorflow_estimator-1.15.1-py2.py3-none-any.whl (503 kB)\n",
            "\u001b[K     |████████████████████████████████| 503 kB 70.0 MB/s \n",
            "\u001b[?25hRequirement already satisfied: wheel>=0.26 in /usr/local/lib/python3.7/dist-packages (from tensorflow-gpu==1.15) (0.38.4)\n",
            "Requirement already satisfied: astor>=0.6.0 in /usr/local/lib/python3.7/dist-packages (from tensorflow-gpu==1.15) (0.8.1)\n",
            "Requirement already satisfied: absl-py>=0.7.0 in /usr/local/lib/python3.7/dist-packages (from tensorflow-gpu==1.15) (1.3.0)\n",
            "Requirement already satisfied: opt-einsum>=2.3.2 in /usr/local/lib/python3.7/dist-packages (from tensorflow-gpu==1.15) (3.3.0)\n",
            "Requirement already satisfied: termcolor>=1.1.0 in /usr/local/lib/python3.7/dist-packages (from tensorflow-gpu==1.15) (2.1.0)\n",
            "Requirement already satisfied: wrapt>=1.11.1 in /usr/local/lib/python3.7/dist-packages (from tensorflow-gpu==1.15) (1.14.1)\n",
            "Requirement already satisfied: keras-preprocessing>=1.0.5 in /usr/local/lib/python3.7/dist-packages (from tensorflow-gpu==1.15) (1.1.2)\n",
            "Requirement already satisfied: protobuf>=3.6.1 in /usr/local/lib/python3.7/dist-packages (from tensorflow-gpu==1.15) (3.19.6)\n",
            "Collecting gast==0.2.2\n",
            "  Downloading gast-0.2.2.tar.gz (10 kB)\n",
            "Requirement already satisfied: h5py in /usr/local/lib/python3.7/dist-packages (from keras-applications>=1.0.8->tensorflow-gpu==1.15) (3.1.0)\n",
            "Requirement already satisfied: werkzeug>=0.11.15 in /usr/local/lib/python3.7/dist-packages (from tensorboard<1.16.0,>=1.15.0->tensorflow-gpu==1.15) (1.0.1)\n",
            "Requirement already satisfied: setuptools>=41.0.0 in /usr/local/lib/python3.7/dist-packages (from tensorboard<1.16.0,>=1.15.0->tensorflow-gpu==1.15) (57.4.0)\n",
            "Requirement already satisfied: markdown>=2.6.8 in /usr/local/lib/python3.7/dist-packages (from tensorboard<1.16.0,>=1.15.0->tensorflow-gpu==1.15) (3.4.1)\n",
            "Requirement already satisfied: importlib-metadata>=4.4 in /usr/local/lib/python3.7/dist-packages (from markdown>=2.6.8->tensorboard<1.16.0,>=1.15.0->tensorflow-gpu==1.15) (4.13.0)\n",
            "Requirement already satisfied: zipp>=0.5 in /usr/local/lib/python3.7/dist-packages (from importlib-metadata>=4.4->markdown>=2.6.8->tensorboard<1.16.0,>=1.15.0->tensorflow-gpu==1.15) (3.10.0)\n",
            "Requirement already satisfied: typing-extensions>=3.6.4 in /usr/local/lib/python3.7/dist-packages (from importlib-metadata>=4.4->markdown>=2.6.8->tensorboard<1.16.0,>=1.15.0->tensorflow-gpu==1.15) (4.1.1)\n",
            "Requirement already satisfied: cached-property in /usr/local/lib/python3.7/dist-packages (from h5py->keras-applications>=1.0.8->tensorflow-gpu==1.15) (1.5.2)\n",
            "Building wheels for collected packages: gast\n",
            "  Building wheel for gast (setup.py) ... \u001b[?25l\u001b[?25hdone\n",
            "  Created wheel for gast: filename=gast-0.2.2-py3-none-any.whl size=7554 sha256=3564c853a4a899fe4992abfcb738721ca572f22112b4a06a7decf5232042135c\n",
            "  Stored in directory: /root/.cache/pip/wheels/21/7f/02/420f32a803f7d0967b48dd823da3f558c5166991bfd204eef3\n",
            "Successfully built gast\n",
            "Installing collected packages: tensorflow-estimator, tensorboard, keras-applications, gast, tensorflow-gpu\n",
            "  Attempting uninstall: tensorflow-estimator\n",
            "    Found existing installation: tensorflow-estimator 2.9.0\n",
            "    Uninstalling tensorflow-estimator-2.9.0:\n",
            "      Successfully uninstalled tensorflow-estimator-2.9.0\n",
            "  Attempting uninstall: tensorboard\n",
            "    Found existing installation: tensorboard 2.9.1\n",
            "    Uninstalling tensorboard-2.9.1:\n",
            "      Successfully uninstalled tensorboard-2.9.1\n",
            "  Attempting uninstall: gast\n",
            "    Found existing installation: gast 0.4.0\n",
            "    Uninstalling gast-0.4.0:\n",
            "      Successfully uninstalled gast-0.4.0\n",
            "\u001b[31mERROR: pip's dependency resolver does not currently take into account all the packages that are installed. This behaviour is the source of the following dependency conflicts.\n",
            "tensorflow-probability 0.17.0 requires gast>=0.3.2, but you have gast 0.2.2 which is incompatible.\u001b[0m\n",
            "Successfully installed gast-0.2.2 keras-applications-1.0.8 tensorboard-1.15.0 tensorflow-estimator-1.15.1 tensorflow-gpu-1.15.0\n",
            "Reading package lists... Done\n",
            "Building dependency tree       \n",
            "Reading state information... Done\n",
            "The following package was automatically installed and is no longer required:\n",
            "  libnvidia-common-460\n",
            "Use 'apt autoremove' to remove it.\n",
            "The following NEW packages will be installed:\n",
            "  libcudnn7\n",
            "0 upgraded, 1 newly installed, 0 to remove and 5 not upgraded.\n",
            "Need to get 149 MB of archives.\n",
            "After this operation, 348 MB of additional disk space will be used.\n",
            "Get:1 https://developer.download.nvidia.com/compute/machine-learning/repos/ubuntu1804/x86_64  libcudnn7 7.4.1.5-1+cuda10.0 [149 MB]\n",
            "Fetched 149 MB in 3s (52.8 MB/s)\n",
            "Selecting previously unselected package libcudnn7.\n",
            "(Reading database ... 123991 files and directories currently installed.)\n",
            "Preparing to unpack .../libcudnn7_7.4.1.5-1+cuda10.0_amd64.deb ...\n",
            "Unpacking libcudnn7 (7.4.1.5-1+cuda10.0) ...\n",
            "Setting up libcudnn7 (7.4.1.5-1+cuda10.0) ...\n",
            "Processing triggers for libc-bin (2.27-3ubuntu1.6) ...\n"
          ]
        }
      ],
      "source": [
        "!pip uninstall tensorflow -y\n",
        "!pip install tensorflow-gpu==1.15\n",
        "!apt install --allow-change-held-packages libcudnn7=7.4.1.5-1+cuda10.0"
      ]
    },
    {
      "cell_type": "code",
      "execution_count": 4,
      "metadata": {
        "colab": {
          "base_uri": "https://localhost:8080/"
        },
        "id": "LksSngKBUzpE",
        "outputId": "4d11437a-59af-4235-f9c6-d122649523af"
      },
      "outputs": [
        {
          "output_type": "stream",
          "name": "stdout",
          "text": [
            "Looking in indexes: https://pypi.org/simple, https://us-python.pkg.dev/colab-wheels/public/simple/\n",
            "Collecting cornac\n",
            "  Downloading cornac-1.14.2-cp37-cp37m-manylinux1_x86_64.whl (12.4 MB)\n",
            "\u001b[K     |████████████████████████████████| 12.4 MB 6.1 MB/s \n",
            "\u001b[?25hRequirement already satisfied: scipy in /usr/local/lib/python3.7/dist-packages (from cornac) (1.7.3)\n",
            "Requirement already satisfied: tqdm>=4.19 in /usr/local/lib/python3.7/dist-packages (from cornac) (4.64.1)\n",
            "Requirement already satisfied: numpy in /usr/local/lib/python3.7/dist-packages (from cornac) (1.21.6)\n",
            "Collecting powerlaw\n",
            "  Downloading powerlaw-1.5-py3-none-any.whl (24 kB)\n",
            "Requirement already satisfied: matplotlib in /usr/local/lib/python3.7/dist-packages (from powerlaw->cornac) (3.2.2)\n",
            "Requirement already satisfied: mpmath in /usr/local/lib/python3.7/dist-packages (from powerlaw->cornac) (1.2.1)\n",
            "Requirement already satisfied: pyparsing!=2.0.4,!=2.1.2,!=2.1.6,>=2.0.1 in /usr/local/lib/python3.7/dist-packages (from matplotlib->powerlaw->cornac) (3.0.9)\n",
            "Requirement already satisfied: python-dateutil>=2.1 in /usr/local/lib/python3.7/dist-packages (from matplotlib->powerlaw->cornac) (2.8.2)\n",
            "Requirement already satisfied: kiwisolver>=1.0.1 in /usr/local/lib/python3.7/dist-packages (from matplotlib->powerlaw->cornac) (1.4.4)\n",
            "Requirement already satisfied: cycler>=0.10 in /usr/local/lib/python3.7/dist-packages (from matplotlib->powerlaw->cornac) (0.11.0)\n",
            "Requirement already satisfied: typing-extensions in /usr/local/lib/python3.7/dist-packages (from kiwisolver>=1.0.1->matplotlib->powerlaw->cornac) (4.1.1)\n",
            "Requirement already satisfied: six>=1.5 in /usr/local/lib/python3.7/dist-packages (from python-dateutil>=2.1->matplotlib->powerlaw->cornac) (1.15.0)\n",
            "Installing collected packages: powerlaw, cornac\n",
            "Successfully installed cornac-1.14.2 powerlaw-1.5\n"
          ]
        }
      ],
      "source": [
        "!pip install cornac"
      ]
    },
    {
      "cell_type": "code",
      "execution_count": 5,
      "metadata": {
        "id": "nuTJA99_U31w"
      },
      "outputs": [],
      "source": [
        "# !pip install surprise"
      ]
    },
    {
      "cell_type": "code",
      "execution_count": 7,
      "metadata": {
        "id": "5YRmDovpU54c"
      },
      "outputs": [],
      "source": [
        "import warnings\n",
        "warnings.simplefilter(action='ignore', category=FutureWarning)\n",
        "import matplotlib.pyplot as plt\n",
        "import random as rd\n",
        "import pandas as pd\n",
        "import numpy as np\n",
        "from tqdm import tqdm\n",
        "import time\n",
        "\n",
        "# Cornac imports\n",
        "import cornac\n",
        "from cornac.eval_methods import RatioSplit\n",
        "from cornac.data import Reader as CornacReader #Reader exists in both packages\n",
        "from cornac.models import MostPop, MF, PMF, BPR, NeuMF, WMF, HPF, VAECF, ItemKNN, UserKNN, BaselineOnly \n",
        "from cornac.models import NMF as CornacNMF #NMF exists in both packages\n",
        "from cornac.metrics import MAE, MSE, RMSE, Precision, Recall, NDCG, AUC, MAP, FMeasure, MRR\n",
        "\n",
        "# # Surprise imports\n",
        "# from surprise import BaselineOnly, KNNBasic, KNNWithMeans, SVDpp, SVD\n",
        "# from surprise import NMF as SurpriseNMF\n",
        "# from surprise import Dataset\n",
        "# from surprise import Reader as SurpriseReader\n",
        "# from surprise.model_selection import train_test_split\n",
        "# from surprise import accuracy\n",
        "\n",
        "\n",
        "from collections import defaultdict\n",
        "from scipy import stats\n",
        "from numpy.linalg import norm\n",
        "import seaborn as sns\n",
        "from sklearn.preprocessing import MinMaxScaler\n",
        "# set plot style: grey grid in the background:\n",
        "sns.set(style=\"darkgrid\")\n",
        "pd.set_option(\"display.precision\", 8)"
      ]
    },
    {
      "cell_type": "markdown",
      "metadata": {
        "id": "wJr35vAGVuM4"
      },
      "source": [
        "## B. Set hyperparameters\n",
        "There are certain hyperparameters that need to be tuned before the run. "
      ]
    },
    {
      "cell_type": "code",
      "execution_count": 8,
      "metadata": {
        "id": "Wz1OKVKoVkkD"
      },
      "outputs": [],
      "source": [
        "# constants and initialization\n",
        "rating_threshold = 1.0 # needed for the cornac library: Threshold used to binarize rating values into positive or negative feedback for model evaluation using ranking metrics (rating metrics are not affected). \n",
        "my_seed = 0\n",
        "test_size = 0.2 # the percentage of \"hold out\" data that are used for testing\n",
        "predict_col = \"rating\"\n",
        "user_col = \"user\"\n",
        "top_fraction = 0.2 # the amount of items that will be considered \"popular\"\n",
        "\n",
        "rd.seed(my_seed) #seed for random functions\n",
        "np.random.seed(my_seed) #seed for all numpy stuff"
      ]
    },
    {
      "cell_type": "markdown",
      "metadata": {
        "id": "3Z0PCJ5LZen3"
      },
      "source": [
        "## C. Read files"
      ]
    },
    {
      "cell_type": "markdown",
      "source": [
        "### Make data choice\n",
        "The reader has to manually choose whether to run the entire data set or the subset using the alt_dataset variable."
      ],
      "metadata": {
        "id": "LJem-YtiTl7a"
      }
    },
    {
      "cell_type": "code",
      "source": [
        "alt_dataset = True"
      ],
      "metadata": {
        "id": "XTuWK8LnTia6"
      },
      "execution_count": 9,
      "outputs": []
    },
    {
      "cell_type": "code",
      "source": [
        "item_col = \"artist\"\n",
        "if alt_dataset == False:\n",
        "  user_events_file = 'https://media.githubusercontent.com/media/SavvinaDaniil/UnfairnessOfPopularityBias/main/data/ratings_music.txt'\n",
        "  cols = ['user',item_col, 'album', 'track', 'timestamp']\n",
        "  df_events = pd.read_csv(user_events_file, sep = '\\t', names = cols)\n",
        "  print('No. of user events: ' + str(len(df_events)))\n",
        "  # create user-item matrix\n",
        "  df_events = df_events.groupby(['user', item_col]).size().reset_index(name='rating')\n",
        "else:\n",
        "  user_events_file = 'https://raw.githubusercontent.com/SavvinaDaniil/UnfairnessOfPopularityBias/main/data/relevant_music_data_20.csv'\n",
        "  df_events = pd.read_csv(user_events_file, index_col=0)\n",
        "\n",
        "\n",
        "print('No. user-item interactions: ' + str(len(df_events)))\n",
        "df_events = df_events.astype(\"int\")"
      ],
      "metadata": {
        "colab": {
          "base_uri": "https://localhost:8080/"
        },
        "id": "6T6EX2EW6i6-",
        "outputId": "e6b604a3-4662-4369-f7a3-6b76bcb4df49"
      },
      "execution_count": 10,
      "outputs": [
        {
          "output_type": "stream",
          "name": "stdout",
          "text": [
            "No. user-item interactions: 1008479\n"
          ]
        }
      ]
    },
    {
      "cell_type": "markdown",
      "metadata": {
        "id": "iMVCVOTmaozs"
      },
      "source": [
        "## D. Data analysis"
      ]
    },
    {
      "cell_type": "code",
      "execution_count": 11,
      "metadata": {
        "id": "WpGdgR_iam3y"
      },
      "outputs": [],
      "source": [
        "def users_and_items(df_events, user_col, item_col):\n",
        "    print('No. user events: ' + str(len(df_events)))\n",
        "    print('No. items: ' + str(len(df_events[item_col].unique())))\n",
        "    print('No. users: ' + str(len(df_events[user_col].unique())))\n",
        "    print(\"\\n\")\n",
        "def user_distribution(df_events, user_col, item_col):\n",
        "    user_dist = df_events[user_col].value_counts() \n",
        "    num_users = len(user_dist)\n",
        "    print('Mean '+item_col+'s per user: ' + str(np.round(user_dist.mean(),1))) \n",
        "    print('Min '+item_col+'s per user: ' + str(np.round(user_dist.min(),1))) \n",
        "    print('Max '+item_col+'s per user: ' + str(np.round(user_dist.max(),1)))\n",
        "    print(\"\\n\")\n",
        "    return user_dist, num_users\n",
        "def item_distribution(df_events, user_col, item_col):\n",
        "    item_dist = df_events[item_col].value_counts()\n",
        "    num_items = len(item_dist)\n",
        "    print('Mean users per '+item_col+': ' + str(np.round(item_dist.mean(),1))) \n",
        "    print('Min users per '+item_col+': ' + str(np.round(item_dist.min(),1))) \n",
        "    print('Max users per '+item_col+': ' + str(np.round(item_dist.max(),1))) \n",
        "    print(\"\\n\")\n",
        "    return item_dist, num_items"
      ]
    },
    {
      "cell_type": "code",
      "execution_count": 12,
      "metadata": {
        "colab": {
          "base_uri": "https://localhost:8080/"
        },
        "id": "1jwJq8rda1jS",
        "outputId": "14b48dc3-a0a1-49df-a6fe-a7c58cc8c20c"
      },
      "outputs": [
        {
          "output_type": "stream",
          "name": "stdout",
          "text": [
            "No. user events: 1008479\n",
            "No. items: 12690\n",
            "No. users: 3000\n",
            "\n",
            "\n",
            "Mean artists per user: 336.2\n",
            "Min artists per user: 4\n",
            "Max artists per user: 2057\n",
            "\n",
            "\n",
            "Mean users per artist: 79.5\n",
            "Min users per artist: 21\n",
            "Max users per artist: 1389\n",
            "\n",
            "\n"
          ]
        }
      ],
      "source": [
        "users_and_items(df_events, user_col, item_col)\n",
        "user_dist, num_users = user_distribution(df_events, user_col, item_col)\n",
        "item_dist, num_items = item_distribution(df_events, user_col, item_col)"
      ]
    },
    {
      "cell_type": "code",
      "execution_count": 13,
      "metadata": {
        "id": "C7wdClok5BPv"
      },
      "outputs": [],
      "source": [
        "# create item dataframe with normalized item counts\n",
        "df_item_dist = pd.DataFrame(item_dist) # turn the series into a dataframe\n",
        "df_item_dist.columns = ['count']\n",
        "df_item_dist['count'] /= num_users # basically the popularity of every item\n"
      ]
    },
    {
      "cell_type": "code",
      "execution_count": 14,
      "metadata": {
        "colab": {
          "base_uri": "https://localhost:8080/",
          "height": 206
        },
        "id": "UMNYiSh35KG8",
        "outputId": "d7ef47b8-ccd8-44c0-ae90-d32d650c04dd"
      },
      "outputs": [
        {
          "output_type": "execute_result",
          "data": {
            "text/plain": [
              "           count\n",
              "135   0.46300000\n",
              "1602  0.45300000\n",
              "46    0.44166667\n",
              "320   0.43233333\n",
              "27    0.43000000"
            ],
            "text/html": [
              "\n",
              "  <div id=\"df-4c87125c-9b46-4aa9-b018-ee48c7545b47\">\n",
              "    <div class=\"colab-df-container\">\n",
              "      <div>\n",
              "<style scoped>\n",
              "    .dataframe tbody tr th:only-of-type {\n",
              "        vertical-align: middle;\n",
              "    }\n",
              "\n",
              "    .dataframe tbody tr th {\n",
              "        vertical-align: top;\n",
              "    }\n",
              "\n",
              "    .dataframe thead th {\n",
              "        text-align: right;\n",
              "    }\n",
              "</style>\n",
              "<table border=\"1\" class=\"dataframe\">\n",
              "  <thead>\n",
              "    <tr style=\"text-align: right;\">\n",
              "      <th></th>\n",
              "      <th>count</th>\n",
              "    </tr>\n",
              "  </thead>\n",
              "  <tbody>\n",
              "    <tr>\n",
              "      <th>135</th>\n",
              "      <td>0.46300000</td>\n",
              "    </tr>\n",
              "    <tr>\n",
              "      <th>1602</th>\n",
              "      <td>0.45300000</td>\n",
              "    </tr>\n",
              "    <tr>\n",
              "      <th>46</th>\n",
              "      <td>0.44166667</td>\n",
              "    </tr>\n",
              "    <tr>\n",
              "      <th>320</th>\n",
              "      <td>0.43233333</td>\n",
              "    </tr>\n",
              "    <tr>\n",
              "      <th>27</th>\n",
              "      <td>0.43000000</td>\n",
              "    </tr>\n",
              "  </tbody>\n",
              "</table>\n",
              "</div>\n",
              "      <button class=\"colab-df-convert\" onclick=\"convertToInteractive('df-4c87125c-9b46-4aa9-b018-ee48c7545b47')\"\n",
              "              title=\"Convert this dataframe to an interactive table.\"\n",
              "              style=\"display:none;\">\n",
              "        \n",
              "  <svg xmlns=\"http://www.w3.org/2000/svg\" height=\"24px\"viewBox=\"0 0 24 24\"\n",
              "       width=\"24px\">\n",
              "    <path d=\"M0 0h24v24H0V0z\" fill=\"none\"/>\n",
              "    <path d=\"M18.56 5.44l.94 2.06.94-2.06 2.06-.94-2.06-.94-.94-2.06-.94 2.06-2.06.94zm-11 1L8.5 8.5l.94-2.06 2.06-.94-2.06-.94L8.5 2.5l-.94 2.06-2.06.94zm10 10l.94 2.06.94-2.06 2.06-.94-2.06-.94-.94-2.06-.94 2.06-2.06.94z\"/><path d=\"M17.41 7.96l-1.37-1.37c-.4-.4-.92-.59-1.43-.59-.52 0-1.04.2-1.43.59L10.3 9.45l-7.72 7.72c-.78.78-.78 2.05 0 2.83L4 21.41c.39.39.9.59 1.41.59.51 0 1.02-.2 1.41-.59l7.78-7.78 2.81-2.81c.8-.78.8-2.07 0-2.86zM5.41 20L4 18.59l7.72-7.72 1.47 1.35L5.41 20z\"/>\n",
              "  </svg>\n",
              "      </button>\n",
              "      \n",
              "  <style>\n",
              "    .colab-df-container {\n",
              "      display:flex;\n",
              "      flex-wrap:wrap;\n",
              "      gap: 12px;\n",
              "    }\n",
              "\n",
              "    .colab-df-convert {\n",
              "      background-color: #E8F0FE;\n",
              "      border: none;\n",
              "      border-radius: 50%;\n",
              "      cursor: pointer;\n",
              "      display: none;\n",
              "      fill: #1967D2;\n",
              "      height: 32px;\n",
              "      padding: 0 0 0 0;\n",
              "      width: 32px;\n",
              "    }\n",
              "\n",
              "    .colab-df-convert:hover {\n",
              "      background-color: #E2EBFA;\n",
              "      box-shadow: 0px 1px 2px rgba(60, 64, 67, 0.3), 0px 1px 3px 1px rgba(60, 64, 67, 0.15);\n",
              "      fill: #174EA6;\n",
              "    }\n",
              "\n",
              "    [theme=dark] .colab-df-convert {\n",
              "      background-color: #3B4455;\n",
              "      fill: #D2E3FC;\n",
              "    }\n",
              "\n",
              "    [theme=dark] .colab-df-convert:hover {\n",
              "      background-color: #434B5C;\n",
              "      box-shadow: 0px 1px 3px 1px rgba(0, 0, 0, 0.15);\n",
              "      filter: drop-shadow(0px 1px 2px rgba(0, 0, 0, 0.3));\n",
              "      fill: #FFFFFF;\n",
              "    }\n",
              "  </style>\n",
              "\n",
              "      <script>\n",
              "        const buttonEl =\n",
              "          document.querySelector('#df-4c87125c-9b46-4aa9-b018-ee48c7545b47 button.colab-df-convert');\n",
              "        buttonEl.style.display =\n",
              "          google.colab.kernel.accessAllowed ? 'block' : 'none';\n",
              "\n",
              "        async function convertToInteractive(key) {\n",
              "          const element = document.querySelector('#df-4c87125c-9b46-4aa9-b018-ee48c7545b47');\n",
              "          const dataTable =\n",
              "            await google.colab.kernel.invokeFunction('convertToInteractive',\n",
              "                                                     [key], {});\n",
              "          if (!dataTable) return;\n",
              "\n",
              "          const docLinkHtml = 'Like what you see? Visit the ' +\n",
              "            '<a target=\"_blank\" href=https://colab.research.google.com/notebooks/data_table.ipynb>data table notebook</a>'\n",
              "            + ' to learn more about interactive tables.';\n",
              "          element.innerHTML = '';\n",
              "          dataTable['output_type'] = 'display_data';\n",
              "          await google.colab.output.renderOutput(dataTable, element);\n",
              "          const docLink = document.createElement('div');\n",
              "          docLink.innerHTML = docLinkHtml;\n",
              "          element.appendChild(docLink);\n",
              "        }\n",
              "      </script>\n",
              "    </div>\n",
              "  </div>\n",
              "  "
            ]
          },
          "metadata": {},
          "execution_count": 14
        }
      ],
      "source": [
        "df_item_dist.head()"
      ]
    },
    {
      "cell_type": "code",
      "execution_count": 15,
      "metadata": {
        "id": "G7o_VBaUa4lH"
      },
      "outputs": [],
      "source": [
        "def plot_data_distribution(item_dist, item_col, dividing = [False, 0], log = False):\n",
        "    plt.figure()\n",
        "    ax = plt.axes()\n",
        "    ax.spines['bottom'].set_color('w')\n",
        "    ax.spines['top'].set_color('w')\n",
        "    ax.spines['right'].set_color('w')\n",
        "    ax.spines['left'].set_color('w')\n",
        "    ax.spines['left'].set_zorder(0)\n",
        "    ax.xaxis.set_ticks_position('none') \n",
        "    ax.yaxis.set_ticks_position('none') \n",
        "    ax.set_facecolor(\"aliceblue\")\n",
        "    plt.grid(color = \"w\",linewidth = 2 )\n",
        "    if dividing[0]:\n",
        "        x0 = int(len(item_dist.values)*dividing[1])\n",
        "        y = range(len(item_dist))\n",
        "        plt.plot(y[:x0+1], item_dist.values[:x0+1], label = \"Popular \"+item_col+\"s\", linewidth = 5)\n",
        "        plt.plot(y[x0:], item_dist.values[x0:], label = \"Non Popular \"+item_col+\"s\", linewidth = 5)\n",
        "    else:\n",
        "        plt.plot(item_dist.values)\n",
        "    plt.xticks(fontsize='13')\n",
        "    plt.yticks(fontsize='13')\n",
        "    add = \"\"\n",
        "    if log:\n",
        "        plt.xscale('log')\n",
        "        plt.yscale('log')\n",
        "        add = \" (log)\"\n",
        "    plt.xlabel(item_col+add, fontsize='14')\n",
        "    plt.ylabel('Number of users' + add, fontsize='15')\n",
        "    plt.show(block=True)\n",
        "def plot_popularity_distribution(pop_fraq, item_col, dividing = [False,0]):\n",
        "    plt.figure()\n",
        "    ax = plt.axes()\n",
        "    ax.spines['bottom'].set_color('w')\n",
        "    ax.spines['top'].set_color('w')\n",
        "    ax.spines['right'].set_color('w')\n",
        "    ax.spines['left'].set_color('w')\n",
        "    ax.spines['left'].set_zorder(0)\n",
        "    ax.xaxis.set_ticks_position('none') \n",
        "    ax.yaxis.set_ticks_position('none') \n",
        "    \n",
        "    ax.set_facecolor(\"aliceblue\")\n",
        "    plt.grid(color = \"w\",linewidth = 2 )\n",
        "    if dividing[0]:\n",
        "        y = range(len(pop_fraq))\n",
        "        x0 = int(len(y)*dividing[1]) \n",
        "        x1 = int(len(y)*(1-dividing[1]))\n",
        "        x= sorted(pop_fraq)\n",
        "        plt.plot(y[:x0+1],x[:x0+1], label=\"LowMS users\", linewidth = 5)\n",
        "        plt.plot(y[x0:x1+1],x[x0:x1+1], label = \"MedMS users\", linewidth = 5)\n",
        "        plt.plot(y[x1:],x[x1:], label = \"HighMS users\", linewidth =5)\n",
        "    else:\n",
        "        plt.plot(sorted(pop_fraq))\n",
        "    plt.xlabel('User', fontsize='15')\n",
        "    plt.xticks(fontsize='13')\n",
        "    plt.ylabel('Ratio of popular '+item_col+'s', fontsize='15')\n",
        "    plt.yticks(fontsize='13')\n",
        "    plt.axhline(y=0.8, color='black', linestyle='--', label='80% ratio of popular '+item_col+'s')\n",
        "    plt.legend(fontsize='15')\n",
        "    plt.show(block=True)"
      ]
    },
    {
      "cell_type": "code",
      "execution_count": 16,
      "metadata": {
        "colab": {
          "base_uri": "https://localhost:8080/",
          "height": 564
        },
        "id": "COATHnNGa_G5",
        "outputId": "053099ea-4ddf-4a97-e726-1d499b712cf8"
      },
      "outputs": [
        {
          "output_type": "display_data",
          "data": {
            "text/plain": [
              "<Figure size 432x288 with 1 Axes>"
            ],
            "image/png": "[encoded data removed]"
          },
          "metadata": {}
        },
        {
          "output_type": "display_data",
          "data": {
            "text/plain": [
              "<Figure size 432x288 with 1 Axes>"
            ],
            "image/png": "[encoded data removed]"
          },
          "metadata": {}
        }
      ],
      "source": [
        "plot_data_distribution(item_dist, item_col)\n",
        "plot_data_distribution(item_dist, item_col, [False, 0],True)"
      ]
    },
    {
      "cell_type": "markdown",
      "metadata": {
        "id": "KMiAQybFbFSj"
      },
      "source": [
        "## E. Popularity in the data"
      ]
    },
    {
      "cell_type": "code",
      "execution_count": 17,
      "metadata": {
        "colab": {
          "base_uri": "https://localhost:8080/"
        },
        "id": "jYCqPRLjbByM",
        "outputId": "ddef27a6-5e9b-4028-a01e-1510c44b4586"
      },
      "outputs": [
        {
          "output_type": "stream",
          "name": "stdout",
          "text": [
            "No. top items: 2538\n"
          ]
        }
      ],
      "source": [
        "num_top = int(top_fraction * num_items)\n",
        "top_item_dist = item_dist[:num_top]\n",
        "print('No. top items: ' + str(len(top_item_dist)))"
      ]
    },
    {
      "cell_type": "code",
      "execution_count": 18,
      "metadata": {
        "id": "BEv16gdIsAlc"
      },
      "outputs": [],
      "source": [
        "def read(low_user_file, medium_user_file, high_user_file):\n",
        "    low_users = pd.read_csv(low_user_file, sep=',').set_index('user_id')\n",
        "    medium_users = pd.read_csv(medium_user_file, sep=',').set_index('user_id')\n",
        "    high_users = pd.read_csv(high_user_file, sep=',').set_index('user_id')\n",
        "    no_users = len(low_users) + len(medium_users) + len(high_users)\n",
        "    print('No. of users: ' + str(no_users))\n",
        "    \n",
        "    mainstreaminess = \"M_global_R_APC\"\n",
        "    \n",
        "    print('Average mainstreaminess per user for low: ' + str(low_users[mainstreaminess].mean()))\n",
        "    print('Average mainstreaminess per user for med: ' + str(medium_users[mainstreaminess].mean()))\n",
        "    print('Average mainstreaminess per user for high: ' + str(high_users[mainstreaminess].mean()))\n",
        "    return no_users, low_users, medium_users, high_users"
      ]
    },
    {
      "cell_type": "code",
      "source": [
        "def calculate_popularity_for_music(df_events, top_item_dist, item_dist, num_users, user_col, item_col, low_users, medium_users, high_users):\n",
        "    pop_count = [] # number of top items per user\n",
        "    user_hist = [] # user history sizes\n",
        "    pop_fraq = [] # relative number of top items per user\n",
        "    pop_item_fraq = [] # average popularity of items in user profiles\n",
        "    low_profile_size = 0\n",
        "    low_gap = 0\n",
        "    medium_profile_size = 0\n",
        "    medium_gap = 0\n",
        "    high_profile_size = 0\n",
        "    high_gap = 0\n",
        "    low_ratio = 0\n",
        "    medium_ratio = 0\n",
        "    high_ratio = 0\n",
        "    \n",
        "    i=0\n",
        "    for u, df in df_events.groupby(user_col):\n",
        "        no_user_items = len(set(df[item_col]))\n",
        "        no_user_pop_items = len(set(df[item_col]) & set(top_item_dist.index))\n",
        "        pop_count.append(no_user_pop_items)\n",
        "        user_hist.append(no_user_items) \n",
        "        pop_fraq.append(no_user_pop_items / no_user_items)\n",
        "        user_pop_item_fraq = sum(item_dist[df[item_col]] / num_users) / no_user_items\n",
        "        pop_item_fraq.append(user_pop_item_fraq)\n",
        "    \n",
        "        if u in low_users.index: # get user group-specific values\n",
        "            low_profile_size += no_user_items\n",
        "            low_gap += user_pop_item_fraq\n",
        "            low_ratio += no_user_pop_items / no_user_items\n",
        "        elif u in medium_users.index:\n",
        "            medium_profile_size += no_user_items\n",
        "            medium_gap += user_pop_item_fraq\n",
        "            medium_ratio += no_user_pop_items / no_user_items\n",
        "        else:\n",
        "            high_profile_size += no_user_items\n",
        "            high_gap += user_pop_item_fraq\n",
        "            high_ratio += no_user_pop_items / no_user_items\n",
        "        i+=1\n",
        "        if i%1000==0:\n",
        "            print(i)\n",
        "    low_profile_size /= len(low_users)\n",
        "    medium_profile_size /= len(medium_users)\n",
        "    high_profile_size /= len(high_users)\n",
        "    low_ratio /= len(low_users)\n",
        "    medium_ratio /= len(medium_users)\n",
        "    high_ratio /= len(high_users)\n",
        "    low_gap /= len(low_users)\n",
        "    medium_gap /= len(medium_users)\n",
        "    high_gap /= len(high_users)\n",
        "  \n",
        "    return pop_count,user_hist,pop_fraq, pop_item_fraq, low_profile_size, medium_profile_size, high_profile_size, low_gap, medium_gap, high_gap, low_ratio, medium_ratio, high_ratio\n",
        "def calculate_popularity(df_events, top_item_dist, item_dist, num_users, user_col, item_col):\n",
        "    pop_count = [] # number of top items per user\n",
        "    user_hist = [] # user history sizes\n",
        "    pop_fraq = [] # relative number of top items per user\n",
        "    pop_item_fraq = [] # average popularity of items in user profiles\n",
        "    i=0\n",
        "    for u, df in df_events.groupby(user_col):\n",
        "        no_user_items = len(set(df[item_col]))\n",
        "        no_user_pop_items = len(set(df[item_col]) & set(top_item_dist.index))\n",
        "        pop_count.append(no_user_pop_items)\n",
        "        user_hist.append(no_user_items) \n",
        "        pop_fraq.append(no_user_pop_items / no_user_items)\n",
        "        user_pop_item_fraq = sum(item_dist[df[item_col]] / num_users) / no_user_items\n",
        "        pop_item_fraq.append(user_pop_item_fraq)\n",
        "        i+=1\n",
        "        if i%1000==0:\n",
        "            print(i)\n",
        "    return pop_count,user_hist,pop_fraq, pop_item_fraq"
      ],
      "metadata": {
        "id": "OVptdVHQVTjs"
      },
      "execution_count": 19,
      "outputs": []
    },
    {
      "cell_type": "code",
      "source": [
        "def sort_user_dist(user_dist,pop_count, user_hist,pop_fraq,pop_item_fraq, by = \"pop_fraq\"):\n",
        "    user_dist = user_dist.sort_index()\n",
        "    user_dist_sorted = pd.DataFrame(data = user_dist)\n",
        "    \n",
        "    user_dist_sorted.columns = [\"count\"]\n",
        "    \n",
        "    user_dist_sorted[\"pop_count\"] = pop_count\n",
        "    user_dist_sorted[\"user_hist\"] = user_hist\n",
        "    user_dist_sorted[\"pop_fraq\"] = pop_fraq\n",
        "    user_dist_sorted[\"pop_item_fraq\"] = pop_item_fraq\n",
        "    \n",
        "    user_dist_sorted = user_dist_sorted.sort_values(by=[by])\n",
        "    return user_dist_sorted\n",
        "\n",
        "def split(user_dist_sorted, top_fraction):\n",
        "    low, med, high = np.split(user_dist_sorted, [int(top_fraction*len(user_dist_sorted)), int((1-top_fraction)*len(user_dist_sorted))])\n",
        "    return low, med, high\n",
        "def calculate_group_characteristics(low, med, high):\n",
        "    low_profile_size = low.user_hist.mean()\n",
        "    med_profile_size = med.user_hist.mean()\n",
        "    high_profile_size = high.user_hist.mean()\n",
        "    \n",
        "    low_nr_users = len(low)\n",
        "    med_nr_users = len(med)\n",
        "    high_nr_users = len(high)\n",
        "    \n",
        "    low_GAP = low.pop_item_fraq.mean()\n",
        "    med_GAP = med.pop_item_fraq.mean()\n",
        "    high_GAP = high.pop_item_fraq.mean()\n",
        "    \n",
        "    return low_profile_size, med_profile_size, high_profile_size, low_nr_users, med_nr_users, high_nr_users, low_GAP, med_GAP, high_GAP"
      ],
      "metadata": {
        "id": "07fc53hjVc-B"
      },
      "execution_count": 20,
      "outputs": []
    },
    {
      "cell_type": "markdown",
      "source": [
        "### Make notion of popularity propensity choice\n",
        "The reader has to manually choose how to divide the users into groups according to their propensity for popular items."
      ],
      "metadata": {
        "id": "kCoOuYpNT01y"
      }
    },
    {
      "cell_type": "code",
      "source": [
        "popularity_function = {'pop_one': \"pop_fraq\",\n",
        "             'pop_two': \"pop_item_fraq\" ,\n",
        "             'pop_three': \"mainstreaminess\" }"
      ],
      "metadata": {
        "id": "KZ1sEeWBUh6a"
      },
      "execution_count": 21,
      "outputs": []
    },
    {
      "cell_type": "code",
      "source": [
        "pop_notion = \"pop_one\""
      ],
      "metadata": {
        "id": "8QuNZjE5VIZ6"
      },
      "execution_count": 81,
      "outputs": []
    },
    {
      "cell_type": "code",
      "source": [
        "if pop_notion == \"pop_three\":\n",
        "  low_user_file = \"https://media.githubusercontent.com/media/SavvinaDaniil/UnfairnessOfPopularityBias/main/data/low_main_users.txt\"\n",
        "  medium_user_file = \"https://media.githubusercontent.com/media/SavvinaDaniil/UnfairnessOfPopularityBias/main/data/medium_main_users.txt\"\n",
        "  high_user_file = \"https://media.githubusercontent.com/media/SavvinaDaniil/UnfairnessOfPopularityBias/main/data/high_main_users.txt\"\n",
        "  no_users, low, med, high= read(low_user_file, medium_user_file, high_user_file)\n",
        "  pop_count,user_hist,pop_fraq, pop_item_fraq, low_profile_size, med_profile_size, high_profile_size, low_GAP, med_GAP, high_GAP, low_ratio, med_ratio, high_ratio = calculate_popularity_for_music(df_events, top_item_dist, item_dist, num_users, user_col, item_col, low, med, high)\n",
        "  low_nr_users = 1000\n",
        "  med_nr_users = 1000\n",
        "  high_nr_users = 1000\n",
        "else:\n",
        "  pop_count,user_hist,pop_fraq, pop_item_fraq = calculate_popularity(df_events, top_item_dist, item_dist, num_users, user_col, item_col)\n",
        "  user_dist_sorted = sort_user_dist(user_dist,pop_count, user_hist,pop_fraq,pop_item_fraq, by = popularity_function[pop_notion])\n",
        "  low, med, high = split(user_dist_sorted, top_fraction)\n",
        "  low_profile_size, med_profile_size, high_profile_size, low_nr_users, med_nr_users, high_nr_users, low_GAP, med_GAP, high_GAP = calculate_group_characteristics(low, med, high)\n"
      ],
      "metadata": {
        "colab": {
          "base_uri": "https://localhost:8080/"
        },
        "id": "yoowIBXOVGZi",
        "outputId": "a1fd1c67-4136-48f6-83ed-3edb2089e503"
      },
      "execution_count": 82,
      "outputs": [
        {
          "output_type": "stream",
          "name": "stdout",
          "text": [
            "1000\n",
            "2000\n",
            "3000\n"
          ]
        }
      ]
    },
    {
      "cell_type": "code",
      "source": [
        "print('LowMS GAP: ' + str(low_GAP))\n",
        "print('MedMS GAP: ' + str(med_GAP))\n",
        "print('HighMS GAP: ' + str(high_GAP))"
      ],
      "metadata": {
        "id": "oERLNRhbWNYe",
        "colab": {
          "base_uri": "https://localhost:8080/"
        },
        "outputId": "825237ef-fdac-4ce1-fe1a-15c3699695a3"
      },
      "execution_count": 83,
      "outputs": [
        {
          "output_type": "stream",
          "name": "stdout",
          "text": [
            "LowMS GAP: 0.05164793247914172\n",
            "MedMS GAP: 0.08470085441420941\n",
            "HighMS GAP: 0.12115518571314757\n"
          ]
        }
      ]
    },
    {
      "cell_type": "code",
      "execution_count": 74,
      "metadata": {
        "id": "RZwgf9kEbR52"
      },
      "outputs": [],
      "source": [
        "def plot_popularity_distribution(pop_fraq, item_col, dividing = [False,0]):\n",
        "    plt.figure()\n",
        "    ax = plt.axes()\n",
        "    ax.spines['bottom'].set_color('w')\n",
        "    ax.spines['top'].set_color('w')\n",
        "    ax.spines['right'].set_color('w')\n",
        "    ax.spines['left'].set_color('w')\n",
        "    ax.spines['left'].set_zorder(0)\n",
        "    ax.xaxis.set_ticks_position('none') \n",
        "    ax.yaxis.set_ticks_position('none') \n",
        "    \n",
        "    ax.set_facecolor(\"aliceblue\")\n",
        "    plt.grid(color = \"w\",linewidth = 2 )\n",
        "    if dividing[0]:\n",
        "        y = range(len(pop_fraq))\n",
        "        x0 = int(len(y)*dividing[1]) \n",
        "        x1 = int(len(y)*(1-dividing[1]))\n",
        "        x= sorted(pop_fraq)\n",
        "        plt.plot(y[:x0+1],x[:x0+1], label=\"LowMS users\", linewidth = 5)\n",
        "        plt.plot(y[x0:x1+1],x[x0:x1+1], label = \"MedMS users\", linewidth = 5)\n",
        "        plt.plot(y[x1:],x[x1:], label = \"HighMS users\", linewidth =5)\n",
        "    else:\n",
        "        plt.plot(sorted(pop_fraq))\n",
        "    plt.xlabel('User', fontsize='15')\n",
        "    plt.xticks(fontsize='13')\n",
        "    plt.ylabel('Ratio of popular '+item_col+'s', fontsize='15')\n",
        "    plt.yticks(fontsize='13')\n",
        "    plt.axhline(y=0.8, color='black', linestyle='--', label='80% ratio of popular '+item_col+'s')\n",
        "    plt.legend(fontsize='15')\n",
        "    plt.show(block=True)\n",
        "\n",
        "def plot_profile_size_vs_popularity(pop_metric, user_hist, way, item_col):\n",
        "    plt.figure()\n",
        "    ax = plt.axes()\n",
        "    ax.spines['bottom'].set_color('w')\n",
        "    ax.spines['top'].set_color('w')\n",
        "    ax.spines['right'].set_color('w')\n",
        "    ax.spines['left'].set_color('w')\n",
        "    ax.spines['left'].set_zorder(0)\n",
        "    ax.xaxis.set_ticks_position('none') \n",
        "    ax.yaxis.set_ticks_position('none') \n",
        "    \n",
        "    ax.set_facecolor(\"aliceblue\")\n",
        "    plt.grid(color = \"w\",linewidth = 2 )\n",
        "    slope, intercept, r_value, p_value, std_err = stats.linregress(user_hist, pop_metric)\n",
        "    print('R-value: ' + str(r_value))\n",
        "    line = slope * np.array(user_hist) + intercept\n",
        "    plt.plot(user_hist, pop_metric, 'o', user_hist, line)\n",
        "    plt.xlabel('User profile size', fontsize='15')\n",
        "    plt.xticks(fontsize='13')\n",
        "    if way == \"count\":\n",
        "        ylabel = \"Number of popular \"+item_col+\"s\"\n",
        "    elif way == \"percentage\":\n",
        "        ylabel = 'Percentage of popular '+item_col+'s'\n",
        "    else:\n",
        "        ylabel = \"Average popularity of \"+item_col+\"s\"\n",
        "    plt.ylabel(ylabel, fontsize='15')\n",
        "    plt.yticks(fontsize='13')\n",
        "    plt.show(block=True)"
      ]
    },
    {
      "cell_type": "code",
      "execution_count": 75,
      "metadata": {
        "colab": {
          "base_uri": "https://localhost:8080/",
          "height": 1000
        },
        "id": "WDFRIFsibZTI",
        "outputId": "a385b53a-f80b-4c47-82d0-b8d51ecfff4a"
      },
      "outputs": [
        {
          "output_type": "display_data",
          "data": {
            "text/plain": [
              "<Figure size 432x288 with 1 Axes>"
            ],
            "image/png": "[encoded data removed]"
          },
          "metadata": {}
        },
        {
          "output_type": "stream",
          "name": "stdout",
          "text": [
            "R-value: 0.9617464474616385\n"
          ]
        },
        {
          "output_type": "display_data",
          "data": {
            "text/plain": [
              "<Figure size 432x288 with 1 Axes>"
            ],
            "image/png": "[encoded data removed]"
          },
          "metadata": {}
        },
        {
          "output_type": "stream",
          "name": "stdout",
          "text": [
            "R-value: -0.056057853315537816\n"
          ]
        },
        {
          "output_type": "display_data",
          "data": {
            "text/plain": [
              "<Figure size 432x288 with 1 Axes>"
            ],
            "image/png": "[encoded data removed]"
          },
          "metadata": {}
        },
        {
          "output_type": "stream",
          "name": "stdout",
          "text": [
            "R-value: -0.2244508506298754\n"
          ]
        },
        {
          "output_type": "display_data",
          "data": {
            "text/plain": [
              "<Figure size 432x288 with 1 Axes>"
            ],
            "image/png": "[encoded data removed]"
          },
          "metadata": {}
        }
      ],
      "source": [
        "plot_popularity_distribution(pop_fraq, item_col)\n",
        "plot_profile_size_vs_popularity(pop_count,user_hist, \"count\", item_col)\n",
        "plot_profile_size_vs_popularity(pop_fraq,user_hist, \"percentage\", item_col)\n",
        "plot_profile_size_vs_popularity(pop_item_fraq,user_hist, \"average\", item_col)"
      ]
    },
    {
      "cell_type": "markdown",
      "metadata": {
        "id": "nZ-KPsOzbduG"
      },
      "source": [
        "## F. User groups"
      ]
    },
    {
      "cell_type": "code",
      "execution_count": 27,
      "metadata": {
        "id": "Dmf4J023byK4"
      },
      "outputs": [],
      "source": [
        "def plot_group_characteristics(low_nr, med_nr, high_nr, way, item_col):\n",
        "    plt.figure()\n",
        "    ax = plt.axes()\n",
        "    ax.spines['bottom'].set_color('w')\n",
        "    ax.spines['top'].set_color('w')\n",
        "    ax.spines['right'].set_color('w')\n",
        "    ax.spines['left'].set_color('w')\n",
        "    ax.spines['left'].set_zorder(0)\n",
        "    ax.xaxis.set_ticks_position('none') \n",
        "    ax.yaxis.set_ticks_position('none') \n",
        "    \n",
        "    ax.set_facecolor(\"aliceblue\")\n",
        "    plt.bar(np.arange(3), [low_nr, med_nr, high_nr])\n",
        "    plt.xticks(np.arange(3), ['LowMS', 'MedMS', 'HighMS'])\n",
        "    plt.xlabel('User group')\n",
        "    if way==\"size\":\n",
        "        ylabel = 'Average user profile size'\n",
        "    else:\n",
        "        ylabel = \"Number of users per group\"\n",
        "    plt.ylabel(ylabel)\n",
        "    \n",
        "    print('LowMS: ' + str(low_nr))\n",
        "    print('MedMS: ' + str(med_nr))\n",
        "    print('HighMS: ' + str(high_nr))\n",
        "    plt.show(block=True)"
      ]
    },
    {
      "cell_type": "code",
      "execution_count": 28,
      "metadata": {
        "colab": {
          "base_uri": "https://localhost:8080/",
          "height": 658
        },
        "id": "GByQlxuOb245",
        "outputId": "00ad01ad-9510-425e-c52b-ed03bc2de77b"
      },
      "outputs": [
        {
          "output_type": "stream",
          "name": "stdout",
          "text": [
            "LowMS: 600\n",
            "MedMS: 1800\n",
            "HighMS: 600\n"
          ]
        },
        {
          "output_type": "display_data",
          "data": {
            "text/plain": [
              "<Figure size 432x288 with 1 Axes>"
            ],
            "image/png": "[encoded data removed]"
          },
          "metadata": {}
        },
        {
          "output_type": "stream",
          "name": "stdout",
          "text": [
            "LowMS: 336.8666666666667\n",
            "MedMS: 385.24833333333333\n",
            "HighMS: 188.18666666666667\n"
          ]
        },
        {
          "output_type": "display_data",
          "data": {
            "text/plain": [
              "<Figure size 432x288 with 1 Axes>"
            ],
            "image/png": "[encoded data removed]"
          },
          "metadata": {}
        }
      ],
      "source": [
        "plot_group_characteristics(low_nr = low_nr_users, med_nr = med_nr_users, high_nr = high_nr_users, way = \"number\", item_col = item_col)\n",
        "plot_group_characteristics(low_profile_size, med_profile_size, high_profile_size, way = \"size\", item_col = item_col)"
      ]
    },
    {
      "cell_type": "code",
      "execution_count": 29,
      "metadata": {
        "id": "KFZkl3i4b5Ik"
      },
      "outputs": [],
      "source": [
        "# plot_data_distribution(item_dist, item_col, dividing = [True, top_fraction], log = False)\n",
        "# plot_popularity_distribution(pop_fraq, item_col, dividing = [True,top_fraction])"
      ]
    },
    {
      "cell_type": "code",
      "execution_count": 30,
      "metadata": {
        "id": "oCcJ8Rhflpth"
      },
      "outputs": [],
      "source": [
        "scaled_df_events = pd.DataFrame()\n",
        "for user_id, group in df_events.groupby('user'):  \n",
        "    scaler = MinMaxScaler(feature_range=(1, 1000)) #\"βαθμολογια\" 1 με 1000\n",
        "    scaled_ratings = scaler.fit_transform(group[predict_col].values.reshape(-1, 1).astype(float))\n",
        "    new_rows = group.copy()\n",
        "    new_rows[predict_col] = scaled_ratings\n",
        "    scaled_df_events = scaled_df_events.append(new_rows)"
      ]
    },
    {
      "cell_type": "code",
      "execution_count": 31,
      "metadata": {
        "id": "IfmTea9Hl3tV"
      },
      "outputs": [],
      "source": [
        "df_events = scaled_df_events"
      ]
    },
    {
      "cell_type": "markdown",
      "metadata": {
        "id": "gbQUQuRbcJ5H"
      },
      "source": [
        "## G. Recommendation"
      ]
    },
    {
      "cell_type": "code",
      "execution_count": 32,
      "metadata": {
        "colab": {
          "base_uri": "https://localhost:8080/",
          "height": 206
        },
        "id": "yJewyI61nSAv",
        "outputId": "49894dfb-60ef-4386-c1df-4caea912bad4"
      },
      "outputs": [
        {
          "output_type": "execute_result",
          "data": {
            "text/plain": [
              "      user  artist        rating\n",
              "0  1021445      12  184.22270742\n",
              "1  1021445      16    1.00000000\n",
              "2  1021445      28   27.17467249\n",
              "3  1021445      29    1.00000000\n",
              "4  1021445      46    1.00000000"
            ],
            "text/html": [
              "\n",
              "  <div id=\"df-450a7534-27fb-4cb2-9e84-a26643b233c4\">\n",
              "    <div class=\"colab-df-container\">\n",
              "      <div>\n",
              "<style scoped>\n",
              "    .dataframe tbody tr th:only-of-type {\n",
              "        vertical-align: middle;\n",
              "    }\n",
              "\n",
              "    .dataframe tbody tr th {\n",
              "        vertical-align: top;\n",
              "    }\n",
              "\n",
              "    .dataframe thead th {\n",
              "        text-align: right;\n",
              "    }\n",
              "</style>\n",
              "<table border=\"1\" class=\"dataframe\">\n",
              "  <thead>\n",
              "    <tr style=\"text-align: right;\">\n",
              "      <th></th>\n",
              "      <th>user</th>\n",
              "      <th>artist</th>\n",
              "      <th>rating</th>\n",
              "    </tr>\n",
              "  </thead>\n",
              "  <tbody>\n",
              "    <tr>\n",
              "      <th>0</th>\n",
              "      <td>1021445</td>\n",
              "      <td>12</td>\n",
              "      <td>184.22270742</td>\n",
              "    </tr>\n",
              "    <tr>\n",
              "      <th>1</th>\n",
              "      <td>1021445</td>\n",
              "      <td>16</td>\n",
              "      <td>1.00000000</td>\n",
              "    </tr>\n",
              "    <tr>\n",
              "      <th>2</th>\n",
              "      <td>1021445</td>\n",
              "      <td>28</td>\n",
              "      <td>27.17467249</td>\n",
              "    </tr>\n",
              "    <tr>\n",
              "      <th>3</th>\n",
              "      <td>1021445</td>\n",
              "      <td>29</td>\n",
              "      <td>1.00000000</td>\n",
              "    </tr>\n",
              "    <tr>\n",
              "      <th>4</th>\n",
              "      <td>1021445</td>\n",
              "      <td>46</td>\n",
              "      <td>1.00000000</td>\n",
              "    </tr>\n",
              "  </tbody>\n",
              "</table>\n",
              "</div>\n",
              "      <button class=\"colab-df-convert\" onclick=\"convertToInteractive('df-450a7534-27fb-4cb2-9e84-a26643b233c4')\"\n",
              "              title=\"Convert this dataframe to an interactive table.\"\n",
              "              style=\"display:none;\">\n",
              "        \n",
              "  <svg xmlns=\"http://www.w3.org/2000/svg\" height=\"24px\"viewBox=\"0 0 24 24\"\n",
              "       width=\"24px\">\n",
              "    <path d=\"M0 0h24v24H0V0z\" fill=\"none\"/>\n",
              "    <path d=\"M18.56 5.44l.94 2.06.94-2.06 2.06-.94-2.06-.94-.94-2.06-.94 2.06-2.06.94zm-11 1L8.5 8.5l.94-2.06 2.06-.94-2.06-.94L8.5 2.5l-.94 2.06-2.06.94zm10 10l.94 2.06.94-2.06 2.06-.94-2.06-.94-.94-2.06-.94 2.06-2.06.94z\"/><path d=\"M17.41 7.96l-1.37-1.37c-.4-.4-.92-.59-1.43-.59-.52 0-1.04.2-1.43.59L10.3 9.45l-7.72 7.72c-.78.78-.78 2.05 0 2.83L4 21.41c.39.39.9.59 1.41.59.51 0 1.02-.2 1.41-.59l7.78-7.78 2.81-2.81c.8-.78.8-2.07 0-2.86zM5.41 20L4 18.59l7.72-7.72 1.47 1.35L5.41 20z\"/>\n",
              "  </svg>\n",
              "      </button>\n",
              "      \n",
              "  <style>\n",
              "    .colab-df-container {\n",
              "      display:flex;\n",
              "      flex-wrap:wrap;\n",
              "      gap: 12px;\n",
              "    }\n",
              "\n",
              "    .colab-df-convert {\n",
              "      background-color: #E8F0FE;\n",
              "      border: none;\n",
              "      border-radius: 50%;\n",
              "      cursor: pointer;\n",
              "      display: none;\n",
              "      fill: #1967D2;\n",
              "      height: 32px;\n",
              "      padding: 0 0 0 0;\n",
              "      width: 32px;\n",
              "    }\n",
              "\n",
              "    .colab-df-convert:hover {\n",
              "      background-color: #E2EBFA;\n",
              "      box-shadow: 0px 1px 2px rgba(60, 64, 67, 0.3), 0px 1px 3px 1px rgba(60, 64, 67, 0.15);\n",
              "      fill: #174EA6;\n",
              "    }\n",
              "\n",
              "    [theme=dark] .colab-df-convert {\n",
              "      background-color: #3B4455;\n",
              "      fill: #D2E3FC;\n",
              "    }\n",
              "\n",
              "    [theme=dark] .colab-df-convert:hover {\n",
              "      background-color: #434B5C;\n",
              "      box-shadow: 0px 1px 3px 1px rgba(0, 0, 0, 0.15);\n",
              "      filter: drop-shadow(0px 1px 2px rgba(0, 0, 0, 0.3));\n",
              "      fill: #FFFFFF;\n",
              "    }\n",
              "  </style>\n",
              "\n",
              "      <script>\n",
              "        const buttonEl =\n",
              "          document.querySelector('#df-450a7534-27fb-4cb2-9e84-a26643b233c4 button.colab-df-convert');\n",
              "        buttonEl.style.display =\n",
              "          google.colab.kernel.accessAllowed ? 'block' : 'none';\n",
              "\n",
              "        async function convertToInteractive(key) {\n",
              "          const element = document.querySelector('#df-450a7534-27fb-4cb2-9e84-a26643b233c4');\n",
              "          const dataTable =\n",
              "            await google.colab.kernel.invokeFunction('convertToInteractive',\n",
              "                                                     [key], {});\n",
              "          if (!dataTable) return;\n",
              "\n",
              "          const docLinkHtml = 'Like what you see? Visit the ' +\n",
              "            '<a target=\"_blank\" href=https://colab.research.google.com/notebooks/data_table.ipynb>data table notebook</a>'\n",
              "            + ' to learn more about interactive tables.';\n",
              "          element.innerHTML = '';\n",
              "          dataTable['output_type'] = 'display_data';\n",
              "          await google.colab.output.renderOutput(dataTable, element);\n",
              "          const docLink = document.createElement('div');\n",
              "          docLink.innerHTML = docLinkHtml;\n",
              "          element.appendChild(docLink);\n",
              "        }\n",
              "      </script>\n",
              "    </div>\n",
              "  </div>\n",
              "  "
            ]
          },
          "metadata": {},
          "execution_count": 32
        }
      ],
      "source": [
        "df_events.head()"
      ]
    },
    {
      "cell_type": "markdown",
      "metadata": {
        "id": "yQyAB2jFcMnk"
      },
      "source": [
        "### G.1 Cornac\n",
        "The library used by the book paper. It contains many algorithms."
      ]
    },
    {
      "cell_type": "code",
      "execution_count": 33,
      "metadata": {
        "id": "uI-XJAWQpHkL"
      },
      "outputs": [],
      "source": [
        "df_events_cornac = df_events.copy()\n",
        "mapping_dict = {} # Create a dictionary that maps each artist to an integer.\n",
        "i=0\n",
        "for art in df_events_cornac[item_col].unique():\n",
        "    mapping_dict[art] = i\n",
        "    i+=1\n",
        "df_events_cornac[item_col] = df_events_cornac[item_col].map(lambda x: mapping_dict.get(x,x)) # Map in the ratings file"
      ]
    },
    {
      "cell_type": "code",
      "execution_count": 34,
      "metadata": {
        "id": "SVrTTaHBpZ04"
      },
      "outputs": [],
      "source": [
        "df_events_cornac.user = df_events_cornac.user.astype(\"string\")\n",
        "df_events_cornac.artist = df_events_cornac.artist.astype(\"string\")"
      ]
    },
    {
      "cell_type": "code",
      "execution_count": 35,
      "metadata": {
        "id": "Gom3rbXz5844"
      },
      "outputs": [],
      "source": [
        "df_item_dist_cornac = df_item_dist.rename(index = mapping_dict)"
      ]
    },
    {
      "cell_type": "code",
      "execution_count": 36,
      "metadata": {
        "id": "O8irZQHgcAV3"
      },
      "outputs": [],
      "source": [
        "data = list(df_events_cornac[[user_col,item_col,predict_col]].to_records(index = False))"
      ]
    },
    {
      "cell_type": "code",
      "source": [
        "data[:3]"
      ],
      "metadata": {
        "colab": {
          "base_uri": "https://localhost:8080/"
        },
        "id": "6xwY-QV2XWHA",
        "outputId": "926d0c98-577e-4584-dc88-751599cba83a"
      },
      "execution_count": 37,
      "outputs": [
        {
          "output_type": "execute_result",
          "data": {
            "text/plain": [
              "[('1021445', '0', 184.22270742),\n",
              " ('1021445', '1', 1.),\n",
              " ('1021445', '2', 27.17467249)]"
            ]
          },
          "metadata": {},
          "execution_count": 37
        }
      ]
    },
    {
      "cell_type": "code",
      "execution_count": 38,
      "metadata": {
        "id": "cZ0JGW8ppnn7"
      },
      "outputs": [],
      "source": [
        "# Split the data based on ratio\n",
        "rs = RatioSplit(data=data, test_size=test_size, rating_threshold=rating_threshold, seed=0)"
      ]
    },
    {
      "cell_type": "code",
      "source": [
        "all_items = set(range(rs.total_items)) # needed for later"
      ],
      "metadata": {
        "id": "i4m6M8oIIt1w"
      },
      "execution_count": 39,
      "outputs": []
    },
    {
      "cell_type": "code",
      "source": [
        "# Define the two different options for UserKNN, with and without mean centering\n",
        "usKNN = UserKNN(k=40, similarity = 'cosine', mean_centered=False, seed = my_seed, verbose=True)\n",
        "usKNN_means = UserKNN(k=40, similarity = 'cosine', mean_centered=True, seed = my_seed, verbose=True)"
      ],
      "metadata": {
        "id": "R07khWBlIuR6"
      },
      "execution_count": 40,
      "outputs": []
    },
    {
      "cell_type": "markdown",
      "source": [
        "#### Training"
      ],
      "metadata": {
        "id": "4nJxtu3WIv00"
      }
    },
    {
      "cell_type": "code",
      "execution_count": 41,
      "metadata": {
        "id": "rVXlmaIUqV0I"
      },
      "outputs": [],
      "source": [
        "# initialize models, here we are comparing: simple, traditional, and neural networks based models\n",
        "models = [\n",
        "          # 1: Random\n",
        "          # 2: MostPop\n",
        "          MostPop(),\n",
        "          # 3: UserKNN\n",
        "          usKNN,\n",
        "          # 4: ItemKNN\n",
        "          ItemKNN(k=40, similarity = 'cosine', mean_centered=False, seed = my_seed, verbose=True),\n",
        "          # 5: UserKNN with means\n",
        "          usKNN_means,\n",
        "          ## 6: BaselineOnly\n",
        "          #BaselineOnly(verbose=True),\n",
        "          # 7: BPR\n",
        "          BPR(k=10, max_iter=200, learning_rate=0.001, lambda_reg=0.01, seed=123, verbose=True),\n",
        "          # 8: MF\n",
        "          MF(k=30, max_iter=100, learning_rate=0.01, lambda_reg=0.001, seed=123, verbose=True),\n",
        "          # 9: PMF\n",
        "          PMF(k=10, max_iter=100, learning_rate=0.001, lambda_reg=0.001, verbose=True),\n",
        "          # 10: NMF\n",
        "          CornacNMF(k=15, max_iter=50, learning_rate=0.005, lambda_u=0.06, lambda_v=0.06, lambda_bu=0.02, lambda_bi=0.02, use_bias=False, verbose=True, seed=123),\n",
        "          # 11: WMF\n",
        "          WMF(k=50, max_iter=50, learning_rate=0.001, lambda_u=0.01, lambda_v=0.01, verbose=True, seed=123),\n",
        "          # 12: PF\n",
        "          HPF(k=50, seed=123, hierarchical=False, name=\"PF\", verbose=True),\n",
        "          # 13: NueMF\n",
        "          NeuMF(num_factors=8, layers=[32, 16, 8], act_fn=\"tanh\", num_epochs=1, num_neg=3, batch_size=256, lr=0.001, seed=42, verbose=True),\n",
        "          # 14: VAECF\n",
        "          VAECF(k=10, autoencoder_structure=[20], act_fn=\"tanh\", likelihood=\"mult\", n_epochs=100, batch_size=100, learning_rate=0.001, beta=1.0, seed=123, use_gpu=True, verbose=True)\n",
        "          ]"
      ]
    },
    {
      "cell_type": "code",
      "source": [
        "algo_names = [\"Random\",\n",
        "              \"MostPop\", \n",
        "              \"UserKNN\",\n",
        "              \"ItemKNN\", \n",
        "              \"UserKNN with means\", \n",
        "              \"BPR\",\n",
        "              \"MF\",\n",
        "              \"PMF\",\n",
        "              \"NMF\",\n",
        "              \"WMF\",\n",
        "              \"HPF\",\n",
        "              \"NeuMF\",\n",
        "              \"VAECF\"\n",
        "              ] # in the order that they are in the model list"
      ],
      "metadata": {
        "id": "zfF7zmBlI3K3"
      },
      "execution_count": 42,
      "outputs": []
    },
    {
      "cell_type": "code",
      "execution_count": 43,
      "metadata": {
        "id": "w-4yhJQOqXv3",
        "outputId": "0cff4152-8656-4781-ec19-6739d45e0ba1",
        "colab": {
          "base_uri": "https://localhost:8080/",
          "height": 1000,
          "referenced_widgets": [
            "a277ec57efff460eb68675bff65369a5",
            "1187c484f63949928c588b3cc91a3544",
            "6e0f275a1330449aadd689e9cb34c1b8",
            "6ee5b3d3534f495ea9ae6f474818e849",
            "4a55579f72fc4e979d884a54d201e8de",
            "13435784194545ec96666a0b364802b3",
            "e1302c19833b45d1a22f0bcabcfe8f18",
            "ed9d099bbab94c0187732c6127797b33",
            "7b63f8e456f6402eaf3ec7a13c4bebe8",
            "53174a9af6d24d39886ce287bdc9501d",
            "c58999f50231403290512ef094fae78b",
            "741386dd13dd4910ac830bd0ce558ea3",
            "23260e17db0f4712955e94eaf50e43fc",
            "995cb11c45834b53982edcaa158fb994",
            "6b64006a3e9b4065adfce1c66e60a269",
            "438056719f104af798671dc922d38e80",
            "3ed55a294b4b4de8a44c36ede69c5b91",
            "82e6df799546495cbb02b3f8f39974f8",
            "c0378c2f9eda40368d83a583c49b81b2",
            "d9d49b950f3d48b881b2a75cb37e29ba",
            "e3790363ec084e23919e818bfdbbaf5e",
            "fbf3ae810e764b3f8e86f05207372ed4",
            "2eb1e08bfed0487ebd14bdc24bfc3bcf",
            "fa0d8500a8434ff6a26099d3364b785e",
            "a7bfb4f0e24148168386bbfc65b807af",
            "c898fd6643e0405caf0f9749b062b53e",
            "df0f4dd9ad7b41acbb78e951a08c3803",
            "6d52034e467146178926219d6bcc7a01",
            "b2841ae6c88a4929b1be95e4807e5acf",
            "c446d5dc493a4cb6883ca8f484fcfe06",
            "b0beb1e168924a7ab2137af0052a6332",
            "edb5da79de04412da972a56f4b4cf246",
            "9556b4e73cda4f48ac22aabb0032f5cf",
            "6869b4ab14fc453e87894eb519b3ee53",
            "860c9a5d1ffe4113b35c6e3ddcf7e256",
            "b28f565629744e109fe68474ac5980da",
            "9a077a581fe34d34ab0c39e3b152dbc2",
            "3f216da6dd8e469c87036023da16750a",
            "7639fab1cb4b4f349b26b7839a8edca3",
            "c9f535d3b5c644469af72a3f0d17d15b",
            "39e52c08513b4624b31626fcefcd6b6d",
            "6b2d40e609e64319ade00a623cf75697",
            "00407b4bf2504ceeac867ef86e5a8f26",
            "4f3ae42dbe224747bfaba84cfd0b8525",
            "04dd975adb724fda869bc6511bfb2d18",
            "def3401ca9564aa99cba56ef4727d76b",
            "c27ff0356e6f4404a2dee3323a524a77",
            "8bc4b7491f9e41e087696fa4f1ff2002",
            "91bdb9b163264494b1819269af7a6924",
            "2ab27320e740492fbe11b0ff049fcc68",
            "27137e34792f4b32b8d6753df63e3bbc",
            "e3749963c3f94543b70348479bf11b22",
            "a707d1f84ee84b4c996a27c8487a1692",
            "1ae5e217b7a347f596808fa5005f105e",
            "5035e4d810354757b4b71b012414b582",
            "384db7ad154d49e0a214910317004d7c",
            "8bc155d5c808439c907c2c2d00cf48d7",
            "715d1578b11f4e44ac6710f4a9f49697",
            "09c08c8fb8e648539cd20e5c498221f8",
            "6a94bd8148c24780b2e0fb6ea6ebe4f9",
            "f9346850c6394677b0e348a036dde180",
            "d94b9d26ffb44684a4b488c6311c371b",
            "78ac521e643644589ef4a8c248de59ce",
            "7ebf9e11b5a443d983c1a450c74d3826",
            "db5560ce21dd41998ee53cb55878a950",
            "9ece7c0a4009410f910ae70b1e5cae48",
            "33ae2aa2c4274d3e90069cc7da0268d6",
            "c14bb0f450c04681ba80cc2d5cfddbce",
            "48216479f46449008a8b118aec47baf4",
            "b1993b53e4f94e9cbd355715cb6c0d06",
            "8b3e007512754f0eb44772d65bd37cbb",
            "28bf3463ad2847a289d37c59adb5379b",
            "a95250fbcf2b4075a2e5de22c1b0bae9",
            "ab5d7b2a7d444a03bfc090ef25c5cc17",
            "c80a2a9b818443959e64af63d5a29c4f",
            "b6917a8777ad4c88bbd37e8048af52e7",
            "6556f198f0d64b7696d75346c2007d2b",
            "8a92771ec8054276b1193712aee96611",
            "77616e9d0fbe4cc893e9a81b46e158b5",
            "86c0b1b4b141496f9b6b7e490c317836",
            "58445b346b3d48d78dc4734e84b021e3",
            "01a095be3dd040c1b8c06e6424d59458",
            "8de715121b7b4d5986a1845f87b162e8",
            "9d9bb0bf72f145eb8af1fcc21b3fc27b",
            "04fc31ed442f42fa8c1ad837130438f5",
            "b9be135cf18e4fd4a58bffe2fb9fcb36",
            "1c5d780a75c34d08b00fcfb713ca92bb",
            "45d5b09150504cffa5b490bb9ca63be2",
            "b7b58f4b394940919405479f92c7bcab",
            "06459d42d9bb4fc18e91e9b0159494dd",
            "4a01644a58e047498bd7d004c771ba51",
            "071fd79e37df451390dbf8f6f722344e",
            "79d84cad5b5e42759f4031245b1e9205",
            "e017b1f4188540a5b0897f1784a57803",
            "13e73189f8e4418889aa20d3c26eef11",
            "ce56c6cc65f440f9b05adb08810724f7",
            "338a5a7339464b709dc3e2ce553dca76",
            "1135eea6e4ae480ba2b74af2be8973f0",
            "a5b80bc1ec774e86ba0b57baf5a153a0"
          ]
        }
      },
      "outputs": [
        {
          "data": {
            "application/vnd.jupyter.widget-view+json": {
              "model_id": "a277ec57efff460eb68675bff65369a5",
              "version_major": 2,
              "version_minor": 0
            },
            "text/plain": [
              "  0%|          | 0/3000 [00:00<?, ?it/s]"
            ]
          },
          "metadata": {},
          "output_type": "display_data"
        },
        {
          "data": {
            "application/vnd.jupyter.widget-view+json": {
              "model_id": "741386dd13dd4910ac830bd0ce558ea3",
              "version_major": 2,
              "version_minor": 0
            },
            "text/plain": [
              "  0%|          | 0/12690 [00:00<?, ?it/s]"
            ]
          },
          "metadata": {},
          "output_type": "display_data"
        },
        {
          "data": {
            "application/vnd.jupyter.widget-view+json": {
              "model_id": "2eb1e08bfed0487ebd14bdc24bfc3bcf",
              "version_major": 2,
              "version_minor": 0
            },
            "text/plain": [
              "  0%|          | 0/3000 [00:00<?, ?it/s]"
            ]
          },
          "metadata": {},
          "output_type": "display_data"
        },
        {
          "data": {
            "application/vnd.jupyter.widget-view+json": {
              "model_id": "6869b4ab14fc453e87894eb519b3ee53",
              "version_major": 2,
              "version_minor": 0
            },
            "text/plain": [
              "  0%|          | 0/200 [00:00<?, ?it/s]"
            ]
          },
          "metadata": {},
          "output_type": "display_data"
        },
        {
          "metadata": {
            "tags": null
          },
          "name": "stdout",
          "output_type": "stream",
          "text": [
            "Optimization finished!\n"
          ]
        },
        {
          "data": {
            "application/vnd.jupyter.widget-view+json": {
              "model_id": "04dd975adb724fda869bc6511bfb2d18",
              "version_major": 2,
              "version_minor": 0
            },
            "text/plain": [
              "  0%|          | 0/100 [00:00<?, ?it/s]"
            ]
          },
          "metadata": {},
          "output_type": "display_data"
        },
        {
          "metadata": {
            "tags": null
          },
          "name": "stdout",
          "output_type": "stream",
          "text": [
            "Optimization finished!\n",
            "Learning...\n",
            "epoch 0, loss: 155084.796066\n",
            "epoch 1, loss: 86975.061783\n",
            "epoch 2, loss: 53418.749663\n",
            "epoch 3, loss: 38709.684058\n",
            "epoch 4, loss: 30908.752813\n",
            "epoch 5, loss: 26151.894522\n",
            "epoch 6, loss: 23008.108092\n",
            "epoch 7, loss: 20840.053146\n",
            "epoch 8, loss: 19296.269270\n",
            "epoch 9, loss: 18163.060215\n",
            "epoch 10, loss: 17307.567131\n",
            "epoch 11, loss: 16645.596483\n",
            "epoch 12, loss: 16122.517978\n",
            "epoch 13, loss: 15701.942342\n",
            "epoch 14, loss: 15358.960617\n",
            "epoch 15, loss: 15076.048771\n",
            "epoch 16, loss: 14840.543998\n",
            "epoch 17, loss: 14643.062928\n",
            "epoch 18, loss: 14476.492447\n",
            "epoch 19, loss: 14335.331996\n",
            "epoch 20, loss: 14215.253791\n",
            "epoch 21, loss: 14112.801287\n",
            "epoch 22, loss: 14025.176958\n",
            "epoch 23, loss: 13950.090024\n",
            "epoch 24, loss: 13885.645940\n",
            "epoch 25, loss: 13830.265046\n",
            "epoch 26, loss: 13782.621198\n",
            "epoch 27, loss: 13741.594617\n",
            "epoch 28, loss: 13706.235288\n",
            "epoch 29, loss: 13675.734139\n",
            "epoch 30, loss: 13649.400158\n",
            "epoch 31, loss: 13626.642038\n",
            "epoch 32, loss: 13606.953358\n",
            "epoch 33, loss: 13589.900352\n",
            "epoch 34, loss: 13575.111621\n",
            "epoch 35, loss: 13562.269287\n",
            "epoch 36, loss: 13551.101383\n",
            "epoch 37, loss: 13541.375332\n",
            "epoch 38, loss: 13532.892305\n",
            "epoch 39, loss: 13525.482333\n",
            "epoch 40, loss: 13519.000064\n",
            "epoch 41, loss: 13513.321100\n",
            "epoch 42, loss: 13508.338850\n",
            "epoch 43, loss: 13503.961891\n",
            "epoch 44, loss: 13500.111645\n",
            "epoch 45, loss: 13496.720501\n",
            "epoch 46, loss: 13493.730145\n",
            "epoch 47, loss: 13491.090211\n",
            "epoch 48, loss: 13488.757100\n",
            "epoch 49, loss: 13486.693017\n",
            "epoch 50, loss: 13484.865144\n",
            "epoch 51, loss: 13483.244939\n",
            "epoch 52, loss: 13481.807542\n",
            "epoch 53, loss: 13480.531285\n",
            "epoch 54, loss: 13479.397228\n",
            "epoch 55, loss: 13478.388807\n",
            "epoch 56, loss: 13477.491512\n",
            "epoch 57, loss: 13476.692595\n",
            "epoch 58, loss: 13475.980866\n",
            "epoch 59, loss: 13475.346467\n",
            "epoch 60, loss: 13474.780705\n",
            "epoch 61, loss: 13474.275913\n",
            "epoch 62, loss: 13473.825317\n",
            "epoch 63, loss: 13473.422918\n",
            "epoch 64, loss: 13473.063406\n",
            "epoch 65, loss: 13472.742075\n",
            "epoch 66, loss: 13472.454747\n",
            "epoch 67, loss: 13472.197707\n",
            "epoch 68, loss: 13471.967654\n",
            "epoch 69, loss: 13471.761654\n",
            "epoch 70, loss: 13471.577088\n",
            "epoch 71, loss: 13471.411624\n",
            "epoch 72, loss: 13471.263175\n",
            "epoch 73, loss: 13471.129892\n",
            "epoch 74, loss: 13471.010105\n",
            "epoch 75, loss: 13470.902332\n",
            "epoch 76, loss: 13470.805242\n",
            "epoch 77, loss: 13470.717641\n",
            "epoch 78, loss: 13470.638458\n",
            "epoch 79, loss: 13470.566739\n",
            "epoch 80, loss: 13470.501618\n",
            "epoch 81, loss: 13470.442317\n",
            "epoch 82, loss: 13470.388144\n",
            "epoch 83, loss: 13470.338462\n",
            "epoch 84, loss: 13470.292709\n",
            "epoch 85, loss: 13470.250365\n",
            "epoch 86, loss: 13470.210966\n",
            "epoch 87, loss: 13470.174092\n",
            "epoch 88, loss: 13470.139353\n",
            "epoch 89, loss: 13470.106403\n",
            "epoch 90, loss: 13470.074919\n",
            "epoch 91, loss: 13470.044606\n",
            "epoch 92, loss: 13470.015189\n",
            "epoch 93, loss: 13469.986422\n",
            "epoch 94, loss: 13469.958070\n",
            "epoch 95, loss: 13469.929906\n",
            "epoch 96, loss: 13469.901731\n",
            "epoch 97, loss: 13469.873348\n",
            "epoch 98, loss: 13469.844566\n",
            "epoch 99, loss: 13469.815205\n",
            "Learning completed\n"
          ]
        },
        {
          "data": {
            "application/vnd.jupyter.widget-view+json": {
              "model_id": "384db7ad154d49e0a214910317004d7c",
              "version_major": 2,
              "version_minor": 0
            },
            "text/plain": [
              "  0%|          | 0/50 [00:00<?, ?it/s]"
            ]
          },
          "metadata": {},
          "output_type": "display_data"
        },
        {
          "metadata": {
            "tags": null
          },
          "name": "stdout",
          "output_type": "stream",
          "text": [
            "Optimization finished!\n"
          ]
        },
        {
          "data": {
            "application/vnd.jupyter.widget-view+json": {
              "model_id": "33ae2aa2c4274d3e90069cc7da0268d6",
              "version_major": 2,
              "version_minor": 0
            },
            "text/plain": [
              "  0%|          | 0/50 [00:00<?, ?it/s]"
            ]
          },
          "metadata": {},
          "output_type": "display_data"
        },
        {
          "output_type": "stream",
          "name": "stdout",
          "text": [
            "Learning completed!\n",
            "Learning...\n",
            "Learning completed!\n"
          ]
        },
        {
          "output_type": "display_data",
          "data": {
            "text/plain": [
              "  0%|          | 0/1 [00:00<?, ?it/s]"
            ],
            "application/vnd.jupyter.widget-view+json": {
              "version_major": 2,
              "version_minor": 0,
              "model_id": "8a92771ec8054276b1193712aee96611"
            }
          },
          "metadata": {}
        },
        {
          "output_type": "display_data",
          "data": {
            "text/plain": [
              "  0%|          | 0/100 [00:00<?, ?it/s]"
            ],
            "application/vnd.jupyter.widget-view+json": {
              "version_major": 2,
              "version_minor": 0,
              "model_id": "b7b58f4b394940919405479f92c7bcab"
            }
          },
          "metadata": {}
        },
        {
          "output_type": "stream",
          "name": "stdout",
          "text": [
            "\n",
            "TEST:\n",
            "...\n",
            "        |      MAE | Train (s) | Test (s)\n",
            "------- + -------- + --------- + --------\n",
            "MostPop | 193.9530 |    0.0655 |   3.0797\n",
            "UserKNN |  66.5476 |    1.7670 |  31.7022\n",
            "ItemKNN |  65.7395 |   13.3425 |  43.4721\n",
            "UserKNN |  67.1216 |    1.3953 |  30.1755\n",
            "BPR     |  58.0693 |   56.6156 |   4.1809\n",
            "MF      |      nan |    6.8763 |   3.7426\n",
            "PMF     |  72.1270 |   42.9140 |   4.1993\n",
            "NMF     |  57.4447 |    5.0255 |   4.3694\n",
            "WMF     |  55.5922 |   88.5483 |   3.8124\n",
            "PF      |  54.6662 | 1217.1104 |   3.1300\n",
            "NeuMF   |  58.3551 |   88.3599 | 121.7277\n",
            "VAECF   |  58.3551 |  228.2380 | 139.0968\n",
            "\n",
            "2143 seconds.\n"
          ]
        }
      ],
      "source": [
        "# define metrics to evaluate the models\n",
        "metrics = [MAE()]\n",
        "\n",
        "# put it together in an experiment, voilà!\n",
        "start = time.time()\n",
        "exp = cornac.Experiment(eval_method=rs, models=models, metrics=metrics, user_based=True)\n",
        "exp.run()\n",
        "end = time.time()\n",
        "print(round(end-start), \"seconds.\")"
      ]
    },
    {
      "cell_type": "markdown",
      "source": [
        "#### Ranking and recommendation\n",
        "We have identified three evaluation strategies:\n",
        "1. For every user in the **train set** rank **all items**. | Book paper, *eva_one*\n",
        "2. For every user in the **test set** rank **only the items this user has rated in the test set**. | Music paper, *eva_two*\n",
        "3. For every user in the **test set** rank **only the items this user has NOT rated in the train set**. | Movie(?) paper, *eva_three*\n",
        "\n",
        "For every evaluation strategy, we define a function that recommends the appropriate items to the appropriate users as described above. "
      ],
      "metadata": {
        "id": "TLj0fpWeI9Z0"
      }
    },
    {
      "cell_type": "code",
      "execution_count": 44,
      "metadata": {
        "id": "1Ft6Cw5sqxYp"
      },
      "outputs": [],
      "source": [
        "def get_top_n_eva_one(algo_name,i, n=10):\n",
        "  model = exp.models[i]\n",
        "  print(algo_name + \" model is selected:\")\n",
        "  top_n = defaultdict(list)\n",
        "  for uid in tqdm(model.train_set.uid_map.values()): # every user in the train set\n",
        "    user_id = list(model.train_set.user_ids)[uid]\n",
        "    item_rank = model.rank(user_idx=uid)[0] # all\n",
        "    # collect top N items\n",
        "    item_rank_top = item_rank[:n]\n",
        "    for iid in item_rank_top:\n",
        "      item_id = list(model.train_set.item_ids)[iid]\n",
        "      top_n[int(user_id)].append((int(item_id), model.score(uid, iid)))\n",
        "  return top_n"
      ]
    },
    {
      "cell_type": "code",
      "source": [
        "def get_top_n_eva_two(algo_name,i, n=10):\n",
        "  model = exp.models[i]\n",
        "  print(algo_name + \" model is selected:\")\n",
        "  top_n = defaultdict(list)\n",
        "  for uid in tqdm(rs.test_set.uid_map.values()): # every user in the test set\n",
        "    user_id = list(rs.train_set.user_ids)[uid]\n",
        "    user_items_in_the_test_set = rs.test_set.user_data[uid][0] \n",
        "    \n",
        "    item_rank = model.rank(user_idx=uid, item_indices = user_items_in_the_test_set)[0] # items the user has rated in the test set \n",
        "    item_rank_top = item_rank[:n]\n",
        "    for iid in item_rank_top:\n",
        "      item_id = list(model.train_set.item_ids)[iid]\n",
        "      top_n[int(user_id)].append((int(item_id), model.score(uid, iid)))\n",
        "  return top_n"
      ],
      "metadata": {
        "id": "tbDb589QJCSD"
      },
      "execution_count": 45,
      "outputs": []
    },
    {
      "cell_type": "code",
      "source": [
        "def get_top_n_eva_three(algo_name,i, n=10):\n",
        "  model = exp.models[i]\n",
        "  print(algo_name + \" model is selected:\")\n",
        "  top_n = defaultdict(list)\n",
        "\n",
        "  for uid in tqdm(rs.test_set.uid_map.values()): # every user in the test set\n",
        "    user_id = list(rs.train_set.user_ids)[uid]\n",
        "    user_items_in_the_train_set = set(rs.train_set.user_data[uid][0])\n",
        "    user_items_not_in_the_train_set = list(all_items.difference(user_items_in_the_train_set))\n",
        "    \n",
        "    item_rank = model.rank(user_idx=uid, item_indices = user_items_not_in_the_train_set)[0] # items the user has NOT rated in the TRAIN set\n",
        "    item_rank_top = item_rank[:n]\n",
        "    for iid in item_rank_top:\n",
        "      item_id = list(model.train_set.item_ids)[iid]\n",
        "      top_n[int(user_id)].append((int(item_id), model.score(uid, iid)))\n",
        "  return top_n"
      ],
      "metadata": {
        "id": "n0NaIhj9JD2U"
      },
      "execution_count": 46,
      "outputs": []
    },
    {
      "cell_type": "code",
      "execution_count": 47,
      "metadata": {
        "id": "nU1sU9Q_qy_J"
      },
      "outputs": [],
      "source": [
        "# random recommendation algorithm, same for every strategy \n",
        "def get_top_n_random(n=10):\n",
        "    print(\"Random model is selected:\")\n",
        "    top_n = defaultdict(list)\n",
        "\n",
        "    for uid in tqdm(rs.test_set.uid_map.values()): # every user in the test set\n",
        "      if uid not in top_n.keys():\n",
        "        user_id = list(rs.train_set.user_ids)[uid]\n",
        "        user_items_in_the_train_set = set(rs.train_set.user_data[uid][0])\n",
        "        user_items_not_in_the_train_set = list(all_items.difference(user_items_in_the_train_set)) # random choice out of the items that the user has NOT rated in the train set\n",
        "        for i in range(0, n):\n",
        "          top_n[int(user_id)].append((int(rd.choice(user_items_not_in_the_train_set)), i))\n",
        "          \n",
        "    return top_n"
      ]
    },
    {
      "cell_type": "markdown",
      "source": [
        "##### Recommendation"
      ],
      "metadata": {
        "id": "RVT3_izuJKDr"
      }
    },
    {
      "cell_type": "markdown",
      "source": [
        "Choose evaluation strategy."
      ],
      "metadata": {
        "id": "yFBvV_oJJMHd"
      }
    },
    {
      "cell_type": "code",
      "source": [
        "evaluation_function = {'eva_one':get_top_n_eva_one,\n",
        "             'eva_two': get_top_n_eva_two,\n",
        "             'eva_three': get_top_n_eva_three}"
      ],
      "metadata": {
        "id": "Vs7ZmvhAJNyv"
      },
      "execution_count": 48,
      "outputs": []
    },
    {
      "cell_type": "code",
      "source": [
        "choice = 'eva_three'\n",
        "# to be manually set!!! "
      ],
      "metadata": {
        "id": "dsRaIazUJOh5"
      },
      "execution_count": 63,
      "outputs": []
    },
    {
      "cell_type": "markdown",
      "source": [
        "### Prediction\n",
        "Run it when different evaluation strategy is chosen."
      ],
      "metadata": {
        "id": "UsGIvpnytHsf"
      }
    },
    {
      "cell_type": "code",
      "source": [
        "algo_dict = {}\n",
        "for i in range(0, len(algo_names)):\n",
        "    if algo_names[i] == 'Random':\n",
        "      top_n = get_top_n_random(n=10)\n",
        "    else:\n",
        "      top_n = evaluation_function[choice](algo_names[i],i-1, n=10)\n",
        "    algo_dict[algo_names[i]] = top_n.items()"
      ],
      "metadata": {
        "colab": {
          "base_uri": "https://localhost:8080/"
        },
        "id": "LlsfsKMptCjt",
        "outputId": "e685b79f-213e-4bb2-b7e3-3400840e5867"
      },
      "execution_count": 64,
      "outputs": [
        {
          "output_type": "stream",
          "name": "stdout",
          "text": [
            "Random model is selected:\n"
          ]
        },
        {
          "output_type": "stream",
          "name": "stderr",
          "text": [
            "100%|██████████| 3000/3000 [00:04<00:00, 667.62it/s] \n"
          ]
        },
        {
          "output_type": "stream",
          "name": "stdout",
          "text": [
            "MostPop model is selected:\n"
          ]
        },
        {
          "output_type": "stream",
          "name": "stderr",
          "text": [
            "100%|██████████| 3000/3000 [01:06<00:00, 44.80it/s]\n"
          ]
        },
        {
          "output_type": "stream",
          "name": "stdout",
          "text": [
            "UserKNN model is selected:\n"
          ]
        },
        {
          "output_type": "stream",
          "name": "stderr",
          "text": [
            "100%|██████████| 3000/3000 [03:54<00:00, 12.80it/s]\n"
          ]
        },
        {
          "output_type": "stream",
          "name": "stdout",
          "text": [
            "ItemKNN model is selected:\n"
          ]
        },
        {
          "output_type": "stream",
          "name": "stderr",
          "text": [
            "100%|██████████| 3000/3000 [21:38<00:00,  2.31it/s]\n"
          ]
        },
        {
          "output_type": "stream",
          "name": "stdout",
          "text": [
            "UserKNN with means model is selected:\n"
          ]
        },
        {
          "output_type": "stream",
          "name": "stderr",
          "text": [
            "100%|██████████| 3000/3000 [03:56<00:00, 12.71it/s]\n"
          ]
        },
        {
          "output_type": "stream",
          "name": "stdout",
          "text": [
            "BPR model is selected:\n"
          ]
        },
        {
          "output_type": "stream",
          "name": "stderr",
          "text": [
            "100%|██████████| 3000/3000 [01:20<00:00, 37.12it/s]\n"
          ]
        },
        {
          "output_type": "stream",
          "name": "stdout",
          "text": [
            "MF model is selected:\n"
          ]
        },
        {
          "output_type": "stream",
          "name": "stderr",
          "text": [
            "100%|██████████| 3000/3000 [01:16<00:00, 39.01it/s]\n"
          ]
        },
        {
          "output_type": "stream",
          "name": "stdout",
          "text": [
            "PMF model is selected:\n"
          ]
        },
        {
          "output_type": "stream",
          "name": "stderr",
          "text": [
            "100%|██████████| 3000/3000 [01:36<00:00, 31.19it/s]\n"
          ]
        },
        {
          "output_type": "stream",
          "name": "stdout",
          "text": [
            "NMF model is selected:\n"
          ]
        },
        {
          "output_type": "stream",
          "name": "stderr",
          "text": [
            "100%|██████████| 3000/3000 [01:22<00:00, 36.22it/s]\n"
          ]
        },
        {
          "output_type": "stream",
          "name": "stdout",
          "text": [
            "WMF model is selected:\n"
          ]
        },
        {
          "output_type": "stream",
          "name": "stderr",
          "text": [
            "100%|██████████| 3000/3000 [01:37<00:00, 30.74it/s]\n"
          ]
        },
        {
          "output_type": "stream",
          "name": "stdout",
          "text": [
            "HPF model is selected:\n"
          ]
        },
        {
          "output_type": "stream",
          "name": "stderr",
          "text": [
            "100%|██████████| 3000/3000 [01:40<00:00, 29.78it/s]\n"
          ]
        },
        {
          "output_type": "stream",
          "name": "stdout",
          "text": [
            "NeuMF model is selected:\n"
          ]
        },
        {
          "output_type": "stream",
          "name": "stderr",
          "text": [
            "100%|██████████| 3000/3000 [02:02<00:00, 24.53it/s]\n"
          ]
        },
        {
          "output_type": "stream",
          "name": "stdout",
          "text": [
            "VAECF model is selected:\n"
          ]
        },
        {
          "output_type": "stream",
          "name": "stderr",
          "text": [
            "100%|██████████| 3000/3000 [01:52<00:00, 26.69it/s]\n"
          ]
        }
      ]
    },
    {
      "cell_type": "markdown",
      "source": [
        "### Evaluation\n",
        "Run it when different popularity notion is chosen."
      ],
      "metadata": {
        "id": "Sj_80RSJtJXC"
      }
    },
    {
      "cell_type": "code",
      "execution_count": 84,
      "metadata": {
        "id": "1_TRKhBJq02Y",
        "outputId": "c7637339-5fba-404a-db8e-1977525c0274",
        "colab": {
          "base_uri": "https://localhost:8080/"
        }
      },
      "outputs": [
        {
          "output_type": "stream",
          "name": "stderr",
          "text": [
            "100%|██████████| 3000/3000 [00:11<00:00, 254.60it/s]\n",
            "100%|██████████| 3000/3000 [00:13<00:00, 227.77it/s]\n",
            "100%|██████████| 3000/3000 [00:10<00:00, 277.43it/s]\n",
            "100%|██████████| 3000/3000 [00:10<00:00, 276.92it/s]\n",
            "100%|██████████| 3000/3000 [00:10<00:00, 275.30it/s]\n",
            "100%|██████████| 3000/3000 [00:10<00:00, 279.10it/s]\n",
            "100%|██████████| 3000/3000 [00:14<00:00, 200.45it/s]\n",
            "100%|██████████| 3000/3000 [00:10<00:00, 279.15it/s]\n",
            "100%|██████████| 3000/3000 [00:11<00:00, 271.70it/s]\n",
            "100%|██████████| 3000/3000 [00:11<00:00, 271.40it/s]\n",
            "100%|██████████| 3000/3000 [00:10<00:00, 277.86it/s]\n",
            "100%|██████████| 3000/3000 [00:14<00:00, 203.98it/s]\n",
            "100%|██████████| 3000/3000 [00:11<00:00, 256.71it/s]"
          ]
        },
        {
          "output_type": "stream",
          "name": "stdout",
          "text": [
            "153 seconds.\n"
          ]
        },
        {
          "output_type": "stream",
          "name": "stderr",
          "text": [
            "\n"
          ]
        }
      ],
      "source": [
        "start = time.time()\n",
        "i = 0\n",
        "low_rec_gap_list = [] # one entry per algorithm\n",
        "medium_rec_gap_list = []\n",
        "high_rec_gap_list = []\n",
        "\n",
        "for i in range(0, len(algo_names)):\n",
        "    \n",
        "    df_item_dist_cornac[algo_names[i]] = 0\n",
        "    \n",
        "    low_rec_gap = 0\n",
        "    medium_rec_gap = 0\n",
        "    high_rec_gap = 0\n",
        "    \n",
        "    low_count = 0\n",
        "    med_count = 0\n",
        "    high_count = 0\n",
        "\n",
        "    top = algo_dict[algo_names[i]]\n",
        "    for uid, user_ratings in tqdm(top):\n",
        "        iid_list = []\n",
        "        for (iid, _) in user_ratings:\n",
        "            df_item_dist_cornac.loc[iid, algo_names[i]] += 1\n",
        "            iid_list.append(iid)\n",
        "        gap = sum(df_item_dist_cornac[\"count\"].loc[iid_list]) / len(iid_list)\n",
        "        if uid in low.index:\n",
        "            low_rec_gap += gap\n",
        "            low_count += 1\n",
        "        elif uid in med.index:\n",
        "            medium_rec_gap += gap\n",
        "            med_count += 1\n",
        "        elif uid in high.index:\n",
        "            high_rec_gap += gap\n",
        "            high_count += 1\n",
        "        else:\n",
        "          print(\"hi\")\n",
        "    low_rec_gap_list.append(low_rec_gap / low_count)\n",
        "    medium_rec_gap_list.append(medium_rec_gap / med_count)\n",
        "    high_rec_gap_list.append(high_rec_gap / high_count)\n",
        "    i += 1 # next algorithm\n",
        "end = time.time()\n",
        "print(round(end-start), \"seconds.\")"
      ]
    },
    {
      "cell_type": "code",
      "source": [],
      "metadata": {
        "id": "VTPlkUDYs6d6"
      },
      "execution_count": 84,
      "outputs": []
    },
    {
      "cell_type": "markdown",
      "metadata": {
        "id": "hRQ9ZID5-kfv"
      },
      "source": [
        "### Cornac results."
      ]
    },
    {
      "cell_type": "code",
      "execution_count": 85,
      "metadata": {
        "id": "P-9L1R_x-ftU"
      },
      "outputs": [],
      "source": [
        "# sns.set(rc = {'figure.figsize':(5,4)})\n",
        "# for i in range(0, len(algo_names)):\n",
        "#     plt.figure()\n",
        "#     x = df_item_dist_cornac[\"count\"]\n",
        "#     y = df_item_dist_cornac[algo_names[i]]\n",
        "\n",
        "#     plt.plot(x, y, 'o')\n",
        "#     plt.title(algo_names[i])\n",
        "#     plt.xlabel('Artist popularity', fontsize='15')\n",
        "#     plt.ylabel('Recommendation frequency', fontsize='15')\n",
        "#     plt.xticks(fontsize='13')\n",
        "#     plt.yticks(fontsize='13')"
      ]
    },
    {
      "cell_type": "code",
      "execution_count": 86,
      "metadata": {
        "id": "tqyKuR-m-oaX"
      },
      "outputs": [],
      "source": [
        "low_gap_vals = []\n",
        "medium_gap_vals = []\n",
        "high_gap_vals = []\n",
        "\n",
        "for i in range(0, len(algo_names)):\n",
        "    low_gap_vals.append((low_rec_gap_list[i] - low_GAP) / low_GAP * 100)\n",
        "    medium_gap_vals.append((medium_rec_gap_list[i] - med_GAP) / med_GAP * 100)\n",
        "    high_gap_vals.append((high_rec_gap_list[i] - high_GAP) / high_GAP * 100)"
      ]
    },
    {
      "cell_type": "code",
      "execution_count": 87,
      "metadata": {
        "id": "NKtB9KZj-56B"
      },
      "outputs": [],
      "source": [
        "# sns.set(rc = {'figure.figsize':(8,4)})\n",
        "\n",
        "# # set width of bar\n",
        "# barWidth = 0.07\n",
        "\n",
        "# # set height of bar\n",
        "\n",
        "# bars = {}\n",
        "# for i in range(len(algo_names)):\n",
        "#     bars[\"bars{0}\".format(i+1)] = [low_gap_vals[i], medium_gap_vals[i], high_gap_vals[i]]\n",
        "\n",
        "# # Set position of bar on X axis\n",
        "\n",
        "# r = {}\n",
        "# r[\"r1\"] = np.arange(len(bars[\"bars1\"]))\n",
        "\n",
        "# for i in range(len(algo_names)-1):\n",
        "#     r[\"r{0}\".format(i+2)] = [x + barWidth for x in r[\"r{0}\".format(i+1)]]\n",
        "\n",
        "# patterns = [ \"/\" , \"\\\\\" , \"|\" , \"-\" , \"+\" , \"x\", \"o\", \"O\", \".\", \"*\", \"--\", \"*o\",\".!.\"]\n",
        "\n",
        "# # Make the plot\n",
        "# for i in range(len(algo_names)):\n",
        "#   plt.bar(r[\"r{0}\".format(i+1)], bars[\"bars{0}\".format(i+1)], width=barWidth, label=algo_names[i], hatch=patterns[i])\n",
        "\n",
        "# # Add xticks on the middle of the group bars + show legend\n",
        "# plt.xlabel('User group', fontsize='14')\n",
        "# plt.ylabel('% $\\Delta$ GAP', fontsize='14')\n",
        "# plt.xticks([r + barWidth + 0.3 for r in range(len(bars[\"bars1\"]))], ['Niche', 'Diverse', 'Blockbuster-focused'], fontsize='13')\n",
        "# plt.yticks(fontsize='10')\n",
        "# plt.legend(bbox_to_anchor=(1.02, 1), loc=2, borderaxespad=0., framealpha=1, fontsize='12')\n",
        "# plt.show()"
      ]
    },
    {
      "cell_type": "markdown",
      "source": [
        "# Save!!"
      ],
      "metadata": {
        "id": "G_iMLemJVtpz"
      }
    },
    {
      "cell_type": "code",
      "source": [
        "from google.colab import files\n",
        "import pickle as pkl\n",
        "\n",
        "df_item_dist_cornac.to_csv('df_item_dist_cornac_music_'+choice+'.csv') \n",
        "files.download('df_item_dist_cornac_music_'+choice+'.csv')"
      ],
      "metadata": {
        "colab": {
          "base_uri": "https://localhost:8080/",
          "height": 17
        },
        "id": "OXuQySecVu5n",
        "outputId": "01e09d48-cf64-4bad-8570-aad2ede99eba"
      },
      "execution_count": 69,
      "outputs": [
        {
          "output_type": "display_data",
          "data": {
            "text/plain": [
              "<IPython.core.display.Javascript object>"
            ],
            "application/javascript": [
              "\n",
              "    async function download(id, filename, size) {\n",
              "      if (!google.colab.kernel.accessAllowed) {\n",
              "        return;\n",
              "      }\n",
              "      const div = document.createElement('div');\n",
              "      const label = document.createElement('label');\n",
              "      label.textContent = `Downloading \"${filename}\": `;\n",
              "      div.appendChild(label);\n",
              "      const progress = document.createElement('progress');\n",
              "      progress.max = size;\n",
              "      div.appendChild(progress);\n",
              "      document.body.appendChild(div);\n",
              "\n",
              "      const buffers = [];\n",
              "      let downloaded = 0;\n",
              "\n",
              "      const channel = await google.colab.kernel.comms.open(id);\n",
              "      // Send a message to notify the kernel that we're ready.\n",
              "      channel.send({})\n",
              "\n",
              "      for await (const message of channel.messages) {\n",
              "        // Send a message to notify the kernel that we're ready.\n",
              "        channel.send({})\n",
              "        if (message.buffers) {\n",
              "          for (const buffer of message.buffers) {\n",
              "            buffers.push(buffer);\n",
              "            downloaded += buffer.byteLength;\n",
              "            progress.value = downloaded;\n",
              "          }\n",
              "        }\n",
              "      }\n",
              "      const blob = new Blob(buffers, {type: 'application/binary'});\n",
              "      const a = document.createElement('a');\n",
              "      a.href = window.URL.createObjectURL(blob);\n",
              "      a.download = filename;\n",
              "      div.appendChild(a);\n",
              "      a.click();\n",
              "      div.remove();\n",
              "    }\n",
              "  "
            ]
          },
          "metadata": {}
        },
        {
          "output_type": "display_data",
          "data": {
            "text/plain": [
              "<IPython.core.display.Javascript object>"
            ],
            "application/javascript": [
              "download(\"download_755f2956-e892-494c-975e-7e6974bcf1d6\", \"df_item_dist_cornac_music_eva_three.csv\", 596419)"
            ]
          },
          "metadata": {}
        }
      ]
    },
    {
      "cell_type": "code",
      "source": [
        "with open('low_gap_vals_music_'+choice+'_'+pop_notion+'.pickle', 'wb') as handle:\n",
        "    pkl.dump(low_gap_vals, handle)\n",
        "files.download('low_gap_vals_music_'+choice+'_'+pop_notion+'.pickle')\n",
        "\n",
        "with open('med_gap_vals_music_'+choice+'_'+pop_notion+'.pickle', 'wb') as handle:\n",
        "    pkl.dump(medium_gap_vals, handle)\n",
        "files.download('med_gap_vals_music_'+choice+'_'+pop_notion+'.pickle')\n",
        "\n",
        "with open('high_gap_vals_music_'+choice+'_'+pop_notion+'.pickle', 'wb') as handle:\n",
        "    pkl.dump(high_gap_vals, handle)\n",
        "files.download('high_gap_vals_music_'+choice+'_'+pop_notion+'.pickle')"
      ],
      "metadata": {
        "colab": {
          "base_uri": "https://localhost:8080/",
          "height": 17
        },
        "id": "I-y_-qYRV1Ft",
        "outputId": "1c7019f7-f5d0-4bca-ac33-06c4158a2b72"
      },
      "execution_count": 88,
      "outputs": [
        {
          "output_type": "display_data",
          "data": {
            "text/plain": [
              "<IPython.core.display.Javascript object>"
            ],
            "application/javascript": [
              "\n",
              "    async function download(id, filename, size) {\n",
              "      if (!google.colab.kernel.accessAllowed) {\n",
              "        return;\n",
              "      }\n",
              "      const div = document.createElement('div');\n",
              "      const label = document.createElement('label');\n",
              "      label.textContent = `Downloading \"${filename}\": `;\n",
              "      div.appendChild(label);\n",
              "      const progress = document.createElement('progress');\n",
              "      progress.max = size;\n",
              "      div.appendChild(progress);\n",
              "      document.body.appendChild(div);\n",
              "\n",
              "      const buffers = [];\n",
              "      let downloaded = 0;\n",
              "\n",
              "      const channel = await google.colab.kernel.comms.open(id);\n",
              "      // Send a message to notify the kernel that we're ready.\n",
              "      channel.send({})\n",
              "\n",
              "      for await (const message of channel.messages) {\n",
              "        // Send a message to notify the kernel that we're ready.\n",
              "        channel.send({})\n",
              "        if (message.buffers) {\n",
              "          for (const buffer of message.buffers) {\n",
              "            buffers.push(buffer);\n",
              "            downloaded += buffer.byteLength;\n",
              "            progress.value = downloaded;\n",
              "          }\n",
              "        }\n",
              "      }\n",
              "      const blob = new Blob(buffers, {type: 'application/binary'});\n",
              "      const a = document.createElement('a');\n",
              "      a.href = window.URL.createObjectURL(blob);\n",
              "      a.download = filename;\n",
              "      div.appendChild(a);\n",
              "      a.click();\n",
              "      div.remove();\n",
              "    }\n",
              "  "
            ]
          },
          "metadata": {}
        },
        {
          "output_type": "display_data",
          "data": {
            "text/plain": [
              "<IPython.core.display.Javascript object>"
            ],
            "application/javascript": [
              "download(\"download_0ba2de6f-67bc-46c7-a65d-45541a83a198\", \"low_gap_vals_music_eva_three_pop_one.pickle\", 384)"
            ]
          },
          "metadata": {}
        },
        {
          "output_type": "display_data",
          "data": {
            "text/plain": [
              "<IPython.core.display.Javascript object>"
            ],
            "application/javascript": [
              "\n",
              "    async function download(id, filename, size) {\n",
              "      if (!google.colab.kernel.accessAllowed) {\n",
              "        return;\n",
              "      }\n",
              "      const div = document.createElement('div');\n",
              "      const label = document.createElement('label');\n",
              "      label.textContent = `Downloading \"${filename}\": `;\n",
              "      div.appendChild(label);\n",
              "      const progress = document.createElement('progress');\n",
              "      progress.max = size;\n",
              "      div.appendChild(progress);\n",
              "      document.body.appendChild(div);\n",
              "\n",
              "      const buffers = [];\n",
              "      let downloaded = 0;\n",
              "\n",
              "      const channel = await google.colab.kernel.comms.open(id);\n",
              "      // Send a message to notify the kernel that we're ready.\n",
              "      channel.send({})\n",
              "\n",
              "      for await (const message of channel.messages) {\n",
              "        // Send a message to notify the kernel that we're ready.\n",
              "        channel.send({})\n",
              "        if (message.buffers) {\n",
              "          for (const buffer of message.buffers) {\n",
              "            buffers.push(buffer);\n",
              "            downloaded += buffer.byteLength;\n",
              "            progress.value = downloaded;\n",
              "          }\n",
              "        }\n",
              "      }\n",
              "      const blob = new Blob(buffers, {type: 'application/binary'});\n",
              "      const a = document.createElement('a');\n",
              "      a.href = window.URL.createObjectURL(blob);\n",
              "      a.download = filename;\n",
              "      div.appendChild(a);\n",
              "      a.click();\n",
              "      div.remove();\n",
              "    }\n",
              "  "
            ]
          },
          "metadata": {}
        },
        {
          "output_type": "display_data",
          "data": {
            "text/plain": [
              "<IPython.core.display.Javascript object>"
            ],
            "application/javascript": [
              "download(\"download_e517e71f-6935-4851-aafb-ddef26e909f2\", \"med_gap_vals_music_eva_three_pop_one.pickle\", 384)"
            ]
          },
          "metadata": {}
        },
        {
          "output_type": "display_data",
          "data": {
            "text/plain": [
              "<IPython.core.display.Javascript object>"
            ],
            "application/javascript": [
              "\n",
              "    async function download(id, filename, size) {\n",
              "      if (!google.colab.kernel.accessAllowed) {\n",
              "        return;\n",
              "      }\n",
              "      const div = document.createElement('div');\n",
              "      const label = document.createElement('label');\n",
              "      label.textContent = `Downloading \"${filename}\": `;\n",
              "      div.appendChild(label);\n",
              "      const progress = document.createElement('progress');\n",
              "      progress.max = size;\n",
              "      div.appendChild(progress);\n",
              "      document.body.appendChild(div);\n",
              "\n",
              "      const buffers = [];\n",
              "      let downloaded = 0;\n",
              "\n",
              "      const channel = await google.colab.kernel.comms.open(id);\n",
              "      // Send a message to notify the kernel that we're ready.\n",
              "      channel.send({})\n",
              "\n",
              "      for await (const message of channel.messages) {\n",
              "        // Send a message to notify the kernel that we're ready.\n",
              "        channel.send({})\n",
              "        if (message.buffers) {\n",
              "          for (const buffer of message.buffers) {\n",
              "            buffers.push(buffer);\n",
              "            downloaded += buffer.byteLength;\n",
              "            progress.value = downloaded;\n",
              "          }\n",
              "        }\n",
              "      }\n",
              "      const blob = new Blob(buffers, {type: 'application/binary'});\n",
              "      const a = document.createElement('a');\n",
              "      a.href = window.URL.createObjectURL(blob);\n",
              "      a.download = filename;\n",
              "      div.appendChild(a);\n",
              "      a.click();\n",
              "      div.remove();\n",
              "    }\n",
              "  "
            ]
          },
          "metadata": {}
        },
        {
          "output_type": "display_data",
          "data": {
            "text/plain": [
              "<IPython.core.display.Javascript object>"
            ],
            "application/javascript": [
              "download(\"download_fcdea9ab-9e5f-4112-9f45-a44983bf20f1\", \"high_gap_vals_music_eva_three_pop_one.pickle\", 384)"
            ]
          },
          "metadata": {}
        }
      ]
    },
    {
      "cell_type": "markdown",
      "metadata": {
        "id": "B1sngPaV_XU1"
      },
      "source": [
        "### G.2 Surprise"
      ]
    },
    {
      "cell_type": "code",
      "execution_count": null,
      "metadata": {
        "colab": {
          "base_uri": "https://localhost:8080/"
        },
        "id": "_f45Ksp6_CFA",
        "outputId": "c37fd3de-afc8-49cb-ba2c-c8973a296dd9"
      },
      "outputs": [
        {
          "output_type": "stream",
          "name": "stdout",
          "text": [
            "Min rating: 1.0\n",
            "Max rating: 1000.0000000000002\n"
          ]
        }
      ],
      "source": [
        "print('Min rating: ' + str(df_events[predict_col].min()))\n",
        "print('Max rating: ' + str(df_events[predict_col].max()))"
      ]
    },
    {
      "cell_type": "code",
      "execution_count": null,
      "metadata": {
        "id": "81Z6LwYjHHST"
      },
      "outputs": [],
      "source": [
        "df_events_surprise = df_events.copy()\n",
        "for col in df_events.columns:\n",
        "  if (col!=\"user\") and (col!=predict_col) and (col!=item_col):\n",
        "    df_events_surprise = df_events.drop(col, axis=1)"
      ]
    },
    {
      "cell_type": "code",
      "execution_count": null,
      "metadata": {
        "id": "exT-71tSHNfd"
      },
      "outputs": [],
      "source": [
        "reader = SurpriseReader(rating_scale=(df_events_surprise[predict_col].min(), df_events_surprise[predict_col].max()))"
      ]
    },
    {
      "cell_type": "code",
      "execution_count": null,
      "metadata": {
        "id": "PAlVCVzWHP8X"
      },
      "outputs": [],
      "source": [
        "data = Dataset.load_from_df(df_events_surprise, reader)"
      ]
    },
    {
      "cell_type": "code",
      "execution_count": null,
      "metadata": {
        "id": "781Ih3PpHRaq"
      },
      "outputs": [],
      "source": [
        "trainset, testset = train_test_split(data, test_size = test_size, random_state = my_seed)"
      ]
    },
    {
      "cell_type": "code",
      "execution_count": null,
      "metadata": {
        "id": "qSE1xxGlHS8J"
      },
      "outputs": [],
      "source": [
        "#%%\n",
        "def get_top_n(predictions, n=10):\n",
        "    # First map the predictions to each user.\n",
        "    top_n = defaultdict(list)\n",
        "    for uid, iid, true_r, est, _ in predictions:\n",
        "        top_n[uid].append((iid, est))\n",
        "    # Then sort the predictions for each user and retrieve the k highest ones.\n",
        "    for uid, user_ratings in top_n.items():\n",
        "        user_ratings.sort(key=lambda x: x[1], reverse=True)\n",
        "        top_n[uid] = user_ratings[:n]\n",
        "    return top_n\n",
        "\n",
        "def get_top_n_random(testset, item_dist, n=10):\n",
        "    top_n = defaultdict(list)\n",
        "    for uid, iid, true_r in testset:\n",
        "        if len(top_n[uid]) == 0:\n",
        "            for i in range(0, 10):\n",
        "                top_n[uid].append((rd.choice(item_dist.index), i))\n",
        "    return top_n\n",
        "\n",
        "\n",
        "\n",
        "def get_top_n_mp(testset, item_dist, n=10):\n",
        "    top_n = defaultdict(list)\n",
        "    for uid, iid, true_r in testset:\n",
        "        if len(top_n[uid]) == 0:\n",
        "            for iid, count in item_dist[:n].items():\n",
        "                top_n[uid].append((iid, count))\n",
        "    return top_n"
      ]
    },
    {
      "cell_type": "code",
      "execution_count": null,
      "metadata": {
        "id": "h-5K1mBSHZsC"
      },
      "outputs": [],
      "source": [
        "def train_algorithms_surprise(df_item_dist, trainset, testset, item_dist, no_users, low_users, medium_users, high_users):\n",
        "    #sim_users = {'name': 'cosine', 'user_based': True}  # compute cosine similarities between users\n",
        "    # είδος αποστασης=κοσαιν, ειδος κνν = χρηστη\n",
        "    algos = [] # Random and MostPopular is calculated by default\n",
        "    #algos.append(None)#Random())\n",
        "    #algos.append(None)#MostPopular())\n",
        "    #algos.append(BaselineOnly()) #αυτο το UserItemAvg, τι ειναι?\n",
        "    #algos.append(KNNBasic(sim_options = sim_users, k=40)) \n",
        "    #algos.append(KNNBasic(sim_options = {'name': 'cosine', 'user_based': False}, k=40)) \n",
        "    #algos.append(KNNWithMeans(sim_options = sim_users, k=40)) \n",
        "    algos.append(SurpriseNMF(n_factors = 15, random_state=123))\n",
        "    #algos.append(SVDpp(n_factors = 15))\n",
        "    algo_names = [\n",
        "        #'Random',\n",
        "                  #'MostPopular',\n",
        "                  #'UserItemAvg',\n",
        "                  #'UserKNN',\n",
        "                  #\"ItemKNN\",\n",
        "                  #'UserKNNAvg',\n",
        "                  'NMF',]\n",
        "                  #'SVDpp']\n",
        "    \n",
        "    i = 0\n",
        "    low_rec_gap_list = [] # one entry per algorithmus\n",
        "    medium_rec_gap_list = []\n",
        "    high_rec_gap_list = []\n",
        "    start = time.time()\n",
        "    for i in range(0, len(algo_names)): #για καθε αλγοριθμο\n",
        "        print(\"~~~~~~~~~~~~~~~~NEW~~~~~~~~~~~~~~~~~\")\n",
        "        df_item_dist[algo_names[i]] = 0 #προσθετω στηλη στο ποπιουλαριτι για τον αλγοριθμο i \n",
        "        low_rec_gap = 0\n",
        "        medium_rec_gap = 0\n",
        "        high_rec_gap = 0\n",
        "        \n",
        "        # get accuracy for personalized approaches\n",
        "        if algo_names[i] != 'Random' and algo_names[i] != 'MostPopular': #για μη χαζους αλγοριθμους\n",
        "            algos[i].fit(trainset) #κανεις φιτ\n",
        "            predictions = algos[i].test(testset) #προβλεπεις\n",
        "            print(algo_names[i])#λες τελειωσε ο ταδε αλγοριθμος\n",
        "            #get_mae_of_groups(predictions, low_users, medium_users, high_users) #υπολογιζεις τα λαθη και τα τυπωνεις\n",
        "        \n",
        "        # get top-n items and calculate gaps for all algorithms\n",
        "        # κανεις προτασεις αναλογα τις προβλεψεις\n",
        "        if algo_names[i] == 'Random':\n",
        "            top_n = get_top_n_random(testset, item_dist, n=10)\n",
        "        elif algo_names[i] == 'MostPopular':\n",
        "            top_n = get_top_n_mp(testset, item_dist, n=10)\n",
        "        else:\n",
        "            top_n = get_top_n(predictions, n=10)\n",
        "        print(\"Starting with GAP\")\n",
        "        print(len(top_n.items()))\n",
        "        #υπολογιζεις τα gap\n",
        "        low_count = 0\n",
        "        med_count = 0\n",
        "        high_count = 0\n",
        "        index = 0 \n",
        "        for uid, user_ratings in tqdm(top_n.items()):\n",
        "            iid_list = []\n",
        "            for (iid, _) in user_ratings:\n",
        "                df_item_dist.loc[iid, algo_names[i]] += 1\n",
        "                iid_list.append(iid)\n",
        "            #print(index,\"1\")\n",
        "            gap = sum(item_dist[iid_list] / no_users) / len(iid_list)\n",
        "            #print(index,\"2\")\n",
        "            if uid in low_users.index:\n",
        "                low_rec_gap += gap\n",
        "                low_count += 1\n",
        "            elif uid in medium_users.index:\n",
        "                medium_rec_gap += gap\n",
        "                med_count += 1\n",
        "            elif uid in high_users.index:\n",
        "                high_rec_gap += gap\n",
        "                high_count += 1\n",
        "            #print(index, \"3\")\n",
        "            index+=1\n",
        "        low_rec_gap_list.append(low_rec_gap / low_count)\n",
        "        medium_rec_gap_list.append(medium_rec_gap / med_count)\n",
        "        high_rec_gap_list.append(high_rec_gap / high_count)\n",
        "        i += 1 # next algorithm\n",
        "        end = time.time()\n",
        "        print(\"It took \" + str(np.round(end-start)) + \" seconds.\")\n",
        "        start = time.time()\n",
        "    return df_item_dist, low_rec_gap_list, medium_rec_gap_list, high_rec_gap_list"
      ]
    },
    {
      "cell_type": "code",
      "execution_count": null,
      "metadata": {
        "colab": {
          "base_uri": "https://localhost:8080/"
        },
        "id": "41kuq_rnHWHe",
        "outputId": "cc0c851c-2558-46a5-dbbc-12cc96d9cb81",
        "scrolled": true
      },
      "outputs": [
        {
          "output_type": "stream",
          "name": "stdout",
          "text": [
            "~~~~~~~~~~~~~~~~NEW~~~~~~~~~~~~~~~~~\n",
            "NMF\n",
            "Starting with GAP\n",
            "3000\n"
          ]
        },
        {
          "output_type": "stream",
          "name": "stderr",
          "text": [
            "100%|██████████| 3000/3000 [00:11<00:00, 263.77it/s]\n"
          ]
        },
        {
          "output_type": "stream",
          "name": "stdout",
          "text": [
            "It took 78.0 seconds.\n"
          ]
        }
      ],
      "source": [
        "df_item_dist_surprise, low_rec_gap_list_surprise, medium_rec_gap_list_surprise, high_rec_gap_list_surprise = train_algorithms_surprise(df_item_dist, trainset, testset, item_dist, num_users, low, med, high)"
      ]
    },
    {
      "cell_type": "code",
      "execution_count": null,
      "metadata": {
        "id": "tZudnk0zHe8q",
        "outputId": "f883a444-d005-4726-f17c-337c8224744c",
        "colab": {
          "base_uri": "https://localhost:8080/",
          "height": 306
        }
      },
      "outputs": [
        {
          "output_type": "display_data",
          "data": {
            "text/plain": [
              "<Figure size 360x288 with 1 Axes>"
            ],
            "image/png": "[encoded data removed]"
          },
          "metadata": {}
        }
      ],
      "source": [
        "sns.set(rc = {'figure.figsize':(5,4)})\n",
        "for i in range(0, len(algo_names)):\n",
        "    plt.figure()\n",
        "    #if algo_names[i] != 'Random' and algo_names[i] != 'MostPopular':\n",
        "     #   plt.gca().set_ylim(0, 300)\n",
        "    x = df_item_dist_surprise[\"count\"]\n",
        "    y = df_item_dist_surprise[algo_names[i]]\n",
        "\n",
        "    plt.plot(x, y, 'o')\n",
        "    plt.title(algo_names[i])\n",
        "    plt.xlabel('Artist popularity', fontsize='15')\n",
        "    plt.ylabel('Recommendation frequency', fontsize='15')\n",
        "    plt.xticks(fontsize='13')\n",
        "    plt.yticks(fontsize='13')"
      ]
    },
    {
      "cell_type": "code",
      "execution_count": null,
      "metadata": {
        "id": "Y3HljiUFHgYX"
      },
      "outputs": [],
      "source": [
        "low_gap_vals = []\n",
        "medium_gap_vals = []\n",
        "high_gap_vals = []\n",
        "\n",
        "for i in range(0, len(algo_names)):\n",
        "    low_gap_vals.append((low_rec_gap_list_surprise[i] - low_GAP) / low_GAP * 100)\n",
        "    medium_gap_vals.append((medium_rec_gap_list_surprise[i] - med_GAP) / med_GAP * 100)\n",
        "    high_gap_vals.append((high_rec_gap_list_surprise[i] - high_GAP) / high_GAP * 100)"
      ]
    },
    {
      "cell_type": "code",
      "execution_count": null,
      "metadata": {
        "id": "xQO4_RyvHiNP",
        "outputId": "954bc849-540e-4e24-a90f-53e301b3358e",
        "colab": {
          "base_uri": "https://localhost:8080/",
          "height": 289
        }
      },
      "outputs": [
        {
          "output_type": "display_data",
          "data": {
            "text/plain": [
              "<Figure size 576x288 with 1 Axes>"
            ],
            "image/png": "[encoded data removed]"
          },
          "metadata": {}
        }
      ],
      "source": [
        "sns.set(rc = {'figure.figsize':(8,4)})\n",
        "\n",
        "# set width of bar\n",
        "barWidth = 0.07\n",
        "\n",
        "# set height of bar\n",
        "\n",
        "bars = {}\n",
        "for i in range(len(algo_names)):\n",
        "    bars[\"bars{0}\".format(i+1)] = [low_gap_vals[i], medium_gap_vals[i], high_gap_vals[i]]\n",
        "\n",
        "# Set position of bar on X axis\n",
        "\n",
        "r = {}\n",
        "r[\"r1\"] = np.arange(len(bars[\"bars1\"]))\n",
        "\n",
        "for i in range(len(algo_names)-1):\n",
        "    r[\"r{0}\".format(i+2)] = [x + barWidth for x in r[\"r{0}\".format(i+1)]]\n",
        "\n",
        "patterns = [ \"/\" , \"\\\\\" , \"|\" , \"-\" , \"+\" , \"x\", \"o\", \"O\", \".\", \"*\", \"--\", \"*o\",\".!.\"]\n",
        "\n",
        "# Make the plot\n",
        "for i in range(len(algo_names)):\n",
        "  plt.bar(r[\"r{0}\".format(i+1)], bars[\"bars{0}\".format(i+1)], width=barWidth, label=algo_names[i], hatch=patterns[i])\n",
        "\n",
        "# Add xticks on the middle of the group bars + show legend\n",
        "plt.xlabel('User group', fontsize='14')\n",
        "plt.ylabel('% $\\Delta$ GAP', fontsize='14')\n",
        "plt.xticks([r + barWidth + 0.3 for r in range(len(bars[\"bars1\"]))], ['Niche', 'Diverse', 'Blockbuster-focused'], fontsize='13')\n",
        "plt.yticks(fontsize='10')\n",
        "plt.legend(bbox_to_anchor=(1.02, 1), loc=2, borderaxespad=0., framealpha=1, fontsize='12')\n",
        "plt.show()"
      ]
    },
    {
      "cell_type": "code",
      "execution_count": null,
      "metadata": {
        "id": "KwYOx-JeSioL"
      },
      "outputs": [],
      "source": []
    },
    {
      "cell_type": "code",
      "source": [],
      "metadata": {
        "id": "8A6sOLg_MRQq"
      },
      "execution_count": null,
      "outputs": []
    }
  ],
  "metadata": {
    "colab": {
      "collapsed_sections": [
        "yQyAB2jFcMnk",
        "hRQ9ZID5-kfv",
        "B1sngPaV_XU1"
      ],
      "provenance": []
    },
    "kernelspec": {
      "display_name": "Python 3 (ipykernel)",
      "language": "python",
      "name": "python3"
    },
    "language_info": {
      "codemirror_mode": {
        "name": "ipython",
        "version": 3
      },
      "file_extension": ".py",
      "mimetype": "text/x-python",
      "name": "python",
      "nbconvert_exporter": "python",
      "pygments_lexer": "ipython3",
      "version": "3.9.12"
    },
    "widgets": {
      "application/vnd.jupyter.widget-state+json": {
        "a277ec57efff460eb68675bff65369a5": {
          "model_module": "@jupyter-widgets/controls",
          "model_name": "HBoxModel",
          "model_module_version": "1.5.0",
          "state": {
            "_dom_classes": [],
            "_model_module": "@jupyter-widgets/controls",
            "_model_module_version": "1.5.0",
            "_model_name": "HBoxModel",
            "_view_count": null,
            "_view_module": "@jupyter-widgets/controls",
            "_view_module_version": "1.5.0",
            "_view_name": "HBoxView",
            "box_style": "",
            "children": [
              "IPY_MODEL_1187c484f63949928c588b3cc91a3544",
              "IPY_MODEL_6e0f275a1330449aadd689e9cb34c1b8",
              "IPY_MODEL_6ee5b3d3534f495ea9ae6f474818e849"
            ],
            "layout": "IPY_MODEL_4a55579f72fc4e979d884a54d201e8de"
          }
        },
        "1187c484f63949928c588b3cc91a3544": {
          "model_module": "@jupyter-widgets/controls",
          "model_name": "HTMLModel",
          "model_module_version": "1.5.0",
          "state": {
            "_dom_classes": [],
            "_model_module": "@jupyter-widgets/controls",
            "_model_module_version": "1.5.0",
            "_model_name": "HTMLModel",
            "_view_count": null,
            "_view_module": "@jupyter-widgets/controls",
            "_view_module_version": "1.5.0",
            "_view_name": "HTMLView",
            "description": "",
            "description_tooltip": null,
            "layout": "IPY_MODEL_13435784194545ec96666a0b364802b3",
            "placeholder": "​",
            "style": "IPY_MODEL_e1302c19833b45d1a22f0bcabcfe8f18",
            "value": "100%"
          }
        },
        "6e0f275a1330449aadd689e9cb34c1b8": {
          "model_module": "@jupyter-widgets/controls",
          "model_name": "FloatProgressModel",
          "model_module_version": "1.5.0",
          "state": {
            "_dom_classes": [],
            "_model_module": "@jupyter-widgets/controls",
            "_model_module_version": "1.5.0",
            "_model_name": "FloatProgressModel",
            "_view_count": null,
            "_view_module": "@jupyter-widgets/controls",
            "_view_module_version": "1.5.0",
            "_view_name": "ProgressView",
            "bar_style": "success",
            "description": "",
            "description_tooltip": null,
            "layout": "IPY_MODEL_ed9d099bbab94c0187732c6127797b33",
            "max": 3000,
            "min": 0,
            "orientation": "horizontal",
            "style": "IPY_MODEL_7b63f8e456f6402eaf3ec7a13c4bebe8",
            "value": 3000
          }
        },
        "6ee5b3d3534f495ea9ae6f474818e849": {
          "model_module": "@jupyter-widgets/controls",
          "model_name": "HTMLModel",
          "model_module_version": "1.5.0",
          "state": {
            "_dom_classes": [],
            "_model_module": "@jupyter-widgets/controls",
            "_model_module_version": "1.5.0",
            "_model_name": "HTMLModel",
            "_view_count": null,
            "_view_module": "@jupyter-widgets/controls",
            "_view_module_version": "1.5.0",
            "_view_name": "HTMLView",
            "description": "",
            "description_tooltip": null,
            "layout": "IPY_MODEL_53174a9af6d24d39886ce287bdc9501d",
            "placeholder": "​",
            "style": "IPY_MODEL_c58999f50231403290512ef094fae78b",
            "value": " 3000/3000 [00:00&lt;00:00, 3649.26it/s]"
          }
        },
        "4a55579f72fc4e979d884a54d201e8de": {
          "model_module": "@jupyter-widgets/base",
          "model_name": "LayoutModel",
          "model_module_version": "1.2.0",
          "state": {
            "_model_module": "@jupyter-widgets/base",
            "_model_module_version": "1.2.0",
            "_model_name": "LayoutModel",
            "_view_count": null,
            "_view_module": "@jupyter-widgets/base",
            "_view_module_version": "1.2.0",
            "_view_name": "LayoutView",
            "align_content": null,
            "align_items": null,
            "align_self": null,
            "border": null,
            "bottom": null,
            "display": null,
            "flex": null,
            "flex_flow": null,
            "grid_area": null,
            "grid_auto_columns": null,
            "grid_auto_flow": null,
            "grid_auto_rows": null,
            "grid_column": null,
            "grid_gap": null,
            "grid_row": null,
            "grid_template_areas": null,
            "grid_template_columns": null,
            "grid_template_rows": null,
            "height": null,
            "justify_content": null,
            "justify_items": null,
            "left": null,
            "margin": null,
            "max_height": null,
            "max_width": null,
            "min_height": null,
            "min_width": null,
            "object_fit": null,
            "object_position": null,
            "order": null,
            "overflow": null,
            "overflow_x": null,
            "overflow_y": null,
            "padding": null,
            "right": null,
            "top": null,
            "visibility": null,
            "width": null
          }
        },
        "13435784194545ec96666a0b364802b3": {
          "model_module": "@jupyter-widgets/base",
          "model_name": "LayoutModel",
          "model_module_version": "1.2.0",
          "state": {
            "_model_module": "@jupyter-widgets/base",
            "_model_module_version": "1.2.0",
            "_model_name": "LayoutModel",
            "_view_count": null,
            "_view_module": "@jupyter-widgets/base",
            "_view_module_version": "1.2.0",
            "_view_name": "LayoutView",
            "align_content": null,
            "align_items": null,
            "align_self": null,
            "border": null,
            "bottom": null,
            "display": null,
            "flex": null,
            "flex_flow": null,
            "grid_area": null,
            "grid_auto_columns": null,
            "grid_auto_flow": null,
            "grid_auto_rows": null,
            "grid_column": null,
            "grid_gap": null,
            "grid_row": null,
            "grid_template_areas": null,
            "grid_template_columns": null,
            "grid_template_rows": null,
            "height": null,
            "justify_content": null,
            "justify_items": null,
            "left": null,
            "margin": null,
            "max_height": null,
            "max_width": null,
            "min_height": null,
            "min_width": null,
            "object_fit": null,
            "object_position": null,
            "order": null,
            "overflow": null,
            "overflow_x": null,
            "overflow_y": null,
            "padding": null,
            "right": null,
            "top": null,
            "visibility": null,
            "width": null
          }
        },
        "e1302c19833b45d1a22f0bcabcfe8f18": {
          "model_module": "@jupyter-widgets/controls",
          "model_name": "DescriptionStyleModel",
          "model_module_version": "1.5.0",
          "state": {
            "_model_module": "@jupyter-widgets/controls",
            "_model_module_version": "1.5.0",
            "_model_name": "DescriptionStyleModel",
            "_view_count": null,
            "_view_module": "@jupyter-widgets/base",
            "_view_module_version": "1.2.0",
            "_view_name": "StyleView",
            "description_width": ""
          }
        },
        "ed9d099bbab94c0187732c6127797b33": {
          "model_module": "@jupyter-widgets/base",
          "model_name": "LayoutModel",
          "model_module_version": "1.2.0",
          "state": {
            "_model_module": "@jupyter-widgets/base",
            "_model_module_version": "1.2.0",
            "_model_name": "LayoutModel",
            "_view_count": null,
            "_view_module": "@jupyter-widgets/base",
            "_view_module_version": "1.2.0",
            "_view_name": "LayoutView",
            "align_content": null,
            "align_items": null,
            "align_self": null,
            "border": null,
            "bottom": null,
            "display": null,
            "flex": null,
            "flex_flow": null,
            "grid_area": null,
            "grid_auto_columns": null,
            "grid_auto_flow": null,
            "grid_auto_rows": null,
            "grid_column": null,
            "grid_gap": null,
            "grid_row": null,
            "grid_template_areas": null,
            "grid_template_columns": null,
            "grid_template_rows": null,
            "height": null,
            "justify_content": null,
            "justify_items": null,
            "left": null,
            "margin": null,
            "max_height": null,
            "max_width": null,
            "min_height": null,
            "min_width": null,
            "object_fit": null,
            "object_position": null,
            "order": null,
            "overflow": null,
            "overflow_x": null,
            "overflow_y": null,
            "padding": null,
            "right": null,
            "top": null,
            "visibility": null,
            "width": null
          }
        },
        "7b63f8e456f6402eaf3ec7a13c4bebe8": {
          "model_module": "@jupyter-widgets/controls",
          "model_name": "ProgressStyleModel",
          "model_module_version": "1.5.0",
          "state": {
            "_model_module": "@jupyter-widgets/controls",
            "_model_module_version": "1.5.0",
            "_model_name": "ProgressStyleModel",
            "_view_count": null,
            "_view_module": "@jupyter-widgets/base",
            "_view_module_version": "1.2.0",
            "_view_name": "StyleView",
            "bar_color": null,
            "description_width": ""
          }
        },
        "53174a9af6d24d39886ce287bdc9501d": {
          "model_module": "@jupyter-widgets/base",
          "model_name": "LayoutModel",
          "model_module_version": "1.2.0",
          "state": {
            "_model_module": "@jupyter-widgets/base",
            "_model_module_version": "1.2.0",
            "_model_name": "LayoutModel",
            "_view_count": null,
            "_view_module": "@jupyter-widgets/base",
            "_view_module_version": "1.2.0",
            "_view_name": "LayoutView",
            "align_content": null,
            "align_items": null,
            "align_self": null,
            "border": null,
            "bottom": null,
            "display": null,
            "flex": null,
            "flex_flow": null,
            "grid_area": null,
            "grid_auto_columns": null,
            "grid_auto_flow": null,
            "grid_auto_rows": null,
            "grid_column": null,
            "grid_gap": null,
            "grid_row": null,
            "grid_template_areas": null,
            "grid_template_columns": null,
            "grid_template_rows": null,
            "height": null,
            "justify_content": null,
            "justify_items": null,
            "left": null,
            "margin": null,
            "max_height": null,
            "max_width": null,
            "min_height": null,
            "min_width": null,
            "object_fit": null,
            "object_position": null,
            "order": null,
            "overflow": null,
            "overflow_x": null,
            "overflow_y": null,
            "padding": null,
            "right": null,
            "top": null,
            "visibility": null,
            "width": null
          }
        },
        "c58999f50231403290512ef094fae78b": {
          "model_module": "@jupyter-widgets/controls",
          "model_name": "DescriptionStyleModel",
          "model_module_version": "1.5.0",
          "state": {
            "_model_module": "@jupyter-widgets/controls",
            "_model_module_version": "1.5.0",
            "_model_name": "DescriptionStyleModel",
            "_view_count": null,
            "_view_module": "@jupyter-widgets/base",
            "_view_module_version": "1.2.0",
            "_view_name": "StyleView",
            "description_width": ""
          }
        },
        "741386dd13dd4910ac830bd0ce558ea3": {
          "model_module": "@jupyter-widgets/controls",
          "model_name": "HBoxModel",
          "model_module_version": "1.5.0",
          "state": {
            "_dom_classes": [],
            "_model_module": "@jupyter-widgets/controls",
            "_model_module_version": "1.5.0",
            "_model_name": "HBoxModel",
            "_view_count": null,
            "_view_module": "@jupyter-widgets/controls",
            "_view_module_version": "1.5.0",
            "_view_name": "HBoxView",
            "box_style": "",
            "children": [
              "IPY_MODEL_23260e17db0f4712955e94eaf50e43fc",
              "IPY_MODEL_995cb11c45834b53982edcaa158fb994",
              "IPY_MODEL_6b64006a3e9b4065adfce1c66e60a269"
            ],
            "layout": "IPY_MODEL_438056719f104af798671dc922d38e80"
          }
        },
        "23260e17db0f4712955e94eaf50e43fc": {
          "model_module": "@jupyter-widgets/controls",
          "model_name": "HTMLModel",
          "model_module_version": "1.5.0",
          "state": {
            "_dom_classes": [],
            "_model_module": "@jupyter-widgets/controls",
            "_model_module_version": "1.5.0",
            "_model_name": "HTMLModel",
            "_view_count": null,
            "_view_module": "@jupyter-widgets/controls",
            "_view_module_version": "1.5.0",
            "_view_name": "HTMLView",
            "description": "",
            "description_tooltip": null,
            "layout": "IPY_MODEL_3ed55a294b4b4de8a44c36ede69c5b91",
            "placeholder": "​",
            "style": "IPY_MODEL_82e6df799546495cbb02b3f8f39974f8",
            "value": "100%"
          }
        },
        "995cb11c45834b53982edcaa158fb994": {
          "model_module": "@jupyter-widgets/controls",
          "model_name": "FloatProgressModel",
          "model_module_version": "1.5.0",
          "state": {
            "_dom_classes": [],
            "_model_module": "@jupyter-widgets/controls",
            "_model_module_version": "1.5.0",
            "_model_name": "FloatProgressModel",
            "_view_count": null,
            "_view_module": "@jupyter-widgets/controls",
            "_view_module_version": "1.5.0",
            "_view_name": "ProgressView",
            "bar_style": "success",
            "description": "",
            "description_tooltip": null,
            "layout": "IPY_MODEL_c0378c2f9eda40368d83a583c49b81b2",
            "max": 12690,
            "min": 0,
            "orientation": "horizontal",
            "style": "IPY_MODEL_d9d49b950f3d48b881b2a75cb37e29ba",
            "value": 12690
          }
        },
        "6b64006a3e9b4065adfce1c66e60a269": {
          "model_module": "@jupyter-widgets/controls",
          "model_name": "HTMLModel",
          "model_module_version": "1.5.0",
          "state": {
            "_dom_classes": [],
            "_model_module": "@jupyter-widgets/controls",
            "_model_module_version": "1.5.0",
            "_model_name": "HTMLModel",
            "_view_count": null,
            "_view_module": "@jupyter-widgets/controls",
            "_view_module_version": "1.5.0",
            "_view_name": "HTMLView",
            "description": "",
            "description_tooltip": null,
            "layout": "IPY_MODEL_e3790363ec084e23919e818bfdbbaf5e",
            "placeholder": "​",
            "style": "IPY_MODEL_fbf3ae810e764b3f8e86f05207372ed4",
            "value": " 12690/12690 [00:05&lt;00:00, 3756.95it/s]"
          }
        },
        "438056719f104af798671dc922d38e80": {
          "model_module": "@jupyter-widgets/base",
          "model_name": "LayoutModel",
          "model_module_version": "1.2.0",
          "state": {
            "_model_module": "@jupyter-widgets/base",
            "_model_module_version": "1.2.0",
            "_model_name": "LayoutModel",
            "_view_count": null,
            "_view_module": "@jupyter-widgets/base",
            "_view_module_version": "1.2.0",
            "_view_name": "LayoutView",
            "align_content": null,
            "align_items": null,
            "align_self": null,
            "border": null,
            "bottom": null,
            "display": null,
            "flex": null,
            "flex_flow": null,
            "grid_area": null,
            "grid_auto_columns": null,
            "grid_auto_flow": null,
            "grid_auto_rows": null,
            "grid_column": null,
            "grid_gap": null,
            "grid_row": null,
            "grid_template_areas": null,
            "grid_template_columns": null,
            "grid_template_rows": null,
            "height": null,
            "justify_content": null,
            "justify_items": null,
            "left": null,
            "margin": null,
            "max_height": null,
            "max_width": null,
            "min_height": null,
            "min_width": null,
            "object_fit": null,
            "object_position": null,
            "order": null,
            "overflow": null,
            "overflow_x": null,
            "overflow_y": null,
            "padding": null,
            "right": null,
            "top": null,
            "visibility": null,
            "width": null
          }
        },
        "3ed55a294b4b4de8a44c36ede69c5b91": {
          "model_module": "@jupyter-widgets/base",
          "model_name": "LayoutModel",
          "model_module_version": "1.2.0",
          "state": {
            "_model_module": "@jupyter-widgets/base",
            "_model_module_version": "1.2.0",
            "_model_name": "LayoutModel",
            "_view_count": null,
            "_view_module": "@jupyter-widgets/base",
            "_view_module_version": "1.2.0",
            "_view_name": "LayoutView",
            "align_content": null,
            "align_items": null,
            "align_self": null,
            "border": null,
            "bottom": null,
            "display": null,
            "flex": null,
            "flex_flow": null,
            "grid_area": null,
            "grid_auto_columns": null,
            "grid_auto_flow": null,
            "grid_auto_rows": null,
            "grid_column": null,
            "grid_gap": null,
            "grid_row": null,
            "grid_template_areas": null,
            "grid_template_columns": null,
            "grid_template_rows": null,
            "height": null,
            "justify_content": null,
            "justify_items": null,
            "left": null,
            "margin": null,
            "max_height": null,
            "max_width": null,
            "min_height": null,
            "min_width": null,
            "object_fit": null,
            "object_position": null,
            "order": null,
            "overflow": null,
            "overflow_x": null,
            "overflow_y": null,
            "padding": null,
            "right": null,
            "top": null,
            "visibility": null,
            "width": null
          }
        },
        "82e6df799546495cbb02b3f8f39974f8": {
          "model_module": "@jupyter-widgets/controls",
          "model_name": "DescriptionStyleModel",
          "model_module_version": "1.5.0",
          "state": {
            "_model_module": "@jupyter-widgets/controls",
            "_model_module_version": "1.5.0",
            "_model_name": "DescriptionStyleModel",
            "_view_count": null,
            "_view_module": "@jupyter-widgets/base",
            "_view_module_version": "1.2.0",
            "_view_name": "StyleView",
            "description_width": ""
          }
        },
        "c0378c2f9eda40368d83a583c49b81b2": {
          "model_module": "@jupyter-widgets/base",
          "model_name": "LayoutModel",
          "model_module_version": "1.2.0",
          "state": {
            "_model_module": "@jupyter-widgets/base",
            "_model_module_version": "1.2.0",
            "_model_name": "LayoutModel",
            "_view_count": null,
            "_view_module": "@jupyter-widgets/base",
            "_view_module_version": "1.2.0",
            "_view_name": "LayoutView",
            "align_content": null,
            "align_items": null,
            "align_self": null,
            "border": null,
            "bottom": null,
            "display": null,
            "flex": null,
            "flex_flow": null,
            "grid_area": null,
            "grid_auto_columns": null,
            "grid_auto_flow": null,
            "grid_auto_rows": null,
            "grid_column": null,
            "grid_gap": null,
            "grid_row": null,
            "grid_template_areas": null,
            "grid_template_columns": null,
            "grid_template_rows": null,
            "height": null,
            "justify_content": null,
            "justify_items": null,
            "left": null,
            "margin": null,
            "max_height": null,
            "max_width": null,
            "min_height": null,
            "min_width": null,
            "object_fit": null,
            "object_position": null,
            "order": null,
            "overflow": null,
            "overflow_x": null,
            "overflow_y": null,
            "padding": null,
            "right": null,
            "top": null,
            "visibility": null,
            "width": null
          }
        },
        "d9d49b950f3d48b881b2a75cb37e29ba": {
          "model_module": "@jupyter-widgets/controls",
          "model_name": "ProgressStyleModel",
          "model_module_version": "1.5.0",
          "state": {
            "_model_module": "@jupyter-widgets/controls",
            "_model_module_version": "1.5.0",
            "_model_name": "ProgressStyleModel",
            "_view_count": null,
            "_view_module": "@jupyter-widgets/base",
            "_view_module_version": "1.2.0",
            "_view_name": "StyleView",
            "bar_color": null,
            "description_width": ""
          }
        },
        "e3790363ec084e23919e818bfdbbaf5e": {
          "model_module": "@jupyter-widgets/base",
          "model_name": "LayoutModel",
          "model_module_version": "1.2.0",
          "state": {
            "_model_module": "@jupyter-widgets/base",
            "_model_module_version": "1.2.0",
            "_model_name": "LayoutModel",
            "_view_count": null,
            "_view_module": "@jupyter-widgets/base",
            "_view_module_version": "1.2.0",
            "_view_name": "LayoutView",
            "align_content": null,
            "align_items": null,
            "align_self": null,
            "border": null,
            "bottom": null,
            "display": null,
            "flex": null,
            "flex_flow": null,
            "grid_area": null,
            "grid_auto_columns": null,
            "grid_auto_flow": null,
            "grid_auto_rows": null,
            "grid_column": null,
            "grid_gap": null,
            "grid_row": null,
            "grid_template_areas": null,
            "grid_template_columns": null,
            "grid_template_rows": null,
            "height": null,
            "justify_content": null,
            "justify_items": null,
            "left": null,
            "margin": null,
            "max_height": null,
            "max_width": null,
            "min_height": null,
            "min_width": null,
            "object_fit": null,
            "object_position": null,
            "order": null,
            "overflow": null,
            "overflow_x": null,
            "overflow_y": null,
            "padding": null,
            "right": null,
            "top": null,
            "visibility": null,
            "width": null
          }
        },
        "fbf3ae810e764b3f8e86f05207372ed4": {
          "model_module": "@jupyter-widgets/controls",
          "model_name": "DescriptionStyleModel",
          "model_module_version": "1.5.0",
          "state": {
            "_model_module": "@jupyter-widgets/controls",
            "_model_module_version": "1.5.0",
            "_model_name": "DescriptionStyleModel",
            "_view_count": null,
            "_view_module": "@jupyter-widgets/base",
            "_view_module_version": "1.2.0",
            "_view_name": "StyleView",
            "description_width": ""
          }
        },
        "2eb1e08bfed0487ebd14bdc24bfc3bcf": {
          "model_module": "@jupyter-widgets/controls",
          "model_name": "HBoxModel",
          "model_module_version": "1.5.0",
          "state": {
            "_dom_classes": [],
            "_model_module": "@jupyter-widgets/controls",
            "_model_module_version": "1.5.0",
            "_model_name": "HBoxModel",
            "_view_count": null,
            "_view_module": "@jupyter-widgets/controls",
            "_view_module_version": "1.5.0",
            "_view_name": "HBoxView",
            "box_style": "",
            "children": [
              "IPY_MODEL_fa0d8500a8434ff6a26099d3364b785e",
              "IPY_MODEL_a7bfb4f0e24148168386bbfc65b807af",
              "IPY_MODEL_c898fd6643e0405caf0f9749b062b53e"
            ],
            "layout": "IPY_MODEL_df0f4dd9ad7b41acbb78e951a08c3803"
          }
        },
        "fa0d8500a8434ff6a26099d3364b785e": {
          "model_module": "@jupyter-widgets/controls",
          "model_name": "HTMLModel",
          "model_module_version": "1.5.0",
          "state": {
            "_dom_classes": [],
            "_model_module": "@jupyter-widgets/controls",
            "_model_module_version": "1.5.0",
            "_model_name": "HTMLModel",
            "_view_count": null,
            "_view_module": "@jupyter-widgets/controls",
            "_view_module_version": "1.5.0",
            "_view_name": "HTMLView",
            "description": "",
            "description_tooltip": null,
            "layout": "IPY_MODEL_6d52034e467146178926219d6bcc7a01",
            "placeholder": "​",
            "style": "IPY_MODEL_b2841ae6c88a4929b1be95e4807e5acf",
            "value": "100%"
          }
        },
        "a7bfb4f0e24148168386bbfc65b807af": {
          "model_module": "@jupyter-widgets/controls",
          "model_name": "FloatProgressModel",
          "model_module_version": "1.5.0",
          "state": {
            "_dom_classes": [],
            "_model_module": "@jupyter-widgets/controls",
            "_model_module_version": "1.5.0",
            "_model_name": "FloatProgressModel",
            "_view_count": null,
            "_view_module": "@jupyter-widgets/controls",
            "_view_module_version": "1.5.0",
            "_view_name": "ProgressView",
            "bar_style": "success",
            "description": "",
            "description_tooltip": null,
            "layout": "IPY_MODEL_c446d5dc493a4cb6883ca8f484fcfe06",
            "max": 3000,
            "min": 0,
            "orientation": "horizontal",
            "style": "IPY_MODEL_b0beb1e168924a7ab2137af0052a6332",
            "value": 3000
          }
        },
        "c898fd6643e0405caf0f9749b062b53e": {
          "model_module": "@jupyter-widgets/controls",
          "model_name": "HTMLModel",
          "model_module_version": "1.5.0",
          "state": {
            "_dom_classes": [],
            "_model_module": "@jupyter-widgets/controls",
            "_model_module_version": "1.5.0",
            "_model_name": "HTMLModel",
            "_view_count": null,
            "_view_module": "@jupyter-widgets/controls",
            "_view_module_version": "1.5.0",
            "_view_name": "HTMLView",
            "description": "",
            "description_tooltip": null,
            "layout": "IPY_MODEL_edb5da79de04412da972a56f4b4cf246",
            "placeholder": "​",
            "style": "IPY_MODEL_9556b4e73cda4f48ac22aabb0032f5cf",
            "value": " 3000/3000 [00:00&lt;00:00, 3931.15it/s]"
          }
        },
        "df0f4dd9ad7b41acbb78e951a08c3803": {
          "model_module": "@jupyter-widgets/base",
          "model_name": "LayoutModel",
          "model_module_version": "1.2.0",
          "state": {
            "_model_module": "@jupyter-widgets/base",
            "_model_module_version": "1.2.0",
            "_model_name": "LayoutModel",
            "_view_count": null,
            "_view_module": "@jupyter-widgets/base",
            "_view_module_version": "1.2.0",
            "_view_name": "LayoutView",
            "align_content": null,
            "align_items": null,
            "align_self": null,
            "border": null,
            "bottom": null,
            "display": null,
            "flex": null,
            "flex_flow": null,
            "grid_area": null,
            "grid_auto_columns": null,
            "grid_auto_flow": null,
            "grid_auto_rows": null,
            "grid_column": null,
            "grid_gap": null,
            "grid_row": null,
            "grid_template_areas": null,
            "grid_template_columns": null,
            "grid_template_rows": null,
            "height": null,
            "justify_content": null,
            "justify_items": null,
            "left": null,
            "margin": null,
            "max_height": null,
            "max_width": null,
            "min_height": null,
            "min_width": null,
            "object_fit": null,
            "object_position": null,
            "order": null,
            "overflow": null,
            "overflow_x": null,
            "overflow_y": null,
            "padding": null,
            "right": null,
            "top": null,
            "visibility": null,
            "width": null
          }
        },
        "6d52034e467146178926219d6bcc7a01": {
          "model_module": "@jupyter-widgets/base",
          "model_name": "LayoutModel",
          "model_module_version": "1.2.0",
          "state": {
            "_model_module": "@jupyter-widgets/base",
            "_model_module_version": "1.2.0",
            "_model_name": "LayoutModel",
            "_view_count": null,
            "_view_module": "@jupyter-widgets/base",
            "_view_module_version": "1.2.0",
            "_view_name": "LayoutView",
            "align_content": null,
            "align_items": null,
            "align_self": null,
            "border": null,
            "bottom": null,
            "display": null,
            "flex": null,
            "flex_flow": null,
            "grid_area": null,
            "grid_auto_columns": null,
            "grid_auto_flow": null,
            "grid_auto_rows": null,
            "grid_column": null,
            "grid_gap": null,
            "grid_row": null,
            "grid_template_areas": null,
            "grid_template_columns": null,
            "grid_template_rows": null,
            "height": null,
            "justify_content": null,
            "justify_items": null,
            "left": null,
            "margin": null,
            "max_height": null,
            "max_width": null,
            "min_height": null,
            "min_width": null,
            "object_fit": null,
            "object_position": null,
            "order": null,
            "overflow": null,
            "overflow_x": null,
            "overflow_y": null,
            "padding": null,
            "right": null,
            "top": null,
            "visibility": null,
            "width": null
          }
        },
        "b2841ae6c88a4929b1be95e4807e5acf": {
          "model_module": "@jupyter-widgets/controls",
          "model_name": "DescriptionStyleModel",
          "model_module_version": "1.5.0",
          "state": {
            "_model_module": "@jupyter-widgets/controls",
            "_model_module_version": "1.5.0",
            "_model_name": "DescriptionStyleModel",
            "_view_count": null,
            "_view_module": "@jupyter-widgets/base",
            "_view_module_version": "1.2.0",
            "_view_name": "StyleView",
            "description_width": ""
          }
        },
        "c446d5dc493a4cb6883ca8f484fcfe06": {
          "model_module": "@jupyter-widgets/base",
          "model_name": "LayoutModel",
          "model_module_version": "1.2.0",
          "state": {
            "_model_module": "@jupyter-widgets/base",
            "_model_module_version": "1.2.0",
            "_model_name": "LayoutModel",
            "_view_count": null,
            "_view_module": "@jupyter-widgets/base",
            "_view_module_version": "1.2.0",
            "_view_name": "LayoutView",
            "align_content": null,
            "align_items": null,
            "align_self": null,
            "border": null,
            "bottom": null,
            "display": null,
            "flex": null,
            "flex_flow": null,
            "grid_area": null,
            "grid_auto_columns": null,
            "grid_auto_flow": null,
            "grid_auto_rows": null,
            "grid_column": null,
            "grid_gap": null,
            "grid_row": null,
            "grid_template_areas": null,
            "grid_template_columns": null,
            "grid_template_rows": null,
            "height": null,
            "justify_content": null,
            "justify_items": null,
            "left": null,
            "margin": null,
            "max_height": null,
            "max_width": null,
            "min_height": null,
            "min_width": null,
            "object_fit": null,
            "object_position": null,
            "order": null,
            "overflow": null,
            "overflow_x": null,
            "overflow_y": null,
            "padding": null,
            "right": null,
            "top": null,
            "visibility": null,
            "width": null
          }
        },
        "b0beb1e168924a7ab2137af0052a6332": {
          "model_module": "@jupyter-widgets/controls",
          "model_name": "ProgressStyleModel",
          "model_module_version": "1.5.0",
          "state": {
            "_model_module": "@jupyter-widgets/controls",
            "_model_module_version": "1.5.0",
            "_model_name": "ProgressStyleModel",
            "_view_count": null,
            "_view_module": "@jupyter-widgets/base",
            "_view_module_version": "1.2.0",
            "_view_name": "StyleView",
            "bar_color": null,
            "description_width": ""
          }
        },
        "edb5da79de04412da972a56f4b4cf246": {
          "model_module": "@jupyter-widgets/base",
          "model_name": "LayoutModel",
          "model_module_version": "1.2.0",
          "state": {
            "_model_module": "@jupyter-widgets/base",
            "_model_module_version": "1.2.0",
            "_model_name": "LayoutModel",
            "_view_count": null,
            "_view_module": "@jupyter-widgets/base",
            "_view_module_version": "1.2.0",
            "_view_name": "LayoutView",
            "align_content": null,
            "align_items": null,
            "align_self": null,
            "border": null,
            "bottom": null,
            "display": null,
            "flex": null,
            "flex_flow": null,
            "grid_area": null,
            "grid_auto_columns": null,
            "grid_auto_flow": null,
            "grid_auto_rows": null,
            "grid_column": null,
            "grid_gap": null,
            "grid_row": null,
            "grid_template_areas": null,
            "grid_template_columns": null,
            "grid_template_rows": null,
            "height": null,
            "justify_content": null,
            "justify_items": null,
            "left": null,
            "margin": null,
            "max_height": null,
            "max_width": null,
            "min_height": null,
            "min_width": null,
            "object_fit": null,
            "object_position": null,
            "order": null,
            "overflow": null,
            "overflow_x": null,
            "overflow_y": null,
            "padding": null,
            "right": null,
            "top": null,
            "visibility": null,
            "width": null
          }
        },
        "9556b4e73cda4f48ac22aabb0032f5cf": {
          "model_module": "@jupyter-widgets/controls",
          "model_name": "DescriptionStyleModel",
          "model_module_version": "1.5.0",
          "state": {
            "_model_module": "@jupyter-widgets/controls",
            "_model_module_version": "1.5.0",
            "_model_name": "DescriptionStyleModel",
            "_view_count": null,
            "_view_module": "@jupyter-widgets/base",
            "_view_module_version": "1.2.0",
            "_view_name": "StyleView",
            "description_width": ""
          }
        },
        "6869b4ab14fc453e87894eb519b3ee53": {
          "model_module": "@jupyter-widgets/controls",
          "model_name": "HBoxModel",
          "model_module_version": "1.5.0",
          "state": {
            "_dom_classes": [],
            "_model_module": "@jupyter-widgets/controls",
            "_model_module_version": "1.5.0",
            "_model_name": "HBoxModel",
            "_view_count": null,
            "_view_module": "@jupyter-widgets/controls",
            "_view_module_version": "1.5.0",
            "_view_name": "HBoxView",
            "box_style": "",
            "children": [
              "IPY_MODEL_860c9a5d1ffe4113b35c6e3ddcf7e256",
              "IPY_MODEL_b28f565629744e109fe68474ac5980da",
              "IPY_MODEL_9a077a581fe34d34ab0c39e3b152dbc2"
            ],
            "layout": "IPY_MODEL_3f216da6dd8e469c87036023da16750a"
          }
        },
        "860c9a5d1ffe4113b35c6e3ddcf7e256": {
          "model_module": "@jupyter-widgets/controls",
          "model_name": "HTMLModel",
          "model_module_version": "1.5.0",
          "state": {
            "_dom_classes": [],
            "_model_module": "@jupyter-widgets/controls",
            "_model_module_version": "1.5.0",
            "_model_name": "HTMLModel",
            "_view_count": null,
            "_view_module": "@jupyter-widgets/controls",
            "_view_module_version": "1.5.0",
            "_view_name": "HTMLView",
            "description": "",
            "description_tooltip": null,
            "layout": "IPY_MODEL_7639fab1cb4b4f349b26b7839a8edca3",
            "placeholder": "​",
            "style": "IPY_MODEL_c9f535d3b5c644469af72a3f0d17d15b",
            "value": "100%"
          }
        },
        "b28f565629744e109fe68474ac5980da": {
          "model_module": "@jupyter-widgets/controls",
          "model_name": "FloatProgressModel",
          "model_module_version": "1.5.0",
          "state": {
            "_dom_classes": [],
            "_model_module": "@jupyter-widgets/controls",
            "_model_module_version": "1.5.0",
            "_model_name": "FloatProgressModel",
            "_view_count": null,
            "_view_module": "@jupyter-widgets/controls",
            "_view_module_version": "1.5.0",
            "_view_name": "ProgressView",
            "bar_style": "success",
            "description": "",
            "description_tooltip": null,
            "layout": "IPY_MODEL_39e52c08513b4624b31626fcefcd6b6d",
            "max": 200,
            "min": 0,
            "orientation": "horizontal",
            "style": "IPY_MODEL_6b2d40e609e64319ade00a623cf75697",
            "value": 200
          }
        },
        "9a077a581fe34d34ab0c39e3b152dbc2": {
          "model_module": "@jupyter-widgets/controls",
          "model_name": "HTMLModel",
          "model_module_version": "1.5.0",
          "state": {
            "_dom_classes": [],
            "_model_module": "@jupyter-widgets/controls",
            "_model_module_version": "1.5.0",
            "_model_name": "HTMLModel",
            "_view_count": null,
            "_view_module": "@jupyter-widgets/controls",
            "_view_module_version": "1.5.0",
            "_view_name": "HTMLView",
            "description": "",
            "description_tooltip": null,
            "layout": "IPY_MODEL_00407b4bf2504ceeac867ef86e5a8f26",
            "placeholder": "​",
            "style": "IPY_MODEL_4f3ae42dbe224747bfaba84cfd0b8525",
            "value": " 200/200 [00:56&lt;00:00,  3.66it/s, correct=82.40%, skipped=3.53%]"
          }
        },
        "3f216da6dd8e469c87036023da16750a": {
          "model_module": "@jupyter-widgets/base",
          "model_name": "LayoutModel",
          "model_module_version": "1.2.0",
          "state": {
            "_model_module": "@jupyter-widgets/base",
            "_model_module_version": "1.2.0",
            "_model_name": "LayoutModel",
            "_view_count": null,
            "_view_module": "@jupyter-widgets/base",
            "_view_module_version": "1.2.0",
            "_view_name": "LayoutView",
            "align_content": null,
            "align_items": null,
            "align_self": null,
            "border": null,
            "bottom": null,
            "display": null,
            "flex": null,
            "flex_flow": null,
            "grid_area": null,
            "grid_auto_columns": null,
            "grid_auto_flow": null,
            "grid_auto_rows": null,
            "grid_column": null,
            "grid_gap": null,
            "grid_row": null,
            "grid_template_areas": null,
            "grid_template_columns": null,
            "grid_template_rows": null,
            "height": null,
            "justify_content": null,
            "justify_items": null,
            "left": null,
            "margin": null,
            "max_height": null,
            "max_width": null,
            "min_height": null,
            "min_width": null,
            "object_fit": null,
            "object_position": null,
            "order": null,
            "overflow": null,
            "overflow_x": null,
            "overflow_y": null,
            "padding": null,
            "right": null,
            "top": null,
            "visibility": null,
            "width": null
          }
        },
        "7639fab1cb4b4f349b26b7839a8edca3": {
          "model_module": "@jupyter-widgets/base",
          "model_name": "LayoutModel",
          "model_module_version": "1.2.0",
          "state": {
            "_model_module": "@jupyter-widgets/base",
            "_model_module_version": "1.2.0",
            "_model_name": "LayoutModel",
            "_view_count": null,
            "_view_module": "@jupyter-widgets/base",
            "_view_module_version": "1.2.0",
            "_view_name": "LayoutView",
            "align_content": null,
            "align_items": null,
            "align_self": null,
            "border": null,
            "bottom": null,
            "display": null,
            "flex": null,
            "flex_flow": null,
            "grid_area": null,
            "grid_auto_columns": null,
            "grid_auto_flow": null,
            "grid_auto_rows": null,
            "grid_column": null,
            "grid_gap": null,
            "grid_row": null,
            "grid_template_areas": null,
            "grid_template_columns": null,
            "grid_template_rows": null,
            "height": null,
            "justify_content": null,
            "justify_items": null,
            "left": null,
            "margin": null,
            "max_height": null,
            "max_width": null,
            "min_height": null,
            "min_width": null,
            "object_fit": null,
            "object_position": null,
            "order": null,
            "overflow": null,
            "overflow_x": null,
            "overflow_y": null,
            "padding": null,
            "right": null,
            "top": null,
            "visibility": null,
            "width": null
          }
        },
        "c9f535d3b5c644469af72a3f0d17d15b": {
          "model_module": "@jupyter-widgets/controls",
          "model_name": "DescriptionStyleModel",
          "model_module_version": "1.5.0",
          "state": {
            "_model_module": "@jupyter-widgets/controls",
            "_model_module_version": "1.5.0",
            "_model_name": "DescriptionStyleModel",
            "_view_count": null,
            "_view_module": "@jupyter-widgets/base",
            "_view_module_version": "1.2.0",
            "_view_name": "StyleView",
            "description_width": ""
          }
        },
        "39e52c08513b4624b31626fcefcd6b6d": {
          "model_module": "@jupyter-widgets/base",
          "model_name": "LayoutModel",
          "model_module_version": "1.2.0",
          "state": {
            "_model_module": "@jupyter-widgets/base",
            "_model_module_version": "1.2.0",
            "_model_name": "LayoutModel",
            "_view_count": null,
            "_view_module": "@jupyter-widgets/base",
            "_view_module_version": "1.2.0",
            "_view_name": "LayoutView",
            "align_content": null,
            "align_items": null,
            "align_self": null,
            "border": null,
            "bottom": null,
            "display": null,
            "flex": null,
            "flex_flow": null,
            "grid_area": null,
            "grid_auto_columns": null,
            "grid_auto_flow": null,
            "grid_auto_rows": null,
            "grid_column": null,
            "grid_gap": null,
            "grid_row": null,
            "grid_template_areas": null,
            "grid_template_columns": null,
            "grid_template_rows": null,
            "height": null,
            "justify_content": null,
            "justify_items": null,
            "left": null,
            "margin": null,
            "max_height": null,
            "max_width": null,
            "min_height": null,
            "min_width": null,
            "object_fit": null,
            "object_position": null,
            "order": null,
            "overflow": null,
            "overflow_x": null,
            "overflow_y": null,
            "padding": null,
            "right": null,
            "top": null,
            "visibility": null,
            "width": null
          }
        },
        "6b2d40e609e64319ade00a623cf75697": {
          "model_module": "@jupyter-widgets/controls",
          "model_name": "ProgressStyleModel",
          "model_module_version": "1.5.0",
          "state": {
            "_model_module": "@jupyter-widgets/controls",
            "_model_module_version": "1.5.0",
            "_model_name": "ProgressStyleModel",
            "_view_count": null,
            "_view_module": "@jupyter-widgets/base",
            "_view_module_version": "1.2.0",
            "_view_name": "StyleView",
            "bar_color": null,
            "description_width": ""
          }
        },
        "00407b4bf2504ceeac867ef86e5a8f26": {
          "model_module": "@jupyter-widgets/base",
          "model_name": "LayoutModel",
          "model_module_version": "1.2.0",
          "state": {
            "_model_module": "@jupyter-widgets/base",
            "_model_module_version": "1.2.0",
            "_model_name": "LayoutModel",
            "_view_count": null,
            "_view_module": "@jupyter-widgets/base",
            "_view_module_version": "1.2.0",
            "_view_name": "LayoutView",
            "align_content": null,
            "align_items": null,
            "align_self": null,
            "border": null,
            "bottom": null,
            "display": null,
            "flex": null,
            "flex_flow": null,
            "grid_area": null,
            "grid_auto_columns": null,
            "grid_auto_flow": null,
            "grid_auto_rows": null,
            "grid_column": null,
            "grid_gap": null,
            "grid_row": null,
            "grid_template_areas": null,
            "grid_template_columns": null,
            "grid_template_rows": null,
            "height": null,
            "justify_content": null,
            "justify_items": null,
            "left": null,
            "margin": null,
            "max_height": null,
            "max_width": null,
            "min_height": null,
            "min_width": null,
            "object_fit": null,
            "object_position": null,
            "order": null,
            "overflow": null,
            "overflow_x": null,
            "overflow_y": null,
            "padding": null,
            "right": null,
            "top": null,
            "visibility": null,
            "width": null
          }
        },
        "4f3ae42dbe224747bfaba84cfd0b8525": {
          "model_module": "@jupyter-widgets/controls",
          "model_name": "DescriptionStyleModel",
          "model_module_version": "1.5.0",
          "state": {
            "_model_module": "@jupyter-widgets/controls",
            "_model_module_version": "1.5.0",
            "_model_name": "DescriptionStyleModel",
            "_view_count": null,
            "_view_module": "@jupyter-widgets/base",
            "_view_module_version": "1.2.0",
            "_view_name": "StyleView",
            "description_width": ""
          }
        },
        "04dd975adb724fda869bc6511bfb2d18": {
          "model_module": "@jupyter-widgets/controls",
          "model_name": "HBoxModel",
          "model_module_version": "1.5.0",
          "state": {
            "_dom_classes": [],
            "_model_module": "@jupyter-widgets/controls",
            "_model_module_version": "1.5.0",
            "_model_name": "HBoxModel",
            "_view_count": null,
            "_view_module": "@jupyter-widgets/controls",
            "_view_module_version": "1.5.0",
            "_view_name": "HBoxView",
            "box_style": "",
            "children": [
              "IPY_MODEL_def3401ca9564aa99cba56ef4727d76b",
              "IPY_MODEL_c27ff0356e6f4404a2dee3323a524a77",
              "IPY_MODEL_8bc4b7491f9e41e087696fa4f1ff2002"
            ],
            "layout": "IPY_MODEL_91bdb9b163264494b1819269af7a6924"
          }
        },
        "def3401ca9564aa99cba56ef4727d76b": {
          "model_module": "@jupyter-widgets/controls",
          "model_name": "HTMLModel",
          "model_module_version": "1.5.0",
          "state": {
            "_dom_classes": [],
            "_model_module": "@jupyter-widgets/controls",
            "_model_module_version": "1.5.0",
            "_model_name": "HTMLModel",
            "_view_count": null,
            "_view_module": "@jupyter-widgets/controls",
            "_view_module_version": "1.5.0",
            "_view_name": "HTMLView",
            "description": "",
            "description_tooltip": null,
            "layout": "IPY_MODEL_2ab27320e740492fbe11b0ff049fcc68",
            "placeholder": "​",
            "style": "IPY_MODEL_27137e34792f4b32b8d6753df63e3bbc",
            "value": "100%"
          }
        },
        "c27ff0356e6f4404a2dee3323a524a77": {
          "model_module": "@jupyter-widgets/controls",
          "model_name": "FloatProgressModel",
          "model_module_version": "1.5.0",
          "state": {
            "_dom_classes": [],
            "_model_module": "@jupyter-widgets/controls",
            "_model_module_version": "1.5.0",
            "_model_name": "FloatProgressModel",
            "_view_count": null,
            "_view_module": "@jupyter-widgets/controls",
            "_view_module_version": "1.5.0",
            "_view_name": "ProgressView",
            "bar_style": "success",
            "description": "",
            "description_tooltip": null,
            "layout": "IPY_MODEL_e3749963c3f94543b70348479bf11b22",
            "max": 100,
            "min": 0,
            "orientation": "horizontal",
            "style": "IPY_MODEL_a707d1f84ee84b4c996a27c8487a1692",
            "value": 100
          }
        },
        "8bc4b7491f9e41e087696fa4f1ff2002": {
          "model_module": "@jupyter-widgets/controls",
          "model_name": "HTMLModel",
          "model_module_version": "1.5.0",
          "state": {
            "_dom_classes": [],
            "_model_module": "@jupyter-widgets/controls",
            "_model_module_version": "1.5.0",
            "_model_name": "HTMLModel",
            "_view_count": null,
            "_view_module": "@jupyter-widgets/controls",
            "_view_module_version": "1.5.0",
            "_view_name": "HTMLView",
            "description": "",
            "description_tooltip": null,
            "layout": "IPY_MODEL_1ae5e217b7a347f596808fa5005f105e",
            "placeholder": "​",
            "style": "IPY_MODEL_5035e4d810354757b4b71b012414b582",
            "value": " 100/100 [00:06&lt;00:00, 18.83it/s, loss=nan]"
          }
        },
        "91bdb9b163264494b1819269af7a6924": {
          "model_module": "@jupyter-widgets/base",
          "model_name": "LayoutModel",
          "model_module_version": "1.2.0",
          "state": {
            "_model_module": "@jupyter-widgets/base",
            "_model_module_version": "1.2.0",
            "_model_name": "LayoutModel",
            "_view_count": null,
            "_view_module": "@jupyter-widgets/base",
            "_view_module_version": "1.2.0",
            "_view_name": "LayoutView",
            "align_content": null,
            "align_items": null,
            "align_self": null,
            "border": null,
            "bottom": null,
            "display": null,
            "flex": null,
            "flex_flow": null,
            "grid_area": null,
            "grid_auto_columns": null,
            "grid_auto_flow": null,
            "grid_auto_rows": null,
            "grid_column": null,
            "grid_gap": null,
            "grid_row": null,
            "grid_template_areas": null,
            "grid_template_columns": null,
            "grid_template_rows": null,
            "height": null,
            "justify_content": null,
            "justify_items": null,
            "left": null,
            "margin": null,
            "max_height": null,
            "max_width": null,
            "min_height": null,
            "min_width": null,
            "object_fit": null,
            "object_position": null,
            "order": null,
            "overflow": null,
            "overflow_x": null,
            "overflow_y": null,
            "padding": null,
            "right": null,
            "top": null,
            "visibility": null,
            "width": null
          }
        },
        "2ab27320e740492fbe11b0ff049fcc68": {
          "model_module": "@jupyter-widgets/base",
          "model_name": "LayoutModel",
          "model_module_version": "1.2.0",
          "state": {
            "_model_module": "@jupyter-widgets/base",
            "_model_module_version": "1.2.0",
            "_model_name": "LayoutModel",
            "_view_count": null,
            "_view_module": "@jupyter-widgets/base",
            "_view_module_version": "1.2.0",
            "_view_name": "LayoutView",
            "align_content": null,
            "align_items": null,
            "align_self": null,
            "border": null,
            "bottom": null,
            "display": null,
            "flex": null,
            "flex_flow": null,
            "grid_area": null,
            "grid_auto_columns": null,
            "grid_auto_flow": null,
            "grid_auto_rows": null,
            "grid_column": null,
            "grid_gap": null,
            "grid_row": null,
            "grid_template_areas": null,
            "grid_template_columns": null,
            "grid_template_rows": null,
            "height": null,
            "justify_content": null,
            "justify_items": null,
            "left": null,
            "margin": null,
            "max_height": null,
            "max_width": null,
            "min_height": null,
            "min_width": null,
            "object_fit": null,
            "object_position": null,
            "order": null,
            "overflow": null,
            "overflow_x": null,
            "overflow_y": null,
            "padding": null,
            "right": null,
            "top": null,
            "visibility": null,
            "width": null
          }
        },
        "27137e34792f4b32b8d6753df63e3bbc": {
          "model_module": "@jupyter-widgets/controls",
          "model_name": "DescriptionStyleModel",
          "model_module_version": "1.5.0",
          "state": {
            "_model_module": "@jupyter-widgets/controls",
            "_model_module_version": "1.5.0",
            "_model_name": "DescriptionStyleModel",
            "_view_count": null,
            "_view_module": "@jupyter-widgets/base",
            "_view_module_version": "1.2.0",
            "_view_name": "StyleView",
            "description_width": ""
          }
        },
        "e3749963c3f94543b70348479bf11b22": {
          "model_module": "@jupyter-widgets/base",
          "model_name": "LayoutModel",
          "model_module_version": "1.2.0",
          "state": {
            "_model_module": "@jupyter-widgets/base",
            "_model_module_version": "1.2.0",
            "_model_name": "LayoutModel",
            "_view_count": null,
            "_view_module": "@jupyter-widgets/base",
            "_view_module_version": "1.2.0",
            "_view_name": "LayoutView",
            "align_content": null,
            "align_items": null,
            "align_self": null,
            "border": null,
            "bottom": null,
            "display": null,
            "flex": null,
            "flex_flow": null,
            "grid_area": null,
            "grid_auto_columns": null,
            "grid_auto_flow": null,
            "grid_auto_rows": null,
            "grid_column": null,
            "grid_gap": null,
            "grid_row": null,
            "grid_template_areas": null,
            "grid_template_columns": null,
            "grid_template_rows": null,
            "height": null,
            "justify_content": null,
            "justify_items": null,
            "left": null,
            "margin": null,
            "max_height": null,
            "max_width": null,
            "min_height": null,
            "min_width": null,
            "object_fit": null,
            "object_position": null,
            "order": null,
            "overflow": null,
            "overflow_x": null,
            "overflow_y": null,
            "padding": null,
            "right": null,
            "top": null,
            "visibility": null,
            "width": null
          }
        },
        "a707d1f84ee84b4c996a27c8487a1692": {
          "model_module": "@jupyter-widgets/controls",
          "model_name": "ProgressStyleModel",
          "model_module_version": "1.5.0",
          "state": {
            "_model_module": "@jupyter-widgets/controls",
            "_model_module_version": "1.5.0",
            "_model_name": "ProgressStyleModel",
            "_view_count": null,
            "_view_module": "@jupyter-widgets/base",
            "_view_module_version": "1.2.0",
            "_view_name": "StyleView",
            "bar_color": null,
            "description_width": ""
          }
        },
        "1ae5e217b7a347f596808fa5005f105e": {
          "model_module": "@jupyter-widgets/base",
          "model_name": "LayoutModel",
          "model_module_version": "1.2.0",
          "state": {
            "_model_module": "@jupyter-widgets/base",
            "_model_module_version": "1.2.0",
            "_model_name": "LayoutModel",
            "_view_count": null,
            "_view_module": "@jupyter-widgets/base",
            "_view_module_version": "1.2.0",
            "_view_name": "LayoutView",
            "align_content": null,
            "align_items": null,
            "align_self": null,
            "border": null,
            "bottom": null,
            "display": null,
            "flex": null,
            "flex_flow": null,
            "grid_area": null,
            "grid_auto_columns": null,
            "grid_auto_flow": null,
            "grid_auto_rows": null,
            "grid_column": null,
            "grid_gap": null,
            "grid_row": null,
            "grid_template_areas": null,
            "grid_template_columns": null,
            "grid_template_rows": null,
            "height": null,
            "justify_content": null,
            "justify_items": null,
            "left": null,
            "margin": null,
            "max_height": null,
            "max_width": null,
            "min_height": null,
            "min_width": null,
            "object_fit": null,
            "object_position": null,
            "order": null,
            "overflow": null,
            "overflow_x": null,
            "overflow_y": null,
            "padding": null,
            "right": null,
            "top": null,
            "visibility": null,
            "width": null
          }
        },
        "5035e4d810354757b4b71b012414b582": {
          "model_module": "@jupyter-widgets/controls",
          "model_name": "DescriptionStyleModel",
          "model_module_version": "1.5.0",
          "state": {
            "_model_module": "@jupyter-widgets/controls",
            "_model_module_version": "1.5.0",
            "_model_name": "DescriptionStyleModel",
            "_view_count": null,
            "_view_module": "@jupyter-widgets/base",
            "_view_module_version": "1.2.0",
            "_view_name": "StyleView",
            "description_width": ""
          }
        },
        "384db7ad154d49e0a214910317004d7c": {
          "model_module": "@jupyter-widgets/controls",
          "model_name": "HBoxModel",
          "model_module_version": "1.5.0",
          "state": {
            "_dom_classes": [],
            "_model_module": "@jupyter-widgets/controls",
            "_model_module_version": "1.5.0",
            "_model_name": "HBoxModel",
            "_view_count": null,
            "_view_module": "@jupyter-widgets/controls",
            "_view_module_version": "1.5.0",
            "_view_name": "HBoxView",
            "box_style": "",
            "children": [
              "IPY_MODEL_8bc155d5c808439c907c2c2d00cf48d7",
              "IPY_MODEL_715d1578b11f4e44ac6710f4a9f49697",
              "IPY_MODEL_09c08c8fb8e648539cd20e5c498221f8"
            ],
            "layout": "IPY_MODEL_6a94bd8148c24780b2e0fb6ea6ebe4f9"
          }
        },
        "8bc155d5c808439c907c2c2d00cf48d7": {
          "model_module": "@jupyter-widgets/controls",
          "model_name": "HTMLModel",
          "model_module_version": "1.5.0",
          "state": {
            "_dom_classes": [],
            "_model_module": "@jupyter-widgets/controls",
            "_model_module_version": "1.5.0",
            "_model_name": "HTMLModel",
            "_view_count": null,
            "_view_module": "@jupyter-widgets/controls",
            "_view_module_version": "1.5.0",
            "_view_name": "HTMLView",
            "description": "",
            "description_tooltip": null,
            "layout": "IPY_MODEL_f9346850c6394677b0e348a036dde180",
            "placeholder": "​",
            "style": "IPY_MODEL_d94b9d26ffb44684a4b488c6311c371b",
            "value": "100%"
          }
        },
        "715d1578b11f4e44ac6710f4a9f49697": {
          "model_module": "@jupyter-widgets/controls",
          "model_name": "FloatProgressModel",
          "model_module_version": "1.5.0",
          "state": {
            "_dom_classes": [],
            "_model_module": "@jupyter-widgets/controls",
            "_model_module_version": "1.5.0",
            "_model_name": "FloatProgressModel",
            "_view_count": null,
            "_view_module": "@jupyter-widgets/controls",
            "_view_module_version": "1.5.0",
            "_view_name": "ProgressView",
            "bar_style": "success",
            "description": "",
            "description_tooltip": null,
            "layout": "IPY_MODEL_78ac521e643644589ef4a8c248de59ce",
            "max": 50,
            "min": 0,
            "orientation": "horizontal",
            "style": "IPY_MODEL_7ebf9e11b5a443d983c1a450c74d3826",
            "value": 50
          }
        },
        "09c08c8fb8e648539cd20e5c498221f8": {
          "model_module": "@jupyter-widgets/controls",
          "model_name": "HTMLModel",
          "model_module_version": "1.5.0",
          "state": {
            "_dom_classes": [],
            "_model_module": "@jupyter-widgets/controls",
            "_model_module_version": "1.5.0",
            "_model_name": "HTMLModel",
            "_view_count": null,
            "_view_module": "@jupyter-widgets/controls",
            "_view_module_version": "1.5.0",
            "_view_name": "HTMLView",
            "description": "",
            "description_tooltip": null,
            "layout": "IPY_MODEL_db5560ce21dd41998ee53cb55878a950",
            "placeholder": "​",
            "style": "IPY_MODEL_9ece7c0a4009410f910ae70b1e5cae48",
            "value": " 50/50 [00:04&lt;00:00, 11.12it/s, loss=100705615872.00]"
          }
        },
        "6a94bd8148c24780b2e0fb6ea6ebe4f9": {
          "model_module": "@jupyter-widgets/base",
          "model_name": "LayoutModel",
          "model_module_version": "1.2.0",
          "state": {
            "_model_module": "@jupyter-widgets/base",
            "_model_module_version": "1.2.0",
            "_model_name": "LayoutModel",
            "_view_count": null,
            "_view_module": "@jupyter-widgets/base",
            "_view_module_version": "1.2.0",
            "_view_name": "LayoutView",
            "align_content": null,
            "align_items": null,
            "align_self": null,
            "border": null,
            "bottom": null,
            "display": null,
            "flex": null,
            "flex_flow": null,
            "grid_area": null,
            "grid_auto_columns": null,
            "grid_auto_flow": null,
            "grid_auto_rows": null,
            "grid_column": null,
            "grid_gap": null,
            "grid_row": null,
            "grid_template_areas": null,
            "grid_template_columns": null,
            "grid_template_rows": null,
            "height": null,
            "justify_content": null,
            "justify_items": null,
            "left": null,
            "margin": null,
            "max_height": null,
            "max_width": null,
            "min_height": null,
            "min_width": null,
            "object_fit": null,
            "object_position": null,
            "order": null,
            "overflow": null,
            "overflow_x": null,
            "overflow_y": null,
            "padding": null,
            "right": null,
            "top": null,
            "visibility": null,
            "width": null
          }
        },
        "f9346850c6394677b0e348a036dde180": {
          "model_module": "@jupyter-widgets/base",
          "model_name": "LayoutModel",
          "model_module_version": "1.2.0",
          "state": {
            "_model_module": "@jupyter-widgets/base",
            "_model_module_version": "1.2.0",
            "_model_name": "LayoutModel",
            "_view_count": null,
            "_view_module": "@jupyter-widgets/base",
            "_view_module_version": "1.2.0",
            "_view_name": "LayoutView",
            "align_content": null,
            "align_items": null,
            "align_self": null,
            "border": null,
            "bottom": null,
            "display": null,
            "flex": null,
            "flex_flow": null,
            "grid_area": null,
            "grid_auto_columns": null,
            "grid_auto_flow": null,
            "grid_auto_rows": null,
            "grid_column": null,
            "grid_gap": null,
            "grid_row": null,
            "grid_template_areas": null,
            "grid_template_columns": null,
            "grid_template_rows": null,
            "height": null,
            "justify_content": null,
            "justify_items": null,
            "left": null,
            "margin": null,
            "max_height": null,
            "max_width": null,
            "min_height": null,
            "min_width": null,
            "object_fit": null,
            "object_position": null,
            "order": null,
            "overflow": null,
            "overflow_x": null,
            "overflow_y": null,
            "padding": null,
            "right": null,
            "top": null,
            "visibility": null,
            "width": null
          }
        },
        "d94b9d26ffb44684a4b488c6311c371b": {
          "model_module": "@jupyter-widgets/controls",
          "model_name": "DescriptionStyleModel",
          "model_module_version": "1.5.0",
          "state": {
            "_model_module": "@jupyter-widgets/controls",
            "_model_module_version": "1.5.0",
            "_model_name": "DescriptionStyleModel",
            "_view_count": null,
            "_view_module": "@jupyter-widgets/base",
            "_view_module_version": "1.2.0",
            "_view_name": "StyleView",
            "description_width": ""
          }
        },
        "78ac521e643644589ef4a8c248de59ce": {
          "model_module": "@jupyter-widgets/base",
          "model_name": "LayoutModel",
          "model_module_version": "1.2.0",
          "state": {
            "_model_module": "@jupyter-widgets/base",
            "_model_module_version": "1.2.0",
            "_model_name": "LayoutModel",
            "_view_count": null,
            "_view_module": "@jupyter-widgets/base",
            "_view_module_version": "1.2.0",
            "_view_name": "LayoutView",
            "align_content": null,
            "align_items": null,
            "align_self": null,
            "border": null,
            "bottom": null,
            "display": null,
            "flex": null,
            "flex_flow": null,
            "grid_area": null,
            "grid_auto_columns": null,
            "grid_auto_flow": null,
            "grid_auto_rows": null,
            "grid_column": null,
            "grid_gap": null,
            "grid_row": null,
            "grid_template_areas": null,
            "grid_template_columns": null,
            "grid_template_rows": null,
            "height": null,
            "justify_content": null,
            "justify_items": null,
            "left": null,
            "margin": null,
            "max_height": null,
            "max_width": null,
            "min_height": null,
            "min_width": null,
            "object_fit": null,
            "object_position": null,
            "order": null,
            "overflow": null,
            "overflow_x": null,
            "overflow_y": null,
            "padding": null,
            "right": null,
            "top": null,
            "visibility": null,
            "width": null
          }
        },
        "7ebf9e11b5a443d983c1a450c74d3826": {
          "model_module": "@jupyter-widgets/controls",
          "model_name": "ProgressStyleModel",
          "model_module_version": "1.5.0",
          "state": {
            "_model_module": "@jupyter-widgets/controls",
            "_model_module_version": "1.5.0",
            "_model_name": "ProgressStyleModel",
            "_view_count": null,
            "_view_module": "@jupyter-widgets/base",
            "_view_module_version": "1.2.0",
            "_view_name": "StyleView",
            "bar_color": null,
            "description_width": ""
          }
        },
        "db5560ce21dd41998ee53cb55878a950": {
          "model_module": "@jupyter-widgets/base",
          "model_name": "LayoutModel",
          "model_module_version": "1.2.0",
          "state": {
            "_model_module": "@jupyter-widgets/base",
            "_model_module_version": "1.2.0",
            "_model_name": "LayoutModel",
            "_view_count": null,
            "_view_module": "@jupyter-widgets/base",
            "_view_module_version": "1.2.0",
            "_view_name": "LayoutView",
            "align_content": null,
            "align_items": null,
            "align_self": null,
            "border": null,
            "bottom": null,
            "display": null,
            "flex": null,
            "flex_flow": null,
            "grid_area": null,
            "grid_auto_columns": null,
            "grid_auto_flow": null,
            "grid_auto_rows": null,
            "grid_column": null,
            "grid_gap": null,
            "grid_row": null,
            "grid_template_areas": null,
            "grid_template_columns": null,
            "grid_template_rows": null,
            "height": null,
            "justify_content": null,
            "justify_items": null,
            "left": null,
            "margin": null,
            "max_height": null,
            "max_width": null,
            "min_height": null,
            "min_width": null,
            "object_fit": null,
            "object_position": null,
            "order": null,
            "overflow": null,
            "overflow_x": null,
            "overflow_y": null,
            "padding": null,
            "right": null,
            "top": null,
            "visibility": null,
            "width": null
          }
        },
        "9ece7c0a4009410f910ae70b1e5cae48": {
          "model_module": "@jupyter-widgets/controls",
          "model_name": "DescriptionStyleModel",
          "model_module_version": "1.5.0",
          "state": {
            "_model_module": "@jupyter-widgets/controls",
            "_model_module_version": "1.5.0",
            "_model_name": "DescriptionStyleModel",
            "_view_count": null,
            "_view_module": "@jupyter-widgets/base",
            "_view_module_version": "1.2.0",
            "_view_name": "StyleView",
            "description_width": ""
          }
        },
        "33ae2aa2c4274d3e90069cc7da0268d6": {
          "model_module": "@jupyter-widgets/controls",
          "model_name": "HBoxModel",
          "model_module_version": "1.5.0",
          "state": {
            "_dom_classes": [],
            "_model_module": "@jupyter-widgets/controls",
            "_model_module_version": "1.5.0",
            "_model_name": "HBoxModel",
            "_view_count": null,
            "_view_module": "@jupyter-widgets/controls",
            "_view_module_version": "1.5.0",
            "_view_name": "HBoxView",
            "box_style": "",
            "children": [
              "IPY_MODEL_c14bb0f450c04681ba80cc2d5cfddbce",
              "IPY_MODEL_48216479f46449008a8b118aec47baf4",
              "IPY_MODEL_b1993b53e4f94e9cbd355715cb6c0d06"
            ],
            "layout": "IPY_MODEL_8b3e007512754f0eb44772d65bd37cbb"
          }
        },
        "c14bb0f450c04681ba80cc2d5cfddbce": {
          "model_module": "@jupyter-widgets/controls",
          "model_name": "HTMLModel",
          "model_module_version": "1.5.0",
          "state": {
            "_dom_classes": [],
            "_model_module": "@jupyter-widgets/controls",
            "_model_module_version": "1.5.0",
            "_model_name": "HTMLModel",
            "_view_count": null,
            "_view_module": "@jupyter-widgets/controls",
            "_view_module_version": "1.5.0",
            "_view_name": "HTMLView",
            "description": "",
            "description_tooltip": null,
            "layout": "IPY_MODEL_28bf3463ad2847a289d37c59adb5379b",
            "placeholder": "​",
            "style": "IPY_MODEL_a95250fbcf2b4075a2e5de22c1b0bae9",
            "value": "100%"
          }
        },
        "48216479f46449008a8b118aec47baf4": {
          "model_module": "@jupyter-widgets/controls",
          "model_name": "FloatProgressModel",
          "model_module_version": "1.5.0",
          "state": {
            "_dom_classes": [],
            "_model_module": "@jupyter-widgets/controls",
            "_model_module_version": "1.5.0",
            "_model_name": "FloatProgressModel",
            "_view_count": null,
            "_view_module": "@jupyter-widgets/controls",
            "_view_module_version": "1.5.0",
            "_view_name": "ProgressView",
            "bar_style": "success",
            "description": "",
            "description_tooltip": null,
            "layout": "IPY_MODEL_ab5d7b2a7d444a03bfc090ef25c5cc17",
            "max": 50,
            "min": 0,
            "orientation": "horizontal",
            "style": "IPY_MODEL_c80a2a9b818443959e64af63d5a29c4f",
            "value": 50
          }
        },
        "b1993b53e4f94e9cbd355715cb6c0d06": {
          "model_module": "@jupyter-widgets/controls",
          "model_name": "HTMLModel",
          "model_module_version": "1.5.0",
          "state": {
            "_dom_classes": [],
            "_model_module": "@jupyter-widgets/controls",
            "_model_module_version": "1.5.0",
            "_model_name": "HTMLModel",
            "_view_count": null,
            "_view_module": "@jupyter-widgets/controls",
            "_view_module_version": "1.5.0",
            "_view_name": "HTMLView",
            "description": "",
            "description_tooltip": null,
            "layout": "IPY_MODEL_b6917a8777ad4c88bbd37e8048af52e7",
            "placeholder": "​",
            "style": "IPY_MODEL_6556f198f0d64b7696d75346c2007d2b",
            "value": " 50/50 [01:26&lt;00:00,  1.62s/it, loss=7.84e+5]"
          }
        },
        "8b3e007512754f0eb44772d65bd37cbb": {
          "model_module": "@jupyter-widgets/base",
          "model_name": "LayoutModel",
          "model_module_version": "1.2.0",
          "state": {
            "_model_module": "@jupyter-widgets/base",
            "_model_module_version": "1.2.0",
            "_model_name": "LayoutModel",
            "_view_count": null,
            "_view_module": "@jupyter-widgets/base",
            "_view_module_version": "1.2.0",
            "_view_name": "LayoutView",
            "align_content": null,
            "align_items": null,
            "align_self": null,
            "border": null,
            "bottom": null,
            "display": null,
            "flex": null,
            "flex_flow": null,
            "grid_area": null,
            "grid_auto_columns": null,
            "grid_auto_flow": null,
            "grid_auto_rows": null,
            "grid_column": null,
            "grid_gap": null,
            "grid_row": null,
            "grid_template_areas": null,
            "grid_template_columns": null,
            "grid_template_rows": null,
            "height": null,
            "justify_content": null,
            "justify_items": null,
            "left": null,
            "margin": null,
            "max_height": null,
            "max_width": null,
            "min_height": null,
            "min_width": null,
            "object_fit": null,
            "object_position": null,
            "order": null,
            "overflow": null,
            "overflow_x": null,
            "overflow_y": null,
            "padding": null,
            "right": null,
            "top": null,
            "visibility": null,
            "width": null
          }
        },
        "28bf3463ad2847a289d37c59adb5379b": {
          "model_module": "@jupyter-widgets/base",
          "model_name": "LayoutModel",
          "model_module_version": "1.2.0",
          "state": {
            "_model_module": "@jupyter-widgets/base",
            "_model_module_version": "1.2.0",
            "_model_name": "LayoutModel",
            "_view_count": null,
            "_view_module": "@jupyter-widgets/base",
            "_view_module_version": "1.2.0",
            "_view_name": "LayoutView",
            "align_content": null,
            "align_items": null,
            "align_self": null,
            "border": null,
            "bottom": null,
            "display": null,
            "flex": null,
            "flex_flow": null,
            "grid_area": null,
            "grid_auto_columns": null,
            "grid_auto_flow": null,
            "grid_auto_rows": null,
            "grid_column": null,
            "grid_gap": null,
            "grid_row": null,
            "grid_template_areas": null,
            "grid_template_columns": null,
            "grid_template_rows": null,
            "height": null,
            "justify_content": null,
            "justify_items": null,
            "left": null,
            "margin": null,
            "max_height": null,
            "max_width": null,
            "min_height": null,
            "min_width": null,
            "object_fit": null,
            "object_position": null,
            "order": null,
            "overflow": null,
            "overflow_x": null,
            "overflow_y": null,
            "padding": null,
            "right": null,
            "top": null,
            "visibility": null,
            "width": null
          }
        },
        "a95250fbcf2b4075a2e5de22c1b0bae9": {
          "model_module": "@jupyter-widgets/controls",
          "model_name": "DescriptionStyleModel",
          "model_module_version": "1.5.0",
          "state": {
            "_model_module": "@jupyter-widgets/controls",
            "_model_module_version": "1.5.0",
            "_model_name": "DescriptionStyleModel",
            "_view_count": null,
            "_view_module": "@jupyter-widgets/base",
            "_view_module_version": "1.2.0",
            "_view_name": "StyleView",
            "description_width": ""
          }
        },
        "ab5d7b2a7d444a03bfc090ef25c5cc17": {
          "model_module": "@jupyter-widgets/base",
          "model_name": "LayoutModel",
          "model_module_version": "1.2.0",
          "state": {
            "_model_module": "@jupyter-widgets/base",
            "_model_module_version": "1.2.0",
            "_model_name": "LayoutModel",
            "_view_count": null,
            "_view_module": "@jupyter-widgets/base",
            "_view_module_version": "1.2.0",
            "_view_name": "LayoutView",
            "align_content": null,
            "align_items": null,
            "align_self": null,
            "border": null,
            "bottom": null,
            "display": null,
            "flex": null,
            "flex_flow": null,
            "grid_area": null,
            "grid_auto_columns": null,
            "grid_auto_flow": null,
            "grid_auto_rows": null,
            "grid_column": null,
            "grid_gap": null,
            "grid_row": null,
            "grid_template_areas": null,
            "grid_template_columns": null,
            "grid_template_rows": null,
            "height": null,
            "justify_content": null,
            "justify_items": null,
            "left": null,
            "margin": null,
            "max_height": null,
            "max_width": null,
            "min_height": null,
            "min_width": null,
            "object_fit": null,
            "object_position": null,
            "order": null,
            "overflow": null,
            "overflow_x": null,
            "overflow_y": null,
            "padding": null,
            "right": null,
            "top": null,
            "visibility": null,
            "width": null
          }
        },
        "c80a2a9b818443959e64af63d5a29c4f": {
          "model_module": "@jupyter-widgets/controls",
          "model_name": "ProgressStyleModel",
          "model_module_version": "1.5.0",
          "state": {
            "_model_module": "@jupyter-widgets/controls",
            "_model_module_version": "1.5.0",
            "_model_name": "ProgressStyleModel",
            "_view_count": null,
            "_view_module": "@jupyter-widgets/base",
            "_view_module_version": "1.2.0",
            "_view_name": "StyleView",
            "bar_color": null,
            "description_width": ""
          }
        },
        "b6917a8777ad4c88bbd37e8048af52e7": {
          "model_module": "@jupyter-widgets/base",
          "model_name": "LayoutModel",
          "model_module_version": "1.2.0",
          "state": {
            "_model_module": "@jupyter-widgets/base",
            "_model_module_version": "1.2.0",
            "_model_name": "LayoutModel",
            "_view_count": null,
            "_view_module": "@jupyter-widgets/base",
            "_view_module_version": "1.2.0",
            "_view_name": "LayoutView",
            "align_content": null,
            "align_items": null,
            "align_self": null,
            "border": null,
            "bottom": null,
            "display": null,
            "flex": null,
            "flex_flow": null,
            "grid_area": null,
            "grid_auto_columns": null,
            "grid_auto_flow": null,
            "grid_auto_rows": null,
            "grid_column": null,
            "grid_gap": null,
            "grid_row": null,
            "grid_template_areas": null,
            "grid_template_columns": null,
            "grid_template_rows": null,
            "height": null,
            "justify_content": null,
            "justify_items": null,
            "left": null,
            "margin": null,
            "max_height": null,
            "max_width": null,
            "min_height": null,
            "min_width": null,
            "object_fit": null,
            "object_position": null,
            "order": null,
            "overflow": null,
            "overflow_x": null,
            "overflow_y": null,
            "padding": null,
            "right": null,
            "top": null,
            "visibility": null,
            "width": null
          }
        },
        "6556f198f0d64b7696d75346c2007d2b": {
          "model_module": "@jupyter-widgets/controls",
          "model_name": "DescriptionStyleModel",
          "model_module_version": "1.5.0",
          "state": {
            "_model_module": "@jupyter-widgets/controls",
            "_model_module_version": "1.5.0",
            "_model_name": "DescriptionStyleModel",
            "_view_count": null,
            "_view_module": "@jupyter-widgets/base",
            "_view_module_version": "1.2.0",
            "_view_name": "StyleView",
            "description_width": ""
          }
        },
        "8a92771ec8054276b1193712aee96611": {
          "model_module": "@jupyter-widgets/controls",
          "model_name": "HBoxModel",
          "model_module_version": "1.5.0",
          "state": {
            "_dom_classes": [],
            "_model_module": "@jupyter-widgets/controls",
            "_model_module_version": "1.5.0",
            "_model_name": "HBoxModel",
            "_view_count": null,
            "_view_module": "@jupyter-widgets/controls",
            "_view_module_version": "1.5.0",
            "_view_name": "HBoxView",
            "box_style": "",
            "children": [
              "IPY_MODEL_77616e9d0fbe4cc893e9a81b46e158b5",
              "IPY_MODEL_86c0b1b4b141496f9b6b7e490c317836",
              "IPY_MODEL_58445b346b3d48d78dc4734e84b021e3"
            ],
            "layout": "IPY_MODEL_01a095be3dd040c1b8c06e6424d59458"
          }
        },
        "77616e9d0fbe4cc893e9a81b46e158b5": {
          "model_module": "@jupyter-widgets/controls",
          "model_name": "HTMLModel",
          "model_module_version": "1.5.0",
          "state": {
            "_dom_classes": [],
            "_model_module": "@jupyter-widgets/controls",
            "_model_module_version": "1.5.0",
            "_model_name": "HTMLModel",
            "_view_count": null,
            "_view_module": "@jupyter-widgets/controls",
            "_view_module_version": "1.5.0",
            "_view_name": "HTMLView",
            "description": "",
            "description_tooltip": null,
            "layout": "IPY_MODEL_8de715121b7b4d5986a1845f87b162e8",
            "placeholder": "​",
            "style": "IPY_MODEL_9d9bb0bf72f145eb8af1fcc21b3fc27b",
            "value": "100%"
          }
        },
        "86c0b1b4b141496f9b6b7e490c317836": {
          "model_module": "@jupyter-widgets/controls",
          "model_name": "FloatProgressModel",
          "model_module_version": "1.5.0",
          "state": {
            "_dom_classes": [],
            "_model_module": "@jupyter-widgets/controls",
            "_model_module_version": "1.5.0",
            "_model_name": "FloatProgressModel",
            "_view_count": null,
            "_view_module": "@jupyter-widgets/controls",
            "_view_module_version": "1.5.0",
            "_view_name": "ProgressView",
            "bar_style": "success",
            "description": "",
            "description_tooltip": null,
            "layout": "IPY_MODEL_04fc31ed442f42fa8c1ad837130438f5",
            "max": 1,
            "min": 0,
            "orientation": "horizontal",
            "style": "IPY_MODEL_b9be135cf18e4fd4a58bffe2fb9fcb36",
            "value": 1
          }
        },
        "58445b346b3d48d78dc4734e84b021e3": {
          "model_module": "@jupyter-widgets/controls",
          "model_name": "HTMLModel",
          "model_module_version": "1.5.0",
          "state": {
            "_dom_classes": [],
            "_model_module": "@jupyter-widgets/controls",
            "_model_module_version": "1.5.0",
            "_model_name": "HTMLModel",
            "_view_count": null,
            "_view_module": "@jupyter-widgets/controls",
            "_view_module_version": "1.5.0",
            "_view_name": "HTMLView",
            "description": "",
            "description_tooltip": null,
            "layout": "IPY_MODEL_1c5d780a75c34d08b00fcfb713ca92bb",
            "placeholder": "​",
            "style": "IPY_MODEL_45d5b09150504cffa5b490bb9ca63be2",
            "value": " 1/1 [01:26&lt;00:00, 86.30s/it, loss=0.446]"
          }
        },
        "01a095be3dd040c1b8c06e6424d59458": {
          "model_module": "@jupyter-widgets/base",
          "model_name": "LayoutModel",
          "model_module_version": "1.2.0",
          "state": {
            "_model_module": "@jupyter-widgets/base",
            "_model_module_version": "1.2.0",
            "_model_name": "LayoutModel",
            "_view_count": null,
            "_view_module": "@jupyter-widgets/base",
            "_view_module_version": "1.2.0",
            "_view_name": "LayoutView",
            "align_content": null,
            "align_items": null,
            "align_self": null,
            "border": null,
            "bottom": null,
            "display": null,
            "flex": null,
            "flex_flow": null,
            "grid_area": null,
            "grid_auto_columns": null,
            "grid_auto_flow": null,
            "grid_auto_rows": null,
            "grid_column": null,
            "grid_gap": null,
            "grid_row": null,
            "grid_template_areas": null,
            "grid_template_columns": null,
            "grid_template_rows": null,
            "height": null,
            "justify_content": null,
            "justify_items": null,
            "left": null,
            "margin": null,
            "max_height": null,
            "max_width": null,
            "min_height": null,
            "min_width": null,
            "object_fit": null,
            "object_position": null,
            "order": null,
            "overflow": null,
            "overflow_x": null,
            "overflow_y": null,
            "padding": null,
            "right": null,
            "top": null,
            "visibility": null,
            "width": null
          }
        },
        "8de715121b7b4d5986a1845f87b162e8": {
          "model_module": "@jupyter-widgets/base",
          "model_name": "LayoutModel",
          "model_module_version": "1.2.0",
          "state": {
            "_model_module": "@jupyter-widgets/base",
            "_model_module_version": "1.2.0",
            "_model_name": "LayoutModel",
            "_view_count": null,
            "_view_module": "@jupyter-widgets/base",
            "_view_module_version": "1.2.0",
            "_view_name": "LayoutView",
            "align_content": null,
            "align_items": null,
            "align_self": null,
            "border": null,
            "bottom": null,
            "display": null,
            "flex": null,
            "flex_flow": null,
            "grid_area": null,
            "grid_auto_columns": null,
            "grid_auto_flow": null,
            "grid_auto_rows": null,
            "grid_column": null,
            "grid_gap": null,
            "grid_row": null,
            "grid_template_areas": null,
            "grid_template_columns": null,
            "grid_template_rows": null,
            "height": null,
            "justify_content": null,
            "justify_items": null,
            "left": null,
            "margin": null,
            "max_height": null,
            "max_width": null,
            "min_height": null,
            "min_width": null,
            "object_fit": null,
            "object_position": null,
            "order": null,
            "overflow": null,
            "overflow_x": null,
            "overflow_y": null,
            "padding": null,
            "right": null,
            "top": null,
            "visibility": null,
            "width": null
          }
        },
        "9d9bb0bf72f145eb8af1fcc21b3fc27b": {
          "model_module": "@jupyter-widgets/controls",
          "model_name": "DescriptionStyleModel",
          "model_module_version": "1.5.0",
          "state": {
            "_model_module": "@jupyter-widgets/controls",
            "_model_module_version": "1.5.0",
            "_model_name": "DescriptionStyleModel",
            "_view_count": null,
            "_view_module": "@jupyter-widgets/base",
            "_view_module_version": "1.2.0",
            "_view_name": "StyleView",
            "description_width": ""
          }
        },
        "04fc31ed442f42fa8c1ad837130438f5": {
          "model_module": "@jupyter-widgets/base",
          "model_name": "LayoutModel",
          "model_module_version": "1.2.0",
          "state": {
            "_model_module": "@jupyter-widgets/base",
            "_model_module_version": "1.2.0",
            "_model_name": "LayoutModel",
            "_view_count": null,
            "_view_module": "@jupyter-widgets/base",
            "_view_module_version": "1.2.0",
            "_view_name": "LayoutView",
            "align_content": null,
            "align_items": null,
            "align_self": null,
            "border": null,
            "bottom": null,
            "display": null,
            "flex": null,
            "flex_flow": null,
            "grid_area": null,
            "grid_auto_columns": null,
            "grid_auto_flow": null,
            "grid_auto_rows": null,
            "grid_column": null,
            "grid_gap": null,
            "grid_row": null,
            "grid_template_areas": null,
            "grid_template_columns": null,
            "grid_template_rows": null,
            "height": null,
            "justify_content": null,
            "justify_items": null,
            "left": null,
            "margin": null,
            "max_height": null,
            "max_width": null,
            "min_height": null,
            "min_width": null,
            "object_fit": null,
            "object_position": null,
            "order": null,
            "overflow": null,
            "overflow_x": null,
            "overflow_y": null,
            "padding": null,
            "right": null,
            "top": null,
            "visibility": null,
            "width": null
          }
        },
        "b9be135cf18e4fd4a58bffe2fb9fcb36": {
          "model_module": "@jupyter-widgets/controls",
          "model_name": "ProgressStyleModel",
          "model_module_version": "1.5.0",
          "state": {
            "_model_module": "@jupyter-widgets/controls",
            "_model_module_version": "1.5.0",
            "_model_name": "ProgressStyleModel",
            "_view_count": null,
            "_view_module": "@jupyter-widgets/base",
            "_view_module_version": "1.2.0",
            "_view_name": "StyleView",
            "bar_color": null,
            "description_width": ""
          }
        },
        "1c5d780a75c34d08b00fcfb713ca92bb": {
          "model_module": "@jupyter-widgets/base",
          "model_name": "LayoutModel",
          "model_module_version": "1.2.0",
          "state": {
            "_model_module": "@jupyter-widgets/base",
            "_model_module_version": "1.2.0",
            "_model_name": "LayoutModel",
            "_view_count": null,
            "_view_module": "@jupyter-widgets/base",
            "_view_module_version": "1.2.0",
            "_view_name": "LayoutView",
            "align_content": null,
            "align_items": null,
            "align_self": null,
            "border": null,
            "bottom": null,
            "display": null,
            "flex": null,
            "flex_flow": null,
            "grid_area": null,
            "grid_auto_columns": null,
            "grid_auto_flow": null,
            "grid_auto_rows": null,
            "grid_column": null,
            "grid_gap": null,
            "grid_row": null,
            "grid_template_areas": null,
            "grid_template_columns": null,
            "grid_template_rows": null,
            "height": null,
            "justify_content": null,
            "justify_items": null,
            "left": null,
            "margin": null,
            "max_height": null,
            "max_width": null,
            "min_height": null,
            "min_width": null,
            "object_fit": null,
            "object_position": null,
            "order": null,
            "overflow": null,
            "overflow_x": null,
            "overflow_y": null,
            "padding": null,
            "right": null,
            "top": null,
            "visibility": null,
            "width": null
          }
        },
        "45d5b09150504cffa5b490bb9ca63be2": {
          "model_module": "@jupyter-widgets/controls",
          "model_name": "DescriptionStyleModel",
          "model_module_version": "1.5.0",
          "state": {
            "_model_module": "@jupyter-widgets/controls",
            "_model_module_version": "1.5.0",
            "_model_name": "DescriptionStyleModel",
            "_view_count": null,
            "_view_module": "@jupyter-widgets/base",
            "_view_module_version": "1.2.0",
            "_view_name": "StyleView",
            "description_width": ""
          }
        },
        "b7b58f4b394940919405479f92c7bcab": {
          "model_module": "@jupyter-widgets/controls",
          "model_name": "HBoxModel",
          "model_module_version": "1.5.0",
          "state": {
            "_dom_classes": [],
            "_model_module": "@jupyter-widgets/controls",
            "_model_module_version": "1.5.0",
            "_model_name": "HBoxModel",
            "_view_count": null,
            "_view_module": "@jupyter-widgets/controls",
            "_view_module_version": "1.5.0",
            "_view_name": "HBoxView",
            "box_style": "",
            "children": [
              "IPY_MODEL_06459d42d9bb4fc18e91e9b0159494dd",
              "IPY_MODEL_4a01644a58e047498bd7d004c771ba51",
              "IPY_MODEL_071fd79e37df451390dbf8f6f722344e"
            ],
            "layout": "IPY_MODEL_79d84cad5b5e42759f4031245b1e9205"
          }
        },
        "06459d42d9bb4fc18e91e9b0159494dd": {
          "model_module": "@jupyter-widgets/controls",
          "model_name": "HTMLModel",
          "model_module_version": "1.5.0",
          "state": {
            "_dom_classes": [],
            "_model_module": "@jupyter-widgets/controls",
            "_model_module_version": "1.5.0",
            "_model_name": "HTMLModel",
            "_view_count": null,
            "_view_module": "@jupyter-widgets/controls",
            "_view_module_version": "1.5.0",
            "_view_name": "HTMLView",
            "description": "",
            "description_tooltip": null,
            "layout": "IPY_MODEL_e017b1f4188540a5b0897f1784a57803",
            "placeholder": "​",
            "style": "IPY_MODEL_13e73189f8e4418889aa20d3c26eef11",
            "value": "100%"
          }
        },
        "4a01644a58e047498bd7d004c771ba51": {
          "model_module": "@jupyter-widgets/controls",
          "model_name": "FloatProgressModel",
          "model_module_version": "1.5.0",
          "state": {
            "_dom_classes": [],
            "_model_module": "@jupyter-widgets/controls",
            "_model_module_version": "1.5.0",
            "_model_name": "FloatProgressModel",
            "_view_count": null,
            "_view_module": "@jupyter-widgets/controls",
            "_view_module_version": "1.5.0",
            "_view_name": "ProgressView",
            "bar_style": "success",
            "description": "",
            "description_tooltip": null,
            "layout": "IPY_MODEL_ce56c6cc65f440f9b05adb08810724f7",
            "max": 100,
            "min": 0,
            "orientation": "horizontal",
            "style": "IPY_MODEL_338a5a7339464b709dc3e2ce553dca76",
            "value": 100
          }
        },
        "071fd79e37df451390dbf8f6f722344e": {
          "model_module": "@jupyter-widgets/controls",
          "model_name": "HTMLModel",
          "model_module_version": "1.5.0",
          "state": {
            "_dom_classes": [],
            "_model_module": "@jupyter-widgets/controls",
            "_model_module_version": "1.5.0",
            "_model_name": "HTMLModel",
            "_view_count": null,
            "_view_module": "@jupyter-widgets/controls",
            "_view_module_version": "1.5.0",
            "_view_name": "HTMLView",
            "description": "",
            "description_tooltip": null,
            "layout": "IPY_MODEL_1135eea6e4ae480ba2b74af2be8973f0",
            "placeholder": "​",
            "style": "IPY_MODEL_a5b80bc1ec774e86ba0b57baf5a153a0",
            "value": " 100/100 [03:45&lt;00:00,  2.54s/it, loss=27.2]"
          }
        },
        "79d84cad5b5e42759f4031245b1e9205": {
          "model_module": "@jupyter-widgets/base",
          "model_name": "LayoutModel",
          "model_module_version": "1.2.0",
          "state": {
            "_model_module": "@jupyter-widgets/base",
            "_model_module_version": "1.2.0",
            "_model_name": "LayoutModel",
            "_view_count": null,
            "_view_module": "@jupyter-widgets/base",
            "_view_module_version": "1.2.0",
            "_view_name": "LayoutView",
            "align_content": null,
            "align_items": null,
            "align_self": null,
            "border": null,
            "bottom": null,
            "display": null,
            "flex": null,
            "flex_flow": null,
            "grid_area": null,
            "grid_auto_columns": null,
            "grid_auto_flow": null,
            "grid_auto_rows": null,
            "grid_column": null,
            "grid_gap": null,
            "grid_row": null,
            "grid_template_areas": null,
            "grid_template_columns": null,
            "grid_template_rows": null,
            "height": null,
            "justify_content": null,
            "justify_items": null,
            "left": null,
            "margin": null,
            "max_height": null,
            "max_width": null,
            "min_height": null,
            "min_width": null,
            "object_fit": null,
            "object_position": null,
            "order": null,
            "overflow": null,
            "overflow_x": null,
            "overflow_y": null,
            "padding": null,
            "right": null,
            "top": null,
            "visibility": null,
            "width": null
          }
        },
        "e017b1f4188540a5b0897f1784a57803": {
          "model_module": "@jupyter-widgets/base",
          "model_name": "LayoutModel",
          "model_module_version": "1.2.0",
          "state": {
            "_model_module": "@jupyter-widgets/base",
            "_model_module_version": "1.2.0",
            "_model_name": "LayoutModel",
            "_view_count": null,
            "_view_module": "@jupyter-widgets/base",
            "_view_module_version": "1.2.0",
            "_view_name": "LayoutView",
            "align_content": null,
            "align_items": null,
            "align_self": null,
            "border": null,
            "bottom": null,
            "display": null,
            "flex": null,
            "flex_flow": null,
            "grid_area": null,
            "grid_auto_columns": null,
            "grid_auto_flow": null,
            "grid_auto_rows": null,
            "grid_column": null,
            "grid_gap": null,
            "grid_row": null,
            "grid_template_areas": null,
            "grid_template_columns": null,
            "grid_template_rows": null,
            "height": null,
            "justify_content": null,
            "justify_items": null,
            "left": null,
            "margin": null,
            "max_height": null,
            "max_width": null,
            "min_height": null,
            "min_width": null,
            "object_fit": null,
            "object_position": null,
            "order": null,
            "overflow": null,
            "overflow_x": null,
            "overflow_y": null,
            "padding": null,
            "right": null,
            "top": null,
            "visibility": null,
            "width": null
          }
        },
        "13e73189f8e4418889aa20d3c26eef11": {
          "model_module": "@jupyter-widgets/controls",
          "model_name": "DescriptionStyleModel",
          "model_module_version": "1.5.0",
          "state": {
            "_model_module": "@jupyter-widgets/controls",
            "_model_module_version": "1.5.0",
            "_model_name": "DescriptionStyleModel",
            "_view_count": null,
            "_view_module": "@jupyter-widgets/base",
            "_view_module_version": "1.2.0",
            "_view_name": "StyleView",
            "description_width": ""
          }
        },
        "ce56c6cc65f440f9b05adb08810724f7": {
          "model_module": "@jupyter-widgets/base",
          "model_name": "LayoutModel",
          "model_module_version": "1.2.0",
          "state": {
            "_model_module": "@jupyter-widgets/base",
            "_model_module_version": "1.2.0",
            "_model_name": "LayoutModel",
            "_view_count": null,
            "_view_module": "@jupyter-widgets/base",
            "_view_module_version": "1.2.0",
            "_view_name": "LayoutView",
            "align_content": null,
            "align_items": null,
            "align_self": null,
            "border": null,
            "bottom": null,
            "display": null,
            "flex": null,
            "flex_flow": null,
            "grid_area": null,
            "grid_auto_columns": null,
            "grid_auto_flow": null,
            "grid_auto_rows": null,
            "grid_column": null,
            "grid_gap": null,
            "grid_row": null,
            "grid_template_areas": null,
            "grid_template_columns": null,
            "grid_template_rows": null,
            "height": null,
            "justify_content": null,
            "justify_items": null,
            "left": null,
            "margin": null,
            "max_height": null,
            "max_width": null,
            "min_height": null,
            "min_width": null,
            "object_fit": null,
            "object_position": null,
            "order": null,
            "overflow": null,
            "overflow_x": null,
            "overflow_y": null,
            "padding": null,
            "right": null,
            "top": null,
            "visibility": null,
            "width": null
          }
        },
        "338a5a7339464b709dc3e2ce553dca76": {
          "model_module": "@jupyter-widgets/controls",
          "model_name": "ProgressStyleModel",
          "model_module_version": "1.5.0",
          "state": {
            "_model_module": "@jupyter-widgets/controls",
            "_model_module_version": "1.5.0",
            "_model_name": "ProgressStyleModel",
            "_view_count": null,
            "_view_module": "@jupyter-widgets/base",
            "_view_module_version": "1.2.0",
            "_view_name": "StyleView",
            "bar_color": null,
            "description_width": ""
          }
        },
        "1135eea6e4ae480ba2b74af2be8973f0": {
          "model_module": "@jupyter-widgets/base",
          "model_name": "LayoutModel",
          "model_module_version": "1.2.0",
          "state": {
            "_model_module": "@jupyter-widgets/base",
            "_model_module_version": "1.2.0",
            "_model_name": "LayoutModel",
            "_view_count": null,
            "_view_module": "@jupyter-widgets/base",
            "_view_module_version": "1.2.0",
            "_view_name": "LayoutView",
            "align_content": null,
            "align_items": null,
            "align_self": null,
            "border": null,
            "bottom": null,
            "display": null,
            "flex": null,
            "flex_flow": null,
            "grid_area": null,
            "grid_auto_columns": null,
            "grid_auto_flow": null,
            "grid_auto_rows": null,
            "grid_column": null,
            "grid_gap": null,
            "grid_row": null,
            "grid_template_areas": null,
            "grid_template_columns": null,
            "grid_template_rows": null,
            "height": null,
            "justify_content": null,
            "justify_items": null,
            "left": null,
            "margin": null,
            "max_height": null,
            "max_width": null,
            "min_height": null,
            "min_width": null,
            "object_fit": null,
            "object_position": null,
            "order": null,
            "overflow": null,
            "overflow_x": null,
            "overflow_y": null,
            "padding": null,
            "right": null,
            "top": null,
            "visibility": null,
            "width": null
          }
        },
        "a5b80bc1ec774e86ba0b57baf5a153a0": {
          "model_module": "@jupyter-widgets/controls",
          "model_name": "DescriptionStyleModel",
          "model_module_version": "1.5.0",
          "state": {
            "_model_module": "@jupyter-widgets/controls",
            "_model_module_version": "1.5.0",
            "_model_name": "DescriptionStyleModel",
            "_view_count": null,
            "_view_module": "@jupyter-widgets/base",
            "_view_module_version": "1.2.0",
            "_view_name": "StyleView",
            "description_width": ""
          }
        }
      }
    }
  },
  "nbformat": 4,
  "nbformat_minor": 0
}
