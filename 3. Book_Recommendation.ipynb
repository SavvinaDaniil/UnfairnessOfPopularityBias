{
 "cells": [
  {
   "cell_type": "markdown",
   "metadata": {
    "id": "tLpIS6XyNHZW"
   },
   "source": [
    "# Process\n",
    "In this notebook, I will train the book recommendation algorithms using  <a href=\"https://cornac.readthedocs.io/en/latest/\">Cornac</a>. "
   ]
  },
  {
   "cell_type": "markdown",
   "metadata": {
    "id": "apEC7vpANPwa"
   },
   "source": [
    "## A. Import lbraries"
   ]
  },
  {
   "cell_type": "code",
   "execution_count": 70,
   "metadata": {
    "id": "T5uMe3FlNVqk"
   },
   "outputs": [],
   "source": [
    "import warnings\n",
    "warnings.simplefilter(action='ignore', category=FutureWarning)\n",
    "import matplotlib.pyplot as plt\n",
    "import random as rd\n",
    "import pandas as pd\n",
    "import numpy as np\n",
    "from tqdm import tqdm\n",
    "import pickle as pkl\n",
    "import time\n",
    "\n",
    "# Cornac imports\n",
    "import cornac\n",
    "from cornac.eval_methods import RatioSplit\n",
    "from cornac.data import Reader as CornacReader #Reader exists in both packages\n",
    "from cornac.models import MostPop, MF, PMF, BPR, NeuMF, WMF, HPF, VAECF, ItemKNN, UserKNN, BaselineOnly \n",
    "from cornac.models import NMF as CornacNMF #NMF exists in both packages\n",
    "from cornac.metrics import MAE, MSE, RMSE, Precision, Recall, NDCG, AUC, MAP, FMeasure, MRR\n",
    "\n",
    "from collections import defaultdict\n",
    "from scipy import stats\n",
    "from sklearn.metrics import mean_squared_error, precision_score, recall_score, ndcg_score\n",
    "from numpy.linalg import norm\n",
    "import seaborn as sns\n",
    "from sklearn.preprocessing import MinMaxScaler\n",
    "# set plot style: grey grid in the background:\n",
    "sns.set(style=\"darkgrid\")\n",
    "pd.set_option(\"display.precision\", 8)"
   ]
  },
  {
   "cell_type": "markdown",
   "metadata": {
    "id": "RT7573q5NccX"
   },
   "source": [
    "## B. Set hyperparameters\n",
    "There are certain hyperparameters that need to be tuned before the run. "
   ]
  },
  {
   "cell_type": "code",
   "execution_count": 71,
   "metadata": {
    "id": "wePMxGvnNZa2"
   },
   "outputs": [],
   "source": [
    "# constants and initialization\n",
    "rating_threshold = 1.0 # needed for the cornac library: Threshold used to binarize rating values into positive or negative feedback for model evaluation using ranking metrics (rating metrics are not affected). \n",
    "my_seed = 0\n",
    "test_size = 0.2 # the percentage of \"hold out\" data that are used for testing\n",
    "predict_col = \"rating\"\n",
    "user_col = \"user\"\n",
    "top_fraction = 0.2 # the amount of items that will be considered \"popular\"\n",
    "\n",
    "rd.seed(my_seed) #seed for random functions\n",
    "np.random.seed(my_seed) #seed for all numpy stuff"
   ]
  },
  {
   "cell_type": "markdown",
   "metadata": {
    "id": "P4Hf5k8jNiZm"
   },
   "source": [
    "## C. Read files\n",
    "\n",
    "\n"
   ]
  },
  {
   "cell_type": "code",
   "execution_count": 72,
   "metadata": {
    "colab": {
     "base_uri": "https://localhost:8080/"
    },
    "id": "tAyKjmxeNf1X",
    "outputId": "b0594476-f9c7-4929-b6ee-c6db413eca72"
   },
   "outputs": [
    {
     "name": "stdout",
     "output_type": "stream",
     "text": [
      "No. of user events: 1149780\n"
     ]
    }
   ],
   "source": [
    "user_events_file = 'https://raw.githubusercontent.com/SavvinaDaniil/UnfairnessOfPopularityBias/main/data/BX-Book-Ratings.csv'\n",
    "\n",
    "# read user events\n",
    "cols = ['user', 'book', 'rating']\n",
    "df_events = pd.read_csv(user_events_file, sep=\";\", encoding=\"ISO-8859–1\", names=cols, skiprows=1)\n",
    "item_col = \"book\"\n",
    "print('No. of user events: ' + str(len(df_events)))"
   ]
  },
  {
   "cell_type": "code",
   "execution_count": 73,
   "metadata": {
    "colab": {
     "base_uri": "https://localhost:8080/",
     "height": 206
    },
    "id": "SA02IGeBTzdk",
    "outputId": "0dade33b-ea9b-4a60-91ee-60d89710f1d9"
   },
   "outputs": [
    {
     "data": {
      "text/html": [
       "<div>\n",
       "<style scoped>\n",
       "    .dataframe tbody tr th:only-of-type {\n",
       "        vertical-align: middle;\n",
       "    }\n",
       "\n",
       "    .dataframe tbody tr th {\n",
       "        vertical-align: top;\n",
       "    }\n",
       "\n",
       "    .dataframe thead th {\n",
       "        text-align: right;\n",
       "    }\n",
       "</style>\n",
       "<table border=\"1\" class=\"dataframe\">\n",
       "  <thead>\n",
       "    <tr style=\"text-align: right;\">\n",
       "      <th></th>\n",
       "      <th>user</th>\n",
       "      <th>book</th>\n",
       "      <th>rating</th>\n",
       "    </tr>\n",
       "  </thead>\n",
       "  <tbody>\n",
       "    <tr>\n",
       "      <th>0</th>\n",
       "      <td>276725</td>\n",
       "      <td>034545104X</td>\n",
       "      <td>0</td>\n",
       "    </tr>\n",
       "    <tr>\n",
       "      <th>1</th>\n",
       "      <td>276726</td>\n",
       "      <td>0155061224</td>\n",
       "      <td>5</td>\n",
       "    </tr>\n",
       "    <tr>\n",
       "      <th>2</th>\n",
       "      <td>276727</td>\n",
       "      <td>0446520802</td>\n",
       "      <td>0</td>\n",
       "    </tr>\n",
       "    <tr>\n",
       "      <th>3</th>\n",
       "      <td>276729</td>\n",
       "      <td>052165615X</td>\n",
       "      <td>3</td>\n",
       "    </tr>\n",
       "    <tr>\n",
       "      <th>4</th>\n",
       "      <td>276729</td>\n",
       "      <td>0521795028</td>\n",
       "      <td>6</td>\n",
       "    </tr>\n",
       "  </tbody>\n",
       "</table>\n",
       "</div>"
      ],
      "text/plain": [
       "     user        book  rating\n",
       "0  276725  034545104X       0\n",
       "1  276726  0155061224       5\n",
       "2  276727  0446520802       0\n",
       "3  276729  052165615X       3\n",
       "4  276729  0521795028       6"
      ]
     },
     "execution_count": 73,
     "metadata": {},
     "output_type": "execute_result"
    }
   ],
   "source": [
    "df_events.head()"
   ]
  },
  {
   "cell_type": "markdown",
   "metadata": {
    "id": "FMcwqRl5Unz6"
   },
   "source": [
    "## D. Data analysis"
   ]
  },
  {
   "cell_type": "code",
   "execution_count": 74,
   "metadata": {
    "id": "yQMsd3hxT9ce"
   },
   "outputs": [],
   "source": [
    "def users_and_items(df_events, user_col, item_col):\n",
    "    print('No. user events: ' + str(len(df_events)))\n",
    "    print('No. items: ' + str(len(df_events[item_col].unique())))\n",
    "    print('No. users: ' + str(len(df_events[user_col].unique())))\n",
    "    print(\"\\n\")\n",
    "def user_distribution(df_events, user_col, item_col):\n",
    "    user_dist = df_events[user_col].value_counts() \n",
    "    num_users = len(user_dist)\n",
    "    print('Mean '+item_col+'s per user: ' + str(np.round(user_dist.mean(),1))) \n",
    "    print('Min '+item_col+'s per user: ' + str(np.round(user_dist.min(),1))) \n",
    "    print('Max '+item_col+'s per user: ' + str(np.round(user_dist.max(),1)))\n",
    "    print(\"\\n\")\n",
    "    return user_dist, num_users\n",
    "def item_distribution(df_events, user_col, item_col):\n",
    "    item_dist = df_events[item_col].value_counts()\n",
    "    num_items = len(item_dist)\n",
    "    print('Mean users per '+item_col+': ' + str(np.round(item_dist.mean(),1))) \n",
    "    print('Min users per '+item_col+': ' + str(np.round(item_dist.min(),1))) \n",
    "    print('Max users per '+item_col+': ' + str(np.round(item_dist.max(),1))) \n",
    "    print(\"\\n\")\n",
    "    return item_dist, num_items"
   ]
  },
  {
   "cell_type": "code",
   "execution_count": 75,
   "metadata": {
    "colab": {
     "base_uri": "https://localhost:8080/"
    },
    "id": "gK4DR9IaUrWB",
    "outputId": "3d37f35d-88dd-4f20-a405-b40bab137b0d"
   },
   "outputs": [
    {
     "name": "stdout",
     "output_type": "stream",
     "text": [
      "No. user events: 1149780\n",
      "No. items: 340556\n",
      "No. users: 105283\n",
      "\n",
      "\n",
      "Mean books per user: 10.9\n",
      "Min books per user: 1\n",
      "Max books per user: 13602\n",
      "\n",
      "\n",
      "Mean users per book: 3.4\n",
      "Min users per book: 1\n",
      "Max users per book: 2502\n",
      "\n",
      "\n"
     ]
    }
   ],
   "source": [
    "users_and_items(df_events, user_col, item_col)\n",
    "user_dist, num_users = user_distribution(df_events, user_col, item_col)\n",
    "item_dist, num_items = item_distribution(df_events, user_col, item_col)"
   ]
  },
  {
   "cell_type": "markdown",
   "metadata": {
    "id": "yY78u6hJU0UZ"
   },
   "source": [
    "FairBook cut down the dataset."
   ]
  },
  {
   "cell_type": "code",
   "execution_count": 76,
   "metadata": {
    "id": "lyhB0isHUs-x"
   },
   "outputs": [],
   "source": [
    "# This method return a dataframe in which the specified values are removed from a specific column. We can use it to generate the implicit/explicit dataset.\n",
    "# To do this, we can remove the 0 or 1-10 values from the `Book-Rating` column.\n",
    "def filter_rows_by_values(df, col, values):\n",
    "    return df[~df[col].isin(values)]"
   ]
  },
  {
   "cell_type": "code",
   "execution_count": 77,
   "metadata": {
    "colab": {
     "base_uri": "https://localhost:8080/"
    },
    "id": "8A4qppVjU4pv",
    "outputId": "71953423-3815-4766-a781-4e0352549458"
   },
   "outputs": [
    {
     "name": "stdout",
     "output_type": "stream",
     "text": [
      "No. user events: 433671\n",
      "No. items: 185973\n",
      "No. users: 77805\n",
      "\n",
      "\n",
      "Mean books per user: 5.6\n",
      "Min books per user: 1\n",
      "Max books per user: 8524\n",
      "\n",
      "\n",
      "Mean users per book: 2.3\n",
      "Min users per book: 1\n",
      "Max users per book: 707\n",
      "\n",
      "\n"
     ]
    }
   ],
   "source": [
    "df_events = filter_rows_by_values(df_events, predict_col, [0]) # remove 0 ratings, these are just implicit ratings\n",
    "\n",
    "\n",
    "# statistics on explicit dataset\n",
    "users_and_items(df_events, user_col, item_col)\n",
    "user_dist, num_users = user_distribution(df_events, user_col, item_col)\n",
    "item_dist, num_items = item_distribution(df_events, user_col, item_col)"
   ]
  },
  {
   "cell_type": "code",
   "execution_count": 78,
   "metadata": {
    "colab": {
     "base_uri": "https://localhost:8080/"
    },
    "id": "ZSylrtm-VLYj",
    "outputId": "41e2bdf9-bbe6-45e9-d28c-cd55c1e922ef"
   },
   "outputs": [
    {
     "name": "stdout",
     "output_type": "stream",
     "text": [
      "The number of users with more than 200 interactions: 144\n"
     ]
    }
   ],
   "source": [
    "# To check if there is any user with more than 200 interactions in the preprocessed dataset\n",
    "uid_value_counts = df_events[user_col].value_counts()\n",
    "print(f\"The number of users with more than 200 interactions: {uid_value_counts[uid_value_counts > 200].count()}\")"
   ]
  },
  {
   "cell_type": "code",
   "execution_count": 79,
   "metadata": {
    "id": "Nfzh2XdaVadU"
   },
   "outputs": [],
   "source": [
    "# To remove the users with fewer than 5 interactions we first count the number of interactino per user and add a new column (`Count`) in the dataframe.\n",
    "# This column shows the number of interactions per user in the dataset\n",
    "users_counts = uid_value_counts.to_dict() #converts to dictionary\n",
    "df_events['Count'] = df_events[user_col].map(users_counts)"
   ]
  },
  {
   "cell_type": "code",
   "execution_count": 80,
   "metadata": {
    "id": "o-j-0QBVVoxv"
   },
   "outputs": [],
   "source": [
    "df_events = filter_rows_by_values(df_events, \"Count\", list(range(200, max(df_events['Count']) + 1)))"
   ]
  },
  {
   "cell_type": "code",
   "execution_count": 81,
   "metadata": {
    "colab": {
     "base_uri": "https://localhost:8080/"
    },
    "id": "1ApIrzcCVw9N",
    "outputId": "356a769a-4e6f-41ef-a1ec-7ac1d7fd5b68"
   },
   "outputs": [
    {
     "name": "stdout",
     "output_type": "stream",
     "text": [
      "No. user events: 364245\n",
      "No. items: 156891\n",
      "No. users: 77660\n",
      "\n",
      "\n",
      "Mean books per user: 4.7\n",
      "Min books per user: 1\n",
      "Max books per user: 199\n",
      "\n",
      "\n",
      "Mean users per book: 2.3\n",
      "Min users per book: 1\n",
      "Max users per book: 683\n",
      "\n",
      "\n"
     ]
    }
   ],
   "source": [
    "# new data statistics\n",
    "users_and_items(df_events, user_col, item_col)\n",
    "user_dist, num_users = user_distribution(df_events, user_col, item_col)\n",
    "item_dist, num_items = item_distribution(df_events, user_col, item_col)"
   ]
  },
  {
   "cell_type": "code",
   "execution_count": 82,
   "metadata": {
    "colab": {
     "base_uri": "https://localhost:8080/"
    },
    "id": "qT-hW-30V2_0",
    "outputId": "f3255fdf-52ca-44f7-9983-64836bd787ed"
   },
   "outputs": [],
   "source": [
    "user_interaction, item_interaction = 1, 1\n",
    "\n",
    "while user_interaction != 0 or item_interaction != 0:\n",
    "    uid_value_counts = df_events[user_col].value_counts()\n",
    "    user_interaction = uid_value_counts[uid_value_counts < 5].count()\n",
    "\n",
    "    users_counts = df_events[user_col].value_counts()\n",
    "    users_counts = users_counts.to_dict() #converts to dictionary\n",
    "    df_events['Count'] = df_events[user_col].map(users_counts)\n",
    "\n",
    "    df_events = filter_rows_by_values(df_events, \"Count\", list(range(5)))\n",
    "\n",
    "    # item side fewer than ds_rate cheking\n",
    "    bid_value_counts = df_events[item_col].value_counts()\n",
    "    item_interaction = bid_value_counts[bid_value_counts < 5].count()\n",
    "\n",
    "    items_counts = df_events[item_col].value_counts()\n",
    "    items_counts = items_counts.to_dict() #converts to dictionary\n",
    "    df_events['Count'] = df_events[item_col].map(items_counts)\n",
    "\n",
    "    df_events = filter_rows_by_values(df_events, \"Count\", list(range(5)))"
   ]
  },
  {
   "cell_type": "code",
   "execution_count": 83,
   "metadata": {
    "colab": {
     "base_uri": "https://localhost:8080/"
    },
    "id": "Mm4cP5FzWhIJ",
    "outputId": "deea6dc3-6fa9-445f-e15c-b6e3e08dda0a"
   },
   "outputs": [
    {
     "name": "stdout",
     "output_type": "stream",
     "text": [
      "No. user events: 88552\n",
      "No. items: 6921\n",
      "No. users: 6358\n",
      "\n",
      "\n",
      "Mean books per user: 13.9\n",
      "Min books per user: 5\n",
      "Max books per user: 153\n",
      "\n",
      "\n",
      "Mean users per book: 12.8\n",
      "Min users per book: 5\n",
      "Max users per book: 350\n",
      "\n",
      "\n"
     ]
    }
   ],
   "source": [
    "# final data statistics\n",
    "users_and_items(df_events, user_col, item_col)\n",
    "user_dist, num_users = user_distribution(df_events, user_col, item_col)\n",
    "item_dist, num_items = item_distribution(df_events, user_col, item_col)"
   ]
  },
  {
   "cell_type": "code",
   "execution_count": 84,
   "metadata": {
    "id": "BxFkdMdCbAMj"
   },
   "outputs": [],
   "source": [
    "del(df_events[\"Count\"])"
   ]
  },
  {
   "cell_type": "code",
   "execution_count": 85,
   "metadata": {
    "id": "Ad5vVllHWxQg"
   },
   "outputs": [],
   "source": [
    "\n",
    "# create item dataframe with normalized item counts\n",
    "df_item_dist = pd.DataFrame(item_dist) # turn the series into a dataframe\n",
    "df_item_dist.columns = ['count']\n",
    "df_item_dist['count'] /= num_users # basically the popularity of every item\n"
   ]
  },
  {
   "cell_type": "code",
   "execution_count": 86,
   "metadata": {
    "colab": {
     "base_uri": "https://localhost:8080/",
     "height": 206
    },
    "id": "Oh_Z9gu9bGu4",
    "outputId": "555e3f55-355a-4b4a-c5aa-d7c415e9069b"
   },
   "outputs": [
    {
     "data": {
      "text/html": [
       "<div>\n",
       "<style scoped>\n",
       "    .dataframe tbody tr th:only-of-type {\n",
       "        vertical-align: middle;\n",
       "    }\n",
       "\n",
       "    .dataframe tbody tr th {\n",
       "        vertical-align: top;\n",
       "    }\n",
       "\n",
       "    .dataframe thead th {\n",
       "        text-align: right;\n",
       "    }\n",
       "</style>\n",
       "<table border=\"1\" class=\"dataframe\">\n",
       "  <thead>\n",
       "    <tr style=\"text-align: right;\">\n",
       "      <th></th>\n",
       "      <th>count</th>\n",
       "    </tr>\n",
       "  </thead>\n",
       "  <tbody>\n",
       "    <tr>\n",
       "      <th>0316666343</th>\n",
       "      <td>0.05504876</td>\n",
       "    </tr>\n",
       "    <tr>\n",
       "      <th>0385504209</th>\n",
       "      <td>0.04356716</td>\n",
       "    </tr>\n",
       "    <tr>\n",
       "      <th>0312195516</th>\n",
       "      <td>0.03129915</td>\n",
       "    </tr>\n",
       "    <tr>\n",
       "      <th>0142001740</th>\n",
       "      <td>0.02956905</td>\n",
       "    </tr>\n",
       "    <tr>\n",
       "      <th>0060928336</th>\n",
       "      <td>0.02831079</td>\n",
       "    </tr>\n",
       "  </tbody>\n",
       "</table>\n",
       "</div>"
      ],
      "text/plain": [
       "                 count\n",
       "0316666343  0.05504876\n",
       "0385504209  0.04356716\n",
       "0312195516  0.03129915\n",
       "0142001740  0.02956905\n",
       "0060928336  0.02831079"
      ]
     },
     "execution_count": 86,
     "metadata": {},
     "output_type": "execute_result"
    }
   ],
   "source": [
    "df_item_dist.head()"
   ]
  },
  {
   "cell_type": "code",
   "execution_count": 87,
   "metadata": {
    "id": "e7A47DCgbIjw"
   },
   "outputs": [],
   "source": [
    "def plot_data_distribution(item_dist, item_col, dividing = [False, 0], log = False):\n",
    "    plt.figure()\n",
    "    ax = plt.axes()\n",
    "    ax.spines['bottom'].set_color('w')\n",
    "    ax.spines['top'].set_color('w')\n",
    "    ax.spines['right'].set_color('w')\n",
    "    ax.spines['left'].set_color('w')\n",
    "    ax.spines['left'].set_zorder(0)\n",
    "    ax.xaxis.set_ticks_position('none') \n",
    "    ax.yaxis.set_ticks_position('none') \n",
    "    ax.set_facecolor(\"aliceblue\")\n",
    "    plt.grid(color = \"w\",linewidth = 2 )\n",
    "    if dividing[0]:\n",
    "        x0 = int(len(item_dist.values)*dividing[1])\n",
    "        y = range(len(item_dist))\n",
    "        plt.plot(y[:x0+1], item_dist.values[:x0+1], label = \"Popular \"+item_col+\"s\", linewidth = 5)\n",
    "        plt.plot(y[x0:], item_dist.values[x0:], label = \"Non Popular \"+item_col+\"s\", linewidth = 5)\n",
    "    else:\n",
    "        plt.plot(item_dist.values)\n",
    "    plt.xticks(fontsize='13')\n",
    "    plt.yticks(fontsize='13')\n",
    "    add = \"\"\n",
    "    if log:\n",
    "        plt.xscale('log')\n",
    "        plt.yscale('log')\n",
    "        add = \" (log)\"\n",
    "    plt.xlabel(item_col+add, fontsize='14')\n",
    "    plt.ylabel('Number of users' + add, fontsize='15')\n",
    "    plt.show(block=True)\n",
    "def plot_popularity_distribution(pop_fraq, item_col, dividing = [False,0]):\n",
    "    plt.figure()\n",
    "    ax = plt.axes()\n",
    "    ax.spines['bottom'].set_color('w')\n",
    "    ax.spines['top'].set_color('w')\n",
    "    ax.spines['right'].set_color('w')\n",
    "    ax.spines['left'].set_color('w')\n",
    "    ax.spines['left'].set_zorder(0)\n",
    "    ax.xaxis.set_ticks_position('none') \n",
    "    ax.yaxis.set_ticks_position('none') \n",
    "    \n",
    "    ax.set_facecolor(\"aliceblue\")\n",
    "    plt.grid(color = \"w\",linewidth = 2 )\n",
    "    if dividing[0]:\n",
    "        y = range(len(pop_fraq))\n",
    "        x0 = int(len(y)*dividing[1]) \n",
    "        x1 = int(len(y)*(1-dividing[1]))\n",
    "        x= sorted(pop_fraq)\n",
    "        plt.plot(y[:x0+1],x[:x0+1], label=\"Niche users\", linewidth = 5)\n",
    "        plt.plot(y[x0:x1+1],x[x0:x1+1], label = \"Diverse users\", linewidth = 5)\n",
    "        plt.plot(y[x1:],x[x1:], label = \"BestSeller users\", linewidth =5)\n",
    "    else:\n",
    "        plt.plot(sorted(pop_fraq))\n",
    "    plt.xlabel('User', fontsize='15')\n",
    "    plt.xticks(fontsize='13')\n",
    "    plt.ylabel('Ratio of popular '+item_col+'s', fontsize='15')\n",
    "    plt.yticks(fontsize='13')\n",
    "    plt.axhline(y=0.8, color='black', linestyle='--', label='80% ratio of popular '+item_col+'s')\n",
    "    plt.legend(fontsize='15')\n",
    "    plt.show(block=True)\n"
   ]
  },
  {
   "cell_type": "code",
   "execution_count": 88,
   "metadata": {
    "colab": {
     "base_uri": "https://localhost:8080/",
     "height": 564
    },
    "id": "EkYkK6vEbK8-",
    "outputId": "496dab8b-cf6f-4e68-f9aa-ef32c0499aef"
   },
   "outputs": [
    {
     "data": {
      "image/png": "[encoded data removed]",
      "text/plain": [
       "<Figure size 640x480 with 1 Axes>"
      ]
     },
     "metadata": {},
     "output_type": "display_data"
    },
    {
     "data": {
      "image/png": "[encoded data removed]",
      "text/plain": [
       "<Figure size 640x480 with 1 Axes>"
      ]
     },
     "metadata": {},
     "output_type": "display_data"
    }
   ],
   "source": [
    "plot_data_distribution(item_dist, item_col)\n",
    "plot_data_distribution(item_dist, item_col, [False, 0],True)"
   ]
  },
  {
   "cell_type": "markdown",
   "metadata": {
    "id": "bJtawX7Obc-b"
   },
   "source": [
    "## E. Popularity in the data"
   ]
  },
  {
   "cell_type": "code",
   "execution_count": 89,
   "metadata": {
    "colab": {
     "base_uri": "https://localhost:8080/"
    },
    "id": "qcPpaALQbMzd",
    "outputId": "c3427f88-419e-49b3-f9e5-b5b4892c31a3"
   },
   "outputs": [
    {
     "name": "stdout",
     "output_type": "stream",
     "text": [
      "No. items labeled as \"popular\": 1384\n"
     ]
    }
   ],
   "source": [
    "num_top = int(top_fraction * num_items)\n",
    "top_item_dist = item_dist[:num_top]\n",
    "print('No. items labeled as \"popular\": ' + str(len(top_item_dist)))"
   ]
  },
  {
   "cell_type": "code",
   "execution_count": 90,
   "metadata": {
    "id": "heWAn1_Obep_"
   },
   "outputs": [],
   "source": [
    "def calculate_popularity(df_events, top_item_dist, item_dist, num_users, user_col, item_col):\n",
    "    pop_count = [] # number of top items per user\n",
    "    user_hist = [] # user history sizes\n",
    "    pop_fraq = [] # relative number of top items per user\n",
    "    pop_item_fraq = [] # average popularity of items in user profiles\n",
    "    i=0\n",
    "    for u, df in df_events.groupby(user_col):\n",
    "        no_user_items = len(set(df[item_col]))\n",
    "        no_user_pop_items = len(set(df[item_col]) & set(top_item_dist.index))\n",
    "        pop_count.append(no_user_pop_items)\n",
    "        user_hist.append(no_user_items) \n",
    "        pop_fraq.append(no_user_pop_items / no_user_items)\n",
    "        user_pop_item_fraq = sum(item_dist[df[item_col]] / num_users) / no_user_items\n",
    "        pop_item_fraq.append(user_pop_item_fraq)\n",
    "        i+=1\n",
    "        if i%1000==0:\n",
    "            print(i)\n",
    "    return pop_count,user_hist,pop_fraq, pop_item_fraq"
   ]
  },
  {
   "cell_type": "code",
   "execution_count": 91,
   "metadata": {
    "colab": {
     "base_uri": "https://localhost:8080/"
    },
    "id": "InpEYMvSbgUu",
    "outputId": "4de80427-c3ac-46a4-d660-32d15fd376ed"
   },
   "outputs": [
    {
     "name": "stdout",
     "output_type": "stream",
     "text": [
      "1000\n",
      "2000\n",
      "3000\n",
      "4000\n",
      "5000\n",
      "6000\n"
     ]
    }
   ],
   "source": [
    "pop_count,user_hist,pop_fraq, pop_item_fraq = calculate_popularity(df_events, top_item_dist, item_dist, num_users, user_col, item_col)"
   ]
  },
  {
   "cell_type": "code",
   "execution_count": 92,
   "metadata": {
    "id": "48UGFx8SbiBr"
   },
   "outputs": [],
   "source": [
    "def plot_popularity_distribution(pop_fraq, item_col, dividing = [False,0]):\n",
    "    plt.figure()\n",
    "    ax = plt.axes()\n",
    "    ax.spines['bottom'].set_color('w')\n",
    "    ax.spines['top'].set_color('w')\n",
    "    ax.spines['right'].set_color('w')\n",
    "    ax.spines['left'].set_color('w')\n",
    "    ax.spines['left'].set_zorder(0)\n",
    "    ax.xaxis.set_ticks_position('none') \n",
    "    ax.yaxis.set_ticks_position('none') \n",
    "    \n",
    "    ax.set_facecolor(\"aliceblue\")\n",
    "    plt.grid(color = \"w\",linewidth = 2 )\n",
    "    if dividing[0]:\n",
    "        y = range(len(pop_fraq))\n",
    "        x0 = int(len(y)*dividing[1]) \n",
    "        x1 = int(len(y)*(1-dividing[1]))\n",
    "        x= sorted(pop_fraq)\n",
    "        plt.plot(y[:x0+1],x[:x0+1], label=\"Niche users\", linewidth = 5)\n",
    "        plt.plot(y[x0:x1+1],x[x0:x1+1], label = \"Diverse users\", linewidth = 5)\n",
    "        plt.plot(y[x1:],x[x1:], label = \"BestSeller users\", linewidth =5)\n",
    "    else:\n",
    "        plt.plot(sorted(pop_fraq))\n",
    "    plt.xlabel('User', fontsize='15')\n",
    "    plt.xticks(fontsize='13')\n",
    "    plt.ylabel('Ratio of popular '+item_col+'s', fontsize='15')\n",
    "    plt.yticks(fontsize='13')\n",
    "    plt.axhline(y=0.8, color='black', linestyle='--', label='80% ratio of popular '+item_col+'s')\n",
    "    plt.legend(fontsize='15')\n",
    "    plt.show(block=True)\n",
    "\n",
    "def plot_profile_size_vs_popularity(pop_metric, user_hist, way, item_col):\n",
    "    plt.figure()\n",
    "    ax = plt.axes()\n",
    "    ax.spines['bottom'].set_color('w')\n",
    "    ax.spines['top'].set_color('w')\n",
    "    ax.spines['right'].set_color('w')\n",
    "    ax.spines['left'].set_color('w')\n",
    "    ax.spines['left'].set_zorder(0)\n",
    "    ax.xaxis.set_ticks_position('none') \n",
    "    ax.yaxis.set_ticks_position('none') \n",
    "    \n",
    "    ax.set_facecolor(\"aliceblue\")\n",
    "    plt.grid(color = \"w\",linewidth = 2 )\n",
    "    slope, intercept, r_value, p_value, std_err = stats.linregress(user_hist, pop_metric)\n",
    "    print('R-value: ' + str(r_value))\n",
    "    line = slope * np.array(user_hist) + intercept\n",
    "    plt.plot(user_hist, pop_metric, 'o', user_hist, line)\n",
    "    plt.xlabel('User profile size', fontsize='15')\n",
    "    plt.xticks(fontsize='13')\n",
    "    if way == \"count\":\n",
    "        ylabel = \"Number of popular \"+item_col+\"s\"\n",
    "    elif way == \"percentage\":\n",
    "        ylabel = 'Percentage of popular '+item_col+'s'\n",
    "    else:\n",
    "        ylabel = \"Average popularity of \"+item_col+\"s\"\n",
    "    plt.ylabel(ylabel, fontsize='15')\n",
    "    plt.yticks(fontsize='13')\n",
    "    plt.show(block=True)"
   ]
  },
  {
   "cell_type": "code",
   "execution_count": 93,
   "metadata": {
    "colab": {
     "base_uri": "https://localhost:8080/",
     "height": 1000
    },
    "id": "k4zHOC5PbkpV",
    "outputId": "5e4a815a-9702-4843-857a-14bdc38c005b"
   },
   "outputs": [
    {
     "data": {
      "image/png": "[encoded data removed]",
      "text/plain": [
       "<Figure size 640x480 with 1 Axes>"
      ]
     },
     "metadata": {},
     "output_type": "display_data"
    },
    {
     "name": "stdout",
     "output_type": "stream",
     "text": [
      "R-value: 0.923043590336\n"
     ]
    },
    {
     "data": {
      "image/png": "[encoded data removed]",
      "text/plain": [
       "<Figure size 640x480 with 1 Axes>"
      ]
     },
     "metadata": {},
     "output_type": "display_data"
    },
    {
     "name": "stdout",
     "output_type": "stream",
     "text": [
      "R-value: -0.013155544625724313\n"
     ]
    },
    {
     "data": {
      "image/png": "[encoded data removed]",
      "text/plain": [
       "<Figure size 640x480 with 1 Axes>"
      ]
     },
     "metadata": {},
     "output_type": "display_data"
    },
    {
     "name": "stdout",
     "output_type": "stream",
     "text": [
      "R-value: -0.033575222226251665\n"
     ]
    },
    {
     "data": {
      "image/png": "[encoded data removed]",
      "text/plain": [
       "<Figure size 640x480 with 1 Axes>"
      ]
     },
     "metadata": {},
     "output_type": "display_data"
    }
   ],
   "source": [
    "plot_popularity_distribution(pop_fraq, item_col)\n",
    "plot_profile_size_vs_popularity(pop_count,user_hist, \"count\", item_col)\n",
    "plot_profile_size_vs_popularity(pop_fraq,user_hist, \"percentage\", item_col)\n",
    "plot_profile_size_vs_popularity(pop_item_fraq,user_hist, \"average\", item_col)"
   ]
  },
  {
   "cell_type": "markdown",
   "metadata": {
    "id": "KVUtmgmnbsfI"
   },
   "source": [
    "## F. User groups"
   ]
  },
  {
   "cell_type": "code",
   "execution_count": 94,
   "metadata": {
    "id": "WDOmJLuJbl6I"
   },
   "outputs": [],
   "source": [
    "def sort_user_dist(user_dist,pop_count, user_hist,pop_fraq,pop_item_fraq, by = \"pop_fraq\"):\n",
    "    user_dist = user_dist.sort_index()\n",
    "    user_dist_sorted = pd.DataFrame(data = user_dist)\n",
    "    \n",
    "    user_dist_sorted.columns = [\"count\"]\n",
    "    \n",
    "    user_dist_sorted[\"pop_count\"] = pop_count\n",
    "    user_dist_sorted[\"user_hist\"] = user_hist\n",
    "    user_dist_sorted[\"pop_fraq\"] = pop_fraq\n",
    "    user_dist_sorted[\"pop_item_fraq\"] = pop_item_fraq\n",
    "    \n",
    "    user_dist_sorted = user_dist_sorted.sort_values(by=[by])\n",
    "    return user_dist_sorted\n",
    "\n",
    "def split(user_dist_sorted, top_fraction):\n",
    "    low, med, high = np.split(user_dist_sorted, [int(top_fraction*len(user_dist_sorted)), int((1-top_fraction)*len(user_dist_sorted))])\n",
    "    return low, med, high\n",
    "def calculate_group_characteristics(low, med, high):\n",
    "    low_profile_size = low.user_hist.mean()\n",
    "    med_profile_size = med.user_hist.mean()\n",
    "    high_profile_size = high.user_hist.mean()\n",
    "    \n",
    "    low_nr_users = len(low)\n",
    "    med_nr_users = len(med)\n",
    "    high_nr_users = len(high)\n",
    "    \n",
    "    low_GAP = low.pop_item_fraq.mean()\n",
    "    med_GAP = med.pop_item_fraq.mean()\n",
    "    high_GAP = high.pop_item_fraq.mean()\n",
    "    \n",
    "    return low_profile_size, med_profile_size, high_profile_size, low_nr_users, med_nr_users, high_nr_users, low_GAP, med_GAP, high_GAP"
   ]
  },
  {
   "cell_type": "markdown",
   "metadata": {
    "id": "eUWmL6kHa-Z2"
   },
   "source": [
    "### Make notion of popularity propensity choice\n",
    "The reader has to manually choose how to divide the users into groups according to their propensity for popular items."
   ]
  },
  {
   "cell_type": "code",
   "execution_count": 95,
   "metadata": {
    "id": "CuBS2J9ca64D"
   },
   "outputs": [],
   "source": [
    "popularity_function = {'pop_one': \"pop_fraq\",\n",
    "             'pop_two': \"pop_item_fraq\"}"
   ]
  },
  {
   "cell_type": "code",
   "execution_count": 96,
   "metadata": {
    "id": "1IOep0zxbFd5"
   },
   "outputs": [],
   "source": [
    "pop_notion = \"pop_two\""
   ]
  },
  {
   "cell_type": "code",
   "execution_count": 97,
   "metadata": {
    "id": "1whaOUMubvu0"
   },
   "outputs": [],
   "source": [
    "user_dist_sorted = sort_user_dist(user_dist,pop_count, user_hist,pop_fraq,pop_item_fraq, by = popularity_function[pop_notion])\n",
    "low, med, high = split(user_dist_sorted, top_fraction)\n",
    "low_profile_size, med_profile_size, high_profile_size, low_nr_users, med_nr_users, high_nr_users, low_GAP, med_GAP, high_GAP = calculate_group_characteristics(low, med, high)"
   ]
  },
  {
   "cell_type": "code",
   "execution_count": 98,
   "metadata": {
    "colab": {
     "base_uri": "https://localhost:8080/"
    },
    "id": "4tnrh__Gbxda",
    "outputId": "9c61d07a-aba2-4466-8f1a-5b18ef7950ec"
   },
   "outputs": [
    {
     "name": "stdout",
     "output_type": "stream",
     "text": [
      "Niche GAP: 0.0020793485971879627\n",
      "Diverse GAP: 0.004746984354432404\n",
      "BestSeller GAP: 0.009717753280533033\n"
     ]
    }
   ],
   "source": [
    "print('Niche GAP: ' + str(low_GAP))\n",
    "print('Diverse GAP: ' + str(med_GAP))\n",
    "print('BestSeller GAP: ' + str(high_GAP))"
   ]
  },
  {
   "cell_type": "code",
   "execution_count": 99,
   "metadata": {
    "id": "KYh9Iwq7b0hI"
   },
   "outputs": [],
   "source": [
    "def plot_group_characteristics(low_nr, med_nr, high_nr, way, item_col):\n",
    "    plt.figure()\n",
    "    ax = plt.axes()\n",
    "    ax.spines['bottom'].set_color('w')\n",
    "    ax.spines['top'].set_color('w')\n",
    "    ax.spines['right'].set_color('w')\n",
    "    ax.spines['left'].set_color('w')\n",
    "    ax.spines['left'].set_zorder(0)\n",
    "    ax.xaxis.set_ticks_position('none') \n",
    "    ax.yaxis.set_ticks_position('none') \n",
    "    \n",
    "    ax.set_facecolor(\"aliceblue\")\n",
    "    plt.bar(np.arange(3), [low_nr, med_nr, high_nr])\n",
    "    plt.xticks(np.arange(3), ['Niche', 'Diverse', 'BestSeller'])\n",
    "    plt.xlabel('User group')\n",
    "    if way==\"size\":\n",
    "        ylabel = 'Average user profile size'\n",
    "    else:\n",
    "        ylabel = \"Number of users per group\"\n",
    "    plt.ylabel(ylabel)\n",
    "    \n",
    "    print('Niche: ' + str(low_nr))\n",
    "    print('Diverse: ' + str(med_nr))\n",
    "    print('BestSeller: ' + str(high_nr))\n",
    "    plt.show(block=True)"
   ]
  },
  {
   "cell_type": "code",
   "execution_count": 100,
   "metadata": {
    "colab": {
     "base_uri": "https://localhost:8080/",
     "height": 661
    },
    "id": "UWciSGXcb2Gc",
    "outputId": "73b14bd5-eeac-40d6-8f5a-d998ed669273"
   },
   "outputs": [
    {
     "name": "stdout",
     "output_type": "stream",
     "text": [
      "Niche: 1271\n",
      "Diverse: 3815\n",
      "BestSeller: 1272\n"
     ]
    },
    {
     "data": {
      "image/png": "[encoded data removed]",
      "text/plain": [
       "<Figure size 640x480 with 1 Axes>"
      ]
     },
     "metadata": {},
     "output_type": "display_data"
    },
    {
     "name": "stdout",
     "output_type": "stream",
     "text": [
      "Niche: 9.892210857592447\n",
      "Diverse: 16.300917431192662\n",
      "BestSeller: 10.841981132075471\n"
     ]
    },
    {
     "data": {
      "image/png": "[encoded data removed]",
      "text/plain": [
       "<Figure size 640x480 with 1 Axes>"
      ]
     },
     "metadata": {},
     "output_type": "display_data"
    }
   ],
   "source": [
    "plot_group_characteristics(low_nr_users, med_nr_users, high_nr_users, way = \"number\", item_col = item_col)\n",
    "plot_group_characteristics(low_profile_size, med_profile_size, high_profile_size, way = \"size\", item_col = item_col)"
   ]
  },
  {
   "cell_type": "code",
   "execution_count": 101,
   "metadata": {
    "id": "LU60DqSqb3jI"
   },
   "outputs": [],
   "source": [
    "# plot_data_distribution(item_dist, item_col, dividing = [True, top_fraction], log = False)\n",
    "# plot_popularity_distribution(pop_fraq, item_col, dividing = [True,top_fraction])"
   ]
  },
  {
   "cell_type": "markdown",
   "metadata": {
    "id": "ntsQhW_DcAez"
   },
   "source": [
    "## G. Recommendation"
   ]
  },
  {
   "cell_type": "code",
   "execution_count": 102,
   "metadata": {
    "colab": {
     "base_uri": "https://localhost:8080/",
     "height": 206
    },
    "id": "rXVXcmNab7is",
    "outputId": "c0b58684-cfc8-4f8f-8a52-f391fd652866"
   },
   "outputs": [
    {
     "data": {
      "text/html": [
       "<div>\n",
       "<style scoped>\n",
       "    .dataframe tbody tr th:only-of-type {\n",
       "        vertical-align: middle;\n",
       "    }\n",
       "\n",
       "    .dataframe tbody tr th {\n",
       "        vertical-align: top;\n",
       "    }\n",
       "\n",
       "    .dataframe thead th {\n",
       "        text-align: right;\n",
       "    }\n",
       "</style>\n",
       "<table border=\"1\" class=\"dataframe\">\n",
       "  <thead>\n",
       "    <tr style=\"text-align: right;\">\n",
       "      <th></th>\n",
       "      <th>user</th>\n",
       "      <th>book</th>\n",
       "      <th>rating</th>\n",
       "    </tr>\n",
       "  </thead>\n",
       "  <tbody>\n",
       "    <tr>\n",
       "      <th>182</th>\n",
       "      <td>276847</td>\n",
       "      <td>3426029553</td>\n",
       "      <td>8</td>\n",
       "    </tr>\n",
       "    <tr>\n",
       "      <th>210</th>\n",
       "      <td>276847</td>\n",
       "      <td>3551551677</td>\n",
       "      <td>10</td>\n",
       "    </tr>\n",
       "    <tr>\n",
       "      <th>211</th>\n",
       "      <td>276847</td>\n",
       "      <td>3551551685</td>\n",
       "      <td>10</td>\n",
       "    </tr>\n",
       "    <tr>\n",
       "      <th>212</th>\n",
       "      <td>276847</td>\n",
       "      <td>3551551693</td>\n",
       "      <td>10</td>\n",
       "    </tr>\n",
       "    <tr>\n",
       "      <th>213</th>\n",
       "      <td>276847</td>\n",
       "      <td>3551551936</td>\n",
       "      <td>10</td>\n",
       "    </tr>\n",
       "  </tbody>\n",
       "</table>\n",
       "</div>"
      ],
      "text/plain": [
       "       user        book  rating\n",
       "182  276847  3426029553       8\n",
       "210  276847  3551551677      10\n",
       "211  276847  3551551685      10\n",
       "212  276847  3551551693      10\n",
       "213  276847  3551551936      10"
      ]
     },
     "execution_count": 102,
     "metadata": {},
     "output_type": "execute_result"
    }
   ],
   "source": [
    "df_events.head()"
   ]
  },
  {
   "cell_type": "markdown",
   "metadata": {
    "id": "9CnuKZqicFy4"
   },
   "source": [
    "### G.1 Cornac\n",
    "The library used by the book paper. It contains many algorithms."
   ]
  },
  {
   "cell_type": "code",
   "execution_count": 103,
   "metadata": {
    "id": "8b9l5_0YcDh0"
   },
   "outputs": [],
   "source": [
    "df_events_cornac = df_events.copy()\n",
    "mapping_dict = {} # Create a dictionary that maps each ISBN to an integer.\n",
    "i=0\n",
    "for book in df_events_cornac[item_col].unique():\n",
    "    mapping_dict[book] = i\n",
    "    i+=1\n",
    "df_events_cornac[item_col] = df_events_cornac[item_col].map(lambda x: mapping_dict.get(x,x)) # Map in the ratings file"
   ]
  },
  {
   "cell_type": "code",
   "execution_count": 104,
   "metadata": {
    "id": "1S0DpfSAcJpB"
   },
   "outputs": [],
   "source": [
    "df_events_cornac.user = df_events_cornac.user.astype(\"string\")\n",
    "df_events_cornac[item_col] = df_events_cornac[item_col].astype(\"string\")"
   ]
  },
  {
   "cell_type": "code",
   "execution_count": 105,
   "metadata": {
    "id": "RRpiPBwycQbx"
   },
   "outputs": [],
   "source": [
    "df_item_dist_cornac = df_item_dist.rename(index = mapping_dict)"
   ]
  },
  {
   "cell_type": "code",
   "execution_count": 106,
   "metadata": {
    "id": "AtSBD6pvcTW5"
   },
   "outputs": [],
   "source": [
    "data = list(df_events_cornac[[user_col,item_col,predict_col]].to_records(index = False))"
   ]
  },
  {
   "cell_type": "code",
   "execution_count": 107,
   "metadata": {
    "colab": {
     "base_uri": "https://localhost:8080/"
    },
    "id": "_OeXy54nJOgP",
    "outputId": "56f3f16a-554a-4837-85c6-f0928fefcf7a"
   },
   "outputs": [
    {
     "data": {
      "text/plain": [
       "[('276847', '0', 8), ('276847', '1', 10), ('276847', '2', 10)]"
      ]
     },
     "execution_count": 107,
     "metadata": {},
     "output_type": "execute_result"
    }
   ],
   "source": [
    "data[:3]"
   ]
  },
  {
   "cell_type": "code",
   "execution_count": 108,
   "metadata": {
    "id": "cN9s6kqxcXkH"
   },
   "outputs": [],
   "source": [
    "# Split the data based on ratio\n",
    "rs = RatioSplit(data=data, test_size=test_size, rating_threshold=rating_threshold, seed=123)"
   ]
  },
  {
   "cell_type": "code",
   "execution_count": 109,
   "metadata": {
    "id": "mYso_Bf2W7Or"
   },
   "outputs": [],
   "source": [
    "all_items = set(range(rs.total_items)) # needed for later"
   ]
  },
  {
   "cell_type": "code",
   "execution_count": 110,
   "metadata": {
    "id": "07nTwiFuQ4ZC"
   },
   "outputs": [],
   "source": [
    "# Define the two different options for UserKNN, with and without mean centering\n",
    "usKNN = UserKNN(k=40, similarity = 'cosine', mean_centered=False, seed = my_seed, verbose=True)\n",
    "usKNN_means = UserKNN(k=40, similarity = 'cosine', mean_centered=True, seed = my_seed, verbose=True)"
   ]
  },
  {
   "cell_type": "markdown",
   "metadata": {
    "id": "Zau7crGOO-iY"
   },
   "source": [
    "#### Training"
   ]
  },
  {
   "cell_type": "code",
   "execution_count": 112,
   "metadata": {
    "id": "WIUHUx7acZMW"
   },
   "outputs": [],
   "source": [
    "# initialize models, here we are comparing: simple, traditional, and neural networks based models\n",
    "models = [\n",
    "          # 1: Random\n",
    "          # 2: MostPop\n",
    "          MostPop(),\n",
    "          # 3: UserKNN\n",
    "          usKNN,\n",
    "          #4: ItemKNN\n",
    "          ItemKNN(k=40, similarity = 'cosine', mean_centered=False, seed = my_seed, verbose=True),\n",
    "          # 5: UserKNN with means\n",
    "          usKNN_means,\n",
    "          ## 6: BaselineOnly\n",
    "          #BaselineOnly(verbose=True),\n",
    "          # 7: BPR\n",
    "          BPR(k=10, max_iter=200, learning_rate=0.001, lambda_reg=0.01, seed=123, verbose=True),\n",
    "          # 8: MF\n",
    "          MF(k=30, max_iter=100, learning_rate=0.01, lambda_reg=0.001, seed=123, verbose=True),\n",
    "          # 9: PMF\n",
    "          PMF(k=10, max_iter=100, learning_rate=0.001, lambda_reg=0.001, verbose=True),\n",
    "          # 10: NMF\n",
    "          CornacNMF(k=15, max_iter=50, learning_rate=0.005, lambda_u=0.06, lambda_v=0.06, lambda_bu=0.02, lambda_bi=0.02, use_bias=False, verbose=True, seed=123),\n",
    "          # 11: WMF\n",
    "          WMF(k=50, max_iter=50, learning_rate=0.001, lambda_u=0.01, lambda_v=0.01, verbose=True, seed=123),\n",
    "          # 12: PF\n",
    "          HPF(k=50, seed=123, hierarchical=False, name=\"PF\", verbose=True),\n",
    "          # 13: NueMF\n",
    "          NeuMF(num_factors=8, layers=[32, 16, 8], act_fn=\"tanh\", num_epochs=1, num_neg=3, batch_size=256, lr=0.001, seed=42, verbose=True),\n",
    "          # 14: VAECF\n",
    "          VAECF(k=10, autoencoder_structure=[20], act_fn=\"tanh\", likelihood=\"mult\", n_epochs=100, batch_size=100, learning_rate=0.001, beta=1.0, seed=123, use_gpu=True, verbose=True)\n",
    "          ]"
   ]
  },
  {
   "cell_type": "code",
   "execution_count": 113,
   "metadata": {
    "id": "bQK_mBGBU5oc"
   },
   "outputs": [],
   "source": [
    "algo_names = [\"Random\",\n",
    "              \"MostPop\", \n",
    "              \"UserKNN\",\n",
    "              \"ItemKNN\", \n",
    "              \"UserKNN with means\", \n",
    "              \"BPR\",\n",
    "              \"MF\",\n",
    "              \"PMF\",\n",
    "              \"NMF\",\n",
    "              \"WMF\",\n",
    "              \"HPF\",\n",
    "              \"NeuMF\",\n",
    "              \"VAECF\"\n",
    "              ] # in the order that they are in the model list"
   ]
  },
  {
   "cell_type": "code",
   "execution_count": 114,
   "metadata": {
    "colab": {
     "base_uri": "https://localhost:8080/",
     "height": 1000,
     "referenced_widgets": [
      "5772a5ea7b624f82bb4dc965dcb7dd2d",
      "7a02216894a949569b620c9d8a411025",
      "5c97216e42aa45b88cd2dea7b124eec3",
      "47c142d3c3a74c6f95ebc9c73bef6753",
      "11701acc260443e6b12b025334b94045",
      "036c9ab3b0624e7aac37fc4e54b579cb",
      "56cdca55f9334d12ba10cbdddc3e1812",
      "19017838669c4f94ba7173f5f1bdc683",
      "a2327857485c4d56bad7a66b58c5faaa",
      "03e2663abd8f45c58fc44622ec5dbb49",
      "d003c0a70742429aae22e30ced420509",
      "3fd6570e2f844fb9b1a6b68a5ddf2666",
      "54b0889790ff42d59b939fd983a27028",
      "05ced476aae048cba12763a4c75cc071",
      "c0980e2862c14e718bb213fd88c4db4d",
      "e43efb3f05014c33b0866d6ccd878ce1",
      "6df61700c54d4428b1e93de8470d1e4f",
      "d9dea54280cf4158a3e766bbb7577d8d",
      "5caeb36a8ada43c6aae70bda6108e006",
      "b2013bd4748b4a82a1b3d32446c09839",
      "e790e634fad840a9a95e8c8ec384408f",
      "482c162936654dd5be8094d2092e0491",
      "45009b28a2e64ab58d5f672feea9312e",
      "58a69f12763d44b6a92099a40855f123",
      "981d9dc5b6154b439c69497fc0997c82",
      "b38590f905974c9e90808433e67ebf36",
      "a0a250984c0a41aba0766d149a007003",
      "2551135f381c465eac9962a92b674e95",
      "5461e49f820345ea8d6b87bff66d4ed9",
      "291f4d7640ae41ddb10a83b445c4ea4e",
      "adf31d284f674e1c8a6ee085bb691ea8",
      "7ad4d0816d644bb5b61271dcd43dab6c",
      "a1033e821a9b48a38b2bfff29a3b41ca",
      "bd76789f118d4e3d9e415581c49a6b3d",
      "0e62a30dbdbd4cd2a2d435d55c9b7076",
      "005cd6486d584d72a90d39480a762171",
      "f7f20a435e6447c9baad03289a2c0339",
      "c532e9af628a4105b9477ec2da2b26bd",
      "caf761030c4146d282c2579aabd90a8d",
      "e0473ebcca784c209f86aaa5b5ce9cfe",
      "b5c31e177f1d4adbb4389711c4326ea4",
      "14b22ad8dd9840648a9261eed84ff1ec",
      "7a52b86e42364b47a0dcb0e6da659edf",
      "01d83107714b462cb11a0957f6c770b4",
      "b0c04ae82ab24c0da90cf2012d785e66",
      "6fbbe7da277441ed9a41de78c9dd1bc3",
      "6a50622aa99d403fbc033a1080f6df74",
      "2ddc6c9101d447eaa05df60fd53d6245",
      "b3b5f5999e4d479289458eade249863d",
      "a6fdaf0b2d114717b2c6c13eb9cda196",
      "a1848c08a1eb421aa6d2baa0e25a9439",
      "2bfb0a2fbe0b4cbd914236d8f30d4556",
      "b0aa0728bc7d454c8e1fa66474a6c9a1",
      "5f9a55350f9945e2be31da7b8e718da3",
      "dfc4ea64e531443492726644bd95e72c",
      "56263c4b148340c7912fe9fe96b21e69",
      "2e3029400ff9455984b8810783942fd8",
      "51254583606d4f509b5cc000cb26e4fc",
      "b6c0c9e9c0b94693b6db36dee76b6125",
      "3cb259aa65bd43359ef445b994aa2161",
      "26f6b56afdf54f73a5b7eec80b0daf3e",
      "353f89501be746e6a9525a2711c8c36c",
      "fd2d8867e29d41f784c6b1a9edd084da",
      "1f1152900c4d47699e4488a73f1a4580",
      "2a872ad1ddfe4f87bad03337f6538aa6",
      "38ed0c7440f942b5a0f3a8a272638bac",
      "e39410858059449092cc2b3a825309c1",
      "97648f35c34c452592248d1ab68d6ac5",
      "05ebf41f32c14362ac65a53f459fd309",
      "534f7c1329114fde9b33fa960e99c20e",
      "b98a4dc5259849acb47dc35b0994e75a",
      "bc6efabf4dd14eee87a1d4f7e3b4a8ab",
      "0b3efd2348bf4c6d8d23665cf4fa12d1",
      "370d8b6e49dc495b94584edc5f3a957e",
      "e2e4d73d25af4122b100b5b1598edd03",
      "e2b5f91deb9146ebaa303af5d481b562",
      "4b6b15943b004e1b8a5acc08cedf2491",
      "550dbf53620143a3b0d5770056c07158",
      "8916184295c14f01a0d9b1c4657ad35e",
      "e1dbc638060e4771bd567db9b201ce3e",
      "249e8076108e42019490ecaf064c2d69",
      "7922bf85f0dd418286de6450b586a8eb",
      "e63b1ac496f741b9b3e83ead997ac2fa",
      "aa678d54387f4bbab607c3af45abc844",
      "52862a5071614acc97ade774ce57f374",
      "b8209b78232c4fa49dfd0f143ebaf278",
      "78405ac3c8284fc7ac65f27b0faedbd2",
      "607318e74cb24fc49b0a051a9b33aafe",
      "dc857d37d7724778bf531fe970be7eb6",
      "b227bd964f6c43fa9b697b2409d8ca15",
      "632463ca79784bc58c5973069e73efd1",
      "d132912126f949b99b05a8e2dc773cde",
      "af6ccedec6654ee69dffea55c58132e0",
      "c6d8e87247924831a35c9443060debc1",
      "f40e199302074e75a2b80bc50aaed348",
      "c01ecfe20dc54f56876d3b039c7246f2",
      "f51862f5756648e1a3b1415c943f2b7d",
      "15946be23f51453e85d7f2482c6a00ba",
      "b8c20b0ea52a403ca1eda463f8248cbe"
     ]
    },
    "id": "kho6vULvca64",
    "outputId": "dcf4580d-b0d0-42e4-f646-778d77462d01"
   },
   "outputs": [
    {
     "data": {
      "application/vnd.jupyter.widget-view+json": {
       "model_id": "0140d1c3158947118918019d81c03cd0",
       "version_major": 2,
       "version_minor": 0
      },
      "text/plain": [
       "  0%|          | 0/6358 [00:00<?, ?it/s]"
      ]
     },
     "metadata": {},
     "output_type": "display_data"
    },
    {
     "data": {
      "application/vnd.jupyter.widget-view+json": {
       "model_id": "76e0a21a36a64449927c76dc93bae6e2",
       "version_major": 2,
       "version_minor": 0
      },
      "text/plain": [
       "  0%|          | 0/6921 [00:00<?, ?it/s]"
      ]
     },
     "metadata": {},
     "output_type": "display_data"
    },
    {
     "data": {
      "application/vnd.jupyter.widget-view+json": {
       "model_id": "16e31f5396404eed850656b7a897a74c",
       "version_major": 2,
       "version_minor": 0
      },
      "text/plain": [
       "  0%|          | 0/6358 [00:00<?, ?it/s]"
      ]
     },
     "metadata": {},
     "output_type": "display_data"
    },
    {
     "data": {
      "application/vnd.jupyter.widget-view+json": {
       "model_id": "e8132774da384a4186404cbcbb8e6cd0",
       "version_major": 2,
       "version_minor": 0
      },
      "text/plain": [
       "  0%|          | 0/200 [00:00<?, ?it/s]"
      ]
     },
     "metadata": {},
     "output_type": "display_data"
    },
    {
     "name": "stdout",
     "output_type": "stream",
     "text": [
      "Optimization finished!\n"
     ]
    },
    {
     "data": {
      "application/vnd.jupyter.widget-view+json": {
       "model_id": "8f57526365bd4799bb498014c152087e",
       "version_major": 2,
       "version_minor": 0
      },
      "text/plain": [
       "  0%|          | 0/100 [00:00<?, ?it/s]"
      ]
     },
     "metadata": {},
     "output_type": "display_data"
    },
    {
     "name": "stdout",
     "output_type": "stream",
     "text": [
      "Optimization finished!\n",
      "Learning...\n",
      "epoch 0, loss: 7429.845914\n",
      "epoch 1, loss: 7423.407617\n",
      "epoch 2, loss: 7408.296416\n",
      "epoch 3, loss: 7381.613001\n",
      "epoch 4, loss: 7340.698077\n",
      "epoch 5, loss: 7283.248831\n",
      "epoch 6, loss: 7207.621212\n",
      "epoch 7, loss: 7113.110847\n",
      "epoch 8, loss: 7000.125100\n",
      "epoch 9, loss: 6870.240096\n",
      "epoch 10, loss: 6726.076425\n",
      "epoch 11, loss: 6570.934950\n",
      "epoch 12, loss: 6408.288786\n",
      "epoch 13, loss: 6241.346879\n",
      "epoch 14, loss: 6072.824810\n",
      "epoch 15, loss: 5904.883133\n",
      "epoch 16, loss: 5739.169782\n",
      "epoch 17, loss: 5576.898085\n",
      "epoch 18, loss: 5418.927155\n",
      "epoch 19, loss: 5265.834337\n",
      "epoch 20, loss: 5117.984622\n",
      "epoch 21, loss: 4975.572893\n",
      "epoch 22, loss: 4838.662148\n",
      "epoch 23, loss: 4707.214589\n",
      "epoch 24, loss: 4581.118322\n",
      "epoch 25, loss: 4460.221192\n",
      "epoch 26, loss: 4344.341251\n",
      "epoch 27, loss: 4233.273596\n",
      "epoch 28, loss: 4126.817460\n",
      "epoch 29, loss: 4024.760473\n",
      "epoch 30, loss: 3926.899074\n",
      "epoch 31, loss: 3833.035238\n",
      "epoch 32, loss: 3742.973438\n",
      "epoch 33, loss: 3656.530858\n",
      "epoch 34, loss: 3573.532527\n",
      "epoch 35, loss: 3493.813352\n",
      "epoch 36, loss: 3417.214729\n",
      "epoch 37, loss: 3343.591738\n",
      "epoch 38, loss: 3272.803047\n",
      "epoch 39, loss: 3204.718769\n",
      "epoch 40, loss: 3139.211256\n",
      "epoch 41, loss: 3076.162894\n",
      "epoch 42, loss: 3015.464559\n",
      "epoch 43, loss: 2957.004800\n",
      "epoch 44, loss: 2900.683790\n",
      "epoch 45, loss: 2846.403441\n",
      "epoch 46, loss: 2794.072380\n",
      "epoch 47, loss: 2743.602366\n",
      "epoch 48, loss: 2694.909924\n",
      "epoch 49, loss: 2647.915791\n",
      "epoch 50, loss: 2602.544737\n",
      "epoch 51, loss: 2558.724143\n",
      "epoch 52, loss: 2516.388226\n",
      "epoch 53, loss: 2475.471430\n",
      "epoch 54, loss: 2435.912347\n",
      "epoch 55, loss: 2397.651933\n",
      "epoch 56, loss: 2360.634453\n",
      "epoch 57, loss: 2324.808705\n",
      "epoch 58, loss: 2290.123140\n",
      "epoch 59, loss: 2256.529048\n",
      "epoch 60, loss: 2223.981590\n",
      "epoch 61, loss: 2192.436501\n",
      "epoch 62, loss: 2161.851401\n",
      "epoch 63, loss: 2132.187555\n",
      "epoch 64, loss: 2103.406367\n",
      "epoch 65, loss: 2075.471469\n",
      "epoch 66, loss: 2048.348148\n",
      "epoch 67, loss: 2022.003203\n",
      "epoch 68, loss: 1996.403167\n",
      "epoch 69, loss: 1971.520557\n",
      "epoch 70, loss: 1947.325927\n",
      "epoch 71, loss: 1923.791100\n",
      "epoch 72, loss: 1900.889669\n",
      "epoch 73, loss: 1878.596393\n",
      "epoch 74, loss: 1856.887150\n",
      "epoch 75, loss: 1835.738910\n",
      "epoch 76, loss: 1815.129667\n",
      "epoch 77, loss: 1795.038392\n",
      "epoch 78, loss: 1775.445010\n",
      "epoch 79, loss: 1756.330326\n",
      "epoch 80, loss: 1737.676008\n",
      "epoch 81, loss: 1719.464548\n",
      "epoch 82, loss: 1701.679218\n",
      "epoch 83, loss: 1684.304014\n",
      "epoch 84, loss: 1667.323080\n",
      "epoch 85, loss: 1650.722894\n",
      "epoch 86, loss: 1634.488374\n",
      "epoch 87, loss: 1618.607279\n",
      "epoch 88, loss: 1603.066319\n",
      "epoch 89, loss: 1587.853260\n",
      "epoch 90, loss: 1572.956437\n",
      "epoch 91, loss: 1558.364069\n",
      "epoch 92, loss: 1544.066582\n",
      "epoch 93, loss: 1530.053228\n",
      "epoch 94, loss: 1516.314253\n",
      "epoch 95, loss: 1502.840292\n",
      "epoch 96, loss: 1489.622418\n",
      "epoch 97, loss: 1476.652108\n",
      "epoch 98, loss: 1463.921188\n",
      "epoch 99, loss: 1451.421866\n",
      "Learning completed\n"
     ]
    },
    {
     "data": {
      "application/vnd.jupyter.widget-view+json": {
       "model_id": "375d71678c43461e9a51eba2caf5f930",
       "version_major": 2,
       "version_minor": 0
      },
      "text/plain": [
       "  0%|          | 0/50 [00:00<?, ?it/s]"
      ]
     },
     "metadata": {},
     "output_type": "display_data"
    },
    {
     "name": "stdout",
     "output_type": "stream",
     "text": [
      "Optimization finished!\n"
     ]
    },
    {
     "data": {
      "application/vnd.jupyter.widget-view+json": {
       "model_id": "96e7df402cd64ae994bcf68d30fd0292",
       "version_major": 2,
       "version_minor": 0
      },
      "text/plain": [
       "  0%|          | 0/50 [00:00<?, ?it/s]"
      ]
     },
     "metadata": {},
     "output_type": "display_data"
    },
    {
     "name": "stdout",
     "output_type": "stream",
     "text": [
      "Learning completed!\n",
      "Learning...\n",
      "Learning completed!\n"
     ]
    },
    {
     "data": {
      "application/vnd.jupyter.widget-view+json": {
       "model_id": "2a5a336450be437283df248093e25e0b",
       "version_major": 2,
       "version_minor": 0
      },
      "text/plain": [
       "  0%|          | 0/1 [00:00<?, ?it/s]"
      ]
     },
     "metadata": {},
     "output_type": "display_data"
    },
    {
     "data": {
      "application/vnd.jupyter.widget-view+json": {
       "model_id": "c63b34a7b0c24a3ba47d3850e490f338",
       "version_major": 2,
       "version_minor": 0
      },
      "text/plain": [
       "  0%|          | 0/100 [00:00<?, ?it/s]"
      ]
     },
     "metadata": {},
     "output_type": "display_data"
    },
    {
     "name": "stdout",
     "output_type": "stream",
     "text": [
      "\n",
      "TEST:\n",
      "...\n",
      "        |    MAE | Train (s) | Test (s)\n",
      "------- + ------ + --------- + --------\n",
      "MostPop | 2.5096 |    0.0055 |   0.9295\n",
      "UserKNN | 1.3491 |    0.6727 |   3.0467\n",
      "ItemKNN | 1.3219 |    0.7315 |   2.9771\n",
      "UserKNN | 1.3733 |    0.6776 |   3.0320\n",
      "BPR     | 6.6030 |    2.1394 |   1.0387\n",
      "MF      | 1.2960 |    0.4354 |   1.0356\n",
      "PMF     | 1.4408 |    2.7301 |   1.0027\n",
      "NMF     | 2.2118 |    0.3467 |   1.0318\n",
      "WMF     | 5.7309 |   35.8954 |   1.0286\n",
      "PF      | 6.7383 |  119.8707 |   1.0165\n",
      "NeuMF   | 6.7514 |    6.2287 |   6.0354\n",
      "VAECF   | 6.7514 |  222.6238 |   8.7997\n",
      "\n",
      "423 seconds.\n"
     ]
    }
   ],
   "source": [
    "# define metrics to evaluate the models\n",
    "metrics = [MAE()]\n",
    "\n",
    "# put it together in an experiment, voilà!\n",
    "start = time.time()\n",
    "exp = cornac.Experiment(eval_method=rs, models=models, metrics=metrics, user_based=True)\n",
    "exp.run()\n",
    "end = time.time()\n",
    "print(round(end-start), \"seconds.\")"
   ]
  },
  {
   "cell_type": "markdown",
   "metadata": {
    "id": "nKqjS8oWPEid"
   },
   "source": [
    "#### Ranking and recommendation\n",
    "We have identified three evaluation strategies:\n",
    "1. For every user in the **train set** rank **all items**. | Book paper, *eva_one*\n",
    "2. For every user in the **test set** rank **only the items this user has rated in the test set**. | Music paper, *eva_two*\n",
    "3. For every user in the **test set** rank **only the items this user has NOT rated in the train set**. | Movie(?) paper, *eva_three*\n",
    "\n",
    "For every evaluation strategy, we define a function that recommends the appropriate items to the appropriate users as described above. "
   ]
  },
  {
   "cell_type": "markdown",
   "metadata": {
    "id": "yal5jvwaXBai"
   },
   "source": [
    "##### Functions"
   ]
  },
  {
   "cell_type": "code",
   "execution_count": 115,
   "metadata": {
    "id": "wkAtHnxZclBf"
   },
   "outputs": [],
   "source": [
    "def get_top_n_eva_one(algo_name,i, n=10):\n",
    "  model = exp.models[i]\n",
    "  print(algo_name + \" model is selected:\")\n",
    "  top_n = defaultdict(list)\n",
    "  for uid in tqdm(model.train_set.uid_map.values()): # every user in the train set\n",
    "    user_id = list(model.train_set.user_ids)[uid] # so this is the actual user_id\n",
    "    item_rank = model.rank(user_idx=uid)[0] # all\n",
    "    # collect top N items\n",
    "    item_rank_top = item_rank[:n]\n",
    "    for iid in item_rank_top:\n",
    "      item_id = list(model.train_set.item_ids)[iid]\n",
    "      top_n[int(user_id)].append((int(item_id), model.score(uid, iid)))\n",
    "  return top_n"
   ]
  },
  {
   "cell_type": "code",
   "execution_count": 116,
   "metadata": {
    "id": "8Ebn6hmHCopg"
   },
   "outputs": [],
   "source": [
    "def get_top_n_eva_two(algo_name,i, n=10):\n",
    "  model = exp.models[i]\n",
    "  print(algo_name + \" model is selected:\")\n",
    "  top_n = defaultdict(list)\n",
    "  for uid in tqdm(rs.test_set.uid_map.values()): # every user in the test set\n",
    "    user_id = list(rs.train_set.user_ids)[uid]\n",
    "    user_items_in_the_test_set = rs.test_set.user_data[uid][0] \n",
    "    \n",
    "    item_rank = model.rank(user_idx=uid, item_indices = user_items_in_the_test_set)[0] # items the user has rated in the test set \n",
    "    item_rank_top = item_rank[:n]\n",
    "    for iid in item_rank_top:\n",
    "      item_id = list(model.train_set.item_ids)[iid]\n",
    "      top_n[int(user_id)].append((int(item_id), model.score(uid, iid)))\n",
    "  return top_n"
   ]
  },
  {
   "cell_type": "code",
   "execution_count": 117,
   "metadata": {
    "id": "u0qmS8YIZ-HN"
   },
   "outputs": [],
   "source": [
    "def get_top_n_eva_three(algo_name,i, n=10):\n",
    "  model = exp.models[i]\n",
    "  print(algo_name + \" model is selected:\")\n",
    "  top_n = defaultdict(list)\n",
    "\n",
    "  for uid in tqdm(rs.test_set.uid_map.values()): # every user in the test set\n",
    "    user_id = list(rs.train_set.user_ids)[uid]\n",
    "    user_items_in_the_train_set = set(rs.train_set.user_data[uid][0])\n",
    "    user_items_not_in_the_train_set = list(all_items.difference(user_items_in_the_train_set))\n",
    "    \n",
    "    item_rank = model.rank(user_idx=uid, item_indices = user_items_not_in_the_train_set)[0] # items the user has NOT rated in the TRAIN set\n",
    "    item_rank_top = item_rank[:n]\n",
    "    for iid in item_rank_top:\n",
    "      item_id = list(model.train_set.item_ids)[iid]\n",
    "      top_n[int(user_id)].append((int(item_id), model.score(uid, iid)))\n",
    "  return top_n"
   ]
  },
  {
   "cell_type": "code",
   "execution_count": 118,
   "metadata": {
    "id": "UWdo0S--cmWf"
   },
   "outputs": [],
   "source": [
    "# random recommendation algorithm, same for every strategy \n",
    "def get_top_n_random(n=10):\n",
    "    print(\"Random model is selected:\")\n",
    "    top_n = defaultdict(list)\n",
    "\n",
    "    for uid in tqdm(rs.test_set.uid_map.values()): # every user in the test set\n",
    "      if uid not in top_n.keys():\n",
    "        user_id = list(rs.train_set.user_ids)[uid]\n",
    "        user_items_in_the_train_set = set(rs.train_set.user_data[uid][0])\n",
    "        user_items_not_in_the_train_set = list(all_items.difference(user_items_in_the_train_set)) # random choice out of the items that the user has NOT rated in the train set\n",
    "        for i in range(0, n):\n",
    "          top_n[int(user_id)].append((int(rd.choice(user_items_not_in_the_train_set)), i))\n",
    "          \n",
    "    return top_n"
   ]
  },
  {
   "cell_type": "markdown",
   "metadata": {
    "id": "vk-DssKnXEQU"
   },
   "source": [
    "##### Recommendation"
   ]
  },
  {
   "cell_type": "markdown",
   "metadata": {
    "id": "_NqjmMGzXLky"
   },
   "source": [
    "Choose evaluation strategy."
   ]
  },
  {
   "cell_type": "code",
   "execution_count": 124,
   "metadata": {
    "id": "h2o2A6UiXejW"
   },
   "outputs": [],
   "source": [
    "evaluation_function = {'eva_one':get_top_n_eva_one,\n",
    "             'eva_two': get_top_n_eva_two,\n",
    "             'eva_three': get_top_n_eva_three}"
   ]
  },
  {
   "cell_type": "code",
   "execution_count": 127,
   "metadata": {
    "id": "S6njx9lKXoD8"
   },
   "outputs": [],
   "source": [
    "choice = 'eva_two'\n",
    "# to be manually set!!! "
   ]
  },
  {
   "cell_type": "markdown",
   "metadata": {},
   "source": [
    "### Prediction\n",
    "Run it when different evaluation strategy is chosen."
   ]
  },
  {
   "cell_type": "code",
   "execution_count": null,
   "metadata": {},
   "outputs": [
    {
     "name": "stdout",
     "output_type": "stream",
     "text": [
      "Random model is selected:\n"
     ]
    },
    {
     "name": "stderr",
     "output_type": "stream",
     "text": [
      "100%|████████████████████████████████████████████████████████████████████████████████████████████████████████████████████████████████████████████████████████████████████████████████████████████████████████████████████████████████████████████████| 5394/5394 [00:02<00:00, 1828.44it/s]\n"
     ]
    },
    {
     "name": "stdout",
     "output_type": "stream",
     "text": [
      "MostPop model is selected:\n"
     ]
    },
    {
     "name": "stderr",
     "output_type": "stream",
     "text": [
      "100%|█████████████████████████████████████████████████████████████████████████████████████████████████████████████████████████████████████████████████████████████████████████████████████████████████████████████████████████████████████████████████| 5394/5394 [00:15<00:00, 338.78it/s]\n"
     ]
    },
    {
     "name": "stdout",
     "output_type": "stream",
     "text": [
      "UserKNN model is selected:\n"
     ]
    },
    {
     "name": "stderr",
     "output_type": "stream",
     "text": [
      "100%|██████████████████████████████████████████████████████████████████████████████████████████████████████████████████████████████████████████████████████████████████████████████████████████████████████████████████████████████████████████████████| 5394/5394 [02:32<00:00, 35.35it/s]\n"
     ]
    },
    {
     "name": "stdout",
     "output_type": "stream",
     "text": [
      "ItemKNN model is selected:\n"
     ]
    },
    {
     "name": "stderr",
     "output_type": "stream",
     "text": [
      "  1%|█▍                                                                                                                                                                                                                                                  | 32/5394 [00:01<03:10, 28.09it/s]"
     ]
    }
   ],
   "source": [
    "algo_dict = {}\n",
    "for i in range(0, len(algo_names)):\n",
    "    if algo_names[i] == 'Random':\n",
    "      top_n = get_top_n_random(n=10)\n",
    "    else:\n",
    "      top_n = evaluation_function[choice](algo_names[i],i-1, n=10)\n",
    "    algo_dict[algo_names[i]] = top_n.items()"
   ]
  },
  {
   "cell_type": "markdown",
   "metadata": {},
   "source": [
    "### Evaluation\n",
    "Run it when different popularity notion is chosen."
   ]
  },
  {
   "cell_type": "markdown",
   "metadata": {},
   "source": [
    "##### MRR"
   ]
  },
  {
   "cell_type": "markdown",
   "metadata": {},
   "source": [
    "Maybe for Mean reciprocal rank!!! at 10:\n",
    "1. For every user, the true relevance of each item recommended to them. 0 if it's not in the test set. if it's in the test set, the score.\n",
    "\n",
    "\n",
    "So for every user, make a 'frame' of the recommended items and include relevance."
   ]
  },
  {
   "cell_type": "markdown",
   "metadata": {},
   "source": [
    "##### NDCG@10\n",
    "\n",
    "To think about: which list am I comparing to in order to calculate NDCG@10?"
   ]
  },
  {
   "cell_type": "markdown",
   "metadata": {},
   "source": [
    "We need:\n",
    "1. For every user, the true relevance of each item recommended to them. 0 if it's not in the test set. if it's in the test set, the score.\n"
   ]
  },
  {
   "cell_type": "code",
   "execution_count": 123,
   "metadata": {},
   "outputs": [
    {
     "data": {
      "text/plain": [
       "dict_items([(200248, [(6086, 8.666666666666666), (4021, 6.291666690416665)]), (104505, [(4395, 9.72311827140642), (4389, 9.448884288789525), (6244, 8.916666666666666), (1124, 8.750000001666667)]), (14638, [(2826, 6.0), (2072, 6.0), (2808, 6.0), (1588, 5.963636363818182)]), (70649, [(3127, 9.083333328333334), (1140, 8.583333333333334), (2994, 8.083333340833335), (2316, 7.8270308161064435)]), (217318, [(4340, 7.1957364159118224), (3334, 6.299858066166932), (4164, 6.275451120808924), (6177, 6.135547409058025), (4229, 6.096568809576183), (169, 6.096230515505457), (3362, 5.9303368550379645), (3641, 5.789042403075564), (379, 5.7750299924215875), (160, 5.694662131842574)]), (240403, [(119, 8.911594188565218), (685, 8.19600280646038), (914, 7.9662188123641995), (5628, 7.811594202065217), (643, 7.80145980594168), (1192, 7.478260869565218), (2235, 7.478260869565218), (6210, 7.478260869565218), (1039, 7.478260869565218), (2209, 7.478260869565218)]), (107258, [(1781, 7.311063690849583), (20, 3.655129185027242)]), (258534, [(1794, 9.723657014168388), (340, 9.604246334294363), (3010, 9.530722233488875), (2840, 9.299894675145095), (63, 9.00239913710313), (2746, 8.994490354793388), (892, 8.960703779072066), (2957, 8.919810095843221), (1019, 8.886806636703442), (997, 8.869893413145457)]), (43021, [(16, 9.424011558886878), (5129, 9.2), (5128, 9.2), (3569, 9.2)]), (202277, [(6259, 9.487179465641026), (4057, 9.413333312533334), (2973, 7.555289668992956), (526, 7.333333333333333), (4018, 7.333333333333333), (3177, 7.162550723576096), (5050, 7.0631654390659975), (5712, 6.8032289825945025)]), (44756, [(4408, 9.2), (4094, 9.097980933450806), (5183, 7.721126775352111)]), (132375, [(2644, 9.884965029578673), (3454, 9.848776273085194), (4118, 9.41251262636091), (3477, 8.857933853418556), (6379, 8.849252988512674), (3305, 8.435143291813802), (2543, 8.162531024037254), (1433, 8.150085381356487), (6829, 7.984162904162897), (416, 7.689835168561356)]), (154529, [(784, 9.656558491581322), (5991, 9.559595945818183), (620, 8.613706400526837), (5682, 8.320462869769647), (1728, 8.219056149572518), (4843, 8.181818181818182), (2998, 8.181818181818182), (1078, 8.181818181818182), (5552, 7.893840451649451), (4919, 7.558053652973935)]), (273190, [(235, 10.794984611050747), (3061, 9.307692307692308), (997, 9.245192308317309), (5985, 9.067692310092308), (805, 8.136538467394232), (4029, 6.507692335692308)]), (116537, [(971, 6.755954972895909), (5586, 6.25), (1444, 6.25), (6461, 6.25), (3399, 5.7954545500000005)]), (41449, [(3698, 7.393939383333333), (3379, 6.333333333333333)]), (165308, [(3491, 10.05514703944853), (3056, 9.176121494478974), (4782, 9.153365367035223), (4325, 9.10329964435624), (4207, 8.853936196412851), (4573, 8.782476916107747), (338, 8.569205471148475), (5522, 8.454399767733147), (1876, 8.434975590620313), (5052, 8.408613135324144)]), (96357, [(4736, 10.373411512580645), (6547, 8.994623647580646), (6559, 8.161290322580646), (776, 8.12236039773069), (581, 8.105835243559735), (243, 8.009679828105346), (1405, 7.890641110294264), (1788, 7.80951659754584), (279, 7.19433505191707), (449, 6.856393447886299)]), (154126, [(313, 8.848214277901786), (303, 8.284531839097188)]), (274979, [(5621, 7.333333333333333), (1861, 7.333333333333333)]), (87938, [(1249, 8.429651265328287), (4460, 8.171401063830372), (2912, 8.157469162811019), (2451, 8.057975516221855), (447, 7.071725830353939), (5259, 6.289208358673464)]), (177374, [(4723, 10.725637169653917), (4323, 10.435505884739332), (473, 10.377546853199807), (1888, 9.934227542638508), (290, 9.839907495380555), (3858, 9.769997584934135), (5251, 9.583633846884224), (1838, 9.551724137931034), (4081, 9.46086838459335), (398, 9.109676190070743)]), (53220, [(4275, 9.062717140853925), (342, 9.046037639381863), (1629, 9.032007909012735), (1567, 9.014781061860724), (3472, 8.917520993266239), (1200, 8.800470808222558), (4593, 8.768147422196517), (3074, 8.736785900551647), (4014, 8.712454211984127), (216, 8.432358388290256)]), (244685, [(692, 9.778034322568208), (3160, 9.27433518973333), (4802, 8.852208242700375), (1318, 8.794725458453382), (452, 8.783407332877387), (4911, 8.780910651495983), (77, 8.679617749608436), (3023, 8.20680846580353), (4277, 8.126034420725883), (5289, 7.788343678898078)]), (145449, [(6106, 8.799999996833332), (3761, 8.547222220953703), (850, 8.524856622415093), (2717, 8.47079191064752), (5334, 8.166666666666666), (517, 7.98958333421875), (4618, 7.653593229654036), (2889, 7.30773619553865)]), (179118, [(1203, 9.275161283946774), (3042, 8.0), (2004, 7.359523811658731)]), (49460, [(61, 8.599779021412814), (586, 8.280611809884121), (378, 8.166149239677523), (1918, 7.723342176104775), (862, 7.676138828706791), (5362, 7.582080227212781), (2579, 6.69768018821419), (4509, 6.516977323189587), (5364, 5.764367826925287)]), (223530, [(5780, 8.0), (3328, 8.0), (84, 8.0), (535, 8.0)]), (70666, [(3770, 7.143219985488581), (936, 7.106128310541552), (1883, 7.05541921758505), (997, 6.993407416232527), (533, 6.788880835354731), (981, 6.679644894273355), (5340, 6.481201640905985), (2516, 6.319423465859749), (358, 6.319151190272888), (707, 6.315343109221559)]), (35857, [(1291, 7.413300795617385), (4692, 7.28), (3517, 7.28), (3972, 6.865320262240857), (707, 6.527938703101056)]), (39374, [(2609, 7.843137253137256), (3043, 7.666666666666667)]), (274308, [(3896, 9.701302054798804), (784, 8.34366900585144), (5388, 8.338095232380953), (1421, 8.320263622450874), (2334, 8.136645686332958), (79, 8.132913117630382)]), (6772, [(1574, 6.845793771146232), (1625, 6.489160841215035), (1237, 6.133516487348901), (1624, 6.069421491756199)]), (155014, [(420, 8.805238091011905), (50, 8.654369754018443), (608, 8.625931343485636), (1506, 8.237130756202058), (1104, 8.221268427389136), (5834, 8.0979113667222), (1531, 8.045053418374403), (623, 7.96000001), (5781, 7.6504088277357525), (1626, 7.188654270622082)]), (68760, [(2559, 8.72556235706408), (2070, 8.216016126243247), (3348, 7.27685250344756), (3828, 5.631410272628205), (1628, 4.78409094)]), (40914, [(5027, 8.96356036617291), (486, 8.377665180729057), (3056, 8.367465856273627), (1864, 8.330220708718166), (1953, 7.894736842105263), (217, 7.894736842105263), (2963, 7.757277853707085), (1253, 6.8819534938174165)]), (188010, [(1016, 9.209648893823973), (590, 7.157824054558477), (1356, 7.142857142857143), (3909, 7.142857142857143), (3750, 7.142857142857143), (51, 7.042965691058457), (3718, 7.015265440076708), (6597, 6.932518462981921), (1115, 6.802607846250107), (1660, 6.452866076927866)]), (69232, [(4340, 11.62296648463158), (4615, 10.38270676353634), (6049, 9.64114832257757), (4963, 9.368421052631579), (2613, 9.368421052631579), (2877, 8.587541171926382), (3735, 8.211594325123322)]), (244039, [(4231, 7.0), (573, 7.0), (2884, 7.0)]), (65068, [(1344, 8.515873005714285), (1870, 7.5)]), (189392, [(1522, 8.8972778525064), (4893, 8.666666659999999), (4727, 8.0), (1149, 8.0), (3427, 8.0)]), (119654, [(375, 8.69767441261628), (6692, 7.5)]), (170415, [(120, 6.7919485212044215), (457, 5.352769952574441)]), (236164, [(1841, 7.39673912019188), (3852, 6.375), (5006, 6.375)]), (210261, [(3498, 7.0)]), (163570, [(611, 9.602583889597069), (3977, 9.592984840673301), (162, 9.554677204729908), (4573, 9.206698592374343), (1929, 9.130434782608695), (1242, 9.049074858974125), (452, 8.930434784608696), (73, 8.7364735513784), (3790, 8.52469542337608), (4162, 5.059006252144962)]), (167471, [(1520, 9.1931549453271), (2873, 8.813513441463396), (3266, 8.281869880858975), (1101, 8.2), (5825, 8.2), (2552, 8.173772664579218), (486, 8.078499574987244), (1412, 7.592025162941026), (6345, 7.400000004)]), (251140, [(2001, 9.745454533384084), (1022, 9.080221225020798), (169, 8.813731552989223), (4215, 8.550592552751302), (809, 8.50186513093645), (215, 8.239436027548063), (3197, 8.204811328515035), (1055, 8.045302699727745)]), (51207, [(16, 10.396995833119377), (5332, 8.464306308543124), (2872, 6.179227071132852)]), (120807, [(255, 8.75), (2013, 8.75), (4926, 8.75)]), (143415, [(3700, 10.321904734285715), (4796, 8.564683835725994), (3670, 8.55999999), (1854, 8.49446760811648), (774, 8.31636611569226), (447, 7.510704029402955), (5031, 6.351666678749999), (6252, 5.652250076659515), (5151, 5.124275014528372)]), (165758, [(433, 6.30920374190284), (2335, 6.046103896011688), (5757, 5.865763542469212), (473, 5.844703618911252), (4483, 5.541766559749314), (643, 5.118866875881182), (2097, 4.8854256858076), (4471, 4.707877997301445), (5550, 4.194960216226791)]), (276563, [(3572, 6.75)]), (268639, [(1617, 8.277777771666667), (873, 7.666666666666667)]), (36135, [(1227, 9.313775500618668), (1993, 9.099137923793103), (3115, 8.375), (3007, 8.313775510829217), (103, 8.29276315830592), (419, 8.096329366008266), (4714, 7.517857147142857)]), (76151, [(5707, 10.739116801600652), (2325, 10.288551251664828), (5241, 10.01113422272904), (6208, 10.009841633254963), (27, 9.650890665242942), (5435, 9.626213587036856), (5240, 9.609415657987814), (2615, 9.58219358285084), (335, 9.43475787171929), (1854, 9.42211084750933)]), (22338, [(3589, 8.84363552858402)]), (134694, [(470, 6.666666666666667), (5282, 6.666666666666667)]), (189516, [(367, 8.557155966978474), (2080, 8.190024143964633), (1624, 7.521346512954173), (576, 7.501613646918279), (865, 6.865761704162896)]), (211344, [(983, 8.612064887896073), (6295, 8.528036065292218), (3994, 7.612903225806452), (3048, 7.053764213188723), (1578, 5.544787290671186)]), (178667, [(2892, 7.966825418105737), (5437, 7.177006318268628), (1066, 7.006970712948267), (1269, 6.665918323527387), (2858, 6.65234805783053), (2856, 6.587104466755778), (4969, 6.480547094973094), (5283, 6.470157506449951), (451, 6.364770112775639), (536, 6.284469264043739)]), (66942, [(4836, 9.106576779682301), (341, 8.322234534047706), (1429, 8.283181497141241), (1158, 8.101622201830903), (285, 7.713625807134894), (2193, 7.570506408525523), (4855, 7.558139534883721), (5237, 7.40884344698986), (5974, 7.399272284214697)]), (266466, [(3118, 8.21581196181624), (500, 8.163921363779572), (1104, 7.441247574215654), (6679, 7.416666666666667), (1058, 6.5948275903160924), (641, 4.063725506960784)]), (84523, [(744, 6.635741339235322), (2867, 5.533333333333333), (4165, 5.533333333333333), (421, 5.400466496251679)]), (267895, [(3657, 9.333333333333334), (5824, 9.333333333333334)]), (220091, [(16, 7.49218403599797), (6702, 7.0)]), (76888, [(6227, 9.563139515839232), (1548, 8.321876974769033), (503, 8.080606368800902), (72, 7.642244979212784), (3280, 6.101113814044163)]), (237990, [(6886, 9.404040385151516), (5337, 8.314471239046075), (4722, 8.192929289540404), (5265, 7.934771769609971), (4176, 7.515151515151516), (6501, 7.300865803338916), (3156, 7.2072622787216565), (6778, 6.512990138417424), (3530, 6.115151529151515)]), (61146, [(4295, 7.25), (4926, 7.25)]), (39281, [(3259, 8.945916817581654), (1713, 8.81158597109013), (1618, 8.679738558202615), (1201, 8.36368520871027), (1659, 8.36029233457347), (4942, 8.351802778957556), (3460, 8.220373402596135), (1499, 8.197140678313634), (1512, 8.088760154755706), (2504, 7.983851809818266)]), (162538, [(3367, 4.898532176873472)]), (217056, [(2773, 7.266666666666667)]), (178961, [(782, 6.99999998), (2246, 5.0), (6, 5.0)]), (21659, [(3553, 10.53240739), (3106, 9.518939386666666), (644, 8.88625221912625), (3543, 7.589864554072255), (3544, 7.334876557802959)]), (117738, [(1624, 8.845126293384936)]), (222204, [(92, 10.213438722134386), (5261, 8.909090909090908), (3762, 8.909090909090908), (1793, 7.999588651194982), (6680, 7.717601559720772)]), (33319, [(2197, 9.781249992187501), (1700, 9.671953103093346), (246, 9.304062428191147), (542, 9.0)]), (15819, [(2947, 7.50000001), (2946, 7.5), (2949, 7.5), (2943, 7.5)]), (240035, [(784, 6.950294442452643), (474, 5.634615719010499), (2098, 5.4981211788876045), (3385, 5.287756193279877), (1291, 4.6921714003199675), (1711, 3.117424255170455)]), (805, [(591, 9.044618509338864), (594, 8.459498746668839), (580, 8.4), (586, 8.32430863269531), (592, 8.117153817150486), (583, 7.695510665699776)]), (226006, [(3602, 9.392857138928571), (6741, 9.000000009999999), (1334, 9.0)]), (152742, [(1491, 9.594202889275362), (1051, 8.666666666666666), (1259, 6.683908065804597)]), (236959, [(1265, 7.384615384615385), (5057, 7.384615384615385)]), (181714, [(1471, 6.5), (5863, 5.90625000296875)]), (187762, [(4608, 10.327615227672606), (5978, 8.898195614797595), (6838, 8.793103448275861), (5980, 8.76673329019486), (2641, 8.713103449075861), (2716, 8.407321551265326), (1117, 8.402713490388425)]), (26620, [(2586, 5.909657328442368), (3882, 3.7106227401831497)]), (266865, [(192, 8.368826763029581), (2984, 8.2950432659166), (6403, 8.248260621938595), (1349, 8.229474905939451), (1408, 7.932588074723351), (2044, 7.875214825046444), (789, 7.585365853658536), (409, 7.505421205657732), (6745, 7.311533669550486), (535, 7.194474019100563)]), (31391, [(63, 10.77449283993655), (14, 9.367620060835627), (592, 9.196937055293942), (1907, 8.810282531424258)]), (222035, [(6173, 7.477777772444445), (5010, 7.3730158687301595), (1421, 7.22222779058052), (163, 6.272151181553283), (2603, 5.248792287487922)]), (150968, [(710, 8.709677406774194), (6432, 8.451612893225807), (1689, 8.071372027183378), (2871, 7.451612903225806), (6875, 7.451612903225806), (772, 7.042521998225806), (546, 6.86368640554246), (3156, 5.7505791099187995)]), (249058, [(776, 8.174603179021164), (5247, 7.534343440895623)]), (6323, [(503, 6.6175427353490415), (1450, 6.238888880388889), (1438, 6.148888881288889), (1457, 6.01010100699495), (1455, 5.562801930628019), (1447, 5.528015872737619), (1268, 5.391367330447474), (1437, 5.388888888888889), (1458, 5.388888888888889)]), (6563, [(235, 8.776785798304703), (1574, 8.44951902539956), (665, 8.422140302456311), (156, 8.253843843721617), (1562, 8.026315789473685), (1576, 7.816787022617286), (1023, 7.806786613896432), (1291, 7.767753967804895), (1553, 7.495049017224177), (1569, 7.022014170997091)]), (187425, [(6258, 11.017241369137931), (1184, 10.851851843333334)]), (133747, [(3907, 8.493653502113208), (4016, 7.736116080132679), (6669, 7.680518965847158), (1509, 7.60178748228965), (1020, 7.523827667019939), (4747, 7.487323435864675), (614, 7.177580382012955), (72, 7.139501652264688), (6331, 7.0754716981132075), (6054, 7.0754716981132075)]), (101620, [(391, 9.431009481569097), (335, 9.386906400321537), (1328, 9.128154579759785), (407, 8.82095782375417), (3599, 8.789473684210526)]), (52532, [(581, 8.410887555909621)]), (26535, [(494, 5.2), (3851, 2.08888892)]), (104399, [(897, 11.826759066156322), (2214, 10.578279416770563), (2215, 10.286703625730588), (2541, 9.903894952934913), (4471, 9.823228444216747), (6190, 9.746629443923025), (47, 9.636222815140153), (1240, 8.674086080538311), (1002, 7.05088831493225)]), (35845, [(4334, 7.0), (4686, 7.0), (1688, 7.0)]), (203240, [(983, 8.584183480154337), (2244, 8.550301800150905), (749, 8.487511382872132), (3374, 8.29793743796821), (1684, 8.113015674139096), (227, 7.83271591020577), (581, 7.768240489599057), (4041, 7.47887323943662), (2302, 7.47887323943662), (3158, 7.47887323943662)]), (193898, [(2341, 9.211648880666573), (1883, 8.717487350512126), (6095, 8.60626274551834), (4528, 8.55430665887299), (892, 8.55329594509881), (997, 8.17560739706963), (1312, 8.114880837431166), (4631, 8.037735849056604), (3863, 8.037735849056604), (3301, 7.9061589150202884)]), (94376, [(500, 6.522214856942796), (503, 5.410471609004258)]), (271705, [(5851, 10.336834714072157), (2892, 9.741003994865132), (5034, 9.182786867879424), (1647, 9.101897354674007), (542, 9.0154061592507), (50, 8.927344376367078), (1104, 8.803948655197372), (302, 8.673044308423197), (809, 8.589210410030365), (1983, 8.585663949297025)]), (154469, [(4596, 9.223586576929138), (170, 9.170375116225836), (4046, 9.0), (2793, 8.781627350455032), (2217, 8.70867091132736), (443, 8.448979597502687), (5183, 8.305515754921249), (6705, 7.32450724015164), (735, 6.500000024999999)]), (208620, [(6587, 5.75), (4426, 5.75), (6559, 5.75)]), (264996, [(124, 8.116795499740972), (2971, 8.077777774777777), (3586, 7.8021716660439475), (5062, 7.777777777777778), (5572, 7.777777777777778)]), (19664, [(1305, 8.87893081071541), (2554, 8.327113016558652), (3311, 8.099999994), (486, 8.038240437501415), (1631, 7.934141931340312), (2479, 7.5), (2220, 7.5), (3309, 7.5), (3315, 7.5), (3313, 7.145498263099663)]), (125203, [(2749, 8.133051780063827), (5139, 8.11111111111111), (383, 7.885790853332269), (3048, 5.492405591969588)]), (216386, [(1355, 9.815789455526316), (5059, 8.0), (3956, 7.760302199000686)]), (229502, [(5474, 9.934544742867148), (3389, 9.550764611508848), (2096, 9.402479579443774), (5472, 9.172204908205135), (3382, 8.085227278664773)]), (67840, [(3319, 11.003134778965519), (938, 10.838595320579948), (1322, 10.401513396666457), (2850, 10.097977451525614), (2121, 9.787633182350516), (4894, 9.60919539895567), (2726, 9.54807639561557), (404, 9.515375435455262), (4255, 9.469747590083436), (1158, 9.379131828527617)]), (167812, [(1415, 8.233766222337662), (192, 8.144152305421104), (1814, 7.553872049242424), (3394, 7.347242789371552), (2002, 6.862388880149288), (1291, 6.643506522932809), (697, 6.1811544225606685), (3518, 6.014784039772732)]), (207563, [(5878, 7.142857142857143), (4910, 7.142857142857143), (2549, 6.875321751659428)]), (260944, [(4977, 9.77260017191053), (4686, 9.389800509473135), (1442, 9.240810694384177), (1377, 8.883542880746791), (4560, 8.324324324324325), (2562, 8.199324325574324), (2174, 8.180181389433585), (2877, 7.966235291891859), (322, 7.515588284873637), (294, 7.1017968579094894)]), (68249, [(971, 8.964337493778672), (525, 8.222222222222221), (3240, 8.222222222222221)]), (51350, [(3480, 8.862016186181673), (5344, 8.746642246483516), (4406, 8.64064651590491), (1868, 8.00193062957004)]), (22252, [(192, 9.438185196579845), (480, 8.710507686874607), (3580, 8.553968249539682), (1291, 8.378834255187256), (3587, 8.11111111111111), (35, 8.1038995751676)]), (226926, [(2912, 9.451844278725899), (3364, 7.625000012499999)]), (184904, [(533, 7.537484008477637)]), (41058, [(1298, 10.0), (995, 8.94507576285038)]), (262399, [(394, 8.59749300580447), (5189, 8.285714285714286), (774, 8.285714285714286), (6626, 8.285714285714286), (6208, 6.540952389676192)]), (138543, [(1037, 9.495631197012123), (4027, 9.299233465753757), (5505, 9.02716187214365), (478, 9.006098176945914), (6227, 8.95786401070599), (608, 8.588937741128722), (382, 8.450804774164931), (949, 8.349159250811923), (2741, 8.28281290985055), (1596, 8.276593395909938)]), (242499, [(6505, 8.0)]), (174216, [(3461, 10.00363635), (1700, 9.118401215633488), (2353, 8.64), (5022, 8.64), (1458, 8.64), (3256, 8.604895930530185), (57, 8.226606545084975), (3529, 8.116470590852941), (2683, 7.913669243777936), (233, 7.775473726112435)]), (207349, [(3842, 8.913488288146945), (3755, 8.826086956521738), (5837, 8.826086956521738)]), (208671, [(4575, 10.81785710550368), (3590, 8.575385520572155), (580, 8.47392080142247), (817, 8.302065589860026), (46, 8.210164828229791), (2864, 7.7502137553527515), (1451, 7.572050660958853), (57, 7.500571374689606), (3177, 7.250584341418271), (895, 7.017857144107143)]), (26057, [(3368, 9.864926737525183), (590, 9.472772355719743), (1291, 9.468040127132616), (2554, 9.187856118270766)]), (140662, [(934, 8.780384069589088), (1827, 8.211932706675539), (937, 7.706512834809353), (1253, 7.391399120464414)]), (278843, [(428, 8.905399876173107), (430, 8.0), (409, 7.754385966140351)]), (67402, [(4199, 5.149572669188033), (5337, 4.61111113611111)]), (67079, [(5873, 7.669942563067338)]), (181076, [(6107, 8.136904753869048), (1249, 8.011904755119048), (6162, 7.333333333333333), (2091, 7.333333333333333)]), (251003, [(1837, 9.67321119562003), (1730, 8.818627443229712), (67, 8.20740902157042), (4538, 0.583333408333333)]), (179744, [(3946, 7.888888888888889), (3856, 7.888888888888889)]), (136491, [(3539, 10.295556948000076), (341, 10.17374517104526), (593, 10.05119706328226), (472, 9.773273781278101), (473, 9.747591415948582), (480, 9.625916310619148), (70, 9.364202878344589), (1185, 9.356751916652884), (4862, 9.154283887291923), (471, 9.109566384908646)]), (146113, [(2633, 9.69953801342932), (309, 8.495227988366915), (5341, 8.13687834048712), (90, 8.095565128716387), (536, 7.995515549196509), (451, 7.889757116152193), (2188, 7.863115104300171), (3267, 7.223633184496286), (1959, 6.863154036352677), (1559, 6.665716229996621)]), (263877, [(5758, 8.322742462993311), (2573, 7.986779003792431), (41, 7.311585001384912), (2044, 7.205811730200559), (7, 3.9413322291364725)]), (90417, [(243, 8.566668366511436), (367, 8.489242188391579), (6472, 8.214285714285714), (218, 8.127329193416148), (957, 8.118756213273011), (2349, 8.10039682596627), (1186, 7.82486587456703), (2232, 6.444686334137801)]), (28938, [(4138, 9.399999986000001)]), (107326, [(11, 9.34767441261628), (744, 8.839628479523995), (6695, 8.150777065037822), (527, 7.295833337604167), (912, 7.269047627857143), (1433, 7.154225307266623)]), (12824, [(2560, 9.08381848538278), (2566, 8.636542269555866), (2562, 8.56102693400533), (339, 8.433971390291843), (2561, 7.16361514299171), (2382, 7.075596257513832)]), (88693, [(1102, 8.997637032218918), (6462, 8.904083559981007), (588, 8.703264308649137), (6171, 8.316451986016524), (1175, 8.259995806254384), (3964, 8.203933541588686), (1613, 8.14952891326795), (127, 8.083184739566986), (6460, 8.020393949037281), (2296, 7.634638281657219)]), (220586, [(4182, 7.370285164845433)]), (161903, [(1888, 9.05210918355459)]), (272407, [(6334, 7.89949324224451), (2889, 6.875730997273392)]), (243, [(411, 7.6255360792749665), (454, 7.615384615384615)]), (142479, [(4715, 9.768598728387946), (192, 9.485312623719697), (2669, 8.326334386745655), (313, 8.245182811003678), (1752, 8.227437414435824), (5083, 8.2), (130, 7.397777780451851), (2393, 6.383095742283013)]), (218221, [(6208, 9.575905362397998), (687, 8.620916688098772)]), (192914, [(257, 7.863636355), (4526, 7.0), (5924, 7.0)]), (257548, [(1303, 9.38383837111111), (1837, 8.634789971590532), (414, 8.54269882954618), (1190, 6.953004600074885)]), (38176, [(351, 5.25), (4892, 5.25), (4893, 5.25), (704, 5.121495327745327)]), (146778, [(465, 7.9173505506065505), (124, 7.7633108799316535)]), (145959, [(6150, 5.0), (2044, 4.692307695384614)]), (266866, [(4074, 7.62210453766853), (630, 7.2694056167395145), (5959, 7.266666664), (6796, 7.16216216054054), (3345, 7.0), (4085, 6.540407664288582), (5443, 6.026143795718954)]), (199416, [(1003, 7.37003882283475), (6474, 6.216931218835978), (1081, 6.007407411407407)]), (267635, [(3477, 8.838095232095236), (777, 8.309957530125047), (2770, 8.238095238095237), (1526, 8.238095238095237), (4577, 8.238095238095237), (259, 7.80349927994793), (453, 6.413063986526146), (2063, 6.021261463787928)]), (234925, [(3885, 8.58709676032258), (1835, 7.517719507509868), (3659, 7.2), (5629, 7.2), (3512, 7.2), (20, 5.608188593566998)]), (223431, [(613, 8.12476367155655), (2050, 7.587966890457678), (4228, 7.236097213490882)]), (183753, [(5849, 6.428571428571429), (3668, 6.066729325117481), (1291, 5.994408103941981)]), (218286, [(6173, 7.7333333280000005)]), (237898, [(6252, 6.054054063513513), (5299, 4.500000024999999)]), (10447, [(2237, 8.08524515812528), (2031, 7.405363091099707), (781, 7.155695741268721), (1631, 7.1415185664923575), (316, 6.9632980787926435), (1212, 6.88642193107639), (87, 6.878853346192872), (862, 6.782025199651199), (2219, 6.465781326037105), (1660, 6.270981376389314)]), (105214, [(3342, 8.79346153489423), (3049, 8.27171218942314), (1380, 8.080572082377003), (1089, 7.160309194961369), (5989, 6.70500001375), (1943, 6.03833335375)]), (59820, [(246, 8.666666666666666)]), (164675, [(2717, 8.70328282421086), (951, 8.68888888088889), (1918, 7.888888888888889), (3984, 7.152046790994152)]), (169310, [(545, 7.460714282785714), (684, 7.064063952009811)]), (104665, [(620, 7.809137541484806), (410, 7.495989241058609), (1612, 7.151891811935152), (971, 7.13511338884337), (981, 7.057954817665584), (5843, 6.97454522722785), (870, 6.968354143080059), (1071, 6.482208104565723), (5073, 6.478163924172461), (3643, 5.768518808688951)]), (182527, [(2046, 8.353615972562185), (3071, 8.309523797586419), (3754, 7.862857135657143), (6498, 7.142857142857143), (3354, 7.142857142857143), (5102, 7.142857142857143)]), (206074, [(6133, 8.798611107118056), (177, 8.0), (19, 7.898015530884814)]), (155219, [(1783, 9.249592136702763), (1684, 8.909975619123967), (3915, 8.041666666666666), (1291, 7.95696211720313), (1864, 7.712907086363131), (1884, 7.628149409289702), (5935, 7.464743595601964), (4659, 7.370393937819685), (2734, 6.710573851532876), (2031, 6.638157908988792)]), (16161, [(3000, 10.25151513718182)]), (179857, [(2526, 11.373355256291118), (3762, 10.651629069423558), (114, 10.413639694204406), (1017, 10.0), (2528, 9.852813853304474)]), (80203, [(285, 8.608119494157433), (2354, 8.054234703157007)]), (8245, [(1868, 9.574013833925315), (240, 9.127955717097702), (1869, 8.999049723151655), (1554, 8.881113099314652), (1880, 8.508754207367005), (1871, 8.50413207302827), (291, 8.29940236592551), (1889, 8.242798208380083), (1388, 8.223596081669182), (1302, 8.163724488526972)]), (96679, [(1630, 8.972014923846393), (1949, 8.666666666666666)]), (234359, [(3295, 7.6250233004767125), (5515, 7.36666087377342), (388, 7.3637763735016675), (4931, 7.0725828167761), (3805, 7.049523628669714), (225, 6.96146060851553), (457, 6.822377491550363), (4288, 6.537037037037037), (3532, 6.221247566510721), (3610, 5.66763663056548)]), (136014, [(465, 8.642384787866916), (1237, 7.666666666666667)]), (205843, [(1253, 6.077470681876596)]), (223231, [(4850, 10.019504724623172), (784, 9.96803988980363), (3119, 9.749075626326611), (622, 8.895686556929373), (2253, 8.73801578820947), (5123, 8.571428571428571), (6185, 8.571428571428571), (6234, 8.16602317007722), (4140, 7.66360786006119)]), (22818, [(3064, 9.890027405200833), (434, 9.391207475838401), (3474, 8.39912280385965), (455, 8.083333333333334), (3620, 8.083333333333334), (59, 7.980190615379593)]), (204909, [(4390, 6.921874995390625), (1253, 5.697065185505706)]), (238319, [(665, 9.221794871055556), (2628, 9.104812924055018)]), (219546, [(2513, 9.388888872222221), (4914, 8.79825845548123), (1602, 8.264761582973465), (6656, 6.938034209975413), (407, 6.897207350266164), (555, 6.260347546445846)]), (94843, [(1527, 10.299676207613123), (1640, 9.350078410192031)]), (154176, [(1283, 8.4)]), (178093, [(6591, 7.501289483144745)]), (86202, [(157, 7.906230953159988), (70, 7.890932757818609), (3919, 7.7566673640173445), (886, 7.71846666736417), (2233, 7.648472145808976), (668, 7.562087086724047), (781, 7.291050704283668), (388, 7.26099763099413)]), (183540, [(4884, 6.25), (1137, 6.25), (5925, 6.011904764285715)]), (101422, [(3885, 6.07272727), (59, 4.4666666799999994)]), (75081, [(6053, 11.09041971142885), (486, 9.593313896613676), (781, 8.995233648176697), (2239, 8.923076923076923), (1391, 8.923076923076923)]), (67663, [(2663, 8.204614643065868), (4346, 7.238095238095238), (4016, 7.238095238095238)]), (179826, [(5903, 7.7368421052631575)]), (61283, [(1331, 8.049362584547392)]), (24933, [(3744, 8.225524470078671), (3754, 8.010150035392764), (3751, 7.828787876479798), (3739, 7.828671321748253), (27, 7.323355505347377), (3741, 7.136363636363637), (3488, 7.136363636363637), (3749, 7.136363636363637), (3746, 4.918972354189723)]), (275970, [(4007, 10.1254677974073), (692, 9.908141109677173), (2208, 9.621296578979429), (5866, 8.658536585365853), (5204, 8.42573235372564)]), (37538, [(460, 9.014946602598204), (629, 8.912715512677803), (4842, 8.65930771019192), (3054, 8.57142856571104), (98, 8.151337630224958), (2890, 8.083755329445962), (4844, 8.0), (4843, 8.0), (1291, 7.960077559809134)]), (135376, [(6552, 11.270833313958335), (2125, 9.43637711590935), (1919, 9.333333333333334), (1343, 8.468574370246776), (5100, 8.3334083917881)]), (209156, [(5041, 7.666666666666667), (4346, 7.666666666666667), (308, 7.666666666666667)]), (136071, [(2888, 10.962499984375), (290, 10.591697191058202), (283, 9.4)]), (256843, [(879, 9.757544212986856), (4459, 9.185135209416785), (124, 9.043058415666415), (5627, 8.961768217239259), (1626, 8.421325086109887), (2010, 7.64700407881599), (52, 7.210288358948995), (1230, 7.0263019478152575)]), (232271, [(935, 5.90952382097619)]), (67627, [(2533, 8.178739152953291), (19, 8.107062835565294), (4538, 7.085510788302673)]), (278633, [(416, 8.679282022854668), (420, 8.50810703042828), (410, 8.01139003285066), (422, 5.864661671278195), (427, 4.047697403733552)]), (183952, [(3355, 8.7499999775), (3666, 6.5), (2407, 6.387566137940917), (650, 6.382799671983443), (1058, 6.256220099043201)]), (213126, [(6754, 10.133044180636691), (5723, 8.42972349407834), (246, 8.069129477072906), (1033, 8.036121659306488), (6624, 7.607142857142857), (742, 7.565288341428595), (6849, 7.488498790532687), (777, 7.445623526907459), (1939, 7.376281114123153), (1291, 7.278296847918558)]), (75149, [(1224, 8.486954995552395), (1248, 8.40894061184957), (1550, 8.396572000712444), (287, 8.22011588024285), (1527, 7.890535194190098), (1516, 7.736172257478496), (6090, 7.684210526315789), (5903, 7.684210526315789), (243, 7.4943984043858)]), (25711, [(1297, 7.352941172941176)]), (232107, [(6636, 5.437500040681228)]), (175052, [(3931, 10.217948694615385), (434, 8.884631534241636), (1781, 8.745538814484826), (1492, 8.25787768482775), (4031, 7.884615384615385), (1836, 7.8546308267396245), (538, 7.665126851887592), (1998, 7.641372143804574), (2744, 7.348718290233671), (2231, 7.097730146582598)]), (77517, [(5350, 9.696808496170213), (3435, 8.250000009999999)]), (126149, [(3656, 7.818181818181818), (930, 7.818181818181818), (1322, 7.818181818181818)]), (82699, [(6337, 9.438461528076923), (2644, 7.73333334)]), (212142, [(695, 10.8681817975), (1550, 9.543554318409539), (812, 9.321126755352113), (4306, 9.070833331979166), (1830, 8.21813899200958)]), (259066, [(308, 6.892857152261904)]), (22625, [(3612, 10.529534037525673), (434, 10.076799539573184), (2857, 9.465584791037895), (1066, 9.35096743073572), (678, 9.279252326199465), (781, 9.27281706596788), (606, 9.131787414460304), (3074, 9.105737496649414), (1181, 8.970839914296445), (313, 8.904829793642387)]), (209817, [(4822, 11.230769213076924), (1737, 10.075422225498807), (192, 10.033908303961107), (4815, 9.461538461538462), (110, 9.461538461538462), (6904, 9.461538461538462), (1077, 8.285067885067873)]), (121986, [(4793, 8.5), (307, 8.5), (862, 6.804041649631047)]), (166753, [(192, 9.86538460988782), (250, 7.666666666666667)]), (93355, [(5895, 8.716666665611111)]), (167327, [(124, 9.60010139833347)]), (98686, [(6383, 9.012885370212253), (5456, 7.956521739130435), (6443, 7.956521739130435), (4179, 7.851822983833546), (5423, 7.663418293785607), (1268, 7.275197628823104), (3766, 6.5933781104204074)]), (224430, [(1046, 7.983828194038634), (124, 7.757004092558854), (809, 7.6473931581486), (5746, 7.617391302112906), (1568, 7.345554603811263), (684, 7.180237843795098), (1943, 7.162199306988792), (2983, 7.106357277219351), (5233, 6.070427295829379)]), (96448, [(6328, 9.627639507284124), (276, 8.199906256480766), (560, 8.00589213320534), (2422, 7.615384615384615), (3037, 7.615384615384615), (2494, 7.192725213778848)]), (172700, [(1240, 8.0), (187, 8.0), (560, 5.928571449285714)]), (148258, [(2383, 8.54334735690914), (2974, 8.145706389104074), (303, 7.125350707269981), (571, 7.037037037037037), (1155, 7.037037037037037), (3980, 7.037037037037037)]), (17667, [(1652, 8.05025698726442), (1823, 7.501206036888293), (3171, 7.244038155127186)]), (193131, [(3205, 8.0)]), (49889, [(3241, 8.555555555555555), (2937, 8.555555555555555), (2621, 8.555555555555555), (5372, 8.555555555555555), (4725, 7.055555570555555)]), (251843, [(4846, 11.999999970000001), (4286, 10.37499998625), (1639, 9.959977244932928), (127, 9.415007418560212), (378, 9.379766559781132), (1233, 9.356567809404327), (1875, 9.211037467033051), (6489, 8.820546554510532), (2725, 8.765896197204324), (4952, 8.741814510908076)]), (208095, [(1883, 8.398052574168462)]), (113030, [(533, 9.294463730648946), (1671, 9.2), (124, 8.465346774630573), (1171, 6.400000027999999)]), (209265, [(2130, 11.106666664453334), (36, 10.0), (4102, 10.0)]), (10949, [(2309, 7.222222222222222), (2310, 7.222222222222222), (1543, 7.222222222222222), (2311, 6.896825398452381)]), (225379, [(5350, 8.500853179102968), (2576, 7.849621824982377), (2278, 7.4657353300579965), (482, 7.122473264766166), (5658, 7.073684214526316), (6585, 5.810648836583129)]), (145641, [(1773, 7.9120973145318345), (243, 7.585428325923144), (2871, 7.571428571428571), (1626, 7.399857764733281), (883, 7.18974439131472), (421, 7.143364450185825), (5380, 6.89016998016109)]), (124078, [(1089, 10.514025897769043), (668, 10.197510814475109), (6249, 9.848484843939396), (5785, 9.527272725939396), (851, 9.301469740774793), (6085, 8.243939405439393)]), (25850, [(574, 10.571428551428571), (338, 8.571428571428571), (50, 8.462375073849696)]), (174322, [(451, 6.813014849040724)]), (135673, [(3186, 8.013031501206104), (131, 7.960081934734564), (274, 7.897900014775797), (2903, 7.885275838741544), (2857, 7.8738480314530515), (1156, 7.81889948092242), (5235, 7.780156409553401), (1478, 7.377860566260587), (3188, 7.29953946658189)]), (269890, [(5512, 10.58712118503788), (5437, 8.530674024864457), (4596, 8.272556191970365), (6458, 7.99406766183882), (5122, 7.878787878787879), (2681, 7.878787878787879), (5339, 7.878787878787879), (1882, 7.721190856929468), (6373, 6.80085352783965)]), (81088, [(614, 7.838947169365638), (3679, 4.444444473333332)]), (143743, [(4713, 7.6), (3125, 7.6)]), (95250, [(3611, 9.025641018717817), (1104, 8.697070608661267), (3668, 8.333333333333334)]), (110029, [(380, 8.799605594834338), (157, 8.583153679836908), (6724, 8.30000001), (274, 7.542272252046459), (4551, 7.3950950996196205)]), (35081, [(4646, 7.782608687826087), (784, 7.703361311013459), (471, 7.534444443108333)]), (185308, [(4891, 6.72727274), (460, 6.2789473770263164)]), (55787, [(192, 7.895944439419152)]), (88283, [(6013, 10.558823509294328), (747, 9.967232162469905), (668, 8.992787321459442), (2912, 8.799297549729953), (6185, 8.558823529411764), (3817, 7.351985928608346)]), (242528, [(98, 9.072615582313896), (2415, 7.990592420355962), (4151, 7.444444444444445)]), (254201, [(5743, 9.75294116247059), (3064, 9.201179636688625), (2621, 8.980748766281154), (5039, 8.767575325738882), (1447, 8.574098454929075), (2763, 8.472225698491943), (486, 8.370967675724554)]), (92810, [(3787, 9.133089127004476), (70, 8.42742499523366), (1329, 7.797715158274462), (3672, 7.612724725251055), (4526, 7.589647390280592), (1449, 7.3076923076923075), (3431, 7.3076923076923075), (5631, 7.3076923076923075), (4598, 7.191733373524526), (165, 7.1819029010331485)]), (208251, [(573, 9.015873001428572), (592, 7.642857142142857), (4811, 7.571428571428571)]), (178797, [(1561, 7.529473187549523), (3605, 7.439060283809822), (680, 7.159574471489361)]), (252292, [(226, 8.850132720907673)]), (275318, [(4354, 9.408760684398148), (2285, 9.023034285625998), (2523, 8.634722227048611)]), (245604, [(5601, 7.89090908), (754, 7.569230761538463), (3775, 6.8), (3629, 6.8)]), (245088, [(971, 7.715453481372015), (2718, 7.321212120106059), (1320, 7.1), (6611, 7.1), (6833, 7.1), (4528, 7.041620879412775)]), (144255, [(1853, 8.423294206162915), (170, 7.788292459260203), (6715, 7.614045112455856), (997, 7.478540215271561), (1667, 7.352778461084087), (6732, 7.08134920781746), (3194, 6.867905443371358)]), (113657, [(5095, 6.0)]), (182506, [(465, 9.174612282895776), (4104, 8.929411759411765), (2381, 8.4)]), (270723, [(6297, 8.25)]), (212628, [(4043, 8.09907649663303), (3315, 8.0), (3500, 7.131578956052632)]), (74056, [(4743, 9.189819498782661), (1410, 9.124215629334634), (2912, 8.66837929815368), (1031, 8.333333343333333), (216, 8.269814455308481), (5540, 8.131172843513374), (5018, 5.732843150257354)]), (39616, [(4970, 10.072857133207142), (2623, 9.005473239052963), (2160, 8.679495071208436), (1879, 8.142857142857142), (1416, 8.142857142857142), (4500, 8.142857142857142), (77, 8.043686705947263), (4972, 7.178571438214285)]), (87540, [(4630, 8.0), (3715, 8.0), (6429, 8.0), (3814, 8.0)]), (176214, [(988, 8.10087717881579), (4370, 6.684210526315789), (5493, 6.684210526315789), (2427, 6.488558354359268), (347, 5.217543874315789)]), (142579, [(1824, 8.771739120217392), (3789, 8.7530677141686), (6778, 7.75), (2376, 7.75), (1847, 7.412488354881046), (6628, 6.913429011158897), (196, 6.750000010074994)]), (228764, [(4888, 8.984897509569155), (3781, 8.71666666363889), (4347, 8.486580691442153), (3858, 8.262383930414446), (2345, 8.247301589029206), (149, 8.11111111111111), (6078, 8.11111111111111), (311, 8.084696694379906), (5512, 7.742690062168842), (1630, 7.662597114718146)]), (244171, [(70, 10.140196081130755), (5570, 10.036848276876475), (586, 9.458894034699261), (5708, 9.00526479041686), (696, 8.931899733612367), (4712, 7.87057166165526)]), (97754, [(5199, 9.335626513081081), (192, 8.202838961391397), (1618, 7.861309553715135), (1770, 7.792217555511977), (665, 7.547726067785171), (2789, 7.539770537477092), (1540, 7.081081081081081), (3118, 7.081081081081081), (634, 6.743072343683701), (2327, 6.701770740046599)]), (74026, [(2715, 7.932733634740964), (1793, 7.73333333), (783, 7.519497827992529), (5256, 7.4), (4899, 7.135507247699276), (2716, 7.01043478724058), (3131, 3.793162405185185)]), (238849, [(801, 8.175555742589822), (449, 7.87697270417593), (1451, 7.829257833407967), (2405, 7.769230769230769)]), (125287, [(61, 8.419362743049632), (486, 7.837562430956839), (4695, 7.6), (5299, 7.561538461923076)]), (30052, [(3023, 7.080459760977012), (324, 6.166666666666667)]), (61348, [(3913, 9.602777775763888), (1171, 9.2), (3022, 7.75571848229472)]), (271000, [(6292, 7.684210529493117), (2013, 7.392857148928572), (978, 7.167520784939073), (1808, 6.9074074183333325)]), (184424, [(465, 8.435478702685083), (419, 8.330493954652397), (3588, 8.273853940559462), (1952, 7.856021905866009), (3612, 7.8488217713434185), (614, 7.72819272718689), (328, 7.698989898175084), (2884, 7.454545454545454), (351, 7.454545454545454), (2800, 6.899378193715579)]), (215988, [(4154, 7.147058813529412), (3540, 6.721999770452764), (4713, 6.45175553019522), (3666, 6.147058833529412), (1397, 6.057729757814919), (880, 5.499401194190167), (1942, 4.964814996582417)]), (153054, [(208, 11.51428570104762), (842, 9.459299515722948), (5094, 8.866666666666667), (3706, 8.866666666666667), (4413, 8.866666666666667), (5990, 8.628571430952382), (3524, 7.977462125658144), (246, 7.476751808765382)]), (206534, [(3232, 11.965156760139374), (3230, 9.83346035288491), (108, 9.655256869187285), (6255, 9.202390556283335), (2517, 9.129412367108934), (5592, 8.767354594315197), (469, 8.594794196033023), (1904, 8.592054025823808), (3507, 8.536585365853659), (1078, 8.536585365853659)]), (238781, [(1764, 8.701670842483876), (3620, 8.490338159903382), (3771, 6.94268291147095)]), (139742, [(6788, 8.663461527135267), (2494, 7.618781347116927), (218, 7.551925430683081), (5840, 4.035485365500229)]), (82628, [(1303, 8.77272726)]), (179321, [(1338, 7.25)]), (261037, [(2893, 7.540714283635714), (1576, 6.598684215789474)]), (185176, [(643, 8.685889073029694), (3187, 8.577101366891132), (4866, 8.379310344827585), (644, 7.948890556612878), (4193, 7.78405814364295)]), (224303, [(472, 8.960734214093408), (169, 8.723700796503877), (3690, 7.695022626728506)]), (235282, [(3380, 9.140434698007804), (3119, 8.89288721746261), (5153, 8.559274506913418), (124, 8.472651541877937), (5147, 8.452641563479993), (2376, 8.383429027590589), (3313, 8.32797295345223), (379, 8.213258575889943), (1369, 8.092274776930495), (5063, 7.954004195450171)]), (178035, [(169, 8.32573707027457), (4533, 7.472332020266798), (5078, 7.363636363636363)]), (206202, [(1014, 9.014357758841477), (5382, 8.43333333225), (1479, 8.37499999625), (6847, 8.210495962034997), (5357, 8.0), (2930, 8.0), (4897, 8.0), (1260, 8.0), (1495, 6.893080745431836)]), (27265, [(590, 7.435210727098927), (3306, 7.0), (407, 6.682471264897031), (3945, 6.200000007999999)]), (39396, [(2801, 10.356321832183909), (4960, 8.333333346666665)]), (255489, [(5448, 8.991939470186654), (3200, 8.217164643599856), (737, 7.947450126074145), (5367, 7.883007987602384), (886, 7.864542970135389), (2707, 7.780208589484404), (3279, 7.739909377748576), (243, 7.5063250801691845), (984, 7.373018238418283), (6277, 7.2631578947368425)]), (107099, [(1289, 7.319421487256198)]), (218875, [(5245, 7.857142857142857)]), (98547, [(3650, 8.92346971403986), (1386, 7.5), (1525, 7.213541668098959), (3316, 6.274902068404457), (439, 5.224137953793102)]), (200674, [(422, 10.386039881609687), (2876, 10.011383085353732), (1268, 9.355168659764095), (516, 7.521141584471601)]), (68615, [(146, 8.25), (1302, 7.925000003250001)]), (158433, [(4510, 8.894949482222222), (1447, 8.238206888551328), (3599, 8.108333331712963), (4573, 7.849955090640588), (1269, 7.828980849707155), (4816, 7.756773639035495), (1094, 7.719054069425693), (6, 7.529536234156856), (800, 7.348364879919881), (487, 7.261790235930634)]), (38995, [(560, 9.927927911981984), (404, 9.89882776985992), (465, 9.350302239728517), (316, 8.341856060563448), (3904, 8.333333333333334), (486, 8.312486064764215), (428, 7.2743741818428855)]), (76482, [(50, 5.252685506205211), (2918, 5.027608826033222), (6216, 5.0)]), (232106, [(3464, 10.556445864382717), (183, 9.948277575264486), (235, 9.818247030296497), (6914, 9.1875), (326, 9.030843739917048), (4673, 8.317129638369423), (6786, 8.242045459272727), (453, 7.946838064567375)]), (131126, [(610, 8.857142857142858), (4238, 8.857142857142858), (5402, 8.607358753022764)]), (85701, [(5934, 5.881355923389831), (2035, 3.166666684999999)]), (164828, [(5511, 8.0880241547147), (6764, 7.50000001), (4203, 7.422222222611111), (2645, 7.196969698487467), (5509, 6.945071615924364), (2644, 6.678290506861101)]), (210317, [(4016, 6.7634146195121945), (5211, 5.3), (5907, 1.0027027456756752)]), (70594, [(1092, 10.360360340090091), (6095, 9.312485587532874), (2197, 9.309523799761905), (1083, 9.069291359525572), (4405, 8.965509577400045), (2833, 8.907477576042512), (1550, 8.906244769471746), (1539, 8.712121208326938), (981, 8.538053710598502), (1056, 8.428640410213651)]), (224159, [(3200, 8.327380937857143), (2611, 7.735172815809112), (1836, 6.400080129392428), (1205, 6.131577131194301)]), (68984, [(70, 8.307448134883964), (1074, 7.8271072672319075), (1603, 7.171707390194527), (981, 7.048171051833898), (2690, 7.031366608004996), (3692, 6.285087730131578)]), (129503, [(1103, 8.732142848392858), (6189, 7.857142857142857), (2119, 7.857142857142857), (2601, 7.857142857142857)]), (212328, [(6144, 8.142857142857142), (4792, 8.142857142857142), (1323, 7.561580577739649), (3943, 7.207373281244239)]), (7125, [(180, 8.549180198912813), (1665, 8.499630879768384), (1655, 8.450741055265912), (693, 8.34441465833558), (34, 8.324280279982666), (157, 8.040270800955197), (1673, 7.3303964064922225), (1398, 7.222120328645986), (1649, 6.348821996786315), (1654, 5.181772995100729)]), (37712, [(953, 9.755213460867614), (1362, 9.649063556542544), (1974, 9.644783043857586), (1527, 9.480795161191054), (70, 9.419990655921037), (3231, 9.177528037709763), (649, 9.021291241387141), (127, 8.990585747472391), (1320, 8.907863633319264), (85, 8.898163939984569)]), (51627, [(992, 7.710565999748173), (3824, 7.4)]), (67198, [(5983, 9.900405443326926)]), (148744, [(5535, 8.682831656220735), (649, 8.636382921300264), (1219, 8.541341989094288), (971, 8.33832270268458), (1265, 8.26610852301874), (204, 8.134427684729369), (2503, 7.985556896401448), (555, 7.649738007596366), (5745, 7.570652180163043), (1190, 7.526540924572317)]), (65497, [(1064, 6.666666666666667), (707, 6.666666666666667), (3940, 6.1851851899999994)]), (56315, [(801, 6.88207474300013), (4159, 5.613114761967213)]), (113334, [(4470, 7.782608695652174), (5242, 6.865942033568841), (5564, 5.739339475099289)]), (6073, [(946, 9.3125000009375), (1082, 9.265037590159775), (1412, 9.076704542571022), (169, 8.554520010278747), (1411, 8.508438620908258), (959, 6.824140420949208), (1414, 6.416666687499999)]), (143715, [(1415, 6.709677412258064), (6807, 6.0)]), (188659, [(2193, 7.12057499810193), (5005, 6.9375), (4844, 4.3775000256)]), (26883, [(246, 7.588049670812356), (3917, 7.416666666666667), (3915, 7.416666666666667), (429, 6.62735094432273), (3924, 6.119369382342343), (3916, 6.0441176607843135), (3057, 5.942982470877193), (3920, 5.737456551176363), (1098, 4.706790137006173), (2782, 4.564814843333333)]), (243879, [(1207, 8.997675829238815), (2005, 8.398328047212017)]), (219278, [(3578, 9.25), (4724, 9.25), (243, 8.684966472553844), (600, 8.250000009999999)]), (95907, [(862, 7.3674185462522965), (2480, 7.333333333333333)]), (270737, [(4003, 7.690323782161569), (5173, 7.583333333333333), (3978, 7.583333333333333)]), (26621, [(121, 8.069930058425044), (3895, 7.840259735831169), (127, 7.51082642502182), (2919, 7.5106568305920876), (2116, 7.2025549519672), (3184, 6.954545454545454), (1158, 6.617433596335079)]), (228245, [(777, 9.026785709151786), (5987, 8.0), (3790, 8.0)]), (145644, [(4461, 8.2499999875), (390, 7.0), (4848, 7.0)]), (135411, [(590, 7.224902277050177), (1731, 6.834391532305556), (405, 6.294991792415982), (3307, 6.0), (404, 5.852495544163696), (1193, 4.112720956740075)]), (11916, [(2437, 8.458301035629757), (339, 8.418609721440966), (2438, 7.571428571428571), (2435, 5.119815692718894)]), (171846, [(678, 9.478975975043248)]), (273086, [(2459, 10.412772483489846), (774, 9.355527971775318), (2857, 8.61284753459238), (1144, 8.541925775247991), (307, 8.41410574916533), (804, 7.456631797696634)]), (52853, [(3006, 9.629629609623777), (192, 9.384329941267792), (1640, 8.489629621029628), (1527, 8.076733471794851), (5522, 7.966937089834237), (1851, 7.895009725510067), (568, 7.849182033972586), (5521, 7.62962962962963), (4019, 7.597185093215632), (922, 7.54962963042963)]), (46461, [(1856, 9.5), (3651, 9.5), (477, 9.5)]), (121170, [(1467, 9.350809869365381), (6561, 8.552036193197587), (465, 8.327196131649703), (3091, 8.07252892484942), (590, 7.855698376430418), (2918, 7.640332164883436), (4243, 7.6225490171078425), (1631, 7.432802184660067), (2991, 7.266185869129619)]), (238065, [(416, 8.415315541197788), (4990, 8.347826086956522), (981, 8.286210491100663), (2004, 8.082447199095514)]), (275994, [(6062, 6.5), (4954, 5.904153520816507)]), (36693, [(2720, 5.724137923793103), (4757, 5.0), (1169, 5.0), (3119, 4.852941177941177)]), (96970, [(588, 8.504625905839525), (614, 7.86419198272961), (4356, 7.114035091582702)]), (115572, [(2449, 10.779669106001908), (600, 9.926340406427698), (537, 9.896476810707995), (341, 9.770133870186985), (2293, 9.67637340446122), (472, 9.494160124348216), (480, 9.470404932287842), (2451, 9.41611886983911), (274, 9.076225048857548), (4122, 9.025642887225509)]), (115224, [(954, 10.241071419508929)]), (262169, [(4027, 9.0), (2540, 8.565217395652173)]), (88435, [(434, 10.092471250619694), (338, 9.7864313386784)]), (188022, [(6596, 9.79270833099442), (111, 9.515224815757756), (127, 9.160692286244874), (270, 9.057142855142859), (5924, 7.987773492120335), (4113, 7.878870938201116), (2544, 6.607142879642858)]), (164584, [(2699, 7.615384604945055), (3632, 7.101082773657836), (437, 6.571428571428571), (6473, 6.571428571428571), (4831, 6.207792211428571)]), (70052, [(452, 7.561904758179894), (3838, 7.444444434444445), (736, 7.444444434444445), (54, 6.842970231052301), (409, 6.556233806753444), (4558, 6.444444444444445), (6081, 6.444444444444445), (6078, 6.245238095902116), (3998, 6.141579737445594), (6080, 6.031901508852677)]), (37227, [(2031, 10.380140585332704), (4215, 10.346313361609447), (1499, 10.281888159015926), (3581, 10.055397844234085), (429, 9.54988662233938)]), (138995, [(3064, 9.809099913203463), (6002, 9.222222222222221), (1711, 9.222222222222221), (3039, 8.726287139201867), (4571, 8.61382900298723), (3387, 7.947041744364656)]), (98904, [(237, 8.45862946142237), (500, 8.450543855236893), (1660, 8.290919796996695), (259, 8.044997625519365), (380, 8.017139244323502), (1093, 7.760003271136168), (2922, 7.53466818396363), (1630, 6.932570711474597), (1264, 6.8838863690168655), (3212, 6.398602572986366)]), (167746, [(1428, 7.699373725943652), (5808, 7.540096202602371), (2298, 7.437011761122385), (5027, 6.409523816857143)]), (104429, [(5297, 10.660919521954025), (3201, 7.657111573401334)]), (157655, [(4051, 7.7151126470616544), (1882, 6.458889274113895)]), (214920, [(6571, 9.0), (843, 9.0), (2961, 9.0)]), (128033, [(3362, 5.75), (2764, 5.75), (6813, 5.75), (2464, 5.75), (3781, 5.7068607070764035)]), (224138, [(5653, 10.026054579925558), (410, 9.710208612213272), (1555, 9.343831577321426), (4452, 9.115803065416728), (6824, 8.961538461538462), (5223, 8.961538461538462), (4363, 8.801336378653131), (2591, 8.782161056705426), (3425, 8.690705129559294), (1523, 7.976312433269457)]), (72099, [(5187, 7.333333333333333), (414, 7.259581593145984)]), (257703, [(1205, 7.544710893907007)]), (74691, [(2918, 9.626315774210527), (227, 8.776817837279527), (5484, 8.1), (957, 7.216969187689938)]), (247829, [(1684, 9.666202682315344), (1284, 9.320894786221178)]), (247010, [(614, 9.663745613652452), (4592, 9.56874999840625), (1844, 9.25), (5337, 9.25), (1773, 8.866214952312111)]), (117873, [(953, 9.351569634206909), (61, 8.254201278939385), (1431, 8.0), (665, 7.866472767754767), (5396, 7.157324044064811), (1180, 6.924164578473051)]), (55441, [(124, 7.398239862857429)]), (174151, [(3149, 9.068425278826954), (2863, 9.05861472045874), (2532, 8.924447243875209)]), (138578, [(6594, 10.614439305069125), (6600, 9.159082179012577), (4498, 8.85253456078341), (136, 8.83869023696277), (546, 8.52140077669054), (41, 8.515001959191482), (2142, 8.034677426104839)]), (149690, [(2331, 8.34444444)]), (1131, [(654, 6.9411764705882355), (653, 6.734230318433054), (656, 6.3443660172374745), (652, 5.994616519310887)]), (178920, [(352, 9.665653477355622), (2821, 9.383458631353385), (624, 8.083361848856114), (1900, 8.078571432464285), (1985, 7.857142857142857), (3577, 7.857142857142857), (244, 7.857142857142857), (52, 7.812722081895151), (431, 7.537655280568064)]), (104604, [(2439, 8.571428571428571), (6071, 8.571428571428571)]), (210315, [(1058, 6.6389629240069725), (1205, 6.328063204735085)]), (139913, [(141, 8.599688410574492), (1684, 8.112099336013603), (4093, 8.0), (3175, 7.9894006822431525), (516, 7.641974622353466), (1942, 7.370317618072452)]), (51665, [(762, 8.43950038562256), (5453, 7.5), (2553, 7.5)]), (99955, [(580, 8.346153831153845), (1835, 7.341600634228614), (2699, 6.940476190240385), (2009, 6.846153846153846), (6133, 6.846153846153846), (6605, 6.846153846153846)]), (250223, [(4221, 7.5)]), (17859, [(727, 9.611904756845238), (3181, 9.559151658271357), (2329, 8.748109022808304)]), (63854, [(1329, 8.631795902657643), (1821, 8.603023980971557), (2874, 8.522542288576796), (1328, 8.432923939258481), (5898, 8.213157892105263), (4414, 8.116666665), (5852, 7.95), (3933, 7.95), (4443, 7.913948481017806), (3071, 7.807142858571428)]), (151483, [(1841, 6.666666666666667), (5115, 6.666666666666667)]), (167521, [(678, 8.090909075454546), (4463, 6.545454545454546), (5956, 6.545454545454546), (3020, 6.545454545454546), (6621, 6.545454545454546), (36, 6.525613275712482), (5234, 6.509740260097402), (6094, 5.871035947547568)]), (31040, [(1602, 8.983724706627529), (1603, 7.8903743253743315), (1305, 7.867321861375921), (4356, 7.2727272727272725), (4167, 7.0807629879728085)]), (123649, [(3713, 9.25299144268376), (6784, 8.271002709539294)]), (128214, [(4157, 6.5), (815, 6.5), (3604, 6.5)]), (93615, [(3694, 7.285714272857143), (250, 4.2857143028571425)]), (127389, [(712, 6.75)]), (16036, [(2966, 8.25)]), (8937, [(2046, 9.819462562616081), (2050, 8.8)]), (129368, [(1941, 8.833333333333334), (538, 8.833333333333334), (1253, 8.329091492106919), (1674, 7.833333343333334)]), (186848, [(3616, 7.6)]), (196738, [(339, 9.515378019581464), (1329, 9.416815351461036), (1094, 9.273784721087257), (2634, 9.21002896875755), (6039, 9.15898656688254), (6888, 8.946382424754523), (340, 8.811069806923491), (1694, 8.642610313088783), (1096, 8.527777777777779), (5664, 8.527777777777779)]), (142817, [(4116, 10.283333330666666), (3649, 9.75)]), (241597, [(5351, 6.5), (6496, 3.982142882321428)]), (80945, [(129, 9.08238471266163), (1438, 8.62111110351111), (794, 8.466250282465154), (4919, 8.418872305381267), (1504, 8.371175044151604), (3443, 7.861111111111111), (5529, 7.741196132430941), (1797, 7.53927799428589)]), (168500, [(1512, 6.522303704229585), (809, 6.000980393264706), (3440, 4.149122828859649)]), (223154, [(249, 8.027027017027027), (1744, 7.821564598342838), (1947, 7.683734963023322), (1858, 7.366834798978467), (451, 6.981236167304472), (486, 6.9218207283635795), (1387, 6.887669125522726), (2026, 6.8642973322415), (3008, 4.811348593205029), (5505, 4.027027057027027)]), (252287, [(4657, 6.6763755506604205), (225, 6.373420359057571), (1042, 5.600267559740207)]), (210493, [(5446, 5.25), (781, 5.0000000025)]), (184270, [(4362, 7.333333333333333), (2639, 7.333333333333333)]), (206567, [(6844, 7.1418181698369825), (5740, 7.108148136666667), (4215, 5.837117633733895), (1864, 5.701741415772137), (1030, 4.594724864511385)]), (81848, [(1423, 8.727272709171435), (2504, 7.988888883944445), (183, 7.678014039577392), (3112, 7.433333331166667), (3060, 7.4112562848739785), (1292, 7.092890212148032), (2327, 7.0), (4636, 7.0), (3668, 7.0), (4414, 7.0)]), (124983, [(2465, 6.663180242904984), (3280, 5.9166666825)]), (16996, [(1248, 9.134756252610424), (3110, 7.9411764705882355), (332, 7.9411764705882355), (3112, 6.088971733647088)]), (133905, [(1630, 8.776884789174499), (1700, 8.531254568598172)]), (131046, [(70, 9.224319296709716), (1636, 9.112768592565786), (2478, 8.871847906757289), (1821, 8.790767212947538), (886, 8.516937230332386), (1328, 8.294092893783668), (134, 7.940028402086788), (141, 7.425000003625)]), (136348, [(157, 8.109657859321285), (33, 7.967053271888883), (1233, 7.825927464088715), (3720, 7.585487992642714), (1896, 7.172427064841515), (156, 7.1187589990142515), (3063, 7.11864406779661), (2352, 6.708387661642763), (5068, 5.837344191102328)]), (244593, [(665, 7.3442547667026785), (1381, 7.0), (1578, 5.9074074183333325)]), (251164, [(207, 8.120084037405014), (1943, 7.79858431667521), (533, 7.750167964783153), (193, 7.672839504444444), (884, 7.595461313883481), (3194, 7.063560244540872)]), (3145, [(976, 8.642105254736842), (974, 8.309214741892362), (968, 7.8), (972, 7.8), (971, 7.784193914671386)]), (35918, [(3037, 8.842684759000754), (4697, 8.047494189126377), (1284, 8.019165266828246), (1660, 7.630629576795218), (458, 7.399955398967084), (3969, 2.6138527955626314)]), (59172, [(2272, 10.500733042888704), (5763, 10.395982441244517), (3942, 10.390422767467644), (418, 10.122750158822395), (934, 10.111992849290367), (2215, 9.733161245374491), (5283, 9.635479950644918), (3195, 9.608386622606197), (2112, 9.51603467887496), (4447, 9.437344224342556)]), (246388, [(410, 8.691125574423499)]), (29094, [(3548, 7.530824858686643)]), (140555, [(2002, 11.45454543), (1737, 9.819413916682539), (5901, 9.0), (5313, 8.821428572321429), (861, 7.614035101578947)]), (82942, [(4885, 7.9630851643449425)]), (248477, [(2928, 9.026733495020887), (471, 8.561021501350117), (542, 8.395265252930363), (3947, 7.733601885147004), (52, 7.625657150743739), (863, 7.105701758594298), (3702, 6.772904487345679), (5673, 6.512585826704806), (4671, 3.7558791012653963)]), (11993, [(2452, 8.817117278519538), (2447, 8.802751017412113), (2451, 8.785441900703175), (170, 8.668419470983121), (1321, 8.642887218935941), (1868, 7.578291251701829)]), (139548, [(2744, 7.399999996), (451, 5.755681824403409)]), (169824, [(842, 8.40277777), (6010, 8.053571424285714), (800, 7.809210524473684), (4476, 7.713888888444445), (4593, 7.625), (6740, 7.625), (6838, 7.625)]), (28204, [(124, 8.4430661759723), (2077, 8.320235778745653), (2327, 8.122184891728335), (4056, 7.92), (4059, 7.92), (3557, 7.92), (99, 7.711558385829489), (3179, 7.698554779662004)]), (77499, [(5888, 9.25), (4296, 9.25), (3750, 9.25)]), (218608, [(1407, 9.381635581658536), (560, 8.544400604321144), (4635, 8.34376630066771), (1044, 8.25925925925926), (5430, 8.25925925925926), (1504, 8.093954963941323), (72, 8.00681314114941), (2026, 7.936606251422339), (4357, 7.742592597766558), (2170, 7.581133956486846)]), (206219, [(3602, 7.764705882352941), (3500, 7.185758519721362), (5728, 4.63970591360294), (5048, 4.6014875073644355)]), (174503, [(4064, 8.2), (5561, 8.2), (301, 6.057142878571427)]), (179791, [(4919, 9.514762007758785), (1014, 9.374414524025836), (1476, 8.938288750151884), (186, 8.683398072569775), (5298, 7.151149738152503)]), (84178, [(1095, 8.653763433424732), (1172, 7.499250972625532), (2391, 7.309523813809524)]), (85526, [(101, 9.357931023103449), (192, 9.271669603617218), (886, 9.160395102003385), (3657, 9.107761076329476), (4876, 8.834162195959799), (2179, 8.689248989969261), (50, 8.67638350801961), (590, 8.598873652684762), (4545, 8.597552503031878), (1071, 8.09892592452739)]), (21014, [(3462, 9.396351961403031), (1247, 8.912536188222385), (3459, 8.853338542500245), (1731, 8.491641767202976), (1639, 8.436307230339946), (1616, 8.250079409550613), (2446, 8.249981360106204), (649, 8.187861191743552), (1854, 8.164829640994848), (492, 7.815753089023065)]), (218552, [(5195, 6.6590980417703545), (6259, 6.2200854623076935), (691, 6.108997118806556), (2157, 5.961295028609237), (3353, 5.461991628020073), (1966, 5.400641025849359), (2829, 5.241921867374732), (1855, 5.108031430014139), (279, 4.817095412398009), (4867, 4.750916569160138)]), (140879, [(590, 8.499226158918152), (1530, 7.792270527922705), (2023, 7.444444444444445), (262, 7.004059831261752)]), (196149, [(3083, 7.835297086896148), (3883, 7.666666666666667)]), (46671, [(451, 8.198712040296028), (4596, 7.638575094740529)]), (244742, [(4734, 7.888888888888889), (51, 7.727620649530868)]), (47925, [(3933, 6.0), (3328, 6.0), (5277, 6.0)]), (161744, [(379, 10.155041712681188), (3361, 10.0), (5557, 10.0)]), (218411, [(61, 11.249999987306856), (3114, 10.076040781268054), (5486, 10.0), (4890, 10.0)]), (239020, [(975, 9.0), (1096, 9.0)]), (202212, [(112, 10.938031837819063)]), (140167, [(2067, 8.58450704140845), (5257, 8.5)]), (123544, [(3975, 7.511312832743294), (4562, 7.419074804259493), (4570, 7.411475337124262), (971, 6.790347375460536), (2956, 6.754805518485901), (10, 4.642830624143066)]), (138602, [(6577, 10.585167178476524), (4535, 9.736090098912015), (8, 9.688356509165498), (605, 9.577206851468599), (2282, 9.448122530812746), (933, 9.045802859327761), (4386, 8.524967825092693), (5479, 7.629186623397128)]), (190741, [(3408, 6.181818181818182), (240, 5.978784912721496)]), (162886, [(2253, 7.574999986250001), (4447, 6.699999995000001), (4448, 6.268181817840909)]), (61901, [(1052, 9.251837124413989), (781, 8.570121392199344), (480, 8.45771661691569), (4116, 8.314899814143429), (3998, 8.277777777777779), (5840, 8.277777777777779), (5842, 8.277777777777779), (5841, 7.177777788777779)]), (277937, [(209, 7.0), (212, 7.0), (210, 6.9166666675)]), (275220, [(6025, 8.2), (6597, 8.2), (3320, 8.2), (2169, 8.2), (6223, 8.2)]), (709, [(571, 8.885416644479168), (572, 6.666666666666667)]), (58529, [(2451, 8.922448170202518), (2454, 8.913232129300122), (4604, 8.444444444444445)]), (201783, [(3495, 9.212024327957264), (473, 8.861259889831576), (649, 7.856008871340143), (816, 7.624294773365747)]), (207616, [(4090, 7.897087578596162), (5052, 7.237967913703208), (4456, 7.090909090909091), (3419, 7.090909090909091), (27, 7.017305955638712), (1292, 6.86091302946522), (4952, 6.81898593926464), (126, 6.714898311117985), (6093, 6.174242428825757)]), (123825, [(5650, 8.958646603383459), (3221, 8.42559717089761), (3998, 8.304345205891991), (1686, 7.549971004148999), (2329, 7.376420361780822), (2850, 7.331268498086093), (6670, 7.080401907865201), (5079, 6.929482231860146), (2080, 6.806416283424089)]), (209756, [(2526, 7.840460509473685), (1369, 7.100416060878919), (5335, 7.093980874975624), (1716, 6.963942299601424), (1755, 6.5937499978125), (4936, 6.117889928826619), (1433, 5.291787712999048), (675, 5.285569930545092), (3858, 5.171396864522257)]), (104362, [(341, 8.403229121478644), (1158, 7.636113961159368), (87, 7.0)]), (58255, [(219, 9.456666350835388), (5734, 8.64985485778965)]), (111938, [(4600, 8.5), (3903, 8.5), (5569, 8.400000001)]), (86835, [(2959, 7.3640552951843326), (1284, 7.023587611854517), (6426, 6.928571428571429), (6425, 6.856107661180125), (1291, 6.769136057355363), (2545, 6.763305322679739), (3123, 5.8831168935714295)]), (140000, [(156, 8.080426856485799), (435, 7.943556763307691), (1328, 7.825666372393006), (18, 7.795445111568139), (3922, 7.5), (1208, 7.5), (4095, 7.390254681312915), (1942, 6.690167946596493), (6378, 6.594285718814286), (790, 4.605263186842105)]), (102772, [(5100, 7.16180532859168), (5719, 7.111111111111111), (6521, 7.111111111111111), (4532, 6.156565659747474)]), (108243, [(473, 10.956059392209813), (471, 10.48537585366457), (5983, 10.292707163487318), (5978, 10.104743082480237), (5980, 9.977423720427257)]), (122440, [(3207, 7.746001479435114), (1421, 7.580180707748971), (4569, 7.448520724493236), (3426, 7.4), (997, 7.354225040233371), (474, 7.2956741597349275), (1743, 6.698882709281156), (2983, 6.0519357856111755)]), (169438, [(3837, 7.0)]), (160746, [(6380, 3.214285742142857)]), (242083, [(341, 8.482683792308036), (2129, 8.345679003456791), (434, 8.258879789771488), (1414, 8.212142100896362), (551, 8.016446445777476), (418, 8.011809659685442), (70, 8.010229848725015), (1560, 7.912120620403785), (169, 7.812774723071363), (274, 7.4787100701116085)]), (251721, [(144, 6.5), (6659, 6.5)]), (109491, [(5207, 9.24268849908702), (3416, 9.094483310686371), (367, 9.078330147312153), (5888, 8.197115390769808), (265, 7.969713663038499)]), (40612, [(5001, 6.813095236886904), (4163, 6.071428576428571)]), (258084, [(3482, 10.190476162857143), (4773, 7.862043359876003), (3115, 6.741822460827018), (781, 6.110280347951073)]), (20106, [(1230, 6.558035715066964), (1510, 6.469431192597744)]), (27383, [(3951, 6.696774192580644), (3085, 6.6), (2662, 6.6)]), (271558, [(620, 8.489165334357613), (6033, 7.886012362427028), (3570, 7.816626664012764), (1104, 7.333766031408082), (6, 7.189208613565522), (5142, 7.166666666666667), (5965, 7.1381930517579075), (2857, 7.114427673125886)]), (25583, [(675, 7.654885747327075), (406, 7.080612566233583), (294, 6.733516483420329), (3780, 6.714285714285714), (5, 6.714285714285714)]), (201776, [(2611, 9.705558077767188), (170, 9.515366274860733), (77, 9.153614328828475), (5, 9.128920790059174), (1743, 9.100076537602112), (2653, 8.952941180470589), (6670, 8.622171953009051), (2063, 8.538179084887394)]), (246247, [(480, 9.924304086351283), (2633, 9.820651568514588), (6260, 9.388888884636753), (471, 9.37153797746478), (3088, 8.857360039683707), (4728, 8.538461538461538), (6826, 8.538461538461538), (5548, 7.583685124848292)]), (224809, [(3361, 9.801170520983318), (2189, 8.852411105305077), (2832, 8.628852776061528), (1737, 8.390521981816677), (5633, 8.303030303030303), (6044, 8.303030303030303), (5182, 8.303030303030303), (5366, 8.303030303030303), (4402, 7.802334957237059)]), (65258, [(409, 9.386256520648777), (5927, 8.286647985546217), (1490, 7.811158249683606), (316, 7.679028275465827), (1275, 7.588235294117647), (1660, 7.166208158038929), (3256, 7.071806826394042), (4354, 6.947362280380874)]), (247447, [(1527, 9.793140581295885), (6888, 9.287348507103914), (6205, 9.259336660895169), (1636, 8.939002162486457), (393, 8.916758117712313), (215, 8.698967738509738), (605, 8.633142503897352), (2637, 8.387563452368791), (2645, 8.344697259872905), (5489, 7.938745228539253)]), (152136, [(5218, 8.5)]), (242037, [(5499, 9.142857135714287), (3539, 8.428571428571429), (232, 8.428571428571429), (2337, 8.428571428571429)]), (27956, [(1964, 7.483333337583333), (2324, 4.39232867514116)]), (76803, [(2576, 8.297619041785714), (5299, 7.714285714285714), (1684, 7.714285714285714), (1747, 7.714285714285714)]), (150979, [(1015, 9.232954541344697), (1044, 8.724050575046027), (691, 8.603912468883143), (410, 8.49099363884453), (1748, 8.394083718635411), (153, 8.381860418948513), (5594, 8.0), (5667, 7.801083855529289), (633, 7.734964297371195), (1961, 7.6556180418197854)]), (167189, [(1207, 6.782173356605083)]), (214786, [(2145, 10.4300331406911), (2233, 10.305505512490537), (1747, 9.872685183159723), (2016, 9.707725380007654), (6023, 9.562499994993079), (5382, 9.476080245534979), (1998, 9.27541464662135), (487, 9.214251776319102), (1473, 9.14980158686508), (68, 9.114024329438873)]), (83637, [(3892, 8.803030292575759), (240, 8.264797177593172), (3022, 8.178840123987635), (2235, 7.960389293051322), (2935, 7.757575757575758), (3911, 7.757575757575758), (2934, 7.26426974829115)]), (235099, [(3325, 9.187112529457254), (3858, 9.171187942486652), (4360, 8.490866372922314), (4714, 6.888888908888889)]), (13850, [(2738, 9.861722669887396), (774, 9.56712277687131), (2007, 9.049330929661506), (1961, 8.972795312049499), (44, 8.829995196485974), (2740, 8.666446639638298)]), (85426, [(2315, 10.061355000414423), (6390, 9.892857129285716), (1407, 9.3365757809882), (1988, 9.16615933680646), (2682, 9.004770277253236), (2494, 8.783694129854387), (3389, 8.693963443435948), (2919, 8.574960973989562), (1681, 8.491531081950146), (1753, 7.48669884960033)]), (142121, [(2253, 9.41666665399825), (192, 9.394044242073287), (2951, 9.14157023424239), (6330, 8.957364333178294), (1550, 8.93902890526455), (1086, 8.919269414150039), (586, 8.897805239458966), (1259, 8.703908964388482), (1931, 8.352713176434108), (3564, 8.10670312436876)]), (201290, [(473, 7.745876970819057), (5718, 6.5813953488372094), (5700, 6.5813953488372094), (2604, 6.31157065438982), (777, 6.053220923745812), (4488, 5.9121964080887395), (4238, 5.67688146447089), (2780, 5.1647286963372085), (4732, 4.86710965169699)]), (78834, [(6260, 10.661236266803483), (4352, 10.371647495689656), (6261, 9.94581878454351), (5637, 9.616904955811606), (61, 9.500029959351172), (586, 9.431263656986971), (4524, 8.982758620689655), (653, 8.512025562385459), (972, 8.489322264125816), (2579, 8.387537176658652)]), (83671, [(3172, 10.738013866546263), (1639, 9.378770234661973), (5564, 8.856420622977824), (2125, 8.556697780082336), (457, 8.5561832959865), (2124, 8.388097846445849), (3742, 8.259437203737315), (3396, 8.225116281469768), (1343, 7.399416567966297), (5948, 6.909560739069768)]), (207134, [(235, 8.210187481167816), (613, 7.023809524940476)]), (43842, [(3063, 9.274621205975379), (910, 8.672594986919743), (31, 8.466298617592699), (1627, 8.140026311626096), (818, 8.086525973820615), (1028, 8.060401507771324), (1659, 7.91003213152866), (5032, 7.895454546954545), (1218, 7.5044188377317145), (2010, 7.005034706910076)]), (231857, [(4437, 9.835897403205129), (6637, 5.850866472779811)]), (36554, [(4739, 9.5)]), (80538, [(940, 9.711027561946116), (2236, 9.583917579738676), (100, 8.960324269547712), (1286, 8.868229333790335), (1159, 8.758907834581802), (590, 8.727865605494546), (777, 8.549397350037463), (486, 7.9041332029918365), (6291, 4.672932367255639)]), (2977, [(962, 7.900695965807875), (964, 6.923076923076923)]), (232964, [(1938, 9.679560392672554), (472, 8.258579636661272), (657, 8.153693215937782), (6722, 7.523809523809524), (935, 7.116402120539142), (1617, 6.505030963832551), (968, 5.9436813265819595)]), (189855, [(6291, 7.9), (2824, 7.9)]), (246513, [(3480, 9.181469833351963), (3496, 8.060504207296141), (1573, 8.005947711711137), (1648, 7.909375624025235), (2746, 7.876906325490196)]), (251844, [(5314, 8.882432430057433), (5335, 8.765697309837172), (3997, 8.677186312570893), (1713, 8.669321261311856), (5811, 8.513077587908267), (4047, 8.453890343343156), (93, 8.139356712880808), (3690, 7.96464526884321), (5273, 7.885440881892835), (2960, 7.875385322915752)]), (166409, [(1219, 9.431744225862484), (1816, 9.286079176200511), (5819, 8.0), (449, 8.0)]), (75119, [(1433, 11.637037016666667), (3680, 9.6), (538, 7.5250069279981435)]), (17046, [(3133, 9.13636363590909), (3132, 9.000000009999999), (2854, 9.0), (3131, 9.0)]), (215180, [(243, 7.720965120792757), (4686, 7.2)]), (208815, [(339, 10.808402162156678), (4172, 10.691086805633548), (341, 10.632405040879332), (434, 10.627947777819946), (2864, 10.235712323617792), (533, 10.093855606445981), (3340, 9.75000000125)]), (203603, [(4646, 9.949275354492753), (2518, 9.166666666666666), (1011, 9.135013833515861)]), (144531, [(1047, 8.935464301609223), (4352, 8.735348777421708), (394, 8.666566692304063), (6863, 8.624999995), (3895, 8.618112127160229), (665, 8.565251209427315), (1518, 8.346669567233542), (214, 8.044406475548342), (1166, 7.6598331141557185), (1555, 7.658543763914083)]), (113270, [(3482, 10.588106170128672), (5270, 9.852488349109679), (157, 9.21274848769827), (4885, 9.02583500099932), (6675, 9.014619876929824), (665, 8.864748489240334), (1498, 8.708445383118026), (1500, 8.67096636892042), (6747, 8.66313349931949), (1416, 8.624055363222444)]), (220688, [(4309, 10.166666657443589), (3464, 10.117281907760383), (70, 10.109262690421684), (586, 10.022986646465185), (338, 9.889791587829272), (457, 9.854714481985404), (3976, 9.838086543911633), (1548, 9.619327220453624), (590, 9.611092463831975), (3705, 9.604726187587527)]), (22503, [(3601, 9.5), (1396, 9.5)]), (51071, [(325, 5.738636366193182)]), (1129, [(646, 6.442307685384616)]), (58142, [(3271, 6.8), (5444, 6.711111111555556), (777, 6.168424620122552)]), (142256, [(5195, 10.204866848930944), (1627, 8.253119686030821), (1196, 8.215871587550645), (2883, 8.17198088974828), (5826, 7.968018286268883), (449, 7.903118643396687), (4151, 7.688585615248139), (2205, 7.619354846709678), (82, 7.523995165909003), (2354, 7.353796337232348)]), (28700, [(4124, 9.7812499821875)]), (221543, [(160, 5.431759441089045)]), (212385, [(2398, 6.8), (3184, 6.8), (5290, 6.8), (1305, 6.8), (4920, 6.8)]), (164728, [(477, 9.15906616673567), (1409, 7.722222222222222), (3133, 7.5651528669063595), (451, 7.411622752195924), (2883, 6.864379089256536), (6046, 6.314365612876956)]), (87579, [(279, 6.016746410149522), (354, 5.75), (1631, 5.256637912020768)]), (170724, [(6609, 9.157706083762324), (5228, 8.847222224097221), (536, 8.29282831534084), (6812, 8.174921400082871)]), (201677, [(1247, 9.098986826489796), (425, 7.813326319167075), (542, 6.940278990531822), (1189, 6.7540472077490294), (1294, 5.878409842266063)]), (268786, [(1426, 7.16363636), (19, 6.180929179574788), (68, 3.6219827745107755)]), (126604, [(4873, 8.083599141925173), (1284, 7.711726901158063), (4405, 7.479861943226178), (1144, 7.390909082909092), (1396, 7.30903134353731), (1490, 6.998876599480097), (1767, 6.971861468051949), (938, 6.930149791638586), (637, 6.867062057335271), (6457, 6.816200806761591)]), (274301, [(4517, 10.05133663931175), (3144, 9.66267417999738), (4562, 9.564766839407941), (3463, 9.315378105886124), (1858, 9.241899752720226), (892, 9.166719812918862), (4345, 9.001430408770997), (1045, 8.98563448513735), (5063, 8.798183408697962), (3177, 8.68614316256574)]), (247201, [(2987, 6.4), (2080, 6.4)]), (6543, [(1535, 10.41724791285854), (1543, 8.576839822061688), (157, 8.388134709306813), (746, 8.226662018554956), (1541, 8.189910382683413), (1551, 8.16666666121212), (1547, 8.082750578015494), (1507, 8.074545452278787), (1526, 8.057858719476092), (93, 7.881711905403457)]), (30898, [(775, 6.98863635), (1778, 6.62499999), (346, 6.159482755948276)]), (246311, [(1745, 10.444017750089976), (436, 9.543663467314325), (6157, 9.412916652823771), (192, 9.411573307616237), (1415, 9.40257718559774), (622, 9.37866588865922), (1943, 9.03844022553684), (1627, 8.975296145512758), (165, 8.955582942339486), (695, 8.877675435103338)]), (227146, [(5340, 8.666666666666666), (1634, 7.3795986647814935)]), (225938, [(3480, 9.671377294115777), (1414, 9.410742788127328), (4782, 9.313668744688815), (1533, 9.105113631676137), (1405, 8.79859311520679)]), (184223, [(1572, 7.466856914302502)]), (177072, [(5437, 9.207245857470639), (157, 9.149330247954852), (6255, 8.76170462705898), (3684, 8.45062388334899), (2864, 8.417570430269663), (393, 8.378308279315187), (1268, 8.368956834282788), (261, 8.32074905352615), (1789, 8.256998561515733), (160, 8.161519231240034)]), (239801, [(637, 7.472902500554997), (6323, 7.076477831129926), (1476, 6.91438642946665), (6847, 6.8)]), (135703, [(5746, 9.279891302173914), (5236, 9.17361111), (5480, 9.008680555824652), (3475, 7.481104667099812)]), (264300, [(329, 6.5), (4023, 6.5), (954, 6.5)]), (134434, [(682, 8.82437274094937), (784, 7.987237968776025), (6017, 7.635483863967742), (2817, 7.57988929883624), (227, 7.48081636889168), (6536, 7.422028668430727), (182, 6.953482825990665), (2991, 6.419385826342074), (4156, 6.340906701872577), (678, 6.294610858299091)]), (41084, [(3564, 8.516420893951631), (728, 8.424139568114239), (5044, 8.191927824659905), (4530, 7.96875), (5049, 7.96875), (5, 7.749079883833264), (3320, 7.61150539165988), (5045, 7.053257051544457), (5048, 6.435416682)]), (124487, [(6788, 9.497549008270294), (3279, 9.232245396330793), (3416, 8.74049309883255), (4714, 8.372549019607844), (5205, 8.372549019607844), (1796, 8.372549019607844), (3350, 8.230679717433734), (4993, 8.125511885384933), (4567, 8.063025211631654), (2320, 7.936758170750082)]), (132173, [(5960, 9.98412695984127), (5821, 8.020261435584967), (3058, 7.555555565555555), (2873, 7.555555555555555), (129, 7.555555555555555), (2900, 7.555555555555555), (5715, 6.7477541411548465)]), (114643, [(6620, 9.333333333333334), (168, 8.751027572086919)]), (225986, [(4995, 8.982456139605263), (3019, 8.41666666875), (6912, 8.083333337083333)]), (219683, [(2233, 7.624242309788951), (726, 7.602564091410256), (842, 7.246221737564589), (2853, 7.231459841855615), (2563, 6.922862664571038), (474, 6.692587093807473), (4537, 6.487179487179487), (4475, 6.477380056148847), (4585, 6.304464657740002), (6190, 6.2569832970663635)]), (49980, [(285, 8.04254664972483), (830, 8.0), (1947, 7.995406725863837), (1115, 7.650784891164757)]), (30972, [(1447, 8.06711206845982), (1441, 7.9389484607633705), (3180, 7.576443259678941), (1594, 7.353819965893158), (279, 6.958024486638768)]), (40889, [(1492, 8.563069278707559), (3416, 8.50593072721945), (1064, 8.317458528429825), (3183, 8.15353450904401), (174, 8.117911858768194), (2303, 8.108622253040034), (77, 7.697176352897406), (5018, 7.623965773747518), (3503, 7.523794007084746), (3048, 7.499268005320478)]), (196160, [(2812, 10.155064204864324), (479, 9.545685045752073), (573, 9.142171621326236), (111, 8.885545302287792), (1732, 8.752354420697639), (922, 8.56111899009966), (3675, 8.292358313971377), (5661, 8.191489361702128), (3333, 7.993306756862901), (2692, 7.693071384437639)]), (100846, [(192, 8.57555600531565), (5381, 8.378822723905358), (335, 7.757379987376463), (1061, 7.71893341586665), (6247, 6.041700088123497)]), (193458, [(329, 8.8891777171571), (4460, 8.661805046790528), (465, 8.531061721892499), (3355, 8.051282051282051), (4763, 8.051282051282051), (4086, 8.051282051282051), (1388, 8.051282051282051), (957, 7.888783903354779), (906, 7.659684153112509), (2657, 7.325770958449169)]), (259901, [(2478, 9.122190786425325), (1277, 8.508519023267548), (1377, 8.382400417013498), (4471, 8.37631462324011), (3586, 8.373174306409974), (5786, 8.271567733798506), (1378, 6.760281392194264)]), (242073, [(5724, 11.2499999675), (1071, 6.0217065349013295)]), (80690, [(4053, 7.333333333333333)]), (151991, [(6392, 7.75)]), (201447, [(954, 9.532352935735295), (4871, 8.726923068653846), (1991, 8.246428569696429), (657, 8.074831700575412), (2729, 7.9), (1297, 7.550336023602333), (3112, 6.571740258152564)]), (253556, [(2093, 9.432601876214733), (2290, 8.5)]), (11362, [(2350, 8.127272726636363), (605, 8.0)]), (142801, [(934, 9.676617634656605), (5700, 9.5), (877, 9.5)]), (122782, [(2056, 7.666666666666667), (6715, 7.666666666666667), (628, 6.1538461689743595)]), (71628, [(94, 7.615384614230769), (4333, 7.50000001), (5950, 7.5), (21, 7.152147857665999)]), (42372, [(777, 8.48074388253688)]), (152016, [(5936, 8.2), (20, 5.302986189343114)]), (229551, [(89, 9.821428556428572), (405, 9.460407551251208), (70, 9.348764487956236), (2499, 9.022953491328138), (1023, 8.863819991136054), (2276, 8.321428571428571), (3268, 8.056532327187623), (1698, 7.649028646492824), (3333, 6.855911344795741), (6751, 6.775974033701298)]), (196047, [(5505, 9.25396824736508), (394, 8.856426894693858), (169, 8.46608510603556), (451, 8.38684091298876), (4334, 6.975389889307137), (1729, 6.046147375863148)]), (72636, [(6142, 7.515873015714286), (1133, 7.50000001), (776, 7.5)]), (108405, [(5454, 9.074999986), (2707, 8.5488403190892), (3357, 8.375282110593913), (2758, 8.067948514551414), (1475, 7.322540984933349), (2235, 6.932726814525014), (5344, 6.84891305173913)]), (147451, [(4423, 9.086054085337135), (6842, 9.028225795201614), (6507, 8.916269279647265), (1284, 8.473195227066658), (66, 8.330809130315503), (1773, 8.192772384808064), (2768, 7.903225806451613), (2943, 7.903225806451613), (5043, 7.903225806451613), (4421, 7.299059142805779)]), (254053, [(3074, 7.694553448067437), (294, 6.769230776538461), (2010, 6.138161280563688)]), (45119, [(2257, 9.23606461706269)]), (211426, [(6051, 11.12698410126984), (3973, 9.296358487302564), (4141, 9.286596404292794), (1896, 9.130555549805555), (3964, 8.954576306786004), (418, 8.937340770981335), (352, 8.932155243084434), (2279, 8.875028201555557), (3022, 8.810824858115453), (1109, 8.802694848380005)]), (24186, [(883, 9.541694139825037), (1166, 9.371461852723417), (3700, 8.857142857142858)]), (195965, [(6819, 9.0)]), (259118, [(1428, 9.27222838871646), (2971, 8.546370612237364), (549, 8.013854933933688), (1192, 5.9571877568835445), (20, 4.741698036719468)]), (170513, [(2910, 10.029857376199885), (3896, 9.667563803650692), (1434, 8.922476057142886), (473, 8.856696678622693), (472, 8.804832045895532), (183, 8.748054715392787), (434, 8.571449724006442), (1602, 8.340408098618775), (18, 8.032606938694132), (6423, 7.931818181818182)]), (18384, [(626, 7.666666666666667), (3244, 7.666666666666667), (3245, 7.666666666666667), (2580, 6.306666673466667)]), (60475, [(1628, 7.444444454444445), (4201, 7.444444444444445), (1743, 6.600612159559439)]), (30081, [(1398, 8.389078488549703), (2318, 8.269310306803698), (1190, 7.424333331285276)]), (109955, [(2298, 9.28518173126571), (76, 9.068965517241379), (5596, 9.068965517241379)]), (157273, [(3135, 9.015108839794047), (910, 8.355076386012234), (3555, 8.149113079085366), (335, 7.91446534187778), (381, 7.866980901431916), (5371, 7.532402499544303), (883, 7.393577606458678), (6387, 7.320325208585365), (2124, 7.166718554441504), (5132, 7.146868415484542)]), (52350, [(5497, 9.541097085075254), (5483, 9.264697942375241), (480, 9.031315944517942), (5419, 9.011904757619048), (482, 8.901984569712509), (471, 8.868917062263167), (1704, 8.147708820338897)]), (131437, [(1340, 7.384615390769231)]), (120565, [(3672, 8.555555555555555), (4084, 8.555555555555555), (3716, 8.555555555555555), (364, 8.555555555555555), (3317, 6.5185185388888875)]), (30716, [(1028, 7.270932434022056)]), (216962, [(376, 8.981896547439655), (1268, 8.392104734030841), (5556, 7.817307695427058)]), (31094, [(1102, 9.011904744285715), (2373, 8.291666656250001), (952, 7.25), (312, 4.592105289736843)]), (118533, [(4160, 10.633971283696173), (176, 9.999999990000001), (480, 9.612197862905616), (471, 9.582946633965138), (61, 9.004107830543774), (3400, 9.0)]), (8253, [(588, 10.616779047389358), (480, 9.993293179012099), (1894, 9.811677003050843), (1702, 9.776858206973184), (1897, 9.571085899046322), (581, 9.567188813899158), (243, 9.338541047802412), (1905, 9.301245946991804), (1895, 9.033794970305227), (447, 8.778441848332827)]), (243294, [(3299, 10.726417585849232), (451, 9.555573607237534), (486, 9.491900371910077), (465, 9.456848396182574), (2698, 9.313146996780539), (1385, 9.14784946172043), (330, 9.083333333333334), (5992, 9.083333333333334), (4341, 9.083333333333334), (1268, 9.07693960196603)]), (45416, [(1651, 8.276785707901785), (1259, 7.0), (1576, 6.1000000089999995)]), (179075, [(487, 10.915140411137566), (674, 9.714285714285714), (606, 7.651785734910713), (1626, 5.714285754285713)]), (254405, [(3261, 9.285714285714286)]), (69971, [(841, 9.341666657083334), (1494, 8.658683831529617), (2053, 8.427238013522771), (352, 8.157673886731448), (3119, 8.04298805706897), (285, 7.784262080521945), (5667, 7.425), (1756, 7.425), (1208, 6.86785714847193)]), (28139, [(279, 5.511904754285715)]), (243065, [(69, 9.284889738917196), (2554, 9.01312346674048), (1055, 8.627266842923266), (1977, 8.579353606638984), (1559, 8.358981330361896)]), (116395, [(938, 7.0439560335164835), (1291, 6.125075757325606), (500, 6.000449689146597), (3803, 6.0)]), (265591, [(3424, 7.0), (652, 7.0)]), (221732, [(2145, 9.200781376890081), (6790, 8.781555840981351), (16, 8.733475424999677), (6307, 8.681869687360873), (4931, 8.05945236437621), (2017, 8.02822828209903), (56, 7.929760964158322), (2589, 7.919166666133334), (3602, 7.734971966540581), (4626, 7.402209928571067)]), (28360, [(1267, 7.8999999910000005), (4072, 7.0)]), (217375, [(4216, 8.790713190123475), (1773, 8.08611607521334), (2064, 7.880378343802398), (2032, 7.739476707506692), (6798, 7.608695662173913), (882, 7.418116887086574), (2070, 7.235112288940873), (2983, 7.0889963602582045), (6319, 6.739130443478261)]), (187145, [(1414, 9.897273323533279), (2291, 9.73135370875238), (4548, 9.301587291587303), (6605, 8.763125758493722), (459, 8.727947560632813), (6633, 8.595778704972874), (4223, 8.419700766675478), (2439, 8.301587301587302), (2671, 8.301587301587302), (233, 8.109475839842569)]), (236340, [(4661, 9.99417663714421), (3289, 8.893064407285584), (805, 8.701758540092829), (892, 8.502950822666625), (379, 8.433017097903573), (1266, 8.381077529323154), (259, 8.152033829177736), (3175, 8.096924893327271), (4226, 8.075268891131358), (803, 8.003342184667588)]), (142745, [(678, 8.11483252952153), (3244, 7.989646235289042), (744, 7.468846501854577), (5963, 4.2587719556578945)]), (80810, [(3331, 7.972972972972973), (2460, 7.3949509978411045), (2034, 5.816526401077754)]), (179718, [(1378, 10.256428436893644), (1140, 10.189589162973624), (532, 9.309902777577127), (2876, 9.165942489937411), (2114, 8.868960624365581), (5421, 8.711184041643085), (1061, 8.594714293124921), (5644, 8.434126986876985), (4674, 8.366564604832158), (1280, 8.357910780066238)]), (31008, [(3869, 7.4), (1284, 7.4), (2155, 7.4)]), (244359, [(3539, 8.837256459868907), (533, 6.886477497993143)]), (102220, [(3671, 7.692307685384616), (3083, 7.550328705030503), (380, 6.987795059440708), (2070, 6.904896388087596)]), (174596, [(341, 7.789461367101687), (746, 7.155809581817081), (1284, 6.884080881535408), (643, 6.6799207989609135), (6668, 6.510467012328238), (3307, 5.964237282412766)]), (29028, [(1493, 5.949343334840526), (4140, 5.0), (870, 2.975609776341464)]), (220597, [(1428, 9.852974938765275), (5774, 8.86445921101779), (446, 8.251277025900114), (5775, 8.194089816995424), (6592, 7.892857138564021), (3363, 7.8482779988845595), (4806, 7.464285714285714), (2900, 7.464285714285714), (3058, 7.280165325769967), (1353, 6.63501742989547)]), (226965, [(6769, 10.748270148517545), (1880, 9.797527811301544), (341, 9.59452059237151), (1044, 9.522785837752942), (2453, 9.315141219891297), (44, 9.284553499716468), (480, 9.027107852036439), (35, 8.861789490752017), (54, 8.860099741954421), (225, 8.838042139245236)]), (168047, [(3638, 10.690882025874595), (1105, 10.210998876307519), (472, 9.680622673610198), (1255, 9.659298104276768), (471, 9.561968918301996), (457, 9.004852047925647), (2636, 8.93939393939394), (614, 8.857797865122667), (932, 8.827665131341652), (2917, 8.643084394992627)]), (16263, [(2049, 6.829787233643617), (3012, 6.75), (20, 2.814252260123748)]), (191093, [(2416, 9.0), (5338, 9.0), (1344, 9.0), (196, 9.0)]), (178522, [(5921, 7.850168347334456), (35, 7.819499205945535), (3289, 7.640477418172042), (3181, 7.4902693915333325), (1054, 7.436869824311547), (6490, 7.3249999966128385), (1229, 7.258305625111413), (68, 7.161877868883724), (1387, 7.099922749854126), (4368, 6.936477419267528)]), (10560, [(2262, 9.158240554298668), (742, 8.976288248447062), (2250, 8.917546465980317), (341, 8.891757235744302), (127, 8.82758555714032), (2261, 8.73987462692068), (2265, 8.666499324658997), (665, 8.622931085099456), (87, 8.454751797747742), (2245, 8.23076923076923)]), (98440, [(4096, 10.285714272857144), (1361, 9.543209871111111), (6576, 8.529411769411764)]), (183196, [(4354, 9.399232749724153), (5348, 9.0), (2642, 9.0), (1773, 8.55524475746853), (3870, 6.7270503364440515)]), (24846, [(2219, 7.25), (744, 7.25), (499, 7.25)]), (30735, [(341, 10.098947172820456), (338, 9.560723212566822), (3176, 9.423663767672025), (608, 9.421525180439058), (1451, 9.315611387143779), (2732, 9.015170071331585), (3177, 8.85372546278609), (1630, 8.772373888424621), (213, 7.719696983333334)]), (137589, [(4873, 9.753170409191661), (3686, 9.314738609323541), (235, 9.093262481945544), (170, 8.397823168523985), (1268, 8.31958168919134), (428, 8.07657438167158), (2070, 8.032398288193), (6, 7.966091393141241), (1755, 7.6611037090190806)]), (232103, [(2822, 8.0)]), (84882, [(3813, 9.108333327166667), (1773, 8.207748653397555), (195, 7.91994010328883), (3273, 7.285606064579545), (1430, 6.238636379999999)]), (170634, [(2765, 9.34131402953113), (5805, 9.16), (4422, 9.16), (1691, 8.30607607440769)]), (44852, [(1527, 8.370957706764147), (1064, 7.939187161988359), (291, 7.192567566889085), (5190, 7.125), (4842, 6.720238097261905), (1144, 5.12500002), (1641, 4.337719312182017)]), (15957, [(2957, 8.579451724307397), (1055, 7.288808036010772)]), (143103, [(4, 10.291666665208334), (2, 10.14583333796875), (6375, 10.0)]), (108197, [(340, 8.687680262219363), (3516, 5.8600000164)]), (27647, [(1116, 9.607971904182051), (3987, 8.304506754957318), (404, 7.314385455074997), (1286, 7.166316292000238), (3988, 6.969683242083726)]), (160295, [(862, 8.500262734002408), (3444, 8.363636363636363), (3587, 8.363636363636363), (4055, 8.363636363636363)]), (239626, [(5393, 10.464285707142857), (1239, 9.75), (2981, 9.75)]), (61798, [(613, 8.766749353523574)]), (33681, [(192, 10.061243889549267), (588, 9.59855812862572)]), (198996, [(1631, 8.936292218025512), (613, 8.506660338115939), (2951, 8.11294191367906)]), (50129, [(5382, 8.149999987666668), (2273, 7.029227225208189)]), (35836, [(2084, 5.13141314582238), (165, 4.706956239459122), (4673, 4.571235617044406), (1569, 4.564809373700276), (2795, 4.5122183873711865), (4596, 4.461014763409692), (755, 4.339367889283748), (4097, 4.208751064549179), (4677, 3.9411500895739726), (3599, 3.6514639671931306)]), (223644, [(4596, 7.447955180457231), (2756, 7.41555183854097), (2450, 7.316070466139864), (77, 6.943978909072809), (4530, 6.2307692407865165)]), (245128, [(2648, 6.642857141428572), (3135, 6.5)]), (88229, [(1414, 10.6900388040762), (2867, 10.571428562142858), (308, 9.563180762133609), (243, 9.334420477378986), (1186, 9.240599806499892)]), (247055, [(3717, 8.927946124297419), (5100, 7.860859744678457), (5549, 7.833333343333333), (4093, 7.833333333333333), (4406, 7.742567111247226), (3650, 7.552119297229497)]), (201042, [(3604, 8.949797565139676), (4492, 8.289510487904428), (1246, 7.8076923076923075), (5617, 7.501263737795878), (1164, 7.195179389005912), (5364, 6.739083435086416), (646, 6.557692320192308)]), (135458, [(5618, 8.042592576216514), (207, 7.620404819179255), (2053, 7.558993151835288), (482, 6.991839324444625), (1640, 6.616730104764697), (4378, 6.608783782989865), (3388, 6.506875866088156), (3389, 6.453759488218436), (2714, 6.45000001), (2496, 5.774722246695724)]), (255546, [(4772, 9.731092426533614), (3006, 9.642857122857144), (401, 7.642857142857143), (2775, 7.642857142857143), (3842, 7.642857142857143), (937, 7.586187235646093), (4516, 7.188311692857144)]), (195694, [(6866, 9.520593173825322), (1970, 9.038461530733295), (3136, 8.68690274000031), (2955, 8.563228720205881), (1161, 8.10479328095214), (803, 7.66969880822808)]), (59209, [(352, 9.607142838571429), (1205, 8.323308922984175), (169, 8.146373229355516), (2362, 7.818965516551724), (2620, 7.75), (4469, 7.75), (5777, 7.75)]), (37556, [(1284, 9.894933549628323), (190, 9.566820269400921), (1898, 8.474789917878152)]), (141444, [(657, 6.647794866113139), (1104, 6.647390515765347), (1783, 6.41379199731534), (1212, 6.395164627474306), (1340, 6.3335537897941325), (1058, 6.269162391994247), (1135, 6.173949049525614), (3547, 6.1607142957142855), (6451, 6.160714285714286), (2403, 6.160714285714286)]), (124876, [(5116, 10.694444418611111), (5601, 9.655400185192663), (4390, 8.889979901148283), (472, 8.71395640417611), (1456, 8.685579190464862), (469, 8.462536188930557), (4389, 8.412756949822088), (463, 8.332791439721223), (2857, 8.322475290831836), (6528, 7.911111113111112)]), (35445, [(72, 7.559894530941262), (265, 7.459373391169748), (774, 7.427244841974797), (4665, 6.7), (3676, 6.7), (1433, 5.309054422654995)]), (229741, [(6182, 8.652380941428572), (2611, 8.570740293305732), (109, 8.456512345651136), (70, 8.307790278833775), (4878, 8.290192189400669), (471, 7.892087878306891), (2281, 7.699404761430555), (407, 7.551267019755069), (1973, 7.461591291185265), (274, 7.355377170319224)]), (3167, [(986, 9.329581350900309), (574, 9.197012133722378), (985, 8.857142847142857), (720, 7.354623807728092)]), (240225, [(1527, 10.26874487577259), (1639, 9.676460440767924), (1989, 9.0)]), (199095, [(625, 7.333333333333333), (1000, 7.333333333333333)]), (38781, [(4880, 8.916666664166666), (4454, 8.666666666666666)]), (204040, [(3247, 9.384615370769232), (4546, 8.0)]), (96474, [(1207, 5.8008154624592265), (3193, 5.571428571428571), (87, 5.420696812503599)]), (192460, [(766, 9.873786399029127), (2617, 9.0)]), (227520, [(13, 9.421836220133503), (1346, 9.278267734412507), (6704, 9.224662400989107), (3832, 9.105382433993668), (6459, 8.99807235935737), (4078, 8.887923016998453), (226, 8.78052313557187), (12, 8.749297367054933), (881, 8.709806155379438), (2124, 8.661516329954084)]), (51364, [(308, 6.0), (1402, 6.0), (5439, 6.0), (614, 5.103448284827587)]), (100459, [(934, 9.670647957294209), (3724, 9.469428525346318), (1599, 9.26899695120061), (1871, 9.108717945701635), (974, 8.94361025008872), (183, 8.81200551984544), (2269, 8.650074653173666), (2080, 8.607536908543699), (2992, 8.372695911607629), (169, 8.325034562156858)]), (1585, [(730, 7.906741067661719), (63, 6.4), (7, 6.4), (733, 6.4)]), (114446, [(1627, 8.67004549148515), (1104, 8.355838714969451), (3345, 8.27845744528393), (6653, 8.102644617114594)]), (83235, [(1450, 3.6048387461290323)]), (109084, [(1938, 8.610722603502332)]), (212923, [(448, 9.153888967567879), (207, 8.560322745249934), (657, 8.475602777623196), (1392, 8.4247365223613), (1818, 8.283987984109963), (1550, 8.214570134787326), (6198, 7.991428570714286), (1760, 7.8451412721758285), (3548, 7.810084159936703), (3581, 7.701161012479034)]), (1167, [(676, 6.5), (673, 6.5), (672, 6.5)]), (117251, [(1820, 9.441511804528396), (1791, 9.295597242060868), (1568, 9.27402960230471), (781, 9.155345217588735), (6312, 8.88852817589228), (3924, 8.814814814814815), (5277, 8.771744144327565), (3141, 7.198894210746508)]), (123095, [(1195, 9.297906613592101), (2093, 9.025031791248004), (2144, 8.612048515365075), (2532, 8.611718689428855), (5595, 8.53125), (1304, 8.53125), (1179, 8.06683960601053), (4101, 7.926598843255814), (1626, 7.852680012999503), (3056, 7.824728264402174)]), (222677, [(310, 9.424242413333333), (19, 8.609312196605925), (1691, 8.333333333333334)]), (93629, [(2170, 9.183862425681218), (730, 8.564742490819887), (5346, 8.266880968144758), (158, 8.086723506873401), (2210, 8.004270444204966), (974, 7.859777697437894), (5563, 7.775976616613576), (6447, 7.5476190476190474), (3076, 7.5476190476190474), (4369, 7.5476190476190474)]), (220867, [(5548, 9.683908035804597), (1290, 8.666666666666666), (4465, 8.666666666666666), (6282, 8.666666666666666)]), (40943, [(1751, 10.729777615198676), (5035, 10.0445181063462), (3558, 9.560731705367072), (1717, 9.093840190894712), (4579, 9.034620599992998), (724, 7.478424031932457), (1495, 7.445731715942072), (5041, 7.335343635813611)]), (113752, [(57, 8.889103643178375), (416, 8.75)]), (239594, [(5851, 10.739999975), (1428, 9.531654122403523), (4298, 8.996535948523965), (1897, 8.86720245742307), (450, 8.49372116914994), (5192, 8.24), (1547, 8.24), (4759, 8.24), (708, 8.104869791739711), (6715, 8.088996285041723)]), (223787, [(2830, 10.690079358890213), (5773, 9.655913970268818), (6395, 9.380645505843589), (70, 9.353886417345112), (1884, 8.992422442242628), (1551, 8.833333333333334), (1088, 8.833333333333334), (5404, 8.833333333333334), (1543, 8.833333333333334), (6284, 8.775873656201277)]), (53304, [(3526, 8.358585852209933), (1198, 7.722222222222222)]), (115003, [(3939, 10.118163456393646), (746, 8.706463418966202), (446, 8.463575413435827), (808, 8.438095231428571), (2784, 8.139842284050353), (1434, 8.128711852949333), (1289, 8.121003403659374), (1177, 8.046839887713823), (87, 8.046467451236426), (91, 8.039203298695089)]), (209373, [(6112, 9.239316224700854), (4309, 8.694444435277777), (3370, 8.378760960522042), (870, 8.140282333213955), (2040, 8.01388670491004), (170, 7.967002513889027), (86, 7.675242165447236), (2317, 7.671556027862145), (501, 7.362085536561527), (3348, 7.288576492428567)]), (84024, [(811, 8.5099999925), (388, 8.365261489105706), (1329, 8.251569935095512), (379, 8.055586423740156), (1445, 7.983381228359719), (376, 7.842427724766577), (6372, 7.76), (1207, 7.308411858133239), (557, 6.941818189999999), (3359, 6.097129963450281)]), (177233, [(4659, 8.032687851781082), (3371, 7.749999998333333), (673, 7.583333333333333), (574, 7.583333333333333), (1249, 7.512906849507213), (3309, 6.765151523333333), (1398, 6.272486776856261)]), (36715, [(4761, 10.573684189526315), (1365, 10.521452243675043), (2359, 10.214424933859648), (949, 8.650451886704765), (4762, 8.526315788947368), (2220, 8.473684210526315), (4763, 8.473684210526315), (1473, 8.473684210526315), (541, 8.118845504397282), (1355, 7.6381944713149545)]), (108005, [(1571, 9.242872241708715), (6207, 8.897602041843923), (436, 8.818548383629032), (3373, 8.478247282929791), (836, 8.125), (1843, 8.125), (4431, 7.745879122774725)]), (60445, [(620, 10.651155420096021), (3189, 8.545617510906215), (2827, 8.0)]), (141309, [(312, 6.312500001875), (651, 4.913793119310345)]), (41841, [(1702, 7.510086582528842), (1626, 6.736297047458132), (5089, 6.702944225133885), (195, 6.622253604333172), (1228, 5.797586087785465)]), (30120, [(4226, 7.75), (674, 7.75)]), (259734, [(6439, 8.004065038943088)]), (176526, [(750, 7.666666666666667), (4896, 7.666666666666667)]), (143302, [(698, 9.2), (987, 9.2)]), (231827, [(6133, 9.38888888888889), (1002, 9.38888888888889), (707, 9.077921695692375)]), (127203, [(4080, 6.692307696346154), (1131, 5.741402006253605)]), (184310, [(3489, 8.540453065695793), (1309, 7.814207648797814), (1049, 7.666666666666667)]), (267326, [(164, 9.417840364741785), (1729, 8.363782051129808), (1198, 8.333333333333334), (1263, 8.333333333333334)]), (76351, [(4976, 13.299999967), (1730, 10.723484846073232), (1797, 9.149725276850962)]), (120396, [(2481, 10.365609284137273), (1450, 10.080769222153329), (1618, 9.946257443872485), (6773, 9.930769223486864), (6482, 9.930769223486864), (5337, 9.86276177713761), (659, 9.579323173069149), (4388, 9.23076923076923), (376, 9.183952674327447), (576, 8.83392440610418)]), (187761, [(537, 10.863013708687841), (4280, 10.0), (3632, 8.914285725142857)]), (116758, [(50, 9.147155574379969), (1490, 8.853649841781138), (1397, 8.725402423221773), (1205, 7.860644183368517), (1884, 6.697541743270165)]), (62755, [(4546, 6.8), (3337, 6.8)]), (32627, [(3135, 9.764880941994047), (488, 8.900614741967214), (3989, 8.56249999125)]), (246634, [(448, 8.833873213651954), (70, 8.521048492896032)]), (197866, [(3447, 4.666666666666667), (6008, 4.666666666666667), (4122, 4.666666666666667), (739, 4.579915917589419), (5430, 3.515151520909091)]), (78448, [(3240, 11.339080428103449), (5, 9.454465062334219), (3770, 8.734125235184996), (359, 8.609913788728448), (2329, 8.367051473614076), (74, 8.363132309378246), (124, 8.210198535479725), (5338, 8.172413793103448), (4238, 8.087096333212575), (1379, 7.580300352174233)]), (135873, [(3845, 6.207142863964285)]), (102375, [(1546, 7.9353146818939395), (5667, 7.40909090409091), (5872, 6.909090909090909), (562, 6.909090909090909), (4490, 6.909090909090909)]), (118135, [(6310, 7.608333331), (2571, 7.244047619702381)]), (30838, [(3389, 7.184073374160225), (4322, 7.023603769646325), (4320, 7.0)]), (278194, [(300, 6.769230769230769), (302, 6.769230769230769), (306, 6.769230769230769), (144, 6.065705131722757), (304, 5.0445722588030195)]), (49109, [(1061, 7.2448529393976715), (5094, 6.533333333333333), (1903, 6.533333333333333), (5340, 6.099719890123249), (442, 5.521632674310803)]), (87401, [(3483, 7.5), (395, 7.5)]), (138844, [(251, 9.274723582876996), (1616, 8.779237270827384), (6056, 8.744691117994691), (592, 8.364069501526634), (243, 8.339871574395117), (1806, 4.542310186625643)]), (2179, [(70, 9.922124470136549), (883, 9.443387097415659), (480, 9.279470140058343)]), (123298, [(477, 10.119058820891295)]), (271195, [(2381, 10.57315231683258), (4713, 9.496651511285803), (3657, 9.340263276259465), (1248, 9.317159746244448), (693, 8.778347066672266), (1942, 8.190704535688411), (1558, 8.16408922481287), (6676, 7.61344538672269), (3757, 7.571939591138713), (4951, 7.320588241044119)]), (25395, [(971, 8.939084928962354), (613, 8.1582616779082)]), (88412, [(2409, 10.694946110522608), (2516, 9.678070476533593), (283, 9.203296699725275), (5611, 8.846153846153847), (4868, 8.846153846153847), (6448, 8.71387871454009), (949, 7.989010997582419), (5695, 7.887820522403847), (2855, 7.118881136271)]), (266753, [(6235, 7.6), (2299, 7.6), (2386, 7.441811195637844)]), (110361, [(744, 7.3289682528991404), (1651, 6.982142855669643), (6426, 6.6875), (978, 5.59292614411863), (6057, 4.932397976734694)]), (186527, [(2364, 7.661490675186336), (1854, 7.343629338764479), (71, 6.857142857142857), (175, 6.857142857142857), (1493, 6.857142857142857)]), (223953, [(2451, 8.448743858660965), (2558, 8.319444442638888)]), (96440, [(457, 7.8031844824911385), (726, 7.458333333333333), (915, 7.458333333333333), (628, 7.446428571488095), (1519, 7.309803922311274), (3048, 6.107208898930034), (1333, 5.981737596035461), (2163, 4.791666693333333)]), (248464, [(1428, 7.606824894052669), (2970, 7.177124180582789), (6446, 6.45), (4560, 6.2641567395283895)]), (37974, [(97, 9.238365796102544), (809, 8.897805786941955), (157, 8.770315732566642), (2545, 8.285714285714286), (2732, 8.285714285714286)]), (128693, [(1674, 7.666666666666667), (2180, 7.666666666666667), (2242, 7.666666666666667), (3344, 4.750000029166666)]), (270156, [(70, 9.261910667017114), (6473, 8.748792267487923)]), (246216, [(6550, 9.310776926390977), (5538, 7.714285714285714)]), (231210, [(934, 9.269375281169593), (192, 9.113155249344281), (3480, 9.102441600673014), (433, 9.096491681287327), (478, 8.871472530850012), (2158, 8.823615955672487), (1114, 8.512831131788401), (665, 8.266029783484369), (1491, 8.181225713515758), (6150, 8.158333331333333)]), (31846, [(3337, 10.262626234444445), (3307, 9.444444424444445), (1682, 7.444444444444445), (3072, 7.444444444444445), (1136, 7.444444444444445), (614, 7.142521994423715)]), (128085, [(4172, 8.591363208358324), (2267, 8.569343946558117), (1074, 8.370002787987172), (376, 8.027583532068991), (744, 7.7567496772705), (32, 7.747435898935898), (1068, 7.708668129431717), (6001, 7.6640677338111445), (1510, 7.55875526158074), (4305, 6.3447496188141645)]), (244286, [(245, 9.034666936855363), (1737, 7.586878318477796), (3947, 7.214285714285714)]), (227836, [(61, 9.858663050807388), (3988, 9.849999994), (2125, 9.262871554244102), (5928, 9.25)]), (273535, [(6553, 7.0), (764, 7.0), (1709, 7.0), (1504, 5.021739150217392)]), (116005, [(6499, 10.9228885950306), (4592, 9.692199244935777), (176, 8.710447388921231), (3243, 7.903508780263158)]), (126492, [(3752, 8.772260743336732), (3144, 8.47532136211626), (3083, 8.447648518899186), (2682, 8.407008004770509), (914, 8.338775602567832), (3198, 8.285461280767244), (1156, 8.217250269828117), (971, 8.15158605195496), (1543, 8.138750827011942), (3334, 8.107098965017181)]), (30824, [(1737, 10.099999995), (4200, 9.6), (4319, 9.6)]), (25545, [(644, 5.938403929661346), (895, 5.857142857142857)]), (15408, [(2881, 7.754166665083333), (2671, 7.4375), (1040, 7.4375), (2878, 7.4375)]), (248468, [(243, 8.226172362945695), (1955, 7.909090909090909), (2995, 7.77575757709091), (5260, 6.760154750367505), (1230, 6.572626998655296)]), (71102, [(3022, 7.769354837362902), (885, 7.5), (1360, 7.5), (4336, 7.5)]), (174830, [(4308, 8.669601935806645), (803, 8.435740609568697), (985, 8.307692307692308), (4310, 7.796137539358885)]), (59656, [(235, 9.788177791982935), (1541, 9.616225018562286), (4840, 9.11111111111111), (2368, 9.11111111111111)]), (200206, [(3250, 9.45454544), (4525, 8.999999990000001), (1564, 8.067567566891892)]), (37567, [(4847, 7.833333333333333), (627, 7.833333333333333)]), (153718, [(6713, 9.142857131428222), (2257, 9.012158721259809), (220, 8.81935601234594), (2264, 8.466561807690743), (971, 8.251141766080359), (1344, 8.109019908836535), (509, 8.0), (805, 7.938104226518353), (289, 7.720125053820995), (5735, 7.360054351025815)]), (221705, [(3355, 9.192260879760727), (3099, 8.659212058770926), (6596, 8.621383645076799), (3260, 8.446376808927536), (3049, 8.34486166291996), (329, 8.278179512406714), (6062, 8.25278706687198), (3086, 8.081791784910623), (1059, 8.03804347701087), (3151, 7.913043478260869)]), (139206, [(6797, 5.4)]), (91342, [(224, 8.402465332552207), (2730, 7.636363636363637), (6485, 7.636363636363637), (2915, 7.636363636363637), (181, 7.636363636363637), (829, 7.612071248878174), (486, 7.466419429954131), (3316, 6.546462163980633)]), (170792, [(2911, 9.75), (2662, 9.729092163944467)]), (189973, [(2813, 7.167958647441861), (4167, 6.7198858074569765), (407, 6.474373621682734), (650, 6.418957319985407), (2857, 6.410064463595098), (311, 6.071017570127689), (803, 5.991555008175414), (2859, 5.7032062999399695), (652, 5.499056812915728), (1628, 4.728893426411221)]), (22975, [(3629, 9.178571424285714), (3631, 8.75)]), (170073, [(191, 8.090909090909092), (6074, 8.090909090909092), (680, 7.965909092159092), (1446, 7.896103897077923), (3616, 5.4005244889764)]), (80555, [(857, 8.691666660408016), (850, 8.420973896681604), (3382, 8.40423493325544), (854, 8.066666666666666)]), (13551, [(2662, 8.166666666666666), (2698, 8.166666666666666), (2701, 7.234193980167163)]), (173517, [(410, 11.531746024087301), (1284, 10.000000009999999)]), (79740, [(6280, 6.338842971818182), (5183, 6.200757574753787), (1344, 5.901545537393194), (3086, 5.346153852692307)]), (205967, [(145, 8.53124999984375), (1794, 8.5), (1310, 8.423076923846153)]), (182746, [(3058, 8.817577035330883), (292, 8.475931677763976), (1419, 7.0974026050405845)]), (177091, [(2436, 8.711988970772218), (1328, 7.633163589739369), (2434, 7.105263157894737), (5719, 2.6290727264661653)]), (148898, [(2920, 8.846155807356945), (1179, 8.709879184661984), (4588, 8.665204680592105)]), (150124, [(2532, 10.100217230745116), (5842, 10.0), (1487, 10.0)]), (50193, [(2233, 7.562433862559082)]), (208960, [(692, 8.034722219725529), (124, 7.590235088895939), (1305, 7.033637875014534), (421, 6.551318457425544)]), (101304, [(3789, 10.349063184096796), (2726, 9.411494060927286), (24, 9.321154507081943), (1316, 9.018553040457421), (135, 8.976015516769984), (2756, 8.940993790124224)]), (222296, [(1988, 8.405108406641393), (496, 8.179751246867632), (68, 8.011583418253778), (6714, 7.82873174355611), (1174, 7.705781568117461), (1973, 7.435834339358557), (6219, 7.209302325581396), (1415, 7.047360622567282), (3532, 6.89351285506209), (460, 6.801333040721993)]), (99523, [(657, 6.0188923840376525), (2480, 5.316564260672683), (1434, 3.2672552926856677)]), (225810, [(2303, 7.282530796698576), (158, 7.201426326466648), (6465, 6.944444444444445), (6222, 6.83005131934509)]), (188369, [(2463, 8.75), (3596, 8.75)]), (152651, [(1776, 9.680107505913979), (70, 8.11459070805476), (414, 7.382775734118108)]), (145369, [(1761, 8.210921008815985), (338, 8.053908282527537), (543, 7.502304151013824), (3506, 5.857142877142857)]), (171967, [(379, 7.612554111623377), (2586, 7.20482866107866)]), (153091, [(5153, 6.0), (6088, 6.0), (5566, 6.0), (6157, 6.0)]), (65584, [(1249, 9.21620787412835), (755, 8.825020484126869), (5684, 8.810256407665646), (5934, 8.791208788981766), (4314, 8.70788326367218), (5420, 8.576923076923077), (5344, 8.576923076923077), (174, 8.547571497853767), (1708, 8.516054648272599), (4512, 8.275136294211652)]), (106331, [(2029, 7.845854274203097), (741, 7.25)]), (173111, [(1416, 10.261818161018182), (235, 9.015423602179705), (3054, 8.181818181818182), (3630, 8.181818181818182), (3441, 7.101818192618182)]), (201684, [(3988, 9.967032942747252), (463, 8.718022368763613), (992, 8.440121834684088), (3704, 7.538461538461538), (2506, 7.538461538461538), (3271, 7.538461538461538), (712, 6.718969705531729), (3483, 6.021337750772046)]), (160381, [(461, 9.757142853357143), (378, 9.0)]), (249924, [(2934, 5.2)]), (148191, [(554, 7.0), (20, 2.6069518936229947)]), (195079, [(4263, 8.25), (5243, 8.25)]), (11224, [(2326, 7.571428561428571), (997, 7.121209044890727), (2324, 7.033028637105438), (2329, 6.759250594933087), (2323, 6.571428571428571), (2327, 6.5602567043851465), (2330, 6.31505800786304), (1950, 6.2714285729285715), (2015, 5.146127295629392)]), (59390, [(3354, 8.428571428571429), (2726, 8.428571428571429), (1442, 7.303571439890661), (1441, 7.267857154464286), (1382, 6.705193610124236)]), (234023, [(2446, 10.11090781138825), (1868, 8.330996886965213), (687, 7.878705934790415)]), (57095, [(974, 9.887245489972944), (474, 8.66760682068252), (4061, 8.520019234533022), (1711, 7.193693713423423)]), (60029, [(1272, 6.25), (213, 6.25), (4441, 6.25)]), (9227, [(2075, 8.396551120894578), (2072, 7.0), (897, 7.0), (2073, 7.0), (2071, 7.0)]), (79556, [(4490, 7.0), (2719, 7.0)]), (87712, [(4008, 10.137820494358973), (208, 9.28027007274434), (5637, 8.291666666666666), (6434, 8.291666666666666), (6433, 8.291666666666666), (41, 7.932186785178754), (4588, 7.393518778252771), (2151, 7.091666678666666)]), (130474, [(3971, 10.131807790492298), (532, 9.561085027059189), (1315, 9.464647979417139), (1483, 9.367519134358584), (2138, 9.328405016601703), (180, 9.175627239032258), (2700, 8.750172753158786), (136, 7.994788240832549)]), (8695, [(1992, 8.428571428571429)]), (170518, [(2511, 7.5), (4520, 7.5)]), (47856, [(1025, 9.444444431666668), (2254, 8.166666666666666), (217, 7.107508917951759)]), (113663, [(5488, 9.969696953333335), (6131, 8.90476189904762), (466, 8.90476189904762), (2215, 8.615384612564103), (6522, 8.060606063333335)]), (268622, [(3840, 9.462406001466166), (665, 8.509192383174021), (1269, 8.308389651861553), (2253, 8.196399313319699), (4104, 8.11076647957108), (5426, 7.741626797894736), (3527, 7.559808617894737), (439, 7.326922642599208), (3361, 7.156510635974035)]), (98263, [(2867, 10.293662405081827), (240, 9.88573801139291), (3724, 9.879745491407741), (2785, 8.95419024890994), (1193, 8.295112549600308), (3116, 7.863380158926552)]), (155913, [(1634, 7.69444444), (862, 7.386903547734037), (2251, 7.25), (4197, 5.603947373907895)]), (113804, [(2961, 7.732512033808647)]), (142671, [(1603, 10.1781397306428), (5335, 10.0)]), (85757, [(6316, 8.346153837769231), (1225, 8.087927351489583), (2919, 7.919774646235275), (3090, 7.908653842184984), (614, 7.573136272348636), (3510, 7.512820512820513), (1291, 7.438493111891961), (2221, 7.304368980591218), (2663, 7.204219931273638), (4071, 6.359706963550671)]), (154345, [(2934, 7.3571428519047615), (6352, 6.833333333333333), (5197, 6.833333333333333), (4734, 6.833333333333333), (1622, 6.807017548991228), (2244, 5.602564114871795), (6887, 4.833333354177402)]), (208897, [(3745, 9.055140003967077), (1590, 8.5), (1573, 8.5), (1829, 8.5), (1370, 8.111111115), (5344, 7.67391305173913)]), (23933, [(2001, 6.695726494470086), (685, 6.6819801064616655), (3697, 6.444444444444445), (1594, 6.43079889600552)]), (77809, [(4318, 8.198625825227134), (2504, 7.907428996054629), (590, 7.793212835764276), (2830, 7.555098910385677), (581, 7.554500505800907), (5096, 7.387096774193548), (1642, 7.387096774193548), (435, 7.17783751563182), (4679, 6.621285089051971), (5624, 3.9447891176347203)]), (163358, [(5801, 10.060202234441133), (2022, 9.353199403662574), (709, 9.133333333333333), (1622, 9.133333333333333), (552, 8.856573036113724), (5316, 8.472176315151515)]), (273465, [(1520, 10.128787855), (6643, 7.75)]), (102676, [(594, 9.666666666666666), (525, 9.666666666666666)]), (39773, [(93, 9.610146476892387), (4985, 9.2499999975), (781, 9.244209392660986), (101, 9.115384614230768), (326, 9.077380952123017), (752, 9.0)]), (141493, [(6484, 10.385865393428775), (1169, 9.930361301661812), (693, 9.51226824752576), (3159, 9.302399728234231), (1249, 9.182939810293117), (185, 9.141639127992704), (781, 8.908255859628444), (1269, 8.865248524371149), (1603, 8.835060916873372), (2888, 8.820512820512821)]), (136382, [(14, 8.05701753135965), (3893, 7.950956933985912), (158, 7.7059894038387), (13, 7.332515381444388), (1636, 7.184219233420989), (985, 7.015875511275506), (67, 7.009702076942573), (3389, 6.99606948243116), (3390, 6.385474220482245), (3963, 5.6050027153253)]), (72296, [(2258, 7.792441953256911), (617, 7.333333333333333), (2259, 7.275098420145562)]), (213839, [(4540, 8.842857139642856), (5102, 8.2), (1045, 7.775369459543513)]), (168954, [(542, 8.21840238918981), (1938, 8.1953985157144), (436, 8.080807119885847), (70, 7.950533172830452), (5671, 7.3434296358470394), (5923, 7.281825629326972), (1389, 5.430770377624718)]), (48025, [(4143, 9.018792548119999), (895, 8.406004865356788), (5294, 8.270218576818307), (5292, 8.058833010948028), (1064, 8.055622594701072), (2026, 7.97968069235329), (5020, 7.735296731461872), (5295, 7.721667858148017), (1590, 7.679742389294496), (1855, 7.639333022790906)]), (70415, [(4258, 9.392572929681698), (4989, 9.244249264819604), (3756, 9.104947514497752), (3972, 9.026272567044336), (801, 8.630477895488545), (268, 8.104947524497751), (957, 8.088679293528369), (2771, 7.931034482758621), (5602, 7.931034482758621), (5901, 7.931034482758621)]), (124852, [(541, 7.0), (411, 7.0)]), (245295, [(2840, 8.617615134294937), (2461, 8.598214280079564), (88, 8.434362932369693), (533, 8.40672789039298), (3519, 8.359577920458605), (622, 8.309914002118699), (503, 8.303238005469687), (2149, 8.035714285714286), (2879, 7.868826436518376), (461, 7.554363412386899)]), (52425, [(581, 7.640585803598376), (2672, 7.00000001)]), (254, [(465, 9.145631470071127), (338, 8.735111910445074), (464, 8.268518518179011), (483, 8.139318285468644), (461, 7.8686090966776625)]), (107453, [(4446, 9.735802470687242), (3904, 9.666666666666666), (2114, 9.55084147729468)]), (249140, [(954, 8.739583329609376), (4425, 7.964285707142857), (588, 7.25), (540, 6.410238280046961)]), (182993, [(879, 10.58088788400189), (6782, 9.95772629357727), (5021, 9.547549610546127), (2142, 9.344845719054172), (781, 9.230746209012683), (2919, 9.026574299485558), (1673, 8.905852723720356), (581, 8.866686485844033), (2912, 8.727625442719962), (2911, 8.695652173913043)]), (232990, [(1247, 7.903878893629723), (285, 7.780280099501544), (1212, 7.461636222125027), (1203, 7.379699342804855), (4156, 6.230755135024285)]), (111174, [(492, 8.55376027773061), (4071, 8.321293196425865), (61, 7.849804454301878), (4122, 7.695652173913044), (3373, 7.378785045175146), (1354, 6.3411929676659895)]), (170966, [(3643, 9.928571424285714), (3734, 9.5)]), (194676, [(1591, 7.102935344068667), (221, 7.060489414573066), (339, 6.603432699774164), (4502, 6.481481481481482), (4095, 6.41687895256573), (4958, 6.117906078189141), (6183, 4.9100529257671965)]), (245963, [(3273, 7.5), (1801, 7.5), (1576, 6.530769240461538)]), (205383, [(560, 8.384615384615385)]), (27684, [(3999, 9.357142850975134)]), (82407, [(1011, 8.52482134373233), (434, 7.414180112862764), (1083, 7.293209871111111), (6261, 6.75), (3473, 6.75), (3524, 6.75), (3232, 6.188803022216481), (614, 6.069378981004458), (1193, 5.834613806971801), (5814, 5.711538471923077)]), (31468, [(4410, 5.0), (4411, 5.0), (4407, 5.0)]), (35704, [(883, 8.60481475995928), (1126, 8.472610068251633), (4001, 8.357142857142858), (2518, 8.357142857142858), (2889, 7.795130188450931)]), (246000, [(2896, 6.776923086153846)]), (34300, [(879, 7.217783750601332), (3010, 7.0833333199999995), (4603, 7.04212453566392), (1242, 5.75690913124655), (4602, 5.75), (4607, 5.75)]), (174428, [(182, 8.005405381351352), (1179, 5.26326973309496)]), (107244, [(5675, 9.784939859631315), (84, 9.758781262355354), (1469, 9.4375), (5667, 9.23863636463068), (1091, 8.967206883982056)]), (79089, [(5757, 7.588669940566502), (4554, 6.857142855714286), (4106, 6.571428571428571), (3118, 6.571428571428571), (6269, 5.480521742600148)]), (224236, [(2743, 9.592105249736843), (4954, 8.4999999975)]), (170595, [(3013, 5.699999975000001), (376, 3.2), (2105, 3.2)]), (68128, [(6012, 9.333333322058934), (1486, 9.166666663492062), (907, 8.6377641731569), (6010, 8.515415893234048), (2689, 8.43730277778157), (61, 8.25905076342351), (4567, 8.214285714285714), (533, 7.950991511692088), (5463, 7.646892833097866), (1166, 7.465454635464562)]), (195904, [(341, 7.556805897568287), (4724, 7.321428565714285), (70, 7.171659948949835), (1179, 6.56914920094987), (1186, 6.411378652857491), (716, 5.85521964394853), (6162, 5.704545464999999)]), (37208, [(4810, 8.888888878871603), (391, 8.679700575935115), (1636, 8.324282795044542), (4805, 7.979797978886872), (4653, 7.888888888888889), (4802, 7.514786968665553), (4307, 7.457546857746738), (1587, 7.1405479288363205), (4808, 6.867149763562803), (2661, 6.555555562222223)]), (132392, [(235, 9.05227920236978), (592, 8.379942489486671), (777, 8.243746031544253), (3815, 7.664682542073412), (1808, 6.997837911210466)]), (31652, [(127, 5.666666666666667), (4416, 5.666666666666667), (4415, 5.666666666666667)]), (219974, [(6371, 6.4), (6140, 6.309327112348042)]), (230629, [(3643, 5.833333333333333)]), (137688, [(5456, 9.734204774509806), (5627, 8.757352932426471), (3657, 8.508823674340906), (3056, 8.488296353677732), (176, 8.305147057766545), (2431, 7.882352941176471), (525, 7.882352941176471), (277, 7.882352941176471), (214, 7.845461850179059)]), (103315, [(6, 7.311355311227106)]), (33980, [(4586, 7.927272729999999)]), (115435, [(1547, 9.836363623619206), (1127, 9.644318176505681), (805, 9.017819929427612), (2233, 8.822441236798557), (777, 8.324226953978975), (2932, 8.252067031804494), (6389, 8.22087891862663)]), (242849, [(445, 7.733333331), (4621, 7.5), (3181, 7.5)]), (75028, [(3518, 6.25), (124, 6.242111601767893)]), (90391, [(590, 8.126213678610082), (649, 7.592825581196233), (1577, 7.278220053616319), (2221, 7.2727272727272725), (5337, 6.272727282727272), (1339, 6.050500275398386), (1916, 5.197255595368782)]), (276680, [(405, 8.20695817718636), (2068, 8.106439961607435), (2194, 7.842290743725098), (124, 7.658248739475732), (1559, 6.431064919004815), (1651, 6.419761565581906), (3442, 6.369571317799228)]), (265751, [(192, 9.414580533208303), (606, 9.052083326145834), (1574, 8.701586792293744), (292, 7.802628359841311)]), (180348, [(6206, 7.66629091756073), (6521, 7.653846153846154), (1068, 7.0226265038591436), (5894, 6.653846163846154), (3845, 6.512806714627331), (6581, 6.487179498846155)]), (40511, [(4260, 7.4), (1576, 7.4)]), (14374, [(2764, 6.833333333333333), (1625, 6.833333333333333)]), (121264, [(569, 6.675333855608529), (1119, 6.541666657916667), (636, 5.729166666041667), (6057, 5.666666666666667), (634, 4.80378207706946)]), (84795, [(4145, 9.214285700000001), (2728, 8.022734065462547), (142, 7.955600018937606), (4544, 7.7857142957142855), (528, 7.261904767142857), (138, 7.191068824984031), (2278, 6.21428573), (6381, 5.294188887304333)]), (208568, [(842, 6.541737246004846), (4894, 6.090909090909091), (3180, 5.259264170128778)]), (83110, [(2249, 10.0), (2726, 10.0)]), (248280, [(4112, 7.303017023693056), (5444, 6.803033615324638), (723, 6.147252752945055)]), (97423, [(237, 6.270114941494254), (727, 6.166666666666667)]), (66789, [(377, 5.722004709170288), (4329, 5.713383836005892), (884, 5.0), (5968, 5.0), (157, 5.0)]), (8066, [(665, 7.626999314473933), (227, 7.4955270948159844), (1815, 7.25), (926, 7.050000002), (1630, 6.9961499862236805), (1576, 6.760784667983869), (1806, 3.3869047812202373)]), (91449, [(1526, 9.0)]), (168034, [(1883, 8.126240037465136), (6700, 7.5), (1445, 7.460001998401102), (1264, 6.336363647999999)]), (51803, [(8, 7.239812269212741), (5273, 7.117946709228057), (4535, 6.867968058319691), (5462, 6.5), (5464, 6.5), (4838, 6.0953873725981484)]), (265553, [(2840, 7.116773075119898), (3508, 6.714285714285714), (1289, 6.33363379826529), (1216, 5.209447012132489)]), (204457, [(1776, 9.728885195168736), (4820, 9.587179475641026), (1618, 9.56369949212358), (4821, 9.558333322083334), (70, 9.361198487411427), (1421, 9.024981570981153), (1821, 8.971266971206253), (592, 8.896593406151824), (6773, 8.433333333333334), (4059, 8.052380956190476)]), (65208, [(207, 8.88728069746345), (4003, 7.912769101200222), (5237, 7.6), (5204, 7.6), (1715, 7.309677422258064)]), (79977, [(546, 7.374378653056164), (3805, 7.090322577741936), (27, 6.8), (6285, 6.8), (532, 6.518064516692903)]), (126736, [(2712, 6.2039405103706855), (434, 5.888108016851756), (652, 5.850112379057627), (2158, 5.680364396275546), (169, 5.635274081214882), (1743, 5.492386379884923), (1094, 5.371511214513643), (6285, 5.294117647058823), (6801, 5.294117647058823), (2519, 5.294117647058823)]), (178079, [(335, 10.064053902570333), (136, 10.0), (737, 10.0), (4685, 9.14285715142857)]), (73681, [(192, 9.478342210338996), (480, 9.04373246997448), (2858, 8.89796275525824), (472, 8.828704875776213), (1858, 8.798132192975304), (2823, 8.616789557385697), (307, 8.48480534016866), (1433, 8.058716261894132), (5165, 7.98775257994855), (4581, 7.840902014139611)]), (105979, [(4873, 8.46313481637725), (3438, 8.395672624728459), (1428, 8.130620863371957), (3119, 7.764182579550869), (446, 7.653526364551515), (657, 7.5296837831514605), (124, 7.454798429718399), (4793, 7.306067460449377), (170, 7.248781765475031), (243, 7.199257751723975)]), (221948, [(2302, 9.217391294347827), (243, 7.984921748748492), (210, 7.584265289390947), (3368, 7.251664817287081), (1630, 7.154627857686856), (5223, 5.8423913280978255)]), (108799, [(2145, 9.146381574813596), (4623, 8.95753204076923), (794, 8.123589913307054), (4592, 8.05797960613226), (2574, 7.90625), (495, 7.90625), (6684, 7.90625), (2227, 7.90625), (5404, 7.90625), (442, 7.481911384204742)]), (227467, [(2625, 7.991516415035642), (5696, 7.225840333338586), (3210, 5.743589752820513)]), (213531, [(5206, 9.004564317496618), (6711, 7.850607664214386), (881, 7.835227388804307), (5528, 7.796883474591321), (578, 5.76754387881579)]), (212467, [(3208, 7.761963188854489), (424, 7.440079361378968), (1697, 6.7), (4334, 5.804166675625), (555, 5.2333333479999995)]), (44252, [(155, 9.817178555121203), (3384, 9.49487756041167), (5162, 9.333333333333334), (5165, 9.333333333333334), (3256, 8.684890852338338)]), (261603, [(397, 8.797444717064419), (2029, 8.693188743068758), (6907, 8.000000009999999), (694, 8.0), (2651, 7.769230771538462)]), (224435, [(7, 9.5), (2869, 9.5)]), (239161, [(1690, 7.458928564133929), (6179, 6.0)]), (131402, [(464, 9.832631561147368), (446, 8.788209669801729), (4462, 8.34418042367198), (1526, 8.052631578947368), (18, 7.775669093541309), (5052, 7.310696102495755)]), (169779, [(6893, 9.409888084908484), (259, 9.081811592855372), (2628, 8.840866674320758), (800, 8.443198040960679), (974, 8.439858967092652), (6613, 7.181159436811594)]), (151780, [(3626, 8.848484846666667), (2323, 8.666666666666666)]), (43910, [(4949, 9.838068946611571), (308, 8.790752877236272), (3663, 8.717953616368195), (665, 8.69875488894775), (5150, 7.752953167158655), (552, 7.524304352885676), (1658, 7.1904344645917035), (43, 7.0584741934799125), (4197, 6.34129339790277)]), (113966, [(5464, 5.0), (1589, 4.377777784)]), (52199, [(258, 9.11413043290761), (2806, 9.035407608411713), (5492, 8.739130444782608), (2540, 8.73913043478261), (3210, 8.094685996782609), (5489, 8.013958024615368), (1333, 6.941869031239364)]), (44535, [(581, 8.530067537333888), (3403, 7.714285714285714), (5173, 7.714285714285714)]), (143163, [(4992, 10.946808496170213), (581, 9.739239513375898), (501, 9.565197570043054), (6777, 9.5), (1379, 9.268749721984605), (1626, 9.239668907063043), (1690, 9.109104691907914), (2110, 5.758064553548387)]), (11601, [(2379, 8.391304347826088), (1706, 8.391304347826088), (2374, 8.391304347826088), (2380, 6.316880395064567), (2375, 5.502415487826087)]), (214138, [(220, 8.451533855850784), (2839, 8.255639092030075), (6173, 8.073730233372023), (829, 8.011493241778243), (224, 7.883592588953442), (219, 7.855506882932458), (1615, 7.401228987079706), (1099, 7.378376947694966), (297, 6.398524581891806)]), (188696, [(540, 7.953694802560677), (6599, 7.7272727272727275)]), (149483, [(183, 9.429536504828196), (3064, 9.302165568497442)]), (11944, [(481, 8.82129793139808), (707, 7.226309432159798)]), (179730, [(6358, 8.681818166818182), (1132, 8.104895095664336), (620, 8.097632907163504), (1160, 7.766461376258467), (825, 7.726036385911735)]), (61211, [(746, 7.839506161111111), (5828, 6.666666666666667)]), (107301, [(2204, 10.522441802505345), (2444, 9.946212113753788), (801, 8.833673064916287), (258, 8.791447987969311), (259, 8.555772758517213), (3619, 8.553627293428601), (2915, 8.454545454545455), (287, 8.43040131046167), (630, 7.725378791524621), (6417, 6.9545454695454545)]), (135609, [(5182, 7.0), (6035, 7.0), (5859, 7.0), (4597, 6.269230776538461), (1808, 5.32468470761577)]), (173481, [(1820, 9.305114613015874), (170, 7.205623078811894), (4236, 6.761904761904762), (4339, 6.761904761904762), (3250, 6.761904761904762), (160, 6.4128518374486), (3180, 6.39863064414483), (662, 6.292373872861457), (712, 5.832106978688344)]), (124597, [(1010, 9.499356472728646), (6245, 7.704761896761906), (2385, 7.422289336118452), (2652, 7.366300361684982), (3179, 7.363095233511906), (352, 7.253858224671855), (981, 7.105157636398966), (4287, 6.003659732896309), (6730, 5.628366048999887)]), (164096, [(4424, 7.578947368421052), (4669, 6.681169595132163), (66, 6.126459949461865)]), (20147, [(2193, 7.530521429419693)]), (98930, [(410, 9.100730352968737)]), (231993, [(1347, 6.545454545454546)]), (178199, [(1631, 8.148272056572022), (3119, 7.876082874416044), (2815, 7.583333333333333), (407, 7.467649899379628), (1577, 7.419212639540881), (2304, 7.227113601161806), (4939, 7.174501429197531), (1263, 7.0922619059895835), (5121, 6.979853482870879)]), (87302, [(1401, 10.0), (4440, 9.5200000048)]), (94023, [(5741, 9.136363625000001), (3089, 7.884615385770828), (4847, 7.441860470697674)]), (218721, [(4235, 7.366666664666667)]), (278418, [(365, 7.452380947857143), (356, 7.121951218292682), (371, 7.0), (375, 7.0), (370, 7.0), (374, 7.0), (265, 6.473551410427029), (358, 5.600000013999999)]), (194600, [(4728, 8.506410243076925), (4675, 8.048076914326924), (2358, 7.480769227692308), (2357, 7.480238756171464), (287, 7.4211708391198234), (4443, 7.26579670120571), (1330, 7.164346423293985), (896, 7.162937352877944), (3437, 7.1357683228430115), (3032, 7.0589987192040695)]), (200252, [(2489, 9.894736823157896), (223, 8.0)]), (99314, [(4027, 9.884057948840582), (3563, 7.666666666666667)]), (87155, [(5071, 9.5), (3792, 9.5)]), (13273, [(2678, 8.879999991200002), (2666, 8.711278835966866), (206, 8.696013959122942), (156, 8.659131053896047), (2669, 8.208022402948389), (2659, 8.088575246751008), (314, 7.869559957430495), (140, 7.764278157412404), (2376, 7.735966554960429), (2656, 6.8479491753349615)]), (184465, [(1127, 8.12307691996154), (6913, 7.5)]), (140080, [(20, 9.75)]), (90322, [(149, 8.392857141428571), (4284, 8.25), (2173, 7.261904766845238)]), (108763, [(1083, 9.293209871111111)]), (106007, [(6145, 10.087619804882152), (1988, 9.904166651166667), (1129, 9.647712094814166), (390, 9.626893926666666), (901, 9.280905839148241), (4987, 9.187499991666666), (1984, 9.10064699544134), (1415, 8.763257571523457), (3325, 8.679984243045844), (5948, 8.354166666666666)]), (197997, [(854, 7.5267755638196485), (848, 7.238182783877488)]), (114868, [(3447, 8.917409246061279), (695, 8.257036555197686), (446, 8.02336956493334), (1249, 7.845227636984255), (971, 7.74335676438338), (1783, 7.62507292458696), (388, 7.471657426605317), (1660, 7.465471224248981), (1743, 7.440758697437749), (3486, 7.4232108760199225)]), (95010, [(5250, 8.357692292115384), (6418, 7.063157893421053), (6538, 6.8), (6537, 6.8), (1891, 6.8), (946, 6.8)]), (31860, [(4432, 5.6589147454263555)]), (213369, [(2245, 6.333333333333333), (1708, 4.958333345208333)]), (48046, [(1812, 9.159313800379145), (946, 8.719382587688512), (1663, 8.464462962223429), (1749, 8.319071326568103), (5301, 8.038461548461537), (2005, 7.862202097154268), (2040, 7.687438816282974), (1788, 7.308428220022461), (1902, 6.02175438555275)]), (76223, [(88, 9.269977433143795), (4839, 9.13628532349418), (3056, 8.95132464679653), (397, 8.776470240010235), (1401, 8.753562923090001), (782, 8.659399056385691), (1702, 8.331698371973303), (6159, 8.329066283344984), (8, 8.107501563835974), (4848, 8.10344827586207)]), (45340, [(276, 9.142857142857142)]), (138097, [(4545, 10.772727249999999), (2957, 8.907512236748005), (3942, 8.5), (6238, 8.5), (6223, 8.5), (3210, 5.27777781)]), (160571, [(2202, 9.164054150071136), (157, 8.883453028676854), (1939, 8.730726892004276), (684, 8.028040176221518), (182, 7.759503285268728), (1578, 7.74541706678575)]), (111947, [(4280, 10.417840354741784), (3049, 9.146314103031651), (1104, 8.518537530913527), (5405, 8.333333333333334)]), (227705, [(974, 8.32698743188929), (2875, 8.114098036276712), (1490, 7.951252404333043), (3618, 7.915492957746479), (3073, 7.895668316674603), (5283, 7.743227903975501), (4674, 7.589840224855566), (4675, 7.292222604472106), (5287, 7.160044281488771), (181, 7.147322120491089)]), (244995, [(3914, 7.3666666649999994), (6017, 7.2), (5588, 7.2)]), (8454, [(535, 8.908557050666554), (1952, 8.521473052779394), (1935, 8.479166664479166), (1947, 8.231217144914407), (457, 8.066929783106824), (1953, 8.041666666666666), (1959, 7.858729669115617), (449, 7.512174981523894), (1253, 7.308627465811576)]), (109461, [(2459, 8.666029618451983), (5815, 7.846153846153846), (5828, 7.846153846153846), (1433, 7.297969533255769), (6346, 6.832716001277026)]), (207860, [(3842, 8.540302530365414), (3325, 7.770044498550482)]), (128696, [(448, 9.671638650584502), (4797, 9.373886369308918), (5098, 9.333333322083334), (6268, 8.88344853733103), (3083, 8.621230653932423), (1152, 8.617093739346368), (701, 8.208333333333334), (4784, 8.208333333333334), (460, 7.528630130324418), (4398, 7.421721769464461)]), (244056, [(3705, 8.482922577291511)]), (21484, [(2923, 9.213815774210527), (1632, 9.08557910143899), (901, 8.346347529990982)]), (8870, [(1289, 7.432434419652524), (1193, 7.291661700893734), (2024, 6.666666666666667), (2023, 6.3352490438026825), (347, 4.021978035201466)]), (132290, [(6806, 10.163793089310346), (1428, 9.486842097894737), (5133, 8.75)]), (87555, [(183, 9.217174468568892), (3380, 9.039314953645004), (4285, 8.980861238755981), (1225, 8.605618478985138), (1746, 8.454545454545455), (4548, 8.454545454545455), (883, 8.444775309931403), (503, 8.302360671745218), (409, 7.625873727045655), (3764, 7.486322216060636)]), (251527, [(3156, 11.249999974166666), (124, 9.665514323318783)]), (119963, [(259, 5.0), (715, 3.985699157613877)]), (126814, [(1323, 7.638257232091439), (2422, 6.69267435845075), (1368, 6.575108224191198), (2038, 6.271202075280001), (2420, 5.732864166918153), (2418, 5.4562054164971405)]), (255814, [(310, 8.181818181818182)]), (48355, [(5314, 9.877777772444446), (5311, 8.277777777777779), (5308, 8.277777777777779), (3605, 6.852245877139481), (3870, 5.306060615966331)]), (242843, [(2870, 8.322448968367349)]), (63394, [(5881, 9.286738340609318), (5882, 8.56354273373589), (1160, 8.31247255130215), (5022, 8.222222222222221), (4332, 8.222222222222221), (4573, 8.052709699162081), (72, 7.309106157596991)]), (179019, [(1261, 7.866841863372461), (3501, 7.845959587777778), (344, 7.713870086312616), (2191, 6.991648675833542), (6505, 6.957264957617522), (2724, 6.826425354919457), (3616, 4.636688512862216)]), (32122, [(4448, 9.279527515069955), (4445, 9.163485381433533), (1603, 9.159725100178537), (4447, 9.1328341407078), (2541, 8.978076323491257)]), (105374, [(501, 9.315140414312168), (3467, 9.313161987536994), (622, 9.244015117788532), (592, 8.466023996182765), (1365, 8.066666666666666), (2949, 8.066666666666666), (1086, 7.882558214084326), (2402, 7.816666669166667)]), (268932, [(152, 8.235217015423297), (2836, 8.230488814591963), (6678, 8.128571428285714), (4575, 8.1), (4232, 8.1), (1824, 8.1), (653, 7.951462494333087), (68, 7.508883385866357), (721, 7.2395747252466425), (4107, 5.600000029501163)]), (234597, [(1366, 10.006762393501605), (6746, 9.920454534262873), (2456, 9.664502156645021), (5112, 9.051627383232324), (4632, 8.878787878787879), (1265, 8.878787878787879), (6913, 8.878787878787879), (3753, 8.574712644691745)]), (98787, [(6062, 8.741935473870969), (886, 8.332146032195633), (600, 8.148540067289755), (3308, 8.137768813245968), (4064, 8.099078337442288), (258, 7.990110016772164), (207, 7.948153002610747), (4074, 7.783602150120968), (308, 7.703437357881872), (3205, 7.350993674877459)]), (28177, [(308, 8.806001000718464), (3612, 8.648327696795592), (715, 7.906650374951107), (486, 7.559463199310003), (653, 7.516023398801241), (4054, 7.38392238905752)]), (141901, [(446, 9.292240407356877), (2193, 8.350877239076066), (4016, 8.15619967942029), (3306, 7.981830098235538), (2174, 7.478706804574137), (903, 7.016214791420783)]), (210685, [(3674, 7.569264063560606), (2821, 6.428571428571429), (2714, 6.428571428571429), (4593, 6.428571428571429), (3325, 6.246595347074972), (196, 5.428571438571429)]), (179433, [(5825, 8.74621211), (3135, 8.500344729569774), (391, 8.106078078125316), (1636, 7.78023017119011), (728, 7.708049424779172), (5275, 7.625)]), (181223, [(590, 9.0152361121842), (1996, 8.333333333333334), (4256, 8.333333333333334), (3049, 8.333333333333334)]), (95506, [(2554, 8.759408062673023), (1816, 8.7426713388009), (6160, 8.142857142857142), (3018, 6.003699424792718)]), (127826, [(5815, 9.892241372435345), (784, 8.425814739856676), (1700, 8.060781931752059), (1928, 7.945956785672097), (971, 7.673797073216402), (281, 7.517241379310345), (1777, 7.140871019779258), (218, 7.0473849206514245), (77, 6.799088882784145), (2746, 6.776500645977012)]), (149934, [(4100, 7.6083333287500015), (647, 7.15), (2020, 7.15), (3807, 7.03321673716856), (1928, 6.974009324889278), (6455, 6.954347828043479), (1027, 6.661270494246926), (905, 6.230930311024036), (5062, 6.032352952352942), (1626, 4.967126538344587)]), (142584, [(3973, 8.907786915067065), (2064, 8.533905633382924), (4051, 7.734756132775596)]), (73394, [(5040, 9.362601617723579), (183, 9.318165974102762), (2755, 8.533333333333333), (5295, 8.533333333333333), (3128, 8.442750831295715), (4277, 8.10924329643279), (5526, 8.020512825641026)]), (219924, [(581, 7.0743764757665195), (2956, 6.701294052847992), (4561, 6.574898012193211)]), (210485, [(3418, 9.438547592057487), (3539, 9.157803633341253), (4418, 9.040277774101853), (2504, 8.823813789138606), (2524, 8.726338922065574), (5646, 8.555742734991666), (4463, 8.544556078965108), (314, 8.215951342847404), (6818, 8.169649329034556), (981, 8.1104432892233)]), (226879, [(2119, 9.58077787707767), (5132, 8.484814812390741), (3973, 8.1977343255342), (2096, 8.130632906017846), (2706, 7.68058885723812), (6727, 7.228571436285714), (5806, 7.00000001)]), (163319, [(6439, 7.357142857142857), (5861, 6.511195709987267), (5058, 4.800000012785714)]), (211919, [(4332, 9.653146845108392), (463, 9.490908395854053), (597, 8.47009301275107), (1626, 7.2816960823904076)]), (258938, [(4285, 8.699510239225077), (5454, 8.483333319333333), (133, 7.678245159808879), (657, 7.56637102457845), (781, 7.5062389737950665), (2919, 7.480986079246362), (1027, 6.914594236566946), (708, 6.869063352995745), (552, 6.626558716230762), (5156, 6.483333339333333)]), (68436, [(2370, 10.095441586445869), (1702, 9.843145522793847), (2297, 9.344449922504843), (1126, 9.316937068671535), (4733, 8.656187800804373), (6023, 8.296296296296296), (1263, 7.582010589161928)]), (168216, [(1091, 9.140825610830623), (139, 8.454545454545455), (2147, 8.454545454545455)]), (245410, [(786, 9.86544482449654), (283, 9.087662331769481), (835, 8.667037428820501), (2262, 8.464572587184298), (2258, 8.369755411154747), (3388, 8.190966363888627), (393, 8.184533889216567), (1328, 8.18280980541797), (1161, 8.118154778699468), (4992, 8.085731180001)]), (59504, [(5782, 7.684892449348329), (868, 6.5970282299757095)]), (50073, [(809, 8.992361110192709), (3224, 8.625), (288, 7.923595925589428), (995, 7.633936221644463)]), (67591, [(5789, 10.250836099632108), (693, 8.882844615162185), (715, 8.637529625986785), (1941, 7.449801733318589), (1186, 7.342208449770938), (4827, 6.923913055978261)]), (162155, [(1631, 7.552380949111111), (6454, 7.37515663758537), (2373, 6.571428571428571), (3748, 6.571428571428571), (1157, 6.571428571428571)]), (81597, [(4035, 8.388517663155671), (2876, 8.27675727708201), (1924, 8.194961574941882), (2697, 8.169232514123522), (5501, 8.139085724700925), (5181, 8.067350396175637), (1106, 8.029541241783873), (5758, 8.026086954484725), (1296, 7.960623577656431), (151, 7.788561485643082)]), (58351, [(777, 7.44874999775625), (4604, 7.0)]), (159946, [(1033, 7.25), (590, 7.1100000013999995)]), (247429, [(183, 10.476096875162085), (1036, 10.331114913949673), (2999, 10.18181818), (913, 10.0), (2925, 10.0), (2926, 10.0)]), (49225, [(5349, 10.280201807544293), (3977, 9.72447778663519), (537, 9.70258356368374), (3049, 9.122881578887954), (4136, 8.8), (3397, 8.478509951616026), (2556, 8.293162394851853)]), (104243, [(3235, 9.242424219090909), (3060, 7.709090901090909), (161, 5.538555201657873), (20, 1.7807321710040354)]), (252820, [(3979, 7.359380842780039), (1935, 7.227272722272728), (6671, 7.227272722272728), (5143, 7.146530234567186), (2836, 7.101644299318232), (1084, 6.957941464945716), (6123, 6.890909090090909), (785, 6.7272727272727275), (3678, 6.7272727272727275), (645, 6.208409265864853)]), (229742, [(4436, 8.5), (685, 8.375138427732589)]), (143011, [(3055, 6.5), (1164, 6.5)]), (97290, [(391, 10.533101523954915), (6216, 9.545454545454545), (5460, 9.545454545454545)]), (46145, [(2208, 11.292727266263636), (4443, 10.0), (1290, 10.0)]), (223066, [(2439, 6.25)]), (270605, [(2982, 7.416666658775647), (657, 7.3835826446582855), (5653, 7.30952380452381), (2357, 7.063359802614228), (486, 6.241720647289436), (5593, 6.172991850371061), (4794, 5.821260721726928)]), (43687, [(1434, 8.581304477552713), (1225, 8.391828291215013), (1519, 8.177730778783697), (2857, 8.094801782215377), (404, 8.061259763716878), (274, 7.895414357709855), (5140, 7.764705882352941), (4583, 7.764705882352941), (1068, 7.706747357215947)]), (91184, [(2530, 8.291556137856984), (339, 7.804034639723482), (64, 7.692552839306966), (4223, 7.397709562069911), (6481, 5.8582228166903185)]), (245157, [(3092, 9.166734855682138), (2374, 8.666666666666666)]), (272225, [(3406, 8.12839058890307), (1379, 7.747425992955865), (5306, 7.585664992401151), (3039, 7.088748562781557)]), (247240, [(192, 8.501239351705923), (70, 8.169941973574085), (405, 8.159351981559881), (50, 8.07796781107287), (693, 7.999288190522487), (2317, 7.998243578794968), (590, 7.851736761962152), (581, 7.55749607059703), (1315, 7.496183550888143), (1205, 7.050595712645393)]), (235842, [(413, 7.135338351654136)]), (135045, [(2974, 10.29262033316289), (5749, 10.043697463697479), (5472, 10.027799212664092), (434, 9.411376836661404), (6147, 9.31314225914798), (1636, 8.949396181694619), (169, 8.819153603570902), (3941, 8.649372699983273), (1680, 8.644108912488912), (2632, 8.613744846976559)]), (66878, [(588, 9.826271687375248), (1737, 8.570177968883437), (5970, 8.18181819181818), (442, 7.371409561610921), (501, 7.177680155392224), (5971, 5.753246777532467)]), (276231, [(2043, 6.800201959890691), (2080, 6.482763598862587), (532, 6.396111180505322), (450, 6.368839263782692), (1708, 5.376105948268373), (4921, 5.237772266872162), (161, 4.855270744179867)]), (53174, [(1702, 9.921835768883378), (50, 9.825122272802153), (589, 9.723096942379382), (135, 9.702348451953632), (70, 9.638869480778979), (3903, 9.286801026293679), (552, 8.612074244119334), (1626, 8.385877395636088), (1295, 8.15548026550888)]), (72601, [(5872, 10.10308971872648), (6102, 7.629937601931275)]), (255618, [(50, 7.841800356068405), (1027, 7.666666666666667)]), (218568, [(5365, 10.176645206625434), (4569, 9.47630888271637), (730, 8.975473711465032), (2912, 8.951350115896782), (381, 8.501922977266624), (607, 8.325581405348837), (981, 8.079145901790172)]), (78841, [(1901, 4.773249207186648), (1190, 4.718977657433674)]), (151104, [(165, 8.214601227326774), (493, 8.076923076923077), (160, 7.9312307554157595)]), (243491, [(124, 6.7839804355013875), (70, 6.554268691249274)]), (6238, [(1143, 8.791352987307857), (1436, 8.779220777792208), (1434, 8.636363636363637), (1431, 8.636363636363637), (1429, 8.074700910743397), (1435, 7.459893059893048)]), (222152, [(4324, 7.5), (2917, 6.564516138387097)]), (39705, [(4564, 8.333333333333334), (4176, 8.333333333333334), (1139, 8.333333333333334)]), (20172, [(70, 9.223242232584598), (862, 8.066000790956744)]), (49262, [(611, 8.618959343036947)]), (115503, [(1045, 8.90993203786417), (5237, 8.833333333333334)]), (148586, [(6880, 8.0), (208, 8.0), (3780, 8.0), (1859, 7.059523818928571)]), (17894, [(3183, 9.878947357612928), (1052, 9.713793094297698), (971, 9.291570255548718)]), (110483, [(4638, 10.81118878846154), (222, 9.731443982672065), (1539, 9.58012819471154), (3173, 9.507868623241812), (2399, 9.47179486246154), (922, 9.00246099326801), (1160, 8.95012411215897), (2385, 8.651095939772894), (3383, 7.93900474168498), (5752, 7.871794878461539)]), (243929, [(192, 7.077328881069769), (5299, 6.375), (54, 6.289224557956848)]), (88738, [(733, 10.356456033445706), (3326, 9.321171151099323), (1920, 9.3125), (3334, 9.080505671994738)]), (270838, [(5402, 10.4999999925), (3046, 10.442307685384616), (6908, 10.099928955923653), (1405, 9.850206337696083), (177, 9.75), (4973, 9.75), (2312, 9.75)]), (14521, [(432, 8.02150564869658), (1851, 7.683686788488411), (517, 7.595878694306361), (643, 7.530616335532564), (2823, 7.4262456627206666), (2815, 7.421052631578948), (2818, 7.421052631578948), (2822, 7.421052631578948), (761, 7.421052631578948), (2821, 5.865726820930922)]), (112953, [(1153, 9.633333321666667), (6746, 9.508333322916668), (1171, 9.506858744235823), (2713, 7.093160706044261)]), (127432, [(1329, 10.031075766740836), (267, 9.783452141324352), (1636, 9.779392611816144)]), (38556, [(4191, 5.89958591537267), (2653, 5.304347826086956), (4685, 5.092549675049288), (3070, 3.8801054160869564)]), (39646, [(1803, 8.589973563374585), (3419, 7.984875772551156), (169, 7.358069948430662), (4980, 6.46955664280486)]), (74571, [(4959, 8.333333333333334), (597, 8.333333333333334)]), (62966, [(5687, 8.356791152922582), (1659, 8.319222509564147), (3598, 8.109695373705218), (5186, 6.596532246678084), (1648, 5.678303164918678)]), (35050, [(3092, 8.956384709031344), (1011, 8.84287802511856), (4643, 8.659793222963964), (4641, 7.857142857142857), (4642, 7.857142857142857)]), (183347, [(5620, 8.642628194086537), (165, 7.9999999953846155), (2068, 7.538461538461538)]), (252654, [(2717, 6.857142857142857), (5410, 6.857142857142857)]), (203280, [(3176, 8.307241287828088), (110, 8.0), (6823, 8.0)]), (188273, [(235, 10.279075030381135), (1776, 10.243601175434863), (6359, 9.757660312962193), (3860, 9.602052272052834), (1328, 9.26066218397328), (1172, 9.140440363729866), (327, 8.947368421052632), (4820, 8.947368421052632), (2781, 7.581514776394881)]), (5539, [(1068, 8.498892462873085), (1323, 8.4), (1120, 8.197981509899728)]), (208406, [(2882, 10.59706957514652), (341, 9.395766917433098), (2634, 9.25703911166361), (4555, 9.009645131005135), (3064, 8.66638127986814), (3989, 8.404761904761905), (2529, 8.404761904761905), (17, 8.271396565838522)]), (102705, [(6031, 8.714285714285714), (3793, 8.714285714285714), (3998, 7.543995865064698)]), (174034, [(2628, 7.71876727350889), (892, 7.7148367473849895), (3257, 7.6)]), (268030, [(941, 8.229546246425226), (490, 8.06611091222317), (6603, 7.987698782019549), (6444, 7.895770771118202), (1956, 7.678946931952902), (6854, 6.714285727657344)]), (213972, [(2080, 5.531436551074346)]), (98320, [(2346, 5.833039575017445)]), (139575, [(3610, 7.692307705384614)]), (247855, [(410, 9.036354711485888), (4755, 8.666666666666666), (409, 8.525727590001463)]), (184401, [(3266, 8.292307680384615), (185, 7.294162721913079), (5661, 7.1), (2350, 7.1), (3427, 7.1), (740, 7.1), (4156, 4.454838736129032), (184, 4.266666695)]), (109403, [(6709, 7.75)]), (206438, [(2955, 10.14672227326372), (5246, 8.009391214757109)]), (16121, [(2987, 4.571428571428571), (2990, 4.571428571428571), (2988, 3.2430703757569286)]), (71662, [(5302, 6.0)]), (7158, [(1697, 8.831578935368421), (1692, 8.393022339342398), (657, 8.170459198899373), (1626, 7.984939285758175), (1691, 7.898686765005278), (409, 7.774848942480522), (1680, 7.739383183146639), (1682, 7.631578947368421), (1693, 7.631578947368421), (1690, 7.415396602413514)]), (148590, [(1503, 9.377555926608963), (3846, 9.35124983640387), (292, 7.543576057688946), (2701, 6.8950585513516485), (3252, 6.479597706439655)]), (171968, [(580, 10.72173873554594), (818, 10.489486353416474), (4905, 9.0), (3475, 9.0), (895, 7.888571434128571)]), (172512, [(124, 9.417282440122728), (451, 9.271886715535793), (536, 9.123377944868356), (3598, 8.778709092233754)]), (247852, [(1947, 9.347014918429727), (6873, 8.492848256033893), (2278, 8.137803141960447), (6465, 7.958333333333333), (4663, 7.958333333333333), (2765, 7.958333333333333)]), (102647, [(934, 8.485087762577654), (6471, 8.31016730111969), (472, 7.922009277095429), (2426, 7.647803395629721), (170, 7.527943849437723), (1459, 7.396836318828472), (4954, 6.992712755573341), (1049, 6.761789692901018), (1617, 6.50607692412201), (2344, 5.922072079488738)]), (168816, [(4280, 9.272727253636363), (124, 7.942933892953405), (1203, 7.572209317548061), (624, 7.163636365636364), (227, 7.044410793528977), (2460, 6.347152852235265)]), (127168, [(613, 7.25), (925, 7.25), (3939, 7.25)]), (40330, [(1066, 8.522138676388193), (774, 8.02676698977974), (72, 7.863958597857814)]), (181452, [(800, 7.777066834505981), (776, 7.601503973299188)]), (244662, [(5096, 8.5), (3858, 8.5), (1115, 7.063508071698589), (1495, 6.878787895)]), (95921, [(5589, 8.774038448384328), (559, 7.461538461538462), (379, 6.788147924770746)]), (93046, [(3553, 9.111111101111112), (1946, 8.986111102328092), (2219, 8.21346025883549)]), (163302, [(7, 8.0), (3766, 4.662878804564393)]), (228998, [(2690, 8.298455594820464), (4940, 7.571428571428571), (3258, 7.571428571428571), (6530, 7.571428571428571), (1795, 7.571428571428571), (72, 7.527190374359158), (1536, 7.404115737622254), (4941, 6.905590542360655)]), (264543, [(3553, 9.663817646303134), (2656, 8.307692303846155), (5560, 8.010033443934494), (552, 7.644213365726867), (1523, 7.369498284092469), (2701, 7.1154876331070405), (1812, 6.6925478266495855), (5670, 2.9920424896286466)]), (245645, [(1817, 11.07278090561225), (2961, 9.923508006384813), (2928, 9.538461538461538), (1602, 9.231656208399627), (1564, 9.04050624926488), (3690, 9.018099550113122)]), (136313, [(2545, 7.925925943333333)]), (152645, [(748, 7.16169385961642), (1981, 7.0884615329615395), (469, 7.045858226437254), (3125, 6.538461538461538), (183, 6.45751796809845), (1396, 5.6861888154501745)]), (166828, [(5752, 8.666666666666666), (2500, 8.482371795486111), (2501, 7.447916672760416)]), (88389, [(5318, 8.586538446923077), (3612, 7.223484847992425), (1626, 7.150208729567136), (4979, 4.772058847058823)]), (250006, [(41, 6.212871608863378), (1144, 6.0)]), (101606, [(1414, 9.387894402094734), (6623, 9.31001953472401), (5531, 8.878881978847582), (3014, 8.188405796268116), (1089, 8.158854107503627), (3502, 8.110628022360709), (2851, 8.021739130434783), (2532, 8.004101776514634), (999, 7.882073514322469), (1603, 7.867344082311246)]), (203764, [(3734, 10.080808076363637), (974, 9.96729020404908), (84, 9.752819778520502), (2063, 9.161625558168549), (702, 7.903863645026137), (5457, 5.9122257425705325)]), (144828, [(85, 7.759202970271587), (3029, 7.25), (4729, 7.25), (486, 7.188024786354634)]), (104812, [(901, 9.869047596190477), (774, 8.914236109447483)]), (205426, [(3144, 7.5)]), (266650, [(2579, 8.218181814181818), (924, 7.818181828181818), (5404, 6.122529661225296)]), (203844, [(4315, 9.0)]), (108700, [(403, 9.0), (5668, 9.0)]), (264031, [(1845, 9.51666665620701), (220, 9.150294700524912), (124, 9.048144658875607), (425, 8.77801532207014), (605, 8.51831674714469), (486, 8.442566257540742), (6849, 8.398022600056498), (6456, 8.350548255351852), (1302, 8.318591952103974), (6075, 8.231642043391341)]), (196891, [(4433, 9.270833329756945), (2311, 9.151715470537573), (4429, 9.111111105555555), (6895, 9.070707065555556), (4078, 8.555555555555555)]), (263078, [(926, 8.77241378137931)]), (166123, [(4644, 10.60465114276693), (4733, 9.604651152790698), (2536, 9.537984486790698), (183, 9.174592678574566), (2126, 9.04821115502901), (4389, 8.954891014868865), (6471, 8.604651162790697), (5366, 8.604651162790697), (6116, 8.604651162790697), (5172, 8.604651162790697)]), (177349, [(6711, 7.857142867142857), (601, 7.418370947960523)]), (7082, [(1641, 7.16666666), (1636, 6.778342166650254), (59, 6.674068576295264), (1354, 6.5), (1634, 5.607919257631988)]), (143211, [(4919, 9.058651445645761), (3289, 8.79129463890067), (981, 8.567718421909643), (4397, 8.0499999995), (4253, 8.0), (1397, 7.3292949524647195)]), (75787, [(6198, 7.5), (2552, 7.5), (2718, 7.5)]), (91103, [(2850, 7.448995539390609), (1616, 7.068666117666395), (293, 7.015277776701389), (1422, 6.685151684078215), (2354, 6.676344228227819), (935, 5.35152462257458)]), (44296, [(101, 8.833333333333334), (2996, 8.833333333333334)]), (8067, [(1840, 9.817754351260492), (1837, 9.545991062327788), (1836, 9.466238237394109), (1820, 9.283903874227306), (59, 9.205389280514822), (1829, 8.978260869565217), (1839, 8.915689968203978), (1823, 8.530126913509255), (1826, 8.498175484973604), (1744, 7.9958511145498266)]), (174726, [(6384, 6.588235294117647), (1625, 5.991561949541433), (5461, 5.650735303565605)]), (130658, [(3910, 6.181818166666668), (1065, 2.5000000216666662)]), (264082, [(4035, 7.4345238063988095), (6334, 7.170634918829365), (4323, 7.009288330885262), (219, 6.990413618712744), (2483, 6.891625578185053), (353, 6.809523819523809), (2107, 6.684523810773809), (3965, 6.671079329287129), (3296, 5.939958600828157)]), (3827, [(1011, 9.9105823275321), (1126, 9.54009638780008), (274, 8.735679127774723), (1121, 8.540942924168734), (54, 8.519552670277145), (1134, 8.202626641163226), (1116, 8.153846153846153), (1125, 7.987179488849035), (1107, 7.542735048846153), (1122, 7.540942934168734)]), (241980, [(1520, 11.117202527524125), (2103, 10.271332027189693), (1522, 10.185589053039285), (2233, 10.154959378950188), (1468, 10.089816628435917), (394, 10.04998250718971), (1329, 10.00182809704371), (910, 9.959291577098414), (3660, 9.767503343786828), (1636, 9.75602958168535)]), (135043, [(5076, 10.133333331000001), (31, 9.9), (1960, 9.433333338), (4162, 7.630952392297619)]), (107109, [(3365, 5.25)]), (55751, [(3415, 6.374086193644805), (3113, 6.3153846083846155), (2679, 5.483805673674088), (412, 5.0710121325472945), (3442, 4.648074385263685)]), (247241, [(6704, 7.794944867771206), (2160, 7.638752048052448), (4082, 7.33187379589413), (1838, 7.286789527485664), (1823, 7.07149223385186), (2311, 6.959706960860806)]), (110912, [(1671, 10.233626403488236), (2557, 9.99937521541066), (352, 9.921874989874768), (1056, 9.624512893230621), (1731, 9.529183861099867), (127, 9.513304010392426), (50, 9.503740681480124), (581, 9.479483291809462), (2573, 9.467009239089917), (781, 9.011616536868905)]), (19711, [(450, 7.875245376884144), (3331, 7.2727272727272725), (3324, 7.2727272727272725), (2418, 6.612195314397085), (3322, 6.501530296688736), (3328, 6.36575053807611), (3325, 6.331666551344507)]), (55493, [(246, 7.836281336638684), (5650, 7.75), (877, 7.674528302659072), (608, 7.535608466144445), (1058, 7.510406709581361), (3745, 7.486778847469952), (3202, 6.2213884675563245)]), (30273, [(1532, 8.026785707142857), (4231, 7.460040982126033), (4230, 7.3125), (4234, 7.22159091), (1208, 6.755357148428572), (1300, 6.310080982758993), (1744, 4.542536864270065)]), (273344, [(4737, 9.307692307692308), (2683, 8.762237767692309)]), (243328, [(2396, 8.589541998467096), (496, 8.368071780675765)]), (13664, [(2726, 6.166666666666667), (2727, 6.166666666666667), (2080, 4.760632190938219), (2725, 4.375498581469136)]), (187065, [(624, 6.935276572934788), (3695, 6.594098845053416), (279, 5.74996316093965), (4736, 5.684210526315789), (6301, 5.684210526315789), (2717, 4.97966507881579), (1193, 3.8545042033951864)]), (122793, [(1172, 9.839644019900941), (1447, 9.202849328388856), (4288, 9.127551017908162), (1506, 8.892329196494503), (285, 8.8571306918403), (1691, 8.856763019698429), (3303, 8.603860403769218), (4685, 8.574376418244142), (246, 8.510543659765622), (3906, 6.646408790184563)]), (153174, [(1308, 9.407739305769896), (2726, 8.923563136248315), (6246, 7.428571438584101)]), (229922, [(1379, 10.208695645130435), (1743, 8.855975308530025), (3935, 8.530158734391536)]), (266283, [(1577, 9.173650635061719), (3232, 8.726611828887318), (1592, 8.57839087005474), (4936, 8.541666666666666), (6280, 8.541666666666666), (4398, 7.745347274229488), (4165, 7.527930407999084)]), (254465, [(6910, 10.942179621445487), (3447, 10.807582160726515), (6118, 10.222222215528063), (4448, 9.836658700645271), (6137, 9.799370355120123), (51, 9.760942597573566), (763, 9.669644479099384), (669, 9.555788484765369), (2109, 9.084426904968172), (5836, 8.45210509526092)]), (158034, [(2813, 7.222222213333334), (803, 4.500000018333333), (755, 3.462962991666666)]), (158226, [(1222, 8.930541863697044), (5168, 8.392066476462304), (4099, 8.146091804590347), (70, 8.117276346121608), (3997, 8.029994997566462), (698, 7.896825390703722), (6427, 7.509095167612819), (3167, 7.30324037609262), (1476, 7.301717008764254), (1479, 6.772356149312691)]), (259626, [(4202, 8.003676449963237), (458, 5.9411764705882355)]), (203598, [(665, 6.950522457268866), (2579, 5.060587266164875)]), (243312, [(834, 6.588636363340909), (5252, 6.256756759312207)]), (136139, [(3438, 8.960170224695014), (1519, 8.395965257958679), (613, 8.098266806526155), (5015, 8.0), (2193, 7.875238989961795), (1058, 7.858047911429174), (1653, 7.595661796239189), (3798, 7.561224491989796), (2139, 7.513888891319445), (948, 6.5500000145)]), (250962, [(5202, 9.916666661666666), (70, 9.798256259961724), (1428, 9.565463671367072), (2514, 8.916666666666666), (2706, 8.883317697106849), (5654, 8.689588156537852), (1331, 8.531384831911385), (1117, 8.449113269191866), (5701, 8.383773636926543), (5573, 7.688271611080246)]), (182393, [(6011, 6.035714286250001)]), (249223, [(635, 7.715601962023956), (391, 7.535477052247635), (2992, 7.015873015714286), (4119, 7.0), (3350, 7.0), (513, 7.0), (541, 6.00000001)]), (278390, [(349, 7.625), (344, 7.425348065208835), (346, 7.269379846739341), (351, 6.583333343750001)]), (190923, [(2611, 8.375149173977865), (971, 7.970752771585531), (5108, 7.84), (2657, 7.84)]), (134900, [(2951, 7.794204558609778), (243, 6.5075201905683056)]), (126903, [(6544, 6.868054589857534), (803, 6.685571521549167)]), (113944, [(3948, 4.796026891120156)]), (196077, [(2236, 8.453407743653184), (5632, 8.30597014419259), (50, 8.237599245921142), (581, 8.06140394698252), (1336, 7.900715921514313), (4856, 7.858064653401933), (5003, 7.8059701492537314), (880, 7.797050089587411), (3518, 7.66629569636652), (3128, 7.551256283874892)]), (250300, [(1689, 7.328672448885406), (72, 6.868639333587007), (2749, 6.588235304117647), (3462, 6.588235294117647), (632, 6.561919504907119), (279, 6.526721947593175), (678, 6.398733438580797), (51, 6.063732340481711)]), (239788, [(1477, 5.991419563365808), (631, 5.035714295357144)]), (108480, [(829, 8.811940632990343), (6459, 8.44381449995841), (3325, 8.073331845801457), (3030, 7.866666676666666), (2083, 7.866666666666666), (6254, 7.866666666666666), (5100, 7.843798576021323)]), (26544, [(3865, 11.910344791586207), (3860, 9.472113172045999), (3867, 9.143678152586206), (3861, 7.597992529100933), (3458, 7.548852377801473), (536, 7.211123357896284), (1882, 7.0111731700984254), (3859, 5.831471612938318)]), (73588, [(2989, 5.817500973764114), (5742, 5.166666666666667), (1096, 5.144927536449275), (5752, 4.5314083134549135), (359, 4.4010101048383845), (3212, 2.003030334987856)]), (82673, [(3121, 7.0)]), (150327, [(169, 8.05882351882353), (2235, 7.0), (3697, 7.0), (1875, 7.0)]), (177375, [(339, 10.019271370167516), (235, 10.010955916174588), (314, 9.905973315602223), (1431, 9.454547231592683), (329, 9.25077298233552), (1555, 9.192921561073463), (2316, 9.185185185185185), (753, 9.093624534400377), (3455, 8.556287420071055), (3274, 6.548821575185184)]), (250219, [(901, 8.202380937857143)]), (101876, [(2351, 9.217391294347827), (2533, 8.952685418318415), (478, 8.76771542408767), (503, 8.59905752865553), (35, 8.58225459045531), (614, 8.523236343055682), (1268, 8.488376138445677), (6341, 8.217391304347826), (1759, 8.098382612739417), (243, 7.777517851830542)]), (198557, [(2516, 10.170040482479758), (140, 9.104856030062168)]), (166639, [(446, 8.586666667466666), (4027, 8.212121216666667), (1235, 7.814207658797813)]), (263645, [(5054, 8.930090669103421), (4228, 8.723063970047699), (3059, 8.107441458346747), (3286, 7.848918135040584), (1266, 7.560963740205857)]), (124079, [(6333, 7.375), (4630, 7.375)]), (205980, [(3856, 7.889655165517242), (3775, 7.726395893858992), (5667, 7.2), (5704, 7.2), (931, 6.337931043103447), (1058, 6.3004214751314525), (1225, 5.774519237896635)]), (257198, [(5942, 10.499999975000001), (2537, 9.66666665), (853, 8.62499999375), (4383, 8.272315043030847), (6289, 8.11111111), (4837, 8.0)]), (110308, [(6194, 7.666666666666667), (4395, 7.666666666666667), (3621, 7.666666666666667)]), (38482, [(2231, 6.666666666666667), (1071, 6.666666666666667)]), (75701, [(1553, 8.75), (3507, 8.75), (6194, 8.75)]), (206109, [(803, 7.3824768256328), (349, 6.428571428571429), (1225, 6.428571428571429), (5444, 5.969896768242934), (1115, 5.953830002273318)]), (92405, [(3360, 9.950854691100428), (465, 9.352454513566807), (2490, 8.97222221736111), (224, 8.150084727520955), (3771, 8.0), (5839, 8.0), (3394, 8.0), (5324, 7.821994372417718), (3323, 7.4382716068107)]), (273113, [(5707, 6.61290320967742), (1047, 5.7403366982699655), (1138, 5.625000001875), (225, 5.540698789170563), (5736, 5.533226431281394), (3260, 5.1383312173987115), (2483, 5.06456706977524), (3325, 4.977571152773163), (5689, 4.893555548330605), (3750, 4.7380226653943796)]), (3371, [(620, 9.157327572758621), (1051, 9.02083332125), (1043, 8.692499991200002), (290, 7.378353588092306)]), (247752, [(58, 11.110893403255998), (450, 10.05847981995288), (3023, 10.042195848674993), (5100, 9.782486020880071), (5724, 9.758620689655173), (188, 9.419415938904466), (613, 9.147509581599618), (1272, 8.552100272592082)]), (271284, [(3586, 8.608664589918563)]), (112559, [(1253, 9.378205122147435), (533, 8.628205125897436), (3455, 8.166666666666666), (5323, 8.14743589753205), (186, 7.452380959523809), (3735, 7.08208052172403), (2173, 5.166666696666665)]), (206249, [(6145, 10.101010085555556), (854, 8.555555555555555), (1343, 7.520515011808072)]), (176348, [(2840, 8.188596487266082), (4919, 7.579487178038462)]), (160574, [(3093, 6.5428571414285726)]), (182459, [(434, 10.075405649902835), (581, 9.649783503732014), (560, 9.51384985111049), (533, 9.434603165428479), (5559, 8.260338357530273)]), (51511, [(1352, 6.87499999125), (1599, 6.409141581008919), (2805, 6.0)]), (179739, [(2453, 9.663202920422375), (2452, 9.550398397744388), (4459, 9.0), (4018, 9.0), (5655, 9.0), (2241, 9.0)]), (40505, [(1102, 6.472903634348645), (1025, 5.428571428571429), (978, 5.407997782480602)]), (115537, [(1219, 8.0)]), (36907, [(4792, 10.988031907081115), (2440, 10.816317633273542), (2208, 10.757252172052873), (4786, 10.155690646401553), (4793, 10.072733587884496), (405, 10.02467579496568), (886, 9.973181342600009), (54, 9.81527904018887), (781, 9.464660957936168), (4787, 9.425531914893616)]), (70402, [(1225, 9.926900566637427), (5178, 8.921826940305182), (604, 7.339682547396825)]), (267180, [(170, 8.333333333333334)]), (163430, [(3204, 9.333333333333334), (2110, 8.930555557569445)]), (276688, [(4316, 8.597222218461848), (6162, 8.222222222222221), (6113, 8.222222222222221)]), (92524, [(3311, 7.0), (6498, 7.0)]), (112088, [(1249, 7.451572037553909), (1686, 6.094594608797308)]), (63595, [(2487, 8.805263150894737), (3295, 8.105263157894736), (5887, 8.105263157894736), (1605, 7.77192983122807), (328, 7.711147406997534), (5374, 7.47584396912264), (5892, 7.299011967020476), (1373, 6.878814840557139)]), (94951, [(1128, 10.039215677941176), (4555, 9.868791635724321), (3226, 8.920168070093002), (5919, 8.405882360941176), (1485, 7.988491060767262)]), (236994, [(3235, 7.0), (5613, 7.0)]), (81318, [(70, 7.295849391215628), (1689, 6.969619953226174), (127, 6.763525405990198), (2963, 6.738023109841333), (2398, 6.579394207581371), (809, 6.467593506961619), (1463, 5.266666678666667), (1230, 4.561748092653699)]), (103811, [(2407, 7.698449146610415), (549, 7.569938796051042), (1193, 5.94070076851005)]), (136252, [(3913, 9.077075096689724), (5409, 8.808099838449651), (6809, 8.652173913043478), (2234, 8.652173913043478), (5175, 8.652173913043478), (3270, 7.181585692455243), (1289, 7.049045595419953)]), (15651, [(618, 9.714285714285714), (2927, 9.714285714285714), (2924, 9.714285714285714)]), (266268, [(3436, 8.619788819260192), (1691, 8.601429215768304), (442, 8.321169031119563), (4945, 8.301387189159753), (3648, 8.208333333333334), (2578, 7.986219600708246)]), (31446, [(410, 11.053571410535715), (1964, 9.336956520869565), (957, 7.724532232159563)]), (229454, [(3942, 7.666666666666667), (1179, 7.5480264303178775)]), (92979, [(723, 5.518900635741173)]), (9417, [(2115, 6.639037429037434), (2098, 6.523701297219156), (2107, 6.320455971368784), (1474, 6.2272727272727275), (2102, 5.87433155433155), (2111, 5.634066290783166), (2103, 4.925685438701298), (180, 3.9309764539393943)]), (204591, [(2807, 9.145833316875), (5515, 8.409090899999999), (2900, 6.7846006220437305), (5819, 5.753741426281074)]), (112148, [(1058, 9.602941167941177), (5936, 8.75)]), (119594, [(6119, 7.75)]), (4017, [(1174, 11.006173771209388), (1217, 10.495391692211982), (1178, 10.06044217913028), (1182, 10.055897260239208), (1188, 9.8843262799331), (1215, 9.809677413354837), (1200, 9.726023916976924), (582, 9.532502485566374), (429, 9.507330711518748), (1206, 9.386148005825426)]), (81492, [(5707, 10.335125431899641), (5183, 8.576455204372348), (5645, 8.18609574179587), (552, 8.057257852427703), (5610, 5.522222254222221), (4683, 5.136856404417343)]), (138777, [(446, 9.059254513839786), (2171, 6.750000012499999)]), (229011, [(1423, 7.655561825482778), (6637, 7.59956174097222), (1109, 7.556472925084116), (1335, 7.544269493809844), (3416, 7.490065705863308), (673, 7.3386243370194), (2134, 6.836996063399669), (3674, 6.818681512214615), (6208, 6.646715041487322), (2032, 6.619641633432792)]), (227413, [(2064, 9.3105086779588), (892, 8.901098894945056)]), (88937, [(2504, 7.606359750747032), (274, 7.5207550154331235), (5651, 7.3), (1448, 6.484372748472577), (4125, 4.528571456285714)]), (136205, [(5968, 8.730366286971924), (463, 8.394406359619117), (1102, 8.224791928011252), (1158, 8.163725488210785), (603, 8.073684213991228), (5715, 7.7666666766666665), (2077, 7.616666668166666), (206, 7.307200578349242), (3961, 6.936879440921986)]), (59038, [(456, 10.981084697563965), (934, 10.79331975355234), (34, 10.0)]), (251739, [(3135, 7.956547616264881), (4099, 7.853800320042187), (2149, 7.4)]), (271833, [(1188, 6.5)]), (144619, [(159, 7.687584762601137), (2552, 7.433056041104335), (720, 7.133728038153075), (644, 7.115530304559659), (2354, 6.435606073522727)]), (28820, [(4130, 7.666666666666667), (4131, 6.858974367051283), (4129, 6.4607843257843145)]), (163329, [(2371, 5.0)]), (96900, [(4420, 9.0)]), (98628, [(1913, 8.887842910701332), (399, 7.285714285714286), (1490, 7.246854202893009)]), (161882, [(4015, 8.103146851267482)]), (25225, [(575, 7.333333333333333)]), (12982, [(1435, 9.719999984), (2616, 8.932279082079694), (2615, 8.822081557916825), (2389, 8.805954136246264), (2611, 8.596358025291462), (2581, 8.417537618211353), (2624, 8.254731484052577), (2612, 8.184516128387095), (2603, 8.12), (2597, 8.12)]), (47316, [(4115, 9.273166982621326), (2863, 8.659093810368372), (1829, 8.551020408163266), (5269, 8.551020408163266), (5266, 8.551020408163266), (896, 7.995457469569756), (3225, 5.325213988808427)]), (187170, [(5069, 7.333333333333333), (167, 7.333333333333333)]), (15602, [(809, 8.793824307135319), (1249, 8.657621754829496), (744, 8.60388930954367), (1523, 8.575095959360539), (2921, 8.545112786597743), (61, 8.476570967842232), (787, 8.208075790212158), (1115, 7.917759016034221), (2916, 7.473684220931164)]), (16798, [(335, 9.0), (1280, 9.0)]), (83135, [(2004, 8.000000009999999), (4023, 8.0), (1612, 8.0)]), (200607, [(6564, 7.75)]), (37426, [(4831, 7.12244897836373)]), (201526, [(355, 9.502673782673797), (1947, 8.21516452216222), (4386, 8.010909091709092), (72, 7.808515098202124)]), (238057, [(22, 7.333333333333333), (6428, 7.333333333333333), (6392, 7.333333333333333), (2656, 5.119047641190477), (3077, 4.933333357333332)]), (243759, [(5545, 7.308461020792805), (2918, 7.279258189181112), (797, 6.7894736842105265), (1566, 6.7894736842105265), (4051, 6.749473684610527), (5078, 5.639473695710526)]), (164492, [(1322, 7.333333333333333), (3119, 7.333333333333333), (1423, 6.261904772619047)]), (178914, [(3971, 8.769841272103173), (5191, 8.222222222222221), (7, 8.213938840955405), (3078, 7.087301594417989)]), (178240, [(2700, 8.642857131428572), (6, 7.267870269397906), (2859, 7.2046150273493526)]), (130571, [(2679, 8.534674879120272), (253, 8.519188164148218), (1773, 8.38268585085309), (4713, 8.37256129044657), (4247, 8.21052631245614), (59, 8.123499387326676), (1863, 8.051106024192265), (259, 7.957463975583086), (2480, 7.772448454282386), (4082, 7.745299850889191)]), (79266, [(1828, 8.672473865156794), (2628, 8.530027409637993), (829, 8.44613139311598), (4752, 8.428571428571429), (217, 8.380961495377838), (223, 8.115188795657478)]), (237856, [(2200, 9.943223436007326), (1135, 8.471584404630825), (232, 8.077716793855478), (3113, 6.7954545625)]), (151653, [(399, 9.082623767894045), (226, 8.771594932941465)]), (204813, [(545, 8.79325155371555), (4016, 8.750000003125), (2408, 6.813596496432749)]), (78783, [(526, 10.265517223339353), (4703, 9.580081539565022), (892, 8.914325878816717), (1135, 8.785083253510287), (4870, 8.567466266854044), (6253, 8.46551724137931), (3998, 8.287739464490421), (862, 8.214800670251757), (5238, 8.120590036103666), (1611, 7.888594170487283)]), (30533, [(4265, 9.90566892501814), (539, 9.561224482295918), (4267, 8.96824202912048), (285, 8.310599664714816), (4262, 8.26836734590306), (4257, 8.034197463039161), (634, 7.916396122534904), (218, 7.869675641577101), (4255, 6.904721647559081)]), (236480, [(246, 6.25), (738, 6.25), (1055, 6.25), (4969, 5.323232326321548)]), (213523, [(4393, 8.999999995), (881, 7.92592593117284)]), (268540, [(1688, 11.286163992112966), (1307, 10.944444439722222), (3771, 10.0), (6133, 10.0), (5838, 8.741263447153898)]), (27472, [(245, 8.627939725114869), (3960, 8.100813835634955), (1667, 7.90378988613815), (2665, 7.582025531294356), (3968, 7.555257930157759), (3867, 7.529787240542553), (3967, 6.99001597405688), (2579, 6.468663186145681), (3955, 6.213598972253636), (3965, 6.204391032797134)]), (36609, [(2915, 8.486699351397013), (3087, 8.33619505217033), (3631, 8.175002670450645), (4749, 7.78125), (1830, 7.376537169026345), (880, 7.31239110766418), (4413, 7.2812500049999995), (4746, 5.873237914003732)]), (106388, [(1572, 5.841201530501047)]), (127131, [(2853, 8.821028389937172), (1938, 8.155372806879111), (3131, 8.040030490043582), (3268, 7.801092232088244), (1647, 6.171428590714285)]), (157380, [(6195, 11.017730477943262), (739, 10.304278410659323), (4375, 9.685654003248946), (742, 9.270114941494253), (5095, 9.166666666666666), (4444, 9.166666666666666)]), (162311, [(3135, 10.291205368652852), (4850, 10.073205394054726), (957, 8.879245676466791), (20, 5.724239899739928)]), (109783, [(6407, 7.30740740571605), (3992, 6.8)]), (153361, [(50, 10.435642128951901), (2616, 9.087501470428228), (4396, 8.76190475857143), (4636, 7.714285721428571)]), (207259, [(352, 8.696618462938936), (1668, 8.470588227254904), (487, 8.204392013792223), (777, 7.80046358372343), (5937, 7.622710622930404), (4239, 7.222222226666666), (577, 5.918917697615811)]), (209536, [(2017, 8.166666666666666), (1146, 8.166666666666666), (988, 8.144927536449273)]), (249862, [(1781, 10.604699113574151), (434, 9.823614868572205), (5033, 9.790806745928707), (6060, 9.572696665319391), (1036, 9.349415795517295), (6864, 9.325142129403325), (383, 8.485339503995577), (4325, 7.869645097112843)]), (57725, [(2504, 9.25205421098402), (3373, 8.748970580502602), (2191, 8.466666666666667), (538, 8.25148624949112), (4250, 7.00512821974359)]), (49842, [(5368, 7.677084412942463), (1261, 7.368888887044445), (971, 6.696365923163532), (5369, 5.00000002)]), (165319, [(6587, 8.856012634477848), (950, 7.595298366942134), (3661, 7.481012647864764), (2853, 7.055073822018038), (600, 7.014157239363843), (5049, 6.925457098227849), (1158, 6.688365670166052), (6448, 6.552441228942134), (4897, 6.496320482126851), (4522, 6.481012658227848)]), (5582, [(1363, 10.329894685603552), (1326, 9.4604863127072), (669, 9.431914884617022), (1364, 9.317629171474163), (1361, 9.053519829280601), (1349, 8.939541595604645), (1328, 8.823550197794464), (1346, 8.82238120011786), (912, 8.624977463034961), (1334, 8.53191489361702)]), (191166, [(1094, 6.0), (1364, 6.0)]), (131837, [(112, 9.123106046647727), (3623, 7.7272727272727275), (5172, 7.7272727272727275), (724, 7.7272727272727275), (5302, 5.655844176768745)]), (28451, [(764, 6.963253023668599), (367, 6.833514770828328), (290, 6.755159456257657), (4083, 6.485315108782252), (289, 6.1602970016477165)]), (92278, [(1574, 9.08884285988732)]), (140763, [(1789, 8.617139166883057), (2554, 7.990943122157866)]), (248540, [(5911, 8.11111111111111)]), (200508, [(581, 8.831044096881202)]), (57105, [(2918, 8.968213620253827), (2119, 8.907836907573847), (2269, 8.75), (1226, 8.75), (428, 8.26175548833464), (2007, 8.178571434295593)]), (218760, [(653, 6.2640332633731814), (2193, 6.023010893489081)]), (112818, [(657, 9.563491907936037), (41, 7.699338064467044)]), (114544, [(4687, 8.202000920923618), (1631, 7.3022421523941174), (4610, 7.253745842329017), (4205, 7.25065874402661), (291, 7.176742433466593), (3306, 7.108599273370169), (1058, 6.893473538028094), (298, 6.595716539146065), (1186, 6.5267370920234615), (947, 6.524964524277893)]), (244710, [(124, 8.4503130029402), (3885, 6.550505054419192), (197, 5.733333349333333)]), (13518, [(2694, 6.906120021054663), (2696, 6.104135170548166), (2275, 5.981316567577024)]), (193499, [(1141, 10.009707527434648), (2226, 9.356103190198008), (2437, 8.596100928405873), (4459, 8.488795077448666), (910, 8.45066130340678), (124, 8.199132877726383), (691, 8.135084958903095), (1319, 7.912614627259752), (2257, 7.80871916765027), (243, 7.7771851214781345)]), (184279, [(907, 7.602331208407679), (4017, 7.3), (3652, 7.3)]), (207782, [(2069, 9.236111104930556), (16, 8.871667296632056), (6692, 8.849999991499999), (4515, 8.44444444), (4641, 7.996952001336488), (160, 7.486347473217066), (170, 7.260628970016432), (3183, 7.128893345509123), (4051, 6.984008610899956), (2154, 6.135805544374995)]), (264464, [(800, 4.395781801161767), (3359, 4.0), (2063, 4.0), (4271, 4.0)]), (98741, [(2865, 9.559065929244506), (816, 9.034071802031846), (3048, 8.43689512112974)]), (165582, [(41, 6.81926827426871), (742, 6.578742256261116), (1626, 5.929920635560793), (6, 5.786027276051699), (2413, 5.678571434285715)]), (86243, [(6308, 8.792663212862799), (5752, 7.538461538461538), (1260, 7.418257901129736), (123, 6.42948718503205), (6413, 6.377299403951287), (2643, 5.0816714395726486), (6135, 4.68391032431326)]), (230013, [(4543, 8.098901081758243), (4268, 6.384615384615385)]), (225886, [(524, 10.31333045639613), (4645, 9.91773504006054), (6161, 9.592723062537198), (3383, 8.516298517796232), (2850, 8.384615391923077)]), (201557, [(1104, 5.9714255396892595), (1574, 5.8)]), (27617, [(1094, 10.349472383206319), (2955, 9.584105074854854), (622, 9.575483146127773), (3979, 9.388152006131206), (2040, 9.312086658348989), (236, 7.927489187261905)]), (204929, [(5202, 8.0), (144, 7.438086105411605)]), (229409, [(1621, 9.092506468127027), (70, 8.931331359534658), (3420, 8.901841065986394), (344, 8.649267115164623), (691, 8.611808238796653), (5115, 8.200537427107392), (3882, 7.93306155728481)]), (127122, [(3858, 5.191209418867686)]), (268544, [(1219, 9.617401518894068), (3909, 7.6250000075), (3714, 6.61742426)]), (28634, [(3918, 10.949873724594571), (2875, 9.485460739987277), (971, 9.398761706559878), (1002, 9.332506026239134), (5, 8.9055589817394), (3634, 8.82746060083177), (2147, 8.678504177815254), (144, 8.652729462836065), (1271, 8.643057151451636), (4110, 8.62915148244111)]), (33862, [(1181, 7.419000301360481), (3279, 6.599303134181184), (1686, 6.449928173502964), (3951, 6.428571428571429), (581, 6.2552003015824695)]), (133706, [(379, 7.95876403295045), (2080, 7.788608583223239), (77, 7.317939852739981)]), (237433, [(3932, 7.444444444444445)]), (249220, [(853, 9.0), (5116, 9.0)]), (89207, [(88, 9.52001272392915)]), (266056, [(759, 9.153747511926078), (1261, 8.414150709810434), (365, 8.015370827632685), (2168, 7.838494682556586), (1135, 7.756005215978548), (1602, 7.718076312828202), (5206, 7.587243401532258), (3303, 7.5227688162011), (836, 7.481182796533411), (1739, 7.285585064668514)]), (114200, [(2082, 7.087992119077796)]), (15021, [(2846, 5.833333333333333), (2772, 5.833333333333333), (2851, 5.833333333333333)]), (276167, [(3091, 6.880952387142857)]), (225411, [(1728, 4.045833346875001)]), (230708, [(639, 6.443452382797619)]), (76483, [(6218, 7.914516138387096)]), (146641, [(4349, 5.695652166956522)]), (28591, [(3471, 8.726470585485293), (1235, 8.180423070115777), (4093, 8.176470588235293), (1398, 8.051470589485293)]), (251394, [(6469, 10.11764703882353), (784, 9.07556050147026), (1215, 8.517647054823529), (788, 8.471329227597753), (227, 8.095527752369348), (3123, 7.663101609173678), (312, 7.015717767088841)]), (124769, [(2795, 8.25)]), (42450, [(5109, 8.5), (1360, 8.018987346582279)]), (59895, [(1713, 8.333333333333334), (4980, 7.387485486726916)]), (197364, [(4297, 8.59656217619818), (1897, 8.58202822110468), (2169, 8.464554086804025), (730, 8.42615455398423), (3049, 7.870657540817617), (3955, 7.813953488372093), (5874, 7.813953488372093), (3496, 7.813953488372093), (6489, 7.381124781874194), (1947, 7.050073604883095)]), (109427, [(6711, 6.00032776598096), (1099, 4.711752142082265)]), (5476, [(1304, 10.047058789529412), (1295, 7.839366503914028), (962, 6.647058823529412), (1294, 5.3510052708326565)]), (146266, [(2550, 8.32027649609447), (896, 8.0)]), (60140, [(2726, 9.238095232380951), (531, 8.091269844146824)]), (19659, [(2516, 10.507936505396826), (3144, 10.0), (581, 10.0), (3280, 10.0)]), (95991, [(2627, 7.9388888906481485), (3908, 7.793456240630858), (381, 7.585883422011342), (1776, 7.557575756666667), (780, 7.466666666666667), (6557, 7.466666666666667), (169, 7.348815613472101)]), (110887, [(310, 7.454545445454546), (2085, 6.545454545454546)]), (242007, [(339, 8.8029475588393), (934, 8.623300469894883), (2751, 8.0), (678, 8.0)]), (12316, [(548, 8.0), (592, 6.700000013)]), (17183, [(3145, 2.516666700666666)]), (167844, [(818, 9.454545435), (1523, 7.5), (1385, 6.547619057142857)]), (38281, [(64, 9.238862030961196), (3246, 8.927910232267884), (4898, 8.806763273913043), (339, 8.644852847184993), (842, 8.435895365086765), (4412, 8.395652166913044), (124, 8.373066140599017), (840, 8.320652170775741), (471, 8.028067975482365), (3336, 7.695652173913044)]), (27740, [(4007, 11.300480731538462), (4000, 8.531249990000001), (4003, 7.689193416582277), (2663, 7.550529907273784)]), (163973, [(3559, 9.274553555714286), (5877, 8.87385669553771), (1858, 8.141778749080984), (1421, 8.03287497554439), (4771, 7.873856705599248), (2019, 7.87333776425532), (381, 7.83031010825542), (265, 7.8001968180988674), (2080, 7.780792746334099), (2344, 7.703125)]), (236322, [(6890, 9.341463401219514), (1176, 8.790322572741935), (614, 8.07921125743106), (1266, 8.0)]), (193778, [(6873, 9.71971742446176), (4966, 9.584779943715187), (1858, 9.374875539616923), (6439, 9.120731705609755), (4165, 7.878571439326624)]), (59150, [(2583, 8.176470588235293), (1492, 7.801151655046308), (4606, 4.734162930350678)]), (196052, [(177, 8.81818179778574), (70, 7.575985679063235), (6617, 6.972563471791565), (2339, 6.8452088449385755)]), (222050, [(3728, 9.399999996), (300, 9.0), (2198, 9.0), (1162, 9.0), (611, 7.807096780158064)]), (40466, [(1104, 8.952380937857143), (649, 7.564484126822917), (3527, 7.5)]), (208668, [(3480, 8.091654329354244), (352, 7.52234266669383), (3750, 7.409774435563909), (20, 3.407220256677068)]), (203401, [(4015, 6.733333333333333), (335, 6.720175438662281), (1852, 3.955555583333333)]), (258270, [(3436, 10.250937493945312), (274, 9.375444251914768), (3247, 9.36175351422939), (1210, 9.04465643474844), (3998, 8.48444445), (168, 8.355842538741657), (5817, 8.098073716565208), (2578, 7.694007717808386)]), (274004, [(6842, 8.898987543721073), (883, 8.13892398327617), (2706, 8.117316466691111), (404, 8.005539400049004), (1284, 7.9646315500984075), (6, 7.920262795517535), (1934, 7.837837837837838), (4896, 7.837837837837838), (562, 7.837837837837838), (1707, 7.357796035614415)]), (81771, [(2226, 8.835391225806562), (1574, 7.662395806724959), (2918, 7.493525724514713), (2480, 6.7625000042500005)]), (92861, [(4845, 8.499999989637681), (1291, 7.6177807087971345), (6268, 7.5)]), (36003, [(4706, 10.544117630784314), (3911, 10.183306932752208), (341, 9.719053349947446), (2473, 8.947603121361482), (3019, 8.865384615897435), (533, 8.850659518709094)]), (37293, [(1241, 9.975609736341465), (20, 4.184481355135107)]), (277928, [(200, 9.6), (203, 9.6), (206, 9.6)]), (1211, [(682, 8.166666666666666), (132, 5.729166691041666)]), (29570, [(1116, 10.1833333075), (533, 7.285440614075351)]), (71786, [(465, 6.982399336822247), (3116, 6.5190856953691805), (1103, 5.592836262123537)]), (170493, [(590, 7.450686455608077), (124, 7.413639032954608), (581, 7.125557711589293), (586, 7.011904764285715)]), (72183, [(2026, 8.0)]), (263163, [(2646, 8.593771560503797), (472, 8.019442324546029), (98, 7.727777776601852), (3727, 7.692613372098673), (2009, 7.405769230456768), (564, 7.375), (2015, 6.113817150372796)]), (206675, [(2443, 5.982619606826798), (4280, 5.685714286035714)]), (105968, [(1605, 5.621052627368421), (4411, 5.2), (4709, 1.5518518700925927), (20, -1.2090908450000013)]), (72451, [(6134, 10.387163280838244), (1478, 9.43546838357621), (4648, 9.366935486451613)]), (3282, [(996, 9.0), (994, 8.145299148148148)]), (219208, [(4097, 6.1492660239155965)]), (123056, [(960, 10.45134572378882), (5167, 9.094202880217392), (1907, 7.66504913077041), (887, 7.422803953952827), (6516, 7.260869565217392), (6332, 7.260869565217392), (1382, 7.057773297214425), (1197, 5.760869580217391)]), (251422, [(6146, 10.192931362623701), (3878, 8.662162147162162), (387, 8.305019293590734), (934, 8.231981389774685), (1634, 7.586242710575825), (2963, 7.515780044643753), (4231, 7.4926679022417275), (5935, 7.162162162162162), (1055, 6.7120227529279735), (411, 6.225516115374281)]), (86145, [(197, 7.481061012113264), (3940, 7.333333326666667), (1964, 6.836879430824385), (1068, 6.770403600603095), (4114, 6.731462231138254), (3988, 5.72916667627223), (5742, 5.444444456666668), (1355, 5.111111126666667)]), (84910, [(2853, 8.479734292756644), (3268, 7.708791106888729), (3131, 7.63347397866895), (3829, 7.631250000921875)]), (161467, [(3821, 10.028409071534092), (1557, 8.090909090909092)]), (93364, [(5668, 9.1111111), (875, 9.062499989375), (2378, 8.88888888), (5870, 8.0)]), (93426, [(3841, 8.76739925382784), (1234, 8.686479169449994), (4428, 7.410256410256411), (5511, 7.410256410256411), (6097, 7.334808843508755), (4294, 7.271289184181445)]), (24960, [(2070, 5.029411789411764)]), (214436, [(5512, 9.723731875439311), (4578, 8.0)]), (30770, [(2918, 7.473196879514295), (1266, 7.426841209230305), (124, 7.2559404370478), (4290, 7.0), (2477, 7.0)]), (118628, [(1520, 9.947707601660477), (5158, 9.74436088409719), (3255, 9.448571413371429), (1486, 8.92857141857143), (2215, 7.928571428571429), (5701, 7.737906090888897)]), (114444, [(3023, 8.618226591699507), (1897, 8.24089390931507), (124, 8.106280815125706), (503, 7.9921665846698655), (1064, 7.987144666684552), (3236, 7.397549909986161), (1117, 6.850280218917261), (1470, 5.526018830413792), (1070, 5.0284981742319745)]), (235684, [(895, 8.085714280857143), (6698, 7.6), (1743, 7.282330828656014)]), (139387, [(61, 9.171296718920487), (1058, 8.932622791058613), (708, 8.744249473790854)]), (187256, [(2840, 9.240032671387496), (581, 9.071434167920978), (96, 9.039100682292277), (1730, 8.948066783705723), (492, 8.816493939658054), (294, 8.701051717262182), (243, 8.67429366251016), (3581, 8.422985996235726), (2973, 8.37610191166154), (982, 8.266564981875801)]), (16916, [(2864, 9.772933281303354), (2168, 9.734767766802063), (1603, 9.55018598860815), (3086, 9.538461538461538), (2624, 8.600658802339442), (3085, 8.343813119429338)]), (25601, [(3783, 9.309523799761905), (3790, 8.583333330833334), (3788, 8.333333333333334), (3791, 7.387387396846847)]), (41080, [(6, 6.699334237214941), (720, 6.535714292857143)]), (222941, [(2026, 8.515915305373788), (2992, 8.404338230751234), (3073, 8.3125)]), (100053, [(3119, 6.779924241491162), (1675, 6.5)]), (51559, [(5077, 7.5), (684, 7.111111118055556)]), (108267, [(2664, 8.4), (3971, 8.4), (781, 8.4)]), (108285, [(2026, 9.637083899366997), (2417, 8.892764859667313), (2295, 8.650000006)]), (161039, [(5568, 8.46631720253835), (70, 8.226381202931668), (7, 7.694197346011882), (3333, 7.475535194817469), (691, 6.835468785829094)]), (45078, [(17, 8.093444324168201)]), (160819, [(1773, 9.370672209170063), (1237, 9.194279431503038), (3608, 9.147058823529411), (4607, 9.147058823529411), (3141, 8.90428358105819)]), (91113, [(3893, 9.190795340963588), (647, 9.18382351882353), (4382, 9.173420660555394), (1428, 9.005417675545022), (5919, 8.954094995402878), (1820, 8.75244858628159), (589, 8.622911254845066), (227, 8.501287706745057), (2386, 8.38936046755519), (1111, 8.347604772078467)]), (55892, [(5633, 9.761363620000001), (1393, 8.851766196465677), (2682, 8.594259052278053), (531, 8.260213491739181), (886, 8.23718591477001), (1215, 8.125), (5364, 7.958333334166666), (2494, 7.694758677467321), (5351, 7.432189545947712), (4749, 2.8618421578947357)]), (62958, [(5471, 8.917207790746753), (524, 8.625), (3448, 8.407608697826086)]), (127359, [(938, 8.81699524191586), (2912, 8.066903480436604), (3480, 7.876804827503798), (3352, 7.538461538461538), (2286, 7.538461538461538), (5423, 7.538461538461538), (2999, 7.538461538461538), (6743, 7.538461538461538), (1871, 7.527210891067701), (3311, 7.333832512687484)]), (146803, [(1248, 8.982806133633222), (1247, 8.941300554804092), (1709, 8.3474226087473), (5362, 8.008752745970872), (335, 7.8779180691094535), (5381, 7.831102924607834), (1490, 7.313556512196685), (3194, 7.310163904002369), (645, 7.176574814051402), (3409, 5.498316520909091)]), (99312, [(2864, 9.617299409213176), (2532, 9.521435741096225)]), (146345, [(4199, 7.333333333333333), (4514, 7.333333333333333), (6822, 7.333333333333333)]), (237275, [(1683, 9.225563896090225), (216, 8.29318936659053)]), (29204, [(1594, 9.399999990000001), (4149, 8.899999995), (1581, 8.233333335), (1059, 5.4270270567567565)]), (73330, [(1384, 11.51960782147059), (2974, 10.615674616676445), (4858, 10.551386847179675), (6149, 9.352941176470589), (3122, 9.352941176470589), (700, 9.352941176470589)]), (253871, [(1064, 10.162824817721196), (2832, 9.991559501063987), (3974, 9.969533890111173), (224, 9.401807005688594), (4360, 9.343906639408287), (410, 9.325231843464438), (4201, 8.867798550317712), (1071, 8.365493371353086), (4921, 7.884624320810936), (4705, 7.730848873022774)]), (222220, [(6106, 8.35416665875), (586, 8.242725831123607), (267, 8.091207678016225), (442, 8.052263464875107), (977, 7.725069610589212), (379, 7.63039434121904), (6142, 7.5783730157140115), (1020, 7.512577639876358)]), (267830, [(340, 8.818735001199094), (357, 8.23076923076923), (1203, 6.11592330296811)]), (65484, [(5805, 9.166666666666666), (759, 8.757575761666667), (1445, 8.276556782857142)]), (233867, [(2698, 9.992858156514794), (338, 9.02174711590729)]), (111286, [(2119, 8.002401455948279), (457, 7.613175701515694)]), (21540, [(347, 7.0), (3526, 7.0), (2766, 7.0)]), (31343, [(135, 8.944444439444444), (1447, 8.474879226900967), (2295, 8.444444444444445), (540, 8.024106751528176)]), (36807, [(1753, 5.933481038490272)]), (222492, [(1536, 5.0), (4966, 5.0), (3333, 4.135662436263612)]), (180651, [(4050, 9.800195084128902), (5621, 9.048913029728261), (1233, 8.916903685253962), (3715, 8.231008384373494), (4793, 7.939643056952034), (925, 7.707218139864804), (1084, 7.699764299582129), (6621, 7.673913043478261), (379, 7.4427737914762595), (5741, 7.340579713478261)]), (213628, [(434, 9.01658523663422), (6415, 8.142857142857142), (6265, 4.557491325052263)]), (255078, [(907, 7.667882987056506), (4263, 7.628963216470969), (5463, 6.917665214127179), (4698, 6.713709679036569), (1263, 6.084150329433551)]), (110440, [(590, 7.962476662865751), (140, 7.4375), (6439, 7.4375), (1071, 6.26219278327621), (1844, 5.459239150217392)]), (167507, [(4463, 9.22499998375), (5956, 8.93333332), (5830, 7.6), (5741, 7.6)]), (177277, [(4254, 8.081871343099415), (2777, 7.888888888888889), (88, 7.866581196692735)]), (110214, [(5544, 8.362132768792314)]), (126388, [(2536, 10.100159385278493), (3718, 9.646263811011577), (3083, 9.574253261464392), (1182, 9.525641018717948), (3064, 9.277868319142383), (776, 8.432793637596166), (1529, 8.279932952036239), (2079, 8.156241858628096)]), (179734, [(3003, 10.388266444851574), (3112, 10.273937138301008), (480, 9.92724432700565), (2682, 9.779642195846103), (657, 9.562035045051022), (5207, 9.494938672193928), (1948, 9.376526193526404), (1027, 9.36095380446706), (6578, 9.297297297297296), (3620, 9.072747939746854)]), (172061, [(1850, 9.779891300230979), (50, 9.263568776649551), (4400, 8.956521749130435), (4738, 8.956521739130435), (3073, 8.956521739130435), (1831, 8.89739130464348), (5085, 8.418060206053513), (278, 7.822048671587757)]), (52887, [(1155, 8.666666666666666), (1315, 8.666666666666666)]), (190448, [(472, 8.574707168069242)]), (162626, [(5474, 6.5)]), (70448, [(274, 8.0557322063815), (3607, 7.066666672666667)]), (271448, [(1880, 8.870319480036699), (1930, 8.680260451540516), (1968, 8.558606796808096), (3037, 8.492865796409827), (618, 8.260024409323933), (1273, 8.139026327805603), (4433, 8.127258019921431), (435, 8.043738976999412), (1212, 8.036052084221591), (1660, 7.941831579526581)]), (154944, [(895, 11.44999999275), (3379, 10.0), (2207, 10.0), (1160, 10.0), (5928, 10.0)]), (153797, [(1562, 9.647058801764707), (70, 8.002555744603042), (6, 7.568180989138618), (1812, 7.404078391154164), (274, 7.262433893966054), (994, 5.938536960903093), (1309, 5.809719515020312)]), (40798, [(1527, 10.384615372692307), (5008, 8.999999990000001), (5007, 8.0)]), (173415, [(6103, 10.51754383631579), (1513, 9.512739747153226), (5778, 9.351945830188344), (1454, 9.34637267685633), (3632, 9.046503376679466), (4404, 8.916152361305237), (3480, 8.763879545646772), (207, 8.7635009548679), (1977, 8.713204341155674), (1636, 8.372489997587532)]), (258240, [(2633, 10.74999998), (4548, 8.75)]), (252865, [(3816, 8.560440149697147), (4635, 7.8067292636302605), (6752, 7.722222222222222), (2175, 7.722222222222222)]), (175101, [(645, 8.0), (5270, 8.0), (2847, 7.826473753225019), (1563, 7.666666670000001)]), (159647, [(3274, 6.648989905993266)]), (223087, [(1136, 6.971428561428572), (4771, 6.571428565428572), (1023, 6.503129423755143), (156, 5.983588492674491), (4711, 5.9714285714285715), (1777, 5.910514382651845), (1511, 5.902489177833874), (1659, 5.736459250132977), (6651, 5.30998877418594)]), (86548, [(2473, 11.181818169927272), (3168, 10.0)]), (189789, [(6749, 9.5)]), (121547, [(465, 8.26910948806398), (1753, 6.5500000025)]), (203910, [(2510, 9.88259852885578), (2937, 9.48), (6635, 8.689043838774944)]), (95781, [(5623, 7.75)]), (228477, [(124, 6.948834552321444), (151, 6.5)]), (4622, [(569, 6.333333333333333), (1168, 6.333333333333333), (1249, 6.333333333333333)]), (19573, [(157, 7.680430913918394), (1731, 7.57086003696907), (2044, 6.942132320567887)]), (6577, [(19, 7.878798978997842), (982, 7.333333333333333)]), (51365, [(3218, 9.251268995811866), (2367, 8.058823529411764), (1049, 8.058823529411764)]), (59206, [(1898, 8.632575756079547), (3168, 7.217948729102565)]), (169192, [(472, 10.4495693489038), (471, 10.42016672506471), (3775, 8.33333334)]), (36256, [(2676, 9.345699834026403), (2149, 9.243689125169189), (2674, 8.627852097655529), (4719, 8.571428571428571), (4720, 8.245847179335547)]), (238568, [(1925, 7.212962973333333)]), (170845, [(2793, 8.81049915809922), (4407, 7.333333333333333)]), (263344, [(2010, 7.347071867707926), (3018, 6.7983596036947835)]), (119725, [(1413, 9.554983039368345), (2145, 9.069726960788508), (1158, 8.625858552820203), (4601, 8.206293705384615), (5873, 8.18093205012675), (1306, 8.115384615384615), (4712, 8.113716798504965), (5954, 7.511989556673195), (5645, 6.4823547648261215)]), (217986, [(6227, 8.732142850357143), (2530, 8.567307680384616), (4762, 7.375), (1149, 7.375), (274, 7.360782997130611), (981, 7.302167883996541), (6298, 6.888513520945946), (837, 6.839673915720108), (6218, 6.439516138387097), (720, 6.199209828713756)]), (163202, [(872, 9.794372291190477), (4502, 9.476190476190476), (2604, 9.476190476190476), (6695, 8.676463517548283), (1485, 8.509662395712928), (3377, 5.772486809523809)]), (17177, [(3138, 7.5481244887292585), (3136, 6.337500010625)]), (144194, [(4989, 6.704105148074861), (4405, 6.69852495842705), (1773, 5.813466524231675)]), (113904, [(806, 9.21527776), (1851, 8.371503829082615), (3999, 8.044642851071428), (274, 7.638111635950453), (657, 7.515022070401555), (2727, 7.4375), (414, 6.373502572854738)]), (146230, [(1686, 9.728850484037991), (316, 9.35330416404324), (292, 8.836194401895344), (557, 8.668055714904785), (2508, 8.565217391304348), (3431, 8.565217391304348), (896, 8.565217391304348), (3358, 7.6693840669293465)]), (194614, [(434, 5.467797583572858), (608, 4.489317465575266), (613, 4.313725490710785)]), (187517, [(257, 8.509238723628972), (1459, 7.984848479631378), (227, 7.5801309406792745), (3935, 7.484848484848484), (1650, 7.484848484848484), (3890, 7.484848484848484), (3866, 7.484848484848484), (6131, 7.484848484848484), (5302, 7.484848484848484), (2042, 7.297348486723484)]), (34987, [(2241, 8.428571428571429), (4245, 6.276497706612902)]), (120696, [(5332, 8.18055555), (2835, 6.929347833043479)]), (202147, [(3354, 8.94047617857143)]), (138647, [(192, 10.098010278599077), (6246, 8.5), (6365, 8.5)]), (238864, [(6467, 9.424731170897987), (631, 9.064983175859483), (410, 8.817283812152358), (2391, 8.258064526129031), (6857, 8.258064526129031), (6689, 8.258064516129032), (4210, 8.258064516129032), (4908, 8.258064516129032), (1478, 8.10744342546063)]), (235506, [(5730, 8.958874455898268), (2690, 8.363636373636362), (5448, 8.363636363636363)]), (22912, [(3627, 8.166666666666666), (2786, 8.166666666666666)]), (13973, [(35, 5.884842351362139)]), (81263, [(2940, 9.986842092763158), (4989, 9.663713466085598), (4122, 9.461881646664871), (124, 9.178489471832467), (2942, 8.821221532277965), (4289, 8.736842105263158)]), (164425, [(465, 9.465728712064394), (3440, 8.0)]), (218068, [(4457, 8.11111111111111), (5720, 8.11111111111111)]), (130570, [(2070, 8.068884960677169), (6764, 7.230769240769231), (3260, 7.230769230769231), (668, 7.230769230769231), (6821, 4.750401178099212)]), (228021, [(3512, 9.658574287980665), (3026, 9.452488678552037), (4099, 9.277970917086522), (5499, 9.275214003175874), (914, 9.220168660528604), (338, 9.107160756536137), (3927, 9.091094894681495), (1407, 9.04558861081984), (4460, 8.96677633304123), (5796, 8.815717509288765)]), (123981, [(1632, 9.528546180602637), (1047, 8.98725737229275), (4562, 8.929665406691917), (2956, 8.677304690863526), (198, 8.665663884779278), (762, 8.260934346817), (2044, 8.196441644510486), (6132, 8.163636363636364), (77, 8.12136555614781), (2604, 7.96572033371837)]), (206016, [(6229, 9.13586955646739), (88, 9.01018528305663), (2385, 8.644494223257526), (4580, 8.568561869832775), (4354, 8.384899559802143), (4722, 8.26086956521739), (572, 8.26086956521739), (5117, 8.26086956521739), (2400, 8.069380205430155), (6576, 7.790281334629155)]), (203075, [(946, 8.863636363636363), (5419, 8.863636363636363), (1167, 8.851249688567183), (2807, 8.641414143636364)]), (13082, [(2633, 8.942300972283773), (2632, 8.567226882226892)]), (13126, [(2643, 7.375), (51, 7.375), (680, 7.142287235206116)]), (118489, [(1938, 9.404411754558824)]), (64435, [(4207, 8.0)]), (224525, [(1602, 10.493720566526688), (5693, 10.471933464906446), (2828, 9.76923076923077), (2968, 9.76923076923077), (2826, 9.76923076923077), (20, 8.364793543304634)]), (58594, [(1446, 9.347624939853484), (888, 9.056618807805538), (360, 8.801136354261363), (1158, 8.276992623832578), (1443, 7.867005477966034), (5740, 7.863636363636363), (5603, 7.863636363636363), (3259, 7.835190615930596), (3556, 7.205202854955255)]), (37584, [(157, 8.50888175609634), (1550, 8.453238791916016)]), (216466, [(4496, 9.546703289162087), (5934, 8.919817461468673), (637, 8.56825635099551), (434, 8.552092738664394), (1739, 8.230769229807692), (1318, 8.038461538461538), (4673, 7.573317512798292)]), (237434, [(865, 9.142857132857143), (285, 6.902857155257141)]), (212797, [(1588, 9.269841262698414), (3976, 9.088907564774987), (2217, 8.645459810924008), (6523, 8.555555555555555), (4114, 8.4693486598659), (2692, 8.113245865407672), (1378, 7.694362792679359)]), (37644, [(3315, 9.79541445286596), (4859, 9.251745139500503), (2436, 9.165223752473185), (1421, 8.536580703087678), (483, 8.507153448787186), (3589, 8.215922868270875), (2864, 8.172189288155739), (1773, 8.010209974433986), (533, 8.00115110626319), (2585, 7.9523809523809526)]), (270820, [(4202, 9.000664144029795), (67, 8.026499424681688), (5451, 7.848484848484849), (366, 7.848484848484849), (5955, 7.848484848484849), (4585, 7.797294070747932), (358, 7.4309306720397466), (1268, 7.316855051947137), (2337, 7.005721232300702), (2147, 6.866077318968402)]), (245371, [(101, 9.487931023103448), (934, 9.299965381988681), (446, 9.046887862465848), (664, 8.920175435745614), (6420, 8.459311740344129)]), (8234, [(243, 8.932038385270983), (1861, 8.225048583196608)]), (98723, [(317, 7.366844894259416), (3674, 6.990615617051426), (1611, 6.7008547066239315), (1587, 5.536666075829566)]), (120598, [(1908, 8.547908220323887), (5, 7.368421052631579), (3222, 5.667032172249634)]), (17761, [(267, 7.406421997160777), (59, 7.209959930951901), (1451, 7.103024500070856), (3175, 6.845451487790733), (409, 6.663313061292684), (360, 4.17241382137931)]), (186762, [(4885, 7.456442004378488), (787, 7.199999995000001)]), (169735, [(749, 8.445785849795717), (465, 7.567623504288451), (2982, 6.6682240941565265), (6, 6.604648622757998), (107, 6.221153848055556), (1808, 5.859911413386118)]), (44728, [(1691, 8.238611756759836)]), (7887, [(1323, 9.532467534285713), (1760, 9.229448235405577)]), (52584, [(158, 8.55522194114347), (1305, 8.480082223350813), (5503, 8.275910361883753), (285, 8.098342525855504), (1574, 8.050577173114782), (2142, 7.756835313202569), (1789, 7.694096188398141), (1196, 7.455043973797487), (3256, 7.431527985440977), (5505, 7.104536529052062)]), (42730, [(2520, 6.75), (5116, 6.75), (1415, 6.75)]), (56661, [(4443, 9.631355923389831), (5695, 8.75), (2883, 8.635369532810458)]), (127893, [(407, 8.16239342774053), (650, 4.04545457)]), (59305, [(5780, 6.857142857142857), (552, 6.333526140485125)]), (114178, [(1284, 8.036582312938208), (218, 7.6315789510526315)]), (17003, [(446, 9.382841453066295), (3127, 9.100751875218148), (1089, 8.94387888043499), (3128, 8.152735592022449), (1753, 7.91974567784189), (3123, 7.908619854195033), (1202, 6.979201400411845)]), (117577, [(1291, 6.7423753599932965), (1190, 6.10548024336808), (414, 5.7074571488510095)]), (190459, [(3180, 7.719814239553663), (1602, 7.718813734345317), (227, 7.591281543347355), (1764, 7.472781086213973), (406, 6.815149452897079)]), (181687, [(254, 9.029872656339991), (235, 8.62039372437691), (207, 8.487078324976567), (4747, 8.38675853871489), (2225, 8.188689673664632), (1686, 8.178364416079713), (246, 7.7726592334805815), (1397, 7.621725879225908), (2015, 7.098796190935602)]), (120828, [(2684, 8.963610052394664), (4842, 8.341269844285714)]), (67677, [(1921, 7.192982461008772), (1683, 5.937949769712855)]), (37310, [(20, 3.117216646033249)]), (163433, [(6601, 8.285714285714286), (2800, 7.707614449635382)]), (130705, [(744, 9.901461034661931), (2314, 9.661818167018183), (809, 8.423939506282636), (385, 8.181818181818182), (4788, 8.181818181818182), (291, 8.073652324012876), (1434, 8.044137023086297), (5586, 7.070707081818182)]), (132083, [(70, 9.928717221407048), (1179, 8.908368108946096)]), (240219, [(1850, 8.808788561082858), (6708, 8.178571428571429), (6509, 8.178571428571429), (6464, 8.178571428571429), (3807, 7.83369541604336)]), (235498, [(101, 8.670940169786324), (1785, 8.555555555555555)]), (57920, [(1856, 9.087179482307691), (581, 8.193829550555304)]), (108950, [(2369, 4.823361857435897)]), (105028, [(3135, 9.128987219023749), (3789, 8.865849525282316), (3206, 8.782665614117127), (6308, 8.734346686721727), (2862, 8.631766377646011), (1380, 8.07149176709789), (1447, 8.067234615958446), (2023, 7.8076923076923075), (72, 7.800406740648065), (77, 7.503039660778262)]), (238557, [(6126, 9.961816287430342), (4280, 9.414433965971883), (86, 9.273279341072874), (6166, 8.979633863168191), (2789, 8.927125498380567), (4669, 8.917894729242104), (196, 8.157894736842104), (4189, 8.157894736842104), (4959, 8.157894736842104), (4775, 8.095394737467105)]), (221967, [(1193, 5.37924821373264)]), (56554, [(3534, 9.031669464770875), (685, 8.966755568727121), (3112, 8.870581768251856), (2159, 8.852459016393443), (5688, 8.752459016893443), (1626, 8.635727892971133), (1397, 8.446312647946108), (880, 8.436789207427926), (3141, 8.363814476667772), (2782, 7.657228674523534)]), (209563, [(67, 7.7635468118226605)]), (220892, [(4245, 8.4)]), (189139, [(3379, 7.137254895294118), (621, 6.863262747299444), (6528, 6.679705096800753), (2090, 6.470588235294118), (1574, 6.12580182210756), (3700, 4.4179566768730645)]), (87949, [(1761, 10.926425693729769), (2168, 9.911407093020971), (2147, 9.5), (2718, 9.40909091), (1883, 8.961538466923077), (183, 8.229663071012329)]), (128119, [(391, 9.705124069238781), (287, 9.68422921287298), (1329, 9.625636697640893), (1328, 9.43340866782763), (267, 9.35579611288555), (3717, 9.11111111111111)]), (55097, [(707, 5.1181732094407835)]), (113519, [(4222, 8.98233184584399), (1900, 8.896659572034743), (2745, 8.80298188478691), (925, 8.699255786682112), (1773, 8.685432634091033), (3998, 8.657684668006473), (2787, 8.53411305894737), (2669, 8.277494369842197), (5487, 7.285964923280702), (6750, 6.5482774515003515)]), (112845, [(1852, 10.269230725949575), (5664, 6.0)]), (92184, [(1690, 6.5), (4368, 6.5), (3405, 6.5), (140, 6.4506737374090335)]), (62464, [(4223, 9.678136893779909), (1417, 9.076923076923077), (5695, 8.118589753173076)]), (55142, [(5626, 7.64634145195122)]), (21576, [(341, 8.199011955151079), (157, 8.16402701148104), (1744, 7.84796222241315), (781, 7.561181914747453), (3531, 7.518518518518518), (3538, 7.163756615530423), (1224, 6.5154058723034), (3532, 6.462962973518518), (3536, 6.361552034003527)]), (33461, [(996, 7.190476197142857)]), (225595, [(6677, 10.83959897933584), (70, 10.30541145394335), (6533, 10.14285713162052), (1471, 9.655772386424466), (2587, 9.277741360087894), (174, 9.221550471516492), (694, 9.023809523809524), (894, 8.879707701252213), (896, 8.113166495610688)]), (236840, [(4877, 8.874782034440756)]), (139070, [(3632, 9.888157895921053), (1895, 9.125)]), (65769, [(3172, 9.246376792463767), (630, 7.333333333333333), (5940, 7.333333333333333)]), (51526, [(207, 7.487317094872791), (4919, 7.332037173260307), (1940, 6.958451937390626), (1433, 6.511068500545215)]), (26624, [(3897, 9.564516118387097), (3899, 8.59259259212963)]), (63923, [(4707, 7.0), (1356, 7.0), (246, 7.0), (2585, 7.0)]), (71490, [(825, 8.368055548993055), (3941, 6.881849404129291), (51, 6.7612636177349)]), (237397, [(1709, 7.666666666666667), (2915, 7.500000001666668)]), (38081, [(7, 8.635020022869371)]), (30029, [(2091, 8.099999994), (257, 7.679487178589744), (181, 7.5), (4208, 7.5), (4179, 7.5)]), (249953, [(2372, 9.75)]), (183134, [(4411, 8.333333333333334), (4969, 8.008333336583334)]), (240051, [(1349, 6.549783538831168), (370, 5.454545454545454), (2274, 5.357784305746756), (457, 5.336898396898396)]), (205197, [(6811, 7.375), (1145, 7.375)]), (142623, [(3518, 9.065247250238095), (4169, 8.3125), (2740, 7.896494312805381)]), (257028, [(426, 8.82608694326087), (934, 8.657170053111702), (3947, 8.454560822130063), (4822, 7.5), (654, 7.5), (20, 4.771366174776964)]), (119749, [(48, 10.0), (49, 10.0), (4956, 10.0), (6769, 10.0)]), (507, [(510, 12.036630001501832), (518, 8.726725804604788)]), (100694, [(1364, 7.802063519335333)]), (73837, [(1975, 6.8), (5995, 6.8)]), (159506, [(158, 9.246694711708932), (912, 9.230193624664608), (341, 9.093851795497622), (6610, 9.017391300347827), (4646, 8.811957309444455), (1329, 8.681207359459773), (627, 8.623487722226724), (2396, 8.61090385977583), (338, 8.500638128834446), (5089, 8.308300394347826)]), (248850, [(703, 8.833333333333334), (3272, 8.833333333333334), (781, 7.596496075876327)]), (225435, [(2119, 7.916666644166668), (2219, 5.666666666666667), (1237, 5.666666666666667), (2057, 5.666666666666667), (6534, 5.666666666666667)]), (81977, [(4016, 9.34803000412758), (70, 8.781195053460007), (1305, 8.399185788997436), (2436, 7.884615384615385), (3444, 7.884615384615385), (2072, 7.7735042746153855), (906, 6.680868237707542)]), (21903, [(1490, 7.242694705251155)]), (164323, [(2149, 8.872455930932265), (1526, 8.651571940512602), (310, 8.650935371910077), (1355, 8.531798478020805), (6419, 8.281417825026853), (124, 8.221850036863968), (637, 8.188013525820976), (2912, 8.173146466465383), (218, 8.024085170682545), (1249, 7.993809578403217)]), (208605, [(358, 6.273065428972543), (1686, 5.700886526195479), (1249, 3.7500000249999994)]), (150498, [(149, 9.222222222222221), (77, 9.082858905854776)]), (93363, [(1038, 9.502100822100841), (913, 8.992282527676013), (1037, 7.678571428571429), (867, 7.678571428571429)]), (254289, [(1074, 10.52350059103003), (2863, 10.17975397087566), (2532, 9.965266806194434)]), (80837, [(1764, 6.754385964035088), (4114, 6.666666666666667), (6301, 6.666666666666667)]), (93092, [(2208, 9.839649537180751), (405, 9.566758644724455), (2799, 9.497023798463497), (5937, 8.392857142857142), (409, 8.295771674461731), (463, 8.25821406262969), (406, 7.105162909843559)]), (139359, [(3611, 8.129807685384614), (1680, 7.92625111718538), (124, 7.673846388487312), (4713, 7.582952216945058), (634, 7.447811539623524), (6753, 7.4375), (6860, 7.4375), (2194, 7.287718451553524), (5589, 6.901268118623189), (2968, 6.388126677268027)]), (155147, [(6552, 9.111857132404424), (6362, 8.051993311303184), (5629, 7.142857142857143), (2282, 7.142857142857143), (4989, 6.961944746562051), (449, 6.606393923352145)]), (10354, [(2208, 8.842293896164875), (2210, 8.539682532063493), (2211, 8.466302361056467), (616, 6.929292938535353)]), (120082, [(1045, 7.2)]), (8936, [(1442, 8.872842383082645), (2035, 6.590827509415082), (2034, 4.917948735282051)]), (237486, [(5667, 6.285714285714286), (1490, 6.136763485627501), (4590, 5.880308884369942)]), (192428, [(165, 7.881798521621511), (2757, 7.368421052631579), (1003, 7.295817669354441), (2550, 7.142614603276741), (4676, 6.32842106303158), (2004, 6.237986281327231)]), (172760, [(510, 8.423051241969102), (4141, 8.407242059551091), (5310, 8.080586075970697), (5956, 7.619047619047619)]), (246156, [(3895, 8.792466018477217), (3532, 7.708333332916667), (3912, 7.666666666666667), (4352, 7.666666666666667)]), (74453, [(4602, 8.230769210769232), (3729, 7.018108384227145)]), (209631, [(1247, 8.929787227393616), (6109, 7.6)]), (226267, [(4082, 8.345912646073305), (3266, 8.0), (1714, 7.344827592758621)]), (125216, [(1071, 10.93055553), (2303, 8.874999995)]), (51742, [(2481, 8.601062431530702), (803, 7.409532358979759), (801, 7.349119003332942), (2626, 7.148148148148148), (2270, 7.148148148148148), (5461, 7.148148148148148), (1211, 6.920875423148148), (103, 6.700876642450267), (1107, 6.537037043189597)]), (130438, [(1957, 7.714285714285714), (421, 6.587922394181183)]), (239748, [(3239, 7.25), (3832, 7.25)]), (241565, [(2004, 6.2), (2947, 6.2)]), (75485, [(4309, 9.361111101944445), (477, 9.162467414916085), (4724, 9.004444438844445), (1026, 8.091503271503269), (373, 7.816537473979328), (1058, 7.00661599026671)]), (152942, [(590, 8.4969053926341), (4581, 8.25), (5002, 8.25), (1779, 7.861111115)]), (177284, [(3905, 12.157509131318681), (3482, 11.758461527361538), (107, 9.769230766923076), (6804, 9.538461538461538)]), (223201, [(1436, 8.6875), (6081, 8.6875), (2829, 8.427001150380441)]), (208147, [(1821, 9.106738520682724), (393, 8.752794769761069), (451, 8.518408497571361), (4810, 8.5), (214, 8.28892041988039), (685, 7.697772777203736), (773, 7.090909105)]), (42323, [(3461, 8.742099403179997)]), (1409, [(686, 8.5), (688, 8.5), (687, 7.633333342)]), (148863, [(3480, 8.499369979154219), (1336, 7.303571429821429)]), (166596, [(2445, 10.606626995412064), (3807, 8.878511860868523), (1594, 8.552674030042345), (2528, 8.363636363636363), (929, 8.363636363636363), (5536, 8.363636363636363), (6400, 8.363636363636363), (654, 8.363636363636363), (285, 8.276420564024807), (3949, 7.670423759219329)]), (2010, [(796, 7.75), (794, 7.75), (793, 7.75)]), (116123, [(657, 7.509119543302415)]), (26713, [(3594, 8.0), (3903, 8.0), (1895, 8.0), (2806, 8.0)]), (224146, [(2335, 9.12772635001641), (2063, 6.530725487150676)]), (138198, [(624, 8.56185218850885), (906, 7.995836999206992), (3612, 7.884992981570827), (447, 7.080174637778196), (4763, 6.866847830461956)]), (213064, [(1759, 8.434517688240339)]), (203621, [(3690, 7.167307690221154), (1458, 6.75)]), (31471, [(1001, 8.857142848571428)]), (156342, [(3127, 6.75), (144, 5.688775520816326)]), (2766, [(940, 8.760919530896551), (908, 7.827586206896552), (378, 7.627576997733237), (944, 6.356997986308316)]), (32440, [(2958, 9.89123817866908), (3991, 9.799476874658065), (3449, 9.0027694518766), (158, 8.79499157648734), (637, 8.14323574833079), (4461, 7.822494867309263), (4355, 7.702702702702703), (2981, 6.560134165847003)]), (62881, [(3946, 7.132402752184682), (1617, 5.048446223470932)]), (66387, [(4149, 5.8), (723, 5.615384616307692), (5046, 4.669073281516702)]), (233445, [(2442, 9.276308875452033), (2808, 8.338189420050938), (6099, 8.23076923076923), (3198, 7.929966860396576), (560, 4.63076926676923)]), (157252, [(459, 10.628685885292468), (5767, 8.399999997999998), (2070, 7.945591830964347), (1004, 3.871641834328356)]), (54290, [(477, 8.5), (1082, 8.5)]), (128060, [(6231, 8.986018871824841), (5359, 8.490375346119258), (1793, 8.25), (3595, 8.25), (989, 7.7689873465822785), (6576, 5.25000003082207)]), (133284, [(664, 6.6), (1057, 6.6), (6041, 6.6), (3880, 6.6), (2769, 6.6)]), (140036, [(3492, 6.555555555555555), (5971, 6.555555555555555)]), (18401, [(2490, 8.980237149575027), (2388, 8.045454550454545), (2638, 8.00730519749594)]), (221557, [(274, 5.685939800427639)]), (218836, [(1231, 6.0), (487, 2.7142857471428568)]), (259320, [(2710, 9.45934707336268), (4596, 8.461890223147769), (6798, 8.071428571428571), (2024, 8.071428571428571), (83, 7.808270679323307), (1589, 7.492340821145852), (1264, 7.352739951756288), (6471, 5.703007542481203)]), (56307, [(5659, 9.050757569337122), (5683, 7.766666666666667), (519, 7.297390757388985), (4672, 7.266666671666666)]), (136010, [(112, 9.316771683033952), (2955, 8.754404336486333), (280, 8.346153846153847), (2128, 8.346153846153847), (496, 7.93438914438914)]), (207148, [(419, 9.110192142381232), (2918, 8.599726995973533), (2000, 8.352086873680037), (903, 6.256801553116854)]), (86189, [(448, 8.279998260137871), (1875, 7.567379356773652), (1544, 7.011520318297196), (1089, 6.988332560164139), (614, 6.963363958432713), (1058, 6.740878114131261)]), (263107, [(6061, 9.485928321099442), (6268, 9.0)]), (152099, [(630, 9.190458758892293), (876, 9.142499989375), (503, 8.490211315919836), (1287, 8.08)]), (179688, [(4345, 5.922807006315789), (4164, 5.867567556891892)]), (116428, [(207, 8.311861240104381), (6487, 7.142857142857143)]), (33124, [(3250, 9.45454544), (3767, 9.041215304457639), (4526, 8.491958190011207), (4529, 8.0), (59, 7.529873626193779), (94, 7.106786582898286), (3196, 5.923076943846153)]), (186547, [(4193, 7.595238089285714)]), (110746, [(4553, 8.285714285714286), (4214, 7.132979513356185)]), (18096, [(3230, 9.0)]), (155778, [(207, 9.333541561293732), (156, 9.091158408565123), (50, 9.041085691272864), (3177, 8.073027735454172)]), (193428, [(833, 8.4)]), (271375, [(824, 8.6), (2517, 8.6)]), (159858, [(4372, 8.559863060179898), (253, 8.504848480657577), (3761, 7.904166665479167), (6405, 7.715277777534722), (1040, 7.666666666666667), (4156, 6.521358577273254)]), (88248, [(1182, 6.5)]), (144707, [(1640, 9.347651632556994)]), (249628, [(5236, 10.245311880088021), (310, 9.284615380504274), (338, 8.607069859235565), (971, 8.35452660505596), (2719, 8.256495694400828), (2009, 8.131508345734492), (140, 8.120964925877983), (75, 7.345291820914046), (2144, 7.2177931726380455), (167, 4.6458766799307)]), (177186, [(1264, 5.0561314654375735)]), (232292, [(2070, 7.6525890663903064), (277, 7.6)]), (50895, [(1567, 8.131014123424274), (545, 7.867225226872652), (5267, 7.282964716556197), (3696, 6.900296063137576), (1068, 6.885529780118643), (3323, 6.337269849107454)]), (205735, [(4160, 11.061991040124816), (45, 10.118579292942004), (2394, 9.428571428571429), (41, 7.872094891124446), (3227, 6.42549452050989)]), (242914, [(1690, 9.61538460923077), (5692, 9.147540982131147)]), (186807, [(6818, 7.533333331987661), (1040, 7.4), (3201, 7.4)]), (262186, [(1166, 7.746794869727564), (6602, 7.333333333333333), (5904, 7.333333333333333)]), (32773, [(4325, 9.75618248741956), (984, 8.539918192703126), (4509, 8.08695652173913), (2513, 8.08695652173913), (4508, 8.08695652173913), (4496, 7.942570981392132), (3483, 7.807072801368665), (1160, 7.463671700094323), (1410, 7.261735780465937), (4497, 6.8994565336141305)]), (49422, [(3119, 8.016415416788353), (2233, 7.851752806596114), (3133, 7.156860513570702), (5203, 7.111111108333333)]), (268657, [(70, 8.415953364736906), (622, 8.024204291155346), (2845, 7.92063491920635), (6735, 7.868686867777778), (5779, 7.777777777777778), (3486, 7.6509661842089365), (1103, 7.557319252248425)]), (162827, [(2320, 7.583333333333333), (1412, 5.503333354133332)]), (41781, [(177, 8.944055938374126), (1214, 8.606724761190563), (207, 8.261652380924914), (1504, 7.469094789638664), (379, 7.462839828284422), (3107, 7.067496232961915), (359, 5.391025653108974)]), (55826, [(1103, 6.443681326462912), (2044, 6.066470597902941)]), (269353, [(5469, 6.0)]), (170575, [(824, 7.75), (2007, 7.75)]), (150762, [(4493, 9.313043479130435)]), (176459, [(2985, 6.7272727272727275)]), (228206, [(1337, 8.0)]), (64679, [(5915, 7.25)]), (69156, [(5096, 8.701640458921736), (70, 8.09702112542586), (3028, 7.994113363078626), (1372, 7.681843842211024), (1636, 7.6689291323688655), (803, 7.6554350641026), (3053, 7.526315789473684), (3443, 7.1747521774116905)]), (254751, [(4474, 6.666666666666667), (5966, 4.982456157192983)]), (22521, [(590, 8.083707979007748), (1251, 6.880357148428572), (2073, 6.710227280000001), (3606, 5.490131598421052)]), (46269, [(5002, 10.363636343636363), (1612, 8.363636363636363), (2523, 7.030303043636362)]), (237429, [(2770, 8.6)]), (115874, [(1014, 8.488647417966044), (1478, 7.547151761687893)]), (268751, [(845, 10.162032406095479), (1836, 8.840140887942452), (5236, 4.85317463845238)]), (246470, [(3865, 10.871428562071427), (971, 9.599392094267477), (6174, 9.142857141428571)]), (99252, [(2028, 7.5), (160, 7.136215354004435)]), (145737, [(3425, 7.613662703036439), (634, 6.558103148149878), (595, 5.970426636982062)]), (203422, [(17, 5.408256977687637), (417, 5.113395226147215), (6177, 3.6250000162499996)]), (170810, [(5586, 7.75)]), (176879, [(2320, 6.8), (3865, 6.8), (5896, 6.8), (3392, 3.800000029999999)]), (265504, [(2662, 7.933333328000001), (227, 7.4)]), (127129, [(1207, 7.915253180882399), (411, 7.437091982414197), (444, 5.524137953793103)]), (240568, [(3355, 8.299608270712406), (3552, 7.258040707800033), (3327, 7.171428570714285), (3567, 7.15952380892857), (5691, 7.1), (1616, 7.078549890292643), (1871, 6.794370590252964), (2880, 5.013793124952404)]), (183187, [(970, 9.680111132880711), (1993, 9.000000003333334)]), (152082, [(3518, 8.0), (54, 8.0), (2625, 8.0), (243, 8.0), (3230, 7.769230771538462)]), (264657, [(6286, 7.533333325), (309, 7.439130426991491), (1753, 5.648971817202618)]), (8284, [(1915, 9.4)]), (3556, [(1070, 11.329795699113053), (1075, 9.625)]), (239584, [(3470, 9.162235103671032), (378, 9.148375730216797), (2980, 9.030521109500839), (61, 8.801526644486994), (618, 8.751852898530819), (4187, 8.63621267941903), (107, 8.134309773376096), (4197, 7.1647604409514125)]), (229632, [(1241, 6.487804870609756), (6713, 5.0)]), (270352, [(4445, 4.674830972393687), (240, 4.566666663333333), (5385, 4.256608299265499), (2274, 4.136869332300867), (2275, 3.54649795761227), (1495, 3.316666675978195)]), (205473, [(1756, 10.352982444091818), (5212, 9.642347746926303), (235, 9.511176584004911), (394, 9.296812673502759), (3892, 9.16), (4381, 8.450322587741937)]), (77383, [(5473, 9.04309036518226), (3827, 8.694937883847755), (849, 8.196516117210821), (6232, 8.187499999367438), (3268, 7.853841554004356), (2501, 6.945024494218807)]), (121083, [(3081, 8.739171367735405), (2099, 7.333333333333333)]), (107921, [(6702, 9.0)]), (43157, [(5133, 11.312820487537671), (4573, 9.156453254177677), (2370, 8.8)]), (131032, [(6012, 8.619047607857143), (222, 7.690476188571429), (2427, 7.690476188571429), (1529, 7.5), (2537, 7.5)]), (23582, [(3455, 7.5), (3480, 7.5), (3659, 7.5)]), (224289, [(1964, 7.836879430921987), (1160, 7.706997863147035), (3639, 7.666666666666667), (5951, 7.666666666666667)]), (136943, [(1177, 7.977613865080875), (1289, 7.682904409224112), (704, 7.463641860622303)]), (31393, [(1428, 7.903885214767547), (832, 7.696827252914218), (465, 7.574339477742931), (637, 7.114577702365691), (4402, 6.250225689766787), (824, 2.583783825783784)]), (120908, [(207, 9.472230564089315), (665, 9.104930263592882), (590, 8.816297090587284), (4233, 7.710843788637052), (1545, 6.171854031565696), (3120, 6.16515839515837)]), (80266, [(532, 9.0), (2347, 8.86904761970238)]), (277639, [(170, 7.383146463572184), (172, 7.333333333333333), (165, 7.333333333333333), (166, 7.1003782836473235), (164, 6.154986134641229), (167, 3.927927961981981)]), (253602, [(5236, 8.479744114520257), (3610, 6.20879120956044)]), (259078, [(3564, 8.54135303204506), (19, 8.53686674787551), (2604, 7.832991872280618)]), (9381, [(2093, 8.224556483853876), (925, 7.142857142857143), (2087, 6.872066069160389)]), (30906, [(3067, 8.0), (1108, 8.0)]), (115490, [(730, 7.906828590277959), (5214, 7.537036495035662), (5489, 7.416666666666667), (6756, 7.416666666666667), (360, 7.416666666666667), (1270, 7.091025329356544), (2273, 6.7023809595238095), (5858, 6.279487185173077)]), (81855, [(6323, 8.116666663611111), (3017, 6.660863699502924), (5136, 6.585585587633634)]), (116897, [(1320, 5.666666666666667), (4246, 5.666666666666667), (3235, 5.666666666666667)]), (1903, [(789, 6.75000000125)]), (209229, [(93, 7.531194287860964), (5778, 7.3321036431310205), (457, 7.261459519510742), (2520, 6.7272727272727275), (1366, 6.7272727272727275), (678, 5.780844160576299)]), (207494, [(4839, 8.856422276450203), (6851, 8.545673074194712), (3321, 8.503472220543982), (2604, 8.357142853571428), (1207, 8.039511494055317), (1012, 8.0), (1280, 7.538336451156056), (4535, 7.469790747420179), (6838, 6.00000002), (5662, 4.534883755581394)]), (505, [(504, 8.0)]), (141704, [(1981, 6.75)]), (193156, [(3324, 7.0)]), (252829, [(473, 10.857695392097213), (341, 10.652352622714343)]), (167782, [(1946, 4.234782644347826)]), (67487, [(533, 8.354188623509264), (3221, 6.75)]), (125514, [(2319, 7.833333333333333), (1284, 7.708333333958333)]), (217012, [(2005, 5.585714297857143)]), (21011, [(2302, 9.079999989914521), (465, 8.902724842636099), (98, 8.58666871947065), (1512, 8.35844334976145)]), (44893, [(498, 9.179292911111112), (1263, 8.657407394444444), (695, 7.204512507148585), (409, 7.197350606363685), (7, 6.145458940237198)]), (267184, [(477, 8.03615151641138)]), (232131, [(1571, 7.792551964278031), (472, 7.59694187881066), (3743, 7.557125333145811), (471, 7.555593373533973), (3056, 7.543903247657119), (285, 7.367713424094966), (127, 7.3360303785053045), (997, 7.295743972430237), (207, 7.25964763270184), (379, 7.162205771409413)]), (193738, [(1955, 5.2), (2761, 3.600000016047268)]), (48579, [(1071, 9.574122446724399), (981, 9.180296084549784), (1899, 8.9)]), (96869, [(941, 9.379999991188136), (5621, 8.5), (3083, 8.5)]), (185147, [(4486, 8.327380941964286), (2189, 6.834147336405168), (5438, 5.571428588571428), (1347, 0.8607143499642849)]), (147839, [(5900, 6.6875), (2324, 5.4738247903703705), (4009, 5.405241941895161), (531, 4.530241946270161)]), (148314, [(624, 8.924393993089126), (5991, 8.004048060530282), (1205, 6.884368214887093), (2620, 6.424701652426137)]), (229703, [(1554, 8.788537544214428), (1722, 7.75), (4525, 7.75), (3303, 5.6115384722307695)]), (125736, [(1167, 9.085987470708845)]), (16718, [(3055, 10.050953466045003), (3054, 9.699047616219048), (2822, 9.633333328333332), (2836, 9.263822147925296), (781, 9.139513408674398)]), (105536, [(433, 8.477027025891893), (741, 8.25), (285, 8.1833476948635), (51, 7.863545358011726)]), (62891, [(2611, 8.396243184540813), (1105, 8.218927494454581), (1027, 7.948776944497338), (2169, 7.466236955192284)]), (72990, [(4775, 9.118625272932373), (434, 8.873250261144024), (230, 8.272727272727273), (5155, 8.272727272727273), (3170, 6.70532531977997)]), (71162, [(1507, 8.06666666), (6109, 7.4)]), (102154, [(4877, 10.499782034440756), (698, 10.0), (3426, 10.0)]), (233143, [(5171, 8.0), (3677, 8.0), (2208, 8.0)]), (5499, [(1314, 11.499999985), (1308, 10.550867351544198), (1310, 10.499999995)]), (246759, [(774, 6.724650483778462), (6393, 6.656058006178432), (2626, 6.630685950604281), (1893, 6.113677398573158), (448, 6.110803688683382), (3256, 5.679514000925595)]), (44663, [(1229, 7.975488377680256)]), (125538, [(589, 7.761482031374429), (212, 6.75), (3588, 6.607142858571429)]), (9856, [(277, 7.2), (2149, 7.2), (2158, 6.272857147492857)]), (32087, [(2191, 7.3936425940012604)]), (126053, [(597, 11.534313717818627), (3727, 11.226190470059525), (124, 10.80392900165576), (4025, 10.0), (3928, 10.0)]), (108481, [(805, 7.0), (1067, 6.964540532020485), (2345, 6.603252034504065)]), (216495, [(2212, 9.4), (2678, 9.122222225)]), (109901, [(1910, 11.048145810346952), (620, 10.265107700752353), (2215, 9.527860037601227), (4560, 9.36496863694311), (1708, 9.085047256690244), (2217, 9.057449174647251), (781, 8.782210443659109), (1225, 8.765600779541021), (3078, 8.590643559629495), (1964, 8.276667265822958)]), (102581, [(197, 6.8), (166, 5.979226320246729)]), (244420, [(5863, 9.413933669010945), (338, 9.335818899776282), (590, 9.072708177922133), (6513, 8.766749378114145), (243, 8.752888770139705), (136, 8.506232509717773), (880, 8.087399319646314), (712, 7.9834295176783785)]), (198213, [(1577, 8.596342295238399), (3946, 8.544897956715637), (414, 8.42589626976595), (6385, 7.966666670000001)]), (259388, [(2371, 5.5), (6, 5.1744186079069765)]), (54512, [(2103, 7.0), (5608, 7.0)]), (152946, [(4989, 9.058000932104564), (153, 8.361023246834984), (1789, 8.221513607557815), (6571, 8.18527131364341), (1286, 7.822051281774359), (3983, 7.75985946640031), (4669, 6.95246187635236)]), (149843, [(1493, 10.390822468494887), (3976, 10.31707144471619)]), (210627, [(61, 8.21236558658602)]), (230627, [(4948, 10.068965516551724), (156, 10.0), (5630, 10.0), (4082, 10.0)]), (265313, [(846, 9.082706754774435), (339, 8.584183733718364), (45, 8.558428917002153), (3570, 8.507636538983691), (4918, 8.483805661862348), (5863, 8.269263349648426), (4592, 8.244158125215758), (5821, 8.052944861232769), (74, 7.961063619166063), (3555, 7.868421052631579)]), (170742, [(362, 11.19999997), (995, 8.2)]), (224923, [(308, 8.824127577366607), (1781, 7.877450982573529), (1264, 6.110329159847847)]), (233711, [(384, 8.681041390208204), (746, 8.623938220318534), (6280, 8.607586629407336), (501, 8.314511294731972), (426, 8.291902833224292), (6004, 7.9), (3992, 7.9), (2044, 6.921576595738719)]), (202000, [(2133, 7.5), (4211, 7.5)]), (155989, [(4945, 6.477777775), (6489, 6.384761071799169)]), (224349, [(730, 8.562687389616785), (1680, 8.367113178815611), (991, 8.313700654012496), (5053, 8.303644552794015), (4053, 8.285454542754545), (3148, 8.000418142574674), (4107, 7.745454545454545), (6470, 7.745454545454545), (4512, 7.27484560447872), (3373, 7.190430162707233)]), (175117, [(57, 8.36538460423077), (5195, 7.25), (1405, 7.25), (4274, 7.25), (4433, 7.25)]), (178587, [(641, 4.1666667)]), (247897, [(3196, 7.6)]), (213316, [(4251, 8.733333322), (5301, 7.6), (5061, 7.6)]), (40796, [(4937, 8.56060605), (5006, 7.5)]), (16601, [(2520, 9.14882564321385), (2586, 8.875)]), (53628, [(3512, 8.732199948326985)]), (94385, [(3667, 5.0), (5945, 5.0)]), (228311, [(1857, 8.602086426676602), (581, 7.617870081176494), (657, 7.4957527300586095)]), (244676, [(536, 7.0)]), (200422, [(1004, 9.38311687383117), (3074, 8.568962213241019), (1049, 8.454545454545455), (1272, 8.201120962628954), (5138, 6.592476507648902)]), (240643, [(934, 8.084606480259914), (2533, 8.006912438041475), (3074, 7.8732804222742505), (684, 7.63939297818697), (1425, 7.571428571428571), (5552, 7.205026456247795), (1219, 7.087982054321185)]), (228108, [(1865, 7.0), (180, 7.0), (5224, 7.0), (5335, 7.0)]), (76105, [(487, 8.142857144642857)]), (33832, [(675, 4.87016339371573)]), (242962, [(3552, 6.125), (1710, 6.125)]), (48911, [(997, 9.4), (160, 7.590476208571429)]), (278356, [(336, 8.875), (342, 8.875)]), (268300, [(3939, 11.079507251858072), (3653, 9.712586932308561), (6182, 9.648429573626172), (2257, 9.631719532962528), (6696, 9.3652371195486), (5409, 9.278603497379164), (6137, 9.05782629724846), (3146, 9.013060127775589), (3083, 9.008425275303912), (6834, 8.858972468580477)]), (74833, [(6080, 8.658333330083334)]), (232945, [(1629, 8.921220219815453), (608, 8.642022904385838), (3023, 8.591634805472186), (31, 8.589763043590425), (1447, 8.515030881134063), (2064, 8.503619702966496), (1883, 8.368541246106146), (1269, 8.263236164947244), (997, 8.173602247718724), (2651, 8.090909090909092)]), (43359, [(169, 10.309523801309524), (849, 8.666666666666666), (3175, 8.666666666666666), (4426, 8.666666666666666), (2052, 8.666666666666666), (3083, 8.626134772171717)]), (90174, [(5914, 8.166666666666666)]), (196253, [(2395, 9.0), (267, 8.919623893357478)]), (233543, [(6366, 8.910042014838046), (4228, 8.171923337273098)]), (203799, [(6067, 9.701127802180451), (1924, 8.964285704285714), (3404, 8.83807211331484), (2483, 8.464285716785714), (5334, 7.964285714285714), (6581, 7.964285714285714), (5679, 7.964285714285714), (5463, 7.964285714285714), (3012, 7.964285714285714), (3636, 7.8513044143178625)]), (236058, [(574, 9.471100154407033), (520, 9.199999988), (3994, 8.912318838298914), (1158, 8.312708682910431), (604, 8.12265232356199), (1490, 8.090400016417014), (4268, 6.997526292797541), (3033, 5.4383103301270905)]), (33818, [(2781, 10.806249971), (4570, 8.377915110833067), (4572, 8.02232994337853), (4575, 7.90625), (3913, 7.90625), (2692, 7.810509504953871), (243, 7.809192340353948), (4569, 7.615878132023454), (1730, 7.404123433375376), (95, 7.0796734275563065)]), (267642, [(2699, 6.6), (1881, 6.6), (1045, 6.510568340871156)]), (204946, [(3406, 8.1500000025), (1530, 6.500000019)]), (159732, [(1636, 8.271670876995687), (2784, 8.199095019095022)]), (6611, [(1602, 9.940375066115184), (1598, 9.4)]), (184629, [(657, 7.823169975514564), (1574, 7.556118325811463), (6901, 7.428571428571429), (140, 7.245722094805622), (1093, 7.1658942650670365), (4081, 6.889085975867116), (1895, 6.2258823985862195)]), (247918, [(4919, 10.326980306148982), (3993, 8.537907271909463)]), (21404, [(1411, 8.623791300813645), (54, 8.413259078425316), (1159, 8.044355981213364), (2016, 7.64), (103, 7.467014620705278), (381, 7.337039627797028), (3510, 3.700606099999999)]), (231393, [(1472, 10.356923056121055), (1634, 9.390261862493368), (1359, 8.28), (2509, 8.28), (1070, 8.28), (5978, 7.949247306060938), (2716, 7.889609875398474), (500, 6.6915384694807685)]), (123744, [(1539, 7.25), (3290, 6.682396549686834)]), (63956, [(397, 9.71296057209499), (843, 9.634615382), (1066, 8.87882836397831), (1356, 8.85), (5901, 8.85), (883, 8.82869958994609)]), (87351, [(3091, 9.481715884588608), (4400, 7.777777777777778)]), (97515, [(2407, 8.330631462631413)]), (210717, [(2977, 6.5), (3548, 6.34807180905215), (4398, 5.819580422982518)]), (182414, [(4033, 8.461538446923077), (2294, 7.0)]), (112109, [(4925, 8.2)]), (37968, [(4884, 7.0), (2024, 4.083959914329573)]), (173684, [(6539, 7.185185183333333), (467, 7.0), (1407, 6.283303198279084)]), (261590, [(1626, 5.598476402495974), (5287, 5.5)]), (222716, [(404, 7.914855072056159), (971, 7.501074006082137), (2795, 6.22912128348826)]), (119671, [(2668, 10.428571408571429), (3437, 9.42857141857143), (2975, 7.4849388464979345)]), (162780, [(1141, 10.756493482564935), (157, 9.435682810207055), (156, 8.963636357636362), (279, 8.417889398093093), (3141, 7.327178035485321)]), (245281, [(1634, 8.364308034088157), (333, 7.666666666666667), (312, 5.710144947101449)]), (204470, [(1395, 7.0), (4222, 7.0), (696, 7.0)]), (57398, [(5715, 9.53571831052738), (1002, 7.874242426992424), (1042, 7.580473036892614)]), (177590, [(3693, 9.867690054766081), (1498, 9.703536977406525), (2676, 9.627896398455388), (316, 9.46430026150845), (2863, 9.31169021416646), (1499, 9.175792549939473), (2865, 8.99499257741096), (1557, 8.30681819), (6129, 7.5650000156)]), (2891, [(950, 8.673202795935996), (227, 8.30649217230937), (946, 7.845038481651955), (956, 7.578947368421052)]), (216882, [(5326, 7.857142857142857), (5306, 7.857142857142857)]), (262666, [(465, 9.59586278181669)]), (223438, [(648, 8.379248625002008), (1744, 8.199991771342678), (5066, 6.093661579291643), (20, 3.9396985805181775)]), (122716, [(5736, 10.564950964117648), (2707, 10.0056818075), (4989, 9.85906412492389), (3231, 9.816344625280975), (1036, 9.617155303445422), (382, 9.317609512106213), (928, 8.9375), (3083, 8.868471397688726), (383, 8.575312177498661)]), (258152, [(4554, 8.533613443202615), (3092, 8.441163051603723), (1754, 8.265257845363093), (4535, 8.254416411263755), (1477, 8.182953007188658), (1284, 7.910428524615221), (5311, 7.880952380952381), (3521, 7.805362983955072), (4899, 7.592114344408268), (1478, 7.526565287350403)]), (75860, [(1984, 8.451863348920808)]), (247129, [(737, 9.400560727680448), (6586, 8.544362881202584), (1104, 8.00644988929113), (981, 7.998531043556092), (1447, 7.889398767723394), (5745, 7.604699357003965), (608, 7.570699576583355), (2026, 7.407788210553007), (4619, 7.381795582051687), (3665, 7.262621204749965)]), (132909, [(3135, 8.715224016036437)]), (149069, [(2901, 11.668331659275724), (1630, 10.588717699473836), (816, 10.056547618050596), (2038, 9.863084505726981), (1283, 9.857142857142858), (5369, 9.729397350147302), (320, 9.554175183039165), (2026, 9.379979383571518), (373, 9.229235886677742)]), (160681, [(477, 9.062511640530516), (931, 8.418834898835335), (6250, 6.90952381892857)]), (51450, [(1652, 9.92587927378428), (2483, 9.000000009999999), (3030, 9.000000009999999), (5446, 9.0), (1253, 7.968884346236419)]), (137588, [(3307, 8.492307684307692), (237, 7.6923076923076925), (3160, 7.6923076923076925), (2330, 7.6923076923076925), (1755, 6.514686529033753), (2038, 6.033771123527204), (1922, 4.909699024481605)]), (197942, [(573, 5.6)]), (216151, [(592, 7.527374030037548), (1958, 3.4583333720833322)]), (94923, [(6139, 7.444444444444445), (2226, 7.444444444444445), (5499, 7.444444444444445), (3826, 6.916913822101957)]), (42410, [(232, 7.21874999890625), (2987, 7.0)]), (53729, [(2458, 9.206487326582279), (3229, 8.059593019534883), (124, 8.029287427993102), (1504, 7.83384146195122), (5588, 7.68750001)]), (136193, [(2189, 10.221489398751732), (3185, 8.6), (3629, 8.6), (1684, 8.6), (953, 8.6), (70, 8.203243912208343)]), (125808, [(1569, 8.0), (6242, 8.0), (581, 7.8823529423529415)]), (219301, [(4413, 7.520769233365384), (165, 7.282714738926968), (4924, 7.127719297316276), (6708, 7.04), (3439, 6.416207556445888)]), (20462, [(1494, 8.643097637798821), (169, 8.255782309562925), (1491, 7.9121281182147305), (1595, 7.583333333333333), (744, 7.101038686737163)]), (131617, [(2604, 6.333333333333333), (2478, 6.333333333333333)]), (252627, [(3713, 10.0), (3700, 10.0), (1066, 10.0), (620, 10.0)]), (235935, [(3000, 9.798717934384616), (3480, 8.416642544989541), (486, 8.29943729384705), (6, 8.212322583591387), (151, 8.143287150367367), (4333, 8.070019186430414), (1948, 7.668943161186819), (5630, 7.629273506727207), (5797, 3.698717995384614)]), (114414, [(2699, 8.643956033516483), (1103, 8.407659531833687), (3604, 7.899999996999999), (2692, 7.890609567151006), (1768, 7.8822838798145805), (5647, 7.6), (2309, 6.083333348499998), (3854, 4.234615418269231)]), (244627, [(2257, 10.206176567869457), (2158, 10.134267297849542), (6168, 9.661691538955225), (5241, 9.542643921064972), (4109, 9.52794221253636), (5908, 9.520861480730222), (233, 9.45672932018215), (6306, 9.328358208955224), (5571, 9.328358208955224), (179, 9.165154590378295)]), (256270, [(70, 8.135416662239583), (310, 7.25)]), (45113, [(5210, 10.458333322083334), (3772, 9.333333333333334), (3412, 9.333333333333334), (3859, 9.333333333333334)]), (189080, [(1788, 6.606735781792104), (1436, 6.393762185087719), (2035, 6.341400442508804), (533, 6.2447682374678095)]), (6532, [(1481, 8.48470797310794), (1380, 8.277777777777779), (1486, 8.277777777777779), (1480, 8.145162325217848), (1477, 8.140351758933535), (1478, 7.993370220423623), (1489, 7.4926900624049715)]), (94529, [(3055, 8.782608687826087)]), (105874, [(431, 8.5), (3368, 8.5), (4258, 8.5)]), (224764, [(890, 8.607918267431454), (4562, 8.203247248807712), (3475, 8.09999999399191), (2955, 8.065604596264352), (3088, 7.935483863400603), (207, 7.734226596613146), (5129, 7.5), (2859, 7.471050989828637), (4528, 7.432941013582312), (1795, 7.3179141441501105)]), (106208, [(1719, 11.1249999775), (192, 10.08826228533483), (1626, 8.87998829091842)]), (98575, [(3973, 9.979166650208334), (181, 8.333333333333334), (4632, 5.509803949803922)]), (76818, [(2449, 9.830663600297484), (394, 9.076194636335432), (3931, 8.993343037952986), (393, 8.93944270665768), (183, 8.708690571358305), (285, 8.615005006713721), (75, 8.304347826086957), (1530, 7.98789706831258), (2450, 7.7170619955974535)]), (223566, [(1751, 8.3135558041934), (2543, 6.984623736120285), (2352, 6.9411764705882355), (2912, 6.884032652527432), (1264, 6.276032644972843)]), (261105, [(274, 7.3716931198346565), (6830, 7.0)]), (20119, [(3365, 8.534090899999999), (434, 8.36785434550162)]), (166830, [(6000, 10.25000000375), (456, 10.0), (4140, 10.0), (2114, 9.884174810628014), (2277, 9.826793643931511)]), (227859, [(2993, 9.6), (2697, 9.6)]), (100815, [(727, 7.217459790574002), (2918, 6.614637154130461), (329, 6.2)]), (253867, [(124, 10.613167441997135)]), (155810, [(4071, 11.651331694043584)]), (155343, [(2790, 7.5)]), (37623, [(2526, 9.123355256291118), (1474, 7.75), (4855, 7.75), (1309, 6.116666674833333)]), (172374, [(1973, 7.666666676666666), (2735, 3.9259259733333325)]), (136326, [(910, 8.449699349847817), (6430, 8.414880375085472), (267, 8.307019956266863), (59, 8.050060146086269)]), (61147, [(1701, 10.6999999955), (1401, 10.336461389619421)]), (188171, [(7, 10.273786399029127), (653, 10.171907115812967), (5351, 9.4)]), (253226, [(1292, 8.176315561977823), (4366, 7.888888888888889), (6784, 7.888888888888889), (6900, 6.407876245471168)]), (126907, [(3273, 7.25)]), (269835, [(2413, 8.718452375693452), (85, 7.666666666666667), (503, 7.661397310178551), (1626, 6.47834089197716)]), (144062, [(3243, 9.87499999125)]), (259057, [(3064, 9.753459495525538), (2918, 9.501994959369611)]), (206305, [(2202, 9.10736736953655), (3669, 8.972474799533304), (1212, 8.6080779819711), (1686, 8.29548950993508), (1412, 8.196289457451694)]), (202063, [(665, 9.5), (5002, 9.5), (4751, 9.5)]), (69721, [(726, 8.875), (110, 8.647727273863635)]), (128276, [(1991, 8.770308106974792), (1456, 5.979110799072204), (3439, 5.903090814312607)]), (201323, [(457, 8.571416533220747), (1263, 8.4), (6302, 7.2500000115)]), (124259, [(1836, 5.228249568344643), (1429, 4.8)]), (82901, [(456, 8.702017237711617), (486, 8.021403434925261)]), (141065, [(4957, 7.1224489783673475), (328, 7.048807749383383)]), (142212, [(3783, 6.726190466428571), (4852, 6.596585170612227), (3321, 5.637248532483214), (4511, 5.019230776981747)]), (173679, [(1225, 9.485741628810704), (3026, 9.23342174143236), (1084, 9.137958943356502), (1416, 8.8277592510436), (1159, 8.672542136513187), (1641, 8.598133166344516), (5432, 8.310344827586206), (591, 7.728187976562948)]), (160994, [(5184, 7.682142852321428), (1540, 7.2)]), (273307, [(1761, 8.942704636580086), (407, 7.970963948452666), (1760, 6.058492506962257)]), (181212, [(6167, 7.285714285714286), (893, 7.285714285714286), (685, 7.285714285714286), (4726, 6.0857142977142855)]), (92316, [(3855, 8.666666666666666), (3986, 8.666666666666666)]), (7105, [(1646, 9.621212101666668)]), (122643, [(2918, 7.581220893049842), (4205, 7.333333333333333)]), (34075, [(4478, 7.119470325778258), (1356, 7.111111111111111), (3016, 7.111111111111111)]), (95932, [(4943, 10.43749997624771), (2562, 8.67606264520124), (6555, 8.0625), (3104, 8.045070806158316), (3144, 7.908480334431126), (862, 7.793336948223457), (4774, 7.458333336354166), (1087, 7.424675001780982)]), (129474, [(285, 8.554244304554572), (3458, 7.662036539800141)]), (66533, [(2354, 7.5166666675)]), (257777, [(1731, 9.284320047532246)]), (17950, [(2996, 8.365664754868154), (1032, 8.04619916796825), (192, 7.8701423853018255), (3187, 7.5238835747935235), (2066, 7.512571223982104), (2707, 7.323199193420353), (1800, 7.164624427837748), (1268, 7.133235517591245), (1179, 6.829701472752926), (3188, 6.7700373315450015)]), (35233, [(549, 8.625), (4655, 8.053571436428571)]), (184365, [(5863, 11.015686255686274), (1009, 9.769217792525124), (592, 9.55823736958785)]), (242299, [(3933, 9.49714282967069), (6403, 8.457142847142858), (465, 8.229266320421928), (2554, 7.8595125055869115), (5469, 7.85297618600095), (246, 7.7560974055191005), (5061, 7.457142857142857)]), (188676, [(4924, 6.75), (2254, 6.75), (957, 6.288161996078661)]), (34588, [(1206, 9.058922197295535), (737, 8.863819875784605), (4309, 8.786231874891303), (4310, 8.786231874891303), (316, 8.159435741912432), (243, 7.289719311789384), (660, 6.580349537562872)]), (123801, [(1573, 6.355608105834229)]), (219951, [(2898, 9.25)]), (55734, [(329, 9.315752150240973), (5661, 8.988063657460213), (971, 8.798456490738554), (5551, 8.384615384615385), (2108, 6.552038261291882)]), (173486, [(4259, 7.888888888888889), (1292, 7.888888888888889), (1056, 7.888888888888889), (4391, 7.879327976331853)]), (155743, [(4133, 6.285714285714286), (3099, 6.03499589616328)]), (109741, [(5872, 11.0256903264172)]), (198012, [(844, 8.798177853948637), (1711, 7.882352941176471), (768, 7.882352941176471), (6257, 7.882352941176471), (2930, 7.882352941176471)]), (174092, [(1525, 7.991233191876096), (2093, 7.97729402614456), (1512, 7.894083817107505), (124, 7.856946754618155), (3823, 7.767252290153262), (2377, 7.482758620689655), (1788, 6.950202928689841), (6887, 6.755485897053291), (4648, 6.2912263685828)]), (69378, [(2218, 8.354066979330144), (2881, 7.964866875784374), (2557, 7.612035846261203), (5362, 7.090909090909091), (6027, 7.090909090909091), (4187, 6.950363429732417), (1193, 6.597670508145021)]), (120735, [(1441, 6.251204936895326)]), (9454, [(1743, 8.630630619144144), (262, 6.0267722488932876)]), (228579, [(440, 10.26389457876933), (6140, 9.032354925807201), (3475, 8.8), (195, 7.684147038436353)]), (130168, [(17, 6.8211959415857635), (4240, 6.75)]), (94362, [(207, 7.853946217932483), (914, 7.0)]), (99441, [(3524, 10.11764704882353), (5746, 9.117647058823529), (591, 8.88379009658048), (5708, 8.61764706382353)]), (86242, [(800, 6.266666671166667), (1068, 6.166666666666667), (777, 5.541666672916667)]), (54222, [(717, 7.666666666666667), (150, 7.666666666666667)]), (219593, [(1289, 7.459231177551576)]), (76873, [(5596, 5.666666666666667), (1547, 5.666666666666667)]), (37493, [(1700, 7.653956206348004), (3772, 7.25), (2780, 7.25), (1977, 7.025000006125)]), (68447, [(1364, 7.437499990625), (3448, 6.118962434821109)]), (35532, [(379, 7.7031974768360865)]), (11629, [(2166, 7.673786399029127), (1608, 6.8)]), (239460, [(2202, 6.5)]), (53392, [(575, 9.44131513276985), (691, 9.006944443677082), (1058, 8.802609717903765), (5571, 8.7), (1191, 8.490322582741936)]), (204936, [(465, 7.7049369030025225), (401, 6.977777776777778), (378, 6.601888450593983), (1185, 6.020768439612391)]), (30445, [(927, 10.684281728237506), (1626, 8.08029248956276)]), (150661, [(2573, 8.13376123585801), (267, 7.780409062559497), (4197, 5.910535201057661)]), (174918, [(884, 9.448686699686604), (6820, 7.935483881612903)]), (246766, [(2611, 5.0)]), (95903, [(50, 9.72617765310229), (737, 9.384057972427536), (2957, 9.026596224598393), (1251, 8.666666666666666), (4899, 8.666666666666666), (326, 8.666666666666666), (2825, 5.213852825362192)]), (224997, [(2441, 8.832294826200172), (934, 8.11360027050713), (1342, 7.53286302682441), (4657, 7.423667168588941), (3858, 7.366244424976537), (1410, 7.353087463830307), (5677, 7.325581405348837), (602, 7.026044482603171), (1035, 6.93497252119636)]), (35707, [(2176, 9.75), (4669, 9.75), (451, 7.397916678427084)]), (68465, [(2240, 6.0)]), (125063, [(2019, 6.17021276425532), (4519, 6.0), (6382, 6.0)]), (242646, [(2373, 12.701863312732918), (4807, 9.146776510621166), (794, 8.959466232298393), (2026, 8.91084070230301), (1447, 8.822328813010513), (2336, 8.571428571428571), (518, 8.32940486085665)]), (256023, [(4066, 7.5), (3329, 7.5)]), (114, [(441, 9.336046508697674), (442, 8.321428575714286)]), (238699, [(2248, 8.521567405934368), (5222, 7.428571428571429), (4393, 6.571428580000001)]), (29306, [(892, 8.0)]), (254355, [(5553, 9.457142848571428), (3558, 8.6)]), (3578, [(1082, 9.142857142857142)]), (103541, [(4470, 8.777777777777779), (6653, 8.71625451014036), (5958, 8.402777779652778)]), (129725, [(409, 7.831380685575009), (6066, 7.666666666666667)]), (124298, [(2983, 9.292188191639124), (3589, 9.120064938491472), (781, 8.695225193610177)]), (185296, [(3646, 8.686111108680555), (1454, 8.2), (178, 7.609090917045454)]), (67515, [(1104, 6.761685823215836), (5991, 6.6), (372, 6.6), (20, 0.29923080073461517)]), (388, [(487, 5.9833333285), (350, 5.5), (485, 5.5)]), (124310, [(2919, 7.958043126449352), (1829, 7.894736842105263), (4830, 7.894736842105263), (4622, 7.091454154081604), (445, 6.485021615068925)]), (7286, [(774, 9.604313232182122), (72, 7.3008798141205435)]), (243077, [(6735, 7.937062936153846), (6026, 7.846153846153846), (186, 7.846153846153846), (267, 7.772347042854182), (1068, 6.29573368196267)]), (106078, [(41, 8.333333326666667), (489, 7.666666666666667)]), (195469, [(5025, 9.087678315166182), (934, 8.857284282498327), (41, 8.076450564389638), (2482, 7.555555555555555), (3765, 5.2987373850214645)]), (254299, [(1058, 7.066550692150815), (12, 6.9282258063104845), (546, 6.924476433363563), (937, 6.1009690604699625), (3170, 5.253312707982654)]), (86489, [(1854, 7.1559977080774235), (5057, 7.0), (3442, 6.4972882487572505)]), (218241, [(1916, 9.355159469049719), (1501, 8.23076923076923)]), (138176, [(2193, 7.713863259114105), (6300, 7.125), (292, 6.8750000025)]), (264985, [(2711, 8.714285703809525), (934, 7.786318185919348)]), (108773, [(631, 9.4), (2539, 9.4)]), (81216, [(379, 8.31791125232481), (294, 6.728835980608466), (388, 6.15710382976776)]), (147965, [(1360, 8.276362300116888), (3867, 7.818181818181818), (4685, 7.718181819181819), (3866, 6.532186545304163), (20, 6.076451150902351)]), (163804, [(4686, 7.871536151417752), (419, 7.806863048614927), (4562, 7.798261480525526), (394, 7.589569907348877), (1627, 7.453572776886072), (27, 7.400138786288423), (1372, 7.370739628864582), (1296, 7.231595564850577), (704, 7.218156291881454), (3831, 7.095238105238095)]), (262459, [(1490, 7.403643711348115), (6205, 7.01664354188627), (2919, 6.300723521378156), (6337, 5.3095238178571424)]), (181176, [(934, 8.753208673390064), (6351, 8.374617638832293), (1380, 8.327153856291588), (1410, 8.001579598776884), (6706, 7.931034482758621), (126, 7.931034482758621), (5726, 7.931034482758621), (487, 7.820751975126857), (536, 7.518865173413647), (4284, 7.394805356319441)]), (158103, [(4224, 6.710317465726265), (3588, 1.9537037566666662)]), (174892, [(1619, 8.792682911829269), (344, 7.588963917577202), (1344, 7.537554720884824), (6850, 7.435540068257841), (4011, 7.42289125951156), (3641, 7.347686423749266), (1292, 7.165433139197496), (1265, 7.126710705160287), (345, 6.979625651847266), (519, 6.458414263822603)]), (82497, [(4204, 8.418078821670148), (4179, 7.808109506779636), (2337, 7.640579708402049), (367, 7.467654889132035), (6335, 7.466666666666667), (6333, 7.466666666666667), (4159, 7.39605260824983), (5490, 7.147101450873188), (2491, 6.4858974425)]), (180591, [(339, 9.281981375804257), (5495, 9.061898347210716)]), (2033, [(846, 10.229018330163239), (480, 9.896858258706438), (471, 9.809859695426667), (839, 9.796199198184063), (274, 9.49752231039992), (856, 9.10227273), (838, 9.031574009628585), (854, 8.875461044674738), (827, 8.504093351887784), (832, 8.275000011)]), (55631, [(2713, 8.201900919935195), (4828, 7.857142857142857), (1612, 7.787375415980066)]), (225078, [(5149, 8.5833333185), (4797, 8.253846142307692), (537, 7.9916418613741325), (2682, 7.370517893831469), (641, 7.1), (2196, 7.1), (490, 7.1), (643, 6.913177169035106)]), (83646, [(5052, 7.983058272898143), (2380, 7.0), (215, 6.6875000015625), (2635, 4.652777789513889)]), (171970, [(3430, 10.771241811176472), (308, 9.241904760706257), (2792, 8.882352941176471), (182, 8.293939068438172), (2187, 8.287758352569114)]), (195116, [(6050, 7.5), (370, 7.5), (2768, 7.5)]), (3917, [(1154, 8.576449237152486), (1149, 7.7272727272727275), (1153, 7.7272727272727275), (1148, 7.602272728522728)]), (29424, [(3286, 7.018987336582279), (4177, 6.8214285682142854), (2331, 6.5)]), (76530, [(4745, 8.715811947542736), (636, 8.10195086052725), (883, 6.968185045592061), (6091, 6.888888888888889), (956, 6.888888888888889), (6093, 6.338888894388889)]), (50859, [(818, 6.6), (816, 6.6), (5419, 6.6)]), (224768, [(1011, 7.9746323521712625), (1260, 7.666666666666667), (5752, 5.9523809695238095)]), (60546, [(620, 8.96006441602015), (5336, 8.914987074528424)]), (131238, [(874, 11.140350862456138), (873, 11.140350862456138), (471, 10.138903925968014)]), (256167, [(4684, 9.214814803333335), (2530, 9.11722221872037), (393, 8.272805869160445), (6255, 8.191666665416667), (4619, 8.066666666666666)]), (139934, [(71, 9.0)]), (105476, [(482, 9.895238070571429)]), (97694, [(657, 8.86944254948301), (3112, 7.979684983602837), (2479, 6.210784337450981)]), (212260, [(574, 10.366820328235626), (360, 9.0), (816, 8.895856227366586)]), (220635, [(1527, 8.745994233595791), (589, 8.417682534783387), (4970, 7.5)]), (40795, [(338, 9.87803280346028)]), (216444, [(1535, 9.899657802673108), (4879, 9.826388875000001), (886, 9.802997069195907), (4068, 9.064950974117647), (1207, 8.548143274577193), (241, 8.231550179897969), (4493, 7.8682692336153846)]), (223210, [(2574, 7.91891890972973), (1499, 7.153621491688188), (2314, 7.0)]), (210599, [(4309, 7.875)]), (76352, [(2799, 9.339208105477264), (446, 8.938757956467532), (3713, 8.920684522007813), (3695, 8.2), (3220, 8.2), (1602, 8.143661671671591), (133, 8.031873404954784), (3696, 7.243956053516483)]), (154730, [(1329, 5.554592834487312), (4172, 5.25), (997, 4.905393888148339)]), (239692, [(1387, 8.150721466024063), (803, 7.509755768137291)]), (7915, [(1779, 9.957013680105021), (70, 8.609006110888783), (1770, 8.415046538778606), (1777, 8.10928999630905)]), (73044, [(416, 8.744682439927942), (1428, 8.595032569143843), (235, 8.550553759811098), (4821, 7.8076923076923075), (1203, 7.780815688700133), (1055, 7.704240747236232), (685, 7.612722712105583), (1660, 7.542558702418964), (930, 7.453274893358955), (18, 7.320006051921838)]), (169233, [(458, 8.396329853776066), (1527, 7.742424238636364), (1227, 7.57095344077051), (1573, 6.88508653298302)]), (124066, [(3866, 6.142857142857143), (614, 2.6860670539682534)]), (173773, [(886, 8.378896386904296), (6, 7.581836951689831), (1404, 5.94444446)]), (43163, [(657, 7.601459599961211), (124, 7.596620872840231), (3105, 7.306695754679039)]), (180042, [(108, 9.387950146375484), (952, 8.745009070685118), (2156, 8.458433514341625), (169, 8.252104092087638), (581, 8.172616375087289), (124, 8.151398539930602), (3458, 7.711862943991747)]), (95316, [(441, 7.102190381788126), (5198, 7.043478260869565), (1832, 7.043478260869565), (5410, 7.043478260869565), (1941, 6.870559902531978)]), (138515, [(3092, 10.299999985000001), (4515, 9.24444444), (5225, 8.8), (4449, 8.8)]), (94965, [(5580, 8.966666648666667), (3247, 6.621212126666667), (4952, 6.595238100952382)]), (158254, [(3072, 9.616137722145394), (6483, 8.816770179906834), (227, 8.481540427562498), (485, 8.173913043478262), (6404, 8.173913043478262), (274, 7.996269350112795), (18, 7.7210359496234915)]), (53614, [(2991, 10.178571414285715), (971, 9.068881897203555), (1067, 9.064381269331104), (274, 8.91260161613859), (5581, 8.75), (1434, 8.667078524387426), (6, 8.557615726863407), (1983, 8.330116664076506), (2345, 8.191694410826194)]), (243930, [(1195, 9.12690516006082), (5709, 8.162087904395605), (1453, 7.427975931422618), (6857, 7.392857152857143)]), (211137, [(6826, 7.75), (2320, 7.75)]), (35922, [(290, 6.25)]), (26240, [(2596, 7.746666657866667), (3099, 7.25999479415722), (2946, 7.0508771911403505), (1277, 6.426282054883012)]), (125519, [(2832, 10.40148592842317), (1781, 10.067184347807144), (997, 9.284481637744445), (379, 9.259935662210916), (1447, 9.095872014571233), (439, 9.020695613804126), (5406, 8.895833333333334), (3674, 8.778767045497684), (456, 8.703320322124938), (3074, 8.691177366242082)]), (93732, [(5975, 8.833333333333334)]), (136396, [(1602, 10.816666658833332), (5690, 9.25), (4560, 9.038541667723958)]), (231351, [(1094, 9.011304887785798), (3660, 8.461660506804748), (2103, 8.209855620407648), (5836, 7.9375), (3475, 7.9375), (4652, 7.9375), (5242, 7.9375), (6740, 7.9375), (4674, 7.642214605359289), (5046, 7.3727643842361)]), (234399, [(1602, 9.724816846118742), (1444, 8.65853601295019), (1929, 8.615384615384615), (409, 8.12022310172416), (2670, 7.615384625560551), (1769, 7.5909943817260785), (3520, 7.126756317664204)]), (268833, [(153, 8.976470566470589), (4661, 8.931481470824075), (1087, 7.09687499703125)]), (638, [(136, 9.235672043249087), (535, 8.942547184594769), (552, 8.886445360791393), (555, 7.898048600788531)]), (136735, [(531, 6.761310163082656)]), (191523, [(1609, 7.777777777777778), (6801, 7.777777777777778), (4115, 7.019157095708811)]), (243607, [(665, 10.36711899560446), (3520, 9.776831501647893), (809, 9.161008192413036)]), (260183, [(586, 9.123076436166945), (2149, 8.999999998076923), (171, 8.807692307692308), (1552, 8.663626898534773), (6396, 8.549627794143921), (2713, 8.28666936836067)]), (35925, [(28, 8.0)]), (225996, [(4880, 9.565922916409736), (2296, 9.117647058823529), (2671, 9.117647058823529)]), (179772, [(1634, 9.288945121276656), (1257, 9.133333333333333), (2354, 7.6494016286677535)]), (141127, [(367, 6.857763009181985)]), (276307, [(1153, 8.166666666666666), (3477, 8.166666666666666)]), (24525, [(1212, 7.612060438336319), (2390, 7.192307690384616), (1082, 6.2844611564598996), (1810, 4.7500000225)]), (57620, [(235, 7.059371185383344), (2138, 6.666666666666667)]), (143009, [(151, 5.90624999546875), (2662, 5.0), (1230, 4.206349208994709)]), (267033, [(1684, 10.61857140417143), (41, 8.421301215616756), (3041, 8.178571428571429), (2173, 7.478962667210187), (2357, 7.378571436571428), (3133, 7.264384555978914), (1886, 6.400793668571428)]), (159854, [(1417, 8.8)]), (32721, [(1114, 8.705059158033272), (1159, 7.959607706838616), (4490, 7.958333333333333), (4241, 7.326393554183702)]), (134264, [(5126, 9.333333333333334), (4460, 9.333333333333334), (4114, 8.261904772619047)]), (102564, [(1739, 8.579704915958224), (602, 7.79215138661928), (1230, 7.318055559965277)]), (201141, [(912, 9.34285713142857), (5568, 8.670846188238833), (1491, 8.430583193870634), (6568, 8.2)]), (168144, [(1818, 9.793363339677722), (201, 8.742857141857142), (4830, 8.642857142857142)]), (129084, [(1447, 8.996228975832473), (1421, 8.45909361900577), (4545, 8.026024977897473), (777, 7.843401860418095), (6114, 7.533498766228288), (3643, 7.439373805720099), (6710, 6.835879588544807), (5911, 5.850806475362903)]), (128331, [(4185, 8.398611105784722), (37, 7.333333333333333), (495, 5.750000015833333)]), (8681, [(1174, 10.982888182480366), (1367, 9.104677110828188), (465, 8.82409639896443), (1976, 7.024468099553768)]), (192211, [(1761, 7.991559923702411), (6777, 7.333333333333333), (1369, 6.008168719335564)]), (99996, [(451, 8.394588745294888), (160, 8.01877989239708), (4760, 7.888888888888889), (5506, 7.888888888888889), (5014, 7.888888888888889), (3885, 7.18434344138889), (2653, 7.138888896388889)]), (126296, [(440, 9.125960466581438), (4325, 8.699201914316966), (678, 8.471374375950345), (2026, 8.17235938188639), (809, 7.775185957543321), (716, 6.8912095985062285)]), (48494, [(537, 9.759154519858777), (665, 9.626206256872772), (3692, 9.08776731595782), (2055, 8.813461537544871), (5321, 8.427350428478217)]), (12698, [(2545, 7.6)]), (76710, [(4933, 8.38186812918956), (1590, 7.9175824168681315), (1504, 7.314507863862212)]), (189474, [(160, 7.9066137527583775), (4944, 6.75), (777, 6.615367965560297), (930, 4.938095247154761)]), (237715, [(5194, 7.6)]), (216602, [(1555, 4.4827586058620685), (2362, 3.0), (665, 3.0), (210, 3.0)]), (22813, [(1743, 8.142842730098387), (320, 7.578483247110523), (162, 7.348484856666666)]), (183931, [(4196, 6.333333333333333), (2228, 6.333333333333333)]), (131855, [(1330, 8.616858225823755), (5200, 8.447318002648467), (2401, 7.444444444444445), (3194, 7.444444444444445), (6336, 7.186379930999324)]), (223501, [(6880, 9.1581920737126), (2440, 9.077947592727831), (2441, 8.825106051455045), (70, 8.259554798303268), (481, 8.180113974802756), (480, 8.1472559140309), (142, 7.980330967575317), (3443, 7.894998633277211), (2858, 7.8401975925576854), (3472, 7.8177480764082325)]), (239423, [(4429, 9.009608275807466), (5468, 8.346944222697411)]), (204179, [(812, 8.364730041791374), (3557, 7.333333333333333)]), (8864, [(2016, 7.596153841923077), (2019, 6.75), (2021, 6.75), (2020, 6.75)]), (250101, [(4487, 10.594696964905303), (997, 9.932758534338028), (670, 9.636363636363637)]), (3719, [(1098, 7.5), (1094, 7.5), (1101, 7.5)]), (141047, [(1247, 8.666666666666666), (6862, 8.666666666666666)]), (72100, [(1193, 6.210641985560334), (1686, 6.142857142857143), (653, 6.1168150855934265), (451, 5.846266234359416), (592, 5.3674563063330485)]), (208236, [(2111, 6.0), (3253, 6.0)]), (228681, [(793, 9.200216427261205), (342, 7.4929971929971995), (4782, 7.425888660114017), (2959, 7.108990325711121), (3374, 6.904761904761905), (6403, 6.904761904761905), (6699, 6.904761904761905), (2333, 6.406552012106444), (3116, 6.148943124865874), (5046, 5.300110758017719)]), (26598, [(50, 9.123463943359942), (1640, 8.641612836110282)]), (241666, [(83, 8.041121153097894), (3083, 8.040019474835848), (1854, 7.997408042822344), (3674, 7.881884840855187), (3200, 7.762919485573856), (892, 7.753136986935473), (4177, 7.614532016489626), (2080, 7.439797654204386), (5908, 7.381338746952332), (6489, 7.366288093234276)]), (254144, [(1761, 8.691093385360253), (777, 6.614740113159682)]), (52614, [(2846, 10.538647330217392), (3152, 10.34235399532677), (5516, 9.439618173973704), (4911, 9.327536236550724), (1423, 9.26086956521739)]), (138189, [(2918, 8.619889961324082), (1048, 6.3378787974393935)]), (146386, [(4615, 8.642857142857142), (4359, 8.331619763488098), (5229, 8.10271358640182), (3747, 6.425465860683229)]), (183046, [(5365, 9.216917469813183), (6837, 8.212191234343948), (391, 7.865918301150104), (50, 7.853273338952644), (611, 7.845937665480401), (1860, 7.483352323431274), (6880, 7.365853658536586), (1839, 7.301564088537089), (1628, 6.460550634584566)]), (37790, [(70, 7.80093293909382), (1115, 7.449361104720247)]), (44595, [(5174, 6.8)]), (219321, [(5573, 8.131445165228758), (277, 7.588235294117647), (3256, 7.062055895737874)]), (101305, [(192, 8.609205089535731), (4531, 8.569172927116542), (1663, 7.94889299409411), (1185, 7.52101585749569), (5533, 7.502506265902255), (5901, 7.477381064190707), (909, 6.882285740279231), (5484, 6.31716933927464)]), (171445, [(1701, 9.612747744902613), (1761, 8.725937692315833), (501, 7.9004232413589754), (862, 7.341460541333249), (1396, 7.037081342922647), (4037, 3.1764706364705875)]), (233911, [(4858, 9.735449727486772), (1550, 9.090619521684456), (4717, 8.142857142857142), (6772, 8.142857142857142)]), (203900, [(3577, 10.0), (921, 10.0)]), (231263, [(1630, 7.346555250330454)]), (138010, [(1876, 7.483243696345838), (4336, 6.916666666666667), (711, 6.916666666666667), (6386, 6.916666666666667)]), (40640, [(630, 9.355293988592239), (5002, 9.333333333333334)]), (11529, [(307, 8.285714272857144), (2362, 7.0), (1760, 6.514704347107368)]), (41589, [(3781, 8.265638176689487), (381, 7.941170706815361), (1451, 7.778102013777148), (1743, 7.597614976386101), (3224, 6.629731383108466)]), (60858, [(3580, 6.583333333333333), (362, 6.583333333333333), (2754, 6.583333333333333), (4507, 6.583333333333333), (1942, 6.513565892170543)]), (68768, [(3080, 9.57537291337915), (3265, 5.755401449823082)]), (2110, [(876, 9.588815778848685), (869, 8.526315789473685), (572, 8.526315789473685), (688, 8.105656736514417)]), (172203, [(1616, 9.363349607961437), (1399, 8.285714285714286), (2334, 6.819047633714286), (944, 6.418841230033172)]), (90198, [(5019, 8.57220136672196), (1352, 8.022222219888889), (1331, 7.381216479883427), (1596, 7.360413390520502), (1115, 7.072082814954236)]), (201697, [(1434, 8.881261593098332), (5091, 8.636363636363637), (2951, 8.636363636363637)]), (134029, [(3816, 9.4), (3248, 8.784615390826756)]), (91931, [(1736, 9.796189430929513), (2840, 9.0), (4791, 8.357142863571427)]), (18095, [(3226, 8.75), (409, 8.75), (3225, 8.75)]), (104144, [(2103, 9.430234474254586), (4930, 9.191644294199564), (1374, 8.829268292682928), (2026, 8.500762318267375), (519, 8.363896095423312), (1914, 7.863194149843055), (1624, 7.858240528959533)]), (264947, [(51, 6.8665674951339435), (1292, 6.441861409700654), (4079, 6.033059360715934)]), (202963, [(5156, 9.5), (2461, 9.5), (1947, 9.5), (2401, 9.5)]), (116904, [(480, 8.744307837549009), (471, 8.53758371396234), (5263, 8.328593053932298), (4715, 8.166666666666666), (3925, 7.400736669460236), (2827, 2.766666720666665)]), (142134, [(2193, 8.333333333333334), (3790, 7.75041371352699)]), (170401, [(720, 4.050000021999999)]), (143253, [(3640, 9.185185185185185), (5446, 9.185185185185185), (1614, 8.78948360514677), (2108, 7.45772179000215)]), (243720, [(3858, 6.9647080645178985), (612, 6.722607488484743), (289, 6.526315794342105)]), (3640, [(1092, 6.714285714285714), (1089, 4.240601528496241)]), (163488, [(624, 8.784802761721622), (4404, 8.145545438574713), (5310, 7.749999998314491), (6498, 7.416666666666667), (1055, 7.330375159526543), (4065, 7.206876457925408)]), (167678, [(1370, 6.748048748401185), (160, 6.238095241190477)]), (227295, [(3002, 8.252688172446238), (6796, 7.944220432053092), (3777, 7.583333340833334)]), (123732, [(1023, 8.25)]), (202462, [(2627, 8.703748282574008), (2847, 8.26582628381641), (6, 8.173826464051386), (5069, 7.305952250051337), (5070, 7.052238899326941)]), (128014, [(2217, 7.975338690670042), (5805, 7.4), (3280, 6.21797853900492)]), (170077, [(4525, 6.571428571428571)]), (217106, [(3021, 8.724386235621768), (6394, 8.0), (3341, 8.0)]), (211351, [(1034, 6.720940173835469), (4307, 5.6139187630874146)]), (160558, [(3975, 8.657673103055247), (4562, 8.565941053388286), (1036, 8.243582634400413), (1284, 8.096086988414536), (5553, 8.064864862864864), (2211, 8.008039013550642), (1631, 7.985247969820586), (2956, 7.900349177212025), (642, 7.810050930602735), (4585, 7.5015453898355435)]), (53605, [(2801, 6.285714285714286)]), (53575, [(2745, 6.775757570000001), (257, 6.2), (707, 5.485714292857144)]), (102702, [(2846, 10.074395074886295), (544, 10.073852126566878), (6476, 9.98344095959105), (3363, 9.947460585783224), (6640, 9.924816753525631), (3276, 9.739286028202043), (4503, 9.414213091190225), (2484, 9.264838604176507), (5493, 9.208320524287911), (5212, 8.39841046839581)]), (32802, [(3665, 7.299774113453827), (194, 7.172222219962218), (379, 7.021354492473192), (4516, 6.95)]), (67174, [(5905, 8.0)]), (37400, [(4826, 6.089285723869048)]), (125878, [(634, 8.848334621073995)]), (25109, [(718, 9.999999990000001)]), (41364, [(886, 8.129599634437696)]), (205520, [(3734, 9.0), (1743, 8.256763929445624)]), (156432, [(1284, 9.46304347761232), (5440, 9.333333333333334)]), (220759, [(4342, 6.833333333333333), (1054, 6.833333333333333), (1055, 6.229593585744322)]), (30989, [(3235, 8.026018093167421), (1858, 6.814617990788735), (4342, 6.75)]), (41596, [(785, 6.0), (3241, 6.0)]), (215006, [(5416, 10.073684195789474), (4868, 8.6), (1367, 8.581319038398853), (6252, 6.3229291036217745)]), (241367, [(1601, 10.117647047647058), (2919, 8.889414325126234)]), (71800, [(3493, -0.39285707892857324)]), (72523, [(432, 8.57926086653125), (3624, 7.07748175268582), (3623, 6.682158902575604), (723, 5.9140920698098265)]), (202127, [(206, 9.666666661904761), (2586, 8.96581143229574), (4027, 8.892857142261905), (1179, 8.306762818401324)]), (102967, [(1031, 7.223584245421488), (82, 7.088414629505306), (1289, 6.99667109428146), (500, 6.842107129002896), (4584, 6.625), (1982, 6.437500001875)]), (228351, [(436, 8.525890971018455)]), (244471, [(1228, 6.4), (1707, 5.5842105344736845)]), (133571, [(3700, 9.985185157185185), (3727, 8.100989310187504), (1232, 7.2696922265936355), (431, 6.678707365178232), (3268, 5.985916967164065), (6450, 4.810185208935184)]), (269738, [(5188, 7.5), (3618, 7.5), (4187, 7.5)]), (175978, [(4592, 8.413194437378472), (2145, 8.06235578610847)]), (77480, [(2128, 8.327272721272728), (442, 7.9795546912491115), (379, 7.877664710355657), (6233, 7.7272727272727275), (1886, 6.743344160763799)]), (169663, [(1896, 7.202641501995869), (614, 6.939397524349211), (4016, 6.830316740316743), (1833, 6.653846153846154), (728, 6.407694668360923), (538, 6.201064247673617), (6456, 6.155068132878969), (1301, 5.510614375654285)]), (106893, [(3493, 6.818713437660819), (1418, 5.222222223888888), (3778, 4.183006549673202)]), (156706, [(774, 10.543272306065388)]), (22074, [(50, 8.572477863771041), (693, 8.393638978266848), (541, 8.2485476603556), (1777, 7.950454926080696), (1766, 7.833333333333333), (3571, 7.833333333333333), (210, 7.539482618827745)]), (79009, [(3155, 9.194444428752286), (835, 8.571206480724312), (2262, 8.539629630383704), (3444, 7.916666666666667)]), (193798, [(503, 10.877351090916928), (5886, 9.625)]), (92547, [(1872, 10.098434071006078), (4989, 9.858514597511682), (2007, 9.25430835341905), (80, 9.12), (3338, 9.048571429285714), (6188, 8.745000003749999)]), (194605, [(5784, 11.020201997777779), (3132, 10.551971308421205), (4317, 8.777777777777779), (3453, 8.777777777777779), (2877, 8.032900764797862)]), (215421, [(2226, 8.786856998830597)]), (125039, [(2879, 9.126050413025212), (4315, 9.111764698882354), (1385, 8.782182193284296), (457, 8.64429563422301), (4864, 8.49600581278383), (1239, 8.111764708882353)]), (42798, [(480, 9.866666664666667), (917, 8.541666677916666)]), (196466, [(1896, 7.773203645174303), (4859, 7.681428570625715), (1616, 7.428685800909626), (585, 4.799352027088844)]), (223190, [(1344, 9.507362794604104), (6477, 9.444047618678573), (1633, 9.333333333333334), (6609, 9.333333333333334)]), (227397, [(4347, 10.47053251188778), (5038, 10.41638747114515), (480, 10.298813140760826), (2795, 9.778967211492203), (4503, 9.7), (5980, 9.67649538874765)]), (212252, [(2472, 8.523291923563663), (1599, 8.142857142857142), (5947, 7.837500003263393), (2471, 7.727837382086391), (5196, 6.995798330798318)]), (161041, [(698, 8.557742740275199), (1704, 8.481150792725694), (3308, 8.11111111111111), (2435, 8.11111111111111), (6341, 8.11111111111111), (4827, 7.063492073968254)]), (13331, [(2688, 4.6)]), (91119, [(870, 5.344772242870274), (1240, 4.673863640994318)]), (210587, [(5021, 10.113738714684684), (404, 8.101737243293574), (124, 8.055648694932126), (141, 8.048278702930828), (2194, 7.944875092784383), (1306, 7.708333333333333), (3758, 7.708333333333333), (140, 7.647179363701583)]), (70703, [(3284, 6.818181818181818), (5360, 6.734848485265151)]), (64535, [(503, 6.879963840003603), (3031, 6.6)]), (60263, [(4387, 10.562499989375), (2052, 10.203703696666667), (1158, 10.074871148884512), (5804, 9.5), (1056, 9.467089717841263)]), (15654, [(2931, 7.0)]), (244708, [(675, 7.333805714294624)]), (209875, [(14, 9.039473671093031), (4839, 9.026621038426361), (13, 8.324405970551753), (1715, 7.95076400598472), (3871, 7.7894736842105265)]), (200245, [(2267, 7.0625), (800, 6.715054489450217)]), (259260, [(1835, 8.662110694871181), (1528, 8.606060602241758), (52, 8.450215201603116), (1839, 8.155293361400158)]), (179532, [(3896, 8.063768110623188)]), (198767, [(624, 7.0)]), (77491, [(1898, 8.2916666525), (1160, 7.154580052822569), (4343, 6.875)]), (268110, [(6811, 8.98176716288219), (1745, 8.77453718508125), (1302, 7.582687965236861), (581, 7.251674200917303), (1434, 7.1566414442993755), (5396, 7.147480282976182), (3234, 7.106322248615423), (4896, 7.101947657510533), (4713, 6.988125012348538), (3440, 6.790777551204422)]), (59912, [(3765, 8.50122331530277), (1012, 7.857142857142857)]), (165232, [(4124, 10.071577376427827), (2046, 9.166666666666666), (4809, 9.166666666666666)]), (134508, [(2343, 9.567399655855272), (127, 9.339941316749254), (266, 8.96956283685284), (5138, 8.921140510429693)]), (148142, [(4616, 8.2)]), (1674, [(746, 9.291620161443745), (751, 8.8), (744, 8.006896559655173)]), (65817, [(878, 6.5), (5941, 6.5)]), (244873, [(6299, 8.4)]), (107021, [(391, 9.659057553338293), (2398, 9.475569436287797), (1821, 9.407678109645483), (1328, 9.226546677534346), (5892, 8.954979051896025), (202, 6.4212651251502955)]), (132007, [(1610, 9.449999997940358)]), (274618, [(1751, 11.869565208043479), (5832, 10.0)]), (6537, [(657, 7.980704776640114), (1490, 6.838572642849051), (935, 6.8076599336216335)]), (122045, [(4842, 9.35087717614035), (1114, 8.350877186140352), (6160, 7.666666666666667)]), (187747, [(3512, 9.449914527748149), (5740, 8.8)]), (224209, [(1207, 7.779220351048507), (1291, 7.291250615138644), (4243, 7.0)]), (99204, [(3567, 8.25), (4188, 8.25)]), (90653, [(338, 10.273422135195228), (4476, 8.617593450777074), (1357, 6.690307353924349)]), (24627, [(1071, 8.067432564822678), (2601, 6.6099706838416425), (1253, 3.666666705454545)]), (73022, [(86, 6.543956032802198), (3405, 5.428571428571429)]), (16009, [(310, 7.447552438461537), (886, 6.127411800440426), (862, 6.113424098343641)]), (73003, [(1689, 11.386363609015257)]), (253629, [(4743, 6.16332326708728), (3364, 4.000000011)]), (244915, [(731, 7.75), (3320, 6.968892225690288), (2084, 6.41915423550995)]), (197410, [(3917, 8.124542124065934), (4307, 8.076923076923077), (2777, 8.076923076923077), (665, 7.8227143235616845), (978, 6.655853901638485)]), (146932, [(1749, 9.235388231035053), (6311, 9.145833325), (1066, 8.638195579386252), (657, 8.602246556966085), (2307, 8.3125), (3550, 7.144822011916788)]), (37512, [(834, 9.37301584357143), (4839, 7.334632031611833), (4840, 6.428571428571429)]), (94787, [(394, 8.821887387323796), (267, 8.157214342179591), (3602, 8.0), (2856, 7.805614819675281), (1617, 7.114536973173122), (1169, 5.473684235789474)]), (125411, [(581, 7.508174601832225), (4187, 6.688099614558583)]), (277629, [(74, 8.999999990000001), (163, 8.2499999975), (161, 8.0)]), (33264, [(4543, 9.307142846607142), (1182, 8.046153841923077), (140, 6.85302165911772)]), (244779, [(17, 6.399999993), (3632, 5.0), (6049, 4.90625000546875)]), (168064, [(983, 9.110621431256625), (5730, 8.808270671578947), (1033, 8.001258712165136), (4046, 7.785714285714286), (5066, 7.785714285714286), (3116, 7.406858581126702), (1048, 7.316030271912637), (3048, 6.823634997416833), (5489, 5.455840490905759)]), (241791, [(1275, 7.095238088571429), (774, 6.428571428571429), (5651, 6.428571428571429)]), (53418, [(657, 8.667731212810812), (581, 8.315045207010934), (2577, 7.989966556053511), (981, 7.939620604065084), (1743, 7.692205863639826)]), (183883, [(1574, 8.848504880287548)]), (13279, [(70, 7.174015105334912), (1688, 7.0)]), (103467, [(2991, 6.3111111135555555), (1445, 5.492857149392856)]), (137190, [(4582, 6.995238095015873), (4616, 6.928571428571429), (2062, 6.928571428571429), (3778, 5.877677097038202)]), (148662, [(3186, 8.094859899291873), (316, 7.35541667155533)]), (53278, [(2156, 9.346569295462029), (3714, 6.24242426)]), (59971, [(1369, 10.293209851111111), (5796, 8.01006886237541)]), (28619, [(4105, 9.820261417352942), (192, 8.73734315974144), (287, 8.032461091804953), (3724, 7.764705882352941), (4104, 7.1822007203836735), (2324, 7.15370896381589)]), (221655, [(1417, 8.495588228441177), (529, 7.125), (2643, 7.125), (3501, 7.125), (2308, 7.125), (1218, 7.079712601023827), (1294, 6.701040783768055), (1641, 5.950810970075807)]), (86641, [(3096, 6.75)]), (144478, [(1701, 10.246031714126985), (170, 7.17266494884485), (736, 7.1319950388064415), (5583, 7.093650793460317), (4112, 5.802821791916894)]), (45184, [(5215, 9.870370363333333), (1649, 9.166666666666666), (1973, 9.166666666666666)]), (251613, [(2967, 8.877777761777777), (352, 8.344841202746995), (5716, 7.277777777777778), (2645, 6.944444447777777)]), (143837, [(991, 9.486917378077747), (4007, 9.428478054794896), (5381, 8.5), (4513, 7.5689655265517235)]), (185722, [(3197, 12.58974356051282), (2803, 9.836879430921986), (546, 9.707836351946893), (3184, 9.666666666666666), (51, 9.577585887541492), (1690, 8.95793531756065)]), (100088, [(70, 10.523302641785214), (622, 10.39286910678712), (5620, 10.162990185036763), (3144, 9.879356919263696), (386, 9.686274503529411), (877, 9.058823529411764)]), (170947, [(193, 9.776785695892858), (3299, 9.690878369611486), (971, 8.158073840272777), (4514, 8.056921487006198), (1269, 7.974687698187408), (1763, 6.98878206076923), (279, 6.698078313743681)]), (201829, [(707, 10.21282051175641), (6674, 10.0), (800, 9.217900157355405)]), (243785, [(4612, 6.259920632906746), (3296, 5.773711600215712), (3964, 5.257142863142857)]), (121065, [(19, 6.0)]), (115692, [(4012, 7.854222523963947), (487, 6.829293964771331), (505, 6.420387180065033)]), (30607, [(4273, 6.333333333333333), (1439, 6.333333333333333), (262, 5.602564109871794)]), (242310, [(453, 7.0), (6849, 7.0), (1783, 7.0)]), (171999, [(1965, 5.75)]), (243058, [(341, 10.945175428870614), (3025, 9.937381851572912), (6697, 9.534109472392377), (1225, 9.000000009999999), (1429, 7.17241381137931)]), (94494, [(4743, 7.692492089094722), (2883, 6.667353944879834)]), (193529, [(940, 8.58550723704348), (6439, 7.818840578043478), (359, 7.681548406057159)]), (111847, [(3198, 9.916209035842702), (4884, 9.285714285714286), (3751, 8.407936512325398)]), (106225, [(1962, 8.144545450145454), (669, 8.041903229302802), (2809, 7.918831166688311), (6343, 7.50846702513369), (2991, 7.416103083210003), (536, 7.232401000011701), (3268, 7.223532801127733), (2354, 7.001534238288878)]), (223892, [(2516, 5.8), (291, 5.8)]), (153211, [(3564, 9.173566644349837), (800, 7.815494377511989), (981, 7.337060579604462)]), (102571, [(1576, 7.5), (206, 7.5), (456, 7.5)]), (251606, [(1816, 7.568100603307621), (592, 7.3500308836521375), (1207, 6.338081433894623)]), (184532, [(4570, 9.636032700844465), (339, 9.379197475376083), (3971, 9.362351434357413), (3918, 8.585365853658537), (1377, 8.389380857848163), (3252, 7.903999380461531), (3078, 7.844356005734909)]), (87688, [(5424, 4.25)]), (209684, [(5044, 9.088888884444444), (4675, 8.282623569148413)]), (125892, [(934, 9.563420596076242), (573, 9.117441904777467)]), (175205, [(1340, 8.754180275369217), (1342, 8.475752710812023)]), (192119, [(174, 8.50412752115115), (4761, 7.833333333333333), (2717, 7.500000003333333), (712, 7.207414783996082)]), (234721, [(3048, 8.343112154843526), (6643, 7.714285714285714), (3987, 7.714285714285714), (6920, 7.714285714285714), (1538, 7.714285714285714), (5175, 7.714285714285714)]), (93453, [(16, 9.03173961383727), (229, 8.89789789114114), (1567, 8.577331193000285), (1603, 8.557329121442939), (1855, 8.26508509571526), (329, 8.202758015249547), (2877, 7.855555557388888)]), (117384, [(2863, 7.875131549982765), (1602, 7.869056994852834), (1603, 7.639260750828082), (5129, 7.5), (6014, 7.5)]), (172331, [(6021, 7.0), (3504, 7.0)]), (125692, [(665, 8.78744105822928), (3328, 8.238095238095237), (6794, 8.238095238095237), (552, 7.785918047357711), (1253, 7.386867137205063)]), (246617, [(774, 8.912289913149948), (4669, 8.119047615714285), (3165, 6.2299867393133574)]), (246776, [(1903, 9.734817807186234), (5565, 9.076923076923077), (5939, 7.2769230949230765)]), (181077, [(70, 9.032793615108904), (4555, 8.164205639201562), (800, 8.000238555939053)]), (22936, [(118, 9.333333333333334)]), (247664, [(18, 7.5999999879999995), (3775, 6.200000002000001), (243, 4.883515484451562)]), (79724, [(3650, 7.204545449772727)]), (188583, [(4476, 7.440768588922138)]), (229334, [(3904, 11.388888875000001), (1527, 11.310924009601823), (6476, 10.417069241070854), (6640, 10.358918931172958), (2135, 9.89884465846169), (4927, 7.96739131451087)]), (162001, [(6838, 7.246753252467533), (202, 6.225847331369971)]), (203392, [(392, 4.666666666666667), (2010, 3.71544716398374)]), (111536, [(84, 9.5), (1631, 9.5), (451, 4.895833379374999)]), (236757, [(6591, 7.69471052793135), (992, 7.653774453300743), (2679, 7.63241568391379), (1554, 7.2330798879335685), (2189, 6.790175242224262), (4581, 5.36184642291458), (5254, 5.257975264529268), (4120, 4.212023372596746), (2024, 3.7308284786098067)]), (92398, [(3049, 8.704728602550116), (2217, 8.637896823385416), (5306, 7.227021044006091)]), (6566, [(1586, 7.44419974846885), (404, 7.035714288214286), (1587, 6.785714290714285), (1589, 6.610714289089286)]), (40052, [(35, 6.635885775637498)]), (48975, [(2345, 6.610766050113871), (3113, 6.523809523809524), (937, 6.077247161748027), (5334, 5.990476195809523)]), (261998, [(4937, 9.571631162859116), (6764, 9.518518507269755), (6227, 9.015745328454008), (6476, 8.825076643325948), (742, 8.744183815698525), (503, 8.433599406278953), (2706, 8.293671046756376), (1117, 7.95302228161233)]), (224646, [(5201, 8.896700975474094), (5813, 8.688697313702107), (3705, 8.330871586375768), (563, 8.304908625820584), (1242, 8.18700348044803), (3406, 8.17597330192881), (5095, 7.89382789181987), (655, 7.791871921539408), (503, 7.697374400428313), (6796, 7.6411710533608455)]), (105335, [(6671, 7.0)]), (93698, [(1428, 8.095588231642157), (3998, 7.0)]), (260897, [(432, 7.853376077675038), (1225, 7.676205847438425), (4222, 7.655077085962846), (1286, 7.638164839436711), (3964, 7.2535460975862485), (3745, 6.125791262554852)]), (188951, [(1751, 11.030769200461538), (230, 8.0)]), (98758, [(2587, 8.58610548425818), (3586, 8.278662731474384), (4509, 8.148936170212766), (4724, 8.148936170212766), (4729, 8.148936170212766), (6192, 8.048936171212766), (3196, 7.967800639530074), (658, 7.029890983660233), (2713, 6.290850739547776)]), (148934, [(227, 7.251333093192062), (5057, 7.142857142857143), (6602, 7.142857142857143)]), (171638, [(3156, 8.208970001281125), (4132, 7.999999993333333), (178, 7.528299915970394), (1685, 7.411064425381652), (2700, 7.341655108603791), (5371, 7.333333333333333), (3260, 6.801816241087963), (605, 6.408223893781425), (505, 4.333333363333333)]), (217468, [(678, 8.596825391507936), (5514, 7.716304346911231), (3256, 7.552154372281187), (1130, 7.533333333333333), (1268, 7.514458728691043), (1401, 7.366475779930777), (707, 7.193868219395236)]), (43481, [(3454, 9.41900269960396), (958, 9.142063488732804), (1193, 8.068390626450979), (2231, 6.642857157857142)]), (136465, [(6800, 8.75)]), (88793, [(404, 9.192123902842503), (744, 9.09886074397659), (1550, 9.085139473373157), (4748, 8.698749997807644), (1681, 8.388896502559668), (232, 8.267170939960513), (59, 8.262518400542715), (1022, 8.175926922596778), (1650, 7.784125358118427)]), (20336, [(3404, 8.11111111111111), (2940, 7.838383841111111)]), (113661, [(3518, 10.451428569171428), (6564, 10.0)]), (194636, [(4919, 6.972839504444444), (5626, 6.8)]), (245203, [(1186, 5.150372986155947)]), (119575, [(3865, 8.64916474177573), (2201, 7.802083330416666), (1664, 7.529069163855887), (274, 7.443134694910569), (6730, 7.21875), (4011, 7.21875), (3323, 7.055272159089329), (1855, 6.674494982868434), (2032, 6.508928574977678), (4686, 6.21875001)]), (50650, [(1071, 9.035612532934472), (5404, 8.5), (357, 8.5)]), (220314, [(175, 9.6)]), (10668, [(2271, 5.714285714285714), (2272, 5.714285714285714)]), (135895, [(19, 6.005509638484849), (2981, 5.666666666666667), (731, 5.666666666666667)]), (88122, [(75, 10.463344995549386), (471, 10.231760378985637), (533, 9.945687450697497), (2335, 9.858036206224014), (72, 9.580491952197029)]), (143964, [(1369, 9.031583281649212), (3088, 8.696803748788094), (1156, 8.672730002953557)]), (49212, [(3447, 8.495081954262295), (5346, 7.726315784210527), (5126, 7.2), (3697, 7.2), (733, 7.2), (5347, 7.2), (2080, 7.184203677992476)]), (105054, [(2524, 8.030880364918035), (2451, 7.827937105667839), (2211, 7.478500422321991), (4680, 7.346153846153846), (2805, 6.609028210511227)]), (69355, [(2444, 8.967128562810185), (329, 7.196360151682631), (3889, 7.160382900830841), (5836, 6.769168354601352), (807, 6.724137931034483), (3600, 5.377984098342175)]), (59269, [(151, 10.49999997934476), (326, 10.49999997934476), (1493, 9.220751174337158), (3484, 9.191721694944631), (2697, 8.5), (5779, 7.155555560037037), (2665, 7.010416674114582)]), (277203, [(45, 8.621951218292683), (47, 6.616666676083334)]), (193769, [(1293, 9.283539726514448), (3116, 7.931400967245572)]), (22107, [(1201, 9.857142857142858), (3580, 9.857142857142858), (3579, 9.49175824541209)]), (253964, [(5580, 9.085714267714287), (1003, 6.253969870026172)]), (71522, [(3761, 5.0), (3499, 5.0)]), (111637, [(6090, 6.880952374285715), (1901, 6.735987632552925), (721, 4.799328746221974)]), (240541, [(20, 5.0), (1703, 5.0)]), (142062, [(590, 9.703500292633016), (1640, 9.347651632556994)]), (159033, [(2948, 9.082309576627765), (622, 8.58035435024857), (5395, 7.945945945945946), (2424, 7.772602210915589), (2063, 7.733471040369502), (1401, 7.58118815727574), (1626, 7.4332233466396245), (5016, 7.096418283460565), (6270, 6.355255924916937), (423, 5.56359302908077)]), (99, [(437, 7.0)]), (137742, [(480, 9.699873321202528), (472, 9.696723345111543), (4082, 9.293161711107407), (2122, 9.208980548754466), (829, 8.730382823276955), (2599, 8.38888889589942)]), (147420, [(124, 8.2618999682469), (1627, 7.73829504007648), (5023, 5.306625607473036)]), (120093, [(2341, 6.68), (4017, 6.68), (3697, 6.68), (5306, 6.429622845669222), (5416, 2.9657143228571416)]), (177569, [(3361, 10.202861677316198), (3289, 8.595970970599875), (1852, 7.833333333333333), (591, 7.833333333333333), (1292, 7.833333333333333), (1464, 7.833333333333333)]), (156510, [(2194, 8.59999999), (6439, 7.770731705609755), (2886, 7.6)]), (242309, [(957, 7.474836117658508), (6683, 7.166666666666667), (4364, 7.166666666666667), (5015, 6.2005649814124295), (556, 5.8118279705376334)]), (275758, [(1132, 7.969696963333334), (4642, 7.333333333333333), (5750, 5.1418439935460984)]), (117489, [(5527, 9.75)]), (205085, [(657, 7.977789503784168)]), (162671, [(41, 8.650004645895368), (319, 8.516666670833335), (2005, 7.801340332000292), (1237, 7.521137690550887)]), (250733, [(5471, 7.189396371838423)]), (269321, [(2033, 11.253196903120205), (6359, 9.713012465294117), (4723, 9.450546556030954), (1912, 9.070588229294117), (1342, 8.629087165242648), (4801, 8.470588235294118), (6659, 8.470588235294118), (3363, 8.470588235294118), (2388, 8.387254902377451), (6641, 7.903570304845838)]), (277157, [(25, 6.333333333333333), (33, 6.16792929348064)]), (169450, [(5868, 7.0), (2469, 7.0)]), (175070, [(225, 8.989546157657218)]), (56856, [(912, 9.338812586136847), (5700, 8.352533019762296), (2014, 8.231722651725683), (971, 8.167728017239709), (5553, 7.923076923076923), (5702, 7.923076923076923), (533, 7.746604676627167), (3790, 7.485203228275153), (712, 7.249758225420885), (5593, 5.515669539743591)]), (266840, [(4507, 8.934091106032003), (742, 8.55840786041381), (6695, 8.071477750818092), (748, 8.071428571428571), (1245, 8.036790362760291), (1252, 6.686598136466778)]), (214686, [(152, 7.2), (6300, 7.2)]), (232052, [(800, 9.189388301830558), (707, 8.213720205843105), (777, 6.581465281009269)]), (30495, [(2072, 11.259126980145833), (4253, 9.666666666666666), (273, 8.714285723809523)]), (30657, [(4276, 5.6), (4277, 5.306896554655172)]), (92152, [(404, 8.829525372488465), (3232, 8.526544366031743), (634, 8.217359168096726), (3395, 8.2)]), (236017, [(744, 8.630804951656348), (4885, 8.572980931307747), (2921, 8.314516128385982), (5903, 8.25)]), (210077, [(2693, 5.0), (7, 3.7292857185214285), (320, 2.8297872448936165)]), (211430, [(192, 9.225418586859709), (1289, 8.170285962766183), (350, 7.564238450407203), (538, 3.012221471109007)]), (230496, [(357, 9.857142843571427), (3824, 8.5), (183, 7.990820634373274)]), (53846, [(428, 9.267856160330501), (981, 8.772387668779585), (4134, 8.363636363636363)]), (1075, [(636, 9.768982551306216), (124, 8.272999586432546)]), (172192, [(1388, 8.0)]), (17970, [(2044, 8.263888887569445), (194, 8.0), (3210, 8.0)]), (81682, [(1586, 7.742247004052264), (3548, 7.706791307047757), (1587, 7.101707986606497)]), (85992, [(2206, 8.6), (54, 6.51447863008252)]), (133416, [(3279, 7.915132139995825), (1840, 7.597380951602857)]), (128732, [(737, 9.029270358246896), (197, 8.386369348184175), (6548, 7.818181818181818), (877, 6.821885525206509)]), (142823, [(2434, 9.0), (1108, 9.0), (4473, 8.976190476309524)]), (112881, [(1788, 7.454775422357599)]), (168642, [(809, 7.973408746783198), (3119, 7.95031032873562), (392, 7.3076923076923075)]), (278582, [(252, 8.530303021666667), (267, 8.363659816127429)]), (227447, [(1392, 8.755252098046219), (124, 8.53948926872288), (4585, 8.433546862679869), (858, 8.196428571428571), (4032, 8.196428571428571), (2628, 8.180989696478408), (2227, 7.324633708351648), (2034, 5.982109387317444)]), (81136, [(712, 6.094506877456673), (451, 6.083239833279375), (4238, 5.980324076361883), (5290, 3.942528762873563)]), (103277, [(1592, 6.25)]), (197939, [(2234, 7.875)]), (163676, [(1055, 8.66173410049643)]), (41985, [(1928, 5.666666666666667), (2073, 4.939393946666668)]), (266229, [(1407, 9.697906507937642), (3073, 8.013043479130435), (2857, 7.688244214903217)]), (240224, [(2026, 7.987758972646045), (6566, 7.5)]), (157127, [(5117, 7.47317074097561)]), (45418, [(2327, 6.620689658965518), (2731, 4.642857166428572)]), (160154, [(1979, 8.682352932352941), (5129, 7.8)]), (267680, [(2761, 6.333333333333333), (4239, 6.333333333333333)]), (196053, [(934, 8.787654939307139), (533, 8.369872057472287), (418, 7.948689978802566), (6232, 7.776785713660715)]), (10314, [(934, 8.510452119259243), (2202, 8.131652484287716), (1219, 8.073325655313157), (2200, 7.929299001229365), (1939, 7.641753308952404), (2193, 7.576383107442203), (2186, 7.166118421578948), (2188, 7.149314719551024), (2201, 6.944699149232889), (2190, 6.933493591169872)]), (210874, [(1704, 9.424999982000001), (5963, 6.314655185517242)]), (276017, [(4602, 8.0)]), (11832, [(513, 8.29025234687036), (2433, 7.6)]), (159822, [(665, 8.11008385956015), (442, 7.370592798670312), (124, 7.332538104965389), (3588, 7.2219958692237975), (3480, 7.048768940513731), (1586, 6.40316206403162)]), (50225, [(5398, 7.701549861221362), (127, 7.299224144254216), (5395, 6.9), (1857, 5.94166667628392)]), (226976, [(290, 7.230769237115385)]), (193676, [(192, 9.508708747044551), (1436, 9.127053739609497), (501, 8.761021422973112), (1376, 3.5052454341718446)]), (116183, [(5901, 10.952380925714287), (39, 8.285714285714286), (4398, 5.759398521559838)]), (43282, [(1655, 7.83783782945946), (1249, 7.152854211883892)]), (171295, [(6904, 12.05357139232143), (906, 9.261904757738096), (5162, 8.428571428571429), (6218, 8.428571428571429), (3531, 8.428571428571429), (1066, 8.206106616377692)]), (46154, [(4183, 8.107843136895426), (502, 7.487179492307693)]), (230400, [(1923, 7.283898294745763)]), (106849, [(4674, 9.686020226167468), (1863, 9.19097803505103), (2373, 8.89655173413793)]), (167614, [(665, 7.175898058542679), (233, 6.635617136215467)]), (37311, [(4545, 8.255411256681096), (578, 7.65390749592504), (4458, 7.636363636363637)]), (8255, [(1910, 9.811764691764706)]), (224342, [(937, 8.393939396666667)]), (203161, [(988, 8.838324840285502), (805, 8.544642852419642), (720, 7.574296937184965), (274, 7.347340399154288)]), (78015, [(124, 8.981782525560432), (449, 7.0784919759603016)]), (83287, [(4946, 10.098039204705882), (2064, 9.920419381778105), (1594, 9.384954444007336), (3592, 9.079999999198618), (5404, 9.0), (5342, 7.574177756705723)]), (16106, [(2226, 10.996918734429622), (2278, 9.419802262324824), (2746, 9.290322580645162), (2972, 9.040322583145162), (1291, 8.758562520505446), (1030, 8.677419360967741), (1389, 5.547650385518997)]), (187574, [(4993, 9.999999970000001), (1443, 7.333333329999999), (4757, 7.24242424), (2070, 6.313832773881524)]), (101517, [(3266, 5.0), (3372, 5.0), (3390, 5.0)]), (161200, [(2614, 6.67689320199903), (2487, 6.3)]), (165769, [(501, 7.400928382210544), (414, 7.348950829642836), (1190, 6.902951136680918)]), (276521, [(2714, 7.232733634740963), (3465, 7.057365368142571), (2716, 6.8956521779347835)]), (210959, [(1548, 8.871634264767408), (6280, 8.463842971529653), (124, 8.347653625754308), (4601, 8.21590909), (617, 8.125), (800, 7.893855764197994), (3872, 7.0450000108)]), (190885, [(6903, 9.0681817975), (2745, 7.57575757), (206, 6.526315794210527)]), (74849, [(4990, 5.625000001875)]), (43806, [(1761, 10.666753968556614), (1506, 10.144285717135713), (2205, 9.714285714285714), (1052, 9.25310924600336), (5064, 9.043650797003968), (2144, 8.331932786932772), (2354, 8.194285721885713)]), (128790, [(1478, 5.851527475488853)]), (104058, [(101, 7.269230768049022)]), (28222, [(781, 8.150290521297752)]), (109899, [(764, 6.7202260664849724), (1743, 6.544585585329748), (800, 6.300757576337122), (1253, 6.032180767902222)]), (133418, [(73, 8.0), (800, 7.975038402582565)]), (16908, [(3082, 7.24999999)]), (214042, [(3359, 5.834312903652743)]), (271176, [(2053, 10.584525907516717), (235, 9.920988621411125), (480, 9.764526064638739), (471, 9.70837671580564), (533, 9.02864815113), (3285, 8.771133859577905), (5058, 8.276817864707343)]), (30994, [(3243, 9.427106877497446), (446, 9.14248454120829), (614, 8.633620227456204), (2398, 8.60080513032543), (576, 8.346237414674793), (421, 8.187730799243491), (1728, 8.160542919839484), (3614, 7.293827203105342), (2004, 7.285511148058072)]), (254160, [(809, 7.8244680793617025), (3067, 7.25), (935, 6.7500000049999995)]), (36327, [(3532, 9.308464838622669), (1512, 8.829192139017973)]), (40415, [(341, 7.933912686467266), (4995, 6.631578947368421), (4993, 5.1744361047969925)]), (240131, [(192, 9.891095921315406), (6912, 8.4), (6192, 8.300000001), (832, 2.983333387499999)]), (277427, [(119, 11.23755653755656), (71, 10.301282037115385), (60, 10.222882921783697), (69, 10.149615380398718), (109, 9.853023876359222), (70, 9.83722078967351), (75, 9.777377222308239), (98, 9.274294069227949), (58, 8.884615384615385), (107, 8.884615384615385)]), (211770, [(6341, 7.625), (2327, 7.625)]), (160378, [(4802, 8.5), (5428, 8.5), (5688, 8.5)]), (9908, [(2165, 8.578947368421053), (2163, 8.36155606624714)]), (48268, [(934, 8.921420361057262), (5306, 7.875), (1186, 6.556603471265175)]), (66556, [(4562, 8.804034081651697), (2956, 8.25813092023521)]), (152309, [(1491, 8.901289898299382), (1900, 7.435672528040936)]), (133041, [(2918, 9.755463657462991), (721, 9.25), (241, 8.199561407010233)]), (27813, [(4022, 8.773809524801587), (3030, 8.07142858142857), (2255, 8.071428571428571), (4024, 8.071428571428571), (3650, 6.678467493876536)]), (131154, [(1347, 10.55504161344126), (3064, 9.809084629788185)]), (167478, [(1898, 8.514069257213203), (678, 7.142857142857143)]), (92693, [(3377, 9.750000009999999)]), (266109, [(1822, 9.333333333333334), (5933, 9.333333333333334), (3179, 8.435897444871795), (3674, 8.151515163333334)]), (174851, [(2099, 7.854312356290793)]), (256402, [(3398, 9.804347807764678), (4895, 8.0)]), (189235, [(1297, 7.0)]), (152579, [(477, 8.369258817804132), (227, 8.088607992282864), (2801, 8.053160917191091), (4694, 7.583333333333333), (1627, 7.444529646512377), (5428, 6.869047626190476)]), (41395, [(411, 8.50781770584896)]), (231897, [(742, 9.799999976444445), (800, 7.49147242286056), (2310, 7.444444444444445), (1758, 5.908935141146401)]), (140294, [(6177, 9.120930215348839), (611, 7.111397850424373)]), (269386, [(70, 8.261968293955588), (1626, 7.985180747678812), (1447, 7.757575756010101)]), (52175, [(1906, 10.41941198717241), (5485, 9.13846153807639), (2587, 9.1)]), (80683, [(4067, 9.42982454877193), (3380, 8.611117104084185), (477, 8.50137614808762), (552, 8.304522674488071), (4718, 7.258620694195402)]), (161752, [(6054, 7.571428571428571), (6831, 7.571428571428571)]), (257145, [(6219, 7.047619043809525), (6749, 6.666666666666667), (4593, 6.111111116666667)]), (192696, [(379, 8.87499998375)]), (182202, [(6861, 11.585964891698314), (581, 9.835451098093166), (2520, 8.961904767619048), (4187, 8.946547143102373)]), (213255, [(2958, 9.457773289646617), (3579, 7.888888888888889), (5366, 7.630824375340502)]), (20629, [(3422, 7.666666666666667), (3421, 7.666666666666667)]), (101731, [(3943, 8.871794861410256), (4931, 7.916666666249999), (932, 7.233333339333333)]), (215139, [(4007, 8.573275857586207), (4082, 8.517578434318613), (487, 8.125), (758, 8.112186526266008), (2794, 7.532894739802631)]), (23288, [(3639, 8.75), (2286, 8.75), (3638, 8.75), (3634, 8.147907649914622)]), (882, [(609, 9.755555543555555), (608, 8.428432775176836), (605, 8.03911744294031), (613, 7.680555564305555)]), (224249, [(458, 8.066556898354294), (3765, 7.395867234451315), (930, 7.291598248951378), (1572, 6.089049529667403), (6456, 5.80253666122223)]), (218615, [(196, 7.9), (1382, 5.687210749333627)]), (34087, [(3361, 7.349623863523414), (3194, 5.777777777777778), (4427, 5.777777777777778)]), (129389, [(1961, 5.5681818275)]), (75762, [(6195, 8.666666666666666), (5106, 8.666666666666666)]), (66680, [(4562, 6.780903295156152), (5690, 6.684589793272723), (2348, 6.646162569622128), (4561, 6.400239149426406), (2956, 6.305439768117835), (5964, 5.9772727372727275), (1045, 5.952806298149482), (1218, 5.453700727102281), (2086, 5.081151378493286), (1264, 4.616242429794399)]), (199041, [(934, 9.704827678954908), (2091, 9.133333327), (1778, 8.5), (1148, 8.37500000125), (3115, 7.6000000089999995)]), (146564, [(2272, 7.2), (2190, 7.2), (1627, 7.2)]), (234623, [(5770, 9.434774527865915), (4949, 9.33186811701099), (1016, 8.969286026318118), (2406, 8.42062192551555), (4489, 7.846153846153846), (5365, 7.846153846153846), (3077, 7.846153846153846), (6826, 7.846153846153846)]), (96771, [(2795, 10.872727814070181), (3284, 9.8)]), (1025, [(632, 9.416666665833333), (626, 8.25), (630, 6.37175325301407)]), (63507, [(5137, 7.690476171904763), (487, 6.473903506636696), (3643, 5.833333333333333), (5662, 4.958333342083333)]), (144315, [(2935, 7.2)]), (147141, [(274, 6.873258193938689), (6143, 6.7160437877721), (625, 6.4756521761130434)]), (26084, [(3819, 7.913165259831932)]), (77724, [(4375, 8.154707067839858), (6237, 7.928571428571429), (5901, 7.928571428571429)]), (192244, [(456, 8.777333308499253)]), (58389, [(124, 7.813247367527923), (3942, 7.75), (486, 6.822703458282567)]), (61427, [(421, 7.557170093406009), (4227, 7.37152338022377)]), (72352, [(6131, 7.285714285714286), (5452, 7.285714285714286), (2597, 6.619047625714285)]), (193106, [(953, 7.490428821884645)]), (187981, [(2919, 8.65359205750854)]), (266226, [(183, 9.114719060012654), (3542, 8.37037037037037), (2393, 8.356481481550926)]), (153653, [(1261, 8.999438270550435), (3133, 8.445560269389643), (6831, 8.357142858571429), (1707, 8.177980230538886)]), (123094, [(186, 10.077844976367048), (6108, 9.315926181157293), (6107, 9.292107233507862), (617, 5.578341047396313)]), (74286, [(465, 8.836540266591927), (592, 8.620927219747195), (1412, 8.210942816274578), (214, 7.845014184363084), (2004, 6.275499302574333)]), (15418, [(2903, 9.173076910576924), (2902, 8.945398349092548), (1477, 8.63736263021978), (2893, 8.497545002349861), (809, 8.211556006810344), (2898, 7.923076923076923), (2582, 7.803076924276924)]), (240700, [(472, 8.33603816870116), (1781, 8.148846706135906), (1282, 7.8), (4251, 7.277951863490208), (4265, 7.09787234393617), (6861, 6.232441570117439)]), (274056, [(2847, 9.999999990629306), (417, 9.761377700522118), (4528, 9.31313131090909)]), (175636, [(1640, 9.90486217393705), (5832, 8.777777777777779), (6432, 8.777777777777779), (2585, 8.777777777777779)]), (36357, [(592, 9.169091414136833), (1432, 8.5), (316, 7.250000012499999)]), (69389, [(480, 8.711981346889262), (911, 8.604166663645834), (5034, 8.513820171934343), (2214, 8.39566623416708), (1372, 8.364983726170411), (2918, 7.716580332099759), (5525, 7.290322587741936), (40, 6.6485716600371605), (6057, 6.244897976734694)]), (145619, [(6206, 9.061286399017034), (3360, 7.465888280793651)]), (214348, [(1047, 7.880434771304348)]), (162264, [(1660, 5.442982454071284), (3969, 0.8910606738854483)]), (264862, [(5194, 7.428571428571429), (985, 7.225868731882239), (652, 6.345238106071428)]), (76102, [(68, 8.200757574299242), (377, 8.068103111442296), (3180, 6.919143822443643)]), (33179, [(1074, 8.863559591098161), (440, 8.384615384615385), (4112, 8.384615384615385), (656, 8.362876254397992)]), (133166, [(3275, 7.418702554933471), (4503, 7.142857142857143)]), (30487, [(2888, 9.024038445867301), (1971, 8.99517900686565), (3410, 8.866943852889813), (451, 7.876982470548012), (50, 7.681238840546753), (665, 7.591598185436248), (4247, 7.461538461538462), (4249, 7.461538461538462), (4243, 7.461538461538462), (1458, 7.2522361380500895)]), (191188, [(6755, 6.913461538076923)]), (187863, [(4823, 8.250517589648034), (1773, 8.045015388345988), (474, 7.5933119208498905), (723, 6.94687607012586), (411, 6.7898496414215), (4242, 6.159798540904305)]), (14422, [(699, 10.080423257716921), (185, 8.49420498491138), (90, 8.377412882981382), (1232, 8.28540971863691), (581, 8.096720912384303), (404, 7.942019680467402), (456, 7.856252755920886), (2775, 7.851851851851852), (2786, 6.198005714544159), (2792, 5.525462974594907)]), (24733, [(3522, 6.333333333333333), (2825, 2.8805194920288595)]), (100644, [(1526, 9.174955788251916), (3177, 8.473283132332101), (573, 8.256003413940965), (6613, 8.25), (3290, 8.224636489793141), (3175, 7.93432085875508)]), (108352, [(2774, 8.402777775486111), (4257, 7.917417417689514), (1055, 7.134905704461189)]), (12811, [(2555, 6.356321832183909), (2554, 5.323854028735054)]), (169043, [(4673, 5.6)]), (228154, [(2261, 8.707985097296346), (2265, 8.561462680325299)]), (191165, [(1855, 8.15343914047619), (50, 7.812824406982255), (4338, 6.4903540915767195), (4471, 6.16061377995008)]), (150896, [(4989, 8.737936214860701), (5923, 7.7), (660, 7.7), (862, 7.60008047729867), (5824, 7.46970625210423), (3285, 6.409424565592178), (4868, 6.088888905007865)]), (238613, [(2119, 9.298164476987656), (465, 8.866523933214527), (492, 8.710526313289474), (867, 8.342105261842105), (1622, 8.23421052619737), (3799, 8.210526315789474), (5043, 7.273026325164475), (5389, 5.688304106178363)]), (162738, [(5456, 9.722222203703705), (6744, 9.133751243276627), (5043, 8.509454879141144), (3175, 7.9956900073234305), (3586, 7.478887141594497), (791, 7.089966220822047)]), (70628, [(1887, 6.0), (3249, 6.0)]), (96954, [(657, 9.914168299856568), (5771, 9.088524583278689)]), (199025, [(920, 9.875379924741642), (4186, 9.55137843488722), (5915, 8.857142852857143), (3964, 8.428571428571429)]), (118422, [(2015, 7.75)]), (112598, [(434, 8.374247482772915), (338, 7.875042849241255)]), (74758, [(1823, 9.895799123436474), (6181, 9.571428571428571), (4280, 9.571428571428571), (877, 9.001001263227264)]), (55927, [(901, 9.477640439632), (2119, 9.060763548390502), (1167, 8.98749262197339), (3317, 8.434782608695652), (5671, 8.276887873432495)]), (204359, [(3187, 9.274913233547538), (4262, 8.9), (52, 8.82186409824148), (1331, 6.854972795974765), (2374, 6.782352962352942)]), (36938, [(497, 9.285714285714286), (1107, 7.951882164544967)]), (132851, [(5521, 8.185563378353873), (3570, 7.843771046958473), (4640, 7.8), (3950, 7.8), (990, 6.942857151428571)]), (55006, [(397, 9.03340242578278), (2329, 8.062896683453067), (243, 7.9190264485993325), (577, 6.98214286875)]), (31609, [(3119, 6.670729764307062), (4413, 6.285714285714286), (2412, 4.9780219910989)]), (223814, [(3947, 7.166666666666667), (388, 7.166666666666667), (6672, 7.166666666666667), (2238, 7.166666666666667)]), (270554, [(50, 8.805102994817682), (1941, 7.203980927344631)]), (225199, [(2053, 8.969696953333333), (6610, 8.133471641982469), (1207, 7.498358346036588), (1403, 7.333333333333333), (3524, 7.333333333333333), (5612, 7.333333333333333), (6555, 7.04761905047619), (5289, 6.441913452204656), (5058, 6.430497165325857)]), (73056, [(124, 9.304083939005002), (581, 8.992615175818996), (5023, 8.57567934487309)]), (208936, [(1627, 6.995454547477273)]), (219420, [(1574, 8.46060605205303), (4824, 6.75)]), (239488, [(4, 10.291666665208334), (1, 10.111111117407408)]), (31681, [(4418, 9.791666655416666), (4425, 8.666666666666666), (4422, 8.666666666666666), (4419, 8.666666666666666), (4420, 8.666666666666666)]), (208141, [(183, 9.931413179401325), (2528, 8.9375)]), (232492, [(2168, 9.598689475220759)]), (98356, [(5978, 7.462732915341616), (4028, 7.270511582016168), (285, 6.505847954347535), (2396, 5.9719271496759)]), (27193, [(920, 7.698412691428571), (3939, 7.0), (2171, 7.0)]), (194646, [(3162, 8.0)]), (85033, [(1749, 8.666666666666666), (3255, 8.666666666666666)]), (119027, [(1810, 6.0), (5640, 5.29166667375)]), (96019, [(36, 4.305555569999999), (680, 2.083333369999999)]), (113435, [(59, 7.852560548501478), (5275, 7.444444444444445), (3978, 7.444444444444445), (6532, 7.444444444444445)]), (19085, [(3266, 8.751834826343122), (2853, 8.648884678697653), (3278, 8.381786716133941), (2757, 8.074074074074074), (3271, 8.074074074074074), (1250, 8.074074074074074), (2037, 7.9888765437037055), (3276, 7.8484108468548), (3280, 7.330036460090967), (1964, 7.022792029629629)]), (48630, [(1003, 6.845864659924811), (4606, 5.519047623952381)]), (12538, [(128, 10.465569364905909), (2526, 10.017543842807019), (2536, 9.598832221459162), (2271, 8.980392150392158), (2504, 8.910743144588327), (2529, 8.725490194117647), (2521, 8.71600877065424), (2516, 8.417801367344687), (2522, 8.333333333333334), (2500, 8.144739344365473)]), (232211, [(5649, 7.285714285714286), (611, 5.219047639714285)]), (156163, [(1177, 9.238298542366381), (3629, 8.921212118666666)]), (14744, [(800, 7.642253520415492), (2839, 7.5), (2066, 7.5), (196, 7.5)]), (240235, [(2658, 9.318963179300095)]), (46389, [(997, 8.333333333333334), (2266, 8.333333333333334)]), (45383, [(3156, 5.352686205320106)]), (27462, [(911, 6.555555555555555)]), (243966, [(6061, 9.175610390209743)]), (50823, [(4396, 8.083333329943006), (5413, 7.995764555545907), (2600, 7.595871209749065), (4362, 7.083333340113987)]), (274393, [(784, 9.019064487155982), (565, 8.41705222356401), (693, 8.262656389685153), (357, 8.209565662854143), (486, 8.169134003898742), (2669, 8.142857142857142)]), (183277, [(3240, 11.966666635000001), (4267, 9.414035081578948)]), (257625, [(2064, 7.0), (492, 7.0), (1219, 6.790322582741936)]), (136291, [(1708, 9.0)]), (117700, [(706, 10.338461523076925), (586, 8.935241301231763), (3237, 8.8), (497, 7.972413801379311)]), (264085, [(6161, 10.238280875020829), (1433, 7.5819379732946315)]), (112765, [(1071, 8.75), (4705, 8.050000007)]), (252698, [(2785, 8.25)]), (2041, [(624, 5.0)]), (106768, [(5350, 9.579724861641882), (473, 9.335014746850458), (2546, 9.288888460771517), (3973, 9.21763279938855), (3977, 9.181550929024382), (338, 9.015420471793698), (4550, 8.84064051170128), (1401, 8.810373911760786)]), (239535, [(744, 7.984726466042716), (4896, 7.714285714285714), (1574, 7.626919621248575)]), (138193, [(6478, 7.666666666666667), (931, 6.804597709770114)]), (183436, [(2075, 10.58939393344697)]), (121606, [(4099, 9.332530661508217), (5368, 8.850008361722594), (4802, 8.457142856857143), (5446, 8.428571428571429), (592, 8.364471718471847), (214, 8.352641577022046), (1415, 7.333116888594156)]), (188518, [(6376, 5.994117649117648)]), (152186, [(4001, 10.292279386571751), (3727, 9.007595033458157), (5530, 8.657198762435069), (3350, 8.164396237765862), (1777, 7.8800438595360935), (5526, 7.823529411764706), (4768, 7.823529411764706), (6112, 7.823529411764706), (95, 7.648289866424105), (3290, 7.013769146943228)]), (52011, [(5480, 7.864782855253598), (5474, 7.714198909546009), (3389, 7.459009637530143), (5471, 7.242263570625077), (4321, 6.806830163316845), (5477, 6.668108346632968)]), (12515, [(2490, 5.734782604347826), (1613, 5.194736843157895)]), (123460, [(1743, 7.170789372012695), (1707, 6.679197028917992)]), (23571, [(463, 9.382963992775025), (2452, 9.34608072080826), (3656, 9.100699298153847), (981, 8.020462240250492), (3652, 7.166153862953847)]), (264311, [(2823, 7.778513521889911), (2919, 7.510534153099793), (2972, 7.157894736842105)]), (201768, [(3475, 9.166666655), (450, 8.58961686642978), (1268, 8.388253783279339), (4530, 8.0)]), (226205, [(127, 8.45286459709497), (465, 8.287779623006204), (782, 8.272502172890098), (1821, 8.24277717167241), (404, 7.579116032953036), (4183, 6.2035741441953896)]), (216501, [(6, 8.333333333333334), (367, 8.333333333333334), (3881, 8.333333333333334)]), (231237, [(1520, 10.307386730794363), (2321, 10.140435643787486), (4390, 10.04309928364514), (693, 10.013413660183168), (4389, 10.006402654552602), (1160, 9.677603099453641), (5710, 9.673983353756944), (54, 9.659129400446956), (2407, 9.453863914689856), (5546, 9.15)]), (10607, [(1491, 9.641653224577281), (2269, 9.333333333333334)]), (137437, [(6453, 7.311992752332537), (450, 7.055403371136133), (4930, 6.666666666666667)]), (215986, [(472, 8.252182112420106), (6578, 7.44), (964, 7.364528302703438)]), (9177, [(2062, 7.666666666666667), (2061, 7.666666666666667)]), (74093, [(1715, 7.5), (4584, 7.5), (932, 7.5)]), (223879, [(2026, 8.444287163792282), (5120, 8.181818181818182), (2916, 8.181818181818182), (1710, 8.181818181818182), (3951, 7.0664335775874125)]), (12194, [(2472, 9.499999995), (1358, 9.309523811825397), (2471, 8.788888889592593)]), (185634, [(3809, 9.861111093611111), (216, 8.11111111111111), (761, 8.11111111111111), (6888, 8.11111111111111)]), (182847, [(981, 9.447971120113156), (6737, 7.964285725892857), (6169, 7.64673914521739)]), (64946, [(4899, 6.647285787312882)]), (77052, [(2872, 8.651470582977941)]), (120860, [(4103, 6.2), (810, 6.2)]), (133689, [(4196, 8.476528603203816), (3586, 8.077687598701791), (214, 7.818222435908028), (3149, 7.685004304034146), (51, 7.36419014172889), (552, 6.718874397388148)]), (81298, [(2863, 6.3717171607748595), (2387, 6.003921570590781), (2045, 5.515656569078283)]), (171602, [(3975, 8.074714136661457)]), (2288, [(897, 7.4)]), (264634, [(1342, 7.18102316464507), (398, 5.93582937528098)]), (213641, [(410, 9.16896853431851), (2742, 8.8), (1422, 8.685675247689385)]), (147307, [(5338, 8.376190461428571), (226, 7.499999997), (2961, 7.407322685238983)]), (201641, [(971, 8.575650783804086), (1833, 6.9166666816666655)]), (27317, [(3948, 7.666666666666667), (737, 7.666666666666667), (1186, 5.950952700022459)]), (114258, [(1183, 8.910545903654468), (2005, 7.3085106502127655)]), (83109, [(401, 7.285714285714286), (1836, 7.285714285714286), (5438, 7.149407324359528), (4433, 6.71428572), (1837, 6.004961375893235)]), (227327, [(465, 8.481864994657627)]), (31144, [(4371, 8.015873015714286), (771, 8.0), (1045, 8.0)]), (154137, [(5517, 8.407142851071429)]), (271144, [(983, 7.026699373130914), (1223, 6.69875776226708), (1371, 6.357142857142857)]), (180840, [(2725, 8.125)]), (102945, [(3083, 8.387153143931165), (6002, 7.0), (6646, 6.706896554655172), (6645, 4.625000023749999)]), (235888, [(3022, 7.5), (5118, 7.5), (2741, 6.981481486666667)]), (183178, [(1895, 4.119330830372852)]), (166758, [(2945, 3.8775510559183664)]), (242106, [(6703, 10.794117631764706), (341, 10.113828864676293), (589, 10.002408228005493), (1838, 9.609399493066341), (435, 8.785084645258502), (5170, 8.264705892352941)]), (115002, [(2253, 6.569664028097826), (4347, 6.217391304347826), (2614, 6.097391305547827), (392, 6.054827202108852), (393, 5.814139272634005)]), (43093, [(5130, 8.333333333333334)]), (32034, [(409, 10.380952360476192), (4314, 6.083333356008433)]), (236621, [(1919, 5.066666692666667)]), (161662, [(2846, 8.563492050714286), (2920, 8.167070209104116), (225, 7.655244055550382)]), (57302, [(2199, 7.93181818), (4571, 6.2134146495121945)]), (205608, [(6207, 8.341655098603791), (1348, 6.333333333333333)]), (126697, [(338, 9.118231276472004), (3284, 8.571428571428571)]), (35793, [(1218, 6.924352028164675), (2942, 5.717948737435897)]), (247060, [(3564, 7.574297037486826), (197, 7.291921040435151), (258, 7.035500240475202), (6637, 6.846153846153846)]), (27875, [(1044, 8.829268284390245), (314, 7.659796577978847), (2925, 6.825641029555555), (4028, 6.502596351337692)]), (81950, [(5438, 8.328397614121776), (1616, 7.5), (2908, 7.375000001262527), (20, 2.4833525471038316)]), (76741, [(1490, 6.75)]), (218121, [(6400, 9.621820529294958), (1560, 9.217882800214952), (1261, 9.107951331655464), (1407, 8.844734381690094), (4027, 8.375919575280253), (1207, 8.263228855406254), (925, 8.238204648501279), (2498, 7.545238098511904), (6264, 7.244871799647435), (560, 6.932728447262985)]), (245534, [(1291, 5.923257571024631)]), (55789, [(3269, 7.87500001), (2692, 7.6703412496203285), (170, 7.42846167497615)]), (9354, [(2078, 9.147540982131147), (2083, 9.0), (2081, 9.0)]), (253386, [(6428, 5.0585106602127645)]), (64310, [(5848, 10.75294116247059), (160, 9.581504662292469), (1231, 9.352941176470589), (777, 8.904509527394241)]), (187801, [(971, 7.326770970296937), (1861, 5.781056639323699), (2347, 5.524842344071923)]), (217121, [(2766, 8.079710137028986), (3901, 7.076651822897858), (1477, 6.683196367593288), (5235, 6.669972783369137), (1479, 5.998631340548371)]), (21462, [(3117, 6.5), (61, 5.9375000028125005)]), (231255, [(2820, 7.818181818181818), (4274, 7.08741259472028)]), (62542, [(3063, 9.615196059797757), (2870, 9.401703046212129), (70, 8.565757796843062)]), (25919, [(3805, 9.4166666625), (3804, 7.823529423577728)]), (207246, [(6034, 10.341666647916668), (3064, 9.567819833693928), (127, 8.973052599592654), (183, 8.80999201677844), (1806, 8.466666666666667), (6341, 8.466666666666667)]), (29259, [(4164, 10.284034276115417), (4169, 9.594608227494808), (3740, 9.382539680984127), (981, 9.266307278142422), (274, 9.251880293899394), (1862, 9.102135072435004), (4163, 9.071428571428571), (3822, 8.011099564086843)]), (139827, [(5682, 8.12794917623412), (6304, 7.559941519078948)]), (109779, [(3975, 8.233411129473284), (6212, 7.989421339457351), (418, 7.96010311952384), (2957, 7.914736592141937), (3550, 7.793526496003242), (474, 7.594217986671808), (6719, 7.57157894593976), (6269, 7.44), (469, 7.39728906671343)]), (201058, [(1269, 8.891881403408386), (3741, 7.090909110909092)]), (1435, [(446, 8.193878366876637), (715, 7.128737451391568), (716, 6.779734183437071)]), (97587, [(180, 8.0)]), (147385, [(4968, 6.0)]), (36817, [(486, 6.505407750123063), (124, 6.359523883952908), (1784, 5.028409099999999)]), (121167, [(5099, 7.0), (4938, 7.0), (75, 7.0)]), (223461, [(3349, 6.0)]), (227422, [(1789, 8.431763366102759), (4257, 7.972972973243243)]), (4938, [(895, 8.690416666440624), (487, 7.497016132708871)]), (208415, [(431, 8.35714284857143), (3949, 8.06730878492019), (1114, 7.726941165276061), (925, 7.384866533181292)]), (60253, [(4119, 8.0), (1924, 8.0), (428, 8.0)]), (51100, [(5428, 9.0), (2860, 9.0)]), (244070, [(6580, 7.857142857142857)]), (161037, [(4809, 9.000000009999999), (6853, 9.0)]), (26553, [(3873, 6.777777777777778), (2215, 6.777777777777778)]), (63452, [(1761, 9.082142852321429)]), (268691, [(427, 7.0)]), (207924, [(982, 8.809523808095237)]), (73923, [(2821, 8.842522967667085), (465, 8.494494483551197), (410, 8.175039650865111), (1104, 7.6156346875242225), (193, 7.555555555555555), (2829, 7.493055556180555), (1237, 7.263888891805556), (1672, 4.236247767423275)]), (119418, [(279, 7.07499999125)]), (192710, [(1140, 6.625), (723, 6.279729358077755)]), (20150, [(1428, 9.927536222608696), (3371, 9.0)]), (67930, [(2280, 10.572504701346515), (279, 9.685296024540815), (2493, 9.222222222222221)]), (225449, [(4314, 7.666666666666667), (3592, 7.666666666666667), (1322, 7.666666666666667)]), (182088, [(4640, 9.88888888888889)]), (137222, [(940, 11.808510620212765), (922, 10.0), (6577, 10.0)]), (184354, [(472, 8.595849799392292), (3818, 8.353695322515083), (2103, 8.0)]), (39227, [(194, 8.660611007968633), (1064, 8.444444454444444), (1310, 8.444444444444445), (4940, 8.444444444444445), (4937, 8.444444444444445), (720, 8.276086956942633)]), (47117, [(581, 9.8350962744719)]), (17507, [(3162, 7.630179385796825)]), (129393, [(2023, 10.989010970549451)]), (125031, [(1884, 7.557880392528727), (404, 7.227045077377294), (1055, 7.00899957037988), (634, 6.507752525244817)]), (24391, [(2662, 7.4666666668333335), (145, 7.033333338)]), (56654, [(3537, 9.4187499778125), (1586, 6.663235295459559), (3227, 4.682142882321428)]), (124942, [(5555, 7.991071424208397), (3355, 7.5625)]), (53042, [(157, 8.516446513077067), (20, 3.0197531093209875)]), (115150, [(492, 7.2094987585265)]), (109574, [(3537, 10.009259243252709), (2291, 9.94065124835505), (464, 8.90277777402778), (1574, 8.882144318899961), (2217, 8.786326197125609), (1521, 8.527777777777779), (486, 8.323259680802309), (5593, 8.176590694427984), (1071, 7.743027972479118)]), (104883, [(4942, 7.25)]), (66323, [(1761, 7.499570912150589), (70, 6.610557840791116), (621, 6.078671356352217), (2373, 6.0), (5951, 6.0), (1626, 5.325791610415825)]), (123257, [(341, 9.842012719713981), (3457, 9.613636356136363), (4989, 9.601381462549762), (1105, 9.57792207935065), (5384, 9.18503950691375), (2494, 8.923120865535292), (2113, 8.725361872687275), (5671, 8.390490001681345), (1271, 8.171347073258962), (597, 7.051363640894317)]), (154543, [(1574, 6.912904260984982), (1663, 5.7)]), (227072, [(1102, 7.333333333333333), (4528, 6.919642859211309)]), (157594, [(2627, 7.909090899999999), (1612, 7.0)]), (98484, [(1583, 9.1875000040625), (1990, 9.0)]), (263321, [(5286, 6.56370024065925)]), (96554, [(3615, 7.96520146680403), (102, 6.098214307589286)]), (204393, [(1603, 9.98872681140163), (1490, 9.49825459421237), (1257, 8.109090926666667)]), (5728, [(1379, 8.333333333333334)]), (262469, [(124, 7.775745715987795)]), (176785, [(1058, 8.77093516284542), (3639, 8.337719297368421)]), (25930, [(3807, 7.1943705630706996), (3810, 6.333333333333333), (3808, 6.333333333333333)]), (260363, [(910, 10.62717545752388), (6209, 10.505547848522886), (1328, 10.305352799060264)]), (93518, [(3645, 6.0), (5265, 6.0), (6523, 6.0)]), (219008, [(1810, 7.2)]), (129690, [(286, 10.232858237741718), (41, 9.92836636879672), (5463, 9.090909090909092), (6317, 9.090909090909092)]), (53408, [(477, 8.184543297360152)]), (141109, [(5880, 7.0), (6807, 7.0), (5587, 7.0)]), (21031, [(649, 10.286104510110933), (793, 8.4), (935, 6.803150282036328)]), (238607, [(3048, 8.443943941724225), (3186, 8.401748416423013), (1491, 7.021495331995327)]), (50849, [(2526, 7.714285714285714), (5414, 7.714285714285714), (5415, 6.603174614285715)]), (189558, [(5877, 9.363143624620596), (4161, 8.653956811279235), (5501, 8.575043642917125), (4329, 8.553007170016658), (3566, 8.0), (4933, 8.0), (1469, 7.950404858547571), (5075, 7.394958133670246), (4225, 7.343497345685686), (4651, 6.717225090883668)]), (83383, [(1314, 7.481481483333334), (6360, 6.579710150362319)]), (183572, [(3904, 9.59999999), (1680, 9.477941172080882), (781, 8.370753093990007), (3903, 7.797600782116875)]), (65663, [(2858, 8.950274214335087), (5938, 8.857142857142858)]), (253821, [(427, 7.933333333333334)]), (134120, [(505, 7.5), (602, 7.5)]), (117557, [(4061, 6.795362103686198), (4147, 5.9375000106249995)]), (154844, [(3132, 8.063492060634921), (5160, 7.777777777777778)]), (97208, [(953, 6.302678570915179), (5387, 6.2), (4175, 6.2), (1766, 6.2), (3170, 6.2), (884, 6.1600000004)]), (169699, [(3148, 9.07499998125), (6122, 7.644444440000001), (6183, 7.2)]), (42914, [(2634, 9.1741804752562), (4976, 8.645798317863445), (3976, 8.592643692434548), (2763, 7.986478902226128), (133, 7.807107848290033), (1695, 6.790441184283089), (3957, 6.351840672903091)]), (242247, [(5559, 11.272727249999999), (6333, 9.0), (1071, 8.936837906864172), (2710, 7.27272729)]), (133192, [(4074, 9.003639837982663), (3901, 8.943290225549186), (2903, 8.8768996733217), (131, 8.691236951500022)]), (212568, [(3074, 7.315789470526316), (4148, 7.0)]), (233578, [(1574, 8.776576768168484), (5733, 7.770812107951107)]), (36741, [(1104, 7.44034859778414), (4765, 6.857142857142857), (3083, 6.555555558571427)]), (8782, [(1083, 9.779999992199999), (2011, 9.0), (2010, 7.041339406238115)]), (16551, [(1574, 7.702985563018562)]), (157625, [(1955, 7.8), (5076, 5.80000002)]), (243360, [(6311, 7.130434782608695), (2636, 7.130434782608695), (452, 6.663791121868338)]), (104268, [(5418, 8.987499988125), (5679, 7.80000001)]), (162590, [(520, 9.799999987454544), (643, 8.637048708071347), (5872, 8.545454545454545), (1055, 8.139963778298151)]), (18172, [(3236, 8.8)]), (53069, [(2983, 6.166666666666667), (4790, 5.741134756028369)]), (88976, [(5955, 9.0)]), (35631, [(1773, 6.860253761840209)]), (70379, [(339, 10.394957974957984), (1761, 9.928144463735112), (4653, 9.571428571428571), (2195, 9.571428571428571)]), (100264, [(6609, 7.826327791049202), (1329, 7.661246057622265), (5011, 6.719410093568291)]), (134483, [(1901, 7.69696970030303), (1437, 7.363636363636363)]), (51992, [(462, 9.142608682052174), (1377, 7.9492753614855065), (789, 7.782608695652174), (5469, 7.782608695652174), (5467, 7.782608695652174)]), (223402, [(3724, 8.666666666666666), (2324, 8.569444444768518)]), (102668, [(910, 8.467948711602565), (3520, 8.293892153205872)]), (207965, [(2480, 6.611111127222221)]), (122418, [(6590, 7.0), (662, 7.0)]), (41403, [(438, 7.625), (4890, 7.29166667)]), (205979, [(3345, 8.645252523628686)]), (273167, [(2305, 5.55861063960492)]), (12272, [(127, 9.35224850524878), (20, 4.997895631232464)]), (73651, [(1059, 6.5105676307321865), (4082, 6.267616288963037), (3325, 6.1893196804147745), (6156, 6.086956521739131), (2818, 5.240802684046822)]), (250989, [(308, 7.6285714182857145), (1249, 7.347916664796875)]), (7620, [(1212, 7.8444969258641), (1742, 7.833333333333333)]), (16155, [(2994, 8.000000009999999), (2993, 8.0)]), (95301, [(6541, 9.734848484178789)]), (266697, [(1284, 10.38988094876488), (486, 10.230769232948717)]), (71752, [(1184, 7.923076923076923), (3520, 7.794171273000302), (1617, 7.122439819227257)]), (162662, [(1686, 9.866666667333334), (1616, 9.0), (241, 8.8400000016)]), (24433, [(1481, 9.16958041986888), (1428, 9.16282829377477), (2902, 8.941558434415583), (695, 8.662982478973769), (37, 8.3488095234044), (2118, 8.296238243824451)]), (83239, [(651, 9.0), (5138, 7.666666679999999)]), (111133, [(2827, 6.833333358333333)]), (170866, [(107, 7.0)]), (246798, [(4885, 7.333333333333333)]), (237748, [(4531, 8.285714272857144), (300, 7.913043469130434), (609, 7.498834496340326), (1680, 7.192676199364874), (6677, 7.03076923046027), (2918, 6.976161664138595), (903, 6.785074134789971), (1391, 6.507142294131668), (2579, 6.355953385246876)]), (153950, [(5798, 7.368421052631579), (3892, 7.368421052631579), (202, 6.818940885952718)]), (115929, [(6628, 8.0), (516, 8.0), (3934, 8.0)]), (136747, [(3197, 12.08974356051282), (3188, 9.166666666666666)]), (246655, [(5335, 10.473890677543967), (1652, 7.454545454545454), (47, 7.454545454545454)]), (93018, [(3901, 9.144699717232822)]), (202564, [(1546, 8.903651898022533), (5087, 6.393162407008546), (6467, 6.349206363492063)]), (266678, [(1081, 6.5), (4934, 4.192307715384615)]), (94985, [(590, 8.365595921484998), (2612, 7.664516128386078), (3918, 7.6), (149, 4.538775540816325)]), (27812, [(4017, 9.803571410535715), (3125, 9.342105249736843), (3518, 8.81818181), (434, 8.399905041537084), (3480, 8.0), (159, 8.0), (3801, 8.0), (4015, 7.304561720829607)]), (98159, [(4664, 7.4), (5470, 7.4)]), (97160, [(688, 7.333333333333333), (5598, 7.333333333333333)]), (122429, [(5590, 8.240530296666668), (2984, 7.8645526132237205), (2340, 7.604166666666667), (2952, 7.604166666666667), (201, 7.604166666666667), (1515, 7.451455343666268), (5923, 7.407271242486384)]), (86969, [(17, 8.425527535385253), (127, 7.959665564602528), (518, 7.755184332196621)]), (140410, [(532, 8.44097222126736), (581, 8.177211711582675)]), (58911, [(141, 6.778967642169029), (459, 5.315367971791125), (4183, 4.7463414819512195)]), (34377, [(1566, 9.29797978388889), (226, 7.888888898888889)]), (83431, [(4735, 9.101010095555555), (3310, 8.555555555555555), (946, 8.555555555555555), (2713, 8.131962385172743), (127, 7.98342379898995), (5164, 7.876466808819879)]), (262940, [(61, 9.552716097356049), (3591, 8.76190475857143), (5246, 8.553571432946429), (5519, 8.428571428571429), (1092, 8.428571428571429)]), (147900, [(2046, 9.166666666666666)]), (232756, [(781, 6.224909934033854), (6146, 6.0), (451, 5.458976531046637)]), (263460, [(3765, 8.587365585336022), (4057, 7.375), (3254, 7.375)]), (95923, [(2633, 10.023380750797319), (556, 8.967657339134615), (6549, 8.615384615384615)]), (1424, [(678, 7.753586689358975), (53, 7.720394730263157), (695, 7.11120107950038), (701, 7.0625)]), (36299, [(783, 9.29190054712653), (1346, 8.557406543161095), (2125, 7.991141238804108), (3722, 7.896551724137931)]), (47127, [(414, 7.986885102451947)]), (128332, [(127, 5.458097909269096), (227, 5.205016202528096), (966, 4.7)]), (230115, [(611, 6.688888886069445)]), (190708, [(675, 8.103274608082007), (1022, 7.68527003930816), (815, 7.513513513513513), (6112, 7.513513513513513), (916, 6.802046613943559), (648, 5.937852310998437)]), (25996, [(593, 8.214285707142857)]), (252827, [(1576, 11.02916666409375), (6043, 10.0), (6615, 9.32342657680944)]), (30810, [(2347, 8.459892099648387), (4226, 7.857142857142857)]), (32516, [(542, 10.285714275714287), (3313, 9.285714285714286), (160, 8.772913075250916)]), (86720, [(3370, 7.271978021868132), (1730, 7.143856209504139)]), (127233, [(2725, 8.504575157787581), (3457, 8.13235293367647), (50, 8.041251582694983), (5816, 7.8896047337440045), (1033, 7.882359381286265), (1249, 7.780906170581673), (1028, 7.63844927893343), (5404, 7.382352941176471), (18, 6.6783279219064005), (1309, 6.2275632487098385)]), (161476, [(1240, 7.0), (533, 7.0), (6047, 7.0), (487, 7.0), (1447, 7.0)]), (93034, [(5577, 8.2)]), (19336, [(774, 7.2807647378477265), (3286, 6.884869434770755)]), (139243, [(303, 9.172543847809134)]), (150554, [(2540, 8.0)]), (248615, [(651, 5.777777777777778), (4921, 5.777777777777778)]), (52670, [(391, 6.0), (1401, 4.833333345)]), (19233, [(1143, 6.666666666666667), (2251, 6.666666666666667), (3284, 6.666666666666667), (1971, 6.666666666666667)]), (184479, [(1780, 7.0), (1238, 7.0)]), (221753, [(1958, 9.050505037777778), (2554, 7.777777777777778), (4457, 7.777777777777778)]), (48213, [(4496, 6.924710434034749)]), (244, [(456, 7.3381745576463375), (459, 6.939689368750411)]), (192479, [(3650, 10.126623371704545), (440, 9.253968252857142), (5183, 9.142857142857142), (1630, 6.572857155707142)]), (70014, [(340, 7.9881969747766775), (805, 7.713675212962963)]), (137434, [(883, 7.666666666666667), (3172, 6.785714294523809), (1401, 6.500000011666667)]), (160401, [(5847, 8.160130698639733), (4279, 7.750824150498811), (920, 7.564171111176471), (1064, 6.638104115991401), (3156, 6.585232631526078), (2514, 6.382352941176471), (2109, 5.8078299352352065)]), (208829, [(5676, 9.349893941543776), (2549, 8.635159445679347), (2918, 8.361855050573096), (513, 8.107383225862392), (4246, 7.595400299572584), (1721, 7.191061259642984)]), (129373, [(1773, 9.393008262123024), (6763, 9.157692312115383)]), (196502, [(901, 9.04025790046227), (1119, 8.33730054712399), (6404, 8.032232895198119), (2050, 7.846471992294165), (6493, 7.514069263474025), (663, 7.513368983368983), (4201, 7.454545454545454), (6852, 7.454545454545454)]), (115833, [(1405, 7.5), (5177, 6.67243473257033)]), (180495, [(881, 7.372180452838346), (4621, 7.142857138571429), (185, 6.910119047129464), (759, 6.714285714285714), (897, 6.714285714285714)]), (238889, [(339, 9.53884764006297), (340, 9.214949898760628), (838, 9.132504147920605), (837, 8.748897866440787), (1743, 8.667158770438853), (407, 8.531835824832843), (736, 8.521033053960089), (3055, 5.860215081827956)]), (129489, [(4164, 9.904761907222221), (257, 9.754540389507083), (3475, 9.642857142857142), (5047, 9.435623862672415), (2819, 9.402232144060267), (1002, 7.903968262662698)]), (1733, [(769, 7.909090904021941), (757, 7.409981491617773), (770, 6.223905735757576), (771, 5.576673335835414)]), (24921, [(318, 10.273504254615386), (1307, 9.329059824337607), (3031, 8.965260540099255), (2961, 8.86510951593453), (3733, 8.384615384615385), (3736, 7.753663005240385)]), (78328, [(5474, 7.354611771937784), (5473, 7.203308227841099), (503, 6.7268899418464745), (2119, 6.6923076923076925), (1115, 6.457210025556289), (1117, 6.105972076644968)]), (256507, [(157, 8.223493496535509), (5233, 7.454545454545454)]), (38654, [(4445, 8.828703696666667), (4913, 8.125), (4912, 7.441026909950585)]), (15845, [(592, 7.1989660040518775)]), (63389, [(2554, 6.999678509689323), (1253, 6.375627588747683)]), (134347, [(459, 8.666666666666666)]), (88187, [(4309, 7.733333331)]), (163307, [(2508, 7.357142857142857), (1760, 6.8657980990790675), (6087, 6.42610838369458)]), (122506, [(4480, 9.044871780256411), (6777, 7.583333333333333), (3320, 7.244372296067099)]), (182334, [(4182, 8.018366580597025), (2052, 7.9375), (5755, 7.9375)]), (131657, [(1728, 4.630208360364582)]), (22045, [(1048, 8.921716768563979)]), (87974, [(2996, 7.6)]), (57255, [(2063, 7.370731705609756), (2947, 7.2)]), (154992, [(1761, 7.478318318298563), (2694, 7.375), (2373, 7.095833334729167)]), (225617, [(169, 8.209930920689166), (1433, 7.656920078438109)]), (23547, [(3650, 8.608076604511224), (1821, 8.120445967468129), (977, 7.890226057526657), (3646, 7.677350425961539), (3051, 7.194717256085647)]), (19493, [(3299, 11.145045035653155), (235, 10.240695566697427), (3294, 10.044444436666668), (3296, 9.266666666666667), (1218, 8.731262897766642), (288, 8.564241001755768)]), (18067, [(1142, 6.1)]), (112173, [(3133, 7.089492571696495), (3770, 7.029914528703704)]), (190409, [(4614, 7.00000001), (6344, 7.0)]), (110076, [(1367, 7.333333333333333), (2223, 7.333333333333333)]), (14456, [(845, 10.110789784275594), (1016, 10.034699816608837), (1549, 9.932595179789562), (2807, 9.090909090909092)]), (50205, [(5391, 8.371794861410256), (5121, 7.333333333333333), (251, 7.333333333333333)]), (72742, [(2349, 7.25)]), (202553, [(6669, 6.009259254212964), (3366, 5.0)]), (247444, [(1102, 4.070652186956521)]), (84427, [(465, 9.750991153852151), (590, 8.017455123193093)]), (88330, [(5596, 7.456989244408603)]), (82608, [(1957, 6.25), (3430, 6.25), (637, 5.989130437391305)]), (178201, [(1527, 8.327159280095625), (938, 7.697752455013082), (665, 7.608280048789702), (1253, 6.140039738087599)]), (25804, [(3794, 10.666666645000001), (1362, 8.5), (691, 8.5)]), (205285, [(2686, 6.428571428571429)]), (216781, [(3581, 7.697435895111111), (3945, 7.196438800763989)]), (68156, [(197, 10.189560419203296), (440, 8.586880237743864)]), (170850, [(3362, 8.75)]), (155680, [(823, 8.5), (1150, 8.5)]), (246820, [(5810, 7.666666666666667), (3455, 6.156583053951468)]), (174615, [(2625, 6.428571428571429), (5051, 6.285714287142857)]), (128045, [(50, 9.25961699903703), (3071, 8.142857142857142), (124, 8.093480234373294)]), (185450, [(67, 9.610647409696172), (644, 8.939661062021012)]), (8019, [(1795, 8.80512819974359), (1800, 8.266666666666667), (1794, 8.266666666666667), (6, 8.096105076804893)]), (244761, [(417, 7.8), (997, 6.976470596470588)]), (79942, [(4465, 10.497297274324325), (440, 8.2), (1101, 8.2), (1489, 8.2), (4418, 8.2), (1377, 7.497297304324324)]), (236172, [(1853, 9.266158431614711), (4468, 9.23602483757764)]), (197775, [(246, 10.042147033069638), (831, 9.460497834266773), (420, 8.429260038656649)]), (196886, [(845, 10.010105581993464), (379, 9.751652554228007), (2872, 9.4)]), (20961, [(2969, 7.50000000503077)]), (249407, [(1140, 10.55111109671111), (2379, 9.11111111111111), (2323, 9.11111111111111), (384, 8.700854704957264)]), (135351, [(2226, 8.218009596393244), (2284, 7.160804550158788), (157, 7.081575593252624), (3186, 6.998919684253013), (388, 6.923561321101756), (3965, 6.540579708234564), (643, 6.3561807329482)]), (135681, [(1186, 7.875), (1546, 7.875)]), (193470, [(5591, 5.5105571163762495)]), (86932, [(2007, 5.908510700340572)]), (265784, [(3235, 6.130917012833565)]), (191803, [(1553, 5.0), (321, 5.0)]), (144925, [(5901, 8.75), (210, 8.75)]), (238120, [(4035, 7.70499999375), (1201, 7.367905910236564), (1491, 7.323558039957371), (6665, 7.083561253543447), (4916, 7.08), (5991, 7.08), (1390, 6.989569938559897), (2113, 6.8684718853442694), (1117, 6.85617140567828), (1707, 6.727170222560376)]), (50141, [(180, 8.534188019187486), (2730, 8.534188019187486), (3169, 7.111111111111111), (5388, 7.111111111111111), (4175, 7.111111111111111)]), (89507, [(1770, 9.287499993125), (963, 8.6)]), (11718, [(2410, 9.287499984), (1180, 8.188527890147364), (2409, 7.6875), (214, 7.629333351989159)]), (249848, [(1389, 8.25)]), (156837, [(4847, 8.833333333333334)]), (10819, [(2052, 9.397619042380953), (1928, 9.052036731611505), (2296, 8.35), (2289, 8.35), (2302, 8.35)]), (99222, [(4301, 10.29687498703125), (1176, 8.8800000006)]), (125217, [(5177, 9.84060149312782), (1113, 6.5892857255357145)]), (147678, [(2933, 8.714285714285714), (2888, 8.714285714285714), (809, 8.662937018419994), (1026, 8.305582125337144)]), (84201, [(5752, 9.333333340000001), (5750, 8.33333335)]), (243236, [(6561, 8.63675212482906), (2202, 7.898989896717172)]), (176875, [(4085, 6.866666666666666), (5615, 6.866666666666666), (679, 6.866666666666666)]), (250398, [(142, 6.696447606276506), (135, 6.289130565395225), (136, 6.224504273457869), (23, 6.0874948694377), (531, 5.739564223663958), (138, 5.591021352975335)]), (83306, [(5966, 7.4), (4118, 4.103703736666667)]), (245194, [(5120, 5.0)]), (58877, [(641, 4.4047619127380955)]), (11638, [(1491, 9.219013967713748), (1427, 8.827009221571366), (1660, 8.5), (2391, 5.9400000256)]), (192093, [(500, 9.529542316988069), (124, 9.377667720397428), (657, 9.117531411451543), (1186, 8.80252029091115), (2974, 8.785714285714286), (2817, 8.785714285714286), (4689, 7.253381395014344)]), (269273, [(1842, 5.384615384615385), (77, 5.336666966631434)]), (60337, [(663, 10.139612765482214), (1737, 9.772222220077778), (610, 9.750092475558631), (2004, 7.265323563613011)]), (72287, [(5031, 7.0), (173, 6.1094919122647156), (3213, 3.8421052947368426)]), (265620, [(1683, 6.285714285714286), (6659, 6.285714285714286), (5553, 5.581348754222274), (392, 5.503663006269841)]), (23659, [(3073, 7.0)]), (258482, [(637, 8.972584534245907), (6773, 8.38888888888889), (3232, 8.036112185581706), (449, 7.848780341929966), (193, 7.438946549907743)]), (54335, [(51, 8.641395304010441), (141, 8.30229475421672), (256, 7.8198752232624775), (1068, 7.77320822895265), (5599, 7.232620324237968), (144, 7.2298351301701205), (1690, 7.222593040684072)]), (242118, [(2710, 8.030536649677629)]), (53590, [(693, 8.252433040410112), (5580, 7.333333335833333), (2044, 6.859665600470627)]), (163579, [(1602, 8.000000009999999), (288, 8.0), (70, 8.0)]), (126585, [(1152, 9.12111800263975), (5008, 8.142857142857142), (3570, 7.753968260912698)]), (158774, [(5472, 9.069069053933934), (1749, 7.692819512633843), (5164, 7.555555555555555), (862, 7.471609756596181)]), (24878, [(3732, 8.0), (1554, 8.0), (3731, 8.0), (1429, 8.0), (1688, 7.1277056320671)]), (32195, [(92, 7.403588452357321), (124, 6.763672928461455), (2064, 6.541525164019936), (1047, 6.461538461538462), (2992, 6.281482737532018)]), (55027, [(145, 7.672024845042736), (140, 6.926585074715064), (1055, 6.16641580449307)]), (241265, [(1587, 7.1500000017500005), (1838, 6.6146340885738155)]), (40838, [(1809, 7.067476382928475)]), (38590, [(4911, 10.0), (225, 9.12142857582143)]), (37447, [(1798, 6.459920631906745), (4834, 6.3293650746428565)]), (147224, [(3091, 10.852320649915614), (3424, 8.970382502029558), (949, 8.446428570863096), (4398, 8.282051282564103), (1634, 7.348324519916226), (1777, 6.971813730028595)]), (98322, [(3895, 7.25)]), (186039, [(1009, 6.75)]), (167761, [(4752, 8.25), (4659, 6.716666682)]), (36307, [(2481, 7.75)]), (60336, [(5197, 7.0), (409, 6.00000001)]), (236948, [(6501, 11.162499984375), (5014, 9.6), (400, 9.6), (6725, 9.6)]), (277744, [(184, 7.0), (181, 2.9090909499999995)]), (28255, [(2208, 10.427272700272727), (971, 7.2974011569311985)]), (258777, [(1836, 8.185127653957979), (4818, 7.8)]), (228789, [(4016, 7.9735449722486775), (1636, 7.714285724285714), (4487, 7.714285714285714), (1643, 7.110119053660714)]), (101141, [(6110, 7.0)]), (71853, [(1084, 8.809682538396508), (4869, 8.30180180045045), (6, 8.178156602205123), (6120, 8.166666666666666), (1753, 6.83631193023217)]), (142442, [(5478, 5.668061779080956)]), (113624, [(513, 5.2), (6751, 4.609090915)]), (166291, [(1168, 8.37499999125)]), (69089, [(2583, 8.25), (4133, 8.25)]), (33933, [(1773, 9.597530858872428), (2185, 7.65000000175)]), (61759, [(1154, 8.587222043059327)]), (42419, [(1320, 9.08069480074524), (665, 8.962394069749676), (668, 8.773099415220273)]), (197424, [(2864, 8.417588129704814)]), (104211, [(2764, 9.018181802848485), (893, 7.744522740214977), (379, 7.694799076891038), (5965, 6.803253686924483)]), (31948, [(649, 7.719620954319955), (2047, 7.70711973236246), (1268, 6.668609271043139)]), (14393, [(2772, 8.4)]), (120610, [(88, 8.614151161544358), (4582, 7.446428572678571), (5309, 6.865546225546218)]), (277042, [(17, 6.376241330961683), (18, 6.25)]), (252843, [(5680, 6.090909085909091), (4092, 5.590909090909091), (1720, 5.590909090909091), (3263, 5.108655436016112), (4755, 4.908246555622713)]), (118881, [(1364, 8.5), (4001, 8.5)]), (71900, [(1549, 6.0), (1586, 6.0), (2810, 6.0), (3157, 5.35227273375)]), (39345, [(762, 8.243795091815777), (4954, 7.874825690335359), (1269, 7.71863726004167), (4453, 7.65)]), (14698, [(2837, 7.333333333333333)]), (89945, [(5608, 7.0)]), (240370, [(1284, 8.959045202156839), (61, 8.11558232514235), (3022, 6.235294135294117), (3768, 5.9375000206249995)]), (138529, [(407, 7.5), (5917, 7.5)]), (179147, [(243, 7.94550742701519)]), (118275, [(6494, 9.602272713749999), (6583, 8.207317073384147)]), (30806, [(3690, 7.3), (4313, 7.3)]), (211961, [(2448, 10.632836764999233)]), (254822, [(6017, 8.588888881888888), (3752, 7.888888888888889)]), (101336, [(3949, 6.836585360670732)]), (106946, [(4727, 8.2), (5672, 6.765217405652173)]), (16966, [(834, 8.757102020403144), (1168, 8.67499999100245), (1119, 8.205471077756865)]), (135367, [(2037, 9.596899225503876)]), (190831, [(1490, 8.170590579104317), (808, 8.0), (6637, 7.765297766080106)]), (67547, [(1989, 8.942857127357144), (2660, 8.057794131003918), (2683, 7.708571714150368), (5995, 7.392857142857143), (3924, 6.992857146863311)]), (99997, [(5568, 10.45238093452381), (124, 9.454171463888326)]), (135360, [(434, 8.968073919946113), (3556, 8.078347577193732), (1894, 7.962962962962963)]), (247423, [(279, 9.946666643866667), (1626, 8.93529502788433), (1871, 8.623188396231884)]), (169682, [(5500, 7.714211066107628), (338, 7.313216299173813), (6012, 6.909673934366864), (566, 6.716891678020415), (6224, 6.660504272133675), (6680, 6.386939303383071)]), (240789, [(2854, 9.864450821934328), (3826, 8.948555454354418)]), (104113, [(6655, 10.484285694642857), (446, 9.200352135257413), (457, 8.438794831833068), (5192, 7.631111119999999), (4507, 6.615238114285713)]), (48995, [(241, 5.0), (24, -1.1262135309708743)]), (55075, [(440, 9.2453002948993), (3117, 8.967105249736843), (158, 7.625), (3504, 7.625), (4558, 7.625), (2685, 7.579545455), (2015, 5.5000000053125)]), (213625, [(6104, 5.166666666666667)]), (230878, [(2390, 5.008474581186441)]), (3840, [(1141, 10.43999998558007), (140, 9.000000009999999)]), (200196, [(148, 9.866883118160173), (1555, 9.25), (5179, 9.25)]), (263560, [(1956, 8.609966115643)]), (99630, [(2315, 9.45454543221103), (4666, 7.5), (1027, 6.240196084730393)]), (132616, [(4963, 8.75)]), (221040, [(2983, 6.221028844502728)]), (238540, [(338, 6.327177028361341), (3374, 6.0), (6419, 6.0), (960, 6.0)]), (138867, [(6500, 9.0), (2256, 8.643315019503968)]), (60040, [(152, 7.823333335588889), (4031, 7.5), (2129, 7.5), (2368, 6.461538471923077)]), (16777, [(1021, 7.6)]), (132171, [(1443, 8.449954082929294), (5820, 8.444444441111111), (3577, 8.11111111111111), (6166, 8.11111111111111), (1058, 7.307985675636717)]), (126240, [(4250, 9.499999988), (1428, 8.922943721386364)]), (147803, [(385, 9.752941162941177), (1646, 8.4)]), (81249, [(1991, 8.309462258105812)]), (264284, [(1291, 6.642370098952025)]), (273635, [(6326, 8.583333335833334), (1866, 6.208333359583333)]), (30290, [(634, 8.666666666666666), (2381, 8.666666666666666)]), (276641, [(5115, 7.577289182596126), (2693, 7.32097186452046), (1946, 6.823529411764706), (2960, 6.823529411764706), (4353, 6.823529411764706), (5985, 1.8860294611397048)]), (48037, [(1962, 7.939999995600001), (281, 7.5), (4027, 7.5), (5298, 4.065217425652174)]), (142143, [(2690, 10.104166655624999), (1898, 9.0), (1946, 9.0)]), (268262, [(434, 10.25061892318203), (5830, 10.0)]), (102642, [(699, 6.555555555555555), (2939, 6.180555559310612), (1284, 6.06876308498228)]), (227097, [(2735, 6.999999993636363), (409, 6.620493470996124)]), (252846, [(782, 9.088249160095549), (886, 8.75), (1476, 8.75), (2097, 8.75)]), (95353, [(6545, 10.277777771666665), (241, 7.666666686666666)]), (63625, [(1141, 10.910714269464286), (1872, 10.477941303194541), (103, 9.351269841051323), (3258, 8.788967991550422)]), (244277, [(3666, 7.789473674210527), (2458, 6.7894736842105265), (763, 6.347684470733198)]), (214102, [(5309, 4.870202024851009)]), (141710, [(1941, 8.11002034760353), (233, 7.900103605722323), (232, 7.874753757381286), (428, 7.755342127133643), (5733, 7.560049251026074), (5709, 7.557109559417251)]), (236700, [(5258, 9.0), (1495, 9.0), (1160, 9.0)]), (55272, [(5634, 8.444444444444445), (4837, 8.444444444444445)]), (205963, [(641, 6.3851540696988796)]), (93631, [(649, 7.958595661033407), (1626, 6.019232452362947), (2885, 5.692307701538461)]), (118414, [(4164, 6.666666666666667), (2295, 6.666666666666667)]), (160878, [(581, 8.666666649801588), (4407, 7.346153842692307)]), (199209, [(70, 9.881659245686212), (338, 9.61608187424618), (4641, 9.125)]), (110373, [(2022, 8.311672164069888), (2627, 7.841474164786279), (2080, 7.634951930658706), (5720, 7.48)]), (17190, [(2533, 9.477539588461068), (1929, 9.0), (3149, 8.97337510082291)]), (223872, [(3255, 9.0), (4881, 9.0)]), (124688, [(6043, 8.375), (6391, 8.375)]), (9574, [(393, 7.8111777550809265), (1329, 7.638057937802812)]), (28667, [(3098, 4.8), (2073, 4.8), (981, 3.9476506524315726)]), (69211, [(3483, 10.021233546006068), (1728, 7.8439009656894125), (1104, 7.759716965643448), (6047, 6.721288903219708)]), (196108, [(2813, 8.7979797888803), (117, 8.748823996324061), (6106, 8.522222219055555)]), (7371, [(589, 9.103174589285715), (1736, 7.714285714285714)]), (182969, [(3209, 11.117647037647059), (845, 10.781080025143098), (465, 9.887061860834647), (843, 9.8610381459729), (1212, 9.357050977869354), (2625, 9.0), (1492, 8.49126503045473)]), (209974, [(3729, 7.568757755444272), (938, 7.0283485974717115), (457, 6.075939705047901), (718, 5.737179492307693), (1433, 4.70808967247076)]), (198011, [(2335, 7.742857131428571), (451, 6.347940966641805), (1725, 5.711111119999999)]), (90075, [(3401, 7.6), (2832, 7.6), (2631, 7.6)]), (34988, [(605, 8.5)]), (95360, [(2763, 8.799575450537803)]), (41455, [(991, 7.055296402218068), (165, 6.683190497089049), (50, 6.669421595728188), (1630, 6.397254285015539), (5063, 6.0032258054516126), (3846, 5.976457308302687)]), (262391, [(2410, 10.160563372478872), (774, 9.761238759333542), (787, 8.156543387708037), (2445, 7.846495330870327)]), (146530, [(1883, 7.483204130645994)]), (246507, [(4634, 7.666666666666667), (650, 6.986848400161804)]), (194556, [(3773, 7.8)]), (184196, [(2631, 8.793478263152174), (1328, 8.649020048707104)]), (243448, [(3151, 8.0), (24, 8.0), (233, 8.0)]), (171082, [(3650, 9.857142847142859), (3857, 9.650594477978553), (6751, 8.857142857142858), (1137, 8.857142857142858)]), (208382, [(3180, 8.16488696322623), (674, 8.116666664416668), (5219, 7.666666666666667)]), (227054, [(381, 8.57406533164752), (3175, 8.328793139714993)]), (215829, [(533, 7.945461280469546), (6442, 6.934080005345223), (51, 6.829795238783516), (2479, 0.49147734106750374)]), (271538, [(3956, 7.080249804722563), (831, 6.18681319065934), (1179, 6.086417579744124)]), (271587, [(6755, 8.75)]), (34600, [(4623, 9.476190454761905), (216, 7.566666664333333), (692, 7.333333333333333), (392, 7.333333333333333), (1436, 7.14814815), (1587, 4.750000025833333)]), (43006, [(5126, 7.6), (3000, 7.6), (5125, 7.6), (4558, 7.6), (888, 7.433066239733574), (2829, 6.0285714442857135)]), (251146, [(3812, 8.0), (2215, 8.0), (3633, 8.0), (3172, 7.119047627857142)]), (2287, [(583, 6.818181814)]), (276313, [(192, 9.058494318658122), (2070, 7.734031966213836)]), (258109, [(1066, 8.353012393929909)]), (69933, [(150, 9.923076913076924), (6074, 9.550527897186571), (414, 9.247565089527635), (4879, 8.923076923076923)]), (73741, [(6106, 8.666666659999999), (3083, 8.591032125442238), (274, 8.357982027122233)]), (108753, [(2064, 6.897000356964248)]), (81015, [(5943, 9.6), (1607, 9.6), (1634, 8.814285722142857)]), (201017, [(4033, 10.188811174195804), (1616, 9.308225105320346), (4895, 8.727272737272726), (3231, 8.727272727272727), (739, 8.471575713012422), (602, 8.360756892001234)]), (213197, [(1401, 6.2), (875, 5.795238099285714)]), (159283, [(5871, 8.666666666666666), (5872, 8.666666666666666)]), (90616, [(480, 8.001636105678722), (35, 7.902745693155406), (4308, 7.107170274280734), (5149, 6.783613447412465), (24, 6.725904345218185), (4310, 6.630276276761291), (137, 5.7862788975805515), (4132, 4.69047621547619)]), (7913, [(312, 6.4), (63, 6.4)]), (166824, [(6038, 8.63629302490052), (3506, 7.6923076923076925), (3872, 6.6123077031076924)]), (31250, [(449, 5.666666666666667), (2799, 5.666666666666667), (405, 5.194444446805556)]), (82825, [(6340, 7.8)]), (46907, [(239, 9.711074556598136)]), (182403, [(2707, 10.321537286429386), (1441, 9.381274937775855), (1442, 8.659003830383142)]), (240756, [(225, 6.65321526648501), (1530, 6.222222222222222)]), (131594, [(3673, 9.211981563271891)]), (199515, [(280, 9.180511157155467), (2692, 8.27981415418812), (2848, 6.802282851671656), (2772, 6.652173933043478)]), (7283, [(665, 9.08339554026127), (1708, 8.886817629152478), (1186, 8.182697740234385), (1714, 8.106283425831105)]), (90657, [(737, 7.0769020234400655), (6138, 6.555555555555555), (6398, 4.555555575555555)]), (13582, [(329, 8.593653840985576), (2715, 8.090544168547213), (2704, 7.56)]), (23771, [(532, 6.8333333312499995), (2080, 6.778846152307692), (2604, 4.331896574655172)]), (11245, [(2343, 9.122961943552989), (2347, 7.895338038278492), (2332, 7.59750010683475), (2338, 7.524431238322318), (2344, 6.826086966521739)]), (183963, [(178, 7.55952380822619), (5850, 7.3), (2727, 7.3), (4314, 5.867307699471153)]), (272786, [(338, 8.952168443188457), (657, 8.658863522690382)]), (93308, [(4958, 8.546443519502077)]), (111924, [(4146, 9.690476171473811), (1339, 6.690476202169961)]), (108155, [(1407, 6.679888164677429), (1284, 6.5281290982596625), (465, 6.409179505437065), (6298, 5.866666666666666), (1881, 5.746015162569783), (2231, 5.595833334236111)]), (98988, [(79, 9.4), (3506, 9.4)]), (267356, [(3899, 7.150966181570048), (5749, 6.75), (801, 6.75)]), (206563, [(4055, 10.399664220415344), (1451, 9.25225246484488), (581, 8.942389333890919), (2362, 8.533956017824801)]), (274423, [(6836, 7.00000001)]), (57269, [(1941, 7.610158820179171)]), (215693, [(1298, 7.2)]), (272120, [(3771, 6.714285714285714), (896, 4.714285734285714)]), (185771, [(3931, 7.4), (5928, 7.4), (6288, 7.4)]), (22495, [(3598, 7.0), (3600, 7.0)]), (127200, [(434, 8.115496944879158), (202, 6.127361678819163), (3196, 5.691464242573099)]), (91017, [(1387, 8.786205766924356), (3745, 8.689511574397466), (144, 8.09196552842811), (2565, 7.362500009375001)]), (100223, [(5137, 6.8), (233, 6.8)]), (58458, [(3345, 9.645252523628688)]), (140087, [(811, 8.333333333333334), (1418, 7.7543859707017555)]), (217496, [(376, 6.663793104310344)]), (79285, [(457, 8.846431026063668), (6275, 8.64545454), (4713, 8.1), (550, 8.1)]), (67296, [(2334, 6.0967989731882195), (974, 5.24339826958694), (2063, 4.815048194044072)]), (164518, [(4182, 8.248226294544413)]), (180925, [(5389, 6.6)]), (174375, [(1071, 6.404166665645834), (1617, 5.2625000093958105)]), (15670, [(2942, 8.375), (1188, 8.375), (2935, 7.898809528571428)]), (164533, [(477, 8.346535404546957), (4902, 8.14285713142857), (1424, 6.391120510443974)]), (80996, [(3752, 7.75)]), (12619, [(329, 7.327777775351851)]), (245311, [(2218, 8.226315774210528)]), (70931, [(3614, 6.8284313784313735), (5048, 2.623563266321839)]), (119590, [(2237, 7.002300327390045), (1212, 6.477214702330855), (304, 6.230769230769231), (1712, 6.206959707197802), (1193, 5.90199825037226)]), (16599, [(935, 7.435483866612904), (3040, 6.902711324250399)]), (104880, [(3763, 10.01604276604278), (1222, 8.545454545454545), (3681, 7.349802383498023)]), (100361, [(5297, 8.4)]), (236943, [(1284, 8.575929521308067), (511, 8.333333328571428)]), (161936, [(3899, 9.1649434203802), (590, 9.03211081785173), (4542, 8.428571428571429), (1901, 8.339417010271255)]), (259259, [(4155, 10.043956033516483), (124, 9.550052540508998), (3903, 8.543046705290214), (4334, 8.343963684385766)]), (173860, [(405, 8.157391422753314), (2044, 7.267882954244805), (1871, 6.887016592392162), (1294, 6.172587391074691)]), (100782, [(6617, 8.545454545454545)]), (202532, [(931, 3.5000000149999995)]), (233117, [(352, 8.918207406869703), (4380, 8.0)]), (208077, [(4408, 7.75), (5887, 7.75)]), (242639, [(3608, 5.962500014440046)]), (24934, [(693, 8.716216204054053), (1250, 7.5)]), (40299, [(20, 3.8467290651585557)]), (201674, [(1652, 8.427614178815316), (1821, 8.389701968560374), (764, 8.243089499623732), (5413, 7.791666666666667), (442, 7.542816537360878), (136, 7.395494581266373), (4034, 4.082033035282677)]), (96936, [(265, 7.452180054670867), (5426, 7.285714285714286)]), (92648, [(6332, 8.476923066153846)]), (58961, [(5753, 8.666666666666666)]), (204474, [(4440, 6.0)]), (164027, [(18, 5.440883013935437)]), (105058, [(1401, 7.322839717852958), (3745, 7.287188951298402), (5332, 7.058198469936189)]), (261185, [(735, 7.416666674999999)]), (142715, [(543, 7.18089991105537), (581, 6.744809119444893), (6568, 5.9722222247222225)]), (192353, [(934, 8.38303725271249), (1171, 4.411111144999999)]), (174367, [(3301, 6.666666676666667)]), (59059, [(3524, 6.9), (5757, 6.9), (4027, 6.1500000075)]), (158506, [(478, 10.008826096408447), (72, 9.396614716588102), (3429, 8.8)]), (66953, [(1045, 8.194028419886127), (450, 7.942799747838121)]), (87051, [(2973, 8.75), (5817, 7.75000001)]), (222688, [(5335, 7.833333333333333), (2035, 7.833333333333333)]), (85455, [(1106, 8.658385087375777)]), (103935, [(3321, 5.929767415867073), (469, 5.80000001), (6654, 5.8)]), (46909, [(4882, 9.193860955401393), (1374, 9.13321785607899), (3472, 8.738052237435205), (1858, 8.63068504732508), (77, 8.28201326293978), (1504, 8.216999839766698), (3348, 8.188733847938664), (4015, 7.661374480447028)]), (166922, [(476, 7.333333333333333), (6385, 7.333333333333333), (4576, 7.333333333333333), (2474, 6.525641033717949), (628, 5.060606083333332)]), (236097, [(6391, 7.487588645044326), (608, 6.723112357222075), (4307, 5.452807648180007)]), (63938, [(1783, 7.861913253033077), (1058, 7.345953536151552)]), (15049, [(2869, 8.256981524416346), (1602, 8.082837306975007), (2857, 7.942646650443464), (2168, 7.914825259584258), (2860, 7.636363636363637), (2545, 7.369121702145251)]), (98422, [(5790, 9.333333333333334), (18, 9.333333333333334)]), (69405, [(367, 7.677459383410424), (5210, 7.555555555555555), (1880, 7.18531746216865)]), (259629, [(170, 7.876560490076072), (1896, 7.648382466143036), (4114, 7.387370957103158), (712, 6.85012054369019), (6914, 5.715223562623423)]), (167349, [(1597, 7.992309585014151), (3286, 7.40114982075046)]), (88288, [(3286, 10.676470576470589), (4167, 9.5), (2659, 9.5)]), (61042, [(3804, 8.2), (2851, 8.2)]), (120178, [(447, 8.0), (4670, 8.0), (1662, 8.0), (1587, 3.782608737826086)]), (206944, [(352, 8.593965610617436), (1627, 8.275612896422562), (4257, 7.75), (653, 7.337781482497026), (1788, 7.313638681155391), (3525, 7.00644119090787), (447, 6.8100555796436195), (1765, 6.179064179247341)]), (62862, [(1304, 10.955555521555556), (5866, 8.673202603202615), (5868, 8.606837596324786), (1219, 8.43940287465023), (50, 8.040106933549376), (657, 7.888308585819161), (805, 7.430286983535185), (4324, 7.151007977812604), (5016, 6.161324789810363)]), (207339, [(440, 8.380553514594595), (5633, 7.054262240754199), (1555, 6.06933184785292)]), (96744, [(4902, 9.883295181464531), (70, 9.65698024403481), (183, 9.237541936367386), (608, 8.978777472311345), (1875, 8.557637455620297), (2627, 8.317162857509157), (2289, 7.745614043421053)]), (267354, [(759, 5.75), (2549, 5.75), (4405, 5.29545455)]), (274549, [(1016, 7.571428571428571), (240, 7.544562055658633), (1155, 5.171428595428571)]), (188513, [(1459, 6.363636364090909), (693, 6.141801549996481), (1739, 6.06199573436497)]), (26516, [(265, 10.277351749603927), (330, 9.333333333333334)]), (55438, [(5639, 10.166666655), (4572, 9.322939876470457), (2676, 9.128261373979576)]), (138382, [(2694, 8.5)]), (27352, [(3950, 8.743589752820512)]), (113531, [(323, 10.3522727), (1855, 7.9314458701017925), (1720, 7.625), (494, 7.625)]), (135329, [(1550, 7.0), (3714, 7.0), (2187, 7.0)]), (152409, [(3048, 8.451544830218054), (52, 5.307692333846154)]), (215148, [(1490, 7.6130952360515876)]), (119446, [(2919, 9.104166663645833), (764, 8.539544746797752)]), (235392, [(4889, 8.96336245908999), (2616, 8.176337593828544), (3289, 8.040523355934994), (3832, 8.010257966463248), (2829, 7.802275957012803), (1441, 7.751937284738139), (5335, 7.599620350525717), (5534, 7.486486486486487), (361, 7.089842205244757)]), (42573, [(3228, 7.815789470526316), (2168, 7.66529691860221)]), (135753, [(4109, 8.641065831583072), (5324, 8.579872968852444)]), (193350, [(16, 7.338842981818182)]), (24052, [(2191, 7.333333333333333), (1230, 5.0360360590090085)]), (85502, [(2044, 9.640476187007936), (657, 9.555768182373415), (1616, 8.596648225055223)]), (165884, [(3986, 6.916666656666667), (6542, 6.297040963197702), (1447, 5.982023811393096), (6280, 5.916666666666667), (1726, 5.750000001666667)]), (60130, [(1743, 9.190265463968567), (2327, 8.682065218980979)]), (72575, [(5021, 9.811406059265071), (1525, 8.872110934822805)]), (163326, [(1776, 10.207885283691756)]), (55398, [(573, 7.666666666666667), (720, 6.916666674166667)]), (167800, [(4580, 10.81118878846154), (225, 9.500312183002935), (4323, 8.984849267194267), (338, 8.770702547221088), (988, 7.982905988461538), (2285, 7.961581284624348), (20, 4.7616507656173255)]), (59727, [(4676, 7.866666666666666), (1264, 6.000491440206483), (5787, 5.791194989308176)]), (264525, [(124, 8.342274481457004), (1690, 7.877868401698631), (657, 7.86935698973256), (6513, 7.7912087958241765), (5000, 7.714285714285714), (414, 6.95570063289724), (806, 6.30732660847946)]), (44845, [(165, 10.208333314583335), (4038, 9.756410242179488), (3659, 8.961538458397436), (5188, 8.333333333333334)]), (47971, [(2036, 9.36538460923077), (3660, 8.75), (3953, 8.75), (5279, 8.75)]), (209765, [(3605, 9.335255813974038)]), (64396, [(1185, 8.265664149172933), (5910, 7.142857142857143), (3319, 7.142857142857143)]), (205992, [(1344, 8.765873005714285), (108, 7.75)]), (273718, [(2432, 8.834482755948276), (390, 8.588235292676472), (3067, 8.3)]), (40110, [(378, 8.932838817359718), (931, 8.894594925187102)]), (244874, [(971, 7.826617383527085)]), (69709, [(6068, 7.0)]), (265276, [(997, 7.786928102507625), (3085, 6.047619053214286)]), (35148, [(434, 8.8312434351514)]), (144229, [(1869, 6.6)]), (265607, [(2149, 7.333333333333333), (3091, 7.333333333333333), (6743, 7.333333333333333), (4940, 7.333333333333333)]), (29209, [(127, 6.936157262678905), (316, 6.645838769226125), (4153, 5.652173922173914), (2269, 4.380032227971014)]), (126803, [(4028, 8.599083010587597)]), (128325, [(2428, 8.666666666666666), (3913, 8.665553200587834)]), (175254, [(537, 9.124995403982988), (2478, 9.04383870021373), (183, 8.613023292822492), (3354, 6.293956063516483), (20, 4.624680984914827)]), (71234, [(4990, 9.5), (3281, 9.5), (4114, 9.5), (2671, 9.034953116562944)]), (107865, [(5966, 9.363636363636363), (3298, 9.363636363636363), (5714, 8.780303036136363)]), (52917, [(1971, 8.0464610581477), (5539, 7.655677644249084), (730, 7.474596899943073), (160, 6.6333232309869015), (5540, 6.512820512820513), (5529, 6.512820512820513), (4522, 6.512820512820513), (3646, 6.512820512820513), (5525, 6.512820512820513), (2236, 6.4384729855338545)]), (121594, [(5723, 8.5), (614, 7.547044727129874)]), (38091, [(3112, 3.2578616759748416)]), (215609, [(2111, 7.6)]), (147528, [(1942, 8.93181817), (5093, 7.75)]), (166391, [(2662, 9.064656335432648)]), (81484, [(5660, 8.666666666666666)]), (267453, [(2227, 9.0)]), (98297, [(4989, 6.631384989265477), (1793, 5.625)]), (30711, [(1172, 9.723684188026317), (2576, 8.094174828948635), (678, 7.928819074750911), (657, 7.905936093382438), (36, 7.83082706588346), (4281, 7.473684210526316), (501, 7.304063734207945), (4278, 7.187969927691407), (4289, 6.9593985013834585), (273, 6.771967039978673)]), (227702, [(978, 7.2510344656484165), (1205, 7.105941174421948)]), (132930, [(4222, 9.578947353157895), (1731, 8.98997283542945), (446, 8.78921525249434), (1103, 8.724400286899263), (4795, 6.627099678383125)]), (229496, [(1477, 7.499103216032653)]), (186899, [(1015, 6.406359265343367)]), (86170, [(3113, 7.2)]), (26487, [(1887, 8.857956857239857), (216, 8.642857142857142), (3668, 8.642857142857142), (809, 8.477737445120239)]), (159004, [(6844, 4.428571424285715), (193, 4.0), (6892, 4.0)]), (115998, [(6761, 7.0)]), (211231, [(1964, 8.745410609771056), (662, 8.666666666666666), (800, 8.237958937191623)]), (18311, [(3242, 8.305555540833332), (3241, 7.045454543333333), (71, 5.433333347333333)]), (2358, [(916, 8.833333323333333), (919, 7.91666666625), (920, 7.833333333333333)]), (84820, [(5094, 8.5), (2807, 8.5), (5205, 8.5)]), (177295, [(54, 5.691554604245044), (306, 5.0), (6320, 5.0), (4885, 4.778999584225243), (684, 4.728383080112315), (61, 4.34340659668956)]), (152696, [(63, 8.187272568668646)]), (168971, [(5070, 7.8), (1590, 7.8), (144, 7.170535717433036)]), (45444, [(183, 8.855480864849962), (68, 5.068965546551723)]), (255289, [(781, 8.204516694976256)]), (115679, [(578, 10.13636363)]), (110208, [(800, 7.228020881139786), (4943, 7.0)]), (164906, [(2961, 6.541213689269677), (2389, 6.333333333333333)]), (66574, [(1153, 8.243589731923077), (1947, 7.479061945819757), (3597, 7.474966870132004), (954, 7.379155930780068), (787, 7.206362291083936)]), (112408, [(3756, 10.444444434444446)]), (173835, [(392, 10.0), (4552, 10.0), (2659, 10.0)]), (72470, [(3280, 7.0), (2108, 5.7177177253253255)]), (163876, [(6213, 7.0), (4760, 7.0)]), (245188, [(1503, 8.076323985109035), (6892, 7.833333333333333), (397, 7.833333333333333)]), (70302, [(593, 8.25), (1408, 8.25)]), (213410, [(1047, 9.367231618079096), (3637, 7.333333333333333), (1533, 6.712121219749386)]), (38464, [(2092, 9.120846830215008), (934, 8.787669544638737), (2963, 8.26388888513889), (3176, 8.196137156249991), (4904, 7.888888888888889)]), (239070, [(5775, 9.2499999875), (2010, 8.176470586470588), (1056, 7.988504364465485)]), (8680, [(1755, 6.954148673066358)]), (161265, [(3466, 6.867990661775701)]), (56804, [(2404, 6.979166669895833), (657, 6.921245438275955), (581, 6.739092669787549), (2356, 5.754406254943836), (1887, 3.8503086558487647)]), (196031, [(5202, 6.571428571428571), (36, 6.352678573616071), (6191, 5.665575731638716)]), (173343, [(2478, 9.367636856641269), (540, 8.769529538113646)]), (222034, [(279, 9.226734493890529), (3942, 8.333333333333334)]), (28144, [(451, 6.007309807211806)]), (196191, [(131, 8.338868583313541)]), (195374, [(3231, 9.430000000349999), (6552, 8.5)]), (225191, [(2692, 7.395744674893617), (503, 6.887626800513637), (4875, 6.80000001), (4140, 6.8)]), (238739, [(981, 7.333333333333333), (4049, 7.333333333333333)]), (184562, [(17, 8.060475819262647)]), (146083, [(6293, 6.857142857142857)]), (203506, [(3074, 8.376984127876984)]), (77273, [(685, 7.081481466666666)]), (263325, [(1108, 9.184969950767117), (1273, 9.064518160877881), (1660, 7.955204672046169), (592, 7.742587181752512), (3440, 7.647278713362921), (5091, 6.851393313499683)]), (33270, [(4546, 7.0)]), (76218, [(5180, 5.166666666666667), (974, 4.706590291879336), (3790, 2.544444470666667)]), (223714, [(2662, 9.418313563395916), (3784, 8.0)]), (220608, [(693, 8.021333484244687), (5559, 6.75)]), (247166, [(50, 6.953965708651277), (153, 5.607142868571428)]), (123510, [(5076, 9.4999999925), (3060, 9.283333328), (1758, 8.812499999375), (3662, 8.75), (4198, 8.75)]), (55187, [(2928, 10.81944442), (784, 9.88210546235494), (934, 9.680942979034743), (1872, 9.532674052594436), (808, 9.041666659999999), (2601, 8.535642115408981), (5629, 8.375), (1085, 8.375), (1423, 8.375), (2971, 8.335876582912471)]), (80820, [(4842, 7.5), (1259, 5.517241399137931)]), (273979, [(2446, 8.387502300461623), (2443, 7.636799950507733), (265, 7.521210664291284), (6765, 7.2727272727272725), (243, 7.0198937178142025), (411, 6.7629530227002155), (3954, 6.442940046982592), (5306, 5.688273442979929), (1758, 4.703339210718923)]), (138138, [(5404, 8.0)]), (49154, [(423, 8.322448968367349)]), (266940, [(5177, 9.25)]), (149120, [(50, 8.050353369616108), (6038, 7.888888888888889), (5051, 7.888888888888889), (1058, 7.52553054041682)]), (210822, [(434, 7.873407946422016), (3696, 6.833333343333333)]), (94630, [(2837, 7.75), (6515, 7.75)]), (242878, [(2101, 7.395833346875)]), (65877, [(1006, 9.001749487303627), (937, 8.025977565683302)]), (70401, [(3920, 9.5), (3160, 9.490259740308442)]), (115953, [(6617, 10.702702695675676), (2044, 10.0)]), (134797, [(3865, 9.272907458953071), (997, 8.97786988680057), (754, 8.95085978082946), (124, 8.604142464659288), (1615, 8.26829932113415), (531, 8.047397414478894), (1072, 7.9714285714285715), (2973, 7.961044323570284), (1603, 7.729103502040514)]), (150966, [(1682, 7.962962958333334), (421, 7.240539695899341), (799, 5.6034482948275866)]), (249096, [(2465, 6.5)]), (242361, [(4625, 9.119595268964618), (5425, 5.968253989682538)]), (78778, [(1939, 9.333333312991362), (1656, 7.600652210896792), (669, 7.333333333333333)]), (251362, [(5830, 6.666666666666667), (2171, 6.666666666666667)]), (140069, [(919, 7.008639346351849), (1121, 6.711831404067814), (101, 6.212476551395403)]), (145861, [(5748, 9.0)]), (24194, [(1868, 8.125), (1948, 6.430106391453192)]), (238779, [(3985, 10.166666641666668), (1055, 7.816399286737968), (249, 7.666666666666667), (5972, 7.333333336666667)]), (85367, [(1715, 9.333483278415056), (456, 8.988468684831458), (154, 8.846153846153847), (6388, 8.328296708867464), (6387, 8.312820518153847)]), (234672, [(176, 8.164733412755732), (160, 7.114909697174056)]), (109516, [(744, 8.329086536138822)]), (6679, [(50, 9.988967516237997), (1616, 9.220530235023013)]), (36568, [(1344, 3.3846153907692313)]), (84729, [(6124, 8.333333333333334), (2987, 8.333333333333334), (1065, 8.333333333333334)]), (227292, [(408, 9.0)]), (45564, [(4353, 6.5)]), (114662, [(3458, 6.666666666666667), (3041, 6.666666666666667)]), (253949, [(3632, 7.894290123834876), (1011, 7.676074580143804), (5969, 7.083333333333333), (439, 6.340563592887004)]), (148804, [(1956, 9.49023530408736), (4743, 8.613115052477262), (1291, 7.806911814324033)]), (161533, [(6359, 7.333333333333333), (457, 7.333333333333333), (4205, 7.333333333333333)]), (45315, [(975, 7.590718250559104), (247, 4.651315808223684)]), (89551, [(1356, 9.0), (565, 8.93589743611111), (4725, 8.751823608047497), (3668, 7.750000012499999)]), (255493, [(4125, 7.591463421219513)]), (205487, [(2517, 8.06666666)]), (209160, [(3946, 7.998157204330878), (2088, 7.6923076923076925), (6417, 7.6923076923076925)]), (141958, [(6816, 9.869281023529412), (5814, 7.588235294707922), (4821, 7.192513373529412), (4014, 6.358597291510181)]), (57935, [(5726, 8.4)]), (132901, [(4389, 8.389162550541872)]), (270801, [(4873, 9.710081355363908), (182, 8.225593355855985)]), (265972, [(285, 8.03623188387681), (1588, 8.0)]), (26664, [(2903, 8.515927136732554)]), (36749, [(3482, 8.783333145391973), (1878, 7.245008047304751), (4132, 5.69166667375), (4750, 5.6187500078125)]), (8872, [(2029, 7.8398046650507105), (1855, 7.772006203663533)]), (171078, [(2079, 6.8)]), (69775, [(6073, 10.0), (1474, 9.466666672)]), (9747, [(2141, 9.4099999984), (2143, 9.25), (2137, 8.867647062647059), (546, 8.370187567887946)]), (159720, [(500, 6.22385282540844), (6572, 6.0), (4378, 2.769230801538461)]), (117132, [(5609, 9.04133244124785), (5762, 8.753984514471767), (4075, 8.260732322988215), (3291, 8.187500009999999), (4019, 8.187500009999999), (5453, 8.1875)]), (177876, [(1388, 7.5), (829, 7.5), (1344, 7.5)]), (144997, [(3836, 7.75), (3556, 7.75)]), (161299, [(1328, 7.811774395096141), (4144, 7.658424907055861), (4525, 7.552691660319275), (728, 6.749423750160681), (103, 6.188536965203621)]), (122883, [(4991, 5.504916918292096)]), (232708, [(4256, 9.861926130052794)]), (20180, [(657, 9.075476527081591), (90, 8.816410431022629), (259, 8.53008632274903), (176, 8.357188251353504)]), (148121, [(404, 7.9357913277800645), (1429, 7.0), (2578, 7.0), (2788, 6.520945185046046)]), (25216, [(2398, 7.235180976243955)]), (68537, [(5246, 8.0), (5, 8.0), (6029, 8.0)]), (150587, [(1062, 9.506090272682192), (3823, 9.0), (3170, 6.500000024999999)]), (213150, [(379, 6.920248555343298), (6193, 6.8), (3196, 6.8), (4324, 6.063681595721393), (1071, 5.60813992661655)]), (64436, [(207, 8.242141632436365), (59, 8.137146306075607), (476, 7.782608695652174), (439, 7.572978313055584), (3468, 7.5089302191266025), (1179, 7.269720458367841), (1648, 5.034980625898853)]), (42597, [(2173, 7.1483660161884535)]), (233526, [(3494, 8.538461538461538), (1237, 7.609586905110484), (4154, 6.812703968456487)]), (220240, [(886, 9.224823005639548), (3056, 8.890220513424408), (155, 8.777042449761344), (3083, 8.741319554568097), (560, 6.532577224666829)]), (98647, [(5938, 6.857142857142857), (6399, 6.857142857142857), (2616, 6.857142857142857)]), (157799, [(1947, 7.969874502177883), (4766, 7.928571428571429), (4635, 7.756539236272636)]), (167176, [(2636, 6.25)]), (112672, [(4591, 9.222222222222221)]), (152354, [(4540, 8.761904747619049), (5964, 7.333333333333333)]), (248003, [(1622, 7.5), (6725, 7.5)]), (117925, [(1926, 8.129629625)]), (33580, [(657, 8.776312930735017), (2955, 8.444808525588202), (2957, 8.322880855708412), (778, 8.208683472345939), (1056, 8.170564456515994), (4560, 6.851063841276596)]), (20201, [(981, 8.873197737477756), (1104, 8.237681563454895)]), (269011, [(1706, 6.072252083906373)]), (74743, [(3745, 5.187128316865038)]), (87911, [(1655, 7.285714272857143), (3675, 6.4095271860874), (6436, 6.142857141428571), (357, 5.716783577037157), (1166, 5.36613523638963)]), (30035, [(4061, 6.626909804816867), (1329, 6.603761079477686)]), (240567, [(208, 8.315192519256906), (465, 7.810930310751601), (6092, 7.739445325475421), (5738, 7.606886388616903), (1447, 7.473708259459967), (451, 7.422156041975683), (997, 7.293613910601601), (213, 7.2090526532455685), (533, 7.157734360582213), (6029, 6.909909913243243)]), (268032, [(2126, 9.130714848135078), (581, 8.313464668044233), (169, 8.166893669232659), (515, 7.931034482758621), (1964, 7.457613262988178), (609, 7.28817734633005)]), (31050, [(4362, 8.01754386637066)]), (222353, [(2720, 7.0)]), (68943, [(5989, 6.769230769230769)]), (141888, [(235, 9.814838406708057)]), (60319, [(625, 7.1), (4227, 7.1), (4043, 7.1)]), (264152, [(520, 9.950027398623584), (842, 9.194966583952851), (4475, 8.44037884937921), (1754, 8.29378455530714)]), (135653, [(4341, 8.285714285714286), (2545, 8.285714285714286)]), (271306, [(2016, 9.442307680384616), (6237, 8.25)]), (62471, [(8, 7.005476279131398)]), (57108, [(4770, 4.675000012000001)]), (160231, [(1597, 8.507381234289298), (3903, 7.90495549466035)]), (218844, [(2724, 8.814102567222221), (1212, 7.762671636313292)]), (135768, [(6843, 8.6), (459, 7.956516293944235)]), (50681, [(70, 7.16443029937505), (5407, 6.875), (2795, 4.5375520193277055)]), (276964, [(11, 10.145348823255816), (6, 10.03205126923077)]), (60050, [(502, 9.352941156470589), (665, 7.728208079999458)]), (238222, [(2632, 9.913793094310345), (150, 9.217741481057402)]), (131597, [(4090, 5.004722191117424)]), (129494, [(1044, 6.871951218292682)]), (193966, [(3781, 7.25)]), (158846, [(2063, 7.83484708517376), (4345, 7.75), (41, 7.307888670775418)]), (162562, [(2966, 9.194997533527253), (4208, 8.166666666666666), (1884, 7.789115653146258), (1253, 7.1755577336875955)]), (221368, [(2985, 6.5)]), (163534, [(20, 3.87500001625), (2766, 3.267857181428571)]), (165512, [(809, 9.987206258914593)]), (274808, [(6396, 8.75), (3317, 8.75), (5743, 8.75), (1510, 8.074717127006801)]), (19842, [(291, 8.071428571428571), (728, 7.803416150408385)]), (222372, [(1946, 6.75)]), (198216, [(3389, 8.188768370830498)]), (28150, [(227, 9.16790362293519)]), (207825, [(6906, 7.221132899733116), (2371, 6.647058823529412)]), (200402, [(1490, 8.482655822949413), (3078, 7.609401708703704), (1061, 7.4), (938, 6.8583333387500005)]), (269799, [(6566, 8.634032632237762), (3913, 7.925200279971918), (1066, 6.753436587830485)]), (241204, [(1892, 8.91964284357143), (886, 8.687771225366873), (87, 8.22916666), (1749, 7.5625), (787, 7.391148091157977)]), (108143, [(176, 8.288113693120154), (160, 6.770913875426247), (6636, 5.26604730846706)]), (247998, [(2091, 9.25)]), (136237, [(5731, 7.166666666666667), (20, 2.7791666886041666)]), (171011, [(4007, 10.414215684613971), (338, 10.351445639350624)]), (133935, [(2707, 8.344426868188611), (2478, 8.067120333770958), (477, 7.849396552764428), (4471, 7.364578111397939), (440, 7.2), (6348, 7.2)]), (170264, [(124, 9.680432879405165), (5676, 9.333333333333334)]), (89014, [(4405, 10.03076921046154), (5902, 9.526315774210527), (3836, 8.0), (1291, 7.693626909414478), (1884, 7.244897967039287), (1309, 4.183048445771604)]), (262151, [(124, 8.522503017899217), (665, 8.199521045040502), (3846, 7.91537124248569), (460, 7.666666666666667)]), (113817, [(70, 10.699999978000001), (2133, 8.5), (1954, 8.5), (5703, 8.5)]), (216557, [(1330, 10.0), (1768, 10.0), (597, 10.0), (1145, 9.27272728)]), (127113, [(5390, 5.0), (3615, 5.0)]), (274199, [(6303, 7.6810598594029)]), (220911, [(4760, 7.5), (977, 7.5)]), (107044, [(1477, 8.904242423433939), (5202, 8.5)]), (20794, [(891, 7.0), (3427, 7.0), (308, 6.800000002000001)]), (167722, [(4716, 5.166666666666667)]), (227544, [(1938, 8.263157892105264), (1789, 8.237380951906191)]), (70435, [(3821, 9.187499980625), (3194, 7.175396825645502)]), (159817, [(5389, 10.106451594838711), (1554, 8.321901102234879), (6529, 8.3), (1574, 8.073111750986419), (3558, 7.640882355138236)]), (175463, [(2864, 8.735561502637468)]), (180378, [(2072, 10.975962900862855), (3726, 9.222222222222221), (6397, 9.222222222222221), (6728, 9.222222222222221), (864, 9.04722222809722), (5463, 9.010357921369884), (5544, 8.666666672222222)]), (136829, [(2362, 6.107481060068655), (6505, 6.0), (5143, 6.0)]), (136255, [(3088, 7.297491185887569), (2675, 7.084024134425449), (1351, 6.99810213857948), (1350, 6.878384296541597), (5607, 6.583333335000001), (1630, 6.481359222901114)]), (266355, [(1709, 8.204216334510908), (6024, 6.216789387581903)]), (190185, [(737, 8.545454545454545)]), (85256, [(3846, 7.8013309674747005)]), (21202, [(3485, 6.190466006720415)]), (32599, [(1543, 9.312820498153846), (1930, 7.846153846153846), (4471, 7.68063190274041), (72, 7.668847037174528), (1166, 7.4323963071898), (1245, 7.065839839093057), (1242, 6.9822588437122155)]), (72418, [(144, 7.67391303173913), (4345, 6.5)]), (133225, [(5973, 9.0)]), (68000, [(3706, 9.5)]), (217958, [(3822, 9.3599999984), (3867, 9.2)]), (169057, [(1691, 9.99461345437878), (59, 9.171775134515194), (5964, 8.88888888888889), (1055, 8.824821510562321), (1298, 8.247530267051912)]), (65791, [(63, 8.153613048434343)]), (208410, [(564, 9.690476181904764), (680, 8.708333334583333)]), (209174, [(4585, 9.088127285679313), (5184, 9.026909568390222), (3505, 8.083927004097369), (1186, 7.786953800379788), (712, 7.3208777684037445)]), (52521, [(805, 10.43020304100533), (1421, 10.183408050429954), (2329, 9.95584576928667), (2596, 9.716666668083333)]), (246959, [(6896, 9.5), (4214, 9.5), (3667, 9.5)]), (9568, [(279, 7.0), (2119, 7.0), (1841, 5.481481496666666)]), (112093, [(1536, 6.479229875494908), (274, 6.388224746514526), (169, 6.285642904388743)]), (86959, [(469, 9.758342923783198), (397, 9.359765234445703), (6223, 9.2), (1008, 8.315384624230768)]), (83561, [(3121, 6.0), (4740, 6.0)]), (8362, [(1929, 7.714285714285714), (1926, 5.434285737085714)]), (240272, [(50, 7.377702316872665)]), (119858, [(471, 10.141662206104641), (482, 9.510044155634622), (1066, 8.233273070867991)]), (74630, [(192, 8.341515531872435), (2156, 8.133333325333334), (2985, 7.333333333333333), (708, 6.404234655783151)]), (104413, [(1486, 7.633333325333334), (4938, 6.833333333333333), (5142, 6.833333333333333), (3095, 4.433333357333332)]), (131202, [(742, 8.649453924529162)]), (276050, [(246, 8.351145720735987), (380, 7.6238239819092035), (1117, 7.020248539668272), (1171, 6.136704103322548)]), (226874, [(3737, 7.333333333333333), (5404, 7.333333333333333)]), (171055, [(589, 9.733850650052332), (4910, 8.500000009999999), (1176, 8.5)]), (146874, [(1823, 8.756084655304232)]), (61257, [(1000, 10.650349621118881), (1284, 8.296867662555682)]), (266872, [(4438, 8.304761900238097), (339, 7.4), (4048, 6.490909100000001)]), (192158, [(910, 8.211995340054623)]), (112026, [(1336, 8.694444436944444), (6080, 8.269444441194445), (1617, 7.870956541402358), (4231, 7.222222229444445)]), (223554, [(975, 7.75), (675, 7.75)]), (165576, [(5942, 7.5)]), (226772, [(407, 8.731221174719028), (1058, 8.457373769976677), (1500, 7.6176470676470585)]), (152483, [(3306, 6.72358804324917)]), (44611, [(1490, 8.763174600630688), (4747, 8.13742689989766), (5178, 8.0), (3440, 7.22222223), (552, 6.4800000152)]), (181796, [(4082, 9.004502267938177), (1044, 8.846689893736933)]), (174072, [(486, 7.738806446353519), (2196, 7.666666666666667), (1874, 6.5740740849999995)]), (244736, [(2221, 7.963500065000123), (124, 6.9904475734874385)]), (168985, [(1749, 8.0), (5141, 8.0)]), (1412, [(690, 9.526315784210528), (68, 7.645120124636387)]), (138813, [(4898, 8.75)]), (66960, [(1269, 7.473366013577342)]), (7569, [(265, 7.061181956428996)]), (69684, [(1671, 10.576470554235296), (784, 8.067774931604859), (6065, 7.176470588235294)]), (82511, [(542, 7.214285711071428), (6336, 6.571428571428571), (6126, 6.571428571428571), (1207, 6.41125477276548)]), (38544, [(262, 7.626360994667214), (4907, 7.428571428571429), (206, 7.428571428571429)]), (62716, [(983, 10.725058210932659), (1617, 9.333333333333334)]), (195247, [(1014, 7.5841331912120085)]), (1116, [(642, 6.0), (639, 6.0)]), (165073, [(5956, 10.33333332), (3802, 9.558524026063644)]), (91002, [(2040, 8.191940465300796), (3397, 7.876483019811449), (319, 7.405982908952992)]), (111190, [(4528, 8.043956033516483), (669, 7.048780487317074), (6285, 7.0), (4529, 7.0), (4903, 6.200000008), (2621, 6.068333337991666)]), (193750, [(1313, 8.36666666), (179, 8.07628204940064)]), (154070, [(883, 7.6369026727551255), (3861, 7.125498409893673)]), (164926, [(6251, 8.78632478076923), (3537, 8.23076923076923), (4162, 8.23076923076923)]), (190374, [(2890, 10.60235291351401), (5677, 7.882352941176471), (4649, 7.882352941176471), (1176, 7.619952629683429)]), (196282, [(1597, 8.236820121560866), (1743, 8.113408187862563)]), (271503, [(293, 10.0937499815625), (3402, 8.25), (104, 8.25)]), (66073, [(1407, 8.205252646829205), (2101, 7.570209057332752), (2312, 7.166666665), (5743, 7.0), (1118, 6.725141526163896), (5948, 6.469765337022574)]), (122958, [(124, 7.914687856303169), (5739, 7.5), (821, 6.12500001375)]), (243745, [(5433, 7.0), (4108, 6.4513227531516755)]), (270897, [(1171, 9.899999984465872), (2158, 9.699999987), (284, 8.885714280857144), (3727, 8.823053716735414), (1535, 8.4)]), (184299, [(950, 9.247970016794003), (3135, 8.977442617797674), (623, 8.867857144142857), (3570, 8.44404116762193), (2853, 8.430416712205693), (1979, 8.191025804872023), (783, 8.15136176386112), (5794, 8.125), (5654, 8.055668380281231), (3385, 7.683860971472937)]), (132624, [(5299, 5.0)]), (142680, [(1347, 8.240740723333333), (806, 6.5)]), (111944, [(6534, 9.80605184087148), (1484, 8.834415568344156), (2502, 7.457280954056538), (2500, 7.052302051328766), (3830, 6.734265735909092), (2312, 6.381118889690635), (6634, 6.160991121933794), (5635, 5.267955933962609)]), (70772, [(709, 7.5)]), (172030, [(2911, 9.588235284117648), (474, 8.800349665242729), (5210, 8.588235294117647), (6642, 8.54729326533685), (2848, 7.63368984275401), (2170, 6.622133618863409)]), (267538, [(1724, 6.857142857142857), (252, 6.857142857142857)]), (246230, [(4538, 9.0), (20, 2.7189189503243236)]), (93358, [(2686, 7.428571428571429), (3604, 7.428571428571429), (4509, 7.2619047635714296), (490, 5.825396834074075)]), (147045, [(50, 7.141407967956633)]), (124175, [(1193, 5.502551875470111)]), (184121, [(465, 7.5), (2951, 7.2142857171428565), (1602, 6.141071435366071)]), (180860, [(621, 7.466666668666668)]), (169492, [(636, 9.0)]), (81207, [(1414, 7.333333333333333), (1166, 5.908158726802305)]), (18176, [(1946, 9.874515492003392)]), (240677, [(693, 9.646243818701361), (1679, 8.8)]), (46443, [(5245, 10.450630234065127), (2204, 9.752091841831135), (1393, 9.555037053821367), (157, 9.396403558890361), (1731, 9.327299245674931), (465, 9.06527927622923), (1034, 8.647058823529411), (5116, 8.647058823529411), (319, 7.6612288689443915), (1021, 6.694677890672268)]), (266299, [(977, 8.71544714398374), (1561, 7.666666666666667)]), (151608, [(6409, 6.416666666666667), (2883, 4.645155832463302)]), (269557, [(4734, 8.0), (2585, 8.0)]), (139287, [(6360, 7.0)]), (239834, [(5550, 7.0)]), (46892, [(720, 4.752254288245522), (1405, 2.9688117664712514)]), (45557, [(158, 9.51648350985348), (3925, 8.648809525615079), (933, 7.217503227232947)]), (118659, [(4247, 7.75)]), (255092, [(434, 10.08001846468401), (6267, 10.0), (968, 9.257936513743386)]), (262902, [(2903, 7.971403386442105), (5222, 7.922622297431042), (2902, 7.758534460477037)]), (42780, [(3136, 9.332167439980763)]), (205554, [(183, 8.061728392355967), (1548, 6.650000006)]), (54206, [(3586, 8.833333333333334)]), (188799, [(657, 7.725365322022815)]), (41177, [(465, 8.188568017006093), (2206, 7.4), (72, 7.33645047783878), (227, 7.235964912608773)]), (197502, [(352, 10.897058797058824), (2456, 8.916666659999999), (182, 8.070175439495614)]), (227025, [(380, 6.931693502593109), (1510, 6.882789046412563), (727, 6.597948719958975)]), (224340, [(63, 8.622524599769667), (5064, 8.10256410153846), (3986, 4.914285745142857)]), (26611, [(1186, 5.99032672024725), (1205, 5.828702947236611)]), (42458, [(1448, 7.784662609950102), (347, 5.6065353107598455)]), (201969, [(3357, 7.5096007365145425), (2573, 7.412185071223669), (6767, 7.016929016488158), (1855, 7.011481858867236), (4577, 6.972972972972973), (6532, 6.242203749836277), (4226, 6.016929026517699), (578, 5.350497631857046)]), (168388, [(5138, 8.478693168849432), (4930, 7.5206611536040295), (4302, 7.35043516312766), (5091, 7.181818181818182), (19, 6.799150227225536)]), (139828, [(3743, 7.476190476190476), (348, 7.2707106259553065), (27, 6.882440479159226)]), (68185, [(1651, 7.607026223040533), (457, 7.345055016187727), (896, 6.675044290820835)]), (82893, [(70, 10.517549706727767), (6347, 10.315789463684212), (6084, 9.388165617459874), (5454, 9.31578947368421), (4720, 9.31578947368421), (979, 9.31578947368421), (6214, 9.31578947368421)]), (33491, [(3987, 6.5), (3048, 6.134146345121951)]), (231374, [(3380, 10.303679209670664)]), (177090, [(6801, 8.583333333333334), (614, 8.157783367649598), (1341, 7.388711688513636)]), (134247, [(1261, 8.197222223673611), (1419, 6.6868686977777765)]), (256298, [(6135, 3.5750000162499997)]), (51386, [(5442, 10.0)]), (200323, [(434, 8.402680649417249), (183, 7.75)]), (243951, [(440, 8.828945385228055), (5367, 7.550868487065514), (2217, 6.727461913030348)]), (108104, [(3295, 6.873786399029127)]), (188379, [(11, 7.997674412616279), (6692, 7.6499999915), (5753, 6.8)]), (112541, [(91, 8.738436989665072), (3963, 7.879767117225992), (2894, 7.545454555454546), (196, 7.545454545454546), (6205, 7.545454545454546), (1253, 7.026890842645647), (149, 4.4842300862708715)]), (269157, [(1868, 9.195375964236455), (6689, 8.101010095555555), (6301, 7.555555555555555), (4728, 7.555555555555555)]), (207499, [(67, 6.313831126044763), (1524, 6.209090901090909), (135, 5.90909090409091), (1447, 5.903479040854073), (1743, 5.521923330074083), (6246, 5.409090909090909), (5302, 4.284090920340909)]), (59180, [(308, 10.797839494444444), (4222, 9.625), (2881, 9.625)]), (28257, [(235, 6.333333333333333), (4070, 6.333333333333333)]), (56391, [(3701, 10.34545452), (3151, 7.8), (2579, 6.635164839047619)]), (225002, [(5170, 7.5), (1144, 7.086029412799633)]), (238836, [(5924, 7.066666670000001)]), (267529, [(641, 6.0)]), (161755, [(2717, 9.5)]), (135799, [(3564, 9.247040748309109), (3660, 6.971774202580645)]), (143968, [(3373, 9.154756513253318), (2919, 8.628411046073767), (423, 8.519074531989654), (1935, 8.411764705882353), (6292, 7.707219258382354), (5415, 7.707219258382354)]), (75819, [(2233, 9.078306823192142), (912, 9.000862244040231), (997, 8.174429221866038), (533, 7.894879974818788), (776, 7.277731283409027), (4381, 5.906379249252224)]), (243700, [(2367, 8.628291312502801), (1436, 8.205507081306173), (3612, 7.823529411764706), (775, 7.823529411764706)]), (68256, [(241, 7.6047401999039765)]), (101550, [(6621, 8.333333333333334), (274, 8.333333333333334)]), (273976, [(1473, 6.653594762352942), (784, 6.299619406971069), (2319, 6.209150322352942), (1707, 6.084573209290683), (2005, 4.923565173552953)]), (60569, [(651, 8.223076918846154), (1268, 8.195729061076632)]), (190080, [(2604, 9.01388888548611)]), (207341, [(2758, 6.181818181818182), (3808, 6.181818181818182), (5235, 6.181818181818182), (4067, 6.181818181818182)]), (100393, [(2347, 5.349654785199624), (5254, 1.5416667029166664)]), (214212, [(6544, 8.623188396231884), (3526, 7.666666666666667), (4652, 7.666666666666667), (1045, 7.666666666666667)]), (146348, [(119, 10.098814220988142), (235, 9.432809935566665), (2886, 9.36698717917298), (3530, 9.272727272727273), (3227, 9.044761997621288), (5595, 7.572727289727274)]), (93179, [(971, 8.58213605777839), (451, 8.239383263399732), (3238, 7.881250004), (3948, 6.4475988574035)]), (237264, [(340, 7.515322571932316), (469, 7.380852717630072), (5115, 6.071969698352273)]), (114216, [(258, 7.826549126400703)]), (199016, [(3745, 9.02110655513967), (1836, 8.497051028138284), (2918, 8.013333334933334)]), (206423, [(2718, 5.629942436196125), (4458, 4.716112538925831)]), (179327, [(1490, 8.17096957622471), (6900, 6.407876245471168)]), (31229, [(716, 6.833333333333333)]), (114279, [(590, 9.02997899868303), (6396, 8.625), (6753, 8.625)]), (20245, [(3394, 5.4)]), (182053, [(1246, 11.388767692053253), (1023, 9.4), (2206, 9.4)]), (211360, [(3775, 7.5)]), (270906, [(3350, 7.142602312164851), (5598, 6.875)]), (256603, [(157, 9.144068050439332), (1731, 9.10779550192054)]), (33283, [(1696, 9.571428573928571), (4551, 9.142556519878697), (3918, 9.071428571428571)]), (224308, [(243, 6.728699819039311)]), (159868, [(4167, 9.243659948552539)]), (239000, [(4800, 7.0833333325000005), (4554, 7.0)]), (233856, [(3705, 10.083333325), (124, 9.210030124287277)]), (144318, [(1329, 8.673957842663834), (5075, 7.6536160727865274), (3280, 7.631405764329572), (3766, 7.548116036067236)]), (151139, [(1291, 5.967091171948731), (680, 5.666666666666667), (3813, 5.666666666666667), (2251, 5.666666666666667), (1586, 5.326040735967411)]), (241086, [(4419, 8.5), (3569, 8.5), (1548, 8.110597960138552), (1978, 7.571708685329972)]), (170184, [(1446, 9.440909081704545), (3643, 8.099999995), (1225, 7.6), (4084, 7.6)]), (90915, [(1177, 7.0), (51, 5.304347843043478)]), (31256, [(4383, 8.817733969113302), (3512, 8.366687546705862), (1119, 6.714285714285714)]), (231337, [(3480, 6.653635180969597)]), (85962, [(1480, 8.158730151514783), (1774, 7.444444444444445)]), (238008, [(3360, 7.5)]), (105627, [(1090, 8.333333333333334), (36, 8.190476191904763)]), (247626, [(4768, 8.485714273714287), (1094, 6.873015874391535)]), (46258, [(3382, 5.901037990640946), (2537, 5.75)]), (149204, [(2830, 7.2)]), (134403, [(3092, 9.113230062311532)]), (275111, [(746, 7.2987012922077925), (4712, 6.0)]), (39219, [(4146, 8.874999990000001), (4144, 7.875), (1303, 7.875)]), (172676, [(2592, 8.098924739249556), (4964, 7.929101153288062), (1128, 7.666666666666667), (2312, 7.666666666666667), (6344, 7.666666666666667)]), (140863, [(2322, 7.0), (4706, 7.0)]), (143939, [(169, 8.499707595840643), (997, 8.356305918680233)]), (187410, [(1753, 4.1762134860850395), (3524, 3.1458333602083326)]), (253563, [(1103, 7.75)]), (216724, [(6642, 9.934782604347827)]), (234765, [(3024, 9.806467335295403), (460, 9.193560563170893), (988, 8.891096647801978), (1432, 8.764705882352942), (4376, 8.764705882352942)]), (104311, [(2991, 8.38306982347332), (776, 7.333333333333333), (1087, 7.333333333333333)]), (66853, [(170, 6.300000002000001), (3258, 6.020000004799999)]), (106114, [(486, 6.433697044840521), (2634, 6.076923076153846), (415, 6.0), (684, 5.93610426950691), (407, 5.7184303961179035)]), (106816, [(427, 7.2)]), (198781, [(5021, 10.602656324808418), (1938, 10.388858694180028)]), (29526, [(689, 10.329732271828325), (473, 10.103902436013962), (4191, 9.81262939363354), (4195, 9.780905475531966), (1024, 9.77204095392284), (4185, 9.217391304347826), (905, 8.985819976931664), (1960, 8.79437259450577)]), (250709, [(2396, 5.426282050817307), (4129, 5.416666665833334), (5910, 5.31666666675), (5075, 5.256623931815705), (5070, 4.9986772497927685), (3321, 4.756157387211886), (1071, 4.032478289939785)]), (225683, [(1690, 8.435175475316752)]), (92853, [(1546, 9.222285063995098), (781, 6.783909506731321)]), (71223, [(4990, 7.8)]), (183832, [(4744, 8.705426352868217), (425, 7.728553924592525)]), (132188, [(5112, 8.177797202533217), (3732, 8.125), (4163, 7.6250000049999995)]), (234614, [(608, 9.259259243333334), (3030, 7.666666666666667)]), (239609, [(2429, 9.823529403529413), (1804, 9.391304350869564)]), (41911, [(274, 8.623426415747605)]), (41667, [(5076, 2.541666677708333)]), (206393, [(1485, 7.575614865884704), (6040, 7.0432098811741195)]), (174326, [(3419, 9.277068098181225), (971, 8.67420166735856), (1058, 8.540536138616762)]), (278188, [(292, 7.093955254994356), (288, 6.165217397144927)]), (29056, [(1068, 9.361111107638887), (4144, 8.666666666666666)]), (270339, [(1531, 6.333333333333333), (4533, 6.333333333333333)]), (163419, [(6484, 9.0), (2824, 9.0)]), (196775, [(1444, 8.540508019039104), (4295, 7.6), (3527, 6.793452384985119)]), (32244, [(745, 9.666666666666666), (460, 9.627272727469697)]), (274925, [(6056, 5.75)]), (43852, [(373, 8.485714272857143), (3644, 7.2)]), (42611, [(2945, 7.6)]), (211176, [(586, 7.256040563733796)]), (203044, [(4694, 8.41081592105313), (124, 6.850167040565899), (1164, 6.393232866687387)]), (211098, [(98, 6.182432428074325)]), (192176, [(174, 7.666666666666667)]), (244622, [(2329, 9.832056187464879)]), (77940, [(5189, 7.5), (6242, 7.5), (4314, 6.914634152195122)]), (152617, [(2659, 9.5), (1372, 9.5), (3332, 9.5)]), (23652, [(2718, 6.300759586465819)]), (14667, [(1689, 9.92832213707353), (546, 9.50904180030952), (2832, 9.442275484566192), (2834, 9.3)]), (40922, [(765, 7.074229691505602), (5032, 7.0), (4933, 7.0), (5030, 5.000000020525637)]), (124993, [(4631, 6.700000013)]), (232959, [(1574, 9.223779826933622), (1220, 8.052631578947368)]), (254377, [(70, 8.228937727952381), (2163, 7.933333333333334), (1586, 7.183333340833333)]), (174625, [(5226, 8.4)]), (275154, [(6550, 10.310776925652505), (542, 9.964530942090018), (70, 9.558963434915075), (6571, 8.714285714285714)]), (78846, [(1908, 9.256410244615385), (4811, 8.150533027480643)]), (14461, [(795, 6.700000018)]), (114085, [(1074, 9.940936071158259), (2863, 9.740133350863628), (6058, 9.735781203962016)]), (29539, [(4198, 8.0)]), (250301, [(357, 9.96396395099099), (457, 8.126227107307985)]), (131655, [(1167, 7.9461170720040375)]), (176597, [(1977, 7.666666666666667), (95, 7.666666666666667), (611, 6.841639772511684)]), (98923, [(1400, 7.754629633333334)]), (151101, [(1055, 7.272260828192957), (6097, 5.645721935541444)]), (251242, [(450, 8.19671833550266), (2992, 7.851886079304261)]), (129505, [(6075, 7.918981483886574), (1501, 6.778787895000001)]), (6115, [(1423, 9.857142857142858)]), (204619, [(6560, 5.75), (3956, 5.75)]), (196137, [(3816, 9.008529200174545), (6497, 8.512820509358974), (4685, 7.266774896274351)]), (213708, [(70, 8.09700764751139), (4294, 4.583333357499999)]), (47118, [(2293, 9.404371278640523), (5258, 8.333333333333334)]), (49061, [(588, 9.666666653333335)]), (80642, [(3566, 6.2727272727272725)]), (244092, [(2064, 8.113152322546862), (2491, 8.0)]), (8801, [(533, 9.132461693158483), (1360, 8.833333333333334), (457, 8.277164180174797), (160, 8.08474542213564), (1432, 4.233333379333334)]), (241214, [(1071, 6.958333346041667)]), (110558, [(3748, 5.252198054284871)]), (168036, [(2336, 8.538461538461538)]), (203441, [(2098, 9.666666666666666), (4108, 7.897916675510416)]), (28647, [(2785, 3.7481481766666658)]), (67270, [(611, 8.223248132159384)]), (4157, [(115, 10.062499979375001)]), (55607, [(5408, 6.9), (2764, 6.9), (160, 6.662785711134615)]), (34501, [(102, 7.5)]), (202942, [(70, 9.257764147293607)]), (196113, [(1225, 8.25)]), (165669, [(4398, 5.09090909), (6391, 5.0), (2362, 3.4603174757142856)]), (249958, [(643, 10.315021950905265)]), (250184, [(2415, 7.567975199898387), (1659, 7.273165159026463), (6489, 6.130566809387652), (1224, 1.1387560463157884)]), (88620, [(1946, 8.384475857029056), (6453, 8.144956934602318)]), (60412, [(1358, 7.50000001)]), (46099, [(2037, 8.548189158156934), (1264, 8.023409972605451)]), (121251, [(1129, 10.4461538273995), (981, 8.895112974127473), (1783, 8.292377497000906), (6500, 7.8105263236842095)]), (105937, [(2252, 9.017269175958358), (90, 8.91076445938364), (614, 8.832869031345062)]), (112979, [(3160, 7.333333313333333), (4218, 5.333333333333333)]), (26615, [(3880, 5.75), (3879, 5.75)]), (272671, [(174, 6.5)]), (198930, [(4291, 8.625), (503, 8.571481921047358), (3594, 7.335526322236841)]), (21356, [(3502, 6.0), (2049, 2.9166666974999997)]), (162380, [(5591, 6.776190481774272), (414, 6.339169721655128)]), (80929, [(6302, 7.333333333333333), (5246, 4.509803949803921)]), (161974, [(1939, 9.003351968522164), (2844, 7.571428571428571), (4965, 7.571428571428571), (1193, 6.755233657954305)]), (263383, [(3416, 7.328671322027972), (2070, 6.297037048870154), (2672, 6.0), (4614, 4.5000000149999995)]), (227591, [(1512, 8.70778103487092), (4874, 8.0), (1947, 7.366808999037136)]), (252233, [(4191, 7.928571422619047), (574, 7.333333333333333)]), (42883, [(2293, 8.291666650416667), (5121, 6.757575756666667), (5120, 6.666666666666667)]), (175100, [(3500, 10.255860212016852), (5313, 10.241758233186813), (2627, 9.883047910372937), (720, 9.65490041129903), (5281, 9.384615384615385), (6338, 9.058668142630781)]), (126726, [(1094, 7.94444444), (2765, 7.5), (1058, 6.660822110496203)]), (105108, [(1433, 9.869107744544051)]), (158361, [(6891, 8.5)]), (263413, [(5860, 8.717948714102565), (6186, 8.333333333333334), (692, 8.333333333333334), (3743, 8.333333333333334)]), (202711, [(3432, 9.572297555307296), (4679, 8.869369362335506)]), (49771, [(3805, 8.37775860064873), (532, 8.083333333333334), (4517, 8.083333333333334), (5102, 7.612745102745098)]), (94366, [(1807, 3.5500000324999994)]), (3373, [(380, 6.743749818086628), (1065, 6.465223664598845), (1061, 5.642676648294675)]), (151262, [(3964, 7.503546097588653)]), (139421, [(474, 9.09504533536355)]), (212088, [(341, 10.561720776949635), (340, 10.206647187173193)]), (270226, [(50, 10.529714828354102), (3472, 9.041666666458333)]), (60621, [(391, 9.751598208826167), (2945, 9.55465813381922), (1851, 9.55281592698363), (78, 9.227654697398778), (249, 8.789936168506236), (1309, 7.703134999258575)]), (156214, [(4596, 9.755952382380952), (4675, 9.744369362342342), (6364, 9.73646096210271), (166, 9.69339080133908), (143, 9.64374316189825), (2835, 9.041666666666666), (675, 8.146272352174629), (5986, 7.778508784561402)]), (71712, [(3269, 6.823833576357323), (5278, 6.285714291190476), (6117, 5.73076923628205), (3891, 5.500000013333333)]), (143792, [(3991, 8.89926427868138), (5920, 6.684210526315789)]), (236587, [(1627, 6.583831909912749)]), (274325, [(69, 9.793859640570176), (1951, 9.271376805653986), (5423, 8.719696963333334), (1011, 8.453079269467839), (2539, 6.445906440935674)]), (50504, [(384, 6.927371270621499), (634, 4.845454551227273), (5052, 1.777777819999999)]), (5746, [(1385, 7.333333333333333), (1382, 7.333333333333333)]), (177683, [(3084, 9.2235324915138), (4273, 8.25), (2728, 8.25), (1310, 8.25)]), (150657, [(2346, 5.67391304173913), (1318, 5.5), (1964, 5.5)]), (188483, [(2316, 8.357142857142858), (419, 8.357142857142858)]), (93565, [(1407, 9.119556613005374), (127, 8.398625309335882), (6526, 7.894736842105263)]), (123543, [(1048, 4.448209485014082)]), (126693, [(5051, 8.654970748128656), (1261, 8.227538169724031), (5759, 7.889490881847696), (3320, 7.2808080824444446), (5053, 7.25089605984038), (1921, 7.088830506050532), (516, 6.823073950429733), (1633, 5.367521388290598)]), (204804, [(3023, 9.461860186512522), (5336, 9.385582010546738), (5324, 9.189561308828557)]), (225542, [(2261, 9.88556519472533), (2126, 9.560946854410476)]), (140223, [(784, 8.505215422674098), (875, 7.9585173436959185), (5171, 7.285714285714286), (3042, 6.504464293526786), (1932, 4.952380975714284)]), (3363, [(597, 10.33589742523077), (410, 9.889020667475963), (1022, 9.513877121500697), (1023, 9.26923076923077), (1030, 7.906224314194021)]), (5903, [(730, 9.345454529978609), (426, 7.999999997999999), (1391, 5.520930255348837)]), (62303, [(5850, 8.454545454545455)]), (244484, [(158, 7.8), (20, 7.8)]), (7210, [(1701, 8.747967465528456), (1702, 3.6153846525641016)]), (261578, [(2284, 9.542109582220455), (6792, 9.0), (4638, 9.0)]), (49900, [(4888, 8.659500684743412), (5373, 7.785714285714286), (2624, 7.380362930546965)]), (95574, [(4343, 9.588524583278689), (531, 8.095929612528753)]), (80071, [(189, 9.170542630222869)]), (165425, [(3549, 7.75), (3951, 7.75)]), (72238, [(377, 7.3980453013776755), (361, 6.8962987010161925)]), (70065, [(2628, 6.369897956734694), (1265, 6.1884920631746025), (4798, 6.125), (185, 6.125), (5547, 5.244047627915094), (347, 4.170026319699421)]), (262271, [(2866, 9.2)]), (209147, [(6328, 9.948717927564102)]), (112761, [(3858, 9.46502743194088), (4039, 9.454545454545455), (5938, 9.454545454545455), (6254, 9.454545454545455), (4927, 7.889328078893281)]), (59554, [(41, 8.192179196300199), (3652, 7.666666666666667)]), (207971, [(460, 9.736886400032638), (6443, 9.1)]), (162019, [(2919, 10.300864234203075), (2912, 9.96838629371482), (5167, 9.5), (1502, 9.5)]), (198483, [(2217, 9.335666479561365), (5044, 8.377616997471522), (657, 8.01098901945055)]), (257699, [(3093, 10.119536941111834), (3599, 9.8)]), (274634, [(363, 7.802564097217949), (4322, 7.587271041619163), (339, 7.562152735731237), (3088, 6.972096487981754), (5430, 6.733333333333333)]), (256407, [(5448, 10.226511726566413), (934, 9.530898760339264), (6432, 8.384615384615385), (4981, 8.03167421167421), (1941, 7.599076172856807)]), (160735, [(3082, 8.095345342064565), (5767, 7.9166666639814816), (5762, 7.5555555511111105), (1586, 7.111111111111111), (5826, 7.111111111111111), (5215, 7.111111111111111), (3736, 6.880952381719577), (997, 5.717171731111111)]), (186570, [(3424, 5.318989766338283), (4898, 5.0476190476190474), (3958, 4.740739094128967)]), (35320, [(2801, 7.818181818181818), (69, 7.818181818181818)]), (277378, [(55, 5.8), (56, 5.8)]), (159977, [(4305, 8.98924730360215), (1236, 7.816666670166667)]), (277959, [(229, 5.6000000199999995)]), (193412, [(2679, 7.571428581428571), (6843, 7.571428571428571)]), (184513, [(6867, 7.735091790430895), (5921, 7.147727269866189), (5526, 6.875), (1512, 6.856804957148094), (4634, 6.439014653927474), (5369, 3.6589637636397803)]), (273813, [(1432, 5.6), (4438, 5.6), (416, 5.503846154326923), (243, 5.377452283723461)]), (144038, [(5092, 9.3), (1988, 9.277749200022505), (3709, 9.081794339751186), (957, 8.689796315458322), (3727, 8.539741793371503)]), (62895, [(1550, 8.995018110966939), (2649, 8.000000009999999), (5643, 8.0), (4254, 8.0), (3020, 7.76282051400641)]), (265194, [(5383, 9.3124999971875)]), (241357, [(235, 8.101466819836473), (77, 7.326420907746066), (59, 7.203970974231201), (2050, 6.39120232015291)]), (223816, [(4390, 9.027236102825979), (1160, 8.636570213824044)]), (123154, [(2651, 7.4), (6635, 6.994594598805103)]), (2139, [(882, 6.358823542617646)]), (225912, [(1847, 5.434589823762115)]), (228445, [(1011, 8.064794911903187), (541, 7.5), (4555, 7.5), (3988, 7.5)]), (184789, [(742, 8.79716904299734), (983, 8.068383199186222), (1371, 3.9018088276227374)]), (134311, [(4562, 10.274778182522992), (2956, 9.556801558253348)]), (28016, [(4038, 10.223076908846155), (405, 9.812666778874714), (581, 9.241227517741406), (928, 8.8), (3439, 6.806651890804281)]), (114483, [(5012, 8.065918279848146)]), (185011, [(710, 10.060714048565387), (2748, 9.0)]), (267510, [(3913, 9.11981270774601), (41, 8.634379396219893)]), (212859, [(4650, 7.0714285707127)]), (157811, [(2662, 8.25222965439242), (5083, 8.25), (4793, 8.25), (4438, 7.0648148187654325), (2705, 4.239130454836956)]), (264317, [(3911, 8.64890461447741), (2821, 8.62656640556391), (1647, 8.126941475529046), (91, 7.371920709417402)]), (67910, [(3570, 9.569562016698564), (755, 9.5)]), (184890, [(4167, 7.735294110294117), (450, 7.242990651775701), (3290, 6.289274756394107), (1823, 5.857142868571429)]), (171818, [(1127, 9.476190466428571), (1491, 8.890220972266544), (1791, 8.5), (1867, 8.5), (3579, 8.134615388269232)]), (116313, [(331, 8.30952380892857)]), (89391, [(4606, 7.333333333333333)]), (11657, [(2394, 6.588188485137742), (2393, 1.2064516548387099)]), (183284, [(434, 9.699158084413185), (637, 9.570717202856684), (338, 9.354196728705194), (1910, 8.777777777777779)]), (262040, [(649, 7.4802121227292275), (2653, 6.909090909090909)]), (122542, [(41, 8.91346153889423), (1058, 6.779284356382244)]), (16510, [(2141, 7.7599999984)]), (180032, [(1706, 6.888888888888889)]), (186032, [(3520, 7.55654761765625)]), (96493, [(2464, 6.714285714285714)]), (76942, [(5275, 7.238095238095238), (4050, 6.876984128789682)]), (23847, [(3686, 8.166666666666666)]), (169249, [(1851, 8.124423954746543), (434, 7.869324536960691), (338, 7.696537460404265), (1631, 7.269950738968801)]), (226616, [(127, 8.565595476081048), (1694, 5.633333345833332)]), (65837, [(4197, 1.582608727826086)]), (113279, [(5034, 6.8), (662, 6.74871794923077)]), (130581, [(6337, 10.54545453), (532, 9.53510080497442), (5332, 8.570945403525796)]), (258460, [(1022, 6.8849624057901)]), (51252, [(158, 8.399460185459482), (268, 8.379870119642856), (606, 6.887003969821097)]), (277195, [(37, 10.740740733333332), (42, 10.0)]), (245650, [(729, 8.404160380560086), (3885, 7.996682045620728), (1448, 7.834138251175357), (5661, 7.714285714285714), (3140, 6.333333347142856)]), (212849, [(1321, 8.801587297142857)]), (2030, [(812, 10.7499999925), (809, 9.388888890925926)]), (231354, [(6187, 8.685672511747075), (3815, 8.279668754334065), (6790, 8.11111111111111), (1408, 7.371461873927369), (972, 6.663448516723408), (1552, 6.39763181759161)]), (94242, [(1927, 8.0), (6531, 7.092436979327731)]), (146298, [(5348, 6.0)]), (43619, [(693, 8.582539517395112), (195, 8.21548706064468), (3313, 7.66595994578533), (653, 7.43524532019122)]), (58768, [(4446, 8.994074076085926)]), (45068, [(727, 8.90847456109361)]), (118677, [(3846, 9.701500558697488), (456, 9.47010568513931), (409, 9.152864996135268)]), (54605, [(285, 6.77033347166699), (4218, 6.166666666666667)]), (208451, [(140, 9.002857134257141)]), (198046, [(653, 7.489167230519136), (2194, 7.264598597576135), (1904, 7.206455805640277), (3913, 6.690261990576099)]), (109013, [(2139, 10.047058817058824), (3644, 9.4)]), (26583, [(500, 10.294623375827312)]), (146078, [(5971, 9.333333333333334)]), (258884, [(1743, 6.603554488639373), (5381, 6.562087240022745), (5950, 6.475071469005432), (6226, 6.2399603907052725), (1614, 5.204341494815486)]), (52044, [(1433, 9.75)]), (142661, [(1510, 7.791666665416667)]), (245446, [(5948, 7.4)]), (39353, [(4325, 9.096207151919662), (4955, 8.759374999976563)]), (234675, [(3083, 8.521285791973755), (6670, 7.777777777777778), (1296, 7.690026602592664)]), (109014, [(4807, 8.335227271051137), (144, 6.7986443411214115)]), (179843, [(737, 8.0), (1581, 8.0), (777, 8.0)]), (248064, [(3273, 6.653240007907498), (5430, 6.5), (4164, 5.928571434285715)]), (271622, [(5867, 10.373015848571429), (1767, 8.309523805714287), (1086, 8.19853027540819), (691, 7.979011348910469), (5592, 7.928571428571429), (3170, 6.285203329485736)]), (165345, [(4858, 9.863326674864966), (1880, 9.501608877657812), (5466, 8.74581814355599), (1058, 8.434394958494302), (311, 7.520373815642292), (6111, 5.535714317499998)]), (90766, [(4419, 6.857142857142857), (1622, 6.857142857142857)]), (53140, [(1576, 8.911564623401361), (4347, 8.083333339166666)]), (55492, [(1013, 9.162327898494905), (2928, 9.020510619547665), (473, 9.000258141142204), (886, 8.562733292583607), (643, 8.005632188735662), (176, 7.236901141514698), (1309, 7.017712228848027)]), (55655, [(1557, 6.364583333020833), (1179, 6.333333333333333)]), (226545, [(1602, 8.115954367760855), (4752, 7.634400756333742), (6049, 7.5425042899151995)]), (148632, [(597, 6.2)]), (10118, [(781, 8.962658202006383)]), (36836, [(1163, 9.333333333333334), (2464, 9.333333333333334), (4779, 9.333333333333334), (3110, 7.253333354133334)]), (188106, [(6543, 5.5), (1586, 4.071428585714285)]), (167611, [(1631, 6.981250012187499)]), (260108, [(1273, 8.799999982000001)]), (50615, [(3064, 9.445386821780193), (5403, 8.666666676666665)]), (152514, [(6047, 10.0)]), (244657, [(4870, 7.7166666575), (6406, 7.6014705842279415), (436, 7.18709677032258), (536, 6.953028404038137), (2912, 6.427336631065946)]), (39928, [(3056, 8.25)]), (50204, [(1897, 7.241134745993017), (2369, 6.666666666666667)]), (135831, [(2053, 7.250000001285332), (1302, 7.220986351659458)]), (230428, [(399, 8.666666666666666), (6681, 8.666666666666666)]), (92804, [(3337, 7.75)]), (250925, [(2770, 9.235494114271809), (1104, 8.792101617107669), (1045, 8.755772042266953), (1144, 8.44)]), (247518, [(1821, 8.129469692989014), (1000, 7.333333333333333)]), (126196, [(2093, 8.53424661431824), (1618, 8.405112353444045), (405, 8.215538177759395), (2413, 8.116205630211638), (1501, 8.089743583846154), (5583, 7.655843954867615), (4807, 7.628304813546706), (738, 7.504784688979266), (5503, 7.5), (270, 7.363636365)]), (219949, [(465, 9.357901852384657), (590, 9.197540707292992), (20, 8.428571428571429), (6498, 8.428571428571429)]), (236754, [(5164, 9.11742424371212)]), (117318, [(613, 5.24999999875), (4023, 5.0), (2070, 4.74415838224164), (2046, 4.737692086731073)]), (141010, [(17, 7.843506341364559), (3665, 7.744175962008177)]), (245616, [(1743, 8.451742950830868)]), (23459, [(3642, 7.092307695384616)]), (231081, [(341, 9.407685193680745)]), (62968, [(5533, 7.0)]), (247278, [(4771, 9.50406503894309), (4819, 9.333333333333334)]), (49289, [(3306, 7.339961012661956), (2176, 6.75)]), (70541, [(1413, 8.99179863669259), (1153, 8.990196066764707), (6088, 7.823529411764706), (646, 7.823529411764706), (1166, 7.535341205080295), (2014, 6.677919922705489)]), (229768, [(1638, 9.512450589860475), (3453, 8.125795400733189)]), (85993, [(3056, 10.156136501138192), (4608, 10.132061757994405), (5029, 9.720894105454756), (1307, 9.45051859127299), (6405, 9.147058823529411), (139, 9.147058823529411), (2876, 9.12755848033872)]), (96335, [(3677, 7.666666666666667), (3531, 7.666666666666667), (2283, 7.666666666666667)]), (154781, [(4487, 9.815789470526315)]), (112512, [(5649, 10.046808496170213), (3913, 7.812380955006349)]), (252071, [(3198, 8.09803338377564), (7, 7.865083938164296), (4274, 7.769230769230769), (3403, 7.769230769230769), (1280, 6.550480781418269)]), (144516, [(604, 5.3022111576998965), (1058, 5.066812629614104), (723, 4.534926969991034), (6186, 2.916666686666667)]), (183061, [(1760, 8.940054660620595), (546, 8.579606089544015)]), (13995, [(285, 8.183728914772532), (533, 8.065731770807906), (1898, 7.44657097417597)]), (61028, [(5208, 8.125), (2115, 4.875000032499999)]), (197206, [(2881, 7.669887092823918), (1205, 6.502386743355832)]), (81324, [(124, 8.528657683078531), (3113, 7.87499999625), (3059, 7.5)]), (159754, [(1743, 7.95238094952381), (3235, 7.666666666666667), (141, 7.666666666666667)]), (246512, [(3133, 10.57777777388889), (5801, 10.5499999925), (4320, 9.80000001), (2334, 8.84898447150936)]), (202036, [(3045, 4.75), (5375, 4.75), (323, 4.75)]), (132786, [(4181, 6.449275364492753)]), (48743, [(3355, 7.8709695993661075), (532, 6.084405674990294)]), (83443, [(33, 9.415563745403412), (6140, 9.252200473781802), (2835, 8.668059426487197)]), (29915, [(4206, 8.12499999675)]), (144455, [(5771, 8.25)]), (148199, [(4050, 7.28959275959276), (3515, 7.230769230769231), (4865, 7.230769230769231), (339, 6.746250271174977)]), (270828, [(469, 7.0439560335164835)]), (127049, [(1293, 8.90255417689351), (1284, 8.67843392520828)]), (98943, [(4818, 8.083333320000001), (1793, 6.75)]), (163443, [(2724, 7.2222222261111115), (4314, 5.88135594338983)]), (149231, [(1571, 8.094134858613899)]), (149140, [(1421, 9.861080468289064)]), (38703, [(624, 9.337798730242165), (456, 8.979386554954521)]), (27947, [(3423, 9.5799999792), (4036, 7.5), (2545, 5.023809548571428)]), (240401, [(2405, 8.708333325), (2812, 7.875), (480, 7.609649124133772)]), (20060, [(3355, 9.44301896639066), (1052, 9.09088347643312), (3361, 8.86473044795661), (3349, 8.434003828556607), (1379, 8.263880675338097), (160, 7.938937248887119), (1795, 7.786764712132353), (347, 6.5630130551846735)]), (148263, [(938, 9.16712344534969)]), (170861, [(310, 7.080303027535353), (1997, 6.293956043504572), (2830, 5.9500000029999995)]), (111888, [(6633, 8.333333333333334), (4147, 6.3365129935559095)]), (177237, [(1761, 8.0)]), (273089, [(981, 8.109070653184798)]), (188027, [(2690, 8.231249999687499), (1714, 8.2)]), (31158, [(465, 7.123270367829439), (1490, 6.471373797778483)]), (31740, [(744, 8.009873946560084), (2574, 6.5)]), (126860, [(5948, 6.257936513789683)]), (77868, [(1520, 9.347288665749602)]), (98887, [(1702, 8.406218875742768), (1277, 7.82811232268252), (6012, 7.625)]), (55562, [(692, 5.666666666666667), (1530, 5.666666666666667)]), (70183, [(4768, 7.826784765620284), (3083, 7.671353584742004), (6083, 1.6763158443409543)]), (128122, [(5469, 9.4375), (772, 8.652682458884664), (547, 8.082661303870967)]), (138954, [(3956, 6.414814806666667), (301, 5.6)]), (231395, [(3119, 7.54166666375), (1303, 7.25)]), (254754, [(5, 7.333333333333333), (2148, 7.160919541954023)]), (74185, [(124, 8.384729401923192), (363, 7.777777777777778), (1660, 7.29222222384074), (182, 5.65126263335101)]), (182838, [(2478, 9.049230479519997), (4097, 7.521296347800005), (369, 7.344444345456003), (2246, 6.123376644497994)]), (20265, [(420, 9.799999994571428), (1434, 9.536749478289337), (3396, 8.714285714285714), (983, 8.59877938574932)]), (194606, [(1851, 9.241737412618061), (1186, 7.617134635499847)]), (236025, [(1315, 7.5)]), (88652, [(3240, 11.01754384631579), (1526, 10.666994594216057), (3094, 10.219094241897183), (6455, 9.68421052631579)]), (72530, [(2938, 8.22499999375), (5772, 7.6)]), (169600, [(471, 9.288103762142205), (480, 9.187953746083338), (1166, 7.886363645)]), (229681, [(3635, 6.333333333333333), (5005, 6.333333333333333), (4013, 6.333333333333333)]), (154269, [(675, 8.206896543189655), (2080, 6.603448274827587), (4157, 6.5)]), (43698, [(4759, 9.0)]), (266522, [(2699, 8.4)]), (237064, [(4932, 7.833333333333333)]), (117111, [(5681, 7.933333333333334), (3900, 7.933333333333334), (77, 7.5932933076655305), (1186, 7.522491078554312), (761, 4.354386000701753)]), (195182, [(335, 7.511824851851643), (1328, 7.492216636616735)]), (59189, [(5774, 9.737810167267066), (5511, 8.920289852137682), (267, 8.836303658675742), (5251, 8.090909097121212)]), (23511, [(3644, 9.21216165548824), (2398, 8.92401673770011)]), (49300, [(3498, 6.666666666666667)]), (30749, [(2863, 8.60373421403911)]), (119505, [(416, 7.5), (3778, 7.5), (6307, 7.5), (1630, 7.214285717142857)]), (6769, [(1619, 8.594792958568272)]), (200009, [(1660, 7.9929824542105266)]), (25410, [(3712, 7.875), (210, 7.50000000375)]), (137968, [(4133, 9.642857141428571)]), (184684, [(883, 6.1315789610526314)]), (112298, [(1154, 7.654746988015251), (590, 7.1580832370389045)]), (19760, [(774, 10.0), (3333, 10.0), (2498, 10.0), (831, 10.0)]), (198355, [(2311, 7.99999999)]), (104334, [(773, 8.017045448920454), (4167, 7.454545454545454)]), (54911, [(5619, 9.8)]), (208600, [(609, 9.666666666666666), (1347, 7.324537048747684)]), (64270, [(212, 7.799999992), (3234, 7.245398121364959), (634, 6.867105129704129), (1510, 5.170419108771022)]), (55961, [(707, 6.645010984446683)]), (250683, [(5356, 8.857142857142858), (6422, 8.857142857142858)]), (165183, [(3530, 10.06990740005787), (6436, 8.6), (1559, 7.438363258735988)]), (199795, [(252, 8.25)]), (41676, [(403, 6.6000000199999995)]), (138202, [(1106, 7.87391304173913), (3220, 7.7)]), (99032, [(70, 9.030266603673086)]), (244456, [(496, 8.04285714842857)]), (175003, [(434, 10.690910376925768), (480, 10.598922581795675), (3227, 6.99073312230842)]), (20680, [(892, 7.723967750386643), (1441, 7.367906725190584)]), (204622, [(70, 9.96647782348198), (781, 9.165906714429223), (1502, 8.5)]), (185677, [(469, 8.29129266078753), (1483, 8.029150197028162), (6237, 7.909090909090909), (5202, 6.509090923090909), (6534, 5.703208578303634)]), (89913, [(417, 8.053916614672138)]), (172091, [(1779, 6.076923076923077), (6504, 6.076923076923077), (3753, 5.557475930022093)]), (11724, [(2421, 8.186730213995082), (2429, 7.809523809523809)]), (123215, [(4861, 8.896126755352112), (1634, 8.547839504444445), (5704, 8.375), (1412, 6.2950000208)]), (85833, [(4154, 10.753623167536233), (1798, 10.138888874166666), (2117, 9.138888884166665)]), (8529, [(1962, 8.5), (613, 7.76489028580721)]), (97324, [(2918, 6.613042260505921)]), (275383, [(5973, 8.75)]), (78440, [(4580, 8.507692304615384), (5933, 8.2)]), (45255, [(378, 6.8)]), (141201, [(2705, 9.5)]), (151043, [(4747, 9.719298235087718), (246, 9.148903507968202)]), (38899, [(971, 8.267788387244053), (285, 6.336711718361487)]), (223156, [(440, 8.209956709256854), (4829, 8.0)]), (196085, [(4360, 6.75)]), (167052, [(1627, 8.59090909)]), (248805, [(2362, 9.0), (2353, 9.0), (2271, 8.4722222275)]), (135965, [(1873, 7.5), (3525, 7.5), (2995, 7.5)]), (170227, [(5643, 8.424999992), (561, 7.625)]), (127190, [(2829, 9.377674048479031), (1685, 9.059316768889753), (2085, 8.8), (1315, 8.7870550504117)]), (266054, [(4793, 6.5), (2772, 6.5)]), (215071, [(70, 8.923013322401493)]), (46197, [(2902, 9.827614571034129), (486, 9.32676896860341)]), (179741, [(6095, 9.14581533763123), (6437, 8.760416663697915)]), (153322, [(397, 10.167658724320436)]), (70878, [(5226, 8.2)]), (123203, [(411, 5.833333343333333), (2769, 5.833333333333333)]), (53456, [(339, 8.214687725446588), (718, 7.728484006478599), (1411, 7.6139537141936025), (274, 7.604386166577493)]), (50730, [(3262, 7.5), (665, 7.2988230534495235)]), (278535, [(17, 8.36967835786353), (16, 8.292120435979118), (250, 8.0), (380, 7.847634031124736)]), (194172, [(2852, 7.6), (500, 7.598090375711167)]), (157660, [(4617, 6.8)]), (254038, [(1408, 7.69444445)]), (26593, [(3175, 8.185411766200245)]), (89851, [(1617, 3.7119658311837602)]), (177690, [(4518, 9.002564081538463), (4080, 6.522945932107033)]), (139706, [(3280, 10.0), (1761, 10.0), (501, 10.0), (274, 9.395454548477273)]), (228321, [(1788, 4.959021180491583), (2735, 4.634920646349206)]), (155000, [(6074, 9.0)]), (205765, [(3339, 9.12698413), (2728, 6.977591048669468)]), (10946, [(375, 5.0)]), (97972, [(1142, 7.666666666666667), (3205, 7.666666666666667)]), (81672, [(2872, 7.5), (315, 7.5), (5769, 7.5)]), (251642, [(2756, 6.0)]), (206775, [(1646, 7.0), (6336, 7.0), (4514, 7.0), (1963, 6.4375000028125005)]), (267442, [(1979, 9.454809178892495), (1548, 8.502754830089533)]), (235059, [(971, 8.952202535456918), (913, 7.20833334875)]), (125133, [(2427, 5.804347828043479)]), (30985, [(2398, 8.911248684410062), (1813, 6.823529411764706), (4337, 6.823529411764706), (2331, 6.823529411764706)]), (202381, [(394, 8.330469961192522), (1315, 7.666666666666667)]), (182931, [(5054, 7.0)]), (64316, [(1278, 10.0), (1546, 10.0), (2953, 8.437500015625)]), (1261, [(590, 8.8253280293818), (684, 7.39499589545303)]), (185071, [(1230, 7.659090900000001)]), (43436, [(5135, 8.666666664000001), (459, 0.8375000756249991)]), (150663, [(109, 10.294184049341904), (4877, 9.88078250830552), (3539, 9.676767674545454), (1371, 9.454545454545455)]), (105576, [(1247, 7.927536222608697), (6675, 7.0)]), (124989, [(3416, 10.37464835267993), (5343, 9.025939854231204), (30, 8.661654141766917)]), (229177, [(1241, 5.666666666666667), (6421, 5.666666666666667)]), (193448, [(4244, 7.0)]), (106294, [(6684, 6.916666666666667), (2200, 6.916666666666667)]), (137587, [(3581, 7.75)]), (127404, [(1433, 6.25), (243, 6.25)]), (181436, [(885, 6.2), (2516, 5.475853439095332)]), (142565, [(1179, 7.385495716570532)]), (133557, [(2064, 7.1000000015), (3177, 6.100000005749999)]), (68700, [(5979, 6.8430613256525925)]), (99322, [(4367, 10.223131853511461), (2616, 9.623786398975355), (2619, 9.623786398975355)]), (236349, [(4264, 6.895342070741832)]), (169309, [(2992, 7.424400945839944)]), (77585, [(3049, 10.0), (777, 8.575644832847182)]), (25103, [(1158, 6.470588240588235)]), (138018, [(1491, 5.916817801029214), (182, 5.4)]), (41425, [(1273, 9.502747246483516)]), (227884, [(4772, 10.642857122857142), (1686, 8.993410454311555), (2138, 8.906746030426588), (1181, 8.044756660630776), (5214, 6.584033634033613)]), (138906, [(1109, 8.218097317849917)]), (231149, [(197, 6.053571433928571)]), (226745, [(50, 9.601967897641721)]), (270211, [(6381, 8.0)]), (115552, [(1803, 7.657142849142858), (1261, 7.07908232372767)]), (55799, [(589, 8.137574120900416), (4163, 6.7916666716666665)]), (233431, [(278, 7.157297721108448)]), (194287, [(3973, 9.981761024605646), (2263, 9.608034932374128), (5437, 9.555555555555555)]), (151107, [(6867, 6.0), (1201, 4.79032259279182)]), (82391, [(2036, 6.0), (168, 6.0)]), (22365, [(938, 9.720796302191083), (3590, 8.500000002)]), (124048, [(1855, 7.119912206659672), (2870, 7.044632767101695), (5212, 6.666666666666667), (6589, 6.666666666666667)]), (24090, [(465, 6.4030906210445355), (3698, 6.393939383333333), (614, 4.576383268380116)]), (93105, [(6333, 8.25)]), (242465, [(4849, 10.0), (5595, 10.0)]), (53664, [(1615, 8.652426303661134), (5425, 8.555555555555555)]), (88170, [(2976, 7.0), (3380, 7.0)]), (183088, [(4898, 7.4)]), (138826, [(2343, 9.333333333333334), (1999, 9.333333333333334)]), (200493, [(165, 7.720502647100969)]), (238400, [(288, 7.25)]), (225686, [(377, 6.0)]), (92498, [(4790, 8.757837969793943), (2414, 6.916666674166667)]), (275075, [(981, 9.552906759775876), (1626, 9.177339900591132), (5879, 9.0)]), (226482, [(3776, 8.32466286963517), (1745, 8.046558686295548), (3018, 1.6752137207692304)]), (105221, [(472, 10.406133755171275), (3511, 9.726447171053096)]), (132684, [(750, 8.571428571428571), (5925, 8.571428571428571)]), (259930, [(225, 8.776559581564976), (2850, 6.638996158320463)]), (104925, [(3259, 7.555555555555555)]), (9613, [(2131, 8.332759603556196), (2126, 7.7457291049065145), (2136, 7.352941176470588), (1343, 6.493553636364183)]), (58708, [(3322, 6.416666679999999)]), (78496, [(6249, 8.1)]), (154627, [(588, 8.136363620000001)]), (173650, [(6220, 7.4592592577283945), (2903, 7.0)]), (121405, [(289, 8.331726159012225)]), (173291, [(4917, 9.931213811062571), (2153, 8.49807692396136), (6817, 7.582621095313389), (3925, 7.449657647845081)]), (30245, [(3060, 7.0), (149, 7.0), (4228, 7.0), (4229, 7.0)]), (221777, [(4817, 7.0), (4742, 7.0), (1230, 6.710256411222223)]), (170869, [(425, 10.994901957047059), (2249, 9.5), (1542, 6.642857171428571)]), (66473, [(1626, 5.678556959707551)]), (90137, [(1328, 7.580093849433353)]), (154981, [(2578, 5.346491252105261)]), (270754, [(3990, 7.75)]), (136561, [(538, 7.754674981531337)]), (77039, [(2297, 7.333333333333333), (1489, 7.333333333333333)]), (80516, [(1183, 7.902318540931121), (4090, 5.695833343854167)]), (143497, [(615, 7.909090909090909), (160, 7.431348120858669)]), (26374, [(1626, 8.229996185317473)]), (63004, [(834, 7.571428571428571), (1190, 7.097099609289263)]), (132203, [(6243, 8.249999985793044)]), (212109, [(3423, 7.25), (3408, 7.25)]), (239688, [(3416, 9.17043667972266), (443, 8.846153846153847)]), (93770, [(1667, 7.666666666666667), (3314, 7.666666666666667)]), (160180, [(431, 9.25)]), (221445, [(901, 9.293808213937444), (16, 8.63245586488743), (1586, 7.466401059908891), (1587, 6.75194191179142)]), (126810, [(6748, 7.222222222222222), (243, 6.814529916568376)]), (8734, [(70, 8.262283320386258), (730, 8.190110285249547), (2001, 7.545454545454546), (2003, 7.545454545454546), (739, 7.458487316863155)]), (90517, [(2129, 7.333333333333333)]), (16010, [(759, 9.78181816), (259, 7.811899309552508)]), (119248, [(280, 6.75), (5846, 6.75), (2151, 6.75)]), (257492, [(50, 8.29935630055344), (999, 6.612903239677419)]), (148712, [(1457, 8.07823426457714), (6881, 7.912259612415865), (1553, 7.615384615384615), (6228, 7.615384615384615)]), (125171, [(456, 7.454224664300956)]), (60427, [(2329, 8.508823527161764), (1103, 8.058823529411764), (5812, 7.576064913689412), (3463, 6.7001304961953245)]), (276670, [(1434, 7.386982440080567), (5091, 7.142857142857143), (5164, 6.809523812857143)]), (166141, [(3345, 6.66906204743821), (5694, 5.857142857142857)]), (258550, [(6508, 7.4)]), (183740, [(5162, 7.25)]), (239481, [(274, 6.609586047348619)]), (158385, [(665, 7.8081346127106865), (2920, 7.23599982856146)]), (235884, [(4941, 7.857142857142857), (3944, 7.857142857142857), (1263, 7.766651597574028), (5320, 6.9739163636244275)]), (108535, [(207, 7.417765149331098), (2064, 6.824969664137558), (1253, 6.037552082182775)]), (156300, [(1964, 9.728903075126013), (4101, 9.252491700398672), (4549, 8.69694599774)]), (262311, [(2727, 5.4)]), (143134, [(997, 8.898905193953912), (481, 8.714285714285714)]), (101513, [(6477, 7.778571428285714)]), (141089, [(4112, 7.444444444391535), (4328, 7.428571428571429)]), (265487, [(5149, 8.777450965558822), (1259, 7.535784312517157)]), (78589, [(6251, 5.25)]), (132836, [(2421, 9.555555555555555), (6316, 9.555555555555555), (1288, 9.35947712614379)]), (213664, [(3731, 8.25)]), (177862, [(377, 6.781089973896795)]), (71902, [(5078, 8.375)]), (44295, [(2080, 8.603448274827587), (3836, 7.760869572608695)]), (127564, [(1743, 6.285714286428571)]), (64449, [(1095, 5.952380978618411)]), (47279, [(540, 9.318643255829794), (5259, 8.495283505603506)]), (154553, [(3765, 11.041666659583333), (5587, 9.625)]), (47594, [(2354, 8.0)]), (74689, [(858, 6.5)]), (216027, [(2442, 8.953571424517856), (6054, 8.142857142857142), (3811, 8.142857142857142), (5170, 8.142857142857142)]), (103304, [(2951, 7.816300065056899)]), (204964, [(2648, 8.562155482179842)]), (74911, [(3056, 6.400000027999999)]), (135141, [(5738, 7.0)]), (84126, [(6374, 7.75)]), (91647, [(4969, 6.733333333333333), (733, 6.449755801173688)]), (208555, [(5270, 8.25)]), (139126, [(2524, 9.120365040887888), (2096, 8.57521849669379), (3387, 7.164743161665841)]), (150561, [(6699, 7.984949831622074), (2588, 7.869565217391305), (5654, 7.478459958254066), (3844, 7.303312384650602), (2080, 5.9770457723158845)]), (233976, [(6549, 8.0), (3993, 8.0)]), (29855, [(4202, 6.906416651242351), (1941, 5.832107242545806), (304, 5.348701302131859)]), (126812, [(560, 5.492063493492063), (414, 5.422413632442573)]), (275611, [(1730, 8.389930551605902)]), (277478, [(130, 7.7600000024)]), (62272, [(268, 9.452200666327855), (1572, 8.306846959838412), (5848, 6.803112609697562), (2731, 6.440000024)]), (244494, [(4205, 9.183333319), (486, 7.959963714492209)]), (218636, [(70, 8.762343942268629), (954, 8.677485377025342)]), (104550, [(514, 6.747676344661213)]), (30210, [(206, 8.509119416791986)]), (187463, [(1273, 7.0), (127, 5.166666685)]), (106862, [(5218, 6.0)]), (87964, [(2884, 6.588545637570874), (2481, 6.2105263157894735), (514, 6.2105263157894735)]), (66055, [(2819, 7.8), (1309, 5.16053640574636)]), (242409, [(564, 9.29577256708059), (3470, 8.207142853607143), (4669, 7.8800000031), (6771, 7.5), (5234, 7.464285714642856), (4568, 6.660536189023751)]), (30887, [(465, 9.141705063415898), (192, 9.05611366034472), (1631, 8.0), (4325, 7.5833333375)]), (79923, [(6281, 6.6)]), (224626, [(41, 10.0), (2707, 10.0), (428, 10.0)]), (208907, [(1284, 10.433507541360338), (3727, 8.833333333333334)]), (81368, [(4683, 5.855994438340576)]), (251518, [(514, 5.7272727437499995)]), (162030, [(953, 8.3289308131706), (459, 8.30841236378069), (634, 8.24051999374843), (227, 7.335910574810393), (1397, 3.808080843636363)]), (212439, [(2216, 7.285714285714286)]), (192492, [(6495, 8.871428560714286)]), (249695, [(657, 8.052524667760597), (3194, 6.581582764836405), (644, 6.536620690466415)]), (67415, [(649, 7.636660846219486)]), (66518, [(641, 7.625), (1475, 7.625)]), (21912, [(3561, 6.6)]), (126395, [(6797, 8.826599321969697), (4007, 8.363636363636363)]), (186837, [(1044, 10.785778976995019), (136, 7.752702587060342)]), (169403, [(2465, 7.5), (6456, 7.5), (4157, 7.5), (412, 5.220000022799999)]), (272573, [(2233, 8.910645884581651), (2293, 8.544305570678155), (451, 7.869846684807497), (414, 7.319306009416008)]), (134684, [(1398, 5.428571452857142)]), (274656, [(4971, 7.999999995555555), (2792, 7.555555555555555)]), (42093, [(267, 8.641936823970422), (5098, 8.363636363636363)]), (6662, [(1608, 8.944444433333333), (1607, 8.307017539122807)]), (75491, [(1293, 8.439811217693237)]), (27313, [(3946, 9.75)]), (120873, [(665, 8.142294677927278), (51, 7.3511904765625005)]), (81578, [(3194, 8.035470086185185)]), (128434, [(1245, 8.5), (1986, 7.72222223)]), (116599, [(49, 9.749999995), (1888, 8.929345228826296), (6648, 8.75)]), (164105, [(243, 8.825512965852855), (2927, 8.666666666666666)]), (259004, [(6037, 7.857142857142857), (2477, 5.238095264285714)]), (235384, [(6563, 7.0)]), (126827, [(3992, 8.75)]), (20971, [(3431, 6.25), (675, 5.750152283195575)]), (54453, [(503, 6.402050287855425), (5602, 6.181818181818182)]), (235146, [(2968, 9.431372538039216), (3846, 8.585149318385756), (2951, 7.525287052952024)]), (14768, [(124, 7.547264837593053), (2841, 7.0)]), (249496, [(4164, 8.733783786114865), (3501, 8.2), (4517, 8.2)]), (236955, [(4272, 6.472222217499999)]), (78545, [(6, 5.8540909598043855)]), (159455, [(4356, 8.25)]), (268618, [(1204, 7.2), (5092, 7.2)]), (25253, [(1901, 8.855649447540596), (3769, 8.823717949230769), (1212, 8.677512878145064)]), (254995, [(3380, 8.26190475825397), (6057, 7.166666666666667)]), (269439, [(6860, 8.636363636363637), (4399, 8.636363636363637), (5370, 8.636363636363637)]), (24995, [(1063, 9.369047617166666), (3758, 8.428571428571429)]), (91631, [(3888, 10.964285691785713), (6261, 9.547619039201109)]), (55548, [(2922, 9.026315794210527)]), (252903, [(6916, 8.166666641666668), (563, 5.666666666666667)]), (254859, [(434, 10.996059602598084), (472, 10.770719307511458), (471, 10.596172443005129), (3109, 10.0)]), (146573, [(1620, 9.200000009999998)]), (122321, [(45, 6.958333316250001), (879, 5.25), (44, 5.25)]), (100227, [(1715, 8.97089946904762)]), (262541, [(5012, 7.230769230769231)]), (254064, [(5877, 9.0)]), (185154, [(1598, 8.0), (3134, 8.0)]), (123228, [(2832, 9.666666659999999), (3785, 9.0)]), (121093, [(664, 8.570261435057189), (457, 7.398022765771092)]), (206691, [(74, 6.949937298933783)]), (267444, [(966, 8.333333333333334)]), (91058, [(829, 8.5772844610796), (1198, 8.125), (1952, 7.899628881018893), (4310, 7.649774777150901)]), (87948, [(2131, 8.999999991666666), (379, 6.975995247774608)]), (69042, [(328, 8.2), (4680, 8.2)]), (80661, [(6294, 9.992592576666668)]), (130792, [(662, 6.3945946086486485), (4650, 6.3945946086486485)]), (151143, [(1835, 8.0), (688, 6.594594608648649), (2427, 6.297297305810811)]), (55065, [(2084, 7.333333333333333), (1441, 7.208411703863897)]), (12707, [(165, 9.782051280277777), (1490, 9.63848325833217)]), (35998, [(414, 7.8720930195348835), (50, 7.3468649862902815), (1205, 7.149703468075423)]), (70189, [(2516, 9.836333877205401), (619, 7.800307228160522)]), (180957, [(2726, 6.857142857142857), (4941, 6.651260506260504)]), (3346, [(1009, 8.64313724266269), (1015, 8.560507811314189), (1012, 7.466666666666667)]), (85851, [(3056, 8.818452369910714), (476, 7.714285714285714)]), (76576, [(3379, 6.857142857142857)]), (2313, [(909, 8.470588219792758), (908, 7.0), (899, 6.263771324220137)]), (44842, [(3480, 8.306528684515506), (124, 7.58749729063043), (3056, 7.183472431085973), (5185, 6.904761907142857)]), (229243, [(6026, 7.6)]), (190480, [(1380, 6.25)]), (47152, [(1219, 9.561761992854247)]), (275264, [(2293, 9.006991241912147), (4861, 7.936017307833668)]), (170509, [(265, 5.333333333333333), (6707, 5.333333333333333)]), (143965, [(3416, 6.668214874470651), (1981, 6.333333333333333)]), (205878, [(50, 9.438095225904762)]), (213851, [(4598, 9.992258001033376), (290, 8.666666673333333)]), (109135, [(3064, 8.770774598290268)]), (251398, [(1660, 8.014673041178629)]), (52141, [(4241, 5.302447555441433), (3132, 4.033333347999999)]), (25890, [(2725, 8.5)]), (203742, [(4166, 8.75)]), (269244, [(3356, 7.121457854077818)]), (108213, [(774, 9.490037932796634)]), (172539, [(2026, 8.469891393884419)]), (235173, [(3609, 6.8), (4924, 6.8)]), (141070, [(480, 9.194267880928264)]), (30333, [(67, 5.591437814623741), (645, 5.428571428571429)]), (168016, [(1840, 7.503968253955026)]), (1848, [(620, 9.489173105954562), (778, 6.833333353333334)]), (192185, [(69, 8.5), (1493, 8.5), (1367, 8.5), (5184, 7.323529423529412)]), (123608, [(471, 7.908225264495382)]), (41757, [(5080, 7.285714285714286)]), (176256, [(546, 7.962769756356685)]), (46690, [(3064, 6.75)]), (246175, [(4953, 6.75)]), (150932, [(4612, 9.38888888), (2606, 8.5)]), (110110, [(6725, 8.4), (2840, 8.4), (5777, 7.114285727142858)]), (277710, [(178, 6.990683300156405)]), (4221, [(1234, 6.451923096153846)]), (56246, [(5093, 7.5299999822), (4662, 5.75), (160, 5.75)]), (114498, [(70, 10.100950454900001)]), (233529, [(1051, 5.5)]), (7860, [(421, 8.768050525063918)]), (123430, [(997, 7.505717000069103), (1590, 7.201680407746306), (2064, 7.102679602892893), (452, 6.966666668666668)]), (268761, [(1610, 7.5)]), (60157, [(3220, 9.428571428571429), (3581, 9.180555561175595)]), (91130, [(5530, 8.227564099759617)]), (77860, [(449, 8.159999990400001)]), (11788, [(876, 8.0)]), (120345, [(1499, 7.801488455831023), (4511, 7.75)]), (116866, [(1144, 8.020000001775)]), (174633, [(622, 10.638461528076922), (574, 9.6)]), (91685, [(3690, 7.5)]), (244189, [(98, 8.550595238199405), (3513, 7.571428571428571)]), (228727, [(460, 8.340476184404762), (4126, 7.733333333333333), (1645, 7.733333333333333)]), (182599, [(274, 9.573012277903281), (1269, 8.545670366002746), (160, 8.211247156067772), (77, 7.883975091170284)]), (278026, [(254, 8.626375379794894), (151, 7.352769052439904), (260, 7.136363636363637), (261, 7.008160692808426)]), (148239, [(2545, 6.9901960734803925), (1284, 5.428915161344806)]), (26517, [(1451, 7.657772529903515), (2021, 7.3), (3720, 6.4875000040624995)]), (186533, [(611, 9.22222222861111)]), (226349, [(720, 8.316540388771728)]), (175278, [(1713, 7.453781503781513)]), (248131, [(3539, 9.5)]), (264355, [(1856, 5.131775509584934)]), (129851, [(1289, 7.556510744608018), (4865, 6.866666666666666)]), (98783, [(4481, 8.066666666666666), (3993, 8.066666666666666)]), (114581, [(1393, 9.090909090909092), (4508, 9.090909090909092), (4659, 8.265418898958112)]), (141902, [(6548, 11.68055553), (657, 9.451243119873785), (5896, 6.153571458285714)]), (17282, [(58, 8.452272713749998), (1586, 7.217681159184927), (1611, 7.1), (392, 6.600000004999999)]), (123625, [(5957, 7.856060604337122), (5381, 7.166666666666667), (3135, 7.166666666666667)]), (262407, [(2890, 8.03356481214699), (3386, 7.5), (20, 5.564326419165598)]), (253580, [(405, 7.710046518399182), (1083, 7.549230761430769), (5818, 6.769230769230769)]), (61704, [(2549, 10.21839105081118), (1427, 8.666666666666666)]), (142398, [(3550, 7.333333333333333), (1370, 7.333333333333333)]), (144727, [(379, 9.872696678668358)]), (163467, [(1046, 7.145833330208333)]), (166646, [(3380, 8.826923068653846), (1179, 6.5000000149999995)]), (208019, [(1969, 9.64444442125441), (5372, 8.461685813582376), (3717, 7.444444444444445)]), (69188, [(128, 8.142857142857142), (6042, 8.142857142857142), (1109, 8.142857142857142)]), (278202, [(321, 1.1465137217563983)]), (269378, [(2581, 6.863049081421189)]), (144555, [(3072, 10.148104567952288), (5332, 9.720432614109606), (1441, 9.279070428595839), (6041, 8.705882352941176), (1195, 8.65742755405902), (2044, 8.582716532229128), (492, 8.241596640203081)]), (36157, [(946, 7.25), (972, 7.25), (726, 7.25)]), (176887, [(208, 8.122678569693305), (501, 7.318880461332445)]), (85587, [(6162, 8.125), (6398, 8.125), (2770, 7.12500001)]), (111390, [(3314, 4.8)]), (198726, [(5021, 10.106258886938122), (419, 9.4)]), (277873, [(190, 9.132352932352942)]), (43626, [(4276, 7.0), (3475, 5.418604666976744)]), (26521, [(297, 8.0), (1586, 8.0), (3846, 7.826923078653846)]), (71587, [(2950, 6.025641032307692)]), (107510, [(2604, 5.72158355674156), (5073, 5.166666666666667), (5047, 5.166666666666667), (3475, 3.5852713336434108)]), (117594, [(832, 9.405228751895427), (2548, 8.777777777777779), (1743, 8.345278314773696)]), (212631, [(28, 7.8)]), (155580, [(34, 8.210379111140794), (61, 7.651047712966767), (1317, 6.352380966190475), (1294, 6.304235775823257)]), (140340, [(241, 6.992509587268735), (2420, 5.994594608648649)]), (215942, [(1416, 7.5473684115789474)]), (123867, [(2037, 8.920329598626477), (1964, 8.813280603000747)]), (168999, [(2918, 8.120309046889645)]), (204167, [(5941, 2.6666666666666665), (2185, 2.6666666666666665), (6656, 0.41894773595447665)]), (134005, [(590, 8.456369341515128)]), (40772, [(5005, 6.875)]), (178058, [(4512, 7.5368279576998205), (4226, 6.793956053516483)]), (98574, [(1229, 8.281026788511719), (4028, 7.724324327702703)]), (138849, [(1624, 7.919567797125155)]), (188878, [(4512, 3.3125000293749993)]), (134556, [(4902, 9.554347813043478)]), (272423, [(319, 10.43859648017544), (1836, 9.383333332833335)]), (32569, [(4470, 10.719047597857141), (3873, 9.004127008717356), (433, 8.869314314969484), (4475, 8.431602438903997), (4474, 6.178354512788696)]), (95173, [(384, 8.432354549522998), (938, 7.727080385013789), (61, 7.114944138404174), (883, 6.7059642088216105), (1916, 6.426215225813381)]), (276071, [(995, 7.905648272697879)]), (243891, [(1498, 6.047126129701969), (3654, 5.833333333333333)]), (275476, [(1293, 6.333333333333333), (1691, 6.333333333333333)]), (251122, [(2795, 9.186520370242947), (5764, 8.0)]), (32275, [(4457, 8.2)]), (113983, [(456, 8.228833334125667), (3535, 6.478828832649399), (3512, 5.541666687499999)]), (178322, [(1286, 6.887912077604396), (1690, 5.871527777741815), (428, 5.506489282869577)]), (32188, [(4452, 8.25), (140, 7.954312026579518)]), (110382, [(429, 7.5), (634, 6.846145041729249)]), (19429, [(3290, 6.08641358766933)]), (3817, [(1104, 9.599999984), (1102, 9.359840225590052)]), (76173, [(4807, 6.492247032579892), (3286, 5.708088727956676)]), (82831, [(432, 8.390804596954023), (3888, 8.198400628906013), (916, 8.166666656666667)]), (204676, [(3675, 9.421600345517788)]), (194273, [(6609, 8.27272727)]), (183101, [(1567, 6.2058531209212155), (2059, 5.767045459034091)]), (245568, [(5344, 7.076923076923077), (6451, 7.076923076923077), (124, 7.016213577288075)]), (20347, [(1451, 9.222718989673314), (378, 9.0), (3405, 9.0)]), (98958, [(4345, 6.857142857142857), (1397, 6.732142858392857)]), (57200, [(5610, 8.8), (3558, 8.0800000072)]), (211944, [(451, 8.881359319374944), (6422, 8.666666666666666)]), (213760, [(57, 7.906690746429524), (4815, 7.888888888888889)]), (20115, [(2031, 10.033009185156788)]), (202182, [(1488, 8.4)]), (53520, [(5578, 6.666666666666667), (161, 6.354166669791667)]), (121817, [(1055, 6.450984971213095), (77, 6.1496948519436865)]), (96055, [(581, 8.277902098846294), (1328, 8.146231406997229)]), (210791, [(268, 7.195734991256563)]), (77960, [(492, 6.0), (2307, 6.0), (5624, 6.0)]), (270121, [(4916, 7.5)]), (196228, [(4106, 9.6)]), (48217, [(5304, 8.631808573453533), (5172, 8.071428571428571)]), (15497, [(2911, 7.202702695675677)]), (174827, [(4503, 6.142857142857143), (5610, 5.642857147857143)]), (103656, [(4629, 9.5)]), (60797, [(5666, 6.8), (5117, 6.8)]), (115971, [(608, 10.510688451535257)]), (137986, [(809, 6.442307690384616)]), (76168, [(276, 7.788085686800091), (6210, 7.181818181818182), (981, 6.968058131418512), (2293, 6.46867532810161), (2507, 4.130536162232792)]), (233903, [(4042, 8.181818181818182), (1609, 8.181818181818182), (6068, 7.681818186818181), (3772, 6.890151528068181)]), (100009, [(1220, 7.6372222227124995)]), (274380, [(285, 7.956490562025534)]), (38718, [(2677, 7.928571432619048), (4925, 6.78847480078694)]), (246246, [(2524, 7.59090909)]), (236595, [(3590, 7.5)]), (43639, [(771, 7.738095244404762)]), (193819, [(3078, 10.476923056117945), (4952, 8.443406064462918)]), (100610, [(2044, 8.75)]), (16755, [(3063, 6.4)]), (32329, [(3842, 7.291116562845774), (3260, 6.84926403932106)]), (7134, [(1674, 7.958333331041667), (1678, 7.5)]), (245649, [(643, 8.160054745125233)]), (115956, [(3743, 9.333333333333334), (3349, 9.333333333333334)]), (12917, [(2575, 8.548303286925362), (1490, 8.488660204175941)]), (221008, [(1636, 7.6220930195348835), (1886, 7.277149321131222)]), (58342, [(157, 10.250732745257062), (5737, 9.12435897573718)]), (226713, [(783, 8.666041850971501), (3790, 7.428571428571429)]), (220122, [(3789, 6.314256521986781), (5487, 5.3)]), (171050, [(344, 9.3656174283293), (1855, 8.994593543115169)]), (89057, [(1587, 5.907754304159573)]), (52002, [(2193, 9.498313595083987)]), (7352, [(1727, 6.499999996666666), (1724, 6.166666666666667), (1729, 6.058592376422123)]), (27821, [(4025, 5.2)]), (258107, [(5268, 7.4)]), (125701, [(710, 10.258064503548386), (4007, 9.0)]), (226462, [(1828, 7.0)]), (68383, [(3669, 9.472899131829946), (625, 9.4050000022)]), (37147, [(458, 9.040378994060447), (308, 8.95454545)]), (65183, [(653, 8.5), (2505, 7.62500000875)]), (237271, [(4344, 7.968203487344993), (2726, 6.889449352800451)]), (250936, [(2140, 7.680555554305555), (327, 7.555555555555555)]), (131974, [(1841, 7.714285714285714)]), (13604, [(2077, 10.124999982083335), (2721, 8.862745092745099), (1455, 8.666666663333334)]), (202195, [(2311, 7.072819972855656), (612, 6.956812738604286)]), (125779, [(5229, 6.938835468852831), (6625, 6.6923076923076925), (5426, 6.6923076923076925)]), (2337, [(911, 9.565476173392858), (912, 8.222210011479877), (397, 8.092982846123267), (581, 7.829276321619976)]), (65946, [(3356, 6.166666666666667)]), (187904, [(3458, 9.476111108730555), (6756, 9.0), (3540, 9.0), (2282, 9.0), (1190, 8.067307696971154)]), (241527, [(5905, 7.4), (3872, 7.4)]), (267596, [(4209, 9.337500000625), (614, 9.136842107894736)]), (92696, [(5868, 8.6)]), (83496, [(573, 7.232041208660152)]), (90049, [(1574, 7.578505251404154), (3697, 6.5), (1309, 3.327385898176399)]), (142017, [(3660, 7.2812499921875), (3279, 6.5)]), (137816, [(2482, 9.378947342631578), (3509, 7.86451611774353), (1152, 7.195426549747466), (3576, 6.80000001)]), (58792, [(1990, 9.0)]), (172010, [(503, 9.943672490834183), (6617, 9.60606061)]), (59267, [(4206, 8.2)]), (266457, [(2068, 7.42452830264151)]), (39513, [(1743, 8.594009412966757), (1526, 8.428571428571429), (4967, 8.428571428571429)]), (129465, [(224, 7.867932439620061), (5256, 7.555555555555555), (5932, 7.443230381292007), (2848, 6.355555561555555)]), (259006, [(4290, 8.584229394148746), (3048, 8.542231424339732), (5663, 8.086288417990543), (3954, 7.447990552033097), (3522, 7.346330961130092)]), (20149, [(1099, 7.25), (2631, 7.25)]), (138239, [(4773, 10.129597694251437), (2014, 9.63888888)]), (185087, [(6038, 8.44444444), (5645, 8.0)]), (219353, [(5780, 7.25)]), (126487, [(4709, 5.2)]), (130837, [(300, 9.444444431111112), (5676, 8.11111111111111)]), (9094, [(2057, 9.518987346582279)]), (110493, [(2278, 8.214285713214286), (442, 6.732021736281795)]), (6345, [(776, 8.611111116666667)]), (124720, [(1061, 7.616101292960662)]), (81609, [(3759, 8.5), (3543, 8.5)]), (162219, [(2417, 5.331047618385524)]), (67085, [(2961, 6.544194485152642)]), (221327, [(2304, 5.75), (6909, 5.75), (3353, 5.75)]), (81121, [(4823, 10.304163175537107), (3421, 8.263157894736842)]), (196148, [(845, 11.203538579223117), (112, 10.81257840825037), (5790, 10.495108313514018), (844, 10.29056261353715), (6518, 9.90000001)]), (146057, [(6566, 9.276785715401786), (3290, 9.183823530202206)]), (223238, [(586, 5.23015872734127), (5494, 4.666666666666667)]), (256844, [(611, 8.063888882944445)]), (135398, [(3539, 8.805555551759259), (85, 8.033941708904306), (4279, 7.055555561666667)]), (44472, [(643, 10.248077997363438)]), (158043, [(1964, 7.504029307509157)]), (69512, [(1069, 10.592307680384614)]), (159834, [(4839, 9.237132345284927), (5088, 7.705882352941177), (837, 7.549632353722426)]), (137211, [(1451, 7.8458912824837705), (4298, 7.615384615384615), (800, 6.8450674625328585)]), (105115, [(1372, 10.66289180359454), (2732, 9.546153845423078)]), (114217, [(54, 8.084391169828386), (165, 6.85714286)]), (44932, [(3479, 7.4)]), (250405, [(5634, 9.6), (241, 9.6)]), (164480, [(5985, 7.676470586470589), (232, 7.486263736332417), (3440, 7.3888888900000005), (925, 6.636730901414427)]), (32991, [(942, 9.0)]), (36043, [(4178, 9.627777764000001)]), (200643, [(3315, 10.344210394458141), (2604, 9.117647058823529), (1788, 8.133325218955855)]), (159863, [(3017, 6.836148646967906)]), (28865, [(127, 9.986768961207678), (265, 9.937036070065954), (4135, 9.333333333333334)]), (32641, [(3690, 7.538596490201754), (1268, 7.346383953955389)]), (203017, [(6218, 9.5), (1166, 8.904887721641321), (1782, 8.700000008), (439, 8.690940862911917)]), (269308, [(434, 8.567084075876565), (1448, 8.204807691795674)]), (4795, [(886, 9.822603072898909), (458, 8.814397861887334)]), (229313, [(1909, 9.423066097315902), (3119, 9.392723250805552), (243, 8.582776344899031), (2356, 7.922623938767931), (1237, 7.770532516429685)]), (165268, [(169, 7.336478199008566), (2326, 7.3)]), (6671, [(1614, 4.5)]), (27891, [(661, 9.69047617857143)]), (245328, [(1058, 8.281379465333599), (2917, 7.456851596979611)]), (276463, [(537, 10.375189995946426), (3189, 9.872183739581109)]), (216260, [(6720, 9.102564094871797), (2318, 8.333333333333334)]), (1548, [(590, 8.393865346122332), (719, 7.625)]), (65913, [(2167, 9.166666666666666), (626, 9.166666666666666)]), (66640, [(136, 9.128571421571428), (2829, 8.21799620757894)]), (41760, [(777, 6.409188033165065), (2687, 6.0)]), (54492, [(3088, 8.340731082694399)]), (94997, [(3372, 8.333333320000001)]), (217516, [(3665, 8.084502742146267), (1759, 7.311270124917263)]), (86123, [(781, 5.9709370865058204), (68, 5.798179272778992)]), (16231, [(880, 6.480769228461538), (3005, 6.25)]), (4197, [(1233, 6.857142857142857)]), (177262, [(1781, 9.121794867852564), (5858, 8.333333333333334)]), (172216, [(6070, 10.087402191652043)]), (109122, [(4773, 9.918269227427885)]), (197000, [(5721, 9.333333333333334), (6515, 8.052083346145833)]), (176667, [(1780, 8.856371252312979), (3667, 8.183486139099966)]), (221050, [(500, 6.7499999925), (3657, 6.210559005158385), (1082, 3.3333333599999992)]), (108261, [(1730, 5.5), (1615, 5.5)]), (205538, [(2543, 7.0)]), (91634, [(954, 9.746241043700556)]), (84146, [(96, 7.410327795731801)]), (166825, [(1968, 8.833333323333333), (657, 8.479432310467887), (3156, 7.342644646776184), (6078, 7.033333341333332), (1684, 6.817204304462365)]), (42651, [(1505, 7.997603446191704), (20, 4.009314193325547)]), (214315, [(1543, 9.281746033306877), (2040, 9.033900932018918)]), (276847, [(4, 10.291666665208334), (0, 10.0)]), (651, [(566, 6.333333333333333)]), (241799, [(5833, 9.883942449658397)]), (14897, [(340, 10.12499998625), (2845, 8.75)]), (253482, [(472, 9.656923058444178)]), (146207, [(736, 6.682940411199823), (2173, 5.576221652029068)]), (167556, [(2707, 9.499999978852895)]), (72785, [(6144, 6.8), (730, 5.278260884782608)]), (74687, [(2138, 7.0)]), (151537, [(5263, 9.333333313333334), (214, 7.197621635261318)]), (178733, [(2608, 10.0)]), (258011, [(182, 7.625)]), (249732, [(2444, 8.371495320245327), (1475, 7.0), (3378, 7.0)]), (249650, [(1372, 8.700807555977379)]), (190844, [(2662, 6.076923086153846), (2721, 6.00000001)]), (23680, [(608, 9.867990631775701), (3355, 8.795212754255319), (3673, 7.979838706080088), (3585, 7.625), (2173, 6.910714288095238), (144, 6.270454552227273)]), (91428, [(1897, 9.313863961457532)]), (50098, [(3596, 6.5)]), (251093, [(4483, 6.335196688551759), (2164, 5.764411035639098)]), (95509, [(1728, 10.015151490000001), (1775, 7.5), (1471, 7.5)]), (108752, [(1872, 10.602299612657374), (5066, 10.198979587346939), (2718, 9.503696605971323)]), (205919, [(3427, 6.642857142857143)]), (50749, [(790, 8.125)]), (72190, [(140, 6.710119042068452), (6127, 5.6)]), (52159, [(222, 7.633589461512153)]), (253403, [(4600, 8.333333333333334), (6546, 8.333333333333334)]), (192462, [(5323, 6.777777777777778), (4979, 6.777777777777778)]), (176094, [(1104, 8.192929290286196)]), (52293, [(781, 9.194301069783064), (2910, 7.0)]), (275020, [(2585, 7.166666666666667), (1949, 5.980666081171137)]), (243863, [(6227, 6.0), (1575, 6.0)]), (118320, [(4386, 6.670000000932952), (3039, 5.871827078613391)]), (204790, [(440, 9.204285704264286)]), (250851, [(675, 6.666666666666667), (1104, 5.743589752820513)]), (242143, [(2961, 8.145184414263477), (3042, 7.9411764705882355), (1193, 7.520182707027914)]), (26134, [(424, 5.0), (237, 4.675675678918918)]), (238246, [(6079, 7.153846153846154)]), (171444, [(244, 6.5)]), (233427, [(6729, 8.25)]), (143809, [(4183, 8.5), (1205, 8.071419525168709)]), (39087, [(2275, 9.703703696666667), (1045, 9.702499997658334)]), (100648, [(3509, 7.514285712050773), (576, 7.3), (4221, 6.96666667)]), (189115, [(551, 7.25)]), (154975, [(1789, 8.562362218973597), (3071, 8.222222222222221)]), (94094, [(3459, 6.5)]), (34840, [(3050, 8.921568621568628), (503, 8.424242423333334)]), (8930, [(1499, 8.378833989245123)]), (14180, [(2758, 8.19408602136828)]), (25827, [(1169, 8.35438559800192)]), (50539, [(2063, 8.32991202681085)]), (215256, [(4161, 8.047619033809525)]), (227250, [(4410, 9.75), (2485, 8.847266141914279)]), (16383, [(3020, 7.026167581852164)]), (78573, [(1464, 7.0), (416, 5.788888894944445)]), (12702, [(2373, 8.25), (1179, 7.784482763275863)]), (170499, [(5601, 9.201680661680673), (693, 8.556308820024636), (983, 8.142857142857142)]), (46541, [(1625, 6.646391220933334)]), (18082, [(3221, 8.986111104027778), (2342, 8.277777777777779), (3223, 8.277777777777779), (3220, 7.713261654390681), (2820, 5.90935674883041)]), (174501, [(1284, 8.0)]), (211152, [(2690, 10.299667170415386)]), (112240, [(5432, 6.5), (6742, 6.5)]), (172119, [(1055, 8.336878148215787), (1205, 7.668951091696174), (3156, 6.549393944980303)]), (45911, [(2844, 7.687873004967274)]), (102275, [(4771, 8.689250224128275), (1500, 8.658072440964206), (1085, 8.518518518518519), (3156, 8.311166916245918), (3006, 8.154882158524805), (3948, 7.705063007948828)]), (185254, [(4323, 10.80213823360714), (6704, 10.606938272847296)]), (266164, [(2875, 7.657349264082768), (1296, 7.403703529487354)]), (276038, [(1574, 10.173160167294373), (5865, 9.99999998998616), (1071, 9.285714282857144)]), (7312, [(1158, 9.0), (1721, 9.0)]), (269719, [(1909, 7.6), (715, 5.6000000199999995)]), (144899, [(3729, 3.775000031)]), (175271, [(1812, 9.172126445569733), (2189, 8.731988255015406)]), (60392, [(2212, 7.095454542500001)]), (77816, [(905, 7.25)]), (273071, [(5710, 7.4), (6770, 7.4)]), (91832, [(6257, 9.333030842822142), (2744, 8.653950392097238), (4856, 8.436999792609177)]), (85656, [(1380, 9.125293834481832), (5355, 8.61111111111111), (6138, 8.61111111111111)]), (60079, [(1620, 2.5980392447058813)]), (88416, [(485, 5.0), (5763, 5.0)]), (20032, [(3343, 7.737179482307693)]), (122096, [(5190, 8.285714285714286)]), (114007, [(2748, 7.5), (896, 6.461039341563108)]), (45471, [(665, 7.473151185838768)]), (99068, [(2963, 5.918269233677885)]), (93241, [(2044, 9.00317095704567)]), (122867, [(6734, 8.784679089751554)]), (137118, [(2478, 6.520840338393331), (183, 6.222027913443483), (6850, 5.666666666666667)]), (103336, [(6652, 7.833333333333333), (957, 7.663499928588258), (310, 7.448717950641026), (1071, 6.667802199445729)]), (169400, [(2001, 7.199999988), (3745, 6.682629867854438)]), (220484, [(1894, 7.49999999)]), (195943, [(784, 8.284106887421473), (1732, 7.0)]), (150890, [(784, 10.35256408153846), (1979, 9.173076913846154)]), (105572, [(6674, 7.666666666666667), (3380, 7.494306419081263)]), (104705, [(1067, 9.136956522304347)]), (86408, [(6416, 8.473684210526315), (4125, 7.815147631745828)]), (273197, [(1590, 8.0), (3242, 8.0)]), (177073, [(2007, 9.77272726)]), (54193, [(407, 6.663498191883742)]), (210921, [(3678, 7.3410852745736435), (407, 5.882940117811555)]), (272715, [(630, 7.912433011594547), (6072, 7.666666666666667), (845, 7.666666666666667)]), (5439, [(1290, 8.230769228461538), (1288, 7.534482763275863)]), (33614, [(1272, 9.11199734262224), (141, 8.6)]), (104123, [(1700, 7.0)]), (62688, [(5861, 7.571428571428571)]), (259380, [(2291, 8.817982444210527)]), (196018, [(6835, 7.0)]), (135996, [(4147, 7.027014158460129)]), (131510, [(70, 9.624219201249272), (1444, 7.915000001675)]), (72707, [(2013, 7.7115975448707115)]), (200585, [(2504, 9.166666666666666)]), (79182, [(4756, 7.0)]), (214244, [(691, 8.333333333333334), (679, 8.333333333333334)]), (185497, [(127, 6.0799999792), (884, 0.20000003799999977)]), (250543, [(2875, 11.447916648854166), (3084, 9.404300630583927)]), (12348, [(165, 7.648275847586207)]), (28076, [(4042, 5.0), (4040, 5.0), (4041, 5.0)]), (122802, [(1187, 7.2)]), (139462, [(1285, 8.0), (1481, 8.0)]), (76019, [(2641, 8.265749020276424)]), (39502, [(4964, 5.166666666666667)]), (69460, [(6064, 5.418604676976743)]), (69012, [(704, 7.494877426010323), (214, 6.426068380481482)]), (138955, [(613, 6.87500000875)]), (95025, [(6539, 8.693943941724225), (1715, 8.25677021104872), (6309, 8.25), (6071, 8.25), (6441, 7.6666666725)]), (37573, [(339, 6.4)]), (100578, [(2958, 8.98278119372703), (2940, 7.769230769230769), (1112, 4.644230800480768)]), (260067, [(434, 8.464921830586501), (5859, 7.107136898311217)]), (65032, [(2009, 4.625)]), (87820, [(2424, 7.055555558333333), (1442, 6.876042734135853)]), (133296, [(4596, 9.641026823474073), (1161, 9.505486334540345), (605, 9.22716751109033), (3218, 9.153439154153439)]), (217513, [(6150, 5.666666666666667), (1884, 5.4149659939002275)]), (275228, [(2701, 7.242990651775701), (1809, 7.0)]), (170693, [(5552, 6.6547618957142864), (4080, 5.471698851535664)]), (54884, [(500, 9.849562819580118), (77, 8.444902342341623)]), (176902, [(465, 9.973495513726117)]), (116549, [(465, 7.728907547322303), (2228, 7.2)]), (28594, [(570, 7.090909090909091)]), (233889, [(5685, 8.0), (4042, 8.0), (414, 7.675747203863859)]), (16488, [(1777, 8.834632031958876), (279, 7.4005997305613)]), (167517, [(407, 7.2130343478937355)]), (176576, [(50, 7.620660444493738), (2408, 7.333333333333333), (1515, 7.333333333333333), (1972, 7.333333333333333)]), (86051, [(1091, 7.738610059664115)]), (61668, [(2205, 9.333333333333334), (1158, 9.333333333333334)]), (270666, [(1384, 6.75)]), (68729, [(6031, 7.0)]), (24379, [(247, 6.722222237499999)]), (48382, [(5315, 9.0)]), (151263, [(4028, 7.333333333333333)]), (42466, [(2319, 8.166666666666666), (3920, 8.166666666666666)]), (57713, [(1382, 5.124311015147435), (5044, 5.083333335000001)]), (204455, [(494, 6.75)]), (61854, [(359, 7.605555553986112), (5837, 7.291666666666667), (767, 7.1532665707501275), (707, 7.123879731589465)]), (217444, [(2124, 6.801294696166527)]), (251890, [(338, 9.13888887), (5621, 7.25)]), (177157, [(1601, 8.582417570879121), (592, 8.436813183452381), (829, 7.851538783049635), (367, 7.7459593598850445)]), (182442, [(3447, 9.33281789492386), (3536, 6.843033515485009), (575, 4.165300025119455)]), (210481, [(4983, 8.214285702142858)]), (77307, [(597, 9.891021063787768)]), (130258, [(2269, 7.0), (6048, 7.0)]), (54374, [(1642, 9.5)]), (245102, [(6158, 6.000000016666667)]), (200978, [(781, 6.524725277101648)]), (264628, [(2864, 8.22549310110927)]), (197687, [(4851, 8.142857142857142), (3837, 8.142857142857142), (3048, 7.086287098661103)]), (270829, [(2211, 8.25)]), (224927, [(486, 7.990368940026168), (5225, 7.75)]), (204333, [(3201, 8.75)]), (7958, [(388, 9.020776155363178), (1790, 8.502392347655503), (1785, 8.432216909760765)]), (76001, [(4554, 9.525769067596157)]), (93130, [(3824, 7.8333333283333335), (3827, 7.668737556060981), (3825, 7.583333337083333)]), (141719, [(2725, 7.38032229882117)]), (28091, [(1600, 5.8)]), (151122, [(1293, 7.783539726514448)]), (257534, [(5734, 8.25735769288926)]), (277945, [(222, 7.0)]), (260419, [(627, 9.931375029265856), (1903, 9.090909090909092), (3903, 8.312064749443504)]), (149071, [(4809, 8.592592576666668), (465, 7.730787187894244), (51, 7.490040193734795), (6667, 7.177419358951613)]), (20484, [(1865, 7.0)]), (54968, [(2269, 6.2), (3666, 6.2)]), (99720, [(338, 9.29952941156541), (6579, 8.789473684210526)]), (8089, [(1045, 6.5030666298172)]), (115907, [(3803, 6.666666666666667), (2646, 6.666666666666667)]), (49392, [(774, 8.99852808923627)]), (66483, [(1, 9.861111117407408), (5958, 9.75)]), (210923, [(4966, 7.25)]), (128040, [(4774, 9.25)]), (85554, [(3786, 7.428571428571429)]), (124474, [(4310, 7.151515152386364)]), (209985, [(1114, 9.434210519473684)]), (248221, [(696, 9.278132932556108)]), (61354, [(1960, 9.228260859782608)]), (226702, [(144, 5.899450554239011)]), (222501, [(371, 6.0)]), (66443, [(665, 8.422230065610995), (4582, 7.666666666666667)]), (6431, [(480, 9.316934809406083)]), (127782, [(218, 5.857142857142857)]), (45064, [(2988, 5.5)]), (50612, [(5400, 10.023809520238094), (486, 9.488752053138205)]), (260520, [(2079, 8.442253522915493)]), (33999, [(4414, 7.923076923076923)]), (8187, [(267, 8.068430921126623)]), (258151, [(3882, 7.8189393930031565), (4314, 7.637560649789725)]), (39662, [(70, 7.306349203661376), (3616, 6.5), (2345, 6.189103011432121)]), (162762, [(6491, 7.0), (707, 6.8147727281988635)]), (126824, [(2864, 8.126748022882675)]), (79172, [(1332, 9.0)]), (174195, [(5243, 7.571428571428571)]), (88299, [(2158, 5.0)]), (278137, [(281, 7.738095237142857), (273, 6.6904762)]), (185140, [(3941, 7.6559356128370215), (2705, 4.5343915495767195)]), (166492, [(3136, 8.714491025188197)]), (167587, [(410, 7.809772282789525), (124, 7.645972724169062), (217, 5.6022727437499995)]), (241548, [(629, 9.414215682732841), (1836, 8.705882352941176), (1862, 8.250475287941704), (4655, 7.646800020084482), (106, 7.1012312061969896)]), (197664, [(5732, 8.0)]), (97179, [(4516, 6.25868575539923)]), (233719, [(1946, 8.958333313750002)]), (194425, [(650, 7.75)]), (16781, [(3069, 7.142857142857143), (3070, 7.142857142857143)]), (216057, [(3022, 9.0)]), (238010, [(6012, 10.119047607841654)]), (92215, [(5851, 6.714285714285714)]), (222488, [(0, 9.777777777777779)]), (94952, [(4912, 6.666666666666667)]), (230699, [(2554, 6.361111114305555), (2354, 5.6267679893297675)]), (75115, [(1488, 8.4)]), (259430, [(6791, 6.052631578421052), (2070, 5.882860940885832)]), (167562, [(3713, 8.176515149823864), (908, 7.5)]), (123143, [(533, 9.75), (3718, 9.75), (70, 7.87625911913679)]), (204571, [(3378, 8.833333333333334), (43, 7.892857152261905)]), (138674, [(5049, 7.5), (241, 7.5)]), (194514, [(3899, 10.184697848576999), (1061, 8.75)]), (209464, [(1385, 9.346543775069124), (5477, 8.6)]), (57124, [(43, 9.285714272857144), (1682, 8.05882352882353)]), (272810, [(3669, 9.0)]), (37874, [(976, 7.666666666666667), (1122, 4.291666700416666)]), (247840, [(6268, 10.633333317880673)]), (80684, [(41, 7.402995236330719)]), (162121, [(3286, 5.659286628565053)]), (65370, [(5291, 7.181583620387071)]), (259542, [(975, 6.866666654666667)]), (91203, [(1644, 8.232142848392858)]), (60278, [(4317, 6.75)]), (223954, [(1942, 7.496104879246882)]), (208788, [(51, 7.25)]), (19972, [(1909, 8.25)]), (42948, [(552, 9.0), (4018, 9.0)]), (208468, [(4193, 6.782608697826086)]), (46293, [(2166, 9.18687186705407), (2614, 8.630398135344254), (5241, 8.464285712142857)]), (130482, [(1781, 7.963235291801471), (3441, 7.5)]), (71831, [(6119, 6.75)]), (115997, [(4819, 7.25)]), (101887, [(2665, 9.25)]), (81045, [(1056, 8.857142857142858)]), (153513, [(4398, 6.5730682795043425)]), (62172, [(3521, 9.627450963616777), (3092, 9.499999985), (622, 7.641602143204435)]), (37817, [(4880, 8.114942524252875), (180, 7.868298367626263)]), (176102, [(5337, 7.204081631632653), (2231, 7.0)]), (139141, [(6296, 5.714285714285714), (4041, 4.825396834285714), (5886, 4.496894422111801), (5356, 4.252199249124045)]), (136916, [(367, 7.9582358152535955), (1303, 7.666666666666667), (3503, 7.666666666666667)]), (127621, [(165, 7.607534151225463), (2387, 7.494817070696647)]), (190789, [(1626, 6.575757566666667), (2977, 5.666666666666667)]), (245655, [(1901, 8.918583038482772), (4788, 8.145896650790274), (658, 5.8935439616369045)]), (211303, [(2884, 6.6), (4686, 6.6)]), (49526, [(2062, 7.75), (5366, 7.75)]), (248496, [(3934, 10.111111096111111), (1057, 8.61111111111111), (5012, 8.61111111111111), (5929, 7.7383517156507295)]), (168387, [(4885, 7.8), (3156, 5.845454565)]), (106369, [(801, 9.280793898890744)]), (191638, [(2392, 9.680952375880953), (937, 8.621212121666666)]), (128208, [(3194, 9.624999989375), (886, 9.388770719009464)]), (131027, [(2932, 7.566844927058824)]), (79736, [(5072, 8.484999991399999)]), (194205, [(1045, 7.75)]), (182086, [(5211, 11.193798443643411), (6241, 10.000000009999999)]), (277965, [(233, 9.020516143926505)]), (195041, [(2385, 9.666666656666667), (5550, 8.666666666666666), (4860, 8.666666666666666)]), (130978, [(388, 10.269254924690927)]), (130866, [(3668, 5.833333333333333)]), (241080, [(2064, 10.057954708889211)]), (216877, [(2357, 8.587474977994157)]), (164301, [(4769, 8.0)]), (201751, [(2521, 6.12499999875), (4290, 6.00000001), (2840, 6.0)]), (243984, [(5417, 9.021673335231625)]), (112590, [(777, 9.53372838268476)]), (235671, [(4308, 7.0)]), (138073, [(1477, 7.883015843282156)]), (230030, [(459, 9.01614832465311), (501, 8.167358807524916)]), (22167, [(3585, 7.0), (1398, 7.0)]), (258275, [(1491, 7.27454126351585)]), (217818, [(465, 6.763879210192916)]), (57234, [(239, 8.639699376726348)]), (116521, [(2856, 8.415948273157328)]), (237534, [(2879, 10.066233760902598), (1596, 9.325771269464818), (4600, 9.0), (1000, 8.797588196722572)]), (73548, [(6152, 5.886363638181818)]), (241239, [(5643, 7.455555558277778)]), (5037, [(169, 6.307431036415273)]), (57599, [(727, 8.557628163247731), (240, 8.448509854869524), (886, 8.343696543953376), (363, 7.181818186363637)]), (188484, [(3778, 7.20000001)]), (53265, [(2420, 10.426587303020833)]), (139467, [(3428, 8.142857142857142), (6435, 8.142857142857142)]), (181956, [(4735, 5.75), (1252, 2.5500000320000002)]), (75429, [(2401, 7.4)]), (111816, [(512, 8.333333333333334), (4264, 7.272108854149984)]), (19570, [(2121, 6.0)]), (248531, [(3286, 8.134493667088607)]), (5209, [(1275, 9.25)]), (143294, [(379, 9.246592108331715)]), (185538, [(2396, 7.75)]), (7890, [(1764, 8.0)]), (109605, [(1156, 9.625)]), (12123, [(410, 6.316866903170132), (2466, 5.761904764285715)]), (141491, [(2070, 7.095806221336487), (540, 6.780524568346709)]), (147947, [(4919, 6.324266974798419)]), (107288, [(2763, 6.079255322502659)]), (236267, [(5457, 7.17575758)]), (240495, [(5901, 7.666666666666667)]), (64075, [(3572, 6.75)]), (259378, [(637, 8.271985497149736)]), (202358, [(6871, 8.428571428571429)]), (223977, [(3458, 7.666666676666667), (6206, 7.666666666666667)]), (54622, [(578, 9.376190457190477), (1750, 7.476190476190476)]), (34932, [(1624, 6.428331342600014)]), (124747, [(124, 9.376616323647202), (4247, 8.857142857142858)]), (76815, [(3742, 8.333333333333334)]), (125928, [(4023, 6.916666666666667), (614, 6.549207468392759), (1765, 3.841194999308176)]), (230293, [(636, 8.563451362239858)]), (173511, [(739, 8.324374375500419)]), (108563, [(1538, 7.833333333333333)]), (171475, [(5702, 6.027777795)]), (218240, [(2794, 6.666666666666667)]), (168464, [(1073, 8.5), (1170, 8.5)]), (252347, [(4982, 5.465034987307693)]), (11120, [(1501, 7.603921570588236)]), (53256, [(886, 10.321428555357143), (1397, 7.371149648643923)]), (225989, [(3398, 8.920081964262295), (5448, 8.625)]), (134225, [(397, 8.958333317083333), (1415, 7.333333333333333)]), (34526, [(678, 9.37499998625)]), (276681, [(4492, 9.472727267863636)]), (271460, [(2333, 6.177014412239077)]), (260699, [(895, 7.842857142142857), (6877, 7.7), (1490, 7.557886810213752)]), (141511, [(533, 6.935878592121624), (1942, 6.082895385771246)]), (28731, [(243, 7.354231165803234)]), (210738, [(117, 8.88888888888889), (1323, 8.88888888888889)]), (86093, [(6183, 8.875)]), (53663, [(4678, 9.285714285714286)]), (256874, [(2921, 9.0)]), (243942, [(4658, 6.5), (2802, 3.8142857277142856)]), (164775, [(20, 4.172839544444443)]), (96054, [(1630, 9.114240907206353)]), (81303, [(3564, 9.325758391970266)]), (123468, [(581, 7.683169447520681), (3632, 7.621428563214286), (5792, 6.8)]), (57976, [(2000, 8.790209773846154), (4532, 7.153846153846154), (3584, 5.439560456703298)]), (131622, [(5574, 8.25), (4375, 8.222495245724113)]), (181995, [(6308, 10.464285697142858), (3048, 8.75)]), (239374, [(573, 7.033333317000001), (4895, 5.4)]), (100984, [(2532, 7.500494048466784)]), (145003, [(1701, 5.75), (6157, 4.846774202580645)]), (127970, [(4799, 10.0), (1316, 10.0)]), (225887, [(3106, 9.826619146618846), (340, 9.555884359124116), (4680, 9.0), (1267, 9.0)]), (216829, [(3122, 8.632467518285715), (5230, 8.270435441625287), (411, 7.235699280715802), (5405, 7.214285714285714), (1186, 7.112567041435882)]), (232067, [(531, 7.409998049241947)]), (95261, [(1465, 9.0)]), (250368, [(4273, 6.636363636363637)]), (269140, [(1504, 7.380120613822006)]), (130543, [(1723, 9.590080966209515)]), (33004, [(18, 7.511396011339031)]), (241861, [(6203, 7.313008118617887)]), (234165, [(6049, 8.157706088801236), (2292, 7.722222222222222)]), (69410, [(192, 10.346153827692309), (3458, 8.5), (1873, 8.5)]), (130847, [(2236, 11.9370629086014), (5154, 9.090909090909092), (2369, 8.92317229894271)]), (139376, [(4770, 10.0), (6414, 10.0)]), (174738, [(4823, 6.75)]), (152605, [(2920, 7.277972575260117)]), (91263, [(1433, 1.1904762485714278)]), (200213, [(4936, 7.0)]), (80105, [(235, 9.244169858412645)]), (134630, [(6033, 7.5)]), (31006, [(2223, 6.5)]), (149084, [(4893, 9.763546781822662), (70, 8.862354124316882), (2119, 8.652033729310102), (207, 8.29240112664614)]), (8935, [(1984, 10.299999984500001), (861, 8.75)]), (215753, [(5173, 9.5)]), (146175, [(2336, 8.5350000017), (2469, 8.51877046070499), (1106, 8.118686871207913)]), (3923, [(436, 6.787096770212184)]), (11400, [(2355, 8.334223139078127)]), (106131, [(18, 12.235294095294119), (1909, 10.0)]), (7841, [(1750, 9.095238088571428)]), (51403, [(5443, 8.471153845048077)]), (72214, [(4016, 10.030081286178861), (6129, 7.006666682266666)]), (90776, [(1147, 5.555555555555555)]), (17233, [(3151, 7.857142857142857)]), (56663, [(3690, 9.399999987999633)]), (250456, [(659, 9.533665553245294), (1593, 8.333333333333334)]), (252785, [(876, 9.562499989375), (3824, 8.5)]), (228868, [(384, 6.302377709630944), (404, 5.4346466959954)]), (253626, [(6733, 10.095081954262296), (5153, 8.99354838516129)]), (735, [(579, 7.333333333333333), (576, 7.333333333333333)]), (267334, [(2363, 6.5)]), (104051, [(1056, 8.147374239834145)]), (45987, [(4791, 9.66666665), (308, 8.0)]), (120548, [(2040, 9.6227272625), (3083, 9.529824556754386)]), (83971, [(533, 8.44212683599053)]), (148124, [(433, 9.914285687142858), (457, 5.322807036687547)]), (8314, [(1919, 6.8)]), (165516, [(41, 7.75)]), (99026, [(2091, 8.047474745094275), (5217, 6.966666670333334), (3150, 6.707692310820512)]), (162610, [(5110, 6.75)]), (56905, [(5388, 4.666666666666667), (3135, 4.666666666666667)]), (137336, [(4071, 10.445974551186442), (608, 8.78879690713442), (3775, 6.5282706128420696)]), (17159, [(3134, 8.5)]), (271588, [(167, 8.637973138030524), (267, 8.300000003666666), (2091, 7.054761912821428)]), (263663, [(68, 8.073120916794322)]), (104278, [(5891, 8.985645934066987)]), (117963, [(1590, 7.428571428571429)]), (181165, [(6808, 6.333333333333333), (2699, 6.333333333333333)]), (202353, [(592, 5.97361078923958), (3964, 5.857142857142857), (1082, 4.0577726427179055)]), (192727, [(614, 8.532895609634938)]), (145543, [(2920, 9.102262320426517)]), (108336, [(4072, 9.125)]), (254417, [(1156, 10.386666659466666), (643, 9.666666666666666)]), (115120, [(4771, 8.000750467116323), (973, 7.615384615384615)]), (20034, [(1962, 7.833333333333333), (3345, 7.657575758454545)]), (110112, [(2127, 6.111111111111111)]), (219387, [(6628, 5.75)]), (60703, [(5028, 9.355263146842105)]), (55858, [(1572, 7.474168358369352)]), (154346, [(1171, 8.25)]), (253005, [(4538, 6.916510321894308), (146, 6.734782614021739)]), (31412, [(657, 9.829195092858608)]), (170762, [(381, 9.890135051780186), (1586, 9.432253481661741)]), (99146, [(844, 9.0)]), (80234, [(6288, 6.251960795053922)]), (15144, [(254, 6.519607834607844), (2877, 5.666666666666667)]), (122901, [(2816, 8.25)]), (203805, [(687, 6.598596150949727)]), (6333, [(1460, 6.6)]), (119517, [(3910, 7.636363636363637), (4911, 7.50390749645428), (2144, 6.48827655603151)]), (98861, [(6596, 7.333333335)]), (276165, [(4678, 10.178571417619048), (225, 9.44535536405635), (5064, 9.185897434871775)]), (204255, [(581, 7.8)]), (163612, [(657, 8.45565178641216)]), (267648, [(3510, 9.0), (1659, 9.0), (1296, 9.0)]), (240113, [(267, 7.859307403235929)]), (160803, [(3647, 7.5), (688, 7.5), (1059, 7.5)]), (21364, [(503, 6.723224189011743), (1305, 6.710242578355795), (3505, 4.710242598355795)]), (231264, [(5714, 8.166666666666666)]), (929, [(623, 7.111111111111111), (625, 7.111111111111111)]), (164581, [(480, 8.748175846993473), (478, 8.090836347805245)]), (160548, [(1789, 9.237380951906191), (6094, 9.0)]), (120137, [(4885, 9.78282796823887), (6717, 8.200000009999998)]), (160881, [(337, 8.666666666666666), (6180, 8.666666666666666)]), (87108, [(2218, 8.142857142857142)]), (120155, [(339, 8.51561779981997)]), (44467, [(4527, 5.6), (4023, 5.6), (929, 5.26666667)]), (21618, [(1737, 8.632788795350917), (3540, 8.285714282857144), (127, 7.736086232781097), (2068, 7.016516249501727)]), (100115, [(6607, 8.0)]), (154791, [(244, 10.066666652)]), (265083, [(903, 8.830154378284188), (2144, 6.197580676935483)]), (54898, [(537, 9.648012758358547), (183, 9.521991429009665)]), (30712, [(4293, 9.047368411066492), (1504, 8.1)]), (198983, [(3689, 7.971428578571429)]), (161234, [(1074, 4.770823418159096), (5607, 3.425927840724321)]), (66485, [(2648, 9.63192333545068), (5959, 9.49047618677381)]), (170054, [(5042, 7.939130437394914)]), (10199, [(210, 8.751394635272906)]), (244517, [(1956, 7.704347813043479), (2671, 7.127272720000001)]), (236618, [(127, 9.104286035335528)]), (103445, [(641, 5.182773119758403)]), (98722, [(178, 6.75)]), (219955, [(2258, 6.016027992481023), (2265, 5.800346508208597)]), (161252, [(3718, 7.639316245185185)]), (82751, [(1736, 6.5)]), (84897, [(207, 6.3131223060907855)]), (204448, [(1006, 6.75)]), (23020, [(3633, 9.132467538285713)]), (69749, [(4553, 8.285714285714286)]), (50130, [(2829, 9.316666661333333)]), (209486, [(278, 8.829268284390245), (183, 8.69641851457947), (63, 8.0), (1347, 8.0), (20, 3.317948729653846)]), (75013, [(794, 8.941964282671131), (3780, 8.333333333333334)]), (150000, [(2718, 7.192272302983685)]), (232838, [(414, 7.77435897923718)]), (273906, [(4960, 6.866666679999998)]), (249111, [(3301, 8.695238080952382)]), (193612, [(5810, 4.333333333333333)]), (207686, [(1071, 5.806766919651316)]), (227654, [(731, 7.666666666666667), (51, 7.666666666666667)]), (112083, [(477, 9.48277563916281), (284, 8.630453397037673)]), (160434, [(2363, 8.5)]), (129358, [(3276, 8.618882745473519), (1734, 8.549848465014726)]), (230687, [(2872, 8.25), (614, 7.975410378447821)]), (136011, [(2948, 7.333333333333333)]), (88993, [(1298, 5.435897448205129)]), (92652, [(3147, 6.428571418571429), (5227, 4.866071431383929), (6496, 2.910714310892857)]), (215278, [(3932, 4.666666666666667), (650, 4.666666666666667)]), (237411, [(2077, 6.889321523836825), (316, 6.755001456801574)]), (223587, [(2350, 8.892286538547637)]), (234954, [(811, 8.500354611928191)]), (157163, [(2283, 7.220833328479167), (1802, 6.058510640243236)]), (205943, [(2998, 7.781818189999999)]), (261327, [(809, 5.958333337291667)]), (41111, [(4876, 9.494047612857143)]), (113259, [(2345, 7.2)]), (87929, [(2910, 10.298039194705883)]), (12784, [(545, 7.6031746044973545)]), (269808, [(1219, 8.521666494796062)]), (223325, [(6833, 7.250000002650236)]), (187520, [(665, 8.660612535434472), (6780, 8.625)]), (7864, [(1428, 7.740803638735635)]), (194639, [(1412, 6.964285727142857)]), (254467, [(1336, 9.946103890373378), (3593, 9.028571426285716)]), (94818, [(3048, 9.133561453757746)]), (112914, [(670, 8.760416645729167)]), (65665, [(562, 7.25)]), (128622, [(657, 9.694240730809437)]), (33816, [(352, 9.274838586096237), (1284, 8.20868204173151), (4050, 8.0), (451, 7.979739872222094)]), (208683, [(1451, 5.9335380575849435)]), (32148, [(3023, 7.145833336354166)]), (238541, [(611, 7.00137736924359), (274, 6.852211394383705)]), (172215, [(417, 9.110275685045949)]), (123790, [(2919, 8.766331241338806), (592, 8.481461879307714)]), (101035, [(546, 8.81332236310444), (215, 8.62499999125), (476, 7.75)]), (38818, [(36, 8.666666666666666), (4499, 8.666666666666666)]), (59499, [(1289, 6.758073888334891)]), (28454, [(1312, 8.00000001)]), (253106, [(423, 8.955782301700681), (207, 8.220748499973567)]), (38034, [(4888, 8.32833185357458)]), (234893, [(794, 9.77205881550245)]), (237407, [(1321, 8.6)]), (65145, [(1802, 7.0)]), (234565, [(1016, 7.903448270344828), (2349, 6.8), (1401, 5.6367433988256614)]), (100004, [(4319, 10.0)]), (256889, [(4985, 7.5)]), (23619, [(1141, 7.3823529323529415)]), (192733, [(1212, 8.698412701428571)]), (212411, [(146, 5.5), (3759, 5.5)]), (92156, [(4200, 7.333333323333333), (5596, 6.333333333333333)]), (37989, [(458, 9.20318447226797), (1898, 7.690773812546875), (3170, 7.538888893425926)]), (51589, [(3530, 9.081481456666667), (2656, 6.6)]), (151738, [(70, 9.769596702171352)]), (94334, [(6504, 7.81818182), (6532, 7.269230776538461)]), (158606, [(4164, 7.566433562587413), (6073, 7.181818181818182), (5190, 5.537373753946156), (5595, 5.481818198818182)]), (21660, [(2744, 9.596338263275937)]), (21252, [(1044, 8.645947192848338)]), (257024, [(1205, 9.917425491203298), (1045, 8.618136638716122)]), (117539, [(991, 8.79106995554417), (1289, 7.8257724731040765)]), (15945, [(2952, 7.0), (1412, 7.0)]), (275210, [(6810, 9.73106059), (1173, 8.125)]), (23699, [(693, 9.341860284136022)]), (259829, [(1140, 5.8), (3197, 5.8)]), (167494, [(560, 6.415204683722279)]), (61038, [(1574, 7.330737374910536), (240, 6.8941681231352625), (4438, 6.107660454296067), (716, 5.150274327729367)]), (67544, [(3306, 7.374344283898619), (5841, 6.566666677666667)]), (21207, [(545, 9.030517148945211), (2226, 8.2)]), (273336, [(5730, 9.25)]), (114813, [(2497, 6.553339615873577), (4482, 6.303571434285715), (160, 6.200993283958958)]), (249688, [(1058, 5.27282283245871)]), (51082, [(4945, 8.268902862010714), (334, 7.333333333333333)]), (134761, [(5283, 7.772152014022619)]), (121166, [(6428, 8.0), (6775, 7.964876033233471)]), (250494, [(1548, 8.258754557695875)]), (123066, [(3845, 8.54999999227634)]), (265932, [(1177, 9.431861843180265)]), (10030, [(2173, 9.210788690449219)]), (155444, [(4721, 9.99995595235628)]), (162376, [(1893, 8.740074175152289), (425, 8.482640693467827), (457, 8.475155062170348), (3841, 7.833333336666667), (4885, 7.609198868883747)]), (258690, [(4611, 8.5)]), (168805, [(4211, 8.931738436638119), (935, 8.7727272725)]), (152036, [(1761, 9.178413008772736)]), (207835, [(6380, 7.9820117691936625), (250, 7.583333333333333)]), (110040, [(5781, 7.6), (72, 7.5987099359006605), (1309, 6.607054680364492)]), (13080, [(2396, 8.4)]), (129338, [(2862, 8.4375), (4674, 8.263780585240358)]), (141805, [(2046, 6.25), (2724, 6.25)]), (238179, [(41, 6.25)]), (230985, [(4424, 8.8)]), (213119, [(774, 9.038988088043155), (1982, 7.6)]), (106406, [(6317, 5.428571428571429), (3636, 5.315668208329493)]), (208877, [(380, 7.338842971818182)]), (216100, [(3306, 9.16017315865801)]), (38661, [(477, 8.25)]), (207291, [(3176, 7.258798749992673)]), (214879, [(124, 9.191914923746056), (1167, 8.353726748724783)]), (90614, [(1316, 7.315071661538758), (453, 5.822542558766627)]), (93513, [(5929, 4.530303032651515)]), (41086, [(2194, 7.0)]), (151589, [(207, 7.0)]), (211288, [(2837, 7.333333333333333), (103, 6.137254913921569)]), (29419, [(2521, 7.322222214999999)]), (231132, [(6649, 6.0)]), (104657, [(5498, 8.578947368421053), (5134, 8.276864036598136)]), (228455, [(5017, 7.8)]), (163761, [(2761, 7.4), (5931, 7.4)]), (46350, [(2452, 9.351525707428392)]), (165987, [(2010, 8.75)]), (100454, [(3470, 6.75), (742, 6.75)]), (275638, [(5939, 7.450000000249999)]), (38887, [(1207, 7.507858963427146)]), (204696, [(176, 7.275000000124999)]), (30594, [(845, 7.181818181818182), (4270, 7.181818181818182)]), (267282, [(6875, 10.606481477237654)]), (31688, [(285, 8.12287234231117), (103, 5.630434811304347)]), (127036, [(6424, 7.933333327333333), (4060, 7.333333333333333)]), (251483, [(192, 7.125779617650728)]), (196457, [(5830, 8.2)]), (269344, [(675, 8.766025636805555), (1104, 8.574786321203703), (1686, 3.3461538876923065)]), (151846, [(404, 5.3333333525)]), (104098, [(3000, 9.0)]), (8971, [(2054, 7.140350892456139)]), (191575, [(4722, 9.25), (2378, 9.25)]), (137627, [(503, 8.223159997564531)]), (100903, [(2329, 7.142063492923281)]), (122801, [(613, 7.033845954321181)]), (245215, [(602, 5.6)]), (170522, [(3665, 6.706186939629664)]), (38802, [(2319, 8.75), (2919, 7.145833349375)]), (186312, [(1905, 6.481481486666666)]), (174914, [(119, 9.826086948210031), (2796, 7.862338075243553)]), (231694, [(4311, 7.799999998)]), (89867, [(1749, 7.428571428571429)]), (83754, [(4192, 8.625)]), (95525, [(6538, 8.375)]), (202324, [(1789, 9.462207200788525)]), (183958, [(2459, 8.2), (5811, 8.2)]), (148157, [(2052, 8.5)]), (137524, [(4058, 7.25)]), (236399, [(57, 9.44999999525)]), (99347, [(667, 10.48888887788889)]), (273869, [(614, 9.783226068077001)]), (73363, [(98, 8.0), (1253, 6.051075278561828)]), (264655, [(1830, 8.25)]), (271156, [(1577, 9.6582167811757)]), (102359, [(5595, 8.741935483870968), (4446, 8.597113113541198)]), (91761, [(1397, 9.227547258300634), (1688, 8.992586746802907)]), (148966, [(6639, 5.5)]), (138307, [(5785, 7.666666666666667), (778, 7.666666666666667)]), (251744, [(1185, 8.612594446211517), (1376, 3.206300837809959)]), (240318, [(3083, 8.199662853864071)]), (69808, [(4378, 6.5)]), (199772, [(5467, 7.666666666666667), (5541, 6.727969351787995)]), (189104, [(5324, 9.527769749489906)]), (140005, [(3123, 9.0), (4701, 6.833333355000001)]), (149907, [(594, 9.804101871311117), (1189, 8.727272727272727)]), (174534, [(1771, 9.25)]), (79366, [(160, 8.264590858517968)]), (124874, [(6301, 9.138050016394212), (807, 8.5)]), (223253, [(1444, 8.33352272943892), (3399, 8.2)]), (251495, [(985, 6.777777777777778)]), (147686, [(267, 9.219347872932449), (6518, 8.888888898888888), (1213, 6.284722248263888)]), (178151, [(4246, 8.596638656640689), (1433, 6.943436543577764)]), (248259, [(5729, 7.857142857142857)]), (174848, [(2729, 8.2), (3044, 8.2)]), (187613, [(5596, 7.01165502062937)]), (176853, [(1902, 9.5)]), (46417, [(5122, 7.802938714478331)]), (83069, [(3532, 7.75)]), (201593, [(4826, 9.25)]), (47128, [(532, 9.890322577741935), (177, 9.6), (4980, 9.379701023551009)]), (189320, [(6846, 8.8), (4398, 8.681862965015377)]), (42408, [(218, 8.370592564902925)]), (141210, [(5443, 7.75)]), (70192, [(2794, 4.648148146666666), (1305, 4.5), (2053, 4.5)]), (116433, [(846, 8.045202018422348), (2525, 4.444444473333332)]), (47793, [(4307, 6.022685189378473)]), (129399, [(5454, 7.5)]), (41088, [(265, 10.0)]), (203918, [(1490, 9.33771928736842)]), (209458, [(5347, 8.75)]), (260678, [(3094, 8.034883715581394)]), (100471, [(1058, 6.469985588948297), (41, 6.216873804017242)]), (213638, [(2431, 9.0)]), (264627, [(124, 6.281728753005779)]), (275439, [(170, 8.176408907224735), (169, 8.093931520625759)]), (86392, [(5601, 9.68589240047429)]), (273507, [(227, 8.39345237298512)]), (133957, [(537, 10.209425113262206)]), (20388, [(1735, 8.0), (3407, 8.0)]), (248492, [(911, 9.375)]), (278007, [(245, 6.4)]), (273440, [(3475, 9.571428571428571)]), (113955, [(2964, 7.642857142857143), (2506, 7.642857142857143)]), (130502, [(3334, 6.443956053516484)]), (119806, [(536, 11.857142838571429)]), (202885, [(1854, 5.096491230921052)]), (57369, [(59, 7.75), (5112, 7.027777785)]), (6789, [(213, 6.8), (1630, 5.483646989060674)]), (65228, [(63, 6.431655941550889)]), (91576, [(5694, 8.0), (4420, 8.0)]), (254196, [(2067, 3.8497536975123157)]), (136240, [(457, 7.7749999912500005)]), (177040, [(1840, 7.645299146688035)]), (124915, [(5568, 7.8792854889042), (458, 6.941860460697674), (35, 6.725371122044534)]), (44727, [(3807, 7.5), (5180, 7.5)]), (23871, [(3687, 12.256410223076923)]), (16721, [(2429, 7.2), (273, 7.2)]), (151790, [(5016, 9.5)]), (111634, [(4989, 8.639420632218233)]), (45305, [(2245, 7.75)]), (117256, [(5937, 8.333333333333334)]), (273063, [(2781, 7.0)]), (249989, [(1118, 7.147314360857629), (4651, 4.979788899824003)]), (263842, [(1897, 7.727193401965604)]), (277523, [(150, 8.612231720509246), (139, 7.473684235789474)]), (165806, [(4470, 9.519047597096844), (4711, 7.4)]), (89192, [(5898, 8.444444444444445)]), (233312, [(3127, 8.74999999490098)]), (143400, [(2981, 6.699999987999999)]), (13094, [(2418, 8.5)]), (74665, [(1946, 8.444444444444445), (1671, 8.444444444444445)]), (222210, [(1212, 6.262546359069579), (809, 5.921538472170205)]), (34115, [(1380, 7.166666666666667)]), (109287, [(2968, 8.0), (1152, 8.0)]), (135736, [(1328, 10.011572928339838), (1594, 9.558310374950644), (16, 9.476543139497492)]), (239407, [(1871, 7.8)]), (255648, [(3348, 7.815789475587964), (236, 7.481050281315242)]), (70864, [(1957, 6.8)]), (137684, [(2665, 7.276216542096369), (1049, 7.2754629613040125)]), (208367, [(1789, 7.385316767096895)]), (152345, [(2396, 9.5)]), (106846, [(124, 6.607119731632077)]), (192121, [(5472, 7.210623113187241)]), (160344, [(1289, 7.150819911842449)]), (93985, [(5835, 5.0), (5362, 5.0)]), (204822, [(5266, 9.0)]), (181948, [(140, 10.098039214705882)]), (253310, [(451, 6.429958218035166)]), (228652, [(5441, 8.0)]), (195100, [(3744, 6.285714285714286)]), (160200, [(5976, 6.89080164957541)]), (85043, [(5703, 7.7)]), (222563, [(2532, 10.00886904494318), (2863, 10.00317607829931), (1603, 9.960556205034504), (2348, 9.5166666675)]), (221186, [(2336, 9.0)]), (16877, [(3076, 8.166666666666666)]), (233436, [(3959, 7.0908645718099175)]), (150894, [(3064, 6.75)]), (245346, [(1851, 7.8)]), (170154, [(1401, 9.168831151688313)]), (240906, [(971, 7.0738028850931105), (4594, 6.818181818181818), (6498, 6.818181818181818)]), (31919, [(4440, 7.111111111111111)]), (27204, [(3941, 8.6388889)]), (36673, [(192, 6.407876266347911)]), (38660, [(1004, 5.59622443920583)]), (153342, [(6370, 8.25), (5909, 8.25)]), (190350, [(5943, 6.75)]), (232929, [(210, 10.60256408153846), (590, 8.781865043921622)]), (47512, [(930, 5.285714285714286)]), (238419, [(1589, 6.942124370796068), (5246, 6.505339111836459)]), (67354, [(5131, 9.333333333333334), (1378, 9.333333333333334)]), (142253, [(1271, 6.6)]), (54283, [(5596, 6.0500000074999996)]), (24641, [(1082, 8.164304987430837)]), (221681, [(2719, 8.979188127048422)]), (154487, [(1836, 8.0), (3632, 8.0), (590, 7.736842107894736)]), (95043, [(1104, 8.681856475826097), (5283, 8.166666666666666), (1934, 8.166666666666666)]), (216955, [(4242, 6.0)]), (58612, [(1761, 8.9427936840925), (3848, 7.8)]), (197425, [(246, 7.75)]), (67176, [(1006, 3.16666669)]), (176656, [(3668, 7.5)]), (56917, [(3661, 8.0)]), (132199, [(1042, 5.023084966090561)]), (39159, [(4932, 6.125)]), (208378, [(1269, 7.1249262859746185)]), (264204, [(3231, 6.25)]), (206959, [(3256, 7.262957514610989)]), (208645, [(2750, 6.999999998333333)]), (34215, [(4601, 9.382352942352941)]), (39441, [(2215, 6.893006109669324)]), (241537, [(6920, 9.666666656666667), (3300, 8.666666666666666)]), (101081, [(781, 8.217169201739742)]), (219209, [(533, 8.666666665000001)]), (26145, [(2313, 9.5)]), (82955, [(2690, 8.855555535), (3280, 6.8)]), (255786, [(5165, 8.875)]), (21708, [(206, 8.960317445714287)]), (71181, [(279, 8.143401160557195)]), (65487, [(465, 9.55825735638724)]), (91491, [(2944, 7.33333333), (4133, 7.142857141428571), (5444, 5.696225525390439)]), (98525, [(920, 9.666666666666666)]), (167272, [(2628, 4.1111111199999995)]), (102129, [(3353, 5.566666687666666)]), (198840, [(2471, 8.0)]), (148798, [(286, 9.663869443770944)]), (35270, [(2471, 3.900000026)]), (77181, [(235, 8.589714750974046)]), (65238, [(3333, 7.966269844479166)]), (201036, [(6540, 7.359515489536089)]), (241042, [(1593, 7.25)]), (106282, [(170, 3.100288606620971)]), (267621, [(6716, 7.2)]), (242097, [(1796, 9.25)]), (188589, [(6906, 7.5)]), (248656, [(1111, 7.391608393146854)]), (19503, [(1293, 9.796491212105263)]), (108158, [(124, 9.28692367050038)]), (220278, [(1589, 9.469696961363637), (533, 8.700169853215096)]), (73622, [(1104, 8.70046619979798)]), (86033, [(1963, 8.27819148876773)]), (101091, [(3402, 7.25)]), (26813, [(486, 9.75)]), (88605, [(1475, 4.96153846673077)]), (179733, [(6390, 8.717391312173913)]), (230105, [(612, 7.666666666666667), (4422, 7.666666666666667), (3035, 7.666666666666667)]), (130961, [(2000, 11.053475925561498)]), (127171, [(3564, 8.5)]), (160334, [(3454, 9.842990631773507)]), (41450, [(3262, 6.4)]), (151479, [(5799, 9.4)]), (163169, [(1626, 6.694444445), (432, 6.684782609021739)]), (242763, [(157, 8.092215089429672), (6378, 7.25)]), (193610, [(4201, 7.75)]), (82841, [(6345, 9.666666666666666)]), (4785, [(487, 8.459390153593208)]), (179885, [(490, 9.5)]), (124322, [(3467, 6.6)]), (31714, [(1106, 6.6)]), (79055, [(144, 7.25)]), (188490, [(1660, 7.7451629628367655)]), (241495, [(3239, 8.833333333333334)]), (127481, [(5392, 7.5), (1892, 6.204212460691392)]), (93141, [(6513, 7.0)]), (194974, [(3841, 6.0), (4103, 6.0)]), (56625, [(5321, 8.18730158936508)]), (60168, [(3058, 9.315789460526316), (1888, 8.0)]), (205281, [(739, 6.622294383349567)]), (266419, [(41, 8.645150068251507)]), (16246, [(1251, 8.016117392000691)]), (101874, [(6625, 6.835483866612904), (5451, 6.294736843157896)]), (22695, [(408, 8.5)]), (134837, [(6268, 7.619047619047619)]), (248138, [(2707, 6.143209861111111), (6306, 4.6)]), (93421, [(5436, 8.5)]), (161870, [(997, 6.25)]), (137137, [(5824, 9.23076923076923)]), (21229, [(533, 7.7962207105118235)]), (272202, [(5829, 8.833333333333334)]), (163194, [(4993, 4.9375000106249995)]), (268704, [(865, 6.537037046666667)]), (208591, [(4249, 7.75)]), (129008, [(684, 8.097117967246458)]), (251560, [(4459, 5.994505496199634)]), (169223, [(55, 7.296306879904326)]), (148962, [(4834, 7.2), (2278, 5.628571444285715)]), (49155, [(388, 8.865486604297693)]), (93562, [(2718, 7.953252057693912)]), (188038, [(4611, 7.375)]), (242891, [(1743, 6.600006191709889)]), (240267, [(2173, 8.3)]), (68344, [(6021, 6.7812500021875)]), (80075, [(2897, 9.095744674893618)]), (181736, [(1519, 6.598714121685516)]), (75809, [(2335, 7.335678124305597)]), (239067, [(192, 7.053726641315286)]), (132572, [(1465, 6.0111111138333335)]), (254863, [(5379, 7.2411755427419235)]), (265827, [(1746, 9.0)]), (271557, [(1736, 8.8)]), (135460, [(1140, 7.25)]), (68886, [(3120, 8.444444444444445)]), (193469, [(183, 10.55776070830338), (1797, 9.692161172443518)]), (126985, [(1082, 8.4), (946, 8.4)]), (134784, [(5185, 7.5), (3710, 7.5)]), (170527, [(519, 8.199537517295914)]), (118484, [(2699, 7.5), (1593, 7.5)]), (28709, [(442, 7.75)]), (25966, [(209, 8.2)]), (125060, [(2407, 9.356840966025054)]), (10241, [(2184, 6.2)]), (133738, [(3048, 7.32246377317029)]), (239670, [(1154, 5.636173765632136)]), (124363, [(433, 8.513257573873107), (4895, 8.136363636363637)]), (242637, [(70, 6.20535953237378)]), (16818, [(542, 7.599999998)]), (163851, [(4337, 7.4269841234285705)]), (33974, [(4583, 7.684210526315789), (4585, 7.303514202522369)]), (134863, [(2827, 8.0), (2345, 6.166666685)]), (138330, [(1082, 7.75)]), (109519, [(6713, 6.571428559911061)]), (218689, [(800, 9.472934471358025)]), (116582, [(6320, 10.0)]), (174334, [(961, 8.001823605547496)]), (30939, [(4329, 9.0), (3948, 7.483828678909528)]), (256247, [(2409, 8.79166666), (460, 8.6240855812933)]), (268156, [(4968, 8.428571428571429)]), (86368, [(5924, 5.25000002)]), (202706, [(2837, 10.0)]), (62150, [(1698, 7.5)]), (27140, [(431, 10.665113867595757), (3930, 9.201038480181069)]), (37822, [(4048, 8.026315784210528)]), (277623, [(156, 7.285028649896407)]), (274881, [(1555, 8.928571419285715), (1056, 8.0)]), (229331, [(2211, 6.871794876602563)]), (80453, [(6289, 8.0)]), (180586, [(665, 8.630488812091963), (1218, 8.0)]), (38950, [(1667, 9.400260754858758)]), (163796, [(135, 9.500000009999999)]), (30461, [(2708, 5.750000012499999)]), (101196, [(2577, 7.0555555583333325)]), (159044, [(6006, 8.5)]), (100066, [(6606, 6.5)]), (149661, [(465, 9.096336747689097), (1169, 8.847296159306522), (2015, 7.253178197082166)]), (236255, [(3214, 5.759488691184851)]), (200568, [(3955, 7.0)]), (225066, [(6056, 6.777777777777778), (658, 6.26495727008547)]), (278554, [(386, 8.857142857142858)]), (91425, [(6268, 8.75)]), (240670, [(6386, 9.185897421538462)]), (155771, [(775, 8.0)]), (272705, [(70, 10.459720586506071)]), (136104, [(5093, 7.857142857142857)]), (145165, [(3311, 7.75000001)]), (210097, [(1291, 8.101717283189402)]), (55178, [(630, 8.910150374389097), (1226, 7.881070141336213)]), (115180, [(1117, 4.735294125294118)]), (102117, [(41, 5.965394492713702)]), (267802, [(5232, 5.8)]), (79215, [(2873, 9.0)]), (248749, [(3458, 8.5)]), (196621, [(160, 5.905698003234568)]), (85433, [(0, 8.875)]), (240333, [(1916, 7.8030391698904)]), (22464, [(3594, 10.079710125797101)]), (111578, [(3474, 9.25)]), (219065, [(3064, 9.058510620212765), (1554, 6.194047887182602)]), (20703, [(457, 7.293208515799834)]), (118228, [(314, 8.863936636119876)]), (98026, [(6574, 7.6)]), (39372, [(4957, 7.2474489783673475)]), (127417, [(6811, 7.25)]), (101696, [(4335, 8.6)]), (218640, [(397, 8.534883705581395)]), (91875, [(3593, 8.56778851490862)]), (4809, [(480, 8.596989955237339)]), (14387, [(2766, 8.97221153603101)]), (75777, [(5973, 10.941860440697674)]), (213312, [(235, 10.0), (1016, 10.0)]), (241513, [(451, 6.117948723608974)]), (75551, [(4643, 6.285714285714286), (3094, 5.4857142937142855)]), (111166, [(6590, 8.0)]), (187990, [(1328, 7.869401589632827)]), (215498, [(3765, 8.439655175517242)]), (63360, [(503, 7.737401980610225)]), (190422, [(1503, 6.67500000125)]), (229055, [(5603, 5.25)]), (59933, [(5795, 7.833333333333333)]), (223768, [(3183, 8.25)]), (52472, [(3081, 7.765217395478261)]), (161677, [(950, 9.031265880271066)]), (152770, [(6812, 9.467171717058081)]), (93085, [(487, 8.051190479267856)]), (259223, [(997, 8.871641784328357)]), (185384, [(2093, 9.441558434285714)]), (139586, [(3787, 8.142857142857142)]), (30261, [(2313, 8.666666666666666)]), (208376, [(6455, 6.75)]), (239736, [(2396, 8.090811342911046)]), (219530, [(1217, 8.300000012)]), (146855, [(451, 8.642109773781431)]), (54817, [(4585, 7.0), (5615, 7.0)]), (162840, [(5285, 8.0), (1579, 5.571428595714285)]), (68581, [(492, 6.75)]), (100460, [(86, 4.442307691346153)]), (216099, [(804, 7.606481486666667)]), (182180, [(5966, 7.2727272825)]), (10699, [(2281, 8.0)]), (122784, [(5246, 5.833333333333333)]), (3331, [(1002, 4.847222255)]), (4098, [(1056, 8.29080201849369)]), (37235, [(232, 7.142857142857143)]), (19145, [(3282, 8.499999990000001)]), (220095, [(192, 10.000569802232853)]), (49314, [(4156, 6.75)]), (42847, [(1990, 7.6)]), (211041, [(160, 9.7660098433867), (155, 7.00000001)]), (69790, [(1055, 5.717229850564851)]), (169727, [(227, 7.495639882535138)]), (126072, [(1003, 6.596491212105263)]), (175536, [(3177, 7.358974362051281)]), (53414, [(2362, 9.368431855413075)]), (94396, [(2026, 8.179558131873048)]), (209059, [(359, 6.59372896174986)]), (248965, [(528, 2.9722222390277775)]), (235895, [(640, 6.911111107324948)]), (120985, [(6702, 7.50000001)]), (187624, [(803, 7.633504217418403)]), (240609, [(5267, 7.713930055611073)]), (262317, [(3556, 6.571428571428571)]), (217270, [(5319, 8.666666666666666), (4441, 6.833333351666666)]), (224904, [(2352, 6.666666666666667)]), (60583, [(465, 7.660482017468597)]), (12100, [(2461, 7.9474999924)]), (111261, [(3016, 7.00000001)]), (45107, [(2280, 8.461126202267046)]), (100594, [(5568, 7.421375659018695)]), (240932, [(5407, 8.25)]), (34752, [(3107, 4.2071238720418505)]), (161831, [(3144, 9.539473685263157)]), (170372, [(708, 7.25)]), (104796, [(619, 3.5887097090322566)]), (221870, [(5045, 7.941649908551308)]), (67288, [(3364, 6.69607843622549)]), (116301, [(730, 9.86357184311746)]), (253797, [(6601, 10.51898731658228)]), (250330, [(3286, 4.79915991556642)]), (503, [(501, 8.879532970635301)]), (103251, [(2358, 7.25)]), (81865, [(1083, 7.4)]), (106280, [(243, 9.04444443511111)]), (209238, [(2362, 7.151165808226023)]), (26628, [(1136, 7.5)]), (165914, [(4486, 6.041666656231994)]), (262634, [(4903, 6.0)]), (56272, [(1944, 8.95833332375)]), (213066, [(1073, 5.924629632780371)]), (31431, [(949, 9.4)]), (27169, [(3934, 8.0)]), (13093, [(2639, 6.1522727237499995)]), (151002, [(3674, 5.527272749272727)]), (37571, [(4506, 9.292857117428571)]), (27573, [(2903, 10.106468530255594)]), (173951, [(5773, 9.494623650940861)]), (139607, [(431, 8.172101449664854)]), (13221, [(2652, 9.211538456923076)]), (214272, [(4029, 7.9)]), (30555, [(546, 6.352061778673444)]), (229656, [(6913, 6.5)]), (172613, [(3335, 7.025641028717947)]), (244814, [(1896, 5.014285724214286)]), (148344, [(379, 9.085662079738507)]), (177195, [(72, 8.793518518373457)]), (28523, [(618, 8.687513229852486)]), (229767, [(124, 9.785486208590964)]), (5385, [(1282, 7.571428571428571)]), (114893, [(347, 7.386088160672864)]), (59770, [(1179, 4.103448284827587)]), (200993, [(6896, 9.0)]), (49313, [(35, 9.842592556666666)]), (190479, [(500, 6.84227464289274)]), (226553, [(1821, 8.02191182375166)]), (158033, [(3203, 6.4431818275)]), (83390, [(5176, 7.829877111735791)]), (166891, [(2892, 7.0)]), (30854, [(2665, 6.780654762001488)]), (109864, [(1058, 7.051357234486887)]), (79747, [(1523, 7.87499998125)]), (57959, [(5729, 7.2)]), (57833, [(5725, 6.2)]), (108827, [(2635, 9.230769220461537)]), (144667, [(3591, 8.43333333)]), (92132, [(3845, 9.5)])])"
      ]
     },
     "execution_count": 123,
     "metadata": {},
     "output_type": "execute_result"
    }
   ],
   "source": [
    "algo_dict['UserKNN']"
   ]
  },
  {
   "cell_type": "code",
   "execution_count": 122,
   "metadata": {},
   "outputs": [
    {
     "name": "stdout",
     "output_type": "stream",
     "text": [
      "Random\n"
     ]
    },
    {
     "name": "stderr",
     "output_type": "stream",
     "text": [
      "  0%|                                                                                                                                                                                                                                                             | 0/5356 [00:00<?, ?it/s]\n"
     ]
    },
    {
     "name": "stdout",
     "output_type": "stream",
     "text": [
      "[6920, 3156, 6212, 3447, 331, 2122, 4191, 3983, 3318, 6423]\n",
      "MostPop\n"
     ]
    },
    {
     "name": "stderr",
     "output_type": "stream",
     "text": [
      "  0%|                                                                                                                                                                                                                                                             | 0/5394 [00:00<?, ?it/s]\n"
     ]
    },
    {
     "name": "stdout",
     "output_type": "stream",
     "text": [
      "[4021, 6086]\n",
      "UserKNN\n"
     ]
    },
    {
     "name": "stderr",
     "output_type": "stream",
     "text": [
      "  0%|                                                                                                                                                                                                                                                             | 0/5394 [00:00<?, ?it/s]\n"
     ]
    },
    {
     "name": "stdout",
     "output_type": "stream",
     "text": [
      "[6086, 4021]\n",
      "ItemKNN\n"
     ]
    },
    {
     "name": "stderr",
     "output_type": "stream",
     "text": [
      "  0%|                                                                                                                                                                                                                                                             | 0/5394 [00:00<?, ?it/s]\n"
     ]
    },
    {
     "name": "stdout",
     "output_type": "stream",
     "text": [
      "[6086, 4021]\n",
      "UserKNN with means\n"
     ]
    },
    {
     "name": "stderr",
     "output_type": "stream",
     "text": [
      "  0%|                                                                                                                                                                                                                                                             | 0/5394 [00:00<?, ?it/s]\n"
     ]
    },
    {
     "name": "stdout",
     "output_type": "stream",
     "text": [
      "[4021, 6086]\n",
      "BPR\n"
     ]
    },
    {
     "name": "stderr",
     "output_type": "stream",
     "text": [
      "  0%|                                                                                                                                                                                                                                                             | 0/5394 [00:00<?, ?it/s]\n"
     ]
    },
    {
     "name": "stdout",
     "output_type": "stream",
     "text": [
      "[4021, 6086]\n",
      "MF\n"
     ]
    },
    {
     "name": "stderr",
     "output_type": "stream",
     "text": [
      "  0%|                                                                                                                                                                                                                                                             | 0/5394 [00:00<?, ?it/s]\n"
     ]
    },
    {
     "name": "stdout",
     "output_type": "stream",
     "text": [
      "[6086, 4021]\n",
      "PMF\n"
     ]
    },
    {
     "name": "stderr",
     "output_type": "stream",
     "text": [
      "  0%|                                                                                                                                                                                                                                                             | 0/5394 [00:00<?, ?it/s]\n"
     ]
    },
    {
     "name": "stdout",
     "output_type": "stream",
     "text": [
      "[4021, 6086]\n",
      "NMF\n"
     ]
    },
    {
     "name": "stderr",
     "output_type": "stream",
     "text": [
      "  0%|                                                                                                                                                                                                                                                             | 0/5394 [00:00<?, ?it/s]\n"
     ]
    },
    {
     "name": "stdout",
     "output_type": "stream",
     "text": [
      "[6086, 4021]\n",
      "WMF\n"
     ]
    },
    {
     "name": "stderr",
     "output_type": "stream",
     "text": [
      "  0%|                                                                                                                                                                                                                                                             | 0/5394 [00:00<?, ?it/s]\n"
     ]
    },
    {
     "name": "stdout",
     "output_type": "stream",
     "text": [
      "[4021, 6086]\n",
      "HPF\n"
     ]
    },
    {
     "name": "stderr",
     "output_type": "stream",
     "text": [
      "  0%|                                                                                                                                                                                                                                                             | 0/5394 [00:00<?, ?it/s]\n"
     ]
    },
    {
     "name": "stdout",
     "output_type": "stream",
     "text": [
      "[4021, 6086]\n",
      "NeuMF\n"
     ]
    },
    {
     "name": "stderr",
     "output_type": "stream",
     "text": [
      "  0%|                                                                                                                                                                                                                                                             | 0/5394 [00:00<?, ?it/s]\n"
     ]
    },
    {
     "name": "stdout",
     "output_type": "stream",
     "text": [
      "[4021, 6086]\n",
      "VAECF\n"
     ]
    },
    {
     "name": "stderr",
     "output_type": "stream",
     "text": [
      "  0%|                                                                                                                                                                                                                                                             | 0/5394 [00:00<?, ?it/s]"
     ]
    },
    {
     "name": "stdout",
     "output_type": "stream",
     "text": [
      "[4021, 6086]\n",
      "0 seconds.\n"
     ]
    },
    {
     "name": "stderr",
     "output_type": "stream",
     "text": [
      "\n"
     ]
    }
   ],
   "source": [
    "start = time.time()\n",
    "i = 0\n",
    "low_rec_NDCG_list = [] # one entry per algorithm\n",
    "medium_rec_NDCG_list = []\n",
    "high_rec_NDCG_list = []\n",
    "\n",
    "for i in range(0, len(algo_names)):\n",
    "\n",
    "    print(algo_names[i])\n",
    "    df_item_dist_cornac[algo_names[i]] = 0.0\n",
    "    \n",
    "    low_rec_NDCG = 0.0\n",
    "    medium_rec_NDCG = 0.0\n",
    "    high_rec_NDCG = 0.0\n",
    "    \n",
    "    low_count = 0.0\n",
    "    med_count = 0.0\n",
    "    high_count = 0.0\n",
    "\n",
    "    top = algo_dict[algo_names[i]]\n",
    "    for uid, user_ratings in tqdm(top):\n",
    "        iid_list = []\n",
    "        for (iid, _) in user_ratings:\n",
    "            iid_list.append(iid)\n",
    "        print(iid_list)\n",
    "        break\n",
    "        # gap = sum(df_item_dist_cornac[\"count\"].loc[iid_list]) / len(iid_list)\n",
    "        # if uid in low.index:\n",
    "        #     low_rec_gap += gap\n",
    "        #     low_count += 1\n",
    "        # elif uid in med.index:\n",
    "        #     medium_rec_gap += gap\n",
    "        #     med_count += 1\n",
    "        # elif uid in high.index:\n",
    "        #     high_rec_gap += gap\n",
    "        #     high_count += 1\n",
    "        # else:\n",
    "        #   print(\"hi\")\n",
    "    # low_rec_gap_list.append(low_rec_gap / low_count)\n",
    "    # medium_rec_gap_list.append(medium_rec_gap / med_count)\n",
    "    # high_rec_gap_list.append(high_rec_gap / high_count)\n",
    "end = time.time()\n",
    "print(round(end-start), \"seconds.\")"
   ]
  },
  {
   "cell_type": "markdown",
   "metadata": {},
   "source": [
    "##### RM"
   ]
  },
  {
   "cell_type": "code",
   "execution_count": 83,
   "metadata": {},
   "outputs": [],
   "source": [
    "def calculate_RMSE_per_group(algo_name,i):\n",
    "    model = exp.models[i]\n",
    "    print(algo_name + \" model is selected:\")\n",
    "    \n",
    "    rmse_low = 0.0\n",
    "    rmse_med = 0.0\n",
    "    rmse_high = 0.0\n",
    "    \n",
    "    nr_low = 0.0\n",
    "    nr_med = 0.0\n",
    "    nr_high = 0.0\n",
    "    \n",
    "    for uid in tqdm(rs.test_set.uid_map.values()): # every user in the test set\n",
    "        user_id = list(rs.train_set.user_ids)[uid]\n",
    "        user_items_in_the_test_set = rs.test_set.user_data[uid][0]\n",
    "        item_ids = [list(model.train_set.item_ids)[test_item] for test_item in user_items_in_the_test_set]\n",
    "        real_scores = df_events_cornac[(df_events_cornac.user==user_id)&(df_events_cornac[item_col].isin(item_ids))]['rating'].values\n",
    "        pred_scores = []\n",
    "        j=0\n",
    "        for test_item in user_items_in_the_test_set:\n",
    "            item_score = model.score(user_idx=uid, item_idx=test_item)\n",
    "            pred_scores.append(item_score)\n",
    "\n",
    "        user_rmse = mean_squared_error(real_scores, pred_scores, squared=False)\n",
    "        \n",
    "        if int(user_id) in low.index: # some issue with string vs integer\n",
    "            rmse_low+=user_rmse\n",
    "            nr_low += 1\n",
    "        elif int(user_id) in med.index:\n",
    "            rmse_med+=user_rmse\n",
    "            nr_med += 1\n",
    "        elif int(user_id) in high.index:\n",
    "            rmse_high+=user_rmse\n",
    "            nr_high += 1\n",
    "        else:\n",
    "          print(\"hi\")\n",
    "        j+=1\n",
    "    rmse_low/=nr_low\n",
    "    rmse_med/=nr_med\n",
    "    rmse_high/=nr_high\n",
    "    return rmse_low, rmse_med, rmse_high"
   ]
  },
  {
   "cell_type": "code",
   "execution_count": 101,
   "metadata": {},
   "outputs": [
    {
     "name": "stdout",
     "output_type": "stream",
     "text": [
      "Random model is selected:\n"
     ]
    },
    {
     "name": "stderr",
     "output_type": "stream",
     "text": [
      "100%|██████████████████████████████████████████████████████████████████████████████████████████████████████████████████████████████████████████████████████████████████████████████████████████████████████████████████████████████████████████████████| 5394/5394 [01:23<00:00, 64.28it/s]\n"
     ]
    },
    {
     "name": "stdout",
     "output_type": "stream",
     "text": [
      "MostPop model is selected:\n"
     ]
    },
    {
     "name": "stderr",
     "output_type": "stream",
     "text": [
      "100%|██████████████████████████████████████████████████████████████████████████████████████████████████████████████████████████████████████████████████████████████████████████████████████████████████████████████████████████████████████████████████| 5394/5394 [01:14<00:00, 72.01it/s]\n"
     ]
    },
    {
     "name": "stdout",
     "output_type": "stream",
     "text": [
      "UserKNN model is selected:\n"
     ]
    },
    {
     "name": "stderr",
     "output_type": "stream",
     "text": [
      "100%|██████████████████████████████████████████████████████████████████████████████████████████████████████████████████████████████████████████████████████████████████████████████████████████████████████████████████████████████████████████████████| 5394/5394 [01:17<00:00, 69.48it/s]\n"
     ]
    }
   ],
   "source": [
    "RMSEs = pd.DataFrame(index = algo_names, columns = ['low','med','high']).fillna(0.0)\n",
    "for i in range(0, len(algo_names)):\n",
    "    RMSEs.loc[algo_names[i]] = calculate_RMSE_per_group(algo_names[i], i-1)"
   ]
  },
  {
   "cell_type": "code",
   "execution_count": 68,
   "metadata": {},
   "outputs": [
    {
     "data": {
      "text/html": [
       "<div>\n",
       "<style scoped>\n",
       "    .dataframe tbody tr th:only-of-type {\n",
       "        vertical-align: middle;\n",
       "    }\n",
       "\n",
       "    .dataframe tbody tr th {\n",
       "        vertical-align: top;\n",
       "    }\n",
       "\n",
       "    .dataframe thead th {\n",
       "        text-align: right;\n",
       "    }\n",
       "</style>\n",
       "<table border=\"1\" class=\"dataframe\">\n",
       "  <thead>\n",
       "    <tr style=\"text-align: right;\">\n",
       "      <th></th>\n",
       "      <th>low</th>\n",
       "      <th>med</th>\n",
       "      <th>high</th>\n",
       "    </tr>\n",
       "  </thead>\n",
       "  <tbody>\n",
       "    <tr>\n",
       "      <th>Random</th>\n",
       "      <td>7.79554173</td>\n",
       "      <td>7.85135750</td>\n",
       "      <td>7.79088135</td>\n",
       "    </tr>\n",
       "    <tr>\n",
       "      <th>MostPop</th>\n",
       "      <td>6.70198632</td>\n",
       "      <td>22.67569334</td>\n",
       "      <td>52.05898275</td>\n",
       "    </tr>\n",
       "    <tr>\n",
       "      <th>UserKNN</th>\n",
       "      <td>1.43127741</td>\n",
       "      <td>1.61229848</td>\n",
       "      <td>1.55905295</td>\n",
       "    </tr>\n",
       "    <tr>\n",
       "      <th>ItemKNN</th>\n",
       "      <td>1.37844752</td>\n",
       "      <td>1.55102038</td>\n",
       "      <td>1.59353528</td>\n",
       "    </tr>\n",
       "    <tr>\n",
       "      <th>UserKNN with means</th>\n",
       "      <td>1.44241304</td>\n",
       "      <td>1.61571524</td>\n",
       "      <td>1.60747432</td>\n",
       "    </tr>\n",
       "    <tr>\n",
       "      <th>BPR</th>\n",
       "      <td>7.78849483</td>\n",
       "      <td>7.44855532</td>\n",
       "      <td>6.88914343</td>\n",
       "    </tr>\n",
       "    <tr>\n",
       "      <th>MF</th>\n",
       "      <td>1.39039912</td>\n",
       "      <td>1.55813486</td>\n",
       "      <td>1.50737087</td>\n",
       "    </tr>\n",
       "    <tr>\n",
       "      <th>PMF</th>\n",
       "      <td>1.62582526</td>\n",
       "      <td>1.65015588</td>\n",
       "      <td>1.59368341</td>\n",
       "    </tr>\n",
       "    <tr>\n",
       "      <th>NMF</th>\n",
       "      <td>2.39964226</td>\n",
       "      <td>2.43265430</td>\n",
       "      <td>2.32383493</td>\n",
       "    </tr>\n",
       "    <tr>\n",
       "      <th>WMF</th>\n",
       "      <td>6.67892491</td>\n",
       "      <td>6.29225463</td>\n",
       "      <td>5.82446705</td>\n",
       "    </tr>\n",
       "    <tr>\n",
       "      <th>HPF</th>\n",
       "      <td>7.76520502</td>\n",
       "      <td>7.78882669</td>\n",
       "      <td>7.68798867</td>\n",
       "    </tr>\n",
       "    <tr>\n",
       "      <th>NeuMF</th>\n",
       "      <td>7.56772892</td>\n",
       "      <td>7.51996759</td>\n",
       "      <td>7.33657955</td>\n",
       "    </tr>\n",
       "    <tr>\n",
       "      <th>VAECF</th>\n",
       "      <td>7.79554173</td>\n",
       "      <td>7.85135750</td>\n",
       "      <td>7.79088135</td>\n",
       "    </tr>\n",
       "  </tbody>\n",
       "</table>\n",
       "</div>"
      ],
      "text/plain": [
       "                           low          med         high\n",
       "Random              7.79554173   7.85135750   7.79088135\n",
       "MostPop             6.70198632  22.67569334  52.05898275\n",
       "UserKNN             1.43127741   1.61229848   1.55905295\n",
       "ItemKNN             1.37844752   1.55102038   1.59353528\n",
       "UserKNN with means  1.44241304   1.61571524   1.60747432\n",
       "BPR                 7.78849483   7.44855532   6.88914343\n",
       "MF                  1.39039912   1.55813486   1.50737087\n",
       "PMF                 1.62582526   1.65015588   1.59368341\n",
       "NMF                 2.39964226   2.43265430   2.32383493\n",
       "WMF                 6.67892491   6.29225463   5.82446705\n",
       "HPF                 7.76520502   7.78882669   7.68798867\n",
       "NeuMF               7.56772892   7.51996759   7.33657955\n",
       "VAECF               7.79554173   7.85135750   7.79088135"
      ]
     },
     "execution_count": 68,
     "metadata": {},
     "output_type": "execute_result"
    }
   ],
   "source": [
    "RMSEs"
   ]
  },
  {
   "cell_type": "markdown",
   "metadata": {},
   "source": [
    "##### GAP"
   ]
  },
  {
   "cell_type": "code",
   "execution_count": 53,
   "metadata": {},
   "outputs": [
    {
     "name": "stderr",
     "output_type": "stream",
     "text": [
      "100%|█████████████████████████████████████████████████████████████████████████████████████████████████████████████████████████████████████████████████████████████████████████████████████████████████████████████████████████████████████████████████| 5356/5356 [00:09<00:00, 589.81it/s]\n",
      "100%|████████████████████████████████████████████████████████████████████████████████████████████████████████████████████████████████████████████████████████████████████████████████████████████████████████████████████████████████████████████████| 5394/5394 [00:04<00:00, 1302.95it/s]\n",
      "100%|████████████████████████████████████████████████████████████████████████████████████████████████████████████████████████████████████████████████████████████████████████████████████████████████████████████████████████████████████████████████| 5394/5394 [00:04<00:00, 1318.51it/s]\n",
      "100%|████████████████████████████████████████████████████████████████████████████████████████████████████████████████████████████████████████████████████████████████████████████████████████████████████████████████████████████████████████████████| 5394/5394 [00:04<00:00, 1330.56it/s]\n",
      "100%|████████████████████████████████████████████████████████████████████████████████████████████████████████████████████████████████████████████████████████████████████████████████████████████████████████████████████████████████████████████████| 5394/5394 [00:04<00:00, 1311.35it/s]\n",
      "100%|████████████████████████████████████████████████████████████████████████████████████████████████████████████████████████████████████████████████████████████████████████████████████████████████████████████████████████████████████████████████| 5394/5394 [00:04<00:00, 1312.74it/s]\n",
      "100%|████████████████████████████████████████████████████████████████████████████████████████████████████████████████████████████████████████████████████████████████████████████████████████████████████████████████████████████████████████████████| 5394/5394 [00:04<00:00, 1316.96it/s]\n",
      "100%|████████████████████████████████████████████████████████████████████████████████████████████████████████████████████████████████████████████████████████████████████████████████████████████████████████████████████████████████████████████████| 5394/5394 [00:04<00:00, 1310.72it/s]\n",
      "100%|████████████████████████████████████████████████████████████████████████████████████████████████████████████████████████████████████████████████████████████████████████████████████████████████████████████████████████████████████████████████| 5394/5394 [00:04<00:00, 1315.80it/s]\n",
      "100%|████████████████████████████████████████████████████████████████████████████████████████████████████████████████████████████████████████████████████████████████████████████████████████████████████████████████████████████████████████████████| 5394/5394 [00:04<00:00, 1323.09it/s]\n",
      "100%|████████████████████████████████████████████████████████████████████████████████████████████████████████████████████████████████████████████████████████████████████████████████████████████████████████████████████████████████████████████████| 5394/5394 [00:04<00:00, 1316.02it/s]\n",
      "100%|████████████████████████████████████████████████████████████████████████████████████████████████████████████████████████████████████████████████████████████████████████████████████████████████████████████████████████████████████████████████| 5394/5394 [00:04<00:00, 1318.71it/s]\n",
      "100%|████████████████████████████████████████████████████████████████████████████████████████████████████████████████████████████████████████████████████████████████████████████████████████████████████████████████████████████████████████████████| 5394/5394 [00:04<00:00, 1319.00it/s]"
     ]
    },
    {
     "name": "stdout",
     "output_type": "stream",
     "text": [
      "58 seconds.\n"
     ]
    },
    {
     "name": "stderr",
     "output_type": "stream",
     "text": [
      "\n"
     ]
    }
   ],
   "source": [
    "start = time.time()\n",
    "i = 0\n",
    "low_rec_gap_list = [] # one entry per algorithm\n",
    "medium_rec_gap_list = []\n",
    "high_rec_gap_list = []\n",
    "\n",
    "for i in range(0, len(algo_names)):\n",
    "    \n",
    "    df_item_dist_cornac[algo_names[i]] = 0.0\n",
    "    \n",
    "    low_rec_gap = 0.0\n",
    "    medium_rec_gap = 0.0\n",
    "    high_rec_gap = 0.0\n",
    "    \n",
    "    low_count = 0.0\n",
    "    med_count = 0.0\n",
    "    high_count = 0.0\n",
    "\n",
    "    top = algo_dict[algo_names[i]]\n",
    "    for uid, user_ratings in tqdm(top):\n",
    "        iid_list = []\n",
    "        for (iid, _) in user_ratings:\n",
    "            df_item_dist_cornac.loc[iid, algo_names[i]] += 1\n",
    "            iid_list.append(iid)\n",
    "        gap = sum(df_item_dist_cornac[\"count\"].loc[iid_list]) / len(iid_list)\n",
    "        if uid in low.index:\n",
    "            low_rec_gap += gap\n",
    "            low_count += 1\n",
    "        elif uid in med.index:\n",
    "            medium_rec_gap += gap\n",
    "            med_count += 1\n",
    "        elif uid in high.index:\n",
    "            high_rec_gap += gap\n",
    "            high_count += 1\n",
    "        else:\n",
    "          print(\"hi\")\n",
    "    low_rec_gap_list.append(low_rec_gap / low_count)\n",
    "    medium_rec_gap_list.append(medium_rec_gap / med_count)\n",
    "    high_rec_gap_list.append(high_rec_gap / high_count)\n",
    "    i += 1 # next algorithm\n",
    "end = time.time()\n",
    "print(round(end-start), \"seconds.\")"
   ]
  },
  {
   "cell_type": "markdown",
   "metadata": {
    "id": "hJsE_rELcr3T"
   },
   "source": [
    "### Cornac results."
   ]
  },
  {
   "cell_type": "code",
   "execution_count": 54,
   "metadata": {
    "id": "98medmqCctWK"
   },
   "outputs": [],
   "source": [
    "low_gap_vals = []\n",
    "medium_gap_vals = []\n",
    "high_gap_vals = []\n",
    "\n",
    "for i in range(0, len(algo_names)):\n",
    "    low_gap_vals.append((low_rec_gap_list[i] - low_GAP) / low_GAP * 100)\n",
    "    medium_gap_vals.append((medium_rec_gap_list[i] - med_GAP) / med_GAP * 100)\n",
    "    high_gap_vals.append((high_rec_gap_list[i] - high_GAP) / high_GAP * 100)"
   ]
  },
  {
   "cell_type": "markdown",
   "metadata": {
    "id": "p5_kBIgInPbV"
   },
   "source": [
    "# Save!!"
   ]
  },
  {
   "cell_type": "code",
   "execution_count": 62,
   "metadata": {},
   "outputs": [],
   "source": [
    "location = 'results/'\n",
    "df_item_dist_cornac.to_csv(location+'df_item_dist_cornac_books_'+choice+'.csv') \n",
    "RMSEs.to_csv(location+'RMSEs_books_'+choice+'_'+pop_notion+'.csv') \n",
    "with open(location+'low_gap_vals_books_'+choice+'_'+pop_notion+'.pickle', 'wb') as handle:\n",
    "    pkl.dump(low_gap_vals, handle)\n",
    "with open(location+'med_gap_vals_books_'+choice+'_'+pop_notion+'.pickle', 'wb') as handle:\n",
    "    pkl.dump(medium_gap_vals, handle)\n",
    "with open(location+'high_gap_vals_books_'+choice+'_'+pop_notion+'.pickle', 'wb') as handle:\n",
    "    pkl.dump(high_gap_vals, handle)"
   ]
  }
 ],
 "metadata": {
  "colab": {
   "authorship_tag": "ABX9TyNp+QKlOSzXmqs/SerM/6GH",
   "collapsed_sections": [
    "0710EG6KoyXD"
   ],
   "provenance": []
  },
  "kernelspec": {
   "display_name": "Python 3 (ipykernel)",
   "language": "python",
   "name": "python3"
  },
  "language_info": {
   "codemirror_mode": {
    "name": "ipython",
    "version": 3
   },
   "file_extension": ".py",
   "mimetype": "text/x-python",
   "name": "python",
   "nbconvert_exporter": "python",
   "pygments_lexer": "ipython3",
   "version": "3.8.18"
  },
  "widgets": {
   "application/vnd.jupyter.widget-state+json": {
    "005cd6486d584d72a90d39480a762171": {
     "model_module": "@jupyter-widgets/controls",
     "model_module_version": "1.5.0",
     "model_name": "FloatProgressModel",
     "state": {
      "_dom_classes": [],
      "_model_module": "@jupyter-widgets/controls",
      "_model_module_version": "1.5.0",
      "_model_name": "FloatProgressModel",
      "_view_count": null,
      "_view_module": "@jupyter-widgets/controls",
      "_view_module_version": "1.5.0",
      "_view_name": "ProgressView",
      "bar_style": "success",
      "description": "",
      "description_tooltip": null,
      "layout": "IPY_MODEL_b5c31e177f1d4adbb4389711c4326ea4",
      "max": 200,
      "min": 0,
      "orientation": "horizontal",
      "style": "IPY_MODEL_14b22ad8dd9840648a9261eed84ff1ec",
      "value": 200
     }
    },
    "01d83107714b462cb11a0957f6c770b4": {
     "model_module": "@jupyter-widgets/controls",
     "model_module_version": "1.5.0",
     "model_name": "DescriptionStyleModel",
     "state": {
      "_model_module": "@jupyter-widgets/controls",
      "_model_module_version": "1.5.0",
      "_model_name": "DescriptionStyleModel",
      "_view_count": null,
      "_view_module": "@jupyter-widgets/base",
      "_view_module_version": "1.2.0",
      "_view_name": "StyleView",
      "description_width": ""
     }
    },
    "036c9ab3b0624e7aac37fc4e54b579cb": {
     "model_module": "@jupyter-widgets/base",
     "model_module_version": "1.2.0",
     "model_name": "LayoutModel",
     "state": {
      "_model_module": "@jupyter-widgets/base",
      "_model_module_version": "1.2.0",
      "_model_name": "LayoutModel",
      "_view_count": null,
      "_view_module": "@jupyter-widgets/base",
      "_view_module_version": "1.2.0",
      "_view_name": "LayoutView",
      "align_content": null,
      "align_items": null,
      "align_self": null,
      "border": null,
      "bottom": null,
      "display": null,
      "flex": null,
      "flex_flow": null,
      "grid_area": null,
      "grid_auto_columns": null,
      "grid_auto_flow": null,
      "grid_auto_rows": null,
      "grid_column": null,
      "grid_gap": null,
      "grid_row": null,
      "grid_template_areas": null,
      "grid_template_columns": null,
      "grid_template_rows": null,
      "height": null,
      "justify_content": null,
      "justify_items": null,
      "left": null,
      "margin": null,
      "max_height": null,
      "max_width": null,
      "min_height": null,
      "min_width": null,
      "object_fit": null,
      "object_position": null,
      "order": null,
      "overflow": null,
      "overflow_x": null,
      "overflow_y": null,
      "padding": null,
      "right": null,
      "top": null,
      "visibility": null,
      "width": null
     }
    },
    "03e2663abd8f45c58fc44622ec5dbb49": {
     "model_module": "@jupyter-widgets/base",
     "model_module_version": "1.2.0",
     "model_name": "LayoutModel",
     "state": {
      "_model_module": "@jupyter-widgets/base",
      "_model_module_version": "1.2.0",
      "_model_name": "LayoutModel",
      "_view_count": null,
      "_view_module": "@jupyter-widgets/base",
      "_view_module_version": "1.2.0",
      "_view_name": "LayoutView",
      "align_content": null,
      "align_items": null,
      "align_self": null,
      "border": null,
      "bottom": null,
      "display": null,
      "flex": null,
      "flex_flow": null,
      "grid_area": null,
      "grid_auto_columns": null,
      "grid_auto_flow": null,
      "grid_auto_rows": null,
      "grid_column": null,
      "grid_gap": null,
      "grid_row": null,
      "grid_template_areas": null,
      "grid_template_columns": null,
      "grid_template_rows": null,
      "height": null,
      "justify_content": null,
      "justify_items": null,
      "left": null,
      "margin": null,
      "max_height": null,
      "max_width": null,
      "min_height": null,
      "min_width": null,
      "object_fit": null,
      "object_position": null,
      "order": null,
      "overflow": null,
      "overflow_x": null,
      "overflow_y": null,
      "padding": null,
      "right": null,
      "top": null,
      "visibility": null,
      "width": null
     }
    },
    "05ced476aae048cba12763a4c75cc071": {
     "model_module": "@jupyter-widgets/controls",
     "model_module_version": "1.5.0",
     "model_name": "FloatProgressModel",
     "state": {
      "_dom_classes": [],
      "_model_module": "@jupyter-widgets/controls",
      "_model_module_version": "1.5.0",
      "_model_name": "FloatProgressModel",
      "_view_count": null,
      "_view_module": "@jupyter-widgets/controls",
      "_view_module_version": "1.5.0",
      "_view_name": "ProgressView",
      "bar_style": "success",
      "description": "",
      "description_tooltip": null,
      "layout": "IPY_MODEL_5caeb36a8ada43c6aae70bda6108e006",
      "max": 6921,
      "min": 0,
      "orientation": "horizontal",
      "style": "IPY_MODEL_b2013bd4748b4a82a1b3d32446c09839",
      "value": 6921
     }
    },
    "05ebf41f32c14362ac65a53f459fd309": {
     "model_module": "@jupyter-widgets/controls",
     "model_module_version": "1.5.0",
     "model_name": "FloatProgressModel",
     "state": {
      "_dom_classes": [],
      "_model_module": "@jupyter-widgets/controls",
      "_model_module_version": "1.5.0",
      "_model_name": "FloatProgressModel",
      "_view_count": null,
      "_view_module": "@jupyter-widgets/controls",
      "_view_module_version": "1.5.0",
      "_view_name": "ProgressView",
      "bar_style": "success",
      "description": "",
      "description_tooltip": null,
      "layout": "IPY_MODEL_370d8b6e49dc495b94584edc5f3a957e",
      "max": 50,
      "min": 0,
      "orientation": "horizontal",
      "style": "IPY_MODEL_e2e4d73d25af4122b100b5b1598edd03",
      "value": 50
     }
    },
    "0b3efd2348bf4c6d8d23665cf4fa12d1": {
     "model_module": "@jupyter-widgets/controls",
     "model_module_version": "1.5.0",
     "model_name": "DescriptionStyleModel",
     "state": {
      "_model_module": "@jupyter-widgets/controls",
      "_model_module_version": "1.5.0",
      "_model_name": "DescriptionStyleModel",
      "_view_count": null,
      "_view_module": "@jupyter-widgets/base",
      "_view_module_version": "1.2.0",
      "_view_name": "StyleView",
      "description_width": ""
     }
    },
    "0e62a30dbdbd4cd2a2d435d55c9b7076": {
     "model_module": "@jupyter-widgets/controls",
     "model_module_version": "1.5.0",
     "model_name": "HTMLModel",
     "state": {
      "_dom_classes": [],
      "_model_module": "@jupyter-widgets/controls",
      "_model_module_version": "1.5.0",
      "_model_name": "HTMLModel",
      "_view_count": null,
      "_view_module": "@jupyter-widgets/controls",
      "_view_module_version": "1.5.0",
      "_view_name": "HTMLView",
      "description": "",
      "description_tooltip": null,
      "layout": "IPY_MODEL_caf761030c4146d282c2579aabd90a8d",
      "placeholder": "​",
      "style": "IPY_MODEL_e0473ebcca784c209f86aaa5b5ce9cfe",
      "value": "100%"
     }
    },
    "11701acc260443e6b12b025334b94045": {
     "model_module": "@jupyter-widgets/base",
     "model_module_version": "1.2.0",
     "model_name": "LayoutModel",
     "state": {
      "_model_module": "@jupyter-widgets/base",
      "_model_module_version": "1.2.0",
      "_model_name": "LayoutModel",
      "_view_count": null,
      "_view_module": "@jupyter-widgets/base",
      "_view_module_version": "1.2.0",
      "_view_name": "LayoutView",
      "align_content": null,
      "align_items": null,
      "align_self": null,
      "border": null,
      "bottom": null,
      "display": null,
      "flex": null,
      "flex_flow": null,
      "grid_area": null,
      "grid_auto_columns": null,
      "grid_auto_flow": null,
      "grid_auto_rows": null,
      "grid_column": null,
      "grid_gap": null,
      "grid_row": null,
      "grid_template_areas": null,
      "grid_template_columns": null,
      "grid_template_rows": null,
      "height": null,
      "justify_content": null,
      "justify_items": null,
      "left": null,
      "margin": null,
      "max_height": null,
      "max_width": null,
      "min_height": null,
      "min_width": null,
      "object_fit": null,
      "object_position": null,
      "order": null,
      "overflow": null,
      "overflow_x": null,
      "overflow_y": null,
      "padding": null,
      "right": null,
      "top": null,
      "visibility": null,
      "width": null
     }
    },
    "14b22ad8dd9840648a9261eed84ff1ec": {
     "model_module": "@jupyter-widgets/controls",
     "model_module_version": "1.5.0",
     "model_name": "ProgressStyleModel",
     "state": {
      "_model_module": "@jupyter-widgets/controls",
      "_model_module_version": "1.5.0",
      "_model_name": "ProgressStyleModel",
      "_view_count": null,
      "_view_module": "@jupyter-widgets/base",
      "_view_module_version": "1.2.0",
      "_view_name": "StyleView",
      "bar_color": null,
      "description_width": ""
     }
    },
    "15946be23f51453e85d7f2482c6a00ba": {
     "model_module": "@jupyter-widgets/base",
     "model_module_version": "1.2.0",
     "model_name": "LayoutModel",
     "state": {
      "_model_module": "@jupyter-widgets/base",
      "_model_module_version": "1.2.0",
      "_model_name": "LayoutModel",
      "_view_count": null,
      "_view_module": "@jupyter-widgets/base",
      "_view_module_version": "1.2.0",
      "_view_name": "LayoutView",
      "align_content": null,
      "align_items": null,
      "align_self": null,
      "border": null,
      "bottom": null,
      "display": null,
      "flex": null,
      "flex_flow": null,
      "grid_area": null,
      "grid_auto_columns": null,
      "grid_auto_flow": null,
      "grid_auto_rows": null,
      "grid_column": null,
      "grid_gap": null,
      "grid_row": null,
      "grid_template_areas": null,
      "grid_template_columns": null,
      "grid_template_rows": null,
      "height": null,
      "justify_content": null,
      "justify_items": null,
      "left": null,
      "margin": null,
      "max_height": null,
      "max_width": null,
      "min_height": null,
      "min_width": null,
      "object_fit": null,
      "object_position": null,
      "order": null,
      "overflow": null,
      "overflow_x": null,
      "overflow_y": null,
      "padding": null,
      "right": null,
      "top": null,
      "visibility": null,
      "width": null
     }
    },
    "19017838669c4f94ba7173f5f1bdc683": {
     "model_module": "@jupyter-widgets/base",
     "model_module_version": "1.2.0",
     "model_name": "LayoutModel",
     "state": {
      "_model_module": "@jupyter-widgets/base",
      "_model_module_version": "1.2.0",
      "_model_name": "LayoutModel",
      "_view_count": null,
      "_view_module": "@jupyter-widgets/base",
      "_view_module_version": "1.2.0",
      "_view_name": "LayoutView",
      "align_content": null,
      "align_items": null,
      "align_self": null,
      "border": null,
      "bottom": null,
      "display": null,
      "flex": null,
      "flex_flow": null,
      "grid_area": null,
      "grid_auto_columns": null,
      "grid_auto_flow": null,
      "grid_auto_rows": null,
      "grid_column": null,
      "grid_gap": null,
      "grid_row": null,
      "grid_template_areas": null,
      "grid_template_columns": null,
      "grid_template_rows": null,
      "height": null,
      "justify_content": null,
      "justify_items": null,
      "left": null,
      "margin": null,
      "max_height": null,
      "max_width": null,
      "min_height": null,
      "min_width": null,
      "object_fit": null,
      "object_position": null,
      "order": null,
      "overflow": null,
      "overflow_x": null,
      "overflow_y": null,
      "padding": null,
      "right": null,
      "top": null,
      "visibility": null,
      "width": null
     }
    },
    "1f1152900c4d47699e4488a73f1a4580": {
     "model_module": "@jupyter-widgets/controls",
     "model_module_version": "1.5.0",
     "model_name": "ProgressStyleModel",
     "state": {
      "_model_module": "@jupyter-widgets/controls",
      "_model_module_version": "1.5.0",
      "_model_name": "ProgressStyleModel",
      "_view_count": null,
      "_view_module": "@jupyter-widgets/base",
      "_view_module_version": "1.2.0",
      "_view_name": "StyleView",
      "bar_color": null,
      "description_width": ""
     }
    },
    "249e8076108e42019490ecaf064c2d69": {
     "model_module": "@jupyter-widgets/controls",
     "model_module_version": "1.5.0",
     "model_name": "HTMLModel",
     "state": {
      "_dom_classes": [],
      "_model_module": "@jupyter-widgets/controls",
      "_model_module_version": "1.5.0",
      "_model_name": "HTMLModel",
      "_view_count": null,
      "_view_module": "@jupyter-widgets/controls",
      "_view_module_version": "1.5.0",
      "_view_name": "HTMLView",
      "description": "",
      "description_tooltip": null,
      "layout": "IPY_MODEL_78405ac3c8284fc7ac65f27b0faedbd2",
      "placeholder": "​",
      "style": "IPY_MODEL_607318e74cb24fc49b0a051a9b33aafe",
      "value": " 1/1 [00:07&lt;00:00,  7.69s/it, loss=0.55]"
     }
    },
    "2551135f381c465eac9962a92b674e95": {
     "model_module": "@jupyter-widgets/base",
     "model_module_version": "1.2.0",
     "model_name": "LayoutModel",
     "state": {
      "_model_module": "@jupyter-widgets/base",
      "_model_module_version": "1.2.0",
      "_model_name": "LayoutModel",
      "_view_count": null,
      "_view_module": "@jupyter-widgets/base",
      "_view_module_version": "1.2.0",
      "_view_name": "LayoutView",
      "align_content": null,
      "align_items": null,
      "align_self": null,
      "border": null,
      "bottom": null,
      "display": null,
      "flex": null,
      "flex_flow": null,
      "grid_area": null,
      "grid_auto_columns": null,
      "grid_auto_flow": null,
      "grid_auto_rows": null,
      "grid_column": null,
      "grid_gap": null,
      "grid_row": null,
      "grid_template_areas": null,
      "grid_template_columns": null,
      "grid_template_rows": null,
      "height": null,
      "justify_content": null,
      "justify_items": null,
      "left": null,
      "margin": null,
      "max_height": null,
      "max_width": null,
      "min_height": null,
      "min_width": null,
      "object_fit": null,
      "object_position": null,
      "order": null,
      "overflow": null,
      "overflow_x": null,
      "overflow_y": null,
      "padding": null,
      "right": null,
      "top": null,
      "visibility": null,
      "width": null
     }
    },
    "26f6b56afdf54f73a5b7eec80b0daf3e": {
     "model_module": "@jupyter-widgets/base",
     "model_module_version": "1.2.0",
     "model_name": "LayoutModel",
     "state": {
      "_model_module": "@jupyter-widgets/base",
      "_model_module_version": "1.2.0",
      "_model_name": "LayoutModel",
      "_view_count": null,
      "_view_module": "@jupyter-widgets/base",
      "_view_module_version": "1.2.0",
      "_view_name": "LayoutView",
      "align_content": null,
      "align_items": null,
      "align_self": null,
      "border": null,
      "bottom": null,
      "display": null,
      "flex": null,
      "flex_flow": null,
      "grid_area": null,
      "grid_auto_columns": null,
      "grid_auto_flow": null,
      "grid_auto_rows": null,
      "grid_column": null,
      "grid_gap": null,
      "grid_row": null,
      "grid_template_areas": null,
      "grid_template_columns": null,
      "grid_template_rows": null,
      "height": null,
      "justify_content": null,
      "justify_items": null,
      "left": null,
      "margin": null,
      "max_height": null,
      "max_width": null,
      "min_height": null,
      "min_width": null,
      "object_fit": null,
      "object_position": null,
      "order": null,
      "overflow": null,
      "overflow_x": null,
      "overflow_y": null,
      "padding": null,
      "right": null,
      "top": null,
      "visibility": null,
      "width": null
     }
    },
    "291f4d7640ae41ddb10a83b445c4ea4e": {
     "model_module": "@jupyter-widgets/base",
     "model_module_version": "1.2.0",
     "model_name": "LayoutModel",
     "state": {
      "_model_module": "@jupyter-widgets/base",
      "_model_module_version": "1.2.0",
      "_model_name": "LayoutModel",
      "_view_count": null,
      "_view_module": "@jupyter-widgets/base",
      "_view_module_version": "1.2.0",
      "_view_name": "LayoutView",
      "align_content": null,
      "align_items": null,
      "align_self": null,
      "border": null,
      "bottom": null,
      "display": null,
      "flex": null,
      "flex_flow": null,
      "grid_area": null,
      "grid_auto_columns": null,
      "grid_auto_flow": null,
      "grid_auto_rows": null,
      "grid_column": null,
      "grid_gap": null,
      "grid_row": null,
      "grid_template_areas": null,
      "grid_template_columns": null,
      "grid_template_rows": null,
      "height": null,
      "justify_content": null,
      "justify_items": null,
      "left": null,
      "margin": null,
      "max_height": null,
      "max_width": null,
      "min_height": null,
      "min_width": null,
      "object_fit": null,
      "object_position": null,
      "order": null,
      "overflow": null,
      "overflow_x": null,
      "overflow_y": null,
      "padding": null,
      "right": null,
      "top": null,
      "visibility": null,
      "width": null
     }
    },
    "2a872ad1ddfe4f87bad03337f6538aa6": {
     "model_module": "@jupyter-widgets/base",
     "model_module_version": "1.2.0",
     "model_name": "LayoutModel",
     "state": {
      "_model_module": "@jupyter-widgets/base",
      "_model_module_version": "1.2.0",
      "_model_name": "LayoutModel",
      "_view_count": null,
      "_view_module": "@jupyter-widgets/base",
      "_view_module_version": "1.2.0",
      "_view_name": "LayoutView",
      "align_content": null,
      "align_items": null,
      "align_self": null,
      "border": null,
      "bottom": null,
      "display": null,
      "flex": null,
      "flex_flow": null,
      "grid_area": null,
      "grid_auto_columns": null,
      "grid_auto_flow": null,
      "grid_auto_rows": null,
      "grid_column": null,
      "grid_gap": null,
      "grid_row": null,
      "grid_template_areas": null,
      "grid_template_columns": null,
      "grid_template_rows": null,
      "height": null,
      "justify_content": null,
      "justify_items": null,
      "left": null,
      "margin": null,
      "max_height": null,
      "max_width": null,
      "min_height": null,
      "min_width": null,
      "object_fit": null,
      "object_position": null,
      "order": null,
      "overflow": null,
      "overflow_x": null,
      "overflow_y": null,
      "padding": null,
      "right": null,
      "top": null,
      "visibility": null,
      "width": null
     }
    },
    "2bfb0a2fbe0b4cbd914236d8f30d4556": {
     "model_module": "@jupyter-widgets/base",
     "model_module_version": "1.2.0",
     "model_name": "LayoutModel",
     "state": {
      "_model_module": "@jupyter-widgets/base",
      "_model_module_version": "1.2.0",
      "_model_name": "LayoutModel",
      "_view_count": null,
      "_view_module": "@jupyter-widgets/base",
      "_view_module_version": "1.2.0",
      "_view_name": "LayoutView",
      "align_content": null,
      "align_items": null,
      "align_self": null,
      "border": null,
      "bottom": null,
      "display": null,
      "flex": null,
      "flex_flow": null,
      "grid_area": null,
      "grid_auto_columns": null,
      "grid_auto_flow": null,
      "grid_auto_rows": null,
      "grid_column": null,
      "grid_gap": null,
      "grid_row": null,
      "grid_template_areas": null,
      "grid_template_columns": null,
      "grid_template_rows": null,
      "height": null,
      "justify_content": null,
      "justify_items": null,
      "left": null,
      "margin": null,
      "max_height": null,
      "max_width": null,
      "min_height": null,
      "min_width": null,
      "object_fit": null,
      "object_position": null,
      "order": null,
      "overflow": null,
      "overflow_x": null,
      "overflow_y": null,
      "padding": null,
      "right": null,
      "top": null,
      "visibility": null,
      "width": null
     }
    },
    "2ddc6c9101d447eaa05df60fd53d6245": {
     "model_module": "@jupyter-widgets/controls",
     "model_module_version": "1.5.0",
     "model_name": "HTMLModel",
     "state": {
      "_dom_classes": [],
      "_model_module": "@jupyter-widgets/controls",
      "_model_module_version": "1.5.0",
      "_model_name": "HTMLModel",
      "_view_count": null,
      "_view_module": "@jupyter-widgets/controls",
      "_view_module_version": "1.5.0",
      "_view_name": "HTMLView",
      "description": "",
      "description_tooltip": null,
      "layout": "IPY_MODEL_5f9a55350f9945e2be31da7b8e718da3",
      "placeholder": "​",
      "style": "IPY_MODEL_dfc4ea64e531443492726644bd95e72c",
      "value": " 100/100 [00:01&lt;00:00, 106.97it/s, loss=708.96]"
     }
    },
    "2e3029400ff9455984b8810783942fd8": {
     "model_module": "@jupyter-widgets/controls",
     "model_module_version": "1.5.0",
     "model_name": "HTMLModel",
     "state": {
      "_dom_classes": [],
      "_model_module": "@jupyter-widgets/controls",
      "_model_module_version": "1.5.0",
      "_model_name": "HTMLModel",
      "_view_count": null,
      "_view_module": "@jupyter-widgets/controls",
      "_view_module_version": "1.5.0",
      "_view_name": "HTMLView",
      "description": "",
      "description_tooltip": null,
      "layout": "IPY_MODEL_26f6b56afdf54f73a5b7eec80b0daf3e",
      "placeholder": "​",
      "style": "IPY_MODEL_353f89501be746e6a9525a2711c8c36c",
      "value": "100%"
     }
    },
    "353f89501be746e6a9525a2711c8c36c": {
     "model_module": "@jupyter-widgets/controls",
     "model_module_version": "1.5.0",
     "model_name": "DescriptionStyleModel",
     "state": {
      "_model_module": "@jupyter-widgets/controls",
      "_model_module_version": "1.5.0",
      "_model_name": "DescriptionStyleModel",
      "_view_count": null,
      "_view_module": "@jupyter-widgets/base",
      "_view_module_version": "1.2.0",
      "_view_name": "StyleView",
      "description_width": ""
     }
    },
    "370d8b6e49dc495b94584edc5f3a957e": {
     "model_module": "@jupyter-widgets/base",
     "model_module_version": "1.2.0",
     "model_name": "LayoutModel",
     "state": {
      "_model_module": "@jupyter-widgets/base",
      "_model_module_version": "1.2.0",
      "_model_name": "LayoutModel",
      "_view_count": null,
      "_view_module": "@jupyter-widgets/base",
      "_view_module_version": "1.2.0",
      "_view_name": "LayoutView",
      "align_content": null,
      "align_items": null,
      "align_self": null,
      "border": null,
      "bottom": null,
      "display": null,
      "flex": null,
      "flex_flow": null,
      "grid_area": null,
      "grid_auto_columns": null,
      "grid_auto_flow": null,
      "grid_auto_rows": null,
      "grid_column": null,
      "grid_gap": null,
      "grid_row": null,
      "grid_template_areas": null,
      "grid_template_columns": null,
      "grid_template_rows": null,
      "height": null,
      "justify_content": null,
      "justify_items": null,
      "left": null,
      "margin": null,
      "max_height": null,
      "max_width": null,
      "min_height": null,
      "min_width": null,
      "object_fit": null,
      "object_position": null,
      "order": null,
      "overflow": null,
      "overflow_x": null,
      "overflow_y": null,
      "padding": null,
      "right": null,
      "top": null,
      "visibility": null,
      "width": null
     }
    },
    "38ed0c7440f942b5a0f3a8a272638bac": {
     "model_module": "@jupyter-widgets/controls",
     "model_module_version": "1.5.0",
     "model_name": "DescriptionStyleModel",
     "state": {
      "_model_module": "@jupyter-widgets/controls",
      "_model_module_version": "1.5.0",
      "_model_name": "DescriptionStyleModel",
      "_view_count": null,
      "_view_module": "@jupyter-widgets/base",
      "_view_module_version": "1.2.0",
      "_view_name": "StyleView",
      "description_width": ""
     }
    },
    "3cb259aa65bd43359ef445b994aa2161": {
     "model_module": "@jupyter-widgets/base",
     "model_module_version": "1.2.0",
     "model_name": "LayoutModel",
     "state": {
      "_model_module": "@jupyter-widgets/base",
      "_model_module_version": "1.2.0",
      "_model_name": "LayoutModel",
      "_view_count": null,
      "_view_module": "@jupyter-widgets/base",
      "_view_module_version": "1.2.0",
      "_view_name": "LayoutView",
      "align_content": null,
      "align_items": null,
      "align_self": null,
      "border": null,
      "bottom": null,
      "display": null,
      "flex": null,
      "flex_flow": null,
      "grid_area": null,
      "grid_auto_columns": null,
      "grid_auto_flow": null,
      "grid_auto_rows": null,
      "grid_column": null,
      "grid_gap": null,
      "grid_row": null,
      "grid_template_areas": null,
      "grid_template_columns": null,
      "grid_template_rows": null,
      "height": null,
      "justify_content": null,
      "justify_items": null,
      "left": null,
      "margin": null,
      "max_height": null,
      "max_width": null,
      "min_height": null,
      "min_width": null,
      "object_fit": null,
      "object_position": null,
      "order": null,
      "overflow": null,
      "overflow_x": null,
      "overflow_y": null,
      "padding": null,
      "right": null,
      "top": null,
      "visibility": null,
      "width": null
     }
    },
    "3fd6570e2f844fb9b1a6b68a5ddf2666": {
     "model_module": "@jupyter-widgets/controls",
     "model_module_version": "1.5.0",
     "model_name": "HBoxModel",
     "state": {
      "_dom_classes": [],
      "_model_module": "@jupyter-widgets/controls",
      "_model_module_version": "1.5.0",
      "_model_name": "HBoxModel",
      "_view_count": null,
      "_view_module": "@jupyter-widgets/controls",
      "_view_module_version": "1.5.0",
      "_view_name": "HBoxView",
      "box_style": "",
      "children": [
       "IPY_MODEL_54b0889790ff42d59b939fd983a27028",
       "IPY_MODEL_05ced476aae048cba12763a4c75cc071",
       "IPY_MODEL_c0980e2862c14e718bb213fd88c4db4d"
      ],
      "layout": "IPY_MODEL_e43efb3f05014c33b0866d6ccd878ce1"
     }
    },
    "45009b28a2e64ab58d5f672feea9312e": {
     "model_module": "@jupyter-widgets/controls",
     "model_module_version": "1.5.0",
     "model_name": "HBoxModel",
     "state": {
      "_dom_classes": [],
      "_model_module": "@jupyter-widgets/controls",
      "_model_module_version": "1.5.0",
      "_model_name": "HBoxModel",
      "_view_count": null,
      "_view_module": "@jupyter-widgets/controls",
      "_view_module_version": "1.5.0",
      "_view_name": "HBoxView",
      "box_style": "",
      "children": [
       "IPY_MODEL_58a69f12763d44b6a92099a40855f123",
       "IPY_MODEL_981d9dc5b6154b439c69497fc0997c82",
       "IPY_MODEL_b38590f905974c9e90808433e67ebf36"
      ],
      "layout": "IPY_MODEL_a0a250984c0a41aba0766d149a007003"
     }
    },
    "47c142d3c3a74c6f95ebc9c73bef6753": {
     "model_module": "@jupyter-widgets/controls",
     "model_module_version": "1.5.0",
     "model_name": "HTMLModel",
     "state": {
      "_dom_classes": [],
      "_model_module": "@jupyter-widgets/controls",
      "_model_module_version": "1.5.0",
      "_model_name": "HTMLModel",
      "_view_count": null,
      "_view_module": "@jupyter-widgets/controls",
      "_view_module_version": "1.5.0",
      "_view_name": "HTMLView",
      "description": "",
      "description_tooltip": null,
      "layout": "IPY_MODEL_03e2663abd8f45c58fc44622ec5dbb49",
      "placeholder": "​",
      "style": "IPY_MODEL_d003c0a70742429aae22e30ced420509",
      "value": " 6358/6358 [00:00&lt;00:00, 29386.52it/s]"
     }
    },
    "482c162936654dd5be8094d2092e0491": {
     "model_module": "@jupyter-widgets/controls",
     "model_module_version": "1.5.0",
     "model_name": "DescriptionStyleModel",
     "state": {
      "_model_module": "@jupyter-widgets/controls",
      "_model_module_version": "1.5.0",
      "_model_name": "DescriptionStyleModel",
      "_view_count": null,
      "_view_module": "@jupyter-widgets/base",
      "_view_module_version": "1.2.0",
      "_view_name": "StyleView",
      "description_width": ""
     }
    },
    "4b6b15943b004e1b8a5acc08cedf2491": {
     "model_module": "@jupyter-widgets/controls",
     "model_module_version": "1.5.0",
     "model_name": "DescriptionStyleModel",
     "state": {
      "_model_module": "@jupyter-widgets/controls",
      "_model_module_version": "1.5.0",
      "_model_name": "DescriptionStyleModel",
      "_view_count": null,
      "_view_module": "@jupyter-widgets/base",
      "_view_module_version": "1.2.0",
      "_view_name": "StyleView",
      "description_width": ""
     }
    },
    "51254583606d4f509b5cc000cb26e4fc": {
     "model_module": "@jupyter-widgets/controls",
     "model_module_version": "1.5.0",
     "model_name": "FloatProgressModel",
     "state": {
      "_dom_classes": [],
      "_model_module": "@jupyter-widgets/controls",
      "_model_module_version": "1.5.0",
      "_model_name": "FloatProgressModel",
      "_view_count": null,
      "_view_module": "@jupyter-widgets/controls",
      "_view_module_version": "1.5.0",
      "_view_name": "ProgressView",
      "bar_style": "success",
      "description": "",
      "description_tooltip": null,
      "layout": "IPY_MODEL_fd2d8867e29d41f784c6b1a9edd084da",
      "max": 50,
      "min": 0,
      "orientation": "horizontal",
      "style": "IPY_MODEL_1f1152900c4d47699e4488a73f1a4580",
      "value": 50
     }
    },
    "52862a5071614acc97ade774ce57f374": {
     "model_module": "@jupyter-widgets/base",
     "model_module_version": "1.2.0",
     "model_name": "LayoutModel",
     "state": {
      "_model_module": "@jupyter-widgets/base",
      "_model_module_version": "1.2.0",
      "_model_name": "LayoutModel",
      "_view_count": null,
      "_view_module": "@jupyter-widgets/base",
      "_view_module_version": "1.2.0",
      "_view_name": "LayoutView",
      "align_content": null,
      "align_items": null,
      "align_self": null,
      "border": null,
      "bottom": null,
      "display": null,
      "flex": null,
      "flex_flow": null,
      "grid_area": null,
      "grid_auto_columns": null,
      "grid_auto_flow": null,
      "grid_auto_rows": null,
      "grid_column": null,
      "grid_gap": null,
      "grid_row": null,
      "grid_template_areas": null,
      "grid_template_columns": null,
      "grid_template_rows": null,
      "height": null,
      "justify_content": null,
      "justify_items": null,
      "left": null,
      "margin": null,
      "max_height": null,
      "max_width": null,
      "min_height": null,
      "min_width": null,
      "object_fit": null,
      "object_position": null,
      "order": null,
      "overflow": null,
      "overflow_x": null,
      "overflow_y": null,
      "padding": null,
      "right": null,
      "top": null,
      "visibility": null,
      "width": null
     }
    },
    "534f7c1329114fde9b33fa960e99c20e": {
     "model_module": "@jupyter-widgets/controls",
     "model_module_version": "1.5.0",
     "model_name": "HTMLModel",
     "state": {
      "_dom_classes": [],
      "_model_module": "@jupyter-widgets/controls",
      "_model_module_version": "1.5.0",
      "_model_name": "HTMLModel",
      "_view_count": null,
      "_view_module": "@jupyter-widgets/controls",
      "_view_module_version": "1.5.0",
      "_view_name": "HTMLView",
      "description": "",
      "description_tooltip": null,
      "layout": "IPY_MODEL_e2b5f91deb9146ebaa303af5d481b562",
      "placeholder": "​",
      "style": "IPY_MODEL_4b6b15943b004e1b8a5acc08cedf2491",
      "value": " 50/50 [01:12&lt;00:00,  1.41s/it, loss=216]"
     }
    },
    "5461e49f820345ea8d6b87bff66d4ed9": {
     "model_module": "@jupyter-widgets/controls",
     "model_module_version": "1.5.0",
     "model_name": "DescriptionStyleModel",
     "state": {
      "_model_module": "@jupyter-widgets/controls",
      "_model_module_version": "1.5.0",
      "_model_name": "DescriptionStyleModel",
      "_view_count": null,
      "_view_module": "@jupyter-widgets/base",
      "_view_module_version": "1.2.0",
      "_view_name": "StyleView",
      "description_width": ""
     }
    },
    "54b0889790ff42d59b939fd983a27028": {
     "model_module": "@jupyter-widgets/controls",
     "model_module_version": "1.5.0",
     "model_name": "HTMLModel",
     "state": {
      "_dom_classes": [],
      "_model_module": "@jupyter-widgets/controls",
      "_model_module_version": "1.5.0",
      "_model_name": "HTMLModel",
      "_view_count": null,
      "_view_module": "@jupyter-widgets/controls",
      "_view_module_version": "1.5.0",
      "_view_name": "HTMLView",
      "description": "",
      "description_tooltip": null,
      "layout": "IPY_MODEL_6df61700c54d4428b1e93de8470d1e4f",
      "placeholder": "​",
      "style": "IPY_MODEL_d9dea54280cf4158a3e766bbb7577d8d",
      "value": "100%"
     }
    },
    "550dbf53620143a3b0d5770056c07158": {
     "model_module": "@jupyter-widgets/controls",
     "model_module_version": "1.5.0",
     "model_name": "HBoxModel",
     "state": {
      "_dom_classes": [],
      "_model_module": "@jupyter-widgets/controls",
      "_model_module_version": "1.5.0",
      "_model_name": "HBoxModel",
      "_view_count": null,
      "_view_module": "@jupyter-widgets/controls",
      "_view_module_version": "1.5.0",
      "_view_name": "HBoxView",
      "box_style": "",
      "children": [
       "IPY_MODEL_8916184295c14f01a0d9b1c4657ad35e",
       "IPY_MODEL_e1dbc638060e4771bd567db9b201ce3e",
       "IPY_MODEL_249e8076108e42019490ecaf064c2d69"
      ],
      "layout": "IPY_MODEL_7922bf85f0dd418286de6450b586a8eb"
     }
    },
    "56263c4b148340c7912fe9fe96b21e69": {
     "model_module": "@jupyter-widgets/controls",
     "model_module_version": "1.5.0",
     "model_name": "HBoxModel",
     "state": {
      "_dom_classes": [],
      "_model_module": "@jupyter-widgets/controls",
      "_model_module_version": "1.5.0",
      "_model_name": "HBoxModel",
      "_view_count": null,
      "_view_module": "@jupyter-widgets/controls",
      "_view_module_version": "1.5.0",
      "_view_name": "HBoxView",
      "box_style": "",
      "children": [
       "IPY_MODEL_2e3029400ff9455984b8810783942fd8",
       "IPY_MODEL_51254583606d4f509b5cc000cb26e4fc",
       "IPY_MODEL_b6c0c9e9c0b94693b6db36dee76b6125"
      ],
      "layout": "IPY_MODEL_3cb259aa65bd43359ef445b994aa2161"
     }
    },
    "56cdca55f9334d12ba10cbdddc3e1812": {
     "model_module": "@jupyter-widgets/controls",
     "model_module_version": "1.5.0",
     "model_name": "DescriptionStyleModel",
     "state": {
      "_model_module": "@jupyter-widgets/controls",
      "_model_module_version": "1.5.0",
      "_model_name": "DescriptionStyleModel",
      "_view_count": null,
      "_view_module": "@jupyter-widgets/base",
      "_view_module_version": "1.2.0",
      "_view_name": "StyleView",
      "description_width": ""
     }
    },
    "5772a5ea7b624f82bb4dc965dcb7dd2d": {
     "model_module": "@jupyter-widgets/controls",
     "model_module_version": "1.5.0",
     "model_name": "HBoxModel",
     "state": {
      "_dom_classes": [],
      "_model_module": "@jupyter-widgets/controls",
      "_model_module_version": "1.5.0",
      "_model_name": "HBoxModel",
      "_view_count": null,
      "_view_module": "@jupyter-widgets/controls",
      "_view_module_version": "1.5.0",
      "_view_name": "HBoxView",
      "box_style": "",
      "children": [
       "IPY_MODEL_7a02216894a949569b620c9d8a411025",
       "IPY_MODEL_5c97216e42aa45b88cd2dea7b124eec3",
       "IPY_MODEL_47c142d3c3a74c6f95ebc9c73bef6753"
      ],
      "layout": "IPY_MODEL_11701acc260443e6b12b025334b94045"
     }
    },
    "58a69f12763d44b6a92099a40855f123": {
     "model_module": "@jupyter-widgets/controls",
     "model_module_version": "1.5.0",
     "model_name": "HTMLModel",
     "state": {
      "_dom_classes": [],
      "_model_module": "@jupyter-widgets/controls",
      "_model_module_version": "1.5.0",
      "_model_name": "HTMLModel",
      "_view_count": null,
      "_view_module": "@jupyter-widgets/controls",
      "_view_module_version": "1.5.0",
      "_view_name": "HTMLView",
      "description": "",
      "description_tooltip": null,
      "layout": "IPY_MODEL_2551135f381c465eac9962a92b674e95",
      "placeholder": "​",
      "style": "IPY_MODEL_5461e49f820345ea8d6b87bff66d4ed9",
      "value": "100%"
     }
    },
    "5c97216e42aa45b88cd2dea7b124eec3": {
     "model_module": "@jupyter-widgets/controls",
     "model_module_version": "1.5.0",
     "model_name": "FloatProgressModel",
     "state": {
      "_dom_classes": [],
      "_model_module": "@jupyter-widgets/controls",
      "_model_module_version": "1.5.0",
      "_model_name": "FloatProgressModel",
      "_view_count": null,
      "_view_module": "@jupyter-widgets/controls",
      "_view_module_version": "1.5.0",
      "_view_name": "ProgressView",
      "bar_style": "success",
      "description": "",
      "description_tooltip": null,
      "layout": "IPY_MODEL_19017838669c4f94ba7173f5f1bdc683",
      "max": 6358,
      "min": 0,
      "orientation": "horizontal",
      "style": "IPY_MODEL_a2327857485c4d56bad7a66b58c5faaa",
      "value": 6358
     }
    },
    "5caeb36a8ada43c6aae70bda6108e006": {
     "model_module": "@jupyter-widgets/base",
     "model_module_version": "1.2.0",
     "model_name": "LayoutModel",
     "state": {
      "_model_module": "@jupyter-widgets/base",
      "_model_module_version": "1.2.0",
      "_model_name": "LayoutModel",
      "_view_count": null,
      "_view_module": "@jupyter-widgets/base",
      "_view_module_version": "1.2.0",
      "_view_name": "LayoutView",
      "align_content": null,
      "align_items": null,
      "align_self": null,
      "border": null,
      "bottom": null,
      "display": null,
      "flex": null,
      "flex_flow": null,
      "grid_area": null,
      "grid_auto_columns": null,
      "grid_auto_flow": null,
      "grid_auto_rows": null,
      "grid_column": null,
      "grid_gap": null,
      "grid_row": null,
      "grid_template_areas": null,
      "grid_template_columns": null,
      "grid_template_rows": null,
      "height": null,
      "justify_content": null,
      "justify_items": null,
      "left": null,
      "margin": null,
      "max_height": null,
      "max_width": null,
      "min_height": null,
      "min_width": null,
      "object_fit": null,
      "object_position": null,
      "order": null,
      "overflow": null,
      "overflow_x": null,
      "overflow_y": null,
      "padding": null,
      "right": null,
      "top": null,
      "visibility": null,
      "width": null
     }
    },
    "5f9a55350f9945e2be31da7b8e718da3": {
     "model_module": "@jupyter-widgets/base",
     "model_module_version": "1.2.0",
     "model_name": "LayoutModel",
     "state": {
      "_model_module": "@jupyter-widgets/base",
      "_model_module_version": "1.2.0",
      "_model_name": "LayoutModel",
      "_view_count": null,
      "_view_module": "@jupyter-widgets/base",
      "_view_module_version": "1.2.0",
      "_view_name": "LayoutView",
      "align_content": null,
      "align_items": null,
      "align_self": null,
      "border": null,
      "bottom": null,
      "display": null,
      "flex": null,
      "flex_flow": null,
      "grid_area": null,
      "grid_auto_columns": null,
      "grid_auto_flow": null,
      "grid_auto_rows": null,
      "grid_column": null,
      "grid_gap": null,
      "grid_row": null,
      "grid_template_areas": null,
      "grid_template_columns": null,
      "grid_template_rows": null,
      "height": null,
      "justify_content": null,
      "justify_items": null,
      "left": null,
      "margin": null,
      "max_height": null,
      "max_width": null,
      "min_height": null,
      "min_width": null,
      "object_fit": null,
      "object_position": null,
      "order": null,
      "overflow": null,
      "overflow_x": null,
      "overflow_y": null,
      "padding": null,
      "right": null,
      "top": null,
      "visibility": null,
      "width": null
     }
    },
    "607318e74cb24fc49b0a051a9b33aafe": {
     "model_module": "@jupyter-widgets/controls",
     "model_module_version": "1.5.0",
     "model_name": "DescriptionStyleModel",
     "state": {
      "_model_module": "@jupyter-widgets/controls",
      "_model_module_version": "1.5.0",
      "_model_name": "DescriptionStyleModel",
      "_view_count": null,
      "_view_module": "@jupyter-widgets/base",
      "_view_module_version": "1.2.0",
      "_view_name": "StyleView",
      "description_width": ""
     }
    },
    "632463ca79784bc58c5973069e73efd1": {
     "model_module": "@jupyter-widgets/controls",
     "model_module_version": "1.5.0",
     "model_name": "FloatProgressModel",
     "state": {
      "_dom_classes": [],
      "_model_module": "@jupyter-widgets/controls",
      "_model_module_version": "1.5.0",
      "_model_name": "FloatProgressModel",
      "_view_count": null,
      "_view_module": "@jupyter-widgets/controls",
      "_view_module_version": "1.5.0",
      "_view_name": "ProgressView",
      "bar_style": "success",
      "description": "",
      "description_tooltip": null,
      "layout": "IPY_MODEL_c01ecfe20dc54f56876d3b039c7246f2",
      "max": 100,
      "min": 0,
      "orientation": "horizontal",
      "style": "IPY_MODEL_f51862f5756648e1a3b1415c943f2b7d",
      "value": 100
     }
    },
    "6a50622aa99d403fbc033a1080f6df74": {
     "model_module": "@jupyter-widgets/controls",
     "model_module_version": "1.5.0",
     "model_name": "FloatProgressModel",
     "state": {
      "_dom_classes": [],
      "_model_module": "@jupyter-widgets/controls",
      "_model_module_version": "1.5.0",
      "_model_name": "FloatProgressModel",
      "_view_count": null,
      "_view_module": "@jupyter-widgets/controls",
      "_view_module_version": "1.5.0",
      "_view_name": "ProgressView",
      "bar_style": "success",
      "description": "",
      "description_tooltip": null,
      "layout": "IPY_MODEL_2bfb0a2fbe0b4cbd914236d8f30d4556",
      "max": 100,
      "min": 0,
      "orientation": "horizontal",
      "style": "IPY_MODEL_b0aa0728bc7d454c8e1fa66474a6c9a1",
      "value": 100
     }
    },
    "6df61700c54d4428b1e93de8470d1e4f": {
     "model_module": "@jupyter-widgets/base",
     "model_module_version": "1.2.0",
     "model_name": "LayoutModel",
     "state": {
      "_model_module": "@jupyter-widgets/base",
      "_model_module_version": "1.2.0",
      "_model_name": "LayoutModel",
      "_view_count": null,
      "_view_module": "@jupyter-widgets/base",
      "_view_module_version": "1.2.0",
      "_view_name": "LayoutView",
      "align_content": null,
      "align_items": null,
      "align_self": null,
      "border": null,
      "bottom": null,
      "display": null,
      "flex": null,
      "flex_flow": null,
      "grid_area": null,
      "grid_auto_columns": null,
      "grid_auto_flow": null,
      "grid_auto_rows": null,
      "grid_column": null,
      "grid_gap": null,
      "grid_row": null,
      "grid_template_areas": null,
      "grid_template_columns": null,
      "grid_template_rows": null,
      "height": null,
      "justify_content": null,
      "justify_items": null,
      "left": null,
      "margin": null,
      "max_height": null,
      "max_width": null,
      "min_height": null,
      "min_width": null,
      "object_fit": null,
      "object_position": null,
      "order": null,
      "overflow": null,
      "overflow_x": null,
      "overflow_y": null,
      "padding": null,
      "right": null,
      "top": null,
      "visibility": null,
      "width": null
     }
    },
    "6fbbe7da277441ed9a41de78c9dd1bc3": {
     "model_module": "@jupyter-widgets/controls",
     "model_module_version": "1.5.0",
     "model_name": "HTMLModel",
     "state": {
      "_dom_classes": [],
      "_model_module": "@jupyter-widgets/controls",
      "_model_module_version": "1.5.0",
      "_model_name": "HTMLModel",
      "_view_count": null,
      "_view_module": "@jupyter-widgets/controls",
      "_view_module_version": "1.5.0",
      "_view_name": "HTMLView",
      "description": "",
      "description_tooltip": null,
      "layout": "IPY_MODEL_a6fdaf0b2d114717b2c6c13eb9cda196",
      "placeholder": "​",
      "style": "IPY_MODEL_a1848c08a1eb421aa6d2baa0e25a9439",
      "value": "100%"
     }
    },
    "78405ac3c8284fc7ac65f27b0faedbd2": {
     "model_module": "@jupyter-widgets/base",
     "model_module_version": "1.2.0",
     "model_name": "LayoutModel",
     "state": {
      "_model_module": "@jupyter-widgets/base",
      "_model_module_version": "1.2.0",
      "_model_name": "LayoutModel",
      "_view_count": null,
      "_view_module": "@jupyter-widgets/base",
      "_view_module_version": "1.2.0",
      "_view_name": "LayoutView",
      "align_content": null,
      "align_items": null,
      "align_self": null,
      "border": null,
      "bottom": null,
      "display": null,
      "flex": null,
      "flex_flow": null,
      "grid_area": null,
      "grid_auto_columns": null,
      "grid_auto_flow": null,
      "grid_auto_rows": null,
      "grid_column": null,
      "grid_gap": null,
      "grid_row": null,
      "grid_template_areas": null,
      "grid_template_columns": null,
      "grid_template_rows": null,
      "height": null,
      "justify_content": null,
      "justify_items": null,
      "left": null,
      "margin": null,
      "max_height": null,
      "max_width": null,
      "min_height": null,
      "min_width": null,
      "object_fit": null,
      "object_position": null,
      "order": null,
      "overflow": null,
      "overflow_x": null,
      "overflow_y": null,
      "padding": null,
      "right": null,
      "top": null,
      "visibility": null,
      "width": null
     }
    },
    "7922bf85f0dd418286de6450b586a8eb": {
     "model_module": "@jupyter-widgets/base",
     "model_module_version": "1.2.0",
     "model_name": "LayoutModel",
     "state": {
      "_model_module": "@jupyter-widgets/base",
      "_model_module_version": "1.2.0",
      "_model_name": "LayoutModel",
      "_view_count": null,
      "_view_module": "@jupyter-widgets/base",
      "_view_module_version": "1.2.0",
      "_view_name": "LayoutView",
      "align_content": null,
      "align_items": null,
      "align_self": null,
      "border": null,
      "bottom": null,
      "display": null,
      "flex": null,
      "flex_flow": null,
      "grid_area": null,
      "grid_auto_columns": null,
      "grid_auto_flow": null,
      "grid_auto_rows": null,
      "grid_column": null,
      "grid_gap": null,
      "grid_row": null,
      "grid_template_areas": null,
      "grid_template_columns": null,
      "grid_template_rows": null,
      "height": null,
      "justify_content": null,
      "justify_items": null,
      "left": null,
      "margin": null,
      "max_height": null,
      "max_width": null,
      "min_height": null,
      "min_width": null,
      "object_fit": null,
      "object_position": null,
      "order": null,
      "overflow": null,
      "overflow_x": null,
      "overflow_y": null,
      "padding": null,
      "right": null,
      "top": null,
      "visibility": null,
      "width": null
     }
    },
    "7a02216894a949569b620c9d8a411025": {
     "model_module": "@jupyter-widgets/controls",
     "model_module_version": "1.5.0",
     "model_name": "HTMLModel",
     "state": {
      "_dom_classes": [],
      "_model_module": "@jupyter-widgets/controls",
      "_model_module_version": "1.5.0",
      "_model_name": "HTMLModel",
      "_view_count": null,
      "_view_module": "@jupyter-widgets/controls",
      "_view_module_version": "1.5.0",
      "_view_name": "HTMLView",
      "description": "",
      "description_tooltip": null,
      "layout": "IPY_MODEL_036c9ab3b0624e7aac37fc4e54b579cb",
      "placeholder": "​",
      "style": "IPY_MODEL_56cdca55f9334d12ba10cbdddc3e1812",
      "value": "100%"
     }
    },
    "7a52b86e42364b47a0dcb0e6da659edf": {
     "model_module": "@jupyter-widgets/base",
     "model_module_version": "1.2.0",
     "model_name": "LayoutModel",
     "state": {
      "_model_module": "@jupyter-widgets/base",
      "_model_module_version": "1.2.0",
      "_model_name": "LayoutModel",
      "_view_count": null,
      "_view_module": "@jupyter-widgets/base",
      "_view_module_version": "1.2.0",
      "_view_name": "LayoutView",
      "align_content": null,
      "align_items": null,
      "align_self": null,
      "border": null,
      "bottom": null,
      "display": null,
      "flex": null,
      "flex_flow": null,
      "grid_area": null,
      "grid_auto_columns": null,
      "grid_auto_flow": null,
      "grid_auto_rows": null,
      "grid_column": null,
      "grid_gap": null,
      "grid_row": null,
      "grid_template_areas": null,
      "grid_template_columns": null,
      "grid_template_rows": null,
      "height": null,
      "justify_content": null,
      "justify_items": null,
      "left": null,
      "margin": null,
      "max_height": null,
      "max_width": null,
      "min_height": null,
      "min_width": null,
      "object_fit": null,
      "object_position": null,
      "order": null,
      "overflow": null,
      "overflow_x": null,
      "overflow_y": null,
      "padding": null,
      "right": null,
      "top": null,
      "visibility": null,
      "width": null
     }
    },
    "7ad4d0816d644bb5b61271dcd43dab6c": {
     "model_module": "@jupyter-widgets/base",
     "model_module_version": "1.2.0",
     "model_name": "LayoutModel",
     "state": {
      "_model_module": "@jupyter-widgets/base",
      "_model_module_version": "1.2.0",
      "_model_name": "LayoutModel",
      "_view_count": null,
      "_view_module": "@jupyter-widgets/base",
      "_view_module_version": "1.2.0",
      "_view_name": "LayoutView",
      "align_content": null,
      "align_items": null,
      "align_self": null,
      "border": null,
      "bottom": null,
      "display": null,
      "flex": null,
      "flex_flow": null,
      "grid_area": null,
      "grid_auto_columns": null,
      "grid_auto_flow": null,
      "grid_auto_rows": null,
      "grid_column": null,
      "grid_gap": null,
      "grid_row": null,
      "grid_template_areas": null,
      "grid_template_columns": null,
      "grid_template_rows": null,
      "height": null,
      "justify_content": null,
      "justify_items": null,
      "left": null,
      "margin": null,
      "max_height": null,
      "max_width": null,
      "min_height": null,
      "min_width": null,
      "object_fit": null,
      "object_position": null,
      "order": null,
      "overflow": null,
      "overflow_x": null,
      "overflow_y": null,
      "padding": null,
      "right": null,
      "top": null,
      "visibility": null,
      "width": null
     }
    },
    "8916184295c14f01a0d9b1c4657ad35e": {
     "model_module": "@jupyter-widgets/controls",
     "model_module_version": "1.5.0",
     "model_name": "HTMLModel",
     "state": {
      "_dom_classes": [],
      "_model_module": "@jupyter-widgets/controls",
      "_model_module_version": "1.5.0",
      "_model_name": "HTMLModel",
      "_view_count": null,
      "_view_module": "@jupyter-widgets/controls",
      "_view_module_version": "1.5.0",
      "_view_name": "HTMLView",
      "description": "",
      "description_tooltip": null,
      "layout": "IPY_MODEL_e63b1ac496f741b9b3e83ead997ac2fa",
      "placeholder": "​",
      "style": "IPY_MODEL_aa678d54387f4bbab607c3af45abc844",
      "value": "100%"
     }
    },
    "97648f35c34c452592248d1ab68d6ac5": {
     "model_module": "@jupyter-widgets/controls",
     "model_module_version": "1.5.0",
     "model_name": "HTMLModel",
     "state": {
      "_dom_classes": [],
      "_model_module": "@jupyter-widgets/controls",
      "_model_module_version": "1.5.0",
      "_model_name": "HTMLModel",
      "_view_count": null,
      "_view_module": "@jupyter-widgets/controls",
      "_view_module_version": "1.5.0",
      "_view_name": "HTMLView",
      "description": "",
      "description_tooltip": null,
      "layout": "IPY_MODEL_bc6efabf4dd14eee87a1d4f7e3b4a8ab",
      "placeholder": "​",
      "style": "IPY_MODEL_0b3efd2348bf4c6d8d23665cf4fa12d1",
      "value": "100%"
     }
    },
    "981d9dc5b6154b439c69497fc0997c82": {
     "model_module": "@jupyter-widgets/controls",
     "model_module_version": "1.5.0",
     "model_name": "FloatProgressModel",
     "state": {
      "_dom_classes": [],
      "_model_module": "@jupyter-widgets/controls",
      "_model_module_version": "1.5.0",
      "_model_name": "FloatProgressModel",
      "_view_count": null,
      "_view_module": "@jupyter-widgets/controls",
      "_view_module_version": "1.5.0",
      "_view_name": "ProgressView",
      "bar_style": "success",
      "description": "",
      "description_tooltip": null,
      "layout": "IPY_MODEL_291f4d7640ae41ddb10a83b445c4ea4e",
      "max": 6358,
      "min": 0,
      "orientation": "horizontal",
      "style": "IPY_MODEL_adf31d284f674e1c8a6ee085bb691ea8",
      "value": 6358
     }
    },
    "a0a250984c0a41aba0766d149a007003": {
     "model_module": "@jupyter-widgets/base",
     "model_module_version": "1.2.0",
     "model_name": "LayoutModel",
     "state": {
      "_model_module": "@jupyter-widgets/base",
      "_model_module_version": "1.2.0",
      "_model_name": "LayoutModel",
      "_view_count": null,
      "_view_module": "@jupyter-widgets/base",
      "_view_module_version": "1.2.0",
      "_view_name": "LayoutView",
      "align_content": null,
      "align_items": null,
      "align_self": null,
      "border": null,
      "bottom": null,
      "display": null,
      "flex": null,
      "flex_flow": null,
      "grid_area": null,
      "grid_auto_columns": null,
      "grid_auto_flow": null,
      "grid_auto_rows": null,
      "grid_column": null,
      "grid_gap": null,
      "grid_row": null,
      "grid_template_areas": null,
      "grid_template_columns": null,
      "grid_template_rows": null,
      "height": null,
      "justify_content": null,
      "justify_items": null,
      "left": null,
      "margin": null,
      "max_height": null,
      "max_width": null,
      "min_height": null,
      "min_width": null,
      "object_fit": null,
      "object_position": null,
      "order": null,
      "overflow": null,
      "overflow_x": null,
      "overflow_y": null,
      "padding": null,
      "right": null,
      "top": null,
      "visibility": null,
      "width": null
     }
    },
    "a1033e821a9b48a38b2bfff29a3b41ca": {
     "model_module": "@jupyter-widgets/controls",
     "model_module_version": "1.5.0",
     "model_name": "DescriptionStyleModel",
     "state": {
      "_model_module": "@jupyter-widgets/controls",
      "_model_module_version": "1.5.0",
      "_model_name": "DescriptionStyleModel",
      "_view_count": null,
      "_view_module": "@jupyter-widgets/base",
      "_view_module_version": "1.2.0",
      "_view_name": "StyleView",
      "description_width": ""
     }
    },
    "a1848c08a1eb421aa6d2baa0e25a9439": {
     "model_module": "@jupyter-widgets/controls",
     "model_module_version": "1.5.0",
     "model_name": "DescriptionStyleModel",
     "state": {
      "_model_module": "@jupyter-widgets/controls",
      "_model_module_version": "1.5.0",
      "_model_name": "DescriptionStyleModel",
      "_view_count": null,
      "_view_module": "@jupyter-widgets/base",
      "_view_module_version": "1.2.0",
      "_view_name": "StyleView",
      "description_width": ""
     }
    },
    "a2327857485c4d56bad7a66b58c5faaa": {
     "model_module": "@jupyter-widgets/controls",
     "model_module_version": "1.5.0",
     "model_name": "ProgressStyleModel",
     "state": {
      "_model_module": "@jupyter-widgets/controls",
      "_model_module_version": "1.5.0",
      "_model_name": "ProgressStyleModel",
      "_view_count": null,
      "_view_module": "@jupyter-widgets/base",
      "_view_module_version": "1.2.0",
      "_view_name": "StyleView",
      "bar_color": null,
      "description_width": ""
     }
    },
    "a6fdaf0b2d114717b2c6c13eb9cda196": {
     "model_module": "@jupyter-widgets/base",
     "model_module_version": "1.2.0",
     "model_name": "LayoutModel",
     "state": {
      "_model_module": "@jupyter-widgets/base",
      "_model_module_version": "1.2.0",
      "_model_name": "LayoutModel",
      "_view_count": null,
      "_view_module": "@jupyter-widgets/base",
      "_view_module_version": "1.2.0",
      "_view_name": "LayoutView",
      "align_content": null,
      "align_items": null,
      "align_self": null,
      "border": null,
      "bottom": null,
      "display": null,
      "flex": null,
      "flex_flow": null,
      "grid_area": null,
      "grid_auto_columns": null,
      "grid_auto_flow": null,
      "grid_auto_rows": null,
      "grid_column": null,
      "grid_gap": null,
      "grid_row": null,
      "grid_template_areas": null,
      "grid_template_columns": null,
      "grid_template_rows": null,
      "height": null,
      "justify_content": null,
      "justify_items": null,
      "left": null,
      "margin": null,
      "max_height": null,
      "max_width": null,
      "min_height": null,
      "min_width": null,
      "object_fit": null,
      "object_position": null,
      "order": null,
      "overflow": null,
      "overflow_x": null,
      "overflow_y": null,
      "padding": null,
      "right": null,
      "top": null,
      "visibility": null,
      "width": null
     }
    },
    "aa678d54387f4bbab607c3af45abc844": {
     "model_module": "@jupyter-widgets/controls",
     "model_module_version": "1.5.0",
     "model_name": "DescriptionStyleModel",
     "state": {
      "_model_module": "@jupyter-widgets/controls",
      "_model_module_version": "1.5.0",
      "_model_name": "DescriptionStyleModel",
      "_view_count": null,
      "_view_module": "@jupyter-widgets/base",
      "_view_module_version": "1.2.0",
      "_view_name": "StyleView",
      "description_width": ""
     }
    },
    "adf31d284f674e1c8a6ee085bb691ea8": {
     "model_module": "@jupyter-widgets/controls",
     "model_module_version": "1.5.0",
     "model_name": "ProgressStyleModel",
     "state": {
      "_model_module": "@jupyter-widgets/controls",
      "_model_module_version": "1.5.0",
      "_model_name": "ProgressStyleModel",
      "_view_count": null,
      "_view_module": "@jupyter-widgets/base",
      "_view_module_version": "1.2.0",
      "_view_name": "StyleView",
      "bar_color": null,
      "description_width": ""
     }
    },
    "af6ccedec6654ee69dffea55c58132e0": {
     "model_module": "@jupyter-widgets/base",
     "model_module_version": "1.2.0",
     "model_name": "LayoutModel",
     "state": {
      "_model_module": "@jupyter-widgets/base",
      "_model_module_version": "1.2.0",
      "_model_name": "LayoutModel",
      "_view_count": null,
      "_view_module": "@jupyter-widgets/base",
      "_view_module_version": "1.2.0",
      "_view_name": "LayoutView",
      "align_content": null,
      "align_items": null,
      "align_self": null,
      "border": null,
      "bottom": null,
      "display": null,
      "flex": null,
      "flex_flow": null,
      "grid_area": null,
      "grid_auto_columns": null,
      "grid_auto_flow": null,
      "grid_auto_rows": null,
      "grid_column": null,
      "grid_gap": null,
      "grid_row": null,
      "grid_template_areas": null,
      "grid_template_columns": null,
      "grid_template_rows": null,
      "height": null,
      "justify_content": null,
      "justify_items": null,
      "left": null,
      "margin": null,
      "max_height": null,
      "max_width": null,
      "min_height": null,
      "min_width": null,
      "object_fit": null,
      "object_position": null,
      "order": null,
      "overflow": null,
      "overflow_x": null,
      "overflow_y": null,
      "padding": null,
      "right": null,
      "top": null,
      "visibility": null,
      "width": null
     }
    },
    "b0aa0728bc7d454c8e1fa66474a6c9a1": {
     "model_module": "@jupyter-widgets/controls",
     "model_module_version": "1.5.0",
     "model_name": "ProgressStyleModel",
     "state": {
      "_model_module": "@jupyter-widgets/controls",
      "_model_module_version": "1.5.0",
      "_model_name": "ProgressStyleModel",
      "_view_count": null,
      "_view_module": "@jupyter-widgets/base",
      "_view_module_version": "1.2.0",
      "_view_name": "StyleView",
      "bar_color": null,
      "description_width": ""
     }
    },
    "b0c04ae82ab24c0da90cf2012d785e66": {
     "model_module": "@jupyter-widgets/controls",
     "model_module_version": "1.5.0",
     "model_name": "HBoxModel",
     "state": {
      "_dom_classes": [],
      "_model_module": "@jupyter-widgets/controls",
      "_model_module_version": "1.5.0",
      "_model_name": "HBoxModel",
      "_view_count": null,
      "_view_module": "@jupyter-widgets/controls",
      "_view_module_version": "1.5.0",
      "_view_name": "HBoxView",
      "box_style": "",
      "children": [
       "IPY_MODEL_6fbbe7da277441ed9a41de78c9dd1bc3",
       "IPY_MODEL_6a50622aa99d403fbc033a1080f6df74",
       "IPY_MODEL_2ddc6c9101d447eaa05df60fd53d6245"
      ],
      "layout": "IPY_MODEL_b3b5f5999e4d479289458eade249863d"
     }
    },
    "b2013bd4748b4a82a1b3d32446c09839": {
     "model_module": "@jupyter-widgets/controls",
     "model_module_version": "1.5.0",
     "model_name": "ProgressStyleModel",
     "state": {
      "_model_module": "@jupyter-widgets/controls",
      "_model_module_version": "1.5.0",
      "_model_name": "ProgressStyleModel",
      "_view_count": null,
      "_view_module": "@jupyter-widgets/base",
      "_view_module_version": "1.2.0",
      "_view_name": "StyleView",
      "bar_color": null,
      "description_width": ""
     }
    },
    "b227bd964f6c43fa9b697b2409d8ca15": {
     "model_module": "@jupyter-widgets/controls",
     "model_module_version": "1.5.0",
     "model_name": "HTMLModel",
     "state": {
      "_dom_classes": [],
      "_model_module": "@jupyter-widgets/controls",
      "_model_module_version": "1.5.0",
      "_model_name": "HTMLModel",
      "_view_count": null,
      "_view_module": "@jupyter-widgets/controls",
      "_view_module_version": "1.5.0",
      "_view_name": "HTMLView",
      "description": "",
      "description_tooltip": null,
      "layout": "IPY_MODEL_c6d8e87247924831a35c9443060debc1",
      "placeholder": "​",
      "style": "IPY_MODEL_f40e199302074e75a2b80bc50aaed348",
      "value": "100%"
     }
    },
    "b38590f905974c9e90808433e67ebf36": {
     "model_module": "@jupyter-widgets/controls",
     "model_module_version": "1.5.0",
     "model_name": "HTMLModel",
     "state": {
      "_dom_classes": [],
      "_model_module": "@jupyter-widgets/controls",
      "_model_module_version": "1.5.0",
      "_model_name": "HTMLModel",
      "_view_count": null,
      "_view_module": "@jupyter-widgets/controls",
      "_view_module_version": "1.5.0",
      "_view_name": "HTMLView",
      "description": "",
      "description_tooltip": null,
      "layout": "IPY_MODEL_7ad4d0816d644bb5b61271dcd43dab6c",
      "placeholder": "​",
      "style": "IPY_MODEL_a1033e821a9b48a38b2bfff29a3b41ca",
      "value": " 6358/6358 [00:00&lt;00:00, 29135.59it/s]"
     }
    },
    "b3b5f5999e4d479289458eade249863d": {
     "model_module": "@jupyter-widgets/base",
     "model_module_version": "1.2.0",
     "model_name": "LayoutModel",
     "state": {
      "_model_module": "@jupyter-widgets/base",
      "_model_module_version": "1.2.0",
      "_model_name": "LayoutModel",
      "_view_count": null,
      "_view_module": "@jupyter-widgets/base",
      "_view_module_version": "1.2.0",
      "_view_name": "LayoutView",
      "align_content": null,
      "align_items": null,
      "align_self": null,
      "border": null,
      "bottom": null,
      "display": null,
      "flex": null,
      "flex_flow": null,
      "grid_area": null,
      "grid_auto_columns": null,
      "grid_auto_flow": null,
      "grid_auto_rows": null,
      "grid_column": null,
      "grid_gap": null,
      "grid_row": null,
      "grid_template_areas": null,
      "grid_template_columns": null,
      "grid_template_rows": null,
      "height": null,
      "justify_content": null,
      "justify_items": null,
      "left": null,
      "margin": null,
      "max_height": null,
      "max_width": null,
      "min_height": null,
      "min_width": null,
      "object_fit": null,
      "object_position": null,
      "order": null,
      "overflow": null,
      "overflow_x": null,
      "overflow_y": null,
      "padding": null,
      "right": null,
      "top": null,
      "visibility": null,
      "width": null
     }
    },
    "b5c31e177f1d4adbb4389711c4326ea4": {
     "model_module": "@jupyter-widgets/base",
     "model_module_version": "1.2.0",
     "model_name": "LayoutModel",
     "state": {
      "_model_module": "@jupyter-widgets/base",
      "_model_module_version": "1.2.0",
      "_model_name": "LayoutModel",
      "_view_count": null,
      "_view_module": "@jupyter-widgets/base",
      "_view_module_version": "1.2.0",
      "_view_name": "LayoutView",
      "align_content": null,
      "align_items": null,
      "align_self": null,
      "border": null,
      "bottom": null,
      "display": null,
      "flex": null,
      "flex_flow": null,
      "grid_area": null,
      "grid_auto_columns": null,
      "grid_auto_flow": null,
      "grid_auto_rows": null,
      "grid_column": null,
      "grid_gap": null,
      "grid_row": null,
      "grid_template_areas": null,
      "grid_template_columns": null,
      "grid_template_rows": null,
      "height": null,
      "justify_content": null,
      "justify_items": null,
      "left": null,
      "margin": null,
      "max_height": null,
      "max_width": null,
      "min_height": null,
      "min_width": null,
      "object_fit": null,
      "object_position": null,
      "order": null,
      "overflow": null,
      "overflow_x": null,
      "overflow_y": null,
      "padding": null,
      "right": null,
      "top": null,
      "visibility": null,
      "width": null
     }
    },
    "b6c0c9e9c0b94693b6db36dee76b6125": {
     "model_module": "@jupyter-widgets/controls",
     "model_module_version": "1.5.0",
     "model_name": "HTMLModel",
     "state": {
      "_dom_classes": [],
      "_model_module": "@jupyter-widgets/controls",
      "_model_module_version": "1.5.0",
      "_model_name": "HTMLModel",
      "_view_count": null,
      "_view_module": "@jupyter-widgets/controls",
      "_view_module_version": "1.5.0",
      "_view_name": "HTMLView",
      "description": "",
      "description_tooltip": null,
      "layout": "IPY_MODEL_2a872ad1ddfe4f87bad03337f6538aa6",
      "placeholder": "​",
      "style": "IPY_MODEL_38ed0c7440f942b5a0f3a8a272638bac",
      "value": " 50/50 [00:00&lt;00:00, 102.02it/s, loss=356742.81]"
     }
    },
    "b8209b78232c4fa49dfd0f143ebaf278": {
     "model_module": "@jupyter-widgets/controls",
     "model_module_version": "1.5.0",
     "model_name": "ProgressStyleModel",
     "state": {
      "_model_module": "@jupyter-widgets/controls",
      "_model_module_version": "1.5.0",
      "_model_name": "ProgressStyleModel",
      "_view_count": null,
      "_view_module": "@jupyter-widgets/base",
      "_view_module_version": "1.2.0",
      "_view_name": "StyleView",
      "bar_color": null,
      "description_width": ""
     }
    },
    "b8c20b0ea52a403ca1eda463f8248cbe": {
     "model_module": "@jupyter-widgets/controls",
     "model_module_version": "1.5.0",
     "model_name": "DescriptionStyleModel",
     "state": {
      "_model_module": "@jupyter-widgets/controls",
      "_model_module_version": "1.5.0",
      "_model_name": "DescriptionStyleModel",
      "_view_count": null,
      "_view_module": "@jupyter-widgets/base",
      "_view_module_version": "1.2.0",
      "_view_name": "StyleView",
      "description_width": ""
     }
    },
    "b98a4dc5259849acb47dc35b0994e75a": {
     "model_module": "@jupyter-widgets/base",
     "model_module_version": "1.2.0",
     "model_name": "LayoutModel",
     "state": {
      "_model_module": "@jupyter-widgets/base",
      "_model_module_version": "1.2.0",
      "_model_name": "LayoutModel",
      "_view_count": null,
      "_view_module": "@jupyter-widgets/base",
      "_view_module_version": "1.2.0",
      "_view_name": "LayoutView",
      "align_content": null,
      "align_items": null,
      "align_self": null,
      "border": null,
      "bottom": null,
      "display": null,
      "flex": null,
      "flex_flow": null,
      "grid_area": null,
      "grid_auto_columns": null,
      "grid_auto_flow": null,
      "grid_auto_rows": null,
      "grid_column": null,
      "grid_gap": null,
      "grid_row": null,
      "grid_template_areas": null,
      "grid_template_columns": null,
      "grid_template_rows": null,
      "height": null,
      "justify_content": null,
      "justify_items": null,
      "left": null,
      "margin": null,
      "max_height": null,
      "max_width": null,
      "min_height": null,
      "min_width": null,
      "object_fit": null,
      "object_position": null,
      "order": null,
      "overflow": null,
      "overflow_x": null,
      "overflow_y": null,
      "padding": null,
      "right": null,
      "top": null,
      "visibility": null,
      "width": null
     }
    },
    "bc6efabf4dd14eee87a1d4f7e3b4a8ab": {
     "model_module": "@jupyter-widgets/base",
     "model_module_version": "1.2.0",
     "model_name": "LayoutModel",
     "state": {
      "_model_module": "@jupyter-widgets/base",
      "_model_module_version": "1.2.0",
      "_model_name": "LayoutModel",
      "_view_count": null,
      "_view_module": "@jupyter-widgets/base",
      "_view_module_version": "1.2.0",
      "_view_name": "LayoutView",
      "align_content": null,
      "align_items": null,
      "align_self": null,
      "border": null,
      "bottom": null,
      "display": null,
      "flex": null,
      "flex_flow": null,
      "grid_area": null,
      "grid_auto_columns": null,
      "grid_auto_flow": null,
      "grid_auto_rows": null,
      "grid_column": null,
      "grid_gap": null,
      "grid_row": null,
      "grid_template_areas": null,
      "grid_template_columns": null,
      "grid_template_rows": null,
      "height": null,
      "justify_content": null,
      "justify_items": null,
      "left": null,
      "margin": null,
      "max_height": null,
      "max_width": null,
      "min_height": null,
      "min_width": null,
      "object_fit": null,
      "object_position": null,
      "order": null,
      "overflow": null,
      "overflow_x": null,
      "overflow_y": null,
      "padding": null,
      "right": null,
      "top": null,
      "visibility": null,
      "width": null
     }
    },
    "bd76789f118d4e3d9e415581c49a6b3d": {
     "model_module": "@jupyter-widgets/controls",
     "model_module_version": "1.5.0",
     "model_name": "HBoxModel",
     "state": {
      "_dom_classes": [],
      "_model_module": "@jupyter-widgets/controls",
      "_model_module_version": "1.5.0",
      "_model_name": "HBoxModel",
      "_view_count": null,
      "_view_module": "@jupyter-widgets/controls",
      "_view_module_version": "1.5.0",
      "_view_name": "HBoxView",
      "box_style": "",
      "children": [
       "IPY_MODEL_0e62a30dbdbd4cd2a2d435d55c9b7076",
       "IPY_MODEL_005cd6486d584d72a90d39480a762171",
       "IPY_MODEL_f7f20a435e6447c9baad03289a2c0339"
      ],
      "layout": "IPY_MODEL_c532e9af628a4105b9477ec2da2b26bd"
     }
    },
    "c01ecfe20dc54f56876d3b039c7246f2": {
     "model_module": "@jupyter-widgets/base",
     "model_module_version": "1.2.0",
     "model_name": "LayoutModel",
     "state": {
      "_model_module": "@jupyter-widgets/base",
      "_model_module_version": "1.2.0",
      "_model_name": "LayoutModel",
      "_view_count": null,
      "_view_module": "@jupyter-widgets/base",
      "_view_module_version": "1.2.0",
      "_view_name": "LayoutView",
      "align_content": null,
      "align_items": null,
      "align_self": null,
      "border": null,
      "bottom": null,
      "display": null,
      "flex": null,
      "flex_flow": null,
      "grid_area": null,
      "grid_auto_columns": null,
      "grid_auto_flow": null,
      "grid_auto_rows": null,
      "grid_column": null,
      "grid_gap": null,
      "grid_row": null,
      "grid_template_areas": null,
      "grid_template_columns": null,
      "grid_template_rows": null,
      "height": null,
      "justify_content": null,
      "justify_items": null,
      "left": null,
      "margin": null,
      "max_height": null,
      "max_width": null,
      "min_height": null,
      "min_width": null,
      "object_fit": null,
      "object_position": null,
      "order": null,
      "overflow": null,
      "overflow_x": null,
      "overflow_y": null,
      "padding": null,
      "right": null,
      "top": null,
      "visibility": null,
      "width": null
     }
    },
    "c0980e2862c14e718bb213fd88c4db4d": {
     "model_module": "@jupyter-widgets/controls",
     "model_module_version": "1.5.0",
     "model_name": "HTMLModel",
     "state": {
      "_dom_classes": [],
      "_model_module": "@jupyter-widgets/controls",
      "_model_module_version": "1.5.0",
      "_model_name": "HTMLModel",
      "_view_count": null,
      "_view_module": "@jupyter-widgets/controls",
      "_view_module_version": "1.5.0",
      "_view_name": "HTMLView",
      "description": "",
      "description_tooltip": null,
      "layout": "IPY_MODEL_e790e634fad840a9a95e8c8ec384408f",
      "placeholder": "​",
      "style": "IPY_MODEL_482c162936654dd5be8094d2092e0491",
      "value": " 6921/6921 [00:00&lt;00:00, 27765.05it/s]"
     }
    },
    "c532e9af628a4105b9477ec2da2b26bd": {
     "model_module": "@jupyter-widgets/base",
     "model_module_version": "1.2.0",
     "model_name": "LayoutModel",
     "state": {
      "_model_module": "@jupyter-widgets/base",
      "_model_module_version": "1.2.0",
      "_model_name": "LayoutModel",
      "_view_count": null,
      "_view_module": "@jupyter-widgets/base",
      "_view_module_version": "1.2.0",
      "_view_name": "LayoutView",
      "align_content": null,
      "align_items": null,
      "align_self": null,
      "border": null,
      "bottom": null,
      "display": null,
      "flex": null,
      "flex_flow": null,
      "grid_area": null,
      "grid_auto_columns": null,
      "grid_auto_flow": null,
      "grid_auto_rows": null,
      "grid_column": null,
      "grid_gap": null,
      "grid_row": null,
      "grid_template_areas": null,
      "grid_template_columns": null,
      "grid_template_rows": null,
      "height": null,
      "justify_content": null,
      "justify_items": null,
      "left": null,
      "margin": null,
      "max_height": null,
      "max_width": null,
      "min_height": null,
      "min_width": null,
      "object_fit": null,
      "object_position": null,
      "order": null,
      "overflow": null,
      "overflow_x": null,
      "overflow_y": null,
      "padding": null,
      "right": null,
      "top": null,
      "visibility": null,
      "width": null
     }
    },
    "c6d8e87247924831a35c9443060debc1": {
     "model_module": "@jupyter-widgets/base",
     "model_module_version": "1.2.0",
     "model_name": "LayoutModel",
     "state": {
      "_model_module": "@jupyter-widgets/base",
      "_model_module_version": "1.2.0",
      "_model_name": "LayoutModel",
      "_view_count": null,
      "_view_module": "@jupyter-widgets/base",
      "_view_module_version": "1.2.0",
      "_view_name": "LayoutView",
      "align_content": null,
      "align_items": null,
      "align_self": null,
      "border": null,
      "bottom": null,
      "display": null,
      "flex": null,
      "flex_flow": null,
      "grid_area": null,
      "grid_auto_columns": null,
      "grid_auto_flow": null,
      "grid_auto_rows": null,
      "grid_column": null,
      "grid_gap": null,
      "grid_row": null,
      "grid_template_areas": null,
      "grid_template_columns": null,
      "grid_template_rows": null,
      "height": null,
      "justify_content": null,
      "justify_items": null,
      "left": null,
      "margin": null,
      "max_height": null,
      "max_width": null,
      "min_height": null,
      "min_width": null,
      "object_fit": null,
      "object_position": null,
      "order": null,
      "overflow": null,
      "overflow_x": null,
      "overflow_y": null,
      "padding": null,
      "right": null,
      "top": null,
      "visibility": null,
      "width": null
     }
    },
    "caf761030c4146d282c2579aabd90a8d": {
     "model_module": "@jupyter-widgets/base",
     "model_module_version": "1.2.0",
     "model_name": "LayoutModel",
     "state": {
      "_model_module": "@jupyter-widgets/base",
      "_model_module_version": "1.2.0",
      "_model_name": "LayoutModel",
      "_view_count": null,
      "_view_module": "@jupyter-widgets/base",
      "_view_module_version": "1.2.0",
      "_view_name": "LayoutView",
      "align_content": null,
      "align_items": null,
      "align_self": null,
      "border": null,
      "bottom": null,
      "display": null,
      "flex": null,
      "flex_flow": null,
      "grid_area": null,
      "grid_auto_columns": null,
      "grid_auto_flow": null,
      "grid_auto_rows": null,
      "grid_column": null,
      "grid_gap": null,
      "grid_row": null,
      "grid_template_areas": null,
      "grid_template_columns": null,
      "grid_template_rows": null,
      "height": null,
      "justify_content": null,
      "justify_items": null,
      "left": null,
      "margin": null,
      "max_height": null,
      "max_width": null,
      "min_height": null,
      "min_width": null,
      "object_fit": null,
      "object_position": null,
      "order": null,
      "overflow": null,
      "overflow_x": null,
      "overflow_y": null,
      "padding": null,
      "right": null,
      "top": null,
      "visibility": null,
      "width": null
     }
    },
    "d003c0a70742429aae22e30ced420509": {
     "model_module": "@jupyter-widgets/controls",
     "model_module_version": "1.5.0",
     "model_name": "DescriptionStyleModel",
     "state": {
      "_model_module": "@jupyter-widgets/controls",
      "_model_module_version": "1.5.0",
      "_model_name": "DescriptionStyleModel",
      "_view_count": null,
      "_view_module": "@jupyter-widgets/base",
      "_view_module_version": "1.2.0",
      "_view_name": "StyleView",
      "description_width": ""
     }
    },
    "d132912126f949b99b05a8e2dc773cde": {
     "model_module": "@jupyter-widgets/controls",
     "model_module_version": "1.5.0",
     "model_name": "HTMLModel",
     "state": {
      "_dom_classes": [],
      "_model_module": "@jupyter-widgets/controls",
      "_model_module_version": "1.5.0",
      "_model_name": "HTMLModel",
      "_view_count": null,
      "_view_module": "@jupyter-widgets/controls",
      "_view_module_version": "1.5.0",
      "_view_name": "HTMLView",
      "description": "",
      "description_tooltip": null,
      "layout": "IPY_MODEL_15946be23f51453e85d7f2482c6a00ba",
      "placeholder": "​",
      "style": "IPY_MODEL_b8c20b0ea52a403ca1eda463f8248cbe",
      "value": " 100/100 [03:57&lt;00:00,  2.42s/it, loss=0.898]"
     }
    },
    "d9dea54280cf4158a3e766bbb7577d8d": {
     "model_module": "@jupyter-widgets/controls",
     "model_module_version": "1.5.0",
     "model_name": "DescriptionStyleModel",
     "state": {
      "_model_module": "@jupyter-widgets/controls",
      "_model_module_version": "1.5.0",
      "_model_name": "DescriptionStyleModel",
      "_view_count": null,
      "_view_module": "@jupyter-widgets/base",
      "_view_module_version": "1.2.0",
      "_view_name": "StyleView",
      "description_width": ""
     }
    },
    "dc857d37d7724778bf531fe970be7eb6": {
     "model_module": "@jupyter-widgets/controls",
     "model_module_version": "1.5.0",
     "model_name": "HBoxModel",
     "state": {
      "_dom_classes": [],
      "_model_module": "@jupyter-widgets/controls",
      "_model_module_version": "1.5.0",
      "_model_name": "HBoxModel",
      "_view_count": null,
      "_view_module": "@jupyter-widgets/controls",
      "_view_module_version": "1.5.0",
      "_view_name": "HBoxView",
      "box_style": "",
      "children": [
       "IPY_MODEL_b227bd964f6c43fa9b697b2409d8ca15",
       "IPY_MODEL_632463ca79784bc58c5973069e73efd1",
       "IPY_MODEL_d132912126f949b99b05a8e2dc773cde"
      ],
      "layout": "IPY_MODEL_af6ccedec6654ee69dffea55c58132e0"
     }
    },
    "dfc4ea64e531443492726644bd95e72c": {
     "model_module": "@jupyter-widgets/controls",
     "model_module_version": "1.5.0",
     "model_name": "DescriptionStyleModel",
     "state": {
      "_model_module": "@jupyter-widgets/controls",
      "_model_module_version": "1.5.0",
      "_model_name": "DescriptionStyleModel",
      "_view_count": null,
      "_view_module": "@jupyter-widgets/base",
      "_view_module_version": "1.2.0",
      "_view_name": "StyleView",
      "description_width": ""
     }
    },
    "e0473ebcca784c209f86aaa5b5ce9cfe": {
     "model_module": "@jupyter-widgets/controls",
     "model_module_version": "1.5.0",
     "model_name": "DescriptionStyleModel",
     "state": {
      "_model_module": "@jupyter-widgets/controls",
      "_model_module_version": "1.5.0",
      "_model_name": "DescriptionStyleModel",
      "_view_count": null,
      "_view_module": "@jupyter-widgets/base",
      "_view_module_version": "1.2.0",
      "_view_name": "StyleView",
      "description_width": ""
     }
    },
    "e1dbc638060e4771bd567db9b201ce3e": {
     "model_module": "@jupyter-widgets/controls",
     "model_module_version": "1.5.0",
     "model_name": "FloatProgressModel",
     "state": {
      "_dom_classes": [],
      "_model_module": "@jupyter-widgets/controls",
      "_model_module_version": "1.5.0",
      "_model_name": "FloatProgressModel",
      "_view_count": null,
      "_view_module": "@jupyter-widgets/controls",
      "_view_module_version": "1.5.0",
      "_view_name": "ProgressView",
      "bar_style": "success",
      "description": "",
      "description_tooltip": null,
      "layout": "IPY_MODEL_52862a5071614acc97ade774ce57f374",
      "max": 1,
      "min": 0,
      "orientation": "horizontal",
      "style": "IPY_MODEL_b8209b78232c4fa49dfd0f143ebaf278",
      "value": 1
     }
    },
    "e2b5f91deb9146ebaa303af5d481b562": {
     "model_module": "@jupyter-widgets/base",
     "model_module_version": "1.2.0",
     "model_name": "LayoutModel",
     "state": {
      "_model_module": "@jupyter-widgets/base",
      "_model_module_version": "1.2.0",
      "_model_name": "LayoutModel",
      "_view_count": null,
      "_view_module": "@jupyter-widgets/base",
      "_view_module_version": "1.2.0",
      "_view_name": "LayoutView",
      "align_content": null,
      "align_items": null,
      "align_self": null,
      "border": null,
      "bottom": null,
      "display": null,
      "flex": null,
      "flex_flow": null,
      "grid_area": null,
      "grid_auto_columns": null,
      "grid_auto_flow": null,
      "grid_auto_rows": null,
      "grid_column": null,
      "grid_gap": null,
      "grid_row": null,
      "grid_template_areas": null,
      "grid_template_columns": null,
      "grid_template_rows": null,
      "height": null,
      "justify_content": null,
      "justify_items": null,
      "left": null,
      "margin": null,
      "max_height": null,
      "max_width": null,
      "min_height": null,
      "min_width": null,
      "object_fit": null,
      "object_position": null,
      "order": null,
      "overflow": null,
      "overflow_x": null,
      "overflow_y": null,
      "padding": null,
      "right": null,
      "top": null,
      "visibility": null,
      "width": null
     }
    },
    "e2e4d73d25af4122b100b5b1598edd03": {
     "model_module": "@jupyter-widgets/controls",
     "model_module_version": "1.5.0",
     "model_name": "ProgressStyleModel",
     "state": {
      "_model_module": "@jupyter-widgets/controls",
      "_model_module_version": "1.5.0",
      "_model_name": "ProgressStyleModel",
      "_view_count": null,
      "_view_module": "@jupyter-widgets/base",
      "_view_module_version": "1.2.0",
      "_view_name": "StyleView",
      "bar_color": null,
      "description_width": ""
     }
    },
    "e39410858059449092cc2b3a825309c1": {
     "model_module": "@jupyter-widgets/controls",
     "model_module_version": "1.5.0",
     "model_name": "HBoxModel",
     "state": {
      "_dom_classes": [],
      "_model_module": "@jupyter-widgets/controls",
      "_model_module_version": "1.5.0",
      "_model_name": "HBoxModel",
      "_view_count": null,
      "_view_module": "@jupyter-widgets/controls",
      "_view_module_version": "1.5.0",
      "_view_name": "HBoxView",
      "box_style": "",
      "children": [
       "IPY_MODEL_97648f35c34c452592248d1ab68d6ac5",
       "IPY_MODEL_05ebf41f32c14362ac65a53f459fd309",
       "IPY_MODEL_534f7c1329114fde9b33fa960e99c20e"
      ],
      "layout": "IPY_MODEL_b98a4dc5259849acb47dc35b0994e75a"
     }
    },
    "e43efb3f05014c33b0866d6ccd878ce1": {
     "model_module": "@jupyter-widgets/base",
     "model_module_version": "1.2.0",
     "model_name": "LayoutModel",
     "state": {
      "_model_module": "@jupyter-widgets/base",
      "_model_module_version": "1.2.0",
      "_model_name": "LayoutModel",
      "_view_count": null,
      "_view_module": "@jupyter-widgets/base",
      "_view_module_version": "1.2.0",
      "_view_name": "LayoutView",
      "align_content": null,
      "align_items": null,
      "align_self": null,
      "border": null,
      "bottom": null,
      "display": null,
      "flex": null,
      "flex_flow": null,
      "grid_area": null,
      "grid_auto_columns": null,
      "grid_auto_flow": null,
      "grid_auto_rows": null,
      "grid_column": null,
      "grid_gap": null,
      "grid_row": null,
      "grid_template_areas": null,
      "grid_template_columns": null,
      "grid_template_rows": null,
      "height": null,
      "justify_content": null,
      "justify_items": null,
      "left": null,
      "margin": null,
      "max_height": null,
      "max_width": null,
      "min_height": null,
      "min_width": null,
      "object_fit": null,
      "object_position": null,
      "order": null,
      "overflow": null,
      "overflow_x": null,
      "overflow_y": null,
      "padding": null,
      "right": null,
      "top": null,
      "visibility": null,
      "width": null
     }
    },
    "e63b1ac496f741b9b3e83ead997ac2fa": {
     "model_module": "@jupyter-widgets/base",
     "model_module_version": "1.2.0",
     "model_name": "LayoutModel",
     "state": {
      "_model_module": "@jupyter-widgets/base",
      "_model_module_version": "1.2.0",
      "_model_name": "LayoutModel",
      "_view_count": null,
      "_view_module": "@jupyter-widgets/base",
      "_view_module_version": "1.2.0",
      "_view_name": "LayoutView",
      "align_content": null,
      "align_items": null,
      "align_self": null,
      "border": null,
      "bottom": null,
      "display": null,
      "flex": null,
      "flex_flow": null,
      "grid_area": null,
      "grid_auto_columns": null,
      "grid_auto_flow": null,
      "grid_auto_rows": null,
      "grid_column": null,
      "grid_gap": null,
      "grid_row": null,
      "grid_template_areas": null,
      "grid_template_columns": null,
      "grid_template_rows": null,
      "height": null,
      "justify_content": null,
      "justify_items": null,
      "left": null,
      "margin": null,
      "max_height": null,
      "max_width": null,
      "min_height": null,
      "min_width": null,
      "object_fit": null,
      "object_position": null,
      "order": null,
      "overflow": null,
      "overflow_x": null,
      "overflow_y": null,
      "padding": null,
      "right": null,
      "top": null,
      "visibility": null,
      "width": null
     }
    },
    "e790e634fad840a9a95e8c8ec384408f": {
     "model_module": "@jupyter-widgets/base",
     "model_module_version": "1.2.0",
     "model_name": "LayoutModel",
     "state": {
      "_model_module": "@jupyter-widgets/base",
      "_model_module_version": "1.2.0",
      "_model_name": "LayoutModel",
      "_view_count": null,
      "_view_module": "@jupyter-widgets/base",
      "_view_module_version": "1.2.0",
      "_view_name": "LayoutView",
      "align_content": null,
      "align_items": null,
      "align_self": null,
      "border": null,
      "bottom": null,
      "display": null,
      "flex": null,
      "flex_flow": null,
      "grid_area": null,
      "grid_auto_columns": null,
      "grid_auto_flow": null,
      "grid_auto_rows": null,
      "grid_column": null,
      "grid_gap": null,
      "grid_row": null,
      "grid_template_areas": null,
      "grid_template_columns": null,
      "grid_template_rows": null,
      "height": null,
      "justify_content": null,
      "justify_items": null,
      "left": null,
      "margin": null,
      "max_height": null,
      "max_width": null,
      "min_height": null,
      "min_width": null,
      "object_fit": null,
      "object_position": null,
      "order": null,
      "overflow": null,
      "overflow_x": null,
      "overflow_y": null,
      "padding": null,
      "right": null,
      "top": null,
      "visibility": null,
      "width": null
     }
    },
    "f40e199302074e75a2b80bc50aaed348": {
     "model_module": "@jupyter-widgets/controls",
     "model_module_version": "1.5.0",
     "model_name": "DescriptionStyleModel",
     "state": {
      "_model_module": "@jupyter-widgets/controls",
      "_model_module_version": "1.5.0",
      "_model_name": "DescriptionStyleModel",
      "_view_count": null,
      "_view_module": "@jupyter-widgets/base",
      "_view_module_version": "1.2.0",
      "_view_name": "StyleView",
      "description_width": ""
     }
    },
    "f51862f5756648e1a3b1415c943f2b7d": {
     "model_module": "@jupyter-widgets/controls",
     "model_module_version": "1.5.0",
     "model_name": "ProgressStyleModel",
     "state": {
      "_model_module": "@jupyter-widgets/controls",
      "_model_module_version": "1.5.0",
      "_model_name": "ProgressStyleModel",
      "_view_count": null,
      "_view_module": "@jupyter-widgets/base",
      "_view_module_version": "1.2.0",
      "_view_name": "StyleView",
      "bar_color": null,
      "description_width": ""
     }
    },
    "f7f20a435e6447c9baad03289a2c0339": {
     "model_module": "@jupyter-widgets/controls",
     "model_module_version": "1.5.0",
     "model_name": "HTMLModel",
     "state": {
      "_dom_classes": [],
      "_model_module": "@jupyter-widgets/controls",
      "_model_module_version": "1.5.0",
      "_model_name": "HTMLModel",
      "_view_count": null,
      "_view_module": "@jupyter-widgets/controls",
      "_view_module_version": "1.5.0",
      "_view_name": "HTMLView",
      "description": "",
      "description_tooltip": null,
      "layout": "IPY_MODEL_7a52b86e42364b47a0dcb0e6da659edf",
      "placeholder": "​",
      "style": "IPY_MODEL_01d83107714b462cb11a0957f6c770b4",
      "value": " 200/200 [00:03&lt;00:00, 50.42it/s, correct=71.90%, skipped=0.32%]"
     }
    },
    "fd2d8867e29d41f784c6b1a9edd084da": {
     "model_module": "@jupyter-widgets/base",
     "model_module_version": "1.2.0",
     "model_name": "LayoutModel",
     "state": {
      "_model_module": "@jupyter-widgets/base",
      "_model_module_version": "1.2.0",
      "_model_name": "LayoutModel",
      "_view_count": null,
      "_view_module": "@jupyter-widgets/base",
      "_view_module_version": "1.2.0",
      "_view_name": "LayoutView",
      "align_content": null,
      "align_items": null,
      "align_self": null,
      "border": null,
      "bottom": null,
      "display": null,
      "flex": null,
      "flex_flow": null,
      "grid_area": null,
      "grid_auto_columns": null,
      "grid_auto_flow": null,
      "grid_auto_rows": null,
      "grid_column": null,
      "grid_gap": null,
      "grid_row": null,
      "grid_template_areas": null,
      "grid_template_columns": null,
      "grid_template_rows": null,
      "height": null,
      "justify_content": null,
      "justify_items": null,
      "left": null,
      "margin": null,
      "max_height": null,
      "max_width": null,
      "min_height": null,
      "min_width": null,
      "object_fit": null,
      "object_position": null,
      "order": null,
      "overflow": null,
      "overflow_x": null,
      "overflow_y": null,
      "padding": null,
      "right": null,
      "top": null,
      "visibility": null,
      "width": null
     }
    }
   }
  }
 },
 "nbformat": 4,
 "nbformat_minor": 4
}
