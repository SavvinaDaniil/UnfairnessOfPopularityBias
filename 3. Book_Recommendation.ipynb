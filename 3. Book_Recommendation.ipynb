{
  "cells": [
    {
      "cell_type": "markdown",
      "metadata": {
        "id": "6Uox52mtM8i0"
      },
      "source": [
        "This notebook should be run on Google Colab.\n",
        "<a href=\"https://colab.research.google.com/github/SavvinaDaniil/UnfairnessOfPopularityBias/blob/main/3. Book_Recommendation.ipynb\" target=\"_parent\"><img src=\"https://colab.research.google.com/assets/colab-badge.svg\" alt=\"Open in Colab\"/></a>"
      ]
    },
    {
      "cell_type": "markdown",
      "metadata": {
        "id": "tLpIS6XyNHZW"
      },
      "source": [
        "# Process\n",
        "In this notebook, I will train the book recommendation algorithms using two different packages: <a href=\"http://surpriselib.com/\">Surprise</a> & <a href=\"https://cornac.readthedocs.io/en/latest/\">Cornac</a>. "
      ]
    },
    {
      "cell_type": "markdown",
      "metadata": {
        "id": "apEC7vpANPwa"
      },
      "source": [
        "## A. Import lbraries\n",
        "We need to import some libraries that are not by default in the colab environment."
      ]
    },
    {
      "cell_type": "code",
      "execution_count": 1,
      "metadata": {
        "colab": {
          "base_uri": "https://localhost:8080/"
        },
        "id": "wdDcy5OnNMWR",
        "outputId": "49aeeaf1-4f9e-47d8-c6ab-d2b3344b9399"
      },
      "outputs": [
        {
          "output_type": "stream",
          "name": "stdout",
          "text": [
            "Found existing installation: tensorflow 2.9.2\n",
            "Uninstalling tensorflow-2.9.2:\n",
            "  Successfully uninstalled tensorflow-2.9.2\n",
            "Looking in indexes: https://pypi.org/simple, https://us-python.pkg.dev/colab-wheels/public/simple/\n",
            "Collecting tensorflow-gpu==1.15\n",
            "  Downloading tensorflow_gpu-1.15.0-cp37-cp37m-manylinux2010_x86_64.whl (411.5 MB)\n",
            "\u001b[K     |████████████████████████████████| 411.5 MB 8.2 kB/s \n",
            "\u001b[?25hRequirement already satisfied: keras-preprocessing>=1.0.5 in /usr/local/lib/python3.7/dist-packages (from tensorflow-gpu==1.15) (1.1.2)\n",
            "Requirement already satisfied: absl-py>=0.7.0 in /usr/local/lib/python3.7/dist-packages (from tensorflow-gpu==1.15) (1.3.0)\n",
            "Requirement already satisfied: numpy<2.0,>=1.16.0 in /usr/local/lib/python3.7/dist-packages (from tensorflow-gpu==1.15) (1.21.6)\n",
            "Collecting tensorboard<1.16.0,>=1.15.0\n",
            "  Downloading tensorboard-1.15.0-py3-none-any.whl (3.8 MB)\n",
            "\u001b[K     |████████████████████████████████| 3.8 MB 40.4 MB/s \n",
            "\u001b[?25hCollecting tensorflow-estimator==1.15.1\n",
            "  Downloading tensorflow_estimator-1.15.1-py2.py3-none-any.whl (503 kB)\n",
            "\u001b[K     |████████████████████████████████| 503 kB 65.1 MB/s \n",
            "\u001b[?25hRequirement already satisfied: wheel>=0.26 in /usr/local/lib/python3.7/dist-packages (from tensorflow-gpu==1.15) (0.38.3)\n",
            "Requirement already satisfied: wrapt>=1.11.1 in /usr/local/lib/python3.7/dist-packages (from tensorflow-gpu==1.15) (1.14.1)\n",
            "Requirement already satisfied: protobuf>=3.6.1 in /usr/local/lib/python3.7/dist-packages (from tensorflow-gpu==1.15) (3.19.6)\n",
            "Collecting keras-applications>=1.0.8\n",
            "  Downloading Keras_Applications-1.0.8-py3-none-any.whl (50 kB)\n",
            "\u001b[K     |████████████████████████████████| 50 kB 5.1 MB/s \n",
            "\u001b[?25hRequirement already satisfied: google-pasta>=0.1.6 in /usr/local/lib/python3.7/dist-packages (from tensorflow-gpu==1.15) (0.2.0)\n",
            "Requirement already satisfied: grpcio>=1.8.6 in /usr/local/lib/python3.7/dist-packages (from tensorflow-gpu==1.15) (1.50.0)\n",
            "Requirement already satisfied: astor>=0.6.0 in /usr/local/lib/python3.7/dist-packages (from tensorflow-gpu==1.15) (0.8.1)\n",
            "Requirement already satisfied: opt-einsum>=2.3.2 in /usr/local/lib/python3.7/dist-packages (from tensorflow-gpu==1.15) (3.3.0)\n",
            "Collecting gast==0.2.2\n",
            "  Downloading gast-0.2.2.tar.gz (10 kB)\n",
            "Requirement already satisfied: six>=1.10.0 in /usr/local/lib/python3.7/dist-packages (from tensorflow-gpu==1.15) (1.15.0)\n",
            "Requirement already satisfied: termcolor>=1.1.0 in /usr/local/lib/python3.7/dist-packages (from tensorflow-gpu==1.15) (2.1.0)\n",
            "Requirement already satisfied: h5py in /usr/local/lib/python3.7/dist-packages (from keras-applications>=1.0.8->tensorflow-gpu==1.15) (3.1.0)\n",
            "Requirement already satisfied: setuptools>=41.0.0 in /usr/local/lib/python3.7/dist-packages (from tensorboard<1.16.0,>=1.15.0->tensorflow-gpu==1.15) (57.4.0)\n",
            "Requirement already satisfied: markdown>=2.6.8 in /usr/local/lib/python3.7/dist-packages (from tensorboard<1.16.0,>=1.15.0->tensorflow-gpu==1.15) (3.4.1)\n",
            "Requirement already satisfied: werkzeug>=0.11.15 in /usr/local/lib/python3.7/dist-packages (from tensorboard<1.16.0,>=1.15.0->tensorflow-gpu==1.15) (1.0.1)\n",
            "Requirement already satisfied: importlib-metadata>=4.4 in /usr/local/lib/python3.7/dist-packages (from markdown>=2.6.8->tensorboard<1.16.0,>=1.15.0->tensorflow-gpu==1.15) (4.13.0)\n",
            "Requirement already satisfied: zipp>=0.5 in /usr/local/lib/python3.7/dist-packages (from importlib-metadata>=4.4->markdown>=2.6.8->tensorboard<1.16.0,>=1.15.0->tensorflow-gpu==1.15) (3.10.0)\n",
            "Requirement already satisfied: typing-extensions>=3.6.4 in /usr/local/lib/python3.7/dist-packages (from importlib-metadata>=4.4->markdown>=2.6.8->tensorboard<1.16.0,>=1.15.0->tensorflow-gpu==1.15) (4.1.1)\n",
            "Requirement already satisfied: cached-property in /usr/local/lib/python3.7/dist-packages (from h5py->keras-applications>=1.0.8->tensorflow-gpu==1.15) (1.5.2)\n",
            "Building wheels for collected packages: gast\n",
            "  Building wheel for gast (setup.py) ... \u001b[?25l\u001b[?25hdone\n",
            "  Created wheel for gast: filename=gast-0.2.2-py3-none-any.whl size=7554 sha256=33f5d8baea44355aed41cd900a53e5af330bc6dd81081d01c4ebacb4c34369e9\n",
            "  Stored in directory: /root/.cache/pip/wheels/21/7f/02/420f32a803f7d0967b48dd823da3f558c5166991bfd204eef3\n",
            "Successfully built gast\n",
            "Installing collected packages: tensorflow-estimator, tensorboard, keras-applications, gast, tensorflow-gpu\n",
            "  Attempting uninstall: tensorflow-estimator\n",
            "    Found existing installation: tensorflow-estimator 2.9.0\n",
            "    Uninstalling tensorflow-estimator-2.9.0:\n",
            "      Successfully uninstalled tensorflow-estimator-2.9.0\n",
            "  Attempting uninstall: tensorboard\n",
            "    Found existing installation: tensorboard 2.9.1\n",
            "    Uninstalling tensorboard-2.9.1:\n",
            "      Successfully uninstalled tensorboard-2.9.1\n",
            "  Attempting uninstall: gast\n",
            "    Found existing installation: gast 0.4.0\n",
            "    Uninstalling gast-0.4.0:\n",
            "      Successfully uninstalled gast-0.4.0\n",
            "\u001b[31mERROR: pip's dependency resolver does not currently take into account all the packages that are installed. This behaviour is the source of the following dependency conflicts.\n",
            "tensorflow-probability 0.17.0 requires gast>=0.3.2, but you have gast 0.2.2 which is incompatible.\u001b[0m\n",
            "Successfully installed gast-0.2.2 keras-applications-1.0.8 tensorboard-1.15.0 tensorflow-estimator-1.15.1 tensorflow-gpu-1.15.0\n",
            "Reading package lists... Done\n",
            "Building dependency tree       \n",
            "Reading state information... Done\n",
            "The following package was automatically installed and is no longer required:\n",
            "  libnvidia-common-460\n",
            "Use 'apt autoremove' to remove it.\n",
            "The following NEW packages will be installed:\n",
            "  libcudnn7\n",
            "0 upgraded, 1 newly installed, 0 to remove and 5 not upgraded.\n",
            "Need to get 149 MB of archives.\n",
            "After this operation, 348 MB of additional disk space will be used.\n",
            "Get:1 https://developer.download.nvidia.com/compute/machine-learning/repos/ubuntu1804/x86_64  libcudnn7 7.4.1.5-1+cuda10.0 [149 MB]\n",
            "Fetched 149 MB in 3s (52.5 MB/s)\n",
            "Selecting previously unselected package libcudnn7.\n",
            "(Reading database ... 123991 files and directories currently installed.)\n",
            "Preparing to unpack .../libcudnn7_7.4.1.5-1+cuda10.0_amd64.deb ...\n",
            "Unpacking libcudnn7 (7.4.1.5-1+cuda10.0) ...\n",
            "Setting up libcudnn7 (7.4.1.5-1+cuda10.0) ...\n",
            "Processing triggers for libc-bin (2.27-3ubuntu1.6) ...\n"
          ]
        }
      ],
      "source": [
        "!pip uninstall tensorflow -y\n",
        "!pip install tensorflow-gpu==1.15\n",
        "!apt install --allow-change-held-packages libcudnn7=7.4.1.5-1+cuda10.0"
      ]
    },
    {
      "cell_type": "code",
      "execution_count": 2,
      "metadata": {
        "colab": {
          "base_uri": "https://localhost:8080/"
        },
        "id": "mIhMBVm4NRXq",
        "outputId": "b73ed3ad-0c51-437f-f148-38b3ea0d1759"
      },
      "outputs": [
        {
          "output_type": "stream",
          "name": "stdout",
          "text": [
            "Looking in indexes: https://pypi.org/simple, https://us-python.pkg.dev/colab-wheels/public/simple/\n",
            "Collecting cornac\n",
            "  Downloading cornac-1.14.2-cp37-cp37m-manylinux1_x86_64.whl (12.4 MB)\n",
            "\u001b[K     |████████████████████████████████| 12.4 MB 4.6 MB/s \n",
            "\u001b[?25hRequirement already satisfied: tqdm>=4.19 in /usr/local/lib/python3.7/dist-packages (from cornac) (4.64.1)\n",
            "Requirement already satisfied: numpy in /usr/local/lib/python3.7/dist-packages (from cornac) (1.21.6)\n",
            "Requirement already satisfied: scipy in /usr/local/lib/python3.7/dist-packages (from cornac) (1.7.3)\n",
            "Collecting powerlaw\n",
            "  Downloading powerlaw-1.5-py3-none-any.whl (24 kB)\n",
            "Requirement already satisfied: matplotlib in /usr/local/lib/python3.7/dist-packages (from powerlaw->cornac) (3.2.2)\n",
            "Requirement already satisfied: mpmath in /usr/local/lib/python3.7/dist-packages (from powerlaw->cornac) (1.2.1)\n",
            "Requirement already satisfied: kiwisolver>=1.0.1 in /usr/local/lib/python3.7/dist-packages (from matplotlib->powerlaw->cornac) (1.4.4)\n",
            "Requirement already satisfied: cycler>=0.10 in /usr/local/lib/python3.7/dist-packages (from matplotlib->powerlaw->cornac) (0.11.0)\n",
            "Requirement already satisfied: python-dateutil>=2.1 in /usr/local/lib/python3.7/dist-packages (from matplotlib->powerlaw->cornac) (2.8.2)\n",
            "Requirement already satisfied: pyparsing!=2.0.4,!=2.1.2,!=2.1.6,>=2.0.1 in /usr/local/lib/python3.7/dist-packages (from matplotlib->powerlaw->cornac) (3.0.9)\n",
            "Requirement already satisfied: typing-extensions in /usr/local/lib/python3.7/dist-packages (from kiwisolver>=1.0.1->matplotlib->powerlaw->cornac) (4.1.1)\n",
            "Requirement already satisfied: six>=1.5 in /usr/local/lib/python3.7/dist-packages (from python-dateutil>=2.1->matplotlib->powerlaw->cornac) (1.15.0)\n",
            "Installing collected packages: powerlaw, cornac\n",
            "Successfully installed cornac-1.14.2 powerlaw-1.5\n"
          ]
        }
      ],
      "source": [
        "!pip install cornac # Library used by the book paper"
      ]
    },
    {
      "cell_type": "code",
      "execution_count": 74,
      "metadata": {
        "id": "T5uMe3FlNVqk"
      },
      "outputs": [],
      "source": [
        "import warnings\n",
        "warnings.simplefilter(action='ignore', category=FutureWarning)\n",
        "import matplotlib.pyplot as plt\n",
        "import random as rd\n",
        "import pandas as pd\n",
        "import numpy as np\n",
        "from tqdm import tqdm\n",
        "import time\n",
        "\n",
        "# Cornac imports\n",
        "import cornac\n",
        "from cornac.eval_methods import RatioSplit\n",
        "from cornac.data import Reader as CornacReader #Reader exists in both packages\n",
        "from cornac.models import MostPop, MF, PMF, BPR, NeuMF, WMF, HPF, VAECF, ItemKNN, UserKNN, BaselineOnly \n",
        "from cornac.models import NMF as CornacNMF #NMF exists in both packages\n",
        "from cornac.metrics import MAE, MSE, RMSE, Precision, Recall, NDCG, AUC, MAP, FMeasure, MRR\n",
        "\n",
        "from collections import defaultdict\n",
        "from scipy import stats\n",
        "from numpy.linalg import norm\n",
        "import seaborn as sns\n",
        "from sklearn.preprocessing import MinMaxScaler\n",
        "# set plot style: grey grid in the background:\n",
        "sns.set(style=\"darkgrid\")\n",
        "pd.set_option(\"display.precision\", 8)"
      ]
    },
    {
      "cell_type": "markdown",
      "metadata": {
        "id": "RT7573q5NccX"
      },
      "source": [
        "## B. Set hyperparameters\n",
        "There are certain hyperparameters that need to be tuned before the run. "
      ]
    },
    {
      "cell_type": "code",
      "execution_count": 75,
      "metadata": {
        "id": "wePMxGvnNZa2"
      },
      "outputs": [],
      "source": [
        "# constants and initialization\n",
        "rating_threshold = 1.0 # needed for the cornac library: Threshold used to binarize rating values into positive or negative feedback for model evaluation using ranking metrics (rating metrics are not affected). \n",
        "my_seed = 0\n",
        "test_size = 0.2 # the percentage of \"hold out\" data that are used for testing\n",
        "predict_col = \"rating\"\n",
        "user_col = \"user\"\n",
        "top_fraction = 0.2 # the amount of items that will be considered \"popular\"\n",
        "\n",
        "rd.seed(my_seed) #seed for random functions\n",
        "np.random.seed(my_seed) #seed for all numpy stuff"
      ]
    },
    {
      "cell_type": "markdown",
      "metadata": {
        "id": "P4Hf5k8jNiZm"
      },
      "source": [
        "## C. Read files\n",
        "\n",
        "\n"
      ]
    },
    {
      "cell_type": "code",
      "execution_count": 76,
      "metadata": {
        "colab": {
          "base_uri": "https://localhost:8080/"
        },
        "id": "tAyKjmxeNf1X",
        "outputId": "b0594476-f9c7-4929-b6ee-c6db413eca72"
      },
      "outputs": [
        {
          "output_type": "stream",
          "name": "stdout",
          "text": [
            "No. of user events: 1149780\n"
          ]
        }
      ],
      "source": [
        "user_events_file = 'https://raw.githubusercontent.com/SavvinaDaniil/UnfairnessOfPopularityBias/main/data/BX-Book-Ratings.csv'\n",
        "\n",
        "# read user events\n",
        "cols = ['user', 'book', 'rating']\n",
        "df_events = pd.read_csv(user_events_file, sep=\";\", encoding=\"ISO-8859–1\", names=cols, skiprows=1)\n",
        "item_col = \"book\"\n",
        "print('No. of user events: ' + str(len(df_events)))"
      ]
    },
    {
      "cell_type": "code",
      "execution_count": 77,
      "metadata": {
        "colab": {
          "base_uri": "https://localhost:8080/",
          "height": 206
        },
        "id": "SA02IGeBTzdk",
        "outputId": "0dade33b-ea9b-4a60-91ee-60d89710f1d9"
      },
      "outputs": [
        {
          "output_type": "execute_result",
          "data": {
            "text/plain": [
              "     user        book  rating\n",
              "0  276725  034545104X       0\n",
              "1  276726  0155061224       5\n",
              "2  276727  0446520802       0\n",
              "3  276729  052165615X       3\n",
              "4  276729  0521795028       6"
            ],
            "text/html": [
              "\n",
              "  <div id=\"df-5e7c0117-3060-4d86-a657-291d4eedaf73\">\n",
              "    <div class=\"colab-df-container\">\n",
              "      <div>\n",
              "<style scoped>\n",
              "    .dataframe tbody tr th:only-of-type {\n",
              "        vertical-align: middle;\n",
              "    }\n",
              "\n",
              "    .dataframe tbody tr th {\n",
              "        vertical-align: top;\n",
              "    }\n",
              "\n",
              "    .dataframe thead th {\n",
              "        text-align: right;\n",
              "    }\n",
              "</style>\n",
              "<table border=\"1\" class=\"dataframe\">\n",
              "  <thead>\n",
              "    <tr style=\"text-align: right;\">\n",
              "      <th></th>\n",
              "      <th>user</th>\n",
              "      <th>book</th>\n",
              "      <th>rating</th>\n",
              "    </tr>\n",
              "  </thead>\n",
              "  <tbody>\n",
              "    <tr>\n",
              "      <th>0</th>\n",
              "      <td>276725</td>\n",
              "      <td>034545104X</td>\n",
              "      <td>0</td>\n",
              "    </tr>\n",
              "    <tr>\n",
              "      <th>1</th>\n",
              "      <td>276726</td>\n",
              "      <td>0155061224</td>\n",
              "      <td>5</td>\n",
              "    </tr>\n",
              "    <tr>\n",
              "      <th>2</th>\n",
              "      <td>276727</td>\n",
              "      <td>0446520802</td>\n",
              "      <td>0</td>\n",
              "    </tr>\n",
              "    <tr>\n",
              "      <th>3</th>\n",
              "      <td>276729</td>\n",
              "      <td>052165615X</td>\n",
              "      <td>3</td>\n",
              "    </tr>\n",
              "    <tr>\n",
              "      <th>4</th>\n",
              "      <td>276729</td>\n",
              "      <td>0521795028</td>\n",
              "      <td>6</td>\n",
              "    </tr>\n",
              "  </tbody>\n",
              "</table>\n",
              "</div>\n",
              "      <button class=\"colab-df-convert\" onclick=\"convertToInteractive('df-5e7c0117-3060-4d86-a657-291d4eedaf73')\"\n",
              "              title=\"Convert this dataframe to an interactive table.\"\n",
              "              style=\"display:none;\">\n",
              "        \n",
              "  <svg xmlns=\"http://www.w3.org/2000/svg\" height=\"24px\"viewBox=\"0 0 24 24\"\n",
              "       width=\"24px\">\n",
              "    <path d=\"M0 0h24v24H0V0z\" fill=\"none\"/>\n",
              "    <path d=\"M18.56 5.44l.94 2.06.94-2.06 2.06-.94-2.06-.94-.94-2.06-.94 2.06-2.06.94zm-11 1L8.5 8.5l.94-2.06 2.06-.94-2.06-.94L8.5 2.5l-.94 2.06-2.06.94zm10 10l.94 2.06.94-2.06 2.06-.94-2.06-.94-.94-2.06-.94 2.06-2.06.94z\"/><path d=\"M17.41 7.96l-1.37-1.37c-.4-.4-.92-.59-1.43-.59-.52 0-1.04.2-1.43.59L10.3 9.45l-7.72 7.72c-.78.78-.78 2.05 0 2.83L4 21.41c.39.39.9.59 1.41.59.51 0 1.02-.2 1.41-.59l7.78-7.78 2.81-2.81c.8-.78.8-2.07 0-2.86zM5.41 20L4 18.59l7.72-7.72 1.47 1.35L5.41 20z\"/>\n",
              "  </svg>\n",
              "      </button>\n",
              "      \n",
              "  <style>\n",
              "    .colab-df-container {\n",
              "      display:flex;\n",
              "      flex-wrap:wrap;\n",
              "      gap: 12px;\n",
              "    }\n",
              "\n",
              "    .colab-df-convert {\n",
              "      background-color: #E8F0FE;\n",
              "      border: none;\n",
              "      border-radius: 50%;\n",
              "      cursor: pointer;\n",
              "      display: none;\n",
              "      fill: #1967D2;\n",
              "      height: 32px;\n",
              "      padding: 0 0 0 0;\n",
              "      width: 32px;\n",
              "    }\n",
              "\n",
              "    .colab-df-convert:hover {\n",
              "      background-color: #E2EBFA;\n",
              "      box-shadow: 0px 1px 2px rgba(60, 64, 67, 0.3), 0px 1px 3px 1px rgba(60, 64, 67, 0.15);\n",
              "      fill: #174EA6;\n",
              "    }\n",
              "\n",
              "    [theme=dark] .colab-df-convert {\n",
              "      background-color: #3B4455;\n",
              "      fill: #D2E3FC;\n",
              "    }\n",
              "\n",
              "    [theme=dark] .colab-df-convert:hover {\n",
              "      background-color: #434B5C;\n",
              "      box-shadow: 0px 1px 3px 1px rgba(0, 0, 0, 0.15);\n",
              "      filter: drop-shadow(0px 1px 2px rgba(0, 0, 0, 0.3));\n",
              "      fill: #FFFFFF;\n",
              "    }\n",
              "  </style>\n",
              "\n",
              "      <script>\n",
              "        const buttonEl =\n",
              "          document.querySelector('#df-5e7c0117-3060-4d86-a657-291d4eedaf73 button.colab-df-convert');\n",
              "        buttonEl.style.display =\n",
              "          google.colab.kernel.accessAllowed ? 'block' : 'none';\n",
              "\n",
              "        async function convertToInteractive(key) {\n",
              "          const element = document.querySelector('#df-5e7c0117-3060-4d86-a657-291d4eedaf73');\n",
              "          const dataTable =\n",
              "            await google.colab.kernel.invokeFunction('convertToInteractive',\n",
              "                                                     [key], {});\n",
              "          if (!dataTable) return;\n",
              "\n",
              "          const docLinkHtml = 'Like what you see? Visit the ' +\n",
              "            '<a target=\"_blank\" href=https://colab.research.google.com/notebooks/data_table.ipynb>data table notebook</a>'\n",
              "            + ' to learn more about interactive tables.';\n",
              "          element.innerHTML = '';\n",
              "          dataTable['output_type'] = 'display_data';\n",
              "          await google.colab.output.renderOutput(dataTable, element);\n",
              "          const docLink = document.createElement('div');\n",
              "          docLink.innerHTML = docLinkHtml;\n",
              "          element.appendChild(docLink);\n",
              "        }\n",
              "      </script>\n",
              "    </div>\n",
              "  </div>\n",
              "  "
            ]
          },
          "metadata": {},
          "execution_count": 77
        }
      ],
      "source": [
        "df_events.head()"
      ]
    },
    {
      "cell_type": "markdown",
      "metadata": {
        "id": "FMcwqRl5Unz6"
      },
      "source": [
        "## D. Data analysis"
      ]
    },
    {
      "cell_type": "code",
      "execution_count": 78,
      "metadata": {
        "id": "yQMsd3hxT9ce"
      },
      "outputs": [],
      "source": [
        "def users_and_items(df_events, user_col, item_col):\n",
        "    print('No. user events: ' + str(len(df_events)))\n",
        "    print('No. items: ' + str(len(df_events[item_col].unique())))\n",
        "    print('No. users: ' + str(len(df_events[user_col].unique())))\n",
        "    print(\"\\n\")\n",
        "def user_distribution(df_events, user_col, item_col):\n",
        "    user_dist = df_events[user_col].value_counts() \n",
        "    num_users = len(user_dist)\n",
        "    print('Mean '+item_col+'s per user: ' + str(np.round(user_dist.mean(),1))) \n",
        "    print('Min '+item_col+'s per user: ' + str(np.round(user_dist.min(),1))) \n",
        "    print('Max '+item_col+'s per user: ' + str(np.round(user_dist.max(),1)))\n",
        "    print(\"\\n\")\n",
        "    return user_dist, num_users\n",
        "def item_distribution(df_events, user_col, item_col):\n",
        "    item_dist = df_events[item_col].value_counts()\n",
        "    num_items = len(item_dist)\n",
        "    print('Mean users per '+item_col+': ' + str(np.round(item_dist.mean(),1))) \n",
        "    print('Min users per '+item_col+': ' + str(np.round(item_dist.min(),1))) \n",
        "    print('Max users per '+item_col+': ' + str(np.round(item_dist.max(),1))) \n",
        "    print(\"\\n\")\n",
        "    return item_dist, num_items"
      ]
    },
    {
      "cell_type": "code",
      "execution_count": 79,
      "metadata": {
        "colab": {
          "base_uri": "https://localhost:8080/"
        },
        "id": "gK4DR9IaUrWB",
        "outputId": "3d37f35d-88dd-4f20-a405-b40bab137b0d"
      },
      "outputs": [
        {
          "output_type": "stream",
          "name": "stdout",
          "text": [
            "No. user events: 1149780\n",
            "No. items: 340556\n",
            "No. users: 105283\n",
            "\n",
            "\n",
            "Mean books per user: 10.9\n",
            "Min books per user: 1\n",
            "Max books per user: 13602\n",
            "\n",
            "\n",
            "Mean users per book: 3.4\n",
            "Min users per book: 1\n",
            "Max users per book: 2502\n",
            "\n",
            "\n"
          ]
        }
      ],
      "source": [
        "users_and_items(df_events, user_col, item_col)\n",
        "user_dist, num_users = user_distribution(df_events, user_col, item_col)\n",
        "item_dist, num_items = item_distribution(df_events, user_col, item_col)"
      ]
    },
    {
      "cell_type": "markdown",
      "metadata": {
        "id": "yY78u6hJU0UZ"
      },
      "source": [
        "FairBook cut down the dataset."
      ]
    },
    {
      "cell_type": "code",
      "execution_count": 80,
      "metadata": {
        "id": "lyhB0isHUs-x"
      },
      "outputs": [],
      "source": [
        "# This method return a dataframe in which the specified values are removed from a specific column. We can use it to generate the implicit/explicit dataset.\n",
        "# To do this, we can remove the 0 or 1-10 values from the `Book-Rating` column.\n",
        "def filter_rows_by_values(df, col, values):\n",
        "    return df[~df[col].isin(values)]"
      ]
    },
    {
      "cell_type": "code",
      "execution_count": 81,
      "metadata": {
        "colab": {
          "base_uri": "https://localhost:8080/"
        },
        "id": "8A4qppVjU4pv",
        "outputId": "71953423-3815-4766-a781-4e0352549458"
      },
      "outputs": [
        {
          "output_type": "stream",
          "name": "stdout",
          "text": [
            "No. user events: 433671\n",
            "No. items: 185973\n",
            "No. users: 77805\n",
            "\n",
            "\n",
            "Mean books per user: 5.6\n",
            "Min books per user: 1\n",
            "Max books per user: 8524\n",
            "\n",
            "\n",
            "Mean users per book: 2.3\n",
            "Min users per book: 1\n",
            "Max users per book: 707\n",
            "\n",
            "\n"
          ]
        }
      ],
      "source": [
        "df_events = filter_rows_by_values(df_events, predict_col, [0]) # remove 0 ratings, these are just implicit ratings\n",
        "\n",
        "\n",
        "# statistics on explicit dataset\n",
        "users_and_items(df_events, user_col, item_col)\n",
        "user_dist, num_users = user_distribution(df_events, user_col, item_col)\n",
        "item_dist, num_items = item_distribution(df_events, user_col, item_col)"
      ]
    },
    {
      "cell_type": "code",
      "execution_count": 82,
      "metadata": {
        "colab": {
          "base_uri": "https://localhost:8080/"
        },
        "id": "ZSylrtm-VLYj",
        "outputId": "41e2bdf9-bbe6-45e9-d28c-cd55c1e922ef"
      },
      "outputs": [
        {
          "output_type": "stream",
          "name": "stdout",
          "text": [
            "The number of users with more than 200 interactions: 144\n"
          ]
        }
      ],
      "source": [
        "# To check if there is any user with more than 200 interactions in the preprocessed dataset\n",
        "uid_value_counts = df_events[user_col].value_counts()\n",
        "print(f\"The number of users with more than 200 interactions: {uid_value_counts[uid_value_counts > 200].count()}\")"
      ]
    },
    {
      "cell_type": "code",
      "execution_count": 83,
      "metadata": {
        "id": "Nfzh2XdaVadU"
      },
      "outputs": [],
      "source": [
        "# To remove the users with fewer than 5 interactions we first count the number of interactino per user and add a new column (`Count`) in the dataframe.\n",
        "# This column shows the number of interactions per user in the dataset\n",
        "users_counts = uid_value_counts.to_dict() #converts to dictionary\n",
        "df_events['Count'] = df_events[user_col].map(users_counts)"
      ]
    },
    {
      "cell_type": "code",
      "execution_count": 84,
      "metadata": {
        "id": "o-j-0QBVVoxv"
      },
      "outputs": [],
      "source": [
        "df_events = filter_rows_by_values(df_events, \"Count\", list(range(200, max(df_events['Count']) + 1)))"
      ]
    },
    {
      "cell_type": "code",
      "execution_count": 85,
      "metadata": {
        "colab": {
          "base_uri": "https://localhost:8080/"
        },
        "id": "1ApIrzcCVw9N",
        "outputId": "356a769a-4e6f-41ef-a1ec-7ac1d7fd5b68"
      },
      "outputs": [
        {
          "output_type": "stream",
          "name": "stdout",
          "text": [
            "No. user events: 364245\n",
            "No. items: 156891\n",
            "No. users: 77660\n",
            "\n",
            "\n",
            "Mean books per user: 4.7\n",
            "Min books per user: 1\n",
            "Max books per user: 199\n",
            "\n",
            "\n",
            "Mean users per book: 2.3\n",
            "Min users per book: 1\n",
            "Max users per book: 683\n",
            "\n",
            "\n"
          ]
        }
      ],
      "source": [
        "# new data statistics\n",
        "users_and_items(df_events, user_col, item_col)\n",
        "user_dist, num_users = user_distribution(df_events, user_col, item_col)\n",
        "item_dist, num_items = item_distribution(df_events, user_col, item_col)"
      ]
    },
    {
      "cell_type": "code",
      "execution_count": 86,
      "metadata": {
        "colab": {
          "base_uri": "https://localhost:8080/"
        },
        "id": "qT-hW-30V2_0",
        "outputId": "f3255fdf-52ca-44f7-9983-64836bd787ed"
      },
      "outputs": [
        {
          "output_type": "stream",
          "name": "stderr",
          "text": [
            "/usr/local/lib/python3.7/dist-packages/ipykernel_launcher.py:9: SettingWithCopyWarning: \n",
            "A value is trying to be set on a copy of a slice from a DataFrame.\n",
            "Try using .loc[row_indexer,col_indexer] = value instead\n",
            "\n",
            "See the caveats in the documentation: https://pandas.pydata.org/pandas-docs/stable/user_guide/indexing.html#returning-a-view-versus-a-copy\n",
            "  if __name__ == '__main__':\n",
            "/usr/local/lib/python3.7/dist-packages/ipykernel_launcher.py:19: SettingWithCopyWarning: \n",
            "A value is trying to be set on a copy of a slice from a DataFrame.\n",
            "Try using .loc[row_indexer,col_indexer] = value instead\n",
            "\n",
            "See the caveats in the documentation: https://pandas.pydata.org/pandas-docs/stable/user_guide/indexing.html#returning-a-view-versus-a-copy\n"
          ]
        }
      ],
      "source": [
        "user_interaction, item_interaction = 1, 1\n",
        "\n",
        "while user_interaction != 0 or item_interaction != 0:\n",
        "    uid_value_counts = df_events[user_col].value_counts()\n",
        "    user_interaction = uid_value_counts[uid_value_counts < 5].count()\n",
        "\n",
        "    users_counts = df_events[user_col].value_counts()\n",
        "    users_counts = users_counts.to_dict() #converts to dictionary\n",
        "    df_events['Count'] = df_events[user_col].map(users_counts)\n",
        "\n",
        "    df_events = filter_rows_by_values(df_events, \"Count\", list(range(5)))\n",
        "\n",
        "    # item side fewer than ds_rate cheking\n",
        "    bid_value_counts = df_events[item_col].value_counts()\n",
        "    item_interaction = bid_value_counts[bid_value_counts < 5].count()\n",
        "\n",
        "    items_counts = df_events[item_col].value_counts()\n",
        "    items_counts = items_counts.to_dict() #converts to dictionary\n",
        "    df_events['Count'] = df_events[item_col].map(items_counts)\n",
        "\n",
        "    df_events = filter_rows_by_values(df_events, \"Count\", list(range(5)))"
      ]
    },
    {
      "cell_type": "code",
      "execution_count": 87,
      "metadata": {
        "colab": {
          "base_uri": "https://localhost:8080/"
        },
        "id": "Mm4cP5FzWhIJ",
        "outputId": "deea6dc3-6fa9-445f-e15c-b6e3e08dda0a"
      },
      "outputs": [
        {
          "output_type": "stream",
          "name": "stdout",
          "text": [
            "No. user events: 88552\n",
            "No. items: 6921\n",
            "No. users: 6358\n",
            "\n",
            "\n",
            "Mean books per user: 13.9\n",
            "Min books per user: 5\n",
            "Max books per user: 153\n",
            "\n",
            "\n",
            "Mean users per book: 12.8\n",
            "Min users per book: 5\n",
            "Max users per book: 350\n",
            "\n",
            "\n"
          ]
        }
      ],
      "source": [
        "# final data statistics\n",
        "users_and_items(df_events, user_col, item_col)\n",
        "user_dist, num_users = user_distribution(df_events, user_col, item_col)\n",
        "item_dist, num_items = item_distribution(df_events, user_col, item_col)"
      ]
    },
    {
      "cell_type": "code",
      "execution_count": 88,
      "metadata": {
        "id": "BxFkdMdCbAMj"
      },
      "outputs": [],
      "source": [
        "del(df_events[\"Count\"])"
      ]
    },
    {
      "cell_type": "code",
      "execution_count": 89,
      "metadata": {
        "id": "Ad5vVllHWxQg"
      },
      "outputs": [],
      "source": [
        "\n",
        "# create item dataframe with normalized item counts\n",
        "df_item_dist = pd.DataFrame(item_dist) # turn the series into a dataframe\n",
        "df_item_dist.columns = ['count']\n",
        "df_item_dist['count'] /= num_users # basically the popularity of every item\n"
      ]
    },
    {
      "cell_type": "code",
      "execution_count": 90,
      "metadata": {
        "colab": {
          "base_uri": "https://localhost:8080/",
          "height": 206
        },
        "id": "Oh_Z9gu9bGu4",
        "outputId": "555e3f55-355a-4b4a-c5aa-d7c415e9069b"
      },
      "outputs": [
        {
          "output_type": "execute_result",
          "data": {
            "text/plain": [
              "                 count\n",
              "0316666343  0.05504876\n",
              "0385504209  0.04356716\n",
              "0312195516  0.03129915\n",
              "0142001740  0.02956905\n",
              "0060928336  0.02831079"
            ],
            "text/html": [
              "\n",
              "  <div id=\"df-cbb41274-4476-4510-a0ca-3a19165082d7\">\n",
              "    <div class=\"colab-df-container\">\n",
              "      <div>\n",
              "<style scoped>\n",
              "    .dataframe tbody tr th:only-of-type {\n",
              "        vertical-align: middle;\n",
              "    }\n",
              "\n",
              "    .dataframe tbody tr th {\n",
              "        vertical-align: top;\n",
              "    }\n",
              "\n",
              "    .dataframe thead th {\n",
              "        text-align: right;\n",
              "    }\n",
              "</style>\n",
              "<table border=\"1\" class=\"dataframe\">\n",
              "  <thead>\n",
              "    <tr style=\"text-align: right;\">\n",
              "      <th></th>\n",
              "      <th>count</th>\n",
              "    </tr>\n",
              "  </thead>\n",
              "  <tbody>\n",
              "    <tr>\n",
              "      <th>0316666343</th>\n",
              "      <td>0.05504876</td>\n",
              "    </tr>\n",
              "    <tr>\n",
              "      <th>0385504209</th>\n",
              "      <td>0.04356716</td>\n",
              "    </tr>\n",
              "    <tr>\n",
              "      <th>0312195516</th>\n",
              "      <td>0.03129915</td>\n",
              "    </tr>\n",
              "    <tr>\n",
              "      <th>0142001740</th>\n",
              "      <td>0.02956905</td>\n",
              "    </tr>\n",
              "    <tr>\n",
              "      <th>0060928336</th>\n",
              "      <td>0.02831079</td>\n",
              "    </tr>\n",
              "  </tbody>\n",
              "</table>\n",
              "</div>\n",
              "      <button class=\"colab-df-convert\" onclick=\"convertToInteractive('df-cbb41274-4476-4510-a0ca-3a19165082d7')\"\n",
              "              title=\"Convert this dataframe to an interactive table.\"\n",
              "              style=\"display:none;\">\n",
              "        \n",
              "  <svg xmlns=\"http://www.w3.org/2000/svg\" height=\"24px\"viewBox=\"0 0 24 24\"\n",
              "       width=\"24px\">\n",
              "    <path d=\"M0 0h24v24H0V0z\" fill=\"none\"/>\n",
              "    <path d=\"M18.56 5.44l.94 2.06.94-2.06 2.06-.94-2.06-.94-.94-2.06-.94 2.06-2.06.94zm-11 1L8.5 8.5l.94-2.06 2.06-.94-2.06-.94L8.5 2.5l-.94 2.06-2.06.94zm10 10l.94 2.06.94-2.06 2.06-.94-2.06-.94-.94-2.06-.94 2.06-2.06.94z\"/><path d=\"M17.41 7.96l-1.37-1.37c-.4-.4-.92-.59-1.43-.59-.52 0-1.04.2-1.43.59L10.3 9.45l-7.72 7.72c-.78.78-.78 2.05 0 2.83L4 21.41c.39.39.9.59 1.41.59.51 0 1.02-.2 1.41-.59l7.78-7.78 2.81-2.81c.8-.78.8-2.07 0-2.86zM5.41 20L4 18.59l7.72-7.72 1.47 1.35L5.41 20z\"/>\n",
              "  </svg>\n",
              "      </button>\n",
              "      \n",
              "  <style>\n",
              "    .colab-df-container {\n",
              "      display:flex;\n",
              "      flex-wrap:wrap;\n",
              "      gap: 12px;\n",
              "    }\n",
              "\n",
              "    .colab-df-convert {\n",
              "      background-color: #E8F0FE;\n",
              "      border: none;\n",
              "      border-radius: 50%;\n",
              "      cursor: pointer;\n",
              "      display: none;\n",
              "      fill: #1967D2;\n",
              "      height: 32px;\n",
              "      padding: 0 0 0 0;\n",
              "      width: 32px;\n",
              "    }\n",
              "\n",
              "    .colab-df-convert:hover {\n",
              "      background-color: #E2EBFA;\n",
              "      box-shadow: 0px 1px 2px rgba(60, 64, 67, 0.3), 0px 1px 3px 1px rgba(60, 64, 67, 0.15);\n",
              "      fill: #174EA6;\n",
              "    }\n",
              "\n",
              "    [theme=dark] .colab-df-convert {\n",
              "      background-color: #3B4455;\n",
              "      fill: #D2E3FC;\n",
              "    }\n",
              "\n",
              "    [theme=dark] .colab-df-convert:hover {\n",
              "      background-color: #434B5C;\n",
              "      box-shadow: 0px 1px 3px 1px rgba(0, 0, 0, 0.15);\n",
              "      filter: drop-shadow(0px 1px 2px rgba(0, 0, 0, 0.3));\n",
              "      fill: #FFFFFF;\n",
              "    }\n",
              "  </style>\n",
              "\n",
              "      <script>\n",
              "        const buttonEl =\n",
              "          document.querySelector('#df-cbb41274-4476-4510-a0ca-3a19165082d7 button.colab-df-convert');\n",
              "        buttonEl.style.display =\n",
              "          google.colab.kernel.accessAllowed ? 'block' : 'none';\n",
              "\n",
              "        async function convertToInteractive(key) {\n",
              "          const element = document.querySelector('#df-cbb41274-4476-4510-a0ca-3a19165082d7');\n",
              "          const dataTable =\n",
              "            await google.colab.kernel.invokeFunction('convertToInteractive',\n",
              "                                                     [key], {});\n",
              "          if (!dataTable) return;\n",
              "\n",
              "          const docLinkHtml = 'Like what you see? Visit the ' +\n",
              "            '<a target=\"_blank\" href=https://colab.research.google.com/notebooks/data_table.ipynb>data table notebook</a>'\n",
              "            + ' to learn more about interactive tables.';\n",
              "          element.innerHTML = '';\n",
              "          dataTable['output_type'] = 'display_data';\n",
              "          await google.colab.output.renderOutput(dataTable, element);\n",
              "          const docLink = document.createElement('div');\n",
              "          docLink.innerHTML = docLinkHtml;\n",
              "          element.appendChild(docLink);\n",
              "        }\n",
              "      </script>\n",
              "    </div>\n",
              "  </div>\n",
              "  "
            ]
          },
          "metadata": {},
          "execution_count": 90
        }
      ],
      "source": [
        "df_item_dist.head()"
      ]
    },
    {
      "cell_type": "code",
      "execution_count": 91,
      "metadata": {
        "id": "e7A47DCgbIjw"
      },
      "outputs": [],
      "source": [
        "def plot_data_distribution(item_dist, item_col, dividing = [False, 0], log = False):\n",
        "    plt.figure()\n",
        "    ax = plt.axes()\n",
        "    ax.spines['bottom'].set_color('w')\n",
        "    ax.spines['top'].set_color('w')\n",
        "    ax.spines['right'].set_color('w')\n",
        "    ax.spines['left'].set_color('w')\n",
        "    ax.spines['left'].set_zorder(0)\n",
        "    ax.xaxis.set_ticks_position('none') \n",
        "    ax.yaxis.set_ticks_position('none') \n",
        "    ax.set_facecolor(\"aliceblue\")\n",
        "    plt.grid(color = \"w\",linewidth = 2 )\n",
        "    if dividing[0]:\n",
        "        x0 = int(len(item_dist.values)*dividing[1])\n",
        "        y = range(len(item_dist))\n",
        "        plt.plot(y[:x0+1], item_dist.values[:x0+1], label = \"Popular \"+item_col+\"s\", linewidth = 5)\n",
        "        plt.plot(y[x0:], item_dist.values[x0:], label = \"Non Popular \"+item_col+\"s\", linewidth = 5)\n",
        "    else:\n",
        "        plt.plot(item_dist.values)\n",
        "    plt.xticks(fontsize='13')\n",
        "    plt.yticks(fontsize='13')\n",
        "    add = \"\"\n",
        "    if log:\n",
        "        plt.xscale('log')\n",
        "        plt.yscale('log')\n",
        "        add = \" (log)\"\n",
        "    plt.xlabel(item_col+add, fontsize='14')\n",
        "    plt.ylabel('Number of users' + add, fontsize='15')\n",
        "    plt.show(block=True)\n",
        "def plot_popularity_distribution(pop_fraq, item_col, dividing = [False,0]):\n",
        "    plt.figure()\n",
        "    ax = plt.axes()\n",
        "    ax.spines['bottom'].set_color('w')\n",
        "    ax.spines['top'].set_color('w')\n",
        "    ax.spines['right'].set_color('w')\n",
        "    ax.spines['left'].set_color('w')\n",
        "    ax.spines['left'].set_zorder(0)\n",
        "    ax.xaxis.set_ticks_position('none') \n",
        "    ax.yaxis.set_ticks_position('none') \n",
        "    \n",
        "    ax.set_facecolor(\"aliceblue\")\n",
        "    plt.grid(color = \"w\",linewidth = 2 )\n",
        "    if dividing[0]:\n",
        "        y = range(len(pop_fraq))\n",
        "        x0 = int(len(y)*dividing[1]) \n",
        "        x1 = int(len(y)*(1-dividing[1]))\n",
        "        x= sorted(pop_fraq)\n",
        "        plt.plot(y[:x0+1],x[:x0+1], label=\"Niche users\", linewidth = 5)\n",
        "        plt.plot(y[x0:x1+1],x[x0:x1+1], label = \"Diverse users\", linewidth = 5)\n",
        "        plt.plot(y[x1:],x[x1:], label = \"BestSeller users\", linewidth =5)\n",
        "    else:\n",
        "        plt.plot(sorted(pop_fraq))\n",
        "    plt.xlabel('User', fontsize='15')\n",
        "    plt.xticks(fontsize='13')\n",
        "    plt.ylabel('Ratio of popular '+item_col+'s', fontsize='15')\n",
        "    plt.yticks(fontsize='13')\n",
        "    plt.axhline(y=0.8, color='black', linestyle='--', label='80% ratio of popular '+item_col+'s')\n",
        "    plt.legend(fontsize='15')\n",
        "    plt.show(block=True)\n"
      ]
    },
    {
      "cell_type": "code",
      "execution_count": 92,
      "metadata": {
        "colab": {
          "base_uri": "https://localhost:8080/",
          "height": 564
        },
        "id": "EkYkK6vEbK8-",
        "outputId": "496dab8b-cf6f-4e68-f9aa-ef32c0499aef"
      },
      "outputs": [
        {
          "output_type": "display_data",
          "data": {
            "text/plain": [
              "<Figure size 576x288 with 1 Axes>"
            ],
            "image/png": "[encoded data removed]"
          },
          "metadata": {}
        },
        {
          "output_type": "display_data",
          "data": {
            "text/plain": [
              "<Figure size 576x288 with 1 Axes>"
            ],
            "image/png": "[encoded data removed]"
          },
          "metadata": {}
        }
      ],
      "source": [
        "plot_data_distribution(item_dist, item_col)\n",
        "plot_data_distribution(item_dist, item_col, [False, 0],True)"
      ]
    },
    {
      "cell_type": "markdown",
      "metadata": {
        "id": "bJtawX7Obc-b"
      },
      "source": [
        "## E. Popularity in the data"
      ]
    },
    {
      "cell_type": "code",
      "execution_count": 93,
      "metadata": {
        "colab": {
          "base_uri": "https://localhost:8080/"
        },
        "id": "qcPpaALQbMzd",
        "outputId": "c3427f88-419e-49b3-f9e5-b5b4892c31a3"
      },
      "outputs": [
        {
          "output_type": "stream",
          "name": "stdout",
          "text": [
            "No. items labeled as \"popular\": 1384\n"
          ]
        }
      ],
      "source": [
        "num_top = int(top_fraction * num_items)\n",
        "top_item_dist = item_dist[:num_top]\n",
        "print('No. items labeled as \"popular\": ' + str(len(top_item_dist)))"
      ]
    },
    {
      "cell_type": "code",
      "execution_count": 94,
      "metadata": {
        "id": "heWAn1_Obep_"
      },
      "outputs": [],
      "source": [
        "def calculate_popularity(df_events, top_item_dist, item_dist, num_users, user_col, item_col):\n",
        "    pop_count = [] # number of top items per user\n",
        "    user_hist = [] # user history sizes\n",
        "    pop_fraq = [] # relative number of top items per user\n",
        "    pop_item_fraq = [] # average popularity of items in user profiles\n",
        "    i=0\n",
        "    for u, df in df_events.groupby(user_col):\n",
        "        no_user_items = len(set(df[item_col]))\n",
        "        no_user_pop_items = len(set(df[item_col]) & set(top_item_dist.index))\n",
        "        pop_count.append(no_user_pop_items)\n",
        "        user_hist.append(no_user_items) \n",
        "        pop_fraq.append(no_user_pop_items / no_user_items)\n",
        "        user_pop_item_fraq = sum(item_dist[df[item_col]] / num_users) / no_user_items\n",
        "        pop_item_fraq.append(user_pop_item_fraq)\n",
        "        i+=1\n",
        "        if i%1000==0:\n",
        "            print(i)\n",
        "    return pop_count,user_hist,pop_fraq, pop_item_fraq"
      ]
    },
    {
      "cell_type": "code",
      "execution_count": 95,
      "metadata": {
        "colab": {
          "base_uri": "https://localhost:8080/"
        },
        "id": "InpEYMvSbgUu",
        "outputId": "4de80427-c3ac-46a4-d660-32d15fd376ed"
      },
      "outputs": [
        {
          "output_type": "stream",
          "name": "stdout",
          "text": [
            "1000\n",
            "2000\n",
            "3000\n",
            "4000\n",
            "5000\n",
            "6000\n"
          ]
        }
      ],
      "source": [
        "pop_count,user_hist,pop_fraq, pop_item_fraq = calculate_popularity(df_events, top_item_dist, item_dist, num_users, user_col, item_col)"
      ]
    },
    {
      "cell_type": "code",
      "execution_count": 96,
      "metadata": {
        "id": "48UGFx8SbiBr"
      },
      "outputs": [],
      "source": [
        "def plot_popularity_distribution(pop_fraq, item_col, dividing = [False,0]):\n",
        "    plt.figure()\n",
        "    ax = plt.axes()\n",
        "    ax.spines['bottom'].set_color('w')\n",
        "    ax.spines['top'].set_color('w')\n",
        "    ax.spines['right'].set_color('w')\n",
        "    ax.spines['left'].set_color('w')\n",
        "    ax.spines['left'].set_zorder(0)\n",
        "    ax.xaxis.set_ticks_position('none') \n",
        "    ax.yaxis.set_ticks_position('none') \n",
        "    \n",
        "    ax.set_facecolor(\"aliceblue\")\n",
        "    plt.grid(color = \"w\",linewidth = 2 )\n",
        "    if dividing[0]:\n",
        "        y = range(len(pop_fraq))\n",
        "        x0 = int(len(y)*dividing[1]) \n",
        "        x1 = int(len(y)*(1-dividing[1]))\n",
        "        x= sorted(pop_fraq)\n",
        "        plt.plot(y[:x0+1],x[:x0+1], label=\"Niche users\", linewidth = 5)\n",
        "        plt.plot(y[x0:x1+1],x[x0:x1+1], label = \"Diverse users\", linewidth = 5)\n",
        "        plt.plot(y[x1:],x[x1:], label = \"BestSeller users\", linewidth =5)\n",
        "    else:\n",
        "        plt.plot(sorted(pop_fraq))\n",
        "    plt.xlabel('User', fontsize='15')\n",
        "    plt.xticks(fontsize='13')\n",
        "    plt.ylabel('Ratio of popular '+item_col+'s', fontsize='15')\n",
        "    plt.yticks(fontsize='13')\n",
        "    plt.axhline(y=0.8, color='black', linestyle='--', label='80% ratio of popular '+item_col+'s')\n",
        "    plt.legend(fontsize='15')\n",
        "    plt.show(block=True)\n",
        "\n",
        "def plot_profile_size_vs_popularity(pop_metric, user_hist, way, item_col):\n",
        "    plt.figure()\n",
        "    ax = plt.axes()\n",
        "    ax.spines['bottom'].set_color('w')\n",
        "    ax.spines['top'].set_color('w')\n",
        "    ax.spines['right'].set_color('w')\n",
        "    ax.spines['left'].set_color('w')\n",
        "    ax.spines['left'].set_zorder(0)\n",
        "    ax.xaxis.set_ticks_position('none') \n",
        "    ax.yaxis.set_ticks_position('none') \n",
        "    \n",
        "    ax.set_facecolor(\"aliceblue\")\n",
        "    plt.grid(color = \"w\",linewidth = 2 )\n",
        "    slope, intercept, r_value, p_value, std_err = stats.linregress(user_hist, pop_metric)\n",
        "    print('R-value: ' + str(r_value))\n",
        "    line = slope * np.array(user_hist) + intercept\n",
        "    plt.plot(user_hist, pop_metric, 'o', user_hist, line)\n",
        "    plt.xlabel('User profile size', fontsize='15')\n",
        "    plt.xticks(fontsize='13')\n",
        "    if way == \"count\":\n",
        "        ylabel = \"Number of popular \"+item_col+\"s\"\n",
        "    elif way == \"percentage\":\n",
        "        ylabel = 'Percentage of popular '+item_col+'s'\n",
        "    else:\n",
        "        ylabel = \"Average popularity of \"+item_col+\"s\"\n",
        "    plt.ylabel(ylabel, fontsize='15')\n",
        "    plt.yticks(fontsize='13')\n",
        "    plt.show(block=True)"
      ]
    },
    {
      "cell_type": "code",
      "execution_count": 97,
      "metadata": {
        "colab": {
          "base_uri": "https://localhost:8080/",
          "height": 1000
        },
        "id": "k4zHOC5PbkpV",
        "outputId": "5e4a815a-9702-4843-857a-14bdc38c005b"
      },
      "outputs": [
        {
          "output_type": "display_data",
          "data": {
            "text/plain": [
              "<Figure size 576x288 with 1 Axes>"
            ],
            "image/png": "[encoded data removed]"
          },
          "metadata": {}
        },
        {
          "output_type": "stream",
          "name": "stdout",
          "text": [
            "R-value: 0.923043590336\n"
          ]
        },
        {
          "output_type": "display_data",
          "data": {
            "text/plain": [
              "<Figure size 576x288 with 1 Axes>"
            ],
            "image/png": "[encoded data removed]"
          },
          "metadata": {}
        },
        {
          "output_type": "stream",
          "name": "stdout",
          "text": [
            "R-value: -0.013155544625724313\n"
          ]
        },
        {
          "output_type": "display_data",
          "data": {
            "text/plain": [
              "<Figure size 576x288 with 1 Axes>"
            ],
            "image/png": "[encoded data removed]"
          },
          "metadata": {}
        },
        {
          "output_type": "stream",
          "name": "stdout",
          "text": [
            "R-value: -0.033575222226251665\n"
          ]
        },
        {
          "output_type": "display_data",
          "data": {
            "text/plain": [
              "<Figure size 576x288 with 1 Axes>"
            ],
            "image/png": "[encoded data removed]"
          },
          "metadata": {}
        }
      ],
      "source": [
        "plot_popularity_distribution(pop_fraq, item_col)\n",
        "plot_profile_size_vs_popularity(pop_count,user_hist, \"count\", item_col)\n",
        "plot_profile_size_vs_popularity(pop_fraq,user_hist, \"percentage\", item_col)\n",
        "plot_profile_size_vs_popularity(pop_item_fraq,user_hist, \"average\", item_col)"
      ]
    },
    {
      "cell_type": "markdown",
      "metadata": {
        "id": "KVUtmgmnbsfI"
      },
      "source": [
        "## F. User groups"
      ]
    },
    {
      "cell_type": "code",
      "execution_count": 98,
      "metadata": {
        "id": "WDOmJLuJbl6I"
      },
      "outputs": [],
      "source": [
        "def sort_user_dist(user_dist,pop_count, user_hist,pop_fraq,pop_item_fraq, by = \"pop_fraq\"):\n",
        "    user_dist = user_dist.sort_index()\n",
        "    user_dist_sorted = pd.DataFrame(data = user_dist)\n",
        "    \n",
        "    user_dist_sorted.columns = [\"count\"]\n",
        "    \n",
        "    user_dist_sorted[\"pop_count\"] = pop_count\n",
        "    user_dist_sorted[\"user_hist\"] = user_hist\n",
        "    user_dist_sorted[\"pop_fraq\"] = pop_fraq\n",
        "    user_dist_sorted[\"pop_item_fraq\"] = pop_item_fraq\n",
        "    \n",
        "    user_dist_sorted = user_dist_sorted.sort_values(by=[by])\n",
        "    return user_dist_sorted\n",
        "\n",
        "def split(user_dist_sorted, top_fraction):\n",
        "    low, med, high = np.split(user_dist_sorted, [int(top_fraction*len(user_dist_sorted)), int((1-top_fraction)*len(user_dist_sorted))])\n",
        "    return low, med, high\n",
        "def calculate_group_characteristics(low, med, high):\n",
        "    low_profile_size = low.user_hist.mean()\n",
        "    med_profile_size = med.user_hist.mean()\n",
        "    high_profile_size = high.user_hist.mean()\n",
        "    \n",
        "    low_nr_users = len(low)\n",
        "    med_nr_users = len(med)\n",
        "    high_nr_users = len(high)\n",
        "    \n",
        "    low_GAP = low.pop_item_fraq.mean()\n",
        "    med_GAP = med.pop_item_fraq.mean()\n",
        "    high_GAP = high.pop_item_fraq.mean()\n",
        "    \n",
        "    return low_profile_size, med_profile_size, high_profile_size, low_nr_users, med_nr_users, high_nr_users, low_GAP, med_GAP, high_GAP"
      ]
    },
    {
      "cell_type": "markdown",
      "source": [
        "### Make notion of popularity propensity choice\n",
        "The reader has to manually choose how to divide the users into groups according to their propensity for popular items."
      ],
      "metadata": {
        "id": "eUWmL6kHa-Z2"
      }
    },
    {
      "cell_type": "code",
      "source": [
        "popularity_function = {'pop_one': \"pop_fraq\",\n",
        "             'pop_two': \"pop_item_fraq\"}"
      ],
      "metadata": {
        "id": "CuBS2J9ca64D"
      },
      "execution_count": 131,
      "outputs": []
    },
    {
      "cell_type": "code",
      "source": [
        "pop_notion = \"pop_two\""
      ],
      "metadata": {
        "id": "1IOep0zxbFd5"
      },
      "execution_count": 132,
      "outputs": []
    },
    {
      "cell_type": "code",
      "execution_count": 133,
      "metadata": {
        "id": "1whaOUMubvu0"
      },
      "outputs": [],
      "source": [
        "user_dist_sorted = sort_user_dist(user_dist,pop_count, user_hist,pop_fraq,pop_item_fraq, by = popularity_function[pop_notion])\n",
        "low, med, high = split(user_dist_sorted, top_fraction)\n",
        "low_profile_size, med_profile_size, high_profile_size, low_nr_users, med_nr_users, high_nr_users, low_GAP, med_GAP, high_GAP = calculate_group_characteristics(low, med, high)"
      ]
    },
    {
      "cell_type": "code",
      "execution_count": 134,
      "metadata": {
        "colab": {
          "base_uri": "https://localhost:8080/"
        },
        "id": "4tnrh__Gbxda",
        "outputId": "9c61d07a-aba2-4466-8f1a-5b18ef7950ec"
      },
      "outputs": [
        {
          "output_type": "stream",
          "name": "stdout",
          "text": [
            "Niche GAP: 0.0020793485971879627\n",
            "Diverse GAP: 0.004746984354432404\n",
            "BestSeller GAP: 0.009717753280533033\n"
          ]
        }
      ],
      "source": [
        "print('Niche GAP: ' + str(low_GAP))\n",
        "print('Diverse GAP: ' + str(med_GAP))\n",
        "print('BestSeller GAP: ' + str(high_GAP))"
      ]
    },
    {
      "cell_type": "code",
      "execution_count": 135,
      "metadata": {
        "id": "KYh9Iwq7b0hI"
      },
      "outputs": [],
      "source": [
        "def plot_group_characteristics(low_nr, med_nr, high_nr, way, item_col):\n",
        "    plt.figure()\n",
        "    ax = plt.axes()\n",
        "    ax.spines['bottom'].set_color('w')\n",
        "    ax.spines['top'].set_color('w')\n",
        "    ax.spines['right'].set_color('w')\n",
        "    ax.spines['left'].set_color('w')\n",
        "    ax.spines['left'].set_zorder(0)\n",
        "    ax.xaxis.set_ticks_position('none') \n",
        "    ax.yaxis.set_ticks_position('none') \n",
        "    \n",
        "    ax.set_facecolor(\"aliceblue\")\n",
        "    plt.bar(np.arange(3), [low_nr, med_nr, high_nr])\n",
        "    plt.xticks(np.arange(3), ['Niche', 'Diverse', 'BestSeller'])\n",
        "    plt.xlabel('User group')\n",
        "    if way==\"size\":\n",
        "        ylabel = 'Average user profile size'\n",
        "    else:\n",
        "        ylabel = \"Number of users per group\"\n",
        "    plt.ylabel(ylabel)\n",
        "    \n",
        "    print('Niche: ' + str(low_nr))\n",
        "    print('Diverse: ' + str(med_nr))\n",
        "    print('BestSeller: ' + str(high_nr))\n",
        "    plt.show(block=True)"
      ]
    },
    {
      "cell_type": "code",
      "execution_count": 136,
      "metadata": {
        "colab": {
          "base_uri": "https://localhost:8080/",
          "height": 661
        },
        "id": "UWciSGXcb2Gc",
        "outputId": "73b14bd5-eeac-40d6-8f5a-d998ed669273"
      },
      "outputs": [
        {
          "output_type": "stream",
          "name": "stdout",
          "text": [
            "Niche: 1271\n",
            "Diverse: 3815\n",
            "BestSeller: 1272\n"
          ]
        },
        {
          "output_type": "display_data",
          "data": {
            "text/plain": [
              "<Figure size 576x288 with 1 Axes>"
            ],
            "image/png": "[encoded data removed]"
          },
          "metadata": {}
        },
        {
          "output_type": "stream",
          "name": "stdout",
          "text": [
            "Niche: 9.892210857592447\n",
            "Diverse: 16.300917431192662\n",
            "BestSeller: 10.841981132075471\n"
          ]
        },
        {
          "output_type": "display_data",
          "data": {
            "text/plain": [
              "<Figure size 576x288 with 1 Axes>"
            ],
            "image/png": "[encoded data removed]"
          },
          "metadata": {}
        }
      ],
      "source": [
        "plot_group_characteristics(low_nr_users, med_nr_users, high_nr_users, way = \"number\", item_col = item_col)\n",
        "plot_group_characteristics(low_profile_size, med_profile_size, high_profile_size, way = \"size\", item_col = item_col)"
      ]
    },
    {
      "cell_type": "code",
      "execution_count": 137,
      "metadata": {
        "id": "LU60DqSqb3jI"
      },
      "outputs": [],
      "source": [
        "# plot_data_distribution(item_dist, item_col, dividing = [True, top_fraction], log = False)\n",
        "# plot_popularity_distribution(pop_fraq, item_col, dividing = [True,top_fraction])"
      ]
    },
    {
      "cell_type": "markdown",
      "metadata": {
        "id": "ntsQhW_DcAez"
      },
      "source": [
        "## G. Recommendation"
      ]
    },
    {
      "cell_type": "code",
      "execution_count": 110,
      "metadata": {
        "colab": {
          "base_uri": "https://localhost:8080/",
          "height": 206
        },
        "id": "rXVXcmNab7is",
        "outputId": "c0b58684-cfc8-4f8f-8a52-f391fd652866"
      },
      "outputs": [
        {
          "output_type": "execute_result",
          "data": {
            "text/plain": [
              "       user        book  rating\n",
              "182  276847  3426029553       8\n",
              "210  276847  3551551677      10\n",
              "211  276847  3551551685      10\n",
              "212  276847  3551551693      10\n",
              "213  276847  3551551936      10"
            ],
            "text/html": [
              "\n",
              "  <div id=\"df-b7f79fd0-5bbb-4e53-ab73-c8eda053372c\">\n",
              "    <div class=\"colab-df-container\">\n",
              "      <div>\n",
              "<style scoped>\n",
              "    .dataframe tbody tr th:only-of-type {\n",
              "        vertical-align: middle;\n",
              "    }\n",
              "\n",
              "    .dataframe tbody tr th {\n",
              "        vertical-align: top;\n",
              "    }\n",
              "\n",
              "    .dataframe thead th {\n",
              "        text-align: right;\n",
              "    }\n",
              "</style>\n",
              "<table border=\"1\" class=\"dataframe\">\n",
              "  <thead>\n",
              "    <tr style=\"text-align: right;\">\n",
              "      <th></th>\n",
              "      <th>user</th>\n",
              "      <th>book</th>\n",
              "      <th>rating</th>\n",
              "    </tr>\n",
              "  </thead>\n",
              "  <tbody>\n",
              "    <tr>\n",
              "      <th>182</th>\n",
              "      <td>276847</td>\n",
              "      <td>3426029553</td>\n",
              "      <td>8</td>\n",
              "    </tr>\n",
              "    <tr>\n",
              "      <th>210</th>\n",
              "      <td>276847</td>\n",
              "      <td>3551551677</td>\n",
              "      <td>10</td>\n",
              "    </tr>\n",
              "    <tr>\n",
              "      <th>211</th>\n",
              "      <td>276847</td>\n",
              "      <td>3551551685</td>\n",
              "      <td>10</td>\n",
              "    </tr>\n",
              "    <tr>\n",
              "      <th>212</th>\n",
              "      <td>276847</td>\n",
              "      <td>3551551693</td>\n",
              "      <td>10</td>\n",
              "    </tr>\n",
              "    <tr>\n",
              "      <th>213</th>\n",
              "      <td>276847</td>\n",
              "      <td>3551551936</td>\n",
              "      <td>10</td>\n",
              "    </tr>\n",
              "  </tbody>\n",
              "</table>\n",
              "</div>\n",
              "      <button class=\"colab-df-convert\" onclick=\"convertToInteractive('df-b7f79fd0-5bbb-4e53-ab73-c8eda053372c')\"\n",
              "              title=\"Convert this dataframe to an interactive table.\"\n",
              "              style=\"display:none;\">\n",
              "        \n",
              "  <svg xmlns=\"http://www.w3.org/2000/svg\" height=\"24px\"viewBox=\"0 0 24 24\"\n",
              "       width=\"24px\">\n",
              "    <path d=\"M0 0h24v24H0V0z\" fill=\"none\"/>\n",
              "    <path d=\"M18.56 5.44l.94 2.06.94-2.06 2.06-.94-2.06-.94-.94-2.06-.94 2.06-2.06.94zm-11 1L8.5 8.5l.94-2.06 2.06-.94-2.06-.94L8.5 2.5l-.94 2.06-2.06.94zm10 10l.94 2.06.94-2.06 2.06-.94-2.06-.94-.94-2.06-.94 2.06-2.06.94z\"/><path d=\"M17.41 7.96l-1.37-1.37c-.4-.4-.92-.59-1.43-.59-.52 0-1.04.2-1.43.59L10.3 9.45l-7.72 7.72c-.78.78-.78 2.05 0 2.83L4 21.41c.39.39.9.59 1.41.59.51 0 1.02-.2 1.41-.59l7.78-7.78 2.81-2.81c.8-.78.8-2.07 0-2.86zM5.41 20L4 18.59l7.72-7.72 1.47 1.35L5.41 20z\"/>\n",
              "  </svg>\n",
              "      </button>\n",
              "      \n",
              "  <style>\n",
              "    .colab-df-container {\n",
              "      display:flex;\n",
              "      flex-wrap:wrap;\n",
              "      gap: 12px;\n",
              "    }\n",
              "\n",
              "    .colab-df-convert {\n",
              "      background-color: #E8F0FE;\n",
              "      border: none;\n",
              "      border-radius: 50%;\n",
              "      cursor: pointer;\n",
              "      display: none;\n",
              "      fill: #1967D2;\n",
              "      height: 32px;\n",
              "      padding: 0 0 0 0;\n",
              "      width: 32px;\n",
              "    }\n",
              "\n",
              "    .colab-df-convert:hover {\n",
              "      background-color: #E2EBFA;\n",
              "      box-shadow: 0px 1px 2px rgba(60, 64, 67, 0.3), 0px 1px 3px 1px rgba(60, 64, 67, 0.15);\n",
              "      fill: #174EA6;\n",
              "    }\n",
              "\n",
              "    [theme=dark] .colab-df-convert {\n",
              "      background-color: #3B4455;\n",
              "      fill: #D2E3FC;\n",
              "    }\n",
              "\n",
              "    [theme=dark] .colab-df-convert:hover {\n",
              "      background-color: #434B5C;\n",
              "      box-shadow: 0px 1px 3px 1px rgba(0, 0, 0, 0.15);\n",
              "      filter: drop-shadow(0px 1px 2px rgba(0, 0, 0, 0.3));\n",
              "      fill: #FFFFFF;\n",
              "    }\n",
              "  </style>\n",
              "\n",
              "      <script>\n",
              "        const buttonEl =\n",
              "          document.querySelector('#df-b7f79fd0-5bbb-4e53-ab73-c8eda053372c button.colab-df-convert');\n",
              "        buttonEl.style.display =\n",
              "          google.colab.kernel.accessAllowed ? 'block' : 'none';\n",
              "\n",
              "        async function convertToInteractive(key) {\n",
              "          const element = document.querySelector('#df-b7f79fd0-5bbb-4e53-ab73-c8eda053372c');\n",
              "          const dataTable =\n",
              "            await google.colab.kernel.invokeFunction('convertToInteractive',\n",
              "                                                     [key], {});\n",
              "          if (!dataTable) return;\n",
              "\n",
              "          const docLinkHtml = 'Like what you see? Visit the ' +\n",
              "            '<a target=\"_blank\" href=https://colab.research.google.com/notebooks/data_table.ipynb>data table notebook</a>'\n",
              "            + ' to learn more about interactive tables.';\n",
              "          element.innerHTML = '';\n",
              "          dataTable['output_type'] = 'display_data';\n",
              "          await google.colab.output.renderOutput(dataTable, element);\n",
              "          const docLink = document.createElement('div');\n",
              "          docLink.innerHTML = docLinkHtml;\n",
              "          element.appendChild(docLink);\n",
              "        }\n",
              "      </script>\n",
              "    </div>\n",
              "  </div>\n",
              "  "
            ]
          },
          "metadata": {},
          "execution_count": 110
        }
      ],
      "source": [
        "df_events.head()"
      ]
    },
    {
      "cell_type": "markdown",
      "metadata": {
        "id": "9CnuKZqicFy4"
      },
      "source": [
        "### G.1 Cornac\n",
        "The library used by the book paper. It contains many algorithms."
      ]
    },
    {
      "cell_type": "code",
      "execution_count": 111,
      "metadata": {
        "id": "8b9l5_0YcDh0"
      },
      "outputs": [],
      "source": [
        "df_events_cornac = df_events.copy()\n",
        "mapping_dict = {} # Create a dictionary that maps each ISBN to an integer.\n",
        "i=0\n",
        "for book in df_events_cornac[item_col].unique():\n",
        "    mapping_dict[book] = i\n",
        "    i+=1\n",
        "df_events_cornac[item_col] = df_events_cornac[item_col].map(lambda x: mapping_dict.get(x,x)) # Map in the ratings file"
      ]
    },
    {
      "cell_type": "code",
      "execution_count": 112,
      "metadata": {
        "id": "1S0DpfSAcJpB"
      },
      "outputs": [],
      "source": [
        "df_events_cornac.user = df_events_cornac.user.astype(\"string\")\n",
        "df_events_cornac[item_col] = df_events_cornac[item_col].astype(\"string\")"
      ]
    },
    {
      "cell_type": "code",
      "execution_count": 113,
      "metadata": {
        "id": "RRpiPBwycQbx"
      },
      "outputs": [],
      "source": [
        "df_item_dist_cornac = df_item_dist.rename(index = mapping_dict)"
      ]
    },
    {
      "cell_type": "code",
      "execution_count": 114,
      "metadata": {
        "id": "AtSBD6pvcTW5"
      },
      "outputs": [],
      "source": [
        "data = list(df_events_cornac[[user_col,item_col,predict_col]].to_records(index = False))"
      ]
    },
    {
      "cell_type": "code",
      "execution_count": 115,
      "metadata": {
        "colab": {
          "base_uri": "https://localhost:8080/"
        },
        "id": "_OeXy54nJOgP",
        "outputId": "56f3f16a-554a-4837-85c6-f0928fefcf7a"
      },
      "outputs": [
        {
          "output_type": "execute_result",
          "data": {
            "text/plain": [
              "[('276847', '0', 8), ('276847', '1', 10), ('276847', '2', 10)]"
            ]
          },
          "metadata": {},
          "execution_count": 115
        }
      ],
      "source": [
        "data[:3]"
      ]
    },
    {
      "cell_type": "code",
      "execution_count": 116,
      "metadata": {
        "id": "cN9s6kqxcXkH"
      },
      "outputs": [],
      "source": [
        "# Split the data based on ratio\n",
        "rs = RatioSplit(data=data, test_size=test_size, rating_threshold=rating_threshold, seed=123)"
      ]
    },
    {
      "cell_type": "code",
      "execution_count": 117,
      "metadata": {
        "id": "mYso_Bf2W7Or"
      },
      "outputs": [],
      "source": [
        "all_items = set(range(rs.total_items)) # needed for later"
      ]
    },
    {
      "cell_type": "code",
      "execution_count": 118,
      "metadata": {
        "id": "07nTwiFuQ4ZC"
      },
      "outputs": [],
      "source": [
        "# Define the two different options for UserKNN, with and without mean centering\n",
        "usKNN = UserKNN(k=40, similarity = 'cosine', mean_centered=False, seed = my_seed, verbose=True)\n",
        "usKNN_means = UserKNN(k=40, similarity = 'cosine', mean_centered=True, seed = my_seed, verbose=True)"
      ]
    },
    {
      "cell_type": "markdown",
      "metadata": {
        "id": "Zau7crGOO-iY"
      },
      "source": [
        "#### Training"
      ]
    },
    {
      "cell_type": "code",
      "execution_count": 44,
      "metadata": {
        "id": "WIUHUx7acZMW"
      },
      "outputs": [],
      "source": [
        "# initialize models, here we are comparing: simple, traditional, and neural networks based models\n",
        "models = [\n",
        "          # 1: Random\n",
        "          # 2: MostPop\n",
        "          MostPop(),\n",
        "          # 3: UserKNN\n",
        "          usKNN,\n",
        "          # 4: ItemKNN\n",
        "          ItemKNN(k=40, similarity = 'cosine', mean_centered=False, seed = my_seed, verbose=True),\n",
        "          # 5: UserKNN with means\n",
        "          usKNN_means,\n",
        "          ## 6: BaselineOnly\n",
        "          #BaselineOnly(verbose=True),\n",
        "          # 7: BPR\n",
        "          BPR(k=10, max_iter=200, learning_rate=0.001, lambda_reg=0.01, seed=123, verbose=True),\n",
        "          # 8: MF\n",
        "          MF(k=30, max_iter=100, learning_rate=0.01, lambda_reg=0.001, seed=123, verbose=True),\n",
        "          # 9: PMF\n",
        "          PMF(k=10, max_iter=100, learning_rate=0.001, lambda_reg=0.001, verbose=True),\n",
        "          # 10: NMF\n",
        "          CornacNMF(k=15, max_iter=50, learning_rate=0.005, lambda_u=0.06, lambda_v=0.06, lambda_bu=0.02, lambda_bi=0.02, use_bias=False, verbose=True, seed=123),\n",
        "          # 11: WMF\n",
        "          WMF(k=50, max_iter=50, learning_rate=0.001, lambda_u=0.01, lambda_v=0.01, verbose=True, seed=123),\n",
        "          # 12: PF\n",
        "          HPF(k=50, seed=123, hierarchical=False, name=\"PF\", verbose=True),\n",
        "          # 13: NueMF\n",
        "          NeuMF(num_factors=8, layers=[32, 16, 8], act_fn=\"tanh\", num_epochs=1, num_neg=3, batch_size=256, lr=0.001, seed=42, verbose=True),\n",
        "          # 14: VAECF\n",
        "          VAECF(k=10, autoencoder_structure=[20], act_fn=\"tanh\", likelihood=\"mult\", n_epochs=100, batch_size=100, learning_rate=0.001, beta=1.0, seed=123, use_gpu=True, verbose=True)\n",
        "          ]"
      ]
    },
    {
      "cell_type": "code",
      "execution_count": 45,
      "metadata": {
        "id": "bQK_mBGBU5oc"
      },
      "outputs": [],
      "source": [
        "algo_names = [\"Random\",\n",
        "              \"MostPop\", \n",
        "              \"UserKNN\",\n",
        "              \"ItemKNN\", \n",
        "              \"UserKNN with means\", \n",
        "              \"BPR\",\n",
        "              \"MF\",\n",
        "              \"PMF\",\n",
        "              \"NMF\",\n",
        "              \"WMF\",\n",
        "              \"HPF\",\n",
        "              \"NeuMF\",\n",
        "              \"VAECF\"\n",
        "              ] # in the order that they are in the model list"
      ]
    },
    {
      "cell_type": "code",
      "execution_count": 46,
      "metadata": {
        "colab": {
          "base_uri": "https://localhost:8080/",
          "height": 1000,
          "referenced_widgets": [
            "5772a5ea7b624f82bb4dc965dcb7dd2d",
            "7a02216894a949569b620c9d8a411025",
            "5c97216e42aa45b88cd2dea7b124eec3",
            "47c142d3c3a74c6f95ebc9c73bef6753",
            "11701acc260443e6b12b025334b94045",
            "036c9ab3b0624e7aac37fc4e54b579cb",
            "56cdca55f9334d12ba10cbdddc3e1812",
            "19017838669c4f94ba7173f5f1bdc683",
            "a2327857485c4d56bad7a66b58c5faaa",
            "03e2663abd8f45c58fc44622ec5dbb49",
            "d003c0a70742429aae22e30ced420509",
            "3fd6570e2f844fb9b1a6b68a5ddf2666",
            "54b0889790ff42d59b939fd983a27028",
            "05ced476aae048cba12763a4c75cc071",
            "c0980e2862c14e718bb213fd88c4db4d",
            "e43efb3f05014c33b0866d6ccd878ce1",
            "6df61700c54d4428b1e93de8470d1e4f",
            "d9dea54280cf4158a3e766bbb7577d8d",
            "5caeb36a8ada43c6aae70bda6108e006",
            "b2013bd4748b4a82a1b3d32446c09839",
            "e790e634fad840a9a95e8c8ec384408f",
            "482c162936654dd5be8094d2092e0491",
            "45009b28a2e64ab58d5f672feea9312e",
            "58a69f12763d44b6a92099a40855f123",
            "981d9dc5b6154b439c69497fc0997c82",
            "b38590f905974c9e90808433e67ebf36",
            "a0a250984c0a41aba0766d149a007003",
            "2551135f381c465eac9962a92b674e95",
            "5461e49f820345ea8d6b87bff66d4ed9",
            "291f4d7640ae41ddb10a83b445c4ea4e",
            "adf31d284f674e1c8a6ee085bb691ea8",
            "7ad4d0816d644bb5b61271dcd43dab6c",
            "a1033e821a9b48a38b2bfff29a3b41ca",
            "bd76789f118d4e3d9e415581c49a6b3d",
            "0e62a30dbdbd4cd2a2d435d55c9b7076",
            "005cd6486d584d72a90d39480a762171",
            "f7f20a435e6447c9baad03289a2c0339",
            "c532e9af628a4105b9477ec2da2b26bd",
            "caf761030c4146d282c2579aabd90a8d",
            "e0473ebcca784c209f86aaa5b5ce9cfe",
            "b5c31e177f1d4adbb4389711c4326ea4",
            "14b22ad8dd9840648a9261eed84ff1ec",
            "7a52b86e42364b47a0dcb0e6da659edf",
            "01d83107714b462cb11a0957f6c770b4",
            "b0c04ae82ab24c0da90cf2012d785e66",
            "6fbbe7da277441ed9a41de78c9dd1bc3",
            "6a50622aa99d403fbc033a1080f6df74",
            "2ddc6c9101d447eaa05df60fd53d6245",
            "b3b5f5999e4d479289458eade249863d",
            "a6fdaf0b2d114717b2c6c13eb9cda196",
            "a1848c08a1eb421aa6d2baa0e25a9439",
            "2bfb0a2fbe0b4cbd914236d8f30d4556",
            "b0aa0728bc7d454c8e1fa66474a6c9a1",
            "5f9a55350f9945e2be31da7b8e718da3",
            "dfc4ea64e531443492726644bd95e72c",
            "56263c4b148340c7912fe9fe96b21e69",
            "2e3029400ff9455984b8810783942fd8",
            "51254583606d4f509b5cc000cb26e4fc",
            "b6c0c9e9c0b94693b6db36dee76b6125",
            "3cb259aa65bd43359ef445b994aa2161",
            "26f6b56afdf54f73a5b7eec80b0daf3e",
            "353f89501be746e6a9525a2711c8c36c",
            "fd2d8867e29d41f784c6b1a9edd084da",
            "1f1152900c4d47699e4488a73f1a4580",
            "2a872ad1ddfe4f87bad03337f6538aa6",
            "38ed0c7440f942b5a0f3a8a272638bac",
            "e39410858059449092cc2b3a825309c1",
            "97648f35c34c452592248d1ab68d6ac5",
            "05ebf41f32c14362ac65a53f459fd309",
            "534f7c1329114fde9b33fa960e99c20e",
            "b98a4dc5259849acb47dc35b0994e75a",
            "bc6efabf4dd14eee87a1d4f7e3b4a8ab",
            "0b3efd2348bf4c6d8d23665cf4fa12d1",
            "370d8b6e49dc495b94584edc5f3a957e",
            "e2e4d73d25af4122b100b5b1598edd03",
            "e2b5f91deb9146ebaa303af5d481b562",
            "4b6b15943b004e1b8a5acc08cedf2491",
            "550dbf53620143a3b0d5770056c07158",
            "8916184295c14f01a0d9b1c4657ad35e",
            "e1dbc638060e4771bd567db9b201ce3e",
            "249e8076108e42019490ecaf064c2d69",
            "7922bf85f0dd418286de6450b586a8eb",
            "e63b1ac496f741b9b3e83ead997ac2fa",
            "aa678d54387f4bbab607c3af45abc844",
            "52862a5071614acc97ade774ce57f374",
            "b8209b78232c4fa49dfd0f143ebaf278",
            "78405ac3c8284fc7ac65f27b0faedbd2",
            "607318e74cb24fc49b0a051a9b33aafe",
            "dc857d37d7724778bf531fe970be7eb6",
            "b227bd964f6c43fa9b697b2409d8ca15",
            "632463ca79784bc58c5973069e73efd1",
            "d132912126f949b99b05a8e2dc773cde",
            "af6ccedec6654ee69dffea55c58132e0",
            "c6d8e87247924831a35c9443060debc1",
            "f40e199302074e75a2b80bc50aaed348",
            "c01ecfe20dc54f56876d3b039c7246f2",
            "f51862f5756648e1a3b1415c943f2b7d",
            "15946be23f51453e85d7f2482c6a00ba",
            "b8c20b0ea52a403ca1eda463f8248cbe"
          ]
        },
        "id": "kho6vULvca64",
        "outputId": "dcf4580d-b0d0-42e4-f646-778d77462d01"
      },
      "outputs": [
        {
          "output_type": "display_data",
          "data": {
            "text/plain": [
              "  0%|          | 0/6358 [00:00<?, ?it/s]"
            ],
            "application/vnd.jupyter.widget-view+json": {
              "version_major": 2,
              "version_minor": 0,
              "model_id": "5772a5ea7b624f82bb4dc965dcb7dd2d"
            }
          },
          "metadata": {}
        },
        {
          "output_type": "display_data",
          "data": {
            "text/plain": [
              "  0%|          | 0/6921 [00:00<?, ?it/s]"
            ],
            "application/vnd.jupyter.widget-view+json": {
              "version_major": 2,
              "version_minor": 0,
              "model_id": "3fd6570e2f844fb9b1a6b68a5ddf2666"
            }
          },
          "metadata": {}
        },
        {
          "output_type": "display_data",
          "data": {
            "text/plain": [
              "  0%|          | 0/6358 [00:00<?, ?it/s]"
            ],
            "application/vnd.jupyter.widget-view+json": {
              "version_major": 2,
              "version_minor": 0,
              "model_id": "45009b28a2e64ab58d5f672feea9312e"
            }
          },
          "metadata": {}
        },
        {
          "output_type": "display_data",
          "data": {
            "text/plain": [
              "  0%|          | 0/200 [00:00<?, ?it/s]"
            ],
            "application/vnd.jupyter.widget-view+json": {
              "version_major": 2,
              "version_minor": 0,
              "model_id": "bd76789f118d4e3d9e415581c49a6b3d"
            }
          },
          "metadata": {}
        },
        {
          "output_type": "stream",
          "name": "stdout",
          "text": [
            "Optimization finished!\n"
          ]
        },
        {
          "output_type": "display_data",
          "data": {
            "text/plain": [
              "  0%|          | 0/100 [00:00<?, ?it/s]"
            ],
            "application/vnd.jupyter.widget-view+json": {
              "version_major": 2,
              "version_minor": 0,
              "model_id": "b0c04ae82ab24c0da90cf2012d785e66"
            }
          },
          "metadata": {}
        },
        {
          "output_type": "stream",
          "name": "stdout",
          "text": [
            "Optimization finished!\n",
            "Learning...\n",
            "epoch 0, loss: 7429.845914\n",
            "epoch 1, loss: 7423.407617\n",
            "epoch 2, loss: 7408.296417\n",
            "epoch 3, loss: 7381.613001\n",
            "epoch 4, loss: 7340.698077\n",
            "epoch 5, loss: 7283.248831\n",
            "epoch 6, loss: 7207.621213\n",
            "epoch 7, loss: 7113.110848\n",
            "epoch 8, loss: 7000.125100\n",
            "epoch 9, loss: 6870.240097\n",
            "epoch 10, loss: 6726.076426\n",
            "epoch 11, loss: 6570.934950\n",
            "epoch 12, loss: 6408.288787\n",
            "epoch 13, loss: 6241.346880\n",
            "epoch 14, loss: 6072.824810\n",
            "epoch 15, loss: 5904.883134\n",
            "epoch 16, loss: 5739.169783\n",
            "epoch 17, loss: 5576.898085\n",
            "epoch 18, loss: 5418.927156\n",
            "epoch 19, loss: 5265.834337\n",
            "epoch 20, loss: 5117.984623\n",
            "epoch 21, loss: 4975.572894\n",
            "epoch 22, loss: 4838.662148\n",
            "epoch 23, loss: 4707.214590\n",
            "epoch 24, loss: 4581.118322\n",
            "epoch 25, loss: 4460.221192\n",
            "epoch 26, loss: 4344.341251\n",
            "epoch 27, loss: 4233.273596\n",
            "epoch 28, loss: 4126.817460\n",
            "epoch 29, loss: 4024.760473\n",
            "epoch 30, loss: 3926.899074\n",
            "epoch 31, loss: 3833.035238\n",
            "epoch 32, loss: 3742.973438\n",
            "epoch 33, loss: 3656.530858\n",
            "epoch 34, loss: 3573.532527\n",
            "epoch 35, loss: 3493.813352\n",
            "epoch 36, loss: 3417.214729\n",
            "epoch 37, loss: 3343.591738\n",
            "epoch 38, loss: 3272.803047\n",
            "epoch 39, loss: 3204.718769\n",
            "epoch 40, loss: 3139.211256\n",
            "epoch 41, loss: 3076.162894\n",
            "epoch 42, loss: 3015.464559\n",
            "epoch 43, loss: 2957.004800\n",
            "epoch 44, loss: 2900.683790\n",
            "epoch 45, loss: 2846.403441\n",
            "epoch 46, loss: 2794.072380\n",
            "epoch 47, loss: 2743.602366\n",
            "epoch 48, loss: 2694.909924\n",
            "epoch 49, loss: 2647.915791\n",
            "epoch 50, loss: 2602.544738\n",
            "epoch 51, loss: 2558.724143\n",
            "epoch 52, loss: 2516.388226\n",
            "epoch 53, loss: 2475.471430\n",
            "epoch 54, loss: 2435.912347\n",
            "epoch 55, loss: 2397.651933\n",
            "epoch 56, loss: 2360.634453\n",
            "epoch 57, loss: 2324.808706\n",
            "epoch 58, loss: 2290.123140\n",
            "epoch 59, loss: 2256.529049\n",
            "epoch 60, loss: 2223.981590\n",
            "epoch 61, loss: 2192.436501\n",
            "epoch 62, loss: 2161.851402\n",
            "epoch 63, loss: 2132.187555\n",
            "epoch 64, loss: 2103.406367\n",
            "epoch 65, loss: 2075.471469\n",
            "epoch 66, loss: 2048.348148\n",
            "epoch 67, loss: 2022.003203\n",
            "epoch 68, loss: 1996.403167\n",
            "epoch 69, loss: 1971.520557\n",
            "epoch 70, loss: 1947.325927\n",
            "epoch 71, loss: 1923.791100\n",
            "epoch 72, loss: 1900.889669\n",
            "epoch 73, loss: 1878.596392\n",
            "epoch 74, loss: 1856.887150\n",
            "epoch 75, loss: 1835.738910\n",
            "epoch 76, loss: 1815.129667\n",
            "epoch 77, loss: 1795.038393\n",
            "epoch 78, loss: 1775.445010\n",
            "epoch 79, loss: 1756.330326\n",
            "epoch 80, loss: 1737.676008\n",
            "epoch 81, loss: 1719.464548\n",
            "epoch 82, loss: 1701.679218\n",
            "epoch 83, loss: 1684.304013\n",
            "epoch 84, loss: 1667.323080\n",
            "epoch 85, loss: 1650.722894\n",
            "epoch 86, loss: 1634.488374\n",
            "epoch 87, loss: 1618.607279\n",
            "epoch 88, loss: 1603.066319\n",
            "epoch 89, loss: 1587.853260\n",
            "epoch 90, loss: 1572.956438\n",
            "epoch 91, loss: 1558.364069\n",
            "epoch 92, loss: 1544.066582\n",
            "epoch 93, loss: 1530.053228\n",
            "epoch 94, loss: 1516.314253\n",
            "epoch 95, loss: 1502.840292\n",
            "epoch 96, loss: 1489.622419\n",
            "epoch 97, loss: 1476.652107\n",
            "epoch 98, loss: 1463.921188\n",
            "epoch 99, loss: 1451.421867\n",
            "Learning completed\n"
          ]
        },
        {
          "output_type": "display_data",
          "data": {
            "text/plain": [
              "  0%|          | 0/50 [00:00<?, ?it/s]"
            ],
            "application/vnd.jupyter.widget-view+json": {
              "version_major": 2,
              "version_minor": 0,
              "model_id": "56263c4b148340c7912fe9fe96b21e69"
            }
          },
          "metadata": {}
        },
        {
          "output_type": "stream",
          "name": "stdout",
          "text": [
            "Optimization finished!\n"
          ]
        },
        {
          "output_type": "display_data",
          "data": {
            "text/plain": [
              "  0%|          | 0/50 [00:00<?, ?it/s]"
            ],
            "application/vnd.jupyter.widget-view+json": {
              "version_major": 2,
              "version_minor": 0,
              "model_id": "e39410858059449092cc2b3a825309c1"
            }
          },
          "metadata": {}
        },
        {
          "output_type": "stream",
          "name": "stdout",
          "text": [
            "Learning completed!\n",
            "Learning...\n",
            "Learning completed!\n"
          ]
        },
        {
          "output_type": "display_data",
          "data": {
            "text/plain": [
              "  0%|          | 0/1 [00:00<?, ?it/s]"
            ],
            "application/vnd.jupyter.widget-view+json": {
              "version_major": 2,
              "version_minor": 0,
              "model_id": "550dbf53620143a3b0d5770056c07158"
            }
          },
          "metadata": {}
        },
        {
          "output_type": "display_data",
          "data": {
            "text/plain": [
              "  0%|          | 0/100 [00:00<?, ?it/s]"
            ],
            "application/vnd.jupyter.widget-view+json": {
              "version_major": 2,
              "version_minor": 0,
              "model_id": "dc857d37d7724778bf531fe970be7eb6"
            }
          },
          "metadata": {}
        },
        {
          "output_type": "stream",
          "name": "stdout",
          "text": [
            "\n",
            "TEST:\n",
            "...\n",
            "        |    MAE | Train (s) | Test (s)\n",
            "------- + ------ + --------- + --------\n",
            "MostPop | 2.5096 |    0.0130 |   1.2039\n",
            "UserKNN | 1.3491 |    1.2821 |   3.3486\n",
            "ItemKNN | 1.3219 |    0.9618 |   3.1842\n",
            "UserKNN | 1.3733 |    0.8265 |   3.1218\n",
            "BPR     | 6.6030 |    3.8871 |   1.2216\n",
            "MF      | 1.2960 |    1.4805 |   1.1225\n",
            "PMF     | 1.4408 |    5.2129 |   1.5832\n",
            "NMF     | 2.2118 |    0.9823 |   1.2232\n",
            "WMF     | 5.7309 |   74.3949 |   1.2699\n",
            "PF      | 6.7383 |  204.8707 |   1.6352\n",
            "NeuMF   | 6.7514 |    9.8434 |  11.6732\n",
            "VAECF   | 6.7514 |  240.4366 |  11.4334\n",
            "\n",
            "586 seconds.\n"
          ]
        }
      ],
      "source": [
        "# define metrics to evaluate the models\n",
        "metrics = [MAE()]\n",
        "\n",
        "# put it together in an experiment, voilà!\n",
        "start = time.time()\n",
        "exp = cornac.Experiment(eval_method=rs, models=models, metrics=metrics, user_based=True)\n",
        "exp.run()\n",
        "end = time.time()\n",
        "print(round(end-start), \"seconds.\")"
      ]
    },
    {
      "cell_type": "markdown",
      "metadata": {
        "id": "nKqjS8oWPEid"
      },
      "source": [
        "#### Ranking and recommendation\n",
        "We have identified three evaluation strategies:\n",
        "1. For every user in the **train set** rank **all items**. | Book paper, *eva_one*\n",
        "2. For every user in the **test set** rank **only the items this user has rated in the test set**. | Music paper, *eva_two*\n",
        "3. For every user in the **test set** rank **only the items this user has NOT rated in the train set**. | Movie(?) paper, *eva_three*\n",
        "\n",
        "For every evaluation strategy, we define a function that recommends the appropriate items to the appropriate users as described above. "
      ]
    },
    {
      "cell_type": "markdown",
      "metadata": {
        "id": "yal5jvwaXBai"
      },
      "source": [
        "##### Functions"
      ]
    },
    {
      "cell_type": "code",
      "execution_count": 47,
      "metadata": {
        "id": "wkAtHnxZclBf"
      },
      "outputs": [],
      "source": [
        "def get_top_n_eva_one(algo_name,i, n=10):\n",
        "  model = exp.models[i]\n",
        "  print(algo_name + \" model is selected:\")\n",
        "  top_n = defaultdict(list)\n",
        "  for uid in tqdm(model.train_set.uid_map.values()): # every user in the train set\n",
        "    user_id = list(model.train_set.user_ids)[uid]\n",
        "    item_rank = model.rank(user_idx=uid)[0] # all\n",
        "    # collect top N items\n",
        "    item_rank_top = item_rank[:n]\n",
        "    for iid in item_rank_top:\n",
        "      item_id = list(model.train_set.item_ids)[iid]\n",
        "      top_n[int(user_id)].append((int(item_id), model.score(uid, iid)))\n",
        "  return top_n"
      ]
    },
    {
      "cell_type": "code",
      "execution_count": 48,
      "metadata": {
        "id": "8Ebn6hmHCopg"
      },
      "outputs": [],
      "source": [
        "def get_top_n_eva_two(algo_name,i, n=10):\n",
        "  model = exp.models[i]\n",
        "  print(algo_name + \" model is selected:\")\n",
        "  top_n = defaultdict(list)\n",
        "  for uid in tqdm(rs.test_set.uid_map.values()): # every user in the test set\n",
        "    user_id = list(rs.train_set.user_ids)[uid]\n",
        "    user_items_in_the_test_set = rs.test_set.user_data[uid][0] \n",
        "    \n",
        "    item_rank = model.rank(user_idx=uid, item_indices = user_items_in_the_test_set)[0] # items the user has rated in the test set \n",
        "    item_rank_top = item_rank[:n]\n",
        "    for iid in item_rank_top:\n",
        "      item_id = list(model.train_set.item_ids)[iid]\n",
        "      top_n[int(user_id)].append((int(item_id), model.score(uid, iid)))\n",
        "  return top_n"
      ]
    },
    {
      "cell_type": "code",
      "execution_count": 49,
      "metadata": {
        "id": "u0qmS8YIZ-HN"
      },
      "outputs": [],
      "source": [
        "def get_top_n_eva_three(algo_name,i, n=10):\n",
        "  model = exp.models[i]\n",
        "  print(algo_name + \" model is selected:\")\n",
        "  top_n = defaultdict(list)\n",
        "\n",
        "  for uid in tqdm(rs.test_set.uid_map.values()): # every user in the test set\n",
        "    user_id = list(rs.train_set.user_ids)[uid]\n",
        "    user_items_in_the_train_set = set(rs.train_set.user_data[uid][0])\n",
        "    user_items_not_in_the_train_set = list(all_items.difference(user_items_in_the_train_set))\n",
        "    \n",
        "    item_rank = model.rank(user_idx=uid, item_indices = user_items_not_in_the_train_set)[0] # items the user has NOT rated in the TRAIN set\n",
        "    item_rank_top = item_rank[:n]\n",
        "    for iid in item_rank_top:\n",
        "      item_id = list(model.train_set.item_ids)[iid]\n",
        "      top_n[int(user_id)].append((int(item_id), model.score(uid, iid)))\n",
        "  return top_n"
      ]
    },
    {
      "cell_type": "code",
      "execution_count": 50,
      "metadata": {
        "id": "UWdo0S--cmWf"
      },
      "outputs": [],
      "source": [
        "# random recommendation algorithm, same for every strategy \n",
        "def get_top_n_random(n=10):\n",
        "    print(\"Random model is selected:\")\n",
        "    top_n = defaultdict(list)\n",
        "\n",
        "    for uid in tqdm(rs.test_set.uid_map.values()): # every user in the test set\n",
        "      if uid not in top_n.keys():\n",
        "        user_id = list(rs.train_set.user_ids)[uid]\n",
        "        user_items_in_the_train_set = set(rs.train_set.user_data[uid][0])\n",
        "        user_items_not_in_the_train_set = list(all_items.difference(user_items_in_the_train_set)) # random choice out of the items that the user has NOT rated in the train set\n",
        "        for i in range(0, n):\n",
        "          top_n[int(user_id)].append((int(rd.choice(user_items_not_in_the_train_set)), i))\n",
        "          \n",
        "    return top_n"
      ]
    },
    {
      "cell_type": "markdown",
      "metadata": {
        "id": "vk-DssKnXEQU"
      },
      "source": [
        "##### Recommendation"
      ]
    },
    {
      "cell_type": "markdown",
      "metadata": {
        "id": "_NqjmMGzXLky"
      },
      "source": [
        "Choose evaluation strategy."
      ]
    },
    {
      "cell_type": "code",
      "execution_count": 119,
      "metadata": {
        "id": "h2o2A6UiXejW"
      },
      "outputs": [],
      "source": [
        "evaluation_function = {'eva_one':get_top_n_eva_one,\n",
        "             'eva_two': get_top_n_eva_two,\n",
        "             'eva_three': get_top_n_eva_three}"
      ]
    },
    {
      "cell_type": "code",
      "execution_count": 149,
      "metadata": {
        "id": "S6njx9lKXoD8"
      },
      "outputs": [],
      "source": [
        "choice = 'eva_two'\n",
        "# to be manually set!!! "
      ]
    },
    {
      "cell_type": "code",
      "execution_count": 150,
      "metadata": {
        "colab": {
          "base_uri": "https://localhost:8080/"
        },
        "id": "3OuGciSscnjd",
        "outputId": "da739036-6c68-414b-ee86-824dd687e6b5"
      },
      "outputs": [
        {
          "output_type": "stream",
          "name": "stdout",
          "text": [
            "Random model is selected:\n"
          ]
        },
        {
          "output_type": "stream",
          "name": "stderr",
          "text": [
            "100%|██████████| 5394/5394 [00:06<00:00, 806.22it/s]\n",
            "100%|██████████| 5356/5356 [00:18<00:00, 286.89it/s]\n"
          ]
        },
        {
          "output_type": "stream",
          "name": "stdout",
          "text": [
            "MostPop model is selected:\n"
          ]
        },
        {
          "output_type": "stream",
          "name": "stderr",
          "text": [
            "100%|██████████| 5394/5394 [00:22<00:00, 238.97it/s]\n",
            "100%|██████████| 5394/5394 [00:07<00:00, 735.29it/s] \n"
          ]
        },
        {
          "output_type": "stream",
          "name": "stdout",
          "text": [
            "UserKNN model is selected:\n"
          ]
        },
        {
          "output_type": "stream",
          "name": "stderr",
          "text": [
            "100%|██████████| 5394/5394 [03:05<00:00, 29.01it/s]\n",
            "100%|██████████| 5394/5394 [00:07<00:00, 740.10it/s] \n"
          ]
        },
        {
          "output_type": "stream",
          "name": "stdout",
          "text": [
            "ItemKNN model is selected:\n"
          ]
        },
        {
          "output_type": "stream",
          "name": "stderr",
          "text": [
            "100%|██████████| 5394/5394 [03:58<00:00, 22.59it/s]\n",
            "100%|██████████| 5394/5394 [00:07<00:00, 736.11it/s] \n"
          ]
        },
        {
          "output_type": "stream",
          "name": "stdout",
          "text": [
            "UserKNN with means model is selected:\n"
          ]
        },
        {
          "output_type": "stream",
          "name": "stderr",
          "text": [
            "100%|██████████| 5394/5394 [03:06<00:00, 28.97it/s]\n",
            "100%|██████████| 5394/5394 [00:07<00:00, 730.25it/s] \n"
          ]
        },
        {
          "output_type": "stream",
          "name": "stdout",
          "text": [
            "BPR model is selected:\n"
          ]
        },
        {
          "output_type": "stream",
          "name": "stderr",
          "text": [
            "100%|██████████| 5394/5394 [00:28<00:00, 186.68it/s]\n",
            "100%|██████████| 5394/5394 [00:07<00:00, 729.39it/s] \n"
          ]
        },
        {
          "output_type": "stream",
          "name": "stdout",
          "text": [
            "MF model is selected:\n"
          ]
        },
        {
          "output_type": "stream",
          "name": "stderr",
          "text": [
            "100%|██████████| 5394/5394 [00:35<00:00, 150.36it/s]\n",
            "100%|██████████| 5394/5394 [00:07<00:00, 730.08it/s] \n"
          ]
        },
        {
          "output_type": "stream",
          "name": "stdout",
          "text": [
            "PMF model is selected:\n"
          ]
        },
        {
          "output_type": "stream",
          "name": "stderr",
          "text": [
            "100%|██████████| 5394/5394 [00:36<00:00, 146.65it/s]\n",
            "100%|██████████| 5394/5394 [00:07<00:00, 727.86it/s] \n"
          ]
        },
        {
          "output_type": "stream",
          "name": "stdout",
          "text": [
            "NMF model is selected:\n"
          ]
        },
        {
          "output_type": "stream",
          "name": "stderr",
          "text": [
            "100%|██████████| 5394/5394 [00:30<00:00, 174.52it/s]\n",
            "100%|██████████| 5394/5394 [00:07<00:00, 733.11it/s] \n"
          ]
        },
        {
          "output_type": "stream",
          "name": "stdout",
          "text": [
            "WMF model is selected:\n"
          ]
        },
        {
          "output_type": "stream",
          "name": "stderr",
          "text": [
            "100%|██████████| 5394/5394 [00:37<00:00, 142.21it/s]\n",
            "100%|██████████| 5394/5394 [00:07<00:00, 710.77it/s] \n"
          ]
        },
        {
          "output_type": "stream",
          "name": "stdout",
          "text": [
            "HPF model is selected:\n"
          ]
        },
        {
          "output_type": "stream",
          "name": "stderr",
          "text": [
            "100%|██████████| 5394/5394 [00:39<00:00, 136.78it/s]\n",
            "100%|██████████| 5394/5394 [00:08<00:00, 613.44it/s] \n"
          ]
        },
        {
          "output_type": "stream",
          "name": "stdout",
          "text": [
            "NeuMF model is selected:\n"
          ]
        },
        {
          "output_type": "stream",
          "name": "stderr",
          "text": [
            "100%|██████████| 5394/5394 [01:15<00:00, 71.58it/s] \n",
            "100%|██████████| 5394/5394 [00:07<00:00, 725.12it/s] \n"
          ]
        },
        {
          "output_type": "stream",
          "name": "stdout",
          "text": [
            "VAECF model is selected:\n"
          ]
        },
        {
          "output_type": "stream",
          "name": "stderr",
          "text": [
            "100%|██████████| 5394/5394 [00:56<00:00, 95.74it/s] \n",
            "100%|██████████| 5394/5394 [00:07<00:00, 726.88it/s] "
          ]
        },
        {
          "output_type": "stream",
          "name": "stdout",
          "text": [
            "1091 seconds.\n"
          ]
        },
        {
          "output_type": "stream",
          "name": "stderr",
          "text": [
            "\n"
          ]
        }
      ],
      "source": [
        "start = time.time()\n",
        "i = 0\n",
        "low_rec_gap_list = [] # one entry per algorithm\n",
        "medium_rec_gap_list = []\n",
        "high_rec_gap_list = []\n",
        "\n",
        "for i in range(0, len(algo_names)):\n",
        "    df_item_dist_cornac[algo_names[i]] = 0\n",
        "    low_rec_gap = 0\n",
        "    medium_rec_gap = 0\n",
        "    high_rec_gap = 0\n",
        "    \n",
        "    if algo_names[i] == 'Random':\n",
        "      top_n = get_top_n_random(n=10)\n",
        "    else:\n",
        "      top_n = evaluation_function[choice](algo_names[i],i-1, n=10)\n",
        "    low_count = 0\n",
        "    med_count = 0\n",
        "    high_count = 0\n",
        "    for uid, user_ratings in tqdm(top_n.items()):\n",
        "        iid_list = []\n",
        "        for (iid, _) in user_ratings:\n",
        "            df_item_dist_cornac.loc[iid, algo_names[i]] += 1\n",
        "            iid_list.append(iid)\n",
        "        gap = sum(df_item_dist_cornac[\"count\"].loc[iid_list]) / len(iid_list)\n",
        "        if uid in low.index:\n",
        "            low_rec_gap += gap\n",
        "            low_count += 1\n",
        "        elif uid in med.index:\n",
        "            medium_rec_gap += gap\n",
        "            med_count += 1\n",
        "        elif uid in high.index:\n",
        "            high_rec_gap += gap\n",
        "            high_count += 1\n",
        "        else:\n",
        "          print(\"hi\")\n",
        "    low_rec_gap_list.append(low_rec_gap / low_count)\n",
        "    medium_rec_gap_list.append(medium_rec_gap / med_count)\n",
        "    high_rec_gap_list.append(high_rec_gap / high_count)\n",
        "    i += 1 # next algorithm\n",
        "end = time.time()\n",
        "print(round(end-start), \"seconds.\")"
      ]
    },
    {
      "cell_type": "markdown",
      "metadata": {
        "id": "hJsE_rELcr3T"
      },
      "source": [
        "### Cornac results."
      ]
    },
    {
      "cell_type": "code",
      "execution_count": 151,
      "metadata": {
        "id": "n9DCn9OAcpI_"
      },
      "outputs": [],
      "source": [
        "# sns.set(rc = {'figure.figsize':(5,4)})\n",
        "# for i in range(0, len(algo_names)):\n",
        "#     plt.figure()\n",
        "#     x = df_item_dist_cornac[\"count\"]\n",
        "#     y = df_item_dist_cornac[algo_names[i]]\n",
        "\n",
        "#     plt.plot(x, y, 'o')\n",
        "#     plt.title(algo_names[i])\n",
        "#     plt.xlabel('Book popularity', fontsize='15')\n",
        "#     plt.ylabel('Recommendation frequency', fontsize='15')\n",
        "#     plt.xticks(fontsize='13')\n",
        "#     plt.yticks(fontsize='13')"
      ]
    },
    {
      "cell_type": "code",
      "execution_count": 152,
      "metadata": {
        "id": "98medmqCctWK"
      },
      "outputs": [],
      "source": [
        "low_gap_vals = []\n",
        "medium_gap_vals = []\n",
        "high_gap_vals = []\n",
        "\n",
        "for i in range(0, len(algo_names)):\n",
        "    low_gap_vals.append((low_rec_gap_list[i] - low_GAP) / low_GAP * 100)\n",
        "    medium_gap_vals.append((medium_rec_gap_list[i] - med_GAP) / med_GAP * 100)\n",
        "    high_gap_vals.append((high_rec_gap_list[i] - high_GAP) / high_GAP * 100)"
      ]
    },
    {
      "cell_type": "code",
      "execution_count": 153,
      "metadata": {
        "id": "WndL6Ic3wued"
      },
      "outputs": [],
      "source": [
        "# len(algo_names), len(low_gap_vals)"
      ]
    },
    {
      "cell_type": "code",
      "execution_count": 154,
      "metadata": {
        "id": "eFLBaWGhcu7W"
      },
      "outputs": [],
      "source": [
        "# sns.set(rc = {'figure.figsize':(8,4)})\n",
        "\n",
        "# # set width of bar\n",
        "# barWidth = 0.07\n",
        "\n",
        "# # set height of bar\n",
        "\n",
        "# bars = {}\n",
        "# for i in range(len(algo_names)):\n",
        "#     bars[\"bars{0}\".format(i+1)] = [low_gap_vals[i], medium_gap_vals[i], high_gap_vals[i]]\n",
        "\n",
        "# # Set position of bar on X axis\n",
        "\n",
        "# r = {}\n",
        "# r[\"r1\"] = np.arange(len(bars[\"bars1\"]))\n",
        "\n",
        "# for i in range(len(algo_names)-1):\n",
        "#     r[\"r{0}\".format(i+2)] = [x + barWidth for x in r[\"r{0}\".format(i+1)]]\n",
        "\n",
        "# patterns = [ \"/\" , \"\\\\\" , \"|\" , \"-\" , \"+\" , \"x\", \"o\", \"O\", \".\", \"*\", \"--\", \"*o\",\".!.\"]\n",
        "\n",
        "# # Make the plot\n",
        "# for i in range(len(algo_names)):\n",
        "#   plt.bar(r[\"r{0}\".format(i+1)], bars[\"bars{0}\".format(i+1)], width=barWidth, label=algo_names[i], hatch=patterns[i])\n",
        "\n",
        "# # Add xticks on the middle of the group bars + show legend\n",
        "# plt.xlabel('User group', fontsize='14')\n",
        "# plt.ylabel('% $\\Delta$ GAP', fontsize='14')\n",
        "# plt.xticks([r + barWidth + 0.3 for r in range(len(bars[\"bars1\"]))], ['Niche', 'Diverse', 'BestSeller'], fontsize='13')\n",
        "# plt.yticks(fontsize='10')\n",
        "# plt.legend(bbox_to_anchor=(1.02, 1), loc=2, borderaxespad=0., framealpha=1, fontsize='12')\n",
        "# plt.show()"
      ]
    },
    {
      "cell_type": "markdown",
      "source": [
        "# Save!!"
      ],
      "metadata": {
        "id": "p5_kBIgInPbV"
      }
    },
    {
      "cell_type": "code",
      "source": [
        "from google.colab import files\n",
        "import pickle as pkl"
      ],
      "metadata": {
        "id": "x9KIVrE6QA3d"
      },
      "execution_count": 155,
      "outputs": []
    },
    {
      "cell_type": "code",
      "source": [
        "df_item_dist_cornac.to_csv('df_item_dist_cornac_books_'+choice+'.csv') \n",
        "files.download('df_item_dist_cornac_books_'+choice+'.csv')"
      ],
      "metadata": {
        "colab": {
          "base_uri": "https://localhost:8080/",
          "height": 17
        },
        "id": "a61uCn2RqqeC",
        "outputId": "af92fea7-b052-4d17-e69c-7824d985e2e3"
      },
      "execution_count": 156,
      "outputs": [
        {
          "output_type": "display_data",
          "data": {
            "text/plain": [
              "<IPython.core.display.Javascript object>"
            ],
            "application/javascript": [
              "\n",
              "    async function download(id, filename, size) {\n",
              "      if (!google.colab.kernel.accessAllowed) {\n",
              "        return;\n",
              "      }\n",
              "      const div = document.createElement('div');\n",
              "      const label = document.createElement('label');\n",
              "      label.textContent = `Downloading \"${filename}\": `;\n",
              "      div.appendChild(label);\n",
              "      const progress = document.createElement('progress');\n",
              "      progress.max = size;\n",
              "      div.appendChild(progress);\n",
              "      document.body.appendChild(div);\n",
              "\n",
              "      const buffers = [];\n",
              "      let downloaded = 0;\n",
              "\n",
              "      const channel = await google.colab.kernel.comms.open(id);\n",
              "      // Send a message to notify the kernel that we're ready.\n",
              "      channel.send({})\n",
              "\n",
              "      for await (const message of channel.messages) {\n",
              "        // Send a message to notify the kernel that we're ready.\n",
              "        channel.send({})\n",
              "        if (message.buffers) {\n",
              "          for (const buffer of message.buffers) {\n",
              "            buffers.push(buffer);\n",
              "            downloaded += buffer.byteLength;\n",
              "            progress.value = downloaded;\n",
              "          }\n",
              "        }\n",
              "      }\n",
              "      const blob = new Blob(buffers, {type: 'application/binary'});\n",
              "      const a = document.createElement('a');\n",
              "      a.href = window.URL.createObjectURL(blob);\n",
              "      a.download = filename;\n",
              "      div.appendChild(a);\n",
              "      a.click();\n",
              "      div.remove();\n",
              "    }\n",
              "  "
            ]
          },
          "metadata": {}
        },
        {
          "output_type": "display_data",
          "data": {
            "text/plain": [
              "<IPython.core.display.Javascript object>"
            ],
            "application/javascript": [
              "download(\"download_c0e6de23-ac21-46d3-9795-968c95d92b5b\", \"df_item_dist_cornac_books_eva_two.csv\", 368347)"
            ]
          },
          "metadata": {}
        }
      ]
    },
    {
      "cell_type": "code",
      "source": [
        "with open('low_gap_vals_books_'+choice+'_'+pop_notion+'.pickle', 'wb') as handle:\n",
        "    pkl.dump(low_gap_vals, handle)\n",
        "files.download('low_gap_vals_books_'+choice+'_'+pop_notion+'.pickle')"
      ],
      "metadata": {
        "colab": {
          "base_uri": "https://localhost:8080/",
          "height": 17
        },
        "id": "pM57Wf_hre2v",
        "outputId": "3060950c-da33-4f04-f3e1-8fc68565f55e"
      },
      "execution_count": 157,
      "outputs": [
        {
          "output_type": "display_data",
          "data": {
            "text/plain": [
              "<IPython.core.display.Javascript object>"
            ],
            "application/javascript": [
              "\n",
              "    async function download(id, filename, size) {\n",
              "      if (!google.colab.kernel.accessAllowed) {\n",
              "        return;\n",
              "      }\n",
              "      const div = document.createElement('div');\n",
              "      const label = document.createElement('label');\n",
              "      label.textContent = `Downloading \"${filename}\": `;\n",
              "      div.appendChild(label);\n",
              "      const progress = document.createElement('progress');\n",
              "      progress.max = size;\n",
              "      div.appendChild(progress);\n",
              "      document.body.appendChild(div);\n",
              "\n",
              "      const buffers = [];\n",
              "      let downloaded = 0;\n",
              "\n",
              "      const channel = await google.colab.kernel.comms.open(id);\n",
              "      // Send a message to notify the kernel that we're ready.\n",
              "      channel.send({})\n",
              "\n",
              "      for await (const message of channel.messages) {\n",
              "        // Send a message to notify the kernel that we're ready.\n",
              "        channel.send({})\n",
              "        if (message.buffers) {\n",
              "          for (const buffer of message.buffers) {\n",
              "            buffers.push(buffer);\n",
              "            downloaded += buffer.byteLength;\n",
              "            progress.value = downloaded;\n",
              "          }\n",
              "        }\n",
              "      }\n",
              "      const blob = new Blob(buffers, {type: 'application/binary'});\n",
              "      const a = document.createElement('a');\n",
              "      a.href = window.URL.createObjectURL(blob);\n",
              "      a.download = filename;\n",
              "      div.appendChild(a);\n",
              "      a.click();\n",
              "      div.remove();\n",
              "    }\n",
              "  "
            ]
          },
          "metadata": {}
        },
        {
          "output_type": "display_data",
          "data": {
            "text/plain": [
              "<IPython.core.display.Javascript object>"
            ],
            "application/javascript": [
              "download(\"download_40028eaa-230c-44c3-a8b8-57d69dd13e02\", \"low_gap_vals_books_eva_two_pop_two.pickle\", 384)"
            ]
          },
          "metadata": {}
        }
      ]
    },
    {
      "cell_type": "code",
      "source": [
        "with open('med_gap_vals_books_'+choice+'_'+pop_notion+'.pickle', 'wb') as handle:\n",
        "    pkl.dump(medium_gap_vals, handle)\n",
        "files.download('med_gap_vals_books_'+choice+'_'+pop_notion+'.pickle')"
      ],
      "metadata": {
        "colab": {
          "base_uri": "https://localhost:8080/",
          "height": 17
        },
        "id": "a3J-IhOStBT8",
        "outputId": "83d4224e-748d-4a89-ba4d-0774ce02be77"
      },
      "execution_count": 158,
      "outputs": [
        {
          "output_type": "display_data",
          "data": {
            "text/plain": [
              "<IPython.core.display.Javascript object>"
            ],
            "application/javascript": [
              "\n",
              "    async function download(id, filename, size) {\n",
              "      if (!google.colab.kernel.accessAllowed) {\n",
              "        return;\n",
              "      }\n",
              "      const div = document.createElement('div');\n",
              "      const label = document.createElement('label');\n",
              "      label.textContent = `Downloading \"${filename}\": `;\n",
              "      div.appendChild(label);\n",
              "      const progress = document.createElement('progress');\n",
              "      progress.max = size;\n",
              "      div.appendChild(progress);\n",
              "      document.body.appendChild(div);\n",
              "\n",
              "      const buffers = [];\n",
              "      let downloaded = 0;\n",
              "\n",
              "      const channel = await google.colab.kernel.comms.open(id);\n",
              "      // Send a message to notify the kernel that we're ready.\n",
              "      channel.send({})\n",
              "\n",
              "      for await (const message of channel.messages) {\n",
              "        // Send a message to notify the kernel that we're ready.\n",
              "        channel.send({})\n",
              "        if (message.buffers) {\n",
              "          for (const buffer of message.buffers) {\n",
              "            buffers.push(buffer);\n",
              "            downloaded += buffer.byteLength;\n",
              "            progress.value = downloaded;\n",
              "          }\n",
              "        }\n",
              "      }\n",
              "      const blob = new Blob(buffers, {type: 'application/binary'});\n",
              "      const a = document.createElement('a');\n",
              "      a.href = window.URL.createObjectURL(blob);\n",
              "      a.download = filename;\n",
              "      div.appendChild(a);\n",
              "      a.click();\n",
              "      div.remove();\n",
              "    }\n",
              "  "
            ]
          },
          "metadata": {}
        },
        {
          "output_type": "display_data",
          "data": {
            "text/plain": [
              "<IPython.core.display.Javascript object>"
            ],
            "application/javascript": [
              "download(\"download_2a52b806-e11d-4d5d-b920-05cae6f19d1c\", \"med_gap_vals_books_eva_two_pop_two.pickle\", 384)"
            ]
          },
          "metadata": {}
        }
      ]
    },
    {
      "cell_type": "code",
      "source": [
        "with open('high_gap_vals_books_'+choice+'_'+pop_notion+'.pickle', 'wb') as handle:\n",
        "    pkl.dump(high_gap_vals, handle)\n",
        "files.download('high_gap_vals_books_'+choice+'_'+pop_notion+'.pickle')"
      ],
      "metadata": {
        "id": "bEP0JW53tFg2",
        "outputId": "e71e19dd-da3f-4529-92b2-022cd1d8731b",
        "colab": {
          "base_uri": "https://localhost:8080/",
          "height": 17
        }
      },
      "execution_count": 159,
      "outputs": [
        {
          "output_type": "display_data",
          "data": {
            "text/plain": [
              "<IPython.core.display.Javascript object>"
            ],
            "application/javascript": [
              "\n",
              "    async function download(id, filename, size) {\n",
              "      if (!google.colab.kernel.accessAllowed) {\n",
              "        return;\n",
              "      }\n",
              "      const div = document.createElement('div');\n",
              "      const label = document.createElement('label');\n",
              "      label.textContent = `Downloading \"${filename}\": `;\n",
              "      div.appendChild(label);\n",
              "      const progress = document.createElement('progress');\n",
              "      progress.max = size;\n",
              "      div.appendChild(progress);\n",
              "      document.body.appendChild(div);\n",
              "\n",
              "      const buffers = [];\n",
              "      let downloaded = 0;\n",
              "\n",
              "      const channel = await google.colab.kernel.comms.open(id);\n",
              "      // Send a message to notify the kernel that we're ready.\n",
              "      channel.send({})\n",
              "\n",
              "      for await (const message of channel.messages) {\n",
              "        // Send a message to notify the kernel that we're ready.\n",
              "        channel.send({})\n",
              "        if (message.buffers) {\n",
              "          for (const buffer of message.buffers) {\n",
              "            buffers.push(buffer);\n",
              "            downloaded += buffer.byteLength;\n",
              "            progress.value = downloaded;\n",
              "          }\n",
              "        }\n",
              "      }\n",
              "      const blob = new Blob(buffers, {type: 'application/binary'});\n",
              "      const a = document.createElement('a');\n",
              "      a.href = window.URL.createObjectURL(blob);\n",
              "      a.download = filename;\n",
              "      div.appendChild(a);\n",
              "      a.click();\n",
              "      div.remove();\n",
              "    }\n",
              "  "
            ]
          },
          "metadata": {}
        },
        {
          "output_type": "display_data",
          "data": {
            "text/plain": [
              "<IPython.core.display.Javascript object>"
            ],
            "application/javascript": [
              "download(\"download_36111c2e-70e7-4c81-8072-99c73a722a7b\", \"high_gap_vals_books_eva_two_pop_two.pickle\", 384)"
            ]
          },
          "metadata": {}
        }
      ]
    },
    {
      "cell_type": "code",
      "source": [],
      "metadata": {
        "id": "bKxMruGztL4Q"
      },
      "execution_count": null,
      "outputs": []
    }
  ],
  "metadata": {
    "colab": {
      "collapsed_sections": [
        "0710EG6KoyXD"
      ],
      "provenance": [],
      "authorship_tag": "ABX9TyNp+QKlOSzXmqs/SerM/6GH"
    },
    "kernelspec": {
      "display_name": "Python 3",
      "name": "python3"
    },
    "language_info": {
      "name": "python"
    },
    "widgets": {
      "application/vnd.jupyter.widget-state+json": {
        "5772a5ea7b624f82bb4dc965dcb7dd2d": {
          "model_module": "@jupyter-widgets/controls",
          "model_name": "HBoxModel",
          "model_module_version": "1.5.0",
          "state": {
            "_dom_classes": [],
            "_model_module": "@jupyter-widgets/controls",
            "_model_module_version": "1.5.0",
            "_model_name": "HBoxModel",
            "_view_count": null,
            "_view_module": "@jupyter-widgets/controls",
            "_view_module_version": "1.5.0",
            "_view_name": "HBoxView",
            "box_style": "",
            "children": [
              "IPY_MODEL_7a02216894a949569b620c9d8a411025",
              "IPY_MODEL_5c97216e42aa45b88cd2dea7b124eec3",
              "IPY_MODEL_47c142d3c3a74c6f95ebc9c73bef6753"
            ],
            "layout": "IPY_MODEL_11701acc260443e6b12b025334b94045"
          }
        },
        "7a02216894a949569b620c9d8a411025": {
          "model_module": "@jupyter-widgets/controls",
          "model_name": "HTMLModel",
          "model_module_version": "1.5.0",
          "state": {
            "_dom_classes": [],
            "_model_module": "@jupyter-widgets/controls",
            "_model_module_version": "1.5.0",
            "_model_name": "HTMLModel",
            "_view_count": null,
            "_view_module": "@jupyter-widgets/controls",
            "_view_module_version": "1.5.0",
            "_view_name": "HTMLView",
            "description": "",
            "description_tooltip": null,
            "layout": "IPY_MODEL_036c9ab3b0624e7aac37fc4e54b579cb",
            "placeholder": "​",
            "style": "IPY_MODEL_56cdca55f9334d12ba10cbdddc3e1812",
            "value": "100%"
          }
        },
        "5c97216e42aa45b88cd2dea7b124eec3": {
          "model_module": "@jupyter-widgets/controls",
          "model_name": "FloatProgressModel",
          "model_module_version": "1.5.0",
          "state": {
            "_dom_classes": [],
            "_model_module": "@jupyter-widgets/controls",
            "_model_module_version": "1.5.0",
            "_model_name": "FloatProgressModel",
            "_view_count": null,
            "_view_module": "@jupyter-widgets/controls",
            "_view_module_version": "1.5.0",
            "_view_name": "ProgressView",
            "bar_style": "success",
            "description": "",
            "description_tooltip": null,
            "layout": "IPY_MODEL_19017838669c4f94ba7173f5f1bdc683",
            "max": 6358,
            "min": 0,
            "orientation": "horizontal",
            "style": "IPY_MODEL_a2327857485c4d56bad7a66b58c5faaa",
            "value": 6358
          }
        },
        "47c142d3c3a74c6f95ebc9c73bef6753": {
          "model_module": "@jupyter-widgets/controls",
          "model_name": "HTMLModel",
          "model_module_version": "1.5.0",
          "state": {
            "_dom_classes": [],
            "_model_module": "@jupyter-widgets/controls",
            "_model_module_version": "1.5.0",
            "_model_name": "HTMLModel",
            "_view_count": null,
            "_view_module": "@jupyter-widgets/controls",
            "_view_module_version": "1.5.0",
            "_view_name": "HTMLView",
            "description": "",
            "description_tooltip": null,
            "layout": "IPY_MODEL_03e2663abd8f45c58fc44622ec5dbb49",
            "placeholder": "​",
            "style": "IPY_MODEL_d003c0a70742429aae22e30ced420509",
            "value": " 6358/6358 [00:00&lt;00:00, 29386.52it/s]"
          }
        },
        "11701acc260443e6b12b025334b94045": {
          "model_module": "@jupyter-widgets/base",
          "model_name": "LayoutModel",
          "model_module_version": "1.2.0",
          "state": {
            "_model_module": "@jupyter-widgets/base",
            "_model_module_version": "1.2.0",
            "_model_name": "LayoutModel",
            "_view_count": null,
            "_view_module": "@jupyter-widgets/base",
            "_view_module_version": "1.2.0",
            "_view_name": "LayoutView",
            "align_content": null,
            "align_items": null,
            "align_self": null,
            "border": null,
            "bottom": null,
            "display": null,
            "flex": null,
            "flex_flow": null,
            "grid_area": null,
            "grid_auto_columns": null,
            "grid_auto_flow": null,
            "grid_auto_rows": null,
            "grid_column": null,
            "grid_gap": null,
            "grid_row": null,
            "grid_template_areas": null,
            "grid_template_columns": null,
            "grid_template_rows": null,
            "height": null,
            "justify_content": null,
            "justify_items": null,
            "left": null,
            "margin": null,
            "max_height": null,
            "max_width": null,
            "min_height": null,
            "min_width": null,
            "object_fit": null,
            "object_position": null,
            "order": null,
            "overflow": null,
            "overflow_x": null,
            "overflow_y": null,
            "padding": null,
            "right": null,
            "top": null,
            "visibility": null,
            "width": null
          }
        },
        "036c9ab3b0624e7aac37fc4e54b579cb": {
          "model_module": "@jupyter-widgets/base",
          "model_name": "LayoutModel",
          "model_module_version": "1.2.0",
          "state": {
            "_model_module": "@jupyter-widgets/base",
            "_model_module_version": "1.2.0",
            "_model_name": "LayoutModel",
            "_view_count": null,
            "_view_module": "@jupyter-widgets/base",
            "_view_module_version": "1.2.0",
            "_view_name": "LayoutView",
            "align_content": null,
            "align_items": null,
            "align_self": null,
            "border": null,
            "bottom": null,
            "display": null,
            "flex": null,
            "flex_flow": null,
            "grid_area": null,
            "grid_auto_columns": null,
            "grid_auto_flow": null,
            "grid_auto_rows": null,
            "grid_column": null,
            "grid_gap": null,
            "grid_row": null,
            "grid_template_areas": null,
            "grid_template_columns": null,
            "grid_template_rows": null,
            "height": null,
            "justify_content": null,
            "justify_items": null,
            "left": null,
            "margin": null,
            "max_height": null,
            "max_width": null,
            "min_height": null,
            "min_width": null,
            "object_fit": null,
            "object_position": null,
            "order": null,
            "overflow": null,
            "overflow_x": null,
            "overflow_y": null,
            "padding": null,
            "right": null,
            "top": null,
            "visibility": null,
            "width": null
          }
        },
        "56cdca55f9334d12ba10cbdddc3e1812": {
          "model_module": "@jupyter-widgets/controls",
          "model_name": "DescriptionStyleModel",
          "model_module_version": "1.5.0",
          "state": {
            "_model_module": "@jupyter-widgets/controls",
            "_model_module_version": "1.5.0",
            "_model_name": "DescriptionStyleModel",
            "_view_count": null,
            "_view_module": "@jupyter-widgets/base",
            "_view_module_version": "1.2.0",
            "_view_name": "StyleView",
            "description_width": ""
          }
        },
        "19017838669c4f94ba7173f5f1bdc683": {
          "model_module": "@jupyter-widgets/base",
          "model_name": "LayoutModel",
          "model_module_version": "1.2.0",
          "state": {
            "_model_module": "@jupyter-widgets/base",
            "_model_module_version": "1.2.0",
            "_model_name": "LayoutModel",
            "_view_count": null,
            "_view_module": "@jupyter-widgets/base",
            "_view_module_version": "1.2.0",
            "_view_name": "LayoutView",
            "align_content": null,
            "align_items": null,
            "align_self": null,
            "border": null,
            "bottom": null,
            "display": null,
            "flex": null,
            "flex_flow": null,
            "grid_area": null,
            "grid_auto_columns": null,
            "grid_auto_flow": null,
            "grid_auto_rows": null,
            "grid_column": null,
            "grid_gap": null,
            "grid_row": null,
            "grid_template_areas": null,
            "grid_template_columns": null,
            "grid_template_rows": null,
            "height": null,
            "justify_content": null,
            "justify_items": null,
            "left": null,
            "margin": null,
            "max_height": null,
            "max_width": null,
            "min_height": null,
            "min_width": null,
            "object_fit": null,
            "object_position": null,
            "order": null,
            "overflow": null,
            "overflow_x": null,
            "overflow_y": null,
            "padding": null,
            "right": null,
            "top": null,
            "visibility": null,
            "width": null
          }
        },
        "a2327857485c4d56bad7a66b58c5faaa": {
          "model_module": "@jupyter-widgets/controls",
          "model_name": "ProgressStyleModel",
          "model_module_version": "1.5.0",
          "state": {
            "_model_module": "@jupyter-widgets/controls",
            "_model_module_version": "1.5.0",
            "_model_name": "ProgressStyleModel",
            "_view_count": null,
            "_view_module": "@jupyter-widgets/base",
            "_view_module_version": "1.2.0",
            "_view_name": "StyleView",
            "bar_color": null,
            "description_width": ""
          }
        },
        "03e2663abd8f45c58fc44622ec5dbb49": {
          "model_module": "@jupyter-widgets/base",
          "model_name": "LayoutModel",
          "model_module_version": "1.2.0",
          "state": {
            "_model_module": "@jupyter-widgets/base",
            "_model_module_version": "1.2.0",
            "_model_name": "LayoutModel",
            "_view_count": null,
            "_view_module": "@jupyter-widgets/base",
            "_view_module_version": "1.2.0",
            "_view_name": "LayoutView",
            "align_content": null,
            "align_items": null,
            "align_self": null,
            "border": null,
            "bottom": null,
            "display": null,
            "flex": null,
            "flex_flow": null,
            "grid_area": null,
            "grid_auto_columns": null,
            "grid_auto_flow": null,
            "grid_auto_rows": null,
            "grid_column": null,
            "grid_gap": null,
            "grid_row": null,
            "grid_template_areas": null,
            "grid_template_columns": null,
            "grid_template_rows": null,
            "height": null,
            "justify_content": null,
            "justify_items": null,
            "left": null,
            "margin": null,
            "max_height": null,
            "max_width": null,
            "min_height": null,
            "min_width": null,
            "object_fit": null,
            "object_position": null,
            "order": null,
            "overflow": null,
            "overflow_x": null,
            "overflow_y": null,
            "padding": null,
            "right": null,
            "top": null,
            "visibility": null,
            "width": null
          }
        },
        "d003c0a70742429aae22e30ced420509": {
          "model_module": "@jupyter-widgets/controls",
          "model_name": "DescriptionStyleModel",
          "model_module_version": "1.5.0",
          "state": {
            "_model_module": "@jupyter-widgets/controls",
            "_model_module_version": "1.5.0",
            "_model_name": "DescriptionStyleModel",
            "_view_count": null,
            "_view_module": "@jupyter-widgets/base",
            "_view_module_version": "1.2.0",
            "_view_name": "StyleView",
            "description_width": ""
          }
        },
        "3fd6570e2f844fb9b1a6b68a5ddf2666": {
          "model_module": "@jupyter-widgets/controls",
          "model_name": "HBoxModel",
          "model_module_version": "1.5.0",
          "state": {
            "_dom_classes": [],
            "_model_module": "@jupyter-widgets/controls",
            "_model_module_version": "1.5.0",
            "_model_name": "HBoxModel",
            "_view_count": null,
            "_view_module": "@jupyter-widgets/controls",
            "_view_module_version": "1.5.0",
            "_view_name": "HBoxView",
            "box_style": "",
            "children": [
              "IPY_MODEL_54b0889790ff42d59b939fd983a27028",
              "IPY_MODEL_05ced476aae048cba12763a4c75cc071",
              "IPY_MODEL_c0980e2862c14e718bb213fd88c4db4d"
            ],
            "layout": "IPY_MODEL_e43efb3f05014c33b0866d6ccd878ce1"
          }
        },
        "54b0889790ff42d59b939fd983a27028": {
          "model_module": "@jupyter-widgets/controls",
          "model_name": "HTMLModel",
          "model_module_version": "1.5.0",
          "state": {
            "_dom_classes": [],
            "_model_module": "@jupyter-widgets/controls",
            "_model_module_version": "1.5.0",
            "_model_name": "HTMLModel",
            "_view_count": null,
            "_view_module": "@jupyter-widgets/controls",
            "_view_module_version": "1.5.0",
            "_view_name": "HTMLView",
            "description": "",
            "description_tooltip": null,
            "layout": "IPY_MODEL_6df61700c54d4428b1e93de8470d1e4f",
            "placeholder": "​",
            "style": "IPY_MODEL_d9dea54280cf4158a3e766bbb7577d8d",
            "value": "100%"
          }
        },
        "05ced476aae048cba12763a4c75cc071": {
          "model_module": "@jupyter-widgets/controls",
          "model_name": "FloatProgressModel",
          "model_module_version": "1.5.0",
          "state": {
            "_dom_classes": [],
            "_model_module": "@jupyter-widgets/controls",
            "_model_module_version": "1.5.0",
            "_model_name": "FloatProgressModel",
            "_view_count": null,
            "_view_module": "@jupyter-widgets/controls",
            "_view_module_version": "1.5.0",
            "_view_name": "ProgressView",
            "bar_style": "success",
            "description": "",
            "description_tooltip": null,
            "layout": "IPY_MODEL_5caeb36a8ada43c6aae70bda6108e006",
            "max": 6921,
            "min": 0,
            "orientation": "horizontal",
            "style": "IPY_MODEL_b2013bd4748b4a82a1b3d32446c09839",
            "value": 6921
          }
        },
        "c0980e2862c14e718bb213fd88c4db4d": {
          "model_module": "@jupyter-widgets/controls",
          "model_name": "HTMLModel",
          "model_module_version": "1.5.0",
          "state": {
            "_dom_classes": [],
            "_model_module": "@jupyter-widgets/controls",
            "_model_module_version": "1.5.0",
            "_model_name": "HTMLModel",
            "_view_count": null,
            "_view_module": "@jupyter-widgets/controls",
            "_view_module_version": "1.5.0",
            "_view_name": "HTMLView",
            "description": "",
            "description_tooltip": null,
            "layout": "IPY_MODEL_e790e634fad840a9a95e8c8ec384408f",
            "placeholder": "​",
            "style": "IPY_MODEL_482c162936654dd5be8094d2092e0491",
            "value": " 6921/6921 [00:00&lt;00:00, 27765.05it/s]"
          }
        },
        "e43efb3f05014c33b0866d6ccd878ce1": {
          "model_module": "@jupyter-widgets/base",
          "model_name": "LayoutModel",
          "model_module_version": "1.2.0",
          "state": {
            "_model_module": "@jupyter-widgets/base",
            "_model_module_version": "1.2.0",
            "_model_name": "LayoutModel",
            "_view_count": null,
            "_view_module": "@jupyter-widgets/base",
            "_view_module_version": "1.2.0",
            "_view_name": "LayoutView",
            "align_content": null,
            "align_items": null,
            "align_self": null,
            "border": null,
            "bottom": null,
            "display": null,
            "flex": null,
            "flex_flow": null,
            "grid_area": null,
            "grid_auto_columns": null,
            "grid_auto_flow": null,
            "grid_auto_rows": null,
            "grid_column": null,
            "grid_gap": null,
            "grid_row": null,
            "grid_template_areas": null,
            "grid_template_columns": null,
            "grid_template_rows": null,
            "height": null,
            "justify_content": null,
            "justify_items": null,
            "left": null,
            "margin": null,
            "max_height": null,
            "max_width": null,
            "min_height": null,
            "min_width": null,
            "object_fit": null,
            "object_position": null,
            "order": null,
            "overflow": null,
            "overflow_x": null,
            "overflow_y": null,
            "padding": null,
            "right": null,
            "top": null,
            "visibility": null,
            "width": null
          }
        },
        "6df61700c54d4428b1e93de8470d1e4f": {
          "model_module": "@jupyter-widgets/base",
          "model_name": "LayoutModel",
          "model_module_version": "1.2.0",
          "state": {
            "_model_module": "@jupyter-widgets/base",
            "_model_module_version": "1.2.0",
            "_model_name": "LayoutModel",
            "_view_count": null,
            "_view_module": "@jupyter-widgets/base",
            "_view_module_version": "1.2.0",
            "_view_name": "LayoutView",
            "align_content": null,
            "align_items": null,
            "align_self": null,
            "border": null,
            "bottom": null,
            "display": null,
            "flex": null,
            "flex_flow": null,
            "grid_area": null,
            "grid_auto_columns": null,
            "grid_auto_flow": null,
            "grid_auto_rows": null,
            "grid_column": null,
            "grid_gap": null,
            "grid_row": null,
            "grid_template_areas": null,
            "grid_template_columns": null,
            "grid_template_rows": null,
            "height": null,
            "justify_content": null,
            "justify_items": null,
            "left": null,
            "margin": null,
            "max_height": null,
            "max_width": null,
            "min_height": null,
            "min_width": null,
            "object_fit": null,
            "object_position": null,
            "order": null,
            "overflow": null,
            "overflow_x": null,
            "overflow_y": null,
            "padding": null,
            "right": null,
            "top": null,
            "visibility": null,
            "width": null
          }
        },
        "d9dea54280cf4158a3e766bbb7577d8d": {
          "model_module": "@jupyter-widgets/controls",
          "model_name": "DescriptionStyleModel",
          "model_module_version": "1.5.0",
          "state": {
            "_model_module": "@jupyter-widgets/controls",
            "_model_module_version": "1.5.0",
            "_model_name": "DescriptionStyleModel",
            "_view_count": null,
            "_view_module": "@jupyter-widgets/base",
            "_view_module_version": "1.2.0",
            "_view_name": "StyleView",
            "description_width": ""
          }
        },
        "5caeb36a8ada43c6aae70bda6108e006": {
          "model_module": "@jupyter-widgets/base",
          "model_name": "LayoutModel",
          "model_module_version": "1.2.0",
          "state": {
            "_model_module": "@jupyter-widgets/base",
            "_model_module_version": "1.2.0",
            "_model_name": "LayoutModel",
            "_view_count": null,
            "_view_module": "@jupyter-widgets/base",
            "_view_module_version": "1.2.0",
            "_view_name": "LayoutView",
            "align_content": null,
            "align_items": null,
            "align_self": null,
            "border": null,
            "bottom": null,
            "display": null,
            "flex": null,
            "flex_flow": null,
            "grid_area": null,
            "grid_auto_columns": null,
            "grid_auto_flow": null,
            "grid_auto_rows": null,
            "grid_column": null,
            "grid_gap": null,
            "grid_row": null,
            "grid_template_areas": null,
            "grid_template_columns": null,
            "grid_template_rows": null,
            "height": null,
            "justify_content": null,
            "justify_items": null,
            "left": null,
            "margin": null,
            "max_height": null,
            "max_width": null,
            "min_height": null,
            "min_width": null,
            "object_fit": null,
            "object_position": null,
            "order": null,
            "overflow": null,
            "overflow_x": null,
            "overflow_y": null,
            "padding": null,
            "right": null,
            "top": null,
            "visibility": null,
            "width": null
          }
        },
        "b2013bd4748b4a82a1b3d32446c09839": {
          "model_module": "@jupyter-widgets/controls",
          "model_name": "ProgressStyleModel",
          "model_module_version": "1.5.0",
          "state": {
            "_model_module": "@jupyter-widgets/controls",
            "_model_module_version": "1.5.0",
            "_model_name": "ProgressStyleModel",
            "_view_count": null,
            "_view_module": "@jupyter-widgets/base",
            "_view_module_version": "1.2.0",
            "_view_name": "StyleView",
            "bar_color": null,
            "description_width": ""
          }
        },
        "e790e634fad840a9a95e8c8ec384408f": {
          "model_module": "@jupyter-widgets/base",
          "model_name": "LayoutModel",
          "model_module_version": "1.2.0",
          "state": {
            "_model_module": "@jupyter-widgets/base",
            "_model_module_version": "1.2.0",
            "_model_name": "LayoutModel",
            "_view_count": null,
            "_view_module": "@jupyter-widgets/base",
            "_view_module_version": "1.2.0",
            "_view_name": "LayoutView",
            "align_content": null,
            "align_items": null,
            "align_self": null,
            "border": null,
            "bottom": null,
            "display": null,
            "flex": null,
            "flex_flow": null,
            "grid_area": null,
            "grid_auto_columns": null,
            "grid_auto_flow": null,
            "grid_auto_rows": null,
            "grid_column": null,
            "grid_gap": null,
            "grid_row": null,
            "grid_template_areas": null,
            "grid_template_columns": null,
            "grid_template_rows": null,
            "height": null,
            "justify_content": null,
            "justify_items": null,
            "left": null,
            "margin": null,
            "max_height": null,
            "max_width": null,
            "min_height": null,
            "min_width": null,
            "object_fit": null,
            "object_position": null,
            "order": null,
            "overflow": null,
            "overflow_x": null,
            "overflow_y": null,
            "padding": null,
            "right": null,
            "top": null,
            "visibility": null,
            "width": null
          }
        },
        "482c162936654dd5be8094d2092e0491": {
          "model_module": "@jupyter-widgets/controls",
          "model_name": "DescriptionStyleModel",
          "model_module_version": "1.5.0",
          "state": {
            "_model_module": "@jupyter-widgets/controls",
            "_model_module_version": "1.5.0",
            "_model_name": "DescriptionStyleModel",
            "_view_count": null,
            "_view_module": "@jupyter-widgets/base",
            "_view_module_version": "1.2.0",
            "_view_name": "StyleView",
            "description_width": ""
          }
        },
        "45009b28a2e64ab58d5f672feea9312e": {
          "model_module": "@jupyter-widgets/controls",
          "model_name": "HBoxModel",
          "model_module_version": "1.5.0",
          "state": {
            "_dom_classes": [],
            "_model_module": "@jupyter-widgets/controls",
            "_model_module_version": "1.5.0",
            "_model_name": "HBoxModel",
            "_view_count": null,
            "_view_module": "@jupyter-widgets/controls",
            "_view_module_version": "1.5.0",
            "_view_name": "HBoxView",
            "box_style": "",
            "children": [
              "IPY_MODEL_58a69f12763d44b6a92099a40855f123",
              "IPY_MODEL_981d9dc5b6154b439c69497fc0997c82",
              "IPY_MODEL_b38590f905974c9e90808433e67ebf36"
            ],
            "layout": "IPY_MODEL_a0a250984c0a41aba0766d149a007003"
          }
        },
        "58a69f12763d44b6a92099a40855f123": {
          "model_module": "@jupyter-widgets/controls",
          "model_name": "HTMLModel",
          "model_module_version": "1.5.0",
          "state": {
            "_dom_classes": [],
            "_model_module": "@jupyter-widgets/controls",
            "_model_module_version": "1.5.0",
            "_model_name": "HTMLModel",
            "_view_count": null,
            "_view_module": "@jupyter-widgets/controls",
            "_view_module_version": "1.5.0",
            "_view_name": "HTMLView",
            "description": "",
            "description_tooltip": null,
            "layout": "IPY_MODEL_2551135f381c465eac9962a92b674e95",
            "placeholder": "​",
            "style": "IPY_MODEL_5461e49f820345ea8d6b87bff66d4ed9",
            "value": "100%"
          }
        },
        "981d9dc5b6154b439c69497fc0997c82": {
          "model_module": "@jupyter-widgets/controls",
          "model_name": "FloatProgressModel",
          "model_module_version": "1.5.0",
          "state": {
            "_dom_classes": [],
            "_model_module": "@jupyter-widgets/controls",
            "_model_module_version": "1.5.0",
            "_model_name": "FloatProgressModel",
            "_view_count": null,
            "_view_module": "@jupyter-widgets/controls",
            "_view_module_version": "1.5.0",
            "_view_name": "ProgressView",
            "bar_style": "success",
            "description": "",
            "description_tooltip": null,
            "layout": "IPY_MODEL_291f4d7640ae41ddb10a83b445c4ea4e",
            "max": 6358,
            "min": 0,
            "orientation": "horizontal",
            "style": "IPY_MODEL_adf31d284f674e1c8a6ee085bb691ea8",
            "value": 6358
          }
        },
        "b38590f905974c9e90808433e67ebf36": {
          "model_module": "@jupyter-widgets/controls",
          "model_name": "HTMLModel",
          "model_module_version": "1.5.0",
          "state": {
            "_dom_classes": [],
            "_model_module": "@jupyter-widgets/controls",
            "_model_module_version": "1.5.0",
            "_model_name": "HTMLModel",
            "_view_count": null,
            "_view_module": "@jupyter-widgets/controls",
            "_view_module_version": "1.5.0",
            "_view_name": "HTMLView",
            "description": "",
            "description_tooltip": null,
            "layout": "IPY_MODEL_7ad4d0816d644bb5b61271dcd43dab6c",
            "placeholder": "​",
            "style": "IPY_MODEL_a1033e821a9b48a38b2bfff29a3b41ca",
            "value": " 6358/6358 [00:00&lt;00:00, 29135.59it/s]"
          }
        },
        "a0a250984c0a41aba0766d149a007003": {
          "model_module": "@jupyter-widgets/base",
          "model_name": "LayoutModel",
          "model_module_version": "1.2.0",
          "state": {
            "_model_module": "@jupyter-widgets/base",
            "_model_module_version": "1.2.0",
            "_model_name": "LayoutModel",
            "_view_count": null,
            "_view_module": "@jupyter-widgets/base",
            "_view_module_version": "1.2.0",
            "_view_name": "LayoutView",
            "align_content": null,
            "align_items": null,
            "align_self": null,
            "border": null,
            "bottom": null,
            "display": null,
            "flex": null,
            "flex_flow": null,
            "grid_area": null,
            "grid_auto_columns": null,
            "grid_auto_flow": null,
            "grid_auto_rows": null,
            "grid_column": null,
            "grid_gap": null,
            "grid_row": null,
            "grid_template_areas": null,
            "grid_template_columns": null,
            "grid_template_rows": null,
            "height": null,
            "justify_content": null,
            "justify_items": null,
            "left": null,
            "margin": null,
            "max_height": null,
            "max_width": null,
            "min_height": null,
            "min_width": null,
            "object_fit": null,
            "object_position": null,
            "order": null,
            "overflow": null,
            "overflow_x": null,
            "overflow_y": null,
            "padding": null,
            "right": null,
            "top": null,
            "visibility": null,
            "width": null
          }
        },
        "2551135f381c465eac9962a92b674e95": {
          "model_module": "@jupyter-widgets/base",
          "model_name": "LayoutModel",
          "model_module_version": "1.2.0",
          "state": {
            "_model_module": "@jupyter-widgets/base",
            "_model_module_version": "1.2.0",
            "_model_name": "LayoutModel",
            "_view_count": null,
            "_view_module": "@jupyter-widgets/base",
            "_view_module_version": "1.2.0",
            "_view_name": "LayoutView",
            "align_content": null,
            "align_items": null,
            "align_self": null,
            "border": null,
            "bottom": null,
            "display": null,
            "flex": null,
            "flex_flow": null,
            "grid_area": null,
            "grid_auto_columns": null,
            "grid_auto_flow": null,
            "grid_auto_rows": null,
            "grid_column": null,
            "grid_gap": null,
            "grid_row": null,
            "grid_template_areas": null,
            "grid_template_columns": null,
            "grid_template_rows": null,
            "height": null,
            "justify_content": null,
            "justify_items": null,
            "left": null,
            "margin": null,
            "max_height": null,
            "max_width": null,
            "min_height": null,
            "min_width": null,
            "object_fit": null,
            "object_position": null,
            "order": null,
            "overflow": null,
            "overflow_x": null,
            "overflow_y": null,
            "padding": null,
            "right": null,
            "top": null,
            "visibility": null,
            "width": null
          }
        },
        "5461e49f820345ea8d6b87bff66d4ed9": {
          "model_module": "@jupyter-widgets/controls",
          "model_name": "DescriptionStyleModel",
          "model_module_version": "1.5.0",
          "state": {
            "_model_module": "@jupyter-widgets/controls",
            "_model_module_version": "1.5.0",
            "_model_name": "DescriptionStyleModel",
            "_view_count": null,
            "_view_module": "@jupyter-widgets/base",
            "_view_module_version": "1.2.0",
            "_view_name": "StyleView",
            "description_width": ""
          }
        },
        "291f4d7640ae41ddb10a83b445c4ea4e": {
          "model_module": "@jupyter-widgets/base",
          "model_name": "LayoutModel",
          "model_module_version": "1.2.0",
          "state": {
            "_model_module": "@jupyter-widgets/base",
            "_model_module_version": "1.2.0",
            "_model_name": "LayoutModel",
            "_view_count": null,
            "_view_module": "@jupyter-widgets/base",
            "_view_module_version": "1.2.0",
            "_view_name": "LayoutView",
            "align_content": null,
            "align_items": null,
            "align_self": null,
            "border": null,
            "bottom": null,
            "display": null,
            "flex": null,
            "flex_flow": null,
            "grid_area": null,
            "grid_auto_columns": null,
            "grid_auto_flow": null,
            "grid_auto_rows": null,
            "grid_column": null,
            "grid_gap": null,
            "grid_row": null,
            "grid_template_areas": null,
            "grid_template_columns": null,
            "grid_template_rows": null,
            "height": null,
            "justify_content": null,
            "justify_items": null,
            "left": null,
            "margin": null,
            "max_height": null,
            "max_width": null,
            "min_height": null,
            "min_width": null,
            "object_fit": null,
            "object_position": null,
            "order": null,
            "overflow": null,
            "overflow_x": null,
            "overflow_y": null,
            "padding": null,
            "right": null,
            "top": null,
            "visibility": null,
            "width": null
          }
        },
        "adf31d284f674e1c8a6ee085bb691ea8": {
          "model_module": "@jupyter-widgets/controls",
          "model_name": "ProgressStyleModel",
          "model_module_version": "1.5.0",
          "state": {
            "_model_module": "@jupyter-widgets/controls",
            "_model_module_version": "1.5.0",
            "_model_name": "ProgressStyleModel",
            "_view_count": null,
            "_view_module": "@jupyter-widgets/base",
            "_view_module_version": "1.2.0",
            "_view_name": "StyleView",
            "bar_color": null,
            "description_width": ""
          }
        },
        "7ad4d0816d644bb5b61271dcd43dab6c": {
          "model_module": "@jupyter-widgets/base",
          "model_name": "LayoutModel",
          "model_module_version": "1.2.0",
          "state": {
            "_model_module": "@jupyter-widgets/base",
            "_model_module_version": "1.2.0",
            "_model_name": "LayoutModel",
            "_view_count": null,
            "_view_module": "@jupyter-widgets/base",
            "_view_module_version": "1.2.0",
            "_view_name": "LayoutView",
            "align_content": null,
            "align_items": null,
            "align_self": null,
            "border": null,
            "bottom": null,
            "display": null,
            "flex": null,
            "flex_flow": null,
            "grid_area": null,
            "grid_auto_columns": null,
            "grid_auto_flow": null,
            "grid_auto_rows": null,
            "grid_column": null,
            "grid_gap": null,
            "grid_row": null,
            "grid_template_areas": null,
            "grid_template_columns": null,
            "grid_template_rows": null,
            "height": null,
            "justify_content": null,
            "justify_items": null,
            "left": null,
            "margin": null,
            "max_height": null,
            "max_width": null,
            "min_height": null,
            "min_width": null,
            "object_fit": null,
            "object_position": null,
            "order": null,
            "overflow": null,
            "overflow_x": null,
            "overflow_y": null,
            "padding": null,
            "right": null,
            "top": null,
            "visibility": null,
            "width": null
          }
        },
        "a1033e821a9b48a38b2bfff29a3b41ca": {
          "model_module": "@jupyter-widgets/controls",
          "model_name": "DescriptionStyleModel",
          "model_module_version": "1.5.0",
          "state": {
            "_model_module": "@jupyter-widgets/controls",
            "_model_module_version": "1.5.0",
            "_model_name": "DescriptionStyleModel",
            "_view_count": null,
            "_view_module": "@jupyter-widgets/base",
            "_view_module_version": "1.2.0",
            "_view_name": "StyleView",
            "description_width": ""
          }
        },
        "bd76789f118d4e3d9e415581c49a6b3d": {
          "model_module": "@jupyter-widgets/controls",
          "model_name": "HBoxModel",
          "model_module_version": "1.5.0",
          "state": {
            "_dom_classes": [],
            "_model_module": "@jupyter-widgets/controls",
            "_model_module_version": "1.5.0",
            "_model_name": "HBoxModel",
            "_view_count": null,
            "_view_module": "@jupyter-widgets/controls",
            "_view_module_version": "1.5.0",
            "_view_name": "HBoxView",
            "box_style": "",
            "children": [
              "IPY_MODEL_0e62a30dbdbd4cd2a2d435d55c9b7076",
              "IPY_MODEL_005cd6486d584d72a90d39480a762171",
              "IPY_MODEL_f7f20a435e6447c9baad03289a2c0339"
            ],
            "layout": "IPY_MODEL_c532e9af628a4105b9477ec2da2b26bd"
          }
        },
        "0e62a30dbdbd4cd2a2d435d55c9b7076": {
          "model_module": "@jupyter-widgets/controls",
          "model_name": "HTMLModel",
          "model_module_version": "1.5.0",
          "state": {
            "_dom_classes": [],
            "_model_module": "@jupyter-widgets/controls",
            "_model_module_version": "1.5.0",
            "_model_name": "HTMLModel",
            "_view_count": null,
            "_view_module": "@jupyter-widgets/controls",
            "_view_module_version": "1.5.0",
            "_view_name": "HTMLView",
            "description": "",
            "description_tooltip": null,
            "layout": "IPY_MODEL_caf761030c4146d282c2579aabd90a8d",
            "placeholder": "​",
            "style": "IPY_MODEL_e0473ebcca784c209f86aaa5b5ce9cfe",
            "value": "100%"
          }
        },
        "005cd6486d584d72a90d39480a762171": {
          "model_module": "@jupyter-widgets/controls",
          "model_name": "FloatProgressModel",
          "model_module_version": "1.5.0",
          "state": {
            "_dom_classes": [],
            "_model_module": "@jupyter-widgets/controls",
            "_model_module_version": "1.5.0",
            "_model_name": "FloatProgressModel",
            "_view_count": null,
            "_view_module": "@jupyter-widgets/controls",
            "_view_module_version": "1.5.0",
            "_view_name": "ProgressView",
            "bar_style": "success",
            "description": "",
            "description_tooltip": null,
            "layout": "IPY_MODEL_b5c31e177f1d4adbb4389711c4326ea4",
            "max": 200,
            "min": 0,
            "orientation": "horizontal",
            "style": "IPY_MODEL_14b22ad8dd9840648a9261eed84ff1ec",
            "value": 200
          }
        },
        "f7f20a435e6447c9baad03289a2c0339": {
          "model_module": "@jupyter-widgets/controls",
          "model_name": "HTMLModel",
          "model_module_version": "1.5.0",
          "state": {
            "_dom_classes": [],
            "_model_module": "@jupyter-widgets/controls",
            "_model_module_version": "1.5.0",
            "_model_name": "HTMLModel",
            "_view_count": null,
            "_view_module": "@jupyter-widgets/controls",
            "_view_module_version": "1.5.0",
            "_view_name": "HTMLView",
            "description": "",
            "description_tooltip": null,
            "layout": "IPY_MODEL_7a52b86e42364b47a0dcb0e6da659edf",
            "placeholder": "​",
            "style": "IPY_MODEL_01d83107714b462cb11a0957f6c770b4",
            "value": " 200/200 [00:03&lt;00:00, 50.42it/s, correct=71.90%, skipped=0.32%]"
          }
        },
        "c532e9af628a4105b9477ec2da2b26bd": {
          "model_module": "@jupyter-widgets/base",
          "model_name": "LayoutModel",
          "model_module_version": "1.2.0",
          "state": {
            "_model_module": "@jupyter-widgets/base",
            "_model_module_version": "1.2.0",
            "_model_name": "LayoutModel",
            "_view_count": null,
            "_view_module": "@jupyter-widgets/base",
            "_view_module_version": "1.2.0",
            "_view_name": "LayoutView",
            "align_content": null,
            "align_items": null,
            "align_self": null,
            "border": null,
            "bottom": null,
            "display": null,
            "flex": null,
            "flex_flow": null,
            "grid_area": null,
            "grid_auto_columns": null,
            "grid_auto_flow": null,
            "grid_auto_rows": null,
            "grid_column": null,
            "grid_gap": null,
            "grid_row": null,
            "grid_template_areas": null,
            "grid_template_columns": null,
            "grid_template_rows": null,
            "height": null,
            "justify_content": null,
            "justify_items": null,
            "left": null,
            "margin": null,
            "max_height": null,
            "max_width": null,
            "min_height": null,
            "min_width": null,
            "object_fit": null,
            "object_position": null,
            "order": null,
            "overflow": null,
            "overflow_x": null,
            "overflow_y": null,
            "padding": null,
            "right": null,
            "top": null,
            "visibility": null,
            "width": null
          }
        },
        "caf761030c4146d282c2579aabd90a8d": {
          "model_module": "@jupyter-widgets/base",
          "model_name": "LayoutModel",
          "model_module_version": "1.2.0",
          "state": {
            "_model_module": "@jupyter-widgets/base",
            "_model_module_version": "1.2.0",
            "_model_name": "LayoutModel",
            "_view_count": null,
            "_view_module": "@jupyter-widgets/base",
            "_view_module_version": "1.2.0",
            "_view_name": "LayoutView",
            "align_content": null,
            "align_items": null,
            "align_self": null,
            "border": null,
            "bottom": null,
            "display": null,
            "flex": null,
            "flex_flow": null,
            "grid_area": null,
            "grid_auto_columns": null,
            "grid_auto_flow": null,
            "grid_auto_rows": null,
            "grid_column": null,
            "grid_gap": null,
            "grid_row": null,
            "grid_template_areas": null,
            "grid_template_columns": null,
            "grid_template_rows": null,
            "height": null,
            "justify_content": null,
            "justify_items": null,
            "left": null,
            "margin": null,
            "max_height": null,
            "max_width": null,
            "min_height": null,
            "min_width": null,
            "object_fit": null,
            "object_position": null,
            "order": null,
            "overflow": null,
            "overflow_x": null,
            "overflow_y": null,
            "padding": null,
            "right": null,
            "top": null,
            "visibility": null,
            "width": null
          }
        },
        "e0473ebcca784c209f86aaa5b5ce9cfe": {
          "model_module": "@jupyter-widgets/controls",
          "model_name": "DescriptionStyleModel",
          "model_module_version": "1.5.0",
          "state": {
            "_model_module": "@jupyter-widgets/controls",
            "_model_module_version": "1.5.0",
            "_model_name": "DescriptionStyleModel",
            "_view_count": null,
            "_view_module": "@jupyter-widgets/base",
            "_view_module_version": "1.2.0",
            "_view_name": "StyleView",
            "description_width": ""
          }
        },
        "b5c31e177f1d4adbb4389711c4326ea4": {
          "model_module": "@jupyter-widgets/base",
          "model_name": "LayoutModel",
          "model_module_version": "1.2.0",
          "state": {
            "_model_module": "@jupyter-widgets/base",
            "_model_module_version": "1.2.0",
            "_model_name": "LayoutModel",
            "_view_count": null,
            "_view_module": "@jupyter-widgets/base",
            "_view_module_version": "1.2.0",
            "_view_name": "LayoutView",
            "align_content": null,
            "align_items": null,
            "align_self": null,
            "border": null,
            "bottom": null,
            "display": null,
            "flex": null,
            "flex_flow": null,
            "grid_area": null,
            "grid_auto_columns": null,
            "grid_auto_flow": null,
            "grid_auto_rows": null,
            "grid_column": null,
            "grid_gap": null,
            "grid_row": null,
            "grid_template_areas": null,
            "grid_template_columns": null,
            "grid_template_rows": null,
            "height": null,
            "justify_content": null,
            "justify_items": null,
            "left": null,
            "margin": null,
            "max_height": null,
            "max_width": null,
            "min_height": null,
            "min_width": null,
            "object_fit": null,
            "object_position": null,
            "order": null,
            "overflow": null,
            "overflow_x": null,
            "overflow_y": null,
            "padding": null,
            "right": null,
            "top": null,
            "visibility": null,
            "width": null
          }
        },
        "14b22ad8dd9840648a9261eed84ff1ec": {
          "model_module": "@jupyter-widgets/controls",
          "model_name": "ProgressStyleModel",
          "model_module_version": "1.5.0",
          "state": {
            "_model_module": "@jupyter-widgets/controls",
            "_model_module_version": "1.5.0",
            "_model_name": "ProgressStyleModel",
            "_view_count": null,
            "_view_module": "@jupyter-widgets/base",
            "_view_module_version": "1.2.0",
            "_view_name": "StyleView",
            "bar_color": null,
            "description_width": ""
          }
        },
        "7a52b86e42364b47a0dcb0e6da659edf": {
          "model_module": "@jupyter-widgets/base",
          "model_name": "LayoutModel",
          "model_module_version": "1.2.0",
          "state": {
            "_model_module": "@jupyter-widgets/base",
            "_model_module_version": "1.2.0",
            "_model_name": "LayoutModel",
            "_view_count": null,
            "_view_module": "@jupyter-widgets/base",
            "_view_module_version": "1.2.0",
            "_view_name": "LayoutView",
            "align_content": null,
            "align_items": null,
            "align_self": null,
            "border": null,
            "bottom": null,
            "display": null,
            "flex": null,
            "flex_flow": null,
            "grid_area": null,
            "grid_auto_columns": null,
            "grid_auto_flow": null,
            "grid_auto_rows": null,
            "grid_column": null,
            "grid_gap": null,
            "grid_row": null,
            "grid_template_areas": null,
            "grid_template_columns": null,
            "grid_template_rows": null,
            "height": null,
            "justify_content": null,
            "justify_items": null,
            "left": null,
            "margin": null,
            "max_height": null,
            "max_width": null,
            "min_height": null,
            "min_width": null,
            "object_fit": null,
            "object_position": null,
            "order": null,
            "overflow": null,
            "overflow_x": null,
            "overflow_y": null,
            "padding": null,
            "right": null,
            "top": null,
            "visibility": null,
            "width": null
          }
        },
        "01d83107714b462cb11a0957f6c770b4": {
          "model_module": "@jupyter-widgets/controls",
          "model_name": "DescriptionStyleModel",
          "model_module_version": "1.5.0",
          "state": {
            "_model_module": "@jupyter-widgets/controls",
            "_model_module_version": "1.5.0",
            "_model_name": "DescriptionStyleModel",
            "_view_count": null,
            "_view_module": "@jupyter-widgets/base",
            "_view_module_version": "1.2.0",
            "_view_name": "StyleView",
            "description_width": ""
          }
        },
        "b0c04ae82ab24c0da90cf2012d785e66": {
          "model_module": "@jupyter-widgets/controls",
          "model_name": "HBoxModel",
          "model_module_version": "1.5.0",
          "state": {
            "_dom_classes": [],
            "_model_module": "@jupyter-widgets/controls",
            "_model_module_version": "1.5.0",
            "_model_name": "HBoxModel",
            "_view_count": null,
            "_view_module": "@jupyter-widgets/controls",
            "_view_module_version": "1.5.0",
            "_view_name": "HBoxView",
            "box_style": "",
            "children": [
              "IPY_MODEL_6fbbe7da277441ed9a41de78c9dd1bc3",
              "IPY_MODEL_6a50622aa99d403fbc033a1080f6df74",
              "IPY_MODEL_2ddc6c9101d447eaa05df60fd53d6245"
            ],
            "layout": "IPY_MODEL_b3b5f5999e4d479289458eade249863d"
          }
        },
        "6fbbe7da277441ed9a41de78c9dd1bc3": {
          "model_module": "@jupyter-widgets/controls",
          "model_name": "HTMLModel",
          "model_module_version": "1.5.0",
          "state": {
            "_dom_classes": [],
            "_model_module": "@jupyter-widgets/controls",
            "_model_module_version": "1.5.0",
            "_model_name": "HTMLModel",
            "_view_count": null,
            "_view_module": "@jupyter-widgets/controls",
            "_view_module_version": "1.5.0",
            "_view_name": "HTMLView",
            "description": "",
            "description_tooltip": null,
            "layout": "IPY_MODEL_a6fdaf0b2d114717b2c6c13eb9cda196",
            "placeholder": "​",
            "style": "IPY_MODEL_a1848c08a1eb421aa6d2baa0e25a9439",
            "value": "100%"
          }
        },
        "6a50622aa99d403fbc033a1080f6df74": {
          "model_module": "@jupyter-widgets/controls",
          "model_name": "FloatProgressModel",
          "model_module_version": "1.5.0",
          "state": {
            "_dom_classes": [],
            "_model_module": "@jupyter-widgets/controls",
            "_model_module_version": "1.5.0",
            "_model_name": "FloatProgressModel",
            "_view_count": null,
            "_view_module": "@jupyter-widgets/controls",
            "_view_module_version": "1.5.0",
            "_view_name": "ProgressView",
            "bar_style": "success",
            "description": "",
            "description_tooltip": null,
            "layout": "IPY_MODEL_2bfb0a2fbe0b4cbd914236d8f30d4556",
            "max": 100,
            "min": 0,
            "orientation": "horizontal",
            "style": "IPY_MODEL_b0aa0728bc7d454c8e1fa66474a6c9a1",
            "value": 100
          }
        },
        "2ddc6c9101d447eaa05df60fd53d6245": {
          "model_module": "@jupyter-widgets/controls",
          "model_name": "HTMLModel",
          "model_module_version": "1.5.0",
          "state": {
            "_dom_classes": [],
            "_model_module": "@jupyter-widgets/controls",
            "_model_module_version": "1.5.0",
            "_model_name": "HTMLModel",
            "_view_count": null,
            "_view_module": "@jupyter-widgets/controls",
            "_view_module_version": "1.5.0",
            "_view_name": "HTMLView",
            "description": "",
            "description_tooltip": null,
            "layout": "IPY_MODEL_5f9a55350f9945e2be31da7b8e718da3",
            "placeholder": "​",
            "style": "IPY_MODEL_dfc4ea64e531443492726644bd95e72c",
            "value": " 100/100 [00:01&lt;00:00, 106.97it/s, loss=708.96]"
          }
        },
        "b3b5f5999e4d479289458eade249863d": {
          "model_module": "@jupyter-widgets/base",
          "model_name": "LayoutModel",
          "model_module_version": "1.2.0",
          "state": {
            "_model_module": "@jupyter-widgets/base",
            "_model_module_version": "1.2.0",
            "_model_name": "LayoutModel",
            "_view_count": null,
            "_view_module": "@jupyter-widgets/base",
            "_view_module_version": "1.2.0",
            "_view_name": "LayoutView",
            "align_content": null,
            "align_items": null,
            "align_self": null,
            "border": null,
            "bottom": null,
            "display": null,
            "flex": null,
            "flex_flow": null,
            "grid_area": null,
            "grid_auto_columns": null,
            "grid_auto_flow": null,
            "grid_auto_rows": null,
            "grid_column": null,
            "grid_gap": null,
            "grid_row": null,
            "grid_template_areas": null,
            "grid_template_columns": null,
            "grid_template_rows": null,
            "height": null,
            "justify_content": null,
            "justify_items": null,
            "left": null,
            "margin": null,
            "max_height": null,
            "max_width": null,
            "min_height": null,
            "min_width": null,
            "object_fit": null,
            "object_position": null,
            "order": null,
            "overflow": null,
            "overflow_x": null,
            "overflow_y": null,
            "padding": null,
            "right": null,
            "top": null,
            "visibility": null,
            "width": null
          }
        },
        "a6fdaf0b2d114717b2c6c13eb9cda196": {
          "model_module": "@jupyter-widgets/base",
          "model_name": "LayoutModel",
          "model_module_version": "1.2.0",
          "state": {
            "_model_module": "@jupyter-widgets/base",
            "_model_module_version": "1.2.0",
            "_model_name": "LayoutModel",
            "_view_count": null,
            "_view_module": "@jupyter-widgets/base",
            "_view_module_version": "1.2.0",
            "_view_name": "LayoutView",
            "align_content": null,
            "align_items": null,
            "align_self": null,
            "border": null,
            "bottom": null,
            "display": null,
            "flex": null,
            "flex_flow": null,
            "grid_area": null,
            "grid_auto_columns": null,
            "grid_auto_flow": null,
            "grid_auto_rows": null,
            "grid_column": null,
            "grid_gap": null,
            "grid_row": null,
            "grid_template_areas": null,
            "grid_template_columns": null,
            "grid_template_rows": null,
            "height": null,
            "justify_content": null,
            "justify_items": null,
            "left": null,
            "margin": null,
            "max_height": null,
            "max_width": null,
            "min_height": null,
            "min_width": null,
            "object_fit": null,
            "object_position": null,
            "order": null,
            "overflow": null,
            "overflow_x": null,
            "overflow_y": null,
            "padding": null,
            "right": null,
            "top": null,
            "visibility": null,
            "width": null
          }
        },
        "a1848c08a1eb421aa6d2baa0e25a9439": {
          "model_module": "@jupyter-widgets/controls",
          "model_name": "DescriptionStyleModel",
          "model_module_version": "1.5.0",
          "state": {
            "_model_module": "@jupyter-widgets/controls",
            "_model_module_version": "1.5.0",
            "_model_name": "DescriptionStyleModel",
            "_view_count": null,
            "_view_module": "@jupyter-widgets/base",
            "_view_module_version": "1.2.0",
            "_view_name": "StyleView",
            "description_width": ""
          }
        },
        "2bfb0a2fbe0b4cbd914236d8f30d4556": {
          "model_module": "@jupyter-widgets/base",
          "model_name": "LayoutModel",
          "model_module_version": "1.2.0",
          "state": {
            "_model_module": "@jupyter-widgets/base",
            "_model_module_version": "1.2.0",
            "_model_name": "LayoutModel",
            "_view_count": null,
            "_view_module": "@jupyter-widgets/base",
            "_view_module_version": "1.2.0",
            "_view_name": "LayoutView",
            "align_content": null,
            "align_items": null,
            "align_self": null,
            "border": null,
            "bottom": null,
            "display": null,
            "flex": null,
            "flex_flow": null,
            "grid_area": null,
            "grid_auto_columns": null,
            "grid_auto_flow": null,
            "grid_auto_rows": null,
            "grid_column": null,
            "grid_gap": null,
            "grid_row": null,
            "grid_template_areas": null,
            "grid_template_columns": null,
            "grid_template_rows": null,
            "height": null,
            "justify_content": null,
            "justify_items": null,
            "left": null,
            "margin": null,
            "max_height": null,
            "max_width": null,
            "min_height": null,
            "min_width": null,
            "object_fit": null,
            "object_position": null,
            "order": null,
            "overflow": null,
            "overflow_x": null,
            "overflow_y": null,
            "padding": null,
            "right": null,
            "top": null,
            "visibility": null,
            "width": null
          }
        },
        "b0aa0728bc7d454c8e1fa66474a6c9a1": {
          "model_module": "@jupyter-widgets/controls",
          "model_name": "ProgressStyleModel",
          "model_module_version": "1.5.0",
          "state": {
            "_model_module": "@jupyter-widgets/controls",
            "_model_module_version": "1.5.0",
            "_model_name": "ProgressStyleModel",
            "_view_count": null,
            "_view_module": "@jupyter-widgets/base",
            "_view_module_version": "1.2.0",
            "_view_name": "StyleView",
            "bar_color": null,
            "description_width": ""
          }
        },
        "5f9a55350f9945e2be31da7b8e718da3": {
          "model_module": "@jupyter-widgets/base",
          "model_name": "LayoutModel",
          "model_module_version": "1.2.0",
          "state": {
            "_model_module": "@jupyter-widgets/base",
            "_model_module_version": "1.2.0",
            "_model_name": "LayoutModel",
            "_view_count": null,
            "_view_module": "@jupyter-widgets/base",
            "_view_module_version": "1.2.0",
            "_view_name": "LayoutView",
            "align_content": null,
            "align_items": null,
            "align_self": null,
            "border": null,
            "bottom": null,
            "display": null,
            "flex": null,
            "flex_flow": null,
            "grid_area": null,
            "grid_auto_columns": null,
            "grid_auto_flow": null,
            "grid_auto_rows": null,
            "grid_column": null,
            "grid_gap": null,
            "grid_row": null,
            "grid_template_areas": null,
            "grid_template_columns": null,
            "grid_template_rows": null,
            "height": null,
            "justify_content": null,
            "justify_items": null,
            "left": null,
            "margin": null,
            "max_height": null,
            "max_width": null,
            "min_height": null,
            "min_width": null,
            "object_fit": null,
            "object_position": null,
            "order": null,
            "overflow": null,
            "overflow_x": null,
            "overflow_y": null,
            "padding": null,
            "right": null,
            "top": null,
            "visibility": null,
            "width": null
          }
        },
        "dfc4ea64e531443492726644bd95e72c": {
          "model_module": "@jupyter-widgets/controls",
          "model_name": "DescriptionStyleModel",
          "model_module_version": "1.5.0",
          "state": {
            "_model_module": "@jupyter-widgets/controls",
            "_model_module_version": "1.5.0",
            "_model_name": "DescriptionStyleModel",
            "_view_count": null,
            "_view_module": "@jupyter-widgets/base",
            "_view_module_version": "1.2.0",
            "_view_name": "StyleView",
            "description_width": ""
          }
        },
        "56263c4b148340c7912fe9fe96b21e69": {
          "model_module": "@jupyter-widgets/controls",
          "model_name": "HBoxModel",
          "model_module_version": "1.5.0",
          "state": {
            "_dom_classes": [],
            "_model_module": "@jupyter-widgets/controls",
            "_model_module_version": "1.5.0",
            "_model_name": "HBoxModel",
            "_view_count": null,
            "_view_module": "@jupyter-widgets/controls",
            "_view_module_version": "1.5.0",
            "_view_name": "HBoxView",
            "box_style": "",
            "children": [
              "IPY_MODEL_2e3029400ff9455984b8810783942fd8",
              "IPY_MODEL_51254583606d4f509b5cc000cb26e4fc",
              "IPY_MODEL_b6c0c9e9c0b94693b6db36dee76b6125"
            ],
            "layout": "IPY_MODEL_3cb259aa65bd43359ef445b994aa2161"
          }
        },
        "2e3029400ff9455984b8810783942fd8": {
          "model_module": "@jupyter-widgets/controls",
          "model_name": "HTMLModel",
          "model_module_version": "1.5.0",
          "state": {
            "_dom_classes": [],
            "_model_module": "@jupyter-widgets/controls",
            "_model_module_version": "1.5.0",
            "_model_name": "HTMLModel",
            "_view_count": null,
            "_view_module": "@jupyter-widgets/controls",
            "_view_module_version": "1.5.0",
            "_view_name": "HTMLView",
            "description": "",
            "description_tooltip": null,
            "layout": "IPY_MODEL_26f6b56afdf54f73a5b7eec80b0daf3e",
            "placeholder": "​",
            "style": "IPY_MODEL_353f89501be746e6a9525a2711c8c36c",
            "value": "100%"
          }
        },
        "51254583606d4f509b5cc000cb26e4fc": {
          "model_module": "@jupyter-widgets/controls",
          "model_name": "FloatProgressModel",
          "model_module_version": "1.5.0",
          "state": {
            "_dom_classes": [],
            "_model_module": "@jupyter-widgets/controls",
            "_model_module_version": "1.5.0",
            "_model_name": "FloatProgressModel",
            "_view_count": null,
            "_view_module": "@jupyter-widgets/controls",
            "_view_module_version": "1.5.0",
            "_view_name": "ProgressView",
            "bar_style": "success",
            "description": "",
            "description_tooltip": null,
            "layout": "IPY_MODEL_fd2d8867e29d41f784c6b1a9edd084da",
            "max": 50,
            "min": 0,
            "orientation": "horizontal",
            "style": "IPY_MODEL_1f1152900c4d47699e4488a73f1a4580",
            "value": 50
          }
        },
        "b6c0c9e9c0b94693b6db36dee76b6125": {
          "model_module": "@jupyter-widgets/controls",
          "model_name": "HTMLModel",
          "model_module_version": "1.5.0",
          "state": {
            "_dom_classes": [],
            "_model_module": "@jupyter-widgets/controls",
            "_model_module_version": "1.5.0",
            "_model_name": "HTMLModel",
            "_view_count": null,
            "_view_module": "@jupyter-widgets/controls",
            "_view_module_version": "1.5.0",
            "_view_name": "HTMLView",
            "description": "",
            "description_tooltip": null,
            "layout": "IPY_MODEL_2a872ad1ddfe4f87bad03337f6538aa6",
            "placeholder": "​",
            "style": "IPY_MODEL_38ed0c7440f942b5a0f3a8a272638bac",
            "value": " 50/50 [00:00&lt;00:00, 102.02it/s, loss=356742.81]"
          }
        },
        "3cb259aa65bd43359ef445b994aa2161": {
          "model_module": "@jupyter-widgets/base",
          "model_name": "LayoutModel",
          "model_module_version": "1.2.0",
          "state": {
            "_model_module": "@jupyter-widgets/base",
            "_model_module_version": "1.2.0",
            "_model_name": "LayoutModel",
            "_view_count": null,
            "_view_module": "@jupyter-widgets/base",
            "_view_module_version": "1.2.0",
            "_view_name": "LayoutView",
            "align_content": null,
            "align_items": null,
            "align_self": null,
            "border": null,
            "bottom": null,
            "display": null,
            "flex": null,
            "flex_flow": null,
            "grid_area": null,
            "grid_auto_columns": null,
            "grid_auto_flow": null,
            "grid_auto_rows": null,
            "grid_column": null,
            "grid_gap": null,
            "grid_row": null,
            "grid_template_areas": null,
            "grid_template_columns": null,
            "grid_template_rows": null,
            "height": null,
            "justify_content": null,
            "justify_items": null,
            "left": null,
            "margin": null,
            "max_height": null,
            "max_width": null,
            "min_height": null,
            "min_width": null,
            "object_fit": null,
            "object_position": null,
            "order": null,
            "overflow": null,
            "overflow_x": null,
            "overflow_y": null,
            "padding": null,
            "right": null,
            "top": null,
            "visibility": null,
            "width": null
          }
        },
        "26f6b56afdf54f73a5b7eec80b0daf3e": {
          "model_module": "@jupyter-widgets/base",
          "model_name": "LayoutModel",
          "model_module_version": "1.2.0",
          "state": {
            "_model_module": "@jupyter-widgets/base",
            "_model_module_version": "1.2.0",
            "_model_name": "LayoutModel",
            "_view_count": null,
            "_view_module": "@jupyter-widgets/base",
            "_view_module_version": "1.2.0",
            "_view_name": "LayoutView",
            "align_content": null,
            "align_items": null,
            "align_self": null,
            "border": null,
            "bottom": null,
            "display": null,
            "flex": null,
            "flex_flow": null,
            "grid_area": null,
            "grid_auto_columns": null,
            "grid_auto_flow": null,
            "grid_auto_rows": null,
            "grid_column": null,
            "grid_gap": null,
            "grid_row": null,
            "grid_template_areas": null,
            "grid_template_columns": null,
            "grid_template_rows": null,
            "height": null,
            "justify_content": null,
            "justify_items": null,
            "left": null,
            "margin": null,
            "max_height": null,
            "max_width": null,
            "min_height": null,
            "min_width": null,
            "object_fit": null,
            "object_position": null,
            "order": null,
            "overflow": null,
            "overflow_x": null,
            "overflow_y": null,
            "padding": null,
            "right": null,
            "top": null,
            "visibility": null,
            "width": null
          }
        },
        "353f89501be746e6a9525a2711c8c36c": {
          "model_module": "@jupyter-widgets/controls",
          "model_name": "DescriptionStyleModel",
          "model_module_version": "1.5.0",
          "state": {
            "_model_module": "@jupyter-widgets/controls",
            "_model_module_version": "1.5.0",
            "_model_name": "DescriptionStyleModel",
            "_view_count": null,
            "_view_module": "@jupyter-widgets/base",
            "_view_module_version": "1.2.0",
            "_view_name": "StyleView",
            "description_width": ""
          }
        },
        "fd2d8867e29d41f784c6b1a9edd084da": {
          "model_module": "@jupyter-widgets/base",
          "model_name": "LayoutModel",
          "model_module_version": "1.2.0",
          "state": {
            "_model_module": "@jupyter-widgets/base",
            "_model_module_version": "1.2.0",
            "_model_name": "LayoutModel",
            "_view_count": null,
            "_view_module": "@jupyter-widgets/base",
            "_view_module_version": "1.2.0",
            "_view_name": "LayoutView",
            "align_content": null,
            "align_items": null,
            "align_self": null,
            "border": null,
            "bottom": null,
            "display": null,
            "flex": null,
            "flex_flow": null,
            "grid_area": null,
            "grid_auto_columns": null,
            "grid_auto_flow": null,
            "grid_auto_rows": null,
            "grid_column": null,
            "grid_gap": null,
            "grid_row": null,
            "grid_template_areas": null,
            "grid_template_columns": null,
            "grid_template_rows": null,
            "height": null,
            "justify_content": null,
            "justify_items": null,
            "left": null,
            "margin": null,
            "max_height": null,
            "max_width": null,
            "min_height": null,
            "min_width": null,
            "object_fit": null,
            "object_position": null,
            "order": null,
            "overflow": null,
            "overflow_x": null,
            "overflow_y": null,
            "padding": null,
            "right": null,
            "top": null,
            "visibility": null,
            "width": null
          }
        },
        "1f1152900c4d47699e4488a73f1a4580": {
          "model_module": "@jupyter-widgets/controls",
          "model_name": "ProgressStyleModel",
          "model_module_version": "1.5.0",
          "state": {
            "_model_module": "@jupyter-widgets/controls",
            "_model_module_version": "1.5.0",
            "_model_name": "ProgressStyleModel",
            "_view_count": null,
            "_view_module": "@jupyter-widgets/base",
            "_view_module_version": "1.2.0",
            "_view_name": "StyleView",
            "bar_color": null,
            "description_width": ""
          }
        },
        "2a872ad1ddfe4f87bad03337f6538aa6": {
          "model_module": "@jupyter-widgets/base",
          "model_name": "LayoutModel",
          "model_module_version": "1.2.0",
          "state": {
            "_model_module": "@jupyter-widgets/base",
            "_model_module_version": "1.2.0",
            "_model_name": "LayoutModel",
            "_view_count": null,
            "_view_module": "@jupyter-widgets/base",
            "_view_module_version": "1.2.0",
            "_view_name": "LayoutView",
            "align_content": null,
            "align_items": null,
            "align_self": null,
            "border": null,
            "bottom": null,
            "display": null,
            "flex": null,
            "flex_flow": null,
            "grid_area": null,
            "grid_auto_columns": null,
            "grid_auto_flow": null,
            "grid_auto_rows": null,
            "grid_column": null,
            "grid_gap": null,
            "grid_row": null,
            "grid_template_areas": null,
            "grid_template_columns": null,
            "grid_template_rows": null,
            "height": null,
            "justify_content": null,
            "justify_items": null,
            "left": null,
            "margin": null,
            "max_height": null,
            "max_width": null,
            "min_height": null,
            "min_width": null,
            "object_fit": null,
            "object_position": null,
            "order": null,
            "overflow": null,
            "overflow_x": null,
            "overflow_y": null,
            "padding": null,
            "right": null,
            "top": null,
            "visibility": null,
            "width": null
          }
        },
        "38ed0c7440f942b5a0f3a8a272638bac": {
          "model_module": "@jupyter-widgets/controls",
          "model_name": "DescriptionStyleModel",
          "model_module_version": "1.5.0",
          "state": {
            "_model_module": "@jupyter-widgets/controls",
            "_model_module_version": "1.5.0",
            "_model_name": "DescriptionStyleModel",
            "_view_count": null,
            "_view_module": "@jupyter-widgets/base",
            "_view_module_version": "1.2.0",
            "_view_name": "StyleView",
            "description_width": ""
          }
        },
        "e39410858059449092cc2b3a825309c1": {
          "model_module": "@jupyter-widgets/controls",
          "model_name": "HBoxModel",
          "model_module_version": "1.5.0",
          "state": {
            "_dom_classes": [],
            "_model_module": "@jupyter-widgets/controls",
            "_model_module_version": "1.5.0",
            "_model_name": "HBoxModel",
            "_view_count": null,
            "_view_module": "@jupyter-widgets/controls",
            "_view_module_version": "1.5.0",
            "_view_name": "HBoxView",
            "box_style": "",
            "children": [
              "IPY_MODEL_97648f35c34c452592248d1ab68d6ac5",
              "IPY_MODEL_05ebf41f32c14362ac65a53f459fd309",
              "IPY_MODEL_534f7c1329114fde9b33fa960e99c20e"
            ],
            "layout": "IPY_MODEL_b98a4dc5259849acb47dc35b0994e75a"
          }
        },
        "97648f35c34c452592248d1ab68d6ac5": {
          "model_module": "@jupyter-widgets/controls",
          "model_name": "HTMLModel",
          "model_module_version": "1.5.0",
          "state": {
            "_dom_classes": [],
            "_model_module": "@jupyter-widgets/controls",
            "_model_module_version": "1.5.0",
            "_model_name": "HTMLModel",
            "_view_count": null,
            "_view_module": "@jupyter-widgets/controls",
            "_view_module_version": "1.5.0",
            "_view_name": "HTMLView",
            "description": "",
            "description_tooltip": null,
            "layout": "IPY_MODEL_bc6efabf4dd14eee87a1d4f7e3b4a8ab",
            "placeholder": "​",
            "style": "IPY_MODEL_0b3efd2348bf4c6d8d23665cf4fa12d1",
            "value": "100%"
          }
        },
        "05ebf41f32c14362ac65a53f459fd309": {
          "model_module": "@jupyter-widgets/controls",
          "model_name": "FloatProgressModel",
          "model_module_version": "1.5.0",
          "state": {
            "_dom_classes": [],
            "_model_module": "@jupyter-widgets/controls",
            "_model_module_version": "1.5.0",
            "_model_name": "FloatProgressModel",
            "_view_count": null,
            "_view_module": "@jupyter-widgets/controls",
            "_view_module_version": "1.5.0",
            "_view_name": "ProgressView",
            "bar_style": "success",
            "description": "",
            "description_tooltip": null,
            "layout": "IPY_MODEL_370d8b6e49dc495b94584edc5f3a957e",
            "max": 50,
            "min": 0,
            "orientation": "horizontal",
            "style": "IPY_MODEL_e2e4d73d25af4122b100b5b1598edd03",
            "value": 50
          }
        },
        "534f7c1329114fde9b33fa960e99c20e": {
          "model_module": "@jupyter-widgets/controls",
          "model_name": "HTMLModel",
          "model_module_version": "1.5.0",
          "state": {
            "_dom_classes": [],
            "_model_module": "@jupyter-widgets/controls",
            "_model_module_version": "1.5.0",
            "_model_name": "HTMLModel",
            "_view_count": null,
            "_view_module": "@jupyter-widgets/controls",
            "_view_module_version": "1.5.0",
            "_view_name": "HTMLView",
            "description": "",
            "description_tooltip": null,
            "layout": "IPY_MODEL_e2b5f91deb9146ebaa303af5d481b562",
            "placeholder": "​",
            "style": "IPY_MODEL_4b6b15943b004e1b8a5acc08cedf2491",
            "value": " 50/50 [01:12&lt;00:00,  1.41s/it, loss=216]"
          }
        },
        "b98a4dc5259849acb47dc35b0994e75a": {
          "model_module": "@jupyter-widgets/base",
          "model_name": "LayoutModel",
          "model_module_version": "1.2.0",
          "state": {
            "_model_module": "@jupyter-widgets/base",
            "_model_module_version": "1.2.0",
            "_model_name": "LayoutModel",
            "_view_count": null,
            "_view_module": "@jupyter-widgets/base",
            "_view_module_version": "1.2.0",
            "_view_name": "LayoutView",
            "align_content": null,
            "align_items": null,
            "align_self": null,
            "border": null,
            "bottom": null,
            "display": null,
            "flex": null,
            "flex_flow": null,
            "grid_area": null,
            "grid_auto_columns": null,
            "grid_auto_flow": null,
            "grid_auto_rows": null,
            "grid_column": null,
            "grid_gap": null,
            "grid_row": null,
            "grid_template_areas": null,
            "grid_template_columns": null,
            "grid_template_rows": null,
            "height": null,
            "justify_content": null,
            "justify_items": null,
            "left": null,
            "margin": null,
            "max_height": null,
            "max_width": null,
            "min_height": null,
            "min_width": null,
            "object_fit": null,
            "object_position": null,
            "order": null,
            "overflow": null,
            "overflow_x": null,
            "overflow_y": null,
            "padding": null,
            "right": null,
            "top": null,
            "visibility": null,
            "width": null
          }
        },
        "bc6efabf4dd14eee87a1d4f7e3b4a8ab": {
          "model_module": "@jupyter-widgets/base",
          "model_name": "LayoutModel",
          "model_module_version": "1.2.0",
          "state": {
            "_model_module": "@jupyter-widgets/base",
            "_model_module_version": "1.2.0",
            "_model_name": "LayoutModel",
            "_view_count": null,
            "_view_module": "@jupyter-widgets/base",
            "_view_module_version": "1.2.0",
            "_view_name": "LayoutView",
            "align_content": null,
            "align_items": null,
            "align_self": null,
            "border": null,
            "bottom": null,
            "display": null,
            "flex": null,
            "flex_flow": null,
            "grid_area": null,
            "grid_auto_columns": null,
            "grid_auto_flow": null,
            "grid_auto_rows": null,
            "grid_column": null,
            "grid_gap": null,
            "grid_row": null,
            "grid_template_areas": null,
            "grid_template_columns": null,
            "grid_template_rows": null,
            "height": null,
            "justify_content": null,
            "justify_items": null,
            "left": null,
            "margin": null,
            "max_height": null,
            "max_width": null,
            "min_height": null,
            "min_width": null,
            "object_fit": null,
            "object_position": null,
            "order": null,
            "overflow": null,
            "overflow_x": null,
            "overflow_y": null,
            "padding": null,
            "right": null,
            "top": null,
            "visibility": null,
            "width": null
          }
        },
        "0b3efd2348bf4c6d8d23665cf4fa12d1": {
          "model_module": "@jupyter-widgets/controls",
          "model_name": "DescriptionStyleModel",
          "model_module_version": "1.5.0",
          "state": {
            "_model_module": "@jupyter-widgets/controls",
            "_model_module_version": "1.5.0",
            "_model_name": "DescriptionStyleModel",
            "_view_count": null,
            "_view_module": "@jupyter-widgets/base",
            "_view_module_version": "1.2.0",
            "_view_name": "StyleView",
            "description_width": ""
          }
        },
        "370d8b6e49dc495b94584edc5f3a957e": {
          "model_module": "@jupyter-widgets/base",
          "model_name": "LayoutModel",
          "model_module_version": "1.2.0",
          "state": {
            "_model_module": "@jupyter-widgets/base",
            "_model_module_version": "1.2.0",
            "_model_name": "LayoutModel",
            "_view_count": null,
            "_view_module": "@jupyter-widgets/base",
            "_view_module_version": "1.2.0",
            "_view_name": "LayoutView",
            "align_content": null,
            "align_items": null,
            "align_self": null,
            "border": null,
            "bottom": null,
            "display": null,
            "flex": null,
            "flex_flow": null,
            "grid_area": null,
            "grid_auto_columns": null,
            "grid_auto_flow": null,
            "grid_auto_rows": null,
            "grid_column": null,
            "grid_gap": null,
            "grid_row": null,
            "grid_template_areas": null,
            "grid_template_columns": null,
            "grid_template_rows": null,
            "height": null,
            "justify_content": null,
            "justify_items": null,
            "left": null,
            "margin": null,
            "max_height": null,
            "max_width": null,
            "min_height": null,
            "min_width": null,
            "object_fit": null,
            "object_position": null,
            "order": null,
            "overflow": null,
            "overflow_x": null,
            "overflow_y": null,
            "padding": null,
            "right": null,
            "top": null,
            "visibility": null,
            "width": null
          }
        },
        "e2e4d73d25af4122b100b5b1598edd03": {
          "model_module": "@jupyter-widgets/controls",
          "model_name": "ProgressStyleModel",
          "model_module_version": "1.5.0",
          "state": {
            "_model_module": "@jupyter-widgets/controls",
            "_model_module_version": "1.5.0",
            "_model_name": "ProgressStyleModel",
            "_view_count": null,
            "_view_module": "@jupyter-widgets/base",
            "_view_module_version": "1.2.0",
            "_view_name": "StyleView",
            "bar_color": null,
            "description_width": ""
          }
        },
        "e2b5f91deb9146ebaa303af5d481b562": {
          "model_module": "@jupyter-widgets/base",
          "model_name": "LayoutModel",
          "model_module_version": "1.2.0",
          "state": {
            "_model_module": "@jupyter-widgets/base",
            "_model_module_version": "1.2.0",
            "_model_name": "LayoutModel",
            "_view_count": null,
            "_view_module": "@jupyter-widgets/base",
            "_view_module_version": "1.2.0",
            "_view_name": "LayoutView",
            "align_content": null,
            "align_items": null,
            "align_self": null,
            "border": null,
            "bottom": null,
            "display": null,
            "flex": null,
            "flex_flow": null,
            "grid_area": null,
            "grid_auto_columns": null,
            "grid_auto_flow": null,
            "grid_auto_rows": null,
            "grid_column": null,
            "grid_gap": null,
            "grid_row": null,
            "grid_template_areas": null,
            "grid_template_columns": null,
            "grid_template_rows": null,
            "height": null,
            "justify_content": null,
            "justify_items": null,
            "left": null,
            "margin": null,
            "max_height": null,
            "max_width": null,
            "min_height": null,
            "min_width": null,
            "object_fit": null,
            "object_position": null,
            "order": null,
            "overflow": null,
            "overflow_x": null,
            "overflow_y": null,
            "padding": null,
            "right": null,
            "top": null,
            "visibility": null,
            "width": null
          }
        },
        "4b6b15943b004e1b8a5acc08cedf2491": {
          "model_module": "@jupyter-widgets/controls",
          "model_name": "DescriptionStyleModel",
          "model_module_version": "1.5.0",
          "state": {
            "_model_module": "@jupyter-widgets/controls",
            "_model_module_version": "1.5.0",
            "_model_name": "DescriptionStyleModel",
            "_view_count": null,
            "_view_module": "@jupyter-widgets/base",
            "_view_module_version": "1.2.0",
            "_view_name": "StyleView",
            "description_width": ""
          }
        },
        "550dbf53620143a3b0d5770056c07158": {
          "model_module": "@jupyter-widgets/controls",
          "model_name": "HBoxModel",
          "model_module_version": "1.5.0",
          "state": {
            "_dom_classes": [],
            "_model_module": "@jupyter-widgets/controls",
            "_model_module_version": "1.5.0",
            "_model_name": "HBoxModel",
            "_view_count": null,
            "_view_module": "@jupyter-widgets/controls",
            "_view_module_version": "1.5.0",
            "_view_name": "HBoxView",
            "box_style": "",
            "children": [
              "IPY_MODEL_8916184295c14f01a0d9b1c4657ad35e",
              "IPY_MODEL_e1dbc638060e4771bd567db9b201ce3e",
              "IPY_MODEL_249e8076108e42019490ecaf064c2d69"
            ],
            "layout": "IPY_MODEL_7922bf85f0dd418286de6450b586a8eb"
          }
        },
        "8916184295c14f01a0d9b1c4657ad35e": {
          "model_module": "@jupyter-widgets/controls",
          "model_name": "HTMLModel",
          "model_module_version": "1.5.0",
          "state": {
            "_dom_classes": [],
            "_model_module": "@jupyter-widgets/controls",
            "_model_module_version": "1.5.0",
            "_model_name": "HTMLModel",
            "_view_count": null,
            "_view_module": "@jupyter-widgets/controls",
            "_view_module_version": "1.5.0",
            "_view_name": "HTMLView",
            "description": "",
            "description_tooltip": null,
            "layout": "IPY_MODEL_e63b1ac496f741b9b3e83ead997ac2fa",
            "placeholder": "​",
            "style": "IPY_MODEL_aa678d54387f4bbab607c3af45abc844",
            "value": "100%"
          }
        },
        "e1dbc638060e4771bd567db9b201ce3e": {
          "model_module": "@jupyter-widgets/controls",
          "model_name": "FloatProgressModel",
          "model_module_version": "1.5.0",
          "state": {
            "_dom_classes": [],
            "_model_module": "@jupyter-widgets/controls",
            "_model_module_version": "1.5.0",
            "_model_name": "FloatProgressModel",
            "_view_count": null,
            "_view_module": "@jupyter-widgets/controls",
            "_view_module_version": "1.5.0",
            "_view_name": "ProgressView",
            "bar_style": "success",
            "description": "",
            "description_tooltip": null,
            "layout": "IPY_MODEL_52862a5071614acc97ade774ce57f374",
            "max": 1,
            "min": 0,
            "orientation": "horizontal",
            "style": "IPY_MODEL_b8209b78232c4fa49dfd0f143ebaf278",
            "value": 1
          }
        },
        "249e8076108e42019490ecaf064c2d69": {
          "model_module": "@jupyter-widgets/controls",
          "model_name": "HTMLModel",
          "model_module_version": "1.5.0",
          "state": {
            "_dom_classes": [],
            "_model_module": "@jupyter-widgets/controls",
            "_model_module_version": "1.5.0",
            "_model_name": "HTMLModel",
            "_view_count": null,
            "_view_module": "@jupyter-widgets/controls",
            "_view_module_version": "1.5.0",
            "_view_name": "HTMLView",
            "description": "",
            "description_tooltip": null,
            "layout": "IPY_MODEL_78405ac3c8284fc7ac65f27b0faedbd2",
            "placeholder": "​",
            "style": "IPY_MODEL_607318e74cb24fc49b0a051a9b33aafe",
            "value": " 1/1 [00:07&lt;00:00,  7.69s/it, loss=0.55]"
          }
        },
        "7922bf85f0dd418286de6450b586a8eb": {
          "model_module": "@jupyter-widgets/base",
          "model_name": "LayoutModel",
          "model_module_version": "1.2.0",
          "state": {
            "_model_module": "@jupyter-widgets/base",
            "_model_module_version": "1.2.0",
            "_model_name": "LayoutModel",
            "_view_count": null,
            "_view_module": "@jupyter-widgets/base",
            "_view_module_version": "1.2.0",
            "_view_name": "LayoutView",
            "align_content": null,
            "align_items": null,
            "align_self": null,
            "border": null,
            "bottom": null,
            "display": null,
            "flex": null,
            "flex_flow": null,
            "grid_area": null,
            "grid_auto_columns": null,
            "grid_auto_flow": null,
            "grid_auto_rows": null,
            "grid_column": null,
            "grid_gap": null,
            "grid_row": null,
            "grid_template_areas": null,
            "grid_template_columns": null,
            "grid_template_rows": null,
            "height": null,
            "justify_content": null,
            "justify_items": null,
            "left": null,
            "margin": null,
            "max_height": null,
            "max_width": null,
            "min_height": null,
            "min_width": null,
            "object_fit": null,
            "object_position": null,
            "order": null,
            "overflow": null,
            "overflow_x": null,
            "overflow_y": null,
            "padding": null,
            "right": null,
            "top": null,
            "visibility": null,
            "width": null
          }
        },
        "e63b1ac496f741b9b3e83ead997ac2fa": {
          "model_module": "@jupyter-widgets/base",
          "model_name": "LayoutModel",
          "model_module_version": "1.2.0",
          "state": {
            "_model_module": "@jupyter-widgets/base",
            "_model_module_version": "1.2.0",
            "_model_name": "LayoutModel",
            "_view_count": null,
            "_view_module": "@jupyter-widgets/base",
            "_view_module_version": "1.2.0",
            "_view_name": "LayoutView",
            "align_content": null,
            "align_items": null,
            "align_self": null,
            "border": null,
            "bottom": null,
            "display": null,
            "flex": null,
            "flex_flow": null,
            "grid_area": null,
            "grid_auto_columns": null,
            "grid_auto_flow": null,
            "grid_auto_rows": null,
            "grid_column": null,
            "grid_gap": null,
            "grid_row": null,
            "grid_template_areas": null,
            "grid_template_columns": null,
            "grid_template_rows": null,
            "height": null,
            "justify_content": null,
            "justify_items": null,
            "left": null,
            "margin": null,
            "max_height": null,
            "max_width": null,
            "min_height": null,
            "min_width": null,
            "object_fit": null,
            "object_position": null,
            "order": null,
            "overflow": null,
            "overflow_x": null,
            "overflow_y": null,
            "padding": null,
            "right": null,
            "top": null,
            "visibility": null,
            "width": null
          }
        },
        "aa678d54387f4bbab607c3af45abc844": {
          "model_module": "@jupyter-widgets/controls",
          "model_name": "DescriptionStyleModel",
          "model_module_version": "1.5.0",
          "state": {
            "_model_module": "@jupyter-widgets/controls",
            "_model_module_version": "1.5.0",
            "_model_name": "DescriptionStyleModel",
            "_view_count": null,
            "_view_module": "@jupyter-widgets/base",
            "_view_module_version": "1.2.0",
            "_view_name": "StyleView",
            "description_width": ""
          }
        },
        "52862a5071614acc97ade774ce57f374": {
          "model_module": "@jupyter-widgets/base",
          "model_name": "LayoutModel",
          "model_module_version": "1.2.0",
          "state": {
            "_model_module": "@jupyter-widgets/base",
            "_model_module_version": "1.2.0",
            "_model_name": "LayoutModel",
            "_view_count": null,
            "_view_module": "@jupyter-widgets/base",
            "_view_module_version": "1.2.0",
            "_view_name": "LayoutView",
            "align_content": null,
            "align_items": null,
            "align_self": null,
            "border": null,
            "bottom": null,
            "display": null,
            "flex": null,
            "flex_flow": null,
            "grid_area": null,
            "grid_auto_columns": null,
            "grid_auto_flow": null,
            "grid_auto_rows": null,
            "grid_column": null,
            "grid_gap": null,
            "grid_row": null,
            "grid_template_areas": null,
            "grid_template_columns": null,
            "grid_template_rows": null,
            "height": null,
            "justify_content": null,
            "justify_items": null,
            "left": null,
            "margin": null,
            "max_height": null,
            "max_width": null,
            "min_height": null,
            "min_width": null,
            "object_fit": null,
            "object_position": null,
            "order": null,
            "overflow": null,
            "overflow_x": null,
            "overflow_y": null,
            "padding": null,
            "right": null,
            "top": null,
            "visibility": null,
            "width": null
          }
        },
        "b8209b78232c4fa49dfd0f143ebaf278": {
          "model_module": "@jupyter-widgets/controls",
          "model_name": "ProgressStyleModel",
          "model_module_version": "1.5.0",
          "state": {
            "_model_module": "@jupyter-widgets/controls",
            "_model_module_version": "1.5.0",
            "_model_name": "ProgressStyleModel",
            "_view_count": null,
            "_view_module": "@jupyter-widgets/base",
            "_view_module_version": "1.2.0",
            "_view_name": "StyleView",
            "bar_color": null,
            "description_width": ""
          }
        },
        "78405ac3c8284fc7ac65f27b0faedbd2": {
          "model_module": "@jupyter-widgets/base",
          "model_name": "LayoutModel",
          "model_module_version": "1.2.0",
          "state": {
            "_model_module": "@jupyter-widgets/base",
            "_model_module_version": "1.2.0",
            "_model_name": "LayoutModel",
            "_view_count": null,
            "_view_module": "@jupyter-widgets/base",
            "_view_module_version": "1.2.0",
            "_view_name": "LayoutView",
            "align_content": null,
            "align_items": null,
            "align_self": null,
            "border": null,
            "bottom": null,
            "display": null,
            "flex": null,
            "flex_flow": null,
            "grid_area": null,
            "grid_auto_columns": null,
            "grid_auto_flow": null,
            "grid_auto_rows": null,
            "grid_column": null,
            "grid_gap": null,
            "grid_row": null,
            "grid_template_areas": null,
            "grid_template_columns": null,
            "grid_template_rows": null,
            "height": null,
            "justify_content": null,
            "justify_items": null,
            "left": null,
            "margin": null,
            "max_height": null,
            "max_width": null,
            "min_height": null,
            "min_width": null,
            "object_fit": null,
            "object_position": null,
            "order": null,
            "overflow": null,
            "overflow_x": null,
            "overflow_y": null,
            "padding": null,
            "right": null,
            "top": null,
            "visibility": null,
            "width": null
          }
        },
        "607318e74cb24fc49b0a051a9b33aafe": {
          "model_module": "@jupyter-widgets/controls",
          "model_name": "DescriptionStyleModel",
          "model_module_version": "1.5.0",
          "state": {
            "_model_module": "@jupyter-widgets/controls",
            "_model_module_version": "1.5.0",
            "_model_name": "DescriptionStyleModel",
            "_view_count": null,
            "_view_module": "@jupyter-widgets/base",
            "_view_module_version": "1.2.0",
            "_view_name": "StyleView",
            "description_width": ""
          }
        },
        "dc857d37d7724778bf531fe970be7eb6": {
          "model_module": "@jupyter-widgets/controls",
          "model_name": "HBoxModel",
          "model_module_version": "1.5.0",
          "state": {
            "_dom_classes": [],
            "_model_module": "@jupyter-widgets/controls",
            "_model_module_version": "1.5.0",
            "_model_name": "HBoxModel",
            "_view_count": null,
            "_view_module": "@jupyter-widgets/controls",
            "_view_module_version": "1.5.0",
            "_view_name": "HBoxView",
            "box_style": "",
            "children": [
              "IPY_MODEL_b227bd964f6c43fa9b697b2409d8ca15",
              "IPY_MODEL_632463ca79784bc58c5973069e73efd1",
              "IPY_MODEL_d132912126f949b99b05a8e2dc773cde"
            ],
            "layout": "IPY_MODEL_af6ccedec6654ee69dffea55c58132e0"
          }
        },
        "b227bd964f6c43fa9b697b2409d8ca15": {
          "model_module": "@jupyter-widgets/controls",
          "model_name": "HTMLModel",
          "model_module_version": "1.5.0",
          "state": {
            "_dom_classes": [],
            "_model_module": "@jupyter-widgets/controls",
            "_model_module_version": "1.5.0",
            "_model_name": "HTMLModel",
            "_view_count": null,
            "_view_module": "@jupyter-widgets/controls",
            "_view_module_version": "1.5.0",
            "_view_name": "HTMLView",
            "description": "",
            "description_tooltip": null,
            "layout": "IPY_MODEL_c6d8e87247924831a35c9443060debc1",
            "placeholder": "​",
            "style": "IPY_MODEL_f40e199302074e75a2b80bc50aaed348",
            "value": "100%"
          }
        },
        "632463ca79784bc58c5973069e73efd1": {
          "model_module": "@jupyter-widgets/controls",
          "model_name": "FloatProgressModel",
          "model_module_version": "1.5.0",
          "state": {
            "_dom_classes": [],
            "_model_module": "@jupyter-widgets/controls",
            "_model_module_version": "1.5.0",
            "_model_name": "FloatProgressModel",
            "_view_count": null,
            "_view_module": "@jupyter-widgets/controls",
            "_view_module_version": "1.5.0",
            "_view_name": "ProgressView",
            "bar_style": "success",
            "description": "",
            "description_tooltip": null,
            "layout": "IPY_MODEL_c01ecfe20dc54f56876d3b039c7246f2",
            "max": 100,
            "min": 0,
            "orientation": "horizontal",
            "style": "IPY_MODEL_f51862f5756648e1a3b1415c943f2b7d",
            "value": 100
          }
        },
        "d132912126f949b99b05a8e2dc773cde": {
          "model_module": "@jupyter-widgets/controls",
          "model_name": "HTMLModel",
          "model_module_version": "1.5.0",
          "state": {
            "_dom_classes": [],
            "_model_module": "@jupyter-widgets/controls",
            "_model_module_version": "1.5.0",
            "_model_name": "HTMLModel",
            "_view_count": null,
            "_view_module": "@jupyter-widgets/controls",
            "_view_module_version": "1.5.0",
            "_view_name": "HTMLView",
            "description": "",
            "description_tooltip": null,
            "layout": "IPY_MODEL_15946be23f51453e85d7f2482c6a00ba",
            "placeholder": "​",
            "style": "IPY_MODEL_b8c20b0ea52a403ca1eda463f8248cbe",
            "value": " 100/100 [03:57&lt;00:00,  2.42s/it, loss=0.898]"
          }
        },
        "af6ccedec6654ee69dffea55c58132e0": {
          "model_module": "@jupyter-widgets/base",
          "model_name": "LayoutModel",
          "model_module_version": "1.2.0",
          "state": {
            "_model_module": "@jupyter-widgets/base",
            "_model_module_version": "1.2.0",
            "_model_name": "LayoutModel",
            "_view_count": null,
            "_view_module": "@jupyter-widgets/base",
            "_view_module_version": "1.2.0",
            "_view_name": "LayoutView",
            "align_content": null,
            "align_items": null,
            "align_self": null,
            "border": null,
            "bottom": null,
            "display": null,
            "flex": null,
            "flex_flow": null,
            "grid_area": null,
            "grid_auto_columns": null,
            "grid_auto_flow": null,
            "grid_auto_rows": null,
            "grid_column": null,
            "grid_gap": null,
            "grid_row": null,
            "grid_template_areas": null,
            "grid_template_columns": null,
            "grid_template_rows": null,
            "height": null,
            "justify_content": null,
            "justify_items": null,
            "left": null,
            "margin": null,
            "max_height": null,
            "max_width": null,
            "min_height": null,
            "min_width": null,
            "object_fit": null,
            "object_position": null,
            "order": null,
            "overflow": null,
            "overflow_x": null,
            "overflow_y": null,
            "padding": null,
            "right": null,
            "top": null,
            "visibility": null,
            "width": null
          }
        },
        "c6d8e87247924831a35c9443060debc1": {
          "model_module": "@jupyter-widgets/base",
          "model_name": "LayoutModel",
          "model_module_version": "1.2.0",
          "state": {
            "_model_module": "@jupyter-widgets/base",
            "_model_module_version": "1.2.0",
            "_model_name": "LayoutModel",
            "_view_count": null,
            "_view_module": "@jupyter-widgets/base",
            "_view_module_version": "1.2.0",
            "_view_name": "LayoutView",
            "align_content": null,
            "align_items": null,
            "align_self": null,
            "border": null,
            "bottom": null,
            "display": null,
            "flex": null,
            "flex_flow": null,
            "grid_area": null,
            "grid_auto_columns": null,
            "grid_auto_flow": null,
            "grid_auto_rows": null,
            "grid_column": null,
            "grid_gap": null,
            "grid_row": null,
            "grid_template_areas": null,
            "grid_template_columns": null,
            "grid_template_rows": null,
            "height": null,
            "justify_content": null,
            "justify_items": null,
            "left": null,
            "margin": null,
            "max_height": null,
            "max_width": null,
            "min_height": null,
            "min_width": null,
            "object_fit": null,
            "object_position": null,
            "order": null,
            "overflow": null,
            "overflow_x": null,
            "overflow_y": null,
            "padding": null,
            "right": null,
            "top": null,
            "visibility": null,
            "width": null
          }
        },
        "f40e199302074e75a2b80bc50aaed348": {
          "model_module": "@jupyter-widgets/controls",
          "model_name": "DescriptionStyleModel",
          "model_module_version": "1.5.0",
          "state": {
            "_model_module": "@jupyter-widgets/controls",
            "_model_module_version": "1.5.0",
            "_model_name": "DescriptionStyleModel",
            "_view_count": null,
            "_view_module": "@jupyter-widgets/base",
            "_view_module_version": "1.2.0",
            "_view_name": "StyleView",
            "description_width": ""
          }
        },
        "c01ecfe20dc54f56876d3b039c7246f2": {
          "model_module": "@jupyter-widgets/base",
          "model_name": "LayoutModel",
          "model_module_version": "1.2.0",
          "state": {
            "_model_module": "@jupyter-widgets/base",
            "_model_module_version": "1.2.0",
            "_model_name": "LayoutModel",
            "_view_count": null,
            "_view_module": "@jupyter-widgets/base",
            "_view_module_version": "1.2.0",
            "_view_name": "LayoutView",
            "align_content": null,
            "align_items": null,
            "align_self": null,
            "border": null,
            "bottom": null,
            "display": null,
            "flex": null,
            "flex_flow": null,
            "grid_area": null,
            "grid_auto_columns": null,
            "grid_auto_flow": null,
            "grid_auto_rows": null,
            "grid_column": null,
            "grid_gap": null,
            "grid_row": null,
            "grid_template_areas": null,
            "grid_template_columns": null,
            "grid_template_rows": null,
            "height": null,
            "justify_content": null,
            "justify_items": null,
            "left": null,
            "margin": null,
            "max_height": null,
            "max_width": null,
            "min_height": null,
            "min_width": null,
            "object_fit": null,
            "object_position": null,
            "order": null,
            "overflow": null,
            "overflow_x": null,
            "overflow_y": null,
            "padding": null,
            "right": null,
            "top": null,
            "visibility": null,
            "width": null
          }
        },
        "f51862f5756648e1a3b1415c943f2b7d": {
          "model_module": "@jupyter-widgets/controls",
          "model_name": "ProgressStyleModel",
          "model_module_version": "1.5.0",
          "state": {
            "_model_module": "@jupyter-widgets/controls",
            "_model_module_version": "1.5.0",
            "_model_name": "ProgressStyleModel",
            "_view_count": null,
            "_view_module": "@jupyter-widgets/base",
            "_view_module_version": "1.2.0",
            "_view_name": "StyleView",
            "bar_color": null,
            "description_width": ""
          }
        },
        "15946be23f51453e85d7f2482c6a00ba": {
          "model_module": "@jupyter-widgets/base",
          "model_name": "LayoutModel",
          "model_module_version": "1.2.0",
          "state": {
            "_model_module": "@jupyter-widgets/base",
            "_model_module_version": "1.2.0",
            "_model_name": "LayoutModel",
            "_view_count": null,
            "_view_module": "@jupyter-widgets/base",
            "_view_module_version": "1.2.0",
            "_view_name": "LayoutView",
            "align_content": null,
            "align_items": null,
            "align_self": null,
            "border": null,
            "bottom": null,
            "display": null,
            "flex": null,
            "flex_flow": null,
            "grid_area": null,
            "grid_auto_columns": null,
            "grid_auto_flow": null,
            "grid_auto_rows": null,
            "grid_column": null,
            "grid_gap": null,
            "grid_row": null,
            "grid_template_areas": null,
            "grid_template_columns": null,
            "grid_template_rows": null,
            "height": null,
            "justify_content": null,
            "justify_items": null,
            "left": null,
            "margin": null,
            "max_height": null,
            "max_width": null,
            "min_height": null,
            "min_width": null,
            "object_fit": null,
            "object_position": null,
            "order": null,
            "overflow": null,
            "overflow_x": null,
            "overflow_y": null,
            "padding": null,
            "right": null,
            "top": null,
            "visibility": null,
            "width": null
          }
        },
        "b8c20b0ea52a403ca1eda463f8248cbe": {
          "model_module": "@jupyter-widgets/controls",
          "model_name": "DescriptionStyleModel",
          "model_module_version": "1.5.0",
          "state": {
            "_model_module": "@jupyter-widgets/controls",
            "_model_module_version": "1.5.0",
            "_model_name": "DescriptionStyleModel",
            "_view_count": null,
            "_view_module": "@jupyter-widgets/base",
            "_view_module_version": "1.2.0",
            "_view_name": "StyleView",
            "description_width": ""
          }
        }
      }
    }
  },
  "nbformat": 4,
  "nbformat_minor": 0
}
