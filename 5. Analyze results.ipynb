{
 "cells": [
  {
   "cell_type": "markdown",
   "id": "8a45af9c",
   "metadata": {},
   "source": [
    "# Libraries"
   ]
  },
  {
   "cell_type": "code",
   "execution_count": null,
   "id": "9dde4aeb",
   "metadata": {},
   "outputs": [],
   "source": [
    "import warnings\n",
    "warnings.simplefilter(action='ignore', category=FutureWarning)\n",
    "import matplotlib.pyplot as plt\n",
    "import random as rd\n",
    "import pandas as pd\n",
    "import numpy as np\n",
    "import pickle as pkl\n",
    "from tqdm import tqdm\n",
    "import os\n",
    "import time\n",
    "from collections import defaultdict\n",
    "from scipy import stats\n",
    "from itertools import permutations, product\n",
    "from numpy.linalg import norm\n",
    "import seaborn as sns\n",
    "sns.set(style=\"darkgrid\")\n",
    "pd.set_option(\"display.precision\", 4)"
   ]
  },
  {
   "cell_type": "markdown",
   "id": "11664b59",
   "metadata": {},
   "source": [
    "# Summary"
   ]
  },
  {
   "cell_type": "markdown",
   "id": "9b58fda4",
   "metadata": {},
   "source": [
    "#### Evaluation strategies\n",
    "We have identified three evaluation strategies:\n",
    "1. For every user in the **train set** rank **all items**. | Book paper, *eva_one*\n",
    "2. For every user in the **test set** rank **only the items this user has rated in the test set**. | Music paper, *eva_two*\n",
    "3. For every user in the **test set** rank **only the items this user has NOT rated in the train set**. | Movie(?) paper, *eva_three*"
   ]
  },
  {
   "cell_type": "markdown",
   "id": "11eedad6",
   "metadata": {},
   "source": [
    "#### Algorithms"
   ]
  },
  {
   "cell_type": "code",
   "execution_count": null,
   "id": "589a470e",
   "metadata": {},
   "outputs": [],
   "source": [
    "algo_names = [\"UserKNN\",\n",
    "              \"ItemKNN\", \n",
    "              \"UserKNN with means\", \n",
    "              \"BPR\",\n",
    "              \"MF\",\n",
    "              \"PMF\",\n",
    "              \"NMF\",\n",
    "              \"WMF\",\n",
    "              \"HPF\",\n",
    "              \"NeuMF\",\n",
    "              \"VAECF\"\n",
    "              ] # in the order that they are in the model list"
   ]
  },
  {
   "cell_type": "markdown",
   "id": "20aa8f40",
   "metadata": {},
   "source": [
    "# Import results"
   ]
  },
  {
   "cell_type": "markdown",
   "id": "9ac9c359",
   "metadata": {},
   "source": [
    "### Additions"
   ]
  },
  {
   "cell_type": "code",
   "execution_count": null,
   "id": "02dc474e",
   "metadata": {},
   "outputs": [],
   "source": [
    "data = [\"movies\", \"music\",\"books\"]\n",
    "evaluation = [\"eva_one\", \"eva_two\", \"eva_three\"]\n",
    "pop_notion = [\"pop_one\", \"pop_two\", \"pop_three\"]"
   ]
  },
  {
   "cell_type": "code",
   "execution_count": null,
   "id": "a0899dcc",
   "metadata": {},
   "outputs": [],
   "source": [
    "aspects = [data, evaluation, pop_notion]"
   ]
  },
  {
   "cell_type": "code",
   "execution_count": null,
   "id": "9429a683",
   "metadata": {},
   "outputs": [],
   "source": [
    "some_aspects = [data, evaluation]"
   ]
  },
  {
   "cell_type": "code",
   "execution_count": null,
   "id": "fa1851e0",
   "metadata": {},
   "outputs": [],
   "source": [
    "results_location = \"data/results/\""
   ]
  },
  {
   "cell_type": "code",
   "execution_count": null,
   "id": "cc76cd6a",
   "metadata": {},
   "outputs": [],
   "source": [
    "# pkl.load(open(results_location+\"df_item_dist_cornac_\"+data[2]+\"_\"+evaluation[0]+\".csv\",\"rb\"))"
   ]
  },
  {
   "cell_type": "code",
   "execution_count": null,
   "id": "b3ebdf15",
   "metadata": {},
   "outputs": [],
   "source": [
    "c = pd.read_csv(results_location+\"df_item_dist_cornac_\"+data[2]+\"_\"+evaluation[0]+\".csv\", index_col=0)"
   ]
  },
  {
   "cell_type": "code",
   "execution_count": null,
   "id": "456669cb",
   "metadata": {},
   "outputs": [],
   "source": [
    "c2 = pd.read_csv(results_location+\"df_item_dist_cornac_\"+data[2]+\"_\"+evaluation[1]+\".csv\", index_col=0)"
   ]
  },
  {
   "cell_type": "code",
   "execution_count": null,
   "id": "7cb86b91",
   "metadata": {},
   "outputs": [],
   "source": [
    "stats.pearsonr(c2[\"count\"], c2.HPF)"
   ]
  },
  {
   "cell_type": "code",
   "execution_count": null,
   "id": "1b683a1d",
   "metadata": {},
   "outputs": [],
   "source": [
    "stats.pearsonr(c2[\"count\"], c2.NMF)"
   ]
  },
  {
   "cell_type": "code",
   "execution_count": null,
   "id": "793145bc",
   "metadata": {},
   "outputs": [],
   "source": [
    "stats.pearsonr(c[\"count\"], c.NMF)"
   ]
  },
  {
   "cell_type": "markdown",
   "id": "c2565a26",
   "metadata": {},
   "source": [
    "### Define aspect combinations"
   ]
  },
  {
   "cell_type": "code",
   "execution_count": null,
   "id": "37428c0f",
   "metadata": {},
   "outputs": [],
   "source": [
    "all_combinations = list(product(*aspects))\n",
    "all_combinations = [x for x in all_combinations if not (\"movies\" in x)&(\"pop_three\" in x)]\n",
    "all_combinations = [x for x in all_combinations if not (\"books\" in x)&(\"pop_three\" in x)]\n",
    "# remove combinations of \"pop_three\" that dont include music.\n",
    "some_combinations = list(product(*some_aspects))"
   ]
  },
  {
   "cell_type": "code",
   "execution_count": null,
   "id": "640c84cd",
   "metadata": {},
   "outputs": [],
   "source": [
    "sum_exists = 0\n",
    "for combi in some_combinations:\n",
    "    path = results_location+\"df_item_dist_cornac_\"+combi[0]+\"_\"+combi[1]+\".csv\"\n",
    "    exists = os.path.exists(path)\n",
    "    print(combi, exists)\n",
    "    sum_exists+=exists\n",
    "print(sum_exists, \"out of\", len(some_combinations))"
   ]
  },
  {
   "cell_type": "code",
   "execution_count": null,
   "id": "8f629bff",
   "metadata": {},
   "outputs": [],
   "source": [
    "sum_exists = 0\n",
    "\n",
    "for combi in all_combinations:\n",
    "    path = results_location+\"low_gap_vals_\"+combi[0]+\"_\"+combi[1]+\"_\"+combi[2]+\".pickle\"\n",
    "    exists = os.path.exists(path)\n",
    "    sum_exists+=exists\n",
    "    print(combi, \"|\",exists)\n",
    "print(sum_exists, \"out of\", len(all_combinations))"
   ]
  },
  {
   "cell_type": "markdown",
   "id": "8e5c1bc0",
   "metadata": {},
   "source": [
    "# First RQ"
   ]
  },
  {
   "cell_type": "markdown",
   "id": "4edabe68",
   "metadata": {},
   "source": [
    "## Calculate correlations"
   ]
  },
  {
   "cell_type": "markdown",
   "id": "b673714c",
   "metadata": {},
   "source": [
    "### Books"
   ]
  },
  {
   "cell_type": "code",
   "execution_count": null,
   "id": "9b28fa0a",
   "metadata": {},
   "outputs": [],
   "source": [
    "books_corr = pd.DataFrame(columns=evaluation, index = algo_names).fillna(0)"
   ]
  },
  {
   "cell_type": "code",
   "execution_count": null,
   "id": "64833b32",
   "metadata": {},
   "outputs": [],
   "source": [
    "for combi in some_combinations:\n",
    "    if \"books\" in combi:\n",
    "        eva_str = combi[1]\n",
    "        df = pd.read_csv(results_location+\"df_item_dist_cornac_\"+combi[0]+\"_\"+eva_str+\".csv\", index_col=0)\n",
    "        profile_pop = df[\"count\"]\n",
    "        for algorithm in algo_names:\n",
    "            rec_pop = df[algorithm]\n",
    "            correlation, _ = stats.pearsonr(profile_pop, rec_pop)\n",
    "            books_corr.loc[algorithm, eva_str] = correlation"
   ]
  },
  {
   "cell_type": "code",
   "execution_count": null,
   "id": "a07f433b",
   "metadata": {
    "scrolled": true
   },
   "outputs": [],
   "source": [
    "books_corr"
   ]
  },
  {
   "cell_type": "code",
   "execution_count": null,
   "id": "803ab348",
   "metadata": {},
   "outputs": [],
   "source": [
    "with open(\"latex_tables/book_correlations.tex\", \"w\") as tf:\n",
    "    tf.write(books_corr.to_latex())"
   ]
  },
  {
   "cell_type": "markdown",
   "id": "d91c7ecb",
   "metadata": {},
   "source": [
    "### Movies"
   ]
  },
  {
   "cell_type": "code",
   "execution_count": null,
   "id": "06000f20",
   "metadata": {},
   "outputs": [],
   "source": [
    "movies_corr = pd.DataFrame(columns= evaluation, index =algo_names).fillna(0)"
   ]
  },
  {
   "cell_type": "code",
   "execution_count": null,
   "id": "b7c4c189",
   "metadata": {},
   "outputs": [],
   "source": [
    "for combi in some_combinations:\n",
    "    if \"movies\" in combi:\n",
    "        eva_str = combi[1]\n",
    "        df = pd.read_csv(results_location+\"df_item_dist_cornac_\"+combi[0]+\"_\"+eva_str+\".csv\", index_col=0)\n",
    "        profile_pop = df[\"count\"]\n",
    "        for algorithm in algo_names:\n",
    "            rec_pop = df[algorithm]\n",
    "            correlation, _ = stats.pearsonr(profile_pop, rec_pop)\n",
    "            movies_corr.loc[algorithm, eva_str] = correlation"
   ]
  },
  {
   "cell_type": "code",
   "execution_count": null,
   "id": "2aa02062",
   "metadata": {
    "scrolled": true
   },
   "outputs": [],
   "source": [
    "movies_corr"
   ]
  },
  {
   "cell_type": "code",
   "execution_count": null,
   "id": "89869312",
   "metadata": {},
   "outputs": [],
   "source": [
    "with open(\"latex_tables/movie_correlations.tex\", \"w\") as tf:\n",
    "    tf.write(movies_corr.to_latex())"
   ]
  },
  {
   "cell_type": "markdown",
   "id": "b3b53c2a",
   "metadata": {},
   "source": [
    "### Music"
   ]
  },
  {
   "cell_type": "code",
   "execution_count": null,
   "id": "fdc9041b",
   "metadata": {},
   "outputs": [],
   "source": [
    "music_corr = pd.DataFrame(columns = evaluation, index=algo_names).fillna(0)"
   ]
  },
  {
   "cell_type": "code",
   "execution_count": null,
   "id": "16952df7",
   "metadata": {},
   "outputs": [],
   "source": [
    "for combi in some_combinations:\n",
    "    if \"music\" in combi:\n",
    "        eva_str = combi[1]\n",
    "        df = pd.read_csv(results_location+\"df_item_dist_cornac_\"+combi[0]+\"_\"+eva_str+\".csv\", index_col=0)\n",
    "        profile_pop = df[\"count\"]\n",
    "        for algorithm in algo_names:\n",
    "            rec_pop = df[algorithm]\n",
    "            correlation, _ = stats.pearsonr(profile_pop, rec_pop)\n",
    "            music_corr.loc[algorithm, eva_str] = correlation"
   ]
  },
  {
   "cell_type": "code",
   "execution_count": null,
   "id": "b565fe88",
   "metadata": {},
   "outputs": [],
   "source": [
    "music_corr"
   ]
  },
  {
   "cell_type": "code",
   "execution_count": null,
   "id": "39e4384a",
   "metadata": {},
   "outputs": [],
   "source": [
    "with open(\"latex_tables/music_correlations.tex\", \"w\") as tf:\n",
    "    tf.write(music_corr.to_latex())"
   ]
  },
  {
   "cell_type": "markdown",
   "id": "df5fa8f4",
   "metadata": {},
   "source": [
    "## Calculate item coverage"
   ]
  },
  {
   "cell_type": "markdown",
   "id": "941ab9cc",
   "metadata": {},
   "source": [
    "### Books"
   ]
  },
  {
   "cell_type": "code",
   "execution_count": null,
   "id": "5b6f7cbc",
   "metadata": {},
   "outputs": [],
   "source": [
    "books_cov = pd.DataFrame(columns=evaluation, index = algo_names).fillna(0)"
   ]
  },
  {
   "cell_type": "code",
   "execution_count": null,
   "id": "7ef530d5",
   "metadata": {},
   "outputs": [],
   "source": [
    "for combi in some_combinations:\n",
    "    if \"books\" in combi:\n",
    "        eva_str = combi[1]\n",
    "        df = pd.read_csv(results_location+\"df_item_dist_cornac_\"+combi[0]+\"_\"+eva_str+\".csv\", index_col=0)\n",
    "        #profile_pop = df[\"count\"]\n",
    "        for algorithm in algo_names:\n",
    "            rec_pop = df[algorithm]\n",
    "            pers = sum(df[algorithm]>0)/len(df)\n",
    "            books_cov.loc[algorithm, eva_str] = pers"
   ]
  },
  {
   "cell_type": "code",
   "execution_count": null,
   "id": "30e86266",
   "metadata": {},
   "outputs": [],
   "source": [
    "books_cov"
   ]
  },
  {
   "cell_type": "code",
   "execution_count": null,
   "id": "89363d64",
   "metadata": {},
   "outputs": [],
   "source": [
    "with open(\"latex_tables/book_coverage.tex\", \"w\") as tf:\n",
    "    tf.write(books_cov.to_latex())"
   ]
  },
  {
   "cell_type": "markdown",
   "id": "08940d8b",
   "metadata": {},
   "source": [
    "### Movies"
   ]
  },
  {
   "cell_type": "code",
   "execution_count": null,
   "id": "90cbc47d",
   "metadata": {},
   "outputs": [],
   "source": [
    "movies_cov = pd.DataFrame(columns=evaluation, index = algo_names).fillna(0)"
   ]
  },
  {
   "cell_type": "code",
   "execution_count": null,
   "id": "7073531e",
   "metadata": {},
   "outputs": [],
   "source": [
    "for combi in some_combinations:\n",
    "    if \"movies\" in combi:\n",
    "        eva_str = combi[1]\n",
    "        df = pd.read_csv(results_location+\"df_item_dist_cornac_\"+combi[0]+\"_\"+eva_str+\".csv\", index_col=0)\n",
    "        #profile_pop = df[\"count\"]\n",
    "        for algorithm in algo_names:\n",
    "            rec_pop = df[algorithm]\n",
    "            pers = sum(df[algorithm]>0)/len(df)\n",
    "            movies_cov.loc[algorithm, eva_str] = pers"
   ]
  },
  {
   "cell_type": "code",
   "execution_count": null,
   "id": "c85ed59a",
   "metadata": {},
   "outputs": [],
   "source": [
    "movies_cov"
   ]
  },
  {
   "cell_type": "code",
   "execution_count": null,
   "id": "ea1948a8",
   "metadata": {},
   "outputs": [],
   "source": [
    "with open(\"latex_tables/movie_coverage.tex\", \"w\") as tf:\n",
    "    tf.write(movies_cov.to_latex())"
   ]
  },
  {
   "cell_type": "markdown",
   "id": "a5eedec0",
   "metadata": {},
   "source": [
    "### Music"
   ]
  },
  {
   "cell_type": "code",
   "execution_count": null,
   "id": "00f257bd",
   "metadata": {},
   "outputs": [],
   "source": [
    "music_cov = pd.DataFrame(columns=evaluation, index = algo_names).fillna(0)"
   ]
  },
  {
   "cell_type": "code",
   "execution_count": null,
   "id": "cb35e99d",
   "metadata": {},
   "outputs": [],
   "source": [
    "for combi in some_combinations:\n",
    "    if \"music\" in combi:\n",
    "        eva_str = combi[1]\n",
    "        df = pd.read_csv(results_location+\"df_item_dist_cornac_\"+combi[0]+\"_\"+eva_str+\".csv\", index_col=0)\n",
    "        #profile_pop = df[\"count\"]\n",
    "        for algorithm in algo_names:\n",
    "            rec_pop = df[algorithm]\n",
    "            pers = sum(df[algorithm]>0)/len(df)\n",
    "            music_cov.loc[algorithm, eva_str] = pers"
   ]
  },
  {
   "cell_type": "code",
   "execution_count": null,
   "id": "bc75541c",
   "metadata": {},
   "outputs": [],
   "source": [
    "music_cov"
   ]
  },
  {
   "cell_type": "code",
   "execution_count": null,
   "id": "ae708274",
   "metadata": {},
   "outputs": [],
   "source": [
    "with open(\"latex_tables/music_coverage.tex\", \"w\") as tf:\n",
    "    tf.write(music_cov.to_latex())"
   ]
  },
  {
   "cell_type": "markdown",
   "id": "5b23059b",
   "metadata": {},
   "source": [
    "## Combine tables"
   ]
  },
  {
   "cell_type": "code",
   "execution_count": null,
   "id": "2d5e28cb",
   "metadata": {},
   "outputs": [],
   "source": [
    "movies_corr.columns = [\"eva_one_corr\", \"eva_two_corr\", \"eva_three_corr\"]\n",
    "music_corr.columns = [\"eva_one_corr\", \"eva_two_corr\", \"eva_three_corr\"]\n",
    "books_corr.columns = [\"eva_one_corr\", \"eva_two_corr\", \"eva_three_corr\"]"
   ]
  },
  {
   "cell_type": "code",
   "execution_count": null,
   "id": "3edd3bcb",
   "metadata": {},
   "outputs": [],
   "source": [
    "movies_cov.columns = [\"eva_one_cov\", \"eva_two_cov\", \"eva_three_cov\"]\n",
    "music_cov.columns = [\"eva_one_cov\", \"eva_two_cov\", \"eva_three_cov\"]\n",
    "books_cov.columns = [\"eva_one_cov\", \"eva_two_cov\", \"eva_three_cov\"]"
   ]
  },
  {
   "cell_type": "code",
   "execution_count": null,
   "id": "f7cd6bd7",
   "metadata": {},
   "outputs": [],
   "source": [
    "combined_movies = pd.concat([movies_corr, movies_cov], axis=1)[[\"eva_one_corr\",\"eva_one_cov\",\"eva_two_corr\", \"eva_two_cov\", \n",
    "                                             \"eva_three_corr\", \"eva_three_cov\"]]\n",
    "combined_music = pd.concat([music_corr, music_cov], axis=1)[[\"eva_one_corr\",\"eva_one_cov\",\"eva_two_corr\", \"eva_two_cov\", \n",
    "                                             \"eva_three_corr\", \"eva_three_cov\"]]\n",
    "combined_books = pd.concat([books_corr, books_cov], axis=1)[[\"eva_one_corr\",\"eva_one_cov\",\"eva_two_corr\", \"eva_two_cov\", \n",
    "                                             \"eva_three_corr\", \"eva_three_cov\"]]"
   ]
  },
  {
   "cell_type": "code",
   "execution_count": null,
   "id": "91b12bc6",
   "metadata": {},
   "outputs": [],
   "source": [
    "combined_movies = combined_movies.append(pd.Series(combined_movies.mean(), name=\"mean\"))\n",
    "combined_music = combined_music.append(pd.Series(combined_music.mean(), name=\"mean\"))\n",
    "combined_books = combined_books.append(pd.Series(combined_books.mean(), name=\"mean\"))"
   ]
  },
  {
   "cell_type": "code",
   "execution_count": null,
   "id": "e87abfc6",
   "metadata": {},
   "outputs": [],
   "source": [
    "with open(\"latex_tables/movies_combined_update.tex\", \"w\") as tf:\n",
    "    tf.write(combined_movies.to_latex())\n",
    "with open(\"latex_tables/music_combined_update.tex\", \"w\") as tf:\n",
    "    tf.write(combined_music.to_latex())\n",
    "with open(\"latex_tables/books_combined_update.tex\", \"w\") as tf:\n",
    "    tf.write(combined_books.to_latex())"
   ]
  },
  {
   "cell_type": "code",
   "execution_count": null,
   "id": "3083d599",
   "metadata": {},
   "outputs": [],
   "source": [
    "combined_movies"
   ]
  },
  {
   "cell_type": "markdown",
   "id": "b8ef5462",
   "metadata": {},
   "source": [
    "## Plot per algorithm"
   ]
  },
  {
   "cell_type": "code",
   "execution_count": null,
   "id": "ae59bfaf",
   "metadata": {},
   "outputs": [],
   "source": [
    "data_dict = {\"movies\":\"MovieLens1M\", \"music\":\"LastFM\", \"books\":\"Book-Crossing\"}\n",
    "eva_dict = {\"eva_one\":\"Mod.TrainItems\", \"eva_two\":\"UserTest\", \"eva_three\":\"TrainItems\"}"
   ]
  },
  {
   "cell_type": "code",
   "execution_count": null,
   "id": "ac025cf2",
   "metadata": {},
   "outputs": [],
   "source": [
    "import matplotlib\n",
    "\n",
    "matplotlib.rc('xtick', labelsize=20) \n",
    "matplotlib.rc('ytick', labelsize=20)"
   ]
  },
  {
   "cell_type": "code",
   "execution_count": null,
   "id": "711a9df6",
   "metadata": {},
   "outputs": [],
   "source": [
    "len(algo_names)"
   ]
  },
  {
   "cell_type": "code",
   "execution_count": null,
   "id": "074bb164",
   "metadata": {},
   "outputs": [],
   "source": [
    "for algo in algo_names:\n",
    "    fig, ax = plt.subplots(nrows=3, ncols=3)\n",
    "    fig.set_figheight(20)\n",
    "    fig.set_figwidth(20)\n",
    "\n",
    "    fig.text(0.5, 0.04, 'Item popularity in profile', ha='center', fontsize='30')\n",
    "    fig.text(0.04, 0.5, 'Recommendation frequency', va='center', rotation='vertical', fontsize='30')\n",
    "    axes = ax.flatten()\n",
    "    i=0\n",
    "    for combi in some_combinations:\n",
    "        data = combi[0]\n",
    "        eva_str = combi[1]\n",
    "        df = pd.read_csv(results_location+\"df_item_dist_cornac_\"+data+\"_\"+eva_str+\".csv\", index_col=0)\n",
    "        profile_pop = df[\"count\"]\n",
    "        alg_pop = df[algo]\n",
    "        correlation, _ = stats.pearsonr(profile_pop, alg_pop)\n",
    "        axes[i].plot(profile_pop, alg_pop, \"o\")\n",
    "        axes[i].set_title(data_dict[data] + \", \"+eva_dict[eva_str], fontsize='25')\n",
    "        i+=1\n",
    "    plt.savefig(\"graphs/\"+algo+\"_results.png\")\n",
    "    plt.show()"
   ]
  },
  {
   "cell_type": "markdown",
   "id": "864f3304",
   "metadata": {},
   "source": [
    "# Second RQ"
   ]
  },
  {
   "cell_type": "code",
   "execution_count": null,
   "id": "e16516ed",
   "metadata": {},
   "outputs": [],
   "source": [
    "combi = all_combinations[0]\n",
    "path = results_location+\"low_gap_vals_\"+combi[0]+\"_\"+combi[1]+\"_\"+combi[2]+\".pickle\"\n"
   ]
  },
  {
   "cell_type": "code",
   "execution_count": null,
   "id": "428d68f1",
   "metadata": {},
   "outputs": [],
   "source": [
    "pop_gaps = []\n",
    "for p in pop_notion:\n",
    "    for v in [\"low\",\"med\",\"high\"]:\n",
    "        pop_gaps.append(p+\"_\"+v)"
   ]
  },
  {
   "cell_type": "code",
   "execution_count": null,
   "id": "4fa743c5",
   "metadata": {
    "scrolled": true
   },
   "outputs": [],
   "source": [
    "pop_gaps"
   ]
  },
  {
   "cell_type": "markdown",
   "id": "570b1549",
   "metadata": {},
   "source": [
    "### Music"
   ]
  },
  {
   "cell_type": "code",
   "execution_count": null,
   "id": "d239e031",
   "metadata": {},
   "outputs": [],
   "source": [
    "music_GAPs_eva1 = pd.DataFrame(columns=pop_gaps, index = algo_names).fillna(0)\n",
    "music_GAPs_eva2 = pd.DataFrame(columns=pop_gaps, index = algo_names).fillna(0)\n",
    "music_GAPs_eva3 = pd.DataFrame(columns=pop_gaps, index = algo_names).fillna(0)"
   ]
  },
  {
   "cell_type": "code",
   "execution_count": null,
   "id": "a93b3856",
   "metadata": {},
   "outputs": [],
   "source": [
    "for combi in all_combinations:\n",
    "    if \"music\" in combi:\n",
    "        eva_str = combi[1]\n",
    "        pop_n = combi[2]\n",
    "        path_low = results_location+\"low_gap_vals_music_\"+eva_str+\"_\"+pop_n+\".pickle\"\n",
    "        path_med = results_location+\"med_gap_vals_music_\"+eva_str+\"_\"+pop_n+\".pickle\"\n",
    "        path_high = results_location+\"high_gap_vals_music_\"+eva_str+\"_\"+pop_n+\".pickle\"\n",
    "        low_gap_vals = pd.DataFrame([pkl.load(open(path_low,\"rb\") )[2:]], columns=algo_names)\n",
    "        med_gap_vals = pd.DataFrame([pkl.load(open(path_med,\"rb\") )[2:]], columns=algo_names)\n",
    "        high_gap_vals = pd.DataFrame([pkl.load(open(path_high,\"rb\") )[2:]], columns=algo_names)\n",
    "        \n",
    "        if eva_str==\"eva_one\":\n",
    "            for algorithm in algo_names:\n",
    "                music_GAPs_eva1.at[algorithm, pop_n+\"_low\"] = low_gap_vals[algorithm][0]\n",
    "                music_GAPs_eva1.at[algorithm, pop_n+\"_med\"] = med_gap_vals[algorithm][0]\n",
    "                music_GAPs_eva1.at[algorithm, pop_n+\"_high\"] = high_gap_vals[algorithm][0]\n",
    "                        \n",
    "        elif eva_str==\"eva_two\":\n",
    "            for algorithm in algo_names:\n",
    "                music_GAPs_eva2.at[algorithm, pop_n+\"_low\"] = low_gap_vals[algorithm][0]\n",
    "                music_GAPs_eva2.at[algorithm, pop_n+\"_med\"] = med_gap_vals[algorithm][0]\n",
    "                music_GAPs_eva2.at[algorithm, pop_n+\"_high\"] = high_gap_vals[algorithm][0]\n",
    "            \n",
    "        else:\n",
    "            for algorithm in algo_names:\n",
    "                music_GAPs_eva3.at[algorithm, pop_n+\"_low\"] = low_gap_vals[algorithm][0]\n",
    "                music_GAPs_eva3.at[algorithm, pop_n+\"_med\"] = med_gap_vals[algorithm][0]\n",
    "                music_GAPs_eva3.at[algorithm, pop_n+\"_high\"] = high_gap_vals[algorithm][0]"
   ]
  },
  {
   "cell_type": "code",
   "execution_count": null,
   "id": "8fae7490",
   "metadata": {},
   "outputs": [],
   "source": [
    "np.round(music_GAPs_eva1,1)"
   ]
  },
  {
   "cell_type": "code",
   "execution_count": null,
   "id": "8e15751a",
   "metadata": {},
   "outputs": [],
   "source": [
    "music_GAPs_eva1.columns =[\"eva_one_\"+x for x in music_GAPs_eva1.columns]\n",
    "music_GAPs_eva2.columns =[\"eva_two_\"+x for x in music_GAPs_eva2.columns]\n",
    "music_GAPs_eva3.columns =[\"eva_three_\"+x for x in music_GAPs_eva3.columns]"
   ]
  },
  {
   "cell_type": "code",
   "execution_count": null,
   "id": "357c3b04",
   "metadata": {},
   "outputs": [],
   "source": [
    "combined_music_GAPs = pd.concat([music_GAPs_eva1, music_GAPs_eva2, music_GAPs_eva3], axis=1)"
   ]
  },
  {
   "cell_type": "code",
   "execution_count": null,
   "id": "67163df5",
   "metadata": {},
   "outputs": [],
   "source": [
    "combined_music_GAPs = np.round(combined_music_GAPs,1)"
   ]
  },
  {
   "cell_type": "code",
   "execution_count": null,
   "id": "10dd9b96",
   "metadata": {},
   "outputs": [],
   "source": [
    "with open(\"latex_tables/music_GAPs_combined.tex\", \"w\") as tf:\n",
    "    tf.write(combined_music_GAPs.to_latex())"
   ]
  },
  {
   "cell_type": "code",
   "execution_count": null,
   "id": "78a208b1",
   "metadata": {},
   "outputs": [],
   "source": [
    "with open(\"latex_tables/music_GAPs_eva1.tex\", \"w\") as tf:\n",
    "    tf.write(np.round(music_GAPs_eva1,1).to_latex())\n",
    "with open(\"latex_tables/music_GAPs_eva2.tex\", \"w\") as tf:\n",
    "    tf.write(np.round(music_GAPs_eva2,1).to_latex())\n",
    "with open(\"latex_tables/music_GAPs_eva3.tex\", \"w\") as tf:\n",
    "    tf.write(np.round(music_GAPs_eva3,1).to_latex())"
   ]
  },
  {
   "cell_type": "markdown",
   "id": "01dd2b10",
   "metadata": {},
   "source": [
    "### Books"
   ]
  },
  {
   "cell_type": "code",
   "execution_count": null,
   "id": "e24960b4",
   "metadata": {},
   "outputs": [],
   "source": [
    "books_GAPs_eva1 = pd.DataFrame(columns=pop_gaps[:-3], index = algo_names).fillna(0)\n",
    "books_GAPs_eva2 = pd.DataFrame(columns=pop_gaps[:-3], index = algo_names).fillna(0)\n",
    "books_GAPs_eva3 = pd.DataFrame(columns=pop_gaps[:-3], index = algo_names).fillna(0)\n",
    "for combi in all_combinations:\n",
    "    if \"books\" in combi:\n",
    "        eva_str = combi[1]\n",
    "        pop_n = combi[2]\n",
    "        path_low = results_location+\"low_gap_vals_books_\"+eva_str+\"_\"+pop_n+\".pickle\"\n",
    "        path_med = results_location+\"med_gap_vals_books_\"+eva_str+\"_\"+pop_n+\".pickle\"\n",
    "        path_high = results_location+\"high_gap_vals_books_\"+eva_str+\"_\"+pop_n+\".pickle\"\n",
    "        low_gap_vals = pd.DataFrame([pkl.load(open(path_low,\"rb\") )[2:]], columns=algo_names)\n",
    "        med_gap_vals = pd.DataFrame([pkl.load(open(path_med,\"rb\") )[2:]], columns=algo_names)\n",
    "        high_gap_vals = pd.DataFrame([pkl.load(open(path_high,\"rb\") )[2:]], columns=algo_names)\n",
    "        \n",
    "        if eva_str==\"eva_one\":\n",
    "            for algorithm in algo_names:\n",
    "                books_GAPs_eva1.at[algorithm, pop_n+\"_low\"] = low_gap_vals[algorithm][0]\n",
    "                books_GAPs_eva1.at[algorithm, pop_n+\"_med\"] = med_gap_vals[algorithm][0]\n",
    "                books_GAPs_eva1.at[algorithm, pop_n+\"_high\"] = high_gap_vals[algorithm][0]\n",
    "                        \n",
    "        elif eva_str==\"eva_two\":\n",
    "            for algorithm in algo_names:\n",
    "                books_GAPs_eva2.at[algorithm, pop_n+\"_low\"] = low_gap_vals[algorithm][0]\n",
    "                books_GAPs_eva2.at[algorithm, pop_n+\"_med\"] = med_gap_vals[algorithm][0]\n",
    "                books_GAPs_eva2.at[algorithm, pop_n+\"_high\"] = high_gap_vals[algorithm][0]\n",
    "            \n",
    "        else:\n",
    "            for algorithm in algo_names:\n",
    "                books_GAPs_eva3.at[algorithm, pop_n+\"_low\"] = low_gap_vals[algorithm][0]\n",
    "                books_GAPs_eva3.at[algorithm, pop_n+\"_med\"] = med_gap_vals[algorithm][0]\n",
    "                books_GAPs_eva3.at[algorithm, pop_n+\"_high\"] = high_gap_vals[algorithm][0]"
   ]
  },
  {
   "cell_type": "code",
   "execution_count": null,
   "id": "418fe0e5",
   "metadata": {},
   "outputs": [],
   "source": [
    "books_GAPs_eva1"
   ]
  },
  {
   "cell_type": "code",
   "execution_count": null,
   "id": "180fb9f2",
   "metadata": {},
   "outputs": [],
   "source": [
    "books_GAPs_eva1.columns =[\"eva_one_\"+x for x in books_GAPs_eva1.columns]\n",
    "books_GAPs_eva2.columns =[\"eva_two_\"+x for x in books_GAPs_eva2.columns]\n",
    "books_GAPs_eva3.columns =[\"eva_three_\"+x for x in books_GAPs_eva3.columns]"
   ]
  },
  {
   "cell_type": "code",
   "execution_count": null,
   "id": "dd00ca4d",
   "metadata": {},
   "outputs": [],
   "source": [
    "books_GAPs_eva1"
   ]
  },
  {
   "cell_type": "code",
   "execution_count": null,
   "id": "effedc55",
   "metadata": {},
   "outputs": [],
   "source": [
    "with open(\"latex_tables/books_GAPs_eva1.tex\", \"w\") as tf:\n",
    "    tf.write(np.round(books_GAPs_eva1,1).to_latex())\n",
    "with open(\"latex_tables/books_GAPs_eva2.tex\", \"w\") as tf:\n",
    "    tf.write(np.round(books_GAPs_eva2,1).to_latex())\n",
    "with open(\"latex_tables/books_GAPs_eva3.tex\", \"w\") as tf:\n",
    "    tf.write(np.round(books_GAPs_eva3,1).to_latex())"
   ]
  },
  {
   "cell_type": "markdown",
   "id": "224473a7",
   "metadata": {},
   "source": [
    "### Movies"
   ]
  },
  {
   "cell_type": "code",
   "execution_count": null,
   "id": "f8449f01",
   "metadata": {},
   "outputs": [],
   "source": [
    "movies_GAPs_eva1 = pd.DataFrame(columns=pop_gaps[:-3], index = algo_names).fillna(0)\n",
    "movies_GAPs_eva2 = pd.DataFrame(columns=pop_gaps[:-3], index = algo_names).fillna(0)\n",
    "movies_GAPs_eva3 = pd.DataFrame(columns=pop_gaps[:-3], index = algo_names).fillna(0)\n",
    "for combi in all_combinations:\n",
    "    if \"movies\" in combi:\n",
    "        eva_str = combi[1]\n",
    "        pop_n = combi[2]\n",
    "        path_low = results_location+\"low_gap_vals_movies_\"+eva_str+\"_\"+pop_n+\".pickle\"\n",
    "        path_med = results_location+\"med_gap_vals_movies_\"+eva_str+\"_\"+pop_n+\".pickle\"\n",
    "        path_high = results_location+\"high_gap_vals_movies_\"+eva_str+\"_\"+pop_n+\".pickle\"\n",
    "        low_gap_vals = pd.DataFrame([pkl.load(open(path_low,\"rb\") )[2:]], columns=algo_names)\n",
    "        med_gap_vals = pd.DataFrame([pkl.load(open(path_med,\"rb\") )[2:]], columns=algo_names)\n",
    "        high_gap_vals = pd.DataFrame([pkl.load(open(path_high,\"rb\") )[2:]], columns=algo_names)\n",
    "        \n",
    "        if eva_str==\"eva_one\":\n",
    "            for algorithm in algo_names:\n",
    "                movies_GAPs_eva1.at[algorithm, pop_n+\"_low\"] = low_gap_vals[algorithm][0]\n",
    "                movies_GAPs_eva1.at[algorithm, pop_n+\"_med\"] = med_gap_vals[algorithm][0]\n",
    "                movies_GAPs_eva1.at[algorithm, pop_n+\"_high\"] = high_gap_vals[algorithm][0]\n",
    "                        \n",
    "        elif eva_str==\"eva_two\":\n",
    "            for algorithm in algo_names:\n",
    "                movies_GAPs_eva2.at[algorithm, pop_n+\"_low\"] = low_gap_vals[algorithm][0]\n",
    "                movies_GAPs_eva2.at[algorithm, pop_n+\"_med\"] = med_gap_vals[algorithm][0]\n",
    "                movies_GAPs_eva2.at[algorithm, pop_n+\"_high\"] = high_gap_vals[algorithm][0]\n",
    "            \n",
    "        else:\n",
    "            for algorithm in algo_names:\n",
    "                movies_GAPs_eva3.at[algorithm, pop_n+\"_low\"] = low_gap_vals[algorithm][0]\n",
    "                movies_GAPs_eva3.at[algorithm, pop_n+\"_med\"] = med_gap_vals[algorithm][0]\n",
    "                movies_GAPs_eva3.at[algorithm, pop_n+\"_high\"] = high_gap_vals[algorithm][0]"
   ]
  },
  {
   "cell_type": "code",
   "execution_count": null,
   "id": "ca8e0eae",
   "metadata": {},
   "outputs": [],
   "source": [
    "movies_GAPs_eva1.columns =[\"eva_one_\"+x for x in movies_GAPs_eva1.columns]\n",
    "movies_GAPs_eva2.columns =[\"eva_two_\"+x for x in movies_GAPs_eva2.columns]\n",
    "movies_GAPs_eva3.columns =[\"eva_three_\"+x for x in movies_GAPs_eva3.columns]"
   ]
  },
  {
   "cell_type": "code",
   "execution_count": null,
   "id": "1a229c0a",
   "metadata": {},
   "outputs": [],
   "source": [
    "movies_GAPs_eva3"
   ]
  },
  {
   "cell_type": "code",
   "execution_count": null,
   "id": "e881f2d5",
   "metadata": {},
   "outputs": [],
   "source": [
    "with open(\"latex_tables/movies_GAPs_eva1.tex\", \"w\") as tf:\n",
    "    tf.write(np.round(movies_GAPs_eva1,1).to_latex())\n",
    "with open(\"latex_tables/movies_GAPs_eva2.tex\", \"w\") as tf:\n",
    "    tf.write(np.round(movies_GAPs_eva2,1).to_latex())\n",
    "with open(\"latex_tables/movies_GAPs_eva3.tex\", \"w\") as tf:\n",
    "    tf.write(np.round(movies_GAPs_eva3,1).to_latex())"
   ]
  }
 ],
 "metadata": {
  "kernelspec": {
   "display_name": "Python 3 (ipykernel)",
   "language": "python",
   "name": "python3"
  },
  "language_info": {
   "codemirror_mode": {
    "name": "ipython",
    "version": 3
   },
   "file_extension": ".py",
   "mimetype": "text/x-python",
   "name": "python",
   "nbconvert_exporter": "python",
   "pygments_lexer": "ipython3",
   "version": "3.8.18"
  }
 },
 "nbformat": 4,
 "nbformat_minor": 5
}
