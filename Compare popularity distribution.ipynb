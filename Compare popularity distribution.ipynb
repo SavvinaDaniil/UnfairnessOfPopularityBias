{
 "cells": [
  {
   "cell_type": "code",
   "execution_count": 20,
   "id": "18da66ca",
   "metadata": {},
   "outputs": [],
   "source": [
    "import warnings\n",
    "warnings.simplefilter(action='ignore', category=FutureWarning)\n",
    "import os\n",
    "import matplotlib.pyplot as plt\n",
    "import random as rd\n",
    "import pandas as pd\n",
    "import numpy as np\n",
    "from tqdm import tqdm\n",
    "import time\n",
    "from analyze_data import calculate_gini_coefficient\n",
    "from plots import plot_Lorenz, plot_data_distribution\n",
    "\n",
    "from collections import defaultdict\n",
    "from scipy import stats\n",
    "from numpy.linalg import norm\n",
    "import seaborn as sns\n",
    "from sklearn.preprocessing import MinMaxScaler\n",
    "# set plot style: grey grid in the background:\n",
    "sns.set(style=\"darkgrid\")\n",
    "pd.set_option(\"display.precision\", 8)"
   ]
  },
  {
   "cell_type": "markdown",
   "id": "3a7710e6",
   "metadata": {},
   "source": [
    "# Set hyperparameters"
   ]
  },
  {
   "cell_type": "code",
   "execution_count": 2,
   "id": "a1544001",
   "metadata": {},
   "outputs": [],
   "source": [
    "my_seed = 0\n",
    "predict_col = \"rating\"\n",
    "top_fraction = 0.2\n",
    "\n",
    "rd.seed(my_seed) #seed for random functions\n",
    "np.random.seed(my_seed) #seed for all numpy stuff\n"
   ]
  },
  {
   "cell_type": "markdown",
   "id": "5ab0e4d7",
   "metadata": {},
   "source": [
    "# Functions"
   ]
  },
  {
   "cell_type": "code",
   "execution_count": 3,
   "id": "6091512e",
   "metadata": {},
   "outputs": [],
   "source": [
    "def users_and_items(df_events, user_col, item_col):\n",
    "    print('No. user events: ' + str(len(df_events)))\n",
    "    print('No. items: ' + str(len(df_events[item_col].unique())))\n",
    "    print('No. users: ' + str(len(df_events[user_col].unique())))\n",
    "    print(\"\\n\")\n",
    "def user_distribution(df_events, user_col, item_col):\n",
    "    user_dist = df_events[user_col].value_counts() \n",
    "    num_users = len(user_dist)\n",
    "    print('Mean '+item_col+'s per user: ' + str(np.round(user_dist.mean(),1))) \n",
    "    print('Min '+item_col+'s per user: ' + str(np.round(user_dist.min(),1))) \n",
    "    print('Max '+item_col+'s per user: ' + str(np.round(user_dist.max(),1)))\n",
    "    print(\"\\n\")\n",
    "    return user_dist, num_users\n",
    "def item_distribution(df_events, user_col, item_col):\n",
    "    item_dist = df_events[item_col].value_counts()\n",
    "    num_items = len(item_dist)\n",
    "    print('Mean users per '+item_col+': ' + str(np.round(item_dist.mean(),1))) \n",
    "    print('Min users per '+item_col+': ' + str(np.round(item_dist.min(),1))) \n",
    "    print('Max users per '+item_col+': ' + str(np.round(item_dist.max(),1))) \n",
    "    print(\"\\n\")\n",
    "    return item_dist, num_items"
   ]
  },
  {
   "cell_type": "markdown",
   "id": "557ee8ca",
   "metadata": {},
   "source": [
    "# Read & process data"
   ]
  },
  {
   "cell_type": "markdown",
   "id": "03a846a3",
   "metadata": {},
   "source": [
    "### Movie data"
   ]
  },
  {
   "cell_type": "code",
   "execution_count": 4,
   "id": "4d7fa851",
   "metadata": {
    "scrolled": true
   },
   "outputs": [
    {
     "name": "stdout",
     "output_type": "stream",
     "text": [
      "No. of user events: 1000209\n"
     ]
    }
   ],
   "source": [
    "user_events_file = 'https://raw.githubusercontent.com/SavvinaDaniil/UnfairnessOfPopularityBias/main/data/ratings_movies.dat'\n",
    "\n",
    "# read user events\n",
    "cols = ['user', 'movie', 'rating', 'timestamp']\n",
    "df_events_movies = pd.read_table(user_events_file, sep = \"::\", engine=\"python\", names=cols)\n",
    "item_col = \"movie\"\n",
    "print('No. of user events: ' + str(len(df_events_movies)))"
   ]
  },
  {
   "cell_type": "code",
   "execution_count": 5,
   "id": "ec3f92a0",
   "metadata": {},
   "outputs": [
    {
     "name": "stdout",
     "output_type": "stream",
     "text": [
      "No. user events: 1000209\n",
      "No. items: 3706\n",
      "No. users: 6040\n",
      "\n",
      "\n",
      "Mean movies per user: 165.6\n",
      "Min movies per user: 20\n",
      "Max movies per user: 2314\n",
      "\n",
      "\n",
      "Mean users per movie: 269.9\n",
      "Min users per movie: 1\n",
      "Max users per movie: 3428\n",
      "\n",
      "\n"
     ]
    }
   ],
   "source": [
    "users_and_items(df_events_movies, \"user\", item_col)\n",
    "user_dist_movies, num_users_movies = user_distribution(df_events_movies, \"user\", item_col)\n",
    "item_dist_movies, num_items_movies = item_distribution(df_events_movies, \"user\", item_col)"
   ]
  },
  {
   "cell_type": "code",
   "execution_count": 6,
   "id": "6651330c",
   "metadata": {},
   "outputs": [
    {
     "name": "stdout",
     "output_type": "stream",
     "text": [
      "No. top movies: 741\n"
     ]
    }
   ],
   "source": [
    "num_top_movies = int(top_fraction * num_items_movies)\n",
    "top_item_dist_movies = item_dist_movies[:num_top_movies]\n",
    "print('No. top movies: ' + str(len(top_item_dist_movies)))"
   ]
  },
  {
   "cell_type": "markdown",
   "id": "707448f0",
   "metadata": {},
   "source": [
    "### Music data"
   ]
  },
  {
   "cell_type": "code",
   "execution_count": 7,
   "id": "43b55b08",
   "metadata": {},
   "outputs": [
    {
     "name": "stdout",
     "output_type": "stream",
     "text": [
      "No. of user events: 28718087\n"
     ]
    }
   ],
   "source": [
    "user_events_file = 'https://media.githubusercontent.com/media/SavvinaDaniil/UnfairnessOfPopularityBias/main/data/ratings_music.txt'\n",
    "\n",
    "# read user events\n",
    "item_col = \"artist\"\n",
    "cols = ['user',item_col, 'album', 'track', 'timestamp']\n",
    "df_events_music = pd.read_csv(user_events_file, sep = '\\t', names = cols)\n",
    "\n",
    "print('No. of user events: ' + str(len(df_events_music)))"
   ]
  },
  {
   "cell_type": "code",
   "execution_count": 8,
   "id": "a1f26a82",
   "metadata": {},
   "outputs": [
    {
     "name": "stdout",
     "output_type": "stream",
     "text": [
      "No. user-item interactions: 1755361\n"
     ]
    }
   ],
   "source": [
    "# create user-item matrix\n",
    "df_events_music = df_events_music.groupby(['user', item_col]).size().reset_index(name='rating')\n",
    "print('No. user-item interactions: ' + str(len(df_events_music)))"
   ]
  },
  {
   "cell_type": "code",
   "execution_count": 9,
   "id": "b7279457",
   "metadata": {},
   "outputs": [],
   "source": [
    "df_events_music = df_events_music.astype(\"int\")"
   ]
  },
  {
   "cell_type": "code",
   "execution_count": 10,
   "id": "d716581d",
   "metadata": {},
   "outputs": [
    {
     "name": "stdout",
     "output_type": "stream",
     "text": [
      "No. user events: 1755361\n",
      "No. items: 352805\n",
      "No. users: 3000\n",
      "\n",
      "\n",
      "Mean artists per user: 585.1\n",
      "Min artists per user: 18\n",
      "Max artists per user: 4011\n",
      "\n",
      "\n",
      "Mean users per artist: 5.0\n",
      "Min users per artist: 1\n",
      "Max users per artist: 1389\n",
      "\n",
      "\n"
     ]
    }
   ],
   "source": [
    "users_and_items(df_events_music, \"user\", item_col)\n",
    "user_dist_music, num_users_music = user_distribution(df_events_music, \"user\", item_col)\n",
    "item_dist_music, num_items_music = item_distribution(df_events_music, \"user\", item_col)"
   ]
  },
  {
   "cell_type": "code",
   "execution_count": 11,
   "id": "9f84cbad",
   "metadata": {},
   "outputs": [
    {
     "name": "stdout",
     "output_type": "stream",
     "text": [
      "No. top artists: 70561\n"
     ]
    }
   ],
   "source": [
    "num_top_music = int(top_fraction * num_items_music)\n",
    "top_item_dist_music = item_dist_music[:num_top_music]\n",
    "print('No. top artists: ' + str(len(top_item_dist_music)))"
   ]
  },
  {
   "cell_type": "markdown",
   "id": "1f07b52e",
   "metadata": {},
   "source": [
    "### Book data"
   ]
  },
  {
   "cell_type": "code",
   "execution_count": 12,
   "id": "5f838a82",
   "metadata": {},
   "outputs": [
    {
     "name": "stdout",
     "output_type": "stream",
     "text": [
      "No. of user events: 1149780\n"
     ]
    }
   ],
   "source": [
    "user_events_file = 'https://raw.githubusercontent.com/SavvinaDaniil/UnfairnessOfPopularityBias/main/data/BX-Book-Ratings.csv'\n",
    "\n",
    "# read user events\n",
    "cols = ['user', 'book', 'rating']\n",
    "df_events_books = pd.read_csv(user_events_file, sep=\";\", encoding=\"ISO-8859–1\", names=cols, skiprows=1)\n",
    "item_col = \"book\"\n",
    "print('No. of user events: ' + str(len(df_events_books)))"
   ]
  },
  {
   "cell_type": "code",
   "execution_count": 13,
   "id": "88c2eef3",
   "metadata": {},
   "outputs": [],
   "source": [
    "# This method return a dataframe in which the specified values are removed from a specific column. We can use it to generate the implicit/explicit dataset.\n",
    "# To do this,  a can remove the 0 or 1-10 values from the `Book-Rating` column.\n",
    "def filter_rows_by_values(df, col, values):\n",
    "    return df[~df[col].isin(values)]\n",
    "df_events_books = filter_rows_by_values(df_events_books, predict_col, [0])"
   ]
  },
  {
   "cell_type": "code",
   "execution_count": 14,
   "id": "70c52e0d",
   "metadata": {},
   "outputs": [],
   "source": [
    "uid_value_counts = df_events_books['user'].value_counts()\n",
    "#To remove the users with fewer than 5 interaction we first count the number of interactino per user and add a new column (`Count`) in the dataframe.\n",
    "# This column shows the number of interaction per user in the dataset\n",
    "users_counts = uid_value_counts.to_dict() #converts to dictionary\n",
    "df_events_books['Count'] = df_events_books['user'].map(users_counts)"
   ]
  },
  {
   "cell_type": "code",
   "execution_count": 15,
   "id": "4db2bd5f",
   "metadata": {},
   "outputs": [],
   "source": [
    "df_events_books = filter_rows_by_values(df_events_books, \"Count\", list(range(200, max(df_events_books['Count']) + 1)))"
   ]
  },
  {
   "cell_type": "code",
   "execution_count": 16,
   "id": "403adb03",
   "metadata": {},
   "outputs": [],
   "source": [
    "user_interaction, item_interaction = 1, 1\n",
    "df_events_books = df_events_books.copy()\n",
    "while user_interaction != 0 or item_interaction != 0:\n",
    "    uid_value_counts = df_events_books[\"user\"].value_counts()\n",
    "    user_interaction = uid_value_counts[uid_value_counts < 5].count()\n",
    "\n",
    "    users_counts = df_events_books[\"user\"].value_counts()\n",
    "    users_counts = users_counts.to_dict() #converts to dictionary\n",
    "    df_events_books['Count'] = df_events_books[\"user\"].map(users_counts)\n",
    "\n",
    "    df_events_books = filter_rows_by_values(df_events_books, \"Count\", list(range(5)))\n",
    "\n",
    "    # item side fewer than ds_rate cheking\n",
    "    bid_value_counts = df_events_books[item_col].value_counts()\n",
    "    item_interaction = bid_value_counts[bid_value_counts < 5].count()\n",
    "\n",
    "    items_counts = df_events_books[item_col].value_counts()\n",
    "    items_counts = items_counts.to_dict() #converts to dictionary\n",
    "    df_events_books['Count'] = df_events_books[item_col].map(items_counts)\n",
    "\n",
    "    df_events_books = filter_rows_by_values(df_events_books, \"Count\", list(range(5)))"
   ]
  },
  {
   "cell_type": "code",
   "execution_count": 17,
   "id": "d1314e88",
   "metadata": {},
   "outputs": [
    {
     "name": "stdout",
     "output_type": "stream",
     "text": [
      "No. user events: 88552\n",
      "No. items: 6921\n",
      "No. users: 6358\n",
      "\n",
      "\n",
      "Mean books per user: 13.9\n",
      "Min books per user: 5\n",
      "Max books per user: 153\n",
      "\n",
      "\n",
      "Mean users per book: 12.8\n",
      "Min users per book: 5\n",
      "Max users per book: 350\n",
      "\n",
      "\n"
     ]
    }
   ],
   "source": [
    "# final data statistics\n",
    "users_and_items(df_events_books, \"user\", item_col)\n",
    "user_dist_books, num_users_books = user_distribution(df_events_books, \"user\", item_col)\n",
    "item_dist_books, num_items_books = item_distribution(df_events_books, \"user\", item_col)"
   ]
  },
  {
   "cell_type": "code",
   "execution_count": 18,
   "id": "55318817",
   "metadata": {},
   "outputs": [],
   "source": [
    "del(df_events_books[\"Count\"])"
   ]
  },
  {
   "cell_type": "code",
   "execution_count": 19,
   "id": "c81141c3",
   "metadata": {},
   "outputs": [
    {
     "name": "stdout",
     "output_type": "stream",
     "text": [
      "No. top books: 1384\n"
     ]
    }
   ],
   "source": [
    "num_top_books = int(top_fraction * num_items_books)\n",
    "top_item_dist_books = item_dist_music[:num_top_books]\n",
    "print('No. top books: ' + str(len(top_item_dist_books)))"
   ]
  },
  {
   "cell_type": "markdown",
   "id": "b402691e",
   "metadata": {},
   "source": [
    "# Data distribution"
   ]
  },
  {
   "cell_type": "code",
   "execution_count": 24,
   "id": "8fdc1d51",
   "metadata": {},
   "outputs": [
    {
     "data": {
      "image/png": "[encoded data removed]",
      "text/plain": [
       "<Figure size 640x480 with 1 Axes>"
      ]
     },
     "metadata": {},
     "output_type": "display_data"
    }
   ],
   "source": [
    "plot_data_distribution(item_dist_books, \"book\", dividing = [False, 0], log = False, save = True, addition = \"_book\")"
   ]
  },
  {
   "cell_type": "code",
   "execution_count": 28,
   "id": "c61948b8",
   "metadata": {},
   "outputs": [
    {
     "data": {
      "image/png": "[encoded data removed]",
      "text/plain": [
       "<Figure size 640x480 with 1 Axes>"
      ]
     },
     "metadata": {},
     "output_type": "display_data"
    }
   ],
   "source": [
    "plot_data_distribution(item_dist_movies, \"movie\", dividing = [False, 0], log = False, save = True, addition = \"_movie\")"
   ]
  },
  {
   "cell_type": "code",
   "execution_count": 29,
   "id": "037a9881",
   "metadata": {},
   "outputs": [
    {
     "data": {
      "image/png": "[encoded data removed]",
      "text/plain": [
       "<Figure size 640x480 with 1 Axes>"
      ]
     },
     "metadata": {},
     "output_type": "display_data"
    }
   ],
   "source": [
    "plot_data_distribution(item_dist_music, \"artist\", dividing = [False, 0], log = False, save = True, addition = \"_music\")"
   ]
  },
  {
   "cell_type": "code",
   "execution_count": 20,
   "id": "3a657e92",
   "metadata": {},
   "outputs": [],
   "source": [
    "def plot_data_distribution_together(item_dist_list, item_list,item_col = \"item\", dividing = [False, 0], save = False, addition = \"\"):\n",
    "    plt.figure()\n",
    "    ax = plt.axes()\n",
    "    ax.spines['bottom'].set_color('w')\n",
    "    ax.spines['top'].set_color('w')\n",
    "    ax.spines['right'].set_color('w')\n",
    "    ax.spines['left'].set_color('w')\n",
    "    ax.spines['left'].set_zorder(0)\n",
    "    ax.xaxis.set_ticks_position('none') \n",
    "    ax.yaxis.set_ticks_position('none') \n",
    "    ax.set_facecolor(\"aliceblue\")\n",
    "    plt.grid(color = \"w\",linewidth = 2 )\n",
    "    \n",
    "    if dividing[0]:\n",
    "        x0 = int(len(item_dist.values)*dividing[1])\n",
    "        y = range(len(item_dist))\n",
    "        plt.plot(y[:x0+1], item_dist.values[:x0+1], label = \"Popular \"+item_col+\"s\", linewidth = 5)\n",
    "        plt.plot(y[x0:], item_dist.values[x0:], label = \"Non Popular \"+item_col+\"s\", linewidth = 5)\n",
    "    else:\n",
    "        i=0\n",
    "        for item_dist in item_dist_list:\n",
    "            \n",
    "            plt.plot(item_dist.values, label = item_list[i])\n",
    "            i+=1\n",
    "    plt.legend()\n",
    "    plt.xticks(fontsize='13')\n",
    "    plt.yticks(fontsize='13')\n",
    "    \n",
    "    plt.xscale('log')\n",
    "    plt.yscale('log')\n",
    "    add = \" (log)\"\n",
    "    plt.xlabel(item_col+add, fontsize='14')\n",
    "    plt.ylabel('Number of users' + add, fontsize='15')\n",
    "    if save:\n",
    "        if dividing[0]:\n",
    "            plt.savefig('graphs/'+item_col+add+\"_dist_div\"+addition+\".png\", bbox_inches='tight')\n",
    "        else:\n",
    "            plt.savefig('graphs/'+item_col+add+\"_dist\"+addition+\".png\", bbox_inches='tight')\n",
    "    plt.show(block=True)"
   ]
  },
  {
   "cell_type": "code",
   "execution_count": 21,
   "id": "7f5db2e8",
   "metadata": {},
   "outputs": [
    {
     "data": {
      "image/png": "[encoded data removed]",
      "text/plain": [
       "<Figure size 432x288 with 1 Axes>"
      ]
     },
     "metadata": {
      "needs_background": "light"
     },
     "output_type": "display_data"
    }
   ],
   "source": [
    "plot_data_distribution_together([item_dist_movies, item_dist_music, item_dist_books], item_list=[\"movies\",\"music\",\"books\"])"
   ]
  },
  {
   "cell_type": "markdown",
   "id": "e9b9c567",
   "metadata": {},
   "source": [
    "# Gini coefficient"
   ]
  },
  {
   "cell_type": "code",
   "execution_count": 22,
   "id": "4f8bbb27",
   "metadata": {},
   "outputs": [],
   "source": [
    "def plot_Lorenz_many(its_cdf, save = False, addition = \"\"):\n",
    "    def f(t):\n",
    "        return t\n",
    "    for movs, cdf, name in its_cdf:\n",
    "        plt.plot(movs*100, cdf*100, linewidth = 3,  label = \"L(x) actual, \"+name)\n",
    "    plt.plot(movs*100, movs*100, linewidth = 3, color = \"blue\", label = \"L(x) = x, distributional equality\")\n",
    "    plt.xlabel(\"100x% least consumed items\")\n",
    "    plt.ylabel(\"100y% of total amount of consumptions\")\n",
    "    #section = movs*100\n",
    "    plt.legend()\n",
    "    #plt.fill_between(section, f(section), color = \"lightgrey\")\n",
    "    #plt.fill_between(movs*100, cdf*100, color = \"gray\")\n",
    "    if save:\n",
    "        plt.savefig('graphs/data_Lorenz'+addition+\".png\", bbox_inches='tight')\n",
    "    plt.show(block=True)"
   ]
  },
  {
   "cell_type": "code",
   "execution_count": 23,
   "id": "aa8249d0",
   "metadata": {
    "scrolled": false
   },
   "outputs": [
    {
     "data": {
      "image/png": "[encoded data removed]",
      "text/plain": [
       "<Figure size 432x288 with 1 Axes>"
      ]
     },
     "metadata": {
      "needs_background": "light"
     },
     "output_type": "display_data"
    }
   ],
   "source": [
    "# GINI COEFFICIENT\n",
    "GC_movs, movs, data_cdf_movs = calculate_gini_coefficient(item_dist_movies) # calculate gini coefficient\n",
    "GC_mus, mus, data_cdf_mus = calculate_gini_coefficient(item_dist_music) # calculate gini coefficient\n",
    "GC_boo, boo, data_cdf_boo = calculate_gini_coefficient(item_dist_books) # calculate gini coefficient\n",
    "its_cdf = [[movs, data_cdf_movs, \"movies\"], [mus, data_cdf_mus, \"music\"], [boo,data_cdf_boo,\"books\"]] \n",
    "\n",
    "plot_Lorenz_many(its_cdf) # plot lorenz curve in data"
   ]
  },
  {
   "cell_type": "code",
   "execution_count": 24,
   "id": "c852e11e",
   "metadata": {},
   "outputs": [
    {
     "data": {
      "text/plain": [
       "(0.6335616037312073, 0.7362326993650111, 0.4303916552969049)"
      ]
     },
     "execution_count": 24,
     "metadata": {},
     "output_type": "execute_result"
    }
   ],
   "source": [
    "GC_movs, GC_mus, GC_boo"
   ]
  },
  {
   "cell_type": "markdown",
   "id": "7ce3fc35",
   "metadata": {},
   "source": [
    "# GAPS"
   ]
  },
  {
   "cell_type": "code",
   "execution_count": 25,
   "id": "e7576ce3",
   "metadata": {},
   "outputs": [],
   "source": [
    "def calculate_popularity(df_events, top_item_dist, item_dist, num_users, user_col, item_col):\n",
    "    pop_count = [] # number of top items per user\n",
    "    user_hist = [] # user history sizes\n",
    "    pop_fraq = [] # relative number of top items per user\n",
    "    pop_item_fraq = [] # average popularity of items in user profiles\n",
    "    i=0\n",
    "    for u, df in df_events.groupby(user_col):\n",
    "        no_user_items = len(set(df[item_col]))\n",
    "        no_user_pop_items = len(set(df[item_col]) & set(top_item_dist.index))\n",
    "        pop_count.append(no_user_pop_items)\n",
    "        user_hist.append(no_user_items) \n",
    "        pop_fraq.append(no_user_pop_items / no_user_items)\n",
    "        user_pop_item_fraq = sum(item_dist[df[item_col]] / num_users) / no_user_items\n",
    "        pop_item_fraq.append(user_pop_item_fraq)\n",
    "        i+=1\n",
    "        if i%1000==0:\n",
    "            print(i)\n",
    "    return pop_count,user_hist,pop_fraq, pop_item_fraq"
   ]
  },
  {
   "cell_type": "code",
   "execution_count": 26,
   "id": "791a34d2",
   "metadata": {},
   "outputs": [],
   "source": [
    "def calculate_popularity_for_music(df_events, top_item_dist, item_dist, num_users, user_col, item_col, low_users, medium_users, high_users):\n",
    "    pop_count = [] # number of top items per user\n",
    "    user_hist = [] # user history sizes\n",
    "    pop_fraq = [] # relative number of top items per user\n",
    "    pop_item_fraq = [] # average popularity of items in user profiles\n",
    "    low_profile_size = 0\n",
    "    low_gap = 0\n",
    "    medium_profile_size = 0\n",
    "    medium_gap = 0\n",
    "    high_profile_size = 0\n",
    "    high_gap = 0\n",
    "    low_ratio = 0\n",
    "    medium_ratio = 0\n",
    "    high_ratio = 0\n",
    "    \n",
    "    i=0\n",
    "    for u, df in df_events.groupby(user_col):\n",
    "        no_user_items = len(set(df[item_col]))\n",
    "        no_user_pop_items = len(set(df[item_col]) & set(top_item_dist.index))\n",
    "        pop_count.append(no_user_pop_items)\n",
    "        user_hist.append(no_user_items) \n",
    "        pop_fraq.append(no_user_pop_items / no_user_items)\n",
    "        user_pop_item_fraq = sum(item_dist[df[item_col]] / num_users) / no_user_items\n",
    "        pop_item_fraq.append(user_pop_item_fraq)\n",
    "    \n",
    "        if u in low_users.index: # get user group-specific values\n",
    "            low_profile_size += no_user_items\n",
    "            low_gap += user_pop_item_fraq\n",
    "            low_ratio += no_user_pop_items / no_user_items\n",
    "        elif u in medium_users.index:\n",
    "            medium_profile_size += no_user_items\n",
    "            medium_gap += user_pop_item_fraq\n",
    "            medium_ratio += no_user_pop_items / no_user_items\n",
    "        else:\n",
    "            high_profile_size += no_user_items\n",
    "            high_gap += user_pop_item_fraq\n",
    "            high_ratio += no_user_pop_items / no_user_items\n",
    "        i+=1\n",
    "        if i%1000==0:\n",
    "            print(i)\n",
    "    low_profile_size /= len(low_users)\n",
    "    medium_profile_size /= len(medium_users)\n",
    "    high_profile_size /= len(high_users)\n",
    "    low_ratio /= len(low_users)\n",
    "    medium_ratio /= len(medium_users)\n",
    "    high_ratio /= len(high_users)\n",
    "    low_gap /= len(low_users)\n",
    "    medium_gap /= len(medium_users)\n",
    "    high_gap /= len(high_users)\n",
    "  \n",
    "    return pop_count,user_hist,pop_fraq, pop_item_fraq, low_profile_size, medium_profile_size, high_profile_size, low_gap, medium_gap, high_gap, low_ratio, medium_ratio, high_ratio"
   ]
  },
  {
   "cell_type": "code",
   "execution_count": 27,
   "id": "41e247d7",
   "metadata": {},
   "outputs": [],
   "source": [
    "def read(low_user_file, medium_user_file, high_user_file):\n",
    "    low_users = pd.read_csv(low_user_file, sep=',').set_index('user_id')\n",
    "    medium_users = pd.read_csv(medium_user_file, sep=',').set_index('user_id')\n",
    "    high_users = pd.read_csv(high_user_file, sep=',').set_index('user_id')\n",
    "    no_users = len(low_users) + len(medium_users) + len(high_users)\n",
    "    print('No. of users: ' + str(no_users))\n",
    "    \n",
    "    mainstreaminess = \"M_global_R_APC\"\n",
    "    \n",
    "    print('Average mainstreaminess per user for low: ' + str(low_users[mainstreaminess].mean()))\n",
    "    print('Average mainstreaminess per user for med: ' + str(medium_users[mainstreaminess].mean()))\n",
    "    print('Average mainstreaminess per user for high: ' + str(high_users[mainstreaminess].mean()))\n",
    "    return no_users, low_users, medium_users, high_users"
   ]
  },
  {
   "cell_type": "code",
   "execution_count": 28,
   "id": "4d188d59",
   "metadata": {},
   "outputs": [],
   "source": [
    "def sort_user_dist(user_dist,pop_count, user_hist,pop_fraq,pop_item_fraq, by = \"pop_fraq\"):\n",
    "    user_dist = user_dist.sort_index()\n",
    "    user_dist_sorted = pd.DataFrame(data = user_dist)\n",
    "    \n",
    "    user_dist_sorted.columns = [\"count\"]\n",
    "    \n",
    "    user_dist_sorted[\"pop_count\"] = pop_count\n",
    "    user_dist_sorted[\"user_hist\"] = user_hist\n",
    "    user_dist_sorted[\"pop_fraq\"] = pop_fraq\n",
    "    user_dist_sorted[\"pop_item_fraq\"] = pop_item_fraq\n",
    "    \n",
    "    user_dist_sorted = user_dist_sorted.sort_values(by=[by])\n",
    "    return user_dist_sorted\n",
    "\n",
    "def split(user_dist_sorted, top_fraction):\n",
    "    low, med, high = np.split(user_dist_sorted, [int(top_fraction*len(user_dist_sorted)), int((1-top_fraction)*len(user_dist_sorted))])\n",
    "    return low, med, high\n",
    "def calculate_group_characteristics(low, med, high):\n",
    "    low_profile_size = low.user_hist.mean()\n",
    "    med_profile_size = med.user_hist.mean()\n",
    "    high_profile_size = high.user_hist.mean()\n",
    "    \n",
    "    low_nr_users = len(low)\n",
    "    med_nr_users = len(med)\n",
    "    high_nr_users = len(high)\n",
    "    \n",
    "    low_GAP = low.pop_item_fraq.mean()\n",
    "    med_GAP = med.pop_item_fraq.mean()\n",
    "    high_GAP = high.pop_item_fraq.mean()\n",
    "    \n",
    "    return low_profile_size, med_profile_size, high_profile_size, low_nr_users, med_nr_users, high_nr_users, low_GAP, med_GAP, high_GAP"
   ]
  },
  {
   "cell_type": "markdown",
   "id": "f791a21d",
   "metadata": {},
   "source": [
    "#### Books"
   ]
  },
  {
   "cell_type": "code",
   "execution_count": 29,
   "id": "821590cf",
   "metadata": {
    "scrolled": true
   },
   "outputs": [
    {
     "name": "stdout",
     "output_type": "stream",
     "text": [
      "1000\n",
      "2000\n",
      "3000\n",
      "4000\n",
      "5000\n",
      "6000\n"
     ]
    }
   ],
   "source": [
    "pop_count_books,user_hist_books,pop_fraq_books, pop_item_fraq_books = calculate_popularity(df_events_books, \n",
    "                                                                                           top_item_dist_books, \n",
    "                                                                         item_dist_books, num_users_books, \"user\", \n",
    "                                                                                           \"book\")"
   ]
  },
  {
   "cell_type": "code",
   "execution_count": 30,
   "id": "5cf2c17e",
   "metadata": {},
   "outputs": [],
   "source": [
    "user_dist_sorted_books = sort_user_dist(user_dist_books,\n",
    "                                        pop_count_books,\n",
    "                                        user_hist_books,\n",
    "                                        pop_fraq_books,\n",
    "                                        pop_item_fraq_books)\n",
    "low_books, med_books, high_books = split(user_dist_sorted_books, top_fraction)\n",
    "low_profile_size_books, med_profile_size_books, high_profile_size_books, low_nr_users_books, med_nr_users_books, high_nr_users_books, low_GAP_books, med_GAP_books, high_GAP_books = calculate_group_characteristics(low_books, med_books, high_books)"
   ]
  },
  {
   "cell_type": "markdown",
   "id": "3b72743e",
   "metadata": {},
   "source": [
    "#### Movies"
   ]
  },
  {
   "cell_type": "code",
   "execution_count": 31,
   "id": "dfd40085",
   "metadata": {
    "scrolled": true
   },
   "outputs": [
    {
     "name": "stdout",
     "output_type": "stream",
     "text": [
      "1000\n",
      "2000\n",
      "3000\n",
      "4000\n",
      "5000\n",
      "6000\n"
     ]
    }
   ],
   "source": [
    "pop_count_movies,user_hist_movies,pop_fraq_movies, pop_item_fraq_movies = calculate_popularity(df_events_movies, \n",
    "                                                                                           top_item_dist_movies, \n",
    "                                                                         item_dist_movies, num_users_movies, \"user\", \n",
    "                                                                                           \"movie\")"
   ]
  },
  {
   "cell_type": "code",
   "execution_count": 32,
   "id": "8e68b335",
   "metadata": {},
   "outputs": [],
   "source": [
    "user_dist_sorted_movies = sort_user_dist(user_dist_movies,\n",
    "                                        pop_count_movies,\n",
    "                                        user_hist_movies,\n",
    "                                        pop_fraq_movies,\n",
    "                                        pop_item_fraq_movies)\n",
    "low_movies, med_movies, high_movies = split(user_dist_sorted_movies, top_fraction)\n",
    "low_profile_size_movies, med_profile_size_movies, high_profile_size_movies, low_nr_users_movies, med_nr_users_movies, high_nr_users_movies, low_GAP_movies, med_GAP_movies, high_GAP_movies = calculate_group_characteristics(low_movies, med_movies, high_movies)"
   ]
  },
  {
   "cell_type": "markdown",
   "id": "9621c1ab",
   "metadata": {},
   "source": [
    "#### Music"
   ]
  },
  {
   "cell_type": "code",
   "execution_count": 33,
   "id": "b6d84153",
   "metadata": {},
   "outputs": [],
   "source": [
    "low_user_file = \"https://media.githubusercontent.com/media/SavvinaDaniil/UnfairnessOfPopularityBias/main/data/low_main_users.txt\"\n",
    "medium_user_file = \"https://media.githubusercontent.com/media/SavvinaDaniil/UnfairnessOfPopularityBias/main/data/medium_main_users.txt\"\n",
    "high_user_file = \"https://media.githubusercontent.com/media/SavvinaDaniil/UnfairnessOfPopularityBias/main/data/high_main_users.txt\""
   ]
  },
  {
   "cell_type": "code",
   "execution_count": 34,
   "id": "83d95d08",
   "metadata": {},
   "outputs": [
    {
     "name": "stdout",
     "output_type": "stream",
     "text": [
      "No. of users: 3000\n",
      "Average mainstreaminess per user for low: 0.009333709599999998\n",
      "Average mainstreaminess per user for med: 0.18199761010999999\n",
      "Average mainstreaminess per user for high: 0.33798161341000005\n"
     ]
    }
   ],
   "source": [
    "num_users_music, low_music, med_music, high_music= read(low_user_file, medium_user_file, high_user_file)"
   ]
  },
  {
   "cell_type": "code",
   "execution_count": 35,
   "id": "286533c9",
   "metadata": {},
   "outputs": [
    {
     "name": "stdout",
     "output_type": "stream",
     "text": [
      "1000\n",
      "2000\n",
      "3000\n"
     ]
    }
   ],
   "source": [
    "pop_count_music,user_hist_music,pop_fraq_music, pop_item_fraq_music, low_profile_size_music, med_profile_size_music, high_profile_size_music, low_GAP_music, med_GAP_music, high_GAP_music, low_ratio_music, med_ratio_music, high_ratio_music = calculate_popularity_for_music(df_events_music, top_item_dist_music, item_dist_music, num_users_music, \"user\", \"artist\", low_music, med_music, high_music)"
   ]
  },
  {
   "cell_type": "markdown",
   "id": "a9fd9176",
   "metadata": {},
   "source": [
    "### Overall"
   ]
  },
  {
   "cell_type": "code",
   "execution_count": 36,
   "id": "16f462c5",
   "metadata": {},
   "outputs": [
    {
     "data": {
      "text/plain": [
       "(0.5166413401809171, 10.801591873335479, 4.963328792099549)"
      ]
     },
     "execution_count": 36,
     "metadata": {},
     "output_type": "execute_result"
    }
   ],
   "source": [
    "low_GAP_books*100, low_GAP_movies*100, low_GAP_music*100"
   ]
  },
  {
   "cell_type": "code",
   "execution_count": 37,
   "id": "81be30f1",
   "metadata": {},
   "outputs": [
    {
     "data": {
      "text/plain": [
       "(0.529382610214949, 15.697555736769992, 5.437111935948923)"
      ]
     },
     "execution_count": 37,
     "metadata": {},
     "output_type": "execute_result"
    }
   ],
   "source": [
    "med_GAP_books*100, med_GAP_movies*100, med_GAP_music*100"
   ]
  },
  {
   "cell_type": "code",
   "execution_count": 38,
   "id": "cc0d195c",
   "metadata": {},
   "outputs": [
    {
     "data": {
      "text/plain": [
       "(0.49930200775344163, 20.907251963505036, 6.286028679778642)"
      ]
     },
     "execution_count": 38,
     "metadata": {},
     "output_type": "execute_result"
    }
   ],
   "source": [
    "high_GAP_books*100, high_GAP_movies*100, high_GAP_music*100"
   ]
  },
  {
   "cell_type": "code",
   "execution_count": null,
   "id": "71fe1a46",
   "metadata": {},
   "outputs": [],
   "source": []
  },
  {
   "cell_type": "code",
   "execution_count": null,
   "id": "a41fb7e9",
   "metadata": {},
   "outputs": [],
   "source": []
  },
  {
   "cell_type": "code",
   "execution_count": null,
   "id": "90b4a610",
   "metadata": {},
   "outputs": [],
   "source": []
  },
  {
   "cell_type": "code",
   "execution_count": null,
   "id": "bf156d0c",
   "metadata": {},
   "outputs": [],
   "source": []
  }
 ],
 "metadata": {
  "kernelspec": {
   "display_name": "Python 3 (ipykernel)",
   "language": "python",
   "name": "python3"
  },
  "language_info": {
   "codemirror_mode": {
    "name": "ipython",
    "version": 3
   },
   "file_extension": ".py",
   "mimetype": "text/x-python",
   "name": "python",
   "nbconvert_exporter": "python",
   "pygments_lexer": "ipython3",
   "version": "3.8.12"
  }
 },
 "nbformat": 4,
 "nbformat_minor": 5
}
