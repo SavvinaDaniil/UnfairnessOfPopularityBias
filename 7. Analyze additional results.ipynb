{
 "cells": [
  {
   "cell_type": "markdown",
   "id": "8a45af9c",
   "metadata": {},
   "source": [
    "# Libraries"
   ]
  },
  {
   "cell_type": "code",
   "execution_count": null,
   "id": "9dde4aeb",
   "metadata": {},
   "outputs": [],
   "source": [
    "import warnings\n",
    "warnings.simplefilter(action='ignore', category=FutureWarning)\n",
    "import matplotlib.pyplot as plt\n",
    "import random as rd\n",
    "import pandas as pd\n",
    "import numpy as np\n",
    "import pickle as pkl\n",
    "from tqdm import tqdm\n",
    "import os\n",
    "import time\n",
    "from collections import defaultdict\n",
    "from scipy import stats\n",
    "from itertools import permutations, product\n",
    "from numpy.linalg import norm\n",
    "import seaborn as sns\n",
    "sns.set(style=\"darkgrid\")\n",
    "pd.set_option(\"display.precision\", 4)"
   ]
  },
  {
   "cell_type": "markdown",
   "id": "11664b59",
   "metadata": {},
   "source": [
    "# Summary"
   ]
  },
  {
   "cell_type": "markdown",
   "id": "9b58fda4",
   "metadata": {},
   "source": [
    "#### Evaluation strategies\n",
    "We have identified three evaluation strategies:\n",
    "1. For every user in the **train set** rank **all items**. | Book paper, *eva_one*\n",
    "2. For every user in the **test set** rank **only the items this user has rated in the test set**. | Music paper, *eva_two*\n",
    "3. For every user in the **test set** rank **only the items this user has NOT rated in the train set**. | Movie(?) paper, *eva_three*"
   ]
  },
  {
   "cell_type": "markdown",
   "id": "11eedad6",
   "metadata": {},
   "source": [
    "#### Algorithms"
   ]
  },
  {
   "cell_type": "code",
   "execution_count": null,
   "id": "589a470e",
   "metadata": {},
   "outputs": [],
   "source": [
    "algo_names = [\"UserKNN\",\n",
    "              \"ItemKNN\", \n",
    "              \"UserKNN with means\", \n",
    "              \"BPR\",\n",
    "              \"MF\",\n",
    "              \"PMF\",\n",
    "              \"NMF\",\n",
    "              \"WMF\",\n",
    "              \"HPF\",\n",
    "              \"NeuMF\",\n",
    "              \"VAECF\"\n",
    "              ] # in the order that they are in the model list"
   ]
  },
  {
   "cell_type": "markdown",
   "id": "20aa8f40",
   "metadata": {},
   "source": [
    "# Import results"
   ]
  },
  {
   "cell_type": "markdown",
   "id": "9ac9c359",
   "metadata": {},
   "source": [
    "### Additions"
   ]
  },
  {
   "cell_type": "code",
   "execution_count": null,
   "id": "02dc474e",
   "metadata": {},
   "outputs": [],
   "source": [
    "data = [\"movies\", \"music\",\"books\"]\n",
    "evaluation = [\"eva_one\", \"eva_two\", \"eva_three\"]\n",
    "pop_notion = [\"pop_one\", \"pop_two\", \"pop_three\"]"
   ]
  },
  {
   "cell_type": "code",
   "execution_count": null,
   "id": "a0899dcc",
   "metadata": {},
   "outputs": [],
   "source": [
    "aspects = [data, evaluation, pop_notion]"
   ]
  },
  {
   "cell_type": "code",
   "execution_count": null,
   "id": "9429a683",
   "metadata": {},
   "outputs": [],
   "source": [
    "some_aspects = [data, evaluation]"
   ]
  },
  {
   "cell_type": "code",
   "execution_count": null,
   "id": "fa1851e0",
   "metadata": {},
   "outputs": [],
   "source": [
    "results_location = \"data/results/\""
   ]
  },
  {
   "cell_type": "code",
   "execution_count": null,
   "id": "cc76cd6a",
   "metadata": {},
   "outputs": [],
   "source": [
    "# pkl.load(open(results_location+\"df_item_dist_cornac_\"+data[2]+\"_\"+evaluation[0]+\".csv\",\"rb\"))"
   ]
  },
  {
   "cell_type": "code",
   "execution_count": null,
   "id": "b3ebdf15",
   "metadata": {},
   "outputs": [],
   "source": [
    "c = pd.read_csv(results_location+\"df_item_dist_cornac_\"+data[2]+\"_\"+evaluation[0]+\".csv\", index_col=0)"
   ]
  },
  {
   "cell_type": "code",
   "execution_count": null,
   "id": "456669cb",
   "metadata": {},
   "outputs": [],
   "source": [
    "c2 = pd.read_csv(results_location+\"df_item_dist_cornac_\"+data[2]+\"_\"+evaluation[1]+\".csv\", index_col=0)"
   ]
  },
  {
   "cell_type": "markdown",
   "id": "c2565a26",
   "metadata": {},
   "source": [
    "### Define aspect combinations"
   ]
  },
  {
   "cell_type": "code",
   "execution_count": null,
   "id": "37428c0f",
   "metadata": {},
   "outputs": [],
   "source": [
    "all_combinations = list(product(*aspects))\n",
    "all_combinations = [x for x in all_combinations if not (\"movies\" in x)&(\"pop_three\" in x)]\n",
    "all_combinations = [x for x in all_combinations if not (\"books\" in x)&(\"pop_three\" in x)]\n",
    "# remove combinations of \"pop_three\" that dont include music.\n",
    "some_combinations = list(product(*some_aspects))"
   ]
  },
  {
   "cell_type": "code",
   "execution_count": null,
   "id": "640c84cd",
   "metadata": {},
   "outputs": [],
   "source": [
    "sum_exists = 0\n",
    "for combi in some_combinations:\n",
    "    path = results_location+\"df_item_dist_cornac_\"+combi[0]+\"_\"+combi[1]+\".csv\"\n",
    "    exists = os.path.exists(path)\n",
    "    print(combi, exists)\n",
    "    sum_exists+=exists\n",
    "print(sum_exists, \"out of\", len(some_combinations))"
   ]
  },
  {
   "cell_type": "code",
   "execution_count": null,
   "id": "4f98b5b2-3720-4dfa-a67c-be631f802fdd",
   "metadata": {},
   "outputs": [],
   "source": [
    "new_results_location = 'results/'\n"
   ]
  },
  {
   "cell_type": "code",
   "execution_count": null,
   "id": "8f629bff",
   "metadata": {},
   "outputs": [],
   "source": [
    "sum_exists = 0\n",
    "\n",
    "for combi in all_combinations:\n",
    "    path = new_results_location+\"low_gap_vals_\"+combi[0]+\"_\"+combi[1]+\"_\"+combi[2]+\".pickle\"\n",
    "    exists = os.path.exists(path)\n",
    "    sum_exists+=exists\n",
    "    print(combi, \"|\",exists)\n",
    "print(sum_exists, \"out of\", len(all_combinations))"
   ]
  },
  {
   "cell_type": "markdown",
   "id": "8e5c1bc0",
   "metadata": {},
   "source": [
    "# GAP"
   ]
  },
  {
   "cell_type": "markdown",
   "id": "4edabe68",
   "metadata": {},
   "source": [
    "## TTESTS"
   ]
  },
  {
   "cell_type": "code",
   "execution_count": null,
   "id": "2d4c0383-14ac-49aa-b4d9-8206ca8f8fdf",
   "metadata": {},
   "outputs": [],
   "source": [
    "music_GAPs_eva1"
   ]
  },
  {
   "cell_type": "code",
   "execution_count": null,
   "id": "f639a936-61a7-47c3-8450-cc58cb3406a6",
   "metadata": {},
   "outputs": [],
   "source": [
    "new_results_location = 'results/'\n",
    "for combi in all_combinations:\n",
    "    \n",
    "    if 'music' in combi: \n",
    "        eva_str = combi[1]\n",
    "        pop_n = combi[2]\n",
    "        print(eva_str, pop_n)\n",
    "        print('----------------')\n",
    "        #path_ttest = 'gap_ttests_books_eva_one_pop_one.pickle'\n",
    "        path_ttest = new_results_location+\"gap_ttests_music_\"+eva_str+\"_\"+pop_n+\".pickle\"\n",
    "        pvalues = pd.DataFrame(pkl.load(open(path_ttest,\"rb\") )[2:], index=algo_names, columns = ['low-med','low-high','med-high'])\n",
    "        print(pvalues)\n",
    "        print((pvalues<0.005) & (pvalues>0.0) & (pvalues<1.0))"
   ]
  },
  {
   "cell_type": "code",
   "execution_count": null,
   "id": "e16516ed",
   "metadata": {},
   "outputs": [],
   "source": [
    "combi = all_combinations[0]\n",
    "path = new_results_location+\"low_gap_vals_\"+combi[0]+\"_\"+combi[1]+\"_\"+combi[2]+\".pickle\"\n"
   ]
  },
  {
   "cell_type": "code",
   "execution_count": null,
   "id": "428d68f1",
   "metadata": {},
   "outputs": [],
   "source": [
    "pop_gaps = []\n",
    "for p in pop_notion:\n",
    "    for v in [\"low\",\"med\",\"high\"]:\n",
    "        pop_gaps.append(p+\"_\"+v)"
   ]
  },
  {
   "cell_type": "code",
   "execution_count": null,
   "id": "4fa743c5",
   "metadata": {
    "scrolled": true
   },
   "outputs": [],
   "source": [
    "pop_gaps"
   ]
  },
  {
   "cell_type": "markdown",
   "id": "570b1549",
   "metadata": {},
   "source": [
    "### Music"
   ]
  },
  {
   "cell_type": "code",
   "execution_count": null,
   "id": "d239e031",
   "metadata": {},
   "outputs": [],
   "source": [
    "music_GAPs_eva1 = pd.DataFrame(columns=pop_gaps, index = algo_names).fillna(0)\n",
    "music_GAPs_eva2 = pd.DataFrame(columns=pop_gaps, index = algo_names).fillna(0)\n",
    "music_GAPs_eva3 = pd.DataFrame(columns=pop_gaps, index = algo_names).fillna(0)"
   ]
  },
  {
   "cell_type": "code",
   "execution_count": null,
   "id": "a93b3856",
   "metadata": {},
   "outputs": [],
   "source": [
    "for combi in all_combinations:\n",
    "    if \"music\" in combi:\n",
    "        eva_str = combi[1]\n",
    "        pop_n = combi[2]\n",
    "        path_low = results_location+\"low_gap_vals_music_\"+eva_str+\"_\"+pop_n+\".pickle\"\n",
    "        path_med = results_location+\"med_gap_vals_music_\"+eva_str+\"_\"+pop_n+\".pickle\"\n",
    "        path_high = results_location+\"high_gap_vals_music_\"+eva_str+\"_\"+pop_n+\".pickle\"\n",
    "        low_gap_vals = pd.DataFrame([pkl.load(open(path_low,\"rb\") )[2:]], columns=algo_names)\n",
    "        med_gap_vals = pd.DataFrame([pkl.load(open(path_med,\"rb\") )[2:]], columns=algo_names)\n",
    "        high_gap_vals = pd.DataFrame([pkl.load(open(path_high,\"rb\") )[2:]], columns=algo_names)\n",
    "        \n",
    "        if eva_str==\"eva_one\":\n",
    "            for algorithm in algo_names:\n",
    "                music_GAPs_eva1.at[algorithm, pop_n+\"_low\"] = low_gap_vals[algorithm][0]\n",
    "                music_GAPs_eva1.at[algorithm, pop_n+\"_med\"] = med_gap_vals[algorithm][0]\n",
    "                music_GAPs_eva1.at[algorithm, pop_n+\"_high\"] = high_gap_vals[algorithm][0]\n",
    "                        \n",
    "        elif eva_str==\"eva_two\":\n",
    "            for algorithm in algo_names:\n",
    "                music_GAPs_eva2.at[algorithm, pop_n+\"_low\"] = low_gap_vals[algorithm][0]\n",
    "                music_GAPs_eva2.at[algorithm, pop_n+\"_med\"] = med_gap_vals[algorithm][0]\n",
    "                music_GAPs_eva2.at[algorithm, pop_n+\"_high\"] = high_gap_vals[algorithm][0]\n",
    "            \n",
    "        else:\n",
    "            for algorithm in algo_names:\n",
    "                music_GAPs_eva3.at[algorithm, pop_n+\"_low\"] = low_gap_vals[algorithm][0]\n",
    "                music_GAPs_eva3.at[algorithm, pop_n+\"_med\"] = med_gap_vals[algorithm][0]\n",
    "                music_GAPs_eva3.at[algorithm, pop_n+\"_high\"] = high_gap_vals[algorithm][0]"
   ]
  },
  {
   "cell_type": "code",
   "execution_count": null,
   "id": "8fae7490",
   "metadata": {},
   "outputs": [],
   "source": [
    "np.round(music_GAPs_eva3,1)"
   ]
  },
  {
   "cell_type": "code",
   "execution_count": null,
   "id": "8e15751a",
   "metadata": {},
   "outputs": [],
   "source": [
    "music_GAPs_eva1.columns =[\"eva_one_\"+x for x in music_GAPs_eva1.columns]\n",
    "music_GAPs_eva2.columns =[\"eva_two_\"+x for x in music_GAPs_eva2.columns]\n",
    "music_GAPs_eva3.columns =[\"eva_three_\"+x for x in music_GAPs_eva3.columns]"
   ]
  },
  {
   "cell_type": "code",
   "execution_count": null,
   "id": "357c3b04",
   "metadata": {},
   "outputs": [],
   "source": [
    "combined_music_GAPs = pd.concat([music_GAPs_eva1, music_GAPs_eva2, music_GAPs_eva3], axis=1)"
   ]
  },
  {
   "cell_type": "code",
   "execution_count": null,
   "id": "67163df5",
   "metadata": {},
   "outputs": [],
   "source": [
    "combined_music_GAPs = np.round(combined_music_GAPs,1)"
   ]
  },
  {
   "cell_type": "code",
   "execution_count": null,
   "id": "10dd9b96",
   "metadata": {},
   "outputs": [],
   "source": [
    "with open(\"latex_tables/music_GAPs_combined.tex\", \"w\") as tf:\n",
    "    tf.write(combined_music_GAPs.to_latex())"
   ]
  },
  {
   "cell_type": "code",
   "execution_count": null,
   "id": "78a208b1",
   "metadata": {},
   "outputs": [],
   "source": [
    "with open(\"latex_tables/music_GAPs_eva1.tex\", \"w\") as tf:\n",
    "    tf.write(np.round(music_GAPs_eva1,1).to_latex())\n",
    "with open(\"latex_tables/music_GAPs_eva2.tex\", \"w\") as tf:\n",
    "    tf.write(np.round(music_GAPs_eva2,1).to_latex())\n",
    "with open(\"latex_tables/music_GAPs_eva3.tex\", \"w\") as tf:\n",
    "    tf.write(np.round(music_GAPs_eva3,1).to_latex())"
   ]
  },
  {
   "cell_type": "markdown",
   "id": "01dd2b10",
   "metadata": {},
   "source": [
    "### Books"
   ]
  },
  {
   "cell_type": "markdown",
   "id": "cde18ec0-0df3-44a4-a891-1e8c1a796500",
   "metadata": {},
   "source": [
    "#### ttest"
   ]
  },
  {
   "cell_type": "code",
   "execution_count": null,
   "id": "4d3eef37-a5bf-4a38-9d83-567fac380d52",
   "metadata": {
    "scrolled": true
   },
   "outputs": [],
   "source": [
    "new_results_location = 'results/'\n",
    "for combi in all_combinations:\n",
    "    \n",
    "    if 'books' in combi: \n",
    "        eva_str = combi[1]\n",
    "        pop_n = combi[2]\n",
    "        print(eva_str, pop_n)\n",
    "        print('----------------')\n",
    "        #path_ttest = 'gap_ttests_books_eva_one_pop_one.pickle'\n",
    "        path_ttest = new_results_location+\"gap_ttests_books_\"+eva_str+\"_\"+pop_n+\".pickle\"\n",
    "        pvalues = pd.DataFrame(pkl.load(open(path_ttest,\"rb\") )[2:], index=algo_names, columns = ['low-med','low-high','med-high'])\n",
    "        print(pvalues)"
   ]
  },
  {
   "cell_type": "markdown",
   "id": "b14d0de9-042f-40c4-bcfb-bb67779ccb67",
   "metadata": {},
   "source": [
    "#### gap"
   ]
  },
  {
   "cell_type": "code",
   "execution_count": null,
   "id": "e24960b4",
   "metadata": {},
   "outputs": [],
   "source": [
    "books_GAPs_eva1 = pd.DataFrame(columns=pop_gaps[:-3], index = algo_names).fillna(0)\n",
    "books_GAPs_eva2 = pd.DataFrame(columns=pop_gaps[:-3], index = algo_names).fillna(0)\n",
    "books_GAPs_eva3 = pd.DataFrame(columns=pop_gaps[:-3], index = algo_names).fillna(0)\n",
    "for combi in all_combinations:\n",
    "    if \"books\" in combi:\n",
    "        eva_str = combi[1]\n",
    "        pop_n = combi[2]\n",
    "        path_low = new_results_location+\"low_gap_vals_books_\"+eva_str+\"_\"+pop_n+\".pickle\"\n",
    "        path_med = new_results_location+\"med_gap_vals_books_\"+eva_str+\"_\"+pop_n+\".pickle\"\n",
    "        path_high = new_results_location+\"high_gap_vals_books_\"+eva_str+\"_\"+pop_n+\".pickle\"\n",
    "        low_gap_vals = pd.DataFrame([pkl.load(open(path_low,\"rb\") )[2:]], columns=algo_names)\n",
    "        med_gap_vals = pd.DataFrame([pkl.load(open(path_med,\"rb\") )[2:]], columns=algo_names)\n",
    "        high_gap_vals = pd.DataFrame([pkl.load(open(path_high,\"rb\") )[2:]], columns=algo_names)\n",
    "        \n",
    "        if eva_str==\"eva_one\":\n",
    "            for algorithm in algo_names:\n",
    "                books_GAPs_eva1.at[algorithm, pop_n+\"_low\"] = low_gap_vals[algorithm][0]\n",
    "                books_GAPs_eva1.at[algorithm, pop_n+\"_med\"] = med_gap_vals[algorithm][0]\n",
    "                books_GAPs_eva1.at[algorithm, pop_n+\"_high\"] = high_gap_vals[algorithm][0]\n",
    "                        \n",
    "        elif eva_str==\"eva_two\":\n",
    "            for algorithm in algo_names:\n",
    "                books_GAPs_eva2.at[algorithm, pop_n+\"_low\"] = low_gap_vals[algorithm][0]\n",
    "                books_GAPs_eva2.at[algorithm, pop_n+\"_med\"] = med_gap_vals[algorithm][0]\n",
    "                books_GAPs_eva2.at[algorithm, pop_n+\"_high\"] = high_gap_vals[algorithm][0]\n",
    "            \n",
    "        else:\n",
    "            for algorithm in algo_names:\n",
    "                books_GAPs_eva3.at[algorithm, pop_n+\"_low\"] = low_gap_vals[algorithm][0]\n",
    "                books_GAPs_eva3.at[algorithm, pop_n+\"_med\"] = med_gap_vals[algorithm][0]\n",
    "                books_GAPs_eva3.at[algorithm, pop_n+\"_high\"] = high_gap_vals[algorithm][0]"
   ]
  },
  {
   "cell_type": "code",
   "execution_count": null,
   "id": "418fe0e5",
   "metadata": {},
   "outputs": [],
   "source": [
    "books_GAPs_eva1"
   ]
  },
  {
   "cell_type": "code",
   "execution_count": null,
   "id": "180fb9f2",
   "metadata": {},
   "outputs": [],
   "source": [
    "books_GAPs_eva1.columns =[\"eva_one_\"+x for x in books_GAPs_eva1.columns]\n",
    "books_GAPs_eva2.columns =[\"eva_two_\"+x for x in books_GAPs_eva2.columns]\n",
    "books_GAPs_eva3.columns =[\"eva_three_\"+x for x in books_GAPs_eva3.columns]"
   ]
  },
  {
   "cell_type": "code",
   "execution_count": null,
   "id": "dd00ca4d",
   "metadata": {},
   "outputs": [],
   "source": [
    "books_GAPs_eva1"
   ]
  },
  {
   "cell_type": "code",
   "execution_count": null,
   "id": "605362e4-5d2e-483f-b1f4-39f916604993",
   "metadata": {},
   "outputs": [],
   "source": [
    "print(np.round(books_GAPs_eva1,1).to_latex())"
   ]
  },
  {
   "cell_type": "code",
   "execution_count": null,
   "id": "effedc55",
   "metadata": {},
   "outputs": [],
   "source": [
    "with open(\"latex_tables/books_GAPs_eva1.tex\", \"w\") as tf:\n",
    "    tf.write(np.round(books_GAPs_eva1,1).to_latex())\n",
    "with open(\"latex_tables/books_GAPs_eva2.tex\", \"w\") as tf:\n",
    "    tf.write(np.round(books_GAPs_eva2,1).to_latex())\n",
    "with open(\"latex_tables/books_GAPs_eva3.tex\", \"w\") as tf:\n",
    "    tf.write(np.round(books_GAPs_eva3,1).to_latex())"
   ]
  },
  {
   "cell_type": "markdown",
   "id": "224473a7",
   "metadata": {},
   "source": [
    "### Movies"
   ]
  },
  {
   "cell_type": "markdown",
   "id": "a0271d45-75d1-4b12-8972-a03564944a0f",
   "metadata": {},
   "source": [
    "#### ttests"
   ]
  },
  {
   "cell_type": "code",
   "execution_count": null,
   "id": "f38358b1-2b2f-4bb5-b0d7-5b260bf02ba6",
   "metadata": {},
   "outputs": [],
   "source": [
    "for combi in all_combinations:\n",
    "    \n",
    "    if 'movies' in combi: \n",
    "        eva_str = combi[1]\n",
    "        pop_n = combi[2]\n",
    "        print(eva_str, pop_n)\n",
    "        print('----------------')\n",
    "        #path_ttest = 'gap_ttests_books_eva_one_pop_one.pickle'\n",
    "        path_ttest = new_results_location+\"gap_ttests_books_\"+eva_str+\"_\"+pop_n+\".pickle\"\n",
    "        print(pd.DataFrame(pkl.load(open(path_ttest,\"rb\") )))\n",
    "        # pvalues = pd.DataFrame(pkl.load(open(path_ttest,\"rb\") ), index=algo_names, columns = ['low-med','low-high','med-high'])\n",
    "        # print(pvalues)\n",
    "        break"
   ]
  },
  {
   "cell_type": "code",
   "execution_count": null,
   "id": "2c26d806-4bb5-4c5f-8530-409ad7ec148b",
   "metadata": {},
   "outputs": [],
   "source": [
    "new_results_location = 'results/'\n",
    "for combi in all_combinations:\n",
    "    \n",
    "    if 'movies' in combi: \n",
    "        eva_str = combi[1]\n",
    "        pop_n = combi[2]\n",
    "        print(eva_str, pop_n)\n",
    "        print('----------------')\n",
    "        #path_ttest = 'gap_ttests_books_eva_one_pop_one.pickle'\n",
    "        path_ttest = new_results_location+\"gap_ttests_books_\"+eva_str+\"_\"+pop_n+\".pickle\"\n",
    "        pvalues = pd.DataFrame(pkl.load(open(path_ttest,\"rb\") )[2:], index=algo_names, columns = ['low-med','low-high','med-high'])\n",
    "        print(pvalues)\n",
    "        "
   ]
  },
  {
   "cell_type": "markdown",
   "id": "0c60e7e8-341f-4e7c-b7e4-ae7d6d71d802",
   "metadata": {},
   "source": [
    "#### gaps"
   ]
  },
  {
   "cell_type": "code",
   "execution_count": null,
   "id": "f8449f01",
   "metadata": {},
   "outputs": [],
   "source": [
    "movies_GAPs_eva1 = pd.DataFrame(columns=pop_gaps[:-3], index = algo_names).fillna(0)\n",
    "movies_GAPs_eva2 = pd.DataFrame(columns=pop_gaps[:-3], index = algo_names).fillna(0)\n",
    "movies_GAPs_eva3 = pd.DataFrame(columns=pop_gaps[:-3], index = algo_names).fillna(0)\n",
    "for combi in all_combinations:\n",
    "    if \"movies\" in combi:\n",
    "        eva_str = combi[1]\n",
    "        pop_n = combi[2]\n",
    "        path_low = new_results_location+\"low_gap_vals_movies_\"+eva_str+\"_\"+pop_n+\".pickle\"\n",
    "        path_med = new_results_location+\"med_gap_vals_movies_\"+eva_str+\"_\"+pop_n+\".pickle\"\n",
    "        path_high = new_results_location+\"high_gap_vals_movies_\"+eva_str+\"_\"+pop_n+\".pickle\"\n",
    "        low_gap_vals = pd.DataFrame([pkl.load(open(path_low,\"rb\") )[2:]], columns=algo_names)\n",
    "        med_gap_vals = pd.DataFrame([pkl.load(open(path_med,\"rb\") )[2:]], columns=algo_names)\n",
    "        high_gap_vals = pd.DataFrame([pkl.load(open(path_high,\"rb\") )[2:]], columns=algo_names)\n",
    "        \n",
    "        if eva_str==\"eva_one\":\n",
    "            for algorithm in algo_names:\n",
    "                movies_GAPs_eva1.at[algorithm, pop_n+\"_low\"] = low_gap_vals[algorithm][0]\n",
    "                movies_GAPs_eva1.at[algorithm, pop_n+\"_med\"] = med_gap_vals[algorithm][0]\n",
    "                movies_GAPs_eva1.at[algorithm, pop_n+\"_high\"] = high_gap_vals[algorithm][0]\n",
    "                        \n",
    "        elif eva_str==\"eva_two\":\n",
    "            for algorithm in algo_names:\n",
    "                movies_GAPs_eva2.at[algorithm, pop_n+\"_low\"] = low_gap_vals[algorithm][0]\n",
    "                movies_GAPs_eva2.at[algorithm, pop_n+\"_med\"] = med_gap_vals[algorithm][0]\n",
    "                movies_GAPs_eva2.at[algorithm, pop_n+\"_high\"] = high_gap_vals[algorithm][0]\n",
    "            \n",
    "        else:\n",
    "            for algorithm in algo_names:\n",
    "                movies_GAPs_eva3.at[algorithm, pop_n+\"_low\"] = low_gap_vals[algorithm][0]\n",
    "                movies_GAPs_eva3.at[algorithm, pop_n+\"_med\"] = med_gap_vals[algorithm][0]\n",
    "                movies_GAPs_eva3.at[algorithm, pop_n+\"_high\"] = high_gap_vals[algorithm][0]"
   ]
  },
  {
   "cell_type": "code",
   "execution_count": null,
   "id": "ca8e0eae",
   "metadata": {},
   "outputs": [],
   "source": [
    "movies_GAPs_eva1.columns =[\"eva_one_\"+x for x in movies_GAPs_eva1.columns]\n",
    "movies_GAPs_eva2.columns =[\"eva_two_\"+x for x in movies_GAPs_eva2.columns]\n",
    "movies_GAPs_eva3.columns =[\"eva_three_\"+x for x in movies_GAPs_eva3.columns]"
   ]
  },
  {
   "cell_type": "code",
   "execution_count": null,
   "id": "e881f2d5",
   "metadata": {},
   "outputs": [],
   "source": [
    "with open(\"latex_tables/movies_GAPs_eva1.tex\", \"w\") as tf:\n",
    "    tf.write(np.round(movies_GAPs_eva1,1).to_latex())\n",
    "with open(\"latex_tables/movies_GAPs_eva2.tex\", \"w\") as tf:\n",
    "    tf.write(np.round(movies_GAPs_eva2,1).to_latex())\n",
    "with open(\"latex_tables/movies_GAPs_eva3.tex\", \"w\") as tf:\n",
    "    tf.write(np.round(movies_GAPs_eva3,1).to_latex())"
   ]
  },
  {
   "cell_type": "markdown",
   "id": "656050a5-2dfa-4b83-9527-5bf17e779bb4",
   "metadata": {},
   "source": [
    "## NDCGs"
   ]
  },
  {
   "cell_type": "markdown",
   "id": "e4839ed9-3e55-4929-9686-5d532da5d951",
   "metadata": {},
   "source": [
    "### Music"
   ]
  },
  {
   "cell_type": "code",
   "execution_count": null,
   "id": "98639c17-0b8d-42cc-886c-68df58473f36",
   "metadata": {},
   "outputs": [],
   "source": [
    "music_NDCGs_eva1 = pd.DataFrame(columns=pop_gaps, index = algo_names).fillna(0)\n",
    "music_NDCGs_eva2 = pd.DataFrame(columns=pop_gaps, index = algo_names).fillna(0)\n",
    "music_NDCGs_eva3 = pd.DataFrame(columns=pop_gaps, index = algo_names).fillna(0)"
   ]
  },
  {
   "cell_type": "code",
   "execution_count": null,
   "id": "45e1c24a-5a36-4cd4-9f9d-249d73fd3cbd",
   "metadata": {},
   "outputs": [],
   "source": [
    "for combi in all_combinations:\n",
    "    if \"music\" in combi:\n",
    "        eva_str = combi[1]\n",
    "        pop_n = combi[2]\n",
    "        #print(eva_str, pop_n)\n",
    "        path_ttest = new_results_location+\"NDCGs_music_\"+eva_str+\"_\"+pop_n+\".csv\"\n",
    "        ndcg_df = pd.read_csv(path_ttest, index_col=0)\n",
    "        #print(ndcg_df)\n",
    "        \n",
    "        if eva_str==\"eva_one\":\n",
    "            for algorithm in algo_names:\n",
    "                music_NDCGs_eva1.at[algorithm, pop_n+\"_low\"] = ndcg_df.loc[algorithm]['low']\n",
    "                music_NDCGs_eva1.at[algorithm, pop_n+\"_med\"] = ndcg_df.loc[algorithm]['med']\n",
    "                music_NDCGs_eva1.at[algorithm, pop_n+\"_high\"] =ndcg_df.loc[algorithm]['high']\n",
    "                        \n",
    "        elif eva_str==\"eva_two\":\n",
    "            for algorithm in algo_names:\n",
    "                music_NDCGs_eva2.at[algorithm, pop_n+\"_low\"] = ndcg_df.loc[algorithm]['low']\n",
    "                music_NDCGs_eva2.at[algorithm, pop_n+\"_med\"] = ndcg_df.loc[algorithm]['med']\n",
    "                music_NDCGs_eva2.at[algorithm, pop_n+\"_high\"] =ndcg_df.loc[algorithm]['high']\n",
    "            \n",
    "        else:\n",
    "            for algorithm in algo_names:\n",
    "                music_NDCGs_eva3.at[algorithm, pop_n+\"_low\"] = ndcg_df.loc[algorithm]['low']\n",
    "                music_NDCGs_eva3.at[algorithm, pop_n+\"_med\"] = ndcg_df.loc[algorithm]['med']\n",
    "                music_NDCGs_eva3.at[algorithm, pop_n+\"_high\"] =ndcg_df.loc[algorithm]['high']"
   ]
  },
  {
   "cell_type": "code",
   "execution_count": null,
   "id": "c3c43888-b575-4e10-bdef-1d06e9cba143",
   "metadata": {},
   "outputs": [],
   "source": []
  },
  {
   "cell_type": "code",
   "execution_count": null,
   "id": "ca39b0ab-ccbb-4c69-9902-6b7d2431dbfe",
   "metadata": {},
   "outputs": [],
   "source": [
    "with open(\"latex_tables/music_NDCGs_eva1.tex\", \"w\") as tf:\n",
    "    tf.write(np.round(music_NDCGs_eva1,3).to_latex())\n",
    "with open(\"latex_tables/music_NDCGs_eva2.tex\", \"w\") as tf:\n",
    "    tf.write(np.round(music_NDCGs_eva2,3).to_latex())\n",
    "with open(\"latex_tables/music_NDCGs_eva3.tex\", \"w\") as tf:\n",
    "    tf.write(np.round(music_NDCGs_eva3,3).to_latex())"
   ]
  },
  {
   "cell_type": "markdown",
   "id": "f9f20001-e298-410d-8491-646e526dc6df",
   "metadata": {},
   "source": [
    "#### ttest"
   ]
  },
  {
   "cell_type": "code",
   "execution_count": null,
   "id": "f9219df4-cae6-4187-8e71-03af56c0d0fa",
   "metadata": {},
   "outputs": [],
   "source": [
    "new_results_location = 'results/'\n",
    "for combi in all_combinations:\n",
    "    \n",
    "    if 'music' in combi: \n",
    "        eva_str = combi[1]\n",
    "        pop_n = combi[2]\n",
    "        print(eva_str, pop_n)\n",
    "        print('----------------')\n",
    "        path_ttest = new_results_location+\"NDCG_ttests_music_\"+eva_str+\"_\"+pop_n+\".csv\"\n",
    "        pvalues = pd.read_csv(path_ttest, index_col=0).drop(['Random','MostPop'])\n",
    "        print((pvalues<0.005)&(pvalues>0.0)&(pvalues!=1.0))"
   ]
  },
  {
   "cell_type": "markdown",
   "id": "1a0a7345-213f-46b2-ae1a-62c26087230f",
   "metadata": {},
   "source": [
    "### Books"
   ]
  },
  {
   "cell_type": "code",
   "execution_count": null,
   "id": "69fa867e-80ae-45a4-bbe7-2d2a572c0f60",
   "metadata": {},
   "outputs": [],
   "source": [
    "books_NDCGs_eva1 = pd.DataFrame(columns=pop_gaps[:-3], index = algo_names).fillna(0)\n",
    "books_NDCGs_eva2 = pd.DataFrame(columns=pop_gaps[:-3], index = algo_names).fillna(0)\n",
    "books_NDCGs_eva3 = pd.DataFrame(columns=pop_gaps[:-3], index = algo_names).fillna(0)"
   ]
  },
  {
   "cell_type": "code",
   "execution_count": null,
   "id": "a8a62e74-84e5-4990-8b2d-631caccd852c",
   "metadata": {},
   "outputs": [],
   "source": [
    "for combi in all_combinations:\n",
    "    if \"books\" in combi:\n",
    "        eva_str = combi[1]\n",
    "        pop_n = combi[2]\n",
    "        #print(eva_str, pop_n)\n",
    "        path_ttest = new_results_location+\"NDCGs_books_\"+eva_str+\"_\"+pop_n+\".csv\"\n",
    "        ndcg_df = pd.read_csv(path_ttest, index_col=0)\n",
    "        #print(ndcg_df)\n",
    "        \n",
    "        if eva_str==\"eva_one\":\n",
    "            for algorithm in algo_names:\n",
    "                books_NDCGs_eva1.at[algorithm, pop_n+\"_low\"] = ndcg_df.loc[algorithm]['low']\n",
    "                books_NDCGs_eva1.at[algorithm, pop_n+\"_med\"] = ndcg_df.loc[algorithm]['med']\n",
    "                books_NDCGs_eva1.at[algorithm, pop_n+\"_high\"] =ndcg_df.loc[algorithm]['high']\n",
    "                        \n",
    "        elif eva_str==\"eva_two\":\n",
    "            for algorithm in algo_names:\n",
    "                books_NDCGs_eva2.at[algorithm, pop_n+\"_low\"] = ndcg_df.loc[algorithm]['low']\n",
    "                books_NDCGs_eva2.at[algorithm, pop_n+\"_med\"] = ndcg_df.loc[algorithm]['med']\n",
    "                books_NDCGs_eva2.at[algorithm, pop_n+\"_high\"] =ndcg_df.loc[algorithm]['high']\n",
    "            \n",
    "        else:\n",
    "            for algorithm in algo_names:\n",
    "                books_NDCGs_eva3.at[algorithm, pop_n+\"_low\"] = ndcg_df.loc[algorithm]['low']\n",
    "                books_NDCGs_eva3.at[algorithm, pop_n+\"_med\"] = ndcg_df.loc[algorithm]['med']\n",
    "                books_NDCGs_eva3.at[algorithm, pop_n+\"_high\"] =ndcg_df.loc[algorithm]['high']"
   ]
  },
  {
   "cell_type": "code",
   "execution_count": null,
   "id": "b18fd7db-eb97-4d4e-9d98-8e6d6a6b5943",
   "metadata": {},
   "outputs": [],
   "source": [
    "with open(\"latex_tables/books_NDCGs_eva1.tex\", \"w\") as tf:\n",
    "    tf.write(np.round(books_NDCGs_eva1,3).to_latex())\n",
    "with open(\"latex_tables/books_NDCGs_eva2.tex\", \"w\") as tf:\n",
    "    tf.write(np.round(books_NDCGs_eva2,3).to_latex())\n",
    "with open(\"latex_tables/books_NDCGs_eva3.tex\", \"w\") as tf:\n",
    "    tf.write(np.round(books_NDCGs_eva3,3).to_latex())"
   ]
  },
  {
   "cell_type": "code",
   "execution_count": null,
   "id": "2876da7b-7a0a-4ddb-a5ff-588fcc531528",
   "metadata": {},
   "outputs": [],
   "source": [
    "new_results_location = 'results/'\n",
    "for combi in all_combinations:\n",
    "    \n",
    "    if 'books' in combi: \n",
    "        eva_str = combi[1]\n",
    "        pop_n = combi[2]\n",
    "        print(eva_str, pop_n)\n",
    "        print('----------------')\n",
    "        path_ttest = new_results_location+\"NDCG_ttests_books_\"+eva_str+\"_\"+pop_n+\".csv\"\n",
    "        pvalues = pd.read_csv(path_ttest, index_col=0).drop(['Random','MostPop'])\n",
    "        print((pvalues<0.005)&(pvalues>0.0)&(pvalues!=1.0))\n",
    "        print(pvalues)"
   ]
  },
  {
   "cell_type": "markdown",
   "id": "9bdc9cb1-4af9-49ef-b360-ca8cce6976ea",
   "metadata": {},
   "source": [
    "### Movies"
   ]
  },
  {
   "cell_type": "code",
   "execution_count": null,
   "id": "249a8fa4-d15e-48a5-950d-c409a4cc3daa",
   "metadata": {},
   "outputs": [],
   "source": [
    "movies_NDCGs_eva1 = pd.DataFrame(columns=pop_gaps[:-3], index = algo_names).fillna(0)\n",
    "movies_NDCGs_eva2 = pd.DataFrame(columns=pop_gaps[:-3], index = algo_names).fillna(0)\n",
    "movies_NDCGs_eva3 = pd.DataFrame(columns=pop_gaps[:-3], index = algo_names).fillna(0)"
   ]
  },
  {
   "cell_type": "code",
   "execution_count": null,
   "id": "81a0107a-271c-42d4-b0d2-9275b42f04dc",
   "metadata": {},
   "outputs": [],
   "source": [
    "for combi in all_combinations:\n",
    "    if \"movies\" in combi:\n",
    "        eva_str = combi[1]\n",
    "        pop_n = combi[2]\n",
    "        #print(eva_str, pop_n)\n",
    "        path_ttest = new_results_location+\"NDCGs_movies_\"+eva_str+\"_\"+pop_n+\".csv\"\n",
    "        ndcg_df = pd.read_csv(path_ttest, index_col=0)\n",
    "        #print(ndcg_df)\n",
    "        \n",
    "        if eva_str==\"eva_one\":\n",
    "            for algorithm in algo_names:\n",
    "                movies_NDCGs_eva1.at[algorithm, pop_n+\"_low\"] = ndcg_df.loc[algorithm]['low']\n",
    "                movies_NDCGs_eva1.at[algorithm, pop_n+\"_med\"] = ndcg_df.loc[algorithm]['med']\n",
    "                movies_NDCGs_eva1.at[algorithm, pop_n+\"_high\"] =ndcg_df.loc[algorithm]['high']\n",
    "                        \n",
    "        elif eva_str==\"eva_two\":\n",
    "            for algorithm in algo_names:\n",
    "                movies_NDCGs_eva2.at[algorithm, pop_n+\"_low\"] = ndcg_df.loc[algorithm]['low']\n",
    "                movies_NDCGs_eva2.at[algorithm, pop_n+\"_med\"] = ndcg_df.loc[algorithm]['med']\n",
    "                movies_NDCGs_eva2.at[algorithm, pop_n+\"_high\"] =ndcg_df.loc[algorithm]['high']\n",
    "            \n",
    "        else:\n",
    "            for algorithm in algo_names:\n",
    "                movies_NDCGs_eva3.at[algorithm, pop_n+\"_low\"] = ndcg_df.loc[algorithm]['low']\n",
    "                movies_NDCGs_eva3.at[algorithm, pop_n+\"_med\"] = ndcg_df.loc[algorithm]['med']\n",
    "                movies_NDCGs_eva3.at[algorithm, pop_n+\"_high\"] =ndcg_df.loc[algorithm]['high']"
   ]
  },
  {
   "cell_type": "code",
   "execution_count": null,
   "id": "c6070571-b3db-4574-a50d-134c7fcb7a40",
   "metadata": {},
   "outputs": [],
   "source": [
    "with open(\"latex_tables/movies_NDCGs_eva1.tex\", \"w\") as tf:\n",
    "    tf.write(np.round(movies_NDCGs_eva1,3).to_latex())\n",
    "with open(\"latex_tables/movies_NDCGs_eva2.tex\", \"w\") as tf:\n",
    "    tf.write(np.round(movies_NDCGs_eva2,3).to_latex())\n",
    "with open(\"latex_tables/movies_NDCGs_eva3.tex\", \"w\") as tf:\n",
    "    tf.write(np.round(movies_NDCGs_eva3,3).to_latex())"
   ]
  },
  {
   "cell_type": "code",
   "execution_count": null,
   "id": "4fe146a9-08c7-4ae3-823a-bc8ff6436e12",
   "metadata": {},
   "outputs": [],
   "source": [
    "new_results_location = 'results/'\n",
    "for combi in all_combinations:\n",
    "    \n",
    "    if 'movies' in combi: \n",
    "        eva_str = combi[1]\n",
    "        pop_n = combi[2]\n",
    "        print(eva_str, pop_n)\n",
    "        print('----------------')\n",
    "        path_ttest = new_results_location+\"NDCG_ttests_movies_\"+eva_str+\"_\"+pop_n+\".csv\"\n",
    "        pvalues = pd.read_csv(path_ttest, index_col=0).drop(['MostPop'])\n",
    "        print((pvalues<0.005)&(pvalues>0.0)&(pvalues!=1.0))\n",
    "        print(pvalues)"
   ]
  }
 ],
 "metadata": {
  "kernelspec": {
   "display_name": "Python 3 (ipykernel)",
   "language": "python",
   "name": "python3"
  },
  "language_info": {
   "codemirror_mode": {
    "name": "ipython",
    "version": 3
   },
   "file_extension": ".py",
   "mimetype": "text/x-python",
   "name": "python",
   "nbconvert_exporter": "python",
   "pygments_lexer": "ipython3",
   "version": "3.8.18"
  }
 },
 "nbformat": 4,
 "nbformat_minor": 5
}
