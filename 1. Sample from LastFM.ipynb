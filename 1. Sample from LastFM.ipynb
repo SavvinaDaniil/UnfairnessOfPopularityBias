{
 "cells": [
  {
   "cell_type": "markdown",
   "id": "2ac9ab27",
   "metadata": {},
   "source": [
    "In this notebook, we are sampling from the LastFM data in order to be able to train all the algorithms on it."
   ]
  },
  {
   "cell_type": "markdown",
   "id": "98fa92d7",
   "metadata": {},
   "source": [
    "# Libraries"
   ]
  },
  {
   "cell_type": "code",
   "execution_count": 4,
   "id": "02d68b94",
   "metadata": {},
   "outputs": [],
   "source": [
    "import warnings\n",
    "warnings.simplefilter(action='ignore', category=FutureWarning)\n",
    "import os\n",
    "import matplotlib.pyplot as plt\n",
    "import random as rd\n",
    "import pandas as pd\n",
    "import numpy as np\n",
    "from tqdm import tqdm\n",
    "import time\n",
    "#from analyze_data import calculate_gini_coefficient\n",
    "#from plots import plot_Lorenz\n",
    "\n",
    "from collections import defaultdict\n",
    "from scipy import stats\n",
    "from numpy.linalg import norm\n",
    "import seaborn as sns\n",
    "from sklearn.preprocessing import MinMaxScaler\n",
    "# set plot style: grey grid in the background:\n",
    "sns.set(style=\"darkgrid\")\n",
    "pd.set_option(\"display.precision\", 8)"
   ]
  },
  {
   "cell_type": "markdown",
   "id": "82aee17c",
   "metadata": {},
   "source": [
    "# Read data"
   ]
  },
  {
   "cell_type": "code",
   "execution_count": 5,
   "id": "406e2d76",
   "metadata": {},
   "outputs": [],
   "source": [
    "top_fraction = 0.2 # the percentage of items that are labelled \"popular\""
   ]
  },
  {
   "cell_type": "code",
   "execution_count": 6,
   "id": "694ecabe",
   "metadata": {},
   "outputs": [
    {
     "name": "stdout",
     "output_type": "stream",
     "text": [
      "No. of user events: 28718087\n"
     ]
    }
   ],
   "source": [
    "user_events_file = 'https://media.githubusercontent.com/media/SavvinaDaniil/UnfairnessOfPopularityBias/main/data/ratings_music.txt'\n",
    "\n",
    "# read user events\n",
    "item_col = \"artist\"\n",
    "cols = ['user',item_col, 'album', 'track', 'timestamp']\n",
    "df_events_music = pd.read_csv(user_events_file, sep = '\\t', names = cols)\n",
    "\n",
    "print('No. of user events: ' + str(len(df_events_music)))"
   ]
  },
  {
   "cell_type": "code",
   "execution_count": 7,
   "id": "4f2fc164",
   "metadata": {},
   "outputs": [
    {
     "name": "stdout",
     "output_type": "stream",
     "text": [
      "No. user-item interactions: 1755361\n"
     ]
    }
   ],
   "source": [
    "# create user-item matrix\n",
    "df_events_music = df_events_music.groupby(['user', item_col]).size().reset_index(name='rating')\n",
    "print('No. user-item interactions: ' + str(len(df_events_music)))"
   ]
  },
  {
   "cell_type": "code",
   "execution_count": 8,
   "id": "ecd505c4",
   "metadata": {},
   "outputs": [],
   "source": [
    "df_events_music = df_events_music.astype(\"int\")"
   ]
  },
  {
   "cell_type": "markdown",
   "id": "6e62dd32",
   "metadata": {},
   "source": [
    "# Analyze data"
   ]
  },
  {
   "cell_type": "code",
   "execution_count": 9,
   "id": "dda4cde2",
   "metadata": {},
   "outputs": [],
   "source": [
    "def users_and_items(df_events, user_col, item_col):\n",
    "    print('No. user events: ' + str(len(df_events)))\n",
    "    print('No. items: ' + str(len(df_events[item_col].unique())))\n",
    "    print('No. users: ' + str(len(df_events[user_col].unique())))\n",
    "    print(\"\\n\")\n",
    "def user_distribution(df_events, user_col, item_col):\n",
    "    user_dist = df_events[user_col].value_counts() \n",
    "    num_users = len(user_dist)\n",
    "    print('Mean '+item_col+'s per user: ' + str(np.round(user_dist.mean(),1))) \n",
    "    print('Min '+item_col+'s per user: ' + str(np.round(user_dist.min(),1))) \n",
    "    print('Max '+item_col+'s per user: ' + str(np.round(user_dist.max(),1)))\n",
    "    print(\"\\n\")\n",
    "    return user_dist, num_users\n",
    "def item_distribution(df_events, user_col, item_col):\n",
    "    item_dist = df_events[item_col].value_counts()\n",
    "    num_items = len(item_dist)\n",
    "    print('Mean users per '+item_col+': ' + str(np.round(item_dist.mean(),1))) \n",
    "    print('Min users per '+item_col+': ' + str(np.round(item_dist.min(),1))) \n",
    "    print('Max users per '+item_col+': ' + str(np.round(item_dist.max(),1))) \n",
    "    print(\"\\n\")\n",
    "    return item_dist, num_items"
   ]
  },
  {
   "cell_type": "code",
   "execution_count": 10,
   "id": "4a40e946",
   "metadata": {},
   "outputs": [
    {
     "name": "stdout",
     "output_type": "stream",
     "text": [
      "No. user events: 1755361\n",
      "No. items: 352805\n",
      "No. users: 3000\n",
      "\n",
      "\n",
      "Mean artists per user: 585.1\n",
      "Min artists per user: 18\n",
      "Max artists per user: 4011\n",
      "\n",
      "\n",
      "Mean users per artist: 5.0\n",
      "Min users per artist: 1\n",
      "Max users per artist: 1389\n",
      "\n",
      "\n"
     ]
    }
   ],
   "source": [
    "users_and_items(df_events_music, \"user\", item_col)\n",
    "user_dist_music, num_users_music = user_distribution(df_events_music, \"user\", item_col)\n",
    "item_dist_music, num_items_music = item_distribution(df_events_music, \"user\", item_col)"
   ]
  },
  {
   "cell_type": "code",
   "execution_count": 11,
   "id": "66098bb3",
   "metadata": {},
   "outputs": [
    {
     "name": "stdout",
     "output_type": "stream",
     "text": [
      "No. top artists: 70561\n"
     ]
    }
   ],
   "source": [
    "num_top_music = int(top_fraction * num_items_music)\n",
    "top_item_dist_music = item_dist_music[:num_top_music]\n",
    "print('No. top artists: ' + str(len(top_item_dist_music)))"
   ]
  },
  {
   "cell_type": "code",
   "execution_count": 12,
   "id": "ec2824a1",
   "metadata": {},
   "outputs": [],
   "source": [
    "def calculate_popularity_for_music(df_events, top_item_dist, item_dist, num_users, user_col, item_col, low_users, medium_users, high_users):\n",
    "    pop_count = [] # number of top items per user\n",
    "    user_hist = [] # user history sizes\n",
    "    pop_fraq = [] # relative number of top items per user\n",
    "    pop_item_fraq = [] # average popularity of items in user profiles\n",
    "    low_profile_size = 0\n",
    "    low_gap = 0\n",
    "    medium_profile_size = 0\n",
    "    medium_gap = 0\n",
    "    high_profile_size = 0\n",
    "    high_gap = 0\n",
    "    low_ratio = 0\n",
    "    medium_ratio = 0\n",
    "    high_ratio = 0\n",
    "    \n",
    "    i=0\n",
    "    for u, df in df_events.groupby(user_col):\n",
    "        no_user_items = len(set(df[item_col]))\n",
    "        no_user_pop_items = len(set(df[item_col]) & set(top_item_dist.index))\n",
    "        pop_count.append(no_user_pop_items)\n",
    "        user_hist.append(no_user_items) \n",
    "        pop_fraq.append(no_user_pop_items / no_user_items)\n",
    "        user_pop_item_fraq = sum(item_dist[df[item_col]] / num_users) / no_user_items\n",
    "        pop_item_fraq.append(user_pop_item_fraq)\n",
    "    \n",
    "        if u in low_users.index: # get user group-specific values\n",
    "            low_profile_size += no_user_items\n",
    "            low_gap += user_pop_item_fraq\n",
    "            low_ratio += no_user_pop_items / no_user_items\n",
    "        elif u in medium_users.index:\n",
    "            medium_profile_size += no_user_items\n",
    "            medium_gap += user_pop_item_fraq\n",
    "            medium_ratio += no_user_pop_items / no_user_items\n",
    "        else:\n",
    "            high_profile_size += no_user_items\n",
    "            high_gap += user_pop_item_fraq\n",
    "            high_ratio += no_user_pop_items / no_user_items\n",
    "        i+=1\n",
    "        if i%1000==0:\n",
    "            print(i)\n",
    "    low_profile_size /= len(low_users)\n",
    "    medium_profile_size /= len(medium_users)\n",
    "    high_profile_size /= len(high_users)\n",
    "    low_ratio /= len(low_users)\n",
    "    medium_ratio /= len(medium_users)\n",
    "    high_ratio /= len(high_users)\n",
    "    low_gap /= len(low_users)\n",
    "    medium_gap /= len(medium_users)\n",
    "    high_gap /= len(high_users)\n",
    "  \n",
    "    return pop_count,user_hist,pop_fraq, pop_item_fraq, low_profile_size, medium_profile_size, high_profile_size, low_gap, medium_gap, high_gap, low_ratio, medium_ratio, high_ratio"
   ]
  },
  {
   "cell_type": "code",
   "execution_count": 13,
   "id": "493843cb",
   "metadata": {},
   "outputs": [],
   "source": [
    "low_user_file = \"https://media.githubusercontent.com/media/SavvinaDaniil/UnfairnessOfPopularityBias/main/data/low_main_users.txt\"\n",
    "medium_user_file = \"https://media.githubusercontent.com/media/SavvinaDaniil/UnfairnessOfPopularityBias/main/data/medium_main_users.txt\"\n",
    "high_user_file = \"https://media.githubusercontent.com/media/SavvinaDaniil/UnfairnessOfPopularityBias/main/data/high_main_users.txt\""
   ]
  },
  {
   "cell_type": "code",
   "execution_count": 14,
   "id": "5636f3a8",
   "metadata": {},
   "outputs": [],
   "source": [
    "def read(low_user_file, medium_user_file, high_user_file):\n",
    "    low_users = pd.read_csv(low_user_file, sep=',').set_index('user_id')\n",
    "    medium_users = pd.read_csv(medium_user_file, sep=',').set_index('user_id')\n",
    "    high_users = pd.read_csv(high_user_file, sep=',').set_index('user_id')\n",
    "    no_users = len(low_users) + len(medium_users) + len(high_users)\n",
    "    print('No. of users: ' + str(no_users))\n",
    "    \n",
    "    mainstreaminess = \"M_global_R_APC\"\n",
    "    \n",
    "    print('Average mainstreaminess per user for low: ' + str(low_users[mainstreaminess].mean()))\n",
    "    print('Average mainstreaminess per user for med: ' + str(medium_users[mainstreaminess].mean()))\n",
    "    print('Average mainstreaminess per user for high: ' + str(high_users[mainstreaminess].mean()))\n",
    "    return no_users, low_users, medium_users, high_users"
   ]
  },
  {
   "cell_type": "code",
   "execution_count": 15,
   "id": "be6267f3",
   "metadata": {},
   "outputs": [
    {
     "name": "stdout",
     "output_type": "stream",
     "text": [
      "No. of users: 3000\n",
      "Average mainstreaminess per user for low: 0.009333709599999998\n",
      "Average mainstreaminess per user for med: 0.18199761010999999\n",
      "Average mainstreaminess per user for high: 0.33798161341000005\n"
     ]
    }
   ],
   "source": [
    "num_users_music, low_music, med_music, high_music= read(low_user_file, medium_user_file, high_user_file)"
   ]
  },
  {
   "cell_type": "code",
   "execution_count": 16,
   "id": "66feba7b",
   "metadata": {},
   "outputs": [
    {
     "name": "stdout",
     "output_type": "stream",
     "text": [
      "1000\n",
      "2000\n",
      "3000\n"
     ]
    }
   ],
   "source": [
    "pop_count_music,user_hist_music,pop_fraq_music, pop_item_fraq_music, low_profile_size_music, med_profile_size_music, high_profile_size_music, low_GAP_music, med_GAP_music, high_GAP_music, low_ratio_music, med_ratio_music, high_ratio_music = calculate_popularity_for_music(df_events_music, top_item_dist_music, item_dist_music, num_users_music, \"user\", \"artist\", low_music, med_music, high_music)"
   ]
  },
  {
   "cell_type": "markdown",
   "id": "4eefc0ba",
   "metadata": {},
   "source": [
    "# Plot distribution"
   ]
  },
  {
   "cell_type": "code",
   "execution_count": 17,
   "id": "7dcc5d6e",
   "metadata": {},
   "outputs": [],
   "source": [
    "def plot_data_distribution(item_dist, item_col):\n",
    "    plt.figure()\n",
    "    ax = plt.axes()\n",
    "    ax.spines['bottom'].set_color('w')\n",
    "    ax.spines['top'].set_color('w')\n",
    "    ax.spines['right'].set_color('w')\n",
    "    ax.spines['left'].set_color('w')\n",
    "    ax.spines['left'].set_zorder(0)\n",
    "    ax.xaxis.set_ticks_position('none') \n",
    "    ax.xaxis.set_major_locator(plt.MaxNLocator(5))\n",
    "    ax.yaxis.set_ticks_position('none') \n",
    "    ax.set_facecolor(\"aliceblue\")\n",
    "    plt.grid(color = \"w\",linewidth = 2 )\n",
    "    plt.plot(item_dist.values)\n",
    "    plt.xticks(fontsize='13')\n",
    "    plt.yticks(fontsize='13')\n",
    "    plt.xlabel(item_col, fontsize='20')\n",
    "    plt.ylabel('Number of users', fontsize='20')\n",
    "    plt.show(block=True)"
   ]
  },
  {
   "cell_type": "code",
   "execution_count": 18,
   "id": "a80e9e5a",
   "metadata": {},
   "outputs": [
    {
     "data": {
      "image/png": "[encoded data removed]",
      "text/plain": [
       "<Figure size 640x480 with 1 Axes>"
      ]
     },
     "metadata": {},
     "output_type": "display_data"
    }
   ],
   "source": [
    "plot_data_distribution(item_dist_music, item_col)"
   ]
  },
  {
   "cell_type": "code",
   "execution_count": 19,
   "id": "1966533b",
   "metadata": {},
   "outputs": [
    {
     "data": {
      "text/plain": [
       "array([     0,      1,      2, ..., 352802, 352803, 352804])"
      ]
     },
     "execution_count": 19,
     "metadata": {},
     "output_type": "execute_result"
    }
   ],
   "source": [
    "np.arange(len(item_dist_music.values))"
   ]
  },
  {
   "cell_type": "markdown",
   "id": "26b9c621",
   "metadata": {},
   "source": [
    "# Sampled data"
   ]
  },
  {
   "cell_type": "code",
   "execution_count": 20,
   "id": "19b791f1",
   "metadata": {},
   "outputs": [],
   "source": [
    "limit = 20 # how many listeners an artist must have to be included in the sampled dataset"
   ]
  },
  {
   "cell_type": "code",
   "execution_count": 21,
   "id": "2f0f6e3b",
   "metadata": {},
   "outputs": [],
   "source": [
    "sampled_items = list(item_dist_music[item_dist_music>limit].index) # artists that have more than 20 listeners"
   ]
  },
  {
   "cell_type": "code",
   "execution_count": 22,
   "id": "7a4427a4",
   "metadata": {},
   "outputs": [
    {
     "data": {
      "text/plain": [
       "12690"
      ]
     },
     "execution_count": 22,
     "metadata": {},
     "output_type": "execute_result"
    }
   ],
   "source": [
    "len(sampled_items)"
   ]
  },
  {
   "cell_type": "code",
   "execution_count": 23,
   "id": "5ae37cd9",
   "metadata": {},
   "outputs": [],
   "source": [
    "sampled_df_events_music = df_events_music[df_events_music.artist.isin(sampled_items)] # ratings of these sampled artists"
   ]
  },
  {
   "cell_type": "code",
   "execution_count": 24,
   "id": "f001c842",
   "metadata": {
    "scrolled": true
   },
   "outputs": [
    {
     "data": {
      "text/plain": [
       "1008479"
      ]
     },
     "execution_count": 24,
     "metadata": {},
     "output_type": "execute_result"
    }
   ],
   "source": [
    "len(sampled_df_events_music)"
   ]
  },
  {
   "cell_type": "markdown",
   "id": "8f5fd960",
   "metadata": {},
   "source": [
    "# Analyze sampled data"
   ]
  },
  {
   "cell_type": "code",
   "execution_count": 25,
   "id": "98ba3cf1",
   "metadata": {
    "scrolled": true
   },
   "outputs": [
    {
     "name": "stdout",
     "output_type": "stream",
     "text": [
      "No. user events: 1008479\n",
      "No. items: 12690\n",
      "No. users: 3000\n",
      "\n",
      "\n",
      "Mean artists per user: 336.2\n",
      "Min artists per user: 4\n",
      "Max artists per user: 2057\n",
      "\n",
      "\n",
      "Mean users per artist: 79.5\n",
      "Min users per artist: 21\n",
      "Max users per artist: 1389\n",
      "\n",
      "\n"
     ]
    }
   ],
   "source": [
    "users_and_items(sampled_df_events_music, \"user\", item_col)\n",
    "user_dist_music, num_users_music = user_distribution(sampled_df_events_music, \"user\", item_col)\n",
    "item_dist_music, num_items_music = item_distribution(sampled_df_events_music, \"user\", item_col)"
   ]
  },
  {
   "cell_type": "code",
   "execution_count": 26,
   "id": "ca5aed65",
   "metadata": {},
   "outputs": [
    {
     "data": {
      "image/png": "[encoded data removed]",
      "text/plain": [
       "<Figure size 640x480 with 1 Axes>"
      ]
     },
     "metadata": {},
     "output_type": "display_data"
    }
   ],
   "source": [
    "plot_data_distribution(item_dist_music, item_col)"
   ]
  },
  {
   "cell_type": "markdown",
   "id": "decb0f61",
   "metadata": {},
   "source": [
    "# Save sampled data"
   ]
  },
  {
   "cell_type": "code",
   "execution_count": 27,
   "id": "9351c4f2",
   "metadata": {},
   "outputs": [],
   "source": [
    "sampled_df_events_music.to_csv(\"data/relevant_music_data_20.csv\")"
   ]
  }
 ],
 "metadata": {
  "kernelspec": {
   "display_name": "Python 3 (ipykernel)",
   "language": "python",
   "name": "python3"
  },
  "language_info": {
   "codemirror_mode": {
    "name": "ipython",
    "version": 3
   },
   "file_extension": ".py",
   "mimetype": "text/x-python",
   "name": "python",
   "nbconvert_exporter": "python",
   "pygments_lexer": "ipython3",
   "version": "3.8.18"
  }
 },
 "nbformat": 4,
 "nbformat_minor": 5
}
