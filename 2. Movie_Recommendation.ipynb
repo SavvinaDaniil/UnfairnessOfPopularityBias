{
 "cells": [
  {
   "cell_type": "markdown",
   "metadata": {
    "id": "NXI0aYKkUntj"
   },
   "source": [
    "This notebook should be run on Google Colab.\n",
    "<a href=\"https://colab.research.google.com/github/SavvinaDaniil/UnfairnessOfPopularityBias/blob/main/2. Movie_Recommendation.ipynb\" target=\"_parent\"><img src=\"https://colab.research.google.com/assets/colab-badge.svg\" alt=\"Open in Colab\"/></a>"
   ]
  },
  {
   "cell_type": "markdown",
   "metadata": {
    "id": "T7NA8UpqUnnV"
   },
   "source": [
    "# Process\n",
    "In this notebook, we will train all the algorithms on MovieLens1M using <a href=\"https://cornac.readthedocs.io/en/latest/\">Cornac</a>. "
   ]
  },
  {
   "cell_type": "markdown",
   "metadata": {
    "id": "6HyLhxzyUu6w"
   },
   "source": [
    "## A. Import lbraries"
   ]
  },
  {
   "cell_type": "code",
   "execution_count": 1,
   "metadata": {
    "id": "5YRmDovpU54c"
   },
   "outputs": [],
   "source": [
    "import warnings\n",
    "warnings.simplefilter(action='ignore', category=FutureWarning)\n",
    "import matplotlib.pyplot as plt\n",
    "import random as rd\n",
    "import pandas as pd\n",
    "import numpy as np\n",
    "from tqdm import tqdm\n",
    "import pickle as pkl\n",
    "import time\n",
    "\n",
    "# Cornac imports\n",
    "import cornac\n",
    "from cornac.eval_methods import RatioSplit\n",
    "from cornac.data import Reader as CornacReader\n",
    "from cornac.models import MostPop, MF, PMF, BPR, NeuMF, WMF, HPF, VAECF, ItemKNN, UserKNN, BaselineOnly \n",
    "from cornac.models import NMF as CornacNMF \n",
    "from cornac.metrics import MAE, MSE, RMSE, Precision, Recall, NDCG, AUC, MAP, FMeasure, MRR\n",
    "\n",
    "from collections import defaultdict\n",
    "from scipy import stats\n",
    "from sklearn.metrics import mean_squared_error, precision_score, recall_score, ndcg_score\n",
    "from numpy.linalg import norm\n",
    "import seaborn as sns\n",
    "from sklearn.preprocessing import MinMaxScaler\n",
    "# set plot style: grey grid in the background:\n",
    "sns.set(style=\"darkgrid\")\n",
    "pd.set_option(\"display.precision\", 8)"
   ]
  },
  {
   "cell_type": "markdown",
   "metadata": {
    "id": "wJr35vAGVuM4"
   },
   "source": [
    "## B. Set hyperparameters\n",
    "There are certain hyperparameters that need to be tuned before the run. "
   ]
  },
  {
   "cell_type": "code",
   "execution_count": 2,
   "metadata": {
    "id": "Wz1OKVKoVkkD"
   },
   "outputs": [],
   "source": [
    "# constants and initialization\n",
    "rating_threshold = 1.0 # needed for the cornac library: Threshold used to binarize rating values into positive or negative feedback for model evaluation using ranking metrics (rating metrics are not affected). \n",
    "my_seed = 0\n",
    "test_size = 0.2 # the percentage of \"hold out\" data that are used for testing\n",
    "predict_col = \"rating\"\n",
    "user_col = \"user\"\n",
    "top_fraction = 0.2 # the amount of items that will be considered \"popular\"\n",
    "\n",
    "rd.seed(my_seed) #seed for random functions\n",
    "np.random.seed(my_seed) #seed for all numpy stuff"
   ]
  },
  {
   "cell_type": "markdown",
   "metadata": {
    "id": "3Z0PCJ5LZen3"
   },
   "source": [
    "## C. Read files"
   ]
  },
  {
   "cell_type": "code",
   "execution_count": 3,
   "metadata": {
    "colab": {
     "base_uri": "https://localhost:8080/"
    },
    "id": "xWjNXmvmZcTw",
    "outputId": "473bad69-afa1-47d3-9c7a-57abcb33ac30"
   },
   "outputs": [
    {
     "name": "stdout",
     "output_type": "stream",
     "text": [
      "No. of user events: 1000209\n"
     ]
    }
   ],
   "source": [
    "user_events_file = 'https://raw.githubusercontent.com/SavvinaDaniil/UnfairnessOfPopularityBias/main/data/ratings_movies.dat'\n",
    "\n",
    "# read user events\n",
    "cols = ['user', 'movie', 'rating', 'timestamp']\n",
    "df_events = pd.read_table(user_events_file, sep = \"::\", engine=\"python\", names=cols)\n",
    "item_col = \"movie\"\n",
    "print('No. of user events: ' + str(len(df_events)))"
   ]
  },
  {
   "cell_type": "code",
   "execution_count": 4,
   "metadata": {
    "colab": {
     "base_uri": "https://localhost:8080/",
     "height": 206
    },
    "id": "afPDrweUqAgb",
    "outputId": "1da09f21-e2c6-4a5e-a05f-c7378b3d561f"
   },
   "outputs": [
    {
     "data": {
      "text/html": [
       "<div>\n",
       "<style scoped>\n",
       "    .dataframe tbody tr th:only-of-type {\n",
       "        vertical-align: middle;\n",
       "    }\n",
       "\n",
       "    .dataframe tbody tr th {\n",
       "        vertical-align: top;\n",
       "    }\n",
       "\n",
       "    .dataframe thead th {\n",
       "        text-align: right;\n",
       "    }\n",
       "</style>\n",
       "<table border=\"1\" class=\"dataframe\">\n",
       "  <thead>\n",
       "    <tr style=\"text-align: right;\">\n",
       "      <th></th>\n",
       "      <th>user</th>\n",
       "      <th>movie</th>\n",
       "      <th>rating</th>\n",
       "      <th>timestamp</th>\n",
       "    </tr>\n",
       "  </thead>\n",
       "  <tbody>\n",
       "    <tr>\n",
       "      <th>0</th>\n",
       "      <td>1</td>\n",
       "      <td>1193</td>\n",
       "      <td>5</td>\n",
       "      <td>978300760</td>\n",
       "    </tr>\n",
       "    <tr>\n",
       "      <th>1</th>\n",
       "      <td>1</td>\n",
       "      <td>661</td>\n",
       "      <td>3</td>\n",
       "      <td>978302109</td>\n",
       "    </tr>\n",
       "    <tr>\n",
       "      <th>2</th>\n",
       "      <td>1</td>\n",
       "      <td>914</td>\n",
       "      <td>3</td>\n",
       "      <td>978301968</td>\n",
       "    </tr>\n",
       "    <tr>\n",
       "      <th>3</th>\n",
       "      <td>1</td>\n",
       "      <td>3408</td>\n",
       "      <td>4</td>\n",
       "      <td>978300275</td>\n",
       "    </tr>\n",
       "    <tr>\n",
       "      <th>4</th>\n",
       "      <td>1</td>\n",
       "      <td>2355</td>\n",
       "      <td>5</td>\n",
       "      <td>978824291</td>\n",
       "    </tr>\n",
       "  </tbody>\n",
       "</table>\n",
       "</div>"
      ],
      "text/plain": [
       "   user  movie  rating  timestamp\n",
       "0     1   1193       5  978300760\n",
       "1     1    661       3  978302109\n",
       "2     1    914       3  978301968\n",
       "3     1   3408       4  978300275\n",
       "4     1   2355       5  978824291"
      ]
     },
     "execution_count": 4,
     "metadata": {},
     "output_type": "execute_result"
    }
   ],
   "source": [
    "df_events.head()"
   ]
  },
  {
   "cell_type": "markdown",
   "metadata": {
    "id": "iMVCVOTmaozs"
   },
   "source": [
    "## D. Data analysis"
   ]
  },
  {
   "cell_type": "code",
   "execution_count": 5,
   "metadata": {
    "id": "WpGdgR_iam3y"
   },
   "outputs": [],
   "source": [
    "def users_and_items(df_events, user_col, item_col):\n",
    "    print('No. user events: ' + str(len(df_events)))\n",
    "    print('No. items: ' + str(len(df_events[item_col].unique())))\n",
    "    print('No. users: ' + str(len(df_events[user_col].unique())))\n",
    "    print(\"\\n\")\n",
    "def user_distribution(df_events, user_col, item_col):\n",
    "    user_dist = df_events[user_col].value_counts() \n",
    "    num_users = len(user_dist)\n",
    "    print('Mean '+item_col+'s per user: ' + str(np.round(user_dist.mean(),1))) \n",
    "    print('Min '+item_col+'s per user: ' + str(np.round(user_dist.min(),1))) \n",
    "    print('Max '+item_col+'s per user: ' + str(np.round(user_dist.max(),1)))\n",
    "    print(\"\\n\")\n",
    "    return user_dist, num_users\n",
    "def item_distribution(df_events, user_col, item_col):\n",
    "    item_dist = df_events[item_col].value_counts()\n",
    "    num_items = len(item_dist)\n",
    "    print('Mean users per '+item_col+': ' + str(np.round(item_dist.mean(),1))) \n",
    "    print('Min users per '+item_col+': ' + str(np.round(item_dist.min(),1))) \n",
    "    print('Max users per '+item_col+': ' + str(np.round(item_dist.max(),1))) \n",
    "    print(\"\\n\")\n",
    "    return item_dist, num_items"
   ]
  },
  {
   "cell_type": "code",
   "execution_count": 6,
   "metadata": {
    "colab": {
     "base_uri": "https://localhost:8080/"
    },
    "id": "1jwJq8rda1jS",
    "outputId": "c72b7146-0d64-49b0-b411-56dc5afec979"
   },
   "outputs": [
    {
     "name": "stdout",
     "output_type": "stream",
     "text": [
      "No. user events: 1000209\n",
      "No. items: 3706\n",
      "No. users: 6040\n",
      "\n",
      "\n",
      "Mean movies per user: 165.6\n",
      "Min movies per user: 20\n",
      "Max movies per user: 2314\n",
      "\n",
      "\n",
      "Mean users per movie: 269.9\n",
      "Min users per movie: 1\n",
      "Max users per movie: 3428\n",
      "\n",
      "\n"
     ]
    }
   ],
   "source": [
    "users_and_items(df_events, user_col, item_col)\n",
    "user_dist, num_users = user_distribution(df_events, user_col, item_col)\n",
    "item_dist, num_items = item_distribution(df_events, user_col, item_col)"
   ]
  },
  {
   "cell_type": "code",
   "execution_count": 7,
   "metadata": {
    "id": "C7wdClok5BPv"
   },
   "outputs": [],
   "source": [
    "# create item dataframe with normalized item counts\n",
    "df_item_dist = pd.DataFrame(item_dist) # turn the series into a dataframe\n",
    "df_item_dist.columns = ['count']\n",
    "df_item_dist['count'] /= num_users # basically the popularity of every item\n"
   ]
  },
  {
   "cell_type": "code",
   "execution_count": 8,
   "metadata": {
    "colab": {
     "base_uri": "https://localhost:8080/",
     "height": 206
    },
    "id": "UMNYiSh35KG8",
    "outputId": "7184403f-43de-4501-af1f-c9ff6502914a"
   },
   "outputs": [
    {
     "data": {
      "text/html": [
       "<div>\n",
       "<style scoped>\n",
       "    .dataframe tbody tr th:only-of-type {\n",
       "        vertical-align: middle;\n",
       "    }\n",
       "\n",
       "    .dataframe tbody tr th {\n",
       "        vertical-align: top;\n",
       "    }\n",
       "\n",
       "    .dataframe thead th {\n",
       "        text-align: right;\n",
       "    }\n",
       "</style>\n",
       "<table border=\"1\" class=\"dataframe\">\n",
       "  <thead>\n",
       "    <tr style=\"text-align: right;\">\n",
       "      <th></th>\n",
       "      <th>count</th>\n",
       "    </tr>\n",
       "  </thead>\n",
       "  <tbody>\n",
       "    <tr>\n",
       "      <th>2858</th>\n",
       "      <td>0.56754967</td>\n",
       "    </tr>\n",
       "    <tr>\n",
       "      <th>260</th>\n",
       "      <td>0.49519868</td>\n",
       "    </tr>\n",
       "    <tr>\n",
       "      <th>1196</th>\n",
       "      <td>0.49503311</td>\n",
       "    </tr>\n",
       "    <tr>\n",
       "      <th>1210</th>\n",
       "      <td>0.47731788</td>\n",
       "    </tr>\n",
       "    <tr>\n",
       "      <th>480</th>\n",
       "      <td>0.44238411</td>\n",
       "    </tr>\n",
       "  </tbody>\n",
       "</table>\n",
       "</div>"
      ],
      "text/plain": [
       "           count\n",
       "2858  0.56754967\n",
       "260   0.49519868\n",
       "1196  0.49503311\n",
       "1210  0.47731788\n",
       "480   0.44238411"
      ]
     },
     "execution_count": 8,
     "metadata": {},
     "output_type": "execute_result"
    }
   ],
   "source": [
    "df_item_dist.head()"
   ]
  },
  {
   "cell_type": "code",
   "execution_count": 9,
   "metadata": {
    "id": "G7o_VBaUa4lH"
   },
   "outputs": [],
   "source": [
    "def plot_data_distribution(item_dist, item_col,log = False):\n",
    "    plt.figure()\n",
    "    ax = plt.axes()\n",
    "    ax.spines['bottom'].set_color('w')\n",
    "    ax.spines['top'].set_color('w')\n",
    "    ax.spines['right'].set_color('w')\n",
    "    ax.spines['left'].set_color('w')\n",
    "    ax.spines['left'].set_zorder(0)\n",
    "    ax.xaxis.set_ticks_position('none') \n",
    "    ax.yaxis.set_ticks_position('none') \n",
    "    ax.set_facecolor(\"aliceblue\")\n",
    "    plt.grid(color = \"w\",linewidth = 2 )\n",
    "    plt.plot(item_dist.values)\n",
    "    plt.xticks(fontsize='13')\n",
    "    plt.yticks(fontsize='13')\n",
    "    add = \"\"\n",
    "    if log:\n",
    "        plt.xscale('log')\n",
    "        plt.yscale('log')\n",
    "        add = \" (log)\"\n",
    "    plt.xlabel(item_col+add, fontsize='14')\n",
    "    plt.ylabel('Number of users' + add, fontsize='15')\n",
    "    plt.show(block=True)\n",
    "\n",
    "def plot_popularity_distribution(pop_fraq, item_col):\n",
    "    plt.figure()\n",
    "    ax = plt.axes()\n",
    "    ax.spines['bottom'].set_color('w')\n",
    "    ax.spines['top'].set_color('w')\n",
    "    ax.spines['right'].set_color('w')\n",
    "    ax.spines['left'].set_color('w')\n",
    "    ax.spines['left'].set_zorder(0)\n",
    "    ax.xaxis.set_ticks_position('none') \n",
    "    ax.yaxis.set_ticks_position('none') \n",
    "    \n",
    "    ax.set_facecolor(\"aliceblue\")\n",
    "    plt.grid(color = \"w\",linewidth = 2 )\n",
    "    plt.plot(sorted(pop_fraq))\n",
    "    plt.xlabel('User', fontsize='15')\n",
    "    plt.xticks(fontsize='13')\n",
    "    plt.ylabel('Ratio of popular '+item_col+'s', fontsize='15')\n",
    "    plt.yticks(fontsize='13')\n",
    "    plt.axhline(y=0.8, color='black', linestyle='--', label='80% ratio of popular '+item_col+'s')\n",
    "    plt.legend(fontsize='15')\n",
    "    plt.show(block=True)"
   ]
  },
  {
   "cell_type": "code",
   "execution_count": 10,
   "metadata": {
    "colab": {
     "base_uri": "https://localhost:8080/",
     "height": 564
    },
    "id": "COATHnNGa_G5",
    "outputId": "acf8403a-0296-4636-bef2-27c1fc958728"
   },
   "outputs": [
    {
     "data": {
      "image/png": "[encoded data removed]",
      "text/plain": [
       "<Figure size 640x480 with 1 Axes>"
      ]
     },
     "metadata": {},
     "output_type": "display_data"
    },
    {
     "data": {
      "image/png": "[encoded data removed]",
      "text/plain": [
       "<Figure size 640x480 with 1 Axes>"
      ]
     },
     "metadata": {},
     "output_type": "display_data"
    }
   ],
   "source": [
    "plot_data_distribution(item_dist, item_col)\n",
    "plot_data_distribution(item_dist, item_col, True)"
   ]
  },
  {
   "cell_type": "markdown",
   "metadata": {
    "id": "KMiAQybFbFSj"
   },
   "source": [
    "## E. Popularity in the data"
   ]
  },
  {
   "cell_type": "code",
   "execution_count": 11,
   "metadata": {
    "colab": {
     "base_uri": "https://localhost:8080/"
    },
    "id": "jYCqPRLjbByM",
    "outputId": "fe2d54c4-226d-4d82-e855-4495748d6a35"
   },
   "outputs": [
    {
     "name": "stdout",
     "output_type": "stream",
     "text": [
      "No. items labeled as \"popular\": 741\n"
     ]
    }
   ],
   "source": [
    "num_top = int(top_fraction * num_items)\n",
    "top_item_dist = item_dist[:num_top]\n",
    "print('No. items labeled as \"popular\": ' + str(len(top_item_dist)))"
   ]
  },
  {
   "cell_type": "code",
   "execution_count": 12,
   "metadata": {
    "id": "T0vchbD9bIie"
   },
   "outputs": [],
   "source": [
    "def calculate_popularity(df_events, top_item_dist, item_dist, num_users, user_col, item_col):\n",
    "    pop_count = [] # number of top items per user\n",
    "    user_hist = [] # user history sizes\n",
    "    pop_fraq = [] # relative number of top items per user\n",
    "    pop_item_fraq = [] # average popularity of items in user profiles\n",
    "    i=0\n",
    "    for u, df in df_events.groupby(user_col):\n",
    "        no_user_items = len(set(df[item_col]))\n",
    "        no_user_pop_items = len(set(df[item_col]) & set(top_item_dist.index))\n",
    "        pop_count.append(no_user_pop_items)\n",
    "        user_hist.append(no_user_items) \n",
    "        pop_fraq.append(no_user_pop_items / no_user_items)\n",
    "        user_pop_item_fraq = sum(item_dist[df[item_col]] / num_users) / no_user_items\n",
    "        pop_item_fraq.append(user_pop_item_fraq)\n",
    "        i+=1\n",
    "        if i%1000==0:\n",
    "            print(i)\n",
    "    return pop_count,user_hist,pop_fraq, pop_item_fraq"
   ]
  },
  {
   "cell_type": "code",
   "execution_count": 13,
   "metadata": {
    "colab": {
     "base_uri": "https://localhost:8080/"
    },
    "id": "bp0tmyMHbQJf",
    "outputId": "8c632e67-3cd4-417d-d199-694a5c24f8d9"
   },
   "outputs": [
    {
     "name": "stdout",
     "output_type": "stream",
     "text": [
      "1000\n",
      "2000\n",
      "3000\n",
      "4000\n",
      "5000\n",
      "6000\n"
     ]
    }
   ],
   "source": [
    "pop_count,user_hist,pop_fraq, pop_item_fraq = calculate_popularity(df_events, top_item_dist, item_dist, num_users, user_col, item_col)"
   ]
  },
  {
   "cell_type": "code",
   "execution_count": 14,
   "metadata": {
    "id": "RZwgf9kEbR52"
   },
   "outputs": [],
   "source": [
    "def plot_popularity_distribution(pop_fraq, item_col):\n",
    "    plt.figure()\n",
    "    ax = plt.axes()\n",
    "    ax.spines['bottom'].set_color('w')\n",
    "    ax.spines['top'].set_color('w')\n",
    "    ax.spines['right'].set_color('w')\n",
    "    ax.spines['left'].set_color('w')\n",
    "    ax.spines['left'].set_zorder(0)\n",
    "    ax.xaxis.set_ticks_position('none') \n",
    "    ax.yaxis.set_ticks_position('none') \n",
    "    \n",
    "    ax.set_facecolor(\"aliceblue\")\n",
    "    plt.grid(color = \"w\",linewidth = 2 )\n",
    "    plt.plot(sorted(pop_fraq))\n",
    "    plt.xlabel('User', fontsize='15')\n",
    "    plt.xticks(fontsize='13')\n",
    "    plt.ylabel('Ratio of popular '+item_col+'s', fontsize='15')\n",
    "    plt.yticks(fontsize='13')\n",
    "    plt.axhline(y=0.8, color='black', linestyle='--', label='80% ratio of popular '+item_col+'s')\n",
    "    plt.legend(fontsize='15')\n",
    "    plt.show(block=True)\n",
    "\n",
    "def plot_profile_size_vs_popularity(pop_metric, user_hist, way, item_col):\n",
    "    plt.figure()\n",
    "    ax = plt.axes()\n",
    "    ax.spines['bottom'].set_color('w')\n",
    "    ax.spines['top'].set_color('w')\n",
    "    ax.spines['right'].set_color('w')\n",
    "    ax.spines['left'].set_color('w')\n",
    "    ax.spines['left'].set_zorder(0)\n",
    "    ax.xaxis.set_ticks_position('none') \n",
    "    ax.yaxis.set_ticks_position('none') \n",
    "    \n",
    "    ax.set_facecolor(\"aliceblue\")\n",
    "    plt.grid(color = \"w\",linewidth = 2 )\n",
    "    slope, intercept, r_value, p_value, std_err = stats.linregress(user_hist, pop_metric)\n",
    "    print('R-value: ' + str(r_value))\n",
    "    line = slope * np.array(user_hist) + intercept\n",
    "    plt.plot(user_hist, pop_metric, 'o', user_hist, line)\n",
    "    plt.xlabel('User profile size', fontsize='15')\n",
    "    plt.xticks(fontsize='13')\n",
    "    if way == \"count\":\n",
    "        ylabel = \"Number of popular \"+item_col+\"s\"\n",
    "    elif way == \"percentage\":\n",
    "        ylabel = 'Percentage of popular '+item_col+'s'\n",
    "    else:\n",
    "        ylabel = \"Average popularity of \"+item_col+\"s\"\n",
    "    plt.ylabel(ylabel, fontsize='15')\n",
    "    plt.yticks(fontsize='13')\n",
    "    plt.show(block=True)"
   ]
  },
  {
   "cell_type": "code",
   "execution_count": 15,
   "metadata": {
    "colab": {
     "base_uri": "https://localhost:8080/",
     "height": 1000
    },
    "id": "WDFRIFsibZTI",
    "outputId": "7264bfe7-d802-45f7-d18f-20a96575e76b"
   },
   "outputs": [
    {
     "data": {
      "image/png": "[encoded data removed]",
      "text/plain": [
       "<Figure size 640x480 with 1 Axes>"
      ]
     },
     "metadata": {},
     "output_type": "display_data"
    },
    {
     "name": "stdout",
     "output_type": "stream",
     "text": [
      "R-value: 0.9662364112421091\n"
     ]
    },
    {
     "data": {
      "image/png": "[encoded data removed]",
      "text/plain": [
       "<Figure size 640x480 with 1 Axes>"
      ]
     },
     "metadata": {},
     "output_type": "display_data"
    },
    {
     "name": "stdout",
     "output_type": "stream",
     "text": [
      "R-value: -0.40259977494843086\n"
     ]
    },
    {
     "data": {
      "image/png": "[encoded data removed]",
      "text/plain": [
       "<Figure size 640x480 with 1 Axes>"
      ]
     },
     "metadata": {},
     "output_type": "display_data"
    },
    {
     "name": "stdout",
     "output_type": "stream",
     "text": [
      "R-value: -0.48167705404310895\n"
     ]
    },
    {
     "data": {
      "image/png": "[encoded data removed]",
      "text/plain": [
       "<Figure size 640x480 with 1 Axes>"
      ]
     },
     "metadata": {},
     "output_type": "display_data"
    }
   ],
   "source": [
    "plot_popularity_distribution(pop_fraq, item_col)\n",
    "plot_profile_size_vs_popularity(pop_count,user_hist, \"count\", item_col)\n",
    "plot_profile_size_vs_popularity(pop_fraq,user_hist, \"percentage\", item_col)\n",
    "plot_profile_size_vs_popularity(pop_item_fraq,user_hist, \"average\", item_col)"
   ]
  },
  {
   "cell_type": "markdown",
   "metadata": {
    "id": "nZ-KPsOzbduG"
   },
   "source": [
    "## F. User groups"
   ]
  },
  {
   "cell_type": "code",
   "execution_count": 16,
   "metadata": {
    "id": "n_hQEsRFbbhG"
   },
   "outputs": [],
   "source": [
    "def sort_user_dist(user_dist,pop_count, user_hist,pop_fraq,pop_item_fraq, by = \"pop_fraq\"):\n",
    "    user_dist = user_dist.sort_index()\n",
    "    user_dist_sorted = pd.DataFrame(data = user_dist)\n",
    "    \n",
    "    user_dist_sorted.columns = [\"count\"]\n",
    "    \n",
    "    user_dist_sorted[\"pop_count\"] = pop_count\n",
    "    user_dist_sorted[\"user_hist\"] = user_hist\n",
    "    user_dist_sorted[\"pop_fraq\"] = pop_fraq\n",
    "    user_dist_sorted[\"pop_item_fraq\"] = pop_item_fraq\n",
    "    \n",
    "    user_dist_sorted = user_dist_sorted.sort_values(by=[by])\n",
    "    return user_dist_sorted\n",
    "\n",
    "def split(user_dist_sorted, top_fraction):\n",
    "    low, med, high = np.split(user_dist_sorted, [int(top_fraction*len(user_dist_sorted)), int((1-top_fraction)*len(user_dist_sorted))])\n",
    "    return low, med, high\n",
    "def calculate_group_characteristics(low, med, high):\n",
    "    low_profile_size = low.user_hist.mean()\n",
    "    med_profile_size = med.user_hist.mean()\n",
    "    high_profile_size = high.user_hist.mean()\n",
    "    \n",
    "    low_nr_users = len(low)\n",
    "    med_nr_users = len(med)\n",
    "    high_nr_users = len(high)\n",
    "    \n",
    "    low_GAP = low.pop_item_fraq.mean()\n",
    "    med_GAP = med.pop_item_fraq.mean()\n",
    "    high_GAP = high.pop_item_fraq.mean()\n",
    "    \n",
    "    return low_profile_size, med_profile_size, high_profile_size, low_nr_users, med_nr_users, high_nr_users, low_GAP, med_GAP, high_GAP"
   ]
  },
  {
   "cell_type": "markdown",
   "metadata": {
    "id": "IVpmIvO0PjHm"
   },
   "source": [
    "### Make notion of popularity propensity choice\n",
    "The reader has to manually choose how to divide the users into groups according to their propensity for popular items."
   ]
  },
  {
   "cell_type": "code",
   "execution_count": 17,
   "metadata": {
    "id": "OzQ9eNt1Pj9w"
   },
   "outputs": [],
   "source": [
    "popularity_function = {'pop_one': \"pop_fraq\", # divide by percentage of popular items in profile\n",
    "             'pop_two': \"pop_item_fraq\"} # divide by average popularity in profile"
   ]
  },
  {
   "cell_type": "code",
   "execution_count": 320,
   "metadata": {
    "id": "FehS1Z1pPnLk"
   },
   "outputs": [],
   "source": [
    "pop_notion = \"pop_two\""
   ]
  },
  {
   "cell_type": "code",
   "execution_count": 321,
   "metadata": {
    "id": "RYwIQwD6bi3G"
   },
   "outputs": [],
   "source": [
    "user_dist_sorted = sort_user_dist(user_dist,pop_count, user_hist,pop_fraq,pop_item_fraq, by = popularity_function[pop_notion])\n",
    "low, med, high = split(user_dist_sorted, top_fraction)\n",
    "low_profile_size, med_profile_size, high_profile_size, low_nr_users, med_nr_users, high_nr_users, low_GAP, med_GAP, high_GAP = calculate_group_characteristics(low, med, high)"
   ]
  },
  {
   "cell_type": "code",
   "execution_count": 322,
   "metadata": {
    "colab": {
     "base_uri": "https://localhost:8080/"
    },
    "id": "7rmTLMN7bpDo",
    "outputId": "bffa9560-a34d-4f5f-afa5-02189f765f77"
   },
   "outputs": [
    {
     "name": "stdout",
     "output_type": "stream",
     "text": [
      "Niche GAP: 0.10553495904535196\n",
      "Diverse GAP: 0.15506376330643612\n",
      "Blockbuster-focused GAP: 0.21728886150684454\n"
     ]
    }
   ],
   "source": [
    "print('Niche GAP: ' + str(low_GAP))\n",
    "print('Diverse GAP: ' + str(med_GAP))\n",
    "print('Blockbuster-focused GAP: ' + str(high_GAP))"
   ]
  },
  {
   "cell_type": "code",
   "execution_count": 323,
   "metadata": {
    "id": "Dmf4J023byK4"
   },
   "outputs": [],
   "source": [
    "def plot_group_characteristics(low_nr, med_nr, high_nr, way, item_col):\n",
    "    plt.figure()\n",
    "    ax = plt.axes()\n",
    "    ax.spines['bottom'].set_color('w')\n",
    "    ax.spines['top'].set_color('w')\n",
    "    ax.spines['right'].set_color('w')\n",
    "    ax.spines['left'].set_color('w')\n",
    "    ax.spines['left'].set_zorder(0)\n",
    "    ax.xaxis.set_ticks_position('none') \n",
    "    ax.yaxis.set_ticks_position('none') \n",
    "    \n",
    "    ax.set_facecolor(\"aliceblue\")\n",
    "    plt.bar(np.arange(3), [low_nr, med_nr, high_nr])\n",
    "    plt.xticks(np.arange(3), ['Niche', 'Diverse', 'Blockbuster-focused'])\n",
    "    plt.xlabel('User group')\n",
    "    if way==\"size\":\n",
    "        ylabel = 'Average user profile size'\n",
    "    else:\n",
    "        ylabel = \"Number of users per group\"\n",
    "    plt.ylabel(ylabel)\n",
    "    \n",
    "    print('Niche: ' + str(low_nr))\n",
    "    print('Diverse: ' + str(med_nr))\n",
    "    print('Blockbuster-focused: ' + str(high_nr))\n",
    "    plt.show(block=True)"
   ]
  },
  {
   "cell_type": "code",
   "execution_count": 324,
   "metadata": {
    "colab": {
     "base_uri": "https://localhost:8080/",
     "height": 660
    },
    "id": "GByQlxuOb245",
    "outputId": "a7a2eca4-68b4-4d21-d735-9d310bc080ca"
   },
   "outputs": [
    {
     "name": "stdout",
     "output_type": "stream",
     "text": [
      "Niche: 1208\n",
      "Diverse: 3624\n",
      "Blockbuster-focused: 1208\n"
     ]
    },
    {
     "data": {
      "image/png": "[encoded data removed]",
      "text/plain": [
       "<Figure size 640x480 with 1 Axes>"
      ]
     },
     "metadata": {},
     "output_type": "display_data"
    },
    {
     "name": "stdout",
     "output_type": "stream",
     "text": [
      "Niche: 336.1076158940397\n",
      "Diverse: 145.6437637969095\n",
      "Blockbuster-focused: 54.94867549668874\n"
     ]
    },
    {
     "data": {
      "image/png": "[encoded data removed]",
      "text/plain": [
       "<Figure size 640x480 with 1 Axes>"
      ]
     },
     "metadata": {},
     "output_type": "display_data"
    }
   ],
   "source": [
    "plot_group_characteristics(low_nr_users, med_nr_users, high_nr_users, way = \"number\", item_col = item_col)\n",
    "plot_group_characteristics(low_profile_size, med_profile_size, high_profile_size, way = \"size\", item_col = item_col)"
   ]
  },
  {
   "cell_type": "markdown",
   "metadata": {
    "id": "gbQUQuRbcJ5H"
   },
   "source": [
    "## G. Recommendation"
   ]
  },
  {
   "cell_type": "code",
   "execution_count": 205,
   "metadata": {
    "colab": {
     "base_uri": "https://localhost:8080/",
     "height": 206
    },
    "id": "yJewyI61nSAv",
    "outputId": "da855818-0878-404a-a898-361d571c2695"
   },
   "outputs": [
    {
     "data": {
      "text/html": [
       "<div>\n",
       "<style scoped>\n",
       "    .dataframe tbody tr th:only-of-type {\n",
       "        vertical-align: middle;\n",
       "    }\n",
       "\n",
       "    .dataframe tbody tr th {\n",
       "        vertical-align: top;\n",
       "    }\n",
       "\n",
       "    .dataframe thead th {\n",
       "        text-align: right;\n",
       "    }\n",
       "</style>\n",
       "<table border=\"1\" class=\"dataframe\">\n",
       "  <thead>\n",
       "    <tr style=\"text-align: right;\">\n",
       "      <th></th>\n",
       "      <th>user</th>\n",
       "      <th>movie</th>\n",
       "      <th>rating</th>\n",
       "      <th>timestamp</th>\n",
       "    </tr>\n",
       "  </thead>\n",
       "  <tbody>\n",
       "    <tr>\n",
       "      <th>0</th>\n",
       "      <td>1</td>\n",
       "      <td>1193</td>\n",
       "      <td>5</td>\n",
       "      <td>978300760</td>\n",
       "    </tr>\n",
       "    <tr>\n",
       "      <th>1</th>\n",
       "      <td>1</td>\n",
       "      <td>661</td>\n",
       "      <td>3</td>\n",
       "      <td>978302109</td>\n",
       "    </tr>\n",
       "    <tr>\n",
       "      <th>2</th>\n",
       "      <td>1</td>\n",
       "      <td>914</td>\n",
       "      <td>3</td>\n",
       "      <td>978301968</td>\n",
       "    </tr>\n",
       "    <tr>\n",
       "      <th>3</th>\n",
       "      <td>1</td>\n",
       "      <td>3408</td>\n",
       "      <td>4</td>\n",
       "      <td>978300275</td>\n",
       "    </tr>\n",
       "    <tr>\n",
       "      <th>4</th>\n",
       "      <td>1</td>\n",
       "      <td>2355</td>\n",
       "      <td>5</td>\n",
       "      <td>978824291</td>\n",
       "    </tr>\n",
       "  </tbody>\n",
       "</table>\n",
       "</div>"
      ],
      "text/plain": [
       "   user  movie  rating  timestamp\n",
       "0     1   1193       5  978300760\n",
       "1     1    661       3  978302109\n",
       "2     1    914       3  978301968\n",
       "3     1   3408       4  978300275\n",
       "4     1   2355       5  978824291"
      ]
     },
     "execution_count": 205,
     "metadata": {},
     "output_type": "execute_result"
    }
   ],
   "source": [
    "df_events.head()"
   ]
  },
  {
   "cell_type": "markdown",
   "metadata": {
    "id": "yQyAB2jFcMnk"
   },
   "source": [
    "### G.1 Cornac"
   ]
  },
  {
   "cell_type": "code",
   "execution_count": 225,
   "metadata": {
    "id": "uI-XJAWQpHkL"
   },
   "outputs": [],
   "source": [
    "df_events_cornac = df_events.copy()\n",
    "mapping_dict = {} # Create a dictionary that maps each movie number to an integer - necessary for Cornac.\n",
    "i=0\n",
    "for mov in df_events_cornac[item_col].unique():\n",
    "    mapping_dict[mov] = i\n",
    "    i+=1\n",
    "df_events_cornac[item_col] = df_events_cornac[item_col].map(lambda x: mapping_dict.get(x,x)) # Map in the ratings file"
   ]
  },
  {
   "cell_type": "code",
   "execution_count": 226,
   "metadata": {
    "id": "SVrTTaHBpZ04"
   },
   "outputs": [],
   "source": [
    "df_events_cornac.user = df_events_cornac.user.astype(\"string\")\n",
    "df_events_cornac.movie = df_events_cornac.movie.astype(\"string\")"
   ]
  },
  {
   "cell_type": "code",
   "execution_count": 227,
   "metadata": {
    "id": "Gom3rbXz5844"
   },
   "outputs": [],
   "source": [
    "df_item_dist_cornac = df_item_dist.rename(index = mapping_dict)"
   ]
  },
  {
   "cell_type": "code",
   "execution_count": 228,
   "metadata": {
    "id": "O8irZQHgcAV3"
   },
   "outputs": [],
   "source": [
    "data = list(df_events_cornac[[user_col,item_col,predict_col]].to_records(index = False)) # ready to import in Cornac."
   ]
  },
  {
   "cell_type": "code",
   "execution_count": 252,
   "metadata": {
    "id": "cZ0JGW8ppnn7"
   },
   "outputs": [],
   "source": [
    "# Split the data based on ratio\n",
    "rs = RatioSplit(data=data, test_size=test_size, rating_threshold=rating_threshold, seed=123, exclude_unknowns=True)"
   ]
  },
  {
   "cell_type": "code",
   "execution_count": 235,
   "metadata": {
    "id": "qS5k9wNprWvm"
   },
   "outputs": [],
   "source": [
    "all_items = set(range(rs.total_items)) # needed for later"
   ]
  },
  {
   "cell_type": "code",
   "execution_count": 236,
   "metadata": {
    "id": "uxPCqVf9rYky"
   },
   "outputs": [],
   "source": [
    "# Define the two different options for UserKNN, with and without mean centering\n",
    "usKNN = UserKNN(k=40, similarity = 'cosine', mean_centered=False, seed = my_seed, verbose=True)\n",
    "usKNN_means = UserKNN(k=40, similarity = 'cosine', mean_centered=True, seed = my_seed, verbose=True)"
   ]
  },
  {
   "cell_type": "markdown",
   "metadata": {
    "id": "WOD-sjM9rZ_Z"
   },
   "source": [
    "#### Training"
   ]
  },
  {
   "cell_type": "markdown",
   "metadata": {
    "id": "TXCo0O5sbjck"
   },
   "source": [
    "Google Colab no longer supports Tensorflow v1, which creates dependency issues with Cornac which is built on Tensorflow v1. Until we find a solution, we will exclude the models that do not run for this reason."
   ]
  },
  {
   "cell_type": "code",
   "execution_count": 237,
   "metadata": {
    "id": "rVXlmaIUqV0I"
   },
   "outputs": [],
   "source": [
    "# initialize models, here we are comparing: simple, traditional, and neural networks based models\n",
    "# initialize models, here we are comparing: simple, traditional, and neural networks based models\n",
    "models = [\n",
    "          # 1: Random\n",
    "          # 2: MostPop\n",
    "          MostPop(),\n",
    "          # 3: UserKNN\n",
    "          usKNN,\n",
    "          # 4: ItemKNN\n",
    "          ItemKNN(k=40, similarity = 'cosine', mean_centered=False, seed = my_seed, verbose=True),\n",
    "          # 5: UserKNN with means\n",
    "          usKNN_means,\n",
    "          ## 6: BaselineOnly\n",
    "          #BaselineOnly(verbose=True),\n",
    "          # 7: BPR\n",
    "          BPR(k=10, max_iter=200, learning_rate=0.001, lambda_reg=0.01, seed=123, verbose=True),\n",
    "          # 8: MF\n",
    "          MF(k=30, max_iter=100, learning_rate=0.01, lambda_reg=0.001, seed=123, verbose=True),\n",
    "          # 9: PMF\n",
    "          PMF(k=10, max_iter=100, learning_rate=0.001, lambda_reg=0.001, verbose=True),\n",
    "          # 10: NMF\n",
    "          CornacNMF(k=15, max_iter=50, learning_rate=0.005, lambda_u=0.06, lambda_v=0.06, lambda_bu=0.02, lambda_bi=0.02, use_bias=False, verbose=True, seed=123),\n",
    "          # 11: WMF\n",
    "          WMF(k=50, max_iter=50, learning_rate=0.001, lambda_u=0.01, lambda_v=0.01, verbose=True, seed=123),\n",
    "          # 12: PF\n",
    "          HPF(k=50, seed=123, hierarchical=False, name=\"PF\", verbose=True),\n",
    "          # 13: NueMF\n",
    "          NeuMF(num_factors=8, layers=[32, 16, 8], act_fn=\"tanh\", num_epochs=1, num_neg=3, batch_size=256, lr=0.001, seed=42, verbose=True),\n",
    "          # 14: VAECF\n",
    "          VAECF(k=10, autoencoder_structure=[20], act_fn=\"tanh\", likelihood=\"mult\", n_epochs=100, batch_size=100, learning_rate=0.001, beta=1.0, seed=123, use_gpu=True, verbose=True)\n",
    "          ]"
   ]
  },
  {
   "cell_type": "code",
   "execution_count": 238,
   "metadata": {
    "id": "06Irv0BurifH"
   },
   "outputs": [],
   "source": [
    "algo_names = [\"Random\",\n",
    "              \"MostPop\", \n",
    "              \"UserKNN\",\n",
    "              \"ItemKNN\", \n",
    "              \"UserKNN with means\", \n",
    "              \"BPR\",\n",
    "              \"MF\",\n",
    "              \"PMF\",\n",
    "              \"NMF\",\n",
    "              \"WMF\",\n",
    "              \"HPF\",\n",
    "              \"NeuMF\",\n",
    "              \"VAECF\"\n",
    "              ] # in the order that they are in the model list"
   ]
  },
  {
   "cell_type": "code",
   "execution_count": 239,
   "metadata": {
    "id": "w-4yhJQOqXv3"
   },
   "outputs": [
    {
     "data": {
      "application/vnd.jupyter.widget-view+json": {
       "model_id": "cca39025fda343128c1c782823e2fd87",
       "version_major": 2,
       "version_minor": 0
      },
      "text/plain": [
       "  0%|          | 0/6040 [00:00<?, ?it/s]"
      ]
     },
     "metadata": {},
     "output_type": "display_data"
    },
    {
     "data": {
      "application/vnd.jupyter.widget-view+json": {
       "model_id": "9b27c42cec634ec6a988bf93df5faf2a",
       "version_major": 2,
       "version_minor": 0
      },
      "text/plain": [
       "  0%|          | 0/3679 [00:00<?, ?it/s]"
      ]
     },
     "metadata": {},
     "output_type": "display_data"
    },
    {
     "data": {
      "application/vnd.jupyter.widget-view+json": {
       "model_id": "2db6d0f756524309ab130570866dc78b",
       "version_major": 2,
       "version_minor": 0
      },
      "text/plain": [
       "  0%|          | 0/6040 [00:00<?, ?it/s]"
      ]
     },
     "metadata": {},
     "output_type": "display_data"
    },
    {
     "data": {
      "application/vnd.jupyter.widget-view+json": {
       "model_id": "7312777399324294ad90c7b6e06b34f1",
       "version_major": 2,
       "version_minor": 0
      },
      "text/plain": [
       "  0%|          | 0/200 [00:00<?, ?it/s]"
      ]
     },
     "metadata": {},
     "output_type": "display_data"
    },
    {
     "name": "stdout",
     "output_type": "stream",
     "text": [
      "Optimization finished!\n"
     ]
    },
    {
     "data": {
      "application/vnd.jupyter.widget-view+json": {
       "model_id": "ad2a3516fe1a4ad2a8f4d232104bfcd5",
       "version_major": 2,
       "version_minor": 0
      },
      "text/plain": [
       "  0%|          | 0/100 [00:00<?, ?it/s]"
      ]
     },
     "metadata": {},
     "output_type": "display_data"
    },
    {
     "name": "stdout",
     "output_type": "stream",
     "text": [
      "Optimization finished!\n",
      "Learning...\n",
      "epoch 0, loss: 74507.760547\n",
      "epoch 1, loss: 58688.467291\n",
      "epoch 2, loss: 52678.747320\n",
      "epoch 3, loss: 50128.612106\n",
      "epoch 4, loss: 48638.692067\n",
      "epoch 5, loss: 47552.996439\n",
      "epoch 6, loss: 46602.354240\n",
      "epoch 7, loss: 45706.298393\n",
      "epoch 8, loss: 44892.622352\n",
      "epoch 9, loss: 44200.995180\n",
      "epoch 10, loss: 43633.593588\n",
      "epoch 11, loss: 43168.020233\n",
      "epoch 12, loss: 42778.554077\n",
      "epoch 13, loss: 42444.117638\n",
      "epoch 14, loss: 42148.739790\n",
      "epoch 15, loss: 41880.417562\n",
      "epoch 16, loss: 41630.244486\n",
      "epoch 17, loss: 41391.966497\n",
      "epoch 18, loss: 41161.701966\n",
      "epoch 19, loss: 40937.535107\n",
      "epoch 20, loss: 40718.851572\n",
      "epoch 21, loss: 40505.555427\n",
      "epoch 22, loss: 40297.467211\n",
      "epoch 23, loss: 40094.107682\n",
      "epoch 24, loss: 39894.832366\n",
      "epoch 25, loss: 39699.116261\n",
      "epoch 26, loss: 39506.788203\n",
      "epoch 27, loss: 39318.101296\n",
      "epoch 28, loss: 39133.630307\n",
      "epoch 29, loss: 38954.070643\n",
      "epoch 30, loss: 38780.035464\n",
      "epoch 31, loss: 38611.921470\n",
      "epoch 32, loss: 38449.865955\n",
      "epoch 33, loss: 38293.776800\n",
      "epoch 34, loss: 38143.401803\n",
      "epoch 35, loss: 37998.405959\n",
      "epoch 36, loss: 37858.436980\n",
      "epoch 37, loss: 37723.169802\n",
      "epoch 38, loss: 37592.329612\n",
      "epoch 39, loss: 37465.697837\n",
      "epoch 40, loss: 37343.107055\n",
      "epoch 41, loss: 37224.430170\n",
      "epoch 42, loss: 37109.567922\n",
      "epoch 43, loss: 36998.437470\n",
      "epoch 44, loss: 36890.963211\n",
      "epoch 45, loss: 36787.070457\n",
      "epoch 46, loss: 36686.681650\n",
      "epoch 47, loss: 36589.714490\n",
      "epoch 48, loss: 36496.081527\n",
      "epoch 49, loss: 36405.690571\n",
      "epoch 50, loss: 36318.445549\n",
      "epoch 51, loss: 36234.247489\n",
      "epoch 52, loss: 36152.995550\n",
      "epoch 53, loss: 36074.587924\n",
      "epoch 54, loss: 35998.922615\n",
      "epoch 55, loss: 35925.898110\n",
      "epoch 56, loss: 35855.413946\n",
      "epoch 57, loss: 35787.371088\n",
      "epoch 58, loss: 35721.672467\n",
      "epoch 59, loss: 35658.223111\n",
      "epoch 60, loss: 35596.930528\n",
      "epoch 61, loss: 35537.704834\n",
      "epoch 62, loss: 35480.459017\n",
      "epoch 63, loss: 35425.108961\n",
      "epoch 64, loss: 35371.573625\n",
      "epoch 65, loss: 35319.775063\n",
      "epoch 66, loss: 35269.638511\n",
      "epoch 67, loss: 35221.092370\n",
      "epoch 68, loss: 35174.068131\n",
      "epoch 69, loss: 35128.500476\n",
      "epoch 70, loss: 35084.327077\n",
      "epoch 71, loss: 35041.488657\n",
      "epoch 72, loss: 34999.928771\n",
      "epoch 73, loss: 34959.593830\n",
      "epoch 74, loss: 34920.432930\n",
      "epoch 75, loss: 34882.397763\n",
      "epoch 76, loss: 34845.442477\n",
      "epoch 77, loss: 34809.523598\n",
      "epoch 78, loss: 34774.599892\n",
      "epoch 79, loss: 34740.632190\n",
      "epoch 80, loss: 34707.583406\n",
      "epoch 81, loss: 34675.418262\n",
      "epoch 82, loss: 34644.103305\n",
      "epoch 83, loss: 34613.606734\n",
      "epoch 84, loss: 34583.898349\n",
      "epoch 85, loss: 34554.949408\n",
      "epoch 86, loss: 34526.732578\n",
      "epoch 87, loss: 34499.221832\n",
      "epoch 88, loss: 34472.392404\n",
      "epoch 89, loss: 34446.220646\n",
      "epoch 90, loss: 34420.684026\n",
      "epoch 91, loss: 34395.761067\n",
      "epoch 92, loss: 34371.431235\n",
      "epoch 93, loss: 34347.674891\n",
      "epoch 94, loss: 34324.473311\n",
      "epoch 95, loss: 34301.808550\n",
      "epoch 96, loss: 34279.663461\n",
      "epoch 97, loss: 34258.021591\n",
      "epoch 98, loss: 34236.867180\n",
      "epoch 99, loss: 34216.185154\n",
      "Learning completed\n"
     ]
    },
    {
     "data": {
      "application/vnd.jupyter.widget-view+json": {
       "model_id": "3c953c499efa471b86d225cbb8ce1e12",
       "version_major": 2,
       "version_minor": 0
      },
      "text/plain": [
       "  0%|          | 0/50 [00:00<?, ?it/s]"
      ]
     },
     "metadata": {},
     "output_type": "display_data"
    },
    {
     "name": "stdout",
     "output_type": "stream",
     "text": [
      "Optimization finished!\n"
     ]
    },
    {
     "data": {
      "application/vnd.jupyter.widget-view+json": {
       "model_id": "1cd6066f7c554b35a16276e6340f56c0",
       "version_major": 2,
       "version_minor": 0
      },
      "text/plain": [
       "  0%|          | 0/50 [00:00<?, ?it/s]"
      ]
     },
     "metadata": {},
     "output_type": "display_data"
    },
    {
     "name": "stdout",
     "output_type": "stream",
     "text": [
      "Learning completed!\n",
      "Learning...\n",
      "Learning completed!\n"
     ]
    },
    {
     "data": {
      "application/vnd.jupyter.widget-view+json": {
       "model_id": "f0ed17560ee44bd4bdf441f741ffbd67",
       "version_major": 2,
       "version_minor": 0
      },
      "text/plain": [
       "  0%|          | 0/1 [00:00<?, ?it/s]"
      ]
     },
     "metadata": {},
     "output_type": "display_data"
    },
    {
     "data": {
      "application/vnd.jupyter.widget-view+json": {
       "model_id": "c6146ac2f91d4d7080f11c549d22fd80",
       "version_major": 2,
       "version_minor": 0
      },
      "text/plain": [
       "  0%|          | 0/100 [00:00<?, ?it/s]"
      ]
     },
     "metadata": {},
     "output_type": "display_data"
    },
    {
     "name": "stdout",
     "output_type": "stream",
     "text": [
      "\n",
      "TEST:\n",
      "...\n",
      "        |    MAE | Train (s) | Test (s)\n",
      "------- + ------ + --------- + --------\n",
      "MostPop | 1.2974 |    0.0565 |   2.9612\n",
      "UserKNN | 0.7669 |    5.3674 |  33.5459\n",
      "ItemKNN | 0.8037 |    2.4507 |  30.2063\n",
      "UserKNN | 0.7491 |    5.2670 |  33.7682\n",
      "BPR     | 2.0852 |   29.9988 |   3.7406\n",
      "MF      | 0.7904 |    4.3080 |   4.1373\n",
      "PMF     | 0.7011 |   30.5374 |   4.0983\n",
      "NMF     | 0.7496 |    2.8358 |   3.9620\n",
      "WMF     | 1.1277 |   22.4081 |   3.5737\n",
      "PF      | 2.4691 |  800.5093 |   3.8290\n",
      "NeuMF   | 2.7023 |   71.3622 |  62.2430\n",
      "VAECF   | 2.7023 |  211.1795 |  87.3983\n",
      "\n",
      "1460 seconds.\n"
     ]
    }
   ],
   "source": [
    "# define metrics to evaluate the models\n",
    "metrics = [MAE()]\n",
    "\n",
    "# put it together in an experiment, voilà!\n",
    "start = time.time()\n",
    "exp = cornac.Experiment(eval_method=rs, models=models, metrics=metrics, user_based=True)\n",
    "exp.run()\n",
    "end = time.time()\n",
    "print(round(end-start), \"seconds.\")"
   ]
  },
  {
   "cell_type": "markdown",
   "metadata": {
    "id": "lDyNWKN3rpbX"
   },
   "source": [
    "#### Ranking and recommendation\n",
    "We have identified three evaluation strategies:\n",
    "1. For every user in the **train set** rank **all items**. | Book paper, *eva_one*\n",
    "2. For every user in the **test set** rank **only the items this user has rated in the test set**. | Music paper, *eva_two*\n",
    "3. For every user in the **test set** rank **only the items this user has NOT rated in the train set**. | Movie(?) paper, *eva_three*\n",
    "\n",
    "For every evaluation strategy, we define a function that recommends the appropriate items to the appropriate users as described above. "
   ]
  },
  {
   "cell_type": "markdown",
   "metadata": {
    "id": "aZbCVBNArrWy"
   },
   "source": [
    "##### Functions"
   ]
  },
  {
   "cell_type": "code",
   "execution_count": 241,
   "metadata": {
    "id": "1Ft6Cw5sqxYp"
   },
   "outputs": [],
   "source": [
    "def get_top_n_eva_one(algo_name,i, n=10):\n",
    "  model = exp.models[i]\n",
    "  print(algo_name + \" model is selected:\")\n",
    "  top_n = defaultdict(list)\n",
    "  for uid in tqdm(model.train_set.uid_map.values()): # every user in the train set\n",
    "    user_id = list(model.train_set.user_ids)[uid] # so this is the actual user_id\n",
    "    item_rank = model.rank(user_idx=uid)[0] # all\n",
    "    # collect top N items\n",
    "    item_rank_top = item_rank[:n]\n",
    "    for iid in item_rank_top:\n",
    "      item_id = list(model.train_set.item_ids)[iid]\n",
    "      if isinstance(model.score(uid, iid), (np.ndarray)): # for NEUMF\n",
    "            score = model.score(uid, iid)[0]\n",
    "      else:\n",
    "            score = model.score(uid, iid)\n",
    "        \n",
    "      top_n[int(user_id)].append((int(item_id), score))\n",
    "  return top_n"
   ]
  },
  {
   "cell_type": "code",
   "execution_count": 285,
   "metadata": {
    "id": "7ReRcdQCrveT"
   },
   "outputs": [],
   "source": [
    "def get_top_n_eva_two(algo_name,i, n=10):\n",
    "  #print(\"HI\")\n",
    "  model = exp.models[i]\n",
    "  print(algo_name + \" model is selected:\")\n",
    "  top_n = defaultdict(list)\n",
    "  for uid in tqdm(rs.test_set.uid_map.values()): # every user in the test set\n",
    "    user_id = list(rs.train_set.user_ids)[uid]\n",
    "    user_items_in_the_test_set = rs.test_set.user_data[uid][0] \n",
    "    #print(user_items_in_the_test_set)\n",
    "    item_rank = model.rank(user_idx=uid, item_indices = user_items_in_the_test_set)[0] # items the user has rated in the test set \n",
    "    item_rank_top = item_rank[:n]\n",
    "    for iid in item_rank_top:\n",
    "      item_id = list(model.train_set.item_ids)[iid]\n",
    "      if isinstance(model.score(uid, iid), (np.ndarray)): # for NEUMF\n",
    "            score = model.score(uid, iid)[0]\n",
    "      else:\n",
    "            score = model.score(uid, iid)\n",
    "        \n",
    "      top_n[int(user_id)].append((int(item_id), score))\n",
    "      \n",
    "  return top_n"
   ]
  },
  {
   "cell_type": "code",
   "execution_count": 243,
   "metadata": {
    "id": "cGjFAhr6rxXI"
   },
   "outputs": [],
   "source": [
    "def get_top_n_eva_three(algo_name,i, n=10):\n",
    "  model = exp.models[i]\n",
    "  print(algo_name + \" model is selected:\")\n",
    "  top_n = defaultdict(list)\n",
    "\n",
    "  for uid in tqdm(rs.test_set.uid_map.values()): # every user in the test set\n",
    "    user_id = list(rs.train_set.user_ids)[uid]\n",
    "    user_items_in_the_train_set = set(rs.train_set.user_data[uid][0])\n",
    "    user_items_not_in_the_train_set = list(all_items.difference(user_items_in_the_train_set))\n",
    "    \n",
    "    item_rank = model.rank(user_idx=uid, item_indices = user_items_not_in_the_train_set)[0] # items the user has NOT rated in the TRAIN set\n",
    "    item_rank_top = item_rank[:n]\n",
    "    for iid in item_rank_top:\n",
    "      item_id = list(model.train_set.item_ids)[iid]\n",
    "      if isinstance(model.score(uid, iid), (np.ndarray)): # for NEUMF\n",
    "            score = model.score(uid, iid)[0]\n",
    "      else:\n",
    "            score = model.score(uid, iid)\n",
    "        \n",
    "      top_n[int(user_id)].append((int(item_id), score))\n",
    "  return top_n"
   ]
  },
  {
   "cell_type": "code",
   "execution_count": 244,
   "metadata": {
    "id": "nU1sU9Q_qy_J"
   },
   "outputs": [],
   "source": [
    "# random recommendation algorithm, same for every strategy \n",
    "def get_top_n_random(n=10):\n",
    "    print(\"Random model is selected:\")\n",
    "    top_n = defaultdict(list)\n",
    "\n",
    "    for uid in tqdm(rs.test_set.uid_map.values()): # every user in the test set\n",
    "      if uid not in top_n.keys():\n",
    "        user_id = list(rs.train_set.user_ids)[uid]\n",
    "        user_items_in_the_train_set = set(rs.train_set.user_data[uid][0])\n",
    "        user_items_not_in_the_train_set = list(all_items.difference(user_items_in_the_train_set)) # random choice out of the items that the user has NOT rated in the train set\n",
    "        for i in range(0, n):\n",
    "          top_n[int(user_id)].append((int(rd.choice(user_items_not_in_the_train_set)), i))\n",
    "          \n",
    "    return top_n"
   ]
  },
  {
   "cell_type": "markdown",
   "metadata": {
    "id": "4rMlWVflr3UH"
   },
   "source": [
    "##### Recommendation"
   ]
  },
  {
   "cell_type": "markdown",
   "metadata": {
    "id": "qL0I-4HSr5GJ"
   },
   "source": [
    "Choose evaluation strategy."
   ]
  },
  {
   "cell_type": "code",
   "execution_count": 287,
   "metadata": {
    "id": "tLQUNsGer7YQ"
   },
   "outputs": [],
   "source": [
    "evaluation_function = {'eva_one':get_top_n_eva_one,\n",
    "             'eva_two': get_top_n_eva_two,\n",
    "             'eva_three': get_top_n_eva_three}"
   ]
  },
  {
   "cell_type": "code",
   "execution_count": 309,
   "metadata": {
    "id": "OJk2R7C-r-Ii"
   },
   "outputs": [],
   "source": [
    "choice = 'eva_three'\n",
    "# to be manually set!!! "
   ]
  },
  {
   "cell_type": "markdown",
   "metadata": {
    "id": "ad7L_oQhedR_"
   },
   "source": [
    "### Prediction\n",
    "Run it when different evaluation strategy is chosen."
   ]
  },
  {
   "cell_type": "code",
   "execution_count": 310,
   "metadata": {
    "id": "f9hSXCNpecsP"
   },
   "outputs": [
    {
     "name": "stdout",
     "output_type": "stream",
     "text": [
      "Random model is selected:\n"
     ]
    },
    {
     "name": "stderr",
     "output_type": "stream",
     "text": [
      "100%|████████████████████████████████████████████████████████████████████████████████████████████████████████████████████████████████████████████████████████████████████████████████████████████████████████████████████████████████████████████████| 6038/6038 [00:02<00:00, 2260.00it/s]\n"
     ]
    },
    {
     "name": "stdout",
     "output_type": "stream",
     "text": [
      "MostPop model is selected:\n"
     ]
    },
    {
     "name": "stderr",
     "output_type": "stream",
     "text": [
      "100%|█████████████████████████████████████████████████████████████████████████████████████████████████████████████████████████████████████████████████████████████████████████████████████████████████████████████████████████████████████████████████| 6038/6038 [00:33<00:00, 181.01it/s]\n"
     ]
    },
    {
     "name": "stdout",
     "output_type": "stream",
     "text": [
      "UserKNN model is selected:\n"
     ]
    },
    {
     "name": "stderr",
     "output_type": "stream",
     "text": [
      "100%|██████████████████████████████████████████████████████████████████████████████████████████████████████████████████████████████████████████████████████████████████████████████████████████████████████████████████████████████████████████████████| 6038/6038 [04:51<00:00, 20.68it/s]\n"
     ]
    },
    {
     "name": "stdout",
     "output_type": "stream",
     "text": [
      "ItemKNN model is selected:\n"
     ]
    },
    {
     "name": "stderr",
     "output_type": "stream",
     "text": [
      "100%|██████████████████████████████████████████████████████████████████████████████████████████████████████████████████████████████████████████████████████████████████████████████████████████████████████████████████████████████████████████████████| 6038/6038 [06:33<00:00, 15.35it/s]\n"
     ]
    },
    {
     "name": "stdout",
     "output_type": "stream",
     "text": [
      "UserKNN with means model is selected:\n"
     ]
    },
    {
     "name": "stderr",
     "output_type": "stream",
     "text": [
      "100%|██████████████████████████████████████████████████████████████████████████████████████████████████████████████████████████████████████████████████████████████████████████████████████████████████████████████████████████████████████████████████| 6038/6038 [04:19<00:00, 23.31it/s]\n"
     ]
    },
    {
     "name": "stdout",
     "output_type": "stream",
     "text": [
      "BPR model is selected:\n"
     ]
    },
    {
     "name": "stderr",
     "output_type": "stream",
     "text": [
      "100%|█████████████████████████████████████████████████████████████████████████████████████████████████████████████████████████████████████████████████████████████████████████████████████████████████████████████████████████████████████████████████| 6038/6038 [00:42<00:00, 142.15it/s]\n"
     ]
    },
    {
     "name": "stdout",
     "output_type": "stream",
     "text": [
      "MF model is selected:\n"
     ]
    },
    {
     "name": "stderr",
     "output_type": "stream",
     "text": [
      "100%|█████████████████████████████████████████████████████████████████████████████████████████████████████████████████████████████████████████████████████████████████████████████████████████████████████████████████████████████████████████████████| 6038/6038 [00:42<00:00, 143.20it/s]\n"
     ]
    },
    {
     "name": "stdout",
     "output_type": "stream",
     "text": [
      "PMF model is selected:\n"
     ]
    },
    {
     "name": "stderr",
     "output_type": "stream",
     "text": [
      "100%|█████████████████████████████████████████████████████████████████████████████████████████████████████████████████████████████████████████████████████████████████████████████████████████████████████████████████████████████████████████████████| 6038/6038 [00:40<00:00, 149.98it/s]\n"
     ]
    },
    {
     "name": "stdout",
     "output_type": "stream",
     "text": [
      "NMF model is selected:\n"
     ]
    },
    {
     "name": "stderr",
     "output_type": "stream",
     "text": [
      "100%|█████████████████████████████████████████████████████████████████████████████████████████████████████████████████████████████████████████████████████████████████████████████████████████████████████████████████████████████████████████████████| 6038/6038 [00:44<00:00, 135.47it/s]\n"
     ]
    },
    {
     "name": "stdout",
     "output_type": "stream",
     "text": [
      "WMF model is selected:\n"
     ]
    },
    {
     "name": "stderr",
     "output_type": "stream",
     "text": [
      "100%|█████████████████████████████████████████████████████████████████████████████████████████████████████████████████████████████████████████████████████████████████████████████████████████████████████████████████████████████████████████████████| 6038/6038 [00:40<00:00, 147.58it/s]\n"
     ]
    },
    {
     "name": "stdout",
     "output_type": "stream",
     "text": [
      "HPF model is selected:\n"
     ]
    },
    {
     "name": "stderr",
     "output_type": "stream",
     "text": [
      "100%|█████████████████████████████████████████████████████████████████████████████████████████████████████████████████████████████████████████████████████████████████████████████████████████████████████████████████████████████████████████████████| 6038/6038 [00:42<00:00, 142.82it/s]\n"
     ]
    },
    {
     "name": "stdout",
     "output_type": "stream",
     "text": [
      "NeuMF model is selected:\n"
     ]
    },
    {
     "name": "stderr",
     "output_type": "stream",
     "text": [
      "100%|██████████████████████████████████████████████████████████████████████████████████████████████████████████████████████████████████████████████████████████████████████████████████████████████████████████████████████████████████████████████████| 6038/6038 [01:43<00:00, 58.08it/s]\n"
     ]
    },
    {
     "name": "stdout",
     "output_type": "stream",
     "text": [
      "VAECF model is selected:\n"
     ]
    },
    {
     "name": "stderr",
     "output_type": "stream",
     "text": [
      "100%|██████████████████████████████████████████████████████████████████████████████████████████████████████████████████████████████████████████████████████████████████████████████████████████████████████████████████████████████████████████████████| 6038/6038 [01:42<00:00, 58.79it/s]\n"
     ]
    }
   ],
   "source": [
    "algo_dict = {}\n",
    "for i in range(0, len(algo_names)):\n",
    "    if algo_names[i] == 'Random':\n",
    "      top_n = get_top_n_random(n=10)\n",
    "    else:\n",
    "      top_n = evaluation_function[choice](algo_names[i],i-1, n=10)\n",
    "    algo_dict[algo_names[i]] = top_n.items()"
   ]
  },
  {
   "cell_type": "markdown",
   "metadata": {
    "id": "-NcU5xPfehSa"
   },
   "source": [
    "### Evaluation\n",
    "Run it when different popularity notion is chosen."
   ]
  },
  {
   "cell_type": "markdown",
   "metadata": {},
   "source": [
    "##### NDCG@10\n",
    "\n",
    "To think about: which list am I comparing to in order to calculate NDCG@10?"
   ]
  },
  {
   "cell_type": "markdown",
   "metadata": {},
   "source": [
    "We need:\n",
    "1. For every user, the true relevance of each item recommended to them. 0 if it's not in the test set. if it's in the test set, the score.\n"
   ]
  },
  {
   "cell_type": "code",
   "execution_count": 311,
   "metadata": {},
   "outputs": [],
   "source": [
    "# # Split the data based on ratio\n",
    "# rs = RatioSplit(data=data, test_size=test_size, rating_threshold=rating_threshold, seed=123, exclude_unknowns=False)"
   ]
  },
  {
   "cell_type": "code",
   "execution_count": 325,
   "metadata": {},
   "outputs": [],
   "source": [
    "def calculate_NDCG_per_group(algo_name,i):\n",
    "    model = exp.models[i]\n",
    "    print(algo_name + \" model is selected:\")\n",
    "    \n",
    "    ndcg_low = []\n",
    "    ndcg_med = []\n",
    "    ndcg_high = []\n",
    "    \n",
    "    # nr_low = 0.0\n",
    "    # nr_med = 0.0\n",
    "    # nr_high = 0.0\n",
    "\n",
    "    top = algo_dict[algo_name]\n",
    "    user_ndcgs = []\n",
    "    for user_id, user_ratings in tqdm(top): # real, not inside\n",
    "        user_id = str(user_id)\n",
    "        if user_id  in rs.test_set.uid_map.keys(): # if the user is in the test set.\n",
    "            user_pred_scores = []\n",
    "            user_real_scores = []\n",
    "            \n",
    "            uid=rs.train_set.uid_map[user_id] #inside\n",
    "            real_rating_dict = dict(zip(*rs.test_set.user_data[uid])) # iid, real rating (dictionary)\n",
    "            for (item_id,pred_score) in user_ratings: # so for every item recommended, and its predicted score\n",
    "                \n",
    "                item_id = str(item_id)\n",
    "                user_pred_scores.append(pred_score)\n",
    "                # we need its real score also.\n",
    "                try:\n",
    "                    iid=rs.train_set.iid_map[item_id] #inside\n",
    "                    t=0\n",
    "                except:\n",
    "                    iid=rs.test_set.iid_map[item_id] #inside\n",
    "                    t=1\n",
    "                if iid in real_rating_dict.keys(): # if the item is in the test set of that user\n",
    "                    if t==1:\n",
    "                        print(item_id,user_id)\n",
    "                    real_score = real_rating_dict[iid]\n",
    "                else:\n",
    "                    \n",
    "                    real_score = 0.0 # LIKE EKSTRAND MANEL'S REFERENCE\n",
    "                user_real_scores.append(real_score)\n",
    "            \n",
    "            true_relevance = np.asarray([user_real_scores])\n",
    "            scores = np.asarray([user_pred_scores])\n",
    "            try: # IF THERE'S ONLY ONE ITEM RECOMMENDED, THERE'S NO POINT CALCULATING NDCG\n",
    "                user_ndcg = ndcg_score(true_relevance, scores,k=10)\n",
    "                #user_ndcgs.append(user_ndcg)\n",
    "                if int(user_id) in low.index: # some issue with string vs integer\n",
    "                    ndcg_low.append(user_ndcg)\n",
    "                    #nr_low += 1\n",
    "                elif int(user_id) in med.index:\n",
    "                    ndcg_med.append(user_ndcg)\n",
    "                    #nr_med += 1\n",
    "                elif int(user_id) in high.index:\n",
    "                    ndcg_high.append(user_ndcg)\n",
    "                    #nr_high += 1\n",
    "                else:\n",
    "                    print(\"NOWHERE?\")\n",
    "            \n",
    "            except:\n",
    "                pass\n",
    "\n",
    "\n",
    "    \n",
    "    ttests = [stats.ttest_ind(ndcg_low, ndcg_med, equal_var=False)[1],\n",
    "                            stats.ttest_ind(ndcg_low, ndcg_high, equal_var=False)[1],\n",
    "                            stats.ttest_ind(ndcg_med, ndcg_high, equal_var=False)[1]]\n",
    "    \n",
    "            \n",
    "    #return user_ndcgs\n",
    "    \n",
    "    # print(nr_low, nr_med, nr_high)\n",
    "    # ndcg_low/=nr_low\n",
    "    # ndcg_med/=nr_med\n",
    "    # ndcg_high/=nr_high\n",
    "    return np.mean(ndcg_low), np.mean(ndcg_med), np.mean(ndcg_high), ttests"
   ]
  },
  {
   "cell_type": "code",
   "execution_count": 326,
   "metadata": {},
   "outputs": [
    {
     "name": "stdout",
     "output_type": "stream",
     "text": [
      "MostPop model is selected:\n"
     ]
    },
    {
     "name": "stderr",
     "output_type": "stream",
     "text": [
      "100%|████████████████████████████████████████████████████████████████████████████████████████████████████████████████████████████████████████████████████████████████████████████████████████████████████████████████████████████████████████████████| 6038/6038 [00:03<00:00, 1792.76it/s]\n"
     ]
    },
    {
     "name": "stdout",
     "output_type": "stream",
     "text": [
      "[0.05805003167664107, 0.3985202495244651, 0.3099781881044263]\n",
      "UserKNN model is selected:\n"
     ]
    },
    {
     "name": "stderr",
     "output_type": "stream",
     "text": [
      "100%|████████████████████████████████████████████████████████████████████████████████████████████████████████████████████████████████████████████████████████████████████████████████████████████████████████████████████████████████████████████████| 6038/6038 [00:03<00:00, 1837.07it/s]\n"
     ]
    },
    {
     "name": "stdout",
     "output_type": "stream",
     "text": [
      "[0.01712059940968206, 0.010121569329914804, 0.08378636450458862]\n",
      "ItemKNN model is selected:\n"
     ]
    },
    {
     "name": "stderr",
     "output_type": "stream",
     "text": [
      "100%|████████████████████████████████████████████████████████████████████████████████████████████████████████████████████████████████████████████████████████████████████████████████████████████████████████████████████████████████████████████████| 6038/6038 [00:03<00:00, 1832.40it/s]\n"
     ]
    },
    {
     "name": "stdout",
     "output_type": "stream",
     "text": [
      "[5.401932515376874e-34, 4.3789584046531283e-91, 1.8172193863980143e-104]\n",
      "UserKNN with means model is selected:\n"
     ]
    },
    {
     "name": "stderr",
     "output_type": "stream",
     "text": [
      "100%|████████████████████████████████████████████████████████████████████████████████████████████████████████████████████████████████████████████████████████████████████████████████████████████████████████████████████████████████████████████████| 6038/6038 [00:03<00:00, 1845.53it/s]\n"
     ]
    },
    {
     "name": "stdout",
     "output_type": "stream",
     "text": [
      "[0.023166033436380892, 0.023166033436380892, nan]\n",
      "BPR model is selected:\n"
     ]
    },
    {
     "name": "stderr",
     "output_type": "stream",
     "text": [
      "100%|████████████████████████████████████████████████████████████████████████████████████████████████████████████████████████████████████████████████████████████████████████████████████████████████████████████████████████████████████████████████| 6038/6038 [00:03<00:00, 1756.71it/s]\n"
     ]
    },
    {
     "name": "stdout",
     "output_type": "stream",
     "text": [
      "[0.5282205886062767, 0.0007633282090106945, 0.00021573484733508372]\n",
      "MF model is selected:\n"
     ]
    },
    {
     "name": "stderr",
     "output_type": "stream",
     "text": [
      "100%|████████████████████████████████████████████████████████████████████████████████████████████████████████████████████████████████████████████████████████████████████████████████████████████████████████████████████████████████████████████████| 6038/6038 [00:03<00:00, 1827.06it/s]\n"
     ]
    },
    {
     "name": "stdout",
     "output_type": "stream",
     "text": [
      "[5.343970698678331e-18, 8.506584401064903e-50, 6.92697488055804e-30]\n",
      "PMF model is selected:\n"
     ]
    },
    {
     "name": "stderr",
     "output_type": "stream",
     "text": [
      "100%|████████████████████████████████████████████████████████████████████████████████████████████████████████████████████████████████████████████████████████████████████████████████████████████████████████████████████████████████████████████████| 6038/6038 [00:03<00:00, 1817.93it/s]\n"
     ]
    },
    {
     "name": "stdout",
     "output_type": "stream",
     "text": [
      "[0.0006521658179326321, 3.8365741655590535e-05, 0.10220543850452554]\n",
      "NMF model is selected:\n"
     ]
    },
    {
     "name": "stderr",
     "output_type": "stream",
     "text": [
      "100%|████████████████████████████████████████████████████████████████████████████████████████████████████████████████████████████████████████████████████████████████████████████████████████████████████████████████████████████████████████████████| 6038/6038 [00:03<00:00, 1868.10it/s]\n"
     ]
    },
    {
     "name": "stdout",
     "output_type": "stream",
     "text": [
      "[8.614427421050067e-05, 5.9646799691139695e-06, 0.13869097629937688]\n",
      "WMF model is selected:\n"
     ]
    },
    {
     "name": "stderr",
     "output_type": "stream",
     "text": [
      "100%|████████████████████████████████████████████████████████████████████████████████████████████████████████████████████████████████████████████████████████████████████████████████████████████████████████████████████████████████████████████████| 6038/6038 [00:03<00:00, 1800.19it/s]\n"
     ]
    },
    {
     "name": "stdout",
     "output_type": "stream",
     "text": [
      "[0.6516211036387749, 0.6085638587382214, 0.8683579933904605]\n",
      "HPF model is selected:\n"
     ]
    },
    {
     "name": "stderr",
     "output_type": "stream",
     "text": [
      "100%|████████████████████████████████████████████████████████████████████████████████████████████████████████████████████████████████████████████████████████████████████████████████████████████████████████████████████████████████████████████████| 6038/6038 [00:03<00:00, 1738.74it/s]\n"
     ]
    },
    {
     "name": "stdout",
     "output_type": "stream",
     "text": [
      "[0.010930211554453843, 1.5270478142262653e-09, 7.599757713914146e-07]\n",
      "NeuMF model is selected:\n"
     ]
    },
    {
     "name": "stderr",
     "output_type": "stream",
     "text": [
      "100%|████████████████████████████████████████████████████████████████████████████████████████████████████████████████████████████████████████████████████████████████████████████████████████████████████████████████████████████████████████████████| 6038/6038 [00:03<00:00, 1752.91it/s]\n"
     ]
    },
    {
     "name": "stdout",
     "output_type": "stream",
     "text": [
      "[0.2986859597871574, 0.024271541118164566, 5.879397079642728e-05]\n",
      "VAECF model is selected:\n"
     ]
    },
    {
     "name": "stderr",
     "output_type": "stream",
     "text": [
      "100%|████████████████████████████████████████████████████████████████████████████████████████████████████████████████████████████████████████████████████████████████████████████████████████████████████████████████████████████████████████████████| 6038/6038 [00:03<00:00, 1726.41it/s]"
     ]
    },
    {
     "name": "stdout",
     "output_type": "stream",
     "text": [
      "[0.41503969404915686, 6.734668633760207e-05, 4.749224965775177e-05]\n"
     ]
    },
    {
     "name": "stderr",
     "output_type": "stream",
     "text": [
      "\n"
     ]
    }
   ],
   "source": [
    "TTESTs = pd.DataFrame(index = algo_names[1:], columns = ['low-med','low-high','med-high']).fillna(0.0)\n",
    "NDCGs = pd.DataFrame(index = algo_names[1:], columns = ['low','med','high']).fillna(0.0)\n",
    "for i in range(1, len(algo_names)):\n",
    "    ndcg_low, ndcg_med, ndcg_high, ttests = calculate_NDCG_per_group(algo_names[i], i-1)\n",
    "    print(ttests)\n",
    "    NDCGs.loc[algo_names[i]] = ndcg_low, ndcg_med, ndcg_high\n",
    "    TTESTs.loc[algo_names[i]] =ttests\n",
    "    "
   ]
  },
  {
   "cell_type": "markdown",
   "metadata": {},
   "source": [
    "#### GAP"
   ]
  },
  {
   "cell_type": "code",
   "execution_count": 327,
   "metadata": {
    "colab": {
     "base_uri": "https://localhost:8080/"
    },
    "id": "1_TRKhBJq02Y",
    "outputId": "34921dd6-ef99-44c5-9c5b-75e3a647b24a"
   },
   "outputs": [
    {
     "name": "stdout",
     "output_type": "stream",
     "text": [
      "Random\n"
     ]
    },
    {
     "name": "stderr",
     "output_type": "stream",
     "text": [
      "100%|█████████████████████████████████████████████████████████████████████████████████████████████████████████████████████████████████████████████████████████████████████████████████████████████████████████████████████████████████████████████████| 3815/3815 [00:06<00:00, 583.03it/s]\n"
     ]
    },
    {
     "name": "stdout",
     "output_type": "stream",
     "text": [
      "MostPop\n"
     ]
    },
    {
     "name": "stderr",
     "output_type": "stream",
     "text": [
      "100%|█████████████████████████████████████████████████████████████████████████████████████████████████████████████████████████████████████████████████████████████████████████████████████████████████████████████████████████████████████████████████| 6038/6038 [00:10<00:00, 586.86it/s]\n"
     ]
    },
    {
     "name": "stdout",
     "output_type": "stream",
     "text": [
      "UserKNN\n"
     ]
    },
    {
     "name": "stderr",
     "output_type": "stream",
     "text": [
      "100%|█████████████████████████████████████████████████████████████████████████████████████████████████████████████████████████████████████████████████████████████████████████████████████████████████████████████████████████████████████████████████| 6038/6038 [00:10<00:00, 589.56it/s]\n"
     ]
    },
    {
     "name": "stdout",
     "output_type": "stream",
     "text": [
      "ItemKNN\n"
     ]
    },
    {
     "name": "stderr",
     "output_type": "stream",
     "text": [
      "100%|█████████████████████████████████████████████████████████████████████████████████████████████████████████████████████████████████████████████████████████████████████████████████████████████████████████████████████████████████████████████████| 6038/6038 [00:10<00:00, 587.23it/s]\n"
     ]
    },
    {
     "name": "stdout",
     "output_type": "stream",
     "text": [
      "UserKNN with means\n"
     ]
    },
    {
     "name": "stderr",
     "output_type": "stream",
     "text": [
      "100%|█████████████████████████████████████████████████████████████████████████████████████████████████████████████████████████████████████████████████████████████████████████████████████████████████████████████████████████████████████████████████| 6038/6038 [00:10<00:00, 587.03it/s]\n"
     ]
    },
    {
     "name": "stdout",
     "output_type": "stream",
     "text": [
      "BPR\n"
     ]
    },
    {
     "name": "stderr",
     "output_type": "stream",
     "text": [
      "100%|█████████████████████████████████████████████████████████████████████████████████████████████████████████████████████████████████████████████████████████████████████████████████████████████████████████████████████████████████████████████████| 6038/6038 [00:10<00:00, 588.23it/s]\n"
     ]
    },
    {
     "name": "stdout",
     "output_type": "stream",
     "text": [
      "MF\n"
     ]
    },
    {
     "name": "stderr",
     "output_type": "stream",
     "text": [
      "100%|█████████████████████████████████████████████████████████████████████████████████████████████████████████████████████████████████████████████████████████████████████████████████████████████████████████████████████████████████████████████████| 6038/6038 [00:10<00:00, 586.86it/s]\n"
     ]
    },
    {
     "name": "stdout",
     "output_type": "stream",
     "text": [
      "PMF\n"
     ]
    },
    {
     "name": "stderr",
     "output_type": "stream",
     "text": [
      "100%|█████████████████████████████████████████████████████████████████████████████████████████████████████████████████████████████████████████████████████████████████████████████████████████████████████████████████████████████████████████████████| 6038/6038 [00:10<00:00, 586.37it/s]\n"
     ]
    },
    {
     "name": "stdout",
     "output_type": "stream",
     "text": [
      "NMF\n"
     ]
    },
    {
     "name": "stderr",
     "output_type": "stream",
     "text": [
      "100%|█████████████████████████████████████████████████████████████████████████████████████████████████████████████████████████████████████████████████████████████████████████████████████████████████████████████████████████████████████████████████| 6038/6038 [00:10<00:00, 586.12it/s]\n"
     ]
    },
    {
     "name": "stdout",
     "output_type": "stream",
     "text": [
      "WMF\n"
     ]
    },
    {
     "name": "stderr",
     "output_type": "stream",
     "text": [
      "100%|█████████████████████████████████████████████████████████████████████████████████████████████████████████████████████████████████████████████████████████████████████████████████████████████████████████████████████████████████████████████████| 6038/6038 [00:10<00:00, 584.60it/s]\n"
     ]
    },
    {
     "name": "stdout",
     "output_type": "stream",
     "text": [
      "HPF\n"
     ]
    },
    {
     "name": "stderr",
     "output_type": "stream",
     "text": [
      "100%|█████████████████████████████████████████████████████████████████████████████████████████████████████████████████████████████████████████████████████████████████████████████████████████████████████████████████████████████████████████████████| 6038/6038 [00:10<00:00, 589.05it/s]\n"
     ]
    },
    {
     "name": "stdout",
     "output_type": "stream",
     "text": [
      "NeuMF\n"
     ]
    },
    {
     "name": "stderr",
     "output_type": "stream",
     "text": [
      "100%|█████████████████████████████████████████████████████████████████████████████████████████████████████████████████████████████████████████████████████████████████████████████████████████████████████████████████████████████████████████████████| 6038/6038 [00:10<00:00, 594.05it/s]\n"
     ]
    },
    {
     "name": "stdout",
     "output_type": "stream",
     "text": [
      "VAECF\n"
     ]
    },
    {
     "name": "stderr",
     "output_type": "stream",
     "text": [
      "100%|█████████████████████████████████████████████████████████████████████████████████████████████████████████████████████████████████████████████████████████████████████████████████████████████████████████████████████████████████████████████████| 6038/6038 [00:10<00:00, 588.51it/s]"
     ]
    },
    {
     "name": "stdout",
     "output_type": "stream",
     "text": [
      "130 seconds.\n"
     ]
    },
    {
     "name": "stderr",
     "output_type": "stream",
     "text": [
      "\n"
     ]
    }
   ],
   "source": [
    "start = time.time()\n",
    "i = 0\n",
    "low_rec_gap_list = [] # one entry per algorithm\n",
    "medium_rec_gap_list = []\n",
    "high_rec_gap_list = []\n",
    "ttests_list = []\n",
    "\n",
    "for i in range(0, len(algo_names)):\n",
    "    print(algo_names[i])\n",
    "    df_item_dist_cornac[algo_names[i]] = 0.0\n",
    "    \n",
    "    low_rec_gap = []\n",
    "    medium_rec_gap = []\n",
    "    high_rec_gap = []\n",
    "    \n",
    "    # low_count = 0.0\n",
    "    # med_count = 0.0\n",
    "    # high_count = 0.0\n",
    "\n",
    "    top = algo_dict[algo_names[i]]\n",
    "    for uid, user_ratings in tqdm(top):\n",
    "        iid_list = []\n",
    "        for (iid, _) in user_ratings:\n",
    "            df_item_dist_cornac.loc[iid, algo_names[i]] += 1\n",
    "            iid_list.append(iid)\n",
    "        gap = sum(df_item_dist_cornac[\"count\"].loc[iid_list]) / len(iid_list)\n",
    "        if uid in low.index:\n",
    "            low_rec_gap.append(gap)\n",
    "            # low_count += 1\n",
    "        elif uid in med.index:\n",
    "            medium_rec_gap.append(gap)\n",
    "            # med_count += 1\n",
    "        elif uid in high.index:\n",
    "            high_rec_gap.append(gap)\n",
    "        #     high_count += 1\n",
    "        else:\n",
    "          print(\"hi\")\n",
    "    # print(low_count, med_count, high_count)\n",
    "    # ttests\n",
    "\n",
    "    ttests = [stats.ttest_ind((low_rec_gap-low_GAP)/low_GAP, (medium_rec_gap-med_GAP)/med_GAP, equal_var=False)[1],\n",
    "                            stats.ttest_ind((low_rec_gap-low_GAP)/low_GAP, (high_rec_gap-high_GAP)/high_GAP, equal_var=False)[1],\n",
    "                            stats.ttest_ind((medium_rec_gap-med_GAP)/med_GAP, (high_rec_gap-high_GAP)/high_GAP, equal_var=False)[1]]\n",
    "    \n",
    "    low_rec_gap_list.append(np.mean(low_rec_gap))\n",
    "    medium_rec_gap_list.append(np.mean(medium_rec_gap))\n",
    "    high_rec_gap_list.append(np.mean(high_rec_gap))\n",
    "    ttests_list.append(ttests)\n",
    "    i += 1 # next algorithm\n",
    "end = time.time()\n",
    "print(round(end-start), \"seconds.\")"
   ]
  },
  {
   "cell_type": "markdown",
   "metadata": {
    "id": "hRQ9ZID5-kfv"
   },
   "source": [
    "### Cornac results."
   ]
  },
  {
   "cell_type": "code",
   "execution_count": 328,
   "metadata": {
    "id": "tqyKuR-m-oaX"
   },
   "outputs": [],
   "source": [
    "low_gap_vals = []\n",
    "medium_gap_vals = []\n",
    "high_gap_vals = []\n",
    "\n",
    "for i in range(0, len(algo_names)):\n",
    "    low_gap_vals.append((low_rec_gap_list[i] - low_GAP) / low_GAP * 100)\n",
    "    medium_gap_vals.append((medium_rec_gap_list[i] - med_GAP) / med_GAP * 100)\n",
    "    high_gap_vals.append((high_rec_gap_list[i] - high_GAP) / high_GAP * 100)"
   ]
  },
  {
   "cell_type": "markdown",
   "metadata": {
    "id": "bX4L2rWt2Kyo"
   },
   "source": [
    "# Save!!"
   ]
  },
  {
   "cell_type": "code",
   "execution_count": 329,
   "metadata": {},
   "outputs": [],
   "source": [
    "location = 'results/'\n",
    "# df_item_dist_cornac.to_csv(location+'df_item_dist_cornac_books_'+choice+'.csv') \n",
    "#RMSEs.to_csv(location+'RMSEs_books_'+choice+'_'+pop_notion+'.csv')\n",
    "NDCGs.to_csv(location+'NDCGs_movies_'+choice+'_'+pop_notion+'.csv')\n",
    "TTESTs.to_csv(location+'NDCG_ttests_movies_'+choice+'_'+pop_notion+'.csv')\n",
    "with open(location+'low_gap_vals_movies_'+choice+'_'+pop_notion+'.pickle', 'wb') as handle:\n",
    "    pkl.dump(low_gap_vals, handle)\n",
    "with open(location+'med_gap_vals_movies_'+choice+'_'+pop_notion+'.pickle', 'wb') as handle:\n",
    "    pkl.dump(medium_gap_vals, handle)\n",
    "with open(location+'high_gap_vals_movies_'+choice+'_'+pop_notion+'.pickle', 'wb') as handle:\n",
    "    pkl.dump(high_gap_vals, handle)\n",
    "with open(location+'gap_ttests_movies_'+choice+'_'+pop_notion+'.pickle', 'wb') as handle:\n",
    "    pkl.dump(ttests_list, handle)"
   ]
  },
  {
   "cell_type": "code",
   "execution_count": 330,
   "metadata": {},
   "outputs": [
    {
     "data": {
      "text/plain": [
       "[-60.696032846334646,\n",
       " 310.26177656397795,\n",
       " -99.5407467376492,\n",
       " -52.42347281260534,\n",
       " -99.56961415983974,\n",
       " 274.3656504708198,\n",
       " -42.29185246047902,\n",
       " 45.498566534483075,\n",
       " -93.01375889267001,\n",
       " 220.28349031222314,\n",
       " 108.78175285610223,\n",
       " 191.24500817414224,\n",
       " 83.83225463801458]"
      ]
     },
     "execution_count": 330,
     "metadata": {},
     "output_type": "execute_result"
    }
   ],
   "source": [
    "low_gap_vals"
   ]
  },
  {
   "cell_type": "code",
   "execution_count": 331,
   "metadata": {},
   "outputs": [],
   "source": [
    "with open('data/results/'+'low_gap_vals_movies_'+choice+'_'+pop_notion+'.pickle', 'rb') as handle:\n",
    "    low_gap_vals_2 = pkl.load(handle)"
   ]
  },
  {
   "cell_type": "code",
   "execution_count": 332,
   "metadata": {},
   "outputs": [
    {
     "data": {
      "text/plain": [
       "[-59.562440608216484,\n",
       " 310.26177656397545,\n",
       " -99.5407467376492,\n",
       " -52.42347281260533,\n",
       " -99.56961415983974,\n",
       " 274.36565047081916,\n",
       " -42.29185246047912,\n",
       " 45.49856653448323,\n",
       " -93.01375889267001,\n",
       " 220.3063139022128,\n",
       " 108.781752856102,\n",
       " 191.24500817414227,\n",
       " 83.6105694723766]"
      ]
     },
     "execution_count": 332,
     "metadata": {},
     "output_type": "execute_result"
    }
   ],
   "source": [
    "low_gap_vals_2"
   ]
  },
  {
   "cell_type": "code",
   "execution_count": null,
   "metadata": {},
   "outputs": [],
   "source": []
  }
 ],
 "metadata": {
  "colab": {
   "provenance": []
  },
  "kernelspec": {
   "display_name": "Python 3 (ipykernel)",
   "language": "python",
   "name": "python3"
  },
  "language_info": {
   "codemirror_mode": {
    "name": "ipython",
    "version": 3
   },
   "file_extension": ".py",
   "mimetype": "text/x-python",
   "name": "python",
   "nbconvert_exporter": "python",
   "pygments_lexer": "ipython3",
   "version": "3.8.18"
  }
 },
 "nbformat": 4,
 "nbformat_minor": 4
}
